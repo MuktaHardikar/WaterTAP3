{
 "cells": [
  {
   "cell_type": "code",
   "execution_count": 82,
   "metadata": {},
   "outputs": [],
   "source": [
    "%matplotlib inline\n",
    "from pylab import *\n",
    "\n",
    "import shutil\n",
    "import sys\n",
    "import os.path\n",
    "import pandas as pd\n",
    "import numpy as np\n",
    "\n",
    "import matplotlib.pyplot as plt\n",
    "from scipy.optimize import fsolve\n",
    "from scipy.optimize import minimize\n",
    "import itertools\n",
    "import pyomo.environ as env\n",
    "import ast\n",
    "from pyomo.environ import *\n",
    "#solver = env.SolverFactory(\"ipopt\")\n",
    "\n",
    "import networkx as nx\n",
    "from networkx.drawing.nx_agraph import write_dot, graphviz_layout"
   ]
  },
  {
   "cell_type": "code",
   "execution_count": 83,
   "metadata": {},
   "outputs": [],
   "source": [
    "import watertap as wt"
   ]
  },
  {
   "cell_type": "code",
   "execution_count": null,
   "metadata": {},
   "outputs": [],
   "source": []
  },
  {
   "cell_type": "code",
   "execution_count": 84,
   "metadata": {},
   "outputs": [],
   "source": [
    "#### MODEL FUNCTIONS ####"
   ]
  },
  {
   "cell_type": "code",
   "execution_count": 85,
   "metadata": {},
   "outputs": [],
   "source": [
    "# LINKS COMING OUT OF SOURCE NODE AND GOING INTO FIRST UP MUST EQUAL FEEDWATER TOTAL! \n",
    "def source_flow_constraint(m, source_node): #RENAME THIS CONSTRAINT\n",
    "    \n",
    "    sum_of_inflows = 0\n",
    "    for link in T.out_edges(source_node):\n",
    "        link_name = T.edges[link]['name']\n",
    "        sum_of_inflows = sum_of_inflows + m.FlowInLinkSegments[link_name]\n",
    "\n",
    "    max_flow_in = T.nodes[source_node]['Flow']\n",
    "        \n",
    "    return sum_of_inflows == max_flow_in"
   ]
  },
  {
   "cell_type": "code",
   "execution_count": 86,
   "metadata": {},
   "outputs": [],
   "source": [
    "def source_recycle_flow_constraint(m, source_node): #RENAME THIS CONSTRAINT --> JUST SETTING INFLOW\n",
    "    \n",
    "    sum_of_inflows = 0\n",
    "    for link in T.out_edges(source_node):\n",
    "        link_name = T.edges[link]['name']\n",
    "        sum_of_inflows = sum_of_inflows + m.RecycleFlowInLinkSegments[link_name]\n",
    "            \n",
    "    return sum_of_inflows == 0"
   ]
  },
  {
   "cell_type": "code",
   "execution_count": null,
   "metadata": {},
   "outputs": [],
   "source": []
  },
  {
   "cell_type": "code",
   "execution_count": 87,
   "metadata": {},
   "outputs": [],
   "source": [
    "# SOURCE FLOW MASS BALANCE\n",
    "def node_mass_balance_constraint(m, node):\n",
    "        \n",
    "    flow_in = 0\n",
    "    for i in T.in_edges(node):\n",
    "        flow_in = flow_in + m.FlowInLinkSegments[T.edges[i]['name']]\n",
    "    flow_out = 0\n",
    "    for i in T.out_edges(node):\n",
    "        flow_out = flow_out + m.FlowInLinkSegments[T.edges[i]['name']]\n",
    "\n",
    "    return (-0.000000001, flow_in - flow_out, 0.000000001)"
   ]
  },
  {
   "cell_type": "code",
   "execution_count": 88,
   "metadata": {},
   "outputs": [],
   "source": [
    "# RECYCLE FLOW MASS BALANCE\n",
    "def node_recycle_mass_balance_constraint(m, node):\n",
    "        \n",
    "    flow_in = 0\n",
    "    for i in T.in_edges(node):\n",
    "        flow_in = flow_in + m.RecycleFlowInLinkSegments[T.edges[i]['name']] \n",
    "\n",
    "    flow_out = 0\n",
    "    for i in T.out_edges(node):\n",
    "        flow_out = flow_out + m.RecycleFlowInLinkSegments[T.edges[i]['name']] \n",
    "\n",
    "    return (-0.000000001, flow_in - flow_out, 0.000000001)"
   ]
  },
  {
   "cell_type": "code",
   "execution_count": 89,
   "metadata": {},
   "outputs": [],
   "source": [
    "# RECYCLE AND SOURCE FLOW MASS BALANCE\n",
    "def node_allmass_balance_constraint(m, node):\n",
    "        \n",
    "    flow_in = 0\n",
    "    for i in T.in_edges(node):\n",
    "        flow_in = flow_in + m.FlowInLinkSegments[T.edges[i]['name']] + m.RecycleFlowInLinkSegments[T.edges[i]['name']] \n",
    "\n",
    "    flow_out = 0\n",
    "    for i in T.out_edges(node):\n",
    "        flow_out = flow_out + m.FlowInLinkSegments[T.edges[i]['name']] + m.RecycleFlowInLinkSegments[T.edges[i]['name']] \n",
    "\n",
    "    return (-0.000000001, flow_in - flow_out, 0.000000001)"
   ]
  },
  {
   "cell_type": "code",
   "execution_count": null,
   "metadata": {},
   "outputs": [],
   "source": []
  },
  {
   "cell_type": "code",
   "execution_count": 90,
   "metadata": {},
   "outputs": [],
   "source": [
    "# recovered stream from unit process\n",
    "def calculate_recovered_streams(m, link):\n",
    "    if 'treated' in link:\n",
    "        print('treated:', link)\n",
    "        unit_process = wt.get_graph_chars.get_link_df(T).loc[link][0] #change column names for df so easier to follow\n",
    "        sum_of_source_inflows = calculate_up_source_inflow(m, unit_process)\n",
    "        #sum_of_recycle_inflows = calculate_up_recycle_inflow(m, unit_process)\n",
    "        sum_of_up_inflow = sum_of_source_inflows #+ sum_of_recycle_inflows\n",
    "        \n",
    "        return m.FlowInLinkSegments[link] == sum_of_up_inflow * T.nodes[unit_process]['recovery_factor']\n",
    "    \n",
    "    else: return Constraint.Skip"
   ]
  },
  {
   "cell_type": "code",
   "execution_count": 91,
   "metadata": {},
   "outputs": [],
   "source": [
    "# waste stream from unit process\n",
    "def calculate_waste_streams(m, link):\n",
    "    if 'waste' in link:\n",
    "        print('waste:', link)\n",
    "        unit_process = wt.get_graph_chars.get_link_df(T).loc[link][0] #change column names for df so easier to follow\n",
    "        sum_of_source_inflows = calculate_up_source_inflow(m, unit_process)\n",
    "        \n",
    "        if T.nodes[unit_process]['recycle_factor'] > 0: return Constraint.Skip\n",
    "        else: return m.FlowInLinkSegments[link] == sum_of_source_inflows * T.nodes[unit_process]['waste_factor']\n",
    "    else: return Constraint.Skip"
   ]
  },
  {
   "cell_type": "code",
   "execution_count": 92,
   "metadata": {},
   "outputs": [],
   "source": [
    "# recycle stream from unit process\n",
    "def calculate_recycle_streams(m, link):\n",
    "    if wt.get_graph_chars.get_link_df(T).loc[link]['type'] == 'recycle_stream':\n",
    "        print('recycle:', link)\n",
    "        unit_process = wt.get_graph_chars.get_link_df(T).loc[link][0] #change column names for df so easier to follow\n",
    "        sum_of_source_inflows = calculate_up_source_inflow(m, unit_process)\n",
    "\n",
    "        #return m.RecycleFlowInLinkSegments[link] == sum_of_source_inflows * T.nodes[unit_process]['recycle_factor']\n",
    "        return m.FlowInLinkSegments[link] == sum_of_source_inflows * T.nodes[unit_process]['recycle_factor']\n",
    "    else: return Constraint.Skip"
   ]
  },
  {
   "cell_type": "code",
   "execution_count": 93,
   "metadata": {},
   "outputs": [],
   "source": [
    "# inflow to unit process\n",
    "def calculate_up_source_inflow(m, unit_process):\n",
    "    \n",
    "    sum_of_source_inflows = 0;\n",
    "    for link in T.in_edges(unit_process): #THIS WAS PREVIOUSLY OUT EDGES\n",
    "        link_name = T.edges[link]['name']\n",
    "        sum_of_source_inflows = sum_of_source_inflows + m.FlowInLinkSegments[link_name]\n",
    "    \n",
    "    return sum_of_source_inflows"
   ]
  },
  {
   "cell_type": "code",
   "execution_count": 94,
   "metadata": {},
   "outputs": [],
   "source": [
    "# inflow to unit process\n",
    "def calculate_up_recycle_inflow(m, unit_process):\n",
    "    \n",
    "    sum_of_recycle_inflows = 0;\n",
    "    for link in T.in_edges(unit_process): #THIS WAS PREVIOUSLY OUT EDGES\n",
    "        link_name = T.edges[link]['name']\n",
    "        sum_of_recycle_inflows = sum_of_recycle_inflows + m.RecycleFlowInLinkSegments[link_name]\n",
    "    \n",
    "    return sum_of_recycle_inflows"
   ]
  },
  {
   "cell_type": "code",
   "execution_count": null,
   "metadata": {},
   "outputs": [],
   "source": []
  },
  {
   "cell_type": "code",
   "execution_count": null,
   "metadata": {},
   "outputs": [],
   "source": []
  },
  {
   "cell_type": "code",
   "execution_count": null,
   "metadata": {},
   "outputs": [],
   "source": []
  },
  {
   "cell_type": "code",
   "execution_count": 95,
   "metadata": {},
   "outputs": [],
   "source": [
    "# recovered stream of only source water --> RENAME THIS TO FINAL STREAM\n",
    "def recycle_streams_constraint1(m, link):\n",
    "    if wt.get_graph_chars.get_link_df(T).loc[link]['type'] == 'recycle_stream':\n",
    "        return m.FlowInLinkSegments[link] == 0 # <= 0.00000001\n",
    "    #if wt.get_graph_chars.get_link_df(T).loc[link]['type'] == 'recovery_stream':\n",
    "    #    return m.RecycleFlowInLinkSegments[link] == 0\n",
    "    else: return Constraint.Skip"
   ]
  },
  {
   "cell_type": "code",
   "execution_count": null,
   "metadata": {},
   "outputs": [],
   "source": []
  },
  {
   "cell_type": "code",
   "execution_count": 96,
   "metadata": {},
   "outputs": [],
   "source": [
    "#THIS IS FOR END NODE!!!!! BETTER NAMING NEEDED FOR FUNCTIONS\n",
    "def calculate_recovered_water(m, end_node): # AT NODE\n",
    "\n",
    "    recovered_flow = 0; # CAN DO SUM INSTREAD with list of nodes/links? outflow_link_list = []; \n",
    "\n",
    "    for up_outflow_link in T.in_edges(end_node): # TO DO MAKE FUNCTION\n",
    "    \n",
    "        recovered_flow = recovered_flow + m.FlowInLinkSegments[T.edges[up_outflow_link]['name']]\n",
    "    \n",
    "    return model.RecoveredFlow[end_node] == recovered_flow"
   ]
  },
  {
   "cell_type": "code",
   "execution_count": null,
   "metadata": {},
   "outputs": [],
   "source": []
  },
  {
   "cell_type": "code",
   "execution_count": 98,
   "metadata": {},
   "outputs": [],
   "source": [
    "def max_recycle_streams(m, link): # THIS COULD BE REDONE IN FUTURE TO DETERMINE OPTIMAL AMOUNT TO RECYCLE\n",
    "    if wt.get_graph_chars.get_link_df(T).loc[link]['type'] == 'recycle_stream':\n",
    "        unit_process = wt.get_graph_chars.get_link_df(T).loc[link][0]\n",
    "        max_recycle_amount = m.FlowInLinkSegments[('%s_source_stream' % unit_process)] * T.nodes[unit_process]['recycle_factor']\n",
    "        return m.FlowInLinkSegments[link] <= max_recycle_amount\n",
    "    else: return Constraint.Skip"
   ]
  },
  {
   "cell_type": "code",
   "execution_count": null,
   "metadata": {},
   "outputs": [],
   "source": []
  },
  {
   "cell_type": "code",
   "execution_count": null,
   "metadata": {},
   "outputs": [],
   "source": []
  },
  {
   "cell_type": "code",
   "execution_count": 349,
   "metadata": {},
   "outputs": [
    {
     "name": "stdout",
     "output_type": "stream",
     "text": [
      "adding unit process to network: microfiltration_a\n",
      "adding unit process to network: ultrafiltration_a\n",
      "adding unit process to network: uv_a\n",
      "adding unit process attributes: microfiltration_a\n",
      "adding unit process attributes: ultrafiltration_a\n",
      "adding unit process attributes: uv_a\n"
     ]
    },
    {
     "data": {
      "image/png": "[encoded data removed]",
      "text/plain": [
       "<Figure size 432x288 with 1 Axes>"
      ]
     },
     "metadata": {},
     "output_type": "display_data"
    }
   ],
   "source": [
    "# imports all trains from library/unit processes\n",
    "unit_process_name_list = wt.unit_process_library_list #[wt.unit_process_library_list[0], wt.unit_process_library_list[1]] \n",
    "#wt.unit_process_library_list\n",
    "\n",
    "# FROM AND TO PROCESS TO BE CHANED TO SINGLE VS TRAIN OPTION - HAVE TWO OPTIONS. START WITH TRAIN.\n",
    "T = wt.treatment_train_design.create_train(unit_process_name_list=unit_process_name_list,  # OLDER VERSION HAD TO AND FROM PROCESS BUT THAT IS FOR ADDING ONE PROCESS AT A TIME\n",
    "                                            source_water_reference = 'Poseidon',\n",
    "                                            source_water_type = 'Wastewater',\n",
    "                                            source_water_case_study ='Typical untreated domestic wastewater',\n",
    "                                            enduse_water_reference = 'Poseidon',\n",
    "                                            enduse_water_type = 'Environmental',\n",
    "                                            enduse_water_case_study = 'EPA: Environmental Reuse',\n",
    "                                            flow = 1000.0)\n",
    "\n",
    "wt.display.treatment_train_graph(T)"
   ]
  },
  {
   "cell_type": "code",
   "execution_count": null,
   "metadata": {},
   "outputs": [],
   "source": []
  },
  {
   "cell_type": "code",
   "execution_count": null,
   "metadata": {},
   "outputs": [],
   "source": []
  },
  {
   "cell_type": "code",
   "execution_count": 350,
   "metadata": {},
   "outputs": [
    {
     "name": "stdout",
     "output_type": "stream",
     "text": [
      "updating unit process attributes: microfiltration_a\n"
     ]
    }
   ],
   "source": [
    "#recycle flow fraction could be defined from part of waste stream or based on UP chars (UP chars for now)\n",
    "# how to apply to multiple streams?\n",
    "#wt.treatment_train_design.\n",
    "T = wt.treatment_train_design.add_recycle_stream(T,\n",
    "                       from_unit_process = 'microfiltration_a',\n",
    "                       to_unit_process = 'microfiltration_a',\n",
    "                       recyle_fraction_of_waste = 1,\n",
    "                       number_of_affected_streams = 1) #"
   ]
  },
  {
   "cell_type": "code",
   "execution_count": 351,
   "metadata": {},
   "outputs": [
    {
     "data": {
      "image/png": "[encoded data removed]",
      "text/plain": [
       "<Figure size 432x288 with 1 Axes>"
      ]
     },
     "metadata": {},
     "output_type": "display_data"
    }
   ],
   "source": [
    "wt.display.treatment_train_graph(T, with_recycle = True)"
   ]
  },
  {
   "cell_type": "code",
   "execution_count": 352,
   "metadata": {},
   "outputs": [],
   "source": [
    "## TO DO IMMEDIATE:\n",
    "# FEEDWATER DATA CAN BE IF SOMEONE WANTS TO UPLOAD NEW!??"
   ]
  },
  {
   "cell_type": "code",
   "execution_count": 353,
   "metadata": {},
   "outputs": [],
   "source": [
    "model = env.ConcreteModel()\n",
    "model.LinkSet = env.Set(initialize=wt.get_graph_chars.get_link_list(T)) # all links in network\n",
    "model.UnitProcesses = env.Set(initialize=unit_process_name_list) # all unit processes\n",
    "model.SourceNodes = env.Set(initialize=wt.get_graph_chars.get_source_nodes(T)) # all source nodes\n",
    "model.RecoveredWaterNodes = env.Set(initialize=wt.get_graph_chars.get_recovered_water_nodes(T)) # all recovered water nodes\n",
    "\n",
    "model.AllNoneSourceEndNodes = env.Set(initialize=wt.get_graph_chars.get_all_none_source_end_nodes(T))\n",
    "\n",
    "#inflow links to UPs\n",
    "model.UnitInflowLinkSet = env.Set(initialize=wt.get_graph_chars.get_inflow_links(T, unit_process_name_list))\n",
    "\n",
    "# flow in and out of processes\n",
    "model.FlowInLinkSegments = env.Var(model.LinkSet, bounds=(0,None))\n",
    "#model.RecycleFlowInLinkSegments = env.Var(model.LinkSet, bounds=(0,None))\n",
    "\n",
    "# final recovered flow\n",
    "model.RecoveredFlow = env.Var(model.RecoveredWaterNodes, bounds=(0,None))"
   ]
  },
  {
   "cell_type": "code",
   "execution_count": null,
   "metadata": {},
   "outputs": [],
   "source": []
  },
  {
   "cell_type": "code",
   "execution_count": 354,
   "metadata": {},
   "outputs": [
    {
     "name": "stdout",
     "output_type": "stream",
     "text": [
      "treated: microfiltration_a_treated_stream\n",
      "treated: ultrafiltration_a_treated_stream\n",
      "treated: uv_a_treated_stream\n",
      "waste: microfiltration_a_waste_stream\n",
      "waste: ultrafiltration_a_waste_stream\n",
      "waste: uv_a_waste_stream\n"
     ]
    }
   ],
   "source": [
    "model.CalculateRecoveredFlows = env.Constraint(model.LinkSet, rule=calculate_recovered_streams)\n",
    "model.CalculateWasteFlows = env.Constraint(model.LinkSet, rule=calculate_waste_streams)\n",
    "#model.CalculateRecycleFlows = env.Constraint(model.LinkSet, rule=calculate_recycle_streams)"
   ]
  },
  {
   "cell_type": "code",
   "execution_count": null,
   "metadata": {},
   "outputs": [],
   "source": []
  },
  {
   "cell_type": "code",
   "execution_count": 355,
   "metadata": {},
   "outputs": [],
   "source": [
    "model.CalculateRecycleRecoveredFlows1 = env.Constraint(model.LinkSet, rule=max_recycle_streams)"
   ]
  },
  {
   "cell_type": "code",
   "execution_count": 356,
   "metadata": {},
   "outputs": [],
   "source": [
    "#model.CalculateRecycleRecoveredFlows2 = env.Constraint(model.LinkSet, rule=recycle_streams_constraint2)"
   ]
  },
  {
   "cell_type": "code",
   "execution_count": null,
   "metadata": {},
   "outputs": [],
   "source": []
  },
  {
   "cell_type": "code",
   "execution_count": 357,
   "metadata": {
    "scrolled": false
   },
   "outputs": [],
   "source": [
    "# Equations for mass balance\n",
    "model.NodeMassBalanceConstraint = env.Constraint(model.AllNoneSourceEndNodes, rule=node_mass_balance_constraint)"
   ]
  },
  {
   "cell_type": "code",
   "execution_count": 358,
   "metadata": {},
   "outputs": [],
   "source": [
    "#model.NodeRecycleMassBalanceConstraint = env.Constraint(model.AllNoneSourceEndNodes, \n",
    "#                                                 rule=node_recycle_mass_balance_constraint)"
   ]
  },
  {
   "cell_type": "code",
   "execution_count": 359,
   "metadata": {},
   "outputs": [],
   "source": [
    "#model.AllMassBalanceConstraint = env.Constraint(model.AllNoneSourceEndNodes, \n",
    "#                                                        rule = node_allmass_balance_constraint)"
   ]
  },
  {
   "cell_type": "code",
   "execution_count": null,
   "metadata": {},
   "outputs": [],
   "source": []
  },
  {
   "cell_type": "code",
   "execution_count": 360,
   "metadata": {
    "scrolled": true
   },
   "outputs": [],
   "source": [
    "# Makes sure inlet streams add up to feedwater volume\n",
    "#model.CheckUnitInletRecycleFlows = env.Constraint(model.SourceNodes, rule=source_flow_constraint)"
   ]
  },
  {
   "cell_type": "code",
   "execution_count": 361,
   "metadata": {},
   "outputs": [],
   "source": [
    "model.CheckUnitInletFlows = env.Constraint(model.SourceNodes, rule=source_flow_constraint)"
   ]
  },
  {
   "cell_type": "code",
   "execution_count": 362,
   "metadata": {},
   "outputs": [],
   "source": [
    "# Calculate recovered water\n",
    "model.CalculateRecoveredWater = env.Constraint(model.RecoveredWaterNodes, rule=calculate_recovered_water)"
   ]
  },
  {
   "cell_type": "code",
   "execution_count": null,
   "metadata": {},
   "outputs": [],
   "source": []
  },
  {
   "cell_type": "code",
   "execution_count": 363,
   "metadata": {},
   "outputs": [],
   "source": [
    "# THIS MAKES THINGS INFEASIBLE BUT CORRECT WITH ONLY ONE UP\n",
    "#model.MaxWasteREConstraint = env.Constraint(model.UnitProcesses, rule = max_waste_recycle_streams)"
   ]
  },
  {
   "cell_type": "code",
   "execution_count": null,
   "metadata": {},
   "outputs": [],
   "source": []
  },
  {
   "cell_type": "code",
   "execution_count": null,
   "metadata": {},
   "outputs": [],
   "source": []
  },
  {
   "cell_type": "code",
   "execution_count": 364,
   "metadata": {},
   "outputs": [
    {
     "name": "stderr",
     "output_type": "stream",
     "text": [
      "/Users/amiara/miniconda3/envs/water-hubv2/lib/python3.7/site-packages/ipykernel_launcher.py:3: DeprecationWarning: Calling np.sum(generator) is deprecated, and in the future will give a different result. Use np.sum(np.fromiter(generator)) or the python sum builtin instead.\n",
      "  This is separate from the ipykernel package so we can avoid doing imports until\n"
     ]
    },
    {
     "data": {
      "text/plain": [
       "{'Problem': [{'Lower bound': -inf, 'Upper bound': inf, 'Number of objectives': 1, 'Number of constraints': 12, 'Number of variables': 12, 'Sense': 'unknown'}], 'Solver': [{'Status': 'ok', 'Message': 'Ipopt 3.12.12\\\\x3a Optimal Solution Found', 'Termination condition': 'optimal', 'Id': 0, 'Error rc': 0, 'Time': 0.12325692176818848}], 'Solution': [OrderedDict([('number of solutions', 0), ('number of solutions displayed', 0)])]}"
      ]
     },
     "execution_count": 364,
     "metadata": {},
     "output_type": "execute_result"
    }
   ],
   "source": [
    "model.objective_function = env.Objective(\n",
    "    #expr=sum(model.FlowInLinkSegments[x] for x in model.LinkSet), # max flows all links -> simulation\n",
    "    expr=sum(model.RecoveredFlow[x] for x in model.RecoveredWaterNodes), # can do this for node?\n",
    "    sense=env.maximize)\n",
    "\n",
    "solver = env.SolverFactory(\"ipopt\")\n",
    "solver.solve(model)"
   ]
  },
  {
   "cell_type": "code",
   "execution_count": null,
   "metadata": {},
   "outputs": [],
   "source": []
  },
  {
   "cell_type": "code",
   "execution_count": 366,
   "metadata": {},
   "outputs": [
    {
     "name": "stdout",
     "output_type": "stream",
     "text": [
      "ultrafiltration_a_source_stream : 0.0\n",
      "uv_a_source_stream : 0.0\n",
      "microfiltration_a_source_stream : 1000.0\n",
      "microfiltration_a_treated_stream : 997.5\n",
      "microfiltration_a_waste_stream : 2.5\n",
      "microfiltration_a_recycle_stream : 50.0\n",
      "ultrafiltration_a_treated_stream : 0.0\n",
      "ultrafiltration_a_waste_stream : 0.0\n",
      "uv_a_treated_stream : 0.0\n",
      "uv_a_waste_stream : 0.0\n",
      "microfiltration_a_source_and_recycle_stream : 1050.0\n"
     ]
    }
   ],
   "source": [
    "for x in model.LinkSet:\n",
    "    print(x, ':', round(env.value(model.FlowInLinkSegments[x]), 2))"
   ]
  },
  {
   "cell_type": "code",
   "execution_count": null,
   "metadata": {},
   "outputs": [],
   "source": []
  },
  {
   "cell_type": "code",
   "execution_count": null,
   "metadata": {},
   "outputs": [],
   "source": []
  },
  {
   "cell_type": "code",
   "execution_count": null,
   "metadata": {},
   "outputs": [],
   "source": []
  },
  {
   "cell_type": "code",
   "execution_count": null,
   "metadata": {},
   "outputs": [],
   "source": []
  },
  {
   "cell_type": "code",
   "execution_count": null,
   "metadata": {},
   "outputs": [],
   "source": []
  },
  {
   "cell_type": "code",
   "execution_count": null,
   "metadata": {},
   "outputs": [],
   "source": []
  },
  {
   "cell_type": "code",
   "execution_count": null,
   "metadata": {},
   "outputs": [],
   "source": []
  },
  {
   "cell_type": "code",
   "execution_count": null,
   "metadata": {},
   "outputs": [],
   "source": []
  },
  {
   "cell_type": "code",
   "execution_count": null,
   "metadata": {},
   "outputs": [],
   "source": []
  },
  {
   "cell_type": "code",
   "execution_count": null,
   "metadata": {},
   "outputs": [],
   "source": []
  },
  {
   "cell_type": "code",
   "execution_count": null,
   "metadata": {},
   "outputs": [],
   "source": []
  },
  {
   "cell_type": "code",
   "execution_count": null,
   "metadata": {},
   "outputs": [],
   "source": [
    "##### MAYBE CODES #####"
   ]
  },
  {
   "cell_type": "code",
   "execution_count": null,
   "metadata": {},
   "outputs": [],
   "source": [
    "def add_unit_process(G, unit_process_name='unit_process', from_process_lib='False',\n",
    "                    from_process='None', to_process='None'):\n",
    "    print('adding unit process', unit_process_name)\n",
    "    \n",
    "    G.add_edges_from([('source_node', unit_process_name, {'name': 'source_stream'}), \n",
    "                      (unit_process_name, 'end_node', {'name': 'treated_stream'})])\n",
    "    \n",
    "    #add option to read in multiple from and to\n",
    "    #add option to import for existing list if from_process_lib is true\n",
    "    \n",
    "    return G"
   ]
  },
  {
   "cell_type": "code",
   "execution_count": null,
   "metadata": {},
   "outputs": [],
   "source": [
    "feedwater = dict()\n",
    "for row in range(0, len(feedwater_data)):\n",
    "    feedwater[feedwater_data.Variable[row]] = feedwater_data.Value[row]"
   ]
  }
 ],
 "metadata": {
  "kernelspec": {
   "display_name": "Python [conda env:water-hubv2]",
   "language": "python",
   "name": "conda-env-water-hubv2-py"
  },
  "language_info": {
   "codemirror_mode": {
    "name": "ipython",
    "version": 3
   },
   "file_extension": ".py",
   "mimetype": "text/x-python",
   "name": "python",
   "nbconvert_exporter": "python",
   "pygments_lexer": "ipython3",
   "version": "3.7.0"
  }
 },
 "nbformat": 4,
 "nbformat_minor": 2
}
