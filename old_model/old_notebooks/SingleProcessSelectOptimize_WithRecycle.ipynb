{
 "cells": [
  {
   "cell_type": "code",
   "execution_count": 30,
   "metadata": {},
   "outputs": [],
   "source": [
    "%matplotlib inline\n",
    "from pylab import *\n",
    "\n",
    "import shutil\n",
    "import sys\n",
    "import os.path\n",
    "import pandas as pd\n",
    "import numpy as np\n",
    "\n",
    "import matplotlib.pyplot as plt\n",
    "from scipy.optimize import fsolve\n",
    "from scipy.optimize import minimize\n",
    "import itertools\n",
    "import pyomo.environ as env\n",
    "import ast\n",
    "from pyomo.environ import *\n",
    "#solver = env.SolverFactory(\"ipopt\")\n",
    "\n",
    "import networkx as nx\n",
    "from networkx.drawing.nx_agraph import write_dot, graphviz_layout"
   ]
  },
  {
   "cell_type": "code",
   "execution_count": 31,
   "metadata": {},
   "outputs": [],
   "source": [
    "import watertap as wt"
   ]
  },
  {
   "cell_type": "code",
   "execution_count": null,
   "metadata": {},
   "outputs": [],
   "source": []
  },
  {
   "cell_type": "code",
   "execution_count": 32,
   "metadata": {},
   "outputs": [],
   "source": [
    "#### MODEL FUNCTIONS ####"
   ]
  },
  {
   "cell_type": "code",
   "execution_count": 33,
   "metadata": {},
   "outputs": [],
   "source": [
    "# LINKS COMING OUT OF SOURCE NODE AND GOING INTO FIRST UP MUST EQUAL FEEDWATER TOTAL! \n",
    "def source_flow_constraint(m, source_node): #RENAME THIS CONSTRAINT\n",
    "    \n",
    "    sum_of_inflows = 0\n",
    "    for link in T.out_edges(source_node):\n",
    "        sum_of_inflows = sum_of_inflows + m.FlowInLinkSegments[T.edges[link]['name']]\n",
    "\n",
    "    max_flow_in = T.nodes[source_node]['Flow']\n",
    "        \n",
    "    return sum_of_inflows == max_flow_in"
   ]
  },
  {
   "cell_type": "code",
   "execution_count": 34,
   "metadata": {},
   "outputs": [],
   "source": [
    "# SOURCE FLOW MASS BALANCE\n",
    "def node_mass_balance_constraint(m, node):\n",
    "        \n",
    "    flow_in = 0\n",
    "    for edge in T.in_edges(node):\n",
    "        flow_in = flow_in + m.FlowInLinkSegments[T.edges[edge]['name']]\n",
    "    flow_out = 0\n",
    "    for edge in T.out_edges(node):\n",
    "        flow_out = flow_out + m.FlowInLinkSegments[T.edges[edge]['name']]\n",
    "\n",
    "    return (-0.000000001, flow_in - flow_out, 0.000000001)"
   ]
  },
  {
   "cell_type": "code",
   "execution_count": null,
   "metadata": {},
   "outputs": [],
   "source": []
  },
  {
   "cell_type": "code",
   "execution_count": 35,
   "metadata": {},
   "outputs": [],
   "source": [
    "# NEW WITH UNIT PROCESS #\n",
    "# recovered stream from unit process\n",
    "def calculate_recovered_streams(m, unit_process):\n",
    "    \n",
    "    sum_of_treated_flow = get_sum_of_up_outflow(m, unit_process, 'recovery_stream')\n",
    "    sum_of_up_inflow = calculate_up_source_inflow(m, unit_process)\n",
    "\n",
    "    return sum_of_treated_flow == sum_of_up_inflow * T.nodes[unit_process]['recovery_factor']\n",
    "\n",
    "# waste stream from unit process --> TODO: FOR SOME REASON FAILS WHEN THIS IS ON.\n",
    "def calculate_waste_streams(m, unit_process):\n",
    "    \n",
    "    sum_of_waste_flow = get_sum_of_up_outflow(m, unit_process, 'waste_stream')\n",
    "    sum_of_up_inflow = calculate_up_source_inflow(m, unit_process)\n",
    "           \n",
    "    if T.nodes[unit_process]['recycle_factor'] > 0.0001: \n",
    "        return Constraint.Skip\n",
    "    else: \n",
    "        return sum_of_waste_flow == sum_of_up_inflow * T.nodes[unit_process]['waste_factor']\n",
    "\n",
    "    \n",
    "def get_sum_of_up_outflow(m, unit_process, link_type):\n",
    "    print(link_type)\n",
    "    \n",
    "    sum_of_outflow = 0\n",
    "    for edge in T.out_edges(unit_process):\n",
    "        if T.edges[edge]['type'] == link_type:\n",
    "            sum_of_outflow = sum_of_outflow + m.FlowInLinkSegments[T.edges[edge]['name']]\n",
    "    \n",
    "    return sum_of_outflow"
   ]
  },
  {
   "cell_type": "code",
   "execution_count": null,
   "metadata": {},
   "outputs": [],
   "source": []
  },
  {
   "cell_type": "code",
   "execution_count": 6,
   "metadata": {},
   "outputs": [],
   "source": [
    "# recovered stream from unit process\n",
    "#def calculate_recovered_streams(m, link):\n",
    "#    if 'treated' in link:\n",
    "#        print('treated:', link)\n",
    "#        unit_process = wt.get_graph_chars.get_link_df(T).loc[link][0] #change column names for df so easier to follow\n",
    "#        sum_of_source_inflows = calculate_up_source_inflow(m, unit_process)\n",
    "        #sum_of_recycle_inflows = calculate_up_recycle_inflow(m, unit_process)\n",
    "#        sum_of_up_inflow = sum_of_source_inflows #+ sum_of_recycle_inflows\n",
    "        \n",
    "#        return m.FlowInLinkSegments[link] == sum_of_up_inflow * T.nodes[unit_process]['recovery_factor']\n",
    "    \n",
    "#    else: return Constraint.Skip"
   ]
  },
  {
   "cell_type": "code",
   "execution_count": 7,
   "metadata": {},
   "outputs": [],
   "source": [
    "# waste stream from unit process\n",
    "#def calculate_waste_streams(m, link):\n",
    "#    if 'waste' in link:\n",
    "#        print('waste:', link)\n",
    "#        unit_process = wt.get_graph_chars.get_link_df(T).loc[link][0] #change column names for df so easier to follow\n",
    "#        sum_of_source_inflows = calculate_up_source_inflow(m, unit_process)\n",
    "        \n",
    "#        if T.nodes[unit_process]['recycle_factor'] > 0: return Constraint.Skip\n",
    "#        else: return m.FlowInLinkSegments[link] == sum_of_source_inflows * T.nodes[unit_process]['waste_factor']\n",
    "#    else: return Constraint.Skip"
   ]
  },
  {
   "cell_type": "code",
   "execution_count": 8,
   "metadata": {},
   "outputs": [],
   "source": [
    "# recycle stream from unit process ->>> NOT  USED BECAUSE IT AUTOMATICALLY GETS MAXIMIZED -> NEEDS TO BE EDITED IF\n",
    "# TO BE USED\n",
    "#def calculate_recycle_streams(m, link):\n",
    "#    if wt.get_graph_chars.get_link_df(T).loc[link]['type'] == 'recycle_stream':\n",
    "#        print('recycle:', link)\n",
    "#        unit_process = wt.get_graph_chars.get_link_df(T).loc[link][0] #change column names for df so easier to follow\n",
    "#        sum_of_source_inflows = calculate_up_source_inflow(m, unit_process)\n",
    "\n",
    "#        return m.FlowInLinkSegments[link] == sum_of_source_inflows * T.nodes[unit_process]['recycle_factor']\n",
    "#    else: return Constraint.Skip"
   ]
  },
  {
   "cell_type": "code",
   "execution_count": 36,
   "metadata": {},
   "outputs": [],
   "source": [
    "# inflow to unit process\n",
    "def calculate_up_source_inflow(m, unit_process):\n",
    "    \n",
    "    sum_of_source_inflows = 0;\n",
    "    for link in T.in_edges(unit_process): #THIS WAS PREVIOUSLY OUT EDGES\n",
    "        link_name = T.edges[link]['name']\n",
    "        sum_of_source_inflows = sum_of_source_inflows + m.FlowInLinkSegments[link_name]\n",
    "    \n",
    "    return sum_of_source_inflows"
   ]
  },
  {
   "cell_type": "code",
   "execution_count": null,
   "metadata": {},
   "outputs": [],
   "source": []
  },
  {
   "cell_type": "code",
   "execution_count": 37,
   "metadata": {},
   "outputs": [],
   "source": [
    "# SETS MAX AMOUNT THAT CAN BE RECYCLED\n",
    "# THIS COULD BE REDONE IN FUTURE TO DETERMINE OPTIMAL AMOUNT TO RECYCLE\n",
    "def max_recycle_streams(m, link):\n",
    "    if wt.get_graph_chars.get_link_df(T).loc[link]['type'] == 'recycle_stream':\n",
    "        ('calculates recycle')\n",
    "        unit_process = wt.get_graph_chars.get_link_df(T).loc[link][0]\n",
    "        max_recycle_amount = m.FlowInLinkSegments[('%s_source_stream' % unit_process)] * T.nodes[unit_process]['recycle_factor']\n",
    "        return m.FlowInLinkSegments[link] <= max_recycle_amount\n",
    "    else: return Constraint.Skip"
   ]
  },
  {
   "cell_type": "code",
   "execution_count": null,
   "metadata": {},
   "outputs": [],
   "source": []
  },
  {
   "cell_type": "code",
   "execution_count": 38,
   "metadata": {},
   "outputs": [],
   "source": [
    "#THIS IS FOR END NODE!!!!! BETTER NAMING NEEDED FOR FUNCTIONS\n",
    "def calculate_recovered_water(m, end_node): # AT NODE\n",
    "\n",
    "    recovered_flow = 0; # CAN DO SUM INSTREAD with list of nodes/links? outflow_link_list = []; \n",
    "\n",
    "    for up_outflow_link in T.in_edges(end_node): # TO DO MAKE FUNCTION\n",
    "    \n",
    "        recovered_flow = recovered_flow + m.FlowInLinkSegments[T.edges[up_outflow_link]['name']]\n",
    "    \n",
    "    return model.RecoveredFlow[end_node] == recovered_flow"
   ]
  },
  {
   "cell_type": "code",
   "execution_count": null,
   "metadata": {},
   "outputs": [],
   "source": []
  },
  {
   "cell_type": "code",
   "execution_count": null,
   "metadata": {},
   "outputs": [],
   "source": []
  },
  {
   "cell_type": "code",
   "execution_count": null,
   "metadata": {},
   "outputs": [],
   "source": []
  },
  {
   "cell_type": "code",
   "execution_count": 99,
   "metadata": {},
   "outputs": [
    {
     "name": "stdout",
     "output_type": "stream",
     "text": [
      "adding unit process to network: microfiltration_a\n",
      "adding unit process attributes: microfiltration_a\n"
     ]
    },
    {
     "data": {
      "image/png": "[encoded data removed]",
      "text/plain": [
       "<Figure size 432x288 with 1 Axes>"
      ]
     },
     "metadata": {},
     "output_type": "display_data"
    }
   ],
   "source": [
    "# imports all trains from library/unit processes\n",
    "unit_process_name_list = [wt.unit_process_library_list[0]] #[wt.unit_process_library_list[0], wt.unit_process_library_list[1]] \n",
    "#wt.unit_process_library_list\n",
    "\n",
    "# FROM AND TO PROCESS TO BE CHANED TO SINGLE VS TRAIN OPTION - HAVE TWO OPTIONS. START WITH TRAIN.\n",
    "T = wt.treatment_train_design.create_train(unit_process_name_list=unit_process_name_list,  # OLDER VERSION HAD TO AND FROM PROCESS BUT THAT IS FOR ADDING ONE PROCESS AT A TIME\n",
    "                                            source_water_reference = 'Poseidon',\n",
    "                                            source_water_type = 'Wastewater',\n",
    "                                            source_water_case_study ='Typical untreated domestic wastewater',\n",
    "                                            enduse_water_reference = 'Poseidon',\n",
    "                                            enduse_water_type = 'Environmental',\n",
    "                                            enduse_water_case_study = 'EPA: Environmental Reuse',\n",
    "                                            flow = 1000.0)\n",
    "\n",
    "wt.display.treatment_train_graph(T)"
   ]
  },
  {
   "cell_type": "code",
   "execution_count": null,
   "metadata": {},
   "outputs": [],
   "source": []
  },
  {
   "cell_type": "code",
   "execution_count": 100,
   "metadata": {},
   "outputs": [],
   "source": [
    "#!!!! FUNCTIONS FOR DESIGN CAPABILITIES!!!!\n",
    "# REMOVE ONE OR PROCESSES IF NEEDED;;;; TO DO: ACTUALLY REMOVE THE NODES THAT ARE NOT CONNECTED So they don't\n",
    "# show up when plotting.\n",
    "#T = wt.filter_processes.remove(T, process_name = 'microfiltration_a')\n",
    "#T = wt.filter_processes.select_single_processes(T, process_name = 'microfiltration_a')\n",
    "#T = wt.filter_processes.select_multiple_processes(T, process_name_list = ['microfiltration_a', 'ultrafiltration_a'])\n"
   ]
  },
  {
   "cell_type": "code",
   "execution_count": 101,
   "metadata": {},
   "outputs": [
    {
     "name": "stdout",
     "output_type": "stream",
     "text": [
      "adding another water source: source_b\n"
     ]
    }
   ],
   "source": [
    "# ADD ANOTHER SOURCE \n",
    "T = wt.treatment_train_design.add_multiple_water_sources(T,\n",
    "                                              number_of_additional_sources = 1,\n",
    "                                              source_water_reference = 'Poseidon',\n",
    "                                              source_water_type = 'Environmental',\n",
    "                                              source_water_case_study = 'EPA: Environmental Reuse',\n",
    "                                              source_to_node_names=[['source_b', wt.unit_process_library_list[0]]],\n",
    "                                              flow = 500)\n"
   ]
  },
  {
   "cell_type": "code",
   "execution_count": 102,
   "metadata": {},
   "outputs": [
    {
     "name": "stdout",
     "output_type": "stream",
     "text": [
      "adding another water use: end_b\n"
     ]
    }
   ],
   "source": [
    "# ADD ANOTHER END USE \n",
    "T = wt.treatment_train_design.add_multiple_water_enduses(T,\n",
    "                                              number_of_additional_ends = 1,\n",
    "                                              enduse_water_reference = 'Poseidon',\n",
    "                                              enduse_water_type = 'Wastewater',\n",
    "                                              enduse_water_case_study = 'Typical untreated domestic wastewater',\n",
    "                                              node_to_end_names= [[wt.unit_process_library_list[0], 'end_b']],\n",
    "                                              min_flow = 0)"
   ]
  },
  {
   "cell_type": "code",
   "execution_count": 90,
   "metadata": {},
   "outputs": [],
   "source": [
    "# IMPORT FEEDWATER DATA ----> NOT NEEDED ANYMORE TO RUN MODEL ----> BUT GOOD CAPABILITY TO HAVE\n",
    "#fw_filename = 'case_study_water_sources_and_uses.csv'\n",
    "#feedwater_data = wt.importfile.feedwater(input_file = fw_filename,\n",
    "#                                         reference = 'Poseidon',\n",
    "#                                         case_study = 'Typical untreated domestic wastewater',\n",
    "#                                         water_type = 'Wastewater',\n",
    "#                                         source_or_use = 'Source')\n",
    "\n",
    "#feedwater_data"
   ]
  },
  {
   "cell_type": "code",
   "execution_count": null,
   "metadata": {},
   "outputs": [],
   "source": []
  },
  {
   "cell_type": "code",
   "execution_count": 91,
   "metadata": {},
   "outputs": [],
   "source": [
    "#### CAPABILITY LIST ####\n",
    "\n",
    "#### WATER TREATMENT MMODEL DESIGN CAPABILITIES ####\n",
    "# create a single unit process model\n",
    "# create a single unit process model with a recovery stream\n",
    "# create a single unit process with multiple source streams\n",
    "# create a single unit process with multiple use streams\n",
    "# add another unit process in parralel\n",
    "# remove a unit process\n",
    "# filter from a range of unit process to create a system/optimization problem\n",
    "# TO DO: SAVE TREATMENT TRAIN. LOAD TREATMENT TRAIN --> ANNA.\n",
    "\n",
    "# MODELING AND ANALYSES CAPABILITIES #\n",
    "# simulate a single unit process (optimize if equations were given).\n",
    "# simulat a single unit process model with a recovery stream (max recovery amount specified by user)\n",
    "# optimize and select between multiple unit processes for single unit train\n",
    "    # optimize above accounting for recyling streams, multiple sources, multiple uses"
   ]
  },
  {
   "cell_type": "code",
   "execution_count": null,
   "metadata": {},
   "outputs": [],
   "source": []
  },
  {
   "cell_type": "code",
   "execution_count": null,
   "metadata": {},
   "outputs": [],
   "source": []
  },
  {
   "cell_type": "code",
   "execution_count": null,
   "metadata": {},
   "outputs": [],
   "source": []
  },
  {
   "cell_type": "code",
   "execution_count": 103,
   "metadata": {},
   "outputs": [
    {
     "name": "stdout",
     "output_type": "stream",
     "text": [
      "updating unit process attributes: microfiltration_a\n"
     ]
    }
   ],
   "source": [
    "#recycle flow fraction could be defined from part of waste stream or based on UP chars (UP chars for now)\n",
    "# how to apply to multiple streams?\n",
    "#wt.treatment_train_design.\n",
    "# ----> THE SOURCE STREAM NEEDS TO BE DEFINED -> WHICH STREAM RECYCLED FLOW GOES TO. IN MODEL. NEEDS TO BE CHECKED.\n",
    "# ----> DOES NOT OPTIMIZE CORRECTLY FOR MULTIPLE SOURCE NODES\n",
    "T = wt.treatment_train_design.add_recycle_stream(T,\n",
    "                       from_unit_process = 'microfiltration_a',\n",
    "                       to_unit_process = 'microfiltration_a',\n",
    "                       recyle_fraction_of_waste = 1,\n",
    "                       number_of_affected_streams = 1)"
   ]
  },
  {
   "cell_type": "code",
   "execution_count": 104,
   "metadata": {},
   "outputs": [
    {
     "data": {
      "image/png": "[encoded data removed]",
      "text/plain": [
       "<Figure size 432x288 with 1 Axes>"
      ]
     },
     "metadata": {},
     "output_type": "display_data"
    }
   ],
   "source": [
    "wt.display.treatment_train_graph(T, with_recycle = True)"
   ]
  },
  {
   "cell_type": "code",
   "execution_count": null,
   "metadata": {},
   "outputs": [],
   "source": []
  },
  {
   "cell_type": "code",
   "execution_count": 183,
   "metadata": {},
   "outputs": [
    {
     "name": "stderr",
     "output_type": "stream",
     "text": [
      "/Users/amiara/miniconda3/envs/water-hubv2/lib/python3.7/site-packages/ipykernel_launcher.py:30: DeprecationWarning: Calling np.sum(generator) is deprecated, and in the future will give a different result. Use np.sum(np.fromiter(generator)) or the python sum builtin instead.\n"
     ]
    },
    {
     "ename": "ValueError",
     "evalue": "Cannot load a SolverResults object with bad status: error",
     "output_type": "error",
     "traceback": [
      "\u001b[0;31m---------------------------------------------------------------------------\u001b[0m",
      "\u001b[0;31mValueError\u001b[0m                                Traceback (most recent call last)",
      "\u001b[0;32m<ipython-input-183-576ca192504e>\u001b[0m in \u001b[0;36m<module>\u001b[0;34m\u001b[0m\n\u001b[1;32m      3\u001b[0m \u001b[0mM\u001b[0m \u001b[0;34m=\u001b[0m \u001b[0mbuild_model\u001b[0m\u001b[0;34m(\u001b[0m\u001b[0mT\u001b[0m\u001b[0;34m,\u001b[0m \u001b[0mmodel\u001b[0m\u001b[0;34m)\u001b[0m\u001b[0;34m\u001b[0m\u001b[0m\n\u001b[1;32m      4\u001b[0m \u001b[0msolver\u001b[0m \u001b[0;34m=\u001b[0m \u001b[0menv\u001b[0m\u001b[0;34m.\u001b[0m\u001b[0mSolverFactory\u001b[0m\u001b[0;34m(\u001b[0m\u001b[0;34m\"ipopt\"\u001b[0m\u001b[0;34m)\u001b[0m\u001b[0;34m\u001b[0m\u001b[0m\n\u001b[0;32m----> 5\u001b[0;31m \u001b[0msolver\u001b[0m\u001b[0;34m.\u001b[0m\u001b[0msolve\u001b[0m\u001b[0;34m(\u001b[0m\u001b[0mM\u001b[0m\u001b[0;34m)\u001b[0m\u001b[0;34m\u001b[0m\u001b[0m\n\u001b[0m",
      "\u001b[0;32m~/miniconda3/envs/water-hubv2/lib/python3.7/site-packages/pyomo/opt/base/solvers.py\u001b[0m in \u001b[0;36msolve\u001b[0;34m(self, *args, **kwds)\u001b[0m\n\u001b[1;32m    631\u001b[0m                             \u001b[0mresult\u001b[0m\u001b[0;34m,\u001b[0m\u001b[0;34m\u001b[0m\u001b[0m\n\u001b[1;32m    632\u001b[0m                             \u001b[0mselect\u001b[0m\u001b[0;34m=\u001b[0m\u001b[0mself\u001b[0m\u001b[0;34m.\u001b[0m\u001b[0m_select_index\u001b[0m\u001b[0;34m,\u001b[0m\u001b[0;34m\u001b[0m\u001b[0m\n\u001b[0;32m--> 633\u001b[0;31m                             default_variable_value=self._default_variable_value)\n\u001b[0m\u001b[1;32m    634\u001b[0m                         \u001b[0mresult\u001b[0m\u001b[0;34m.\u001b[0m\u001b[0m_smap_id\u001b[0m \u001b[0;34m=\u001b[0m \u001b[0;32mNone\u001b[0m\u001b[0;34m\u001b[0m\u001b[0m\n\u001b[1;32m    635\u001b[0m                         \u001b[0mresult\u001b[0m\u001b[0;34m.\u001b[0m\u001b[0msolution\u001b[0m\u001b[0;34m.\u001b[0m\u001b[0mclear\u001b[0m\u001b[0;34m(\u001b[0m\u001b[0;34m)\u001b[0m\u001b[0;34m\u001b[0m\u001b[0m\n",
      "\u001b[0;32m~/miniconda3/envs/water-hubv2/lib/python3.7/site-packages/pyomo/core/base/PyomoModel.py\u001b[0m in \u001b[0;36mload_from\u001b[0;34m(self, results, allow_consistent_values_for_fixed_vars, comparison_tolerance_for_fixed_vars, ignore_invalid_labels, id, delete_symbol_map, clear, default_variable_value, select, ignore_fixed_vars)\u001b[0m\n\u001b[1;32m    240\u001b[0m                 raise ValueError(\"Cannot load a SolverResults object \"\n\u001b[1;32m    241\u001b[0m                                  \u001b[0;34m\"with bad status: %s\"\u001b[0m\u001b[0;34m\u001b[0m\u001b[0m\n\u001b[0;32m--> 242\u001b[0;31m                                  % str(results.solver.status))\n\u001b[0m\u001b[1;32m    243\u001b[0m         \u001b[0;32mif\u001b[0m \u001b[0mclear\u001b[0m\u001b[0;34m:\u001b[0m\u001b[0;34m\u001b[0m\u001b[0m\n\u001b[1;32m    244\u001b[0m             \u001b[0;31m#\u001b[0m\u001b[0;34m\u001b[0m\u001b[0;34m\u001b[0m\u001b[0m\n",
      "\u001b[0;31mValueError\u001b[0m: Cannot load a SolverResults object with bad status: error"
     ]
    }
   ],
   "source": [
    "model = env.ConcreteModel()\n",
    "#M = wt.build_model.maximize_treated_flow(T, model, unit_process_name_list)\n",
    "M = build_model(T, model)\n",
    "solver = env.SolverFactory(\"ipopt\")\n",
    "solver.solve(M)"
   ]
  },
  {
   "cell_type": "code",
   "execution_count": 177,
   "metadata": {},
   "outputs": [
    {
     "name": "stdout",
     "output_type": "stream",
     "text": [
      "microfiltration_a_source_stream : 1000.0\n",
      "microfiltration_a_treated_stream : 1472.5\n",
      "microfiltration_a_waste_stream : 27.5\n",
      "microfiltration_a_recycle_stream : 50.0\n",
      "source_b_source_microfiltration_a_stream : 500.0\n",
      "microfiltration_a_source_and_recycle_stream : 1050.0\n"
     ]
    }
   ],
   "source": [
    "for x in model.LinkSet:\n",
    "    print(x, ':', round(env.value(model.FlowInLinkSegments[x]), 2))"
   ]
  },
  {
   "cell_type": "code",
   "execution_count": null,
   "metadata": {},
   "outputs": [],
   "source": []
  },
  {
   "cell_type": "code",
   "execution_count": null,
   "metadata": {},
   "outputs": [],
   "source": []
  },
  {
   "cell_type": "code",
   "execution_count": null,
   "metadata": {},
   "outputs": [],
   "source": []
  },
  {
   "cell_type": "code",
   "execution_count": null,
   "metadata": {},
   "outputs": [],
   "source": []
  },
  {
   "cell_type": "code",
   "execution_count": null,
   "metadata": {},
   "outputs": [],
   "source": []
  },
  {
   "cell_type": "code",
   "execution_count": null,
   "metadata": {},
   "outputs": [],
   "source": []
  },
  {
   "cell_type": "code",
   "execution_count": null,
   "metadata": {},
   "outputs": [],
   "source": []
  },
  {
   "cell_type": "code",
   "execution_count": null,
   "metadata": {},
   "outputs": [],
   "source": []
  },
  {
   "cell_type": "code",
   "execution_count": null,
   "metadata": {},
   "outputs": [],
   "source": []
  },
  {
   "cell_type": "code",
   "execution_count": 61,
   "metadata": {
    "scrolled": true
   },
   "outputs": [
    {
     "name": "stdout",
     "output_type": "stream",
     "text": [
      "adding unit process to network: microfiltration_a\n",
      "adding unit process to network: ultrafiltration_a\n",
      "adding unit process to network: uv_a\n",
      "adding unit process attributes: microfiltration_a\n",
      "adding unit process attributes: ultrafiltration_a\n",
      "adding unit process attributes: uv_a\n",
      "updating unit process attributes: microfiltration_a\n"
     ]
    },
    {
     "name": "stderr",
     "output_type": "stream",
     "text": [
      "/Users/amiara/miniconda3/envs/water-hubv2/lib/python3.7/site-packages/ipykernel_launcher.py:30: DeprecationWarning: Calling np.sum(generator) is deprecated, and in the future will give a different result. Use np.sum(np.fromiter(generator)) or the python sum builtin instead.\n"
     ]
    },
    {
     "name": "stdout",
     "output_type": "stream",
     "text": [
      "RECYCLED AMOUNT: 0.5\n",
      "microfiltration_a_treated_stream : 0.0\n",
      "ultrafiltration_a_treated_stream : 0.0\n",
      "uv_a_treated_stream : 990.0\n",
      "adding unit process to network: microfiltration_a\n",
      "adding unit process to network: ultrafiltration_a\n",
      "adding unit process to network: uv_a\n",
      "adding unit process attributes: microfiltration_a\n",
      "adding unit process attributes: ultrafiltration_a\n",
      "adding unit process attributes: uv_a\n",
      "updating unit process attributes: microfiltration_a\n",
      "RECYCLED AMOUNT: 0.6\n",
      "microfiltration_a_treated_stream : 0.0\n",
      "ultrafiltration_a_treated_stream : 0.0\n",
      "uv_a_treated_stream : 990.0\n",
      "adding unit process to network: microfiltration_a\n",
      "adding unit process to network: ultrafiltration_a\n",
      "adding unit process to network: uv_a\n",
      "adding unit process attributes: microfiltration_a\n",
      "adding unit process attributes: ultrafiltration_a\n",
      "adding unit process attributes: uv_a\n",
      "updating unit process attributes: microfiltration_a\n",
      "RECYCLED AMOUNT: 0.7\n",
      "microfiltration_a_treated_stream : 0.0\n",
      "ultrafiltration_a_treated_stream : 0.0\n",
      "uv_a_treated_stream : 990.0\n",
      "adding unit process to network: microfiltration_a\n",
      "adding unit process to network: ultrafiltration_a\n",
      "adding unit process to network: uv_a\n",
      "adding unit process attributes: microfiltration_a\n",
      "adding unit process attributes: ultrafiltration_a\n",
      "adding unit process attributes: uv_a\n",
      "updating unit process attributes: microfiltration_a\n",
      "RECYCLED AMOUNT: 0.8\n",
      "microfiltration_a_treated_stream : 0.0\n",
      "ultrafiltration_a_treated_stream : 0.0\n",
      "uv_a_treated_stream : 990.0\n",
      "adding unit process to network: microfiltration_a\n",
      "adding unit process to network: ultrafiltration_a\n",
      "adding unit process to network: uv_a\n",
      "adding unit process attributes: microfiltration_a\n",
      "adding unit process attributes: ultrafiltration_a\n",
      "adding unit process attributes: uv_a\n",
      "updating unit process attributes: microfiltration_a\n",
      "RECYCLED AMOUNT: 0.9\n",
      "microfiltration_a_treated_stream : 992.75\n",
      "ultrafiltration_a_treated_stream : 0.0\n",
      "uv_a_treated_stream : 0.0\n",
      "adding unit process to network: microfiltration_a\n",
      "adding unit process to network: ultrafiltration_a\n",
      "adding unit process to network: uv_a\n",
      "adding unit process attributes: microfiltration_a\n",
      "adding unit process attributes: ultrafiltration_a\n",
      "adding unit process attributes: uv_a\n",
      "updating unit process attributes: microfiltration_a\n",
      "RECYCLED AMOUNT: 1.0\n",
      "microfiltration_a_treated_stream : 997.5\n",
      "ultrafiltration_a_treated_stream : 0.0\n",
      "uv_a_treated_stream : 0.0\n"
     ]
    }
   ],
   "source": [
    "for recyle_fraction_of_waste in [0.5, 0.6, 0.7, 0.8, 0.9, 1.0]:\n",
    "\n",
    "    unit_process_name_list = wt.unit_process_library_list\n",
    "    T = wt.treatment_train_design.create_train(unit_process_name_list=unit_process_name_list,  # OLDER VERSION HAD TO AND FROM PROCESS BUT THAT IS FOR ADDING ONE PROCESS AT A TIME\n",
    "                                                source_water_reference = 'Poseidon',\n",
    "                                                source_water_type = 'Wastewater',\n",
    "                                                source_water_case_study ='Typical untreated domestic wastewater',\n",
    "                                                enduse_water_reference = 'Poseidon',\n",
    "                                                enduse_water_type = 'Environmental',\n",
    "                                                enduse_water_case_study = 'EPA: Environmental Reuse',\n",
    "                                                flow = 1000.0)\n",
    "\n",
    "    T = wt.treatment_train_design.add_recycle_stream(T,\n",
    "                           from_unit_process = 'microfiltration_a',\n",
    "                           to_unit_process = 'microfiltration_a',\n",
    "                           recyle_fraction_of_waste = recyle_fraction_of_waste,\n",
    "                           number_of_affected_streams = 1) #\n",
    "    \n",
    "    \n",
    "    model = env.ConcreteModel()\n",
    "    M = build_model(T, model)\n",
    "    solver = env.SolverFactory(\"ipopt\")\n",
    "    result = solver.solve(M)\n",
    "    \n",
    "    print('RECYCLED AMOUNT:', recyle_fraction_of_waste)\n",
    "    \n",
    "    for x in model.LinkSet:\n",
    "        if 'treated' in x:\n",
    "            print(x, ':', round(env.value(model.FlowInLinkSegments[x]), 2))\n",
    "    \n",
    "    cost.append()\n",
    "    flow.append()\n",
    "    up_chosen.append()\n",
    "    "
   ]
  },
  {
   "cell_type": "code",
   "execution_count": null,
   "metadata": {},
   "outputs": [],
   "source": []
  },
  {
   "cell_type": "code",
   "execution_count": null,
   "metadata": {},
   "outputs": [],
   "source": []
  },
  {
   "cell_type": "code",
   "execution_count": null,
   "metadata": {},
   "outputs": [],
   "source": []
  },
  {
   "cell_type": "code",
   "execution_count": null,
   "metadata": {},
   "outputs": [],
   "source": []
  },
  {
   "cell_type": "code",
   "execution_count": null,
   "metadata": {},
   "outputs": [],
   "source": []
  },
  {
   "cell_type": "code",
   "execution_count": null,
   "metadata": {},
   "outputs": [],
   "source": []
  },
  {
   "cell_type": "code",
   "execution_count": null,
   "metadata": {},
   "outputs": [],
   "source": []
  },
  {
   "cell_type": "code",
   "execution_count": null,
   "metadata": {},
   "outputs": [],
   "source": []
  },
  {
   "cell_type": "code",
   "execution_count": null,
   "metadata": {},
   "outputs": [],
   "source": []
  },
  {
   "cell_type": "code",
   "execution_count": null,
   "metadata": {},
   "outputs": [],
   "source": []
  },
  {
   "cell_type": "code",
   "execution_count": 105,
   "metadata": {},
   "outputs": [
    {
     "data": {
      "image/png": "[encoded data removed]",
      "text/plain": [
       "<Figure size 432x288 with 1 Axes>"
      ]
     },
     "metadata": {},
     "output_type": "display_data"
    }
   ],
   "source": [
    "wt.display.treatment_train_graph(T, with_recycle = True)"
   ]
  },
  {
   "cell_type": "code",
   "execution_count": 106,
   "metadata": {},
   "outputs": [],
   "source": [
    "model = env.ConcreteModel()\n",
    "\n",
    "model.LinkSet = env.Set(initialize=wt.get_graph_chars.get_link_list(T)) # all links in network\n",
    "model.UnitProcesses = env.Set(initialize=unit_process_name_list) # all unit processes\n",
    "model.SourceNodes = env.Set(initialize=wt.get_graph_chars.get_source_nodes(T)) # all source nodes\n",
    "model.RecoveredWaterNodes = env.Set(initialize=wt.get_graph_chars.get_recovered_water_nodes(T)) # all recovered water\n",
    "model.AllNoneSourceEndNodes = env.Set(initialize=wt.get_graph_chars.get_all_none_source_end_nodes(T))\n",
    "\n",
    "#inflow links to UPs\n",
    "#model.UnitInflowLinkSet = env.Set(initialize=wt.get_graph_chars.get_inflow_links(T, unit_process_name_list))\n",
    "\n",
    "# flow in and out of processes\n",
    "model.FlowInLinkSegments = env.Var(model.LinkSet, bounds=(0,None))\n",
    "\n",
    "# final recovered flow\n",
    "model.RecoveredFlow = env.Var(model.RecoveredWaterNodes, bounds=(0,None))"
   ]
  },
  {
   "cell_type": "code",
   "execution_count": null,
   "metadata": {},
   "outputs": [],
   "source": []
  },
  {
   "cell_type": "code",
   "execution_count": 107,
   "metadata": {},
   "outputs": [
    {
     "name": "stdout",
     "output_type": "stream",
     "text": [
      "recovery_stream\n"
     ]
    }
   ],
   "source": [
    "model.CalculateRecoveredFlows = env.Constraint(model.UnitProcesses, rule=calculate_recovered_streams)\n",
    "#model.CalculateRecycleFlows = env.Constraint(model.LinkSet, rule=calculate_recycle_streams)"
   ]
  },
  {
   "cell_type": "code",
   "execution_count": 108,
   "metadata": {},
   "outputs": [],
   "source": [
    "#model.CalculateWasteFlows = env.Constraint(model.UnitProcesses, rule=calculate_waste_streams)"
   ]
  },
  {
   "cell_type": "code",
   "execution_count": null,
   "metadata": {},
   "outputs": [],
   "source": []
  },
  {
   "cell_type": "code",
   "execution_count": 109,
   "metadata": {},
   "outputs": [],
   "source": [
    "model.CalculateRecycleRecoveredFlows1 = env.Constraint(model.LinkSet, rule=max_recycle_streams)"
   ]
  },
  {
   "cell_type": "code",
   "execution_count": 110,
   "metadata": {
    "scrolled": false
   },
   "outputs": [],
   "source": [
    "# Equations for mass balance\n",
    "model.NodeMassBalanceConstraint = env.Constraint(model.AllNoneSourceEndNodes, rule=node_mass_balance_constraint)"
   ]
  },
  {
   "cell_type": "code",
   "execution_count": 111,
   "metadata": {},
   "outputs": [],
   "source": [
    "model.CheckUnitInletFlows = env.Constraint(model.SourceNodes, rule=source_flow_constraint)"
   ]
  },
  {
   "cell_type": "code",
   "execution_count": 112,
   "metadata": {},
   "outputs": [],
   "source": [
    "# Calculate recovered water\n",
    "model.CalculateRecoveredWater = env.Constraint(model.RecoveredWaterNodes, rule=calculate_recovered_water)"
   ]
  },
  {
   "cell_type": "code",
   "execution_count": null,
   "metadata": {},
   "outputs": [],
   "source": []
  },
  {
   "cell_type": "code",
   "execution_count": null,
   "metadata": {},
   "outputs": [],
   "source": []
  },
  {
   "cell_type": "code",
   "execution_count": 113,
   "metadata": {},
   "outputs": [
    {
     "name": "stderr",
     "output_type": "stream",
     "text": [
      "/Users/amiara/miniconda3/envs/water-hubv2/lib/python3.7/site-packages/ipykernel_launcher.py:3: DeprecationWarning: Calling np.sum(generator) is deprecated, and in the future will give a different result. Use np.sum(np.fromiter(generator)) or the python sum builtin instead.\n",
      "  This is separate from the ipykernel package so we can avoid doing imports until\n"
     ]
    },
    {
     "data": {
      "text/plain": [
       "{'Problem': [{'Lower bound': -inf, 'Upper bound': inf, 'Number of objectives': 1, 'Number of constraints': 8, 'Number of variables': 9, 'Sense': 'unknown'}], 'Solver': [{'Status': 'ok', 'Message': 'Ipopt 3.12.12\\\\x3a Optimal Solution Found', 'Termination condition': 'optimal', 'Id': 0, 'Error rc': 0, 'Time': 0.11269497871398926}], 'Solution': [OrderedDict([('number of solutions', 0), ('number of solutions displayed', 0)])]}"
      ]
     },
     "execution_count": 113,
     "metadata": {},
     "output_type": "execute_result"
    }
   ],
   "source": [
    "model.objective_function = env.Objective(\n",
    "    #expr=sum(model.FlowInLinkSegments[x] for x in model.LinkSet), # max flows all links -> simulation\n",
    "    expr=sum(model.RecoveredFlow[x] for x in model.RecoveredWaterNodes), # can do this for node?\n",
    "    sense=env.maximize)\n",
    "\n",
    "solver = env.SolverFactory(\"ipopt\")\n",
    "solver.solve(model) #, tee=True)\n"
   ]
  },
  {
   "cell_type": "code",
   "execution_count": 114,
   "metadata": {},
   "outputs": [
    {
     "name": "stdout",
     "output_type": "stream",
     "text": [
      "microfiltration_a_source_stream : 1000.0\n",
      "microfiltration_a_treated_stream : 736.25\n",
      "microfiltration_a_waste_stream : 27.5\n",
      "microfiltration_a_treated_end_b_stream : 736.25\n",
      "microfiltration_a_recycle_stream : 50.0\n",
      "source_b_source_microfiltration_a_stream : 500.0\n",
      "microfiltration_a_source_and_recycle_stream : 1050.0\n"
     ]
    }
   ],
   "source": [
    "for x in model.LinkSet:\n",
    "    print(x, ':', round(env.value(model.FlowInLinkSegments[x]), 2))"
   ]
  },
  {
   "cell_type": "code",
   "execution_count": null,
   "metadata": {},
   "outputs": [],
   "source": []
  },
  {
   "cell_type": "code",
   "execution_count": null,
   "metadata": {},
   "outputs": [],
   "source": []
  },
  {
   "cell_type": "code",
   "execution_count": null,
   "metadata": {},
   "outputs": [],
   "source": []
  },
  {
   "cell_type": "code",
   "execution_count": null,
   "metadata": {},
   "outputs": [],
   "source": []
  },
  {
   "cell_type": "code",
   "execution_count": null,
   "metadata": {},
   "outputs": [],
   "source": []
  },
  {
   "cell_type": "code",
   "execution_count": 134,
   "metadata": {},
   "outputs": [],
   "source": [
    "def build_model(T, model):\n",
    "    model = env.ConcreteModel()\n",
    "    \n",
    "    # SETS\n",
    "    model.LinkSet = env.Set(initialize=wt.get_graph_chars.get_link_list(T)) # all links in network\n",
    "    model.UnitProcesses = env.Set(initialize=unit_process_name_list) # all unit processes\n",
    "    model.SourceNodes = env.Set(initialize=wt.get_graph_chars.get_source_nodes(T)) # all source nodes\n",
    "    model.RecoveredWaterNodes = env.Set(initialize=wt.get_graph_chars.get_recovered_water_nodes(T)) # all recovered water\n",
    "    model.AllNoneSourceEndNodes = env.Set(initialize=wt.get_graph_chars.get_all_none_source_end_nodes(T))\n",
    "\n",
    "    # VARIABLES\n",
    "    model.FlowInLinkSegments = env.Var(model.LinkSet, bounds=(0,None))\n",
    "    model.RecoveredFlow = env.Var(model.RecoveredWaterNodes, bounds=(0,None))\n",
    "\n",
    "    # CONSTRAINTS\n",
    "    model.CalculateRecoveredFlows = env.Constraint(model.UnitProcesses, rule=calculate_recovered_streams)\n",
    "    model.CalculateRecycleRecoveredFlows1 = env.Constraint(model.LinkSet, rule=max_recycle_streams)    \n",
    "    model.NodeMassBalanceConstraint = env.Constraint(model.AllNoneSourceEndNodes, rule=node_mass_balance_constraint)    \n",
    "    model.CheckUnitInletFlows = env.Constraint(model.SourceNodes, rule=source_flow_constraint)\n",
    "    model.CalculateRecoveredWater = env.Constraint(model.RecoveredWaterNodes, rule=calculate_recovered_water)\n",
    "\n",
    "    # OPTIMIZATION\n",
    "    \n",
    "    return model"
   ]
  },
  {
   "cell_type": "code",
   "execution_count": null,
   "metadata": {},
   "outputs": [],
   "source": []
  },
  {
   "cell_type": "code",
   "execution_count": 135,
   "metadata": {},
   "outputs": [
    {
     "name": "stdout",
     "output_type": "stream",
     "text": [
      "ERROR: Rule failed when generating expression for constraint\n",
      "    CalculateWasteFlows with index microfiltration_a: NameError: name\n",
      "    'unit_process' is not defined\n",
      "ERROR: Constructing component 'CalculateWasteFlows' from data=None failed:\n",
      "    NameError: name 'unit_process' is not defined\n"
     ]
    },
    {
     "ename": "NameError",
     "evalue": "name 'unit_process' is not defined",
     "output_type": "error",
     "traceback": [
      "\u001b[0;31m---------------------------------------------------------------------------\u001b[0m",
      "\u001b[0;31mNameError\u001b[0m                                 Traceback (most recent call last)",
      "\u001b[0;32m<ipython-input-135-f38fd7efdec6>\u001b[0m in \u001b[0;36m<module>\u001b[0;34m\u001b[0m\n\u001b[1;32m      1\u001b[0m \u001b[0mmodel\u001b[0m \u001b[0;34m=\u001b[0m \u001b[0menv\u001b[0m\u001b[0;34m.\u001b[0m\u001b[0mConcreteModel\u001b[0m\u001b[0;34m(\u001b[0m\u001b[0;34m)\u001b[0m\u001b[0;34m\u001b[0m\u001b[0m\n\u001b[0;32m----> 2\u001b[0;31m \u001b[0mM\u001b[0m \u001b[0;34m=\u001b[0m \u001b[0mbuild_model\u001b[0m\u001b[0;34m(\u001b[0m\u001b[0mT\u001b[0m\u001b[0;34m,\u001b[0m \u001b[0mmodel\u001b[0m\u001b[0;34m)\u001b[0m\u001b[0;34m\u001b[0m\u001b[0m\n\u001b[0m\u001b[1;32m      3\u001b[0m \u001b[0msolver\u001b[0m \u001b[0;34m=\u001b[0m \u001b[0menv\u001b[0m\u001b[0;34m.\u001b[0m\u001b[0mSolverFactory\u001b[0m\u001b[0;34m(\u001b[0m\u001b[0;34m\"ipopt\"\u001b[0m\u001b[0;34m)\u001b[0m\u001b[0;34m\u001b[0m\u001b[0m\n\u001b[1;32m      4\u001b[0m \u001b[0msolver\u001b[0m\u001b[0;34m.\u001b[0m\u001b[0msolve\u001b[0m\u001b[0;34m(\u001b[0m\u001b[0mM\u001b[0m\u001b[0;34m)\u001b[0m\u001b[0;34m\u001b[0m\u001b[0m\n",
      "\u001b[0;32m<ipython-input-134-dcdf8986f025>\u001b[0m in \u001b[0;36mbuild_model\u001b[0;34m(T, model)\u001b[0m\n\u001b[1;32m     14\u001b[0m     \u001b[0;31m# EQUATIONS AND CONSTRAINTS\u001b[0m\u001b[0;34m\u001b[0m\u001b[0;34m\u001b[0m\u001b[0m\n\u001b[1;32m     15\u001b[0m     \u001b[0mmodel\u001b[0m\u001b[0;34m.\u001b[0m\u001b[0mCalculateRecoveredFlows\u001b[0m \u001b[0;34m=\u001b[0m \u001b[0menv\u001b[0m\u001b[0;34m.\u001b[0m\u001b[0mConstraint\u001b[0m\u001b[0;34m(\u001b[0m\u001b[0mmodel\u001b[0m\u001b[0;34m.\u001b[0m\u001b[0mUnitProcesses\u001b[0m\u001b[0;34m,\u001b[0m \u001b[0mrule\u001b[0m\u001b[0;34m=\u001b[0m\u001b[0mcalculate_recovered_streams\u001b[0m\u001b[0;34m)\u001b[0m\u001b[0;34m\u001b[0m\u001b[0m\n\u001b[0;32m---> 16\u001b[0;31m     \u001b[0mmodel\u001b[0m\u001b[0;34m.\u001b[0m\u001b[0mCalculateWasteFlows\u001b[0m \u001b[0;34m=\u001b[0m \u001b[0menv\u001b[0m\u001b[0;34m.\u001b[0m\u001b[0mConstraint\u001b[0m\u001b[0;34m(\u001b[0m\u001b[0mmodel\u001b[0m\u001b[0;34m.\u001b[0m\u001b[0mUnitProcesses\u001b[0m\u001b[0;34m,\u001b[0m \u001b[0mrule\u001b[0m\u001b[0;34m=\u001b[0m\u001b[0mcalculate_waste_streams\u001b[0m\u001b[0;34m)\u001b[0m\u001b[0;34m\u001b[0m\u001b[0m\n\u001b[0m\u001b[1;32m     17\u001b[0m \u001b[0;34m\u001b[0m\u001b[0m\n\u001b[1;32m     18\u001b[0m     \u001b[0mmodel\u001b[0m\u001b[0;34m.\u001b[0m\u001b[0mCalculateRecycleRecoveredFlows1\u001b[0m \u001b[0;34m=\u001b[0m \u001b[0menv\u001b[0m\u001b[0;34m.\u001b[0m\u001b[0mConstraint\u001b[0m\u001b[0;34m(\u001b[0m\u001b[0mmodel\u001b[0m\u001b[0;34m.\u001b[0m\u001b[0mLinkSet\u001b[0m\u001b[0;34m,\u001b[0m \u001b[0mrule\u001b[0m\u001b[0;34m=\u001b[0m\u001b[0mmax_recycle_streams\u001b[0m\u001b[0;34m)\u001b[0m\u001b[0;34m\u001b[0m\u001b[0m\n",
      "\u001b[0;32m~/miniconda3/envs/water-hubv2/lib/python3.7/site-packages/pyomo/core/base/block.py\u001b[0m in \u001b[0;36m__setattr__\u001b[0;34m(self, name, val)\u001b[0m\n\u001b[1;32m    541\u001b[0m                 \u001b[0;31m# Pyomo components are added with the add_component method.\u001b[0m\u001b[0;34m\u001b[0m\u001b[0;34m\u001b[0m\u001b[0m\n\u001b[1;32m    542\u001b[0m                 \u001b[0;31m#\u001b[0m\u001b[0;34m\u001b[0m\u001b[0;34m\u001b[0m\u001b[0m\n\u001b[0;32m--> 543\u001b[0;31m                 \u001b[0mself\u001b[0m\u001b[0;34m.\u001b[0m\u001b[0madd_component\u001b[0m\u001b[0;34m(\u001b[0m\u001b[0mname\u001b[0m\u001b[0;34m,\u001b[0m \u001b[0mval\u001b[0m\u001b[0;34m)\u001b[0m\u001b[0;34m\u001b[0m\u001b[0m\n\u001b[0m\u001b[1;32m    544\u001b[0m             \u001b[0;32melse\u001b[0m\u001b[0;34m:\u001b[0m\u001b[0;34m\u001b[0m\u001b[0m\n\u001b[1;32m    545\u001b[0m                 \u001b[0;31m#\u001b[0m\u001b[0;34m\u001b[0m\u001b[0;34m\u001b[0m\u001b[0m\n",
      "\u001b[0;32m~/miniconda3/envs/water-hubv2/lib/python3.7/site-packages/pyomo/core/base/block.py\u001b[0m in \u001b[0;36madd_component\u001b[0;34m(self, name, val)\u001b[0m\n\u001b[1;32m   1079\u001b[0m                              _blockName, str(data))\n\u001b[1;32m   1080\u001b[0m             \u001b[0;32mtry\u001b[0m\u001b[0;34m:\u001b[0m\u001b[0;34m\u001b[0m\u001b[0m\n\u001b[0;32m-> 1081\u001b[0;31m                 \u001b[0mval\u001b[0m\u001b[0;34m.\u001b[0m\u001b[0mconstruct\u001b[0m\u001b[0;34m(\u001b[0m\u001b[0mdata\u001b[0m\u001b[0;34m)\u001b[0m\u001b[0;34m\u001b[0m\u001b[0m\n\u001b[0m\u001b[1;32m   1082\u001b[0m             \u001b[0;32mexcept\u001b[0m\u001b[0;34m:\u001b[0m\u001b[0;34m\u001b[0m\u001b[0m\n\u001b[1;32m   1083\u001b[0m                 \u001b[0merr\u001b[0m \u001b[0;34m=\u001b[0m \u001b[0msys\u001b[0m\u001b[0;34m.\u001b[0m\u001b[0mexc_info\u001b[0m\u001b[0;34m(\u001b[0m\u001b[0;34m)\u001b[0m\u001b[0;34m[\u001b[0m\u001b[0;36m1\u001b[0m\u001b[0;34m]\u001b[0m\u001b[0;34m\u001b[0m\u001b[0m\n",
      "\u001b[0;32m~/miniconda3/envs/water-hubv2/lib/python3.7/site-packages/pyomo/core/base/constraint.py\u001b[0m in \u001b[0;36mconstruct\u001b[0;34m(self, data)\u001b[0m\n\u001b[1;32m    777\u001b[0m                                              \u001b[0m_init_rule\u001b[0m\u001b[0;34m,\u001b[0m\u001b[0;34m\u001b[0m\u001b[0m\n\u001b[1;32m    778\u001b[0m                                              \u001b[0m_self_parent\u001b[0m\u001b[0;34m,\u001b[0m\u001b[0;34m\u001b[0m\u001b[0m\n\u001b[0;32m--> 779\u001b[0;31m                                              ndx)\n\u001b[0m\u001b[1;32m    780\u001b[0m                 \u001b[0;32mexcept\u001b[0m \u001b[0mException\u001b[0m\u001b[0;34m:\u001b[0m\u001b[0;34m\u001b[0m\u001b[0m\n\u001b[1;32m    781\u001b[0m                     \u001b[0merr\u001b[0m \u001b[0;34m=\u001b[0m \u001b[0msys\u001b[0m\u001b[0;34m.\u001b[0m\u001b[0mexc_info\u001b[0m\u001b[0;34m(\u001b[0m\u001b[0;34m)\u001b[0m\u001b[0;34m[\u001b[0m\u001b[0;36m1\u001b[0m\u001b[0;34m]\u001b[0m\u001b[0;34m\u001b[0m\u001b[0m\n",
      "\u001b[0;32m~/miniconda3/envs/water-hubv2/lib/python3.7/site-packages/pyomo/core/base/misc.py\u001b[0m in \u001b[0;36mapply_indexed_rule\u001b[0;34m(obj, rule, model, index, options)\u001b[0m\n\u001b[1;32m     59\u001b[0m                 \u001b[0;32mreturn\u001b[0m \u001b[0mrule\u001b[0m\u001b[0;34m(\u001b[0m\u001b[0mmodel\u001b[0m\u001b[0;34m)\u001b[0m\u001b[0;34m\u001b[0m\u001b[0m\n\u001b[1;32m     60\u001b[0m             \u001b[0;32melse\u001b[0m\u001b[0;34m:\u001b[0m\u001b[0;34m\u001b[0m\u001b[0m\n\u001b[0;32m---> 61\u001b[0;31m                 \u001b[0;32mreturn\u001b[0m \u001b[0mrule\u001b[0m\u001b[0;34m(\u001b[0m\u001b[0mmodel\u001b[0m\u001b[0;34m,\u001b[0m \u001b[0mindex\u001b[0m\u001b[0;34m)\u001b[0m\u001b[0;34m\u001b[0m\u001b[0m\n\u001b[0m\u001b[1;32m     62\u001b[0m         \u001b[0;32melse\u001b[0m\u001b[0;34m:\u001b[0m\u001b[0;34m\u001b[0m\u001b[0m\n\u001b[1;32m     63\u001b[0m             \u001b[0;32mif\u001b[0m \u001b[0mindex\u001b[0m\u001b[0;34m.\u001b[0m\u001b[0m__class__\u001b[0m \u001b[0;32mis\u001b[0m \u001b[0mtuple\u001b[0m\u001b[0;34m:\u001b[0m\u001b[0;34m\u001b[0m\u001b[0m\n",
      "\u001b[0;32m<ipython-input-131-32d8a0b0edfc>\u001b[0m in \u001b[0;36mcalculate_waste_streams\u001b[0;34m(m, link)\u001b[0m\n\u001b[1;32m      2\u001b[0m \u001b[0;32mdef\u001b[0m \u001b[0mcalculate_waste_streams\u001b[0m\u001b[0;34m(\u001b[0m\u001b[0mm\u001b[0m\u001b[0;34m,\u001b[0m \u001b[0mlink\u001b[0m\u001b[0;34m)\u001b[0m\u001b[0;34m:\u001b[0m\u001b[0;34m\u001b[0m\u001b[0m\n\u001b[1;32m      3\u001b[0m \u001b[0;34m\u001b[0m\u001b[0m\n\u001b[0;32m----> 4\u001b[0;31m     \u001b[0msum_of_waste_flow\u001b[0m \u001b[0;34m=\u001b[0m \u001b[0mget_sum_of_up_outflow\u001b[0m\u001b[0;34m(\u001b[0m\u001b[0mm\u001b[0m\u001b[0;34m,\u001b[0m \u001b[0munit_process\u001b[0m\u001b[0;34m,\u001b[0m \u001b[0mlink_type\u001b[0m \u001b[0;34m=\u001b[0m \u001b[0;34m'waste_stream'\u001b[0m\u001b[0;34m)\u001b[0m\u001b[0;34m\u001b[0m\u001b[0m\n\u001b[0m\u001b[1;32m      5\u001b[0m     \u001b[0msum_of_up_inflow\u001b[0m \u001b[0;34m=\u001b[0m \u001b[0mcalculate_up_source_inflow\u001b[0m\u001b[0;34m(\u001b[0m\u001b[0mm\u001b[0m\u001b[0;34m,\u001b[0m \u001b[0munit_process\u001b[0m\u001b[0;34m)\u001b[0m\u001b[0;34m\u001b[0m\u001b[0m\n\u001b[1;32m      6\u001b[0m \u001b[0;34m\u001b[0m\u001b[0m\n",
      "\u001b[0;31mNameError\u001b[0m: name 'unit_process' is not defined"
     ]
    }
   ],
   "source": [
    "model = env.ConcreteModel()\n",
    "M = build_model(T, model)\n",
    "solver = env.SolverFactory(\"ipopt\")\n",
    "solver.solve(M)"
   ]
  },
  {
   "cell_type": "code",
   "execution_count": null,
   "metadata": {},
   "outputs": [],
   "source": []
  },
  {
   "cell_type": "code",
   "execution_count": null,
   "metadata": {},
   "outputs": [],
   "source": []
  },
  {
   "cell_type": "code",
   "execution_count": null,
   "metadata": {},
   "outputs": [],
   "source": []
  },
  {
   "cell_type": "code",
   "execution_count": null,
   "metadata": {},
   "outputs": [],
   "source": []
  },
  {
   "cell_type": "code",
   "execution_count": null,
   "metadata": {},
   "outputs": [],
   "source": []
  },
  {
   "cell_type": "code",
   "execution_count": null,
   "metadata": {},
   "outputs": [],
   "source": []
  },
  {
   "cell_type": "code",
   "execution_count": null,
   "metadata": {},
   "outputs": [],
   "source": []
  },
  {
   "cell_type": "code",
   "execution_count": null,
   "metadata": {},
   "outputs": [],
   "source": []
  },
  {
   "cell_type": "code",
   "execution_count": null,
   "metadata": {},
   "outputs": [],
   "source": [
    "##### MAYBE CODES #####"
   ]
  },
  {
   "cell_type": "code",
   "execution_count": null,
   "metadata": {},
   "outputs": [],
   "source": [
    "def add_unit_process(G, unit_process_name='unit_process', from_process_lib='False',\n",
    "                    from_process='None', to_process='None'):\n",
    "    print('adding unit process', unit_process_name)\n",
    "    \n",
    "    G.add_edges_from([('source_node', unit_process_name, {'name': 'source_stream'}), \n",
    "                      (unit_process_name, 'end_node', {'name': 'treated_stream'})])\n",
    "    \n",
    "    #add option to read in multiple from and to\n",
    "    #add option to import for existing list if from_process_lib is true\n",
    "    \n",
    "    return G"
   ]
  },
  {
   "cell_type": "code",
   "execution_count": null,
   "metadata": {},
   "outputs": [],
   "source": [
    "feedwater = dict()\n",
    "for row in range(0, len(feedwater_data)):\n",
    "    feedwater[feedwater_data.Variable[row]] = feedwater_data.Value[row]"
   ]
  }
 ],
 "metadata": {
  "kernelspec": {
   "display_name": "Python [conda env:water-hubv2]",
   "language": "python",
   "name": "conda-env-water-hubv2-py"
  },
  "language_info": {
   "codemirror_mode": {
    "name": "ipython",
    "version": 3
   },
   "file_extension": ".py",
   "mimetype": "text/x-python",
   "name": "python",
   "nbconvert_exporter": "python",
   "pygments_lexer": "ipython3",
   "version": "3.7.0"
  }
 },
 "nbformat": 4,
 "nbformat_minor": 2
}
