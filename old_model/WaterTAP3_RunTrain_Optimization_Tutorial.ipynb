{
 "cells": [
  {
   "cell_type": "code",
   "execution_count": 6,
   "metadata": {},
   "outputs": [],
   "source": [
    "%matplotlib inline\n",
    "from pylab import *\n",
    "import pandas as pd\n",
    "import numpy as np\n",
    "import matplotlib.pyplot as plt\n",
    "import os \n",
    "import seaborn as sns"
   ]
  },
  {
   "cell_type": "markdown",
   "metadata": {},
   "source": [
    "### This is a tutorial for demonstrating optimization across trains and/or unit processes. This demo is specific for the BOR RO model and selects the least cost system for a given flow. The steps are:\n",
    "#### 1. Load membrane option table.\n",
    "#### 2. Load individual trains, each with a different membrane, and save the results.\n",
    "#### 3. Check results and see which train is least cost (to be check vs. optimzied solution in step 6).\n",
    "#### 4. Load train that contains all train options.\n",
    "#### 5. Run model to select least cost.\n",
    "#### 6. Check results"
   ]
  },
  {
   "cell_type": "markdown",
   "metadata": {},
   "source": [
    "\n",
    "##### Import WaterTAP3 Package"
   ]
  },
  {
   "cell_type": "code",
   "execution_count": 7,
   "metadata": {},
   "outputs": [],
   "source": [
    "import watertap as wt"
   ]
  },
  {
   "cell_type": "markdown",
   "metadata": {},
   "source": [
    "##### Step 1: Load membrane option table."
   ]
  },
  {
   "cell_type": "code",
   "execution_count": 8,
   "metadata": {},
   "outputs": [
    {
     "data": {
      "text/html": [
       "<div>\n",
       "<style scoped>\n",
       "    .dataframe tbody tr th:only-of-type {\n",
       "        vertical-align: middle;\n",
       "    }\n",
       "\n",
       "    .dataframe tbody tr th {\n",
       "        vertical-align: top;\n",
       "    }\n",
       "\n",
       "    .dataframe thead th {\n",
       "        text-align: right;\n",
       "    }\n",
       "</style>\n",
       "<table border=\"1\" class=\"dataframe\">\n",
       "  <thead>\n",
       "    <tr style=\"text-align: right;\">\n",
       "      <th></th>\n",
       "      <th>characteristic</th>\n",
       "      <th>unit</th>\n",
       "      <th>value</th>\n",
       "      <th>manufacturer</th>\n",
       "      <th>model</th>\n",
       "      <th>process_type</th>\n",
       "      <th>reference</th>\n",
       "    </tr>\n",
       "  </thead>\n",
       "  <tbody>\n",
       "    <tr>\n",
       "      <th>0</th>\n",
       "      <td>mem_diameter</td>\n",
       "      <td>cm</td>\n",
       "      <td>20.32</td>\n",
       "      <td>FilmTec</td>\n",
       "      <td>BW30-400</td>\n",
       "      <td>RO</td>\n",
       "      <td>BOR_WaTER</td>\n",
       "    </tr>\n",
       "    <tr>\n",
       "      <th>1</th>\n",
       "      <td>mem_productivity</td>\n",
       "      <td>m3/day</td>\n",
       "      <td>40.00</td>\n",
       "      <td>FilmTec</td>\n",
       "      <td>BW30-400</td>\n",
       "      <td>RO</td>\n",
       "      <td>BOR_WaTER</td>\n",
       "    </tr>\n",
       "    <tr>\n",
       "      <th>2</th>\n",
       "      <td>mem_area_per_module</td>\n",
       "      <td>m2</td>\n",
       "      <td>37.00</td>\n",
       "      <td>FilmTec</td>\n",
       "      <td>BW30-400</td>\n",
       "      <td>RO</td>\n",
       "      <td>BOR_WaTER</td>\n",
       "    </tr>\n",
       "    <tr>\n",
       "      <th>3</th>\n",
       "      <td>mem_operating_pressure</td>\n",
       "      <td>kPa</td>\n",
       "      <td>1550.00</td>\n",
       "      <td>FilmTec</td>\n",
       "      <td>BW30-400</td>\n",
       "      <td>RO</td>\n",
       "      <td>BOR_WaTER</td>\n",
       "    </tr>\n",
       "    <tr>\n",
       "      <th>4</th>\n",
       "      <td>mem_TDS</td>\n",
       "      <td>mg/L</td>\n",
       "      <td>2000.00</td>\n",
       "      <td>FilmTec</td>\n",
       "      <td>BW30-400</td>\n",
       "      <td>RO</td>\n",
       "      <td>BOR_WaTER</td>\n",
       "    </tr>\n",
       "  </tbody>\n",
       "</table>\n",
       "</div>"
      ],
      "text/plain": [
       "           characteristic    unit    value manufacturer     model  \\\n",
       "0            mem_diameter      cm    20.32      FilmTec  BW30-400   \n",
       "1        mem_productivity  m3/day    40.00      FilmTec  BW30-400   \n",
       "2     mem_area_per_module      m2    37.00      FilmTec  BW30-400   \n",
       "3  mem_operating_pressure     kPa  1550.00      FilmTec  BW30-400   \n",
       "4                 mem_TDS    mg/L  2000.00      FilmTec  BW30-400   \n",
       "\n",
       "  process_type  reference  \n",
       "0           RO  BOR_WaTER  \n",
       "1           RO  BOR_WaTER  \n",
       "2           RO  BOR_WaTER  \n",
       "3           RO  BOR_WaTER  \n",
       "4           RO  BOR_WaTER  "
      ]
     },
     "execution_count": 8,
     "metadata": {},
     "output_type": "execute_result"
    }
   ],
   "source": [
    "membrane_option_table = pd.read_csv('data/membrane_options.csv')\n",
    "membrane_option_table.head()"
   ]
  },
  {
   "cell_type": "markdown",
   "metadata": {},
   "source": [
    "##### Step 2: Load individual trains, run each model, and save results in a table."
   ]
  },
  {
   "cell_type": "code",
   "execution_count": 9,
   "metadata": {
    "scrolled": false
   },
   "outputs": [
    {
     "name": "stdout",
     "output_type": "stream",
     "text": [
      "Membrane: DuPont --- 6880T B-10 Twin\n",
      "Membrane: FilmTec --- BW30-400\n",
      "Membrane: FilmTec --- SW30-8040\n",
      "Membrane: Hydranautics --- 8040LHYCPA2\n",
      "Membrane: Koch_Fluid Systems --- FS8822HR400 Prem\n",
      "Membrane: Koch_Fluid Systems --- TFC-S4 (4920 S)\n",
      "Membrane: Koch_Fluid Systems --- TFC-SR2 8\" (8723 SR2-400)\n"
     ]
    }
   ],
   "source": [
    "# set up empty table that results will be saved to\n",
    "final_results = pd.DataFrame()\n",
    "\n",
    "# directory name for treatment trains\n",
    "directory_name = 'trains/bor_trains'                          \n",
    "directory = os.fsencode(directory_name)\n",
    "\n",
    "# loop through each individual train, build and run model, save results.\n",
    "for file in os.listdir(directory):    \n",
    "    filename = os.fsdecode(file)\n",
    "    path = ('%s/%s' % (directory_name, filename))\n",
    "    T = wt.load_train(path)\n",
    "    \n",
    "    # set inflow\n",
    "    T.nodes['source']['Flow'] = 5000\n",
    "    \n",
    "    # build and run model\n",
    "    M = wt.build_model(T)\n",
    "    model_solution = wt.run_model(model=M)\n",
    "    \n",
    "    # get results and save in a table -> 'final_results'\n",
    "    analysis_variables = ['Flow', 'Cost']\n",
    "    model_results = wt.post_processing.get_result_table(M, analysis_variables)\n",
    "    model_results['membrane_scenario'] = np.array(filename[4:-4])\n",
    "    final_results = pd.concat([final_results, model_results])"
   ]
  },
  {
   "cell_type": "code",
   "execution_count": 10,
   "metadata": {},
   "outputs": [
    {
     "data": {
      "text/html": [
       "<div>\n",
       "<style scoped>\n",
       "    .dataframe tbody tr th:only-of-type {\n",
       "        vertical-align: middle;\n",
       "    }\n",
       "\n",
       "    .dataframe tbody tr th {\n",
       "        vertical-align: top;\n",
       "    }\n",
       "\n",
       "    .dataframe thead th {\n",
       "        text-align: right;\n",
       "    }\n",
       "</style>\n",
       "<table border=\"1\" class=\"dataframe\">\n",
       "  <thead>\n",
       "    <tr style=\"text-align: right;\">\n",
       "      <th></th>\n",
       "      <th>Flow</th>\n",
       "      <th>Cost</th>\n",
       "      <th>membrane_scenario</th>\n",
       "    </tr>\n",
       "  </thead>\n",
       "  <tbody>\n",
       "    <tr>\n",
       "      <th>chlorination_twb_use_stream</th>\n",
       "      <td>4037.5</td>\n",
       "      <td>0.000</td>\n",
       "      <td>Koch_Fluid Systems_TFC-SR2 8\" (8723 SR2-400)</td>\n",
       "    </tr>\n",
       "    <tr>\n",
       "      <th>microfiltration_twb_feedwater</th>\n",
       "      <td>5000.0</td>\n",
       "      <td>0.000</td>\n",
       "      <td>Koch_Fluid Systems_TFC-SR2 8\" (8723 SR2-400)</td>\n",
       "    </tr>\n",
       "    <tr>\n",
       "      <th>microfiltration_twb</th>\n",
       "      <td>5000.0</td>\n",
       "      <td>3.141</td>\n",
       "      <td>Koch_Fluid Systems_TFC-SR2 8\" (8723 SR2-400)</td>\n",
       "    </tr>\n",
       "    <tr>\n",
       "      <th>microfiltration_twb_waste_stream</th>\n",
       "      <td>250.0</td>\n",
       "      <td>0.000</td>\n",
       "      <td>Koch_Fluid Systems_TFC-SR2 8\" (8723 SR2-400)</td>\n",
       "    </tr>\n",
       "    <tr>\n",
       "      <th>microfiltration_twb_use_stream</th>\n",
       "      <td>4750.0</td>\n",
       "      <td>0.000</td>\n",
       "      <td>Koch_Fluid Systems_TFC-SR2 8\" (8723 SR2-400)</td>\n",
       "    </tr>\n",
       "  </tbody>\n",
       "</table>\n",
       "</div>"
      ],
      "text/plain": [
       "                                    Flow   Cost  \\\n",
       "chlorination_twb_use_stream       4037.5  0.000   \n",
       "microfiltration_twb_feedwater     5000.0  0.000   \n",
       "microfiltration_twb               5000.0  3.141   \n",
       "microfiltration_twb_waste_stream   250.0  0.000   \n",
       "microfiltration_twb_use_stream    4750.0  0.000   \n",
       "\n",
       "                                                             membrane_scenario  \n",
       "chlorination_twb_use_stream       Koch_Fluid Systems_TFC-SR2 8\" (8723 SR2-400)  \n",
       "microfiltration_twb_feedwater     Koch_Fluid Systems_TFC-SR2 8\" (8723 SR2-400)  \n",
       "microfiltration_twb               Koch_Fluid Systems_TFC-SR2 8\" (8723 SR2-400)  \n",
       "microfiltration_twb_waste_stream  Koch_Fluid Systems_TFC-SR2 8\" (8723 SR2-400)  \n",
       "microfiltration_twb_use_stream    Koch_Fluid Systems_TFC-SR2 8\" (8723 SR2-400)  "
      ]
     },
     "execution_count": 10,
     "metadata": {},
     "output_type": "execute_result"
    }
   ],
   "source": [
    "final_results.tail()"
   ]
  },
  {
   "cell_type": "markdown",
   "metadata": {},
   "source": [
    "\n",
    "##### 3. Check results and see which train is least cost (to be check vs. optimzied solution in step 6)."
   ]
  },
  {
   "cell_type": "code",
   "execution_count": 11,
   "metadata": {},
   "outputs": [
    {
     "data": {
      "image/png": "[encoded data removed]",
      "text/plain": [
       "<Figure size 1152x432 with 1 Axes>"
      ]
     },
     "metadata": {
      "needs_background": "light"
     },
     "output_type": "display_data"
    }
   ],
   "source": [
    "bar_chart = wt.post_processing.get_bar_chart(data = final_results, y_variable = 'Cost', \n",
    "                                      compare_scenario = 'membrane_scenario')"
   ]
  },
  {
   "cell_type": "code",
   "execution_count": 12,
   "metadata": {},
   "outputs": [
    {
     "data": {
      "text/html": [
       "<div>\n",
       "<style scoped>\n",
       "    .dataframe tbody tr th:only-of-type {\n",
       "        vertical-align: middle;\n",
       "    }\n",
       "\n",
       "    .dataframe tbody tr th {\n",
       "        vertical-align: top;\n",
       "    }\n",
       "\n",
       "    .dataframe thead th {\n",
       "        text-align: right;\n",
       "    }\n",
       "</style>\n",
       "<table border=\"1\" class=\"dataframe\">\n",
       "  <thead>\n",
       "    <tr style=\"text-align: right;\">\n",
       "      <th></th>\n",
       "      <th>Flow</th>\n",
       "      <th>Cost</th>\n",
       "      <th>membrane_scenario</th>\n",
       "    </tr>\n",
       "  </thead>\n",
       "  <tbody>\n",
       "    <tr>\n",
       "      <th>ro_bor</th>\n",
       "      <td>4750.0</td>\n",
       "      <td>1.826</td>\n",
       "      <td>DuPont_6880T B-10 Twin</td>\n",
       "    </tr>\n",
       "    <tr>\n",
       "      <th>ro_bor</th>\n",
       "      <td>4750.0</td>\n",
       "      <td>1.845</td>\n",
       "      <td>FilmTec_BW30-400</td>\n",
       "    </tr>\n",
       "    <tr>\n",
       "      <th>ro_bor</th>\n",
       "      <td>4750.0</td>\n",
       "      <td>2.044</td>\n",
       "      <td>FilmTec_SW30-8040</td>\n",
       "    </tr>\n",
       "    <tr>\n",
       "      <th>ro_bor</th>\n",
       "      <td>4750.0</td>\n",
       "      <td>1.840</td>\n",
       "      <td>Hydranautics_8040LHYCPA2</td>\n",
       "    </tr>\n",
       "    <tr>\n",
       "      <th>ro_bor</th>\n",
       "      <td>4750.0</td>\n",
       "      <td>1.899</td>\n",
       "      <td>Koch_Fluid Systems_FS8822HR400 Prem</td>\n",
       "    </tr>\n",
       "    <tr>\n",
       "      <th>ro_bor</th>\n",
       "      <td>4750.0</td>\n",
       "      <td>3.047</td>\n",
       "      <td>Koch_Fluid Systems_TFC-S4 (4920 S)</td>\n",
       "    </tr>\n",
       "    <tr>\n",
       "      <th>ro_bor</th>\n",
       "      <td>4750.0</td>\n",
       "      <td>6.590</td>\n",
       "      <td>Koch_Fluid Systems_TFC-SR2 8\" (8723 SR2-400)</td>\n",
       "    </tr>\n",
       "  </tbody>\n",
       "</table>\n",
       "</div>"
      ],
      "text/plain": [
       "          Flow   Cost                             membrane_scenario\n",
       "ro_bor  4750.0  1.826                        DuPont_6880T B-10 Twin\n",
       "ro_bor  4750.0  1.845                              FilmTec_BW30-400\n",
       "ro_bor  4750.0  2.044                             FilmTec_SW30-8040\n",
       "ro_bor  4750.0  1.840                      Hydranautics_8040LHYCPA2\n",
       "ro_bor  4750.0  1.899           Koch_Fluid Systems_FS8822HR400 Prem\n",
       "ro_bor  4750.0  3.047            Koch_Fluid Systems_TFC-S4 (4920 S)\n",
       "ro_bor  4750.0  6.590  Koch_Fluid Systems_TFC-SR2 8\" (8723 SR2-400)"
      ]
     },
     "execution_count": 12,
     "metadata": {},
     "output_type": "execute_result"
    }
   ],
   "source": [
    "final_results[final_results.Cost != 0].loc['ro_bor']"
   ]
  },
  {
   "cell_type": "markdown",
   "metadata": {},
   "source": [
    "\n",
    "##### 4. Load train that contains all train options."
   ]
  },
  {
   "cell_type": "code",
   "execution_count": 13,
   "metadata": {},
   "outputs": [
    {
     "data": {
      "text/html": [
       "\n",
       "        <iframe\n",
       "            width=\"100%\"\n",
       "            height=\"500px\"\n",
       "            src=\"tmp/example.html\"\n",
       "            frameborder=\"0\"\n",
       "            allowfullscreen\n",
       "        ></iframe>\n",
       "        "
      ],
      "text/plain": [
       "<IPython.lib.display.IFrame at 0x1a1aef0390>"
      ]
     },
     "execution_count": 13,
     "metadata": {},
     "output_type": "execute_result"
    }
   ],
   "source": [
    "#### LOAD TRAIN ####\n",
    "path = 'trains/Tutorial3_optimization_treatment_train_bor_example.csv'\n",
    "T = wt.load_train(path)\n",
    "wt.display.show_train(T)"
   ]
  },
  {
   "cell_type": "code",
   "execution_count": 14,
   "metadata": {},
   "outputs": [],
   "source": [
    "T.nodes['source']['Flow'] = 5000 # sets flow. units in m3/d. 37854.118 m3/d = 10 million gallons per day "
   ]
  },
  {
   "cell_type": "markdown",
   "metadata": {},
   "source": [
    "##### 5. Run model to select least cost."
   ]
  },
  {
   "cell_type": "code",
   "execution_count": 15,
   "metadata": {},
   "outputs": [
    {
     "name": "stdout",
     "output_type": "stream",
     "text": [
      "Membrane: FilmTec --- BW30-400\n",
      "Membrane: FilmTec --- SW30-8040\n",
      "Membrane: Hydranautics --- 8040LHYCPA2\n",
      "Membrane: Koch_Fluid Systems --- FS8822HR400 Prem\n",
      "Membrane: Koch_Fluid Systems --- TFC-S4 (4920 S)\n",
      "Membrane: Koch_Fluid Systems --- TFC-SR2 8\" (8723 SR2-400)\n",
      "Membrane: DuPont --- 6880T B-10 Twin\n"
     ]
    }
   ],
   "source": [
    "M = wt.build_model(T) \n",
    "results = wt.run_model(model = M) # choice of objective"
   ]
  },
  {
   "cell_type": "markdown",
   "metadata": {},
   "source": [
    "##### Step 5: Check results"
   ]
  },
  {
   "cell_type": "code",
   "execution_count": 16,
   "metadata": {},
   "outputs": [],
   "source": [
    "analysis_variables = ['Flow', 'Cost']"
   ]
  },
  {
   "cell_type": "code",
   "execution_count": 17,
   "metadata": {},
   "outputs": [],
   "source": [
    "model_results = wt.post_processing.get_optimization_result_table(T, M, analysis_variables, ro_membrane = True)"
   ]
  },
  {
   "cell_type": "code",
   "execution_count": 18,
   "metadata": {},
   "outputs": [
    {
     "data": {
      "text/html": [
       "<div>\n",
       "<style scoped>\n",
       "    .dataframe tbody tr th:only-of-type {\n",
       "        vertical-align: middle;\n",
       "    }\n",
       "\n",
       "    .dataframe tbody tr th {\n",
       "        vertical-align: top;\n",
       "    }\n",
       "\n",
       "    .dataframe thead th {\n",
       "        text-align: right;\n",
       "    }\n",
       "</style>\n",
       "<table border=\"1\" class=\"dataframe\">\n",
       "  <thead>\n",
       "    <tr style=\"text-align: right;\">\n",
       "      <th></th>\n",
       "      <th>Flow</th>\n",
       "      <th>Cost</th>\n",
       "      <th>mem_manu</th>\n",
       "      <th>mem_model_type</th>\n",
       "    </tr>\n",
       "  </thead>\n",
       "  <tbody>\n",
       "    <tr>\n",
       "      <th>ro_bor7_feedwater</th>\n",
       "      <td>4750.0</td>\n",
       "      <td>0.000</td>\n",
       "      <td>None</td>\n",
       "      <td>None</td>\n",
       "    </tr>\n",
       "    <tr>\n",
       "      <th>ro_bor7</th>\n",
       "      <td>4750.0</td>\n",
       "      <td>1.826</td>\n",
       "      <td>DuPont</td>\n",
       "      <td>6880T B-10 Twin</td>\n",
       "    </tr>\n",
       "    <tr>\n",
       "      <th>ro_bor7_waste_stream</th>\n",
       "      <td>712.5</td>\n",
       "      <td>0.000</td>\n",
       "      <td>None</td>\n",
       "      <td>None</td>\n",
       "    </tr>\n",
       "    <tr>\n",
       "      <th>ro_bor7_use_stream</th>\n",
       "      <td>4037.5</td>\n",
       "      <td>0.000</td>\n",
       "      <td>None</td>\n",
       "      <td>None</td>\n",
       "    </tr>\n",
       "    <tr>\n",
       "      <th>chlorination_twb_feedwater</th>\n",
       "      <td>4037.5</td>\n",
       "      <td>0.000</td>\n",
       "      <td>None</td>\n",
       "      <td>None</td>\n",
       "    </tr>\n",
       "    <tr>\n",
       "      <th>chlorination_twb</th>\n",
       "      <td>4037.5</td>\n",
       "      <td>3.171</td>\n",
       "      <td>None</td>\n",
       "      <td>None</td>\n",
       "    </tr>\n",
       "    <tr>\n",
       "      <th>chlorination_twb_use_stream</th>\n",
       "      <td>4037.5</td>\n",
       "      <td>0.000</td>\n",
       "      <td>None</td>\n",
       "      <td>None</td>\n",
       "    </tr>\n",
       "    <tr>\n",
       "      <th>microfiltration_twb_feedwater</th>\n",
       "      <td>5000.0</td>\n",
       "      <td>0.000</td>\n",
       "      <td>None</td>\n",
       "      <td>None</td>\n",
       "    </tr>\n",
       "    <tr>\n",
       "      <th>microfiltration_twb</th>\n",
       "      <td>5000.0</td>\n",
       "      <td>3.141</td>\n",
       "      <td>None</td>\n",
       "      <td>None</td>\n",
       "    </tr>\n",
       "    <tr>\n",
       "      <th>microfiltration_twb_waste_stream</th>\n",
       "      <td>250.0</td>\n",
       "      <td>0.000</td>\n",
       "      <td>None</td>\n",
       "      <td>None</td>\n",
       "    </tr>\n",
       "    <tr>\n",
       "      <th>microfiltration_twb_use_stream</th>\n",
       "      <td>4750.0</td>\n",
       "      <td>0.000</td>\n",
       "      <td>None</td>\n",
       "      <td>None</td>\n",
       "    </tr>\n",
       "  </tbody>\n",
       "</table>\n",
       "</div>"
      ],
      "text/plain": [
       "                                    Flow   Cost mem_manu   mem_model_type\n",
       "ro_bor7_feedwater                 4750.0  0.000     None             None\n",
       "ro_bor7                           4750.0  1.826   DuPont  6880T B-10 Twin\n",
       "ro_bor7_waste_stream               712.5  0.000     None             None\n",
       "ro_bor7_use_stream                4037.5  0.000     None             None\n",
       "chlorination_twb_feedwater        4037.5  0.000     None             None\n",
       "chlorination_twb                  4037.5  3.171     None             None\n",
       "chlorination_twb_use_stream       4037.5  0.000     None             None\n",
       "microfiltration_twb_feedwater     5000.0  0.000     None             None\n",
       "microfiltration_twb               5000.0  3.141     None             None\n",
       "microfiltration_twb_waste_stream   250.0  0.000     None             None\n",
       "microfiltration_twb_use_stream    4750.0  0.000     None             None"
      ]
     },
     "execution_count": 18,
     "metadata": {},
     "output_type": "execute_result"
    }
   ],
   "source": [
    "model_results"
   ]
  },
  {
   "cell_type": "code",
   "execution_count": null,
   "metadata": {},
   "outputs": [],
   "source": []
  },
  {
   "cell_type": "code",
   "execution_count": null,
   "metadata": {},
   "outputs": [],
   "source": []
  },
  {
   "cell_type": "code",
   "execution_count": null,
   "metadata": {},
   "outputs": [],
   "source": []
  },
  {
   "cell_type": "code",
   "execution_count": null,
   "metadata": {},
   "outputs": [],
   "source": []
  },
  {
   "cell_type": "code",
   "execution_count": null,
   "metadata": {},
   "outputs": [],
   "source": []
  },
  {
   "cell_type": "code",
   "execution_count": null,
   "metadata": {},
   "outputs": [],
   "source": []
  },
  {
   "cell_type": "code",
   "execution_count": null,
   "metadata": {},
   "outputs": [],
   "source": []
  },
  {
   "cell_type": "code",
   "execution_count": null,
   "metadata": {},
   "outputs": [],
   "source": []
  },
  {
   "cell_type": "code",
   "execution_count": null,
   "metadata": {},
   "outputs": [],
   "source": []
  }
 ],
 "metadata": {
  "celltoolbar": "Raw Cell Format",
  "kernelspec": {
   "display_name": "Python [conda env:water-hubv2] *",
   "language": "python",
   "name": "conda-env-water-hubv2-py"
  },
  "language_info": {
   "codemirror_mode": {
    "name": "ipython",
    "version": 3
   },
   "file_extension": ".py",
   "mimetype": "text/x-python",
   "name": "python",
   "nbconvert_exporter": "python",
   "pygments_lexer": "ipython3",
   "version": "3.7.0"
  }
 },
 "nbformat": 4,
 "nbformat_minor": 2
}
