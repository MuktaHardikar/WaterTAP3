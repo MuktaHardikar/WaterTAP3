{
 "cells": [
  {
   "cell_type": "code",
   "execution_count": 1,
   "metadata": {},
   "outputs": [],
   "source": [
    "%matplotlib inline\n",
    "from pylab import *\n",
    "import pandas as pd\n",
    "import numpy as np\n",
    "import matplotlib.pyplot as plt\n",
    "\n",
    "import networkx as nx\n",
    "from networkx.drawing.nx_agraph import write_dot, graphviz_layout"
   ]
  },
  {
   "cell_type": "markdown",
   "metadata": {},
   "source": [
    "### This is a tutorial for creating a treatment train one unit process at a time. The aim is to demonstrate design capabilities in WaterTAP3 using the \"treatment_train_design\" module. The steps are:\n",
    "#### 1. Look up unit process library\n",
    "#### 2. Look up source and end use source water options\n",
    "#### 3. Create a treatment train with a unit process, defining the source and end use\n",
    "#### 4. Add another unit process in parallel or series\n",
    "#### 5. Add a recycle stream\n",
    "#### 6. Add multiple water sources\n",
    "#### 7. Add multiple end use water source\n",
    "#### 8. Add a stream from any point to any point\n",
    "#### 9. Remove unit process\n",
    "#### 10. Save and load treatment train"
   ]
  },
  {
   "cell_type": "code",
   "execution_count": null,
   "metadata": {},
   "outputs": [],
   "source": []
  },
  {
   "cell_type": "markdown",
   "metadata": {},
   "source": [
    "##### Import WaterTAP3 Package"
   ]
  },
  {
   "cell_type": "code",
   "execution_count": 2,
   "metadata": {},
   "outputs": [],
   "source": [
    "import watertap as wt"
   ]
  },
  {
   "cell_type": "markdown",
   "metadata": {},
   "source": [
    "##### Step 1: Look up unit process library. Returns a List."
   ]
  },
  {
   "cell_type": "code",
   "execution_count": 3,
   "metadata": {},
   "outputs": [
    {
     "data": {
      "text/plain": [
       "['chlorination_twb',\n",
       " 'media_filtration_twb',\n",
       " 'microfiltration_twb',\n",
       " 'ultrafiltration_twb',\n",
       " 'nanofiltration_twb',\n",
       " 'ro_twb',\n",
       " 'uv_twb',\n",
       " 'ro_bor',\n",
       " 'uvozone_twb',\n",
       " 'mbr']"
      ]
     },
     "execution_count": 3,
     "metadata": {},
     "output_type": "execute_result"
    }
   ],
   "source": [
    "wt.unit_process_library_list"
   ]
  },
  {
   "cell_type": "markdown",
   "metadata": {},
   "source": [
    "##### Step 2: Look up source and end use source water options. Returns a Pandas dataframe."
   ]
  },
  {
   "cell_type": "code",
   "execution_count": 4,
   "metadata": {},
   "outputs": [
    {
     "data": {
      "text/html": [
       "<div>\n",
       "<style scoped>\n",
       "    .dataframe tbody tr th:only-of-type {\n",
       "        vertical-align: middle;\n",
       "    }\n",
       "\n",
       "    .dataframe tbody tr th {\n",
       "        vertical-align: top;\n",
       "    }\n",
       "\n",
       "    .dataframe thead th {\n",
       "        text-align: right;\n",
       "    }\n",
       "</style>\n",
       "<table border=\"1\" class=\"dataframe\">\n",
       "  <thead>\n",
       "    <tr style=\"text-align: right;\">\n",
       "      <th></th>\n",
       "      <th>Variable</th>\n",
       "      <th>Unit</th>\n",
       "      <th>Value</th>\n",
       "      <th>Reference</th>\n",
       "      <th>WaterType</th>\n",
       "      <th>CaseStudy</th>\n",
       "      <th>SourceOrUse</th>\n",
       "      <th>feedwater</th>\n",
       "      <th>SourceNodeName</th>\n",
       "    </tr>\n",
       "    <tr>\n",
       "      <th>Variable</th>\n",
       "      <th></th>\n",
       "      <th></th>\n",
       "      <th></th>\n",
       "      <th></th>\n",
       "      <th></th>\n",
       "      <th></th>\n",
       "      <th></th>\n",
       "      <th></th>\n",
       "      <th></th>\n",
       "    </tr>\n",
       "  </thead>\n",
       "  <tbody>\n",
       "    <tr>\n",
       "      <th>Turb</th>\n",
       "      <td>Turb</td>\n",
       "      <td>NTU</td>\n",
       "      <td>100.0</td>\n",
       "      <td>Poseidon</td>\n",
       "      <td>Wastewater</td>\n",
       "      <td>Typical untreated domestic wastewater</td>\n",
       "      <td>Source</td>\n",
       "      <td>100.0</td>\n",
       "      <td>source_node</td>\n",
       "    </tr>\n",
       "    <tr>\n",
       "      <th>TSS</th>\n",
       "      <td>TSS</td>\n",
       "      <td>mg/L</td>\n",
       "      <td>210.0</td>\n",
       "      <td>Poseidon</td>\n",
       "      <td>Wastewater</td>\n",
       "      <td>Typical untreated domestic wastewater</td>\n",
       "      <td>Source</td>\n",
       "      <td>210.0</td>\n",
       "      <td>source_node</td>\n",
       "    </tr>\n",
       "    <tr>\n",
       "      <th>BOD</th>\n",
       "      <td>BOD</td>\n",
       "      <td>mg/L</td>\n",
       "      <td>190.0</td>\n",
       "      <td>Poseidon</td>\n",
       "      <td>Wastewater</td>\n",
       "      <td>Typical untreated domestic wastewater</td>\n",
       "      <td>Source</td>\n",
       "      <td>190.0</td>\n",
       "      <td>source_node</td>\n",
       "    </tr>\n",
       "    <tr>\n",
       "      <th>COD</th>\n",
       "      <td>COD</td>\n",
       "      <td>mg/L</td>\n",
       "      <td>430.0</td>\n",
       "      <td>Poseidon</td>\n",
       "      <td>Wastewater</td>\n",
       "      <td>Typical untreated domestic wastewater</td>\n",
       "      <td>Source</td>\n",
       "      <td>430.0</td>\n",
       "      <td>source_node</td>\n",
       "    </tr>\n",
       "    <tr>\n",
       "      <th>TN</th>\n",
       "      <td>TN</td>\n",
       "      <td>mg/L</td>\n",
       "      <td>40.0</td>\n",
       "      <td>Poseidon</td>\n",
       "      <td>Wastewater</td>\n",
       "      <td>Typical untreated domestic wastewater</td>\n",
       "      <td>Source</td>\n",
       "      <td>40.0</td>\n",
       "      <td>source_node</td>\n",
       "    </tr>\n",
       "  </tbody>\n",
       "</table>\n",
       "</div>"
      ],
      "text/plain": [
       "         Variable  Unit  Value Reference   WaterType  \\\n",
       "Variable                                               \n",
       "Turb         Turb   NTU  100.0  Poseidon  Wastewater   \n",
       "TSS           TSS  mg/L  210.0  Poseidon  Wastewater   \n",
       "BOD           BOD  mg/L  190.0  Poseidon  Wastewater   \n",
       "COD           COD  mg/L  430.0  Poseidon  Wastewater   \n",
       "TN             TN  mg/L   40.0  Poseidon  Wastewater   \n",
       "\n",
       "                                      CaseStudy SourceOrUse  feedwater  \\\n",
       "Variable                                                                 \n",
       "Turb      Typical untreated domestic wastewater      Source      100.0   \n",
       "TSS       Typical untreated domestic wastewater      Source      210.0   \n",
       "BOD       Typical untreated domestic wastewater      Source      190.0   \n",
       "COD       Typical untreated domestic wastewater      Source      430.0   \n",
       "TN        Typical untreated domestic wastewater      Source       40.0   \n",
       "\n",
       "         SourceNodeName  \n",
       "Variable                 \n",
       "Turb        source_node  \n",
       "TSS         source_node  \n",
       "BOD         source_node  \n",
       "COD         source_node  \n",
       "TN          source_node  "
      ]
     },
     "execution_count": 4,
     "metadata": {},
     "output_type": "execute_result"
    }
   ],
   "source": [
    "# source node name, feedwater column not used. TODO.\n",
    "wt.water_source_use_library.head()"
   ]
  },
  {
   "cell_type": "markdown",
   "metadata": {},
   "source": [
    "##### Step 3: Create a treatment train with a unit process, defining the source and end use"
   ]
  },
  {
   "cell_type": "code",
   "execution_count": 5,
   "metadata": {},
   "outputs": [
    {
     "name": "stdout",
     "output_type": "stream",
     "text": [
      "adding unit process to network: microfiltration_twb\n",
      "adding unit process attributes: microfiltration_twb\n"
     ]
    }
   ],
   "source": [
    "# unit_process_name_list needs to be a list\n",
    "unit_process_name_list = ['microfiltration_twb']\n",
    "T = wt.treatment_train_design.create_train(unit_process_name_list=unit_process_name_list,\n",
    "                                            source_water_reference = 'Poseidon',\n",
    "                                            source_water_type = 'Wastewater',\n",
    "                                            source_water_case_study ='Typical untreated domestic wastewater',\n",
    "                                            enduse_water_reference = 'Poseidon',\n",
    "                                            enduse_water_type = 'Environmental',\n",
    "                                            enduse_water_case_study = 'EPA: Environmental Reuse',\n",
    "                                            flow = 0)"
   ]
  },
  {
   "cell_type": "code",
   "execution_count": 6,
   "metadata": {},
   "outputs": [
    {
     "data": {
      "text/html": [
       "\n",
       "        <iframe\n",
       "            width=\"100%\"\n",
       "            height=\"500px\"\n",
       "            src=\"example.html\"\n",
       "            frameborder=\"0\"\n",
       "            allowfullscreen\n",
       "        ></iframe>\n",
       "        "
      ],
      "text/plain": [
       "<IPython.lib.display.IFrame at 0x101d62ae48>"
      ]
     },
     "execution_count": 6,
     "metadata": {},
     "output_type": "execute_result"
    }
   ],
   "source": [
    "# display command\n",
    "wt.display.show_train2(T)"
   ]
  },
  {
   "cell_type": "markdown",
   "metadata": {},
   "source": [
    "##### Step 4: Add another unit process in parallel or series"
   ]
  },
  {
   "cell_type": "code",
   "execution_count": 91,
   "metadata": {},
   "outputs": [
    {
     "name": "stdout",
     "output_type": "stream",
     "text": [
      "adding unit process to network: ultrafiltration_twb\n",
      "adding unit process attributes: microfiltration_twb\n",
      "adding unit process attributes: ultrafiltration_twb\n"
     ]
    }
   ],
   "source": [
    "##### ADD UNIT PROCESS IN PARALLEL ####\n",
    "T = wt.treatment_train_design.add_unit_process(T, from_node = 'source',\n",
    "                                                to_node = 'use', \n",
    "                                                unit_process_name_list = ['ultrafiltration_twb'],\n",
    "                                                unit_process_list = ['ultrafiltration_twb'],\n",
    "                                                order = 'parallel')"
   ]
  },
  {
   "cell_type": "code",
   "execution_count": 92,
   "metadata": {},
   "outputs": [
    {
     "data": {
      "text/html": [
       "\n",
       "        <iframe\n",
       "            width=\"100%\"\n",
       "            height=\"500px\"\n",
       "            src=\"example.html\"\n",
       "            frameborder=\"0\"\n",
       "            allowfullscreen\n",
       "        ></iframe>\n",
       "        "
      ],
      "text/plain": [
       "<IPython.lib.display.IFrame at 0x1a19ccb320>"
      ]
     },
     "execution_count": 92,
     "metadata": {},
     "output_type": "execute_result"
    }
   ],
   "source": [
    "wt.display.show_train2(T)"
   ]
  },
  {
   "cell_type": "code",
   "execution_count": 93,
   "metadata": {},
   "outputs": [
    {
     "name": "stdout",
     "output_type": "stream",
     "text": [
      "adding unit process to network: chlorination_twb\n",
      "adding unit process attributes: microfiltration_twb\n",
      "adding unit process attributes: ultrafiltration_twb\n",
      "adding unit process attributes: chlorination_twb\n"
     ]
    }
   ],
   "source": [
    "##### ADD UNIT PROCESS IN SERIES ####\n",
    "T = wt.treatment_train_design.add_unit_process(T, from_node = 'use',\n",
    "                                                to_node = None, \n",
    "                                                unit_process_name_list = ['chlorination_twb'],\n",
    "                                                unit_process_list = ['chlorination_twb'],\n",
    "                                                order = 'series')"
   ]
  },
  {
   "cell_type": "code",
   "execution_count": 94,
   "metadata": {},
   "outputs": [
    {
     "data": {
      "text/html": [
       "\n",
       "        <iframe\n",
       "            width=\"100%\"\n",
       "            height=\"500px\"\n",
       "            src=\"example.html\"\n",
       "            frameborder=\"0\"\n",
       "            allowfullscreen\n",
       "        ></iframe>\n",
       "        "
      ],
      "text/plain": [
       "<IPython.lib.display.IFrame at 0x1a19d210b8>"
      ]
     },
     "execution_count": 94,
     "metadata": {},
     "output_type": "execute_result"
    }
   ],
   "source": [
    "wt.display.show_train(T)"
   ]
  },
  {
   "cell_type": "markdown",
   "metadata": {},
   "source": [
    "##### 5. Add a recycle stream"
   ]
  },
  {
   "cell_type": "code",
   "execution_count": 83,
   "metadata": {},
   "outputs": [
    {
     "name": "stdout",
     "output_type": "stream",
     "text": [
      "updating unit process attributes: microfiltration_twb\n"
     ]
    }
   ],
   "source": [
    "T = wt.treatment_train_design.add_recycle_stream(T,\n",
    "                       unit_process = 'microfiltration_twb',\n",
    "                       unit_process_name = 'microfiltration_twb',\n",
    "                       recyle_fraction_of_waste = 1,\n",
    "                       number_of_affected_streams = 1)"
   ]
  },
  {
   "cell_type": "code",
   "execution_count": 84,
   "metadata": {},
   "outputs": [
    {
     "data": {
      "text/html": [
       "\n",
       "        <iframe\n",
       "            width=\"100%\"\n",
       "            height=\"500px\"\n",
       "            src=\"example.html\"\n",
       "            frameborder=\"0\"\n",
       "            allowfullscreen\n",
       "        ></iframe>\n",
       "        "
      ],
      "text/plain": [
       "<IPython.lib.display.IFrame at 0x1a19fe1be0>"
      ]
     },
     "execution_count": 84,
     "metadata": {},
     "output_type": "execute_result"
    }
   ],
   "source": [
    "wt.display.show_train(T)"
   ]
  },
  {
   "cell_type": "markdown",
   "metadata": {},
   "source": [
    "##### Step 6: Add multiple water sources"
   ]
  },
  {
   "cell_type": "code",
   "execution_count": 95,
   "metadata": {},
   "outputs": [
    {
     "name": "stdout",
     "output_type": "stream",
     "text": [
      "adding another water source: source1\n"
     ]
    }
   ],
   "source": [
    "# ADD ANOTHER SOURCE. NEED TO PROVIDE A NEW SOURCE NAME.\n",
    "source_to_node_names = [['source1', 'ultrafiltration_twb_start']]\n",
    "T = wt.treatment_train_design.add_multiple_water_sources(T,\n",
    "                                              number_of_additional_sources = 1,\n",
    "                                              source_water_reference = 'Poseidon',\n",
    "                                              source_water_type = 'Wastewater',\n",
    "                                              source_water_case_study = 'Typical untreated domestic wastewater',\n",
    "                                              source_to_node_names=source_to_node_names,\n",
    "                                              flow = 0)"
   ]
  },
  {
   "cell_type": "code",
   "execution_count": 96,
   "metadata": {},
   "outputs": [
    {
     "data": {
      "text/html": [
       "\n",
       "        <iframe\n",
       "            width=\"100%\"\n",
       "            height=\"500px\"\n",
       "            src=\"example.html\"\n",
       "            frameborder=\"0\"\n",
       "            allowfullscreen\n",
       "        ></iframe>\n",
       "        "
      ],
      "text/plain": [
       "<IPython.lib.display.IFrame at 0x1a19ffe550>"
      ]
     },
     "execution_count": 96,
     "metadata": {},
     "output_type": "execute_result"
    }
   ],
   "source": [
    "wt.display.show_train(T)"
   ]
  },
  {
   "cell_type": "markdown",
   "metadata": {},
   "source": [
    "##### Step 7: Add multiple end use water source"
   ]
  },
  {
   "cell_type": "code",
   "execution_count": 97,
   "metadata": {},
   "outputs": [
    {
     "name": "stdout",
     "output_type": "stream",
     "text": [
      "adding another water use: use2\n"
     ]
    }
   ],
   "source": [
    "# ADD ANOTHER END USE \n",
    "node_to_use_names = [['chlorination_twb_end', 'use2']]\n",
    "T = wt.treatment_train_design.add_multiple_water_enduses(T,\n",
    "                                              number_of_additional_ends = 1,\n",
    "                                              enduse_water_reference = 'Poseidon',\n",
    "                                              enduse_water_type = 'Wastewater',\n",
    "                                              enduse_water_case_study = 'Typical untreated domestic wastewater',\n",
    "                                              node_to_end_names= node_to_use_names,\n",
    "                                              min_flow = 0)"
   ]
  },
  {
   "cell_type": "code",
   "execution_count": 98,
   "metadata": {},
   "outputs": [
    {
     "data": {
      "text/html": [
       "\n",
       "        <iframe\n",
       "            width=\"100%\"\n",
       "            height=\"500px\"\n",
       "            src=\"example.html\"\n",
       "            frameborder=\"0\"\n",
       "            allowfullscreen\n",
       "        ></iframe>\n",
       "        "
      ],
      "text/plain": [
       "<IPython.lib.display.IFrame at 0x1a19ffee80>"
      ]
     },
     "execution_count": 98,
     "metadata": {},
     "output_type": "execute_result"
    }
   ],
   "source": [
    "wt.display.show_train(T)"
   ]
  },
  {
   "cell_type": "markdown",
   "metadata": {},
   "source": [
    "##### Step 8: Add a stream from any point to any point. For this, user must define the type of stream being added. Options are: feedwater_stream, waste_stream, use_stream, recycle_stream, source_and_recycle_stream, treatment_process"
   ]
  },
  {
   "cell_type": "code",
   "execution_count": 99,
   "metadata": {},
   "outputs": [
    {
     "name": "stdout",
     "output_type": "stream",
     "text": [
      "microfiltration_twb_feedwater ----->>> feedwater_stream\n",
      "ultrafiltration_twb_feedwater ----->>> feedwater_stream\n",
      "microfiltration_twb ----->>> treatment_process\n",
      "microfiltration_twb_waste_stream ----->>> waste_stream\n",
      "microfiltration_twb_use_stream ----->>> use_stream\n",
      "chlorination_twb_feedwater ----->>> feedwater_stream\n",
      "ultrafiltration_twb ----->>> treatment_process\n",
      "ultrafiltration_twb_waste_stream ----->>> waste_stream\n",
      "ultrafiltration_twb_use_stream ----->>> use_stream\n",
      "chlorination_twb ----->>> treatment_process\n",
      "chlorination_twb_waste_stream ----->>> waste_stream\n",
      "chlorination_twb_use_stream ----->>> use_stream\n",
      "chlorination_twb_end_treated_use2_stream ----->>> use_stream\n",
      "source1_ultrafiltration_twb_start_feedwater ----->>> feedwater_stream\n"
     ]
    }
   ],
   "source": [
    "for edge in T.edges():\n",
    "    print(T.edges[edge]['name'], '----->>>' , T.edges[edge]['type'])"
   ]
  },
  {
   "cell_type": "code",
   "execution_count": 100,
   "metadata": {},
   "outputs": [],
   "source": [
    "T = wt.treatment_train_design.add_stream(T, \n",
    "                                         from_node = 'microfiltration_twb_end', \n",
    "                                        to_node = 'use2',\n",
    "                                        stream_name = 'treated_stream_example',\n",
    "                                        stream_type = 'treated_stream') # TODO"
   ]
  },
  {
   "cell_type": "code",
   "execution_count": 101,
   "metadata": {},
   "outputs": [
    {
     "data": {
      "text/html": [
       "\n",
       "        <iframe\n",
       "            width=\"100%\"\n",
       "            height=\"500px\"\n",
       "            src=\"example.html\"\n",
       "            frameborder=\"0\"\n",
       "            allowfullscreen\n",
       "        ></iframe>\n",
       "        "
      ],
      "text/plain": [
       "<IPython.lib.display.IFrame at 0x1a19ffecc0>"
      ]
     },
     "execution_count": 101,
     "metadata": {},
     "output_type": "execute_result"
    }
   ],
   "source": [
    "wt.display.show_train(T)"
   ]
  },
  {
   "cell_type": "markdown",
   "metadata": {},
   "source": [
    "##### Step 9: Remove unit process"
   ]
  },
  {
   "cell_type": "code",
   "execution_count": null,
   "metadata": {},
   "outputs": [],
   "source": []
  },
  {
   "cell_type": "code",
   "execution_count": 20,
   "metadata": {},
   "outputs": [],
   "source": [
    "T = wt.filter_processes.remove_single_process(T, process_name = 'ultrafiltration_twb')"
   ]
  },
  {
   "cell_type": "code",
   "execution_count": 102,
   "metadata": {},
   "outputs": [
    {
     "data": {
      "text/html": [
       "\n",
       "        <iframe\n",
       "            width=\"100%\"\n",
       "            height=\"500px\"\n",
       "            src=\"example.html\"\n",
       "            frameborder=\"0\"\n",
       "            allowfullscreen\n",
       "        ></iframe>\n",
       "        "
      ],
      "text/plain": [
       "<IPython.lib.display.IFrame at 0x1a1a014198>"
      ]
     },
     "execution_count": 102,
     "metadata": {},
     "output_type": "execute_result"
    }
   ],
   "source": [
    "wt.display.show_train(T)"
   ]
  },
  {
   "cell_type": "markdown",
   "metadata": {},
   "source": [
    "##### Step 10: Save and load treatment train"
   ]
  },
  {
   "cell_type": "code",
   "execution_count": 103,
   "metadata": {},
   "outputs": [],
   "source": [
    "#### SAVE TRAIN ####\n",
    "path = 'Tutorial1_treatment_train_example.csv'\n",
    "wt.save_train(T, path)"
   ]
  },
  {
   "cell_type": "code",
   "execution_count": 104,
   "metadata": {},
   "outputs": [],
   "source": [
    "#### LOAD TRAIN ####\n",
    "path = 'Tutorial1_treatment_train_example.csv'\n",
    "TT = wt.load_train(path)"
   ]
  },
  {
   "cell_type": "code",
   "execution_count": 105,
   "metadata": {},
   "outputs": [
    {
     "data": {
      "text/html": [
       "\n",
       "        <iframe\n",
       "            width=\"100%\"\n",
       "            height=\"500px\"\n",
       "            src=\"example.html\"\n",
       "            frameborder=\"0\"\n",
       "            allowfullscreen\n",
       "        ></iframe>\n",
       "        "
      ],
      "text/plain": [
       "<IPython.lib.display.IFrame at 0x1a19fcba90>"
      ]
     },
     "execution_count": 105,
     "metadata": {},
     "output_type": "execute_result"
    }
   ],
   "source": [
    "wt.display.show_train(TT)"
   ]
  },
  {
   "cell_type": "code",
   "execution_count": null,
   "metadata": {},
   "outputs": [],
   "source": []
  },
  {
   "cell_type": "code",
   "execution_count": null,
   "metadata": {},
   "outputs": [],
   "source": []
  },
  {
   "cell_type": "code",
   "execution_count": null,
   "metadata": {},
   "outputs": [],
   "source": []
  },
  {
   "cell_type": "code",
   "execution_count": null,
   "metadata": {},
   "outputs": [],
   "source": []
  },
  {
   "cell_type": "code",
   "execution_count": null,
   "metadata": {},
   "outputs": [],
   "source": []
  }
 ],
 "metadata": {
  "celltoolbar": "Raw Cell Format",
  "kernelspec": {
   "display_name": "Python [conda env:water-hubv2]",
   "language": "python",
   "name": "conda-env-water-hubv2-py"
  },
  "language_info": {
   "codemirror_mode": {
    "name": "ipython",
    "version": 3
   },
   "file_extension": ".py",
   "mimetype": "text/x-python",
   "name": "python",
   "nbconvert_exporter": "python",
   "pygments_lexer": "ipython3",
   "version": "3.7.0"
  }
 },
 "nbformat": 4,
 "nbformat_minor": 2
}
