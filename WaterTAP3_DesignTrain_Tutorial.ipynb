{
 "cells": [
  {
   "cell_type": "code",
   "execution_count": null,
   "metadata": {},
   "outputs": [],
   "source": [
    "%matplotlib inline\n",
    "from pylab import *\n",
    "import pandas as pd\n",
    "import numpy as np\n",
    "import matplotlib.pyplot as plt\n",
    "\n",
    "import networkx as nx\n",
    "from networkx.drawing.nx_agraph import write_dot, graphviz_layout"
   ]
  },
  {
   "cell_type": "markdown",
   "metadata": {},
   "source": [
    "### This is a tutorial for creating a treatment train one unit process at a time. The aim is to demonstrate design capabilities in WaterTAP3 using the \"treatment_train_design\" module. The steps are:\n",
    "#### 1. Look up unit process library\n",
    "#### 2. Look up source and end use source water options\n",
    "#### 3. Create a treatment train with a unit process, defining the source and end use\n",
    "#### 4. Add another unit process in parallel or series\n",
    "#### 5. Add multiple water sources\n",
    "#### 6. Add multiple end use water source\n",
    "#### 7. Add a stream from any point to any point\n",
    "#### 8. Remove unit process\n",
    "#### 9. Save and load treatment train"
   ]
  },
  {
   "cell_type": "code",
   "execution_count": null,
   "metadata": {},
   "outputs": [],
   "source": []
  },
  {
   "cell_type": "markdown",
   "metadata": {},
   "source": [
    "##### Import WaterTAP3 Package"
   ]
  },
  {
   "cell_type": "code",
   "execution_count": null,
   "metadata": {},
   "outputs": [],
   "source": [
    "import watertap as wt"
   ]
  },
  {
   "cell_type": "markdown",
   "metadata": {},
   "source": [
    "##### Step 1: Look up unit process library. Returns a List."
   ]
  },
  {
   "cell_type": "code",
   "execution_count": null,
   "metadata": {},
   "outputs": [],
   "source": [
    "wt.unit_process_library_list"
   ]
  },
  {
   "cell_type": "markdown",
   "metadata": {},
   "source": [
    "##### Step 2: Look up source and end use source water options. Returns a Pandas dataframe."
   ]
  },
  {
   "cell_type": "code",
   "execution_count": null,
   "metadata": {},
   "outputs": [],
   "source": [
    "# source node name, feedwater column not used. TODO.\n",
    "wt.water_source_use_library.head()"
   ]
  },
  {
   "cell_type": "markdown",
   "metadata": {},
   "source": [
    "##### Step 3: Create a treatment train with a unit process, defining the source and end use"
   ]
  },
  {
   "cell_type": "code",
   "execution_count": null,
   "metadata": {},
   "outputs": [],
   "source": [
    "# unit_process_name_list needs to be a list\n",
    "unit_process_name_list = ['microfiltration_twb']\n",
    "T = wt.treatment_train_design.create_train(unit_process_name_list=unit_process_name_list,\n",
    "                                            source_water_reference = 'Poseidon',\n",
    "                                            source_water_type = 'Wastewater',\n",
    "                                            source_water_case_study ='Typical untreated domestic wastewater',\n",
    "                                            enduse_water_reference = 'Poseidon',\n",
    "                                            enduse_water_type = 'Environmental',\n",
    "                                            enduse_water_case_study = 'EPA: Environmental Reuse',\n",
    "                                            flow = 0)"
   ]
  },
  {
   "cell_type": "code",
   "execution_count": null,
   "metadata": {},
   "outputs": [],
   "source": [
    "# display command\n",
    "wt.display.show_train2(T)"
   ]
  },
  {
   "cell_type": "markdown",
   "metadata": {},
   "source": [
    "##### Step 4: Add another unit process in parallel or series"
   ]
  },
  {
   "cell_type": "code",
   "execution_count": null,
   "metadata": {},
   "outputs": [],
   "source": [
    "##### ADD UNIT PROCESS IN PARALLEL ####\n",
    "T = wt.treatment_train_design.add_unit_process(T, from_node = 'source',\n",
    "                                                to_node = 'use', \n",
    "                                                unit_process_name_list = ['ultrafiltration_twb'],\n",
    "                                                unit_process_list = ['ultrafiltration_twb'],\n",
    "                                                order = 'parallel')"
   ]
  },
  {
   "cell_type": "code",
   "execution_count": null,
   "metadata": {},
   "outputs": [],
   "source": [
    "wt.display.show_train2(T)"
   ]
  },
  {
   "cell_type": "code",
   "execution_count": null,
   "metadata": {},
   "outputs": [],
   "source": [
    "##### ADD UNIT PROCESS IN SERIES ####\n",
    "T = wt.treatment_train_design.add_unit_process(T, from_node = 'use',\n",
    "                                                to_node = None, \n",
    "                                                unit_process_name_list = ['chlorination_twb'],\n",
    "                                                unit_process_list = ['chlorination_twb'],\n",
    "                                                order = 'series')"
   ]
  },
  {
   "cell_type": "code",
   "execution_count": null,
   "metadata": {},
   "outputs": [],
   "source": [
    "wt.display.show_train(T)"
   ]
  },
  {
   "cell_type": "markdown",
   "metadata": {},
   "source": [
    "##### Step 5: Add multiple water sources"
   ]
  },
  {
   "cell_type": "code",
   "execution_count": null,
   "metadata": {},
   "outputs": [],
   "source": [
    "# ADD ANOTHER SOURCE. NEED TO PROVIDE A NEW SOURCE NAME.\n",
    "source_to_node_names = [['source1', 'ultrafiltration_twb_start']]\n",
    "T = wt.treatment_train_design.add_multiple_water_sources(T,\n",
    "                                              number_of_additional_sources = 1,\n",
    "                                              source_water_reference = 'Poseidon',\n",
    "                                              source_water_type = 'Wastewater',\n",
    "                                              source_water_case_study = 'Typical untreated domestic wastewater',\n",
    "                                              source_to_node_names=source_to_node_names,\n",
    "                                              flow = 0)"
   ]
  },
  {
   "cell_type": "code",
   "execution_count": null,
   "metadata": {},
   "outputs": [],
   "source": [
    "wt.display.show_train(T)"
   ]
  },
  {
   "cell_type": "markdown",
   "metadata": {},
   "source": [
    "##### Step 6: Add multiple end use water source"
   ]
  },
  {
   "cell_type": "code",
   "execution_count": null,
   "metadata": {},
   "outputs": [],
   "source": [
    "# ADD ANOTHER END USE \n",
    "node_to_use_names = [['chlorination_twb_end', 'use2']]\n",
    "T = wt.treatment_train_design.add_multiple_water_enduses(T,\n",
    "                                              number_of_additional_ends = 1,\n",
    "                                              enduse_water_reference = 'Poseidon',\n",
    "                                              enduse_water_type = 'Wastewater',\n",
    "                                              enduse_water_case_study = 'Typical untreated domestic wastewater',\n",
    "                                              node_to_end_names= node_to_use_names,\n",
    "                                              min_flow = 0)"
   ]
  },
  {
   "cell_type": "code",
   "execution_count": null,
   "metadata": {},
   "outputs": [],
   "source": [
    "wt.display.show_train(T)"
   ]
  },
  {
   "cell_type": "markdown",
   "metadata": {},
   "source": [
    "##### Step 7: Add a stream from any point to any point. For this, user must define the type of stream being added. Options are: feedwater_stream, waste_stream, use_stream, recycle_stream, source_and_recycle_stream, treatment_process"
   ]
  },
  {
   "cell_type": "code",
   "execution_count": null,
   "metadata": {},
   "outputs": [],
   "source": [
    "for edge in T.edges():\n",
    "    print(T.edges[edge]['name'], '----->>>' , T.edges[edge]['type'])"
   ]
  },
  {
   "cell_type": "code",
   "execution_count": null,
   "metadata": {},
   "outputs": [],
   "source": [
    "T = wt.treatment_train_design.add_stream(T, \n",
    "                                         from_node = 'microfiltration_twb_end', \n",
    "                                        to_node = 'use2',\n",
    "                                        stream_name = 'treated_stream_example',\n",
    "                                        stream_type = 'treated_stream') # TODO"
   ]
  },
  {
   "cell_type": "code",
   "execution_count": null,
   "metadata": {},
   "outputs": [],
   "source": [
    "wt.display.show_train(T)"
   ]
  },
  {
   "cell_type": "markdown",
   "metadata": {},
   "source": [
    "##### Step 8: Remove unit process"
   ]
  },
  {
   "cell_type": "code",
   "execution_count": null,
   "metadata": {},
   "outputs": [],
   "source": []
  },
  {
   "cell_type": "code",
   "execution_count": null,
   "metadata": {},
   "outputs": [],
   "source": [
    "T = wt.filter_processes.remove_single_process(T, process_name = 'ultrafiltration_twb')"
   ]
  },
  {
   "cell_type": "code",
   "execution_count": null,
   "metadata": {},
   "outputs": [],
   "source": [
    "wt.display.show_train(T)"
   ]
  },
  {
   "cell_type": "markdown",
   "metadata": {},
   "source": [
    "##### Step 9: Save and load treatment train"
   ]
  },
  {
   "cell_type": "code",
   "execution_count": null,
   "metadata": {},
   "outputs": [],
   "source": [
    "#### SAVE TRAIN ####\n",
    "path = 'trains/Tutorial1_treatment_train_example.csv'\n",
    "wt.save_train(T, path)"
   ]
  },
  {
   "cell_type": "code",
   "execution_count": null,
   "metadata": {},
   "outputs": [],
   "source": [
    "#### LOAD TRAIN ####\n",
    "path = 'trains/Tutorial1_treatment_train_example.csv'\n",
    "TT = wt.load_train(path)"
   ]
  },
  {
   "cell_type": "code",
   "execution_count": null,
   "metadata": {},
   "outputs": [],
   "source": [
    "wt.display.show_train(TT)"
   ]
  },
  {
   "cell_type": "code",
   "execution_count": null,
   "metadata": {},
   "outputs": [],
   "source": []
  },
  {
   "cell_type": "code",
   "execution_count": null,
   "metadata": {},
   "outputs": [],
   "source": []
  },
  {
   "cell_type": "code",
   "execution_count": null,
   "metadata": {},
   "outputs": [],
   "source": []
  },
  {
   "cell_type": "code",
   "execution_count": null,
   "metadata": {},
   "outputs": [],
   "source": []
  },
  {
   "cell_type": "code",
   "execution_count": null,
   "metadata": {},
   "outputs": [],
   "source": []
  }
 ],
 "metadata": {
  "celltoolbar": "Raw Cell Format",
  "kernelspec": {
   "display_name": "Python [conda env:water-hubv2] *",
   "language": "python",
   "name": "conda-env-water-hubv2-py"
  },
  "language_info": {
   "codemirror_mode": {
    "name": "ipython",
    "version": 3
   },
   "file_extension": ".py",
   "mimetype": "text/x-python",
   "name": "python",
   "nbconvert_exporter": "python",
   "pygments_lexer": "ipython3",
   "version": "3.7.0"
  }
 },
 "nbformat": 4,
 "nbformat_minor": 2
}
