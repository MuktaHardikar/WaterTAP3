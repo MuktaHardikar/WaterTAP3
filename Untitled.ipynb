{
 "cells": [
  {
   "cell_type": "code",
   "execution_count": 39,
   "metadata": {},
   "outputs": [],
   "source": [
    "%matplotlib inline\n",
    "from pylab import *\n",
    "\n",
    "import shutil\n",
    "import sys\n",
    "import os.path\n",
    "import pandas as pd\n",
    "import numpy as np\n",
    "\n",
    "import matplotlib.pyplot as plt\n",
    "from scipy.optimize import fsolve\n",
    "from scipy.optimize import minimize\n",
    "import itertools\n",
    "import pyomo.environ as env\n",
    "import ast\n",
    "from pyomo.environ import *\n",
    "#solver = env.SolverFactory(\"ipopt\")"
   ]
  },
  {
   "cell_type": "code",
   "execution_count": 44,
   "metadata": {},
   "outputs": [
    {
     "name": "stdout",
     "output_type": "stream",
     "text": [
      "Profit =  1600.0  per week\n",
      "X =  40.0  units per week\n",
      "Profit =  1560.0  per week\n",
      "X =  40.0  units per week\n",
      "Profit =  1520.0  per week\n",
      "X =  40.0  units per week\n",
      "Profit =  1480.0  per week\n",
      "X =  40.0  units per week\n",
      "Profit =  1440.0  per week\n",
      "X =  40.0  units per week\n",
      "Profit =  1400.0  per week\n",
      "X =  40.0  units per week\n",
      "Profit =  1360.0  per week\n",
      "X =  40.0  units per week\n",
      "Profit =  1320.0  per week\n",
      "X =  40.0  units per week\n",
      "Profit =  1280.0  per week\n",
      "X =  40.0  units per week\n",
      "Profit =  1240.0  per week\n",
      "X =  40.0  units per week\n",
      "Profit =  1200.0  per week\n",
      "X =  40.0  units per week\n",
      "Profit =  1160.0  per week\n",
      "X =  40.0  units per week\n",
      "Profit =  1120.0  per week\n",
      "X =  40.0  units per week\n",
      "Profit =  1080.0  per week\n",
      "X =  40.0  units per week\n",
      "Profit =  1040.0  per week\n",
      "X =  40.0  units per week\n",
      "Profit =  1000.0  per week\n",
      "X =  40.0  units per week\n",
      "Profit =  960.0  per week\n",
      "X =  40.0  units per week\n",
      "Profit =  920.0  per week\n",
      "X =  40.0  units per week\n",
      "Profit =  880.0  per week\n",
      "X =  40.0  units per week\n",
      "Profit =  840.0  per week\n",
      "X =  40.0  units per week\n",
      "Profit =  800.0  per week\n",
      "X =  40.0  units per week\n",
      "Profit =  760.0  per week\n",
      "X =  40.0  units per week\n",
      "Profit =  720.0  per week\n",
      "X =  40.0  units per week\n",
      "Profit =  680.0  per week\n",
      "X =  40.0  units per week\n",
      "Profit =  640.0  per week\n",
      "X =  40.0  units per week\n",
      "Profit =  600.0  per week\n",
      "X =  40.0  units per week\n",
      "Profit =  560.0  per week\n",
      "X =  40.0  units per week\n",
      "Profit =  520.0  per week\n",
      "X =  40.0  units per week\n",
      "Profit =  480.0  per week\n",
      "X =  40.0  units per week\n",
      "Profit =  440.0  per week\n",
      "X =  40.0  units per week\n",
      "Profit =  400.0  per week\n",
      "X =  40.0  units per week\n",
      "Profit =  360.0  per week\n",
      "X =  40.0  units per week\n",
      "Profit =  320.0  per week\n",
      "X =  40.0  units per week\n",
      "Profit =  280.0  per week\n",
      "X =  40.0  units per week\n",
      "Profit =  240.0  per week\n",
      "X =  40.0  units per week\n",
      "Profit =  200.0  per week\n",
      "X =  40.0  units per week\n",
      "Profit =  160.0  per week\n",
      "X =  40.0  units per week\n",
      "Profit =  120.0  per week\n",
      "X =  40.0  units per week\n",
      "Profit =  80.0  per week\n",
      "X =  40.0  units per week\n",
      "Profit =  40.0  per week\n",
      "X =  40.0  units per week\n"
     ]
    }
   ],
   "source": [
    "for net_profit_change in range(0, 40):\n",
    "    model = ConcreteModel()\n",
    "\n",
    "    # declare decision variables\n",
    "    model.x = Var(domain=NonNegativeReals)\n",
    "    \n",
    "    # declare objective\n",
    "    model.profit = Objective(\n",
    "        expr = (40-net_profit_change)*model.x,\n",
    "        sense = maximize)\n",
    "\n",
    "    # declare constraints\n",
    "    model.demand = Constraint(expr = model.x <= 40)\n",
    "    model.laborA = Constraint(expr = model.x <= 80)\n",
    "    model.laborB = Constraint(expr = 2*model.x <= 100)\n",
    "\n",
    "    # solve\n",
    "    SolverFactory('cbc').solve(model) #.write()\n",
    "\n",
    "    print(\"Profit = \", model.profit(), \" per week\")\n",
    "    print(\"X = \", model.x(), \" units per week\")\n",
    "    \n",
    "    if model.profit() < 0: break\n",
    "    "
   ]
  },
  {
   "cell_type": "code",
   "execution_count": 42,
   "metadata": {},
   "outputs": [
    {
     "name": "stdout",
     "output_type": "stream",
     "text": [
      "Profit =  1600.0  per week\n",
      "X =  40.0  units per week\n"
     ]
    }
   ],
   "source": [
    "print(\"Profit = \", model.profit(), \" per week\")\n",
    "print(\"X = \", model.x(), \" units per week\")"
   ]
  },
  {
   "cell_type": "code",
   "execution_count": null,
   "metadata": {},
   "outputs": [],
   "source": []
  },
  {
   "cell_type": "code",
   "execution_count": null,
   "metadata": {},
   "outputs": [],
   "source": []
  },
  {
   "cell_type": "code",
   "execution_count": null,
   "metadata": {},
   "outputs": [],
   "source": []
  },
  {
   "cell_type": "code",
   "execution_count": 46,
   "metadata": {},
   "outputs": [],
   "source": [
    "# iterative1.py\n",
    "import pyomo.environ as pyo\n",
    "from pyomo.opt import SolverFactory\n",
    "\n"
   ]
  },
  {
   "cell_type": "code",
   "execution_count": 61,
   "metadata": {},
   "outputs": [],
   "source": [
    "# problem parameters\n",
    "T = 5        # planning period from 1..T\n",
    "M = 3         # length of maintenance period\n",
    "P = 4         # number of maintenance periods\n",
    "\n",
    "# daily profits\n",
    "c = {k:np.random.uniform() for k in range(1, T+1)}"
   ]
  },
  {
   "cell_type": "code",
   "execution_count": 62,
   "metadata": {},
   "outputs": [
    {
     "data": {
      "text/plain": [
       "{1: 0.21715178682179137,\n",
       " 2: 0.8869767750801094,\n",
       " 3: 0.5910022842519581,\n",
       " 4: 0.7660462099477517,\n",
       " 5: 0.7273560562241846}"
      ]
     },
     "execution_count": 62,
     "metadata": {},
     "output_type": "execute_result"
    }
   ],
   "source": [
    "c"
   ]
  },
  {
   "cell_type": "code",
   "execution_count": null,
   "metadata": {},
   "outputs": [],
   "source": []
  },
  {
   "cell_type": "code",
   "execution_count": null,
   "metadata": {},
   "outputs": [],
   "source": []
  },
  {
   "cell_type": "code",
   "execution_count": null,
   "metadata": {},
   "outputs": [],
   "source": []
  },
  {
   "cell_type": "code",
   "execution_count": null,
   "metadata": {},
   "outputs": [],
   "source": []
  },
  {
   "cell_type": "code",
   "execution_count": 63,
   "metadata": {
    "scrolled": true
   },
   "outputs": [
    {
     "name": "stderr",
     "output_type": "stream",
     "text": [
      "/Users/amiara/miniconda3/envs/water-hubv2/lib/python3.7/site-packages/ipykernel_launcher.py:12: DeprecationWarning: Calling np.sum(generator) is deprecated, and in the future will give a different result. Use np.sum(np.fromiter(generator)) or the python sum builtin instead.\n",
      "  if sys.path[0] == '':\n",
      "/Users/amiara/miniconda3/envs/water-hubv2/lib/python3.7/site-packages/ipykernel_launcher.py:15: DeprecationWarning: Calling np.sum(generator) is deprecated, and in the future will give a different result. Use np.sum(np.fromiter(generator)) or the python sum builtin instead.\n",
      "  from ipykernel import kernelapp as app\n",
      "/Users/amiara/miniconda3/envs/water-hubv2/lib/python3.7/site-packages/ipykernel_launcher.py:18: DeprecationWarning: Calling np.sum(generator) is deprecated, and in the future will give a different result. Use np.sum(np.fromiter(generator)) or the python sum builtin instead.\n"
     ]
    },
    {
     "name": "stdout",
     "output_type": "stream",
     "text": [
      "WARNING: Loading a SolverResults object with a warning status into\n",
      "    model=unknown;\n",
      "        message from solver=<undefined>\n",
      "# ==========================================================\n",
      "# = Solver Results                                         =\n",
      "# ==========================================================\n",
      "# ----------------------------------------------------------\n",
      "#   Problem Information\n",
      "# ----------------------------------------------------------\n",
      "Problem: \n",
      "- Name: unknown\n",
      "  Lower bound: -inf\n",
      "  Upper bound: None\n",
      "  Number of objectives: 1\n",
      "  Number of constraints: 5\n",
      "  Number of variables: 11\n",
      "  Number of binary variables: 10\n",
      "  Number of integer variables: 10\n",
      "  Number of nonzeros: 5\n",
      "  Sense: maximize\n",
      "# ----------------------------------------------------------\n",
      "#   Solver Information\n",
      "# ----------------------------------------------------------\n",
      "Solver: \n",
      "- Status: warning\n",
      "  User time: -1.0\n",
      "  System time: 0.02\n",
      "  Wallclock time: 0.02\n",
      "  Termination condition: infeasible\n",
      "  Termination message: Model was proven to be infeasible.\n",
      "  Statistics: \n",
      "    Branch and bound: \n",
      "      Number of bounded subproblems: None\n",
      "      Number of created subproblems: None\n",
      "  Error rc: 0\n",
      "  Time: 0.09511709213256836\n"
     ]
    }
   ],
   "source": [
    "m = pyo.ConcreteModel()\n",
    "\n",
    "m.T = pyo.RangeSet(1, T)\n",
    "m.Y = pyo.RangeSet(1, T - M + 1)\n",
    "m.S = pyo.RangeSet(0, M - 1)\n",
    "\n",
    "m.c = pyo.Param(m.T, initialize = c)\n",
    "m.x = pyo.Var(m.T, domain=pyo.Binary)\n",
    "m.y = pyo.Var(m.T, domain=pyo.Binary)\n",
    "\n",
    "# objective\n",
    "m.profit = pyo.Objective(expr = sum(m.c[t]*m.x[t] for t in m.T), sense=pyo.maximize)\n",
    "\n",
    "# required number P of maintenance starts\n",
    "m.sumy = pyo.Constraint(expr = sum(m.y[t] for t in m.Y) == P)\n",
    "\n",
    "# no more than one maintenance start in the period of length M\n",
    "m.sprd = pyo.Constraint(m.Y, rule = lambda m, t: sum(m.y[t+s] for s in m.S) <= 1)\n",
    "\n",
    "# disjunctive constraints\n",
    "m.bigm = pyo.Constraint(m.Y, rule = lambda m, t: sum(m.x[t+s] for s in m.S) <= M*(1 - m.y[t]))\n",
    "    \n",
    "\n",
    "   \n",
    "#m = maintenance_planning_bigm(c, T, M, P)\n",
    "pyo.SolverFactory('cbc').solve(m).write()"
   ]
  },
  {
   "cell_type": "code",
   "execution_count": 59,
   "metadata": {},
   "outputs": [
    {
     "name": "stdout",
     "output_type": "stream",
     "text": [
      "{1: 1.0, 2: 1.0, 3: 1.0, 4: 1.0, 5: 1.0, 6: 1.0, 7: 1.0, 8: 1.0, 9: 1.0, 10: 1.0, 11: 1.0, 12: 1.0, 13: 1.0, 14: 1.0, 15: 1.0, 16: 1.0, 17: 1.0, 18: 1.0, 19: 1.0, 20: 1.0, 21: 1.0, 22: 1.0, 23: 1.0, 24: 1.0, 25: 1.0, 26: 1.0, 27: 1.0, 28: 1.0, 29: 1.0, 30: 0.0, 31: 0.0, 32: 0.0, 33: 1.0, 34: 1.0, 35: 1.0, 36: 1.0, 37: 1.0, 38: 0.0, 39: 0.0, 40: 0.0, 41: 1.0, 42: 1.0, 43: 1.0, 44: 1.0, 45: 1.0, 46: 1.0, 47: 1.0, 48: 1.0, 49: 1.0, 50: 1.0, 51: 1.0, 52: 1.0, 53: 1.0, 54: 1.0, 55: 1.0, 56: 0.0, 57: 0.0, 58: 0.0, 59: 0.0, 60: 0.0, 61: 0.0, 62: 1.0, 63: 1.0, 64: 1.0, 65: 1.0, 66: 1.0, 67: 1.0, 68: 1.0, 69: 1.0, 70: 1.0, 71: 1.0, 72: 1.0, 73: 1.0, 74: 1.0, 75: 1.0, 76: 1.0, 77: 1.0, 78: 1.0, 79: 1.0, 80: 1.0, 81: 1.0, 82: 1.0, 83: 1.0, 84: 1.0, 85: 1.0, 86: 1.0, 87: 1.0, 88: 1.0, 89: 1.0, 90: 1.0}\n"
     ]
    }
   ],
   "source": [
    "print({j: pyo.value(m.x[j]) for j in m.T})"
   ]
  },
  {
   "cell_type": "code",
   "execution_count": null,
   "metadata": {},
   "outputs": [],
   "source": []
  },
  {
   "cell_type": "code",
   "execution_count": null,
   "metadata": {},
   "outputs": [],
   "source": []
  },
  {
   "cell_type": "code",
   "execution_count": 57,
   "metadata": {},
   "outputs": [
    {
     "data": {
      "image/png": "[encoded data removed]",
      "text/plain": [
       "<Figure size 648x288 with 3 Axes>"
      ]
     },
     "metadata": {
      "needs_background": "light"
     },
     "output_type": "display_data"
    }
   ],
   "source": [
    "def plot_schedule(m):\n",
    "    fig,ax = plt.subplots(3,1, figsize=(9,4))\n",
    "    \n",
    "    ax[0].bar(m.T, [m.c[t] for t in m.T])\n",
    "    ax[0].set_title('daily profit $c_t$')\n",
    "    \n",
    "    ax[1].bar(m.T, [m.x[t]() for t in m.T], label='normal operation')\n",
    "    ax[1].set_title('unit operating schedule $x_t$')\n",
    "    \n",
    "    ax[2].bar(m.Y, [m.y[t]() for t in m.Y])\n",
    "    ax[2].set_title(str(P) + ' maintenance starts $y_t$')\n",
    "    for a in ax:\n",
    "        a.set_xlim(0.1, len(m.T)+0.9)\n",
    "        \n",
    "    plt.tight_layout()\n",
    "\n",
    "plot_schedule(m)"
   ]
  },
  {
   "cell_type": "code",
   "execution_count": null,
   "metadata": {},
   "outputs": [],
   "source": []
  },
  {
   "cell_type": "code",
   "execution_count": null,
   "metadata": {},
   "outputs": [],
   "source": []
  },
  {
   "cell_type": "code",
   "execution_count": null,
   "metadata": {},
   "outputs": [],
   "source": []
  },
  {
   "cell_type": "code",
   "execution_count": null,
   "metadata": {},
   "outputs": [],
   "source": []
  },
  {
   "cell_type": "code",
   "execution_count": 64,
   "metadata": {},
   "outputs": [
    {
     "name": "stderr",
     "output_type": "stream",
     "text": [
      "/Users/amiara/miniconda3/envs/water-hubv2/lib/python3.7/site-packages/ipykernel_launcher.py:8: DeprecationWarning: Calling np.sum(generator) is deprecated, and in the future will give a different result. Use np.sum(np.fromiter(generator)) or the python sum builtin instead.\n",
      "  \n",
      "/Users/amiara/miniconda3/envs/water-hubv2/lib/python3.7/site-packages/ipykernel_launcher.py:10: DeprecationWarning: Calling np.sum(generator) is deprecated, and in the future will give a different result. Use np.sum(np.fromiter(generator)) or the python sum builtin instead.\n",
      "  # Remove the CWD from sys.path while we load stuff.\n"
     ]
    }
   ],
   "source": [
    "v = {'hammer':8, 'wrench':3, 'screwdriver':6, 'towel':11}\n",
    "w = {'hammer':5, 'wrench':7, 'screwdriver':4, 'towel':3}\n",
    "limit = 14\n",
    "model = ConcreteModel()\n",
    "model.ITEMS = Set(initialize=v.keys())\n",
    "model.x = Var(model.ITEMS, within=Binary)\n",
    "model.value = Objective(expr=sum(v[i]*model.x[i] for i in model.ITEMS), sense=maximize)\n",
    "model.weight = Constraint(expr=sum(w[i]*model.x[i] for i in model.ITEMS) <= limit)"
   ]
  },
  {
   "cell_type": "code",
   "execution_count": 73,
   "metadata": {},
   "outputs": [
    {
     "name": "stdout",
     "output_type": "stream",
     "text": [
      "# ==========================================================\n",
      "# = Solver Results                                         =\n",
      "# ==========================================================\n",
      "# ----------------------------------------------------------\n",
      "#   Problem Information\n",
      "# ----------------------------------------------------------\n",
      "Problem: \n",
      "- Name: unknown\n",
      "  Lower bound: -inf\n",
      "  Upper bound: inf\n",
      "  Number of objectives: 1\n",
      "  Number of constraints: 5\n",
      "  Number of variables: 11\n",
      "  Number of nonzeros: 13\n",
      "  Sense: maximize\n",
      "# ----------------------------------------------------------\n",
      "#   Solver Information\n",
      "# ----------------------------------------------------------\n",
      "Solver: \n",
      "- Status: ok\n",
      "  Termination condition: infeasible\n",
      "  Statistics: \n",
      "    Branch and bound: \n",
      "      Number of bounded subproblems: 0\n",
      "      Number of created subproblems: 0\n",
      "  Error rc: 0\n",
      "  Time: 0.053930044174194336\n"
     ]
    }
   ],
   "source": [
    "env.SolverFactory('glpk').solve(m).write()"
   ]
  },
  {
   "cell_type": "code",
   "execution_count": 77,
   "metadata": {},
   "outputs": [
    {
     "ename": "SyntaxError",
     "evalue": "invalid syntax (<ipython-input-77-61e509d38cf3>, line 1)",
     "output_type": "error",
     "traceback": [
      "\u001b[0;36m  File \u001b[0;32m\"<ipython-input-77-61e509d38cf3>\"\u001b[0;36m, line \u001b[0;32m1\u001b[0m\n\u001b[0;31m    v w\u001b[0m\n\u001b[0m      ^\u001b[0m\n\u001b[0;31mSyntaxError\u001b[0m\u001b[0;31m:\u001b[0m invalid syntax\n"
     ]
    }
   ],
   "source": [
    "v w"
   ]
  },
  {
   "cell_type": "code",
   "execution_count": 78,
   "metadata": {},
   "outputs": [
    {
     "ename": "AttributeError",
     "evalue": "'ConcreteModel' object has no attribute 'dat'",
     "output_type": "error",
     "traceback": [
      "\u001b[0;31m---------------------------------------------------------------------------\u001b[0m",
      "\u001b[0;31mAttributeError\u001b[0m                            Traceback (most recent call last)",
      "\u001b[0;32m<ipython-input-78-88f7f510299c>\u001b[0m in \u001b[0;36m<module>\u001b[0;34m\u001b[0m\n\u001b[0;32m----> 1\u001b[0;31m \u001b[0mmodel\u001b[0m\u001b[0;34m.\u001b[0m\u001b[0mdat\u001b[0m\u001b[0;34m\u001b[0m\u001b[0m\n\u001b[0m",
      "\u001b[0;32m~/miniconda3/envs/water-hubv2/lib/python3.7/site-packages/pyomo/core/base/block.py\u001b[0m in \u001b[0;36m__getattr__\u001b[0;34m(self, val)\u001b[0m\n\u001b[1;32m    522\u001b[0m         \u001b[0;31m# throw the \"normal\" AttributeError\u001b[0m\u001b[0;34m\u001b[0m\u001b[0;34m\u001b[0m\u001b[0m\n\u001b[1;32m    523\u001b[0m         raise AttributeError(\"'%s' object has no attribute '%s'\"\n\u001b[0;32m--> 524\u001b[0;31m                              % (self.__class__.__name__, val))\n\u001b[0m\u001b[1;32m    525\u001b[0m \u001b[0;34m\u001b[0m\u001b[0m\n\u001b[1;32m    526\u001b[0m     \u001b[0;32mdef\u001b[0m \u001b[0m__setattr__\u001b[0m\u001b[0;34m(\u001b[0m\u001b[0mself\u001b[0m\u001b[0;34m,\u001b[0m \u001b[0mname\u001b[0m\u001b[0;34m,\u001b[0m \u001b[0mval\u001b[0m\u001b[0;34m)\u001b[0m\u001b[0;34m:\u001b[0m\u001b[0;34m\u001b[0m\u001b[0m\n",
      "\u001b[0;31mAttributeError\u001b[0m: 'ConcreteModel' object has no attribute 'dat'"
     ]
    }
   ],
   "source": [
    "model.dat"
   ]
  },
  {
   "cell_type": "code",
   "execution_count": null,
   "metadata": {},
   "outputs": [],
   "source": []
  },
  {
   "cell_type": "code",
   "execution_count": null,
   "metadata": {},
   "outputs": [],
   "source": []
  },
  {
   "cell_type": "code",
   "execution_count": null,
   "metadata": {},
   "outputs": [],
   "source": []
  },
  {
   "cell_type": "code",
   "execution_count": null,
   "metadata": {},
   "outputs": [],
   "source": []
  },
  {
   "cell_type": "code",
   "execution_count": null,
   "metadata": {},
   "outputs": [],
   "source": []
  },
  {
   "cell_type": "code",
   "execution_count": null,
   "metadata": {},
   "outputs": [],
   "source": []
  },
  {
   "cell_type": "code",
   "execution_count": null,
   "metadata": {},
   "outputs": [],
   "source": []
  },
  {
   "cell_type": "code",
   "execution_count": null,
   "metadata": {},
   "outputs": [],
   "source": []
  },
  {
   "cell_type": "code",
   "execution_count": null,
   "metadata": {},
   "outputs": [],
   "source": []
  }
 ],
 "metadata": {
  "kernelspec": {
   "display_name": "Python [conda env:water-hubv2]",
   "language": "python",
   "name": "conda-env-water-hubv2-py"
  },
  "language_info": {
   "codemirror_mode": {
    "name": "ipython",
    "version": 3
   },
   "file_extension": ".py",
   "mimetype": "text/x-python",
   "name": "python",
   "nbconvert_exporter": "python",
   "pygments_lexer": "ipython3",
   "version": "3.7.0"
  }
 },
 "nbformat": 4,
 "nbformat_minor": 2
}
