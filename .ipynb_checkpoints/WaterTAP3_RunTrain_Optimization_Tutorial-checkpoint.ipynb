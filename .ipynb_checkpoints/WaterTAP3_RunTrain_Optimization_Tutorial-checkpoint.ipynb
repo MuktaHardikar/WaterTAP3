{
 "cells": [
  {
   "cell_type": "code",
   "execution_count": null,
   "metadata": {},
   "outputs": [],
   "source": [
    "%matplotlib inline\n",
    "from pylab import *\n",
    "import pandas as pd\n",
    "import numpy as np\n",
    "import matplotlib.pyplot as plt\n",
    "import os \n",
    "import seaborn as sns"
   ]
  },
  {
   "cell_type": "markdown",
   "metadata": {},
   "source": [
    "### This is a tutorial for demonstrating optimization across trains and/or unit processes. This demo is specific for the BOR RO model and selects the least cost system for a given flow. The steps are:\n",
    "#### 1. Load membrane option table.\n",
    "#### 2. Load individual trains, each with a different membrane, and save the results.\n",
    "#### 3. Check results and see which train is least cost (to be check vs. optimzied solution in step 6).\n",
    "#### 4. Load train that contains all train options.\n",
    "#### 5. Run model to select least cost.\n",
    "#### 6. Check results"
   ]
  },
  {
   "cell_type": "markdown",
   "metadata": {},
   "source": [
    "\n",
    "##### Import WaterTAP3 Package"
   ]
  },
  {
   "cell_type": "code",
   "execution_count": null,
   "metadata": {},
   "outputs": [],
   "source": [
    "import watertap as wt"
   ]
  },
  {
   "cell_type": "markdown",
   "metadata": {},
   "source": [
    "##### Step 1: Load membrane option table."
   ]
  },
  {
   "cell_type": "code",
   "execution_count": null,
   "metadata": {},
   "outputs": [],
   "source": [
    "membrane_option_table = pd.read_csv('data/membrane_options.csv')\n",
    "membrane_option_table.head()"
   ]
  },
  {
   "cell_type": "markdown",
   "metadata": {},
   "source": [
    "##### Step 2: Load individual trains, run each model, and save results in a table."
   ]
  },
  {
   "cell_type": "code",
   "execution_count": null,
   "metadata": {
    "scrolled": false
   },
   "outputs": [],
   "source": [
    "# set up empty table that results will be saved to\n",
    "final_results = pd.DataFrame()\n",
    "\n",
    "# directory name for treatment trains\n",
    "directory_name = 'trains/bor_trains'                          \n",
    "directory = os.fsencode(directory_name)\n",
    "\n",
    "# loop through each individual train, build and run model, save results.\n",
    "for file in os.listdir(directory):    \n",
    "    filename = os.fsdecode(file)\n",
    "    path = ('%s/%s' % (directory_name, filename))\n",
    "    T = wt.load_train(path)\n",
    "    \n",
    "    # set inflow\n",
    "    T.nodes['source']['Flow'] = 5000\n",
    "    \n",
    "    # build and run model\n",
    "    M = wt.build_model(T)\n",
    "    model_solution = wt.run_model(model=M)\n",
    "    \n",
    "    # get results and save in a table -> 'final_results'\n",
    "    analysis_variables = ['Flow', 'Cost']\n",
    "    model_results = wt.post_processing.get_result_table(M, analysis_variables)\n",
    "    model_results['membrane_scenario'] = np.array(filename[4:-4])\n",
    "    final_results = pd.concat([final_results, model_results])"
   ]
  },
  {
   "cell_type": "code",
   "execution_count": null,
   "metadata": {},
   "outputs": [],
   "source": [
    "final_results.tail()"
   ]
  },
  {
   "cell_type": "markdown",
   "metadata": {},
   "source": [
    "\n",
    "##### 3. Check results and see which train is least cost (to be check vs. optimzied solution in step 6)."
   ]
  },
  {
   "cell_type": "code",
   "execution_count": null,
   "metadata": {},
   "outputs": [],
   "source": [
    "bar_chart = wt.post_processing.get_bar_chart(data = final_results, y_variable = 'Cost', \n",
    "                                      compare_scenario = 'membrane_scenario')"
   ]
  },
  {
   "cell_type": "code",
   "execution_count": null,
   "metadata": {},
   "outputs": [],
   "source": [
    "final_results[final_results.Cost != 0].loc['ro_bor']"
   ]
  },
  {
   "cell_type": "markdown",
   "metadata": {},
   "source": [
    "\n",
    "##### 4. Load train that contains all train options."
   ]
  },
  {
   "cell_type": "code",
   "execution_count": null,
   "metadata": {},
   "outputs": [],
   "source": [
    "#### LOAD TRAIN ####\n",
    "path = 'trains/Tutorial3_optimization_treatment_train_bor_example.csv'\n",
    "T = wt.load_train(path)\n",
    "wt.display.show_train(T)"
   ]
  },
  {
   "cell_type": "code",
   "execution_count": null,
   "metadata": {},
   "outputs": [],
   "source": [
    "T.nodes['source']['Flow'] = 5000 # sets flow. units in m3/d. 37854.118 m3/d = 10 million gallons per day "
   ]
  },
  {
   "cell_type": "markdown",
   "metadata": {},
   "source": [
    "##### 5. Run model to select least cost."
   ]
  },
  {
   "cell_type": "code",
   "execution_count": null,
   "metadata": {},
   "outputs": [],
   "source": [
    "M = wt.build_model(T) \n",
    "results = wt.run_model(model = M) # choice of objective"
   ]
  },
  {
   "cell_type": "markdown",
   "metadata": {},
   "source": [
    "##### Step 5: Check results"
   ]
  },
  {
   "cell_type": "code",
   "execution_count": null,
   "metadata": {},
   "outputs": [],
   "source": [
    "analysis_variables = ['Flow', 'Cost']"
   ]
  },
  {
   "cell_type": "code",
   "execution_count": null,
   "metadata": {},
   "outputs": [],
   "source": [
    "model_results = wt.post_processing.get_optimization_result_table(T, M, analysis_variables, ro_membrane = True)"
   ]
  },
  {
   "cell_type": "code",
   "execution_count": null,
   "metadata": {},
   "outputs": [],
   "source": [
    "model_results"
   ]
  },
  {
   "cell_type": "code",
   "execution_count": null,
   "metadata": {},
   "outputs": [],
   "source": []
  },
  {
   "cell_type": "code",
   "execution_count": null,
   "metadata": {},
   "outputs": [],
   "source": []
  },
  {
   "cell_type": "code",
   "execution_count": null,
   "metadata": {},
   "outputs": [],
   "source": []
  },
  {
   "cell_type": "code",
   "execution_count": null,
   "metadata": {},
   "outputs": [],
   "source": []
  },
  {
   "cell_type": "code",
   "execution_count": null,
   "metadata": {},
   "outputs": [],
   "source": []
  },
  {
   "cell_type": "code",
   "execution_count": null,
   "metadata": {},
   "outputs": [],
   "source": []
  },
  {
   "cell_type": "code",
   "execution_count": null,
   "metadata": {},
   "outputs": [],
   "source": []
  },
  {
   "cell_type": "code",
   "execution_count": null,
   "metadata": {},
   "outputs": [],
   "source": []
  },
  {
   "cell_type": "code",
   "execution_count": null,
   "metadata": {},
   "outputs": [],
   "source": []
  }
 ],
 "metadata": {
  "celltoolbar": "Raw Cell Format",
  "kernelspec": {
   "display_name": "Python [conda env:water-hubv2]",
   "language": "python",
   "name": "conda-env-water-hubv2-py"
  },
  "language_info": {
   "codemirror_mode": {
    "name": "ipython",
    "version": 3
   },
   "file_extension": ".py",
   "mimetype": "text/x-python",
   "name": "python",
   "nbconvert_exporter": "python",
   "pygments_lexer": "ipython3",
   "version": "3.7.0"
  }
 },
 "nbformat": 4,
 "nbformat_minor": 2
}
