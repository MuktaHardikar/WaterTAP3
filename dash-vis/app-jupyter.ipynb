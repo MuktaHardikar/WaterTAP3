{
 "metadata": {
  "language_info": {
   "codemirror_mode": {
    "name": "ipython",
    "version": 3
   },
   "file_extension": ".py",
   "mimetype": "text/x-python",
   "name": "python",
   "nbconvert_exporter": "python",
   "pygments_lexer": "ipython3",
   "version": "3.8.3-final"
  },
  "orig_nbformat": 2,
  "kernelspec": {
   "name": "python3",
   "display_name": "Python 3",
   "language": "python"
  }
 },
 "nbformat": 4,
 "nbformat_minor": 2,
 "cells": [
  {
   "cell_type": "code",
   "execution_count": 3,
   "metadata": {},
   "outputs": [
    {
     "output_type": "display_data",
     "data": {
      "text/plain": "<IPython.lib.display.IFrame at 0x269118847c0>",
      "text/html": "\n        <iframe\n            width=\"100%\"\n            height=\"650\"\n            src=\"http://127.0.0.1:8051/\"\n            frameborder=\"0\"\n            allowfullscreen\n        ></iframe>\n        "
     },
     "metadata": {}
    }
   ],
   "source": [
    "from jupyter_dash import JupyterDash\n",
    "import dash_core_components as dcc\n",
    "import dash_html_components as html\n",
    "import plotly.express as px\n",
    "import pandas as pd\n",
    "from dash.dependencies import Input, Output\n",
    "\n",
    "external_stylesheets = ['https://codepen.io/chriddyp/pen/bWLwgP.css']\n",
    "\n",
    "app = JupyterDash(__name__, external_stylesheets=external_stylesheets)\n",
    "\n",
    "raw = pd.read_csv('./cost_results.csv',index_col=0)\n",
    "raw.index.names=['unit']\n",
    "raw = raw.reset_index()\n",
    "df = pd.melt(raw, id_vars=['unit'], value_vars=raw.columns.to_list()[1:])\n",
    "\n",
    "all_uni = df['unit'].unique()\n",
    "all_var = df['variable'].unique()\n",
    "\n",
    "app.layout = html.Div([\n",
    "    html.Div([\n",
    "        html.H2(children='Cost results for WaterTAP3'\n",
    "        ), \n",
    "    ], style={'width': '60%', 'textAlign': 'center'}),\n",
    "\n",
    "    html.Div([\n",
    "        html.Label('Select units:'),\n",
    "        dcc.Dropdown(\n",
    "            id='crossfilter-xaxis-column',\n",
    "            options=[{'label': i, 'value': i} for i in all_uni],\n",
    "            value = ['swoi','tri_media_filtration','cf'],\n",
    "            multi=True\n",
    "        ),\n",
    "    ], style={'width': '60%'}),\n",
    "    \n",
    "    html.Div([\n",
    "        html.Label('Select cost types:'),\n",
    "        dcc.Dropdown(\n",
    "            id='crossfilter-yaxis-column',\n",
    "            options=[{'label': j, 'value': j} for j in all_var],\n",
    "            value = ['fixed_cap_inv','total_up_cost','total_fixed_op_cost'],\n",
    "            multi=True\n",
    "        ),\n",
    "    ], style={'width': '60%'}),\n",
    "\n",
    "    html.Div([\n",
    "        dcc.Graph(\n",
    "            id='crossfilter-bar',\n",
    "        )\n",
    "    ], style={'width': '60%', 'display': 'inline-block', 'padding': '0 50'}),\n",
    "\n",
    "], style={'margin-top': '20px', 'margin-left': '50px'})\n",
    "\n",
    "@app.callback(\n",
    "    Output('crossfilter-bar', 'figure'),\n",
    "    [Input('crossfilter-xaxis-column', 'value'),\n",
    "     Input('crossfilter-yaxis-column', 'value')])\n",
    "def update_graph(xaxis_column_name, yaxis_column_name):\n",
    "    \n",
    "    ddf = df[(df['unit'].isin(xaxis_column_name))&(df['variable'].isin(yaxis_column_name))]\n",
    "    fig = px.bar(ddf, x='unit',y='value',color='variable')\n",
    "\n",
    "    fig.update_xaxes(title='unit')\n",
    "    fig.update_yaxes(title='value', type='linear')\n",
    "    fig.update_layout(margin={'l': 40, 'b': 40, 't': 10, 'r': 0}, hovermode='closest')\n",
    "\n",
    "    return fig\n",
    "\n",
    "app.run_server(mode='inline')"
   ]
  },
  {
   "cell_type": "code",
   "execution_count": null,
   "metadata": {},
   "outputs": [],
   "source": []
  }
 ]
}