{
 "metadata": {
  "language_info": {
   "codemirror_mode": {
    "name": "ipython",
    "version": 3
   },
   "file_extension": ".py",
   "mimetype": "text/x-python",
   "name": "python",
   "nbconvert_exporter": "python",
   "pygments_lexer": "ipython3",
   "version": "3.8.3-final"
  },
  "orig_nbformat": 2,
  "kernelspec": {
   "name": "python3",
   "display_name": "Python 3",
   "language": "python"
  }
 },
 "nbformat": 4,
 "nbformat_minor": 2,
 "cells": [
  {
   "cell_type": "code",
   "execution_count": 1,
   "metadata": {},
   "outputs": [],
   "source": [
    "import pandas as pd"
   ]
  },
  {
   "cell_type": "code",
   "execution_count": 13,
   "metadata": {},
   "outputs": [],
   "source": [
    "raw = pd.read_csv('./cost_results.csv',index_col=0)\n",
    "raw.index.names=['unit']\n",
    "raw = raw.reset_index()\n",
    "df = pd.melt(raw, id_vars=['unit'], value_vars=raw.columns.to_list()[1:])"
   ]
  },
  {
   "cell_type": "code",
   "execution_count": 14,
   "metadata": {},
   "outputs": [
    {
     "output_type": "execute_result",
     "data": {
      "text/plain": [
       "                     unit        variable      value\n",
       "0                    swoi   total_up_cost  23.366026\n",
       "1               coag_floc   total_up_cost  13.104165\n",
       "2    tri_media_filtration   total_up_cost  13.426630\n",
       "3                     SAA   total_up_cost   0.390702\n",
       "4                     SBA   total_up_cost   0.438049\n",
       "..                    ...             ...        ...\n",
       "268                   co2  other_var_cost  -0.000000\n",
       "269                 chlor  other_var_cost  -0.000000\n",
       "270               ammonia  other_var_cost  -0.000000\n",
       "271             TWS_24_hr  other_var_cost  -0.000000\n",
       "272                  muni  other_var_cost  -0.000000\n",
       "\n",
       "[273 rows x 3 columns]"
      ],
      "text/html": "<div>\n<style scoped>\n    .dataframe tbody tr th:only-of-type {\n        vertical-align: middle;\n    }\n\n    .dataframe tbody tr th {\n        vertical-align: top;\n    }\n\n    .dataframe thead th {\n        text-align: right;\n    }\n</style>\n<table border=\"1\" class=\"dataframe\">\n  <thead>\n    <tr style=\"text-align: right;\">\n      <th></th>\n      <th>unit</th>\n      <th>variable</th>\n      <th>value</th>\n    </tr>\n  </thead>\n  <tbody>\n    <tr>\n      <th>0</th>\n      <td>swoi</td>\n      <td>total_up_cost</td>\n      <td>23.366026</td>\n    </tr>\n    <tr>\n      <th>1</th>\n      <td>coag_floc</td>\n      <td>total_up_cost</td>\n      <td>13.104165</td>\n    </tr>\n    <tr>\n      <th>2</th>\n      <td>tri_media_filtration</td>\n      <td>total_up_cost</td>\n      <td>13.426630</td>\n    </tr>\n    <tr>\n      <th>3</th>\n      <td>SAA</td>\n      <td>total_up_cost</td>\n      <td>0.390702</td>\n    </tr>\n    <tr>\n      <th>4</th>\n      <td>SBA</td>\n      <td>total_up_cost</td>\n      <td>0.438049</td>\n    </tr>\n    <tr>\n      <th>...</th>\n      <td>...</td>\n      <td>...</td>\n      <td>...</td>\n    </tr>\n    <tr>\n      <th>268</th>\n      <td>co2</td>\n      <td>other_var_cost</td>\n      <td>-0.000000</td>\n    </tr>\n    <tr>\n      <th>269</th>\n      <td>chlor</td>\n      <td>other_var_cost</td>\n      <td>-0.000000</td>\n    </tr>\n    <tr>\n      <th>270</th>\n      <td>ammonia</td>\n      <td>other_var_cost</td>\n      <td>-0.000000</td>\n    </tr>\n    <tr>\n      <th>271</th>\n      <td>TWS_24_hr</td>\n      <td>other_var_cost</td>\n      <td>-0.000000</td>\n    </tr>\n    <tr>\n      <th>272</th>\n      <td>muni</td>\n      <td>other_var_cost</td>\n      <td>-0.000000</td>\n    </tr>\n  </tbody>\n</table>\n<p>273 rows × 3 columns</p>\n</div>"
     },
     "metadata": {},
     "execution_count": 14
    }
   ],
   "source": [
    "df"
   ]
  },
  {
   "cell_type": "code",
   "execution_count": 17,
   "metadata": {},
   "outputs": [],
   "source": [
    "xaxis_column_name = ['swoi']\n",
    "yaxis_column_name = ['total_up_cost']\n",
    "ddf = df[(df['unit'].isin(xaxis_column_name))&(df['variable'].isin(yaxis_column_name))]"
   ]
  },
  {
   "cell_type": "code",
   "execution_count": 18,
   "metadata": {},
   "outputs": [
    {
     "output_type": "execute_result",
     "data": {
      "text/plain": [
       "   unit       variable      value\n",
       "0  swoi  total_up_cost  23.366026"
      ],
      "text/html": "<div>\n<style scoped>\n    .dataframe tbody tr th:only-of-type {\n        vertical-align: middle;\n    }\n\n    .dataframe tbody tr th {\n        vertical-align: top;\n    }\n\n    .dataframe thead th {\n        text-align: right;\n    }\n</style>\n<table border=\"1\" class=\"dataframe\">\n  <thead>\n    <tr style=\"text-align: right;\">\n      <th></th>\n      <th>unit</th>\n      <th>variable</th>\n      <th>value</th>\n    </tr>\n  </thead>\n  <tbody>\n    <tr>\n      <th>0</th>\n      <td>swoi</td>\n      <td>total_up_cost</td>\n      <td>23.366026</td>\n    </tr>\n  </tbody>\n</table>\n</div>"
     },
     "metadata": {},
     "execution_count": 18
    }
   ],
   "source": [
    "ddf"
   ]
  },
  {
   "cell_type": "code",
   "execution_count": null,
   "metadata": {},
   "outputs": [],
   "source": []
  }
 ]
}