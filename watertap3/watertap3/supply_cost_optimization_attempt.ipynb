{
 "cells": [
  {
   "cell_type": "code",
   "execution_count": 1,
   "metadata": {},
   "outputs": [],
   "source": [
    "from pyomo.environ import Var, Expression, NonNegativeReals, Block, ConcreteModel, Constraint, Objective, Param, maximize, SolverFactory,RangeSet\n",
    "import pyomo.environ as pyo\n",
    "from idaes.core import FlowsheetBlock\n",
    "import numpy as np\n",
    "from pyomo.util.infeasible import log_infeasible_constraints, log_infeasible_bounds"
   ]
  },
  {
   "cell_type": "code",
   "execution_count": 80,
   "metadata": {},
   "outputs": [
    {
     "name": "stdout",
     "output_type": "stream",
     "text": [
      "[0.05 0.06]\n",
      "0.03666666666666667\n"
     ]
    }
   ],
   "source": [
    "# bw_vol = np.array([[0.05], [0.06]])\n",
    "bw_vol = np.array([0.05, 0.06])\n",
    "# bw_vol = bw_vol.T\n",
    "dist =  np.array([[200,400,100],\n",
    "                 [150,250,50]])\n",
    "\n",
    "LCOW = np.array([0.2,0.1])\n",
    "\n",
    "def transport_cost(bw_vol,dist):\n",
    "    cost1 = (0.2 + 0.02*dist)*bw_vol\n",
    "    cost2 = 0.02*dist\n",
    "    return float(min(cost1,cost2))\n",
    "\n",
    "demand = np.array([0.5,0.3,0.1])\n",
    "# Assuming 3 demand sites\n",
    "# Maximum supply possible\n",
    "max_supply = sum(bw_vol)/3\n",
    "\n",
    "print(bw_vol)\n",
    "print(max_supply)\n"
   ]
  },
  {
   "cell_type": "code",
   "execution_count": 81,
   "metadata": {},
   "outputs": [
    {
     "name": "stdout",
     "output_type": "stream",
     "text": [
      "[0.5 0.3 0.1]\n",
      "[0.03666667 0.03666667 0.03666667]\n"
     ]
    }
   ],
   "source": [
    "def update_demand(supply_max,demand):\n",
    "    for i in range(0,len(demand)):\n",
    "        if demand[i]>supply_max:\n",
    "            demand[i]=supply_max\n",
    "    return demand\n",
    "\n",
    "print(demand)\n",
    "demand_new = update_demand(max_supply,demand)\n",
    "\n",
    "\n",
    "print(demand_new)"
   ]
  },
  {
   "cell_type": "code",
   "execution_count": 82,
   "metadata": {},
   "outputs": [
    {
     "name": "stdout",
     "output_type": "stream",
     "text": [
      "Model unknown\n",
      "\n",
      "  Variables:\n",
      "    x : Size=6, Index=matrix\n",
      "        Key    : Lower : Value                 : Upper : Fixed : Stale : Domain\n",
      "        (0, 0) :     0 :   0.49999970193354454 :     1 : False : False : NonNegativeReals\n",
      "        (0, 1) :     0 : 1.505903749979052e-08 :     1 : False : False : NonNegativeReals\n",
      "        (0, 2) :     0 :    0.4999997028096596 :     1 : False : False : NonNegativeReals\n",
      "        (1, 0) :     0 :   0.19444453148562377 :     1 : False : False : NonNegativeReals\n",
      "        (1, 1) :     0 :    0.6111109362945155 :     1 : False : False : NonNegativeReals\n",
      "        (1, 2) :     0 :   0.19444453210268886 :     1 : False : False : NonNegativeReals\n",
      "\n",
      "  Objectives:\n",
      "    obj1 : Size=1, Index=None, Active=True\n",
      "        Key  : Active : Value\n",
      "        None :   True : 0.7019997633185657\n",
      "\n",
      "  Constraints:\n",
      "    constraints : Size=5\n",
      "        Key : Lower               : Body                : Upper\n",
      "          1 :                None :  0.9999994198022417 :   1.0\n",
      "          2 :                None :  0.9999999998828282 :   1.0\n",
      "          3 : 0.03666666666666667 : 0.03666665698581465 :  None\n",
      "          4 : 0.03666666666666667 : 0.03666665693062281 :  None\n",
      "          5 : 0.03666666666666667 : 0.03666665706664431 :  None\n"
     ]
    }
   ],
   "source": [
    "# Trying to add powerplant as another index along with brackish water\n",
    "\n",
    "m = ConcreteModel()\n",
    "\n",
    "# transport_cost = 0.01\n",
    "# demand = np.array([1,0.3,0.1])\n",
    "# transport_coeff = bw_vol*dist*transport_cost(bw_vol,dist)\n",
    "\n",
    "# brackish water site index\n",
    "m.I = pyo.Set(initialize = range(dist.shape[0]))\n",
    "# powerplant site index\n",
    "m.J = pyo.Set(initialize = range(dist.shape[1]))\n",
    "\n",
    "m.matrix= pyo.Set(initialize = m.I*m.J)\n",
    "m.x = Var(m.matrix, domain=NonNegativeReals, bounds= (0,1))\n",
    "\n",
    "m.constraints= pyo.ConstraintList()\n",
    "\n",
    "# Sum of fractions should be less than or equal to 1\n",
    "for i in m.I:\n",
    "    m.constraints.add((sum(m.x[i,j] for j in m.J)) <= 1 )\n",
    "\n",
    "# Production to be as close to maximum as possible\n",
    "for j in m.J:\n",
    "    m.constraints.add((sum(m.x[i,j]*float(bw_vol[i]) for i in m.I)) >= demand_new[j])\n",
    "\n",
    "# for j in m.J:\n",
    "#     m.constraints.add((sum(( LCOW[i]*m.x[i,j] + transport_cost(bw_vol[i],dist[i,j])*m.x[i,j] ) for i in m.I)) <= 1.4)\n",
    "\n",
    "# def obj_demand(m):\n",
    "#     return sum(sum(m.x[i,j]*float(bw_vol[i]) for i in m.I) for j in m.J)\n",
    "\n",
    "# LCOW objective\n",
    "def obj(m):\n",
    "    return sum(sum((LCOW[i]*m.x[i,j] + transport_cost(bw_vol[i],dist[i,j])*m.x[i,j]) for i in m.I) for j in m.J)\n",
    "\n",
    "m.obj1 = Objective(rule = obj)\n",
    "\n",
    "solver = SolverFactory('ipopt')\n",
    "\n",
    "results = solver.solve(m)\n",
    "\n",
    "m.display()"
   ]
  },
  {
   "cell_type": "code",
   "execution_count": 74,
   "metadata": {},
   "outputs": [
    {
     "name": "stdout",
     "output_type": "stream",
     "text": [
      "[[4.99999702e-01 1.50590375e-08 4.99999703e-01]\n",
      " [1.94444531e-01 6.11110936e-01 1.94444532e-01]]\n"
     ]
    }
   ],
   "source": [
    "dict = (m.x.get_values())\n",
    "\n",
    "# print(dict[(0,0)])\n",
    "x = np.zeros(dist.shape)\n",
    "# print(x)\n",
    "for i,j in dict.keys():\n",
    "    x[i,j] = dict[(i,j)]\n",
    "\n",
    "x=np.array(x)\n",
    "print(x)"
   ]
  },
  {
   "cell_type": "code",
   "execution_count": 76,
   "metadata": {},
   "outputs": [
    {
     "name": "stdout",
     "output_type": "stream",
     "text": [
      "[0.4999997  0.19444453]\n",
      "[0.05 0.06]\n",
      "0.03666665698581465\n"
     ]
    }
   ],
   "source": [
    "# check supply to each demand point\n",
    "\n",
    "demand1 = bw_vol.T*x[:,0].T\n",
    "demand2 = bw_vol.T*x[:,1].T\n",
    "demand3 = bw_vol.T*x[:,2].T\n",
    "\n",
    "print(x[:,0])\n",
    "print(bw_vol)\n",
    "\n",
    "print(sum(demand1))\n",
    "\n"
   ]
  }
 ],
 "metadata": {
  "kernelspec": {
   "display_name": "watertap3",
   "language": "python",
   "name": "python3"
  },
  "language_info": {
   "codemirror_mode": {
    "name": "ipython",
    "version": 3
   },
   "file_extension": ".py",
   "mimetype": "text/x-python",
   "name": "python",
   "nbconvert_exporter": "python",
   "pygments_lexer": "ipython3",
   "version": "3.8.8"
  },
  "orig_nbformat": 4
 },
 "nbformat": 4,
 "nbformat_minor": 2
}
