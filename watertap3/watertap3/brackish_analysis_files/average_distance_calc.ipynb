{
 "cells": [
  {
   "attachments": {},
   "cell_type": "markdown",
   "metadata": {},
   "source": [
    "Rough calculations with geopandas tool"
   ]
  },
  {
   "cell_type": "code",
   "execution_count": 1,
   "metadata": {},
   "outputs": [],
   "source": [
    "import matplotlib.pyplot as plt\n",
    "import pandas as pd\n",
    "import haversine as hs\n",
    "import geopandas as gp\n",
    "from shapely.geometry import Point, Polygon\n",
    "from pyomo.util.infeasible import log_infeasible_constraints, log_infeasible_bounds"
   ]
  },
  {
   "cell_type": "code",
   "execution_count": 2,
   "metadata": {},
   "outputs": [
    {
     "data": {
      "text/plain": [
       "geopandas.geodataframe.GeoDataFrame"
      ]
     },
     "execution_count": 2,
     "metadata": {},
     "output_type": "execute_result"
    }
   ],
   "source": [
    "states = gp.read_file('/Users/mhardika/Documents/AMO/GeoToolAll_Methods/GeoData/USA/usa-states-census-2014.shp')\n",
    "type(states)"
   ]
  },
  {
   "cell_type": "code",
   "execution_count": 3,
   "metadata": {},
   "outputs": [],
   "source": [
    "texas_centroid = gp.read_file('/Users/mhardika/Documents/AMO/GeoToolAll_Methods/GeoData/Texas Counties Centroid Map/geo_export_d58b4a94-13f1-42f4-b03f-567c0e3ad095.shp')\n",
    "texas = gp.read_file('/Users/mhardika/Documents/AMO/GeoToolAll_Methods/GeoData/Texas Counties Map/geo_export_c05b3355-1638-4e46-b56c-ac18de751ed8.shp')"
   ]
  },
  {
   "cell_type": "code",
   "execution_count": 4,
   "metadata": {},
   "outputs": [],
   "source": [
    "bw_df = pd.read_csv('/Users/mhardika/Documents/AMO/GeoToolAll_Methods/Water Source Data/Brackish/USGS_brackish_filtered_all.csv')\n",
    "long = bw_df[bw_df['state_alpha']=='TX']['Longitude']\n",
    "lat = bw_df[bw_df['state_alpha']=='TX']['Latitude']\n"
   ]
  },
  {
   "cell_type": "code",
   "execution_count": 5,
   "metadata": {},
   "outputs": [
    {
     "data": {
      "text/plain": [
       "array(['Cameron', 'Willacy', 'Starr', ..., 'Dallam', 'Hansford', 'Beaver'],\n",
       "      dtype=object)"
      ]
     },
     "execution_count": 5,
     "metadata": {},
     "output_type": "execute_result"
    }
   ],
   "source": [
    "bw_df[bw_df['state_alpha'] =='TX']['county_nm'].values"
   ]
  },
  {
   "cell_type": "code",
   "execution_count": 6,
   "metadata": {},
   "outputs": [
    {
     "name": "stdout",
     "output_type": "stream",
     "text": [
      "0         POINT (-97.79169 26.29167)\n",
      "1         POINT (-97.78058 26.48889)\n",
      "2         POINT (-98.90003 26.66667)\n",
      "3         POINT (-98.44172 27.60000)\n",
      "4         POINT (-96.40836 28.35000)\n",
      "                    ...             \n",
      "69594    POINT (-100.13011 36.37592)\n",
      "69595    POINT (-102.63071 36.39484)\n",
      "69596    POINT (-102.73949 36.44673)\n",
      "69597    POINT (-101.14390 36.45011)\n",
      "69598    POINT (-100.11623 36.49976)\n",
      "Name: geometry, Length: 69599, dtype: geometry\n"
     ]
    }
   ],
   "source": [
    "geometry = [Point(xy) for xy in zip(long,lat)]\n",
    "# data = {'county_nm': bw_df[bw_df['state_alpha'] =='TX']['county_nm'].values, 'geometry': geometry }\n",
    "\n",
    "geo_df = gp.GeoDataFrame(geometry = geometry, crs='EPSG:4326')\n",
    "\n",
    "geo_df.geometry = geo_df.geometry.to_crs('EPSG:4326')\n",
    "\n",
    "geo_df = geo_df.assign(county_nm = bw_df[bw_df['state_alpha'] =='TX']['county_nm'].values)\n",
    "\n",
    "print(geo_df.geometry)"
   ]
  },
  {
   "cell_type": "code",
   "execution_count": 339,
   "metadata": {},
   "outputs": [
    {
     "data": {
      "text/plain": [
       "<Geographic 2D CRS: EPSG:4326>\n",
       "Name: WGS 84\n",
       "Axis Info [ellipsoidal]:\n",
       "- Lat[north]: Geodetic latitude (degree)\n",
       "- Lon[east]: Geodetic longitude (degree)\n",
       "Area of Use:\n",
       "- name: World\n",
       "- bounds: (-180.0, -90.0, 180.0, 90.0)\n",
       "Datum: World Geodetic System 1984\n",
       "- Ellipsoid: WGS 84\n",
       "- Prime Meridian: Greenwich"
      ]
     },
     "execution_count": 339,
     "metadata": {},
     "output_type": "execute_result"
    }
   ],
   "source": [
    "geo_df.geometry.crs"
   ]
  },
  {
   "cell_type": "code",
   "execution_count": 345,
   "metadata": {},
   "outputs": [
    {
     "data": {
      "text/html": [
       "<div>\n",
       "<style scoped>\n",
       "    .dataframe tbody tr th:only-of-type {\n",
       "        vertical-align: middle;\n",
       "    }\n",
       "\n",
       "    .dataframe tbody tr th {\n",
       "        vertical-align: top;\n",
       "    }\n",
       "\n",
       "    .dataframe thead th {\n",
       "        text-align: right;\n",
       "    }\n",
       "</style>\n",
       "<table border=\"1\" class=\"dataframe\">\n",
       "  <thead>\n",
       "    <tr style=\"text-align: right;\">\n",
       "      <th></th>\n",
       "      <th>geometry</th>\n",
       "      <th>county_nm</th>\n",
       "    </tr>\n",
       "  </thead>\n",
       "  <tbody>\n",
       "    <tr>\n",
       "      <th>0</th>\n",
       "      <td>POINT (-10886121.624 3016329.361)</td>\n",
       "      <td>Cameron</td>\n",
       "    </tr>\n",
       "    <tr>\n",
       "      <th>1</th>\n",
       "      <td>POINT (-10884884.742 3040706.355)</td>\n",
       "      <td>Willacy</td>\n",
       "    </tr>\n",
       "    <tr>\n",
       "      <th>2</th>\n",
       "      <td>POINT (-11009500.734 3062716.227)</td>\n",
       "      <td>Starr</td>\n",
       "    </tr>\n",
       "    <tr>\n",
       "      <th>3</th>\n",
       "      <td>POINT (-10958482.388 3178844.757)</td>\n",
       "      <td>Duval</td>\n",
       "    </tr>\n",
       "    <tr>\n",
       "      <th>4</th>\n",
       "      <td>POINT (-10732129.666 3272887.402)</td>\n",
       "      <td>Calhoun</td>\n",
       "    </tr>\n",
       "    <tr>\n",
       "      <th>...</th>\n",
       "      <td>...</td>\n",
       "      <td>...</td>\n",
       "    </tr>\n",
       "    <tr>\n",
       "      <th>69594</th>\n",
       "      <td>POINT (-11146433.048 4327128.813)</td>\n",
       "      <td>Lipscomb</td>\n",
       "    </tr>\n",
       "    <tr>\n",
       "      <th>69595</th>\n",
       "      <td>POINT (-11424798.867 4329733.230)</td>\n",
       "      <td>Dallam</td>\n",
       "    </tr>\n",
       "    <tr>\n",
       "      <th>69596</th>\n",
       "      <td>POINT (-11436907.344 4336880.713)</td>\n",
       "      <td>Dallam</td>\n",
       "    </tr>\n",
       "    <tr>\n",
       "      <th>69597</th>\n",
       "      <td>POINT (-11259287.222 4337346.412)</td>\n",
       "      <td>Hansford</td>\n",
       "    </tr>\n",
       "    <tr>\n",
       "      <th>69598</th>\n",
       "      <td>POINT (-11144888.167 4344189.749)</td>\n",
       "      <td>Beaver</td>\n",
       "    </tr>\n",
       "  </tbody>\n",
       "</table>\n",
       "<p>69599 rows × 2 columns</p>\n",
       "</div>"
      ],
      "text/plain": [
       "                                geometry county_nm\n",
       "0      POINT (-10886121.624 3016329.361)   Cameron\n",
       "1      POINT (-10884884.742 3040706.355)   Willacy\n",
       "2      POINT (-11009500.734 3062716.227)     Starr\n",
       "3      POINT (-10958482.388 3178844.757)     Duval\n",
       "4      POINT (-10732129.666 3272887.402)   Calhoun\n",
       "...                                  ...       ...\n",
       "69594  POINT (-11146433.048 4327128.813)  Lipscomb\n",
       "69595  POINT (-11424798.867 4329733.230)    Dallam\n",
       "69596  POINT (-11436907.344 4336880.713)    Dallam\n",
       "69597  POINT (-11259287.222 4337346.412)  Hansford\n",
       "69598  POINT (-11144888.167 4344189.749)    Beaver\n",
       "\n",
       "[69599 rows x 2 columns]"
      ]
     },
     "execution_count": 345,
     "metadata": {},
     "output_type": "execute_result"
    }
   ],
   "source": [
    "geo_df = geo_df.to_crs(\"EPSG:3395\")\n",
    "geo_df"
   ]
  },
  {
   "cell_type": "code",
   "execution_count": 333,
   "metadata": {},
   "outputs": [
    {
     "data": {
      "text/plain": [
       "<Projected CRS: EPSG:3395>\n",
       "Name: WGS 84 / World Mercator\n",
       "Axis Info [cartesian]:\n",
       "- E[east]: Easting (metre)\n",
       "- N[north]: Northing (metre)\n",
       "Area of Use:\n",
       "- name: World - between 80°S and 84°N\n",
       "- bounds: (-180.0, -80.0, 180.0, 84.0)\n",
       "Coordinate Operation:\n",
       "- name: World Mercator\n",
       "- method: Mercator (variant A)\n",
       "Datum: World Geodetic System 1984\n",
       "- Ellipsoid: WGS 84\n",
       "- Prime Meridian: Greenwich"
      ]
     },
     "execution_count": 333,
     "metadata": {},
     "output_type": "execute_result"
    }
   ],
   "source": [
    "states.crs "
   ]
  },
  {
   "cell_type": "code",
   "execution_count": 334,
   "metadata": {},
   "outputs": [
    {
     "data": {
      "text/plain": [
       "<Projected CRS: EPSG:3395>\n",
       "Name: WGS 84 / World Mercator\n",
       "Axis Info [cartesian]:\n",
       "- E[east]: Easting (metre)\n",
       "- N[north]: Northing (metre)\n",
       "Area of Use:\n",
       "- name: World - between 80°S and 84°N\n",
       "- bounds: (-180.0, -80.0, 180.0, 84.0)\n",
       "Coordinate Operation:\n",
       "- name: World Mercator\n",
       "- method: Mercator (variant A)\n",
       "Datum: World Geodetic System 1984\n",
       "- Ellipsoid: WGS 84\n",
       "- Prime Meridian: Greenwich"
      ]
     },
     "execution_count": 334,
     "metadata": {},
     "output_type": "execute_result"
    }
   ],
   "source": [
    "texas.crs"
   ]
  },
  {
   "cell_type": "code",
   "execution_count": 371,
   "metadata": {},
   "outputs": [],
   "source": [
    "states = states.to_crs(\"EPSG:3395\")\n",
    "texas = texas.to_crs(\"EPSG:4326\")\n",
    "texas_centroid = texas_centroid.to_crs(\"EPSG:4326\")\n"
   ]
  },
  {
   "cell_type": "code",
   "execution_count": 372,
   "metadata": {},
   "outputs": [
    {
     "data": {
      "text/plain": [
       "<Geographic 2D CRS: EPSG:4326>\n",
       "Name: WGS 84\n",
       "Axis Info [ellipsoidal]:\n",
       "- Lat[north]: Geodetic latitude (degree)\n",
       "- Lon[east]: Geodetic longitude (degree)\n",
       "Area of Use:\n",
       "- name: World\n",
       "- bounds: (-180.0, -90.0, 180.0, 90.0)\n",
       "Datum: World Geodetic System 1984\n",
       "- Ellipsoid: WGS 84\n",
       "- Prime Meridian: Greenwich"
      ]
     },
     "execution_count": 372,
     "metadata": {},
     "output_type": "execute_result"
    }
   ],
   "source": [
    "texas.crs"
   ]
  },
  {
   "cell_type": "code",
   "execution_count": 373,
   "metadata": {},
   "outputs": [
    {
     "data": {
      "text/plain": [
       "<AxesSubplot: >"
      ]
     },
     "execution_count": 373,
     "metadata": {},
     "output_type": "execute_result"
    },
    {
     "data": {
      "image/png": "[encoded data removed]",
      "text/plain": [
       "<Figure size 640x480 with 1 Axes>"
      ]
     },
     "metadata": {},
     "output_type": "display_data"
    }
   ],
   "source": [
    "fig, ax = plt.subplots()\n",
    "# states[states['NAME'] == 'Texas'].plot(ax=ax,figsize=(20, 20))\n",
    "texas[texas['name']=='Dallam'].plot(ax=ax,figsize=(50, 50))\n",
    "texas_centroid[texas_centroid['cnty_nm']=='Dallam'].plot(ax=ax, color = 'black', markersize = 10)\n",
    "geo_df[geo_df['county_nm']=='Dallam'].plot(ax=ax, color='purple', markersize = 1)"
   ]
  },
  {
   "cell_type": "code",
   "execution_count": 438,
   "metadata": {},
   "outputs": [
    {
     "name": "stdout",
     "output_type": "stream",
     "text": [
      "(36.0694, -103.0106)\n",
      "(array([36.27777107]), array([-102.6021647]))\n"
     ]
    },
    {
     "data": {
      "text/plain": [
       "43.369161130210706"
      ]
     },
     "execution_count": 438,
     "metadata": {},
     "output_type": "execute_result"
    }
   ],
   "source": [
    "# Distance between centroid and\n",
    "loc2_long = texas_centroid[texas_centroid['cnty_nm']=='Dallam'].geometry.x.values\n",
    "loc2_lat = texas_centroid[texas_centroid['cnty_nm']=='Dallam'].geometry.y.values\n",
    "\n",
    "loc2 = (loc2_lat,loc2_long)\n",
    "\n",
    "\n",
    "# loc2 = loc2.to_crs('EPSG:3035')\n",
    "# print(loc2)\n",
    "county = bw_df[bw_df['county_nm']=='Dallam']\n",
    "long = county['Longitude']\n",
    "lat = county['Latitude']\n",
    "# loc1 = county.geometry\n",
    "# print(loc1.iloc[0])\n",
    "# loc1 = loc1.to_crs('EPSG:3035')\n",
    "# print(loc1.iloc[0])\n",
    "\n",
    "loc1_list = tuple(zip(lat,long)) \n",
    "\n",
    "print(loc1_list[0])\n",
    "print(loc2)\n",
    "hs.haversine(loc1_list[0],loc2)\n",
    "\n",
    "\n",
    "# dist_km = []\n",
    "\n",
    "# for loc1 in loc1_list:\n",
    "#     dist_km.append(hs.haversine(loc1,loc2))\n",
    "\n",
    "# print(loc2.distance(loc1.iloc[0],align=False))\n",
    "\n"
   ]
  },
  {
   "cell_type": "code",
   "execution_count": 68,
   "metadata": {},
   "outputs": [
    {
     "data": {
      "text/plain": [
       "<AxesSubplot: >"
      ]
     },
     "execution_count": 68,
     "metadata": {},
     "output_type": "execute_result"
    },
    {
     "data": {
      "image/png": "[encoded data removed]",
      "text/plain": [
       "<Figure size 640x480 with 1 Axes>"
      ]
     },
     "metadata": {},
     "output_type": "display_data"
    }
   ],
   "source": [
    "states.plot()"
   ]
  },
  {
   "cell_type": "code",
   "execution_count": 13,
   "metadata": {},
   "outputs": [
    {
     "name": "stdout",
     "output_type": "stream",
     "text": [
      "Model unknown\n",
      "\n",
      "  Variables:\n",
      "    None\n",
      "\n",
      "  Objectives:\n",
      "    objective_function : Size=1, Index=None, Active=True\n",
      "        Key  : Active : Value\n",
      "        None :   True : 2.492211838006231\n",
      "\n",
      "  Constraints:\n",
      "    con1 : Size=1\n",
      "        Key  : Lower : Body              : Upper\n",
      "        None :  None : 2.492211838006231 :  50.0\n",
      "    con2 : Size=1\n",
      "        Key  : Lower : Body : Upper\n",
      "        None :   0.0 :  0.0 :   0.0\n",
      "\n",
      "  Blocks:\n",
      "    Block fs\n",
      "    \n",
      "      Variables:\n",
      "        vol : Size=1, Index=None\n",
      "            Key  : Lower : Value             : Upper : Fixed : Stale : Domain\n",
      "            None :     0 : 2.492211838006231 :  None : False : False : NonNegativeReals\n",
      "    \n",
      "      Objectives:\n",
      "        None\n",
      "    \n",
      "      Constraints:\n",
      "        None\n"
     ]
    }
   ],
   "source": [
    "# Trying to add LCOW optimization function\n",
    "from pyomo.environ import Var, Expression, NonNegativeReals, Block, ConcreteModel, Constraint, Objective, Param, maximize, SolverFactory\n",
    "from idaes.core import FlowsheetBlock\n",
    "# transport_cost = 0.005 # $/m3/km\n",
    "LCOW = 0.8 # $/m3\n",
    "distance = 0.5 #km\n",
    "vol = 0.20\n",
    "\n",
    "def transport_cost(vol):\n",
    "    if vol <= 0.1:\n",
    "        return 0.005\n",
    "    else:\n",
    "        return 0.005\n",
    "\n",
    "m = ConcreteModel()\n",
    "m.fs = FlowsheetBlock(default={'dynamic': False})\n",
    "m.fs.vol = Var(initialize = vol, domain = NonNegativeReals)\n",
    "m.fs.distance = Param(initialize = distance)\n",
    "\n",
    "m.LCOW_obj =   2- (transport_cost(m.fs.vol.value)*m.fs.vol*m.fs.distance + LCOW*m.fs.vol)\n",
    "\n",
    "m.objective_function = Objective(expr = m.fs.vol , sense=maximize)\n",
    "m.con1 = Constraint(expr= m.fs.vol <=50)\n",
    "m.con2 = Constraint(expr= (0 == m.LCOW_obj))\n",
    "\n",
    "solver = SolverFactory('ipopt')\n",
    "\n",
    "results = solver.solve(m)\n",
    "\n",
    "m.display()\n"
   ]
  },
  {
   "cell_type": "code",
   "execution_count": 16,
   "metadata": {},
   "outputs": [
    {
     "name": "stdout",
     "output_type": "stream",
     "text": [
      "Model unknown\n",
      "\n",
      "  Variables:\n",
      "    x : Size=3, Index=x_index\n",
      "        Key : Lower : Value              : Upper : Fixed : Stale : Domain\n",
      "          0 :     0 : 0.8000000028614032 :     1 : False : False : NonNegativeReals\n",
      "          1 :     0 : 0.9999998380502686 :     1 : False : False : NonNegativeReals\n",
      "          2 :     0 :                0.0 :     1 : False : False : NonNegativeReals\n",
      "\n",
      "  Objectives:\n",
      "    obj1 : Size=1, Index=None, Active=True\n",
      "        Key  : Active : Value\n",
      "        None :   True : 0.5799999457955123\n",
      "\n",
      "  Constraints:\n",
      "    constraint1 : Size=1\n",
      "        Key  : Lower : Body                : Upper\n",
      "        None :   0.1 : 0.09999999042608627 :  None\n"
     ]
    }
   ],
   "source": [
    "from pyomo.environ import Var, Expression, NonNegativeReals, Block, ConcreteModel, Constraint, Objective, Param, maximize, SolverFactory,RangeSet\n",
    "import pyomo.environ as pyo\n",
    "from idaes.core import FlowsheetBlock\n",
    "import numpy as np\n",
    "\n",
    "m = ConcreteModel()\n",
    "\n",
    "bw_vol = np.array([0.05,0.06,0.03])\n",
    "dist =  np.array([200,400,100])\n",
    "LCOW = np.array([0.2,0.1,0.4])\n",
    "transport_cost = 0.01\n",
    "demand = 0.1\n",
    "\n",
    "transport_coeff = bw_vol*dist*transport_cost\n",
    "\n",
    "I = range(len(dist))\n",
    "m.x = Var(I,domain=NonNegativeReals,bounds= (0,1))\n",
    "\n",
    "# Production objective\n",
    "m.constraint1 = Constraint(expr = (sum(bw_vol[i]*m.x[i] for i in I) ) >= demand)\n",
    "\n",
    "# LCOW objective\n",
    "def obj(m):\n",
    "    return  sum(LCOW[i]*m.x[i] + transport_coeff[i]*m.x[i] for i in I)\n",
    "\n",
    "m.obj1 = Objective(rule = obj)\n",
    "\n",
    "solver = SolverFactory('ipopt')\n",
    "\n",
    "results = solver.solve(m)\n",
    "\n",
    "m.display()\n",
    "\n"
   ]
  },
  {
   "cell_type": "code",
   "execution_count": 64,
   "metadata": {},
   "outputs": [
    {
     "name": "stdout",
     "output_type": "stream",
     "text": [
      "INFO: CONSTR constraints[3]: 1.0 </= 0.0868155471507761\n",
      "INFO: CONSTR constraints[4]: 0.3 </= 0.01978152034301001\n",
      "INFO: CONSTR constraints[5]: 0.1 </= 0.0034029336044068357\n",
      "None\n"
     ]
    }
   ],
   "source": [
    "print(log_infeasible_constraints(m))"
   ]
  },
  {
   "cell_type": "code",
   "execution_count": 66,
   "metadata": {},
   "outputs": [
    {
     "name": "stdout",
     "output_type": "stream",
     "text": [
      "Model unknown\n",
      "\n",
      "  Variables:\n",
      "    x : Size=6, Index=matrix\n",
      "        Key    : Lower : Value               : Upper : Fixed : Stale : Domain\n",
      "        (0, 0) :     0 :                 0.0 :     1 : False : False : NonNegativeReals\n",
      "        (0, 1) :     0 :  0.7607442470626785 :     1 : False : False : NonNegativeReals\n",
      "        (0, 2) :     0 : 0.23925577290104916 :     1 : False : False : NonNegativeReals\n",
      "        (1, 0) :     0 :                 0.0 :     1 : False : False : NonNegativeReals\n",
      "        (1, 1) :     0 :  0.8339840136399875 :     1 : False : False : NonNegativeReals\n",
      "        (1, 2) :     0 :   0.166016006329819 :     1 : False : False : NonNegativeReals\n",
      "\n",
      "  Objectives:\n",
      "    obj1 : Size=1, Index=None, Active=True\n",
      "        Key  : Active : Value\n",
      "        None :   True : 0.9103794470159629\n",
      "\n",
      "  Constraints:\n",
      "    constraints : Size=5\n",
      "        Key : Lower : Body                 : Upper\n",
      "          1 :  None :   1.0000000199637276 :   1.0\n",
      "          2 :  None :   1.0000000199698065 :   1.0\n",
      "          5 :   0.1 : 0.021923749024841597 :  None\n"
     ]
    }
   ],
   "source": [
    "lb_value =0 \n",
    "for constr in m.component_data_objects(ctype=Constraint, active=True, descend_into=True):\n",
    "    tol=1E-6\n",
    "    constr_body_value = value(constr.body, exception=False)\n",
    "    constr_lb_value = value(constr.lower, exception=False)\n",
    "    constr_ub_value = value(constr.upper, exception=False)\n",
    "    \n",
    "    constr_undefined = False\n",
    "    equality_violated = False\n",
    "    lb_violated = False\n",
    "    ub_violated = False    \n",
    "    \n",
    "    if constr_body_value is None:\n",
    "            # Undefined constraint body value due to missing variable value\n",
    "        constr_undefined = True\n",
    "        pass\n",
    "    else:\n",
    "        # Check for infeasibilities\n",
    "        if constr.equality:\n",
    "            if fabs(constr_lb_value - constr_body_value) >= tol:\n",
    "                equality_violated = True\n",
    "                print(constr)\n",
    "                # constr.deactivate()\n",
    "                \n",
    "        else:\n",
    "            if constr.has_lb() and constr_lb_value - constr_body_value >= tol:\n",
    "                    lb_violated = True\n",
    "                    if lb_value < (constr_lb_value):\n",
    "                        lb_value =  constr_lb_value\n",
    "                        constr_deactivate = constr\n",
    "                    \n",
    "                    # print(constr)\n",
    "                    # constr.deactivate()\n",
    "                    \n",
    "            if constr.has_ub() and constr_body_value - constr_ub_value >= tol:\n",
    "                    ub_violated = True\n",
    "                    print(constr)\n",
    "                    # constr.deactivate()\n",
    "                   \n",
    "\n",
    "constr_deactivate.deactivate()\n",
    "m.display()\n",
    "results = solver.solve(m)\n",
    "# print(constr_deactivate)"
   ]
  },
  {
   "cell_type": "code",
   "execution_count": null,
   "metadata": {},
   "outputs": [],
   "source": []
  }
 ],
 "metadata": {
  "kernelspec": {
   "display_name": "watertap3",
   "language": "python",
   "name": "python3"
  },
  "language_info": {
   "codemirror_mode": {
    "name": "ipython",
    "version": 3
   },
   "file_extension": ".py",
   "mimetype": "text/x-python",
   "name": "python",
   "nbconvert_exporter": "python",
   "pygments_lexer": "ipython3",
   "version": "3.8.8"
  },
  "orig_nbformat": 4,
  "vscode": {
   "interpreter": {
    "hash": "0e4911484967c68db66f124aaaf28d8832a4495a870ddc2037cbfdbc733badcc"
   }
  }
 },
 "nbformat": 4,
 "nbformat_minor": 2
}
