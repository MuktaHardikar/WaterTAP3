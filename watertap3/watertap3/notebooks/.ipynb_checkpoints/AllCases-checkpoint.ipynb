{
 "cells": [
  {
   "cell_type": "code",
   "execution_count": 1,
   "metadata": {},
   "outputs": [
    {
     "name": "stdout",
     "output_type": "stream",
     "text": [
      "/Users/ksitterl/Documents/Python/watertap3/NAWI-WaterTAP3/watertap3/watertap3\n"
     ]
    },
    {
     "data": {
      "text/plain": [
       "'/Users/ksitterl/Documents/Python/watertap3/NAWI-WaterTAP3/watertap3/watertap3'"
      ]
     },
     "execution_count": 1,
     "metadata": {},
     "output_type": "execute_result"
    }
   ],
   "source": [
    "%cd ..\n",
    "%pwd"
   ]
  },
  {
   "cell_type": "code",
   "execution_count": 2,
   "metadata": {},
   "outputs": [
    {
     "name": "stdout",
     "output_type": "stream",
     "text": [
      "this is in the __init__ file for utils\n",
      "this is in the __init__ file for wt_units\n",
      "this is in the __init__ file for watertap3\n"
     ]
    }
   ],
   "source": [
    "from watertap3.utils import watertap_setup, get_case_study, run_water_tap, run_water_tap_ro"
   ]
  },
  {
   "cell_type": "code",
   "execution_count": null,
   "metadata": {},
   "outputs": [],
   "source": []
  },
  {
   "cell_type": "code",
   "execution_count": 3,
   "metadata": {},
   "outputs": [
    {
     "name": "stdout",
     "output_type": "stream",
     "text": [
      "tampa_bay\n",
      "\n",
      "------- Adding Unit Processes -------\n",
      "sw_onshore_intake\n",
      "this is in the __init__ file for wt_units\n",
      "sulfuric_acid_addition\n",
      "ferric_chloride_addition\n",
      "chlorination\n",
      "static_mixer\n",
      "tri_media_filtration\n",
      "cartridge_filtration\n",
      "ro_first_pass\n",
      "ro_second_pass\n",
      "lime_softening\n",
      "chlorination_b\n",
      "caustic_soda_addition\n",
      "ammonia_addition\n",
      "treated_storage\n",
      "backwash_solids_handling\n",
      "municipal_drinking\n",
      "surface_discharge\n",
      "landfill\n",
      "-------------------------------------\n",
      "\n",
      "adding source\n",
      "params into splitter --> [0.67, 0.33]\n",
      "\n",
      "Connecting unit processes...\n",
      "Unfixing feed presure and area for ro_first_pass ...\n",
      "\n",
      "Unfixing feed presure and area for ro_second_pass ...\n",
      "\n",
      "seawater\n",
      "----------------------------------------------------------------------\n",
      "\n",
      "Degrees of Freedom: 8\n",
      "\n",
      "WaterTAP3 solution optimal \n",
      "\n",
      "----------------------------------------------------------------------\n",
      "\tFeed pressure for ro_first_pass: 83.37 bar\n",
      "\tMembrane area for ro_first_pass: 84886.89 m2\n",
      "\tPure Water Flux for ro_first_pass: 52.68800656770287 lmh\n",
      "\tA constant for ro_first_pass: 8.999999791082846\n",
      "\tB constant for ro_first_pass: 0.5587500514973072\n",
      "\tFeed pressure for ro_second_pass: 24.24 bar\n",
      "\tMembrane area for ro_second_pass: 59757.46 m2\n",
      "\tPure Water Flux for ro_second_pass: 49.5636642818591 lmh\n",
      "\tA constant for ro_second_pass: 8.999999632685624\n",
      "\tB constant for ro_second_pass: 0.8999994190661869\n",
      "seawater bounds for RO\n",
      "seawater\n",
      "----------------------------------------------------------------------\n",
      "\n",
      "Degrees of Freedom: 8\n",
      "\n",
      "WaterTAP3 solution optimal \n",
      "\n",
      "----------------------------------------------------------------------\n",
      "\tFeed pressure for ro_first_pass: 85.0 bar\n",
      "\tMembrane area for ro_first_pass: 99391.07 m2\n",
      "\tPure Water Flux for ro_first_pass: 44.999952471548944 lmh\n",
      "\tA constant for ro_first_pass: 6.999999865904329\n",
      "\tB constant for ro_first_pass: 0.434250041552142\n",
      "\tFeed pressure for ro_second_pass: 26.18 bar\n",
      "\tMembrane area for ro_second_pass: 67245.79 m2\n",
      "\tPure Water Flux for ro_second_pass: 44.069980173402726 lmh\n",
      "\tA constant for ro_second_pass: 6.9999997589085865\n",
      "\tB constant for ro_second_pass: 0.6999994934555204\n",
      "Running with unfixed, then fixed RO based on model results\n",
      "tampa_bay\n",
      "\n",
      "------- Adding Unit Processes -------\n",
      "sw_onshore_intake\n",
      "sulfuric_acid_addition\n",
      "ferric_chloride_addition\n",
      "chlorination\n",
      "static_mixer\n",
      "tri_media_filtration\n",
      "cartridge_filtration\n",
      "ro_first_pass\n",
      "ro_second_pass\n",
      "lime_softening\n",
      "chlorination_b\n",
      "caustic_soda_addition\n",
      "ammonia_addition\n",
      "treated_storage\n",
      "backwash_solids_handling\n",
      "municipal_drinking\n",
      "surface_discharge\n",
      "landfill\n",
      "-------------------------------------\n",
      "\n",
      "adding source\n",
      "params into splitter --> [0.67, 0.33]\n",
      "\n",
      "Connecting unit processes...\n",
      "Unfixing feed presure and area for ro_first_pass ...\n",
      "\n",
      "Unfixing feed presure and area for ro_second_pass ...\n",
      "\n",
      "seawater\n",
      "----------------------------------------------------------------------\n",
      "\n",
      "Degrees of Freedom: 8\n",
      "\n",
      "WaterTAP3 solution optimal \n",
      "\n",
      "----------------------------------------------------------------------\n",
      "seawater\n",
      "----------------------------------------------------------------------\n",
      "\n",
      "Degrees of Freedom: 0\n",
      "\n",
      "WaterTAP3 solution optimal \n",
      "\n",
      "----------------------------------------------------------------------\n",
      "\n",
      "***UNIT PROCESS RESULTS (in $MM)***\n",
      "\n",
      "\n",
      "SW ONSHORE INTAKE:\n",
      "\n",
      "\ttotal cap investment: 10.21687\n",
      "\tcat and chem cost: 0.0\n",
      "\telectricity cost: 0.35741\n",
      "\ttotal fixed op cost: 0.13554\n",
      "\n",
      "SULFURIC ACID ADDITION:\n",
      "\n",
      "\ttotal cap investment: 0.23073\n",
      "\tcat and chem cost: 0.07937\n",
      "\telectricity cost: 0.0\n",
      "\ttotal fixed op cost: 0.00307\n",
      "\n",
      "FERRIC CHLORIDE ADDITION:\n",
      "\n",
      "\ttotal cap investment: 2.95364\n",
      "\tcat and chem cost: 1.16399\n",
      "\telectricity cost: 1e-05\n",
      "\ttotal fixed op cost: 0.03933\n",
      "\n",
      "CHLORINATION:\n",
      "\n",
      "\ttotal cap investment: 9.26588\n",
      "\tcat and chem cost: 0.16131\n",
      "\telectricity cost: 2e-05\n",
      "\ttotal fixed op cost: 0.12338\n",
      "\n",
      "STATIC MIXER:\n",
      "\n",
      "\ttotal cap investment: 0.11622\n",
      "\tcat and chem cost: 0.0\n",
      "\telectricity cost: 0.0\n",
      "\ttotal fixed op cost: 0.00154\n",
      "\n",
      "TRI MEDIA FILTRATION:\n",
      "\n",
      "\ttotal cap investment: 7.60919\n",
      "\tcat and chem cost: 0.0\n",
      "\telectricity cost: 0.69121\n",
      "\ttotal fixed op cost: 0.10132\n",
      "\n",
      "CARTRIDGE FILTRATION:\n",
      "\n",
      "\ttotal cap investment: 7.15345\n",
      "\tcat and chem cost: 0.0\n",
      "\telectricity cost: 0.0\n",
      "\ttotal fixed op cost: 0.09525\n",
      "\n",
      "RO FIRST PASS:\n",
      "\n",
      "\ttotal cap investment: 119.71193\n",
      "\tcat and chem cost: 1.13849\n",
      "\telectricity cost: 6.93961\n",
      "\ttotal fixed op cost: 1.5941\n",
      "\n",
      "RO SECOND PASS:\n",
      "\n",
      "\ttotal cap investment: 26.87772\n",
      "\tcat and chem cost: 0.25561\n",
      "\telectricity cost: 1.30917\n",
      "\ttotal fixed op cost: 0.35791\n",
      "\n",
      "LIME SOFTENING:\n",
      "\n",
      "\ttotal cap investment: 34.3338\n",
      "\tcat and chem cost: 0.30362\n",
      "\telectricity cost: 1e-05\n",
      "\ttotal fixed op cost: 0.4555\n",
      "\n",
      "CHLORINATION B:\n",
      "\n",
      "\ttotal cap investment: 8.06056\n",
      "\tcat and chem cost: 0.10364\n",
      "\telectricity cost: 1e-05\n",
      "\ttotal fixed op cost: 0.10733\n",
      "\n",
      "CAUSTIC SODA ADDITION:\n",
      "\n",
      "\ttotal cap investment: 1.47549\n",
      "\tcat and chem cost: 0.14019\n",
      "\telectricity cost: 1e-05\n",
      "\ttotal fixed op cost: 0.01965\n",
      "\n",
      "AMMONIA ADDITION:\n",
      "\n",
      "\ttotal cap investment: 0.64469\n",
      "\tcat and chem cost: 0.10067\n",
      "\telectricity cost: 0.0\n",
      "\ttotal fixed op cost: 0.00858\n",
      "\n",
      "TREATED STORAGE:\n",
      "\n",
      "\ttotal cap investment: 8.88853\n",
      "\tcat and chem cost: 0.0\n",
      "\telectricity cost: 0.0\n",
      "\ttotal fixed op cost: 0.11684\n",
      "\n",
      "BACKWASH SOLIDS HANDLING:\n",
      "\n",
      "\ttotal cap investment: 5.73523\n",
      "\tcat and chem cost: 0.0\n",
      "\telectricity cost: 0.03572\n",
      "\ttotal fixed op cost: 0.07637\n",
      "\n",
      "MUNICIPAL DRINKING:\n",
      "\n",
      "\ttotal cap investment: 2.59856\n",
      "\tcat and chem cost: 0.0\n",
      "\telectricity cost: 0.68842\n",
      "\ttotal fixed op cost: 0.03447\n",
      "\n",
      "SURFACE DISCHARGE:\n",
      "\n",
      "\ttotal cap investment: 7.99065\n",
      "\tcat and chem cost: 0.0\n",
      "\telectricity cost: 0.09328\n",
      "\ttotal fixed op cost: 0.10601\n",
      "\n",
      "LANDFILL:\n",
      "\n",
      "\ttotal cap investment: 4.07382\n",
      "\tcat and chem cost: 0.0\n",
      "\telectricity cost: 0.0\n",
      "\ttotal fixed op cost: 0.05405\n",
      "\n",
      "----------------------------------------------------------------------\n",
      "\n",
      "\n",
      "----------------------------------------------------------------------\n",
      "------------------- System Level Metrics and Costs -------------------\n",
      "Total Capital Investment ($MM) 257.937\n",
      "Annual Fixed Operating Cost ($MM/yr) 3.43\n",
      "Annual Catalysts and Chemicals Cost ($MM/yr) 3.447\n",
      "Annual Electricity Costs ($MM/yr) 10.115\n",
      "Annual Other Variable Costs ($MM/yr) 0.937\n",
      "Annual Operating Costs ($MM/yr) 17.929\n",
      "Treated water (m3/s) ---> 1.238\n",
      "Total water recovery (%) ---> 64.197\n",
      "Electricity intensity (kwh/m3) --->  3.388\n",
      "LCOW ($/m3) --->  1.32\n",
      "Electricity portion of LCOW (%) ---> 26.186\n",
      "----------------------------------------------------------------------\n",
      "\tFeed pressure for ro_first_pass: 85.0 bar\n",
      "\tMembrane area for ro_first_pass: 99391.07 m2\n",
      "\tPure Water Flux for ro_first_pass: 44.99995247129232 lmh\n",
      "\tA constant for ro_first_pass: 6.999999865904329\n",
      "\tB constant for ro_first_pass: 0.434250041552142\n",
      "\tFeed pressure for ro_second_pass: 26.18 bar\n",
      "\tMembrane area for ro_second_pass: 67245.79 m2\n",
      "\tPure Water Flux for ro_second_pass: 44.069980173135995 lmh\n",
      "\tA constant for ro_second_pass: 6.9999997589085865\n",
      "\tB constant for ro_second_pass: 0.6999994934555204\n"
     ]
    },
    {
     "data": {
      "text/plain": [
       "<pyomo.core.base.PyomoModel.ConcreteModel at 0x7faaa2ac8c00>"
      ]
     },
     "execution_count": 3,
     "metadata": {},
     "output_type": "execute_result"
    }
   ],
   "source": [
    "# case_study = 'ashkelon'\n",
    "# scenario = 'one_ro'\n",
    "# reference = 'nawi'\n",
    "# source_water = 'seawater'\n",
    "# ro_bounds = 'seawater'\n",
    "# desired_recovery = 1\n",
    "\n",
    "# case_study = 'carlsbad'\n",
    "# scenario = 'one_ro'\n",
    "# reference = 'nawi'\n",
    "# source_water = 'seawater'\n",
    "# ro_bounds = 'seawater'\n",
    "# desired_recovery = 1\n",
    "\n",
    "# case_study = 'santa_barbara'\n",
    "# scenario = 'baseline'\n",
    "# reference = 'nawi'\n",
    "# source_water = 'seawater'\n",
    "# ro_bounds = 'seawater'\n",
    "# desired_recovery = 1\n",
    "\n",
    "case_study = 'tampa_bay'\n",
    "scenario = 'baseline'\n",
    "reference = 'nawi'\n",
    "source_water = 'seawater'\n",
    "ro_bounds = 'seawater'\n",
    "desired_recovery = 1\n",
    "\n",
    "m = watertap_setup(dynamic=False, case_study = case_study, reference = reference, \n",
    "                      scenario = scenario, source_scenario = \"baseline\")\n",
    "\n",
    "m = get_case_study(m=m)\n",
    "\n",
    "run_water_tap_ro(m, desired_recovery=desired_recovery, ro_bounds=ro_bounds,\n",
    "                 source_water_category='seawater', scenario_name=scenario,\n",
    "                 source_scenario='baseline')     "
   ]
  },
  {
   "cell_type": "code",
   "execution_count": null,
   "metadata": {},
   "outputs": [],
   "source": [
    "m.fs.reverse_osmosis.display()"
   ]
  },
  {
   "cell_type": "code",
   "execution_count": null,
   "metadata": {},
   "outputs": [],
   "source": []
  },
  {
   "cell_type": "code",
   "execution_count": null,
   "metadata": {},
   "outputs": [],
   "source": []
  },
  {
   "cell_type": "code",
   "execution_count": null,
   "metadata": {},
   "outputs": [],
   "source": []
  },
  {
   "cell_type": "code",
   "execution_count": null,
   "metadata": {},
   "outputs": [],
   "source": []
  },
  {
   "cell_type": "code",
   "execution_count": null,
   "metadata": {},
   "outputs": [],
   "source": [
    "from scipy.optimize import curve_fit\n",
    "import numpy as np\n",
    "flow_cc = np.array([3.6, 18, 36, 72, 108, 144, 180])  # m3/hr\n",
    "cost_cc = np.array([5916, 9511, 11930, 15123, 17444, 19336, 20960])  ## $$\n",
    "\n",
    "def func(x, a, b, c):\n",
    "    return a + b * x ** c\n",
    "\n",
    "cc_params, _ = curve_fit(func, flow_cc, cost_cc)\n",
    "a, b, c = cc_params[0], cc_params[1], cc_params[2]"
   ]
  },
  {
   "cell_type": "code",
   "execution_count": null,
   "metadata": {},
   "outputs": [],
   "source": [
    "a, b, c"
   ]
  },
  {
   "cell_type": "code",
   "execution_count": null,
   "metadata": {},
   "outputs": [],
   "source": []
  },
  {
   "cell_type": "code",
   "execution_count": null,
   "metadata": {},
   "outputs": [],
   "source": []
  },
  {
   "cell_type": "code",
   "execution_count": null,
   "metadata": {},
   "outputs": [],
   "source": [
    "import pandas as pd\n",
    "from watertap3 import case_study_trains, generate_constituent_list\n",
    "m.fs.flow_in_dict = 1\n",
    "case_study_library = \"data/treatment_train_setup.xlsx\"\n",
    "\n",
    "# set up tables of design (how units are connected) and units (list of all units needed for the train)\n",
    "#df_design = pd.read_excel(case_study_library, sheet_name='design')\n",
    "df_units = pd.read_excel(case_study_library, sheet_name='units')\n",
    "df_units.CaseStudy = df_units.CaseStudy.str.lower()\n",
    "df_units.Reference = df_units.Reference.str.lower()\n",
    "df_units.Scenario = df_units.Scenario.str.lower()\n",
    "df_units = case_study_trains.filter_df(df_units, m)\n"
   ]
  },
  {
   "cell_type": "code",
   "execution_count": null,
   "metadata": {},
   "outputs": [],
   "source": []
  },
  {
   "cell_type": "code",
   "execution_count": null,
   "metadata": {},
   "outputs": [],
   "source": []
  },
  {
   "cell_type": "code",
   "execution_count": null,
   "metadata": {},
   "outputs": [],
   "source": []
  },
  {
   "cell_type": "code",
   "execution_count": null,
   "metadata": {},
   "outputs": [],
   "source": []
  },
  {
   "cell_type": "code",
   "execution_count": null,
   "metadata": {
    "tags": []
   },
   "outputs": [],
   "source": []
  },
  {
   "cell_type": "code",
   "execution_count": null,
   "metadata": {},
   "outputs": [],
   "source": []
  },
  {
   "cell_type": "code",
   "execution_count": null,
   "metadata": {},
   "outputs": [],
   "source": []
  },
  {
   "cell_type": "code",
   "execution_count": null,
   "metadata": {},
   "outputs": [],
   "source": [
    "from watertap3.water_props import WaterParameterBlock\n",
    "m.fs.properties = WaterParameterBlock()"
   ]
  },
  {
   "cell_type": "code",
   "execution_count": null,
   "metadata": {},
   "outputs": [],
   "source": [
    "# m.fs.water.display()"
   ]
  },
  {
   "cell_type": "code",
   "execution_count": null,
   "metadata": {},
   "outputs": [],
   "source": [
    "### this is where design.add_unit_process() is called\n",
    "from watertap3.wt_units import WT3UnitProcess"
   ]
  },
  {
   "cell_type": "code",
   "execution_count": null,
   "metadata": {},
   "outputs": [],
   "source": [
    "unit = WT3UnitProcess\n",
    "unit_name = 'sw_onshore_intake'"
   ]
  },
  {
   "cell_type": "code",
   "execution_count": null,
   "metadata": {},
   "outputs": [],
   "source": [
    "m.fs.test = WT3UnitProcess(default={'property_package': m.fs.properties})"
   ]
  },
  {
   "cell_type": "code",
   "execution_count": null,
   "metadata": {},
   "outputs": [],
   "source": [
    "m.fs.test.display()"
   ]
  },
  {
   "cell_type": "code",
   "execution_count": null,
   "metadata": {},
   "outputs": [],
   "source": [
    "from watertap3.wt_units.sw_onshore_intake import SWOnshoreIntake \n",
    "m.fs.test2 = SWOnshoreIntake(default={\"property_package\": WaterParameterBlock})"
   ]
  },
  {
   "cell_type": "code",
   "execution_count": null,
   "metadata": {},
   "outputs": [],
   "source": [
    "m.fs.test2.display()"
   ]
  },
  {
   "cell_type": "code",
   "execution_count": null,
   "metadata": {},
   "outputs": [],
   "source": [
    "setattr(m.fs, unit_name, SWOnshoreIntake(default={\"property_package\": m.fs.water}))\n"
   ]
  },
  {
   "cell_type": "code",
   "execution_count": null,
   "metadata": {},
   "outputs": [],
   "source": [
    "### this is where constituent_removal_water_recovery.create() is called\n",
    "from watertap3.utils.constituent_removal_water_recovery import create\n",
    "m = create(m, unit_name, unit_name)"
   ]
  },
  {
   "cell_type": "code",
   "execution_count": null,
   "metadata": {},
   "outputs": [],
   "source": [
    "m.display()"
   ]
  },
  {
   "cell_type": "code",
   "execution_count": null,
   "metadata": {},
   "outputs": [],
   "source": [
    "from pyomo.environ import ConcreteModel, SolverFactory, TerminationCondition\n",
    "from idaes.core import FlowsheetBlock\n",
    "from idaes.core.util.model_statistics import degrees_of_freedom\n",
    "from pyomo.util.check_units import assert_units_consistent\n",
    "import idaes.core.util.scaling as iscale"
   ]
  },
  {
   "cell_type": "code",
   "execution_count": null,
   "metadata": {},
   "outputs": [],
   "source": [
    "m = ConcreteModel()\n",
    "m.fs = FlowsheetBlock(default={\"dynamic\": False})"
   ]
  },
  {
   "cell_type": "code",
   "execution_count": null,
   "metadata": {},
   "outputs": [],
   "source": [
    "from watertap3.water_props import WaterParameterBlock"
   ]
  },
  {
   "cell_type": "code",
   "execution_count": null,
   "metadata": {},
   "outputs": [],
   "source": [
    "m.fs.water = WaterParameterBlock()"
   ]
  },
  {
   "cell_type": "code",
   "execution_count": null,
   "metadata": {},
   "outputs": [],
   "source": []
  },
  {
   "cell_type": "code",
   "execution_count": null,
   "metadata": {},
   "outputs": [],
   "source": []
  },
  {
   "cell_type": "code",
   "execution_count": null,
   "metadata": {
    "tags": []
   },
   "outputs": [],
   "source": [
    "for source_water in [\"seawater\"]: #df.source_water_category.unique():\n",
    "    for case_study in [\"ashkelon\"]: #df[df.source_water_category == source_water].case_study.unique():\n",
    "        h1 = df[df.case_study == case_study]\n",
    "\n",
    "        if case_study in [\"upw\"]:\n",
    "            scenarios = [\"zld_a\", \"zld_b\", \"zld_c\", \"baseline\"]\n",
    "        else:        \n",
    "            scenarios = h1.scenario.unique()\n",
    "\n",
    "        for scenario in scenarios:\n",
    "\n",
    "            print(\"------------------------------------------------------\")\n",
    "            print(\"------------------------------------------------------\")\n",
    "            print(\"-----------\", case_study, scenario, \"-----------------\")\n",
    "            print(\"------------------------------------------------------\")\n",
    "            print(\"------------------------------------------------------\")\n",
    "\n",
    "            desired_recovery = df[((df.case_study == case_study) & (df.scenario == scenario))].max_recovery_rate.max()\n",
    "\n",
    "            source_water_category = df[((df.case_study == case_study) & (df.scenario == scenario))].source_water_category.max()\n",
    "\n",
    "            skip_small_base = df[((df.case_study == case_study) & (df.scenario == scenario))].skip_small_base.max()\n",
    "            skip_small_sens = df[((df.case_study == case_study) & (df.scenario == scenario))].skip_small_sens.max()\n",
    "            ro_bounds = df[((df.case_study == case_study) & (df.scenario == scenario))].ro_bounds.max()\n",
    "\n",
    "            m = wt.watertap_setup(dynamic=False, case_study = case_study, reference = reference, \n",
    "                                  scenario = scenario, source_scenario = \"baseline\")\n",
    "\n",
    "            m = wt.case_study_trains.get_case_study(m=m)\n",
    "\n",
    "            for key in m.fs.pfd_dict.keys():\n",
    "                if m.fs.pfd_dict[key][\"Unit\"] == \"reverse_osmosis\":\n",
    "                    getattr(m.fs, key).a.fix(4.2)\n",
    "                    getattr(m.fs, key).b.fix(0.35)\n",
    "\n",
    "            if \"1p5\" in scenario:\n",
    "                m.fs.irrigation_and_drainage.flow_vol_in.fix(0.0657)\n",
    "\n",
    "            # run and and return baseline with 0 degrees of freedom\n",
    "            m = wt.run_water_tap_ro(m, source_water_category = source_water_category, \n",
    "                                 desired_recovery = desired_recovery, skip_small = skip_small_base, \n",
    "                                 ro_bounds = ro_bounds, source_scenario = \"baseline\", scenario_name = scenario)\n",
    "\n",
    "            if scenario == \"baseline\":\n",
    "                wt.sensitivity_runs(m = m, save_results = True, scenario = scenario, \n",
    "                                    case_study = case_study, skip_small_sens = skip_small_sens)\n",
    "\n",
    "                if source_water == \"seawater\":\n",
    "                    m = wt.get_fixed_onm_reduction(m)\n",
    "                    wt.run_water_tap(m=m, objective=True, skip_small=skip_small_base, print_model_results=\"summary\")\n",
    "                    df_no2 = wt.get_results_table(m=m, case_study=m.fs.train[\"case_study\"], \n",
    "                                              scenario=\"50%_fixed_onm_reduction\")\n",
    "\n",
    "                if case_study == \"san_luis\":\n",
    "                    n = 1\n",
    "                    for flow_scenario in [0.0657, 0.1314, 0.2191]:\n",
    "                        m.fs.irrigation_and_drainage.flow_vol_in.fix(flow_scenario)\n",
    "                        m.fs.reverse_osmosis.feed.pressure.unfix()\n",
    "                        m.fs.reverse_osmosis.membrane_area.unfix()\n",
    "\n",
    "                        print(\"adjusted baseline flow -->\", flow_scenario)\n",
    "                        wt.run_water_tap(m=m, objective=True, skip_small=skip_small_base, print_model_results=\"summary\")\n",
    "                        if n == 1: s_name = m.fs.train[\"case_study\"] + \"1p5_mgd\"\n",
    "                        if n == 2: s_name = m.fs.train[\"case_study\"] + \"3_mgd\"\n",
    "                        if n == 3: s_name = m.fs.train[\"case_study\"] + \"5_mgd\"\n",
    "                        df_no2 = wt.get_results_table(m=m, case_study=m.fs.train[\"case_study\"], scenario=s_name)                \n",
    "                        n = n + 1\n",
    "\n",
    "            dwi_list = [\"emwd\", \"big_spring\"]   \n",
    "            if m.fs.train[\"case_study\"] in dwi_list:\n",
    "                for key in m.fs.pfd_dict.keys():\n",
    "                    if m.fs.pfd_dict[key][\"Unit\"] == \"deep_well_injection\":\n",
    "                        wt.sensitivity_runs(m = m, save_results = True, scenario = scenario, \n",
    "                                            case_study = case_study, skip_small_sens = skip_small_sens)\n",
    "\n",
    "            if scenario in [\"edr_ph_ro\", \"ro_and_mf\"]:\n",
    "                print(\"goes in\")\n",
    "                wt.sensitivity_runs(m = m, save_results = True, scenario = scenario, \n",
    "                                    case_study = case_study, skip_small_sens = skip_small_sens)                \n",
    "\n",
    "            if source_water == \"power\":\n",
    "                for key in m.fs.pfd_dict.keys():\n",
    "                    if m.fs.pfd_dict[key][\"Unit\"] == \"evaporation_pond\":\n",
    "                        wt.sensitivity_runs(m = m, save_results = True, scenario = scenario, \n",
    "                                            case_study = case_study, skip_small_sens = skip_small_sens)  \n",
    "\n"
   ]
  },
  {
   "cell_type": "code",
   "execution_count": null,
   "metadata": {},
   "outputs": [],
   "source": []
  },
  {
   "cell_type": "code",
   "execution_count": null,
   "metadata": {},
   "outputs": [],
   "source": []
  },
  {
   "cell_type": "code",
   "execution_count": null,
   "metadata": {},
   "outputs": [],
   "source": []
  },
  {
   "cell_type": "code",
   "execution_count": null,
   "metadata": {},
   "outputs": [],
   "source": []
  },
  {
   "cell_type": "code",
   "execution_count": null,
   "metadata": {},
   "outputs": [],
   "source": []
  },
  {
   "cell_type": "code",
   "execution_count": null,
   "metadata": {},
   "outputs": [],
   "source": []
  },
  {
   "cell_type": "code",
   "execution_count": null,
   "metadata": {},
   "outputs": [],
   "source": []
  },
  {
   "cell_type": "code",
   "execution_count": null,
   "metadata": {},
   "outputs": [],
   "source": []
  },
  {
   "cell_type": "code",
   "execution_count": null,
   "metadata": {},
   "outputs": [],
   "source": []
  },
  {
   "cell_type": "code",
   "execution_count": null,
   "metadata": {},
   "outputs": [],
   "source": [
    "wt.display.show_train2(model_name=m)"
   ]
  },
  {
   "cell_type": "code",
   "execution_count": null,
   "metadata": {},
   "outputs": [],
   "source": [
    "#wt.run_water_tap(m=m, objective=False, print_model_results=\"summary\", skip_small=True)"
   ]
  },
  {
   "cell_type": "code",
   "execution_count": null,
   "metadata": {},
   "outputs": [],
   "source": []
  },
  {
   "cell_type": "code",
   "execution_count": null,
   "metadata": {},
   "outputs": [],
   "source": [
    "import pandas as pd\n",
    "df = pd.read_csv('data/water_recovery.csv')\n",
    "case_study_name = 'ashkelon'\n",
    "unit_process_name = 'ro_first_pass'\n",
    "unit_process_type = 'reverse_osmosis'\n",
    "\n",
    "if unit_process_type == 'reverse_osmosis':\n",
    "    unit_process_type = 'ro_deep'  # until reverse osmosis is in table input\n",
    "    \n",
    "case_study_list = df[df.unit_process == unit_process_type].case_study.to_list()\n",
    "case_study_df = df[((df.unit_process == unit_process_type) & (df.case_study == case_study_name))].recovery\n",
    "default_df = df[((df.unit_process == unit_process_type) & (df.case_study == 'default'))].recovery\n",
    "\n",
    "if case_study_df.empty:\n",
    "    if case_study_name in case_study_list:\n",
    "        flow_recovery_factor = float(case_study_df)\n",
    "    else:\n",
    "        flow_recovery_factor = float(default_df)\n",
    "\n",
    "# if case_study_name in case_study_list:\n",
    "#     if 'calculated' not in case_study_df.max():\n",
    "#         flow_recovery_factor = float(case_study_df)\n",
    "# #         getattr(m.fs, unit_process_name).water_recovery.fix(flow_recovery_factor)\n",
    "# else:\n",
    "#     if 'calculated' not in default_df.max():\n",
    "#         flow_recovery_factor = float(default_df)\n",
    "# #         getattr(m.fs, unit_process_name).water_recovery.fix(flow_recovery_factor)\n",
    "\n",
    "print(flow_recovery_factor)"
   ]
  },
  {
   "cell_type": "code",
   "execution_count": null,
   "metadata": {},
   "outputs": [],
   "source": [
    "case_study_df"
   ]
  },
  {
   "cell_type": "code",
   "execution_count": null,
   "metadata": {},
   "outputs": [],
   "source": [
    "case_study_list"
   ]
  },
  {
   "cell_type": "code",
   "execution_count": null,
   "metadata": {},
   "outputs": [],
   "source": []
  },
  {
   "cell_type": "code",
   "execution_count": null,
   "metadata": {},
   "outputs": [],
   "source": [
    "import pandas as pd\n",
    "# del flow_recovery_factor\n",
    "df = pd.read_csv('data/water_recovery.csv')\n",
    "case_study_name = 'ashkelon'\n",
    "unit_process_name = 'ro_first_pass'\n",
    "unit_process_type = 'reverse_osmosis'\n",
    "\n",
    "# if unit_process_type == 'reverse_osmosis':\n",
    "#     unit_process_type = 'ro_deep'  # until reverse osmosis is in table input\n",
    "    \n",
    "case_study_list = df[df.unit_process == unit_process_type].case_study.to_list()\n",
    "case_study_df = df[((df.unit_process == unit_process_type) & (df.case_study == case_study_name))].recovery\n",
    "default_df = df[((df.unit_process == unit_process_type) & (df.case_study == 'default'))].recovery\n",
    "\n",
    "if case_study_name in case_study_list:\n",
    "    if 'calculated' not in case_study_df.max():\n",
    "        flow_recovery_factor = float(case_study_df)\n",
    "#         getattr(m.fs, unit_process_name).water_recovery.fix(flow_recovery_factor)\n",
    "else:\n",
    "    if 'calculated' not in default_df.max():\n",
    "        flow_recovery_factor = float(default_df)\n",
    "#         getattr(m.fs, unit_process_name).water_recovery.fix(flow_recovery_factor)\n",
    "\n",
    "# print(flow_recovery_factor)"
   ]
  },
  {
   "cell_type": "code",
   "execution_count": null,
   "metadata": {},
   "outputs": [],
   "source": [
    "case_study_list"
   ]
  },
  {
   "cell_type": "code",
   "execution_count": null,
   "metadata": {},
   "outputs": [],
   "source": [
    "case_study_df"
   ]
  },
  {
   "cell_type": "code",
   "execution_count": null,
   "metadata": {},
   "outputs": [],
   "source": [
    "default_df"
   ]
  },
  {
   "cell_type": "code",
   "execution_count": null,
   "metadata": {},
   "outputs": [],
   "source": []
  },
  {
   "cell_type": "code",
   "execution_count": null,
   "metadata": {},
   "outputs": [],
   "source": []
  },
  {
   "cell_type": "code",
   "execution_count": null,
   "metadata": {},
   "outputs": [],
   "source": []
  },
  {
   "cell_type": "code",
   "execution_count": null,
   "metadata": {},
   "outputs": [],
   "source": []
  },
  {
   "cell_type": "code",
   "execution_count": null,
   "metadata": {},
   "outputs": [],
   "source": []
  },
  {
   "cell_type": "code",
   "execution_count": null,
   "metadata": {},
   "outputs": [],
   "source": []
  },
  {
   "cell_type": "code",
   "execution_count": null,
   "metadata": {},
   "outputs": [],
   "source": []
  },
  {
   "cell_type": "code",
   "execution_count": null,
   "metadata": {},
   "outputs": [],
   "source": []
  },
  {
   "cell_type": "code",
   "execution_count": null,
   "metadata": {},
   "outputs": [],
   "source": []
  },
  {
   "cell_type": "code",
   "execution_count": null,
   "metadata": {},
   "outputs": [],
   "source": []
  },
  {
   "cell_type": "code",
   "execution_count": null,
   "metadata": {},
   "outputs": [],
   "source": [
    "import pyomo.util.infeasible as infeas\n",
    "print(infeas.log_infeasible_bounds(m))\n",
    "print(infeas.log_infeasible_constraints(m))"
   ]
  },
  {
   "cell_type": "code",
   "execution_count": null,
   "metadata": {},
   "outputs": [],
   "source": []
  },
  {
   "cell_type": "code",
   "execution_count": null,
   "metadata": {},
   "outputs": [],
   "source": []
  },
  {
   "cell_type": "code",
   "execution_count": null,
   "metadata": {},
   "outputs": [],
   "source": []
  }
 ],
 "metadata": {
  "celltoolbar": "Raw Cell Format",
  "kernelspec": {
   "display_name": "Python 3",
   "language": "python",
   "name": "python3"
  },
  "language_info": {
   "codemirror_mode": {
    "name": "ipython",
    "version": 3
   },
   "file_extension": ".py",
   "mimetype": "text/x-python",
   "name": "python",
   "nbconvert_exporter": "python",
   "pygments_lexer": "ipython3",
   "version": "3.8.8"
  }
 },
 "nbformat": 4,
 "nbformat_minor": 4
}
