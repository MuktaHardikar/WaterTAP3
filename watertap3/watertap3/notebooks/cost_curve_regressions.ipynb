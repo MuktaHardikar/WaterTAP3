{
 "cells": [
  {
   "cell_type": "code",
   "execution_count": 1,
   "metadata": {},
   "outputs": [],
   "source": [
    "%matplotlib inline\n",
    "from pylab import *\n",
    "import pandas as pd\n",
    "import numpy as np\n",
    "import matplotlib.pyplot as plt\n",
    "import seaborn as sns\n",
    "pd.set_option('display.max_columns', None)  # or 1000\n",
    "pd.set_option('display.max_rows', None)  # or 1000\n",
    "pd.set_option('display.max_colwidth', None)  # or 199\n",
    "from scipy.stats import linregress\n",
    "from scipy.optimize import curve_fit\n",
    "from scipy.interpolate import interp1d\n",
    "from sklearn.linear_model import LinearRegression\n",
    "from sklearn.preprocessing import PolynomialFeatures"
   ]
  },
  {
   "cell_type": "code",
   "execution_count": null,
   "metadata": {},
   "outputs": [],
   "source": [
    "def power(x, a, b):\n",
    "    return a * x ** b\n",
    "\n",
    "def decay(x, a, b):\n",
    "    return a * np.exp(-b * x)\n",
    "\n",
    "def uv_cost_interp_dose(df, min_interp, max_interp, inc_interp, kind='linear', dose_list=[10, 20, 50, 100, 200, 300, 500, 800, 1000], uvt_list=[0.55, 0.6, 0.65, 0.7, 0.75, 0.85, 0.9, 0.95]):\n",
    "    cost_out = pd.DataFrame()\n",
    "    x = np.arange(min_interp, max_interp + inc_interp, inc_interp)\n",
    "    for i, uvt in enumerate(uvt_list):\n",
    "        cost = df.iloc[:, i]\n",
    "        coeffs, _ = curve_fit(power, dose_list, cost)\n",
    "        y = power(x, *coeffs)\n",
    "        cost_out[uvt] = pd.Series(y)\n",
    "    ind = map(lambda x: round(x), x)\n",
    "#     x_out = list(x)\n",
    "    cost_out.set_index(ind, inplace=True)\n",
    "    return cost_out\n",
    "\n",
    "def uv_cost_interp_uvt(df, min_interp, max_interp, inc_interp, kind='linear', dose_list=[10, 20, 50, 100, 200, 300, 500, 800, 1000], uvt_list=[0.55, 0.6, 0.65, 0.7, 0.75, 0.85, 0.9, 0.95]):\n",
    "    cost_out = pd.DataFrame()\n",
    "    x = np.arange(min_interp, max_interp + inc_interp, inc_interp)\n",
    "    for i, d in enumerate(df.index):\n",
    "        cost = df.iloc[i, :]\n",
    "        coeffs, _ = curve_fit(decay, uvt_list, cost)\n",
    "        y = decay(x, *coeffs)\n",
    "        cost_out[d] = pd.Series(y)\n",
    "    ind = map(lambda x: round(x, 2), x)\n",
    "    cost_out.set_index(ind, inplace=True)\n",
    "    cost_out = cost_out.T\n",
    "    return cost_out\n",
    "\n",
    "def uv_cost_out(dose_in, uvt_in, uv_cost_csv, dose_list=[10, 20, 50, 100, 200, 300, 500, 800, 1000], flow_list=[1, 3, 5, 10, 25], kind='linear', min_interp_flow=0.5, max_interp_flow=50,\n",
    "                inc_interp_flow=0.1, min_interp_uvt=0.5, max_interp_uvt=0.99, inc_interp_uvt=0.01, min_interp_dose=5, max_interp_dose=1500, inc_interp_dose=1):\n",
    "    # Empty list to store points for each UV Dose level\n",
    "    flow_points = []\n",
    "    big_df = pd.DataFrame()\n",
    "    for flow in flow_list:\n",
    "        # Raw data from TWB table\n",
    "        cost = uv_cost_csv.loc[flow]\n",
    "        # Interpolate across dose\n",
    "        cost = uv_cost_interp_dose(cost, min_interp_dose, max_interp_dose, inc_interp_dose, kind=kind)\n",
    "        # Interpolate across UVT\n",
    "        cost = uv_cost_interp_uvt(cost, min_interp_uvt, max_interp_uvt, inc_interp_uvt, kind=kind)\n",
    "        cost['flow'] = flow\n",
    "        flow_points.append(cost[uvt_in][dose_in])\n",
    "        df = pd.DataFrame()\n",
    "        cols = cost.columns.to_list()\n",
    "        for col in cols:\n",
    "            if isinstance(col, str):\n",
    "                df = pd.DataFrame()\n",
    "                continue\n",
    "            df['flow'] = cost.flow\n",
    "            df['uvt'] = col\n",
    "            df['cost'] = cost[col]\n",
    "            big_df = big_df.append(df)\n",
    "            df = pd.DataFrame()\n",
    "    big_df.reset_index(inplace=True)\n",
    "    big_df = big_df.rename(columns={'index': 'dose'})\n",
    "    return big_df, cost"
   ]
  },
  {
   "cell_type": "code",
   "execution_count": null,
   "metadata": {},
   "outputs": [],
   "source": [
    "dose_in = 1000\n",
    "uvt_in = 0.95\n",
    "uv_cost_csv = pd.read_csv('data/uv_cost.csv')  # Needed to interpolate and calculate cost\n",
    "uv_cost_csv.set_index(['Flow', 'UVDose'], inplace=True)  # Needed to interpolate and calculate cost\n",
    "flow_list = [1, 3, 5, 10, 25]  # flow in mgd\n",
    "big_df, cost = uv_cost_out(dose_in, uvt_in, uv_cost_csv, flow_list=flow_list, \n",
    "                                min_interp_uvt=0.55, max_interp_uvt=0.95, inc_interp_uvt=0.05,\n",
    "                               min_interp_dose=10, max_interp_dose=1000, inc_interp_dose=10, kind='linear')\n",
    "\n",
    "# big_df[((big_df.dose == dose_in) & (big_df.uvt == uvt_in))]"
   ]
  },
  {
   "cell_type": "code",
   "execution_count": null,
   "metadata": {},
   "outputs": [],
   "source": [
    "\n",
    "# cols = [0.55, 0.6, 0.65, 0.7, 0.75, 0.85, 0.9, 0.95]\n",
    "# rows = flow_list\n",
    "# xx, yy = np.meshgrid(cols, rows)\n",
    "# z = temp.iloc[:, 2:]\n",
    "# z\n",
    "# fig = plt.figure()\n",
    "# ax = Axes3D(fig)\n",
    "# ax.plot_wireframe(xx, yy, z)"
   ]
  },
  {
   "cell_type": "code",
   "execution_count": null,
   "metadata": {},
   "outputs": [],
   "source": [
    "big_df.to_csv('data/uv_cost_interp.csv')\n",
    "big_df.head()"
   ]
  },
  {
   "cell_type": "code",
   "execution_count": null,
   "metadata": {},
   "outputs": [],
   "source": [
    "df = pd.read_csv('data/chlorine_dose_cost_twb.csv')\n",
    "cols = df.columns.to_list()\n",
    "# del df[cols[0]]\n",
    "df_copy = df.copy(deep=True)\n",
    "del df_copy[\"cost\"]\n",
    "X = df_copy.values.tolist()\n",
    "df_copy.head()\n"
   ]
  },
  {
   "cell_type": "code",
   "execution_count": null,
   "metadata": {},
   "outputs": [],
   "source": [
    "degree = 5\n",
    "\n",
    "poly1 = PolynomialFeatures(degree, include_bias=False)\n",
    "X_poly = poly1.fit_transform(X)\n",
    "X_poly_feature_name = poly1.get_feature_names()\n",
    "\n",
    "df_poly = pd.DataFrame(X_poly, columns=X_poly_feature_name)\n",
    "df_poly['cost']=df['cost']\n",
    "X_train=df_poly.drop('cost',axis=1)\n",
    "y_train=df_poly['cost']\n",
    "\n",
    "poly2 = LinearRegression(normalize=True)\n",
    "model_poly = poly2.fit(X_train, y_train)\n",
    "y_poly = poly2.predict(X_train)\n",
    "RMSE_poly=np.sqrt(np.sum(np.square(y_poly-y_train)))\n",
    "coeffs = pd.Series(model_poly.coef_).to_list()\n",
    "coeffs.append(model_poly.intercept_)\n",
    "combos = pd.Series(df_poly.drop('cost', axis=1).columns).to_list()\n",
    "combos.append('intercept')\n",
    "coeff_poly = pd.DataFrame()\n",
    "coeff_poly['poly'] = combos\n",
    "coeff_poly['coeffs'] = coeffs\n",
    "coeff_poly.set_index(['poly'], inplace=True)\n",
    "coeff_poly.to_csv('data/cost_coeffs.csv')\n",
    "\n",
    "print(f\"R2 value of simple polynomial model: {model_poly.score(X_train,y_train)}\")\n",
    "print(f\"Root-mean-square error of simple polynomial model: {RMSE_poly}\")"
   ]
  },
  {
   "cell_type": "code",
   "execution_count": null,
   "metadata": {},
   "outputs": [],
   "source": [
    "plt.figure(figsize=(12,8))\n",
    "plt.xlabel(\"Predicted value with linear fit\",fontsize=20)\n",
    "plt.ylabel(\"Actual y-values\",fontsize=20)\n",
    "plt.grid(1)\n",
    "plt.scatter(y_poly,y_train,edgecolors=(0,0,0),lw=2,s=80)\n",
    "plt.plot(y_train,y_train, 'k--', lw=2)"
   ]
  },
  {
   "cell_type": "code",
   "execution_count": null,
   "metadata": {},
   "outputs": [],
   "source": [
    "dose_in = 25\n",
    "flow_in = 25\n",
    "# uvt_in = 0.55\n",
    "X = [dose_in, flow_in]\n",
    "X_poly = poly1.fit_transform([X])\n",
    "result = poly2.predict(X_poly)\n",
    "print(result[0])"
   ]
  },
  {
   "cell_type": "code",
   "execution_count": null,
   "metadata": {},
   "outputs": [],
   "source": [
    "def make_cost_curve(f='data/cost_coeffs.csv'):\n",
    "    coefs = pd.read_csv(f, index_col='poly')\n",
    "    cost_curve = []\n",
    "    variables = []\n",
    "    for i, v in enumerate(coefs.index.to_list()):\n",
    "        c = str(coefs.loc[v]['coeffs'])\n",
    "        if v == 'intercept':\n",
    "            if c[0] == '-':\n",
    "                v = '- ' + str(c[1:])\n",
    "            else:\n",
    "                v = '+ ' + str(c)\n",
    "            cost_curve.append(v)\n",
    "            continue\n",
    "        v = v.replace(' ', ' * ')\n",
    "        v = v.replace('^', ' ** ')\n",
    "        variables.append(v)\n",
    "        v = '(' + v + ')'\n",
    "        if c[0] == '-':\n",
    "            v = '- ' + str(c[1:]) + ' * ' + v\n",
    "        else:\n",
    "            v = '+ ' + str(c) + ' * ' + v\n",
    "        cost_curve.append(v)\n",
    "\n",
    "    cost_curve = ' '.join(cost_curve)\n",
    "    cost_curve = cost_curve[2:]\n",
    "    print(cost_curve)\n",
    "    \n",
    "make_cost_curve()"
   ]
  },
  {
   "cell_type": "code",
   "execution_count": null,
   "metadata": {},
   "outputs": [],
   "source": [
    "def chlorine_cost_curve(dose, flow): \n",
    "    x0 = dose\n",
    "    x1 = flow\n",
    "    return 70.56084024436747 * (x0) + 309.3237689958521 * (x1) - 6.390855631622895 * (x0 ** 2) + 314.4445882400488 * (x0 * x1) - 73.92696136505208 * (x1 ** 2) + 0.2217540757793808 * (x0 ** 3) - 18.56187500324536 * (x0 ** 2 * x1) - 28.169770097765962 * (x0 * x1 ** 2) + 5.546127405771258 * (x1 ** 3) + 0.007383048301140656 * (x0 ** 4) + 0.3447360675775987 * (x0 ** 3 * x1) + 1.1283450334571616 * (x0 ** 2 * x1 ** 2) + 0.8782175791007014 * (x0 * x1 ** 3) + 0.0397932851676078 * (x1 ** 4) - 0.00013403493411275142 * (x0 ** 5) - 0.0014230221177644227 * (x0 ** 4 * x1) - 0.009723815046939472 * (x0 ** 3 * x1 ** 2) - 0.02001887217095916 * (x0 ** 2 * x1 ** 3) - 0.008030694670604584 * (x0 * x1 ** 4) - 0.006199572790648463 * (x1 ** 5) - 47.68059195288515"
   ]
  },
  {
   "cell_type": "code",
   "execution_count": null,
   "metadata": {},
   "outputs": [],
   "source": [
    "def ozone_cost_curve(dose, flow):\n",
    "    x0 = dose\n",
    "    x1 = flow\n",
    "    return 284.9076932849161 * (x0) + 758.2335947903442 * (x1) + 1.4637158135190595 * (x0 ** 2) + 31.71000646712404 * (x0 * x1) - 111.85031180771486 * (x1 ** 2) - 1.5698799752966262 * (x0 ** 3) - 9.798330334218141 * (x0 ** 2 * x1) + 46.643362141693245 * (x0 * x1 ** 2) + 5.954522936015657 * (x1 ** 3) + 0.09976859687885986 * (x0 ** 4) + 0.5923298224418531 * (x0 ** 3 * x1) - 0.039802773594318136 * (x0 ** 2 * x1 ** 2) - 5.2106104982491 * (x0 * x1 ** 3) + 0.05367855272586222 * (x1 ** 4) - 0.0017390698969647325 * (x0 ** 5) - 0.010909661508314912 * (x0 ** 4 * x1) + 5.605706200590283e-05 * (x0 ** 3 * x1 ** 2) + 0.0007419299775707678 * (x0 ** 2 * x1 ** 3) + 0.13758553274682606 * (x0 * x1 ** 4) - 0.006279585688836344 * (x1 ** 5) - 73.99967950756219"
   ]
  },
  {
   "cell_type": "code",
   "execution_count": null,
   "metadata": {},
   "outputs": [],
   "source": [
    "def uv_cost_curve(dose, flow, uvt):\n",
    "    x0 = dose\n",
    "    x1 = flow\n",
    "    x2 = uvt\n",
    "    return 161.07784451713113 * (x0) + 8736.516798333001 * (x1) + 90536.76325686356 * (x2) - 0.03687517668439167 * (x0 ** 2) + 61.07790136981863 * (x0 * x1) - 878.1253589167761 * (x0 * x2) + 772.4885141309462 * (x1 ** 2) - 60293.326276432286 * (x1 * x2) + 103261.85121178557 * (x2 ** 2) + 2.4919207474175518e-05 * (x0 ** 3) - 0.007448382234902432 * (x0 ** 2 * x1) + 0.1257300309800212 * (x0 ** 2 * x2) - 1.8299592123639103 * (x0 * x1 ** 2) - 145.05965605086269 * (x0 * x1 * x2) + 1710.1787958941522 * (x0 * x2 ** 2) - 58.08703284163132 * (x1 ** 3) + 46.4065750086683 * (x1 ** 2 * x2) + 114127.9918758084 * (x1 * x2 ** 2) - 572247.4685705776 * (x2 ** 3) - 2.8131200594945222e-08 * (x0 ** 4) + 1.6537327208782985e-06 * (x0 ** 3 * x1) + 3.008480911837976e-06 * (x0 ** 3 * x2) + 0.00022402829057995518 * (x0 ** 2 * x1 ** 2) + 0.00952490238386726 * (x0 ** 2 * x1 * x2) - 0.17611326021146073 * (x0 ** 2 * x2 ** 2) + 0.1055598529924935 * (x0 * x1 ** 3) + 0.9073586712380156 * (x0 * x1 ** 2 * x2) + 132.86147389210407 * (x0 * x1 * x2 ** 2) - 1451.0814564362536 * (x0 * x2 ** 3) - 0.4487971225108924 * (x1 ** 4) + 46.13333708845191 * (x1 ** 3 * x2) - 741.9795544233374 * (x1 ** 2 * x2 ** 2) - 92703.74078657283 * (x1 * x2 ** 3) + 645773.0365532218 * (x2 ** 4) + 6.99753599765409e-12 * (x0 ** 5) - 2.525903025458499e-10 * (x0 ** 4 * x1) + 1.2492507986521385e-08 * (x0 ** 4 * x2) - 1.828842697254165e-08 * (x0 ** 3 * x1 ** 2) - 6.066921244314077e-07 * (x0 ** 3 * x1 * x2) - 1.626180575840077e-05 * (x0 ** 3 * x2 ** 2) - 2.6052181307039928e-06 * (x0 ** 2 * x1 ** 3) - 0.00018388540876124065 * (x0 ** 2 * x1 ** 2 * x2) - 0.0018495071578811726 * (x0 ** 2 * x1 * x2 ** 2) + 0.07940837013171598 * (x0 ** 2 * x2 ** 3) - 0.0021018595176019875 * (x0 * x1 ** 4) - 0.02250364286102411 * (x0 * x1 ** 3 * x2) + 0.105360771260994 * (x0 * x1 ** 2 * x2 ** 2) - 46.90461931021107 * (x0 * x1 * x2 ** 3) + 463.0352936257299 * (x0 * x2 ** 4) + 0.06230446744892178 * (x1 ** 5) - 1.2608174489618384 * (x1 ** 4 * x2) + 8.693495799195249 * (x1 ** 3 * x2 ** 2) + 118.73419768007044 * (x1 ** 2 * x2 ** 3) + 29702.76874648147 * (x1 * x2 ** 4) - 237742.34301086274 * (x2 ** 5) - 30333.723605254574"
   ]
  },
  {
   "cell_type": "code",
   "execution_count": null,
   "metadata": {},
   "outputs": [],
   "source": [
    "cl_cost = chlorine_cost_curve(dose_in, flow_in)\n",
    "cl_cost"
   ]
  },
  {
   "cell_type": "code",
   "execution_count": null,
   "metadata": {},
   "outputs": [],
   "source": [
    "uv_cost = uv_cost_curve(dose_in, flow_in, uvt_in)\n",
    "uv_cost"
   ]
  },
  {
   "cell_type": "code",
   "execution_count": null,
   "metadata": {},
   "outputs": [],
   "source": [
    "ozone_cost = ozone_cost_curve(dose_in, flow_in)\n",
    "ozone_cost"
   ]
  },
  {
   "cell_type": "code",
   "execution_count": null,
   "metadata": {},
   "outputs": [],
   "source": [
    "new_X = []\n",
    "dose_list = []\n",
    "flow_list = []\n",
    "flows = [1, 3, 5, 10, 25]\n",
    "doses = [10, 20, 50, 100, 200, 300, 500, 800, 1000]\n",
    "uvts = [0.5, 0.55, 0.6, 0.65, 0.7, 0.75, 0.8, 0.85, 0.9, 0.95]\n",
    "uvt_list = []\n",
    "for flow in flows:\n",
    "    for uvt in uvts:\n",
    "        for dose in range(100, 1000, 100):\n",
    "            new_X.append([dose, flow, uvt])\n",
    "            dose_list.append(dose)\n",
    "            flow_list.append(flow)\n",
    "            uvt_list.append(uvt)"
   ]
  },
  {
   "cell_type": "code",
   "execution_count": null,
   "metadata": {},
   "outputs": [],
   "source": [
    "poly = PolynomialFeatures(4,include_bias=False)\n",
    "X_poly = poly.fit_transform(new_X)\n",
    "X_poly_feature_name = poly.get_feature_names()"
   ]
  },
  {
   "cell_type": "code",
   "execution_count": null,
   "metadata": {},
   "outputs": [],
   "source": [
    "df_poly = pd.DataFrame(X_poly, columns=X_poly_feature_name)\n",
    "# df_poly.head()"
   ]
  },
  {
   "cell_type": "code",
   "execution_count": null,
   "metadata": {},
   "outputs": [],
   "source": [
    "df_poly['cost']=df['cost']\n",
    "X_train=df_poly.drop('cost',axis=1)\n",
    "y_train=df_poly['cost']\n",
    "X_train.head()"
   ]
  },
  {
   "cell_type": "code",
   "execution_count": null,
   "metadata": {},
   "outputs": [],
   "source": [
    "poly = LinearRegression(normalize=True)\n",
    "model_poly=poly.fit(X_train, y_train)\n",
    "y_poly = poly.predict(X_train)\n",
    "RMSE_poly=np.sqrt(np.sum(np.square(y_poly-y_train)))\n",
    "print(\"Root-mean-square error of simple polynomial model:\",RMSE_poly)"
   ]
  },
  {
   "cell_type": "code",
   "execution_count": null,
   "metadata": {},
   "outputs": [],
   "source": [
    "print (\"R2 value of simple polynomial model:\",model_poly.score(X_train,y_train))"
   ]
  },
  {
   "cell_type": "code",
   "execution_count": null,
   "metadata": {},
   "outputs": [],
   "source": [
    "plt.figure(figsize=(12,8))\n",
    "plt.xlabel(\"Predicted value with linear fit\",fontsize=20)\n",
    "plt.ylabel(\"Actual y-values\",fontsize=20)\n",
    "plt.grid(1)\n",
    "plt.scatter(y_poly,y_train,edgecolors=(0,0,0),lw=2,s=80)\n",
    "plt.plot(y_train,y_train, 'k--', lw=2)"
   ]
  },
  {
   "cell_type": "code",
   "execution_count": null,
   "metadata": {},
   "outputs": [],
   "source": [
    "cost = 0\n",
    "for feature in list(coeff_poly.reset_index()[\"index\"]):\n",
    "#     print(feature)\n",
    "    cost += getattr(df_poly, feature) * coeff_poly.loc[feature].values[0]"
   ]
  },
  {
   "cell_type": "code",
   "execution_count": null,
   "metadata": {},
   "outputs": [],
   "source": [
    "df1 = pd.DataFrame()\n",
    "df1[\"cost\"] = cost\n",
    "df1['uvt'] = uvt_list\n",
    "df1[\"dose\"] = dose_list\n",
    "df1[\"flow\"] = flow_list"
   ]
  },
  {
   "cell_type": "code",
   "execution_count": null,
   "metadata": {},
   "outputs": [],
   "source": [
    "# len(flow_list)"
   ]
  },
  {
   "cell_type": "code",
   "execution_count": null,
   "metadata": {},
   "outputs": [],
   "source": [
    "df1[df1.uvt == 0.7]"
   ]
  },
  {
   "cell_type": "code",
   "execution_count": null,
   "metadata": {},
   "outputs": [],
   "source": [
    "# big_df[((big_df.uvt == 0.7) & (df.flow == 5))]"
   ]
  },
  {
   "cell_type": "code",
   "execution_count": null,
   "metadata": {},
   "outputs": [],
   "source": [
    "coefs = pd.read_csv('data/uv_cost_coeffs.csv', index_col='variables')\n",
    "variables = []\n",
    "for i, v in enumerate(coefs.index.to_list()):\n",
    "    c = str(coefs.loc[v]['coeffs'])\n",
    "#     print(c)\n",
    "    v = v.replace(' ', ' * ')\n",
    "    v = v.replace('^', ' ** ')\n",
    "    v = '(' + v + ')'\n",
    "    if c[0] == '-':\n",
    "        v = '- ' + str(c[1:]) + ' * ' + v\n",
    "    else:\n",
    "        v = '+ ' + str(c) + ' * ' + v\n",
    "    variables.append(v)\n",
    "\n",
    "variables = ' '.join(variables)\n",
    "variables"
   ]
  },
  {
   "cell_type": "code",
   "execution_count": null,
   "metadata": {},
   "outputs": [],
   "source": [
    "def test_func(dose, flow, uvt):\n",
    "    x0 = dose\n",
    "    x1 = flow\n",
    "    x2 = uvt\n",
    "    return 162.93028 * (x0) + 8975.302431 * (x1) + 89174.47688 * (x2) - 0.037414493 * (x0 ** 2) + 60.30660373 * (x0 * x1) - 880.0107450999999 * (x0 * x2) + 730.2296342999999 * (x1 ** 2) - 60370.80342999999 * (x1 * x2) + 107156.5827 * (x2 ** 2) + 2.48e-05 * (x0 ** 3) - 0.007332655 * (x0 ** 2 * x1) + 0.126177452 * (x0 ** 2 * x2) - 1.747882055 * (x0 * x1 ** 2) - 143.8455767 * (x0 * x1 * x2) + 1707.6174629999998 * (x0 * x2 ** 2) - 55.53493452 * (x1 ** 3) + 57.85975016 * (x1 ** 2 * x2) + 113903.6335 * (x1 * x2 ** 2) - 575383.7012 * (x2 ** 3) - 2.7900000000000002e-08 * (x0 ** 4) + 1.7e-06 * (x0 ** 3 * x1) + 2.36e-06 * (x0 ** 3 * x2) + 0.00023630099999999999 * (x0 ** 2 * x1 ** 2) + 0.009140574 * (x0 ** 2 * x1 * x2) - 0.174707323 * (x0 ** 2 * x2 ** 2) + 0.099155245 * (x0 * x1 ** 3) + 0.8777406659999999 * (x0 * x1 ** 2 * x2) + 132.0762753 * (x0 * x1 * x2 ** 2) - 1447.42305 * (x0 * x2 ** 3) - 0.426757834 * (x1 ** 4) + 45.2492601 * (x1 ** 3 * x2) - 736.1036655 * (x1 ** 2 * x2 ** 2) - 92467.21938 * (x1 * x2 ** 3) + 646429.6824 * (x2 ** 4) + 6.92e-12 * (x0 ** 5) - 2.4899999999999997e-10 * (x0 ** 4 * x1) + 1.25e-08 * (x0 ** 4 * x2) - 2.04e-08 * (x0 ** 3 * x1 ** 2) - 6.1e-07 * (x0 ** 3 * x1 * x2) - 1.59e-05 * (x0 ** 3 * x2 ** 2) - 3.24e-06 * (x0 ** 2 * x1 ** 3) - 0.000170533 * (x0 ** 2 * x1 ** 2 * x2) - 0.001838496 * (x0 ** 2 * x1 * x2 ** 2) + 0.07879026 * (x0 ** 2 * x2 ** 3) - 0.0019485260000000001 * (x0 * x1 ** 4) - 0.021693068 * (x0 * x1 ** 3 * x2) + 0.09872938199999999 * (x0 * x1 ** 2 * x2 ** 2) - 46.61584661 * (x0 * x1 * x2 ** 3) + 461.89446889999994 * (x0 * x2 ** 4) + 0.059613815 * (x1 ** 5) - 1.24527992 * (x1 ** 4 * x2) + 8.629531818 * (x1 ** 3 * x2 ** 2) + 118.7753886 * (x1 ** 2 * x2 ** 3) + 29623.10643 * (x1 * x2 ** 4) - 237743.2359 * (x2 ** 5)"
   ]
  },
  {
   "cell_type": "code",
   "execution_count": null,
   "metadata": {},
   "outputs": [],
   "source": [
    "ratios = pd.read_csv('data/evaporation_ratios.csv')\n",
    "ratios.head()"
   ]
  },
  {
   "cell_type": "code",
   "execution_count": null,
   "metadata": {},
   "outputs": [],
   "source": [
    "df = pd.read_csv('data/evaporation_ratios.csv')\n",
    "cols = df.columns.to_list()\n",
    "# del df[cols[0]]\n",
    "df_copy = df.copy(deep=True)\n",
    "del df_copy[\"ratio\"]\n",
    "X = df_copy.values.tolist()\n",
    "df_copy.head()"
   ]
  },
  {
   "cell_type": "code",
   "execution_count": null,
   "metadata": {},
   "outputs": [],
   "source": [
    "degree = 4\n",
    "\n",
    "poly1 = PolynomialFeatures(degree, include_bias=False)\n",
    "X_poly = poly1.fit_transform(X)\n",
    "X_poly_feature_name = poly1.get_feature_names()\n",
    "\n",
    "df_poly = pd.DataFrame(X_poly, columns=X_poly_feature_name)\n",
    "df_poly['ratio']=df['ratio']\n",
    "X_train=df_poly.drop('ratio',axis=1)\n",
    "y_train=df_poly['ratio']\n",
    "\n",
    "poly2 = LinearRegression(normalize=True)\n",
    "model_poly = poly2.fit(X_train, y_train)\n",
    "y_poly = poly2.predict(X_train)\n",
    "RMSE_poly=np.sqrt(np.sum(np.square(y_poly-y_train)))\n",
    "coeffs = pd.Series(model_poly.coef_).to_list()\n",
    "coeffs.append(model_poly.intercept_)\n",
    "combos = pd.Series(df_poly.drop('ratio', axis=1).columns).to_list()\n",
    "combos.append('intercept')\n",
    "coeff_poly = pd.DataFrame()\n",
    "coeff_poly['poly'] = combos\n",
    "coeff_poly['coeffs'] = coeffs\n",
    "coeff_poly.set_index(['poly'], inplace=True)\n",
    "coeff_poly.to_csv('data/cost_coeffs.csv')\n",
    "\n",
    "print(f\"R2 value of simple polynomial model: {model_poly.score(X_train,y_train)}\")\n",
    "print(f\"Root-mean-square error of simple polynomial model: {RMSE_poly}\")"
   ]
  },
  {
   "cell_type": "code",
   "execution_count": null,
   "metadata": {},
   "outputs": [],
   "source": [
    "plt.figure(figsize=(12,8))\n",
    "plt.xlabel(\"Predicted value with linear fit\",fontsize=20)\n",
    "plt.ylabel(\"Actual y-values\",fontsize=20)\n",
    "plt.grid(1)\n",
    "plt.scatter(y_poly,y_train,edgecolors=(0,0,0),lw=2,s=80)\n",
    "plt.plot(y_train,y_train, 'k--', lw=2)"
   ]
  },
  {
   "cell_type": "code",
   "execution_count": null,
   "metadata": {},
   "outputs": [],
   "source": [
    "make_cost_curve()"
   ]
  },
  {
   "cell_type": "code",
   "execution_count": null,
   "metadata": {},
   "outputs": [],
   "source": [
    "def evap_ratio_curve(air_temp, salinity, humidity, wind_speed):\n",
    "    x0 = air_temp\n",
    "    x1 = salinity\n",
    "    x2 = humidity\n",
    "    x3 = wind_speed\n",
    "    return 357121698.96184987 * (x0) + 0.0008941372369600815 * (x1) + 0.3973448779919975 * (x2) - 0.003927111710660495 * (x3) - 0.007442114642316892 * (x0 ** 2) - 0.000128652239703047 * (x0 * x1) - 1934409202.4032648 * (x0 * x2) + 0.0045027897565083075 * (x0 * x3) - 2.889978023215996e-06 * (x1 ** 2) - 0.00209600791291376 * (x1 * x2) - 0.00017693470548577742 * (x1 * x3) + 0.11582806019376178 * (x2 ** 2) - 0.04771267732593376 * (x2 * x3) + 0.0005773980986480874 * (x3 ** 2) + 0.00025286483395937535 * (x0 ** 3) + 5.952481460171908e-06 * (x0 ** 2 * x1) + 0.009483651960147476 * (x0 ** 2 * x2) - 0.0003094123995072152 * (x0 ** 2 * x3) - 1.2189436788747972e-07 * (x0 * x1 ** 2) + 0.0003009308843863364 * (x0 * x1 * x2) + 4.310702877560611e-06 * (x0 * x1 * x3) + 3348015927.030525 * (x0 * x2 ** 2) + 0.0011860947606347465 * (x0 * x2 * x3) - 0.0004525749358525592 * (x0 * x3 ** 2) + 1.4554544458231464e-08 * (x1 ** 3) + 2.5135762775642326e-06 * (x1 ** 2 * x2) + 2.429367721188537e-07 * (x1 ** 2 * x3) - 0.0008909685664066883 * (x1 * x2 ** 2) + 0.0001020516243840251 * (x1 * x2 * x3) + 1.9704519298106838e-05 * (x1 * x3 ** 2) - 0.07682573648746761 * (x2 ** 3) - 0.010917143244887595 * (x2 ** 2 * x3) + 0.011750975353103129 * (x2 * x3 ** 2) - 5.632679950616133e-05 * (x3 ** 3) - 3.019720225555287e-06 * (x0 ** 4) - 1.0713405134493985e-07 * (x0 ** 3 * x1) - 0.00016486628927406908 * (x0 ** 3 * x2) + 6.65478572552483e-06 * (x0 ** 3 * x3) + 3.5212133865532712e-09 * (x0 ** 2 * x1 ** 2) - 6.3699056318976055e-06 * (x0 ** 2 * x1 * x2) - 5.847058467558688e-08 * (x0 ** 2 * x1 * x3) - 0.002754881232565323 * (x0 ** 2 * x2 ** 2) + 0.00020128842880137235 * (x0 ** 2 * x2 * x3) - 6.922244847765836e-06 * (x0 ** 2 * x3 ** 2) - 2.0819489172967878e-11 * (x0 * x1 ** 3) + 1.0755449901203263e-07 * (x0 * x1 ** 2 * x2) - 4.9623288791000185e-09 * (x0 * x1 ** 2 * x3) - 0.00016358759491721874 * (x0 * x1 * x2 ** 2) - 8.13416940257809e-06 * (x0 * x1 * x2 * x3) + 2.12108813034428e-07 * (x0 * x1 * x3 ** 2) - 1860008848.308623 * (x0 * x2 ** 3) - 0.002285513406269595 * (x0 * x2 ** 2 * x3) - 0.0003294613697659113 * (x0 * x2 * x3 ** 2) + 5.946126195453333e-05 * (x0 * x3 ** 3) - 2.267900336051701e-11 * (x1 ** 4) + 4.009468768073304e-09 * (x1 ** 3 * x2) - 1.097476297128187e-09 * (x1 ** 3 * x3) - 4.309739241563067e-06 * (x1 ** 2 * x2 ** 2) + 1.8083704523469594e-07 * (x1 ** 2 * x2 * x3) + 2.2965494706859625e-08 * (x1 ** 2 * x3 ** 2) + 0.003193086240505019 * (x1 * x2 ** 3) - 0.0003298416187657616 * (x1 * x2 ** 2 * x3) + 1.8231740152453496e-05 * (x1 * x2 * x3 ** 2) - 2.449058017690561e-06 * (x1 * x3 ** 3) - 0.29363656300064817 * (x2 ** 4) + 0.08270527896439142 * (x2 ** 3 * x3) - 0.011423623677389382 * (x2 ** 2 * x3 ** 2) + 0.00011714567555933404 * (x2 * x3 ** 3) - 3.171665720258127e-05 * (x3 ** 4) + 0.7172484045124373"
   ]
  },
  {
   "cell_type": "code",
   "execution_count": null,
   "metadata": {},
   "outputs": [],
   "source": [
    "temp = 4.44444\n",
    "salinity = 50\n",
    "humidity = 0.4\n",
    "wind_speed = 0.89408\n",
    "ratio = evap_ratio_curve(temp, salinity, humidity, wind_speed)\n",
    "ratio"
   ]
  },
  {
   "cell_type": "code",
   "execution_count": null,
   "metadata": {},
   "outputs": [],
   "source": [
    "temp = 4.44444\n",
    "salinity = 50\n",
    "humidity = 0.4\n",
    "wind_speed = 0.89408\n",
    "X = [temp, salinity, humidity, wind_speed]\n",
    "print(X)\n",
    "X_poly = poly1.fit_transform([X])\n",
    "result = poly2.predict(X_poly)\n",
    "print(result[0])"
   ]
  },
  {
   "cell_type": "code",
   "execution_count": null,
   "metadata": {},
   "outputs": [],
   "source": []
  },
  {
   "cell_type": "code",
   "execution_count": null,
   "metadata": {},
   "outputs": [],
   "source": [
    "air_temp = 25\n",
    "salinity = 139.01251125112515\n",
    "humidity = 0.5\n",
    "wind_speed = 5\n",
    "dose = 10\n",
    "uvt = 0.55\n",
    "flow = 100\n",
    "\n",
    "\n",
    "poly_cost_curve('data/uv_cost_twb.csv', 'Cost', 5, dose, uvt, flow, print_scores=True, print_eqn=True, plot_it=True, test_it=True)\n",
    "\n",
    "\n"
   ]
  },
  {
   "cell_type": "code",
   "execution_count": null,
   "metadata": {},
   "outputs": [],
   "source": [
    "def evap_ratio_curve(air_temp, salinity, humidity, wind_speed):\n",
    "    x0 = air_temp\n",
    "    x1 = salinity\n",
    "    x2 = humidity\n",
    "    x3 = wind_speed\n",
    "    return - 0.0465233559 * (x0) - 0.0011189096 * (x1) - 0.7088094852 * (x2) - 0.0257883428 * (x3) + 0.0017209498 * (x0 ** 2) + 7.54344e-05 * (x0 * x1) + 0.0923261483 * (x0 * x2) - 0.0002522583 * (x0 * x3) + 7.74e-07 * (x1 ** 2) + 0.0012751516 * (x1 * x2) + 1.16276e-05 * (x1 * x3) - 0.042838386 * (x2 ** 2) + 0.0842127857 * (x2 * x3) + 0.0006828725 * (x3 ** 2) - 2.55508e-05 * (x0 ** 3) - 1.6415e-06 * (x0 ** 2 * x1) - 0.001500322 * (x0 ** 2 * x2) + 4.46853e-05 * (x0 ** 2 * x3) + 2.8e-08 * (x0 * x1 ** 2) - 8.93471e-05 * (x0 * x1 * x2) - 2.6285e-06 * (x0 * x1 * x3) - 0.0472354101 * (x0 * x2 ** 2) + 0.000814877 * (x0 * x2 * x3) - 0.0001268287 * (x0 * x3 ** 2) - 2.4e-09 * (x1 ** 3) + 1.9905e-06 * (x1 ** 2 * x2) - 1.214e-07 * (x1 ** 2 * x3) - 0.0004983631 * (x1 * x2 ** 2) - 0.0002213007 * (x1 * x2 * x3) + 1.36134e-05 * (x1 * x3 ** 2) + 0.4822279076 * (x2 ** 3) - 0.0473877989 * (x2 ** 2 * x3) - 0.0027941016 * (x2 * x3 ** 2) + 9.36662e-05 * (x3 ** 3) + 1.3159327466\n",
    "\n",
    "\n",
    "\n"
   ]
  },
  {
   "cell_type": "code",
   "execution_count": null,
   "metadata": {},
   "outputs": [],
   "source": [
    "evap_ratio_curve(air_temp, salinity, humidity, wind_speed)"
   ]
  },
  {
   "cell_type": "code",
   "execution_count": null,
   "metadata": {},
   "outputs": [],
   "source": [
    "big_df = pd.DataFrame(columns=['air_temp', 'salinity', 'humidity', 'wind_speed'])\n",
    "for air_temp in np.arange(2, 30, 1):\n",
    "    for salinity in np.arange(45, 400, 50): \n",
    "        for humidity in np.arange(0.1, 0.9, 0.1):\n",
    "            for wind_speed in np.arange(0.3, 10, 1):\n",
    "                df = pd.DataFrame(columns=['air_temp', 'salinity', 'humidity', 'wind_speed'])\n",
    "                df['air_temp'] = air_temp\n",
    "                df['salinity'] = salinity\n",
    "                df['humidity'] = humidity\n",
    "                df['wind_speed'] = wind_speed\n",
    "                df['ratio'] = evap_ratio_curve(air_temp, salinity, humidity, wind_speed)\n",
    "                big_df.append(df)\n",
    "                "
   ]
  },
  {
   "cell_type": "code",
   "execution_count": null,
   "metadata": {},
   "outputs": [],
   "source": []
  },
  {
   "cell_type": "code",
   "execution_count": null,
   "metadata": {},
   "outputs": [],
   "source": []
  },
  {
   "cell_type": "code",
   "execution_count": null,
   "metadata": {},
   "outputs": [],
   "source": [
    "cats = df[((df.uvt == 0.85) & (df.dose == 100))]\n",
    "cats"
   ]
  },
  {
   "cell_type": "code",
   "execution_count": null,
   "metadata": {},
   "outputs": [],
   "source": [
    "x = [0, 1, 3, 5, 10, 25]\n",
    "y = cats.cost.to_list()\n",
    "(a, b), _ = curve_fit(power, x, y)\n",
    "x_new = np.arange(0, 100, 1)\n",
    "y_new = power(x_new, a, b)\n",
    "plt.plot(x, y, x_new, y_new)"
   ]
  },
  {
   "cell_type": "code",
   "execution_count": null,
   "metadata": {},
   "outputs": [],
   "source": [
    "a,b"
   ]
  },
  {
   "cell_type": "code",
   "execution_count": null,
   "metadata": {},
   "outputs": [],
   "source": [
    "df = pd.read_csv('data/uv_cost_twb_high_uvt.csv')\n",
    "df_0 = df[(df.flow == 0)]\n",
    "df_1 = df[(df.flow == 1)]\n",
    "df_3 = df[(df.flow == 3)]\n",
    "df_5 = df[(df.flow == 5)]\n",
    "df_10 = df[(df.flow == 10)]\n",
    "df_25 = df[(df.flow == 25)]\n",
    "df_low = pd.concat([df_0, df_1, df_3, df_5])\n",
    "df_high = pd.concat([df_0, df_5, df_10, df_25])\n",
    "\n"
   ]
  },
  {
   "cell_type": "code",
   "execution_count": null,
   "metadata": {},
   "outputs": [],
   "source": [
    "uvt = 0.85\n",
    "dose = 100\n",
    "x = [0, 5, 10, 25]\n",
    "y = df_high[((df_high.uvt == uvt) & (df_high.dose == dose))].cost.to_list()\n",
    "coeffs, _ = curve_fit(power, x, y)\n",
    "x_new = np.arange(0, 100, 1)\n",
    "y_new = power(x_new, *coeffs)\n",
    "plt.plot(x, y, x_new, y_new)"
   ]
  },
  {
   "cell_type": "code",
   "execution_count": null,
   "metadata": {},
   "outputs": [],
   "source": [
    "def expand_cost_curve(df, flow_list, flow_min, flow_max, flow_inc, f_out):\n",
    "    \n",
    "    def power(x, a, b):\n",
    "        return a * x ** b\n",
    "\n",
    "\n",
    "    df = df\n",
    "    dose_list=[10, 20, 50, 100, 200]\n",
    "    uvt_list=[0.55, 0.6, 0.65, 0.7, 0.75, 0.85, 0.9, 0.95]\n",
    "    flow_list = flow_list\n",
    "    big_sam = pd.DataFrame()\n",
    "    for dose in dose_list:\n",
    "        for uvt in uvt_list:\n",
    "            sam = pd.DataFrame()\n",
    "            temp = df[((df.uvt == uvt) & (df.dose == dose))]\n",
    "            print(temp)\n",
    "            y = temp.cost.to_list()\n",
    "#             print(dose, uvt, y)\n",
    "            coeffs, _ = curve_fit(power, flow_list, y)\n",
    "            flow_new = np.arange(flow_min, flow_max + flow_inc, flow_inc)\n",
    "            cost_new = power(flow_new, *coeffs)\n",
    "            sam['flow'] = flow_new\n",
    "            sam['dose'] = dose\n",
    "            sam['uvt'] = uvt\n",
    "            sam['cost'] = cost_new\n",
    "            big_sam = big_sam.append(sam)\n",
    "\n",
    "    big_sam.to_csv(f_out, index=False)\n",
    "    return big_sam"
   ]
  },
  {
   "cell_type": "code",
   "execution_count": 2,
   "metadata": {},
   "outputs": [],
   "source": [
    "def poly_cost_curve(f_in, y_col, degree, *args, f_out='data/coeffs.csv', print_scores=False, print_eqn=False, plot_it=True, test_it=False):\n",
    "    df = pd.read_csv(f_in)\n",
    "    cols = df.columns.to_list()\n",
    "    df_copy = df.copy(deep=True)\n",
    "    del df_copy[y_col]\n",
    "    X = df_copy.values.tolist()\n",
    "    \n",
    "    degree = degree\n",
    "\n",
    "    poly1 = PolynomialFeatures(degree, include_bias=False)\n",
    "    X_poly = poly1.fit_transform(X)\n",
    "    X_poly_feature_name = poly1.get_feature_names()\n",
    "\n",
    "    df_poly = pd.DataFrame(X_poly, columns=X_poly_feature_name)\n",
    "    df_poly[y_col] = df[y_col]\n",
    "    X_train = df_poly.drop(y_col, axis=1)\n",
    "    y_train = df_poly[y_col]\n",
    "\n",
    "    poly2 = LinearRegression(normalize=True)\n",
    "    model_poly = poly2.fit(X_train, y_train)\n",
    "    y_poly = poly2.predict(X_train)\n",
    "    RMSE_poly=np.sqrt(np.sum(np.square(y_poly - y_train)))\n",
    "    \n",
    "    coeffs = pd.Series(model_poly.coef_).to_list()\n",
    "    coeffs.append(model_poly.intercept_)\n",
    "    \n",
    "    polys = pd.Series(df_poly.drop(y_col, axis=1).columns).to_list()\n",
    "    polys.append('intercept')\n",
    "    \n",
    "    coeff_poly = pd.DataFrame()\n",
    "    coeff_poly['poly'] = polys\n",
    "    coeff_poly['coeffs'] = coeffs\n",
    "    coeff_poly.set_index(['poly'], inplace=True)\n",
    "    coeff_poly.to_csv(f_out)\n",
    "\n",
    "    def make_cost_curve(f_out):\n",
    "        coefs = pd.read_csv(f_out, index_col='poly')\n",
    "        cost_curve = []\n",
    "        variables = []\n",
    "        for i, v in enumerate(coefs.index.to_list()):\n",
    "            c = str(coefs.loc[v]['coeffs'])\n",
    "            c = round(float(c), 10)\n",
    "            c = str(c)\n",
    "            if v == 'intercept':\n",
    "                if c[0] == '-':\n",
    "                    v = '- ' + str(c[1:])\n",
    "                else:\n",
    "                    v = '+ ' + str(c)\n",
    "                cost_curve.append(v)\n",
    "                continue\n",
    "            v = v.replace(' ', ' * ')\n",
    "            v = v.replace('^', ' ** ')\n",
    "            variables.append(v)\n",
    "            v = '(' + v + ')'\n",
    "            if c[0] == '-':\n",
    "                v = '- ' + str(c[1:]) + ' * ' + v\n",
    "            else:\n",
    "                v = '+ ' + str(c) + ' * ' + v\n",
    "            cost_curve.append(v)\n",
    "\n",
    "        cost_curve = ' '.join(cost_curve)\n",
    "#         cost_curve = cost_curve[2:]\n",
    "        print(cost_curve)\n",
    "    \n",
    "    if print_scores:\n",
    "        print(f'Model scores:')\n",
    "        print(f'\\tR-squared = {model_poly.score(X_train,y_train)}')\n",
    "        print(f'\\tRMSE = {RMSE_poly}\\n')\n",
    "        \n",
    "    if print_eqn:\n",
    "        print(f'Regression equation:\\n\\n')\n",
    "        print(f'{make_cost_curve(f_out)}\\n\\n')\n",
    "    \n",
    "    if plot_it:\n",
    "        plt.figure(figsize=(12,8))\n",
    "        plt.xlabel(\"Predicted value with linear fit\", fontsize=15)\n",
    "        plt.ylabel(\"Actual y-values\", fontsize=15)\n",
    "        plt.grid(1)\n",
    "        plt.scatter(y_poly, y_train, edgecolors=(0,0,0), lw=2, s=80)\n",
    "        plt.plot(y_train,y_train, 'k--', lw=2)\n",
    "        \n",
    "    if test_it:\n",
    "        del X_poly\n",
    "        X = [*args]\n",
    "        X_poly = poly1.fit_transform([X])\n",
    "        result = poly2.predict(X_poly)\n",
    "        tups = zip(cols, args)\n",
    "        print(f'\\n\\nTest INPUT:')\n",
    "        for c, a in tups:\n",
    "            print(f'\\t{c} = {a}')\n",
    "        print(f'\\nTest OUTPUT:\\n\\t{y_col} = {round(result[0], 5)}\\n\\n\\n')"
   ]
  },
  {
   "cell_type": "code",
   "execution_count": 3,
   "metadata": {},
   "outputs": [
    {
     "name": "stdout",
     "output_type": "stream",
     "text": [
      "/Users/ksitterl/Documents/Python/watertap3/NAWI-WaterTAP3/watertap3/watertap3\n"
     ]
    },
    {
     "data": {
      "text/plain": [
       "'/Users/ksitterl/Documents/Python/watertap3/NAWI-WaterTAP3/watertap3/watertap3'"
      ]
     },
     "execution_count": 3,
     "metadata": {},
     "output_type": "execute_result"
    }
   ],
   "source": [
    "%cd .. \n",
    "%pwd"
   ]
  },
  {
   "cell_type": "code",
   "execution_count": 26,
   "metadata": {},
   "outputs": [
    {
     "name": "stdout",
     "output_type": "stream",
     "text": [
      "Model scores:\n",
      "\tR-squared = 0.9282908422646853\n",
      "\tRMSE = 0.3650729253102016\n",
      "\n",
      "Regression equation:\n",
      "\n",
      "\n",
      "+ 0.0181657227 * (x0) + 4.38801e-05 * (x1) + 0.2504964875 * (x2) + 0.011328485 * (x3) - 0.0003463853 * (x0 ** 2) - 2.16888e-05 * (x0 * x1) - 0.0181098164 * (x0 * x2) + 0.0002098163 * (x0 * x3) + 8.654e-07 * (x1 ** 2) - 0.0004358946 * (x1 * x2) - 8.73918e-05 * (x1 * x3) - 0.0165224935 * (x2 ** 2) - 0.0174278724 * (x2 * x3) + 0.0003850584 * (x3 ** 2) + 0.7943236298\n",
      "None\n",
      "\n",
      "\n",
      "\n",
      "\n",
      "Test INPUT:\n",
      "\tair temp = 4.4444\n",
      "\tsalinity = 100\n",
      "\thumidity = 0.4\n",
      "\twind speed = 2.7\n",
      "\n",
      "Test OUTPUT:\n",
      "\tratio = 0.91304\n",
      "\n",
      "\n",
      "\n"
     ]
    },
    {
     "data": {
      "image/png": "[encoded data removed]",
      "text/plain": [
       "<Figure size 864x576 with 1 Axes>"
      ]
     },
     "metadata": {
      "needs_background": "light"
     },
     "output_type": "display_data"
    }
   ],
   "source": [
    "# f_in = '/Users/ksitterl/Documents/Python/watertap3/NAWI-WaterTAP3/IDAES-WaterTAP3_v2/data/old/evaporation_ratios.csv'\n",
    "f_in = 'data/ratios.csv'\n",
    "y_col = 'ratio'\n",
    "degree = 2\n",
    "air_temp = 4.4444\n",
    "salinity = 100\n",
    "humidity = 0.4\n",
    "wind_speed = 2.7\n",
    "\n",
    "\n",
    "poly_cost_curve(f_in, y_col, degree, air_temp, salinity, humidity, wind_speed, f_out='data/coeffs.csv', print_scores=True, print_eqn=True, plot_it=True, test_it=True)"
   ]
  },
  {
   "cell_type": "code",
   "execution_count": 27,
   "metadata": {},
   "outputs": [],
   "source": [
    "def ratios(temp, salinity, humidity, wind_speed):\n",
    "    x0 = temp\n",
    "    x1 = salinity\n",
    "    x2 = humidity\n",
    "    x3 = wind_speed\n",
    "    return 0.0181657227 * (x0) + 4.38801e-05 * (x1) + 0.2504964875 * (x2) + 0.011328485 * (x3) - 0.0003463853 * (x0 ** 2) - 2.16888e-05 * (x0 * x1) - 0.0181098164 * (x0 * x2) + 0.0002098163 * (x0 * x3) + 8.654e-07 * (x1 ** 2) - 0.0004358946 * (x1 * x2) - 8.73918e-05 * (x1 * x3) - 0.0165224935 * (x2 ** 2) - 0.0174278724 * (x2 * x3) + 0.0003850584 * (x3 ** 2) + 0.7943236298"
   ]
  },
  {
   "cell_type": "code",
   "execution_count": 35,
   "metadata": {},
   "outputs": [],
   "source": [
    "temp_neg = []\n",
    "salinity_neg = []\n",
    "humidity_neg = []\n",
    "wind_speed_neg = []\n",
    "ratio_neg = []\n",
    "\n",
    "temp_big = []\n",
    "salinity_big = []\n",
    "humidity_big = []\n",
    "wind_speed_big = []\n",
    "ratio_big = []\n",
    "\n",
    "temp_norm = []\n",
    "salinity_norm = []\n",
    "humidity_norm = []\n",
    "wind_speed_norm = []\n",
    "ratio_norm = []\n",
    "\n",
    "\n",
    "\n",
    "\n",
    "for temp in np.arange(4, 30, 0.1):\n",
    "    for salinity in np.arange(50, 300, 5):\n",
    "        for humidity in np.arange(0.4, 0.9, 0.02):\n",
    "            for wind_speed in np.arange(1, 10, 0.1):\n",
    "                ratio = ratios(temp, salinity, humidity, wind_speed)\n",
    "                if ratio <= 0:\n",
    "                    temp_neg.append(temp)\n",
    "                    salinity_neg.append(salinity)\n",
    "                    humidity_neg.append(humidity)\n",
    "                    wind_speed_neg.append(wind_speed)\n",
    "                    ratio_neg.append(ratio)\n",
    "                \n",
    "                if ratio >= 1:\n",
    "                    temp_big.append(temp)\n",
    "                    salinity_big.append(salinity)\n",
    "                    humidity_big.append(humidity)\n",
    "                    wind_speed_big.append(wind_speed)\n",
    "                    ratio_big.append(ratio)\n",
    "\n",
    "                else:\n",
    "                    temp_norm.append(temp)\n",
    "                    salinity_norm.append(salinity)\n",
    "                    humidity_norm.append(humidity)\n",
    "                    wind_speed_norm.append(wind_speed)\n",
    "                    ratio_norm.append(ratio)\n"
   ]
  },
  {
   "cell_type": "code",
   "execution_count": 64,
   "metadata": {},
   "outputs": [],
   "source": [
    "df = pd.read_csv('data/water_recovery.csv')\n",
    "case_study_name = 'ashkelon'\n",
    "unit_process_name = unit_process_type = 'reverse_osmosis'\n",
    "\n",
    "if unit_process_type == 'reverse_osmosis':\n",
    "    unit_process_type = 'ro_deep'  # until reverse osmosis is in table input\n",
    "water_recovery_list  = df[df.unit_process == unit_process_type].case_study.to_list()\n",
    "case_study_list = df[((df.unit_process == unit_process_type) & (df.case_study == case_study_name))].recovery\n",
    "default_list = df[((df.unit_process == unit_process_type) & (df.case_study == 'default'))].recovery\n",
    "test = df[((df.unit_process == unit_process_type) & (df.case_study == case_study_name))].recovery\n",
    "if case_study_name in water_recovery_df:\n",
    "    if 'calculated' not in case_study_list.max():\n",
    "        flow_recovery_factor = float(case_study_list)\n",
    "#         getattr(m.fs, unit_process_name).water_recovery.fix(flow_recovery_factor)\n",
    "else:\n",
    "    if 'calculated' not in default_list.max():\n",
    "        flow_recovery_factor = float(default_list)\n",
    "#         getattr(m.fs, unit_process_name).water_recovery.fix(flow_recovery_factor)"
   ]
  },
  {
   "cell_type": "code",
   "execution_count": 65,
   "metadata": {},
   "outputs": [
    {
     "data": {
      "text/plain": [
       "Series([], Name: recovery, dtype: object)"
      ]
     },
     "execution_count": 65,
     "metadata": {},
     "output_type": "execute_result"
    }
   ],
   "source": [
    "case_study_list"
   ]
  },
  {
   "cell_type": "code",
   "execution_count": 22,
   "metadata": {},
   "outputs": [
    {
     "name": "stdout",
     "output_type": "stream",
     "text": [
      "231 0.59\n",
      "236 0.52\n",
      "241 0.44\n",
      "281 0.59\n",
      "284 0.56\n",
      "285 0.51\n",
      "289 0.56\n",
      "290 0.43\n",
      "294 0.54\n",
      "295 0.37\n",
      "299 0.5\n",
      "300 0.3\n"
     ]
    }
   ],
   "source": [
    "df = pd.read_csv('data/old/evaporation_ratios.csv')\n",
    "# min(df.ratio)\n",
    "# df = df[df.ratio >= 0.6]\n",
    "# min(df.ratio)\n",
    "# df.to_csv('ratios.csv')\n",
    "ratios = df.ratio.to_list()\n",
    "for i, ratio in enumerate(df.ratio.to_list()): \n",
    "    if ratio < 0.6:\n",
    "        print(i + 2, ratio)"
   ]
  },
  {
   "cell_type": "code",
   "execution_count": null,
   "metadata": {},
   "outputs": [],
   "source": []
  },
  {
   "cell_type": "code",
   "execution_count": null,
   "metadata": {},
   "outputs": [],
   "source": [
    "def expand_cost_curve(df, flow_list, flow_min, flow_max, flow_inc, f_out):\n",
    "    \n",
    "    def power(x, a, b):\n",
    "        return a * x ** b\n",
    "\n",
    "    cost_curve = []\n",
    "    df = df\n",
    "#     print(df)\n",
    "    dose_list = [10, 20, 50, 100, 200, 300, 500, 800, 1000]\n",
    "    uvt_list = [0.55, 0.6, 0.65, 0.7, 0.75, 0.85, 0.9, 0.95]\n",
    "    flow_list = flow_list\n",
    "    big_sam = pd.DataFrame()\n",
    "    for dose in dose_list:\n",
    "        for uvt in uvt_list:\n",
    "            sam = pd.DataFrame()\n",
    "            temp = df[((df.uvt == uvt) & (df.dose == dose))]\n",
    "#             print(temp)\n",
    "            y = temp.cost.to_list()\n",
    "            coeffs, _ = curve_fit(power, flow_list, y)\n",
    "            flow_new = np.arange(flow_min, flow_max + flow_inc, flow_inc)\n",
    "            cost_new = power(flow_new, *coeffs)\n",
    "            sam['dose'] = pd.Series(dose)\n",
    "            sam['uvt'] = pd.Series(uvt)\n",
    "            sam['a'] = pd.Series(coeffs[0])\n",
    "            sam['b'] = pd.Series(coeffs[1])\n",
    "                                 \n",
    "#             sam['flow_new'] = flow_new\n",
    "            big_sam = big_sam.append(sam)\n",
    "#             print(uvt)\n",
    "\n",
    "    big_sam.to_csv(f_out, index=False)\n",
    "    return temp"
   ]
  },
  {
   "cell_type": "code",
   "execution_count": null,
   "metadata": {},
   "outputs": [],
   "source": [
    "\n",
    "df = pd.read_csv('data/uv_cost_twb.csv')\n",
    "df_0 = df[(df.flow == 0)]\n",
    "df_1 = df[(df.flow == 1)]\n",
    "df_3 = df[(df.flow == 3)]\n",
    "df_5 = df[(df.flow == 5)]\n",
    "df_10 = df[(df.flow == 10)]\n",
    "df_25 = df[(df.flow == 25)]\n",
    "\n",
    "df_low = pd.concat([df_0, df_1, df_3, df_5])\n",
    "df_high = pd.concat([df_0, df_5, df_10, df_25])\n",
    "\n",
    "\n",
    "f_out = 'data/uv_coeffs.csv'\n",
    "flow_list = [0, 1, 3, 5, 10, 25]\n",
    "temp = expand_cost_curve(df, flow_list, 0, 5, 1, f_out)\n",
    "\n",
    "# flow = 10\n",
    "# dose = .100\n",
    "# uvt = 0.7\n",
    "# poly_cost_curve(f_out, 'cost', 4, flow, dose, uvt, print_scores=True, print_eqn=True, plot_it=True, test_it=True)\n",
    "\n",
    "# x_new = np.arange(0, 51, 1)\n",
    "# y_new = cats[((cats.uvt == uvt) & (cats.dose == dose))].cost.to_list()\n",
    "# y_old = df[((df.uvt == uvt) & (df.dose == dose))].cost.to_list()\n",
    "# plt.plot(flow_list, y_old, x_new, y_new)"
   ]
  },
  {
   "cell_type": "code",
   "execution_count": null,
   "metadata": {},
   "outputs": [],
   "source": [
    "temp"
   ]
  },
  {
   "cell_type": "markdown",
   "metadata": {},
   "source": [
    "df"
   ]
  },
  {
   "cell_type": "code",
   "execution_count": null,
   "metadata": {},
   "outputs": [],
   "source": [
    "dose = 1000\n",
    "uvt = 0.95\n",
    "sam = pd.DataFrame()\n",
    "y = temp.cost.to_list()\n",
    "def power(x, a, b):\n",
    "        return a * x ** b\n",
    "coeffs, _ = curve_fit(power, flow_list, y)\n",
    "flow_new = np.arange(0, 6, 1)\n",
    "cost_new = power(flow_new, *coeffs)\n",
    "# sam['cost_new'] = cost_new\n",
    "sam['dose'] = pd.Series(dose)\n",
    "sam['uvt'] = pd.Series(uvt)\n",
    "sam['a'] = pd.Series(coeffs[0])\n",
    "sam['b'] = pd.Series(coeffs[1])\n",
    "# sam['flow_new'] = flow_new"
   ]
  },
  {
   "cell_type": "code",
   "execution_count": null,
   "metadata": {},
   "outputs": [],
   "source": [
    "sam"
   ]
  },
  {
   "cell_type": "code",
   "execution_count": null,
   "metadata": {},
   "outputs": [],
   "source": [
    "uv_dose = 20\n",
    "uvt_in = 0.55\n",
    "\n",
    "df = pd.read_csv('data/uv_coeffs.csv')\n",
    "df = df[((df.uvt == uvt_in) & (df.dose == uv_dose))]\n",
    "a = df.iloc[0]['a']\n",
    "b = df.iloc[0]['b']"
   ]
  },
  {
   "cell_type": "code",
   "execution_count": 11,
   "metadata": {},
   "outputs": [],
   "source": [
    "# brine concentrator\n",
    "# cost = 15.1 + (tds_in * 3.02E-4) - (recovery * 18.8) + (flow_in * 8.08E-2)\n",
    "tds_neg = []\n",
    "recovery_neg = []\n",
    "flow_neg = []\n",
    "cost_neg = []\n",
    "tds_big = []\n",
    "recovery_big = []\n",
    "flow_big = []\n",
    "cost_big = []\n",
    "tds_norm = []\n",
    "recovery_norm = []\n",
    "flow_norm = []\n",
    "cost_norm = []\n",
    "for tds in np.arange(10000, 500000, 1000):\n",
    "    for recovery in np.arange(0.5, 0.99, 0.01):\n",
    "        for flow in np.arange(1, 20001, 100):\n",
    "            cost = 15.1 + (tds * 3.02E-4) - (recovery * 18.8) + (flow * 8.08E-2)\n",
    "            if cost <= 0:\n",
    "                cost_neg.append(cost)\n",
    "                tds_neg.append(tds)\n",
    "                recovery_neg.append(recovery)\n",
    "                flow_neg.append(flow)\n",
    "            #                 print(f'tds = {tds}\\nrecovery = {recovery}\\nflow = {flow}\\n')\n",
    "\n",
    "            else:\n",
    "                cost_norm.append(cost)\n",
    "                tds_norm.append(tds)\n",
    "                recovery_norm.append(recovery)\n",
    "                flow_norm.append(flow)\n",
    "                "
   ]
  },
  {
   "cell_type": "code",
   "execution_count": 28,
   "metadata": {},
   "outputs": [],
   "source": [
    "df = pd.DataFrame({'flow': flow_neg, 'tds': tds_neg, 'recovery': recovery_neg, 'cost': cost_neg})\n",
    "df2 = pd.DataFrame({'flow': flow_norm, 'tds': tds_norm, 'recovery': recovery_norm, 'cost': cost_norm})"
   ]
  },
  {
   "cell_type": "code",
   "execution_count": 29,
   "metadata": {},
   "outputs": [
    {
     "data": {
      "text/plain": [
       "4890110"
      ]
     },
     "execution_count": 29,
     "metadata": {},
     "output_type": "execute_result"
    }
   ],
   "source": [
    "len(df2)\n",
    "# len(df)"
   ]
  },
  {
   "cell_type": "code",
   "execution_count": 12,
   "metadata": {},
   "outputs": [
    {
     "data": {
      "text/plain": [
       "[<matplotlib.lines.Line2D at 0x7f78c2e99760>]"
      ]
     },
     "execution_count": 12,
     "metadata": {},
     "output_type": "execute_result"
    },
    {
     "data": {
      "image/png": "[encoded data removed]",
      "text/plain": [
       "<Figure size 432x288 with 1 Axes>"
      ]
     },
     "metadata": {
      "needs_background": "light"
     },
     "output_type": "display_data"
    }
   ],
   "source": [
    "plt.plot(tds_neg, cost_neg)"
   ]
  },
  {
   "cell_type": "code",
   "execution_count": 30,
   "metadata": {},
   "outputs": [
    {
     "data": {
      "text/plain": [
       "[<matplotlib.lines.Line2D at 0x7f78fa36f400>]"
      ]
     },
     "execution_count": 30,
     "metadata": {},
     "output_type": "execute_result"
    },
    {
     "data": {
      "image/png": "[encoded data removed]",
      "text/plain": [
       "<Figure size 432x288 with 1 Axes>"
      ]
     },
     "metadata": {
      "needs_background": "light"
     },
     "output_type": "display_data"
    }
   ],
   "source": [
    "plt.plot(flow_neg, cost_neg, 'r.')"
   ]
  },
  {
   "cell_type": "code",
   "execution_count": 17,
   "metadata": {},
   "outputs": [
    {
     "data": {
      "text/plain": [
       "[<matplotlib.lines.Line2D at 0x7f7896c029a0>]"
      ]
     },
     "execution_count": 17,
     "metadata": {},
     "output_type": "execute_result"
    },
    {
     "data": {
      "image/png": "[encoded data removed]",
      "text/plain": [
       "<Figure size 432x288 with 1 Axes>"
      ]
     },
     "metadata": {
      "needs_background": "light"
     },
     "output_type": "display_data"
    }
   ],
   "source": [
    "plt.plot(recovery_neg, cost_neg, 'k*')"
   ]
  },
  {
   "cell_type": "code",
   "execution_count": 25,
   "metadata": {},
   "outputs": [
    {
     "data": {
      "text/plain": [
       "[<matplotlib.lines.Line2D at 0x7f7894fc3130>]"
      ]
     },
     "execution_count": 25,
     "metadata": {},
     "output_type": "execute_result"
    },
    {
     "data": {
      "image/png": "[encoded data removed]",
      "text/plain": [
       "<Figure size 432x288 with 1 Axes>"
      ]
     },
     "metadata": {
      "needs_background": "light"
     },
     "output_type": "display_data"
    }
   ],
   "source": [
    "plt.plot(tds_norm, cost_norm)"
   ]
  },
  {
   "cell_type": "code",
   "execution_count": null,
   "metadata": {},
   "outputs": [],
   "source": []
  }
 ],
 "metadata": {
  "kernelspec": {
   "display_name": "Python 3",
   "language": "python",
   "name": "python3"
  },
  "language_info": {
   "codemirror_mode": {
    "name": "ipython",
    "version": 3
   },
   "file_extension": ".py",
   "mimetype": "text/x-python",
   "name": "python",
   "nbconvert_exporter": "python",
   "pygments_lexer": "ipython3",
   "version": "3.8.8"
  }
 },
 "nbformat": 4,
 "nbformat_minor": 4
}
