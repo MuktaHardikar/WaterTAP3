{
 "cells": [
  {
   "cell_type": "code",
   "execution_count": 1,
   "metadata": {},
   "outputs": [
    {
     "name": "stdout",
     "output_type": "stream",
     "text": [
      "/Users/ksitterl/Documents/Python/watertap3/NAWI-WaterTAP3/watertap3/watertap3\n"
     ]
    },
    {
     "data": {
      "text/plain": [
       "'/Users/ksitterl/Documents/Python/watertap3/NAWI-WaterTAP3/watertap3/watertap3'"
      ]
     },
     "execution_count": 1,
     "metadata": {},
     "output_type": "execute_result"
    }
   ],
   "source": [
    "%cd ..\n",
    "%pwd"
   ]
  },
  {
   "cell_type": "code",
   "execution_count": 2,
   "metadata": {},
   "outputs": [
    {
     "name": "stdout",
     "output_type": "stream",
     "text": [
      "this is in the __init__ file for utils\n",
      "this is in the __init__ file for wt_units\n",
      "this is in the __init__ file for watertap3\n"
     ]
    }
   ],
   "source": [
    "from watertap3.utils import watertap_setup, get_case_study, run_water_tap, run_water_tap_ro, show_train2"
   ]
  },
  {
   "cell_type": "code",
   "execution_count": null,
   "metadata": {},
   "outputs": [],
   "source": []
  },
  {
   "cell_type": "code",
   "execution_count": 3,
   "metadata": {},
   "outputs": [],
   "source": [
    "# case_study = 'ashkelon'\n",
    "# scenario = 'one_ro'\n",
    "# reference = 'nawi'\n",
    "# source_water = 'seawater'\n",
    "# ro_bounds = 'seawater'\n",
    "# desired_recovery = 1\n",
    "\n",
    "# case_study = 'carlsbad'\n",
    "# scenario = 'one_ro'\n",
    "# reference = 'nawi'\n",
    "# source_water = 'seawater'\n",
    "# ro_bounds = 'seawater'\n",
    "# desired_recovery = 1\n",
    "\n",
    "# case_study = 'santa_barbara'\n",
    "# scenario = 'baseline'\n",
    "# reference = 'nawi'\n",
    "# source_water = 'seawater'\n",
    "# ro_bounds = 'seawater'\n",
    "# desired_recovery = 1\n",
    "\n",
    "# case_study = 'tampa_bay'\n",
    "# scenario = 'one_ro'\n",
    "# reference = 'nawi'\n",
    "# source_water = 'seawater'\n",
    "# ro_bounds = 'seawater'\n",
    "# desired_recovery = 1\n",
    "\n",
    "# case_study = 'emwd'\n",
    "# scenario = 'zld_c'\n",
    "# reference = 'nawi'\n",
    "# source_water = 'emwd_ca_brackish'\n",
    "# ro_bounds = 'other'\n",
    "# desired_recovery = 1\n",
    "\n",
    "# case_study = 'irwin'\n",
    "# scenario = 'baseline'\n",
    "# reference = 'nawi'\n",
    "# source_water = 'brackish'\n",
    "# ro_bounds = 'other'\n",
    "# desired_recovery = 1\n",
    "\n",
    "# case_study = 'kbhdp'\n",
    "# scenario = 'zld_c'\n",
    "# reference = 'nawi'\n",
    "# source_water = 'kbhdp_brackish_ave'\n",
    "# ro_bounds = 'other'\n",
    "# desired_recovery = 1\n",
    "\n",
    "# case_study = 'big_spring'\n",
    "# scenario = 'zld_c'\n",
    "# reference = 'nawi'\n",
    "# source_water = 'big_spring_feed'\n",
    "# ro_bounds = 'other'\n",
    "# desired_recovery = 1\n",
    "\n",
    "# case_study = 'hrsd'\n",
    "# scenario = 'baseline'\n",
    "# reference = 'nawi'\n",
    "# source_water = 'hrsd_municipal'\n",
    "# ro_bounds = 'other'\n",
    "# desired_recovery = 1\n",
    "\n",
    "# case_study = 'ocwd'\n",
    "# scenario = 'baseline'\n",
    "# reference = 'nawi'\n",
    "# source_water = 'ocwd_feed'\n",
    "# ro_bounds = 'other'\n",
    "# desired_recovery = 1\n",
    "\n",
    "# case_study = 'solaire'\n",
    "# scenario = 'baseline'\n",
    "# reference = 'nawi'\n",
    "# source_water = ['solaire_graywater', 'solaire_blackwater']\n",
    "# ro_bounds = 'other'\n",
    "# desired_recovery = 1\n",
    "\n",
    "# case_study = 'heap_leaching'\n",
    "# scenario = 'baseline'\n",
    "# reference = 'nawi'\n",
    "# source_water = ['ore_heap_make_up', 'ore_heap_recycle']\n",
    "# ro_bounds = 'other'\n",
    "# desired_recovery = 1\n",
    "\n",
    "# case_study = 'lithium'\n",
    "# scenario = 'add_bc'\n",
    "# reference = 'nawi'\n",
    "# source_water = 'lithium_brine'\n",
    "# ro_bounds = 'other'\n",
    "# desired_recovery = 1\n",
    "\n",
    "# case_study = 'uranium'\n",
    "# scenario = 'baseline'\n",
    "# reference = 'nawi'\n",
    "# source_water = ['uranium_active', 'uranium_restore']\n",
    "# ro_bounds = 'other'\n",
    "# desired_recovery = 1\n",
    "\n",
    "case_study = 'cherokee'\n",
    "scenario = 'baseline'\n",
    "reference = 'nawi'\n",
    "source_water = ['cherokee_ct_makeup', 'denver_city_water']\n",
    "ro_bounds = 'other'\n",
    "desired_recovery = 1\n",
    "\n",
    "m = watertap_setup(dynamic=False, case_study = case_study, reference = reference, \n",
    "                      scenario = scenario, source_scenario = \"baseline\")"
   ]
  },
  {
   "cell_type": "code",
   "execution_count": 4,
   "metadata": {},
   "outputs": [
    {
     "name": "stdout",
     "output_type": "stream",
     "text": [
      "cherokee\n",
      "\n",
      "------- Adding Unit Processes -------\n",
      "cooling_tower\n",
      "Cycles of concentration are set based on parameters to: 6\n",
      "holding_tank_a\n",
      "clarifier\n",
      "settling_pond\n",
      "holding_tank_b\n",
      "media_filtration\n",
      "sodium_bisulfite_addition\n",
      "anti_scalant_addition\n",
      "reverse_osmosis\n",
      "treated_storage\n",
      "industrial\n",
      "discharge\n",
      "landfill\n",
      "-------------------------------------\n",
      "\n",
      "adding source\n",
      "adding source\n",
      "\n",
      "Connecting unit processes...\n"
     ]
    }
   ],
   "source": [
    "m = get_case_study(m=m)"
   ]
  },
  {
   "cell_type": "code",
   "execution_count": 5,
   "metadata": {},
   "outputs": [],
   "source": [
    "# show_train2(model_name=m)"
   ]
  },
  {
   "cell_type": "code",
   "execution_count": 6,
   "metadata": {},
   "outputs": [
    {
     "name": "stdout",
     "output_type": "stream",
     "text": [
      "Unfixing feed pressure and area for reverse_osmosis ...\n",
      "\n",
      "\tFeed pressure for reverse_osmosis: 45 bar\n",
      "\tMembrane area for reverse_osmosis: 100000.0 m2\n",
      "\tPure Water Flux for reverse_osmosis: 18.0 lmh\n",
      "\tA constant for reverse_osmosis: 4.2\n",
      "\tB constant for reverse_osmosis: 0.35\n",
      "NON seawater bounds for RO\n",
      "WARNING: Implicitly replacing the Component attribute flux_constraint6\n",
      "    (type=<class 'pyomo.core.base.constraint.SimpleConstraint'>) on block fs\n",
      "    with a new Component (type=<class\n",
      "    'pyomo.core.base.constraint.AbstractSimpleConstraint'>). This is usually\n",
      "    indicative of a modelling error. To avoid this warning, use\n",
      "    block.del_component() and block.add_component().\n",
      "cherokee_ct_makeup\n",
      "denver_city_water\n",
      "----------------------------------------------------------------------\n",
      "\n",
      "Degrees of Freedom: 4\n",
      "\n",
      "WaterTAP3 solution optimal \n",
      "\n",
      "----------------------------------------------------------------------\n",
      "\tFeed pressure for reverse_osmosis: 5.75 bar\n",
      "\tMembrane area for reverse_osmosis: 250.0 m2\n",
      "\tPure Water Flux for reverse_osmosis: 8.000005277392262 lmh\n",
      "\tA constant for reverse_osmosis: 6.9999936090889205\n",
      "\tB constant for reverse_osmosis: 0.6803023834381727\n",
      "Running with unfixed, then fixed RO based on model results\n",
      "cherokee\n",
      "\n",
      "------- Adding Unit Processes -------\n",
      "cooling_tower\n",
      "Cycles of concentration are set based on parameters to: 6\n",
      "holding_tank_a\n",
      "clarifier\n",
      "settling_pond\n",
      "holding_tank_b\n",
      "media_filtration\n",
      "sodium_bisulfite_addition\n",
      "anti_scalant_addition\n",
      "reverse_osmosis\n",
      "treated_storage\n",
      "industrial\n",
      "discharge\n",
      "landfill\n",
      "-------------------------------------\n",
      "\n",
      "adding source\n",
      "adding source\n",
      "\n",
      "Connecting unit processes...\n",
      "Unfixing feed presure and area for reverse_osmosis ...\n",
      "\n",
      "cherokee_ct_makeup\n",
      "denver_city_water\n",
      "----------------------------------------------------------------------\n",
      "\n",
      "Degrees of Freedom: 4\n",
      "\n",
      "WaterTAP3 solution optimal \n",
      "\n",
      "----------------------------------------------------------------------\n",
      "cherokee_ct_makeup\n",
      "denver_city_water\n",
      "----------------------------------------------------------------------\n",
      "\n",
      "Degrees of Freedom: 0\n",
      "\n",
      "WaterTAP3 solution optimal \n",
      "\n",
      "----------------------------------------------------------------------\n",
      "\n",
      "***UNIT PROCESS RESULTS (in $MM)***\n",
      "\n",
      "\n",
      "COOLING TOWER:\n",
      "\n",
      "\ttotal cap investment: 0.0\n",
      "\tcat and chem cost: 0.0\n",
      "\telectricity cost: 0.0\n",
      "\ttotal fixed op cost: 0.0\n",
      "\n",
      "HOLDING TANK A:\n",
      "\n",
      "\ttotal cap investment: 0.77343\n",
      "\tcat and chem cost: 0.0\n",
      "\telectricity cost: 0.0\n",
      "\ttotal fixed op cost: 0.0103\n",
      "\n",
      "CLARIFIER:\n",
      "\n",
      "\ttotal cap investment: 0.24503\n",
      "\tcat and chem cost: 0.0\n",
      "\telectricity cost: 0.0\n",
      "\ttotal fixed op cost: 0.00326\n",
      "\n",
      "SETTLING POND:\n",
      "\n",
      "\ttotal cap investment: 0.24495\n",
      "\tcat and chem cost: 0.0\n",
      "\telectricity cost: 0.0\n",
      "\ttotal fixed op cost: 0.00326\n",
      "\n",
      "HOLDING TANK B:\n",
      "\n",
      "\ttotal cap investment: 0.1873\n",
      "\tcat and chem cost: 0.0\n",
      "\telectricity cost: 0.0\n",
      "\ttotal fixed op cost: 0.00249\n",
      "\n",
      "MEDIA FILTRATION:\n",
      "\n",
      "\ttotal cap investment: 1.01536\n",
      "\tcat and chem cost: 0.0\n",
      "\telectricity cost: 0.0\n",
      "\ttotal fixed op cost: 0.01352\n",
      "\n",
      "SODIUM BISULFITE ADDITION:\n",
      "\n",
      "\ttotal cap investment: 0.00013\n",
      "\tcat and chem cost: 0.0\n",
      "\telectricity cost: 0.0\n",
      "\ttotal fixed op cost: 0.0\n",
      "\n",
      "ANTI SCALANT ADDITION:\n",
      "\n",
      "\ttotal cap investment: 0.00761\n",
      "\tcat and chem cost: 0.00705\n",
      "\telectricity cost: 0.0\n",
      "\ttotal fixed op cost: 0.0001\n",
      "\n",
      "REVERSE OSMOSIS:\n",
      "\n",
      "\ttotal cap investment: 0.111\n",
      "\tcat and chem cost: 0.00106\n",
      "\telectricity cost: 0.0034\n",
      "\ttotal fixed op cost: 0.00148\n",
      "\n",
      "TREATED STORAGE:\n",
      "\n",
      "\ttotal cap investment: 0.02088\n",
      "\tcat and chem cost: 0.0\n",
      "\telectricity cost: 0.0\n",
      "\ttotal fixed op cost: 0.00027\n",
      "\n",
      "INDUSTRIAL:\n",
      "\n",
      "\ttotal cap investment: 0.0033\n",
      "\tcat and chem cost: 0.0\n",
      "\telectricity cost: 7e-05\n",
      "\ttotal fixed op cost: 4e-05\n",
      "\n",
      "DISCHARGE:\n",
      "\n",
      "\ttotal cap investment: 0.14452\n",
      "\tcat and chem cost: 0.0\n",
      "\telectricity cost: 0.00524\n",
      "\ttotal fixed op cost: 0.00192\n",
      "\n",
      "LANDFILL:\n",
      "\n",
      "\ttotal cap investment: 0.01151\n",
      "\tcat and chem cost: 0.0\n",
      "\telectricity cost: 0.0\n",
      "\ttotal fixed op cost: 0.00015\n",
      "\n",
      "----------------------------------------------------------------------\n",
      "\n",
      "\n",
      "----------------------------------------------------------------------\n",
      "------------------- System Level Metrics and Costs -------------------\n",
      "Total Capital Investment ($MM) 2.765\n",
      "Annual Fixed Operating Cost ($MM/yr) 0.037\n",
      "Annual Catalysts and Chemicals Cost ($MM/yr) 0.008\n",
      "Annual Electricity Costs ($MM/yr) 0.009\n",
      "Annual Other Variable Costs ($MM/yr) 0.002\n",
      "Annual Operating Costs ($MM/yr) 0.055\n",
      "Treated water (m3/s) ---> 0.045\n",
      "Total water recovery (%) ---> 19.938\n",
      "Electricity intensity (kwh/m3) --->  0.084\n",
      "LCOW ($/m3) --->  0.214\n",
      "Electricity portion of LCOW (%) ---> 2.891\n",
      "----------------------------------------------------------------------\n",
      "\tFeed pressure for reverse_osmosis: 5.75 bar\n",
      "\tMembrane area for reverse_osmosis: 250.0 m2\n",
      "\tPure Water Flux for reverse_osmosis: 8.00000527067547 lmh\n",
      "\tA constant for reverse_osmosis: 6.9999936090889205\n",
      "\tB constant for reverse_osmosis: 0.6803023834381727\n"
     ]
    },
    {
     "data": {
      "text/plain": [
       "<pyomo.core.base.PyomoModel.ConcreteModel at 0x7fc10439dcc0>"
      ]
     },
     "execution_count": 6,
     "metadata": {},
     "output_type": "execute_result"
    }
   ],
   "source": [
    "run_water_tap_ro(m, desired_recovery=desired_recovery, ro_bounds=ro_bounds,\n",
    "                 source_water_category='seawater', scenario_name=scenario,\n",
    "                 source_scenario='baseline')     "
   ]
  },
  {
   "cell_type": "code",
   "execution_count": null,
   "metadata": {},
   "outputs": [],
   "source": [
    "m.fs.holding_tank_a.display()"
   ]
  },
  {
   "cell_type": "code",
   "execution_count": null,
   "metadata": {},
   "outputs": [],
   "source": [
    "m.fs.reverse_osmosis.display()"
   ]
  },
  {
   "cell_type": "code",
   "execution_count": null,
   "metadata": {},
   "outputs": [],
   "source": [
    "from watertap3.utils import show_train2"
   ]
  },
  {
   "cell_type": "code",
   "execution_count": null,
   "metadata": {},
   "outputs": [],
   "source": [
    "show_train2(model_name=m)"
   ]
  },
  {
   "cell_type": "code",
   "execution_count": null,
   "metadata": {},
   "outputs": [],
   "source": []
  },
  {
   "cell_type": "code",
   "execution_count": null,
   "metadata": {},
   "outputs": [],
   "source": []
  },
  {
   "cell_type": "code",
   "execution_count": null,
   "metadata": {},
   "outputs": [],
   "source": [
    "from scipy.optimize import curve_fit\n",
    "import numpy as np\n",
    "flow_cc = np.array([3.6, 18, 36, 72, 108, 144, 180])  # m3/hr\n",
    "cost_cc = np.array([5916, 9511, 11930, 15123, 17444, 19336, 20960])  ## $$\n",
    "\n",
    "def func(x, a, b, c):\n",
    "    return a + b * x ** c\n",
    "\n",
    "cc_params, _ = curve_fit(func, flow_cc, cost_cc)\n",
    "a, b, c = cc_params[0], cc_params[1], cc_params[2]"
   ]
  },
  {
   "cell_type": "code",
   "execution_count": null,
   "metadata": {},
   "outputs": [],
   "source": [
    "a, b, c"
   ]
  },
  {
   "cell_type": "code",
   "execution_count": null,
   "metadata": {},
   "outputs": [],
   "source": []
  },
  {
   "cell_type": "code",
   "execution_count": null,
   "metadata": {},
   "outputs": [],
   "source": []
  },
  {
   "cell_type": "code",
   "execution_count": null,
   "metadata": {},
   "outputs": [],
   "source": [
    "import pandas as pd\n",
    "from watertap3 import case_study_trains, generate_constituent_list\n",
    "m.fs.flow_in_dict = 1\n",
    "case_study_library = \"data/treatment_train_setup.xlsx\"\n",
    "\n",
    "# set up tables of design (how units are connected) and units (list of all units needed for the train)\n",
    "#df_design = pd.read_excel(case_study_library, sheet_name='design')\n",
    "df_units = pd.read_excel(case_study_library, sheet_name='units')\n",
    "df_units.CaseStudy = df_units.CaseStudy.str.lower()\n",
    "df_units.Reference = df_units.Reference.str.lower()\n",
    "df_units.Scenario = df_units.Scenario.str.lower()\n",
    "df_units = case_study_trains.filter_df(df_units, m)\n"
   ]
  },
  {
   "cell_type": "code",
   "execution_count": null,
   "metadata": {},
   "outputs": [],
   "source": []
  },
  {
   "cell_type": "code",
   "execution_count": null,
   "metadata": {},
   "outputs": [],
   "source": []
  },
  {
   "cell_type": "code",
   "execution_count": null,
   "metadata": {},
   "outputs": [],
   "source": []
  },
  {
   "cell_type": "code",
   "execution_count": null,
   "metadata": {},
   "outputs": [],
   "source": []
  },
  {
   "cell_type": "code",
   "execution_count": null,
   "metadata": {
    "tags": []
   },
   "outputs": [],
   "source": []
  },
  {
   "cell_type": "code",
   "execution_count": null,
   "metadata": {},
   "outputs": [],
   "source": []
  },
  {
   "cell_type": "code",
   "execution_count": null,
   "metadata": {},
   "outputs": [],
   "source": []
  },
  {
   "cell_type": "code",
   "execution_count": null,
   "metadata": {},
   "outputs": [],
   "source": [
    "from watertap3.water_props import WaterParameterBlock\n",
    "m.fs.properties = WaterParameterBlock()"
   ]
  },
  {
   "cell_type": "code",
   "execution_count": null,
   "metadata": {},
   "outputs": [],
   "source": [
    "# m.fs.water.display()"
   ]
  },
  {
   "cell_type": "code",
   "execution_count": null,
   "metadata": {},
   "outputs": [],
   "source": [
    "### this is where design.add_unit_process() is called\n",
    "from watertap3.wt_units import WT3UnitProcess"
   ]
  },
  {
   "cell_type": "code",
   "execution_count": null,
   "metadata": {},
   "outputs": [],
   "source": [
    "unit = WT3UnitProcess\n",
    "unit_name = 'sw_onshore_intake'"
   ]
  },
  {
   "cell_type": "code",
   "execution_count": null,
   "metadata": {},
   "outputs": [],
   "source": [
    "m.fs.test = WT3UnitProcess(default={'property_package': m.fs.properties})"
   ]
  },
  {
   "cell_type": "code",
   "execution_count": null,
   "metadata": {},
   "outputs": [],
   "source": [
    "m.fs.test.display()"
   ]
  },
  {
   "cell_type": "code",
   "execution_count": null,
   "metadata": {},
   "outputs": [],
   "source": [
    "from watertap3.wt_units.sw_onshore_intake import SWOnshoreIntake \n",
    "m.fs.test2 = SWOnshoreIntake(default={\"property_package\": WaterParameterBlock})"
   ]
  },
  {
   "cell_type": "code",
   "execution_count": null,
   "metadata": {},
   "outputs": [],
   "source": [
    "m.fs.test2.display()"
   ]
  },
  {
   "cell_type": "code",
   "execution_count": null,
   "metadata": {},
   "outputs": [],
   "source": [
    "setattr(m.fs, unit_name, SWOnshoreIntake(default={\"property_package\": m.fs.water}))\n"
   ]
  },
  {
   "cell_type": "code",
   "execution_count": null,
   "metadata": {},
   "outputs": [],
   "source": [
    "### this is where constituent_removal_water_recovery.create() is called\n",
    "from watertap3.utils.constituent_removal_water_recovery import create\n",
    "m = create(m, unit_name, unit_name)"
   ]
  },
  {
   "cell_type": "code",
   "execution_count": null,
   "metadata": {},
   "outputs": [],
   "source": [
    "m.display()"
   ]
  },
  {
   "cell_type": "code",
   "execution_count": null,
   "metadata": {},
   "outputs": [],
   "source": [
    "from pyomo.environ import ConcreteModel, SolverFactory, TerminationCondition\n",
    "from idaes.core import FlowsheetBlock\n",
    "from idaes.core.util.model_statistics import degrees_of_freedom\n",
    "from pyomo.util.check_units import assert_units_consistent\n",
    "import idaes.core.util.scaling as iscale"
   ]
  },
  {
   "cell_type": "code",
   "execution_count": null,
   "metadata": {},
   "outputs": [],
   "source": [
    "m = ConcreteModel()\n",
    "m.fs = FlowsheetBlock(default={\"dynamic\": False})"
   ]
  },
  {
   "cell_type": "code",
   "execution_count": null,
   "metadata": {},
   "outputs": [],
   "source": [
    "from watertap3.water_props import WaterParameterBlock"
   ]
  },
  {
   "cell_type": "code",
   "execution_count": null,
   "metadata": {},
   "outputs": [],
   "source": [
    "m.fs.water = WaterParameterBlock()"
   ]
  },
  {
   "cell_type": "code",
   "execution_count": null,
   "metadata": {},
   "outputs": [],
   "source": []
  },
  {
   "cell_type": "code",
   "execution_count": null,
   "metadata": {},
   "outputs": [],
   "source": []
  },
  {
   "cell_type": "code",
   "execution_count": null,
   "metadata": {
    "tags": []
   },
   "outputs": [],
   "source": [
    "for source_water in [\"seawater\"]: #df.source_water_category.unique():\n",
    "    for case_study in [\"ashkelon\"]: #df[df.source_water_category == source_water].case_study.unique():\n",
    "        h1 = df[df.case_study == case_study]\n",
    "\n",
    "        if case_study in [\"upw\"]:\n",
    "            scenarios = [\"zld_a\", \"zld_b\", \"zld_c\", \"baseline\"]\n",
    "        else:        \n",
    "            scenarios = h1.scenario.unique()\n",
    "\n",
    "        for scenario in scenarios:\n",
    "\n",
    "            print(\"------------------------------------------------------\")\n",
    "            print(\"------------------------------------------------------\")\n",
    "            print(\"-----------\", case_study, scenario, \"-----------------\")\n",
    "            print(\"------------------------------------------------------\")\n",
    "            print(\"------------------------------------------------------\")\n",
    "\n",
    "            desired_recovery = df[((df.case_study == case_study) & (df.scenario == scenario))].max_recovery_rate.max()\n",
    "\n",
    "            source_water_category = df[((df.case_study == case_study) & (df.scenario == scenario))].source_water_category.max()\n",
    "\n",
    "            skip_small_base = df[((df.case_study == case_study) & (df.scenario == scenario))].skip_small_base.max()\n",
    "            skip_small_sens = df[((df.case_study == case_study) & (df.scenario == scenario))].skip_small_sens.max()\n",
    "            ro_bounds = df[((df.case_study == case_study) & (df.scenario == scenario))].ro_bounds.max()\n",
    "\n",
    "            m = wt.watertap_setup(dynamic=False, case_study = case_study, reference = reference, \n",
    "                                  scenario = scenario, source_scenario = \"baseline\")\n",
    "\n",
    "            m = wt.case_study_trains.get_case_study(m=m)\n",
    "\n",
    "            for key in m.fs.pfd_dict.keys():\n",
    "                if m.fs.pfd_dict[key][\"Unit\"] == \"reverse_osmosis\":\n",
    "                    getattr(m.fs, key).a.fix(4.2)\n",
    "                    getattr(m.fs, key).b.fix(0.35)\n",
    "\n",
    "            if \"1p5\" in scenario:\n",
    "                m.fs.irrigation_and_drainage.flow_vol_in.fix(0.0657)\n",
    "\n",
    "            # run and and return baseline with 0 degrees of freedom\n",
    "            m = wt.run_water_tap_ro(m, source_water_category = source_water_category, \n",
    "                                 desired_recovery = desired_recovery, skip_small = skip_small_base, \n",
    "                                 ro_bounds = ro_bounds, source_scenario = \"baseline\", scenario_name = scenario)\n",
    "\n",
    "            if scenario == \"baseline\":\n",
    "                wt.sensitivity_runs(m = m, save_results = True, scenario = scenario, \n",
    "                                    case_study = case_study, skip_small_sens = skip_small_sens)\n",
    "\n",
    "                if source_water == \"seawater\":\n",
    "                    m = wt.get_fixed_onm_reduction(m)\n",
    "                    wt.run_water_tap(m=m, objective=True, skip_small=skip_small_base, print_model_results=\"summary\")\n",
    "                    df_no2 = wt.get_results_table(m=m, case_study=m.fs.train[\"case_study\"], \n",
    "                                              scenario=\"50%_fixed_onm_reduction\")\n",
    "\n",
    "                if case_study == \"san_luis\":\n",
    "                    n = 1\n",
    "                    for flow_scenario in [0.0657, 0.1314, 0.2191]:\n",
    "                        m.fs.irrigation_and_drainage.flow_vol_in.fix(flow_scenario)\n",
    "                        m.fs.reverse_osmosis.feed.pressure.unfix()\n",
    "                        m.fs.reverse_osmosis.membrane_area.unfix()\n",
    "\n",
    "                        print(\"adjusted baseline flow -->\", flow_scenario)\n",
    "                        wt.run_water_tap(m=m, objective=True, skip_small=skip_small_base, print_model_results=\"summary\")\n",
    "                        if n == 1: s_name = m.fs.train[\"case_study\"] + \"1p5_mgd\"\n",
    "                        if n == 2: s_name = m.fs.train[\"case_study\"] + \"3_mgd\"\n",
    "                        if n == 3: s_name = m.fs.train[\"case_study\"] + \"5_mgd\"\n",
    "                        df_no2 = wt.get_results_table(m=m, case_study=m.fs.train[\"case_study\"], scenario=s_name)                \n",
    "                        n = n + 1\n",
    "\n",
    "            dwi_list = [\"emwd\", \"big_spring\"]   \n",
    "            if m.fs.train[\"case_study\"] in dwi_list:\n",
    "                for key in m.fs.pfd_dict.keys():\n",
    "                    if m.fs.pfd_dict[key][\"Unit\"] == \"deep_well_injection\":\n",
    "                        wt.sensitivity_runs(m = m, save_results = True, scenario = scenario, \n",
    "                                            case_study = case_study, skip_small_sens = skip_small_sens)\n",
    "\n",
    "            if scenario in [\"edr_ph_ro\", \"ro_and_mf\"]:\n",
    "                print(\"goes in\")\n",
    "                wt.sensitivity_runs(m = m, save_results = True, scenario = scenario, \n",
    "                                    case_study = case_study, skip_small_sens = skip_small_sens)                \n",
    "\n",
    "            if source_water == \"power\":\n",
    "                for key in m.fs.pfd_dict.keys():\n",
    "                    if m.fs.pfd_dict[key][\"Unit\"] == \"evaporation_pond\":\n",
    "                        wt.sensitivity_runs(m = m, save_results = True, scenario = scenario, \n",
    "                                            case_study = case_study, skip_small_sens = skip_small_sens)  \n",
    "\n"
   ]
  },
  {
   "cell_type": "code",
   "execution_count": null,
   "metadata": {},
   "outputs": [],
   "source": []
  },
  {
   "cell_type": "code",
   "execution_count": null,
   "metadata": {},
   "outputs": [],
   "source": []
  },
  {
   "cell_type": "code",
   "execution_count": null,
   "metadata": {},
   "outputs": [],
   "source": []
  },
  {
   "cell_type": "code",
   "execution_count": null,
   "metadata": {},
   "outputs": [],
   "source": []
  },
  {
   "cell_type": "code",
   "execution_count": null,
   "metadata": {},
   "outputs": [],
   "source": []
  },
  {
   "cell_type": "code",
   "execution_count": null,
   "metadata": {},
   "outputs": [],
   "source": []
  },
  {
   "cell_type": "code",
   "execution_count": null,
   "metadata": {},
   "outputs": [],
   "source": []
  },
  {
   "cell_type": "code",
   "execution_count": null,
   "metadata": {},
   "outputs": [],
   "source": []
  },
  {
   "cell_type": "code",
   "execution_count": null,
   "metadata": {},
   "outputs": [],
   "source": []
  },
  {
   "cell_type": "code",
   "execution_count": null,
   "metadata": {},
   "outputs": [],
   "source": [
    "wt.display.show_train2(model_name=m)"
   ]
  },
  {
   "cell_type": "code",
   "execution_count": null,
   "metadata": {},
   "outputs": [],
   "source": [
    "#wt.run_water_tap(m=m, objective=False, print_model_results=\"summary\", skip_small=True)"
   ]
  },
  {
   "cell_type": "code",
   "execution_count": null,
   "metadata": {},
   "outputs": [],
   "source": []
  },
  {
   "cell_type": "code",
   "execution_count": null,
   "metadata": {},
   "outputs": [],
   "source": [
    "import pandas as pd\n",
    "df = pd.read_csv('data/water_recovery.csv')\n",
    "case_study_name = 'ashkelon'\n",
    "unit_process_name = 'ro_first_pass'\n",
    "unit_process_type = 'reverse_osmosis'\n",
    "\n",
    "if unit_process_type == 'reverse_osmosis':\n",
    "    unit_process_type = 'ro_deep'  # until reverse osmosis is in table input\n",
    "    \n",
    "case_study_list = df[df.unit_process == unit_process_type].case_study.to_list()\n",
    "case_study_df = df[((df.unit_process == unit_process_type) & (df.case_study == case_study_name))].recovery\n",
    "default_df = df[((df.unit_process == unit_process_type) & (df.case_study == 'default'))].recovery\n",
    "\n",
    "if case_study_df.empty:\n",
    "    if case_study_name in case_study_list:\n",
    "        flow_recovery_factor = float(case_study_df)\n",
    "    else:\n",
    "        flow_recovery_factor = float(default_df)\n",
    "\n",
    "# if case_study_name in case_study_list:\n",
    "#     if 'calculated' not in case_study_df.max():\n",
    "#         flow_recovery_factor = float(case_study_df)\n",
    "# #         getattr(m.fs, unit_process_name).water_recovery.fix(flow_recovery_factor)\n",
    "# else:\n",
    "#     if 'calculated' not in default_df.max():\n",
    "#         flow_recovery_factor = float(default_df)\n",
    "# #         getattr(m.fs, unit_process_name).water_recovery.fix(flow_recovery_factor)\n",
    "\n",
    "print(flow_recovery_factor)"
   ]
  },
  {
   "cell_type": "code",
   "execution_count": null,
   "metadata": {},
   "outputs": [],
   "source": [
    "case_study_df"
   ]
  },
  {
   "cell_type": "code",
   "execution_count": null,
   "metadata": {},
   "outputs": [],
   "source": [
    "case_study_list"
   ]
  },
  {
   "cell_type": "code",
   "execution_count": null,
   "metadata": {},
   "outputs": [],
   "source": []
  },
  {
   "cell_type": "code",
   "execution_count": null,
   "metadata": {},
   "outputs": [],
   "source": [
    "import pandas as pd\n",
    "# del flow_recovery_factor\n",
    "df = pd.read_csv('data/water_recovery.csv')\n",
    "case_study_name = 'ashkelon'\n",
    "unit_process_name = 'ro_first_pass'\n",
    "unit_process_type = 'reverse_osmosis'\n",
    "\n",
    "# if unit_process_type == 'reverse_osmosis':\n",
    "#     unit_process_type = 'ro_deep'  # until reverse osmosis is in table input\n",
    "    \n",
    "case_study_list = df[df.unit_process == unit_process_type].case_study.to_list()\n",
    "case_study_df = df[((df.unit_process == unit_process_type) & (df.case_study == case_study_name))].recovery\n",
    "default_df = df[((df.unit_process == unit_process_type) & (df.case_study == 'default'))].recovery\n",
    "\n",
    "if case_study_name in case_study_list:\n",
    "    if 'calculated' not in case_study_df.max():\n",
    "        flow_recovery_factor = float(case_study_df)\n",
    "#         getattr(m.fs, unit_process_name).water_recovery.fix(flow_recovery_factor)\n",
    "else:\n",
    "    if 'calculated' not in default_df.max():\n",
    "        flow_recovery_factor = float(default_df)\n",
    "#         getattr(m.fs, unit_process_name).water_recovery.fix(flow_recovery_factor)\n",
    "\n",
    "# print(flow_recovery_factor)"
   ]
  },
  {
   "cell_type": "code",
   "execution_count": null,
   "metadata": {},
   "outputs": [],
   "source": [
    "case_study_list"
   ]
  },
  {
   "cell_type": "code",
   "execution_count": null,
   "metadata": {},
   "outputs": [],
   "source": [
    "case_study_df"
   ]
  },
  {
   "cell_type": "code",
   "execution_count": null,
   "metadata": {},
   "outputs": [],
   "source": [
    "default_df"
   ]
  },
  {
   "cell_type": "code",
   "execution_count": null,
   "metadata": {},
   "outputs": [],
   "source": []
  },
  {
   "cell_type": "code",
   "execution_count": null,
   "metadata": {},
   "outputs": [],
   "source": []
  },
  {
   "cell_type": "code",
   "execution_count": null,
   "metadata": {},
   "outputs": [],
   "source": []
  },
  {
   "cell_type": "code",
   "execution_count": null,
   "metadata": {},
   "outputs": [],
   "source": []
  },
  {
   "cell_type": "code",
   "execution_count": null,
   "metadata": {},
   "outputs": [],
   "source": []
  },
  {
   "cell_type": "code",
   "execution_count": null,
   "metadata": {},
   "outputs": [],
   "source": []
  },
  {
   "cell_type": "code",
   "execution_count": null,
   "metadata": {},
   "outputs": [],
   "source": []
  },
  {
   "cell_type": "code",
   "execution_count": null,
   "metadata": {},
   "outputs": [],
   "source": []
  },
  {
   "cell_type": "code",
   "execution_count": null,
   "metadata": {},
   "outputs": [],
   "source": []
  },
  {
   "cell_type": "code",
   "execution_count": null,
   "metadata": {},
   "outputs": [],
   "source": []
  },
  {
   "cell_type": "code",
   "execution_count": null,
   "metadata": {},
   "outputs": [],
   "source": [
    "import pyomo.util.infeasible as infeas\n",
    "print(infeas.log_infeasible_bounds(m))\n",
    "print(infeas.log_infeasible_constraints(m))"
   ]
  },
  {
   "cell_type": "code",
   "execution_count": null,
   "metadata": {},
   "outputs": [],
   "source": []
  },
  {
   "cell_type": "code",
   "execution_count": null,
   "metadata": {},
   "outputs": [],
   "source": []
  },
  {
   "cell_type": "code",
   "execution_count": null,
   "metadata": {},
   "outputs": [],
   "source": []
  }
 ],
 "metadata": {
  "celltoolbar": "Raw Cell Format",
  "kernelspec": {
   "display_name": "Python 3",
   "language": "python",
   "name": "python3"
  },
  "language_info": {
   "codemirror_mode": {
    "name": "ipython",
    "version": 3
   },
   "file_extension": ".py",
   "mimetype": "text/x-python",
   "name": "python",
   "nbconvert_exporter": "python",
   "pygments_lexer": "ipython3",
   "version": "3.8.8"
  }
 },
 "nbformat": 4,
 "nbformat_minor": 4
}
