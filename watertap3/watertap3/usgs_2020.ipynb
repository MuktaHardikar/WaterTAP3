{
 "cells": [
  {
   "cell_type": "code",
   "execution_count": 1,
   "metadata": {},
   "outputs": [],
   "source": [
    "import numpy as np\n",
    "import pandas as pd\n",
    "import geopandas as gp\n",
    "import matplotlib.pyplot as plt\n",
    "from shapely.geometry import Point\n",
    "from shapely.geometry.polygon import Polygon"
   ]
  },
  {
   "cell_type": "code",
   "execution_count": 17,
   "metadata": {},
   "outputs": [],
   "source": [
    "# File with public supply total GW + SW\n",
    "usgs_2020 = pd.read_csv(r'C:\\Users\\mhardika\\Documents\\AMO\\2050\\analysis_files_2024\\PS_HUC12_GW_2000_2020.csv')\n",
    "# Machine learning model output for domestic demand per capita\n",
    "dpc_2020 = pd.read_csv(r'C:\\Users\\mhardika\\Documents\\AMO\\2050\\analysis_files_2024\\delivery_water_use_model\\predictions\\national_dpc_predictions.csv')\n",
    "# Baseline water treatment train files\n",
    "wt_baseline = pd.read_csv(r'C:\\Users\\mhardika\\Documents\\AMO\\2050\\analysis_files_2024\\2020_wt_baseline_spreadsheet.csv')\n",
    "# Read state and county shapefiles\n",
    "us_counties = gp.read_file(r'\\Users\\mhardika\\Documents\\AMO\\GeoToolAll_Methods\\GeoData\\US_County_Boundaries\\US_CountyBndrys.shp')\n",
    "us_counties = us_counties.to_crs(\"EPSG:4326\")\n",
    "us_states = gp.read_file(r'C:\\Users\\mhardika\\Documents\\AMO\\2050\\analysis_files\\tl_rd22_us_state\\tl_rd22_us_state.shp')\n",
    "us_states = us_states.to_crs(\"EPSG:4326\")\n",
    "# USGS 2017 data for WSA\n",
    "usgs_wsa = gp.read_file(r'C:\\Users\\mhardika\\Downloads\\WSA_v1\\WSA_v1\\WSA_v1.shp')\n",
    "usgs_gu_wwsa = gp.read_file(r'C:\\Users\\mhardika\\Downloads\\V1_GU_wWS\\V1_GU_wWS\\v1_GU_wWS.shp')\n",
    "# Population data set\n",
    "pop_df = pd.read_csv(r'\\Users\\mhardika\\Documents\\AMO\\2050\\analysis_files\\pop_projection.csv')\n",
    "pop_df = pop_df[~(pop_df == 0).any(axis=1)].reset_index(drop=True)\n",
    "\n",
    "state_geocode = pd.read_csv(r'C:\\Users\\mhardika\\Documents\\watertap3\\WaterTAP3\\watertap3\\watertap3\\data\\state_geocode.csv')"
   ]
  },
  {
   "cell_type": "code",
   "execution_count": 18,
   "metadata": {},
   "outputs": [
    {
     "name": "stdout",
     "output_type": "stream",
     "text": [
      "995\n",
      "0\n"
     ]
    }
   ],
   "source": [
    "# Code to reassign wt_baseline facilities to correct state based on PWS ID\n",
    "# Baseline water treatment train files\n",
    "wt_baseline = pd.read_csv(r'C:\\Users\\mhardika\\Documents\\AMO\\2050\\analysis_files_2024\\2020_wt_baseline_spreadsheet.csv')\n",
    "# County how many states have the wrong assignment\n",
    "wrong_state_idx_list=[]\n",
    "state_list = []\n",
    "for idx, row in wt_baseline.iterrows():\n",
    "    # print(row['PWS ID'][0:2])\n",
    "\n",
    "    if row['PWS ID'][0:2].isalpha():\n",
    "        # print(row['PWS ID'][0:2])\n",
    "        if row['PWS ID'][0:2]!= row['State Code']:\n",
    "            # print(row)\n",
    "            wrong_state_idx_list.append(idx)\n",
    "            state_list.append(row['PWS ID'][0:2])\n",
    "\n",
    "print(len(wrong_state_idx_list))\n",
    "\n",
    "# Correcting wt_baseline dataframe\n",
    "new_df = pd.DataFrame({'State Code': state_list}, index = wrong_state_idx_list)\n",
    "# new_df\n",
    "wt_baseline_updated = wt_baseline.copy()\n",
    "wt_baseline_updated.update(new_df)\n",
    "\n",
    "wrong_state_idx_list=[]\n",
    "state_list = []\n",
    "for idx, row in wt_baseline_updated.iterrows():\n",
    "    # print(row['PWS ID'][0:2])\n",
    "    if row['PWS ID'][0:2].isalpha():\n",
    "        # print(row['PWS ID'][0:2])\n",
    "        if row['PWS ID'][0:2]!= row['State Code']:\n",
    "            # print(row)\n",
    "            wrong_state_idx_list.append(idx)\n",
    "            state_list.append(row['PWS ID'][0:2])\n",
    "\n",
    "print(len(wrong_state_idx_list))\n",
    "\n",
    "wt_baseline = wt_baseline_updated.copy()"
   ]
  },
  {
   "cell_type": "code",
   "execution_count": 13,
   "metadata": {},
   "outputs": [
    {
     "data": {
      "text/html": [
       "<div>\n",
       "<style scoped>\n",
       "    .dataframe tbody tr th:only-of-type {\n",
       "        vertical-align: middle;\n",
       "    }\n",
       "\n",
       "    .dataframe tbody tr th {\n",
       "        vertical-align: top;\n",
       "    }\n",
       "\n",
       "    .dataframe thead th {\n",
       "        text-align: right;\n",
       "    }\n",
       "</style>\n",
       "<table border=\"1\" class=\"dataframe\">\n",
       "  <thead>\n",
       "    <tr style=\"text-align: right;\">\n",
       "      <th></th>\n",
       "      <th>PWS ID</th>\n",
       "      <th>PWS Name</th>\n",
       "      <th>Population Served Count</th>\n",
       "      <th>Activity Status</th>\n",
       "      <th>Primary Source</th>\n",
       "      <th>PWS Type</th>\n",
       "      <th>City Name</th>\n",
       "      <th>State Code</th>\n",
       "      <th>Zip Code</th>\n",
       "      <th>Latitude</th>\n",
       "      <th>...</th>\n",
       "      <th>Ozonation, Post</th>\n",
       "      <th>Ozonation, Pre</th>\n",
       "      <th>Permanganate</th>\n",
       "      <th>Peroxide</th>\n",
       "      <th>Rapid Mix</th>\n",
       "      <th>Reverse Osmosis</th>\n",
       "      <th>Sedimentation</th>\n",
       "      <th>Sequestration</th>\n",
       "      <th>Sludge Treatment</th>\n",
       "      <th>Ultraviolet Radiation</th>\n",
       "    </tr>\n",
       "  </thead>\n",
       "  <tbody>\n",
       "    <tr>\n",
       "      <th>0</th>\n",
       "      <td>010106001</td>\n",
       "      <td>Mashantucket Pequot Water System</td>\n",
       "      <td>37807</td>\n",
       "      <td>Active</td>\n",
       "      <td>Groundwater under influence of surface water</td>\n",
       "      <td>Community water system</td>\n",
       "      <td>MASHANTUCKET</td>\n",
       "      <td>CT</td>\n",
       "      <td>06339-3060</td>\n",
       "      <td>41.46446</td>\n",
       "      <td>...</td>\n",
       "      <td>0</td>\n",
       "      <td>0</td>\n",
       "      <td>0</td>\n",
       "      <td>0</td>\n",
       "      <td>0</td>\n",
       "      <td>0</td>\n",
       "      <td>1</td>\n",
       "      <td>0</td>\n",
       "      <td>0</td>\n",
       "      <td>0</td>\n",
       "    </tr>\n",
       "    <tr>\n",
       "      <th>1</th>\n",
       "      <td>010307001</td>\n",
       "      <td>Aquinnah Wampanoag</td>\n",
       "      <td>103</td>\n",
       "      <td>Active</td>\n",
       "      <td>Ground water</td>\n",
       "      <td>Community water system</td>\n",
       "      <td>CHILMARK</td>\n",
       "      <td>MA</td>\n",
       "      <td>02535</td>\n",
       "      <td>NaN</td>\n",
       "      <td>...</td>\n",
       "      <td>0</td>\n",
       "      <td>0</td>\n",
       "      <td>0</td>\n",
       "      <td>0</td>\n",
       "      <td>0</td>\n",
       "      <td>0</td>\n",
       "      <td>0</td>\n",
       "      <td>0</td>\n",
       "      <td>0</td>\n",
       "      <td>0</td>\n",
       "    </tr>\n",
       "  </tbody>\n",
       "</table>\n",
       "<p>2 rows × 45 columns</p>\n",
       "</div>"
      ],
      "text/plain": [
       "      PWS ID                          PWS Name  Population Served Count  \\\n",
       "0  010106001  Mashantucket Pequot Water System                    37807   \n",
       "1  010307001                Aquinnah Wampanoag                      103   \n",
       "\n",
       "  Activity Status                                Primary Source  \\\n",
       "0          Active  Groundwater under influence of surface water   \n",
       "1          Active                                  Ground water   \n",
       "\n",
       "                 PWS Type     City Name State Code    Zip Code  Latitude  ...  \\\n",
       "0  Community water system  MASHANTUCKET         CT  06339-3060  41.46446  ...   \n",
       "1  Community water system      CHILMARK         MA       02535       NaN  ...   \n",
       "\n",
       "   Ozonation, Post Ozonation, Pre  Permanganate  Peroxide  Rapid Mix  \\\n",
       "0                0              0             0         0          0   \n",
       "1                0              0             0         0          0   \n",
       "\n",
       "   Reverse Osmosis  Sedimentation  Sequestration  Sludge Treatment  \\\n",
       "0                0              1              0                 0   \n",
       "1                0              0              0                 0   \n",
       "\n",
       "   Ultraviolet Radiation  \n",
       "0                      0  \n",
       "1                      0  \n",
       "\n",
       "[2 rows x 45 columns]"
      ]
     },
     "execution_count": 13,
     "metadata": {},
     "output_type": "execute_result"
    }
   ],
   "source": [
    "wt_baseline.head(2)"
   ]
  },
  {
   "cell_type": "code",
   "execution_count": 19,
   "metadata": {},
   "outputs": [
    {
     "name": "stderr",
     "output_type": "stream",
     "text": [
      "C:\\Users\\mhardika\\AppData\\Local\\Temp\\1\\ipykernel_19204\\1477510235.py:1: DtypeWarning: Columns (12,13,18,19) have mixed types. Specify dtype option on import or set low_memory=False.\n",
      "  wt_facilities_no_filter = pd.read_csv(r'C:\\Users\\mhardika\\Documents\\AMO\\2050\\analysis_files_2024\\SDWIS.csv')\n"
     ]
    },
    {
     "data": {
      "text/html": [
       "<div>\n",
       "<style scoped>\n",
       "    .dataframe tbody tr th:only-of-type {\n",
       "        vertical-align: middle;\n",
       "    }\n",
       "\n",
       "    .dataframe tbody tr th {\n",
       "        vertical-align: top;\n",
       "    }\n",
       "\n",
       "    .dataframe thead th {\n",
       "        text-align: right;\n",
       "    }\n",
       "</style>\n",
       "<table border=\"1\" class=\"dataframe\">\n",
       "  <thead>\n",
       "    <tr style=\"text-align: right;\">\n",
       "      <th></th>\n",
       "      <th>PWS ID</th>\n",
       "      <th>PWS Name</th>\n",
       "      <th>Facility Id</th>\n",
       "      <th>Facility Name</th>\n",
       "      <th>EPA Region</th>\n",
       "      <th>Primacy Agency</th>\n",
       "      <th>Facility Type Description</th>\n",
       "      <th>Is Source Ind</th>\n",
       "      <th>Activity Status</th>\n",
       "      <th>Deactivation Date</th>\n",
       "      <th>...</th>\n",
       "      <th>Season End Date</th>\n",
       "      <th>Population Served Count</th>\n",
       "      <th>Service Connections Count</th>\n",
       "      <th>Is Wholesaler</th>\n",
       "      <th>Seller Pwsid</th>\n",
       "      <th>Seller Pws Name</th>\n",
       "      <th>Seller Treatment Description</th>\n",
       "      <th>Filtration Status Description</th>\n",
       "      <th>Treatment Process</th>\n",
       "      <th>Treatment Objective</th>\n",
       "    </tr>\n",
       "  </thead>\n",
       "  <tbody>\n",
       "    <tr>\n",
       "      <th>0</th>\n",
       "      <td>AR0000601</td>\n",
       "      <td>DARDANELLE WATERWORKS</td>\n",
       "      <td>780</td>\n",
       "      <td>WTP ONLY ACTIVE PLANT</td>\n",
       "      <td>Region 6</td>\n",
       "      <td>Arkansas</td>\n",
       "      <td>Treatment Plant</td>\n",
       "      <td>N</td>\n",
       "      <td>Active</td>\n",
       "      <td>NaN</td>\n",
       "      <td>...</td>\n",
       "      <td>NaN</td>\n",
       "      <td>4228.0</td>\n",
       "      <td>1618</td>\n",
       "      <td>N</td>\n",
       "      <td>NaN</td>\n",
       "      <td>NaN</td>\n",
       "      <td>NaN</td>\n",
       "      <td>NaN</td>\n",
       "      <td>Activated Alumina</td>\n",
       "      <td>Inorganics removal</td>\n",
       "    </tr>\n",
       "    <tr>\n",
       "      <th>1</th>\n",
       "      <td>AR0000604</td>\n",
       "      <td>OLA WATERWORKS</td>\n",
       "      <td>960</td>\n",
       "      <td>MASTER METER</td>\n",
       "      <td>Region 6</td>\n",
       "      <td>Arkansas</td>\n",
       "      <td>Treatment Plant</td>\n",
       "      <td>N</td>\n",
       "      <td>Active</td>\n",
       "      <td>NaN</td>\n",
       "      <td>...</td>\n",
       "      <td>NaN</td>\n",
       "      <td>998.0</td>\n",
       "      <td>415</td>\n",
       "      <td>N</td>\n",
       "      <td>NaN</td>\n",
       "      <td>NaN</td>\n",
       "      <td>NaN</td>\n",
       "      <td>NaN</td>\n",
       "      <td>Activated Alumina</td>\n",
       "      <td>Inorganics removal</td>\n",
       "    </tr>\n",
       "  </tbody>\n",
       "</table>\n",
       "<p>2 rows × 29 columns</p>\n",
       "</div>"
      ],
      "text/plain": [
       "      PWS ID               PWS Name Facility Id          Facility Name  \\\n",
       "0  AR0000601  DARDANELLE WATERWORKS         780  WTP ONLY ACTIVE PLANT   \n",
       "1  AR0000604         OLA WATERWORKS         960           MASTER METER   \n",
       "\n",
       "  EPA Region Primacy Agency Facility Type Description Is Source Ind  \\\n",
       "0   Region 6       Arkansas           Treatment Plant             N   \n",
       "1   Region 6       Arkansas           Treatment Plant             N   \n",
       "\n",
       "  Activity Status  Deactivation Date  ... Season End Date  \\\n",
       "0          Active                NaN  ...             NaN   \n",
       "1          Active                NaN  ...             NaN   \n",
       "\n",
       "  Population Served Count Service Connections Count Is Wholesaler  \\\n",
       "0                  4228.0                      1618             N   \n",
       "1                   998.0                       415             N   \n",
       "\n",
       "  Seller Pwsid Seller Pws Name Seller Treatment Description  \\\n",
       "0          NaN             NaN                          NaN   \n",
       "1          NaN             NaN                          NaN   \n",
       "\n",
       "  Filtration Status Description  Treatment Process Treatment Objective  \n",
       "0                           NaN  Activated Alumina  Inorganics removal  \n",
       "1                           NaN  Activated Alumina  Inorganics removal  \n",
       "\n",
       "[2 rows x 29 columns]"
      ]
     },
     "execution_count": 19,
     "metadata": {},
     "output_type": "execute_result"
    }
   ],
   "source": [
    "wt_facilities_no_filter = pd.read_csv(r'C:\\Users\\mhardika\\Documents\\AMO\\2050\\analysis_files_2024\\SDWIS.csv')\n",
    "wt_facilities_no_filter_inactive = wt_facilities_no_filter.loc[wt_facilities_no_filter['Facility Activity']=='Inactive']\n",
    "wt_facilities_no_filter_inactive = wt_facilities_no_filter_inactive.drop_duplicates(subset=['PWS ID'])\n",
    "wt_facilities_no_filter.head(2)"
   ]
  },
  {
   "cell_type": "code",
   "execution_count": 20,
   "metadata": {},
   "outputs": [],
   "source": [
    "wt_baseline_sorted = wt_baseline.sort_values(['PWS ID'])\n",
    "usgs_wsa_sorted = usgs_wsa.sort_values('WSA_AGIDF')\n",
    "# wt_baseline_sorted.head(3)"
   ]
  },
  {
   "cell_type": "code",
   "execution_count": 5,
   "metadata": {},
   "outputs": [],
   "source": [
    "# Make the wsa string with 9 characters\n",
    "dpc_2020_sorted = dpc_2020.sort_values(['wsa_agidf'])\n",
    "dpc_2020_sorted = dpc_2020_sorted[dpc_2020_sorted['year']==2020]\n",
    "\n",
    "updated_column_list = []\n",
    "\n",
    "for idx,row in dpc_2020_sorted.iterrows():\n",
    "    try:\n",
    "        a = int(row['wsa_agidf'])\n",
    "        # print(f'{a:09d}')\n",
    "        updated_column_list.append(str(f'{a:09d}'))\n",
    "    except:\n",
    "        updated_column_list.append(row['wsa_agidf'].upper())\n",
    "\n",
    "dpc_2020_sorted['wsa_agidf'] = updated_column_list\n",
    "# dpc_2020_sorted.head(5)\n",
    "\n",
    "common_list = []\n",
    "uncommon_list = []\n",
    "for idx,row in dpc_2020_sorted.iterrows():\n",
    "    if row['wsa_agidf'] in wt_baseline_sorted['PWS ID'].values:\n",
    "        common_list.append(row['wsa_agidf'])\n",
    "    else:\n",
    "        uncommon_list.append(row['wsa_agidf'])"
   ]
  },
  {
   "cell_type": "code",
   "execution_count": 7,
   "metadata": {},
   "outputs": [
    {
     "name": "stdout",
     "output_type": "stream",
     "text": [
      "2300\n",
      "16507\n",
      "36020\n",
      "18807\n",
      "18806\n"
     ]
    }
   ],
   "source": [
    "# check if dpc and wsa datasets have the same wsas\n",
    "print(len(uncommon_list))\n",
    "print(len(common_list))\n",
    "print(len(wt_baseline_sorted))\n",
    "print(len(dpc_2020_sorted))\n",
    "print(len(usgs_wsa))"
   ]
  },
  {
   "cell_type": "code",
   "execution_count": 8,
   "metadata": {},
   "outputs": [
    {
     "name": "stderr",
     "output_type": "stream",
     "text": [
      "C:\\Users\\mhardika\\AppData\\Local\\Temp\\1\\ipykernel_19204\\1477510235.py:1: DtypeWarning: Columns (12,13,18,19) have mixed types. Specify dtype option on import or set low_memory=False.\n",
      "  wt_facilities_no_filter = pd.read_csv(r'C:\\Users\\mhardika\\Documents\\AMO\\2050\\analysis_files_2024\\SDWIS.csv')\n"
     ]
    },
    {
     "data": {
      "text/html": [
       "<div>\n",
       "<style scoped>\n",
       "    .dataframe tbody tr th:only-of-type {\n",
       "        vertical-align: middle;\n",
       "    }\n",
       "\n",
       "    .dataframe tbody tr th {\n",
       "        vertical-align: top;\n",
       "    }\n",
       "\n",
       "    .dataframe thead th {\n",
       "        text-align: right;\n",
       "    }\n",
       "</style>\n",
       "<table border=\"1\" class=\"dataframe\">\n",
       "  <thead>\n",
       "    <tr style=\"text-align: right;\">\n",
       "      <th></th>\n",
       "      <th>PWS ID</th>\n",
       "      <th>PWS Name</th>\n",
       "      <th>Facility Id</th>\n",
       "      <th>Facility Name</th>\n",
       "      <th>EPA Region</th>\n",
       "      <th>Primacy Agency</th>\n",
       "      <th>Facility Type Description</th>\n",
       "      <th>Is Source Ind</th>\n",
       "      <th>Activity Status</th>\n",
       "      <th>Deactivation Date</th>\n",
       "      <th>...</th>\n",
       "      <th>Season End Date</th>\n",
       "      <th>Population Served Count</th>\n",
       "      <th>Service Connections Count</th>\n",
       "      <th>Is Wholesaler</th>\n",
       "      <th>Seller Pwsid</th>\n",
       "      <th>Seller Pws Name</th>\n",
       "      <th>Seller Treatment Description</th>\n",
       "      <th>Filtration Status Description</th>\n",
       "      <th>Treatment Process</th>\n",
       "      <th>Treatment Objective</th>\n",
       "    </tr>\n",
       "  </thead>\n",
       "  <tbody>\n",
       "    <tr>\n",
       "      <th>0</th>\n",
       "      <td>AR0000601</td>\n",
       "      <td>DARDANELLE WATERWORKS</td>\n",
       "      <td>780</td>\n",
       "      <td>WTP ONLY ACTIVE PLANT</td>\n",
       "      <td>Region 6</td>\n",
       "      <td>Arkansas</td>\n",
       "      <td>Treatment Plant</td>\n",
       "      <td>N</td>\n",
       "      <td>Active</td>\n",
       "      <td>NaN</td>\n",
       "      <td>...</td>\n",
       "      <td>NaN</td>\n",
       "      <td>4228.0</td>\n",
       "      <td>1618</td>\n",
       "      <td>N</td>\n",
       "      <td>NaN</td>\n",
       "      <td>NaN</td>\n",
       "      <td>NaN</td>\n",
       "      <td>NaN</td>\n",
       "      <td>Activated Alumina</td>\n",
       "      <td>Inorganics removal</td>\n",
       "    </tr>\n",
       "    <tr>\n",
       "      <th>1</th>\n",
       "      <td>AR0000604</td>\n",
       "      <td>OLA WATERWORKS</td>\n",
       "      <td>960</td>\n",
       "      <td>MASTER METER</td>\n",
       "      <td>Region 6</td>\n",
       "      <td>Arkansas</td>\n",
       "      <td>Treatment Plant</td>\n",
       "      <td>N</td>\n",
       "      <td>Active</td>\n",
       "      <td>NaN</td>\n",
       "      <td>...</td>\n",
       "      <td>NaN</td>\n",
       "      <td>998.0</td>\n",
       "      <td>415</td>\n",
       "      <td>N</td>\n",
       "      <td>NaN</td>\n",
       "      <td>NaN</td>\n",
       "      <td>NaN</td>\n",
       "      <td>NaN</td>\n",
       "      <td>Activated Alumina</td>\n",
       "      <td>Inorganics removal</td>\n",
       "    </tr>\n",
       "  </tbody>\n",
       "</table>\n",
       "<p>2 rows × 29 columns</p>\n",
       "</div>"
      ],
      "text/plain": [
       "      PWS ID               PWS Name Facility Id          Facility Name  \\\n",
       "0  AR0000601  DARDANELLE WATERWORKS         780  WTP ONLY ACTIVE PLANT   \n",
       "1  AR0000604         OLA WATERWORKS         960           MASTER METER   \n",
       "\n",
       "  EPA Region Primacy Agency Facility Type Description Is Source Ind  \\\n",
       "0   Region 6       Arkansas           Treatment Plant             N   \n",
       "1   Region 6       Arkansas           Treatment Plant             N   \n",
       "\n",
       "  Activity Status  Deactivation Date  ... Season End Date  \\\n",
       "0          Active                NaN  ...             NaN   \n",
       "1          Active                NaN  ...             NaN   \n",
       "\n",
       "  Population Served Count Service Connections Count Is Wholesaler  \\\n",
       "0                  4228.0                      1618             N   \n",
       "1                   998.0                       415             N   \n",
       "\n",
       "  Seller Pwsid Seller Pws Name Seller Treatment Description  \\\n",
       "0          NaN             NaN                          NaN   \n",
       "1          NaN             NaN                          NaN   \n",
       "\n",
       "  Filtration Status Description  Treatment Process Treatment Objective  \n",
       "0                           NaN  Activated Alumina  Inorganics removal  \n",
       "1                           NaN  Activated Alumina  Inorganics removal  \n",
       "\n",
       "[2 rows x 29 columns]"
      ]
     },
     "execution_count": 8,
     "metadata": {},
     "output_type": "execute_result"
    }
   ],
   "source": []
  },
  {
   "cell_type": "code",
   "execution_count": 9,
   "metadata": {},
   "outputs": [],
   "source": [
    "# Checking if uncommon list in inactive set\n",
    "inactive_pws_id_list = []\n",
    "no_clue_list = []\n",
    "for pws in uncommon_list:\n",
    "    if pws in wt_facilities_no_filter['PWS ID'].values:\n",
    "        inactive_pws_id_list.append(pws)\n",
    "    else:\n",
    "        no_clue_list.append(pws)"
   ]
  },
  {
   "cell_type": "code",
   "execution_count": 10,
   "metadata": {},
   "outputs": [
    {
     "name": "stdout",
     "output_type": "stream",
     "text": [
      "461\n",
      "1839\n",
      "['430516073353600', '055294202', '055294602', '055294603', '055295101', '055295501', '055295502', '055295503', '083090004', '083090005', '083090007', '083090022', '083090024', '083090025', '083090032', '083090034', '083090047', '083090053', '083890007', '084690453', '084690461', '084690471', '084690478', '084690481', '090400022', '090400026', '090400206', '090400301', '090403010', '905045000000499', '936000000355', '94900700012', '94900700013', '95502100020', '95502500066', 'AL0000033', 'AL0000179', 'AL0000277', 'AL0000404', 'AL0000551', 'AL0000595', 'AL0000618', 'AL0001130', 'AL0001199', 'AL0001298', 'AL0001337', 'AL0001411', 'AL0001786', 'AR0000041', 'AR0000055', 'AR0000062', 'AR0000075', 'AR0000142', 'AR0000263', 'AR0000285', 'AR0000287', 'AR0000288', 'AR0000348', 'AR0000355', 'AR0000463', 'AR0000512', 'AR0000519', 'AR0000532', 'AR0000566', 'AR0000569', 'AR0000605', 'AR0000648', 'AR0000855', 'AZ0401001', 'AZ0401015', 'AZ0401019', 'AZ0401039', 'AZ0401047', 'AZ0401049', 'AZ0401053', 'AZ0401054', 'AZ0401372', 'AZ0401373', 'AZ0402005', 'AZ0402110', 'AZ0402122', 'AZ0402360', 'AZ0403004', 'AZ0403005', 'AZ0403018', 'AZ0403024', 'AZ0403063', 'AZ0403067', 'AZ0403300', 'AZ0404018', 'AZ0404021', 'AZ0404038', 'AZ0404054', 'AZ0404090', 'AZ0406005', 'AZ0407003', 'AZ0407051', 'AZ0407167', 'AZ0407493', 'AZ0407509', 'AZ0407516', 'AZ0407602', 'AZ0408006', 'AZ0408008', 'AZ0408178', 'AZ0408184', 'AZ0408341', 'AZ0408703', 'AZ0408704', 'AZ0409022', 'AZ0409028', 'AZ0409032', 'AZ0409034', 'AZ0409075', 'AZ0410400', 'AZ0410402', 'AZ0411003', 'AZ0411022', 'AZ0411090', 'AZ0411315', 'AZ0411347', 'AZ0413028', 'AZ0413256', 'AZ0414065', 'AZ0414073', 'AZ0414086', 'AZ0414390', 'AZ0414432', 'AZ0415038', 'AZ0415096', 'AZ0420178', 'AZ0420420', 'AZ0420495', 'CA0400028', 'CA0400051', 'CA0400058', 'CA0500027', 'CA0500068', 'CA0706007', 'CA0707517', 'CA0707519', 'CA0707545', 'CA0707572', 'CA0707597', 'CA0707608', 'CA0800652', 'CA0900112', 'CA0900422', 'CA1000001', 'CA1000018', 'CA1000057', 'CA1000069', 'CA1000075', 'CA1000175', 'CA1000248', 'CA1000259', 'CA1000295', 'CA1000366', 'CA1000407', 'CA1000550', 'CA1000554', 'CA1000555', 'CA1009035', 'CA1009120', 'CA1009172', 'CA1009258', 'CA1009281', 'CA1010006', 'CA1010019', 'CA1010020', 'CA1010035', 'CA1010039', 'CA1100203', 'CA1100237', 'CA1100404', 'CA1100413', 'CA1100444', 'CA1100445', 'CA1200687', 'CA1300513', 'CA1300555', 'CA1400002', 'CA1400020', 'CA1400027', 'CA1400045', 'CA1400066', 'CA1400078', 'CA1400511', 'CA1400518', 'CA1410002', 'CA1410003', 'CA1410004', 'CA1410510', 'CA1500152', 'CA1500413', 'CA1500489', 'CA1500508', 'CA1500511', 'CA1500563', 'CA1500591', 'CA1502017', 'CA1502465', 'CA1502549', 'CA1502597', 'CA1502622', 'CA1502666', 'CA1502750', 'CA1503270', 'CA1510054', 'CA1600004', 'CA1600007', 'CA1600010', 'CA1600031', 'CA1600507', 'CA1700511', 'CA1700542', 'CA1700552', 'CA1700563', 'CA1800511', 'CA1800512', 'CA1800516', 'CA1810700', 'CA1900075', 'CA1900126', 'CA1900509', 'CA1900581', 'CA1900583', 'CA1900702', 'CA1900785', 'CA1900808', 'CA1900936', 'CA1910194', 'CA2000501', 'CA2000511', 'CA2000524', 'CA2000534', 'CA2000647', 'CA2000728', 'CA2000800', 'CA2000828', 'CA2010006', 'CA2010008', 'CA2210901', 'CA2210906', 'CA2300507', 'CA2400128', 'CA2400167', 'CA2400201', 'CA2500503', 'CA2510001', 'CA2510002', 'CA2600501', 'CA2600532', 'CA2600538', 'CA2600546', 'CA2600621', 'CA2600714', 'CA2700536', 'CA2700586', 'CA2700606', 'CA2700612', 'CA2700622', 'CA2700771', 'CA2700775', 'CA2700799', 'CA2701034', 'CA2701068', 'CA2701355', 'CA2701367', 'CA2701503', 'CA2701647', 'CA2701742', 'CA2701820', 'CA2701822', 'CA2701888', 'CA2702110', 'CA2702135', 'CA2702148', 'CA2702386', 'CA2702405', 'CA2702409', 'CA2702520', 'CA2800023', 'CA2801080', 'CA2900541', 'CA3000852', 'CA3100014', 'CA3100029', 'CA3100538', 'CA3103310', 'CA3110022', 'CA3110023', 'CA3110043', 'CA3110044', 'CA3200104', 'CA3200114', 'CA3200127', 'CA3200134', 'CA3200155', 'CA3200189', 'CA3200509', 'CA3205001', 'CA3205003', 'CA3210006', 'CA3210008', 'CA3210009', 'CA3301011', 'CA3301180', 'CA3301227', 'CA3301267', 'CA3301502', 'CA3301535', 'CA3301643', 'CA3301676', 'CA3301682', 'CA3301690', 'CA3301850', 'CA3301990', 'CA3400101', 'CA3400103', 'CA3400107', 'CA3400125', 'CA3400128', 'CA3400164', 'CA3400192', 'CA3400332', 'CA3600012', 'CA3600022', 'CA3600031', 'CA3600064', 'CA3600071', 'CA3600156', 'CA3600172', 'CA3600184', 'CA3600262', 'CA3600388', 'CA3600399', 'CA3600400', 'CA3600504', 'CA3600785', 'CA3601010', 'CA3601036', 'CA3610007', 'CA3700071', 'CA3700900', 'CA3700958', 'CA3701184', 'CA3701341', 'CA3701747', 'CA3701780', 'CA3701837', 'CA3702754', 'CA3900505', 'CA3900568', 'CA3900569', 'CA3900579', 'CA3900596', 'CA3900606', 'CA3900607', 'CA3900649', 'CA3900661', 'CA3900664', 'CA3900701', 'CA3900705', 'CA3900719', 'CA3900755', 'CA3900762', 'CA3900805', 'CA3900835', 'CA3900837', 'CA3900907', 'CA3900921', 'CA3900983', 'CA3901031', 'CA3901074', 'CA3901081', 'CA3901113', 'CA3901114', 'CA3901217', 'CA3901276', 'CA3901303', 'CA3910008', 'CA4000504', 'CA4000789', 'CA4100515', 'CA4100539', 'CA4200578', 'CA4200619', 'CA4200802', 'CA4200848', 'CA4200862', 'CA4200881', 'CA4300578', 'CA4300715', 'CA4300992', 'CA4400526', 'CA4400542', 'CA4400599', 'CA4400611', 'CA4400617', 'CA4400660', 'CA4410015', 'CA4500001', 'CA4500009', 'CA4500106', 'CA4500107', 'CA4500204', 'CA4500237', 'CA4510003', 'CA4510007', 'CA4600009', 'CA4600012', 'CA4700521', 'CA4700539', 'CA4700627', 'CA4700630', 'CA4700638', 'CA4700803', 'CA4700884', 'CA4710002', 'CA4710003', 'CA4710008', 'CA4710009', 'CA4710013', 'CA4800511', 'CA4900585', 'CA4900605', 'CA4900643', 'CA4900646', 'CA4900786', 'CA4900822', 'CA4900855', 'CA4901195', 'CA5000005', 'CA5000033', 'CA5000048', 'CA5000054', 'CA5000055', 'CA5000058', 'CA5000060', 'CA5000061', 'CA5000071', 'CA5000077', 'CA5000082', 'CA5000086', 'CA5000095', 'CA5000099', 'CA5000217', 'CA5000218', 'CA5000263', 'CA5000297', 'CA5000313', 'CA5010014', 'CA5010018', 'CA5010021', 'CA5102025', 'CA5110007', 'CA5200010', 'CA5200012', 'CA5200013', 'CA5200014', 'CA5200504', 'CA5200527', 'CA5200539', 'CA5200555', 'CA5200556', 'CA5200560', 'CA5200569', 'CA5200570', 'CA5200574', 'CA5200575', 'CA5200588', 'CA5200645', 'CA5201147', 'CA5210004', 'CA5210005', 'CA5301104', 'CA5400523', 'CA5400553', 'CA5400710', 'CA5400732', 'CA5400767', 'CA5400792', 'CA5400819', 'CA5400957', 'CA5400964', 'CA5410019', 'CA5410800', 'CA5500040', 'CA5500057', 'CA5500074', 'CA5500104', 'CA5510010', 'CA5510022', 'CA5610020', 'CA5700707', 'CA5800572', 'CA5800825', 'CA5800826', 'CA5800863', 'CO0107834', 'CO0111300', 'CO0122250', 'CT0030021', 'CT0030051', 'CT0050011', 'CT0110011', 'CT0110031', 'CT0120031', 'CT0120041', 'CT0120111', 'CT0190051', 'CT0201021', 'CT0210011', 'CT0220011', 'CT0220191', 'CT0248011', 'CT0270051', 'CT0270091', 'CT0270101', 'CT0270111', 'CT0280051', 'CT0309051', 'CT0320061', 'CT0400051', 'CT0408011', 'CT0408021', 'CT0418011', 'CT0480081', 'CT0500021', 'CT0550011', 'CT0560011', 'CT0670021', 'CT0670041', 'CT0671001', 'CT0671021', 'CT0690051', 'CT0690061', 'CT0690071', 'CT0690141', 'CT0740021', 'CT0740301', 'CT0760041', 'CT0878011', 'CT0910031', 'CT0910081', 'CT0910591', 'CT0911061', 'CT0911091', 'CT0920281', 'CT0960041', 'CT0960251', 'CT0970051', 'CT1120051', 'CT1300071', 'CT1410661', 'CT1500011', 'CT1548011', 'DE0000662', 'DE0002618', 'DE0020027', 'FL3421197', 'FL4501242', 'FL5114085', 'FL6284076', 'FL6510216', 'GA0550006', 'GA1230057', 'IA2127085', 'IA2900900', 'IA3215044', 'IA4100901', 'IA4848901', 'IA4880087', 'IA5291301', 'IA5592098', 'IA5710001', 'IA5722053', 'IA6234070', 'IA6432043', 'IA6715083', 'IA7403081', 'IA7628047', 'IA7940037', 'IA8215021', 'IA8251096', 'IA8264059', 'ID1050004', 'ID1090008', 'ID1090109', 'ID1090139', 'ID1280006', 'ID1280010', 'ID1280062', 'ID1280070', 'ID1280084', 'ID1280087', 'ID1280100', 'ID1280128', 'ID1280131', 'ID1280132', 'ID1280175', 'ID1280220', 'ID1280225', 'ID1280254', 'ID1280268', 'ID1280285', 'ID1280288', 'ID1280293', 'ID2180037', 'ID2250013', 'ID2250032', 'ID2290005', 'ID2290010', 'ID2290026', 'ID2290046', 'ID2310006', 'ID2350036', 'ID3020002', 'ID3020012', 'ID3140137', 'ID3380008', 'ID3440007', 'ID4010139', 'ID4430102', 'ID5070010', 'ID5130001', 'ID5160041', 'ID6040006', 'ID6040042', 'ID6040044', 'ID6060001', 'ID6060003', 'ID6060007', 'ID6060016', 'ID6060071', 'ID6060095', 'ID6120001', 'ID6120022', 'ID6360006', 'ID6390001', 'ID6390019', 'ID7100004', 'ID7100041', 'ID7100094', 'ID7170003', 'ID7190032', 'ID7190042', 'ID7220051', 'ID7220072', 'ID7260032', 'ID7330022', 'ID7330026', 'ID7410012', 'IL0190750', 'IL0274700', 'IL0830200', 'IL0990900', 'IL1450100', 'IL1730450', 'IL1990500', 'IN5204003', 'IN5219002', 'IN5219004', 'IN5222005', 'IN5245027', 'IN5245032', 'KS2000509', 'KS2001532', 'KY0040259', 'KY0090322', 'KY0470118', 'KY0500476', 'KY0730368', 'KY0830148', 'KY0840048', 'KY1000124', 'LA1045007', 'LA1063033', 'LA1069010', 'LA1073051', 'LA1077044', 'LA1089002', 'LA1103151', 'MA3035000', 'MA4197000', 'MD0010024', 'MD0010030', 'MD0100017', 'MD0100022', 'MD0140008', 'MD0190007', 'MD0210007', 'MD1041013', 'ME0090040', 'ME0090180', 'ME0091110', 'MI0000350', 'MI0000570', 'MI0001125', 'MI0001210', 'MI0001371', 'MI0001520', 'MI0001693', 'MI0001750', 'MI0001930', 'MI0002100', 'MI0002110', 'MI0002130', 'MI0002285', 'MI0002510', 'MI0002780', 'MI0003030', 'MI0003060', 'MI0003130', 'MI0003410', 'MI0003450', 'MI0003460', 'MI0003640', 'MI0003810', 'MI0003830', 'MI0003880', 'MI0004080', 'MI0004110', 'MI0004320', 'MI0004605', 'MI0005310', 'MI0005570', 'MI0005575', 'MI0005590', 'MI0005930', 'MI0006000', 'MI0006100', 'MI0006320', 'MI0006500', 'MI0006562', 'MI0006800', 'MI0007050', 'MI0007060', 'MI0007070', 'MN1060006', 'MN1180026', 'MN1220009', 'MN1240008', 'MN1240014', 'MN1240015', 'MN1340007', 'MN1370006', 'MN1450011', 'MN1450013', 'MN1690029', 'MN1690033', 'MN1780003', 'MN1840003', 'MN1840004', 'MN1840005', 'MO1010113', 'MO1010187', 'MO1010324', 'MO1010453', 'MO1010459', 'MO1010649', 'MO1011067', 'MO1021080', 'MO1021082', 'MO1024005', 'MO1024006', 'MO1024007', 'MO1024064', 'MO1024144', 'MO1024186', 'MO1024191', 'MO1024324', 'MO1024428', 'MO1024483', 'MO1024512', 'MO2010028', 'MO2024000', 'MO2024128', 'MO2024237', 'MO2024354', 'MO2024471', 'MO2024556', 'MO2024557', 'MO3010054', 'MO3010115', 'MO3010130', 'MO3010180', 'MO3010219', 'MO3010291', 'MO3010441', 'MO3010469', 'MO3010517', 'MO3010709', 'MO3010783', 'MO4010073', 'MO4010079', 'MO4010151', 'MO4010467', 'MO4010668', 'MO4010674', 'MO4010883', 'MO4010885', 'MO4011491', 'MO4024266', 'MO4024538', 'MO4024637', 'MO5010025', 'MO5010031', 'MO5010032', 'MO5010040', 'MO5010185', 'MO5010241', 'MO5010259', 'MO5010283', 'MO5010321', 'MO5010339', 'MO5010341', 'MO5010351', 'MO5010411', 'MO5010423', 'MO5010545', 'MO5010730', 'MO5010829', 'MO5036228', 'MO6010064', 'MO6010092', 'MO6010303', 'MO6010364', 'MO6010368', 'MO6010457', 'MO6010565', 'MO6010568', 'MO6010702', 'MO6010708', 'MO6010759', 'MO6010849', 'MO6010970', 'MO6030106', 'MO6036128', 'MS0020004', 'MS0050019', 'MS0090011', 'MS0140006', 'MS0170032', 'MS0300002', 'MT0000136', 'MT0000138', 'MT0000168', 'MT0000169', 'MT0000187', 'MT0000189', 'MT0000197', 'MT0000206', 'MT0000208', 'MT0000211', 'MT0000247', 'MT0000251', 'MT0000253', 'MT0000266', 'MT0000278', 'MT0000286', 'MT0000296', 'MT0000299', 'MT0000301', 'MT0000310', 'MT0000315', 'MT0000325', 'MT0000344', 'MT0000347', 'MT0000349', 'MT0000359', 'MT0000361', 'MT0000363', 'MT0000460', 'MT0001579', 'MT0001623', 'MT0001917', 'MT0001983', 'MT0004039', 'MT0004382', 'MT0004698', 'MTCANADA1', 'NC0102010', 'NC0239015', 'NC0408020', 'NC0408050', 'NC0424820', 'NC0433025', 'NC0464055', 'ND0200510', 'ND0300323', 'ND1500126', 'ND1801456', 'ND2300614', 'ND2500021', 'ND2500227', 'ND2600968', 'ND3100744', 'ND3100775', 'ND3400214', 'ND4200404', 'ND5100230', 'ND5101687', 'NE3100101', 'NE3100103', 'NE3100106', 'NE3100107', 'NE3100302', 'NE3100303', 'NE3100304', 'NE3100308', 'NE3100309', 'NE3100901', 'NE3101101', 'NE3101104', 'NE3101505', 'NE3101701', 'NE3101903', 'NE3101907', 'NE3101908', 'NE3101909', 'NE3101910', 'NE3102102', 'NE3102303', 'NE3102305', 'NE3102308', 'NE3102505', 'NE3102506', 'NE3102508', 'NE3102510', 'NE3102517', 'NE3102708', 'NE3102709', 'NE3102901', 'NE3103105', 'NE3103504', 'NE3103505', 'NE3103506', 'NE3103507', 'NE3103701', 'NE3103703', 'NE3103704', 'NE3103903', 'NE3104102', 'NE3104105', 'NE3104108', 'NE3104110', 'NE3104303', 'NE3104502', 'NE3104701', 'NE3104702', 'NE3104703', 'NE3104708', 'NE3104710', 'NE3105102', 'NE3105103', 'NE3105104', 'NE3105105', 'NE3105904', 'NE3105905', 'NE3105909', 'NE3106101', 'NE3106103', 'NE3106104', 'NE3106105', 'NE3106106', 'NE3106107', 'NE3106301', 'NE3106303', 'NE3106305', 'NE3106501', 'NE3106505', 'NE3106701', 'NE3106711', 'NE3107101', 'NE3107308', 'NE3107313', 'NE3107702', 'NE3107703', 'NE3107704', 'NE3107905', 'NE3107906', 'NE3108101', 'NE3108102', 'NE3108303', 'NE3108304', 'NE3108306', 'NE3108702', 'NE3108901', 'NE3108902', 'NE3108906', 'NE3109302', 'NE3109304', 'NE3109501', 'NE3109505', 'NE3109506', 'NE3109509', 'NE3109510', 'NE3109704', 'NE3109901', 'NE3109902', 'NE3110101', 'NE3110707', 'NE3110709', 'NE3110712', 'NE3110909', 'NE3110912', 'NE3111905', 'NE3111916', 'NE3111917', 'NE3112102', 'NE3112104', 'NE3112501', 'NE3112502', 'NE3112708', 'NE3112709', 'NE3113103', 'NE3113110', 'NE3113304', 'NE3113305', 'NE3113308', 'NE3113503', 'NE3113701', 'NE3113702', 'NE3113706', 'NE3113707', 'NE3113902', 'NE3113904', 'NE3114101', 'NE3114102', 'NE3114301', 'NE3114302', 'NE3114505', 'NE3114703', 'NE3114704', 'NE3115102', 'NE3115103', 'NE3115106', 'NE3115107', 'NE3115508', 'NE3115512', 'NE3115515', 'NE3115906', 'NE3115910', 'NE3115914', 'NE3116301', 'NE3116302', 'NE3116303', 'NE3116901', 'NE3116903', 'NE3116904', 'NE3116908', 'NE3116909', 'NE3117503', 'NE3118101', 'NE3118303', 'NE3118501', 'NE3118502', 'NE3118703', 'NE3118706', 'NE3120004', 'NE3120030', 'NE3120037', 'NE3120195', 'NE3120220', 'NE3120293', 'NE3120348', 'NE3120710', 'NE3120818', 'NE3121171', 'NE3121196', 'NE3121337', 'NE3121370', 'NE3130003', 'NE3130031', 'NH0611010', 'NJ0105002', 'NJ0108013', 'NJ0108023', 'NJ0301001', 'NJ0311001', 'NJ0311002', 'NJ0326003', 'NJ0326005', 'NJ0326007', 'NJ0326009', 'NJ0326012', 'NJ0326014', 'NJ0335001', 'NJ0417001', 'NJ0436002', 'NJ0436009', 'NJ0805433', 'NJ0810005', 'NJ1001301', 'NJ1003001', 'NJ1019003', 'NJ1212001', 'NJ1213321', 'NJ1319007', 'NJ1326321', 'NJ1414006', 'NJ1414013', 'NJ1414014', 'NJ1435001', 'NJ1511003', 'NJ1511004', 'NJ1511007', 'NJ1511011', 'NJ1511016', 'NJ1523001', 'NJ1523004', 'NJ1530007', 'NJ1710003', 'NJ1710006', 'NJ1710007', 'NJ1714300', 'NJ1904007', 'NJ2113002', 'NJ2116003', 'NJ2120001', 'NM3501232', 'NM3502021', 'NM3503421', 'NM3503721', 'NM3504426', 'NM3505326', 'NM3505429', 'NM3505829', 'NM3506729', 'NM3507929', 'NM3508717', 'NM3511807', 'NM3513819', 'NM3514510', 'NM3516925', 'NM3518525', 'NM3527231', 'NM3528222', 'NM3529207', 'NM3533426', 'NM3542007', 'NM3549408', 'NM3566026', 'NM3568423', 'NN0400282', 'NN3536022', 'NN4900223', 'NV0000005', 'NV0000013', 'NV0000065', 'NV0000185', 'NV0000186', 'NV0000202', 'NV0004082', 'NY0200315', 'NY0200324', 'NY0400338', 'NY0400352', 'NY0501716', 'NY0600353', 'NY0900213', 'NY1302774', 'NY1302786', 'NY1330291', 'NY1400433', 'NY1400448', 'NY2202339', 'NY2501022', 'NY2701039', 'NY2701061', 'NY2800141', 'NY3100595', 'NY3305674', 'NY3430014', 'NY4100037', 'NY4530222', 'NY5103703', 'NY5801229', 'NY5801254', 'OH0800012', 'OH1400512', 'OH1502111', 'OH1700411', 'OH2600711', 'OH2700212', 'OH3000212', 'OH3900911', 'OH4200012', 'OH5201812', 'OH5501512', 'OH6706012', 'OH7801811', 'OH8300812', 'OH8700212', 'OK1020612', 'OK2000201', 'OK2000806', 'OK2002156', 'OK2003605', 'OK2003806', 'OK2004253', 'OK2004254', 'OK2004710', 'OK2005739', 'OK3001501', 'OK3001921', 'OK3002404', 'OK3004015', 'OK3004016', 'OK3004709', 'OK3005613', 'OK3006104', 'OK3007351', 'OR4100064', 'OR4100086', 'OR4100153', 'OR4100257', 'OR4100273', 'OR4100336', 'OR4100338', 'OR4100356', 'OR4100363', 'OR4100368', 'OR4100382', 'OR4100411', 'OR4100500', 'OR4100518', 'OR4100542', 'OR4100626', 'OR4100726', 'OR4100846', 'OR4100860', 'OR4100912', 'OR4100913', 'OR4100930', 'OR4100949', 'OR4101122', 'OR4101231', 'OR4101352', 'OR4101418', 'OR4101496', 'PA1090078', 'PA1090079', 'PA1090806', 'PA1150047', 'PA1150048', 'PA1150102', 'PA1150197', 'PA1230908', 'PA2080024', 'PA2350037', 'PA2450045', 'PA2450981', 'PA2520073', 'PA3390078', 'PA3540059', 'PA3540075', 'PA4070025', 'PA4070053', 'PA4140102', 'PA4410007', 'PA4550025', 'PA4560032', 'PA5020018', 'PA5020034', 'PA5020052', 'PA5040050', 'PA5100424', 'PA5260007', 'PA5650068', 'PA5650095', 'PA6250087', 'PA6610004', 'PA7210060', 'PA7360054', 'PA7360080', 'PA7360082', 'PA7670085', 'PA7670102', 'SC0220015', 'SC0810002', 'SC1310006', 'SC1410001', 'SC1510003', 'SC2110005', 'SC2510003', 'SC2510007', 'SC2510008', 'SC2910001', 'SC4220001', 'SC4310004', 'SC4610005', 'SD4600129', 'SD4600162', 'SD4600228', 'SD4600278', 'SD4600293', 'SD4600336', 'SD4600393', 'SD4602164', 'SD4602206', 'TN0000605', 'TN0000607', 'TX0450018', 'TX0790493', 'TX0790520', 'TX0840011', 'TX0930013', 'TX0930023', 'TX1000056', 'TX1013327', 'TX1013375', 'TX1040022', 'TX1130026', 'TX1130027', 'TX1130029', 'TX1130034', 'TX1130035', 'TX1130036', 'TX1130037', 'TX1370005', 'TX1460037', 'TX1470007', 'TX1580014', 'TX1660018', 'TX1680008', 'TX1700503', 'TX1700665', 'TX1700860', 'TX1700866', 'TX1750006', 'TX1780001', 'TX1780050', 'TX1870013', 'TX1870025', 'TX2360027', 'TX2370093', 'TX2380027', 'UTAH01005', 'UTAH02017', 'UTAH02020', 'UTAH02051', 'UTAH03006', 'UTAH03016', 'UTAH03097', 'UTAH04010', 'UTAH06014', 'UTAH07003', 'UTAH07063', 'UTAH08043', 'UTAH09001', 'UTAH11001', 'UTAH11004', 'UTAH11013', 'UTAH11015', 'UTAH11043', 'UTAH13001', 'UTAH13008', 'UTAH13037', 'UTAH13049', 'UTAH13050', 'UTAH14021', 'UTAH14029', 'UTAH14055', 'UTAH15004', 'UTAH15010', 'UTAH15012', 'UTAH15015', 'UTAH16002', 'UTAH16004', 'UTAH17005', 'UTAH17008', 'UTAH18019', 'UTAH18029', 'UTAH18046', 'UTAH19077', 'UTAH20014', 'UTAH20048', 'UTAH21001', 'UTAH21008', 'UTAH21010', 'UTAH22006', 'UTAH22101', 'UTAH22104', 'UTAH22105', 'UTAH23001', 'UTAH23044', 'UTAH24012', 'UTAH25010', 'UTAH25012', 'UTAH25014', 'UTAH25024', 'UTAH25031', 'UTAH25058', 'UTAH25137', 'UTAH25144', 'UTAH25146', 'UTAH26052', 'UTAH26055', 'UTAH26062', 'UTAH27010', 'UTAH27030', 'UTAH27061', 'UTAH27065', 'UTAH27069', 'UTAH27079', 'UTAH28002', 'UTAH28004', 'UTAH28006', 'UTAH29013', 'UTAH29024', 'UTAH29029', 'UTAH29093', 'UTAH29119', 'VA1121052', 'VA2023196', 'VA2023240', 'VA2139935', 'VA2540500', 'VA2678375', 'VA3131200', 'VA3175170', 'VA3175690', 'VA3181250', 'VA3181850', 'VA3810900', 'VA5083690', 'VA5515050', 'VA6059460', 'VA6630050', 'VT0005648', 'WA5300045', 'WA5300153', 'WA5300346', 'WA5300489', 'WA5300496', 'WA5300510', 'WA5300558', 'WA5300800', 'WA5300914', 'WA5300956', 'WA5301023', 'WA5301200', 'WA5301265', 'WA5301383', 'WA5301412', 'WA5301567', 'WA5301700', 'WA5301828', 'WA5301874', 'WA5302149', 'WA5302182', 'WA5302300', 'WA5302348', 'WA5302356', 'WA5302513', 'WA5302632', 'WA5302715', 'WA5302857', 'WA5302885', 'WA5303010', 'WA5303021', 'WA5303134', 'WA5303200', 'WA5303224', 'WA5303451', 'WA5303456', 'WA5303523', 'WA5303528', 'WA5303681', 'WA5303741', 'WA5303901', 'WA5303912', 'WA5303950', 'WA5304212', 'WA5304237', 'WA5304316', 'WA5304459', 'WA5304979', 'WA5305025', 'WA5305151', 'WA5305160', 'WA5305277', 'WA5305290', 'WA5305534', 'WA5305811', 'WA5305836', 'WA5305867', 'WA5306046', 'WA5306319', 'WA5306794', 'WA5307160', 'WA5307222', 'WA5307542', 'WA5307663', 'WA5307870', 'WA5307877', 'WA5308066', 'WA5308131', 'WA5308166', 'WA5308300', 'WA5308330', 'WA5308393', 'WA5308586', 'WA5308915', 'WA5309066', 'WA5309650', 'WA5309871', 'WA5310050', 'WA5310220', 'WA5310440', 'WA5310774', 'WA5310808', 'WA5310991', 'WA5310994', 'WA5311030', 'WA5311239', 'WA5311901', 'WA5311914', 'WA5311998', 'WA5312201', 'WA5312249', 'WA5312270', 'WA5312490', 'WA5312560', 'WA5312911', 'WA5313525', 'WA5313701', 'WA5313800', 'WA5313850', 'WA5314065', 'WA5314069', 'WA5314080', 'WA5314185', 'WA5315020', 'WA5315485', 'WA5315675', 'WA5315818', 'WA5316150', 'WA5316866', 'WA5316900', 'WA5317049', 'WA5317050', 'WA5317189', 'WA5317794', 'WA5317950', 'WA5318140', 'WA5318221', 'WA5318440', 'WA5318643', 'WA5318650', 'WA5319068', 'WA5319110', 'WA5319208', 'WA5319210', 'WA5319246', 'WA5319430', 'WA5319480', 'WA5319936', 'WA5320350', 'WA5320445', 'WA5320453', 'WA5322057', 'WA5322340', 'WA5322650', 'WA5322881', 'WA5323120', 'WA5323850', 'WA5323911', 'WA5324006', 'WA5324163', 'WA5324170', 'WA5324355', 'WA5324529', 'WA5324721', 'WA5325152', 'WA5325384', 'WA5325722', 'WA5326651', 'WA5326774', 'WA5326911', 'WA5326916', 'WA5327755', 'WA5328050', 'WA5328392', 'WA5328551', 'WA5328650', 'WA5329000', 'WA5329428', 'WA5329485', 'WA5329710', 'WA5330190', 'WA5330955', 'WA5331024', 'WA5331040', 'WA5331203', 'WA5331226', 'WA5331440', 'WA5331450', 'WA5331500', 'WA5331565', 'WA5332550', 'WA5332660', 'WA5333120', 'WA5333261', 'WA5333690', 'WA5334005', 'WA5334100', 'WA5334300', 'WA5334650', 'WA5335092', 'WA5335600', 'WA5335639', 'WA5335880', 'WA5336754', 'WA5336836', 'WA5336850', 'WA5336991', 'WA5337400', 'WA5337595', 'WA5339991', 'WA5340950', 'WA5341991', 'WA5341996', 'WA5342700', 'WA5343054', 'WA5343400', 'WA5343793', 'WA5344052', 'WA5344130', 'WA5344950', 'WA5345285', 'WA5345350', 'WA5345400', 'WA5345650', 'WA5345800', 'WA5346658', 'WA5347150', 'WA5347431', 'WA5347893', 'WA5348030', 'WA5348160', 'WA5348200', 'WA5348300', 'WA5350235', 'WA5350295', 'WA5350400', 'WA5351100', 'WA5351150', 'WA5351215', 'WA5351550', 'WA5351920', 'WA5352112', 'WA5353475', 'WA5353780', 'WA5353820', 'WA5354850', 'WA5355060', 'WA5355631', 'WA5355990', 'WA5356143', 'WA5356736', 'WA5356820', 'WA5356875', 'WA5357740', 'WA5359588', 'WA5359953', 'WA5360190', 'WA5360490', 'WA5360665', 'WA5360846', 'WA5361129', 'WA5361850', 'WA5362150', 'WA5362675', 'WA5362700', 'WA5362750', 'WA5363480', 'WA5363500', 'WA5363650', 'WA5363655', 'WA5363695', 'WA5364340', 'WA5364400', 'WA5364937', 'WA5365550', 'WA5365640', 'WA5366125', 'WA5366219', 'WA5366565', 'WA5367100', 'WA5367310', 'WA5367382', 'WA5367393', 'WA5367704', 'WA5368417', 'WA5369020', 'WA5369050', 'WA5369250', 'WA5369273', 'WA5369700', 'WA5370650', 'WA5370755', 'WA5371643', 'WA5372267', 'WA5372414', 'WA5372500', 'WA5372620', 'WA5372773', 'WA5372811', 'WA5372850', 'WA5373750', 'WA5374130', 'WA5375616', 'WA5376050', 'WA5376530', 'WA5376976', 'WA5377670', 'WA5377777', 'WA5377850', 'WA5378600', 'WA5379423', 'WA5380100', 'WA5380212', 'WA5380800', 'WA5381146', 'WA5381150', 'WA5381300', 'WA5381475', 'WA5382963', 'WA5383150', 'WA5383295', 'WA5383408', 'WA5383830', 'WA5383900', 'WA5384870', 'WA5384907', 'WA5385240', 'WA5385330', 'WA5385940', 'WA5386100', 'WA5386158', 'WA5386304', 'WA5387115', 'WA5387122', 'WA5387155', 'WA5387375', 'WA5387520', 'WA5387784', 'WA5388300', 'WA5388381', 'WA5388383', 'WA5388388', 'WA5388398', 'WA5389425', 'WA5389550', 'WA5390032', 'WA5390050', 'WA5390250', 'WA5390260', 'WA5390847', 'WA5390993', 'WA5391250', 'WA5391470', 'WA5391910', 'WA5391930', 'WA5392062', 'WA5392600', 'WA5393085', 'WA5393945', 'WA5394650', 'WA5395057', 'WA5395240', 'WA5395915', 'WA5396093', 'WA5396095', 'WA5396700', 'WA5397520', 'WA5397750', 'WA5398128', 'WA5398215', 'WA5399550', 'WA5399800', 'WA53AA517', 'WA53AA642', 'WA53AA916', 'WA53AB292', 'WA53AC152', 'WI1110099', 'WI1130220', 'WI1220085', 'WI1250081', 'WI4240225', 'WI6030132', 'WI6170274', 'WI6490335', 'WI6490336', 'WI6490339', 'WI6560119', 'WI6560121', 'WI6560134', 'WI7210107', 'WI7210110', 'WI7340118', 'WI8040094', 'WI8070312', 'WI8550459', 'WI8580533', 'WI8660302', 'WV3300315', 'WV3301029', 'WV3302024', 'WV3302336', 'WV3302341', 'WV3302429', 'WV3302524', 'WV3302819', 'WV3302852', 'WV3303409', 'WV3303508', 'WV3304205', 'WV3305512', 'WY5600023', 'WY5600093', 'WY5600154', 'WY5600160', 'WY5600169', 'WY5600206', 'WY5600209', 'WY5600223', 'WY5600256', 'WY5600275', 'WY5600287', 'WY5600788', 'WY5601182', 'WY5601415', 'WY5601418']\n"
     ]
    }
   ],
   "source": [
    "print(len(inactive_pws_id_list))\n",
    "print(len(no_clue_list))\n",
    "\n",
    "print(no_clue_list)"
   ]
  },
  {
   "cell_type": "markdown",
   "metadata": {},
   "source": [
    "USGS Data Analysis Datasets:\n",
    "1. 2000-2020 HUC dataset\n",
    "2. National DPC modeled using the 2000-2020 dataset\n",
    "3. WSA dataset with poylgons describing service area and population in each service area. (what year?)\n",
    "4. A more details geographical unit (GU) data set"
   ]
  },
  {
   "cell_type": "code",
   "execution_count": 6,
   "metadata": {},
   "outputs": [],
   "source": [
    "# usgs_gu_wwsa.loc[1]"
   ]
  },
  {
   "cell_type": "code",
   "execution_count": 6,
   "metadata": {},
   "outputs": [],
   "source": [
    "# wt_baseline.head(2)"
   ]
  },
  {
   "cell_type": "code",
   "execution_count": 25,
   "metadata": {},
   "outputs": [
    {
     "name": "stdout",
     "output_type": "stream",
     "text": [
      "SDWIS data: 36020\n",
      "USGS 2020 data: 18807\n",
      "Combined: 40903\n"
     ]
    }
   ],
   "source": [
    "# Filter list facilities from both SDWIS and USGS (DPC) and list where they exist\n",
    "# Comparison of USGS and SDWIS data of population\n",
    "\n",
    "combined_df_2020 = pd.DataFrame()\n",
    "# Grab PWS ID and WSA from SDWIS and USGS data\n",
    "pws_id = wt_baseline['PWS ID'].values\n",
    "pws_inactive_id = wt_facilities_no_filter_inactive['PWS ID'].values\n",
    "dpc = dpc_2020_sorted['wsa_agidf'].values\n",
    "\n",
    "all_wsa_pwd = np.concatenate([dpc,pws_id,pws_inactive_id])\n",
    "combined_df_2020['combined_ids'] = all_wsa_pwd\n",
    "combined_df_2020.drop_duplicates('combined_ids',inplace=True)\n",
    "combined_df_2020.dropna(inplace=True)\n",
    "\n",
    "combined_df_2020.reset_index(inplace=True)\n",
    "combined_df_2020.drop(columns='index',inplace=True)\n",
    "print('SDWIS data:',len(pws_id))\n",
    "print('USGS 2020 data:',len(dpc))\n",
    "print('Combined:',len(combined_df_2020['combined_ids']))\n",
    "\n",
    "usgs_pop_list = []\n",
    "sdwis_pop_list = []\n",
    "state_code_list = []\n",
    "usgs_check_list = []\n",
    "sdwis_check_list = []\n",
    "sdwis_inactive_check_list = []\n",
    "\n",
    "for idx,row in combined_df_2020.iterrows():\n",
    "    state = []\n",
    "\n",
    "    # Check if the facility in SDWIS active facilities list\n",
    "    if row['combined_ids'] in wt_baseline['PWS ID'].values:\n",
    "        sdwis_check_list.append(1)\n",
    "        sdwis_inactive_check_list.append(0)\n",
    "        sdwis_pop_list.append(wt_baseline[wt_baseline['PWS ID']==row['combined_ids']]['Population Served Count'].values[0])\n",
    "        state = wt_baseline[wt_baseline['PWS ID']==row['combined_ids']]['State Code'].values[0]\n",
    "    # Check if the facility in the SDWIS inactive facility list\n",
    "    elif row['combined_ids'] in wt_facilities_no_filter_inactive['PWS ID'].values:\n",
    "        sdwis_inactive_check_list.append(1)\n",
    "        sdwis_check_list.append(0)\n",
    "        sdwis_pop_list.append(wt_facilities_no_filter_inactive[wt_facilities_no_filter_inactive['PWS ID']==row['combined_ids']]['Population Served Count'].values[0])\n",
    "        state = wt_facilities_no_filter_inactive[wt_facilities_no_filter_inactive['PWS ID']==row['combined_ids']]['Primacy Agency'].values[0]\n",
    "    else:\n",
    "        sdwis_check_list.append(0)\n",
    "        sdwis_inactive_check_list.append(0)\n",
    "        sdwis_pop_list.append(0)\n",
    "        state_name = usgs_wsa_sorted[usgs_wsa_sorted['WSA_AGIDF']==row['combined_ids']]['STATE_NAME'].values[0]\n",
    "        state = state_geocode[state_geocode['state']==state_name]['abbv'].values[0]\n",
    "        # state_code_list.append()\n",
    "\n",
    "    if row['combined_ids'] in dpc_2020_sorted['wsa_agidf'].values:\n",
    "        usgs_check_list.append(1)\n",
    "        usgs_pop_list.append(dpc_2020_sorted[dpc_2020_sorted['wsa_agidf']==row['combined_ids']]['population'].values[0])\n",
    "        try:\n",
    "            state_name= usgs_wsa_sorted[usgs_wsa_sorted['WSA_AGIDF']==row['combined_ids']]['STATE_NAME'].values[0]\n",
    "            state = state_geocode[state_geocode['state']==state_name]['abbv'].values[0]\n",
    "        except:\n",
    "            state = row['combined_ids'][0:2]\n",
    "        \n",
    "        # state_code_list.append(usgs_wsa_sorted[usgs_wsa_sorted['WSA_AGIDF']==row['combined_ids']]['STATE_NAME'].values[0])\n",
    "    else:\n",
    "        usgs_check_list.append(0)\n",
    "        usgs_pop_list.append(0)\n",
    "    state_code_list.append(state)\n",
    "\n",
    "combined_df_2020['usgs_check'] = usgs_check_list\n",
    "combined_df_2020['sdwis_check'] = sdwis_check_list\n",
    "combined_df_2020['sdwis_inactive_check'] = sdwis_inactive_check_list\n",
    "combined_df_2020['usgs_pop'] = usgs_pop_list\n",
    "combined_df_2020['sdwis_pop'] = sdwis_pop_list\n",
    "combined_df_2020['state_code'] = state_code_list"
   ]
  },
  {
   "cell_type": "code",
   "execution_count": 123,
   "metadata": {},
   "outputs": [],
   "source": [
    "# List of facilities at are inactive in the sdwis dataset\n",
    "inactive_pws_id_list = []\n",
    "for idx, row in wt_facilities_no_filter_inactive.iterrows():\n",
    "    if row['PWS ID'] in combined_df_2020['combined_ids'].values:\n",
    "        # print(row['PWS ID'])\n",
    "        inactive_pws_id_list.append(row['PWS ID'])\n"
   ]
  },
  {
   "cell_type": "code",
   "execution_count": 125,
   "metadata": {},
   "outputs": [
    {
     "data": {
      "text/plain": [
       "10964"
      ]
     },
     "execution_count": 125,
     "metadata": {},
     "output_type": "execute_result"
    }
   ],
   "source": [
    "len(inactive_pws_id_list)\n",
    "# combined_df_2020[combined_df_2020['combined_ids']==inactive_pws_id_list[0]]"
   ]
  },
  {
   "cell_type": "code",
   "execution_count": 26,
   "metadata": {},
   "outputs": [
    {
     "data": {
      "text/html": [
       "<div>\n",
       "<style scoped>\n",
       "    .dataframe tbody tr th:only-of-type {\n",
       "        vertical-align: middle;\n",
       "    }\n",
       "\n",
       "    .dataframe tbody tr th {\n",
       "        vertical-align: top;\n",
       "    }\n",
       "\n",
       "    .dataframe thead th {\n",
       "        text-align: right;\n",
       "    }\n",
       "</style>\n",
       "<table border=\"1\" class=\"dataframe\">\n",
       "  <thead>\n",
       "    <tr style=\"text-align: right;\">\n",
       "      <th></th>\n",
       "      <th>state_code</th>\n",
       "      <th>usgs_state_pop</th>\n",
       "      <th>sdwis_state_pop</th>\n",
       "      <th>hauer_state_pop</th>\n",
       "      <th>sdwis_only</th>\n",
       "      <th>usgs_only</th>\n",
       "      <th>usgs_inactive</th>\n",
       "      <th>common_facilities</th>\n",
       "    </tr>\n",
       "  </thead>\n",
       "  <tbody>\n",
       "    <tr>\n",
       "      <th>0</th>\n",
       "      <td>AL</td>\n",
       "      <td>3.200455e+06</td>\n",
       "      <td>5318723.0</td>\n",
       "      <td>4.959771e+06</td>\n",
       "      <td>94</td>\n",
       "      <td>14</td>\n",
       "      <td>1</td>\n",
       "      <td>273</td>\n",
       "    </tr>\n",
       "    <tr>\n",
       "      <th>1</th>\n",
       "      <td>AZ</td>\n",
       "      <td>6.677942e+06</td>\n",
       "      <td>6688039.0</td>\n",
       "      <td>7.300009e+06</td>\n",
       "      <td>330</td>\n",
       "      <td>99</td>\n",
       "      <td>28</td>\n",
       "      <td>286</td>\n",
       "    </tr>\n",
       "  </tbody>\n",
       "</table>\n",
       "</div>"
      ],
      "text/plain": [
       "  state_code  usgs_state_pop  sdwis_state_pop  hauer_state_pop  sdwis_only  \\\n",
       "0         AL    3.200455e+06        5318723.0     4.959771e+06          94   \n",
       "1         AZ    6.677942e+06        6688039.0     7.300009e+06         330   \n",
       "\n",
       "   usgs_only  usgs_inactive  common_facilities  \n",
       "0         14              1                273  \n",
       "1         99             28                286  "
      ]
     },
     "execution_count": 26,
     "metadata": {},
     "output_type": "execute_result"
    }
   ],
   "source": [
    "# Going through all states and checking things\n",
    "\n",
    "combined_state_wise_df = pd.DataFrame()\n",
    "\n",
    "state_code_list = []\n",
    "usgs_state_pop_list = []\n",
    "sdwis_state_pop_list = []\n",
    "hauer_state_pop_list = []\n",
    "sdwis_only_list = []\n",
    "usgs_only_list = []\n",
    "usgs_sdwis_inactive_list = []\n",
    "common_facilities_list = []\n",
    "contiguous_usa = ('AL','AZ','AR','CA','CO','CT','DE','FL','GA','ID','IL','IN','IA','KS','KY','LA','ME','MD','MA','MI','MN','MS','MO','MT','NE',\n",
    "                  'NV','NH','NJ','NM','NY','NC','ND','OH','OK','OR','PA','RI','SC','SD','TN','TX','UT','VT','VA','WA','WV','WI','WY','DC')\n",
    "\n",
    "\n",
    "for state in contiguous_usa:\n",
    "    state_code_list.append(state)\n",
    "    combined_df_state = combined_df_2020.loc[(combined_df_2020['state_code']==state)]\n",
    "    usgs_state_pop_list.append(combined_df_state['usgs_pop'].sum())\n",
    "    sdwis_state_pop_list.append(combined_df_state['sdwis_pop'].sum())\n",
    "    \n",
    "    state_id = state_geocode[state_geocode['abbv']==state]['state_id'].values[0]\n",
    "    pop_df_state = pop_df.loc[pop_df['state_id']==state_id].copy()\n",
    "    hauer_state_pop_list.append(pop_df_state['ssp22020'].sum())\n",
    "    sdwis_only_list.append(len(combined_df_state[(combined_df_state['sdwis_check']==1) & (combined_df_state['usgs_check']==0)]))\n",
    "    usgs_only_list.append(len(combined_df_state[(combined_df_state['sdwis_check']==0) & (combined_df_state['usgs_check']==1)]))\n",
    "    usgs_sdwis_inactive_list.append(len(combined_df_state[(combined_df_state['sdwis_inactive_check']==1) & (combined_df_state['sdwis_check']==0) & (combined_df_state['usgs_check']==1)]))\n",
    "    common_facilities_list.append(len(combined_df_state[(combined_df_state['sdwis_check']==1) & (combined_df_state['usgs_check']==1)]))\n",
    "    \n",
    "combined_state_wise_df['state_code'] = state_code_list\n",
    "combined_state_wise_df['usgs_state_pop'] = usgs_state_pop_list\n",
    "combined_state_wise_df['sdwis_state_pop'] = sdwis_state_pop_list\n",
    "combined_state_wise_df['hauer_state_pop'] = hauer_state_pop_list\n",
    "combined_state_wise_df['sdwis_only'] = sdwis_only_list\n",
    "combined_state_wise_df['usgs_only'] = usgs_only_list\n",
    "combined_state_wise_df['usgs_inactive'] = usgs_sdwis_inactive_list\n",
    "combined_state_wise_df['common_facilities'] = common_facilities_list\n",
    "\n",
    "combined_state_wise_df.head(2)\n"
   ]
  },
  {
   "cell_type": "code",
   "execution_count": 31,
   "metadata": {},
   "outputs": [
    {
     "data": {
      "text/plain": [
       "<matplotlib.legend.Legend at 0x14c0ad1d670>"
      ]
     },
     "execution_count": 31,
     "metadata": {},
     "output_type": "execute_result"
    },
    {
     "data": {
      "image/png": "[encoded data removed]",
      "text/plain": [
       "<Figure size 1700x800 with 1 Axes>"
      ]
     },
     "metadata": {},
     "output_type": "display_data"
    }
   ],
   "source": [
    "fig, ax = plt.subplots(figsize=(17,8))\n",
    "x = np.arange(0,len(combined_state_wise_df))\n",
    "# print(x,len(combined_df_ny))\n",
    "ax.bar(x-0.15, combined_state_wise_df['sdwis_state_pop'],width=0.15,label='SDWIS')\n",
    "ax.bar(x, combined_state_wise_df['usgs_state_pop'],width=0.15,label='USGS')\n",
    "# ax.bar(x+15, combined_state_wise_df['hauer_state_pop'],width=0.15,label='Hauer')\n",
    "\n",
    "ax.set_yscale('log')\n",
    "ax.set_xticks(range(0,len(contiguous_usa)),contiguous_usa,rotation = 90)\n",
    "# ax.set_xlim([750,800])\n",
    "ax.set_ylabel('Population')\n",
    "ax.legend()"
   ]
  },
  {
   "cell_type": "code",
   "execution_count": 28,
   "metadata": {},
   "outputs": [
    {
     "data": {
      "text/plain": [
       "<matplotlib.legend.Legend at 0x14c0a9cab80>"
      ]
     },
     "execution_count": 28,
     "metadata": {},
     "output_type": "execute_result"
    },
    {
     "data": {
      "image/png": "[encoded data removed]",
      "text/plain": [
       "<Figure size 1700x800 with 1 Axes>"
      ]
     },
     "metadata": {},
     "output_type": "display_data"
    }
   ],
   "source": [
    "fig, ax = plt.subplots(figsize=(17,8))\n",
    "x = np.arange(0,len(combined_state_wise_df))\n",
    "# print(x,len(combined_df_ny))\n",
    "ax.bar(x-0.15, combined_state_wise_df['sdwis_only'],width=0.15,label='SDWIS only',color = 'cornflowerblue')\n",
    "ax.bar(x, combined_state_wise_df['usgs_only'],width=0.15,label='USGS only',color = 'orange')\n",
    "ax.bar(x, combined_state_wise_df['usgs_inactive'],bottom=combined_state_wise_df['usgs_only'], width=0.15,label='USGS Inactive in SDWIS',color = 'black')\n",
    "\n",
    "ax.bar(x+0.15, combined_state_wise_df['common_facilities'],width=0.15,label='Common',color = 'green')\n",
    "ax.set_yscale('log')\n",
    "ax.set_xticks(range(0,len(contiguous_usa)),contiguous_usa,rotation = 90)\n",
    "# ax.set_xlim([750,800])\n",
    "ax.set_ylabel('Number of Facilities')\n",
    "ax.legend()"
   ]
  },
  {
   "cell_type": "code",
   "execution_count": 126,
   "metadata": {},
   "outputs": [],
   "source": [
    "# # combined_df_ny['sdwis_pop'].values\n",
    "# fig, ax = plt.subplots()\n",
    "# x = np.arange(0,len(combined_df_state))\n",
    "# # print(x,len(combined_df_ny))\n",
    "# ax.bar(x+0.15, combined_df_state['sdwis_pop'],width=0.3,label='SDWIS')\n",
    "# ax.bar(x-0.15, combined_df_state['usgs_pop'],width=0.3,label='USGS')\n",
    "# ax.set_yscale('log')\n",
    "# ax.set_xlim([750,800])\n",
    "# ax.legend()\n"
   ]
  },
  {
   "cell_type": "markdown",
   "metadata": {},
   "source": [
    "Specific State Test"
   ]
  },
  {
   "cell_type": "code",
   "execution_count": 29,
   "metadata": {},
   "outputs": [],
   "source": [
    "# Checking population for New York\n",
    "state_code = 'NY'\n",
    "combined_df_state = combined_df_2020.loc[(combined_df_2020['state_code']==state_code)]"
   ]
  },
  {
   "cell_type": "code",
   "execution_count": 156,
   "metadata": {},
   "outputs": [],
   "source": [
    "# sdwis_cws_ny = pd.read_csv(r'C:\\Users\\mhardika\\Documents\\AMO\\2050\\analysis_files_2024\\testing_sdwis_dataset\\sdwis_cws_ny.csv')\n",
    "# print(len(sdwis_cws_ny))\n",
    "# sdwis_cws_ny = sdwis_cws_ny.loc[sdwis_cws_ny['Facility Type Description']=='Treatment Plant']\n",
    "# sdwis_cws_ny = sdwis_cws_ny.loc[sdwis_cws_ny['Facility Activity']=='Active']\n",
    "# sdwis_cws_ny = sdwis_cws_ny.drop_duplicates(subset = ['PWS ID'])\n",
    "# print(len(sdwis_cws_ny))\n",
    "# sdwis_cws_ny.head(2)\n",
    "# print(len(wt_baseline_updated.loc[wt_baseline_updated['State Code']=='NY']))"
   ]
  },
  {
   "cell_type": "code",
   "execution_count": 30,
   "metadata": {},
   "outputs": [
    {
     "name": "stdout",
     "output_type": "stream",
     "text": [
      "SDWIS 16992100.0\n",
      "USGS 34974805.4347\n",
      "36\n",
      "Hauer population data 20242666\n"
     ]
    }
   ],
   "source": [
    "print('SDWIS',combined_df_state['sdwis_pop'].sum())\n",
    "print('USGS',combined_df_state['usgs_pop'].sum())\n",
    "\n",
    "state_id = state_geocode[state_geocode['abbv']==state_code]['state_id'].values[0]\n",
    "print(state_id)\n",
    "pop_df_state = pop_df.loc[pop_df['state_id']==state_id].copy()\n",
    "print('Hauer population data',round(pop_df_state['ssp22020'].sum()))"
   ]
  },
  {
   "cell_type": "code",
   "execution_count": 81,
   "metadata": {},
   "outputs": [
    {
     "name": "stdout",
     "output_type": "stream",
     "text": [
      "Facilities in SDWIS not in USGS 1337\n",
      "Facilities in USGS not in SDWIS 28\n"
     ]
    }
   ],
   "source": [
    "# Count number of facilities only in SDWIS\n",
    "print('Facilities in SDWIS not in USGS', len(combined_df_state[(combined_df_state['sdwis_check']==1) & (combined_df_state['usgs_check']==0)]))\n",
    "print('Facilities in USGS not in SDWIS', len(combined_df_state[(combined_df_state['sdwis_check']==0) & (combined_df_state['usgs_check']==1)]))\n",
    "\n",
    "# Count number of facilities where population is very different"
   ]
  },
  {
   "cell_type": "code",
   "execution_count": 78,
   "metadata": {},
   "outputs": [],
   "source": [
    "# usgs_gu_wwsa_state = usgs_gu_wwsa.loc[usgs_gu_wwsa['STATE_NAME']=='New York']\n",
    "\n",
    "# geodf_gu_wwsa = gp.GeoDataFrame(usgs_gu_wwsa_state, geometry=usgs_gu_wwsa_state['geometry'])\n",
    "# geodf_gu_wwsa = geodf_gu_wwsa.to_crs(crs=\"EPSG:4326\")\n",
    "# fig, ax = plt.subplots(figsize=(7,5))\n",
    "# ax.axis('off')\n",
    "\n",
    "# # Add this to include other counties in Georgia\n",
    "# geodf_gu_wwsa.plot(ax = ax , edgecolor='black')\n",
    "# state_border = us_states.loc[us_states['STATEFP']=='36']\n",
    "# state_geo = us_counties.loc[us_counties['STATEFP']=='36']\n",
    "# state_border.plot(ax=ax,facecolor ='none',edgecolor ='black')\n",
    "# state_geo.plot(ax=ax,facecolor ='none',edgecolor ='gray',alpha = 0.5)"
   ]
  },
  {
   "cell_type": "code",
   "execution_count": 79,
   "metadata": {},
   "outputs": [],
   "source": [
    "# geodf_wsa = gp.GeoDataFrame(usgs_wsa_state, geometry=usgs_wsa_state['geometry'])\n",
    "# geodf_wsa = geodf_wsa.to_crs(crs=\"EPSG:4326\")\n",
    "# fig, ax = plt.subplots(figsize=(7,5))\n",
    "# ax.axis('off')\n",
    "\n",
    "# # Add this to include other counties in Georgia\n",
    "# # ga_counties.plot(ax=ax,edgecolor='black',facecolor='white')\n",
    "# geodf_wsa.plot(ax = ax , edgecolor='black')\n",
    "# state_border = us_states.loc[us_states['STATEFP']=='36']\n",
    "# state_geo = us_counties.loc[us_counties['STATEFP']=='36']\n",
    "# state_border.plot(ax=ax,facecolor ='none',edgecolor ='black')\n",
    "# state_geo.plot(ax=ax,facecolor ='none',edgecolor ='gray',alpha = 0.5)\n",
    "\n",
    "# # # Get dataset for the state\n",
    "# dpc_2020_no_duplicates = dpc_2020.drop_duplicates('wsa_agidf')\n",
    "# dpc_2020_no_duplicates_state = dpc_2020_no_duplicates.loc[dpc_2020_no_duplicates['wsa_agidf'].str[0:2]=='ny']\n",
    "# # dpc_2020_no_duplicates_state.head(5)\n",
    "# wt_baseline_state = wt_baseline.loc[wt_baseline['PWS ID'].str[0:2]=='NY']\n",
    "# # wt_baseline_state.head(5)\n",
    "\n",
    "# # Plot the facilities in MA listed in the USGS dataset\n",
    "# ax.scatter(dpc_2020_no_duplicates_state['lon'],dpc_2020_no_duplicates_state['lat'],label = 'USGS',s = 3,color='green')\n",
    "\n",
    "# # Plot the facilities in MA listed in the filtered SDWIS dataset\n",
    "# ax.scatter(wt_baseline_state['Longitude'],wt_baseline_state['Latitude'],label='SDWIS',s=1)\n",
    "\n",
    "# ax.legend()\n",
    "\n"
   ]
  },
  {
   "cell_type": "code",
   "execution_count": 81,
   "metadata": {},
   "outputs": [],
   "source": [
    "# for idx,row in usgs_wsa.iterrows():\n",
    "#     if len(row['WSA_AGIDF'])>9:\n",
    "#         print(row['STATE_NAME'],row['WSA_AGIDF'])\n",
    "\n",
    "# for idx,row in usgs_gu_wwsa.iterrows():\n",
    "#     if len(row['WSA_AGIDF'])>9:\n",
    "#         print(row['STATE_NAME'],row['WSA_AGIDF'])\n"
   ]
  },
  {
   "cell_type": "code",
   "execution_count": 14,
   "metadata": {},
   "outputs": [],
   "source": [
    "# # Checking how many treatment facilities are in a county for the state NY\n",
    "# # Plot the state of MA\n",
    "\n",
    "# state_border = us_states.loc[us_states['STATEFP']=='36']\n",
    "# state_geo = us_counties.loc[us_counties['STATEFP']=='36']\n",
    "\n",
    "# fig, ax = plt.subplots(figsize = (14,6))\n",
    "# state_border.plot(ax=ax,facecolor ='none',edgecolor ='black')\n",
    "# state_geo.plot(ax=ax,facecolor ='none',edgecolor ='gray',alpha = 0.5)\n",
    "\n",
    "# # Get dataset for the state\n",
    "# dpc_2020_no_duplicates = dpc_2020.drop_duplicates('wsa_agidf')\n",
    "# dpc_2020_no_duplicates_state = dpc_2020_no_duplicates.loc[dpc_2020_no_duplicates['wsa_agidf'].str[0:2]=='ny']\n",
    "# # dpc_2020_no_duplicates_state.head(5)\n",
    "# wt_baseline_state = wt_baseline.loc[wt_baseline['PWS ID'].str[0:2]=='NY']\n",
    "# # wt_baseline_state.head(5)\n",
    "\n",
    "# # Plot the facilities in MA listed in the USGS dataset\n",
    "# ax.scatter(dpc_2020_no_duplicates_state['lon'],dpc_2020_no_duplicates_state['lat'],label = 'USGS',s = 30)\n",
    "\n",
    "# # Plot the facilities in MA listed in the filtered SDWIS dataset\n",
    "# ax.scatter(wt_baseline_state['Longitude'],wt_baseline_state['Latitude'],label='SDWIS',s=10)\n",
    "\n",
    "# ax.legend()"
   ]
  }
 ],
 "metadata": {
  "kernelspec": {
   "display_name": "watertap3",
   "language": "python",
   "name": "python3"
  },
  "language_info": {
   "codemirror_mode": {
    "name": "ipython",
    "version": 3
   },
   "file_extension": ".py",
   "mimetype": "text/x-python",
   "name": "python",
   "nbconvert_exporter": "python",
   "pygments_lexer": "ipython3",
   "version": "3.8.8"
  }
 },
 "nbformat": 4,
 "nbformat_minor": 2
}
