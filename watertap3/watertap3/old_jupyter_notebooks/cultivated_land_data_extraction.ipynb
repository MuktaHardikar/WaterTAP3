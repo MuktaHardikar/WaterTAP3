{
 "cells": [
  {
   "cell_type": "code",
   "execution_count": null,
   "metadata": {},
   "outputs": [],
   "source": [
    "import os\n",
    "from osgeo import gdal,ogr,osr,gdalnumeric\n",
    "import numpy as np\n",
    "import matplotlib.pyplot as plt\n",
    "import geopandas as gp\n",
    "import rasterio\n",
    "import fiona\n",
    "import rasterio.mask"
   ]
  },
  {
   "attachments": {},
   "cell_type": "markdown",
   "metadata": {},
   "source": [
    "Ref: https://stackoverflow.com/questions/69938501/clipping-raster-through-a-shapefile-using-python"
   ]
  },
  {
   "cell_type": "code",
   "execution_count": null,
   "metadata": {},
   "outputs": [],
   "source": [
    "us_counties = gp.read_file(r'\\Users\\mhardika\\Downloads\\US_County_Boundaries\\US_CountyBndrys.shp')\n",
    "us_counties = us_counties.to_crs(\"EPSG:3857\")"
   ]
  },
  {
   "attachments": {},
   "cell_type": "markdown",
   "metadata": {},
   "source": [
    "Function to go through county lists in Arizona"
   ]
  },
  {
   "cell_type": "code",
   "execution_count": null,
   "metadata": {},
   "outputs": [],
   "source": [
    "az_counties = us_counties.loc[us_counties['STATEFP']=='04']"
   ]
  },
  {
   "cell_type": "code",
   "execution_count": null,
   "metadata": {},
   "outputs": [],
   "source": [
    "def create_az_images(county,geometry):\n",
    "    src_raster_path = '/Users/mhardika/Downloads/az_cultivated/clipped.TIF'\n",
    "    output_raster_path = '/Users/mhardika/Downloads/az_cultivated/folder/'+ county +'.tif'\n",
    "\n",
    "    with rasterio.open(src_raster_path) as src:\n",
    "        out_image, out_transform = rasterio.mask.mask(src, [geometry], crop=True)\n",
    "        out_meta = src.meta\n",
    "\n",
    "\n",
    "    out_meta.update({\"driver\": \"GTiff\",\n",
    "                 \"height\": out_image.shape[1],\n",
    "                 \"width\": out_image.shape[2],\n",
    "                 \"transform\": out_transform})\n",
    "\n",
    "\n",
    "    with rasterio.open(output_raster_path, \"w\", **out_meta) as dest:\n",
    "        dest.write(out_image)\n",
    "\n",
    "\n",
    "def convert_to_shape(county):\n",
    "    ds = gdal.Open('/Users/mhardika/Downloads/az_cultivated/folder/'+county+'.tif')\n",
    "    ds.RasterCount\n",
    "    srcband = ds.GetRasterBand(1)\n",
    "    proj = ds.GetProjection()\n",
    "    \n",
    "    shp_proj = osr.SpatialReference()\n",
    "    shp_proj.ImportFromWkt(proj)\n",
    "    call_drive = ogr.GetDriverByName('ESRI Shapefile')\n",
    "    create_shp = call_drive.CreateDataSource('/Users/mhardika/Downloads/az_cultivated/folder/'+county+'_output_shapefile.shp')\n",
    "\n",
    "    shp_layer = create_shp.CreateLayer('layername',srs=shp_proj)\n",
    "    new_field = ogr.FieldDefn(str('ID'),ogr.OFTInteger)\n",
    "    shp_layer.CreateField(new_field)\n",
    "\n",
    "    gdal.Polygonize(srcband,None,shp_layer,0,[],callback = None)\n",
    "    create_shp.Destroy()\n",
    "    ds = None\n"
   ]
  },
  {
   "cell_type": "code",
   "execution_count": null,
   "metadata": {},
   "outputs": [],
   "source": [
    "az_counties.geometry[0:1]"
   ]
  },
  {
   "cell_type": "code",
   "execution_count": null,
   "metadata": {},
   "outputs": [],
   "source": [
    "for index,row in az_counties.iterrows():\n",
    "    # print(row['NAME'])\n",
    "    # print(row['geometry'])\n",
    "    create_az_images(row['NAME'],row['geometry'])\n"
   ]
  },
  {
   "cell_type": "code",
   "execution_count": null,
   "metadata": {},
   "outputs": [],
   "source": [
    "for index,row in az_counties.iterrows():\n",
    "    convert_to_shape(row['NAME'])"
   ]
  },
  {
   "cell_type": "code",
   "execution_count": null,
   "metadata": {},
   "outputs": [],
   "source": [
    "# ds = gdal.Open('/Users/mhardika/Downloads/az_cultivated/folder/county_masked.tif')\n",
    "ds = gdal.Open('/Users/mhardika/Downloads/az_cultivated/folder/county_masked_some.tif')\n",
    "ds.RasterCount\n",
    "srcband = ds.GetRasterBand(1)\n",
    "srcband.ReadAsArray()"
   ]
  },
  {
   "cell_type": "code",
   "execution_count": null,
   "metadata": {},
   "outputs": [],
   "source": [
    "proj = ds.GetProjection()\n",
    "shp_proj = osr.SpatialReference()\n",
    "shp_proj.ImportFromWkt(proj)\n",
    "call_drive = ogr.GetDriverByName('ESRI Shapefile')\n",
    "# create_shp = call_drive.CreateDataSource('/Users/mhardika/Downloads/az_cultivated/folder/az_cultivated_output_shapefile.shp')\n",
    "create_shp = call_drive.CreateDataSource('/Users/mhardika/Downloads/az_cultivated/folder/az_cultivated_some_output_shapefile.shp')\n",
    "\n",
    "# shp_layer = create_shp.CreateLayer('layername',srs=shp_proj)\n",
    "shp_layer = create_shp.CreateLayer('layername_some',srs=shp_proj)\n",
    "new_field = ogr.FieldDefn(str('ID'),ogr.OFTInteger)\n",
    "shp_layer.CreateField(new_field)\n",
    "\n",
    "gdal.Polygonize(srcband,None,shp_layer,0,[],callback = None)\n",
    "create_shp.Destroy()\n",
    "ds = None"
   ]
  },
  {
   "cell_type": "code",
   "execution_count": null,
   "metadata": {},
   "outputs": [],
   "source": [
    "sample = gp.read_file('/Users/mhardika/Downloads/az_cultivated/folder/az_cultivated_some_output_shapefile.shp')\n",
    "sample = sample.loc[sample['ID']==121]\n",
    "sample = sample.to_crs(\"EPSG:4326\")\n",
    "fig, ax = plt.subplots()\n",
    "\n",
    "az_counties = az_counties.to_crs(\"EPSG:4326\")\n",
    "az_counties.plot(ax=ax,color = 'white',edgecolor ='black')\n",
    "sample.plot(ax=ax,figsize=(50, 50))"
   ]
  },
  {
   "cell_type": "code",
   "execution_count": null,
   "metadata": {},
   "outputs": [],
   "source": [
    "sample.loc[sample['ID']==121]"
   ]
  }
 ],
 "metadata": {
  "kernelspec": {
   "display_name": "watertap3",
   "language": "python",
   "name": "python3"
  },
  "language_info": {
   "codemirror_mode": {
    "name": "ipython",
    "version": 3
   },
   "file_extension": ".py",
   "mimetype": "text/x-python",
   "name": "python",
   "nbconvert_exporter": "python",
   "pygments_lexer": "ipython3",
   "version": "3.8.8"
  },
  "orig_nbformat": 4
 },
 "nbformat": 4,
 "nbformat_minor": 2
}
