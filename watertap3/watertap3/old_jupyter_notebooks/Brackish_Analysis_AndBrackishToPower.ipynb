{
 "cells": [
  {
   "cell_type": "code",
   "execution_count": null,
   "id": "ae9da776",
   "metadata": {},
   "outputs": [],
   "source": [
    "from watertap3.utils import watertap_setup, get_case_study, run_model \n",
    "from watertap3.utils import run_watertap3, run_model_no_print, run_and_return_model\n",
    "import pandas as pd\n",
    "import numpy as np\n",
    "import haversine as hs"
   ]
  },
  {
   "cell_type": "markdown",
   "id": "9c59036a",
   "metadata": {},
   "source": [
    "### 3. Enter case study information\n",
    "\n",
    "For running a treatment train from the input sheet (```treatment_train_setup.csv```) enter the following information in this cell:\n",
    "\n",
    "1. ```case_study```: name of case study to be run\n",
    "2. ```scenario```: scenario for case study to be run \n",
    "3. ```desired_recovery```: default is 1 (for desired recovery of 100%), can be any number between 0-1\n",
    "3. ```ro_bounds```: default is 'seawater', any other value will give brackish bounds\n"
   ]
  },
  {
   "cell_type": "code",
   "execution_count": null,
   "id": "85a47982",
   "metadata": {},
   "outputs": [],
   "source": [
    "case_study = 'big_spring'\n",
    "scenario = 'baseline'\n",
    "desired_recovery = 1\n",
    "ro_bounds = 'other' # or 'seawater'"
   ]
  },
  {
   "cell_type": "markdown",
   "id": "b99d0bb1",
   "metadata": {},
   "source": [
    "### 4. Setup WaterTAP3 Model"
   ]
  },
  {
   "cell_type": "code",
   "execution_count": null,
   "id": "13b34902",
   "metadata": {},
   "outputs": [],
   "source": [
    "m = watertap_setup(case_study=case_study, scenario=scenario)\n",
    "m = get_case_study(m=m)\n"
   ]
  },
  {
   "cell_type": "code",
   "execution_count": null,
   "id": "95daa52e",
   "metadata": {},
   "outputs": [],
   "source": [
    "# Read in brackish database. It is filtered for the correct columns. \n",
    "df = pd.read_csv('/Users/mhardika/Documents/AMO/GeoToolAll_Methods/Water Source Data/Brackish/USGS_brackish_filtered.csv', index_col='unique_site_ID')\n",
    "\n",
    "# convert USGS unit to our units: gpm to m3s, \n",
    "df.well_yield = df.well_yield * 6.30902e-5 #gpm to m3s\n",
    "df.TDS_mgL = df.TDS_mgL / 1000 #mgL to kg/m3\n",
    "df = df.rename(columns={'TDS_mgL': 'TDS_kgm3'})\n",
    "\n",
    "path = 'C:/Users/mhardika/Documents/watertap3/WaterTAP3/watertap3/watertap3/data'\n",
    "\n",
    "# add state look up for elec prices and add elec price column\n",
    "state_abbv_df = pd.read_csv(path + '/state_abbv.csv', index_col='abbv')\n",
    "elec_price_df = pd.read_csv(path + '/industrial_electricity_costs_2020.csv', index_col='location')\n",
    "df['state'] = df.state_alpha.map(state_abbv_df.us_state)\n",
    "df['elec_price'] = df.state.map(elec_price_df.cost)\n",
    "\n",
    "# filter for well of interest in the US\n",
    "df = df[df.well_yield >= 0.01]\n",
    "df = df[df.TDS_kgm3 >= 0.5]\n",
    "df = df[df.Latitude >= 22]\n",
    "df = df[df.Longitude >= -150]\n",
    "df = df[df.TDS_kgm3 <= 25]"
   ]
  },
  {
   "cell_type": "code",
   "execution_count": null,
   "id": "228a9ce3",
   "metadata": {},
   "outputs": [],
   "source": [
    "len(df)"
   ]
  },
  {
   "cell_type": "code",
   "execution_count": null,
   "id": "5d5473ca",
   "metadata": {
    "scrolled": true
   },
   "outputs": [],
   "source": [
    "# run the baseline watertap3 version of this treatment train\n",
    "m = run_watertap3(m, desired_recovery=desired_recovery, ro_bounds=ro_bounds)"
   ]
  },
  {
   "cell_type": "code",
   "execution_count": null,
   "id": "b42810fa",
   "metadata": {},
   "outputs": [],
   "source": [
    "m.fs.costing.LCOW.value()"
   ]
  },
  {
   "cell_type": "code",
   "execution_count": null,
   "id": "0985e01a",
   "metadata": {},
   "outputs": [],
   "source": [
    "# unfix so that the membrane area and pressure can be optimized based on source water conditions\n",
    "m.fs.reverse_osmosis.membrane_area.unfix()\n",
    "m.fs.reverse_osmosis.feed.pressure.unfix()\n",
    "\n",
    "# allow TDS levels to be qua"
   ]
  },
  {
   "cell_type": "code",
   "execution_count": null,
   "id": "e4374452",
   "metadata": {
    "scrolled": true
   },
   "outputs": [],
   "source": [
    "# loop through brackish sites and calculate+save LCOW, capital, O&M, energy intensity, and recovery in a df.\n",
    "capital = []\n",
    "recovery = []\n",
    "onm = []\n",
    "lcow = []\n",
    "elec_int = []\n",
    "tds_out = []\n",
    "flow_in_list = []\n",
    "tds_in_list = []\n",
    "i = 0\n",
    "\n",
    "for site in df.index:\n",
    "    print('-----------------------------')\n",
    "    print('SITE NAME:', site)\n",
    "    i = i + 1\n",
    "    print(i/len(df.index))\n",
    "           \n",
    "    m.fs.big_spring_feed.flow_vol_in.fix(df.loc[site].well_yield)\n",
    "    m.fs.big_spring_feed.conc_mass_in[0, 'tds'].fix(df.loc[site].TDS_kgm3)\n",
    "    m.fs.well_field.lift_height.fix(df.loc[site].well_depth_ft)\n",
    "    \n",
    "    m.fs.costing_param.electricity_price = df.loc[site].elec_price\n",
    "\n",
    "    m = run_and_return_model(m, objective=True)\n",
    "    \n",
    "    flow_in_list.append(df.loc[site].well_yield)\n",
    "    capital.append(m.fs.costing.capital_investment_total())\n",
    "    recovery.append(m.fs.costing.system_recovery()*100)\n",
    "    onm.append(m.fs.costing.operating_cost_annual())\n",
    "    lcow.append(m.fs.costing.LCOW())\n",
    "    elec_int.append(m.fs.costing.electricity_intensity())\n",
    "    tds_out.append(m.fs.municipal_drinking.conc_mass_in[0, 'tds']())\n",
    "    tds_in_list.append(df.loc[site].TDS_kgm3)\n",
    "    \n",
    "df['lcow'] = lcow\n",
    "df['recovery'] = recovery\n",
    "df['capital'] = capital\n",
    "df['onm'] = onm\n",
    "df['elec_int'] = elec_int\n",
    "df['tds_out'] = tds_out\n",
    "\n"
   ]
  },
  {
   "cell_type": "code",
   "execution_count": null,
   "id": "12b5ed07",
   "metadata": {},
   "outputs": [],
   "source": [
    "m.fs.costing.treated_water.value"
   ]
  },
  {
   "cell_type": "code",
   "execution_count": null,
   "id": "19bc021b",
   "metadata": {},
   "outputs": [],
   "source": [
    "df.head()"
   ]
  },
  {
   "cell_type": "code",
   "execution_count": null,
   "id": "052fea29",
   "metadata": {
    "scrolled": true
   },
   "outputs": [],
   "source": [
    "# for a given brackish site, record all power plants within a certain km radius\n",
    "def get_nearby_power_plants(df_in, site_in, radius):\n",
    "\n",
    "    # read in power plant dataset\n",
    "    netl_df = pd.read_csv(\"/Users/mhardika/Documents/AMO/GeoToolAll_Methods/Water Source Data/Power/NETL_ThermalPlants_Filtered.csv\")\n",
    "    # filter for power plants that we have data for, and that only use freshwater\n",
    "    pp_df = netl_df[((netl_df.WaterType == 'Fresh') & (netl_df.WAvg != '...') & (netl_df.WAvg != '---'))]\n",
    "    pp_df.WAvg = pp_df.WAvg.astype(float)\n",
    "    pp_df.rename({'Longitude': 'PPLongitude', 'Latitude': 'PPLatitude'}, axis=1, inplace=True)\n",
    "    \n",
    "    dist_km_list = []\n",
    "    pp_df_out = pd.DataFrame()\n",
    "    pp_df_out_final = pd.DataFrame()\n",
    "\n",
    "    bw_lat = df_in.loc[site_in].Latitude\n",
    "    bw_lon = df_in.loc[site_in].Longitude\n",
    "    loc1 = (bw_lat, bw_lon)\n",
    "\n",
    "    for pp_index in pp_df.index: #[1]:#\n",
    "\n",
    "        pp_lat = pp_df.loc[pp_index].PPLatitude\n",
    "        pp_lon = pp_df.loc[pp_index].PPLongitude\n",
    "        loc2 = (pp_lat, pp_lon)\n",
    "\n",
    "        dist_km = hs.haversine(loc1,loc2)\n",
    "\n",
    "        if dist_km < radius:\n",
    "\n",
    "            dist_km_list.append(dist_km)\n",
    "\n",
    "            pp_df_hold = pp_df[[\"PlantCode\", \"Fuel\", \"Cooling\", \"Capacity\", \"PPLatitude\", \"PPLongitude\", \"WAvg\"]][pp_df.index == pp_index] \n",
    "                                #, \"Fuel\", \"Cooling, \"Capacity\", \"Latitude\", \"Longitude\", \n",
    "           #'withd', 'cons', 'mup', 'final_with']][pp_df.index == pp_index]\n",
    "\n",
    "            pp_df_out = pd.concat([pp_df_out,pp_df_hold], ignore_index=True)\n",
    "\n",
    "    pp_df_out['dist_km'] = dist_km_list\n",
    "    pp_df_out['site'] = np.array(site_in)\n",
    "\n",
    "    for c_name in df.columns:\n",
    "        pp_df_out[c_name] = pp_df_out.site.map(df[c_name])\n",
    "\n",
    "        # calculate LCOW w/transportation costs\n",
    "\n",
    "    pp_df_out_final = pd.concat([pp_df_out_final,pp_df_out])\n",
    "\n",
    "    return pp_df_out_final\n",
    "    "
   ]
  },
  {
   "cell_type": "code",
   "execution_count": null,
   "id": "8ef1b872",
   "metadata": {
    "scrolled": true
   },
   "outputs": [],
   "source": [
    "# loop through all brackish sites, and match power plants. \n",
    "df_pp_bw_linked = pd.DataFrame()\n",
    "\n",
    "i = 0 \n",
    "\n",
    "for site_in in df.index:\n",
    "    print('-----------------------------')\n",
    "    print('SITE NAME:', site)\n",
    "    i = i + 1\n",
    "    print(100*i/len(df))\n",
    "    \n",
    "    df_site = get_nearby_power_plants(df, site_in, 50) \n",
    "    df_pp_bw_linked = pd.concat([df_pp_bw_linked,df_site])\n",
    "\n",
    "# calculate the cooling demand met by brackish sites (one-to-one match onnly, but should calculate many to one)    \n",
    "df_pp_bw_linked['withm3s'] = (df_pp_bw_linked.WAvg * 0.0037854 / 3600) * df_pp_bw_linked.Capacity\n",
    "df_pp_bw_linked['metdemand'] = ((df_pp_bw_linked.recovery/100) * df_pp_bw_linked.well_yield) / df_pp_bw_linked.withm3s\n"
   ]
  },
  {
   "cell_type": "code",
   "execution_count": null,
   "id": "17c8a5b5",
   "metadata": {},
   "outputs": [],
   "source": [
    "df_pp_bw_linked.head()"
   ]
  },
  {
   "cell_type": "code",
   "execution_count": null,
   "id": "e3dcdcfc",
   "metadata": {},
   "outputs": [],
   "source": [
    "df_pp_bw_linked.to_csv('/Users/mhardika/Documents/AMO/GeoToolAll_Methods/Source to Use Scenarios/Brackish to Power/df_pp_bw_linked.csv')"
   ]
  },
  {
   "cell_type": "code",
   "execution_count": null,
   "id": "1eead430",
   "metadata": {},
   "outputs": [],
   "source": [
    "df_pp_bw_linked = pd.read_csv('/Users/mhardika/Documents/AMO/GeoToolAll_Methods/Source to Use Scenarios/Brackish to Power/df_pp_bw_linked.csv')"
   ]
  },
  {
   "cell_type": "code",
   "execution_count": null,
   "id": "33ea2b1d",
   "metadata": {},
   "outputs": [],
   "source": [
    "path = \"/Users/mhardika/Documents/AMO/GeoToolAll_Methods/Source to Use Scenarios/Brackish to Power/\""
   ]
  },
  {
   "cell_type": "code",
   "execution_count": null,
   "id": "5e9d2cbf",
   "metadata": {},
   "outputs": [],
   "source": [
    "df_pp_bw_linked[df_pp_bw_linked.dist_km <= 25].to_csv(path+'df_pp_bw_linked0_25.csv')\n",
    "df_pp_bw_linked[df_pp_bw_linked.dist_km > 25].to_csv(path+'df_pp_bw_linked25_50.csv')"
   ]
  },
  {
   "cell_type": "code",
   "execution_count": null,
   "id": "290c6255",
   "metadata": {},
   "outputs": [],
   "source": [
    "df_pp_bw_linked.keys()"
   ]
  },
  {
   "cell_type": "code",
   "execution_count": null,
   "id": "b6f56565",
   "metadata": {},
   "outputs": [],
   "source": [
    "pp_group = df_pp_bw_linked.groupby('PlantCode')\n",
    "site_group = df_pp_bw_linked.groupby('site')"
   ]
  },
  {
   "cell_type": "code",
   "execution_count": null,
   "id": "870d8a4b",
   "metadata": {},
   "outputs": [],
   "source": [
    "pp_group.head(10)"
   ]
  },
  {
   "cell_type": "code",
   "execution_count": null,
   "id": "e7b4e164",
   "metadata": {},
   "outputs": [],
   "source": [
    "pp_group = df_pp_bw_linked.set_index([\"PlantCode\",\"site\"])\n"
   ]
  },
  {
   "cell_type": "code",
   "execution_count": null,
   "id": "cc6f493d",
   "metadata": {},
   "outputs": [],
   "source": [
    "one_pp_many_bw_cols = [\"PlantCode\", \"PPDemand\" , \"BWSites\", \"BWAvailable\", \"CapitalCost\" , \"NewOnM\"]"
   ]
  },
  {
   "cell_type": "code",
   "execution_count": null,
   "id": "2812cdc5",
   "metadata": {},
   "outputs": [],
   "source": []
  },
  {
   "cell_type": "code",
   "execution_count": null,
   "id": "bc8a26d0",
   "metadata": {},
   "outputs": [],
   "source": [
    "# create code for many to one, and one to many, by using groupby function."
   ]
  },
  {
   "cell_type": "code",
   "execution_count": null,
   "id": "62f65d84",
   "metadata": {},
   "outputs": [],
   "source": [
    "# Group powerplants supplied by multiple brackish wells (all) - list well ids and throughput matching a powerplant\n",
    "# Group brackish wells and list powerplants being supplied to - ids fraction supply met"
   ]
  },
  {
   "cell_type": "code",
   "execution_count": null,
   "id": "9c48ccd2",
   "metadata": {},
   "outputs": [],
   "source": [
    "pp_group.get_group(108)"
   ]
  },
  {
   "cell_type": "code",
   "execution_count": null,
   "id": "df5a08d0",
   "metadata": {},
   "outputs": [],
   "source": [
    "# LCOW = (Annualized capital cost + total onm) / annual water product\n",
    "# add annualized capital cost column to dataframe\n",
    "# $/m3-km value (guess value) - \n",
    "# new total onm column = total onm + $/m3- km * km(dist between) * vol of prod in 1 year\n",
    "# New LCOW = (annualized CC + new total onm)/ an."
   ]
  },
  {
   "cell_type": "code",
   "execution_count": null,
   "id": "f1e7050f",
   "metadata": {},
   "outputs": [],
   "source": []
  },
  {
   "cell_type": "code",
   "execution_count": null,
   "id": "c34c19e5",
   "metadata": {},
   "outputs": [],
   "source": []
  },
  {
   "cell_type": "code",
   "execution_count": null,
   "id": "481a9749",
   "metadata": {},
   "outputs": [],
   "source": [
    "# scenarios using data from other sub tasks"
   ]
  },
  {
   "cell_type": "code",
   "execution_count": null,
   "id": "5add81f4",
   "metadata": {},
   "outputs": [],
   "source": [
    "# brine disposal costs - could add to WT3 or do after based on brine/recovery factor with TDS at outlet"
   ]
  },
  {
   "cell_type": "code",
   "execution_count": null,
   "id": "60c836ae",
   "metadata": {},
   "outputs": [],
   "source": [
    "# transportation costs - could add to WT3 or do after based on distance."
   ]
  },
  {
   "cell_type": "code",
   "execution_count": null,
   "id": "07d11bbb",
   "metadata": {},
   "outputs": [],
   "source": []
  },
  {
   "cell_type": "code",
   "execution_count": null,
   "id": "c016064a",
   "metadata": {},
   "outputs": [],
   "source": []
  },
  {
   "cell_type": "code",
   "execution_count": null,
   "id": "0c67fdc1",
   "metadata": {},
   "outputs": [],
   "source": []
  },
  {
   "cell_type": "code",
   "execution_count": null,
   "id": "54a1760d",
   "metadata": {},
   "outputs": [],
   "source": []
  },
  {
   "cell_type": "code",
   "execution_count": null,
   "id": "28a7d0d7",
   "metadata": {},
   "outputs": [],
   "source": []
  },
  {
   "cell_type": "code",
   "execution_count": null,
   "id": "adf6f23f",
   "metadata": {},
   "outputs": [],
   "source": []
  },
  {
   "cell_type": "code",
   "execution_count": null,
   "id": "221cb252",
   "metadata": {},
   "outputs": [],
   "source": []
  }
 ],
 "metadata": {
  "kernelspec": {
   "display_name": "watertap3",
   "language": "python",
   "name": "python3"
  },
  "language_info": {
   "codemirror_mode": {
    "name": "ipython",
    "version": 3
   },
   "file_extension": ".py",
   "mimetype": "text/x-python",
   "name": "python",
   "nbconvert_exporter": "python",
   "pygments_lexer": "ipython3",
   "version": "3.8.8 (default, Apr 13 2021, 15:08:03) [MSC v.1916 64 bit (AMD64)]"
  },
  "vscode": {
   "interpreter": {
    "hash": "0e4911484967c68db66f124aaaf28d8832a4495a870ddc2037cbfdbc733badcc"
   }
  }
 },
 "nbformat": 4,
 "nbformat_minor": 5
}
