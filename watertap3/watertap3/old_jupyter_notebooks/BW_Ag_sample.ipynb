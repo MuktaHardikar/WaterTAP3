{
 "cells": [
  {
   "attachments": {},
   "cell_type": "markdown",
   "metadata": {},
   "source": [
    "In this worksheet, the following are calculated:\n",
    "1. Plot on map location of viable brackish water sites\n",
    "2. Plot on map centroids of counties indicating the agriculture demand locations\n",
    "3. % demand of a county that can be met by all the brackish wells within the county\n",
    "4. % demand of agriculture in a county that can be met without exceeding a maximum LCOW\n"
   ]
  },
  {
   "cell_type": "code",
   "execution_count": null,
   "metadata": {},
   "outputs": [],
   "source": [
    "max_LCOW = 1.6  #$/m3\n",
    "transport_cost = 0.115   #$/m3/km"
   ]
  },
  {
   "cell_type": "code",
   "execution_count": null,
   "metadata": {},
   "outputs": [],
   "source": [
    "import matplotlib.pyplot as plt\n",
    "import pandas as pd\n",
    "import haversine as hs\n",
    "import geopandas as gp\n",
    "from shapely.geometry import Point, Polygon\n",
    "import numpy as np\n",
    "\n",
    "from pyomo.environ import Var, Expression, NonNegativeReals, Block, ConcreteModel, Constraint, Objective, Param, maximize, SolverFactory,RangeSet\n",
    "import pyomo.environ as pyo\n",
    "from idaes.core import FlowsheetBlock"
   ]
  },
  {
   "attachments": {},
   "cell_type": "markdown",
   "metadata": {},
   "source": [
    "Map brackish water sites that meet the following criteria\n",
    "1. Well yield > 0.01\n",
    "2. 0.5< TDS< 25 in kg/m3\n",
    "3. Contiguous US states\n",
    "\n",
    "LCOW calculated currently without transportation costs\n",
    "File - brackish_sites_with_metrics"
   ]
  },
  {
   "cell_type": "code",
   "execution_count": null,
   "metadata": {},
   "outputs": [],
   "source": [
    "bw_df = pd.read_csv('/Users/mhardika/Documents/AMO/GeoToolAll_Methods/Water Source Data/Brackish/brackish_sites_with_metrics.csv')\n",
    "ag_metric_df = pd.read_csv('/Users/mhardika/Documents/AMO/GeoToolAll_Methods/Water Source Data/Agriculture/Clean/USGS_ag_metric.csv')"
   ]
  },
  {
   "attachments": {},
   "cell_type": "markdown",
   "metadata": {},
   "source": [
    "Updating the agriculture dataframe (copied from previous code) to extract relevant columns and correct the state and county names"
   ]
  },
  {
   "cell_type": "code",
   "execution_count": null,
   "metadata": {},
   "outputs": [],
   "source": [
    "# take total irrigation demand from ag_df\n",
    "ag_df = ag_metric_df.loc[:, ['STATE', 'COUNTY', 'IR-WFrTo']].copy() # total irrigation withdrawals\n",
    "\n",
    "# edit strings to improve matching between csv files\n",
    "ag_df['COUNTY'] = ag_df['COUNTY'].str.replace('(\\sCity|\\sCounty|\\sParish)$', '', regex=True)\n",
    "ag_df['COUNTY'] = ag_df['COUNTY'].str.replace('St. ', 'Saint ', regex=False)\n",
    "ag_df['COUNTY'] = ag_df['COUNTY'].str.replace('Ste. ', 'Sainte ', regex=False)\n",
    "ag_df['COUNTY'] = ag_df['COUNTY'].str.replace('LaSalle', 'La Salle')\n",
    "\n",
    "# clean up ag_df\n",
    "# ag_df['county_state'] = ag_df['COUNTY'] + '_' + ag_df['STATE'] # create column combining county and state\n",
    "# ag_df = ag_df[ag_df['county_state'].duplicated() == False] # delete county_state duplicates\n",
    "# ag_df.set_index('COUNTY', inplace=True) # set county_state as the index"
   ]
  },
  {
   "attachments": {},
   "cell_type": "markdown",
   "metadata": {},
   "source": [
    "A sample map for Texas"
   ]
  },
  {
   "cell_type": "code",
   "execution_count": null,
   "metadata": {},
   "outputs": [],
   "source": [
    "texas = gp.read_file('/Users/mhardika/Documents/AMO/GeoToolAll_Methods/GeoData/Texas Counties Map/geo_export_c05b3355-1638-4e46-b56c-ac18de751ed8.shp')\n",
    "texas = texas.to_crs(\"EPSG:4326\")\n",
    "texas_centroid = gp.read_file('/Users/mhardika/Documents/AMO/GeoToolAll_Methods/GeoData/Texas Counties Centroid Map/geo_export_d58b4a94-13f1-42f4-b03f-567c0e3ad095.shp')\n",
    "texas_centroid = texas_centroid.to_crs(\"EPSG:4326\")"
   ]
  },
  {
   "cell_type": "code",
   "execution_count": null,
   "metadata": {},
   "outputs": [],
   "source": [
    "bw_long = bw_df[bw_df['state_alpha']=='TX']['Longitude']\n",
    "bw_lat = bw_df[bw_df['state_alpha']=='TX']['Latitude']\n",
    "\n",
    "bw_geometry = [Point(xy) for xy in zip(bw_long,bw_lat)]\n",
    "bw_geo_df = gp.GeoDataFrame(geometry = bw_geometry, crs='EPSG:4326')\n",
    "bw_geo_df.geometry = bw_geo_df.geometry.to_crs('EPSG:4326')\n",
    "bw_geo_df = bw_geo_df.assign(county_nm = bw_df[bw_df['state_alpha'] =='TX']['county_nm'].values)"
   ]
  },
  {
   "cell_type": "code",
   "execution_count": null,
   "metadata": {},
   "outputs": [],
   "source": [
    "fig, ax = plt.subplots()\n",
    "# states[states['NAME'] == 'Texas'].plot(ax=ax,figsize=(20, 20))\n",
    "texas.plot(ax=ax,figsize=(50, 50),linewidth=0.5)\n",
    "texas_centroid.plot(ax=ax, color = 'black', markersize = 5, label ='Centroid')\n",
    "bw_geo_df.plot(ax=ax, color='purple', markersize = 5,label = \"BW Sites\")\n",
    "\n",
    "ax.legend()"
   ]
  },
  {
   "attachments": {},
   "cell_type": "markdown",
   "metadata": {},
   "source": [
    "County level % Demand met\n",
    "1. Assuming only brackish water sites within the county supply to the county\n",
    "2. Adding transportation cost to LCOW based on the value in variable transport_cost\n",
    "3. No limitation on maximum distance"
   ]
  },
  {
   "attachments": {},
   "cell_type": "markdown",
   "metadata": {},
   "source": [
    "Creating a dataframe for county level demand and distances between centroid and brackish water sites\n",
    "Sorting in ordering of increasing distance\n"
   ]
  },
  {
   "cell_type": "code",
   "execution_count": null,
   "metadata": {},
   "outputs": [],
   "source": [
    "bw_state_df = bw_df[bw_df['state_alpha']=='TX']\n",
    "bw_state_df = bw_state_df.set_index('unique_site_ID')\n",
    "\n",
    "ag_state_df =  ag_df[ag_df['STATE']=='TX']\n",
    "ag_state_df.set_index('COUNTY', inplace=True)"
   ]
  },
  {
   "cell_type": "code",
   "execution_count": null,
   "metadata": {},
   "outputs": [],
   "source": [
    "bw_state_df.loc"
   ]
  },
  {
   "cell_type": "code",
   "execution_count": null,
   "metadata": {},
   "outputs": [],
   "source": [
    "texas_centroid[texas_centroid['cnty_nm']== 'Willacy'].index.values"
   ]
  },
  {
   "cell_type": "code",
   "execution_count": null,
   "metadata": {},
   "outputs": [],
   "source": [
    "cols = ['County','CentroidLatitude','CentroidLongitude','CountyDemand','BWSites','BWLatitude','BWLongitude','BWAvailable','Distance_km',\n",
    "        'AgDemandFracMet','LCOW','TransportOnM','tLCOW','WeightedtLCOW','Cum_AgDemandFracMet']\n",
    "\n",
    "ag_bw_df = pd.DataFrame(columns=cols)\n",
    "\n",
    "for county in ag_state_df.index:\n",
    "\n",
    "    centroid_long = texas_centroid[texas_centroid['cnty_nm']== county]['y_long'].values[0]\n",
    "    centroid_lat = texas_centroid[texas_centroid['cnty_nm']== county]['x_lat'].values[0]\n",
    "\n",
    "    centroid_loc = (centroid_lat,centroid_long)\n",
    "    \n",
    "  \n",
    "    for site in bw_state_df[bw_state_df['county_nm'] == county].index:\n",
    "        bw_long = bw_state_df['Longitude'].loc[site]\n",
    "        bw_lat = bw_state_df['Latitude'].loc[site]\n",
    "\n",
    "        bw_loc = (bw_lat,bw_long)\n",
    "        dist_km = hs.haversine(centroid_loc,bw_loc)\n",
    "        \n",
    "        bw_available = bw_state_df['well_yield'].loc[site]*bw_state_df['recovery'].loc[site]/100\n",
    "        ag_demand_frac_met = bw_available*3600*24*365/ag_state_df['IR-WFrTo'].loc[county] if ag_state_df['IR-WFrTo'].loc[county] !=0 else 0\n",
    "        lcow = bw_state_df['lcow'].loc[site]\n",
    "        transport_onm = transport_cost*dist_km*bw_available*365*24*3600\n",
    "        tlcow = (lcow*bw_available*365*24*3600 + transport_onm)/(bw_available*365*24*3600) \n",
    "        \n",
    "        temp_dict =  {'County' : county,\n",
    "                      'CentroidLatitude' : centroid_lat,\n",
    "                      'CentroidLongitude' : centroid_long,\n",
    "                      'CountyDemand' : ag_state_df['IR-WFrTo'].loc[county],\n",
    "                      'BWSites' : site,\n",
    "                      'BWLatitude' : bw_lat,\n",
    "                      'BWLongitude' : bw_long,\n",
    "                      'BWAvailable' : bw_available,\n",
    "                      'Distance_km' : dist_km,\n",
    "                      'AgDemandFracMet' : ag_demand_frac_met,\n",
    "                      'LCOW' : lcow,\n",
    "                      'TransportOnM' : transport_onm,\n",
    "                      'tLCOW' : tlcow,\n",
    "                      'WeightedtLCOW': 0,\n",
    "                      'Cum_AgDemandFracMet': 0}\n",
    "        \n",
    "        temp = pd.DataFrame(temp_dict,index= [0])    \n",
    "        ag_bw_df = pd.concat([ag_bw_df,temp],ignore_index=True)\n",
    "        ag_bw_df.reset_index()\n",
    "\n",
    "ag_bw_df_sorted1 = ag_bw_df.sort_values(['County','tLCOW']).groupby('County')\n",
    "ag_bw_df_sorted2 = ag_bw_df.sort_values(['County','Distance_km']).groupby('County')\n",
    "\n",
    "ag_bw_df.head()    "
   ]
  },
  {
   "cell_type": "code",
   "execution_count": null,
   "metadata": {},
   "outputs": [],
   "source": [
    "ag_bw_df = ag_bw_df_sorted2.apply(pd.DataFrame).set_index('County')"
   ]
  },
  {
   "cell_type": "code",
   "execution_count": null,
   "metadata": {},
   "outputs": [],
   "source": [
    "weighted_lcow = []\n",
    "cum_ag_demand_frac_met = []\n",
    "\n",
    "for county in ag_bw_df.index.unique():\n",
    "    cum_bw_available = np.array(ag_bw_df['BWAvailable'].loc[county].cumsum())\n",
    "    cum_cost = np.array((ag_bw_df['BWAvailable'].loc[county]*ag_bw_df['tLCOW'].loc[county]).cumsum())\n",
    "\n",
    "    temp = np.divide(cum_cost,cum_bw_available) \n",
    "    weighted_lcow = np.append(weighted_lcow, temp,axis=0)\n",
    "\n",
    "    temp_demand_met = np.array(ag_bw_df['AgDemandFracMet'].loc[county].cumsum())\n",
    "    # print(county,len(temp_demand_met))\n",
    "    cum_ag_demand_frac_met = np.append(cum_ag_demand_frac_met,temp_demand_met,axis=0)\n",
    "\n",
    "ag_bw_df['WeightedtLCOW'] = weighted_lcow\n",
    "ag_bw_df['Cum_AgDemandFracMet'] = cum_ag_demand_frac_met\n",
    "ag_bw_df.head()"
   ]
  },
  {
   "cell_type": "code",
   "execution_count": null,
   "metadata": {},
   "outputs": [],
   "source": [
    "ag_bw_df.loc['Atascosa']['WeightedtLCOW']"
   ]
  },
  {
   "attachments": {},
   "cell_type": "markdown",
   "metadata": {},
   "source": [
    "Map the maximum % demand that be potentially met with all brackish water sites"
   ]
  },
  {
   "cell_type": "code",
   "execution_count": null,
   "metadata": {},
   "outputs": [],
   "source": [
    "texas=texas.set_index('name')"
   ]
  },
  {
   "cell_type": "code",
   "execution_count": null,
   "metadata": {},
   "outputs": [],
   "source": [
    "ag_demand_met_df = ag_bw_df.groupby('County').last()\n",
    "\n",
    "fig, (ax0, ax1) = plt.subplots(1,2, figsize = (10,5))\n",
    "texas.plot(ax=ax0, figsize=(50,50),color = 'white',edgecolor = \"black\",linewidth=0.5)\n",
    "texas.loc[ag_bw_df.index.unique().values].plot(column = ag_demand_met_df['Cum_AgDemandFracMet'], ax=ax0,figsize=(50, 50),edgecolor = \"black\",linewidth=0.5 , legend=True)\n",
    "ax0.set_title('% Demand met')\n",
    "\n",
    "texas.plot(ax=ax1, figsize=(50,50),color = 'white',edgecolor = \"black\",linewidth=0.5)\n",
    "texas.loc[ag_bw_df.index.unique().values].plot(column = ag_demand_met_df['WeightedtLCOW'], ax=ax1,figsize=(50, 50),edgecolor = \"black\",linewidth=0.5 , legend=True)\n",
    "ax1.set_title('% Average tLCOW')"
   ]
  },
  {
   "attachments": {},
   "cell_type": "markdown",
   "metadata": {},
   "source": [
    "Map the maximum % demand that be potentially met with all brackish water sites\n",
    "1. Assuming the tLCOW does not exceed maximum LCOW\n",
    "2. Or 100% demand is met\n",
    "\n",
    "TODO: In the cases where the adding an additional brackish water site excced maximum LCOW calculate additional fractional supply possible"
   ]
  },
  {
   "cell_type": "code",
   "execution_count": null,
   "metadata": {},
   "outputs": [],
   "source": [
    "ag_demand_met_conditional_df = ag_bw_df[(ag_bw_df['Cum_AgDemandFracMet']<=1)& (ag_bw_df['WeightedtLCOW']<=max_LCOW)].groupby('County').last()\n",
    "\n",
    "fig, (ax0, ax1) = plt.subplots(1,2, figsize = (10,5))\n",
    "texas.plot(ax=ax0, figsize=(50,50),color = 'white',edgecolor = \"black\",linewidth=0.5)\n",
    "texas.loc[ag_demand_met_conditional_df.index.unique().values].plot(column = ag_demand_met_conditional_df['Cum_AgDemandFracMet'], ax=ax0,figsize=(50, 50),edgecolor = \"black\",linewidth=0.5 , legend=True)\n",
    "ax0.set_title('% Demand met')\n",
    "\n",
    "texas.plot(ax=ax1, figsize=(50,50),color = 'white',edgecolor = \"black\",linewidth=0.5)\n",
    "texas.loc[ag_demand_met_conditional_df.index.unique().values].plot(column = ag_demand_met_conditional_df['WeightedtLCOW'], ax=ax1,figsize=(50, 50),edgecolor = \"black\",linewidth=0.5 , legend=True)\n",
    "ax1.set_title('% Average tLCOW')"
   ]
  }
 ],
 "metadata": {
  "kernelspec": {
   "display_name": "watertap3",
   "language": "python",
   "name": "python3"
  },
  "language_info": {
   "codemirror_mode": {
    "name": "ipython",
    "version": 3
   },
   "file_extension": ".py",
   "mimetype": "text/x-python",
   "name": "python",
   "nbconvert_exporter": "python",
   "pygments_lexer": "ipython3",
   "version": "3.8.8 (default, Apr 13 2021, 15:08:03) [MSC v.1916 64 bit (AMD64)]"
  },
  "orig_nbformat": 4,
  "vscode": {
   "interpreter": {
    "hash": "0e4911484967c68db66f124aaaf28d8832a4495a870ddc2037cbfdbc733badcc"
   }
  }
 },
 "nbformat": 4,
 "nbformat_minor": 2
}
