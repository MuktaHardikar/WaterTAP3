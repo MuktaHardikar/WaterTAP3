{
 "cells": [
  {
   "cell_type": "code",
   "execution_count": null,
   "metadata": {},
   "outputs": [],
   "source": [
    "import pandas as pd\n",
    "import numpy as np"
   ]
  },
  {
   "cell_type": "code",
   "execution_count": null,
   "metadata": {},
   "outputs": [],
   "source": [
    "df_pp_bw_linked = pd.read_csv('/Users/mhardika/Documents/AMO/GeoToolAll_Methods/Source to Use Scenarios/Brackish to Power/df_pp_bw_linked.csv')"
   ]
  },
  {
   "cell_type": "code",
   "execution_count": null,
   "metadata": {},
   "outputs": [],
   "source": [
    "df_pp_bw_linked.columns"
   ]
  },
  {
   "cell_type": "code",
   "execution_count": null,
   "metadata": {},
   "outputs": [],
   "source": [
    "pp_group = df_pp_bw_linked.groupby('PlantCode')\n",
    "site_group = df_pp_bw_linked.groupby('site')"
   ]
  },
  {
   "attachments": {},
   "cell_type": "markdown",
   "metadata": {},
   "source": [
    "One powerplant to many brackish water sites. "
   ]
  },
  {
   "cell_type": "code",
   "execution_count": null,
   "metadata": {},
   "outputs": [],
   "source": [
    "empty = [None]*(len(list(pp_group.groups.keys())))\n",
    "# Arbitrary cost $ / km /m3 ---> to be updated\n",
    "transport_cost = 0.1147\n",
    "\n",
    "one_pp_many_bw  = pd.DataFrame( {\"PlantCode\": list(pp_group.groups.keys()),\n",
    "                                \"PPLatitude\": empty,\n",
    "                                \"PPLongitude\": empty,\n",
    "                                \"BWsites\": empty,\n",
    "                                \"BWavailable\": empty,\n",
    "                                \"PPDemandFracMet\" : empty,\n",
    "                                \"LCOW\":empty, \n",
    "                                \"Distances_km\": empty,\n",
    "                                \"TransportOnM\":empty,\n",
    "                                \"NewLCOW\": empty})\n",
    "\n",
    "one_pp_many_bw.set_index(\"PlantCode\",inplace=True)\n",
    "\n",
    "# Some plant demands are 0 because the capacity is 0\n",
    "check_demand = lambda x: 1 if x == 0 else x\n",
    "\n",
    "for c_name in ['PPLatitude','PPLongitude']:\n",
    "    one_pp_many_bw[c_name]=empty\n",
    "    for key in pp_group.groups.keys():\n",
    "        one_pp_many_bw.loc[key,c_name] = pp_group.get_group(key)[c_name].values[0]\n",
    "        \n",
    "for key in pp_group.groups.keys():\n",
    "    sites = []\n",
    "    indices = []\n",
    "    sub_group = pp_group.get_group(key)\n",
    "    for site in sub_group['site']:\n",
    "        if site not in sites:\n",
    "            index = sub_group[sub_group['site']==site].index[0]\n",
    "            # print(index)\n",
    "            sites.append(site)\n",
    "            indices.append(index)\n",
    "    \n",
    "    one_pp_many_bw.loc[key,\"BWsites\"] =  {','.join(sub_group.loc[indices]['site'])}\n",
    "    # one_pp_many_bw.loc[key,\"Distances_km\"] = list(sub_group.loc[indices]['dist_km'])\n",
    "    one_pp_many_bw.loc[key,\"BWavailable\"] = sum(sub_group.loc[indices]['recovery']*sub_group.loc[indices]['well_yield']/100)\n",
    "\n",
    "    one_pp_many_bw.loc[key,\"PPDemandFracMet\"] = one_pp_many_bw.loc[key,\"BWavailable\"]/check_demand(np.average(sub_group['withm3s']))\n",
    "    one_pp_many_bw.loc[key,\"LCOW\"] = sum(sub_group['lcow'])\n",
    "    \n",
    "    bw_vol_annual = sub_group.loc[indices]['recovery']*sub_group.loc[indices]['well_yield']/100*365*24*60*60   # m3/year for each site\n",
    "    one_pp_many_bw.loc[key,\"TransportOnM\"] = sum(transport_cost*sub_group.loc[indices]['dist_km']*bw_vol_annual)  # $ / year\n",
    "\n",
    "    one_pp_many_bw.loc[key,\"NewLCOW\"] = one_pp_many_bw.loc[key,\"LCOW\"] + one_pp_many_bw.loc[key,\"TransportOnM\"]/sum(bw_vol_annual)\n",
    "    \n",
    "one_pp_many_bw.loc[127]\n",
    "# print(bw_vol_annual)"
   ]
  },
  {
   "attachments": {},
   "cell_type": "markdown",
   "metadata": {},
   "source": [
    "One brackish water site to many powerplants"
   ]
  },
  {
   "cell_type": "code",
   "execution_count": null,
   "metadata": {},
   "outputs": [],
   "source": [
    "empty = [None]*(len(list(site_group.groups.keys())))\n",
    "one_bw_many_pp  = pd.DataFrame( {\"BWsite\": list(site_group.groups.keys()),\n",
    "                                \"BWLatitude\": empty,\n",
    "                                \"BWLongitude\": empty,\n",
    "                                \"PlantCode\": empty,\n",
    "                                \"BWAvailable\": empty,\n",
    "                                \"PPDemand\" : empty,\n",
    "                                \"BWutilized\": empty,\n",
    "                                \"LCOW\":empty, \n",
    "                                \"Distances_km\": empty,\n",
    "                                \"TransportOnM\":empty,\n",
    "                                \"NewLCOW\": empty})\n",
    "\n",
    "one_bw_many_pp.set_index(\"BWsite\",inplace=True)\n",
    "# Multiple listing of same plant code but different capacity\n",
    "\n",
    "for key in site_group.groups.keys():\n",
    "    pp_list = []\n",
    "    indices = []\n",
    "    sub_group = site_group.get_group(key)\n",
    "    for pp in sub_group['PlantCode']:\n",
    "        if pp not in pp_list:\n",
    "            index = sub_group[sub_group['PlantCode']==pp].index[0]\n",
    "            # print(index)\n",
    "            pp_list.append(pp)\n",
    "            indices.append(index)\n",
    "    one_bw_many_pp.loc[key][\"PlantCode\"] =  pp_list\n",
    "    one_bw_many_pp.loc[key][\"BWAvailable\"] = sub_group['recovery'].values[0]*sub_group['well_yield'].values[0]/100\n",
    "    one_bw_many_pp.loc[key][\"PPDemand\"] = sum(sub_group['withm3s'])\n",
    "    if one_bw_many_pp.loc[key][\"BWAvailable\"]- one_bw_many_pp.loc[key][\"PPDemand\"] <=0:\n",
    "        one_bw_many_pp.loc[key][\"BWutilized\"] = 1\n",
    "    else:\n",
    "        one_bw_many_pp.loc[key][\"BWutilized\"] = (one_bw_many_pp.loc[key][\"BWAvailable\"]- one_bw_many_pp.loc[key][\"PPDemand\"])/one_bw_many_pp.loc[key][\"BWAvailable\"]\n",
    "    one_bw_many_pp.loc[key][\"LCOW\"] = sum(sub_group['lcow'])\n",
    "    one_bw_many_pp.loc[key,\"Distances_km\"] = list(sub_group.loc[indices]['dist_km'])\n",
    "    one_bw_many_pp.loc[key][\"TransportOnM\"] = sum(transport_cost*sub_group.loc[indices]['dist_km']*one_bw_many_pp.loc[key][\"BWAvailable\"]*365*24*3600)  # $/yr\n",
    "\n",
    "one_bw_many_pp[\"NewLCOW\"] = one_bw_many_pp[\"LCOW\"] + one_bw_many_pp[\"TransportOnM\"]/(one_bw_many_pp.loc[key][\"BWAvailable\"]*365*24*3600)\n",
    "\n",
    "for c_name in ['BWLatitude','BWLongitude']:\n",
    "    one_bw_many_pp[c_name]=empty\n",
    "for key in site_group.groups.keys():\n",
    "    one_bw_many_pp.loc[key,\"BWLatitude\"] = sub_group[\"Latitude\"].values[0]\n",
    "    one_bw_many_pp.loc[key,\"BWLongitude\"] = sub_group[\"Longitude\"].values[0]\n",
    "\n",
    "one_bw_many_pp.head()"
   ]
  },
  {
   "cell_type": "code",
   "execution_count": null,
   "metadata": {},
   "outputs": [],
   "source": [
    "pp_group.get_group(108)['recovery']*pp_group.get_group(108)['well_yield']/100\n",
    "test_BWavailable=pp_group.get_group(108)['recovery']*pp_group.get_group(108)['well_yield']/100\n",
    "print(test_BWavailable)\n",
    "test_BWavailable = sum(test_BWavailable)\n",
    "print(test_BWavailable)"
   ]
  },
  {
   "cell_type": "code",
   "execution_count": null,
   "metadata": {},
   "outputs": [],
   "source": [
    "test_metdemand_perc = pp_group.get_group(108)['withm3s']\n",
    "print(test_metdemand_perc)\n",
    "test_metdemand_perc = test_BWavailable / sum(pp_group.get_group(108)['withm3s'])\n",
    "print(test_metdemand_perc )"
   ]
  },
  {
   "cell_type": "code",
   "execution_count": null,
   "metadata": {},
   "outputs": [],
   "source": [
    "# Additional onm for transport\n",
    "\n",
    "# Arbitrary cost $ / km /m3\n",
    "transport_cost = 0.1\n",
    "bw_vol_annual = pp_group.get_group(108)['well_yield']*(pp_group.get_group(108)['recovery'])/100*365*24*60*60 #m3/year\n",
    "transport_onm_annual = transport_cost*pp_group.get_group(108)['dist_km']*bw_vol_annual # $/year\n",
    "\n",
    "print(transport_onm_annual)"
   ]
  },
  {
   "cell_type": "code",
   "execution_count": null,
   "metadata": {},
   "outputs": [],
   "source": [
    "for key in pp_group.groups.keys():\n",
    "    print(pp_group.get_group(key)['site'])\n"
   ]
  },
  {
   "cell_type": "code",
   "execution_count": null,
   "metadata": {},
   "outputs": [],
   "source": []
  }
 ],
 "metadata": {
  "kernelspec": {
   "display_name": "watertap3",
   "language": "python",
   "name": "python3"
  },
  "language_info": {
   "codemirror_mode": {
    "name": "ipython",
    "version": 3
   },
   "file_extension": ".py",
   "mimetype": "text/x-python",
   "name": "python",
   "nbconvert_exporter": "python",
   "pygments_lexer": "ipython3",
   "version": "3.8.8"
  },
  "orig_nbformat": 4,
  "vscode": {
   "interpreter": {
    "hash": "0e4911484967c68db66f124aaaf28d8832a4495a870ddc2037cbfdbc733badcc"
   }
  }
 },
 "nbformat": 4,
 "nbformat_minor": 2
}
