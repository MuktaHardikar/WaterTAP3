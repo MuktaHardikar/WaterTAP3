{
 "cells": [
  {
   "cell_type": "code",
   "execution_count": null,
   "metadata": {},
   "outputs": [],
   "source": [
    "# elevation gain calculation attempt\n",
    "import requests\n",
    "import urllib\n",
    "import pandas as pd\n",
    "\n",
    "# USGS Elevation Point Query Service\n",
    "#url = r'https://nationalmap.gov/epqs/pqs.php?'\n",
    "#new 2023:\n",
    "url = r'https://epqs.nationalmap.gov/v1/json?'\n",
    "\n",
    "# coordinates with known elevation \n",
    "lat = [48.633, 48.733, 45.1947, 45.1962]\n",
    "lon = [-93.9667, -94.6167, -93.3257, -93.2755]\n",
    "   \n",
    "# create data frame\n",
    "df = pd.DataFrame({\n",
    "    'lat': lat,\n",
    "    'lon': lon\n",
    "})\n",
    "\n",
    "def elevation_function(df, lat_column, lon_column):\n",
    "    \"\"\"Query service using lat, lon. add the elevation values as a new column.\"\"\"\n",
    "    elevations = []\n",
    "    for lat, lon in zip(df[lat_column], df[lon_column]):\n",
    "                \n",
    "        # define rest query params\n",
    "        params = {\n",
    "            'output': 'json',\n",
    "            'x': lon,\n",
    "            'y': lat,\n",
    "            'units': 'Meters'\n",
    "        }\n",
    "        \n",
    "        # format query string and return query value\n",
    "        result = requests.get((url + urllib.parse.urlencode(params)))\n",
    "        #elevations.append(result.json()['USGS_Elevation_Point_Query_Service']['Elevation_Query']['Elevation'])\n",
    "        #new 2023:\n",
    "        elevations.append(result.json()['value'])\n",
    "\n",
    "    df['elev_meters'] = elevations\n",
    "\n",
    "elevation_function(df, 'lat', 'lon')\n",
    "df.head()\n",
    "    "
   ]
  },
  {
   "cell_type": "code",
   "execution_count": null,
   "metadata": {},
   "outputs": [],
   "source": [
    "url = r'https://epqs.nationalmap.gov/v1/json?'\n",
    "params = {\n",
    "            'output': 'json',\n",
    "            'x':-93.9667 ,\n",
    "            'y': 48.633,\n",
    "            'units': 'Meters'\n",
    "    }\n",
    "result = requests.get((url + urllib.parse.urlencode(params)))\n",
    "float(result.json()['value'])"
   ]
  },
  {
   "cell_type": "code",
   "execution_count": null,
   "metadata": {},
   "outputs": [],
   "source": [
    "def elevation_gain(lat1,lon1,lat2,lon2):\n",
    "    url = r'https://epqs.nationalmap.gov/v1/json?'\n",
    "\n",
    "    # Start location\n",
    "    params = {\n",
    "            'output': 'json',\n",
    "            'x':lon1 ,\n",
    "            'y': lat1,\n",
    "            'units': 'Meters'\n",
    "    }\n",
    "    result = requests.get((url + urllib.parse.urlencode(params)))\n",
    "    elevation_start = float(result.json()['value'])\n",
    "    \n",
    "\n",
    "    # End location\n",
    "    params = {\n",
    "            'output': 'json',\n",
    "            'x':lon2 ,\n",
    "            'y': lat2,\n",
    "            'units': 'Meters'\n",
    "    }\n",
    "\n",
    "    result = requests.get((url + urllib.parse.urlencode(params)))\n",
    "    elevation_end = float(result.json()['value'])\n",
    "\n",
    "    if (elevation_end-elevation_start)<=0:\n",
    "        elev_gain = 0\n",
    "        print(elev_gain)\n",
    "    else:\n",
    "        elev_gain = elevation_end-elevation_start \n",
    "        print(elev_gain)\n",
    "    \n",
    "    return elev_gain\n",
    " "
   ]
  },
  {
   "cell_type": "code",
   "execution_count": null,
   "metadata": {},
   "outputs": [],
   "source": [
    "from pyomo.environ import units as pyunits"
   ]
  },
  {
   "cell_type": "code",
   "execution_count": null,
   "metadata": {},
   "outputs": [],
   "source": [
    "N = 3\n",
    "capacity = 1000\n",
    "elev_gain = 50*pyunits.m #m\n",
    "pumping_velocity = 1.5 *pyunits.m/pyunits.s\n",
    "storage_capacity = capacity* pyunits.m**3/pyunits.day\n",
    "pipe_csa = pyunits.convert(storage_capacity,to_units = pyunits.m**3/pyunits.s)/pumping_velocity\n",
    "pump_eff = 0.9\n",
    "motor_eff = 0.9\n",
    "lift_height = pyunits.convert(elev_gain,to_units=pyunits.ft)\n",
    "flow = pumping_velocity* pipe_csa\n",
    "flow_in_gpm  =flow*(pyunits.convert(1*pyunits.m**3/pyunits.s, to_units=(pyunits.gallons / pyunits.minute)))\n",
    "pump_power_kw = (0.746 * flow_in_gpm * lift_height / (3960 * pump_eff * motor_eff)) * pyunits.kilowatts\n",
    "electricity = (N+1)*pump_power_kw()\n",
    "print(electricity)"
   ]
  },
  {
   "cell_type": "code",
   "execution_count": null,
   "metadata": {},
   "outputs": [],
   "source": [
    "friction_factor = 0.005\n",
    "density = 1000*pyunits.kg/pyunits.m**3\n",
    "g = 9.8*pyunits.m/pyunits.s**2\n",
    "pipe_diameter = 2 * pyunits.inch    \n",
    "deltaP_grad =  friction_factor*density*(pumping_velocity**2)/(2*pyunits.convert(pipe_diameter,to_units = pyunits.m))*1e-5 #bar/m\n",
    "deltaP_grad()"
   ]
  },
  {
   "cell_type": "code",
   "execution_count": null,
   "metadata": {},
   "outputs": [],
   "source": [
    "elev_gain = 2000*pyunits.m #m\n",
    "distance = 100 *pyunits.km\n",
    "deltaP_elev_gain = density*g*elev_gain*pyunits.m/pyunits.convert(distance,pyunits.m) * 1e-5\n",
    "deltaP_elev_gain()"
   ]
  },
  {
   "cell_type": "code",
   "execution_count": null,
   "metadata": {},
   "outputs": [],
   "source": []
  }
 ],
 "metadata": {
  "kernelspec": {
   "display_name": "watertap3",
   "language": "python",
   "name": "python3"
  },
  "language_info": {
   "codemirror_mode": {
    "name": "ipython",
    "version": 3
   },
   "file_extension": ".py",
   "mimetype": "text/x-python",
   "name": "python",
   "nbconvert_exporter": "python",
   "pygments_lexer": "ipython3",
   "version": "3.8.8"
  },
  "orig_nbformat": 4
 },
 "nbformat": 4,
 "nbformat_minor": 2
}
