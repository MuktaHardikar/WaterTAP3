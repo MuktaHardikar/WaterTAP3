{
 "cells": [
  {
   "cell_type": "code",
   "execution_count": null,
   "metadata": {},
   "outputs": [],
   "source": [
    "import geopandas as gp\n",
    "import matplotlib.pyplot as plt\n",
    "from shapely.geometry import *\n",
    "import pandas as pd\n",
    "import numpy as np"
   ]
  },
  {
   "cell_type": "code",
   "execution_count": null,
   "metadata": {},
   "outputs": [],
   "source": [
    "cousub = pd.read_csv('/Users/mhardika/Documents/AMO/GeoToolAll_Methods/Water Source Data/Domestic/Census Data/cousub_pop_files/DECENNIALPL2020.P1_2023-07-17T155825/county_subdivision_data_2020.csv',encoding='utf-8')\n",
    "cousub.head()"
   ]
  },
  {
   "cell_type": "markdown",
   "metadata": {},
   "source": [
    "Cleaning data set to separate county subdivision name, county name and state name"
   ]
  },
  {
   "cell_type": "code",
   "execution_count": null,
   "metadata": {},
   "outputs": [],
   "source": [
    "# Separate data set into 2 : 2 ',' and 3 ','\n",
    "idx_list= []\n",
    "for index,row in cousub.iterrows():\n",
    "    if cousub.loc[index]['NAME'].count(',') > 2:\n",
    "        idx_list.append(index)\n",
    "\n",
    "cousub_weird = cousub.loc[idx_list]\n",
    "cousub_weird.head()\n",
    "cousub.drop(index=idx_list,inplace=True) \n",
    "\n",
    "tmpDF1 = pd.DataFrame(columns=['subdiv','county','state'])\n",
    "tmpDF2 = pd.DataFrame(columns=['subdiv','county','state'])\n",
    "\n",
    "# some line items have more that ','\n",
    "for index,row in cousub_weird.iterrows():\n",
    "    temp = cousub_weird.loc[index]['NAME'].split(\", \")\n",
    "    temp = [temp[0]+' '+ temp[1],temp[2],temp[3]]\n",
    "    temp = pd.DataFrame([temp],columns=['subdiv','county','state'])\n",
    "    tmpDF2= pd.concat([tmpDF2,temp])\n",
    "    tmpDF2.reset_index()    \n",
    "tmpDF2['pop'] = cousub_weird['POP']\n",
    "\n",
    "tmpDF1[['subdiv','county','state']] = cousub['NAME'].str.split(\", \",expand=True)\n",
    "tmpDF1['pop'] = cousub['POP']\n",
    "\n",
    "cousub_df = pd.concat([tmpDF1,tmpDF2])\n",
    "\n",
    "# cousub_df.head()"
   ]
  },
  {
   "cell_type": "markdown",
   "metadata": {},
   "source": [
    "Compare population in AZ, TX, CA and VA"
   ]
  },
  {
   "cell_type": "code",
   "execution_count": null,
   "metadata": {},
   "outputs": [],
   "source": [
    "df = pd.read_csv(r'\\Users\\mhardika\\Documents\\AMO\\GeoToolAll_Methods\\Water Source Data\\Domestic\\Census Data\\co-est2022-alldata.csv')"
   ]
  },
  {
   "cell_type": "code",
   "execution_count": null,
   "metadata": {},
   "outputs": [],
   "source": [
    "county_list = county_pop_calc.county.unique()\n",
    "county_list"
   ]
  },
  {
   "cell_type": "code",
   "execution_count": null,
   "metadata": {},
   "outputs": [],
   "source": [
    "county_pop_calc = pd.DataFrame(columns = ['county','population'])\n",
    "state_cousub_df = cousub_df[cousub_df['state'] == 'Arizona']\n",
    "# state_cousub_df = cousub_df[cousub_df['state'] == 'California']\n",
    "# state_cousub_df = cousub_df[cousub_df['state'] == 'Albama']\n",
    "# state_cousub_df = cousub_df[cousub_df['state'] == 'Colorado']\n",
    "\n",
    "for county in state_cousub_df.county.unique():\n",
    "    temp = {'county': county,\n",
    "            'population':state_cousub_df[state_cousub_df['county']==county]['pop'].sum()}\n",
    "\n",
    "    temp = pd.DataFrame([temp])\n",
    "    county_pop_calc= pd.concat([county_pop_calc,temp])\n",
    "\n",
    "county_pop_calc.reset_index()\n",
    "county_pop_calc= county_pop_calc.sort_values(by=['county'])\n",
    "\n",
    "\n",
    "df1 = df[(df['STATE']==4) & (df['COUNTY']!=0)].groupby('CTYNAME').first()\n",
    "# df1 = df[(df['STATE']==6) & (df['COUNTY']!=0)].groupby('CTYNAME').first()\n",
    "# df1 = df[(df['STATE']==1) & (df['COUNTY']!=0)].groupby('CTYNAME').first()\n",
    "# df1 = df[(df['STATE']==8) & (df['COUNTY']!=0)].groupby('CTYNAME').first()\n",
    "\n",
    "county_list = county_pop_calc.county.unique()\n",
    "fig,ax = plt.subplots()\n",
    "x = np.array(range(0,len(county_list)))\n",
    "\n",
    "\n",
    "ax.bar(x-0.125, county_pop_calc['population'], width = 0.25,label='CCD')\n",
    "ax.bar(x+0.125, df1.sort_values(by=['CTYNAME'])['POPESTIMATE2020'], width = 0.25, label = 'County level Census')\n",
    "ax.legend()\n",
    "\n",
    "# ax.set_xticks(range(0,len(county_list)),county_list,rotation = 90)\n",
    "\n",
    "frac = sum(county_pop_calc['population'])/sum(df1['POPESTIMATE2020'])\n",
    "print(frac*100)"
   ]
  },
  {
   "cell_type": "markdown",
   "metadata": {},
   "source": [
    "County subdivision mapping"
   ]
  },
  {
   "cell_type": "code",
   "execution_count": null,
   "metadata": {},
   "outputs": [],
   "source": [
    "us_counties = gp.read_file(r'\\Users\\mhardika\\Documents\\AMO\\GeoToolAll_Methods\\GeoData\\US_County_Boundaries\\US_CountyBndrys.shp')\n",
    "us_counties = us_counties.to_crs(\"EPSG:4326\")\n",
    "\n",
    "az = us_counties.loc[us_counties['STATEFP']=='04']\n",
    "az_cousub = gp.read_file(r'\\Users\\mhardika\\Downloads\\tl_rd22_04_cousub\\tl_rd22_04_cousub.shp' )\n",
    "az_cousub  =az_cousub .to_crs(\"EPSG:4326\")\n",
    "\n",
    "fig, (ax,ax0) = plt.subplots(1,2)\n",
    "\n",
    "# All places\n",
    "az_cousub.plot(ax=ax,figsize=(50, 50),color = 'white',edgecolor ='red')\n",
    "az.plot(ax=ax,figsize=(50, 50),facecolor ='none',edgecolor ='black')\n",
    "\n",
    "az.plot(ax=ax0,figsize=(50, 50),color = 'white',edgecolor ='black')"
   ]
  },
  {
   "cell_type": "code",
   "execution_count": null,
   "metadata": {},
   "outputs": [],
   "source": []
  }
 ],
 "metadata": {
  "kernelspec": {
   "display_name": "watertap3",
   "language": "python",
   "name": "python3"
  },
  "language_info": {
   "codemirror_mode": {
    "name": "ipython",
    "version": 3
   },
   "file_extension": ".py",
   "mimetype": "text/x-python",
   "name": "python",
   "nbconvert_exporter": "python",
   "pygments_lexer": "ipython3",
   "version": "3.8.8"
  },
  "orig_nbformat": 4
 },
 "nbformat": 4,
 "nbformat_minor": 2
}
