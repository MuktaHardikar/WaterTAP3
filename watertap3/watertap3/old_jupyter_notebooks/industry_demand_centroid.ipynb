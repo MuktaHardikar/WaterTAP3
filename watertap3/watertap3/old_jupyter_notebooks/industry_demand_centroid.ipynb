{
 "cells": [
  {
   "cell_type": "code",
   "execution_count": null,
   "metadata": {},
   "outputs": [],
   "source": [
    "from sklearn.cluster import DBSCAN\n",
    "from shapely.geometry import MultiPoint,Point,Polygon\n",
    "import pandas as pd\n",
    "import geopandas as gp\n",
    "from shapely import wkt\n",
    "import numpy as np\n",
    "import matplotlib.pyplot as plt"
   ]
  },
  {
   "cell_type": "code",
   "execution_count": null,
   "metadata": {},
   "outputs": [],
   "source": [
    "us_counties = gp.read_file(r'\\Users\\mhardika\\Documents\\AMO\\GeoToolAll_Methods\\GeoData\\US_County_Boundaries\\US_CountyBndrys.shp')\n",
    "us_counties = us_counties.to_crs(\"EPSG:4326\")"
   ]
  },
  {
   "cell_type": "markdown",
   "metadata": {},
   "source": [
    "Try DBscan for Colorado\n",
    "1. Read Colorado data\n",
    "2. Split point data into lat and long county wise"
   ]
  },
  {
   "cell_type": "code",
   "execution_count": null,
   "metadata": {},
   "outputs": [],
   "source": [
    "df = pd.read_csv(r'\\Users\\mhardika\\Documents\\AMO\\GeoToolAll_Methods\\Water Source Data\\Industrial\\co_location_data.csv')\n",
    "df.head()\n",
    "location = df.location.apply(wkt.loads)\n",
    "location = gp.GeoSeries(location)\n",
    "location = location.set_crs(\"EPSG:3857\")\n",
    "location = location.to_crs(\"EPSG:4326\")\n",
    "\n",
    "df['lon'] = location.x\n",
    "df['lat'] = location.y\n",
    "\n",
    "df.head()"
   ]
  },
  {
   "cell_type": "markdown",
   "metadata": {},
   "source": [
    "Function to find clusters and calculate their centroid"
   ]
  },
  {
   "cell_type": "code",
   "execution_count": null,
   "metadata": {},
   "outputs": [],
   "source": [
    "centroids = []\n",
    "\n",
    "for county in df.county.unique():\n",
    "    df1 = df[df['county']==county]\n",
    "    coords = df1[['lat', 'lon']].to_numpy()\n",
    "\n",
    "    # define the number of kilometers in one radian\n",
    "    kms_per_radian = 6371.0088\n",
    "    epsilon = 10/ kms_per_radian\n",
    "\n",
    "    db = DBSCAN(eps=epsilon, min_samples=1, algorithm='ball_tree', metric='haversine').fit(np.radians(coords))\n",
    "    cluster_labels = db.labels_\n",
    "\n",
    "    # get the number of clusters\n",
    "    num_clusters = len(set(cluster_labels))\n",
    "\n",
    "    # turn the clusters in to a pandas series, where each element is a cluster of points\n",
    "    clusters = pd.Series((coords[cluster_labels==n] for n in range(num_clusters)))\n",
    "\n",
    "    for ea in clusters:\n",
    "        centroids.append((MultiPoint(ea).centroid.x, MultiPoint(ea).centroid.y))\n",
    "\n",
    "centroids = np.array(centroids)\n",
    "\n"
   ]
  },
  {
   "cell_type": "code",
   "execution_count": null,
   "metadata": {},
   "outputs": [],
   "source": [
    "state_code = '08'\n",
    "state = us_counties.loc[us_counties['STATEFP']==state_code]\n",
    "\n",
    "fig, (ax0,ax) = plt.subplots(1,2,figsize=(10,5))\n",
    "\n",
    "# All places\n",
    "\n",
    "state.plot(ax=ax,figsize=(50, 50),facecolor ='none',edgecolor ='black')\n",
    "industry_loc = gp.GeoSeries(df.location.apply(wkt.loads))\n",
    "industry_loc = industry_loc.set_crs(\"EPSG:3857\")\n",
    "industry_loc = industry_loc.to_crs(\"EPSG:4326\")\n",
    "industry_loc.plot(ax=ax)\n",
    "\n",
    "state.plot(ax=ax0,figsize=(50, 50),facecolor ='none',edgecolor ='black')\n",
    "industry_loc.plot(ax=ax0)\n",
    "\n",
    "# centroids.plot(ax=ax)\n",
    "ax.scatter(centroids[:,1],centroids[:,0],s=5,color='black')"
   ]
  }
 ],
 "metadata": {
  "kernelspec": {
   "display_name": "watertap3",
   "language": "python",
   "name": "python3"
  },
  "language_info": {
   "codemirror_mode": {
    "name": "ipython",
    "version": 3
   },
   "file_extension": ".py",
   "mimetype": "text/x-python",
   "name": "python",
   "nbconvert_exporter": "python",
   "pygments_lexer": "ipython3",
   "version": "3.8.8"
  },
  "orig_nbformat": 4
 },
 "nbformat": 4,
 "nbformat_minor": 2
}
