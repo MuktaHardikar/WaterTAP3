{
 "cells": [
  {
   "cell_type": "code",
   "execution_count": null,
   "metadata": {},
   "outputs": [],
   "source": [
    "from sklearn.cluster import DBSCAN\n",
    "from shapely.geometry import MultiPoint,Point,Polygon\n",
    "import pandas as pd\n",
    "import geopandas as gp\n",
    "from shapely import wkt\n",
    "import numpy as np\n",
    "import matplotlib.pyplot as plt\n",
    "from watertap3.truck_pipe_cost_functions import pipe_costing\n",
    "\n",
    "from sklearn.cluster import DBSCAN\n",
    "from shapely import wkt"
   ]
  },
  {
   "cell_type": "code",
   "execution_count": null,
   "metadata": {},
   "outputs": [],
   "source": [
    "bw_df = pd.read_csv('/Users/mhardika/Documents/AMO/GeoToolAll_Methods/Water Source Data/Brackish/brackish_sites_baseline_dwi_5Feb23.csv')\n",
    "us_counties = gp.read_file(r'\\Users\\mhardika\\Documents\\AMO\\GeoToolAll_Methods\\GeoData\\US_County_Boundaries\\US_CountyBndrys.shp')\n",
    "us_counties = us_counties.to_crs(\"EPSG:4326\")\n",
    "us_states = gp.read_file(r'C:\\Users\\mhardika\\Documents\\AMO\\2050\\analysis_files\\tl_rd22_us_state\\tl_rd22_us_state.shp')\n",
    "us_states = us_states.to_crs(\"EPSG:4326\")\n",
    "state_code = '48'\n",
    "\n",
    "bw_cluster_kmeans = pd.read_csv(r'C:\\Users\\mhardika\\Documents\\AMO\\Analysis Data Files\\clustering_results\\TX\\tx_bw_kmeans.csv')"
   ]
  },
  {
   "cell_type": "code",
   "execution_count": null,
   "metadata": {},
   "outputs": [],
   "source": [
    "state_geo = us_counties.loc[us_counties['STATEFP']==state_code]\n",
    "state_border = us_states.loc[us_states['STATEFP']==state_code]"
   ]
  },
  {
   "cell_type": "code",
   "execution_count": null,
   "metadata": {},
   "outputs": [],
   "source": [
    "bw_long = bw_df[bw_df['state_alpha']=='TX']['Longitude']\n",
    "bw_lat = bw_df[bw_df['state_alpha']=='TX']['Latitude']\n",
    "\n",
    "bw_geometry = [Point(xy) for xy in zip(bw_long,bw_lat)]\n",
    "bw_geo_df = gp.GeoDataFrame(geometry = bw_geometry, crs='EPSG:4326')\n",
    "bw_geo_df.geometry = bw_geo_df.geometry.to_crs('EPSG:4326')\n",
    "bw_geo_df = bw_geo_df.assign(county_nm = bw_df[bw_df['state_alpha'] =='TX']['county_nm'].values)"
   ]
  },
  {
   "cell_type": "code",
   "execution_count": null,
   "metadata": {},
   "outputs": [],
   "source": [
    "fig, (ax) = plt.subplots(figsize = (10,10))\n",
    "# states[states['NAME'] == 'Texas'].plot(ax=ax,figsize=(20, 20))\n",
    "\n",
    "state_border.plot(ax=ax,facecolor ='lightgrey',edgecolor ='black')\n",
    "# state_geo.plot(ax=ax,facecolor ='none',edgecolor ='black',alpha = 0.5)\n",
    "\n",
    "bw_geo_df.plot(ax=ax, color='purple', markersize = 100,edgecolor ='black',label='Brackish Water Wells')\n",
    "ax.legend(fontsize=15)\n",
    "ax.xaxis.set_tick_params(labelbottom=False)\n",
    "ax.yaxis.set_tick_params(labelleft=False)\n",
    "\n",
    "# Hide X and Y axes tick marks\n",
    "ax.set_xticks([])\n",
    "ax.set_yticks([])\n"
   ]
  },
  {
   "cell_type": "code",
   "execution_count": null,
   "metadata": {},
   "outputs": [],
   "source": [
    "fig, (ax) = plt.subplots(figsize = (10,10))\n",
    "# states[states['NAME'] == 'Texas'].plot(ax=ax,figsize=(20, 20))\n",
    "\n",
    "state_border.plot(ax=ax,facecolor ='lightgrey',edgecolor ='black')\n",
    "# state_geo.plot(ax=ax,facecolor ='none',edgecolor ='black',alpha = 0.5)\n",
    "\n",
    "ax.scatter(bw_cluster_kmeans['subcluster_long'].values, bw_cluster_kmeans['subcluster_lat'].values, \n",
    "                c=bw_cluster_kmeans['cluster_id'].values,s=120,cmap='tab20b',linewidths=0.5,edgecolor ='black', label='Brackish Wells Subclusters')\n",
    "ax.scatter(bw_cluster_kmeans['centroid_long'], bw_cluster_kmeans['centroid_lat'], c='black', s=300, marker = '^',edgecolor ='black',label='Treatment Facility')\n",
    "ax.legend(fontsize=15)\n",
    "ax.xaxis.set_tick_params(labelbottom=False)\n",
    "ax.yaxis.set_tick_params(labelleft=False)\n",
    "\n",
    "# Hide X and Y axes tick marks\n",
    "ax.set_xticks([])\n",
    "ax.set_yticks([])"
   ]
  }
 ],
 "metadata": {
  "kernelspec": {
   "display_name": "watertap3",
   "language": "python",
   "name": "python3"
  },
  "language_info": {
   "codemirror_mode": {
    "name": "ipython",
    "version": 3
   },
   "file_extension": ".py",
   "mimetype": "text/x-python",
   "name": "python",
   "nbconvert_exporter": "python",
   "pygments_lexer": "ipython3",
   "version": "3.8.8"
  }
 },
 "nbformat": 4,
 "nbformat_minor": 2
}
