{
 "cells": [
  {
   "attachments": {},
   "cell_type": "markdown",
   "metadata": {},
   "source": [
    "In this worksheet, the following are calculated:\n",
    "1. Plot on map location of viable brackish water sites\n",
    "2. Plot on map location of power plants \n",
    "3. % demand of a powerplant that can be met by all brackish wells within a state\n",
    "4. % demand of a powerplant that can be met without exceeding a maximum LCOW\n"
   ]
  },
  {
   "cell_type": "code",
   "execution_count": null,
   "metadata": {},
   "outputs": [],
   "source": [
    "max_LCOW = 1.6 #$/m3\n",
    "transport_cost = 0.0115   #$/m3/km"
   ]
  },
  {
   "cell_type": "code",
   "execution_count": null,
   "metadata": {},
   "outputs": [],
   "source": [
    "import matplotlib.pyplot as plt\n",
    "import pandas as pd\n",
    "import haversine as hs\n",
    "import geopandas as gp\n",
    "from shapely.geometry import Point, Polygon\n",
    "import numpy as np\n",
    "\n",
    "from pyomo.environ import Var, Expression, NonNegativeReals, Block, ConcreteModel, Constraint, Objective, Param, maximize, SolverFactory,RangeSet\n",
    "import pyomo.environ as pyo\n",
    "from idaes.core import FlowsheetBlock\n",
    "from pyomo.environ import Block, Expression, units as pyunits\n",
    "import math\n",
    "from truck_pipe_cost_functions import truck_costing, pipe_costing"
   ]
  },
  {
   "attachments": {},
   "cell_type": "markdown",
   "metadata": {},
   "source": [
    "Map brackish water sites that meet the following criteria\n",
    "1. Well yield > 0.01\n",
    "2. 0.5< TDS< 25 in kg/m3\n",
    "3. Contiguous US states\n",
    "\n",
    "LCOW calculated currently without transportation costs\n",
    "File - brackish_sites_with_metrics"
   ]
  },
  {
   "cell_type": "code",
   "execution_count": null,
   "metadata": {},
   "outputs": [],
   "source": [
    "# bw_df = pd.read_csv('/Users/mhardika/Documents/AMO/GeoToolAll_Methods/Water Source Data/Brackish/brackish_sites_with_metrics.csv')\n",
    "bw_df = pd.read_csv('/Users/mhardika/Documents/AMO/GeoToolAll_Methods/Water Source Data/Brackish/brackish_sites_with_metrics_baseline_dwi_updated_costs_transport_updated_basis.csv')\n",
    "netl_df = pd.read_csv(\"/Users/mhardika/Documents/AMO/GeoToolAll_Methods/Water Source Data/Power/NETL_ThermalPlants_Filtered.csv\")"
   ]
  },
  {
   "attachments": {},
   "cell_type": "markdown",
   "metadata": {},
   "source": [
    "Updating powerplant dataframe to group demand with the same plant code (independent of fuel)\\\n",
    "Filter powerplants where freshwater is used and where all the data is available --> this filter is copied from previous files"
   ]
  },
  {
   "cell_type": "code",
   "execution_count": null,
   "metadata": {},
   "outputs": [],
   "source": [
    "pp_df = netl_df[((netl_df.WaterType == 'Fresh') & (netl_df.WAvg != '...') & (netl_df.WAvg != '---'))]\n",
    "pp_group= pp_df.groupby('PlantCode')\n",
    "pp_df.WAvg = pp_df.WAvg.astype(float)\n",
    "cols= ['PlantCode','Demand_m3/s','PPLatitude','PPLongitude']\n",
    "\n",
    "pp_combined_df = pd.DataFrame(columns = cols)\n",
    "pp_group= pp_df.groupby('PlantCode')\n",
    "\n",
    "for key in pp_group.groups.keys():\n",
    "\n",
    "    demand = sum((pp_group.get_group(key).WAvg * 0.0037854 / 3600) * pp_group.get_group(key).Capacity)\n",
    "    # pp_combined_df = pp_combined_df.append\n",
    "    temp_dict = {'PlantCode':key,\n",
    "                 'PlantState':pp_group.get_group(key)['PlantState'].values[0],\n",
    "                 'Demand_m3/s': demand ,\n",
    "                 'PPLatitude':pp_group.get_group(key)['Latitude'].values[0],\n",
    "                 'PPLongitude':pp_group.get_group(key)['Longitude'].values[0]}\n",
    "    \n",
    "    temp = pd.DataFrame(temp_dict,index= [0])                  \n",
    "    pp_combined_df = pd.concat([pp_combined_df,temp],ignore_index=True)\n",
    "    pp_combined_df.reset_index()\n"
   ]
  },
  {
   "attachments": {},
   "cell_type": "markdown",
   "metadata": {},
   "source": [
    "A sample map for Texas"
   ]
  },
  {
   "cell_type": "code",
   "execution_count": null,
   "metadata": {},
   "outputs": [],
   "source": [
    "pp_combined_df"
   ]
  },
  {
   "cell_type": "code",
   "execution_count": null,
   "metadata": {},
   "outputs": [],
   "source": [
    "texas = gp.read_file('/Users/mhardika/Documents/AMO/GeoToolAll_Methods/GeoData/Texas Counties Map/geo_export_c05b3355-1638-4e46-b56c-ac18de751ed8.shp')\n",
    "texas = texas.to_crs(\"EPSG:4326\")\n"
   ]
  },
  {
   "cell_type": "code",
   "execution_count": null,
   "metadata": {},
   "outputs": [],
   "source": [
    "bw_long = bw_df[bw_df['state_alpha']=='TX']['Longitude']\n",
    "bw_lat = bw_df[bw_df['state_alpha']=='TX']['Latitude']\n",
    "\n",
    "bw_geometry = [Point(xy) for xy in zip(bw_long,bw_lat)]\n",
    "bw_geo_df = gp.GeoDataFrame(geometry = bw_geometry, crs='EPSG:4326')\n",
    "bw_geo_df.geometry = bw_geo_df.geometry.to_crs('EPSG:4326')\n",
    "bw_geo_df = bw_geo_df.assign(county_nm = bw_df[bw_df['state_alpha'] =='TX']['county_nm'].values)\n",
    "\n",
    "pp_long = pp_combined_df[pp_combined_df['PlantState']=='TX']['PPLongitude']\n",
    "pp_lat = pp_combined_df[pp_combined_df['PlantState']=='TX']['PPLatitude']\n",
    "\n",
    "pp_geometry = [Point(xy) for xy in zip(pp_long,pp_lat)]\n",
    "pp_geo_df = gp.GeoDataFrame(geometry = pp_geometry, crs='EPSG:4326')\n",
    "pp_geo_df.geometry = pp_geo_df.geometry.to_crs('EPSG:4326')\n"
   ]
  },
  {
   "cell_type": "code",
   "execution_count": null,
   "metadata": {},
   "outputs": [],
   "source": [
    "fig, ax = plt.subplots()\n",
    "# states[states['NAME'] == 'Texas'].plot(ax=ax,figsize=(20, 20))\n",
    "texas.plot(ax=ax,figsize=(50, 50))\n",
    "bw_geo_df.plot(ax=ax, color='purple', markersize = 5,label = \"BW Sites\")\n",
    "pp_geo_df.plot(ax=ax, color='black', markersize = 5,label='PP')\n",
    "\n",
    "ax.legend()"
   ]
  },
  {
   "attachments": {},
   "cell_type": "markdown",
   "metadata": {},
   "source": [
    "Selecting brackish water sites for powerplants\n",
    "1. Minimize cost for the state\n",
    "2. Does not exceed the capacity of each brackish water site"
   ]
  },
  {
   "cell_type": "code",
   "execution_count": null,
   "metadata": {},
   "outputs": [],
   "source": [
    "# Create matrix of brackish water sites (rows) and powerplant (columns) distance\n",
    "from pyomo.environ import Var, Expression, NonNegativeReals, Block, ConcreteModel, Constraint, Objective, Param, maximize, SolverFactory,RangeSet\n",
    "import pyomo.environ as pyo\n",
    "from idaes.core import FlowsheetBlock\n",
    "from pyomo.util.infeasible import *\n",
    "from idaes.core.util.model_statistics import *\n",
    "\n",
    "bw_state_df = bw_df[bw_df['state_alpha']=='TX']\n",
    "bw_state_df = bw_state_df.set_index('unique_site_ID')\n",
    "\n",
    "pp_state_df =  pp_combined_df[pp_combined_df['PlantState']=='TX']\n",
    "pp_state_df = pp_state_df.set_index('PlantCode')\n",
    "\n",
    "no_bw_sites = len(bw_state_df)\n",
    "no_pp_sites = len(pp_state_df)\n",
    "\n",
    "dist = np.zeros((no_bw_sites,no_pp_sites))\n",
    "pp_demand = []\n",
    "# Create array with brackish water availability\n",
    "bw_vol = []\n",
    "LCOW = []\n",
    "plantcode=[]\n",
    "\n",
    "i = 0\n",
    "j = 0 \n",
    "\n",
    "for pp in pp_state_df.index:\n",
    "    pp_long = pp_state_df['PPLongitude'].loc[pp]\n",
    "    pp_lat = pp_state_df['PPLatitude'].loc[pp]\n",
    "\n",
    "    pp_loc = (pp_lat,pp_long)    \n",
    "    pp_demand.append(pp_state_df['Demand_m3/s'].loc[pp])\n",
    "\n",
    "    plantcode.append(pp)\n",
    "    j=0\n",
    "    for site in bw_state_df.index:\n",
    "        bw_long = bw_state_df['Longitude'].loc[site]\n",
    "        bw_lat = bw_state_df['Latitude'].loc[site]\n",
    "\n",
    "        bw_loc = (bw_lat,bw_long)\n",
    "        dist_km = hs.haversine(pp_loc,bw_loc)\n",
    "        \n",
    "        if dist_km >= 100:\n",
    "            dist[j,i] = 1e10\n",
    "        else:\n",
    "            dist[j,i] = dist_km\n",
    "        j=j+1\n",
    "\n",
    "    i=i+1\n",
    "\n",
    "\n",
    "for site in bw_state_df.index:\n",
    "    bw_available = bw_state_df['well_yield'].loc[site]*bw_state_df['recovery'].loc[site]/100\n",
    "    bw_vol.append(bw_available)\n",
    "\n",
    "    lcow = bw_state_df['lcow'].loc[site]\n",
    "    LCOW.append(lcow)\n",
    "\n",
    "\n",
    "def transport_cost(bw_vol,dist):\n",
    "    transport_lcow_pipe = pipe_costing(bw_available*3600*24,dist_km*1.6)\n",
    "    transport_lcow_truck = truck_costing(dist_km*1.6)\n",
    "\n",
    "    transport_lcow = min(transport_lcow_pipe,transport_lcow_truck)\n",
    "    return float(transport_lcow)\n",
    "\n",
    "\n",
    "def try_cool_matrix(bw_vol,demand,lcow,dist):\n",
    "\n",
    "    m = ConcreteModel()\n",
    "    m.I = pyo.Set(initialize = range(dist.shape[0]))\n",
    "    # powerplant site index\n",
    "    m.J = pyo.Set(initialize = range(dist.shape[1]))\n",
    "\n",
    "    m.matrix= pyo.Set(initialize = m.I*m.J)\n",
    "    m.x = Var(m.matrix, domain=NonNegativeReals, bounds= (0,1))\n",
    "\n",
    "    m.constraints= pyo.ConstraintList()\n",
    "\n",
    "    # Sum of fractions should be less than or equal to 1\n",
    "    for i in m.I:\n",
    "        m.constraints.add((sum(m.x[i,j] for j in m.J)) <= 1 )\n",
    "\n",
    "    # Production to be as close to maximum as possible\n",
    "    for j in m.J:\n",
    "       m.constraints.add((sum(m.x[i,j]*float(bw_vol[i]) for i in m.I)) >= demand[j])\n",
    "\n",
    "    # for j in m.J:\n",
    "    #     m.constraints.add((sum(( LCOW[i]*m.x[i,j] + transport_cost(bw_vol[i],dist[i,j])*m.x[i,j] ) for i in m.I)) <= 1.4)\n",
    "\n",
    "    # def obj_demand(m):\n",
    "    #     return sum(sum(m.x[i,j]*float(bw_vol[i]) for i in m.I) for j in m.J)\n",
    "    \n",
    "\n",
    "    # LCOW objective\n",
    "    def obj(m):\n",
    "        return sum(sum((LCOW[i]*m.x[i,j] + transport_cost(bw_vol[i],dist[i,j])*m.x[i,j]) for i in m.I) for j in m.J)\n",
    "\n",
    "\n",
    "    # m.obj2 = Objective(rule=obj_demand,sense = pyo.maximize)\n",
    "    m.obj1 = Objective(rule = obj)\n",
    "\n",
    "    solver = SolverFactory('ipopt')\n",
    "    results = solver.solve(m)\n",
    "    \n",
    "\n",
    "    # for constr in m.component_data_objects(ctype=Constraint, active=True, descend_into=True):\n",
    "    #     tol=1E-6\n",
    "    #     constr_body_value = value(constr.body, exception=False)\n",
    "    #     constr_lb_value = value(constr.lower, exception=False)\n",
    "    #     if constr_body_value is None:\n",
    "    #             # Undefined constraint body value due to missing variable value\n",
    "    #         constr_undefined = True\n",
    "    #         pass\n",
    "    #     else:\n",
    "    #         # Check for infeasibilities\n",
    "    #         if constr.equality:\n",
    "    #             if fabs(constr_lb_value - constr_body_value) >= tol:\n",
    "    #                 equality_violated = True\n",
    "    #                 constr.deactivate()\n",
    "\n",
    "    # results = solver.solve(m)\n",
    "    # for constraint in m.\n",
    "\n",
    "    return m\n"
   ]
  },
  {
   "cell_type": "code",
   "execution_count": null,
   "metadata": {},
   "outputs": [],
   "source": [
    "solver = SolverFactory('ipopt')"
   ]
  },
  {
   "cell_type": "code",
   "execution_count": null,
   "metadata": {},
   "outputs": [],
   "source": [
    "print(pp_demand)"
   ]
  },
  {
   "cell_type": "code",
   "execution_count": null,
   "metadata": {},
   "outputs": [],
   "source": [
    "def update_demand(supply_max,demand):\n",
    "    for i in range(0,len(demand)):\n",
    "        if demand[i]>supply_max:\n",
    "            demand[i]=supply_max\n",
    "    return demand\n",
    "\n",
    "supply_max = sum(bw_vol)/len(bw_vol)\n",
    "\n",
    "demand = update_demand(supply_max,pp_demand)\n",
    "\n",
    "m = try_cool_matrix(bw_vol,pp_demand,LCOW,dist)\n",
    "# m.display()\n",
    "dict = (m.x.get_values())\n",
    "\n",
    "x = np.zeros(dist.shape)\n",
    "print(x)\n",
    "for i,j in dict.keys():\n",
    "    x[i,j] = dict[(i,j)]\n",
    "\n",
    "# print(x)\n",
    "\n",
    "supply = bw_vol*x[:,0]\n",
    "\n",
    "# print(sum(supply))\n",
    "# print(pp_demand[0])\n",
    "# print(sum(supply)/pp_demand[0]*100)\n",
    "# print(plantcode[0])"
   ]
  },
  {
   "cell_type": "code",
   "execution_count": null,
   "metadata": {},
   "outputs": [],
   "source": [
    "# figure out how to deactivate infeasible constraints\n",
    "from idaes.core.util.model_statistics import *\n",
    "\n",
    "for constr in m.component_data_objects(ctype=Constraint, active=True, descend_into=True):\n",
    "    tol=1E-6\n",
    "    constr_body_value = value(constr.body, exception=False)\n",
    "    constr_lb_value = value(constr.lower, exception=False)\n",
    "    if constr_body_value is None:\n",
    "            # Undefined constraint body value due to missing variable value\n",
    "        constr_undefined = True\n",
    "        pass\n",
    "    else:\n",
    "        # Check for infeasibilities\n",
    "        if constr.equality:\n",
    "            if fabs(constr_lb_value - constr_body_value) >= tol:\n",
    "                equality_violated = True\n",
    "    constr.deactivate()"
   ]
  },
  {
   "cell_type": "code",
   "execution_count": null,
   "metadata": {},
   "outputs": [],
   "source": [
    "dfx = pd.DataFrame(x)\n",
    "bw_vol=np.array(bw_vol)\n",
    "# print((pp_demand))\n",
    "print(x[:,0])\n",
    "# log_infeasible_constraints(m)\n",
    "# print(x.shape)\n",
    "# print(bw_vol.shape)\n",
    "# np.matmul(bw_vol,x)"
   ]
  },
  {
   "attachments": {},
   "cell_type": "markdown",
   "metadata": {},
   "source": [
    "Powerplant % Demand met\n",
    "1. Assuming multiple brackish water sites provide to a single powerplant\n",
    "2. Adding transportation cost to LCOW based on the value in variable transport_cost\n",
    "3. No limitation on maximum distance"
   ]
  },
  {
   "attachments": {},
   "cell_type": "markdown",
   "metadata": {},
   "source": [
    "Creating a dataframe with one powerplant to many brackish water sites and respective distances.\\\n",
    "Sorting in order of increasing distance.\\\n",
    "Calculating demand met with every brackish water site and weighted tLCOW (LCOW which includes transport costs )"
   ]
  },
  {
   "cell_type": "code",
   "execution_count": null,
   "metadata": {},
   "outputs": [],
   "source": [
    "bw_state_df = bw_df[bw_df['state_alpha']=='TX']\n",
    "bw_state_df = bw_state_df.set_index('unique_site_ID')\n",
    "\n",
    "pp_state_df =  pp_combined_df[pp_combined_df['PlantState']=='TX']\n",
    "pp_state_df = pp_state_df.set_index('PlantCode')"
   ]
  },
  {
   "cell_type": "code",
   "execution_count": null,
   "metadata": {},
   "outputs": [],
   "source": [
    "cols = ['PlantCode','PPLatitude','PPLongitude','PPDemand','BWSites','BWLatitude','BWLongitude','BWAvailable','Distance_km',\n",
    "        'PPDemandFracMet','LCOW','TransportLCOW','tLCOW','WeightedtLCOW','Cum_PPDemandFracMet']\n",
    "\n",
    "one_pp_many_bw_df  = pd.DataFrame(columns=cols)\n",
    "\n",
    "for pp in pp_state_df.index:\n",
    "    pp_long = pp_state_df['PPLongitude'].loc[pp]\n",
    "    pp_lat = pp_state_df['PPLatitude'].loc[pp]\n",
    "\n",
    "    pp_loc = (pp_lat,pp_long)    \n",
    "\n",
    "    plantcode = pp\n",
    "    \n",
    "    for site in bw_state_df.index:\n",
    "        bw_long = bw_state_df['Longitude'].loc[site]\n",
    "        bw_lat = bw_state_df['Latitude'].loc[site]\n",
    "\n",
    "        bw_loc = (bw_lat,bw_long)\n",
    "        dist_km = hs.haversine(pp_loc,bw_loc)\n",
    "        \n",
    "        bw_available = bw_state_df['well_yield'].loc[site]*bw_state_df['recovery'].loc[site]/100\n",
    "        pp_demand_frac_met = bw_available/pp_state_df['Demand_m3/s'].loc[pp]\n",
    "        lcow = bw_state_df['lcow'].loc[site] + bw_state_df['pipe_cost'].loc[site] \n",
    "\n",
    "        # Updated transport costs\n",
    "        \n",
    "        transport_lcow_pipe = pipe_costing(bw_available*3600*24,dist_km)\n",
    "        transport_lcow_truck = truck_costing(dist_km)\n",
    "\n",
    "        transport_lcow = min(transport_lcow_pipe,transport_lcow_truck)\n",
    "        # transport_onm = transport_cost*dist_km*bw_available*365*24*3600\n",
    "        # tlcow = (lcow*bw_available*365*24*3600 + transport_onm)/(bw_available*365*24*3600) \n",
    "        tlcow = lcow + transport_lcow\n",
    "        \n",
    "        temp_dict =  {'PlantCode' : pp,\n",
    "                      'PPLatitude' : pp_lat,\n",
    "                      'PPLongitude' : pp_long,\n",
    "                      'PPDemand' : pp_state_df['Demand_m3/s'].loc[pp],\n",
    "                      'BWSites' : site,\n",
    "                      'BWLatitude' : bw_lat,\n",
    "                      'BWLongitude' : bw_long,\n",
    "                      'BWAvailable' : bw_available,\n",
    "                      'Distance_km' : dist_km,\n",
    "                      'PPDemandFracMet' : pp_demand_frac_met,\n",
    "                      'LCOW' : lcow,\n",
    "                      'TransportLCOW' : transport_lcow,\n",
    "                      'tLCOW' : tlcow,\n",
    "                      'WeightedtLCOW': 0,\n",
    "                      'Cum_PPDemandFracMet': 0}\n",
    "        \n",
    "        temp = pd.DataFrame(temp_dict,index= [0])    \n",
    "        one_pp_many_bw_df = pd.concat([one_pp_many_bw_df,temp],ignore_index=True)\n",
    "        one_pp_many_bw_df.reset_index()\n",
    "\n",
    "one_pp_many_bw_df_sorted1 = one_pp_many_bw_df.sort_values(['PlantCode','tLCOW']).groupby('PlantCode')\n",
    "one_pp_many_bw_df_sorted2 = one_pp_many_bw_df.sort_values(['PlantCode','Distance_km']).groupby('PlantCode')\n",
    "\n",
    "one_pp_many_bw_df"
   ]
  },
  {
   "cell_type": "code",
   "execution_count": null,
   "metadata": {},
   "outputs": [],
   "source": [
    "# Using data sorted by tLCOW\n",
    "one_pp_many_bw_df = one_pp_many_bw_df_sorted1.apply(pd.DataFrame).set_index('PlantCode')\n",
    "weighted_lcow = []\n",
    "cum_pp_demand_frac_met = []\n",
    "\n",
    "for pp in pp_state_df.index:\n",
    "    cum_bw_available = np.array(one_pp_many_bw_df['BWAvailable'].loc[pp].cumsum())\n",
    "    cum_cost = np.array((one_pp_many_bw_df['BWAvailable'].loc[pp]*one_pp_many_bw_df['tLCOW'].loc[pp]).cumsum())\n",
    "    temp = np.divide(cum_cost,cum_bw_available)\n",
    "    weighted_lcow = np.append(weighted_lcow, temp,axis=0)\n",
    "    temp_demand_met = np.array(one_pp_many_bw_df['PPDemandFracMet'].loc[pp].cumsum())\n",
    "    cum_pp_demand_frac_met = np.append(cum_pp_demand_frac_met,temp_demand_met,axis=0)\n",
    "\n",
    "one_pp_many_bw_df['WeightedtLCOW'] = weighted_lcow\n",
    "one_pp_many_bw_df['Cum_PPDemandFracMet'] = cum_pp_demand_frac_met\n",
    "one_pp_many_bw_df['Cum_PPDemandFracMet'] = np.where(one_pp_many_bw_df['Cum_PPDemandFracMet']>1,1,one_pp_many_bw_df['Cum_PPDemandFracMet'])\n",
    "one_pp_many_bw_df"
   ]
  },
  {
   "cell_type": "code",
   "execution_count": null,
   "metadata": {},
   "outputs": [],
   "source": [
    "# Using data sorted by distance\n",
    "one_pp_many_bw_df = one_pp_many_bw_df_sorted2.apply(pd.DataFrame).set_index('PlantCode')\n",
    "weighted_lcow = []\n",
    "cum_pp_demand_frac_met = []\n",
    "\n",
    "for pp in pp_state_df.index:\n",
    "    cum_bw_available = np.array(one_pp_many_bw_df['BWAvailable'].loc[pp].cumsum())\n",
    "    cum_cost = np.array((one_pp_many_bw_df['BWAvailable'].loc[pp]*one_pp_many_bw_df['tLCOW'].loc[pp]).cumsum())\n",
    "    temp = np.divide(cum_cost,cum_bw_available)\n",
    "    weighted_lcow = np.append(weighted_lcow, temp,axis=0)\n",
    "    temp_demand_met = np.array(one_pp_many_bw_df['PPDemandFracMet'].loc[pp].cumsum())\n",
    "    cum_pp_demand_frac_met = np.append(cum_pp_demand_frac_met,temp_demand_met,axis=0)\n",
    "\n",
    "one_pp_many_bw_df['WeightedtLCOW'] = weighted_lcow\n",
    "one_pp_many_bw_df['Cum_PPDemandFracMet'] = cum_pp_demand_frac_met\n",
    "one_pp_many_bw_df['Cum_PPDemandFracMet'] = np.where(one_pp_many_bw_df['Cum_PPDemandFracMet']>1,1,one_pp_many_bw_df['Cum_PPDemandFracMet'])\n",
    "one_pp_many_bw_df.head()"
   ]
  },
  {
   "cell_type": "code",
   "execution_count": null,
   "metadata": {},
   "outputs": [],
   "source": [
    "one_pp_many_bw_df[(one_pp_many_bw_df['PPLongitude']<-105) & (one_pp_many_bw_df['Cum_PPDemandFracMet']>=1)].groupby('PlantCode').first()\n",
    "# one_pp_many_bw_df[(one_pp_many_bw_df['PPLongitude']<-105)]"
   ]
  },
  {
   "attachments": {},
   "cell_type": "markdown",
   "metadata": {},
   "source": [
    "Map the maximum % demand that be potentially met with all brackish water sites"
   ]
  },
  {
   "cell_type": "code",
   "execution_count": null,
   "metadata": {},
   "outputs": [],
   "source": [
    "plantcodes = list(one_pp_many_bw_df.groupby('PlantCode').groups.keys())\n",
    "pp_geo_df.index = plantcodes"
   ]
  },
  {
   "cell_type": "code",
   "execution_count": null,
   "metadata": {},
   "outputs": [],
   "source": [
    "# pp_demand_met_df = one_pp_many_bw_df.groupby('PlantCode').last()\n",
    "pp_demand_met_df = one_pp_many_bw_df[one_pp_many_bw_df['Cum_PPDemandFracMet']>=1].groupby('PlantCode').first()\n",
    "\n",
    "fig, (ax0,ax1) = plt.subplots(1,2, figsize = (10,5))\n",
    "# states[states['NAME'] == 'Texas'].plot(ax=ax,figsize=(20, 20))\n",
    "texas.plot(ax=ax0,figsize=(50, 50))\n",
    "pp_geo_df.loc[pp_demand_met_df.index].plot(column = pp_demand_met_df['Cum_PPDemandFracMet'].values*100, ax=ax0, \n",
    "                                           markersize = 5,label='PP',legend=True,vmin=0, vmax=100)\n",
    "ax0.set_title('% Demand met')\n",
    "\n",
    "texas.plot(ax=ax1,figsize=(50, 50))\n",
    "pp_geo_df.loc[pp_demand_met_df.index].plot(column = pp_demand_met_df['WeightedtLCOW'].values, \n",
    "                                           ax=ax1, markersize = 5, label='PP',legend=True,vmin=0,vmax=3)\n",
    "ax1.set_title('Average LCOW')"
   ]
  },
  {
   "attachments": {},
   "cell_type": "markdown",
   "metadata": {},
   "source": [
    "Map the maximum % demand that be potentially met with all brackish water sites\n",
    "1. Assuming the tLCOW does not exceed maximum LCOW\n",
    "2. Or 100% demand is met\n",
    "\n",
    "TODO: In the cases where the adding an additional brackish water site excced maximum LCOW calculate additional fractional supply possible"
   ]
  },
  {
   "cell_type": "code",
   "execution_count": null,
   "metadata": {},
   "outputs": [],
   "source": [
    "plantcodes = list(one_pp_many_bw_df.groupby('PlantCode').groups.keys())\n",
    "pp_geo_df.index = plantcodes\n"
   ]
  },
  {
   "cell_type": "code",
   "execution_count": null,
   "metadata": {},
   "outputs": [],
   "source": [
    "one_pp_many_bw_df[(one_pp_many_bw_df['Cum_PPDemandFracMet']>=1)].groupby('PlantCode').first()\n",
    "one_pp_many_bw_df[(one_pp_many_bw_df['Cum_PPDemandFracMet']<=1)].groupby('PlantCode').last()"
   ]
  },
  {
   "cell_type": "code",
   "execution_count": null,
   "metadata": {},
   "outputs": [],
   "source": [
    "max_LCOW = 1.6\n",
    "pp_demand_met_conditional_df = one_pp_many_bw_df[(one_pp_many_bw_df['Cum_PPDemandFracMet']>=1) & (one_pp_many_bw_df['WeightedtLCOW']>=max_LCOW)].groupby('PlantCode').first()\n",
    "\n",
    "fig, (ax0,ax1) = plt.subplots(1,2, figsize = (10,5))\n",
    "texas.plot(ax=ax0,figsize=(50, 50))\n",
    "pp_geo_df.loc[pp_demand_met_conditional_df.index].plot(column = pp_demand_met_conditional_df['Cum_PPDemandFracMet'].values*100, ax=ax0,\n",
    "                                                        markersize = 5, label='PP',legend=True,vmin=0,vmax = 100)\n",
    "ax0.set_title('% Demand met')\n",
    "\n",
    "texas.plot(ax=ax1,figsize=(50, 50))\n",
    "pp_geo_df.loc[pp_demand_met_conditional_df.index].plot(column = pp_demand_met_conditional_df['WeightedtLCOW'].values,\n",
    "                                                        ax=ax1, markersize = 5, label='PP',legend=True,vmin=0,vmax = 1.6)\n",
    "ax1.set_title('Average LCOW')\n",
    "\n",
    "print(len(pp_demand_met_conditional_df.index))"
   ]
  },
  {
   "attachments": {},
   "cell_type": "markdown",
   "metadata": {},
   "source": [
    "Function to find the most cost effect brackish water sites"
   ]
  },
  {
   "cell_type": "code",
   "execution_count": null,
   "metadata": {},
   "outputs": [],
   "source": []
  },
  {
   "cell_type": "code",
   "execution_count": null,
   "metadata": {},
   "outputs": [],
   "source": [
    "\n"
   ]
  },
  {
   "cell_type": "code",
   "execution_count": null,
   "metadata": {},
   "outputs": [],
   "source": []
  }
 ],
 "metadata": {
  "kernelspec": {
   "display_name": "watertap3",
   "language": "python",
   "name": "python3"
  },
  "language_info": {
   "codemirror_mode": {
    "name": "ipython",
    "version": 3
   },
   "file_extension": ".py",
   "mimetype": "text/x-python",
   "name": "python",
   "nbconvert_exporter": "python",
   "pygments_lexer": "ipython3",
   "version": "3.8.8"
  },
  "orig_nbformat": 4,
  "vscode": {
   "interpreter": {
    "hash": "0e4911484967c68db66f124aaaf28d8832a4495a870ddc2037cbfdbc733badcc"
   }
  }
 },
 "nbformat": 4,
 "nbformat_minor": 2
}
