{
 "cells": [
  {
   "cell_type": "code",
   "execution_count": null,
   "metadata": {},
   "outputs": [],
   "source": [
    "import matplotlib as mpl\n",
    "import matplotlib.pyplot as plt\n",
    "import pandas as pd\n",
    "import haversine as hs\n",
    "import geopandas as gp\n",
    "from shapely.geometry import MultiPoint, Point, Polygon\n",
    "import numpy as np\n",
    "from sklearn.cluster import DBSCAN\n",
    "from shapely import wkt\n",
    "from mpl_toolkits.axes_grid1 import make_axes_locatable\n",
    "\n",
    "from watertap3.truck_pipe_cost_functions import elevation\n",
    "from IPython.display import clear_output"
   ]
  },
  {
   "cell_type": "markdown",
   "metadata": {},
   "source": [
    "Find centroids of brackish water sites within 25 miles"
   ]
  },
  {
   "cell_type": "markdown",
   "metadata": {},
   "source": [
    "Location of brackish water sites that satisfy conditions for selection of brackish wells"
   ]
  },
  {
   "cell_type": "code",
   "execution_count": null,
   "metadata": {},
   "outputs": [],
   "source": [
    "bw_df = pd.read_csv('/Users/mhardika/Documents/AMO/GeoToolAll_Methods/Water Source Data/Brackish/brackish_sites_with_metrics_baseline_dwi_updated_costs_transport_updated_basis.csv')"
   ]
  },
  {
   "cell_type": "markdown",
   "metadata": {},
   "source": [
    "Create coordinates dataframa for all brackish wells"
   ]
  },
  {
   "cell_type": "code",
   "execution_count": null,
   "metadata": {},
   "outputs": [],
   "source": [
    "coords = bw_df[['Latitude', 'Longitude','state_alpha']]"
   ]
  },
  {
   "cell_type": "markdown",
   "metadata": {},
   "source": [
    "Function to find the centroid"
   ]
  },
  {
   "cell_type": "code",
   "execution_count": null,
   "metadata": {},
   "outputs": [],
   "source": [
    "def find_centroid(coords,cluster_range = 25):\n",
    "    kms_per_radian = 6371.0088\n",
    "    range_km = cluster_range*1.609343502101154\n",
    "    epsilon = range_km/ kms_per_radian\n",
    "\n",
    "    db = DBSCAN(eps=epsilon, min_samples=1, algorithm='ball_tree', metric='haversine').fit(np.radians(coords))\n",
    "    cluster_labels = db.labels_\n",
    "\n",
    "    # get the number of clusters\n",
    "    num_clusters = len(set(cluster_labels))\n",
    "\n",
    "    # turn the clusters in to a pandas series, where each element is a cluster of points\n",
    "    clusters = pd.Series((coords[cluster_labels==n] for n in range(num_clusters)))\n",
    "    centroids = []\n",
    "\n",
    "    for ea in clusters:\n",
    "        centroids.append((MultiPoint(ea).centroid.x, MultiPoint(ea).centroid.y))\n",
    "\n",
    "    centroids = np.array(centroids)\n",
    "    return [centroids,cluster_labels]"
   ]
  },
  {
   "cell_type": "markdown",
   "metadata": {},
   "source": [
    "Go through each state and find centroid of brackish sites groups"
   ]
  },
  {
   "cell_type": "code",
   "execution_count": null,
   "metadata": {},
   "outputs": [],
   "source": [
    "bw_df_centroid = pd.DataFrame(columns= bw_df.columns)\n",
    "cluster_df = pd.DataFrame(columns = ['cluster_labels','centroid'])\n",
    "\n",
    "for state in ['AZ']:#bw_df['state_alpha'].unique():\n",
    "    # print(state)\n",
    "\n",
    "    coords_input = coords[coords['state_alpha']==state][['Latitude', 'Longitude']].to_numpy()\n",
    "    centroids,cluster_labels = find_centroid(coords_input,10)\n",
    "\n",
    "    loc = [Point(xy) for xy in zip(centroids[:,1],centroids[:,0])]\n",
    "    loc = gp.GeoDataFrame(geometry = loc, crs='EPSG:4326')\n",
    "    loc.geometry = loc.geometry.to_crs('EPSG:4326')\n",
    "\n",
    "    # Assign cluster label\n",
    "    temp = pd.DataFrame(columns = ['cluster_labels','centroid'])\n",
    "    temp['cluster_labels'] = cluster_labels\n",
    "    temp['centroid'] = loc.geometry[cluster_labels].values\n",
    "\n",
    "    cluster_df= pd.concat([cluster_df,temp])\n",
    "    cluster_df.reset_index()\n",
    "\n",
    "    bw_df_centroid = pd.concat([bw_df_centroid,bw_df[bw_df['state_alpha']==state]])\n",
    "    \n",
    "bw_df_centroid = bw_df_centroid.assign(centroid = cluster_df['centroid'].values)\n",
    "bw_df_centroid['cluster_id'] = pd.factorize(bw_df_centroid['centroid'])[0]\n"
   ]
  },
  {
   "cell_type": "code",
   "execution_count": null,
   "metadata": {},
   "outputs": [],
   "source": [
    "us_counties = gp.read_file(r'\\Users\\mhardika\\Documents\\AMO\\GeoToolAll_Methods\\GeoData\\US_County_Boundaries\\US_CountyBndrys.shp')\n",
    "us_counties = us_counties.to_crs(\"EPSG:4326\")\n",
    "\n",
    "state_code = '04'\n",
    "state = us_counties.loc[us_counties['STATEFP']==state_code]\n",
    "state_alpha = 'AZ'\n",
    "\n",
    "bw_long = bw_df_centroid[bw_df_centroid['state_alpha']==state_alpha]['Longitude']\n",
    "bw_lat = bw_df_centroid[bw_df_centroid['state_alpha']==state_alpha]['Latitude']\n",
    "\n",
    "bw_geometry = [Point(xy) for xy in zip(bw_long,bw_lat)]\n",
    "bw_geo_df = gp.GeoDataFrame(geometry = bw_geometry, crs='EPSG:4326')\n",
    "bw_geo_df.geometry = bw_geo_df.geometry.to_crs('EPSG:4326')\n",
    "\n",
    "fig, ax0 = plt.subplots(figsize = (6,6))\n",
    "\n",
    "# state.plot(ax=ax,facecolor ='none',edgecolor ='black')\n",
    "# bw_geo_df.plot(ax=ax, color='blue',edgecolors='black' ,linewidth = 0.25, markersize = 15,label = \"BW Sites\")\n",
    "\n",
    "state.plot(ax=ax0,facecolor ='none',edgecolor ='black')\n",
    "# bw_geo_df.plot(ax=ax0, markersize = 15, edgecolors = 'black', c='blue',linewidth = 0.25, label = \"BW Sites\")\n",
    "\n",
    "temp = bw_df_centroid[bw_df_centroid['state_alpha']==state_alpha]\n",
    "\n",
    "temp.plot.scatter(ax=ax0 , x = 'Longitude', y = 'Latitude', c=temp['cluster_id'].values, s=50, cmap='tab20c')\n",
    "ax0.scatter(temp['centroid'].values.x,  temp['centroid'].values.y, color = 'black',s=20)\n",
    "\n",
    "# for cluster in bw_df_centroid[bw_df_centroid['state_alpha']==state_alpha]['cluster_id'].unique():\n",
    "#     temp = bw_df_centroid[bw_df_centroid['state_alpha']==state_alpha][bw_df_centroid['cluster_id']==cluster]\n",
    "#     ax0.scatter(temp['Longitude'], temp['Latitude'],s = 10)\n"
   ]
  },
  {
   "cell_type": "code",
   "execution_count": null,
   "metadata": {},
   "outputs": [],
   "source": [
    "# Calculating the distance to the centroid for all state\n",
    "\n",
    "bw_df_centroid_1 = bw_df_centroid[bw_df_centroid['state_alpha']=='AZ'].copy()\n",
    "\n",
    "\n",
    "dist= []\n",
    "centroid_elev = []\n",
    "well_elev = []\n",
    "\n",
    "for i in bw_df_centroid_1.index:\n",
    "    clear_output(wait=True)\n",
    "    print(i, i/len(bw_df_centroid_1.index))\n",
    "    bw_long = bw_df_centroid_1.loc[i]['Longitude']\n",
    "    bw_lat = bw_df_centroid_1.loc[i]['Latitude']\n",
    "\n",
    "    bw_loc = (bw_lat,bw_long)\n",
    "\n",
    "    cent_long = bw_df_centroid_1.loc[i].centroid.x\n",
    "    cent_lat = bw_df_centroid_1.loc[i].centroid.y\n",
    "\n",
    "    cent_loc = (cent_lat,cent_long)\n",
    "\n",
    "    dist_km = hs.haversine(cent_loc,bw_loc)\n",
    "\n",
    "    dist.append(dist_km)\n",
    "    centroid_elev.append(elevation(cent_lat,cent_long))\n",
    "    well_elev.append(elevation(bw_lat,bw_long))\n"
   ]
  },
  {
   "cell_type": "code",
   "execution_count": null,
   "metadata": {},
   "outputs": [],
   "source": [
    "bw_df_centroid_1['dist_miles'] = dist\n",
    "bw_df_centroid_1['centroid_elev'] = centroid_elev\n",
    "bw_df_centroid_1['well_elev'] = well_elev\n",
    "bw_df_centroid_1.head()"
   ]
  },
  {
   "cell_type": "code",
   "execution_count": null,
   "metadata": {},
   "outputs": [],
   "source": [
    "path = r'\\Users\\mhardika\\Documents\\AMO\\GeoToolAll_Methods\\Water Source Data\\Brackish'\n",
    "bw_df_centroid_1.to_csv(path+r'\\az_bw_lcow_dbscan.csv')"
   ]
  },
  {
   "cell_type": "code",
   "execution_count": null,
   "metadata": {},
   "outputs": [],
   "source": []
  }
 ],
 "metadata": {
  "kernelspec": {
   "display_name": "watertap3",
   "language": "python",
   "name": "python3"
  },
  "language_info": {
   "codemirror_mode": {
    "name": "ipython",
    "version": 3
   },
   "file_extension": ".py",
   "mimetype": "text/x-python",
   "name": "python",
   "nbconvert_exporter": "python",
   "pygments_lexer": "ipython3",
   "version": "3.8.8"
  },
  "orig_nbformat": 4
 },
 "nbformat": 4,
 "nbformat_minor": 2
}
