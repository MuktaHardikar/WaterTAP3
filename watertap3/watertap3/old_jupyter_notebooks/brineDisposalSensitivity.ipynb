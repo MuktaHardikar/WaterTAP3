{
 "cells": [
  {
   "attachments": {},
   "cell_type": "markdown",
   "metadata": {},
   "source": [
    "In this notebook following analysis is performed:\n",
    "1. Comparison of the different water treatment trains based on the brine disposal method. Select minimum, maximum and medium cost treatment trains\n",
    "2. Sensitivity of the LCOW of the treatment train to the treated volume for each treatment train selected in step 1\n",
    "3. Sensitivity of the LCOW of the treatment train to the distance the brine needs to be transported for disposal"
   ]
  },
  {
   "cell_type": "code",
   "execution_count": null,
   "metadata": {},
   "outputs": [],
   "source": [
    "import pandas as pd\n",
    "import numpy as np\n",
    "from watertap3.utils import watertap_setup, get_case_study, run_model \n",
    "from watertap3.utils import run_watertap3, run_model_no_print, run_and_return_model\n",
    "import pyomo.util.infeasible as infeas\n",
    "from idaes.core.util.model_statistics import *\n",
    "import matplotlib.pyplot as plt\n",
    "from truck_pipe_cost_functions import truck_costing, pipe_costing\n",
    "from watertap3.utils.post_processing import get_results_table"
   ]
  },
  {
   "attachments": {},
   "cell_type": "markdown",
   "metadata": {},
   "source": [
    "Baseline test case"
   ]
  },
  {
   "cell_type": "code",
   "execution_count": null,
   "metadata": {},
   "outputs": [],
   "source": [
    "case_study = 'kbhdp' #'big_spring'\n",
    "scenario = 'dwi' #'dwi_a'\n",
    "desired_recovery = 1\n",
    "ro_bounds = 'other' # or 'seawater'\n",
    "\n",
    "m = watertap_setup(case_study=case_study, scenario=scenario)\n",
    "m = get_case_study(m=m)\n",
    "m = run_watertap3(m, desired_recovery=desired_recovery, ro_bounds=ro_bounds)\n",
    "\n",
    "# m.fs.reverse_osmosis.membrane_area.unfix()\n",
    "# m.fs.reverse_osmosis.feed.pressure.unfix()\n",
    "\n",
    "# m.fs.big_spring_feed.flow_vol_in.fix(72037 * 6.30902e-5) #gpm to m3s\n",
    "# m.fs.big_spring_feed.conc_mass_in[0, 'tds'].fix(0.698) #kg/m3\n",
    "# m.fs.well_field.lift_height.fix(174)\n",
    "\n",
    "m.fs.ro_first_stage.membrane_area.unfix()\n",
    "m.fs.ro_second_stage.membrane_area.unfix()\n",
    "m.fs.ro_first_stage.feed.pressure.unfix()\n",
    "m.fs.ro_second_stage.feed.pressure.unfix()\n",
    "\n",
    "m.fs.kbhdp_brackish_ave.flow_vol_in.fix(72037 * 6.30902e-5/2) #gpm to m3s\n",
    "# m.fs.kbhdp_brackish_ave.conc_mass_in[0, 'tds'].fix(0.698) #kg/m3\n",
    "# m.fs.kbhdp_brackish_ave.lift_height.fix(174)\n",
    "\n",
    "m.fs.costing_param.electricity_price = 0.0652\n",
    "m = run_and_return_model(m, objective=True,print_it=True)\n",
    "m, df = get_results_table(m=m, case_study='test', scenario=scenario)    \n",
    "m.fs.costing.LCOW.value()"
   ]
  },
  {
   "cell_type": "code",
   "execution_count": null,
   "metadata": {},
   "outputs": [],
   "source": [
    "(0.03577*4.54483 + 0.18993*4.54437 + 0.19989*4.31716 + 0.033*4.1543 + 0.0127*4.15388 + 0.02448*4.15347 + 0.02742* 0.40196)/4.153"
   ]
  },
  {
   "cell_type": "code",
   "execution_count": null,
   "metadata": {},
   "outputs": [],
   "source": [
    "0.03577 + 0.18993 + 0.19989 + 0.033 + 0.0127 + 0.02448 + 0.02742"
   ]
  },
  {
   "cell_type": "code",
   "execution_count": null,
   "metadata": {},
   "outputs": [],
   "source": [
    "m.fs.deep_well_injection.LCOW()"
   ]
  },
  {
   "cell_type": "code",
   "execution_count": null,
   "metadata": {},
   "outputs": [],
   "source": [
    "m.fs.costing.capital_recovery_factor()"
   ]
  },
  {
   "attachments": {},
   "cell_type": "markdown",
   "metadata": {},
   "source": [
    "Comparison of all the brine management methods"
   ]
  },
  {
   "attachments": {},
   "cell_type": "markdown",
   "metadata": {},
   "source": [
    "Sensitivity of LCOW to volume of water being treated- baseline case"
   ]
  },
  {
   "cell_type": "code",
   "execution_count": null,
   "metadata": {},
   "outputs": [],
   "source": [
    "case_study = 'big_spring'\n",
    "scenario = 'dwi_a'\n",
    "desired_recovery = 1\n",
    "ro_bounds = 'other' # or 'seawater'\n",
    "\n",
    "m = watertap_setup(case_study=case_study, scenario=scenario)\n",
    "m = get_case_study(m=m)\n",
    "m = run_watertap3(m, desired_recovery=desired_recovery, ro_bounds=ro_bounds)\n",
    "\n",
    "m.fs.reverse_osmosis.membrane_area.unfix()\n",
    "m.fs.reverse_osmosis.feed.pressure.unfix()\n",
    "LCOWList_dwi_a = np.array([])\n",
    "flow_list = [0.075,0.5,1.5,2.25,4.5,0.075]\n",
    "for flow in flow_list:\n",
    "    print(flow)\n",
    "    m.fs.big_spring_feed.flow_vol_in.fix(flow)\n",
    "    m = run_and_return_model(m, objective=True)\n",
    "    print(m.fs.costing.LCOW.value())\n",
    "    LCOWList_dwi_a= np.concatenate((LCOWList_dwi_a,[m.fs.costing.LCOW.value()]))\n",
    "m, df = get_results_table(m=m, case_study='high_flow', scenario=scenario)      \n",
    "LCOWList_dwi_a\n",
    "dwi_a_conc_flow = m.fs.deep_well_injection.flow_vol_in[0].value\n",
    "dwi_a_total_water_recovery = m.fs.costing.system_recovery()\n",
    "dwi_a_update_basis = (1-dwi_a_total_water_recovery)/dwi_a_total_water_recovery"
   ]
  },
  {
   "cell_type": "code",
   "execution_count": null,
   "metadata": {},
   "outputs": [],
   "source": [
    "4.5*dwi_a_total_water_recovery"
   ]
  },
  {
   "cell_type": "code",
   "execution_count": null,
   "metadata": {},
   "outputs": [],
   "source": [
    "LCOWList_dwi_a"
   ]
  },
  {
   "attachments": {},
   "cell_type": "markdown",
   "metadata": {},
   "source": [
    "Sensitivity of LCOW to volume of water being treated-medium cost case"
   ]
  },
  {
   "cell_type": "code",
   "execution_count": null,
   "metadata": {},
   "outputs": [],
   "source": [
    "case_study = 'big_spring'\n",
    "scenario = 'zld_a'\n",
    "desired_recovery = 1\n",
    "ro_bounds = 'other' # or 'seawater'\n",
    "\n",
    "\n",
    "m = watertap_setup(case_study=case_study, scenario=scenario)\n",
    "m = get_case_study(m=m)\n",
    "m = run_watertap3(m, desired_recovery=desired_recovery, ro_bounds=ro_bounds)\n",
    "\n",
    "m.fs.ro_first_stage.membrane_area.unfix()\n",
    "m.fs.ro_first_stage.feed.pressure.unfix()\n",
    "m.fs.ro_second_stage.membrane_area.unfix()\n",
    "m.fs.ro_second_stage.feed.pressure.unfix()\n",
    "\n",
    "LCOWList_zld_a = np.array([])\n",
    "flow_list = [0.075,0.5,1.5,2.25,4.5]\n",
    "for flow in flow_list:\n",
    "    print(flow)\n",
    "    m.fs.big_spring_feed.flow_vol_in.fix(flow)\n",
    "    # m.fs.big_spring_feed.conc_mass_in[0, 'tds'].fix(0.698)\n",
    "    m = run_and_return_model(m, objective=True)\n",
    "    LCOWList_zld_a= np.concatenate((LCOWList_zld_a,[m.fs.costing.LCOW.value()]))\n",
    "m, df = get_results_table(m=m, case_study='high_flow', scenario=scenario)     \n",
    "LCOWList_zld_a\n",
    "zld_a_conc_flow = m.fs.landfill_zld.flow_vol_in[0].value\n",
    "zld_a_total_water_recovery = m.fs.costing.system_recovery()\n",
    "zld_a_update_basis = (1-zld_a_total_water_recovery)/zld_a_total_water_recovery"
   ]
  },
  {
   "cell_type": "markdown",
   "metadata": {},
   "source": [
    "Sensitivity of LCOW to volume of water being treated- highest cost case"
   ]
  },
  {
   "cell_type": "code",
   "execution_count": null,
   "metadata": {},
   "outputs": [],
   "source": [
    "case_study = 'big_spring'\n",
    "scenario = 'zld_c'\n",
    "desired_recovery = 1\n",
    "ro_bounds = 'other' # or 'seawater'\n",
    "\n",
    "m = watertap_setup(case_study=case_study, scenario=scenario)\n",
    "m = get_case_study(m=m)\n",
    "m = run_watertap3(m, desired_recovery=desired_recovery, ro_bounds=ro_bounds)\n",
    "\n",
    "m.fs.ro_first_stage.membrane_area.unfix()\n",
    "m.fs.ro_first_stage.feed.pressure.unfix()\n",
    "m.fs.ro_second_stage.membrane_area.unfix()\n",
    "m.fs.ro_second_stage.feed.pressure.unfix()\n",
    "\n",
    "LCOWList_zld_c = np.array([])\n",
    "flow_list = [4.5,0.5,1.5,2.25,4.5]\n",
    "for flow in flow_list:\n",
    "    print(flow)\n",
    "    m.fs.big_spring_feed.flow_vol_in.fix(flow)\n",
    "    m = run_and_return_model(m, objective=True,print_it=True)\n",
    "    LCOWList_zld_c= np.concatenate((LCOWList_zld_c,[m.fs.costing.LCOW.value()]))\n",
    "m, df = get_results_table(m=m, case_study='high_flow', scenario=scenario)     \n",
    "LCOWList_zld_c\n",
    "zld_c_conc_flow = m.fs.landfill_zld.flow_vol_in[0].value\n",
    "zld_c_total_water_recovery = m.fs.costing.system_recovery()\n",
    "zld_c_update_basis = (1-zld_c_total_water_recovery)/zld_c_total_water_recovery"
   ]
  },
  {
   "cell_type": "code",
   "execution_count": null,
   "metadata": {},
   "outputs": [],
   "source": [
    "zld_a_total_water_recovery"
   ]
  },
  {
   "attachments": {},
   "cell_type": "markdown",
   "metadata": {},
   "source": [
    "Plot LCOW sensitivity to flow for each treatment train train"
   ]
  },
  {
   "cell_type": "code",
   "execution_count": null,
   "metadata": {},
   "outputs": [],
   "source": [
    "fig, ax = plt.subplots(figsize = (7,7))\n",
    "\n",
    "ax.plot(flow_list,LCOWList_dwi_a, label = 'Deep Well Injection',linewidth = 3)\n",
    "ax.plot(flow_list,LCOWList_zld_a, label = 'Evaporator Pond',linewidth = 3)\n",
    "ax.plot(flow_list,LCOWList_zld_c, label = 'Brine Concentrator + Crystallizer',linewidth = 3)\n",
    "\n",
    "ax.set_ylabel(r'LCOW (\\$/m${^3}$)', fontsize = 20)\n",
    "ax.set_xlabel(r'Volumetric Flow Rate (m${^3}$/s)', fontsize = 20)\n",
    "ax.tick_params(axis='both', which='major', labelsize=20)\n",
    "\n",
    "ax.set_ylim([0,2])\n",
    "ax.set_xlim([0,5])\n",
    "\n",
    "ax.legend(fontsize = 16, frameon = False)"
   ]
  },
  {
   "attachments": {},
   "cell_type": "markdown",
   "metadata": {},
   "source": [
    "Transport cost as a function of mode, distance and volume"
   ]
  },
  {
   "cell_type": "code",
   "execution_count": null,
   "metadata": {},
   "outputs": [],
   "source": [
    "wacc = 0.1\n",
    "plant_lifetime_yrs = 30\n",
    "\n",
    "capital_recovery_factor = (wacc * (1 + wacc) ** plant_lifetime_yrs) / (((1 + wacc) ** plant_lifetime_yrs) - 1)\n",
    "capital_recovery_factor"
   ]
  },
  {
   "attachments": {},
   "cell_type": "markdown",
   "metadata": {},
   "source": [
    "Sensitivity check on deep well injection case with transport distance being varied:\n",
    "1. This is the baseline cost case for the AMO project- verify this?\n",
    "2. Default pipe transport cost is used"
   ]
  },
  {
   "cell_type": "code",
   "execution_count": null,
   "metadata": {},
   "outputs": [],
   "source": [
    "# Volume of concentrate in m3/s for input treatment volume 4.5 m3/s\n",
    "print(dwi_a_conc_flow)\n",
    "print(zld_a_conc_flow)\n",
    "print(zld_c_conc_flow)"
   ]
  },
  {
   "cell_type": "code",
   "execution_count": null,
   "metadata": {},
   "outputs": [],
   "source": [
    "# Calculate truck transport cost for alls cases\n",
    "transport_costs = pd.DataFrame(columns=['process','capacity','distance',\n",
    "                                        'truck_cost ($/m3 brine)','pipe_cost ($/m3 brine)',\n",
    "                                        'truck_tLCOW ($/m3 brine)','pipe_tLCOW ($/m3 brine)'])\n",
    "# print(transport_costs)\n",
    "distances = [0,10,20,50,100] # in km\n",
    "capacity = {'dwi_a':dwi_a_conc_flow*3600*24,\n",
    "            'zld_a':zld_a_conc_flow*3600*24,\n",
    "            'zld_c':zld_c_conc_flow*3600*24}  # m3/day\n",
    "\n",
    "LCOW = {'dwi_a':LCOWList_dwi_a[-1],\n",
    "        'zld_a':LCOWList_zld_a[-1],\n",
    "        'zld_c':LCOWList_zld_c[-1]}\n",
    "\n",
    "total_water_recovery = {'dwi_a':dwi_a_total_water_recovery,\n",
    "                        'zld_a':zld_a_total_water_recovery,\n",
    "                        'zld_c':zld_c_total_water_recovery}\n",
    "\n",
    "for case in ['dwi_a','zld_a','zld_c']:\n",
    "    for d in distances:\n",
    "        temp = {'process':case,\n",
    "                'capacity': capacity[case],\n",
    "                'distance':d,\n",
    "                'truck_cost ($/m3 brine)': truck_costing(d),\n",
    "                'pipe_cost ($/m3 brine)':pipe_costing(capacity[case],d),\n",
    "                'truck_tLCOW ($/m3 brine)': LCOW[case]+truck_costing(d),\n",
    "                'pipe_tLCOW ($/m3 brine)':LCOW[case]+pipe_costing(capacity[case],d)}\n",
    "        # # print(temp)\n",
    "        transport_costs=transport_costs.append(temp,ignore_index=True)\n",
    "\n",
    "print(transport_costs)"
   ]
  },
  {
   "attachments": {},
   "cell_type": "markdown",
   "metadata": {},
   "source": [
    "Treatment sensitivity to transport plots"
   ]
  },
  {
   "cell_type": "code",
   "execution_count": null,
   "metadata": {},
   "outputs": [],
   "source": [
    "# Deep well injection\n",
    "# Getting each unit process for treatment train\n",
    "df = pd.read_csv('/Users/mhardika/Documents/watertap3/WaterTAP3/watertap3/watertap3/results/case_studies/high_flow_dwi_a.csv')\n",
    "units = df['Unit Process Name'].unique() \n",
    "units = np.append(units,'Distance')\n",
    "\n",
    "data_dwi_a = pd.DataFrame( columns = units[1::])\n",
    "\n",
    "for d in distances:\n",
    "    new_row = [df[(df['Variable'] == 'Unit LCOW') ]['Value'].values]\n",
    "    new_row= np.append(new_row,d)\n",
    "    new_row = new_row.reshape((1,8))\n",
    "\n",
    "    temp = pd.DataFrame(new_row , columns = units[1::],index = ['dwi_a'] )\n",
    "    data_dwi_a= pd.concat([data_dwi_a,temp])\n",
    "\n",
    "data_dwi_a.reset_index(inplace=True)\n",
    "data_dwi_a = data_dwi_a.rename(columns={'index':'scenario'})\n",
    "print(data_dwi_a)\n"
   ]
  },
  {
   "cell_type": "code",
   "execution_count": null,
   "metadata": {},
   "outputs": [],
   "source": [
    "print(dwi_a_update_basis)\n",
    "print(zld_a_update_basis)\n",
    "print(zld_c_update_basis)"
   ]
  },
  {
   "cell_type": "code",
   "execution_count": null,
   "metadata": {},
   "outputs": [],
   "source": [
    "temp=[]\n",
    "for d in distances:\n",
    "    temp_tranport = (transport_costs.loc[transport_costs['process']=='dwi_a'].loc[transport_costs['distance']== d]['pipe_cost ($/m3 brine)'].values[0])*dwi_a_update_basis\n",
    "    temp.append(temp_tranport)\n",
    "    \n",
    "\n",
    "data_dwi_a['Transport']=temp\n",
    "data_dwi_a"
   ]
  },
  {
   "cell_type": "code",
   "execution_count": null,
   "metadata": {},
   "outputs": [],
   "source": [
    "ax = data_dwi_a[[ 'Well Field', 'Microfiltration', 'Reverse Osmosis', 'UV/AOP',\n",
    " 'Treated Storage', 'Municipal Drinking' ,'Deep Well Injection' ,'Transport','Distance']].plot.bar(x='Distance',stacked = True)\n",
    "plt.figure(figsize=(10,7))\n",
    "ax.set_ylim([0,2])\n",
    "ax.set_xticklabels([0,10,20,50,100], rotation = 0,fontsize =14)\n",
    "ax.tick_params(axis='both', which='major', labelsize=20)\n",
    "ax.set_xlabel('Distance (km)',fontsize =20)\n",
    "ax.set_ylabel(r'LCOW (\\$/m${^3}$)',fontsize =20)\n",
    "ax.legend(loc='center left', bbox_to_anchor=(1, 0.5),fontsize=16,frameon=False)\n",
    "ax.set_title('Deep Well Injection',fontsize =20)\n"
   ]
  },
  {
   "cell_type": "code",
   "execution_count": null,
   "metadata": {},
   "outputs": [],
   "source": [
    "# ZLD a\n",
    "# Getting each unit process for treatment train\n",
    "df = pd.read_csv('/Users/mhardika/Documents/watertap3/WaterTAP3/watertap3/watertap3/results/case_studies/high_flow_zld_a.csv')\n",
    "# df = pd.read_csv('/Users/mhardika/Documents/watertap3/WaterTAP3/watertap3/watertap3/results/case_studies/big_spring_zld_a.csv')\n",
    "units = df['Unit Process Name'].unique() \n",
    "units = np.append(units,'Distance')\n",
    "\n",
    "data_zld_a = pd.DataFrame( columns = units[1::])\n",
    "\n",
    "for d in distances:\n",
    "    new_row = [df[(df['Variable'] == 'Unit LCOW') ]['Value'].values]\n",
    "    new_row= np.append(new_row,d)\n",
    "    new_row = new_row.reshape((1,14))\n",
    "\n",
    "    temp = pd.DataFrame(new_row , columns = units[1::],index = ['zld_a'] )\n",
    "    data_zld_a= pd.concat([data_zld_a,temp])\n",
    "\n",
    "data_zld_a.reset_index(inplace=True)\n",
    "data_zld_a = data_zld_a.rename(columns={'index':'scenario'})\n",
    "print(data_zld_a)\n"
   ]
  },
  {
   "cell_type": "code",
   "execution_count": null,
   "metadata": {},
   "outputs": [],
   "source": [
    "temp=[]\n",
    "for d in distances:\n",
    "    temp_tranport =(transport_costs.loc[transport_costs['process']=='zld_a'].loc[transport_costs['distance']== d]['truck_cost ($/m3 brine)'].values[0])*(zld_a_update_basis)\n",
    "    temp.append(temp_tranport)\n",
    "\n",
    "data_zld_a['Transport (Truck)']=temp\n",
    "data_zld_a"
   ]
  },
  {
   "cell_type": "code",
   "execution_count": null,
   "metadata": {},
   "outputs": [],
   "source": [
    "ax = data_zld_a[[ 'Well Field', 'Microfiltration', 'RO First Stage',\n",
    "       'Passthrough', 'Ozone', 'Bio Active Filtration', 'Lime Softening',\n",
    "       'RO Second Stage', 'UV/AOP', 'Treated Storage', 'Evaporation Pond',\n",
    "       'Municipal Drinking', 'Landfill ZLD', 'Transport (Truck)','Distance']].plot.bar(x='Distance',stacked = True)\n",
    "plt.figure(figsize=(10,7))\n",
    "ax.set_ylim([0,2])\n",
    "ax.set_xticklabels([0,10,20,50,100], rotation = 0,fontsize =20)\n",
    "ax.tick_params(axis='both', which='major', labelsize=20)\n",
    "ax.set_xlabel('Distance (km)',fontsize =20)\n",
    "ax.set_ylabel(r'LCOW (\\$/m${^3}$)',fontsize = 20)\n",
    "ax.legend(loc='center left', bbox_to_anchor=(1, 0.5),fontsize=16, frameon=False)\n",
    "ax.set_title('Evaporation Pond + Landfill\\n(MLD)',fontsize=20)"
   ]
  },
  {
   "cell_type": "code",
   "execution_count": null,
   "metadata": {},
   "outputs": [],
   "source": [
    "LCOWList_zld_a[-1]+0.382709"
   ]
  },
  {
   "cell_type": "code",
   "execution_count": null,
   "metadata": {},
   "outputs": [],
   "source": [
    "# ZLD c\n",
    "# Getting each unit process for treatment train\n",
    "df = pd.read_csv('/Users/mhardika/Documents/watertap3/WaterTAP3/watertap3/watertap3/results/case_studies/high_flow_zld_c.csv')\n",
    "units = df['Unit Process Name'].unique() \n",
    "units = np.append(units,'Distance')\n",
    "\n",
    "data_zld_c = pd.DataFrame( columns = units[1::])\n",
    "\n",
    "for d in distances:\n",
    "    new_row = [df[(df['Variable'] == 'Unit LCOW') ]['Value'].values]\n",
    "    new_row= np.append(new_row,d)\n",
    "    new_row = new_row.reshape((1,15))\n",
    "\n",
    "    temp = pd.DataFrame(new_row , columns = units[1::],index = ['zld_c'] )\n",
    "    data_zld_c= pd.concat([data_zld_c,temp])\n",
    "\n",
    "data_zld_c.reset_index(inplace=True)\n",
    "data_zld_c = data_zld_c.rename(columns={'index':'scenario'})\n",
    "print(data_zld_c)\n"
   ]
  },
  {
   "cell_type": "code",
   "execution_count": null,
   "metadata": {},
   "outputs": [],
   "source": [
    "temp=[]\n",
    "for d in distances:\n",
    "    temp_tranport = (transport_costs.loc[transport_costs['process']=='zld_c'].loc[transport_costs['distance']== d]['truck_cost ($/m3 brine)'].values[0])*((zld_c_update_basis))\n",
    "    temp.append(temp_tranport)\n",
    "\n",
    "data_zld_c['Transport (Truck)']=temp\n",
    "\n",
    "data_zld_c"
   ]
  },
  {
   "cell_type": "code",
   "execution_count": null,
   "metadata": {},
   "outputs": [],
   "source": [
    "LCOWList_zld_c[-1]#+0.286637"
   ]
  },
  {
   "cell_type": "code",
   "execution_count": null,
   "metadata": {},
   "outputs": [],
   "source": [
    "units"
   ]
  },
  {
   "cell_type": "code",
   "execution_count": null,
   "metadata": {},
   "outputs": [],
   "source": [
    "ax = data_zld_c[[ 'Well Field', 'Microfiltration', 'RO First Stage',\n",
    "       'Passthrough', 'Ozone', 'Bio Active Filtration', 'Lime Softening',\n",
    "       'RO Second Stage', 'UV/AOP', 'Treated Storage', 'Brine Concentrator', 'Crystallizer', 'Municipal Drinking',\n",
    "       'Landfill ZLD', 'Transport (Truck)','Distance']].plot.bar(x='Distance',stacked = True)\n",
    "plt.figure(figsize=(10,7))\n",
    "\n",
    "ax.set_ylim([0,2])\n",
    "ax.set_xticklabels([0,10,20,50,100], rotation = 0,fontsize =20)\n",
    "ax.tick_params(axis='both', which='major', labelsize=20)\n",
    "ax.set_xlabel('Distance (km)',fontsize = 20)\n",
    "ax.set_ylabel(r'LCOW (\\$/m${^3}$)',fontsize = 20)\n",
    "ax.legend(loc='center left', bbox_to_anchor=(1, 0.5),fontsize = 16, frameon= False)\n",
    "ax.set_title('Brine Concentrator + Crystallizer + \\nLandfill (ZLD)',fontsize =20)"
   ]
  },
  {
   "attachments": {},
   "cell_type": "markdown",
   "metadata": {},
   "source": [
    "Old method here onwards. Ignore!"
   ]
  },
  {
   "cell_type": "code",
   "execution_count": null,
   "metadata": {},
   "outputs": [],
   "source": [
    "# case_study = 'big_spring'\n",
    "# scenarios = ['dwi_a_0','dwi_a_10', 'dwi_a_20','dwi_a_50','dwi_a_100']\n",
    "# desired_recovery = 1\n",
    "# ro_bounds = 'other' # or 'seawater'\n",
    "\n",
    "# LCOWList = np.array([])\n",
    "\n",
    "# for scenario in scenarios:\n",
    "#     m = watertap_setup(case_study=case_study, scenario=scenario, treatment_file_path = 'data/treatment_train_big_spring_dwi_a_sensitivity.csv')\n",
    "#     m = get_case_study(m=m)\n",
    "#     m = run_watertap3(m, desired_recovery=desired_recovery, ro_bounds=ro_bounds, treatment_file_path = 'data/treatment_train_big_spring_dwi_a_sensitivity.csv')\n",
    "#     m.fs.reverse_osmosis.membrane_area.unfix()\n",
    "#     m.fs.reverse_osmosis.feed.pressure.unfix()\n",
    "#     m = run_and_return_model(m, objective=True)\n",
    "#     LCOWList= np.concatenate((LCOWList,[scenario,m.fs.costing.LCOW.value()]))\n",
    "\n",
    "# LCOWList"
   ]
  },
  {
   "attachments": {},
   "cell_type": "markdown",
   "metadata": {},
   "source": [
    "Plotting the contribution of unit process LCOW to system LCOW as a function of distance from brine disposal site"
   ]
  },
  {
   "cell_type": "code",
   "execution_count": null,
   "metadata": {},
   "outputs": [],
   "source": [
    "# scenarios = ['dwi_a_0','dwi_a_10', 'dwi_a_20','dwi_a_50','dwi_a_100']\n",
    "\n",
    "# df = pd.read_csv('/Users/mhardika/Documents/watertap3/WaterTAP3/watertap3/watertap3/results/case_studies/big_spring_dwi_a_10.csv')\n",
    "# units = df['Unit Process Name'].unique() \n",
    "\n",
    "# data = pd.DataFrame( columns = units[1::])\n",
    "\n",
    "# for scenario in scenarios:\n",
    "#     df = pd.read_csv('/Users/mhardika/Documents/watertap3/WaterTAP3/watertap3/watertap3/results/case_studies/big_spring_' + scenario + '.csv')\n",
    "#     new_row = [df[(df['Variable'] == 'Unit LCOW') ]['Value'].values]\n",
    "#     temp = pd.DataFrame(new_row , columns = units[1::],index= [scenario] )\n",
    "\n",
    "#     data = pd.concat([data,temp])\n",
    "\n",
    "# data.reset_index(inplace=True)\n",
    "# data = data.rename(columns={'index':'scenario'})\n",
    "# print(data)\n",
    "# ax = data.plot.bar(x='scenario',stacked = True)\n",
    "# ax.set_ylim([0,2.5])\n",
    "# ax.set_xticklabels([0,10,20,50,100], rotation = 0,fontsize =14)\n",
    "# ax.tick_params(axis='both', which='major', labelsize=14)\n",
    "# ax.set_xlabel('Distance (km)',fontsize =14)\n",
    "# ax.set_ylabel('LCOW (\\$/${m^3}$)',fontsize =14)\n",
    "# ax.legend(loc='center left', bbox_to_anchor=(1, 0.5))\n",
    "# # data.sum()\n",
    "# perc_tranport = data['Deep Well Injection']/data.sum(axis=1)*100\n",
    "# perc_tranport = [\"{:.2f}\".format(x)+\"%\" for x in perc_tranport ]\n",
    "# ax.bar_label(ax.containers[-1],labels=perc_tranport,label_type ='edge',fontsize =10)\n",
    "# ax.set_title('Deep Well Injection',fontsize =14)"
   ]
  },
  {
   "attachments": {},
   "cell_type": "markdown",
   "metadata": {},
   "source": [
    "Sensitivity of the baseline condition to flow. This is to verify treating the entire volume of well yield makes sense."
   ]
  },
  {
   "cell_type": "code",
   "execution_count": null,
   "metadata": {},
   "outputs": [],
   "source": [
    "# # Using the maximum and minimum well yield\n",
    "\n",
    "# max_well_yield = 4.5448 #m3/s\n",
    "# min_well_yield = 0.010094 * 6.30902e-5 #m3/s\n",
    "# max_LCOW_list = []\n",
    "# min_LCOW_list = []\n",
    "\n",
    "# scenarios = ['25%','50%','100%','150%','200%']\n",
    "# i=0\n",
    "# for well_yield in [0.25*max_well_yield,0.5*max_well_yield,max_well_yield,1.5*max_well_yield,2*max_well_yield]:\n",
    "#     print(scenarios[i])\n",
    "#     m = watertap_setup(case_study=case_study, scenario='dwi_a')\n",
    "#     m = get_case_study(m=m)\n",
    "#     m = run_watertap3(m, desired_recovery=desired_recovery, ro_bounds=ro_bounds)\n",
    "\n",
    "#     m.fs.reverse_osmosis.membrane_area.unfix()\n",
    "#     m.fs.reverse_osmosis.feed.pressure.unfix()\n",
    "    \n",
    "#     m.fs.big_spring_feed.flow_vol_in.fix(well_yield)\n",
    "#     m.fs.big_spring_feed.conc_mass_in[0, 'tds'].fix(0.698)\n",
    "#     m.fs.well_field.lift_height.fix(174)\n",
    "\n",
    "#     m.fs.costing_param.electricity_price = 0.0652\n",
    "#     m = run_and_return_model(m, objective=True)\n",
    "#     max_LCOW_list= np.concatenate((max_LCOW_list,[scenarios[i],m.fs.costing.LCOW.value()]))\n",
    "#     i=i+1\n",
    "\n",
    "# print(max_LCOW_list)\n"
   ]
  },
  {
   "attachments": {},
   "cell_type": "markdown",
   "metadata": {},
   "source": [
    "Sensitivity check on evaporation pond and zld case with transport distance being varied:\n",
    "1. This is the midlevel cost case for the AMO project- verify this?\n",
    "2. Need to add transportation cost for solid transport?"
   ]
  },
  {
   "cell_type": "code",
   "execution_count": null,
   "metadata": {},
   "outputs": [],
   "source": [
    "# case_study = 'big_spring'\n",
    "# # scenario = 'baseline'\n",
    "# scenarios = ['zld_a_100']#,'zld_a_10', 'zld_a_20','zld_a_50','zld_a_100']\n",
    "# desired_recovery = 1\n",
    "# ro_bounds = 'other' # or 'seawater'\n",
    "\n",
    "# LCOWList = np.array([])\n",
    "\n",
    "# for scenario in scenarios:\n",
    "#     m = watertap_setup(case_study=case_study, scenario=scenario,\n",
    "#                        treatment_file_path = 'data/treatment_train_big_spring_zld_a_sensitivity.csv')\n",
    "#     m = get_case_study(m=m)\n",
    "#     m = run_watertap3(m, desired_recovery=desired_recovery, ro_bounds=ro_bounds,\n",
    "#                       treatment_file_path = 'data/treatment_train_big_spring_zld_a_sensitivity.csv')\n",
    "#     m.fs.ro_first_stage.membrane_area.unfix()\n",
    "#     m.fs.ro_first_stage.feed.pressure.unfix()\n",
    "#     m.fs.ro_second_stage.membrane_area.unfix()\n",
    "#     m.fs.ro_second_stage.feed.pressure.unfix()\n",
    "#     m = run_and_return_model(m, objective=True)\n",
    "#     LCOWList= np.concatenate((LCOWList,[scenario,m.fs.costing.LCOW.value()]))\n",
    "\n",
    "# LCOWList"
   ]
  },
  {
   "cell_type": "code",
   "execution_count": null,
   "metadata": {},
   "outputs": [],
   "source": [
    "# scenarios = ['zld_a_0','zld_a_10', 'zld_a_20','zld_a_50','zld_a_100']\n",
    "\n",
    "# df = pd.read_csv('/Users/mhardika/Documents/watertap3/WaterTAP3/watertap3/watertap3/results/case_studies/big_spring_zld_a_10.csv')\n",
    "# units = df['Unit Process Name'].unique() \n",
    "\n",
    "# data = pd.DataFrame( columns = units[1::])\n",
    "\n",
    "# for scenario in scenarios:\n",
    "#     df = pd.read_csv('/Users/mhardika/Documents/watertap3/WaterTAP3/watertap3/watertap3/results/case_studies/big_spring_' + scenario + '.csv')\n",
    "#     new_row = [df[(df['Variable'] == 'Unit LCOW') ]['Value'].values]\n",
    "#     temp = pd.DataFrame(new_row , columns = units[1::],index= [scenario] )\n",
    "\n",
    "#     data = pd.concat([data,temp])\n",
    "\n",
    "# data.reset_index(inplace=True)\n",
    "# data = data.rename(columns={'index':'scenario'})\n",
    "# print(data)\n",
    "# ax = data.plot.bar(x='scenario',stacked = True)\n",
    "# ax.set_ylim([0,2.5])\n",
    "# ax.set_xticklabels([0,10,20,50,100], rotation = 0,fontsize =14)\n",
    "# ax.tick_params(axis='both', which='major', labelsize=14)\n",
    "# ax.set_xlabel('Distance (km)',fontsize =14)\n",
    "# ax.set_ylabel('LCOW (\\$/${m^3}$)',fontsize =14)\n",
    "# ax.legend(loc='center left', bbox_to_anchor=(1, 0.5))\n",
    "\n",
    "# # data.sum()\n",
    "# perc_tranport = data['Landfill ZLD']/data.sum(axis=1)*100\n",
    "# perc_tranport = [\"{:.2f}\".format(x)+\"%\" for x in perc_tranport ]\n",
    "# ax.bar_label(ax.containers[-1],labels=perc_tranport,label_type ='edge',fontsize=10)\n",
    "# ax.set_title('Evaporation Pond + Landfill',fontsize=14)\n",
    "\n"
   ]
  },
  {
   "attachments": {},
   "cell_type": "markdown",
   "metadata": {},
   "source": [
    "Sensitivity check on crystallizer and zld case with transport distance being varied:\n",
    "1. This is the maximum cost case for the AMO project- verify this?\n",
    "2. Need to add transportation cost for solid transport?"
   ]
  },
  {
   "cell_type": "code",
   "execution_count": null,
   "metadata": {},
   "outputs": [],
   "source": [
    "# case_study = 'big_spring'\n",
    "# # scenario = 'baseline'\n",
    "# scenarios = ['zld_c_0','zld_c_10', 'zld_c_20','zld_c_50','zld_c_100']\n",
    "# desired_recovery = 1\n",
    "# ro_bounds = 'other' # or 'seawater'\n",
    "\n",
    "# LCOWList = np.array([])\n",
    "\n",
    "# for scenario in scenarios:\n",
    "#     m = watertap_setup(case_study=case_study, scenario=scenario, treatment_file_path = 'data/treatment_train_big_spring_zld_c_sensitivity.csv')\n",
    "#     m = get_case_study(m=m)\n",
    "#     m = run_watertap3(m, desired_recovery=desired_recovery, ro_bounds=ro_bounds, treatment_file_path = 'data/treatment_train_big_spring_zld_c_sensitivity.csv')\n",
    "#     m.fs.ro_first_stage.membrane_area.unfix()\n",
    "#     m.fs.ro_first_stage.feed.pressure.unfix()\n",
    "#     m.fs.ro_second_stage.membrane_area.unfix()\n",
    "#     m.fs.ro_second_stage.feed.pressure.unfix()\n",
    "#     m = run_and_return_model(m, objective=True)    \n",
    "#     LCOWList= np.concatenate((LCOWList,[scenario,m.fs.costing.LCOW.value()]))\n",
    "\n",
    "# LCOWList"
   ]
  },
  {
   "cell_type": "code",
   "execution_count": null,
   "metadata": {},
   "outputs": [],
   "source": [
    "# scenarios = ['zld_c_0','zld_c_10', 'zld_c_20','zld_c_50','zld_c_100']\n",
    "# df = pd.read_csv('/Users/mhardika/Documents/watertap3/WaterTAP3/watertap3/watertap3/results/case_studies/big_spring_zld_c_10.csv')\n",
    "# units = df['Unit Process Name'].unique() \n",
    "\n",
    "# data = pd.DataFrame( columns = units[1::])\n",
    "\n",
    "# for scenario in scenarios:\n",
    "#     df = pd.read_csv('/Users/mhardika/Documents/watertap3/WaterTAP3/watertap3/watertap3/results/case_studies/big_spring_' + scenario + '.csv')\n",
    "#     new_row = [df[(df['Variable'] == 'Unit LCOW') ]['Value'].values]\n",
    "#     temp = pd.DataFrame(new_row , columns = units[1::],index= [scenario] )\n",
    "\n",
    "#     data = pd.concat([data,temp])\n",
    "\n",
    "# data.reset_index(inplace=True)\n",
    "# data = data.rename(columns={'index':'scenario'})\n",
    "# # print(data)\n",
    "\n",
    "# # print(data.sum(axis=1))\n",
    "# # print(data['Landfill ZLD']/data.sum(axis=1)*100)\n",
    "\n",
    "\n",
    "# ax = data.plot.bar(x='scenario',stacked = True)\n",
    "# ax.set_ylim([0,2.5])\n",
    "# ax.set_xticklabels([0,10,20,50,100], rotation = 0,fontsize =14)\n",
    "# ax.tick_params(axis='both', which='major', labelsize=14)\n",
    "# ax.set_xlabel('Distance (km)',fontsize =14)\n",
    "# ax.set_ylabel('LCOW (\\$/${m^3}$)',fontsize =14)\n",
    "# ax.legend(loc='center left', bbox_to_anchor=(1, 0.5))\n",
    "\n",
    "# perc_tranport = data['Landfill ZLD']/data.sum(axis=1)*100\n",
    "\n",
    "# perc_tranport = [\"{:.2f}\".format(x)+\"%\" for x in perc_tranport ]\n",
    "# ax.bar_label(ax.containers[-1],labels=perc_tranport,label_type ='edge',fontsize =10)\n",
    "# ax.set_title('Brine Concentrator + Crystallizer + Landfill',fontsize =14)\n",
    "# # data.sum()\n",
    "\n",
    "    "
   ]
  },
  {
   "cell_type": "code",
   "execution_count": null,
   "metadata": {},
   "outputs": [],
   "source": []
  }
 ],
 "metadata": {
  "kernelspec": {
   "display_name": "watertap3",
   "language": "python",
   "name": "python3"
  },
  "language_info": {
   "codemirror_mode": {
    "name": "ipython",
    "version": 3
   },
   "file_extension": ".py",
   "mimetype": "text/x-python",
   "name": "python",
   "nbconvert_exporter": "python",
   "pygments_lexer": "ipython3",
   "version": "3.8.8"
  },
  "orig_nbformat": 4,
  "vscode": {
   "interpreter": {
    "hash": "0e4911484967c68db66f124aaaf28d8832a4495a870ddc2037cbfdbc733badcc"
   }
  }
 },
 "nbformat": 4,
 "nbformat_minor": 2
}
