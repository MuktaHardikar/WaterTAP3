{
 "cells": [
  {
   "cell_type": "code",
   "execution_count": null,
   "metadata": {},
   "outputs": [],
   "source": [
    "from sklearn.cluster import DBSCAN\n",
    "from shapely.geometry import MultiPoint,Point,Polygon\n",
    "import pandas as pd\n",
    "import geopandas as gp\n",
    "from shapely import wkt\n",
    "import numpy as np\n",
    "import matplotlib.pyplot as plt\n",
    "from watertap3.truck_pipe_cost_functions import pipe_costing\n",
    "\n",
    "from sklearn.cluster import DBSCAN\n",
    "from shapely import wkt"
   ]
  },
  {
   "cell_type": "markdown",
   "metadata": {},
   "source": [
    "1. Get location of brackish water wells\n",
    "2. Assume an epsilon range and find the centroid\n",
    "3. Calculate LCOW for cost of treatment +  transport cost (from well to centroid)\n",
    "4. Plot LCOW as a function of epsilon"
   ]
  },
  {
   "cell_type": "code",
   "execution_count": null,
   "metadata": {},
   "outputs": [],
   "source": [
    "bw_df = pd.read_csv('/Users/mhardika/Documents/AMO/GeoToolAll_Methods/Water Source Data/Brackish/brackish_sites_with_metrics_baseline_dwi_updated_costs_transport_updated_basis.csv')\n",
    "texas = gp.read_file('/Users/mhardika/Documents/AMO/GeoToolAll_Methods/GeoData/Texas Counties Map/geo_export_c05b3355-1638-4e46-b56c-ac18de751ed8.shp')\n",
    "texas = texas.to_crs(\"EPSG:4326\")"
   ]
  },
  {
   "cell_type": "code",
   "execution_count": null,
   "metadata": {},
   "outputs": [],
   "source": [
    "bw_long = bw_df[bw_df['state_alpha']=='TX']['Longitude']\n",
    "bw_lat = bw_df[bw_df['state_alpha']=='TX']['Latitude']\n",
    "\n",
    "bw_geometry = [Point(xy) for xy in zip(bw_long,bw_lat)]\n",
    "bw_geo_df = gp.GeoDataFrame(geometry = bw_geometry, crs='EPSG:4326')\n",
    "bw_geo_df.geometry = bw_geo_df.geometry.to_crs('EPSG:4326')\n",
    "bw_geo_df = bw_geo_df.assign(county_nm = bw_df[bw_df['state_alpha'] =='TX']['county_nm'].values)"
   ]
  },
  {
   "cell_type": "code",
   "execution_count": null,
   "metadata": {},
   "outputs": [],
   "source": [
    "coords = bw_df[bw_df['state_alpha']=='TX'][['Latitude', 'Longitude']].to_numpy()"
   ]
  },
  {
   "cell_type": "code",
   "execution_count": null,
   "metadata": {},
   "outputs": [],
   "source": [
    "# define the number of kilometers in one radian\n",
    "kms_per_radian = 6371.0088\n",
    "epsilon = 25/ kms_per_radian\n",
    "\n",
    "db = DBSCAN(eps=epsilon, min_samples=1, algorithm='ball_tree', metric='haversine').fit(np.radians(coords))\n",
    "cluster_labels = db.labels_\n",
    "\n",
    "# get the number of clusters\n",
    "num_clusters = len(set(cluster_labels))\n",
    "\n",
    "# turn the clusters in to a pandas series, where each element is a cluster of points\n",
    "clusters = pd.Series((coords[cluster_labels==n] for n in range(num_clusters)))\n",
    "centroids = []\n",
    "\n",
    "for ea in clusters:\n",
    "    centroids.append((MultiPoint(ea).centroid.x, MultiPoint(ea).centroid.y))\n",
    "\n",
    "centroids = np.array(centroids)\n",
    "\n",
    "print(num_clusters)"
   ]
  },
  {
   "cell_type": "code",
   "execution_count": null,
   "metadata": {},
   "outputs": [],
   "source": [
    "loc = [Point(xy) for xy in zip(centroids[:,1],centroids[:,0])]\n",
    "loc = gp.GeoDataFrame(geometry = loc, crs='EPSG:4326')\n",
    "loc.geometry = loc.geometry.to_crs('EPSG:4326')"
   ]
  },
  {
   "cell_type": "markdown",
   "metadata": {},
   "source": [
    "Add cluster labels to brackish water sites"
   ]
  },
  {
   "cell_type": "code",
   "execution_count": null,
   "metadata": {},
   "outputs": [],
   "source": [
    "bw_df_tx = bw_df[bw_df['state_alpha']=='TX']\n",
    "bw_df_tx['cluster_label'] = cluster_labels\n",
    "\n",
    "for x in range(len(bw_df_tx)):\n",
    "    centroid_list = loc.geometry[bw_df_tx.iloc[x]['cluster_label']]\n",
    "\n",
    "bw_df_tx['centroid'] = centroid_list\n",
    "\n",
    "bw_df_tx.head()"
   ]
  },
  {
   "cell_type": "code",
   "execution_count": null,
   "metadata": {},
   "outputs": [],
   "source": [
    "# Checking for duplications\n",
    "# dup = bw_df_tx[bw_df_tx.duplicated(['unique_site_ID'],keep = 'first' )]\n",
    "# dup"
   ]
  },
  {
   "cell_type": "code",
   "execution_count": null,
   "metadata": {},
   "outputs": [],
   "source": [
    "fig, (ax,ax0) = plt.subplots(1,2,figsize = (20,20))\n",
    "# states[states['NAME'] == 'Texas'].plot(ax=ax,figsize=(20, 20))\n",
    "texas.plot(ax=ax)\n",
    "bw_geo_df.plot(ax=ax, color='purple', markersize = 5,label = \"BW Sites\")\n",
    "\n",
    "texas.plot(ax=ax0)\n",
    "bw_geo_df.plot(ax=ax0, markersize = 10,edgecolors = 'black', c='purple',linewidth = 0.1, label = \"BW Sites\")\n",
    "ax0.scatter(centroids[:,1],centroids[:,0],color='black',s = 2)"
   ]
  },
  {
   "cell_type": "code",
   "execution_count": null,
   "metadata": {},
   "outputs": [],
   "source": [
    "bw_df.head()"
   ]
  },
  {
   "cell_type": "markdown",
   "metadata": {},
   "source": [
    "Brackish Water Supply Curve"
   ]
  },
  {
   "cell_type": "code",
   "execution_count": null,
   "metadata": {},
   "outputs": [],
   "source": [
    "bw_df_tx[bw_df_tx[\"cluster_label\"]==0]"
   ]
  },
  {
   "cell_type": "markdown",
   "metadata": {},
   "source": [
    "Trying to create treatment train files"
   ]
  },
  {
   "cell_type": "code",
   "execution_count": null,
   "metadata": {},
   "outputs": [],
   "source": [
    "cols = ['CaseStudy','Reference','Scenario','Unit','Type','UnitName','ToUnitName','FromPort','Parameter']\n",
    "\n",
    "train_df = pd.DataFrame(columns= cols)\n",
    "\n",
    "for"
   ]
  }
 ],
 "metadata": {
  "kernelspec": {
   "display_name": "watertap3",
   "language": "python",
   "name": "python3"
  },
  "language_info": {
   "codemirror_mode": {
    "name": "ipython",
    "version": 3
   },
   "file_extension": ".py",
   "mimetype": "text/x-python",
   "name": "python",
   "nbconvert_exporter": "python",
   "pygments_lexer": "ipython3",
   "version": "3.8.8"
  },
  "orig_nbformat": 4
 },
 "nbformat": 4,
 "nbformat_minor": 2
}
