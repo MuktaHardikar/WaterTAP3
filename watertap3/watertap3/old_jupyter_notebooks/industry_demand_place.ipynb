{
 "cells": [
  {
   "cell_type": "code",
   "execution_count": null,
   "metadata": {},
   "outputs": [],
   "source": [
    "import geopandas as gp\n",
    "import matplotlib.pyplot as plt\n",
    "from shapely.geometry import *\n",
    "import pandas as pd\n",
    "import numpy as np"
   ]
  },
  {
   "attachments": {},
   "cell_type": "markdown",
   "metadata": {},
   "source": [
    "Canada demand as a function of NAICS"
   ]
  },
  {
   "cell_type": "code",
   "execution_count": null,
   "metadata": {},
   "outputs": [],
   "source": [
    "canada_demand = pd.read_csv(r'C:\\Users\\mhardika\\Documents\\AMO\\GeoToolAll_Methods\\Water Source Data\\Industrial\\canada_demand_naics.csv')\n",
    "state_demand = pd.read_csv(r'C:\\Users\\mhardika\\Documents\\AMO\\GeoToolAll_Methods\\Water Source Data\\Industrial\\water_demand_by_state.csv')\n",
    "county_demand = pd.read_csv(r'C:\\Users\\mhardika\\Documents\\AMO\\GeoToolAll_Methods\\Water Source Data\\Industrial\\USGS_industrial_metric.csv')"
   ]
  },
  {
   "cell_type": "markdown",
   "metadata": {},
   "source": [
    "USA : water demand as a function of NAICS"
   ]
  },
  {
   "cell_type": "code",
   "execution_count": null,
   "metadata": {},
   "outputs": [],
   "source": [
    "# Canada data is in million cubic meter\n",
    "canada_total = canada_demand['annual_demand'].sum()\n",
    "usa_total = state_demand['IN-WFrTo'].sum()\n",
    "# print(usa_total/1e6)\n",
    "# print(canada_total)\n",
    "\n",
    "naics_fraction = canada_demand['fraction']\n",
    "state_list = state_demand['state']\n",
    "county_list = county_demand['COUNTY']\n",
    "naics_list = canada_demand['naics']\n",
    "\n",
    "usa_naics_fraction_df = pd.DataFrame(columns = ['naics','fraction','water_demand (m3/yr)'])\n",
    "usa_naics_fraction = naics_fraction*usa_total\n",
    "usa_naics_fraction_df['naics'] = naics_list\n",
    "usa_naics_fraction_df['fraction'] = naics_fraction\n",
    "usa_naics_fraction_df['water_demand (m3/yr)'] = usa_naics_fraction\n",
    "usa_naics_fraction_df"
   ]
  },
  {
   "attachments": {},
   "cell_type": "markdown",
   "metadata": {},
   "source": [
    "Creating table for demand data based on Canada data"
   ]
  },
  {
   "cell_type": "code",
   "execution_count": null,
   "metadata": {},
   "outputs": [],
   "source": [
    "columns = ['state','county','naics', 'state_demand (m3/yr)', 'county_demand (m3/yr)','naics_fraction','naics_demand (m3/yr)']\n",
    "demand_table = pd.DataFrame(columns = columns)\n",
    "for state in ['CO']:\n",
    "    county_list = county_demand[county_demand['STATE']==state]['COUNTY']\n",
    "    for county in county_list:\n",
    "        for naics in naics_list:\n",
    "            temp = {\n",
    "                'state':state,\n",
    "                'county':county,\n",
    "                'naics':naics,\n",
    "                'state_demand (m3/yr)': state_demand[state_demand['state']==state]['IN-WFrTo'].values[0],\n",
    "                'county_demand (m3/yr)': county_demand[(county_demand['STATE']==state) & (county_demand['COUNTY']==county)]['IN-WFrTo'].values[0],\n",
    "                'naics_fraction': canada_demand[canada_demand['naics']==naics]['fraction'].values[0],\n",
    "                'naics_demand (m3/yr)': 0,\n",
    "            }\n",
    "\n",
    "            temp = pd.DataFrame([temp])\n",
    "            demand_table= pd.concat([demand_table,temp])\n",
    "            demand_table.reset_index()\n",
    "# temp\n",
    "demand_table\n"
   ]
  },
  {
   "attachments": {},
   "cell_type": "markdown",
   "metadata": {},
   "source": [
    "Creating table format for final place and demand data"
   ]
  },
  {
   "cell_type": "code",
   "execution_count": null,
   "metadata": {},
   "outputs": [],
   "source": [
    "columns = ['state','county','location','naics','employee count','capacity_fraction','water demand (m3/yr)']\n",
    "industry_demand = pd.DataFrame(columns=columns)"
   ]
  },
  {
   "attachments": {},
   "cell_type": "markdown",
   "metadata": {},
   "source": [
    "Reading industry location file"
   ]
  },
  {
   "cell_type": "code",
   "execution_count": null,
   "metadata": {},
   "outputs": [],
   "source": [
    "df = gp.read_file('/Users/mhardika/Documents/AMO/GeoToolAll_Methods/Water Source Data/Industrial/General_Manufacturing_Facilities/General_Manufacturing_Facilities.shp')\n",
    "# df = df.to_crs(\"EPSG:4326\")\n",
    "# # fig, ax = plt.subplots()\n",
    "# # df.plot(ax=ax,figsize=(50, 50))"
   ]
  },
  {
   "cell_type": "code",
   "execution_count": null,
   "metadata": {},
   "outputs": [],
   "source": [
    "# Drop rows with none in the index\n",
    "df = df.dropna()\n",
    "df_state = df.set_index('STATE')\n",
    "df_state.index.unique()"
   ]
  },
  {
   "cell_type": "code",
   "execution_count": null,
   "metadata": {},
   "outputs": [],
   "source": [
    "# Drop non-contiguous states\n",
    "contiguous_usa = ('AL','AZ','AR','CA','CO','CT','DE','FL','GA','ID','IL','IN','IA','KS','KY','LA','ME','MD','MA','MI','MN','MS','MO','MT','NE',\n",
    "                  'NV','NH','NJ','NM','NY','NC','ND','OH','OK','OR','PA','RI','SC','SD','TN','TX','UT','VT','VA','WA','WV','WI','WY','DC')\n",
    "\n",
    "for state in df_state.index.unique():\n",
    "    if state in contiguous_usa:\n",
    "        pass\n",
    "    else:\n",
    "        df_state.drop(index=state,inplace=True) \n",
    "df_state = df_state.reset_index()"
   ]
  },
  {
   "cell_type": "code",
   "execution_count": null,
   "metadata": {},
   "outputs": [],
   "source": [
    "df_state['geometry'].crs"
   ]
  },
  {
   "cell_type": "code",
   "execution_count": null,
   "metadata": {},
   "outputs": [],
   "source": [
    "industry_demand['state'] = df_state['STATE']\n",
    "industry_demand['county'] = [county.capitalize() + ' County' for county in df_state['COUNTY']]\n",
    "industry_demand['location'] = df_state['geometry']\n",
    "industry_demand['naics'] = df_state['NAICS'].astype(str).str[:3]\n",
    "industry_demand['employee count']=df_state['EMP']\n",
    "industry_demand['capacity_fraction']=0\n",
    "industry_demand[industry_demand['state']=='AZ'].head()"
   ]
  },
  {
   "cell_type": "code",
   "execution_count": null,
   "metadata": {},
   "outputs": [],
   "source": [
    "# Drop rows where naics is outside the values below\n",
    "naics_list = (311,312,313,314,321,322,324,325,326,327,331,332,333,334,335,336,339)\n",
    "industry_demand_naics = industry_demand.set_index('naics')\n",
    "for code in industry_demand_naics.index.unique():\n",
    "    if code == 'N/A':\n",
    "        industry_demand_naics.drop(index=code,inplace=True)\n",
    "    elif int(code) in naics_list:\n",
    "        pass\n",
    "    else:\n",
    "        industry_demand_naics.drop(index=code,inplace=True) \n",
    "industry_demand_naics = industry_demand_naics.reset_index()\n",
    "industry_demand_naics\n"
   ]
  },
  {
   "cell_type": "code",
   "execution_count": null,
   "metadata": {},
   "outputs": [],
   "source": [
    "industry_demand_naics[industry_demand_naics['county']=='Apache County']"
   ]
  },
  {
   "cell_type": "markdown",
   "metadata": {},
   "source": [
    "Calculating water demand using capacity fraction and water demand across USA for a specific NAICS"
   ]
  },
  {
   "cell_type": "code",
   "execution_count": null,
   "metadata": {},
   "outputs": [],
   "source": [
    "for code in industry_demand_naics['naics'].unique():\n",
    "    industry_demand_naics.loc[industry_demand_naics.naics == code, 'capacity_fraction'] = industry_demand_naics[industry_demand_naics['naics']==code]['employee count']/sum(industry_demand_naics[industry_demand_naics['naics']==code]['employee count'])\n",
    "    industry_demand_naics.loc[industry_demand_naics.naics == code, 'water demand (m3/yr)'] =  industry_demand_naics[industry_demand_naics['naics']==code]['capacity_fraction']*usa_naics_fraction_df[usa_naics_fraction_df['naics']==int(code)]['water_demand (m3/yr)'].values[0]\n",
    "\n",
    "industry_demand_naics"
   ]
  },
  {
   "cell_type": "markdown",
   "metadata": {},
   "source": [
    "Comparison of calculated county level water demand vs USGS"
   ]
  },
  {
   "cell_type": "code",
   "execution_count": null,
   "metadata": {},
   "outputs": [],
   "source": [
    "county_demand_calc = sum\n",
    "\n",
    "county_demand_calc = pd.DataFrame(columns = ['county','demand'])\n",
    "county_list = county_demand[county_demand['STATE']=='CO']['COUNTY']\n",
    "\n",
    "for county in county_list:\n",
    "    temp = {'county': county,\n",
    "            'demand':industry_demand_naics[industry_demand_naics['county']==county]['water demand (m3/yr)'].sum()}\n",
    "\n",
    "    temp = pd.DataFrame([temp])\n",
    "    county_demand_calc= pd.concat([county_demand_calc,temp])\n",
    "\n",
    "county_demand_calc.reset_index()\n",
    "county_demand_calc= county_demand_calc.sort_values(by=['county'])"
   ]
  },
  {
   "cell_type": "code",
   "execution_count": null,
   "metadata": {},
   "outputs": [],
   "source": [
    "county_demand_calc"
   ]
  },
  {
   "cell_type": "code",
   "execution_count": null,
   "metadata": {},
   "outputs": [],
   "source": [
    "demand_table_sample = demand_table[demand_table['state']=='CO'].groupby('county').first()\n",
    "demand_table_sample"
   ]
  },
  {
   "cell_type": "code",
   "execution_count": null,
   "metadata": {},
   "outputs": [],
   "source": [
    "fig,ax = plt.subplots(figsize=(25,10))\n",
    "x = np.array(range(0,len(county_list)))\n",
    "\n",
    "ax.bar(x-0.125, county_demand_calc['demand'], width = 0.25,label='Calculated')\n",
    "ax.bar(x+0.125, demand_table_sample.sort_values(by=['county'])['county_demand (m3/yr)'], width = 0.25, label = 'County level Census')\n",
    "ax.legend()\n",
    "\n",
    "ax.set_xticks(range(0,len(county_list)),county_list,rotation = 90)\n",
    "\n",
    "frac = sum( county_demand_calc['demand'])/sum(demand_table_sample['county_demand (m3/yr)'])\n",
    "print(frac*100)"
   ]
  },
  {
   "cell_type": "code",
   "execution_count": null,
   "metadata": {},
   "outputs": [],
   "source": [
    "# Add county wise and NAICS wise capacity fraction\n",
    "\n",
    "for state in ['AZ']:#state_list:\n",
    "    county_list = county_demand[county_demand['STATE']==state]['COUNTY']\n",
    "    industry_demand.loc[industry_demand.state == state,'state demand (m3/yr)'] = demand_table[(demand_table['state']==state)]['state_demand (m3/yr)'].unique()[0]\n",
    "    for county in county_list:\n",
    "        frac = industry_demand[(industry_demand['state']==state) & (industry_demand['county']==county)]['employee count']/sum(industry_demand[(industry_demand['state']==state) & (industry_demand['county']==county)]['employee count'])\n",
    "        industry_demand.loc[(industry_demand.state == state) & (industry_demand.county == county) ,'capacity_fraction'] = frac      \n",
    "        industry_demand.loc[(industry_demand.state == state) & (industry_demand.county == county) ,'county demand (m3/yr)'] = demand_table[(demand_table['state']==state) & (demand_table['county']==county)]['county_demand (m3/yr)'].unique()[0]\n",
    "\n",
    "\n",
    "industry_demand['water demand (m3/yr)'] = industry_demand['capacity_fraction']*industry_demand['county demand (m3/yr)']\n",
    "industry_demand[industry_demand.state == 'AZ'].head()"
   ]
  },
  {
   "cell_type": "code",
   "execution_count": null,
   "metadata": {},
   "outputs": [],
   "source": [
    "industry_demand.capacity_fraction.max"
   ]
  },
  {
   "cell_type": "code",
   "execution_count": null,
   "metadata": {},
   "outputs": [],
   "source": [
    "us_counties = gp.read_file(r'\\Users\\mhardika\\Documents\\AMO\\GeoToolAll_Methods\\GeoData\\US_County_Boundaries\\US_CountyBndrys.shp')\n",
    "us_counties = us_counties.to_crs(\"EPSG:4326\")"
   ]
  },
  {
   "cell_type": "code",
   "execution_count": null,
   "metadata": {},
   "outputs": [],
   "source": [
    "centroids_all = gp.GeoDataFrame(geometry=industry_demand_naics[industry_demand_naics['state']=='CO'].location)\n",
    "point = centroids_all.dissolve().centroid\n",
    "point = point.to_crs(\"EPSG:4326\")"
   ]
  },
  {
   "cell_type": "code",
   "execution_count": null,
   "metadata": {},
   "outputs": [],
   "source": [
    "point"
   ]
  },
  {
   "cell_type": "code",
   "execution_count": null,
   "metadata": {},
   "outputs": [],
   "source": [
    "state_code = '08'\n",
    "state = us_counties.loc[us_counties['STATEFP']==state_code]\n",
    "\n",
    "fig, (ax) = plt.subplots(figsize=(5,5))\n",
    "\n",
    "# All places\n",
    "state.plot(ax=ax,figsize=(50, 50),facecolor ='none',edgecolor ='black')\n",
    "centroids = gp.GeoSeries(industry_demand_naics[industry_demand_naics['state']=='CO'].location)\n",
    "centroids = centroids.to_crs(\"EPSG:4326\")\n",
    "centroids.plot(ax=ax)\n",
    "point.plot(ax=ax)"
   ]
  },
  {
   "cell_type": "markdown",
   "metadata": {},
   "source": [
    "Attempting clustering of industries for Colorado->Writing to file Colorado data"
   ]
  },
  {
   "cell_type": "code",
   "execution_count": null,
   "metadata": {},
   "outputs": [],
   "source": [
    "industry_demand_naics[industry_demand_naics['state']=='CO'].to_csv(r'\\Users\\mhardika\\Documents\\AMO\\GeoToolAll_Methods\\Water Source Data\\Industrial\\co_location_data.csv')"
   ]
  },
  {
   "cell_type": "code",
   "execution_count": null,
   "metadata": {},
   "outputs": [],
   "source": [
    "industry_demand_naics[industry_demand_naics['state']=='CO'].location.values[0].crs()"
   ]
  },
  {
   "cell_type": "code",
   "execution_count": null,
   "metadata": {},
   "outputs": [],
   "source": []
  }
 ],
 "metadata": {
  "kernelspec": {
   "display_name": "watertap3",
   "language": "python",
   "name": "python3"
  },
  "language_info": {
   "codemirror_mode": {
    "name": "ipython",
    "version": 3
   },
   "file_extension": ".py",
   "mimetype": "text/x-python",
   "name": "python",
   "nbconvert_exporter": "python",
   "pygments_lexer": "ipython3",
   "version": "3.8.8"
  },
  "orig_nbformat": 4
 },
 "nbformat": 4,
 "nbformat_minor": 2
}
