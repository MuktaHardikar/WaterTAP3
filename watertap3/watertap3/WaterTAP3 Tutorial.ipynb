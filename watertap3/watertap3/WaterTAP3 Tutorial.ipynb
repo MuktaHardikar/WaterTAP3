{
 "cells": [
  {
   "cell_type": "markdown",
   "id": "94943cbb",
   "metadata": {},
   "source": [
    "# Running WaterTAP3 - Tutorial\n",
    "\n",
    "Full installation instructions for WaterTAP3 are avaiable in the model documentation. This tutorial assumes that you have done the following:\n",
    "1. Cloned the repo: \n",
    "    * ```git clone https://github.com/NREL/WaterTAP3```\n",
    "<br>\n",
    "2. Created and activated the ```watertap3``` environment:\n",
    "    * ```conda env create --file watertap3.yml```\n",
    "    * ```conda activate watertap3```\n",
    "<br>\n",
    "3. Installed IDAES extensions:\n",
    "    * ```idaes get-extensions``` \n",
    "<br>\n",
    "4. Installed ```watertap3``` an editable package: \n",
    "    * ```python –m pip install –e .```\n",
    "\n"
   ]
  },
  {
   "cell_type": "markdown",
   "id": "4cbdcf05",
   "metadata": {},
   "source": [
    "### 1. Navigate to correct directory\n",
    "\n",
    "In order to run WaterTAP3, you must be in the watertap3 directory that contains ```__init__.py```. This notebook is in the correct directory on the GitHub repo; if you haven't moved it, then you are already in the correct directory."
   ]
  },
  {
   "cell_type": "code",
   "execution_count": null,
   "id": "59f59e9c",
   "metadata": {},
   "outputs": [],
   "source": [
    "# %cd /path_to_watertap3"
   ]
  },
  {
   "cell_type": "markdown",
   "id": "1b3e98be",
   "metadata": {},
   "source": [
    "### 2. Import necessary packages"
   ]
  },
  {
   "cell_type": "code",
   "execution_count": null,
   "id": "c7fb5036",
   "metadata": {},
   "outputs": [],
   "source": [
    "from watertap3.utils import watertap_setup, get_case_study, run_model, run_watertap3\n",
    "import pandas as pd\n",
    "import numpy as np"
   ]
  },
  {
   "cell_type": "markdown",
   "id": "c6e42a22",
   "metadata": {},
   "source": [
    "### 3. Enter case study information\n",
    "\n",
    "For running a treatment train from the input sheet (```treatment_train_setup.csv```) enter the following information in this cell:\n",
    "\n",
    "1. ```case_study```: name of case study to be run\n",
    "2. ```scenario```: scenario for case study to be run \n",
    "3. ```desired_recovery```: default is 1 (for desired recovery of 100%), can be any number between 0-1\n",
    "3. ```ro_bounds```: default is 'seawater', any other value will give brackish bounds\n"
   ]
  },
  {
   "cell_type": "code",
   "execution_count": null,
   "id": "5c1b8e67",
   "metadata": {},
   "outputs": [],
   "source": [
    "case_study = 'carlsbad'\n",
    "scenario = 'baseline'\n",
    "desired_recovery = 0.5\n",
    "ro_bounds = 'seawater' # or other"
   ]
  },
  {
   "cell_type": "markdown",
   "id": "7646ab2e",
   "metadata": {},
   "source": [
    "### 4. Setup WaterTAP3 Model"
   ]
  },
  {
   "cell_type": "code",
   "execution_count": null,
   "id": "00852b12",
   "metadata": {},
   "outputs": [],
   "source": [
    "m = watertap_setup(case_study=case_study, scenario=scenario)\n",
    "m = get_case_study(m=m)\n"
   ]
  },
  {
   "cell_type": "markdown",
   "id": "6bc75fe2",
   "metadata": {},
   "source": [
    "### 5. Run WaterTAP3"
   ]
  },
  {
   "cell_type": "code",
   "execution_count": null,
   "id": "0b952cc7",
   "metadata": {},
   "outputs": [],
   "source": [
    "m = run_watertap3(m, desired_recovery=desired_recovery, ro_bounds=ro_bounds)"
   ]
  },
  {
   "cell_type": "code",
   "execution_count": null,
   "id": "7204647c",
   "metadata": {},
   "outputs": [],
   "source": [
    "m.fs.display()"
   ]
  }
 ],
 "metadata": {
  "kernelspec": {
   "display_name": "Python 3",
   "language": "python",
   "name": "python3"
  },
  "language_info": {
   "codemirror_mode": {
    "name": "ipython",
    "version": 3
   },
   "file_extension": ".py",
   "mimetype": "text/x-python",
   "name": "python",
   "nbconvert_exporter": "python",
   "pygments_lexer": "ipython3",
   "version": "3.8.8"
  }
 },
 "nbformat": 4,
 "nbformat_minor": 5
}
