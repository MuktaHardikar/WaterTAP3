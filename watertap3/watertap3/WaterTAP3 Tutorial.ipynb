{
 "cells": [
  {
   "cell_type": "markdown",
   "id": "bf527c0b",
   "metadata": {},
   "source": [
    "# Running WaterTAP3 - Tutorial\n",
    "\n",
    "Full installation instructions for WaterTAP3 are avaiable in the model documentation. This tutorial assumes that you have done the following:\n",
    "1. Cloned the repo: \n",
    "    * ```git clone https://github.com/NREL/NAWI-WaterTAP3```\n",
    "\n",
    "\n",
    "2. Installed ```watertap3``` an editable package: \n",
    "    * ```python –m pip install –e .```\n",
    "\n",
    "\n",
    "3. Created and activated the ```watertap3``` environment:\n",
    "    * ```conda env create --file watertap3.yml```\n",
    "    * ```conda activate watertap3```\n",
    "\n"
   ]
  },
  {
   "cell_type": "markdown",
   "id": "989cc1c7",
   "metadata": {},
   "source": [
    "### 1. Navigate to correct directory\n",
    "\n",
    "In order to run WaterTAP3, you must be in the watertap3 directory that contains ```__init__.py```. This notebook is in the correct directory on the GitHub repo; if you haven't moved it, then you are already in the correct directory."
   ]
  },
  {
   "cell_type": "code",
   "execution_count": null,
   "id": "21f2a6d7",
   "metadata": {},
   "outputs": [],
   "source": [
    "# %cd /path_to_watertap3"
   ]
  },
  {
   "cell_type": "markdown",
   "id": "e12ed162",
   "metadata": {},
   "source": [
    "### 2. Import necessary packages"
   ]
  },
  {
   "cell_type": "code",
   "execution_count": null,
   "id": "3bd3fc84",
   "metadata": {},
   "outputs": [],
   "source": [
    "from watertap3.utils import watertap_setup, get_case_study, run_water_tap, run_water_tap_ro, show_train2, get_fixed_onm_reduction, run_sensitivity, run_sensitivity_power, get_results_table\n",
    "import pandas as pd\n",
    "import numpy as np"
   ]
  },
  {
   "cell_type": "markdown",
   "id": "579ad37e",
   "metadata": {},
   "source": [
    "### 3. Enter case study information\n",
    "\n",
    "For running a treatment train from the input sheet (```treatment_train_setup.xlsx```) enter the following information in this cell:\n",
    "\n",
    "1. ```case_study```: name of case study to be run (Column A)\n",
    "2. ```scenario```: scenario for case study to be run (Column B)\n",
    "3. ```desired_recovery```: default is 1 (for desired recovery of 100%), can be any number between 0-1\n"
   ]
  },
  {
   "cell_type": "code",
   "execution_count": null,
   "id": "9af02b70",
   "metadata": {},
   "outputs": [],
   "source": [
    "case_study = 'ocwd'\n",
    "scenario = 'baseline'\n",
    "desired_recovery = 0.77"
   ]
  },
  {
   "cell_type": "markdown",
   "id": "90cd76b7",
   "metadata": {},
   "source": [
    "### 4. Setup WaterTAP3 Model"
   ]
  },
  {
   "cell_type": "code",
   "execution_count": null,
   "id": "641a5214",
   "metadata": {},
   "outputs": [],
   "source": [
    "m = watertap_setup(case_study=case_study, scenario=scenario)\n",
    "m = get_case_study(m=m)"
   ]
  },
  {
   "cell_type": "markdown",
   "id": "63a1633e",
   "metadata": {},
   "source": [
    "### 5. Run WaterTAP3"
   ]
  },
  {
   "cell_type": "code",
   "execution_count": null,
   "id": "69aa0e5e",
   "metadata": {},
   "outputs": [],
   "source": [
    "m = run_water_tap_ro(m, desired_recovery=desired_recovery, scenario_name=scenario)"
   ]
  }
 ],
 "metadata": {
  "kernelspec": {
   "display_name": "Python 3",
   "language": "python",
   "name": "python3"
  },
  "language_info": {
   "codemirror_mode": {
    "name": "ipython",
    "version": 3
   },
   "file_extension": ".py",
   "mimetype": "text/x-python",
   "name": "python",
   "nbconvert_exporter": "python",
   "pygments_lexer": "ipython3",
   "version": "3.8.8"
  }
 },
 "nbformat": 4,
 "nbformat_minor": 5
}
