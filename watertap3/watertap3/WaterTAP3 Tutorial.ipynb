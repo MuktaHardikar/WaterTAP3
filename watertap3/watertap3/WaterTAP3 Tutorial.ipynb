{
 "cells": [
  {
   "cell_type": "markdown",
   "id": "67859cd2",
   "metadata": {},
   "source": [
    "# Running WaterTAP3 - Tutorial\n",
    "\n",
    "Full installation instructions for WaterTAP3 are avaiable in the model documentation. This tutorial assumes that you have done the following:\n",
    "1. Cloned the repo: \n",
    "    * ```git clone https://github.com/NREL/NAWI-WaterTAP3```\n",
    "\n",
    "\n",
    "2. Installed ```watertap3``` an editable package: \n",
    "    * ```python –m pip install –e .```\n",
    "\n",
    "\n",
    "3. Created and activated the ```watertap3``` environment:\n",
    "    * ```conda env create --file watertap3.yml```\n",
    "    * ```conda activate watertap3```\n",
    "\n"
   ]
  },
  {
   "cell_type": "markdown",
   "id": "6e125a3f",
   "metadata": {},
   "source": [
    "### 1. Navigate to correct directory\n",
    "\n",
    "In order to run WaterTAP3, you must be in the watertap3 directory that contains ```__init__.py```. This notebook is in the correct directory on the GitHub repo; if you haven't moved it, then you are already in the correct directory."
   ]
  },
  {
   "cell_type": "code",
   "execution_count": null,
   "id": "26fdb377",
   "metadata": {},
   "outputs": [],
   "source": [
    "# %cd /path_to_watertap3"
   ]
  },
  {
   "cell_type": "markdown",
   "id": "932d89e2",
   "metadata": {},
   "source": [
    "### 2. Import necessary packages"
   ]
  },
  {
   "cell_type": "code",
   "execution_count": null,
   "id": "40d1c6aa",
   "metadata": {},
   "outputs": [],
   "source": [
    "from watertap3.utils import watertap_setup, get_case_study, run_model, run_watertap3, show_train2, get_fixed_onm_reduction, run_sensitivity, run_sensitivity_power, get_results_table\n",
    "import pandas as pd\n",
    "import numpy as np"
   ]
  },
  {
   "cell_type": "markdown",
   "id": "3b77b53c",
   "metadata": {},
   "source": [
    "### 3. Enter case study information\n",
    "\n",
    "For running a treatment train from the input sheet (```treatment_train_setup.xlsx```) enter the following information in this cell:\n",
    "\n",
    "1. ```case_study```: name of case study to be run (Column A)\n",
    "2. ```scenario```: scenario for case study to be run (Column B)\n",
    "3. ```desired_recovery```: default is 1 (for desired recovery of 100%), can be any number between 0-1\n",
    "3. ```ro_bounds```: default is 'seawater', any other value will give brackish bounds\n"
   ]
  },
  {
   "cell_type": "code",
   "execution_count": null,
   "id": "277e3af5",
   "metadata": {},
   "outputs": [],
   "source": [
    "case_study = 'carlsbad'\n",
    "scenario = 'baseline'\n",
    "desired_recovery = 0.5\n",
    "ro_bounds = 'seawater' # or other"
   ]
  },
  {
   "cell_type": "markdown",
   "id": "d71dfc5f",
   "metadata": {},
   "source": [
    "### 4. Setup WaterTAP3 Model"
   ]
  },
  {
   "cell_type": "code",
   "execution_count": null,
   "id": "1c3720d8",
   "metadata": {},
   "outputs": [],
   "source": [
    "m = watertap_setup(case_study=case_study, scenario=scenario)\n",
    "m = get_case_study(m=m)\n"
   ]
  },
  {
   "cell_type": "markdown",
   "id": "30253175",
   "metadata": {},
   "source": [
    "### 5. Run WaterTAP3"
   ]
  },
  {
   "cell_type": "code",
   "execution_count": null,
   "id": "f3cafb6e",
   "metadata": {},
   "outputs": [],
   "source": [
    "m = run_watertap3(m, desired_recovery=desired_recovery, ro_bounds=ro_bounds)"
   ]
  },
  {
   "cell_type": "code",
   "execution_count": null,
   "id": "59ead1c1",
   "metadata": {},
   "outputs": [],
   "source": [
    "m.fs.display()"
   ]
  }
 ],
 "metadata": {
  "kernelspec": {
   "display_name": "Python 3",
   "language": "python",
   "name": "python3"
  },
  "language_info": {
   "codemirror_mode": {
    "name": "ipython",
    "version": 3
   },
   "file_extension": ".py",
   "mimetype": "text/x-python",
   "name": "python",
   "nbconvert_exporter": "python",
   "pygments_lexer": "ipython3",
   "version": "3.8.8"
  }
 },
 "nbformat": 4,
 "nbformat_minor": 5
}
