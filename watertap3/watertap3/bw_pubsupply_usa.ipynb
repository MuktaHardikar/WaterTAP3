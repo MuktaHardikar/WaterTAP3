{
 "cells": [
  {
   "cell_type": "code",
   "execution_count": 1,
   "metadata": {},
   "outputs": [],
   "source": [
    "import matplotlib.pyplot as plt\n",
    "import pandas as pd\n",
    "import haversine as hs\n",
    "import geopandas as gp\n",
    "from shapely.geometry import Point, Polygon\n",
    "import numpy as np\n",
    "\n",
    "from pyomo.environ import Var, Expression, NonNegativeReals, Block, ConcreteModel, Constraint, Objective, Param, maximize, SolverFactory,RangeSet\n",
    "import pyomo.environ as pyo\n",
    "from idaes.core import FlowsheetBlock\n",
    "from pyomo.environ import Block, Expression, units as pyunits\n",
    "import math\n",
    "from watertap3.utils import watertap_setup, get_case_study, run_model \n",
    "from watertap3.utils import run_watertap3, run_model_no_print, run_and_return_model\n",
    "from truck_pipe_cost_functions import truck_costing, pipe_costing\n",
    "from bw_lcow_functions import *"
   ]
  },
  {
   "cell_type": "code",
   "execution_count": null,
   "metadata": {},
   "outputs": [],
   "source": [
    "# Import files\n",
    "bw_df = pd.read_csv('/Users/mhardika/Documents/AMO/GeoToolAll_Methods/Water Source Data/Brackish/brackish_sites_baseline_dwi_5Feb23.csv')\n",
    "place_elev_db = "
   ]
  },
  {
   "cell_type": "code",
   "execution_count": null,
   "metadata": {},
   "outputs": [],
   "source": []
  },
  {
   "cell_type": "code",
   "execution_count": null,
   "metadata": {},
   "outputs": [],
   "source": [
    "# Block to run multiple states at the same time"
   ]
  }
 ],
 "metadata": {
  "kernelspec": {
   "display_name": "watertap3",
   "language": "python",
   "name": "python3"
  },
  "language_info": {
   "codemirror_mode": {
    "name": "ipython",
    "version": 3
   },
   "file_extension": ".py",
   "mimetype": "text/x-python",
   "name": "python",
   "nbconvert_exporter": "python",
   "pygments_lexer": "ipython3",
   "version": "3.8.8"
  }
 },
 "nbformat": 4,
 "nbformat_minor": 2
}
