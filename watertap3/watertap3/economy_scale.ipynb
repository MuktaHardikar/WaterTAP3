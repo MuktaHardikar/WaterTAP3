{
 "cells": [
  {
   "cell_type": "code",
   "execution_count": 1,
   "metadata": {},
   "outputs": [],
   "source": [
    "import pandas as pd\n",
    "import numpy as np\n",
    "import matplotlib.pyplot as plt"
   ]
  },
  {
   "cell_type": "code",
   "execution_count": 16,
   "metadata": {},
   "outputs": [],
   "source": [
    "state_alpha = 'WI'"
   ]
  },
  {
   "cell_type": "code",
   "execution_count": 43,
   "metadata": {},
   "outputs": [],
   "source": [
    "# Read the lcow file and the cluster lcow file\n",
    "\n",
    "# Brackish water USGS files\n",
    "bw_df = pd.read_csv('/Users/mhardika/Documents/AMO/GeoToolAll_Methods/Water Source Data/Brackish/brackish_sites_with_metrics_baseline_dwi_updated_costs_transport_updated_basis_1.csv')\n",
    "PATH = r'\\Users\\mhardika\\Documents\\AMO\\GeoToolAll_Methods\\Water Source Data\\Brackish\\clustering_results\\\\' + state_alpha\n",
    "\n",
    "cluster_df = pd.read_csv(PATH + '\\\\' + state_alpha.lower()+'_cluster.csv').drop(['Unnamed: 0'],axis=1)"
   ]
  },
  {
   "cell_type": "code",
   "execution_count": 71,
   "metadata": {},
   "outputs": [
    {
     "name": "stdout",
     "output_type": "stream",
     "text": [
      "0\n",
      "1\n",
      "2\n",
      "[1.2607108868670962, 0.9626606274710839, 0.9450945891170182]\n"
     ]
    }
   ],
   "source": [
    "# Get individual well treatment lcow\n",
    "treatment_lcow = []\n",
    "well_field_yield = []\n",
    "well_field_lcow = []\n",
    "brine_lcow = []\n",
    "treatment_lcow_no_clustering = []\n",
    "\n",
    "# Iterate through each cluster and subcluster. Create list of well unique id\n",
    "for cluster in cluster_df.cluster_id.unique():\n",
    "    temp_df = cluster_df[cluster_df['cluster_id']==cluster]\n",
    "    print(cluster)\n",
    "    for well_id in str(temp_df['unique_site_ID'].values[0]).split(',')[0:5]:\n",
    "        # print(well_id)\n",
    "        # print(bw_df[bw_df['unique_site_ID']==well_id]['treatment_lcow'].values[0])\n",
    "        treatment_lcow.append(bw_df[bw_df['unique_site_ID']==well_id]['treatment_lcow'].values[0])\n",
    "        well_field_yield.append(bw_df[bw_df['unique_site_ID']==well_id]['well_yield'].values[0])\n",
    "        well_field_lcow.append(bw_df[bw_df['unique_site_ID']==well_id]['well_field_lcow'].values[0])\n",
    "\n",
    "    treatment_lcow_no_clustering.append(np.average(treatment_lcow, weights=well_field_yield))\n",
    "# Get well field lcow, treatment lcow and brine disposal lcow for each cluster\n",
    "print(treatment_lcow_no_clustering)"
   ]
  },
  {
   "cell_type": "code",
   "execution_count": null,
   "metadata": {},
   "outputs": [],
   "source": [
    "fig, ax = plt.subplots()\n",
    "\n",
    "ax.bar()"
   ]
  }
 ],
 "metadata": {
  "kernelspec": {
   "display_name": "watertap3",
   "language": "python",
   "name": "python3"
  },
  "language_info": {
   "codemirror_mode": {
    "name": "ipython",
    "version": 3
   },
   "file_extension": ".py",
   "mimetype": "text/x-python",
   "name": "python",
   "nbconvert_exporter": "python",
   "pygments_lexer": "ipython3",
   "version": "3.8.8"
  }
 },
 "nbformat": 4,
 "nbformat_minor": 2
}
