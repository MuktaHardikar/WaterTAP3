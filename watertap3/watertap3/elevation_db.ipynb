{
 "cells": [
  {
   "cell_type": "code",
   "execution_count": 2,
   "metadata": {},
   "outputs": [],
   "source": [
    "from watertap3.truck_pipe_cost_functions import elevation\n",
    "import pandas as pd\n",
    "import numpy as np\n",
    "from shapely import wkt"
   ]
  },
  {
   "cell_type": "code",
   "execution_count": 2,
   "metadata": {},
   "outputs": [],
   "source": [
    "# Read brackish well file\n",
    "bw_df = pd.read_csv('/Users/mhardika/Documents/AMO/GeoToolAll_Methods/Water Source Data/Brackish/brackish_sites_baseline_dwi_5Feb23.csv')"
   ]
  },
  {
   "cell_type": "code",
   "execution_count": 159,
   "metadata": {},
   "outputs": [
    {
     "data": {
      "text/html": [
       "<div>\n",
       "<style scoped>\n",
       "    .dataframe tbody tr th:only-of-type {\n",
       "        vertical-align: middle;\n",
       "    }\n",
       "\n",
       "    .dataframe tbody tr th {\n",
       "        vertical-align: top;\n",
       "    }\n",
       "\n",
       "    .dataframe thead th {\n",
       "        text-align: right;\n",
       "    }\n",
       "</style>\n",
       "<table border=\"1\" class=\"dataframe\">\n",
       "  <thead>\n",
       "    <tr style=\"text-align: right;\">\n",
       "      <th></th>\n",
       "      <th>unique_site_ID</th>\n",
       "      <th>elevation_m</th>\n",
       "    </tr>\n",
       "  </thead>\n",
       "  <tbody>\n",
       "    <tr>\n",
       "      <th>0</th>\n",
       "      <td>USGS-411808106464001</td>\n",
       "      <td>2174.280029</td>\n",
       "    </tr>\n",
       "    <tr>\n",
       "      <th>1</th>\n",
       "      <td>USGS-412227106512501</td>\n",
       "      <td>2169.820068</td>\n",
       "    </tr>\n",
       "    <tr>\n",
       "      <th>2</th>\n",
       "      <td>USGS-414716107135101</td>\n",
       "      <td>2055.769775</td>\n",
       "    </tr>\n",
       "    <tr>\n",
       "      <th>3</th>\n",
       "      <td>USGS-414950111013001</td>\n",
       "      <td>1900.570068</td>\n",
       "    </tr>\n",
       "    <tr>\n",
       "      <th>4</th>\n",
       "      <td>USGS-415150110495501</td>\n",
       "      <td>2034.609985</td>\n",
       "    </tr>\n",
       "  </tbody>\n",
       "</table>\n",
       "</div>"
      ],
      "text/plain": [
       "         unique_site_ID  elevation_m\n",
       "0  USGS-411808106464001  2174.280029\n",
       "1  USGS-412227106512501  2169.820068\n",
       "2  USGS-414716107135101  2055.769775\n",
       "3  USGS-414950111013001  1900.570068\n",
       "4  USGS-415150110495501  2034.609985"
      ]
     },
     "execution_count": 159,
     "metadata": {},
     "output_type": "execute_result"
    }
   ],
   "source": [
    "# Select state\n",
    "state_alpha = 'WY'\n",
    "state_elev= pd.DataFrame(columns=['unique_site_ID','elevation_m'])\n",
    "bw_state_df = bw_df[bw_df['state_alpha'] == state_alpha].copy()\n",
    "\n",
    "well_id_list = []\n",
    "elev_list = []\n",
    "\n",
    "for idx, row in bw_state_df.iterrows():\n",
    "    well_id_list.append(row['unique_site_ID'])\n",
    "    bw_long = row['Longitude']\n",
    "    bw_lat = row['Latitude']\n",
    "  \n",
    "    elev_list.append(elevation(bw_lat,bw_long))\n",
    "    # elev_list.append(0)\n",
    "\n",
    "state_elev['unique_site_ID']= well_id_list\n",
    "state_elev['elevation_m']= elev_list\n",
    "\n",
    "state_elev.head(5)"
   ]
  },
  {
   "cell_type": "code",
   "execution_count": 160,
   "metadata": {},
   "outputs": [],
   "source": [
    "PATH = r'\\Users\\mhardika\\Documents\\AMO\\GeoToolAll_Methods\\Water Source Data\\Brackish\\elevation_data\\\\'\n",
    "state_elev.to_csv(PATH + '\\\\' + state_alpha.lower()+'.csv')    "
   ]
  },
  {
   "cell_type": "code",
   "execution_count": 161,
   "metadata": {},
   "outputs": [],
   "source": [
    "# PATH = r'\\Users\\mhardika\\Documents\\AMO\\GeoToolAll_Methods\\Water Source Data\\Brackish\\elevation_data\\\\'\n",
    "# elev_db = pd.read_csv(PATH + '\\\\' + state_alpha.lower()+'.csv', index_col = 0)\n",
    "# elev_db = elev_db.set_index('unique_site_ID')"
   ]
  },
  {
   "cell_type": "code",
   "execution_count": 162,
   "metadata": {},
   "outputs": [],
   "source": [
    "# elev_db.head(5)"
   ]
  },
  {
   "cell_type": "code",
   "execution_count": 3,
   "metadata": {},
   "outputs": [],
   "source": [
    "# Power plant elevation data base\n",
    "pp_combined_df = pd.read_csv(r'\\Users\\mhardika\\Documents\\AMO\\Analysis Data Files\\Power\\power_plant_combined_demand.csv')"
   ]
  },
  {
   "cell_type": "code",
   "execution_count": 5,
   "metadata": {},
   "outputs": [
    {
     "data": {
      "text/html": [
       "<div>\n",
       "<style scoped>\n",
       "    .dataframe tbody tr th:only-of-type {\n",
       "        vertical-align: middle;\n",
       "    }\n",
       "\n",
       "    .dataframe tbody tr th {\n",
       "        vertical-align: top;\n",
       "    }\n",
       "\n",
       "    .dataframe thead th {\n",
       "        text-align: right;\n",
       "    }\n",
       "</style>\n",
       "<table border=\"1\" class=\"dataframe\">\n",
       "  <thead>\n",
       "    <tr style=\"text-align: right;\">\n",
       "      <th></th>\n",
       "      <th>PlantCode</th>\n",
       "      <th>elevation_m</th>\n",
       "    </tr>\n",
       "  </thead>\n",
       "  <tbody>\n",
       "    <tr>\n",
       "      <th>0</th>\n",
       "      <td>3</td>\n",
       "      <td>6.572838</td>\n",
       "    </tr>\n",
       "    <tr>\n",
       "      <th>1</th>\n",
       "      <td>7</td>\n",
       "      <td>161.260391</td>\n",
       "    </tr>\n",
       "    <tr>\n",
       "      <th>2</th>\n",
       "      <td>10</td>\n",
       "      <td>31.777483</td>\n",
       "    </tr>\n",
       "    <tr>\n",
       "      <th>3</th>\n",
       "      <td>26</td>\n",
       "      <td>128.900803</td>\n",
       "    </tr>\n",
       "    <tr>\n",
       "      <th>4</th>\n",
       "      <td>46</td>\n",
       "      <td>178.413254</td>\n",
       "    </tr>\n",
       "  </tbody>\n",
       "</table>\n",
       "</div>"
      ],
      "text/plain": [
       "   PlantCode  elevation_m\n",
       "0          3     6.572838\n",
       "1          7   161.260391\n",
       "2         10    31.777483\n",
       "3         26   128.900803\n",
       "4         46   178.413254"
      ]
     },
     "execution_count": 5,
     "metadata": {},
     "output_type": "execute_result"
    }
   ],
   "source": [
    "pp_elev= pd.DataFrame(columns=['PlantCode','elevation_m'])\n",
    "\n",
    "plantcode_list = []\n",
    "elev_list = []\n",
    "\n",
    "for idx, row in pp_combined_df.iterrows():\n",
    "    plantcode_list.append(row['PlantCode'])\n",
    "    pp_long = row['PPLongitude']\n",
    "    pp_lat = row['PPLatitude']\n",
    "  \n",
    "    elev_list.append(elevation(pp_lat,pp_long))\n",
    "    # elev_list.append(0)\n",
    "\n",
    "pp_elev['PlantCode']= plantcode_list\n",
    "pp_elev['elevation_m']= elev_list\n",
    "\n",
    "pp_elev.head(5)\n"
   ]
  },
  {
   "cell_type": "code",
   "execution_count": 6,
   "metadata": {},
   "outputs": [],
   "source": [
    "# pp_elev.to_csv(\"/Users/mhardika/Documents/AMO/GeoToolAll_Methods/Water Source Data/Power/pp_elevation_data.csv\")"
   ]
  },
  {
   "cell_type": "code",
   "execution_count": 6,
   "metadata": {},
   "outputs": [],
   "source": [
    "pp_elev = pd.read_csv(\"/Users/mhardika/Documents/AMO/GeoToolAll_Methods/Water Source Data/Power/pp_elevation_data.csv\", index_col = 0)\n",
    "pp_elev = pp_elev.set_index('PlantCode')"
   ]
  },
  {
   "cell_type": "code",
   "execution_count": 5,
   "metadata": {},
   "outputs": [
    {
     "data": {
      "text/html": [
       "<div>\n",
       "<style scoped>\n",
       "    .dataframe tbody tr th:only-of-type {\n",
       "        vertical-align: middle;\n",
       "    }\n",
       "\n",
       "    .dataframe tbody tr th {\n",
       "        vertical-align: top;\n",
       "    }\n",
       "\n",
       "    .dataframe thead th {\n",
       "        text-align: right;\n",
       "    }\n",
       "</style>\n",
       "<table border=\"1\" class=\"dataframe\">\n",
       "  <thead>\n",
       "    <tr style=\"text-align: right;\">\n",
       "      <th></th>\n",
       "      <th>Unnamed: 0</th>\n",
       "      <th>state_alpha</th>\n",
       "      <th>state_code</th>\n",
       "      <th>place</th>\n",
       "      <th>place_code</th>\n",
       "      <th>county</th>\n",
       "      <th>county_code</th>\n",
       "      <th>place_pop</th>\n",
       "      <th>county_pop_frac</th>\n",
       "      <th>county_water_demand (m3/yr)</th>\n",
       "      <th>place_water_demand (m3/yr)</th>\n",
       "      <th>polygon</th>\n",
       "      <th>centroid</th>\n",
       "    </tr>\n",
       "  </thead>\n",
       "  <tbody>\n",
       "    <tr>\n",
       "      <th>0</th>\n",
       "      <td>0</td>\n",
       "      <td>AL</td>\n",
       "      <td>1</td>\n",
       "      <td>Autaugaville town</td>\n",
       "      <td>3220</td>\n",
       "      <td>Autauga County</td>\n",
       "      <td>1</td>\n",
       "      <td>795.0</td>\n",
       "      <td>0.023107</td>\n",
       "      <td>5029299.093</td>\n",
       "      <td>116214.238804</td>\n",
       "      <td>POLYGON ((-86.68870699999999 32.447597, -86.68...</td>\n",
       "      <td>POINT (-86.6578554757818 32.43204619882899)</td>\n",
       "    </tr>\n",
       "    <tr>\n",
       "      <th>1</th>\n",
       "      <td>0</td>\n",
       "      <td>AL</td>\n",
       "      <td>1</td>\n",
       "      <td>Billingsley town</td>\n",
       "      <td>6460</td>\n",
       "      <td>Autauga County</td>\n",
       "      <td>1</td>\n",
       "      <td>125.0</td>\n",
       "      <td>0.003633</td>\n",
       "      <td>5029299.093</td>\n",
       "      <td>18272.679057</td>\n",
       "      <td>POLYGON ((-86.725319 32.659948, -86.7238799999...</td>\n",
       "      <td>POINT (-86.70866523504226 32.66099111585174)</td>\n",
       "    </tr>\n",
       "  </tbody>\n",
       "</table>\n",
       "</div>"
      ],
      "text/plain": [
       "   Unnamed: 0 state_alpha  state_code              place  place_code  \\\n",
       "0           0          AL           1  Autaugaville town        3220   \n",
       "1           0          AL           1   Billingsley town        6460   \n",
       "\n",
       "           county  county_code  place_pop  county_pop_frac  \\\n",
       "0  Autauga County            1      795.0         0.023107   \n",
       "1  Autauga County            1      125.0         0.003633   \n",
       "\n",
       "   county_water_demand (m3/yr)  place_water_demand (m3/yr)  \\\n",
       "0                  5029299.093               116214.238804   \n",
       "1                  5029299.093                18272.679057   \n",
       "\n",
       "                                             polygon  \\\n",
       "0  POLYGON ((-86.68870699999999 32.447597, -86.68...   \n",
       "1  POLYGON ((-86.725319 32.659948, -86.7238799999...   \n",
       "\n",
       "                                       centroid  \n",
       "0   POINT (-86.6578554757818 32.43204619882899)  \n",
       "1  POINT (-86.70866523504226 32.66099111585174)  "
      ]
     },
     "execution_count": 5,
     "metadata": {},
     "output_type": "execute_result"
    }
   ],
   "source": [
    "pubsupply_demand_state.head(2)"
   ]
  },
  {
   "cell_type": "code",
   "execution_count": 11,
   "metadata": {},
   "outputs": [
    {
     "data": {
      "text/html": [
       "<div>\n",
       "<style scoped>\n",
       "    .dataframe tbody tr th:only-of-type {\n",
       "        vertical-align: middle;\n",
       "    }\n",
       "\n",
       "    .dataframe tbody tr th {\n",
       "        vertical-align: top;\n",
       "    }\n",
       "\n",
       "    .dataframe thead th {\n",
       "        text-align: right;\n",
       "    }\n",
       "</style>\n",
       "<table border=\"1\" class=\"dataframe\">\n",
       "  <thead>\n",
       "    <tr style=\"text-align: right;\">\n",
       "      <th></th>\n",
       "      <th>place_code</th>\n",
       "      <th>elevation_m</th>\n",
       "    </tr>\n",
       "  </thead>\n",
       "  <tbody>\n",
       "    <tr>\n",
       "      <th>0</th>\n",
       "      <td>370</td>\n",
       "      <td>447.266602</td>\n",
       "    </tr>\n",
       "    <tr>\n",
       "      <th>1</th>\n",
       "      <td>8425</td>\n",
       "      <td>380.796112</td>\n",
       "    </tr>\n",
       "    <tr>\n",
       "      <th>2</th>\n",
       "      <td>11395</td>\n",
       "      <td>390.168396</td>\n",
       "    </tr>\n",
       "    <tr>\n",
       "      <th>3</th>\n",
       "      <td>28290</td>\n",
       "      <td>411.238647</td>\n",
       "    </tr>\n",
       "    <tr>\n",
       "      <th>4</th>\n",
       "      <td>32790</td>\n",
       "      <td>418.674255</td>\n",
       "    </tr>\n",
       "  </tbody>\n",
       "</table>\n",
       "</div>"
      ],
      "text/plain": [
       "   place_code  elevation_m\n",
       "0         370   447.266602\n",
       "1        8425   380.796112\n",
       "2       11395   390.168396\n",
       "3       28290   411.238647\n",
       "4       32790   418.674255"
      ]
     },
     "execution_count": 11,
     "metadata": {},
     "output_type": "execute_result"
    }
   ],
   "source": [
    "# Elevation for places in public supply demand files\n",
    "pubsupply_elev = pd.DataFrame()\n",
    "place_list = []\n",
    "elev_list = []\n",
    "state_codes = ['AL','AZ','AR','CA','CO','CT','FL','GA','ID','IL'\n",
    "               'IN','IA','KS','KY','LA','MD','MI','MN','MS','MO',\n",
    "               'MA','MT','NE','NV','NJ','NM','NY','NC','ND','OH',\n",
    "               'NH','OK','OR','PA','SC','SD','TX','UT','VA','WA',\n",
    "               'TN','WV','WI','WY']\n",
    "\n",
    "# for state_alpha in contiguous_usa:\n",
    "for state_alpha in ['IA']:\n",
    "    PATH = r'\\Users\\mhardika\\Documents\\AMO\\Analysis Data Files\\Public Supply\\state wise demand\\\\' + state_alpha\n",
    "    pubsupply_demand_state = pd.read_csv(PATH + '\\\\' + state_alpha.lower()+'_pubsupply_demand_df.csv')\n",
    "    pubsupply_demand_state['centroid'] = pubsupply_demand_state['centroid'].apply(wkt.loads)\n",
    "    for idx,row in pubsupply_demand_state.iterrows():\n",
    "        place_list.append(row['place_code'])\n",
    "        ps_long = row['centroid'].x\n",
    "        ps_lat = row['centroid'].y\n",
    "\n",
    "        elev_list.append(elevation(ps_lat,ps_long))\n",
    "    # elev_list.append(0)\n",
    "\n",
    "    pubsupply_elev['place_code']= place_list\n",
    "    pubsupply_elev['elevation_m']= elev_list\n",
    "\n",
    "    pubsupply_elev.to_csv(PATH + '\\\\' + state_alpha.lower()+'_pubsupply_elevation_data.csv')\n",
    "\n",
    "pubsupply_elev.head(5)\n"
   ]
  },
  {
   "cell_type": "code",
   "execution_count": 22,
   "metadata": {},
   "outputs": [],
   "source": [
    "\n"
   ]
  }
 ],
 "metadata": {
  "kernelspec": {
   "display_name": "watertap3",
   "language": "python",
   "name": "python3"
  },
  "language_info": {
   "codemirror_mode": {
    "name": "ipython",
    "version": 3
   },
   "file_extension": ".py",
   "mimetype": "text/x-python",
   "name": "python",
   "nbconvert_exporter": "python",
   "pygments_lexer": "ipython3",
   "version": "3.8.8"
  }
 },
 "nbformat": 4,
 "nbformat_minor": 2
}
