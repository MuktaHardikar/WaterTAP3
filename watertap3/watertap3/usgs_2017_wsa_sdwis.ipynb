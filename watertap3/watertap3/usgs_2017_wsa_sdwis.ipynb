{
 "cells": [
  {
   "cell_type": "code",
   "execution_count": 106,
   "metadata": {},
   "outputs": [],
   "source": [
    "import numpy as np\n",
    "import pandas as pd\n",
    "import geopandas as gp\n",
    "import matplotlib.pyplot as plt\n",
    "from shapely.geometry import Point\n",
    "from shapely.geometry.polygon import Polygon"
   ]
  },
  {
   "cell_type": "code",
   "execution_count": 107,
   "metadata": {},
   "outputs": [],
   "source": [
    "# df_latest has sdwis data for all 4 quarters and drops duplicates\n",
    "sdwis = pd.read_csv(r'C:\\Users\\mhardika\\Documents\\AMO\\2050\\analysis_files_2024\\df_latest.csv',low_memory=False)\n",
    "usgs_gu_wwsa = gp.read_file(r'C:\\Users\\mhardika\\Documents\\AMO\\2050\\analysis_files_2024\\V1_GU_wWS\\v1_GU_wWS.shp')\n",
    "usgs_gu_wwsa_df = pd.DataFrame(usgs_gu_wwsa.drop(columns='geometry'))\n",
    "# usgs_gu_wwsa_df.to_csv(r'C:\\Users\\mhardika\\Documents\\AMO\\2050\\analysis_files_2024\\usgs_gu_wwsa_df.csv')\n",
    "# Machine learning model output for domestic demand per capita\n",
    "dpc_2020 = pd.read_csv(r'C:\\Users\\mhardika\\Documents\\AMO\\2050\\analysis_files_2024\\delivery_water_use_model\\predictions\\national_dpc_predictions.csv')\n",
    "dpc_2020 = dpc_2020.loc[dpc_2020['year']==2020].copy()\n",
    "# Filtered for Treatment and include Facility Activity = Activity/Inactive\n",
    "sdwis_nofilter = pd.read_csv(r'C:\\Users\\mhardika\\Documents\\AMO\\2050\\analysis_files_2024\\SDWIS.csv',low_memory=False)\n",
    "sdwis_facilities_nofilter = pd.read_csv(r'C:\\Users\\mhardika\\Documents\\AMO\\2050\\analysis_files_2024\\2020_WT_Facilities_Details.csv',low_memory=False)"
   ]
  },
  {
   "cell_type": "code",
   "execution_count": 111,
   "metadata": {},
   "outputs": [],
   "source": [
    "# Drop rows with duplicate PWS ID, Facility ID and treatment unit\n",
    "sdwis_filtered = sdwis[['PWS ID','Facility Id','PWS Name', 'Population Served Count', 'Activity Status', 'Facility Activity', 'Primary Source', 'PWS Type','Treatment Process','Treatment Objective']].drop_duplicates(subset = ['PWS ID','Facility Id','Treatment Process'])\n",
    "# Filter for Facility activity = Active\n",
    "# sdwis_filtered = sdwis_filtered[sdwis_filtered['Facility Activity']=='Active']\n",
    "# Filter for where population served is 0\n",
    "# sdwis_filtered = sdwis_filtered[sdwis_filtered['Population Served Count']>0]\n",
    "# Remove rows without an treatment process listed\n",
    "sdwis_filtered = sdwis_filtered.dropna(subset=['Treatment Process'])\n",
    "# Remove PWS ID and Facility with only 1 treatment process\n",
    "sdwis_filtered = sdwis_filtered.groupby(['PWS ID','Facility Id']).filter(lambda x: len(x['Treatment Process'])>1).reset_index()\n",
    "\n",
    "# usgs_gu_wwsa_df  = usgs_gu_wwsa_df[usgs_gu_wwsa_df['GU_POP']>0]\n",
    "\n",
    "# Make the wsa string with 9 characters\n",
    "updated_column_list = []\n",
    "avg_dpc = []\n",
    "\n",
    "for idx,row in dpc_2020.iterrows():\n",
    "    try:\n",
    "        a = int(row['wsa_agidf'])\n",
    "        # print(f'{a:09d}')\n",
    "        updated_column_list.append(str(f'{a:09d}'))\n",
    "        # updated_column_list.append(row['wsa_agidf'])\n",
    "    except:\n",
    "        updated_column_list.append(row['wsa_agidf'].upper())\n",
    "\n",
    "    avg_dpc.append(row.iloc[5::].mean())\n",
    "\n",
    "dpc_2020['wsa_agidf'] = updated_column_list\n",
    "dpc_2020['avg_dpc'] = avg_dpc"
   ]
  },
  {
   "cell_type": "markdown",
   "metadata": {},
   "source": [
    "SDWIS is only active treatment facilities\n",
    "\n",
    "USGS GUs are based on places- Has assigned PWS IDs and Seller PWS IDs and WSA IDs\n",
    "\n",
    "DPC has WSA IDs assigned"
   ]
  },
  {
   "cell_type": "code",
   "execution_count": 112,
   "metadata": {},
   "outputs": [
    {
     "name": "stdout",
     "output_type": "stream",
     "text": [
      "Unique PWS_ID in SDWIS filtered (df_latest): 21354\n",
      "Unique PWS_ID in SDWIS no filter: 39067\n",
      "Unique PWS_ID in SDWIS facilities no filter: 425282\n",
      "\n",
      "USGS\n",
      "Total USGS GU-wWS rows: 27159\n",
      "Unique PWS_ID in USGS: 21429\n",
      "Unique SELLER PWS_ID in USGS: 1706\n",
      "Total unique PWS IDs (with/without seller): 22252\n",
      "Unique WSA_AGIDF in USGS: 18807\n",
      "USGS DPC data: 18807\n"
     ]
    }
   ],
   "source": [
    "# Get unique PWS IDs\n",
    "sdwis_pws_ids = sdwis_filtered['PWS ID'].unique()\n",
    "sdwis_no_filter_pws_ids = sdwis_nofilter['PWS ID'].unique()\n",
    "sdwis_facilities_nofilter_pws_ids = sdwis_facilities_nofilter['PWS ID'].unique()\n",
    "\n",
    "usgs_pws_ids = usgs_gu_wwsa_df['PWS_ID'].unique()\n",
    "usgs_seller_pws_ids = usgs_gu_wwsa_df['SELLER_PWS'].dropna().unique()\n",
    "common_pws_ids = np.unique(np.concatenate([usgs_seller_pws_ids,usgs_pws_ids]))\n",
    "usgs_wsa_ids = usgs_gu_wwsa_df['WSA_AGIDF'].unique()\n",
    "dpc_wsa_ids = dpc_2020['wsa_agidf'].unique()\n",
    "\n",
    "print('Unique PWS_ID in SDWIS filtered (df_latest):', len(sdwis_pws_ids))\n",
    "print('Unique PWS_ID in SDWIS no filter:', len(sdwis_no_filter_pws_ids))\n",
    "print('Unique PWS_ID in SDWIS facilities no filter:', len(sdwis_facilities_nofilter_pws_ids))\n",
    "\n",
    "print('\\nUSGS')\n",
    "print('Total USGS GU-wWS rows:',len(usgs_gu_wwsa_df))\n",
    "print('Unique PWS_ID in USGS:', len(usgs_pws_ids))\n",
    "print('Unique SELLER PWS_ID in USGS:', len(usgs_seller_pws_ids))\n",
    "print('Total unique PWS IDs (with/without seller):', len(common_pws_ids))\n",
    "print('Unique WSA_AGIDF in USGS:', len(usgs_wsa_ids))\n",
    "print('USGS DPC data:', len(dpc_wsa_ids))"
   ]
  },
  {
   "cell_type": "code",
   "execution_count": 91,
   "metadata": {},
   "outputs": [
    {
     "name": "stdout",
     "output_type": "stream",
     "text": [
      "In GU_wWs  dataset but not DPC: ['CO0118006', 'CA3610057', 'CO0203002']\n",
      "In DPC dataset but not GU_wWs: ['CA2010009', 'CA3310018', 'CA3310025']\n"
     ]
    }
   ],
   "source": [
    "# Check in the 1 facility not in common between the USGS DPC dataset and the USGS WSA dataset\n",
    "res_usgs_wsa_ids = [i for i in usgs_wsa_ids if i not in dpc_wsa_ids]\n",
    "res_dpc = [i for i in dpc_wsa_ids if i not in usgs_wsa_ids]\n",
    "\n",
    "print('In GU_wWs  dataset but not DPC:', res_usgs_wsa_ids)\n",
    "print('In DPC dataset but not GU_wWs:', res_dpc)"
   ]
  },
  {
   "cell_type": "code",
   "execution_count": 78,
   "metadata": {},
   "outputs": [],
   "source": [
    "# Trying to check if USGS WSA data set PWS IDs can be mapped to SDWIS df_latest dataset\n",
    "\n",
    "# usgs_check = usgs_gu_wwsa_df[['GU_ID','PLACE_FIPS','PLACE_NAME','CNTY_NM', 'STATE_NAME','PWS_ID','SELLER_PWS','WSA_AGIDF']]\n",
    "\n",
    "# # Check if the PWS ID or Seller PWS ID is in the SDWIS dataset\n",
    "# check_list = []\n",
    "# pws_check_list = []\n",
    "\n",
    "# for idx,row in usgs_check.iterrows():\n",
    "#     if row['SELLER_PWS'] in sdwis_pws_ids:\n",
    "#         check_list.append('Yes')\n",
    "#         pws_check_list.append(row['SELLER_PWS'])\n",
    "#     elif row['PWS_ID'] in sdwis_pws_ids:\n",
    "#         check_list.append('Yes')\n",
    "#         pws_check_list.append(row['PWS_ID'])\n",
    "#     elif row['WSA_AGIDF'] in sdwis_pws_ids:\n",
    "#         check_list.append('Yes')\n",
    "#         pws_check_list.append(row['WSA_AGIDF'])\n",
    "#     else:\n",
    "#         check_list.append('No')\n",
    "#         pws_check_list.append(row['WSA_AGIDF'])\n",
    "\n",
    "# usgs_check['pws_check'] = pws_check_list\n",
    "# usgs_check['In SDWIS'] = check_list\n",
    "\n",
    "# print('Number of facilities mapped to SDWIS df_latest:', len(usgs_check[usgs_check['In SDWIS']=='Yes']))\n",
    "# print('Number of unique PWS IDs:',len(usgs_check['pws_check'].unique()))"
   ]
  },
  {
   "cell_type": "code",
   "execution_count": 92,
   "metadata": {},
   "outputs": [
    {
     "name": "stdout",
     "output_type": "stream",
     "text": [
      "Number of facilities mapped to SDWIS no filter: 25101\n",
      "Number of unique PWS IDs: 19026\n"
     ]
    },
    {
     "name": "stderr",
     "output_type": "stream",
     "text": [
      "C:\\Users\\mhardika\\AppData\\Local\\Temp\\1\\ipykernel_18116\\1319586421.py:24: SettingWithCopyWarning: \n",
      "A value is trying to be set on a copy of a slice from a DataFrame.\n",
      "Try using .loc[row_indexer,col_indexer] = value instead\n",
      "\n",
      "See the caveats in the documentation: https://pandas.pydata.org/pandas-docs/stable/user_guide/indexing.html#returning-a-view-versus-a-copy\n",
      "  usgs_check['pws_check'] = pws_check_list\n",
      "C:\\Users\\mhardika\\AppData\\Local\\Temp\\1\\ipykernel_18116\\1319586421.py:25: SettingWithCopyWarning: \n",
      "A value is trying to be set on a copy of a slice from a DataFrame.\n",
      "Try using .loc[row_indexer,col_indexer] = value instead\n",
      "\n",
      "See the caveats in the documentation: https://pandas.pydata.org/pandas-docs/stable/user_guide/indexing.html#returning-a-view-versus-a-copy\n",
      "  usgs_check['In SDWIS'] = check_list\n"
     ]
    }
   ],
   "source": [
    "# Trying to check if USGS WSA data set PWS IDs can be mapped to SDWIS No filter dataset\n",
    "\n",
    "usgs_check = usgs_gu_wwsa_df[['GU_ID','STATE_NAME','CNTY_NM','PLACE_FIPS','PLACE_NAME',\n",
    "                              'GU_POP','WTR_TYPE_E','PWS_ID','SELLER_PWS','WSA_AGIDF']]\n",
    "\n",
    "# Check if the PWS ID or Seller PWS ID is in the SDWIS dataset\n",
    "check_list = []\n",
    "pws_check_list = []\n",
    "\n",
    "for idx,row in usgs_check.iterrows():\n",
    "    if row['SELLER_PWS'] in sdwis_no_filter_pws_ids:\n",
    "        check_list.append('Yes')\n",
    "        pws_check_list.append(row['SELLER_PWS'])\n",
    "    elif row['PWS_ID'] in sdwis_no_filter_pws_ids:\n",
    "        check_list.append('Yes')\n",
    "        pws_check_list.append(row['PWS_ID'])\n",
    "    elif row['WSA_AGIDF'] in sdwis_no_filter_pws_ids:\n",
    "        check_list.append('Yes')\n",
    "        pws_check_list.append(row['WSA_AGIDF'])\n",
    "    else:\n",
    "        check_list.append('No')\n",
    "        pws_check_list.append(row['WSA_AGIDF'])\n",
    "\n",
    "usgs_check['pws_check'] = pws_check_list\n",
    "usgs_check['In SDWIS'] = check_list\n",
    "\n",
    "print('Number of facilities mapped to SDWIS no filter:', len(usgs_check[usgs_check['In SDWIS']=='Yes']))\n",
    "print('Number of unique PWS IDs:',len(usgs_check['pws_check'].unique()))"
   ]
  },
  {
   "cell_type": "code",
   "execution_count": 80,
   "metadata": {},
   "outputs": [],
   "source": [
    "# Trying to check if USGS WSA data set PWS IDs can be mapped to SDWIS Facilities no filter dataset\n",
    "\n",
    "# usgs_check = usgs_gu_wwsa_df[['GU_ID','PLACE_FIPS','PLACE_NAME','CNTY_NM', 'STATE_NAME','PWS_ID','SELLER_PWS','WSA_AGIDF']]\n",
    "\n",
    "# # Check if the PWS ID or Seller PWS ID is in the SDWIS dataset\n",
    "# check_list = []\n",
    "# pws_check_list = []\n",
    "\n",
    "# for idx,row in usgs_check.iterrows():\n",
    "#     if row['SELLER_PWS'] in sdwis_facilities_nofilter_pws_ids:\n",
    "#         check_list.append('Yes')\n",
    "#         pws_check_list.append(row['SELLER_PWS'])\n",
    "#     elif row['PWS_ID'] in sdwis_facilities_nofilter_pws_ids:\n",
    "#         check_list.append('Yes')\n",
    "#         pws_check_list.append(row['PWS_ID'])\n",
    "#     elif row['WSA_AGIDF'] in sdwis_facilities_nofilter_pws_ids:\n",
    "#         check_list.append('Yes')\n",
    "#         pws_check_list.append(row['WSA_AGIDF'])\n",
    "#     else:\n",
    "#         check_list.append('No')\n",
    "#         pws_check_list.append(row['WSA_AGIDF'])\n",
    "\n",
    "# usgs_check['pws_check'] = pws_check_list\n",
    "# usgs_check['In SDWIS'] = check_list\n",
    "\n",
    "# print('Number of facilities mapped to SDWIS no filter:', len(usgs_check[usgs_check['In SDWIS']=='Yes']))\n",
    "# print('Number of unique PWS IDs:',len(usgs_check['pws_check'].unique()))"
   ]
  },
  {
   "cell_type": "code",
   "execution_count": 101,
   "metadata": {},
   "outputs": [],
   "source": [
    "# Mapping usgs check pws_check to dpc 2020 population\n",
    "usgs_check_dpc = usgs_check.merge(dpc_2020[['wsa_agidf','avg_dpc']],left_on='WSA_AGIDF',right_on='wsa_agidf')\n",
    "# usgs_check_dpc.to_csv(r'C:\\Users\\mhardika\\Documents\\AMO\\2050\\analysis_files_2024\\usgs_check_dpc.csv')"
   ]
  }
 ],
 "metadata": {
  "kernelspec": {
   "display_name": "watertap3",
   "language": "python",
   "name": "python3"
  },
  "language_info": {
   "codemirror_mode": {
    "name": "ipython",
    "version": 3
   },
   "file_extension": ".py",
   "mimetype": "text/x-python",
   "name": "python",
   "nbconvert_exporter": "python",
   "pygments_lexer": "ipython3",
   "version": "3.8.8"
  }
 },
 "nbformat": 4,
 "nbformat_minor": 2
}
