{
 "cells": [
  {
   "cell_type": "code",
   "execution_count": 1,
   "metadata": {},
   "outputs": [],
   "source": [
    "import numpy as np\n",
    "import pandas as pd\n",
    "import geopandas as gp\n",
    "import matplotlib.pyplot as plt\n",
    "from shapely.geometry import Point\n",
    "from shapely.geometry.polygon import Polygon"
   ]
  },
  {
   "cell_type": "markdown",
   "metadata": {},
   "source": [
    "Cleaning up treatment train information\n",
    "1. Filter for Activity Status = Active and Facility Statis = Active\n",
    "2. Remove PWS ID- Facility ID pairs with only 1 treatment step\n",
    "2. "
   ]
  },
  {
   "cell_type": "code",
   "execution_count": 12,
   "metadata": {},
   "outputs": [
    {
     "name": "stderr",
     "output_type": "stream",
     "text": [
      "C:\\Users\\mhardika\\AppData\\Local\\Temp\\1\\ipykernel_26988\\1683248966.py:1: DtypeWarning: Columns (12,13,18,19) have mixed types. Specify dtype option on import or set low_memory=False.\n",
      "  sdwis = pd.read_csv(r'C:\\Users\\mhardika\\Documents\\AMO\\2050\\analysis_files_2024\\SDWIS.csv')\n"
     ]
    }
   ],
   "source": [
    "sdwis = pd.read_csv(r'C:\\Users\\mhardika\\Documents\\AMO\\2050\\analysis_files_2024\\SDWIS.csv')"
   ]
  },
  {
   "cell_type": "code",
   "execution_count": 110,
   "metadata": {},
   "outputs": [],
   "source": [
    "# Drop rows with duplicate PWS ID, Facility ID and treatment unit\n",
    "sdwis_filtered = sdwis[['PWS ID','Facility Id','PWS Name', 'Population Served Count', 'Activity Status', 'Facility Activity', 'Primary Source', 'PWS Type','Treatment Process','Treatment Objective']].drop_duplicates(subset = ['PWS ID','Facility Id','Treatment Process'])\n",
    "# Filter for Facility activity = Active\n",
    "sdwis_filtered = sdwis_filtered[sdwis_filtered['Facility Activity']=='Active']\n",
    "# Remove rows without an treatment process listed\n",
    "sdwis_filtered = sdwis_filtered.dropna(subset=['Treatment Process'])\n",
    "# Remove PWS ID and Facility with only 1 treatment process\n",
    "sdwis_filtered = sdwis_filtered.groupby(['PWS ID','Facility Id']).filter(lambda x: len(x['Treatment Process'])>1).reset_index()"
   ]
  },
  {
   "cell_type": "code",
   "execution_count": 124,
   "metadata": {},
   "outputs": [
    {
     "name": "stdout",
     "output_type": "stream",
     "text": [
      "Before filtering SDWIS: 215474\n",
      "After filtering SDWIS: 118828\n"
     ]
    }
   ],
   "source": [
    "print('Before filtering SDWIS:', len(sdwis))\n",
    "print('After filtering SDWIS:', len(sdwis_filtered) )"
   ]
  },
  {
   "cell_type": "code",
   "execution_count": 127,
   "metadata": {},
   "outputs": [],
   "source": [
    "unique_treatment = sdwis_filtered.groupby(['Treatment Process','Treatment Objective']).size().reset_index()\n",
    "unique_treatment = unique_treatment.sort_values(0,ascending=False)\n",
    "# unique_treatment.to_csv(r'\\Users\\mhardika\\Documents\\AMO\\2050\\analysis_files_2024\\sdwis_treatment_list_2.csv')"
   ]
  },
  {
   "cell_type": "code",
   "execution_count": 128,
   "metadata": {},
   "outputs": [
    {
     "data": {
      "text/html": [
       "<div>\n",
       "<style scoped>\n",
       "    .dataframe tbody tr th:only-of-type {\n",
       "        vertical-align: middle;\n",
       "    }\n",
       "\n",
       "    .dataframe tbody tr th {\n",
       "        vertical-align: top;\n",
       "    }\n",
       "\n",
       "    .dataframe thead th {\n",
       "        text-align: right;\n",
       "    }\n",
       "</style>\n",
       "<table border=\"1\" class=\"dataframe\">\n",
       "  <thead>\n",
       "    <tr style=\"text-align: right;\">\n",
       "      <th></th>\n",
       "      <th>Treatment Process</th>\n",
       "      <th>Treatment Objective</th>\n",
       "      <th>0</th>\n",
       "    </tr>\n",
       "  </thead>\n",
       "  <tbody>\n",
       "    <tr>\n",
       "      <th>211</th>\n",
       "      <td>Hypochlorination, Post</td>\n",
       "      <td>Disinfection</td>\n",
       "      <td>14740</td>\n",
       "    </tr>\n",
       "    <tr>\n",
       "      <th>197</th>\n",
       "      <td>Gaseous Chlorination, Post</td>\n",
       "      <td>Disinfection</td>\n",
       "      <td>8932</td>\n",
       "    </tr>\n",
       "    <tr>\n",
       "      <th>195</th>\n",
       "      <td>Fluoridation</td>\n",
       "      <td>Other</td>\n",
       "      <td>8838</td>\n",
       "    </tr>\n",
       "    <tr>\n",
       "      <th>203</th>\n",
       "      <td>Gaseous Chlorination, Pre</td>\n",
       "      <td>Disinfection</td>\n",
       "      <td>5115</td>\n",
       "    </tr>\n",
       "    <tr>\n",
       "      <th>219</th>\n",
       "      <td>Hypochlorination, Pre</td>\n",
       "      <td>Disinfection</td>\n",
       "      <td>4567</td>\n",
       "    </tr>\n",
       "    <tr>\n",
       "      <th>...</th>\n",
       "      <td>...</td>\n",
       "      <td>...</td>\n",
       "      <td>...</td>\n",
       "    </tr>\n",
       "    <tr>\n",
       "      <th>331</th>\n",
       "      <td>Reducing Agent, Sulfur Dioxide</td>\n",
       "      <td>Manganese removal</td>\n",
       "      <td>1</td>\n",
       "    </tr>\n",
       "    <tr>\n",
       "      <th>115</th>\n",
       "      <td>Converted (FRDS-1.5)</td>\n",
       "      <td>Corrosion control</td>\n",
       "      <td>1</td>\n",
       "    </tr>\n",
       "    <tr>\n",
       "      <th>116</th>\n",
       "      <td>Distillation</td>\n",
       "      <td>Inorganics removal</td>\n",
       "      <td>1</td>\n",
       "    </tr>\n",
       "    <tr>\n",
       "      <th>327</th>\n",
       "      <td>Reducing Agent, Sodium Bisulfate</td>\n",
       "      <td>Taste / odor control</td>\n",
       "      <td>1</td>\n",
       "    </tr>\n",
       "    <tr>\n",
       "      <th>324</th>\n",
       "      <td>Reducing Agent, Sodium Bisulfate</td>\n",
       "      <td>Corrosion control</td>\n",
       "      <td>1</td>\n",
       "    </tr>\n",
       "  </tbody>\n",
       "</table>\n",
       "<p>404 rows × 3 columns</p>\n",
       "</div>"
      ],
      "text/plain": [
       "                    Treatment Process   Treatment Objective      0\n",
       "211            Hypochlorination, Post          Disinfection  14740\n",
       "197        Gaseous Chlorination, Post          Disinfection   8932\n",
       "195                      Fluoridation                 Other   8838\n",
       "203         Gaseous Chlorination, Pre          Disinfection   5115\n",
       "219             Hypochlorination, Pre          Disinfection   4567\n",
       "..                                ...                   ...    ...\n",
       "331    Reducing Agent, Sulfur Dioxide     Manganese removal      1\n",
       "115              Converted (FRDS-1.5)     Corrosion control      1\n",
       "116                      Distillation    Inorganics removal      1\n",
       "327  Reducing Agent, Sodium Bisulfate  Taste / odor control      1\n",
       "324  Reducing Agent, Sodium Bisulfate     Corrosion control      1\n",
       "\n",
       "[404 rows x 3 columns]"
      ]
     },
     "execution_count": 128,
     "metadata": {},
     "output_type": "execute_result"
    }
   ],
   "source": [
    "unique_treatment"
   ]
  },
  {
   "cell_type": "code",
   "execution_count": null,
   "metadata": {},
   "outputs": [],
   "source": []
  }
 ],
 "metadata": {
  "kernelspec": {
   "display_name": "watertap3",
   "language": "python",
   "name": "python3"
  },
  "language_info": {
   "codemirror_mode": {
    "name": "ipython",
    "version": 3
   },
   "file_extension": ".py",
   "mimetype": "text/x-python",
   "name": "python",
   "nbconvert_exporter": "python",
   "pygments_lexer": "ipython3",
   "version": "3.8.8"
  }
 },
 "nbformat": 4,
 "nbformat_minor": 2
}
