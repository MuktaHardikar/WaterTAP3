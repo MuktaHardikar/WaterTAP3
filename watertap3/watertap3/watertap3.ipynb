{
 "cells": [
  {
   "cell_type": "code",
   "execution_count": 1,
   "id": "603e0214",
   "metadata": {},
   "outputs": [
    {
     "name": "stdout",
     "output_type": "stream",
     "text": [
      "this is in the __init__ file for wt_units\n",
      "this is in the __init__ file for build\n",
      "this is in the __init__ file for watertap3\n"
     ]
    }
   ],
   "source": [
    "import watertap3"
   ]
  },
  {
   "cell_type": "code",
   "execution_count": 2,
   "id": "e7fac69b",
   "metadata": {},
   "outputs": [],
   "source": [
    "from watertap3 import ConcreteModel"
   ]
  },
  {
   "cell_type": "code",
   "execution_count": 3,
   "id": "ce035a83",
   "metadata": {},
   "outputs": [],
   "source": [
    "from build import module_import"
   ]
  },
  {
   "cell_type": "code",
   "execution_count": 4,
   "id": "645b57d4",
   "metadata": {},
   "outputs": [],
   "source": [
    "from watertap3.utils import get_complete_costing"
   ]
  },
  {
   "cell_type": "code",
   "execution_count": null,
   "id": "6f549d9a",
   "metadata": {},
   "outputs": [],
   "source": []
  }
 ],
 "metadata": {
  "kernelspec": {
   "display_name": "Python 3",
   "language": "python",
   "name": "python3"
  },
  "language_info": {
   "codemirror_mode": {
    "name": "ipython",
    "version": 3
   },
   "file_extension": ".py",
   "mimetype": "text/x-python",
   "name": "python",
   "nbconvert_exporter": "python",
   "pygments_lexer": "ipython3",
   "version": "3.8.8"
  }
 },
 "nbformat": 4,
 "nbformat_minor": 5
}
