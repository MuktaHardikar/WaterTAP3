{
 "cells": [
  {
   "cell_type": "code",
   "execution_count": null,
   "metadata": {},
   "outputs": [],
   "source": [
    "# elevation gain calculation attempt\n",
    "import requests\n",
    "import urllib\n",
    "import pandas as pd\n",
    "\n",
    "# USGS Elevation Point Query Service\n",
    "#url = r'https://nationalmap.gov/epqs/pqs.php?'\n",
    "#new 2023:\n",
    "url = r'https://epqs.nationalmap.gov/v1/json?'\n",
    "\n",
    "# coordinates with known elevation \n",
    "lat = [48.633, 48.733, 45.1947, 45.1962]\n",
    "lon = [-93.9667, -94.6167, -93.3257, -93.2755]\n",
    "   \n",
    "# create data frame\n",
    "df = pd.DataFrame({\n",
    "    'lat': lat,\n",
    "    'lon': lon\n",
    "})\n",
    "\n",
    "def elevation_function(df, lat_column, lon_column):\n",
    "    \"\"\"Query service using lat, lon. add the elevation values as a new column.\"\"\"\n",
    "    elevations = []\n",
    "    for lat, lon in zip(df[lat_column], df[lon_column]):\n",
    "                \n",
    "        # define rest query params\n",
    "        params = {\n",
    "            'output': 'json',\n",
    "            'x': lon,\n",
    "            'y': lat,\n",
    "            'units': 'Meters'\n",
    "        }\n",
    "        \n",
    "        # format query string and return query value\n",
    "        result = requests.get((url + urllib.parse.urlencode(params)))\n",
    "        #elevations.append(result.json()['USGS_Elevation_Point_Query_Service']['Elevation_Query']['Elevation'])\n",
    "        #new 2023:\n",
    "        elevations.append(result.json()['value'])\n",
    "\n",
    "    df['elev_meters'] = elevations\n",
    "\n",
    "elevation_function(df, 'lat', 'lon')\n",
    "df.head()\n",
    "    "
   ]
  }
 ],
 "metadata": {
  "language_info": {
   "name": "python"
  },
  "orig_nbformat": 4
 },
 "nbformat": 4,
 "nbformat_minor": 2
}
