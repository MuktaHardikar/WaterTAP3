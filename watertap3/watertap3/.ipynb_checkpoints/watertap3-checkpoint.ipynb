{
 "cells": [
  {
   "cell_type": "code",
   "execution_count": 1,
   "id": "e514be54",
   "metadata": {},
   "outputs": [],
   "source": [
    "# import sys  \n",
    "# sys.path.append('/Users/ksitterl/Documents/Python/watertap3/NAWI-WaterTAP3/src/watertapp3/build')\n",
    "# sys.path.append('/Users/ksitterl/Documents/Python/watertap3/NAWI-WaterTAP3/src/watertapp3/wt_units')"
   ]
  },
  {
   "cell_type": "code",
   "execution_count": 2,
   "id": "fd4bf006",
   "metadata": {},
   "outputs": [],
   "source": [
    "# import build"
   ]
  },
  {
   "cell_type": "code",
   "execution_count": 3,
   "id": "c6fe770c",
   "metadata": {},
   "outputs": [],
   "source": [
    "from build import module_import"
   ]
  },
  {
   "cell_type": "code",
   "execution_count": 4,
   "id": "0e59e930",
   "metadata": {},
   "outputs": [
    {
     "data": {
      "text/plain": [
       "<module 'uv_aop' from '/Users/ksitterl/Documents/Python/watertap3/NAWI-WaterTAP3/src/watertapp3/wt_units/uv_aop.py'>"
      ]
     },
     "execution_count": 4,
     "metadata": {},
     "output_type": "execute_result"
    }
   ],
   "source": [
    "module_import.get_module('uv_aop')"
   ]
  },
  {
   "cell_type": "code",
   "execution_count": 5,
   "id": "a443c618",
   "metadata": {},
   "outputs": [],
   "source": [
    "from build import design"
   ]
  },
  {
   "cell_type": "code",
   "execution_count": 6,
   "id": "8b6ad7c4",
   "metadata": {},
   "outputs": [
    {
     "name": "stderr",
     "output_type": "stream",
     "text": [
      "2021-04-25 18:10:51,555 - INFO - beginning to read excel files\n"
     ]
    },
    {
     "ename": "TypeError",
     "evalue": "read_excel() got an unexpected keyword argument 'index'",
     "output_type": "error",
     "traceback": [
      "\u001b[0;31m---------------------------------------------------------------------------\u001b[0m",
      "\u001b[0;31mTypeError\u001b[0m                                 Traceback (most recent call last)",
      "\u001b[0;32m<ipython-input-6-f326339104dd>\u001b[0m in \u001b[0;36m<module>\u001b[0;34m\u001b[0m\n\u001b[0;32m----> 1\u001b[0;31m \u001b[0;32mfrom\u001b[0m \u001b[0mbuild\u001b[0m \u001b[0;32mimport\u001b[0m \u001b[0mexcel_cleaning\u001b[0m\u001b[0;34m\u001b[0m\u001b[0;34m\u001b[0m\u001b[0m\n\u001b[0m",
      "\u001b[0;32m~/Documents/Python/watertap3/NAWI-WaterTAP3/src/watertapp3/build/excel_cleaning.py\u001b[0m in \u001b[0;36m<module>\u001b[0;34m\u001b[0m\n\u001b[1;32m     15\u001b[0m \u001b[0mexcel_filename\u001b[0m \u001b[0;34m=\u001b[0m \u001b[0;34m'WT3Excel_Case_Study_Data_09Mar2021.xlsm'\u001b[0m\u001b[0;34m\u001b[0m\u001b[0;34m\u001b[0m\u001b[0m\n\u001b[1;32m     16\u001b[0m \u001b[0;34m\u001b[0m\u001b[0m\n\u001b[0;32m---> 17\u001b[0;31m \u001b[0msheet1\u001b[0m \u001b[0;34m=\u001b[0m \u001b[0mpd\u001b[0m\u001b[0;34m.\u001b[0m\u001b[0mread_excel\u001b[0m\u001b[0;34m(\u001b[0m\u001b[0mexcel_filename\u001b[0m\u001b[0;34m,\u001b[0m \u001b[0msheet_name\u001b[0m\u001b[0;34m=\u001b[0m\u001b[0;34m'case_study_basis'\u001b[0m\u001b[0;34m,\u001b[0m \u001b[0mindex\u001b[0m\u001b[0;34m=\u001b[0m\u001b[0;32mTrue\u001b[0m\u001b[0;34m)\u001b[0m\u001b[0;34m\u001b[0m\u001b[0;34m\u001b[0m\u001b[0m\n\u001b[0m\u001b[1;32m     18\u001b[0m \u001b[0msheet1\u001b[0m\u001b[0;34m.\u001b[0m\u001b[0mto_csv\u001b[0m\u001b[0;34m(\u001b[0m\u001b[0;34m\"excel_case_study_basis.csv\"\u001b[0m\u001b[0;34m)\u001b[0m\u001b[0;34m\u001b[0m\u001b[0;34m\u001b[0m\u001b[0m\n\u001b[1;32m     19\u001b[0m \u001b[0;34m\u001b[0m\u001b[0m\n",
      "\u001b[0;32m~/opt/anaconda3/envs/watertap3/lib/python3.8/site-packages/pandas/util/_decorators.py\u001b[0m in \u001b[0;36mwrapper\u001b[0;34m(*args, **kwargs)\u001b[0m\n\u001b[1;32m    297\u001b[0m                 )\n\u001b[1;32m    298\u001b[0m                 \u001b[0mwarnings\u001b[0m\u001b[0;34m.\u001b[0m\u001b[0mwarn\u001b[0m\u001b[0;34m(\u001b[0m\u001b[0mmsg\u001b[0m\u001b[0;34m,\u001b[0m \u001b[0mFutureWarning\u001b[0m\u001b[0;34m,\u001b[0m \u001b[0mstacklevel\u001b[0m\u001b[0;34m=\u001b[0m\u001b[0mstacklevel\u001b[0m\u001b[0;34m)\u001b[0m\u001b[0;34m\u001b[0m\u001b[0;34m\u001b[0m\u001b[0m\n\u001b[0;32m--> 299\u001b[0;31m             \u001b[0;32mreturn\u001b[0m \u001b[0mfunc\u001b[0m\u001b[0;34m(\u001b[0m\u001b[0;34m*\u001b[0m\u001b[0margs\u001b[0m\u001b[0;34m,\u001b[0m \u001b[0;34m**\u001b[0m\u001b[0mkwargs\u001b[0m\u001b[0;34m)\u001b[0m\u001b[0;34m\u001b[0m\u001b[0;34m\u001b[0m\u001b[0m\n\u001b[0m\u001b[1;32m    300\u001b[0m \u001b[0;34m\u001b[0m\u001b[0m\n\u001b[1;32m    301\u001b[0m         \u001b[0;32mreturn\u001b[0m \u001b[0mwrapper\u001b[0m\u001b[0;34m\u001b[0m\u001b[0;34m\u001b[0m\u001b[0m\n",
      "\u001b[0;31mTypeError\u001b[0m: read_excel() got an unexpected keyword argument 'index'"
     ]
    }
   ],
   "source": [
    "from build import excel_cleaning"
   ]
  },
  {
   "cell_type": "code",
   "execution_count": 7,
   "id": "3d197258",
   "metadata": {},
   "outputs": [],
   "source": [
    "from build import financials"
   ]
  },
  {
   "cell_type": "code",
   "execution_count": 8,
   "id": "752d2349",
   "metadata": {},
   "outputs": [],
   "source": [
    "from build import cost_curves"
   ]
  },
  {
   "cell_type": "code",
   "execution_count": 9,
   "id": "8368fb02",
   "metadata": {},
   "outputs": [
    {
     "name": "stdout",
     "output_type": "stream",
     "text": [
      "s\n"
     ]
    }
   ],
   "source": [
    "cost_curves.test('s')"
   ]
  },
  {
   "cell_type": "code",
   "execution_count": 10,
   "id": "22a4806d",
   "metadata": {},
   "outputs": [],
   "source": [
    "from wt_units import sedimentation"
   ]
  },
  {
   "cell_type": "code",
   "execution_count": 11,
   "id": "34dacb99",
   "metadata": {},
   "outputs": [
    {
     "ename": "TypeError",
     "evalue": "'module' object is not callable",
     "output_type": "error",
     "traceback": [
      "\u001b[0;31m---------------------------------------------------------------------------\u001b[0m",
      "\u001b[0;31mTypeError\u001b[0m                                 Traceback (most recent call last)",
      "\u001b[0;32m<ipython-input-11-370aaf8cf4d6>\u001b[0m in \u001b[0;36m<module>\u001b[0;34m\u001b[0m\n\u001b[0;32m----> 1\u001b[0;31m \u001b[0mmodule_import\u001b[0m\u001b[0;34m(\u001b[0m\u001b[0;34m'media_filtration'\u001b[0m\u001b[0;34m)\u001b[0m\u001b[0;34m\u001b[0m\u001b[0;34m\u001b[0m\u001b[0m\n\u001b[0m",
      "\u001b[0;31mTypeError\u001b[0m: 'module' object is not callable"
     ]
    }
   ],
   "source": [
    "module_import('media_filtration')"
   ]
  },
  {
   "cell_type": "code",
   "execution_count": 12,
   "id": "cd6b64ae",
   "metadata": {},
   "outputs": [],
   "source": [
    "from build import module_import"
   ]
  },
  {
   "cell_type": "code",
   "execution_count": 15,
   "id": "edbd2c1d",
   "metadata": {},
   "outputs": [
    {
     "ename": "ModuleNotFoundError",
     "evalue": "No module named 'mbr'",
     "output_type": "error",
     "traceback": [
      "\u001b[0;31m---------------------------------------------------------------------------\u001b[0m",
      "\u001b[0;31mModuleNotFoundError\u001b[0m                       Traceback (most recent call last)",
      "\u001b[0;32m<ipython-input-15-cfcf5d30718c>\u001b[0m in \u001b[0;36m<module>\u001b[0;34m\u001b[0m\n\u001b[0;32m----> 1\u001b[0;31m \u001b[0mmodule_import\u001b[0m\u001b[0;34m.\u001b[0m\u001b[0mget_module\u001b[0m\u001b[0;34m(\u001b[0m\u001b[0;34m'mbr'\u001b[0m\u001b[0;34m)\u001b[0m\u001b[0;34m\u001b[0m\u001b[0;34m\u001b[0m\u001b[0m\n\u001b[0m",
      "\u001b[0;32m~/Documents/Python/watertap3/NAWI-WaterTAP3/src/watertapp3/build/module_import.py\u001b[0m in \u001b[0;36mget_module\u001b[0;34m(module_name)\u001b[0m\n\u001b[1;32m     35\u001b[0m \u001b[0;34m\u001b[0m\u001b[0m\n\u001b[1;32m     36\u001b[0m     \u001b[0;32mif\u001b[0m \u001b[0mmodule_name\u001b[0m \u001b[0;34m==\u001b[0m \u001b[0;34m\"mbr\"\u001b[0m\u001b[0;34m:\u001b[0m\u001b[0;34m\u001b[0m\u001b[0;34m\u001b[0m\u001b[0m\n\u001b[0;32m---> 37\u001b[0;31m         \u001b[0;32mimport\u001b[0m \u001b[0mmbr\u001b[0m \u001b[0;32mas\u001b[0m \u001b[0mup\u001b[0m\u001b[0;34m\u001b[0m\u001b[0;34m\u001b[0m\u001b[0m\n\u001b[0m\u001b[1;32m     38\u001b[0m \u001b[0;34m\u001b[0m\u001b[0m\n\u001b[1;32m     39\u001b[0m     \u001b[0;32mif\u001b[0m \u001b[0mmodule_name\u001b[0m \u001b[0;34m==\u001b[0m \u001b[0;34m\"coag_and_floc\"\u001b[0m\u001b[0;34m:\u001b[0m\u001b[0;34m\u001b[0m\u001b[0;34m\u001b[0m\u001b[0m\n",
      "\u001b[0;31mModuleNotFoundError\u001b[0m: No module named 'mbr'"
     ]
    }
   ],
   "source": [
    "module_import.get_module('mbr')"
   ]
  },
  {
   "cell_type": "code",
   "execution_count": null,
   "id": "2747b1a6",
   "metadata": {},
   "outputs": [],
   "source": []
  }
 ],
 "metadata": {
  "kernelspec": {
   "display_name": "Python 3",
   "language": "python",
   "name": "python3"
  },
  "language_info": {
   "codemirror_mode": {
    "name": "ipython",
    "version": 3
   },
   "file_extension": ".py",
   "mimetype": "text/x-python",
   "name": "python",
   "nbconvert_exporter": "python",
   "pygments_lexer": "ipython3",
   "version": "3.8.8"
  }
 },
 "nbformat": 4,
 "nbformat_minor": 5
}
