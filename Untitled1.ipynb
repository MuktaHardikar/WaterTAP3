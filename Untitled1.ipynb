{
 "cells": [
  {
   "cell_type": "code",
   "execution_count": 1,
   "metadata": {},
   "outputs": [],
   "source": [
    "%matplotlib inline\n",
    "from pylab import *\n",
    "\n",
    "import shutil\n",
    "import sys\n",
    "import os.path\n",
    "import pandas as pd\n",
    "import numpy as np\n",
    "\n",
    "import matplotlib.pyplot as plt\n",
    "from scipy.optimize import fsolve\n",
    "from scipy.optimize import minimize\n",
    "import itertools\n",
    "import pyomo.environ as env\n",
    "import ast\n",
    "from pyomo.environ import *\n",
    "\n",
    "import networkx as nx\n",
    "from networkx.drawing.nx_agraph import write_dot, graphviz_layout"
   ]
  },
  {
   "cell_type": "code",
   "execution_count": 42,
   "metadata": {},
   "outputs": [],
   "source": [
    "### FLOW IN MUST BE IN M3/DAY OR MGD###"
   ]
  },
  {
   "cell_type": "code",
   "execution_count": null,
   "metadata": {},
   "outputs": [],
   "source": [
    "# required inputs from user for this UP:\n",
    "deep_bed_denitrifying_filter = True"
   ]
  },
  {
   "cell_type": "code",
   "execution_count": null,
   "metadata": {},
   "outputs": [],
   "source": []
  },
  {
   "cell_type": "code",
   "execution_count": null,
   "metadata": {},
   "outputs": [],
   "source": []
  },
  {
   "cell_type": "code",
   "execution_count": 43,
   "metadata": {},
   "outputs": [],
   "source": [
    "flow_in = 30\n",
    "unit = 'mgd'"
   ]
  },
  {
   "cell_type": "code",
   "execution_count": null,
   "metadata": {},
   "outputs": [],
   "source": [
    "#unit conversion needed for model\n",
    "if unit == 'mgd':\n",
    "    mgd_to_m3d = 3.7854\n",
    "    flow_in = flow_in / mgd_to_m3d"
   ]
  },
  {
   "cell_type": "code",
   "execution_count": 44,
   "metadata": {},
   "outputs": [],
   "source": [
    "# USER INPUTS: FINANCIAL INFORMATION\n",
    "fixed_op_cost_scaling_exp = 0.7 # source:\n",
    "basis_year = 2014 # meaning:\n",
    "analysis_yr_cost_indicies = 2025\n",
    "last_year_for_cost_indicies = 2050\n",
    "on_stream_factor = 0.95\n",
    "\n",
    "salaries_percent_FCI = 0.01 #represented as a fraction. source:\n",
    "land_cost_precent_FCI = 0.0015 #represented as a fraction. source:\n",
    "working_cap_precent_FCI = 0.05 #represented as a fraction. source:\n",
    "maintinance_costs_precent_FCI =  0.03\n",
    "lab_fees_precent_FCI = 0.01\n",
    "insurance_taxes_precent_FCI = 0.007\n",
    "\n",
    "benefit_percent_of_salary = 0.9\n",
    "\n",
    "elec_price = 0.01\n",
    "\n",
    "fixed_op_cost_scaling_exp = 0.7"
   ]
  },
  {
   "cell_type": "code",
   "execution_count": null,
   "metadata": {},
   "outputs": [],
   "source": []
  },
  {
   "cell_type": "code",
   "execution_count": null,
   "metadata": {},
   "outputs": [],
   "source": [
    "# Perfomance Parameter Values for Process: Constituent removals. If not here, assume 0.\n",
    "TOC_removal = 0.2 # Asano et al (2007)\n",
    "if deep_bed_denitrifying_filter == True:\n",
    "    nitrate_removal = 0.8 #Mohseni-Bandpi et al., 2013\n",
    "    TOrC_removal = 0.2 # Reungoat et al. (2009) and Falas et al. (2016)\n",
    "    EEQ_removal = 0.2 # Reungoat et al. (2009) and Falas et al. (2016)\n",
    "    \n",
    "    "
   ]
  },
  {
   "cell_type": "code",
   "execution_count": null,
   "metadata": {},
   "outputs": [],
   "source": []
  },
  {
   "cell_type": "code",
   "execution_count": 46,
   "metadata": {},
   "outputs": [],
   "source": [
    "# captial costs basis\n",
    "#Project Cost for Filter = $725,570 x (flow in mgd) 0.5862 with R2 = 0.996 (page 55)\n",
    "# note: says not to extrapolate beyond 30 MGD but we do if needed.\n",
    "base_fixed_cap_cost = 0.725570 #from TWB\n",
    "cap_scaling_exp = 0.586 #from TWB"
   ]
  },
  {
   "cell_type": "code",
   "execution_count": 47,
   "metadata": {},
   "outputs": [],
   "source": [
    "# fixed operating costs\n",
    "base_employee_salary_cost = base_fixed_cap_cost * salaries_percent_FCI"
   ]
  },
  {
   "cell_type": "code",
   "execution_count": 48,
   "metadata": {},
   "outputs": [
    {
     "name": "stdout",
     "output_type": "stream",
     "text": [
      "linear score for: Capital_Index 0.877954275463864\n",
      "linear score for: CatChem_Index 0.949814194982533\n",
      "linear score for: Labor_Index 0.9812970929946648\n",
      "linear score for: CPI_Index 0.9954947443915652\n"
     ]
    }
   ],
   "source": [
    "# cost index values\n",
    "df = pd.read_csv('plant_cost_indices.csv')\n",
    "df = get_ind_table(df)\n",
    "cap_replacement_parts = df.loc[basis_year].Capital_Factor\n",
    "catalysts_chemicals = df.loc[basis_year].CatChem_Factor\n",
    "labor_and_other_fixed = df.loc[basis_year].Labor_Factor\n",
    "consumer_price_index = df.loc[basis_year].CPI_Factor"
   ]
  },
  {
   "cell_type": "code",
   "execution_count": 49,
   "metadata": {},
   "outputs": [],
   "source": [
    "# capital costs (unit: MM$) ---> TCI IN EXCEL\n",
    "fixed_cap_inv_unadjusted = base_fixed_cap_cost * (flow_in *mgd_to_m3d) ** cap_scaling_exp\n",
    "fixed_cap_inv = fixed_cap_inv_unadjusted * cap_replacement_parts\n",
    "land_cost = fixed_cap_inv * land_cost_precent_FCI\n",
    "working_cap = fixed_cap_inv * working_cap_precent_FCI\n",
    "total_cap_investment = fixed_cap_inv + land_cost + working_cap"
   ]
  },
  {
   "cell_type": "code",
   "execution_count": 50,
   "metadata": {},
   "outputs": [],
   "source": [
    "# variable operating costs (unit: MM$/yr) -> MIKE TO DO -> ---> CAT+CHEM IN EXCEL\n",
    "# --> should be functions of what is needed!?\n",
    "#cat_chem_df = pd.read_csv('catalyst_chemicals.csv')\n",
    "#cat_and_chem = flow_in * 365 * on_stream_factor # TODO\n",
    "electricity = 0 #flow_in * 365 * on_stream_factor * elec_price # TODO\n",
    "cat_and_chem_cost = 0 # TODO\n",
    "electricity_cost = electricity * elec_price * 365 # KWh/day * $/KWh * 365 days\n",
    "other_var_cost = cat_and_chem_cost - electricity_cost"
   ]
  },
  {
   "cell_type": "code",
   "execution_count": 51,
   "metadata": {},
   "outputs": [],
   "source": [
    "# fixed operating cost (unit: MM$/yr)  ---> FIXED IN EXCEL\n",
    "salaries = labor_and_other_fixed * base_employee_salary_cost * (flow_in *mgd_to_m3d)** fixed_op_cost_scaling_exp\n",
    "benefits = salaries * benefit_percent_of_salary\n",
    "maintenance = maintinance_costs_precent_FCI * fixed_cap_inv\n",
    "lab = lab_fees_precent_FCI * fixed_cap_inv\n",
    "insurance_taxes = insurance_taxes_precent_FCI * fixed_cap_inv\n",
    "total_fixed_op_cost = salaries + benefits + maintenance + lab + insurance_taxes\n"
   ]
  },
  {
   "cell_type": "code",
   "execution_count": null,
   "metadata": {},
   "outputs": [],
   "source": [
    "total_up_cost = total_cap_investment +  cat_and_chem_cost +  electricity_cost + other_var_cost + total_fixed_op_cost "
   ]
  },
  {
   "cell_type": "code",
   "execution_count": null,
   "metadata": {},
   "outputs": [],
   "source": []
  },
  {
   "cell_type": "code",
   "execution_count": 3,
   "metadata": {},
   "outputs": [],
   "source": [
    "import media_filtration_twb as up\n",
    "import watertap as wt"
   ]
  },
  {
   "cell_type": "code",
   "execution_count": 4,
   "metadata": {},
   "outputs": [
    {
     "name": "stdout",
     "output_type": "stream",
     "text": [
      "adding unit process to network: media_filtration_twb\n",
      "adding unit process attributes: media_filtration_twb\n",
      "goes into adding unit attributes 2\n",
      "edge ('media_filtration_twb_start', 'media_filtration_twb_end')\n"
     ]
    },
    {
     "data": {
      "image/png": "[encoded data removed]",
      "text/plain": [
       "<Figure size 432x288 with 1 Axes>"
      ]
     },
     "metadata": {},
     "output_type": "display_data"
    }
   ],
   "source": [
    "# imports all trains from library/unit processes\n",
    "unit_process_name_list = [wt.unit_process_library_list[0]] #[wt.unit_process_library_list[0], wt.unit_process_library_list[1]] \n",
    "#wt.unit_process_library_list\n",
    "\n",
    "# FROM AND TO PROCESS TO BE CHANED TO SINGLE VS TRAIN OPTION - HAVE TWO OPTIONS. START WITH TRAIN.\n",
    "T = wt.treatment_train_design.create_train(unit_process_name_list=unit_process_name_list,  # OLDER VERSION HAD TO AND FROM PROCESS BUT THAT IS FOR ADDING ONE PROCESS AT A TIME\n",
    "                                            #unit_process = 'microfiltration',\n",
    "                                            source_water_reference = 'Poseidon',\n",
    "                                            source_water_type = 'Wastewater',\n",
    "                                            source_water_case_study ='Typical untreated domestic wastewater',\n",
    "                                            enduse_water_reference = 'Poseidon',\n",
    "                                            enduse_water_type = 'Environmental',\n",
    "                                            enduse_water_case_study = 'EPA: Environmental Reuse',\n",
    "                                            flow = 1000.0)\n",
    "\n",
    "wt.display.treatment_train_graph(T)"
   ]
  },
  {
   "cell_type": "code",
   "execution_count": 5,
   "metadata": {},
   "outputs": [],
   "source": [
    "def get_up_module(G, up_edge):\n",
    "        \n",
    "    G.edges[up_edge]['treatment_name'] == 'media_filtration_twb'\n",
    "    import media_filtration_twb as up\n",
    "    \n",
    "    return up"
   ]
  },
  {
   "cell_type": "code",
   "execution_count": 6,
   "metadata": {},
   "outputs": [],
   "source": [
    "unit_process = 'media_filtration_twb'\n",
    "\n",
    "start_node = ('%s_start' % unit_process)\n",
    "end_node = ('%s_end' % unit_process)\n",
    "up_edge = (start_node, end_node)\n",
    "\n",
    "up = get_up_module(T, up_edge)\n",
    "\n",
    "up.total_up_cost(flow_in = flow_in)"
   ]
  },
  {
   "cell_type": "code",
   "execution_count": 10,
   "metadata": {},
   "outputs": [
    {
     "data": {
      "text/plain": [
       "113562.0"
      ]
     },
     "execution_count": 10,
     "metadata": {},
     "output_type": "execute_result"
    }
   ],
   "source": [
    "flow_in"
   ]
  },
  {
   "cell_type": "code",
   "execution_count": 11,
   "metadata": {},
   "outputs": [
    {
     "data": {
      "text/plain": [
       "22712.4"
      ]
     },
     "execution_count": 11,
     "metadata": {},
     "output_type": "execute_result"
    }
   ],
   "source": [
    "113562.0 / 5"
   ]
  },
  {
   "cell_type": "code",
   "execution_count": null,
   "metadata": {},
   "outputs": [],
   "source": []
  },
  {
   "cell_type": "code",
   "execution_count": 12,
   "metadata": {},
   "outputs": [
    {
     "data": {
      "text/plain": [
       "37854.0"
      ]
     },
     "execution_count": 12,
     "metadata": {},
     "output_type": "execute_result"
    }
   ],
   "source": [
    "113562.0 / 3"
   ]
  },
  {
   "cell_type": "code",
   "execution_count": null,
   "metadata": {},
   "outputs": [],
   "source": []
  },
  {
   "cell_type": "code",
   "execution_count": null,
   "metadata": {},
   "outputs": [],
   "source": []
  },
  {
   "cell_type": "code",
   "execution_count": null,
   "metadata": {},
   "outputs": [],
   "source": []
  },
  {
   "cell_type": "code",
   "execution_count": null,
   "metadata": {},
   "outputs": [],
   "source": []
  },
  {
   "cell_type": "code",
   "execution_count": null,
   "metadata": {},
   "outputs": [],
   "source": []
  },
  {
   "cell_type": "code",
   "execution_count": null,
   "metadata": {},
   "outputs": [],
   "source": []
  },
  {
   "cell_type": "code",
   "execution_count": null,
   "metadata": {},
   "outputs": [],
   "source": []
  },
  {
   "cell_type": "code",
   "execution_count": null,
   "metadata": {},
   "outputs": [],
   "source": []
  },
  {
   "cell_type": "code",
   "execution_count": null,
   "metadata": {},
   "outputs": [],
   "source": []
  },
  {
   "cell_type": "code",
   "execution_count": null,
   "metadata": {},
   "outputs": [],
   "source": []
  },
  {
   "cell_type": "code",
   "execution_count": 9,
   "metadata": {},
   "outputs": [],
   "source": [
    "def get_ind_table(df):\n",
    "\n",
    "    df1 = pd.DataFrame()\n",
    "    for name in df.columns[1:]:\n",
    "        a, b = get_linear_regression(list(df.Year), list(df[('%s' % name)]), name)\n",
    "        new_list = []; yr_list = [];\n",
    "        for yr in range(df.Year.max()+1, last_year_for_cost_indicies+1):\n",
    "            new_list.append(a*yr + b)\n",
    "            yr_list.append(yr)\n",
    "        df1[name] = new_list\n",
    "    df1['Year'] = yr_list\n",
    "    df = pd.concat([df, df1], axis = 0)\n",
    "\n",
    "    new_cost_variables = ['Capital', 'CatChem', 'Labor', 'CPI']\n",
    "    for variable in new_cost_variables:\n",
    "        ind_name = ('%s_Index' % variable)\n",
    "        fac_name = ('%s_Factor' % variable)\n",
    "        df[fac_name] = df[ind_name] / df[df.Year == analysis_yr_cost_indicies][ind_name].max()\n",
    "    \n",
    "    df = df.set_index(df.Year)\n",
    "    \n",
    "    return df"
   ]
  },
  {
   "cell_type": "code",
   "execution_count": 10,
   "metadata": {},
   "outputs": [],
   "source": [
    "def get_linear_regression(x_values, y_values, variable):\n",
    "    #print('nonlinear did not work, trying linear for:', variable)\n",
    "    \n",
    "    from sklearn.linear_model import LinearRegression\n",
    "    X = np.array(x_values).reshape(-1, 1)\n",
    "    y = np.array(y_values).reshape(-1, 1)\n",
    "    reg = LinearRegression().fit(X, y)\n",
    "    print('linear score for:', variable, reg.score(X, y))\n",
    "    \n",
    "    #a_list=[0] -> NOT SURE WHY THIS WAS HERE\n",
    "    a=reg.coef_[0]\n",
    "    b=reg.intercept_\n",
    "    #threshold_temp=[0]\n",
    "\n",
    "    return a[0], b[0]"
   ]
  },
  {
   "cell_type": "code",
   "execution_count": null,
   "metadata": {},
   "outputs": [],
   "source": []
  },
  {
   "cell_type": "code",
   "execution_count": null,
   "metadata": {},
   "outputs": [],
   "source": []
  },
  {
   "cell_type": "code",
   "execution_count": null,
   "metadata": {},
   "outputs": [],
   "source": []
  },
  {
   "cell_type": "code",
   "execution_count": null,
   "metadata": {},
   "outputs": [],
   "source": []
  }
 ],
 "metadata": {
  "kernelspec": {
   "display_name": "Python [conda env:water-hubv2]",
   "language": "python",
   "name": "conda-env-water-hubv2-py"
  },
  "language_info": {
   "codemirror_mode": {
    "name": "ipython",
    "version": 3
   },
   "file_extension": ".py",
   "mimetype": "text/x-python",
   "name": "python",
   "nbconvert_exporter": "python",
   "pygments_lexer": "ipython3",
   "version": "3.7.0"
  }
 },
 "nbformat": 4,
 "nbformat_minor": 2
}
