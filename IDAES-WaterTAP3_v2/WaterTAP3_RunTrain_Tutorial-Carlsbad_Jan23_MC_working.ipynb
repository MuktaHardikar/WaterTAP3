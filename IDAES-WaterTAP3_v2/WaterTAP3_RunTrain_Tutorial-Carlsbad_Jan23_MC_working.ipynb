{
 "cells": [
  {
   "cell_type": "code",
   "execution_count": 1,
   "metadata": {},
   "outputs": [],
   "source": [
    "%matplotlib inline\n",
    "from pylab import *\n",
    "import pandas as pd\n",
    "import numpy as np\n",
    "import matplotlib.pyplot as plt\n",
    "import networkx as nx\n",
    "from networkx.drawing.nx_agraph import write_dot, graphviz_layout\n",
    "from pyomo.environ import ConcreteModel, SolverFactory, TerminationCondition, \\\n",
    "    value, Var, Constraint, Expression, Objective, TransformationFactory, units as pyunits\n",
    "from pyomo.network import Arc, SequentialDecomposition\n",
    "from idaes.core.util.model_statistics import degrees_of_freedom\n",
    "\n",
    "from split_test2 import Separator1\n",
    "\n",
    "from mixer_example import Mixer1"
   ]
  },
  {
   "cell_type": "markdown",
   "metadata": {},
   "source": [
    "### TODO: CREATE INTRO"
   ]
  },
  {
   "cell_type": "code",
   "execution_count": null,
   "metadata": {},
   "outputs": [],
   "source": []
  },
  {
   "cell_type": "markdown",
   "metadata": {},
   "source": [
    "##### Import WaterTAP3 Package"
   ]
  },
  {
   "cell_type": "code",
   "execution_count": 2,
   "metadata": {},
   "outputs": [],
   "source": [
    "import watertap as wt"
   ]
  },
  {
   "cell_type": "code",
   "execution_count": 3,
   "metadata": {},
   "outputs": [],
   "source": [
    "import case_study_trains"
   ]
  },
  {
   "cell_type": "markdown",
   "metadata": {},
   "source": [
    "##### Step 1: Look up unit process library. Returns a List."
   ]
  },
  {
   "cell_type": "markdown",
   "metadata": {},
   "source": [
    "##### Step 3: Set up IDAES flowsheet for watertap. This selects a property package for you (see water_props.py). The property package could be changed in the future for performing heat/energy and other balances."
   ]
  },
  {
   "cell_type": "markdown",
   "metadata": {},
   "source": [
    "##### Step 3: Add a water source and define inlet flow."
   ]
  },
  {
   "cell_type": "code",
   "execution_count": 4,
   "metadata": {},
   "outputs": [],
   "source": [
    "case_study_trains.case_study = \"Carlsbad\"\n",
    "case_study_trains.reference = \"NAWI\"\n",
    "case_study_trains.water_type = \"Seawater\""
   ]
  },
  {
   "cell_type": "code",
   "execution_count": 5,
   "metadata": {},
   "outputs": [],
   "source": [
    "m = wt.watertap_setup(dynamic = False)"
   ]
  },
  {
   "cell_type": "code",
   "execution_count": null,
   "metadata": {},
   "outputs": [],
   "source": []
  },
  {
   "cell_type": "code",
   "execution_count": 6,
   "metadata": {},
   "outputs": [],
   "source": [
    "m = wt.case_study_trains.unit_test_case(unit_name = 'tri_media_filtration', \n",
    "                                        flow = 4.5833, m = m)"
   ]
  },
  {
   "cell_type": "code",
   "execution_count": 7,
   "metadata": {
    "scrolled": true
   },
   "outputs": [
    {
     "name": "stdout",
     "output_type": "stream",
     "text": [
      "Ipopt 3.12.13: \n",
      "\n",
      "******************************************************************************\n",
      "This program contains Ipopt, a library for large-scale nonlinear optimization.\n",
      " Ipopt is released as open source code under the Eclipse Public License (EPL).\n",
      "         For more information visit http://projects.coin-or.org/Ipopt\n",
      "******************************************************************************\n",
      "\n",
      "This is Ipopt version 3.12.13, running with linear solver mumps.\n",
      "NOTE: Other linear solvers might be more efficient (see Ipopt documentation).\n",
      "\n",
      "Number of nonzeros in equality constraint Jacobian...:       44\n",
      "Number of nonzeros in inequality constraint Jacobian.:        0\n",
      "Number of nonzeros in Lagrangian Hessian.............:        5\n",
      "\n",
      "Total number of variables............................:       20\n",
      "                     variables with only lower bounds:        0\n",
      "                variables with lower and upper bounds:        0\n",
      "                     variables with only upper bounds:        0\n",
      "Total number of equality constraints.................:       20\n",
      "Total number of inequality constraints...............:        0\n",
      "        inequality constraints with only lower bounds:        0\n",
      "   inequality constraints with lower and upper bounds:        0\n",
      "        inequality constraints with only upper bounds:        0\n",
      "\n",
      "iter    objective    inf_pr   inf_du lg(mu)  ||d||  lg(rg) alpha_du alpha_pr  ls\n",
      "   0  0.0000000e+00 1.00e+05 0.00e+00  -1.0 0.00e+00    -  0.00e+00 0.00e+00   0\n",
      "   1  0.0000000e+00 4.93e+02 0.00e+00  -1.0 1.00e+05    -  1.00e+00 1.00e+00h  1\n",
      "   2  0.0000000e+00 2.03e-02 9.24e+02  -1.0 1.07e+02  -4.0 1.00e+00 1.00e+00h  1\n",
      "   3  0.0000000e+00 1.38e-02 2.02e-02  -1.7 3.64e+01    -  1.00e+00 1.00e+00h  1\n",
      "   4  0.0000000e+00 1.03e-02 2.03e+14  -3.8 1.60e+11    -  1.00e+00 5.00e-01h  2\n",
      "   5  0.0000000e+00 8.57e-03 1.11e+15  -3.8 3.20e+11    -  1.00e+00 5.00e-01h  2\n",
      "   6  0.0000000e+00 7.67e-03 5.31e+15  -3.8 6.34e+11    -  1.00e+00 5.00e-01h  2\n",
      "   7  0.0000000e+00 7.15e-03 2.10e+16  -3.8 1.25e+12    -  1.00e+00 5.00e-01h  2\n",
      "   8  0.0000000e+00 6.78e-03 7.87e+16  -3.8 2.40e+12    -  1.00e+00 5.00e-01h  2\n",
      "   9  0.0000000e+00 6.37e-03 2.76e+17  -3.8 4.48e+12    -  1.00e+00 5.00e-01h  2\n",
      "iter    objective    inf_pr   inf_du lg(mu)  ||d||  lg(rg) alpha_du alpha_pr  ls\n",
      "  10  0.0000000e+00 5.79e-03 6.46e+16  -3.8 9.12e+12    -  1.00e+00 2.50e-01h  3\n",
      "  11  0.0000000e+00 5.44e-03 1.29e+19  -3.8 1.03e+13    -  1.00e+00 1.00e+00H  1\n",
      "  12  0.0000000e+00 1.67e-03 4.64e+19  -3.8 3.25e+13    -  1.00e+00 1.00e+00h  1\n",
      "  13  0.0000000e+00 1.65e-03 4.56e+19  -3.8 9.94e+13    -  1.00e+00 1.56e-02h  7\n",
      "  14  0.0000000e+00 1.64e-03 4.49e+19  -3.8 9.85e+13    -  1.00e+00 1.56e-02h  7\n",
      "  15  0.0000000e+00 1.62e-03 4.42e+19  -3.8 9.78e+13    -  1.00e+00 1.56e-02h  7\n",
      "  16  0.0000000e+00 1.60e-03 4.35e+19  -3.8 9.72e+13    -  1.00e+00 1.56e-02h  7\n",
      "  17  0.0000000e+00 1.58e-03 4.28e+19  -3.8 9.66e+13    -  1.00e+00 1.56e-02h  7\n",
      "  18  0.0000000e+00 1.56e-03 4.15e+19  -3.8 9.61e+13    -  1.00e+00 3.12e-02h  6\n",
      "  19  0.0000000e+00 1.53e-03 4.02e+19  -3.8 9.52e+13    -  1.00e+00 3.12e-02h  6\n",
      "iter    objective    inf_pr   inf_du lg(mu)  ||d||  lg(rg) alpha_du alpha_pr  ls\n",
      "  20  0.0000000e+00 1.50e-03 3.89e+19  -3.8 9.45e+13    -  1.00e+00 3.12e-02h  6\n",
      "  21  0.0000000e+00 1.47e-03 3.77e+19  -3.8 9.40e+13    -  1.00e+00 3.12e-02h  6\n",
      "  22  0.0000000e+00 1.44e-03 3.65e+19  -3.8 9.37e+13    -  1.00e+00 3.12e-02h  6\n",
      "  23  0.0000000e+00 1.57e-02 2.35e+18  -3.8 9.34e+13    -  1.00e+00 1.00e+00w  1\n",
      "  24  0.0000000e+00 4.75e-12 5.75e+20  -3.8 1.46e+15    -  1.00e+00 1.00e+00h  1\n",
      "Cannot recompute multipliers for feasibility problem.  Error in eq_mult_calculator\n",
      "\n",
      "Number of Iterations....: 24\n",
      "\n",
      "                                   (scaled)                 (unscaled)\n",
      "Objective...............:   0.0000000000000000e+00    0.0000000000000000e+00\n",
      "Dual infeasibility......:   5.7456113508693521e+20    5.7456113508693521e+20\n",
      "Constraint violation....:   4.7497451257467668e-12    4.7497451257467668e-12\n",
      "Complementarity.........:   0.0000000000000000e+00    0.0000000000000000e+00\n",
      "Overall NLP error.......:   4.7497451257467668e-12    5.7456113508693521e+20\n",
      "\n",
      "\n",
      "Number of objective function evaluations             = 149\n",
      "Number of objective gradient evaluations             = 25\n",
      "Number of equality constraint evaluations            = 149\n",
      "Number of inequality constraint evaluations          = 0\n",
      "Number of equality constraint Jacobian evaluations   = 25\n",
      "Number of inequality constraint Jacobian evaluations = 0\n",
      "Number of Lagrangian Hessian evaluations             = 24\n",
      "Total CPU secs in IPOPT (w/o function evaluations)   =      0.062\n",
      "Total CPU secs in NLP function evaluations           =      0.001\n",
      "\n",
      "EXIT: Optimal Solution Found.\n",
      "\bdegrees_of_freedom: 0\n",
      "----------------------------------------------------------------------\n",
      "fs.source1\n",
      "inlet : Size=1\n",
      "    Key  : Name        : Value\n",
      "    None :   conc_mass : {(0.0, 'TDS'): 30.0}\n",
      "         :    flow_vol : {0.0: 4.5833}\n",
      "         :    pressure : {0.0: 200000.0}\n",
      "         : temperature : {0.0: 300}\n",
      "outlet : Size=1\n",
      "    Key  : Name        : Value\n",
      "    None :   conc_mass : {(0.0, 'TDS'): 29.997}\n",
      "         :    flow_vol : {0.0: 4.5833}\n",
      "         :    pressure : {0.0: 199999.9999}\n",
      "         : temperature : {0.0: 300.0}\n",
      "waste : Size=1\n",
      "    Key  : Name        : Value\n",
      "    None :   conc_mass : {(0.0, 'TDS'): -1283506165165525.0}\n",
      "         :    flow_vol : {0.0: -1.071276505962265e-17}\n",
      "         :    pressure : {0.0: 199999.9999}\n",
      "         : temperature : {0.0: 300.0}\n",
      "Show some costing values\n",
      "---------------------\n",
      "should skip: source1\n",
      "----------------------------------------------------------------------\n",
      "fs.tri_media_filtration\n",
      "inlet : Size=1\n",
      "    Key  : Name        : Value\n",
      "    None :   conc_mass : {(0.0, 'TDS'): 29.997}\n",
      "         :    flow_vol : {0.0: 4.5833}\n",
      "         :    pressure : {0.0: 199999.9999}\n",
      "         : temperature : {0.0: 300.0}\n",
      "outlet : Size=1\n",
      "    Key  : Name        : Value\n",
      "    None :   conc_mass : {(0.0, 'TDS'): 33.329996667}\n",
      "         :    flow_vol : {0.0: 4.12497}\n",
      "         :    pressure : {0.0: 199999.9998}\n",
      "         : temperature : {0.0: 300.0}\n",
      "waste : Size=1\n",
      "    Key  : Name        : Value\n",
      "    None :   conc_mass : {(0.0, 'TDS'): 2.999699999999999e-05}\n",
      "         :    flow_vol : {0.0: 0.4583300000000001}\n",
      "         :    pressure : {0.0: 199999.9998}\n",
      "         : temperature : {0.0: 300.0}\n",
      "Show some costing values\n",
      "---------------------\n",
      "should have a cost tri_media_filtration\n",
      "total_up_cost: 38.223892334791344\n",
      "----------------------------------------------------------------------\n"
     ]
    }
   ],
   "source": [
    "result = wt.run_water_tap(m)"
   ]
  },
  {
   "cell_type": "code",
   "execution_count": null,
   "metadata": {},
   "outputs": [],
   "source": []
  },
  {
   "cell_type": "code",
   "execution_count": null,
   "metadata": {},
   "outputs": [],
   "source": []
  },
  {
   "cell_type": "code",
   "execution_count": null,
   "metadata": {},
   "outputs": [],
   "source": []
  },
  {
   "cell_type": "code",
   "execution_count": null,
   "metadata": {},
   "outputs": [],
   "source": []
  },
  {
   "cell_type": "code",
   "execution_count": null,
   "metadata": {},
   "outputs": [],
   "source": []
  },
  {
   "cell_type": "code",
   "execution_count": null,
   "metadata": {},
   "outputs": [],
   "source": [
    "water -> need density of water -> function of TDS. once density -> multiple by flow rate -> \n",
    "thats total water flow rate"
   ]
  },
  {
   "cell_type": "code",
   "execution_count": null,
   "metadata": {},
   "outputs": [],
   "source": []
  },
  {
   "cell_type": "code",
   "execution_count": null,
   "metadata": {},
   "outputs": [],
   "source": []
  },
  {
   "cell_type": "code",
   "execution_count": null,
   "metadata": {},
   "outputs": [],
   "source": []
  },
  {
   "cell_type": "code",
   "execution_count": null,
   "metadata": {},
   "outputs": [],
   "source": []
  },
  {
   "cell_type": "code",
   "execution_count": null,
   "metadata": {},
   "outputs": [],
   "source": [
    "def run(case_study = \"Carlsbad\", water_type = \"Seawater\", reference = \"NAWI\"):\n",
    "    \n",
    "    df = pd.read_csv(\"Data/constituent_removal.csv\")\n",
    "    df = df[df.case_study == case_study]\n",
    "    list1 = df[df.fractional_constituent_removal >= 0].constituent.unique()\n",
    "    \n",
    "    import importfile\n",
    "    \n",
    "    df = importfile.feedwater(\n",
    "        input_file=\"data/case_study_water_sources_and_uses.csv\",\n",
    "        reference = reference, water_type = water_type, \n",
    "        case_study = case_study)\n",
    "        \n",
    "    list2 = df.index\n",
    "       \n",
    "    final_list = [x for x in list1 if x in list2]\n",
    "    \n",
    "    \n",
    "    for const in final_list:\n",
    "        if \n",
    "    \n",
    "    return final_list\n"
   ]
  },
  {
   "cell_type": "code",
   "execution_count": null,
   "metadata": {},
   "outputs": [],
   "source": [
    "run(case_study = \"Carlsbad\", water_type = \"Seawater\", reference = \"NAWI\")"
   ]
  },
  {
   "cell_type": "code",
   "execution_count": null,
   "metadata": {},
   "outputs": [],
   "source": [
    "const_source_dict = {}"
   ]
  },
  {
   "cell_type": "code",
   "execution_count": null,
   "metadata": {},
   "outputs": [],
   "source": [
    "const_removal_dict = {}"
   ]
  },
  {
   "cell_type": "code",
   "execution_count": null,
   "metadata": {},
   "outputs": [],
   "source": [
    "df = pd.read_csv(\"Data/constituent_removal.csv\")"
   ]
  },
  {
   "cell_type": "code",
   "execution_count": null,
   "metadata": {},
   "outputs": [],
   "source": [
    "df.fillna(1e-5).head()"
   ]
  },
  {
   "cell_type": "code",
   "execution_count": null,
   "metadata": {},
   "outputs": [],
   "source": [
    "df.replace?"
   ]
  },
  {
   "cell_type": "code",
   "execution_count": null,
   "metadata": {},
   "outputs": [],
   "source": []
  },
  {
   "cell_type": "code",
   "execution_count": null,
   "metadata": {},
   "outputs": [],
   "source": []
  },
  {
   "cell_type": "code",
   "execution_count": null,
   "metadata": {},
   "outputs": [],
   "source": []
  },
  {
   "cell_type": "code",
   "execution_count": null,
   "metadata": {},
   "outputs": [],
   "source": []
  },
  {
   "cell_type": "code",
   "execution_count": null,
   "metadata": {},
   "outputs": [],
   "source": []
  },
  {
   "cell_type": "code",
   "execution_count": null,
   "metadata": {},
   "outputs": [],
   "source": [
    "m = wt.case_study_trains.get_case_study(name = 'carlsbad', flow = 4.5833, m = m)"
   ]
  },
  {
   "cell_type": "code",
   "execution_count": null,
   "metadata": {},
   "outputs": [],
   "source": [
    "wt.display.show_train2(model_name=m)"
   ]
  },
  {
   "cell_type": "code",
   "execution_count": null,
   "metadata": {},
   "outputs": [],
   "source": [
    "##### Step 5:  Run model and display results. The resutls display will be put into easier format to read for user soon."
   ]
  },
  {
   "cell_type": "code",
   "execution_count": null,
   "metadata": {},
   "outputs": [],
   "source": []
  },
  {
   "cell_type": "code",
   "execution_count": null,
   "metadata": {},
   "outputs": [],
   "source": [
    "result = wt.run_water_tap(m)"
   ]
  },
  {
   "cell_type": "code",
   "execution_count": null,
   "metadata": {},
   "outputs": [],
   "source": []
  },
  {
   "cell_type": "code",
   "execution_count": null,
   "metadata": {},
   "outputs": [],
   "source": []
  },
  {
   "cell_type": "code",
   "execution_count": null,
   "metadata": {},
   "outputs": [],
   "source": []
  },
  {
   "cell_type": "code",
   "execution_count": null,
   "metadata": {},
   "outputs": [],
   "source": []
  },
  {
   "cell_type": "code",
   "execution_count": null,
   "metadata": {},
   "outputs": [],
   "source": []
  },
  {
   "cell_type": "code",
   "execution_count": null,
   "metadata": {},
   "outputs": [],
   "source": [
    "unit_process_names = [\n",
    "    \"swoi\", \n",
    "    \"coag_floc\",\n",
    "    \"tri_media_filtration\",\n",
    "    \"SAA\",\n",
    "    \"SBA\",\n",
    "    \"cf\",\n",
    "    \"ro\",\n",
    "    \"lime\",\n",
    "    \"co2\",\n",
    "    \"chlor\",\n",
    "    \"ammonia\",\n",
    "    \"TWS_24_hr\",\n",
    "    \"muni\"\n",
    "]\n",
    "\n",
    "\n",
    "cost_variables = [\n",
    "    \"total_up_cost\",\n",
    "    \"fixed_cap_inv_unadjusted\",\n",
    "    \"fixed_cap_inv\",\n",
    "    \"total_fixed_op_cost\",\n",
    "    \"total_cap_investment\",\n",
    "    \"land_cost\",\n",
    "    \"working_cap\",\n",
    "    \"catalysts_chemicals\",#\n",
    "    #\"electricity\",##\n",
    "    \"cap_replacement_parts\", #\n",
    "    \"salaries\",\n",
    "    \"benefits\",\n",
    "    \"maintenance\",\n",
    "    \"lab\",\n",
    "    \"insurance_taxes\",\n",
    "    \"base_employee_salary_cost\",\n",
    "    \n",
    "    \"cat_and_chem_cost\",##\n",
    "    \"labor_and_other_fixed\",#\n",
    "    \"consumer_price_index\",#\n",
    "    \n",
    "    \"electricity_cost\", ##\n",
    "    \"other_var_cost\"   ## \n",
    "]"
   ]
  },
  {
   "cell_type": "code",
   "execution_count": null,
   "metadata": {},
   "outputs": [],
   "source": [
    "def get_results_table(model, unit_process_names):\n",
    "    data = {} \n",
    "\n",
    "    for variable in cost_variables:\n",
    "        cost_list = []\n",
    "        for node in unit_process_names:\n",
    "            # call m.fs.'node'.costing.'variable'() for each node and variable\n",
    "            costing_attr = getattr(m.fs, node).costing\n",
    "            cost_method = getattr(costing_attr, variable) #m.fs.swoi.costing.total_up_cost\n",
    "            \n",
    "            #Todo: add unit (e.g. million $ or m3/s etc.)\n",
    "            \n",
    "            if type(cost_method) == int:\n",
    "                cost_method = np.float64(cost_method)\n",
    "                \n",
    "            if type(cost_method) == np.float64:\n",
    "                cost_value = cost_method\n",
    "            else:\n",
    "                cost_value = cost_method()\n",
    "            # append ^ to a list\n",
    "            cost_list.append(cost_value)            \n",
    "            \n",
    "        # assign 'variable': List['node' values] in a data dictionary\n",
    "        data[variable] = cost_list\n",
    "    \n",
    "    \n",
    "    df = pd.DataFrame(data = data, index = unit_process_names, columns = cost_variables)\n",
    "    \n",
    "    \n",
    "    \n",
    "    #print(df)\n",
    "    return df\n",
    "    "
   ]
  },
  {
   "cell_type": "code",
   "execution_count": null,
   "metadata": {},
   "outputs": [],
   "source": [
    "get_results_table(m, unit_process_names).to_csv(\"excel_comparison.csv\")"
   ]
  },
  {
   "cell_type": "code",
   "execution_count": null,
   "metadata": {},
   "outputs": [],
   "source": [
    "get_results_table(m, unit_process_names).head()"
   ]
  },
  {
   "cell_type": "code",
   "execution_count": null,
   "metadata": {},
   "outputs": [],
   "source": []
  },
  {
   "cell_type": "code",
   "execution_count": null,
   "metadata": {},
   "outputs": [],
   "source": [
    "variables = cost_variables + [\"inlet_flow\", \"outlet_flow\", \"waste_flow\"]"
   ]
  },
  {
   "cell_type": "code",
   "execution_count": null,
   "metadata": {},
   "outputs": [],
   "source": [
    "def get_results_table(model, unit_process_names, scenario = None, case_study = None):\n",
    "    # could make a dictionary if betteR?\n",
    "    value_list = [] \n",
    "    up_list = []\n",
    "    scenario_list = []\n",
    "    unit_list = []\n",
    "    variable_list = []\n",
    "    case_study_list = []\n",
    "    \n",
    "    for node in unit_process_names:\n",
    "        \n",
    "        for variable in variables:\n",
    "            \n",
    "            if variable == \"inlet_flow\":\n",
    "                value_list.append(getattr(m.fs, node).inlet.flow_vol.extract_values()[0])\n",
    "                variable_list.append(variable)\n",
    "                unit_list.append(\"m3/s\")\n",
    "            elif variable == \"outlet_flow\":\n",
    "                value_list.append(getattr(m.fs, node).outlet.flow_vol.extract_values()[0])\n",
    "                variable_list.append(variable)\n",
    "                unit_list.append(\"m3/s\")\n",
    "            elif variable == \"waste_flow\":\n",
    "                value_list.append(getattr(m.fs, node).waste.flow_vol.extract_values()[0])\n",
    "                variable_list.append(variable)\n",
    "                unit_list.append(\"m3/s\")\n",
    "            else:\n",
    "                # call m.fs.'node'.costing.'variable'() for each node and variable\n",
    "                costing_attr = getattr(m.fs, node).costing\n",
    "                cost_method = getattr(costing_attr, variable) #m.fs.swoi.costing.total_up_cost            \n",
    "            \n",
    "                if type(cost_method) == int:\n",
    "                    cost_method = np.float64(cost_method)\n",
    "\n",
    "                if type(cost_method) == np.float64:\n",
    "                    cost_value = cost_method\n",
    "                else:\n",
    "                    cost_value = cost_method()\n",
    "                # append ^ to a list\n",
    "                value_list.append(cost_value)            \n",
    "                variable_list.append(variable)\n",
    "                unit_list.append(\"$MM\")        \n",
    "        \n",
    "            up_list.append(node)\n",
    "            scenario_list.append(scenario)\n",
    "            case_study_list.append(case_study)\n",
    "    \n",
    "    df = pd.DataFrame()\n",
    "    df[\"Case_Study\"] = case_study_list\n",
    "    df[\"Scenario\"] = scenario_list\n",
    "    df[\"Unit_Process\"] = up_list\n",
    "    df[\"Variable\"] = variable_list\n",
    "    df[\"Unit\"] = unit_list\n",
    "    df[\"Value\"] = value_list\n",
    "    \n",
    "    #print(df)\n",
    "    return df"
   ]
  },
  {
   "cell_type": "code",
   "execution_count": null,
   "metadata": {},
   "outputs": [],
   "source": [
    "t1 = get_results_table(m, unit_process_names, scenario = \"Baseline\", case_study = \"Carlsbad\")"
   ]
  },
  {
   "cell_type": "code",
   "execution_count": null,
   "metadata": {},
   "outputs": [],
   "source": [
    "t1.head()"
   ]
  },
  {
   "cell_type": "code",
   "execution_count": null,
   "metadata": {},
   "outputs": [],
   "source": []
  },
  {
   "cell_type": "code",
   "execution_count": null,
   "metadata": {},
   "outputs": [],
   "source": []
  },
  {
   "cell_type": "code",
   "execution_count": null,
   "metadata": {},
   "outputs": [],
   "source": []
  },
  {
   "cell_type": "code",
   "execution_count": null,
   "metadata": {},
   "outputs": [],
   "source": []
  },
  {
   "cell_type": "code",
   "execution_count": null,
   "metadata": {},
   "outputs": [],
   "source": [
    "t1.to_csv(\"results_v2.csv\")"
   ]
  },
  {
   "cell_type": "code",
   "execution_count": null,
   "metadata": {},
   "outputs": [],
   "source": [
    "m.fs.tri_media_filtration.inlet.flow_vol.extract_values()[0]"
   ]
  },
  {
   "cell_type": "code",
   "execution_count": null,
   "metadata": {},
   "outputs": [],
   "source": [
    "m.fs.tri_media_filtration.costing.salaries()"
   ]
  },
  {
   "cell_type": "code",
   "execution_count": null,
   "metadata": {},
   "outputs": [],
   "source": [
    "m.fs.chlor.costing.catalysts_chemicals"
   ]
  },
  {
   "cell_type": "code",
   "execution_count": null,
   "metadata": {},
   "outputs": [],
   "source": [
    "m.fs.chlor.costing.applied_cl2_dose * 3.78541178 * (0.34) * 1.0948846182937026 * 365 * 2.399478 * 22.824465227271\n"
   ]
  },
  {
   "cell_type": "code",
   "execution_count": null,
   "metadata": {},
   "outputs": [],
   "source": []
  },
  {
   "cell_type": "code",
   "execution_count": null,
   "metadata": {},
   "outputs": [],
   "source": [
    "t1[t1.Unit_Process == \"swoi\"]"
   ]
  },
  {
   "cell_type": "code",
   "execution_count": null,
   "metadata": {},
   "outputs": [],
   "source": []
  },
  {
   "cell_type": "code",
   "execution_count": null,
   "metadata": {},
   "outputs": [],
   "source": []
  },
  {
   "cell_type": "code",
   "execution_count": null,
   "metadata": {},
   "outputs": [],
   "source": []
  },
  {
   "cell_type": "code",
   "execution_count": null,
   "metadata": {
    "scrolled": true
   },
   "outputs": [],
   "source": [
    "results_table = get_results_table(m, unit_process_name)"
   ]
  },
  {
   "cell_type": "code",
   "execution_count": null,
   "metadata": {},
   "outputs": [],
   "source": [
    "results_table.total_up_cost.sum()"
   ]
  },
  {
   "cell_type": "code",
   "execution_count": null,
   "metadata": {},
   "outputs": [],
   "source": [
    "results_table"
   ]
  },
  {
   "cell_type": "code",
   "execution_count": null,
   "metadata": {},
   "outputs": [],
   "source": []
  },
  {
   "cell_type": "code",
   "execution_count": null,
   "metadata": {},
   "outputs": [],
   "source": [
    "#results_table = pd.read_csv('./cost_results.csv',index_col=0)\n",
    "results_table.index.names=['Unit_Process']\n",
    "results_table = results_table.reset_index()\n",
    "df = pd.melt(results_table, id_vars=['Unit_Process'], value_vars=results_table.columns.to_list()[1:])"
   ]
  },
  {
   "cell_type": "code",
   "execution_count": null,
   "metadata": {},
   "outputs": [],
   "source": [
    "df[\"Case_Study\"] = \"Carlsbad\"\n",
    "df[\"Unit\"] = \"Million $\"\n",
    "df[\"Scenario\"] = \"A\"\n"
   ]
  },
  {
   "cell_type": "code",
   "execution_count": null,
   "metadata": {},
   "outputs": [],
   "source": [
    "df"
   ]
  },
  {
   "cell_type": "code",
   "execution_count": null,
   "metadata": {},
   "outputs": [],
   "source": []
  },
  {
   "cell_type": "code",
   "execution_count": null,
   "metadata": {},
   "outputs": [],
   "source": []
  },
  {
   "cell_type": "code",
   "execution_count": null,
   "metadata": {},
   "outputs": [],
   "source": []
  },
  {
   "cell_type": "code",
   "execution_count": null,
   "metadata": {},
   "outputs": [],
   "source": []
  },
  {
   "cell_type": "code",
   "execution_count": null,
   "metadata": {
    "scrolled": true
   },
   "outputs": [],
   "source": [
    "m.fs.tri_media_filtration.inlet.flow_vol.display()"
   ]
  },
  {
   "cell_type": "code",
   "execution_count": null,
   "metadata": {},
   "outputs": [],
   "source": [
    "m.fs.tri_media_filtration.inlet.flow_vol.extract_values()[0]"
   ]
  },
  {
   "cell_type": "code",
   "execution_count": null,
   "metadata": {},
   "outputs": [],
   "source": []
  },
  {
   "cell_type": "code",
   "execution_count": null,
   "metadata": {
    "scrolled": true
   },
   "outputs": [],
   "source": [
    "cost_range_list = []; #results will be inputted in this array\n",
    "#up_name = \"tri_media_filtration\" # which unit process it applies to. TODO hould be user input.\n",
    "\n",
    "#for value_change in pct_to_target1: # cycles through each value from MC range\n",
    "for value_change in [0.4, 0.8]: #, 0.9]:\n",
    "\n",
    "    # create and build model\n",
    "    m = wt.watertap_setup(dynamic = False)\n",
    "    m = wt.case_study_trains.get_case_study(name = 'carlsbad', flow = 4.5833, m = m)\n",
    "\n",
    "    m.fs.tri_media_filtration.water_recovery.fix(value_change)\n",
    "\n",
    "    # set variable to MC value\n",
    "    wt.run_water_tap(m)\n",
    "    results_table = get_results_table(m, unit_process_name)\n",
    "    cost_range_list.append(results_table.total_up_cost.sum())\n"
   ]
  },
  {
   "cell_type": "code",
   "execution_count": null,
   "metadata": {},
   "outputs": [],
   "source": [
    "cost_range_list"
   ]
  },
  {
   "cell_type": "code",
   "execution_count": null,
   "metadata": {},
   "outputs": [],
   "source": []
  },
  {
   "cell_type": "code",
   "execution_count": null,
   "metadata": {},
   "outputs": [],
   "source": []
  },
  {
   "cell_type": "code",
   "execution_count": null,
   "metadata": {},
   "outputs": [],
   "source": []
  },
  {
   "cell_type": "code",
   "execution_count": null,
   "metadata": {},
   "outputs": [],
   "source": []
  },
  {
   "cell_type": "code",
   "execution_count": null,
   "metadata": {},
   "outputs": [],
   "source": []
  },
  {
   "cell_type": "code",
   "execution_count": null,
   "metadata": {},
   "outputs": [],
   "source": []
  },
  {
   "cell_type": "code",
   "execution_count": null,
   "metadata": {},
   "outputs": [],
   "source": []
  },
  {
   "cell_type": "code",
   "execution_count": null,
   "metadata": {},
   "outputs": [],
   "source": []
  },
  {
   "cell_type": "code",
   "execution_count": null,
   "metadata": {},
   "outputs": [],
   "source": [
    "import time\n",
    "from multiprocessing import Pool\n",
    "import multiprocessing\n",
    "\n",
    "mu = 0.6\n",
    "sigma = .1\n",
    "num_reps = 50\n",
    "\n",
    "input_list = np.random.normal(mu,sigma, size = num_reps) #, sigma, num_reps).round(4)\n",
    "\n",
    "count, bins, ignored = plt.hist(input_list, 25, density=True)\n",
    "plt.plot(bins, 1/(sigma * np.sqrt(2 * np.pi)) * np.exp( - (bins - mu)**2 / (2 * sigma**2) ),\n",
    "          linewidth=2, color='r')\n",
    "plt.show()\n",
    "\n",
    "### INPUT TO MODEL LIST: ### CAN BE AUTOMATED FOR USER TO LABEL THE VARIABLE. TOOD ###\n",
    "no_of_proc = 4\n",
    "list_final = []\n",
    "for i in range(no_of_proc):\n",
    "    part2 = len(input_list) / no_of_proc\n",
    "    i2 = ((i+1)*part2)\n",
    "    list1 = input_list[int(i*part2):int(i2)]\n",
    "    list_final.append(list1)\n",
    "    \n",
    "    \n",
    "def monte_run(list_final):\n",
    "    print('goes in')\n",
    "\n",
    "    up_name = \"tri_media_filtration\" # which unit process it applies to. TODO hould be user input.\n",
    "    cost_range_list = []; #results will be inputted in this array\n",
    "\n",
    "    #for value_change in pct_to_target1: # cycles through each value from MC range\n",
    "    for value_change in list_final:\n",
    "\n",
    "        # create and build model\n",
    "        m = wt.watertap_setup(dynamic = False)\n",
    "        m = wt.case_study_trains.get_case_study(name = 'carlsbad', flow = 4.5833, m = m)\n",
    "\n",
    "        getattr(m.fs, up_name).water_recovery.fix(value_change)\n",
    "\n",
    "        # set variable to MC value\n",
    "        result = wt.run_water_tap(m)\n",
    "        results_table = get_results_table(m, unit_process_names)\n",
    "        cost_range_list.append(results_table.total_up_cost.sum())\n",
    "\n",
    "\n",
    "    return cost_range_list\n",
    "\n",
    "startTime = time.time()\n",
    "\n",
    "pool=Pool()\n",
    "dfs = pool.map(monte_run, list_final) #SomeClass().preprocess_data()\n",
    "\n",
    "executionTime = (time.time() - startTime)\n",
    "print('Execution time in seconds: ' + str(executionTime))"
   ]
  },
  {
   "cell_type": "code",
   "execution_count": null,
   "metadata": {},
   "outputs": [],
   "source": []
  },
  {
   "cell_type": "code",
   "execution_count": null,
   "metadata": {},
   "outputs": [],
   "source": []
  },
  {
   "cell_type": "code",
   "execution_count": null,
   "metadata": {},
   "outputs": [],
   "source": []
  },
  {
   "cell_type": "code",
   "execution_count": null,
   "metadata": {},
   "outputs": [],
   "source": []
  },
  {
   "cell_type": "code",
   "execution_count": null,
   "metadata": {},
   "outputs": [],
   "source": [
    "####TO DO LOAD AND SAVE!!"
   ]
  },
  {
   "cell_type": "code",
   "execution_count": null,
   "metadata": {},
   "outputs": [],
   "source": [
    "#### SAVE TRAIN ####\n",
    "# path = 'trains/Tutorial1_treatment_train_example.csv'\n",
    "# wt.save_train(T, path)"
   ]
  },
  {
   "cell_type": "code",
   "execution_count": null,
   "metadata": {},
   "outputs": [],
   "source": [
    "# #### LOAD TRAIN ####\n",
    "# path = 'trains/Tutorial1_treatment_train_example.csv'\n",
    "# TT = wt.load_train(path)"
   ]
  },
  {
   "cell_type": "code",
   "execution_count": null,
   "metadata": {},
   "outputs": [],
   "source": [
    "# wt.display.show_train(TT)"
   ]
  },
  {
   "cell_type": "code",
   "execution_count": null,
   "metadata": {},
   "outputs": [],
   "source": []
  },
  {
   "cell_type": "code",
   "execution_count": null,
   "metadata": {},
   "outputs": [],
   "source": []
  },
  {
   "cell_type": "code",
   "execution_count": null,
   "metadata": {},
   "outputs": [],
   "source": []
  },
  {
   "cell_type": "code",
   "execution_count": null,
   "metadata": {},
   "outputs": [],
   "source": []
  }
 ],
 "metadata": {
  "celltoolbar": "Raw Cell Format",
  "kernelspec": {
   "display_name": "Python 3",
   "language": "python",
   "name": "python3"
  },
  "language_info": {
   "codemirror_mode": {
    "name": "ipython",
    "version": 3
   },
   "file_extension": ".py",
   "mimetype": "text/x-python",
   "name": "python",
   "nbconvert_exporter": "python",
   "pygments_lexer": "ipython3",
   "version": "3.7.4"
  }
 },
 "nbformat": 4,
 "nbformat_minor": 2
}
