{
 "cells": [
  {
   "cell_type": "code",
   "execution_count": 1,
   "metadata": {
    "scrolled": true
   },
   "outputs": [
    {
     "name": "stdout",
     "output_type": "stream",
     "text": [
      "gray_and_black_tank ToUnitName --> water_pumping_station\n",
      "stormwater_tank ToUnitName --> media_filtration\n",
      "treated_storage ToUnitName --> municipal_drinking\n",
      "water_pumping_station ToUnitName --> mbr_nitrification\n",
      "mbr_nitrification ToUnitName --> uv_aop\n",
      "uv_aop ToUnitName --> ozone_aop\n",
      "ozone_aop ToUnitName --> treated_storage\n",
      "media_filtration ToUnitName --> cas\n",
      "cas ToUnitName --> microfiltration\n",
      "microfiltration ToUnitName --> treated_storage\n",
      "agriculture ToUnitName --> nan\n",
      "municipal_drinking ToUnitName --> nan\n",
      "Solaire\n",
      "gray_and_black_tank\n",
      "stormwater_tank\n",
      "treated_storage\n",
      "water_pumping_station\n",
      "mbr_nitrification\n",
      "uv_aop\n",
      "ozone_aop\n",
      "media_filtration\n",
      "cas\n",
      "microfiltration\n",
      "agriculture\n",
      "municipal_drinking\n",
      "adding source\n",
      "adding source\n",
      "adding source\n",
      "[['gray_and_black_tank', 'inlet'], ['treated_storage', 'inlet']]\n"
     ]
    }
   ],
   "source": [
    "import watertap as wt\n",
    "import pandas as pd\n",
    "from pyomo.environ import value, Block\n",
    "from idaes.core import FlowsheetBlock\n",
    "%matplotlib inline\n",
    "from pylab import *\n",
    "import numpy as np\n",
    "import matplotlib.pyplot as plt\n",
    "from case_study_trains import *\n",
    "import case_study_trains\n",
    "# import pyomo.util.infeasible as infeas\n",
    "# print(infeas.log_infeasible_bounds(m))\n",
    "# infeas.log_close_to_bounds(m)\n",
    "\n",
    "\n",
    "m = wt.watertap_setup(dynamic = False)\n",
    "\n",
    "# wt.case_study_trains.train = {\"case_study\": \"KBHDP\",\n",
    "#                              \"reference\": \"NAWI\",\n",
    "#                              \"scenario\": \"Baseline\"}\n",
    "\n",
    "# wt.case_study_trains.train = {\"case_study\": \"Irwin\",\n",
    "#                              \"reference\": \"NAWI\",\n",
    "#                              \"scenario\": \"Baseline\"}\n",
    "\n",
    "# wt.case_study_trains.train = {\"case_study\": \"EMWD\",\n",
    "#                              \"reference\": \"NAWI\",\n",
    "#                              \"scenario\": \"Baseline\"}\n",
    "\n",
    "# wt.case_study_trains.train = {\"case_study\": \"Santa_Barbara\",\n",
    "#                              \"reference\": \"NAWI\",\n",
    "#                              \"scenario\": \"Baseline\"}\n",
    "\n",
    "# wt.case_study_trains.train = {\"case_study\": \"Carlsbad\",\n",
    "#                              \"reference\": \"NAWI\",\n",
    "#                              \"scenario\": \"Baseline\"}\n",
    "\n",
    "# wt.case_study_trains.train = {\"case_study\": \"Ashkelon\",\n",
    "#                              \"reference\": \"NAWI\",\n",
    "#                              \"scenario\": \"Baseline\"}\n",
    "\n",
    "# wt.case_study_trains.train = {\"case_study\": \"Tampa_Bay\",\n",
    "#                              \"reference\": \"NAWI\",\n",
    "#                              \"scenario\": \"Baseline\"}\n",
    "\n",
    "# wt.case_study_trains.train = {\"case_study\": \"HRSD\",\n",
    "#                              \"reference\": \"NAWI\",\n",
    "#                              \"scenario\": \"Baseline\"}\n",
    "\n",
    "# wt.case_study_trains.train = {\"case_study\": \"Big_Spring\",\n",
    "#                              \"reference\": \"NAWI\",\n",
    "#                              \"scenario\": \"Baseline\"}\n",
    "\n",
    "# wt.case_study_trains.train = {\"case_study\": \"OCWD\",\n",
    "#                              \"reference\": \"NAWI\",\n",
    "#                              \"scenario\": \"Baseline\"}\n",
    "\n",
    "wt.case_study_trains.train = {\"case_study\": \"Solaire\",\n",
    "                             \"reference\": \"NAWI\",\n",
    "                             \"scenario\": \"Baseline\"}\n",
    "\n",
    "\n",
    "# TODO LATER: how to make this sync with info in train input data. We might not need to do that.\n",
    "#But, if the source water type is different to what is in the train (pfd dictionary), \n",
    "#then we should updat the node name. If more than two sources - what to do? Needs to be\n",
    "#based on pfd node!?\n",
    "\n",
    "# wt.case_study_trains.source_water = {\"case_study\": \"KBHDP\", \n",
    "#                              \"reference\": \"NAWI\",\n",
    "#                              \"scenario\": \"Baseline\",\n",
    "#                              \"water_type\": \"KBHDP_Brackish_Ave\"}\n",
    "\n",
    "# wt.case_study_trains.source_water = {\"case_study\": \"Irwin\", \n",
    "#                              \"reference\": \"NAWI\",\n",
    "#                              \"scenario\": \"Baseline\",\n",
    "#                              \"water_type\": \"Brackish\"}\n",
    "\n",
    "# wt.case_study_trains.source_water = {\"case_study\": \"EMWD\", \n",
    "#                              \"reference\": \"NAWI\",\n",
    "#                              \"scenario\": \"Baseline\",\n",
    "#                              \"water_type\": \"EMWD_CA_Brackish\"}\n",
    "\n",
    "# wt.case_study_trains.source_water = {\"case_study\": \"Santa_Barbara\", \n",
    "#                              \"reference\": \"NAWI\",\n",
    "#                              \"scenario\": \"Baseline\",\n",
    "#                              \"water_type\": \"Seawater\"}\n",
    "\n",
    "# wt.case_study_trains.source_water = {\"case_study\": \"Carlsbad\", \n",
    "#                              \"reference\": \"NAWI\",\n",
    "#                              \"scenario\": \"Baseline\",\n",
    "#                              \"water_type\": \"Seawater\"}\n",
    "\n",
    "# wt.case_study_trains.source_water = {\"case_study\": \"Ashkelon\", \n",
    "#                              \"reference\": \"NAWI\",\n",
    "#                              \"scenario\": \"Baseline\",\n",
    "#                              \"water_type\": \"Seawater\"}\n",
    "\n",
    "# wt.case_study_trains.source_water = {\"case_study\": \"Tampa_Bay\", \n",
    "#                              \"reference\": \"NAWI\",\n",
    "#                              \"scenario\": \"Baseline\",\n",
    "#                              \"water_type\": \"Seawater\"}\n",
    "# \n",
    "# wt.case_study_trains.source_water = {\"case_study\": \"HRSD\", \n",
    "#                              \"reference\": \"NAWI\",\n",
    "#                              \"scenario\": \"Baseline\",\n",
    "#                              \"water_type\": \"HRSD_Municipal\"}\n",
    "\n",
    "# wt.case_study_trains.source_water = {\"case_study\": \"Big_Spring\", \n",
    "#                              \"reference\": \"NAWI\",\n",
    "#                              \"scenario\": \"Baseline\",\n",
    "#                              \"water_type\": \"Big_Spring_Feed\"}\n",
    "\n",
    "# wt.case_study_trains.source_water = {\"case_study\": \"OCWD\", \n",
    "#                              \"reference\": \"NAWI\",\n",
    "#                              \"scenario\": \"Baseline\",\n",
    "#                              \"water_type\": \"OCWD_Feed\"}\n",
    "\n",
    "wt.case_study_trains.source_water = {\"case_study\": \"Solaire\", \n",
    "                             \"reference\": \"NAWI\",\n",
    "                             \"scenario\": \"Baseline\",\n",
    "                             \"water_type\": [\"Solaire_Graywater\", \"Solaire_Blackwater\", \"Solaire_Stormwater\"]}\n",
    "\n",
    "m = wt.case_study_trains.get_case_study(m=m) # flow is set as case study flow unless defined.\n"
   ]
  },
  {
   "cell_type": "code",
   "execution_count": null,
   "metadata": {},
   "outputs": [],
   "source": []
  },
  {
   "cell_type": "code",
   "execution_count": 2,
   "metadata": {
    "scrolled": false
   },
   "outputs": [
    {
     "data": {
      "text/html": [
       "\n",
       "        <iframe\n",
       "            width=\"100%\"\n",
       "            height=\"500px\"\n",
       "            src=\"tmp/example.html\"\n",
       "            frameborder=\"0\"\n",
       "            allowfullscreen\n",
       "        ></iframe>\n",
       "        "
      ],
      "text/plain": [
       "<IPython.lib.display.IFrame at 0x7ff2f9a29150>"
      ]
     },
     "execution_count": 2,
     "metadata": {},
     "output_type": "execute_result"
    }
   ],
   "source": [
    "wt.display.show_train2(model_name=m)\n",
    "# m.fs.pfd_dict"
   ]
  },
  {
   "cell_type": "code",
   "execution_count": 3,
   "metadata": {
    "scrolled": true
   },
   "outputs": [
    {
     "data": {
      "text/plain": [
       "{'gray_and_black_tank': {'Unit': 'holding_tank',\n",
       "  'Type': 'intake',\n",
       "  'ToUnitName': 'water_pumping_station',\n",
       "  'FromPort': 'outlet',\n",
       "  'Parameter': {'water_type': ['Solaire_Graywater', 'Solaire_Blackwater'],\n",
       "   'avg_storage_time': 1,\n",
       "   'surge_cap': 0.2},\n",
       "  'Unnamed: 9': nan,\n",
       "  'Unnamed: 10': nan,\n",
       "  'Unnamed: 11': nan,\n",
       "  'Unnamed: 12': nan,\n",
       "  'Unnamed: 13': nan},\n",
       " 'stormwater_tank': {'Unit': 'holding_tank',\n",
       "  'Type': 'intake',\n",
       "  'ToUnitName': 'media_filtration',\n",
       "  'FromPort': 'outlet',\n",
       "  'Parameter': {'water_type': ['Solaire_Stormwater'],\n",
       "   'avg_storage_time': 1,\n",
       "   'surge_cap': 0.2},\n",
       "  'Unnamed: 9': nan,\n",
       "  'Unnamed: 10': nan,\n",
       "  'Unnamed: 11': nan,\n",
       "  'Unnamed: 12': nan,\n",
       "  'Unnamed: 13': nan},\n",
       " 'treated_storage': {'Unit': 'holding_tank',\n",
       "  'Type': 'treatment',\n",
       "  'ToUnitName': 'municipal_drinking',\n",
       "  'FromPort': 'outlet',\n",
       "  'Parameter': {'avg_storage_time': 0.125, 'surge_cap': 0.2},\n",
       "  'Unnamed: 9': nan,\n",
       "  'Unnamed: 10': nan,\n",
       "  'Unnamed: 11': nan,\n",
       "  'Unnamed: 12': nan,\n",
       "  'Unnamed: 13': nan},\n",
       " 'water_pumping_station': {'Unit': 'water_pumping_station',\n",
       "  'Type': 'treatment',\n",
       "  'ToUnitName': 'mbr_nitrification',\n",
       "  'FromPort': 'outlet',\n",
       "  'Parameter': {'pump_type': 'raw', 'tdh': 125},\n",
       "  'Unnamed: 9': nan,\n",
       "  'Unnamed: 10': nan,\n",
       "  'Unnamed: 11': nan,\n",
       "  'Unnamed: 12': nan,\n",
       "  'Unnamed: 13': nan},\n",
       " 'mbr_nitrification': {'Unit': 'basic_unit',\n",
       "  'Type': 'treatment',\n",
       "  'ToUnitName': 'uv_aop',\n",
       "  'FromPort': 'outlet',\n",
       "  'Parameter': {'unit_process_name': 'mbr_nitrification'},\n",
       "  'Unnamed: 9': nan,\n",
       "  'Unnamed: 10': nan,\n",
       "  'Unnamed: 11': nan,\n",
       "  'Unnamed: 12': nan,\n",
       "  'Unnamed: 13': nan},\n",
       " 'uv_aop': {'Unit': 'uv_aop',\n",
       "  'Type': 'treatment',\n",
       "  'ToUnitName': 'ozone_aop',\n",
       "  'FromPort': 'outlet',\n",
       "  'Parameter': {'chemical_name': ['Hydrogen_Peroxide'],\n",
       "   'dose': 5,\n",
       "   'uv_dose': 80,\n",
       "   'aop': True},\n",
       "  'Unnamed: 9': nan,\n",
       "  'Unnamed: 10': nan,\n",
       "  'Unnamed: 11': nan,\n",
       "  'Unnamed: 12': nan,\n",
       "  'Unnamed: 13': nan},\n",
       " 'ozone_aop': {'Unit': 'ozone_aop',\n",
       "  'Type': 'treatment',\n",
       "  'ToUnitName': 'treated_storage',\n",
       "  'FromPort': 'outlet',\n",
       "  'Parameter': {'unit_process_name': 'ozone_aop',\n",
       "   'chemical_name': ['Hydrogen_Peroxide'],\n",
       "   'contact_time': 0.1,\n",
       "   'ct': 1,\n",
       "   'mass_transfer': 0.8,\n",
       "   'aop': True},\n",
       "  'Unnamed: 9': nan,\n",
       "  'Unnamed: 10': nan,\n",
       "  'Unnamed: 11': nan,\n",
       "  'Unnamed: 12': nan,\n",
       "  'Unnamed: 13': nan},\n",
       " 'media_filtration': {'Unit': 'media_filtration',\n",
       "  'Type': 'treatment',\n",
       "  'ToUnitName': 'cas',\n",
       "  'FromPort': 'outlet',\n",
       "  'Parameter': {'pump_type': 'raw', 'tdh': 125},\n",
       "  'Unnamed: 9': nan,\n",
       "  'Unnamed: 10': nan,\n",
       "  'Unnamed: 11': nan,\n",
       "  'Unnamed: 12': nan,\n",
       "  'Unnamed: 13': nan},\n",
       " 'cas': {'Unit': 'basic_unit',\n",
       "  'Type': 'treatment',\n",
       "  'ToUnitName': 'microfiltration',\n",
       "  'FromPort': 'outlet',\n",
       "  'Parameter': {'unit_process_name': 'cas'},\n",
       "  'Unnamed: 9': nan,\n",
       "  'Unnamed: 10': nan,\n",
       "  'Unnamed: 11': nan,\n",
       "  'Unnamed: 12': nan,\n",
       "  'Unnamed: 13': nan},\n",
       " 'microfiltration': {'Unit': 'basic_unit',\n",
       "  'Type': 'treatment',\n",
       "  'ToUnitName': 'treated_storage',\n",
       "  'FromPort': 'outlet',\n",
       "  'Parameter': {'unit_process_name': 'microfiltration'},\n",
       "  'Unnamed: 9': nan,\n",
       "  'Unnamed: 10': nan,\n",
       "  'Unnamed: 11': nan,\n",
       "  'Unnamed: 12': nan,\n",
       "  'Unnamed: 13': nan},\n",
       " 'agriculture': {'Unit': 'basic_unit',\n",
       "  'Type': 'use',\n",
       "  'ToUnitName': nan,\n",
       "  'FromPort': nan,\n",
       "  'Parameter': {'unit_process_name': 'agriculture'},\n",
       "  'Unnamed: 9': nan,\n",
       "  'Unnamed: 10': nan,\n",
       "  'Unnamed: 11': nan,\n",
       "  'Unnamed: 12': nan,\n",
       "  'Unnamed: 13': nan},\n",
       " 'municipal_drinking': {'Unit': 'municipal_drinking',\n",
       "  'Type': 'use',\n",
       "  'ToUnitName': nan,\n",
       "  'FromPort': nan,\n",
       "  'Parameter': nan,\n",
       "  'Unnamed: 9': nan,\n",
       "  'Unnamed: 10': nan,\n",
       "  'Unnamed: 11': nan,\n",
       "  'Unnamed: 12': nan,\n",
       "  'Unnamed: 13': nan}}"
      ]
     },
     "execution_count": 3,
     "metadata": {},
     "output_type": "execute_result"
    }
   ],
   "source": [
    "m.fs.pfd_dict"
   ]
  },
  {
   "cell_type": "code",
   "execution_count": 4,
   "metadata": {},
   "outputs": [
    {
     "data": {
      "text/plain": [
       "2.0"
      ]
     },
     "execution_count": 4,
     "metadata": {},
     "output_type": "execute_result"
    }
   ],
   "source": [
    "m.fs.Solaire_Graywater.flow_vol_in[0]()"
   ]
  },
  {
   "cell_type": "code",
   "execution_count": 5,
   "metadata": {},
   "outputs": [
    {
     "data": {
      "text/plain": [
       "4.0"
      ]
     },
     "execution_count": 5,
     "metadata": {},
     "output_type": "execute_result"
    }
   ],
   "source": [
    "m.fs.Solaire_Stormwater.flow_vol_in[0]()"
   ]
  },
  {
   "cell_type": "code",
   "execution_count": null,
   "metadata": {},
   "outputs": [],
   "source": []
  },
  {
   "cell_type": "code",
   "execution_count": null,
   "metadata": {},
   "outputs": [],
   "source": []
  },
  {
   "cell_type": "code",
   "execution_count": 10,
   "metadata": {},
   "outputs": [],
   "source": [
    "m.fs.Big_Spring_Feed.flow_vol_in.fix(0.075)"
   ]
  },
  {
   "cell_type": "code",
   "execution_count": 18,
   "metadata": {
    "scrolled": true
   },
   "outputs": [],
   "source": [
    "#wt.run_water_tap(m=m, solver_results=True, print_model_results=True)"
   ]
  },
  {
   "cell_type": "code",
   "execution_count": 18,
   "metadata": {},
   "outputs": [],
   "source": [
    "#m.fs.reverse_osmosis.feed.pressure.unfix()\n",
    "m.fs.ro_deep.pmax.unfix()\n",
    "#m.fs.reverse_osmosis.membrane_area.unfix()"
   ]
  },
  {
   "cell_type": "code",
   "execution_count": null,
   "metadata": {},
   "outputs": [],
   "source": []
  },
  {
   "cell_type": "code",
   "execution_count": 3,
   "metadata": {
    "scrolled": true
   },
   "outputs": [
    {
     "name": "stdout",
     "output_type": "stream",
     "text": [
      "degrees_of_freedom: 0\n",
      "WaterTAP3 solution optimal\n",
      "----------------------------------------------------------------------\n",
      "fs.gray_and_black_tank\n",
      "inlet : Size=1\n",
      "    Key  : Name        : Value\n",
      "    None :   conc_mass : {(0.0, 'arsenic'): 5.1e-07, (0.0, 'barium'): 4.52e-05, (0.0, 'bod'): 0.25599459945994607, (0.0, 'boron'): 0.0004000000000000001, (0.0, 'calcium'): 0.08045, (0.0, 'chloride'): 0.29792, (0.0, 'electrical_conductivity'): 0.17000000000000004, (0.0, 'fluoride'): 0.00097, (0.0, 'hardness'): 0.312, (0.0, 'iron'): 0.00030225000000000006, (0.0, 'magnesium'): 0.027010000000000003, (0.0, 'manganese'): 5.2600000000000005e-05, (0.0, 'nitrate'): 0.04199819981998203, (0.0, 'nitrate_as_nitrogen'): 0.008640000000000002, (0.0, 'phosphates'): 0.00052, (0.0, 'potassium'): 0.018970000000000004, (0.0, 'selenium'): 1.0600000000000002e-06, (0.0, 'sodium'): 0.23158, (0.0, 'sulfate'): 0.18825000000000003, (0.0, 'tds'): 0.98555, (0.0, 'toc'): 0.009530000000000002, (0.0, 'total_coliforms_fecal_ecoli'): 294.19623, (0.0, 'tss'): 0.006525}\n",
      "         :    flow_vol : {0.0: 0.0011109999999999968}\n",
      "         :    pressure : {0.0: 1.0}\n",
      "         : temperature : {0.0: 300.0}\n",
      "outlet : Size=1\n",
      "    Key  : Name        : Value\n",
      "    None :   conc_mass : {(0.0, 'arsenic'): 5.100510051005096e-07, (0.0, 'barium'): 4.520452045204518e-05, (0.0, 'bod'): 0.2560202014800939, (0.0, 'boron'): 0.0004000400040004, (0.0, 'calcium'): 0.08045804580458038, (0.0, 'chloride'): 0.297949794979498, (0.0, 'electrical_conductivity'): 0.17001700170016984, (0.0, 'fluoride'): 0.0009700970097009702, (0.0, 'hardness'): 0.31203120312031174, (0.0, 'iron'): 0.00030228022802280196, (0.0, 'magnesium'): 0.02701270127012699, (0.0, 'manganese'): 5.260526052605263e-05, (0.0, 'nitrate'): 0.04200240005998805, (0.0, 'nitrate_as_nitrogen'): 0.008640864086408637, (0.0, 'phosphates'): 0.0005200520052005197, (0.0, 'potassium'): 0.018971897189718957, (0.0, 'selenium'): 1.0601060106010603e-06, (0.0, 'sodium'): 0.2316031603160316, (0.0, 'sulfate'): 0.18826882688268823, (0.0, 'tds'): 0.9856485648564853, (0.0, 'toc'): 0.009530953095309536, (0.0, 'total_coliforms_fecal_ecoli'): 294.2256525652565, (0.0, 'tss'): 0.006525652565256523}\n",
      "         :    flow_vol : {0.0: 0.0011108888999999981}\n",
      "         :    pressure : {0.0: 1.0}\n",
      "         : temperature : {0.0: 300.0}\n",
      "waste : Size=1\n",
      "    Key  : Name        : Value\n",
      "    None :   conc_mass : {(0.0, 'arsenic'): 0.0, (0.0, 'barium'): 0.0, (0.0, 'bod'): 0.0, (0.0, 'boron'): 0.0, (0.0, 'calcium'): 0.0, (0.0, 'chloride'): 0.0, (0.0, 'electrical_conductivity'): 0.0, (0.0, 'fluoride'): 0.0, (0.0, 'hardness'): 0.0, (0.0, 'iron'): 0.0, (0.0, 'magnesium'): 0.0, (0.0, 'manganese'): 0.0, (0.0, 'nitrate'): 0.0, (0.0, 'nitrate_as_nitrogen'): 0.0, (0.0, 'phosphates'): 0.0, (0.0, 'potassium'): 1.4040776993888976e-25, (0.0, 'selenium'): 0.0, (0.0, 'sodium'): 0.0, (0.0, 'sulfate'): 0.0, (0.0, 'tds'): 4.103595357208846e-26, (0.0, 'toc'): 7.912304937227497e-27, (0.0, 'total_coliforms_fecal_ecoli'): 0.0, (0.0, 'tss'): 0.0}\n",
      "         :    flow_vol : {0.0: 1.1109999999921817e-07}\n",
      "         :    pressure : {0.0: 1.0}\n",
      "         : temperature : {0.0: 300.0}\n",
      "total_cap_investment: 0.000910413655531629\n",
      "----------------------------------------------------------------------\n",
      "----------------------------------------------------------------------\n",
      "fs.stormwater_tank\n",
      "inlet : Size=1\n",
      "    Key  : Name        : Value\n",
      "    None :   conc_mass : {(0.0, 'arsenic'): 5.1e-07, (0.0, 'barium'): 4.52e-05, (0.0, 'bod'): 1745.1621617042476, (0.0, 'boron'): 0.0004, (0.0, 'calcium'): 0.08045, (0.0, 'chloride'): 0.29792, (0.0, 'electrical_conductivity'): 0.17, (0.0, 'fluoride'): 0.00097, (0.0, 'hardness'): 0.312, (0.0, 'iron'): 0.00030225, (0.0, 'magnesium'): 0.02701, (0.0, 'manganese'): 5.26e-05, (0.0, 'nitrate'): 87520.15309196261, (0.0, 'nitrate_as_nitrogen'): 0.00864, (0.0, 'phosphates'): 0.00052, (0.0, 'potassium'): 0.01897, (0.0, 'selenium'): 1.06e-06, (0.0, 'sodium'): 0.23158, (0.0, 'sulfate'): 0.18825, (0.0, 'tds'): 0.98555, (0.0, 'toc'): 0.00953, (0.0, 'total_coliforms_fecal_ecoli'): 294.19623, (0.0, 'tss'): 0.006525}\n",
      "         :    flow_vol : {0.0: 0.000556}\n",
      "         :    pressure : {0.0: 1.0}\n",
      "         : temperature : {0.0: 300.0}\n",
      "outlet : Size=1\n",
      "    Key  : Name        : Value\n",
      "    None :   conc_mass : {(0.0, 'arsenic'): 5.1005100510051e-07, (0.0, 'barium'): 4.5204520452045206e-05, (0.0, 'bod'): 1745.336695373785, (0.0, 'boron'): 0.00040004000400040005, (0.0, 'calcium'): 0.08045804580458045, (0.0, 'chloride'): 0.2979497949794979, (0.0, 'electrical_conductivity'): 0.17001700170017, (0.0, 'fluoride'): 0.0009700970097009701, (0.0, 'hardness'): 0.312031203120312, (0.0, 'iron'): 0.0003022802280228023, (0.0, 'magnesium'): 0.02701270127012701, (0.0, 'manganese'): 5.2605260526052604e-05, (0.0, 'nitrate'): 87528.90598256087, (0.0, 'nitrate_as_nitrogen'): 0.00864086408640864, (0.0, 'phosphates'): 0.00052005200520052, (0.0, 'potassium'): 0.01897189718971897, (0.0, 'selenium'): 1.06010601060106e-06, (0.0, 'sodium'): 0.23160316031603165, (0.0, 'sulfate'): 0.18826882688268826, (0.0, 'tds'): 0.9856485648564857, (0.0, 'toc'): 0.009530953095309531, (0.0, 'total_coliforms_fecal_ecoli'): 294.2256525652565, (0.0, 'tss'): 0.0065256525652565255}\n",
      "         :    flow_vol : {0.0: 0.0005559444}\n",
      "         :    pressure : {0.0: 1.0}\n",
      "         : temperature : {0.0: 300.0}\n",
      "waste : Size=1\n",
      "    Key  : Name        : Value\n",
      "    None :   conc_mass : {(0.0, 'arsenic'): 0.0, (0.0, 'barium'): 0.0, (0.0, 'bod'): 0.0, (0.0, 'boron'): 0.0, (0.0, 'calcium'): 0.0, (0.0, 'chloride'): 0.0, (0.0, 'electrical_conductivity'): 0.0, (0.0, 'fluoride'): 0.0, (0.0, 'hardness'): 0.0, (0.0, 'iron'): 0.0, (0.0, 'magnesium'): 0.0, (0.0, 'manganese'): 0.0, (0.0, 'nitrate'): 0.0, (0.0, 'nitrate_as_nitrogen'): 0.0, (0.0, 'phosphates'): 0.0, (0.0, 'potassium'): 0.0, (0.0, 'selenium'): 0.0, (0.0, 'sodium'): 0.0, (0.0, 'sulfate'): 0.0, (0.0, 'tds'): 0.0, (0.0, 'toc'): 0.0, (0.0, 'total_coliforms_fecal_ecoli'): 0.0, (0.0, 'tss'): 0.0}\n",
      "         :    flow_vol : {0.0: 5.559999999998141e-08}\n",
      "         :    pressure : {0.0: 1.0}\n",
      "         : temperature : {0.0: 300.0}\n",
      "total_cap_investment: 0.00045111635771953124\n",
      "----------------------------------------------------------------------\n",
      "----------------------------------------------------------------------\n",
      "fs.water_pumping_station\n",
      "inlet : Size=1\n",
      "    Key  : Name        : Value\n",
      "    None :   conc_mass : {(0.0, 'arsenic'): 5.100510051005096e-07, (0.0, 'barium'): 4.520452045204518e-05, (0.0, 'bod'): 0.2560202014800939, (0.0, 'boron'): 0.0004000400040004, (0.0, 'calcium'): 0.08045804580458038, (0.0, 'chloride'): 0.297949794979498, (0.0, 'electrical_conductivity'): 0.17001700170016984, (0.0, 'fluoride'): 0.0009700970097009702, (0.0, 'hardness'): 0.31203120312031174, (0.0, 'iron'): 0.00030228022802280196, (0.0, 'magnesium'): 0.02701270127012699, (0.0, 'manganese'): 5.260526052605263e-05, (0.0, 'nitrate'): 0.04200240005998805, (0.0, 'nitrate_as_nitrogen'): 0.008640864086408637, (0.0, 'phosphates'): 0.0005200520052005197, (0.0, 'potassium'): 0.018971897189718957, (0.0, 'selenium'): 1.0601060106010603e-06, (0.0, 'sodium'): 0.2316031603160316, (0.0, 'sulfate'): 0.18826882688268823, (0.0, 'tds'): 0.9856485648564853, (0.0, 'toc'): 0.009530953095309536, (0.0, 'total_coliforms_fecal_ecoli'): 294.2256525652565, (0.0, 'tss'): 0.006525652565256523}\n",
      "         :    flow_vol : {0.0: 0.0011108888999999962}\n",
      "         :    pressure : {0.0: 1.0}\n",
      "         : temperature : {0.0: 300.0}\n",
      "outlet : Size=1\n",
      "    Key  : Name        : Value\n",
      "    None :   conc_mass : {(0.0, 'arsenic'): 5.101020153020397e-07, (0.0, 'barium'): 4.5209041356180796e-05, (0.0, 'bod'): 0.25604580606069993, (0.0, 'boron'): 0.00040008001200160016, (0.0, 'calcium'): 0.08046609241382176, (0.0, 'chloride'): 0.2979795929387918, (0.0, 'electrical_conductivity'): 0.1700340051006799, (0.0, 'fluoride'): 0.0009701940291038804, (0.0, 'hardness'): 0.31206240936124785, (0.0, 'iron'): 0.00030231045906870885, (0.0, 'magnesium'): 0.02701540281040803, (0.0, 'manganese'): 5.2610521578210444e-05, (0.0, 'nitrate'): 0.04200660072006006, (0.0, 'nitrate_as_nitrogen'): 0.00864172825923456, (0.0, 'phosphates'): 0.0005201040156020799, (0.0, 'potassium'): 0.018973794569175872, (0.0, 'selenium'): 1.0602120318042406e-06, (0.0, 'sodium'): 0.2316263229483264, (0.0, 'sulfate'): 0.18828765564825303, (0.0, 'tds'): 0.9857471395704422, (0.0, 'toc'): 0.009531906285938129, (0.0, 'total_coliforms_fecal_ecoli'): 294.25507807306377, (0.0, 'tss'): 0.006526305195776099}\n",
      "         :    flow_vol : {0.0: 0.0011107778111099963}\n",
      "         :    pressure : {0.0: 1.0}\n",
      "         : temperature : {0.0: 300.0}\n",
      "waste : Size=1\n",
      "    Key  : Name        : Value\n",
      "    None :   conc_mass : {(0.0, 'arsenic'): 5.262339299008017e-25, (0.0, 'barium'): 4.596224632943689e-26, (0.0, 'bod'): 3.1098043215772797e-25, (0.0, 'boron'): 3.1098043652396068e-25, (0.0, 'calcium'): 0.0, (0.0, 'chloride'): 1.2878092837676076e-25, (0.0, 'electrical_conductivity'): 2.1159877868102794e-25, (0.0, 'fluoride'): 2.4472608402756414e-25, (0.0, 'hardness'): 2.2816232529348447e-25, (0.0, 'iron'): 4.1036194266746665e-25, (0.0, 'magnesium'): 6.252657873310093e-26, (0.0, 'manganese'): 2.9441644327971016e-25, (0.0, 'nitrate'): 0.0, (0.0, 'nitrate_as_nitrogen'): 2.944169294509611e-25, (0.0, 'phosphates'): 1.6190807511918095e-25, (0.0, 'potassium'): 4.596298736334435e-26, (0.0, 'selenium'): 0.0, (0.0, 'sodium'): 0.0, (0.0, 'sulfate'): 6.252653871513549e-26, (0.0, 'tds'): 2.944168039123257e-25, (0.0, 'toc'): 6.252657994027486e-26, (0.0, 'total_coliforms_fecal_ecoli'): 2.2816824763871274e-25, (0.0, 'tss'): 1.4534455270272398e-25}\n",
      "         :    flow_vol : {0.0: 1.1108888999988162e-07}\n",
      "         :    pressure : {0.0: 1.0}\n",
      "         : temperature : {0.0: 300.0}\n",
      "total_cap_investment: 0.0028573371869648305\n",
      "----------------------------------------------------------------------\n",
      "----------------------------------------------------------------------\n",
      "fs.media_filtration\n",
      "inlet : Size=1\n",
      "    Key  : Name        : Value\n",
      "    None :   conc_mass : {(0.0, 'arsenic'): 5.1005100510051e-07, (0.0, 'barium'): 4.5204520452045206e-05, (0.0, 'bod'): 1745.336695373785, (0.0, 'boron'): 0.00040004000400040005, (0.0, 'calcium'): 0.08045804580458045, (0.0, 'chloride'): 0.2979497949794979, (0.0, 'electrical_conductivity'): 0.17001700170017, (0.0, 'fluoride'): 0.0009700970097009701, (0.0, 'hardness'): 0.312031203120312, (0.0, 'iron'): 0.0003022802280228023, (0.0, 'magnesium'): 0.02701270127012701, (0.0, 'manganese'): 5.2605260526052604e-05, (0.0, 'nitrate'): 87528.90598256087, (0.0, 'nitrate_as_nitrogen'): 0.00864086408640864, (0.0, 'phosphates'): 0.00052005200520052, (0.0, 'potassium'): 0.01897189718971897, (0.0, 'selenium'): 1.06010601060106e-06, (0.0, 'sodium'): 0.23160316031603165, (0.0, 'sulfate'): 0.18826882688268826, (0.0, 'tds'): 0.9856485648564857, (0.0, 'toc'): 0.009530953095309531, (0.0, 'total_coliforms_fecal_ecoli'): 294.2256525652565, (0.0, 'tss'): 0.0065256525652565255}\n",
      "         :    flow_vol : {0.0: 0.0005559444000000002}\n",
      "         :    pressure : {0.0: 1.0}\n",
      "         : temperature : {0.0: 300.0}\n",
      "outlet : Size=1\n",
      "    Key  : Name        : Value\n",
      "    None :   conc_mass : {(0.0, 'arsenic'): 5.101020153020397e-07, (0.0, 'barium'): 4.520904135618082e-05, (0.0, 'bod'): 1745.5112464984347, (0.0, 'boron'): 0.00040008001200160054, (0.0, 'calcium'): 0.08046609241382183, (0.0, 'chloride'): 0.2979795929387918, (0.0, 'electrical_conductivity'): 0.17003400510068006, (0.0, 'fluoride'): 0.0009701940291038803, (0.0, 'hardness'): 0.3120624093612481, (0.0, 'iron'): 0.0003023104590687091, (0.0, 'magnesium'): 0.027015402810408047, (0.0, 'manganese'): 5.261052157821042e-05, (0.0, 'nitrate'): 87537.65974853572, (0.0, 'nitrate_as_nitrogen'): 0.008641728259234564, (0.0, 'phosphates'): 0.0005201040156020801, (0.0, 'potassium'): 0.01897379456917589, (0.0, 'selenium'): 1.0602120318042406e-06, (0.0, 'sodium'): 0.23162632294832647, (0.0, 'sulfate'): 0.18828765564825306, (0.0, 'tds'): 0.9857471395704426, (0.0, 'toc'): 0.009531906285938124, (0.0, 'total_coliforms_fecal_ecoli'): 294.25507807306377, (0.0, 'tss'): 0.0032631525978880542}\n",
      "         :    flow_vol : {0.0: 0.0005558888055600003}\n",
      "         :    pressure : {0.0: 1.0}\n",
      "         : temperature : {0.0: 300.0}\n",
      "waste : Size=1\n",
      "    Key  : Name        : Value\n",
      "    None :   conc_mass : {(0.0, 'arsenic'): 3.048486510727187e-26, (0.0, 'barium'): 6.240356253417304e-25, (0.0, 'bod'): 1.184694758792717e-24, (0.0, 'boron'): 8.710185243400522e-25, (0.0, 'calcium'): 0.0, (0.0, 'chloride'): 2.283079782244326e-25, (0.0, 'electrical_conductivity'): 4.264129633707434e-25, (0.0, 'fluoride'): 1.1846621595702172e-24, (0.0, 'hardness'): 5.0869177462530685e-25, (0.0, 'iron'): 1.4586862406320513e-25, (0.0, 'magnesium'): 1.6138720214857657e-24, (0.0, 'manganese'): 0.0, (0.0, 'nitrate'): 1.4782868371251327e-24, (0.0, 'nitrate_as_nitrogen'): 5.41834677793946e-25, (0.0, 'phosphates'): 8.712842507992695e-25, (0.0, 'potassium'): 1.5308380935379776e-24, (0.0, 'selenium'): 2.285556267735435e-25, (0.0, 'sodium'): 1.184094846285821e-24, (0.0, 'sulfate'): 2.999765741313202e-26, (0.0, 'tds'): 1.1223139754466674e-25, (0.0, 'toc'): 1.3000355202011593e-24, (0.0, 'total_coliforms_fecal_ecoli'): 6.566365017605355e-25, (0.0, 'tss'): 32.62826282631209}\n",
      "         :    flow_vol : {0.0: 5.5594439999949776e-08}\n",
      "         :    pressure : {0.0: 1.0}\n",
      "         : temperature : {0.0: 300.0}\n",
      "total_cap_investment: 0.27767036923793265\n",
      "----------------------------------------------------------------------\n",
      "----------------------------------------------------------------------\n",
      "fs.municipal_drinking\n",
      "inlet : Size=1\n",
      "    Key  : Name        : Value\n",
      "    None :   conc_mass : {(0.0, 'arsenic'): 5.101020153020396e-07, (0.0, 'barium'): 4.520904135618077e-05, (0.0, 'bod'): 582.356760614077, (0.0, 'boron'): 0.0004000800120016013, (0.0, 'calcium'): 0.08046609241382191, (0.0, 'chloride'): 0.29797959293879217, (0.0, 'electrical_conductivity'): 0.17003400510067979, (0.0, 'fluoride'): 0.0009701940291038796, (0.0, 'hardness'): 0.31206240936124796, (0.0, 'iron'): 0.0003023104590687091, (0.0, 'magnesium'): 0.027015402810408106, (0.0, 'manganese'): 5.261052157821062e-05, (0.0, 'nitrate'): 29196.751943322986, (0.0, 'nitrate_as_nitrogen'): 0.008641728259234559, (0.0, 'phosphates'): 0.0005201040156020813, (0.0, 'potassium'): 0.018973794569175924, (0.0, 'selenium'): 1.0602120318042433e-06, (0.0, 'sodium'): 0.23162632294832675, (0.0, 'sulfate'): 0.1882876556482537, (0.0, 'tds'): 0.9857471395704431, (0.0, 'toc'): 0.009531906285938157, (0.0, 'total_coliforms_fecal_ecoli'): 294.25507807306485, (0.0, 'tss'): 0.005437935163127176}\n",
      "         :    flow_vol : {0.0: 0.0016666666166699953}\n",
      "         :    pressure : {0.0: 1.0}\n",
      "         : temperature : {0.0: 300.0}\n",
      "outlet : Size=1\n",
      "    Key  : Name        : Value\n",
      "    None :   conc_mass : {(0.0, 'arsenic'): 5.101530306051001e-07, (0.0, 'barium'): 4.521356271245202e-05, (0.0, 'bod'): 582.4150021142883, (0.0, 'boron'): 0.00040012002400400165, (0.0, 'calcium'): 0.0804741398278047, (0.0, 'chloride'): 0.2980093938781801, (0.0, 'electrical_conductivity'): 0.17005101020169996, (0.0, 'fluoride'): 0.0009702910582097007, (0.0, 'hardness'): 0.31209361872312025, (0.0, 'iron'): 0.0003023406931380229, (0.0, 'magnesium'): 0.027018104620870193, (0.0, 'manganese'): 5.261578315652628e-05, (0.0, 'nitrate'): 29199.671910514036, (0.0, 'nitrate_as_nitrogen'): 0.008642592518486408, (0.0, 'phosphates'): 0.0005201560312052019, (0.0, 'potassium'): 0.018975692138389764, (0.0, 'selenium'): 1.0603180636106045e-06, (0.0, 'sodium'): 0.23164948789711645, (0.0, 'sulfate'): 0.1883064862968834, (0.0, 'tds'): 0.9858457241428575, (0.0, 'toc'): 0.009532859571895345, (0.0, 'total_coliforms_fecal_ecoli'): 294.28450652371725, (0.0, 'tss'): 0.0054384790110282785}\n",
      "         :    flow_vol : {0.0: 0.0016664999500083282}\n",
      "         :    pressure : {0.0: 1.0}\n",
      "         : temperature : {0.0: 300.0}\n",
      "waste : Size=1\n",
      "    Key  : Name        : Value\n",
      "    None :   conc_mass : {(0.0, 'arsenic'): 3.3006226275043875e-31, (0.0, 'barium'): 2.0459996393576276e-31, (0.0, 'bod'): 1.7068855058685688e-31, (0.0, 'boron'): 3.6882461214677e-31, (0.0, 'calcium'): 2.2693435660138622e-32, (0.0, 'chloride'): 1.731696900230245e-31, (0.0, 'electrical_conductivity'): 1.7851414561869908e-31, (0.0, 'fluoride'): 7.48562325767478e-32, (0.0, 'hardness'): 1.7294399510766662e-31, (0.0, 'iron'): 1.615087860628674e-31, (0.0, 'magnesium'): 7.290622850805572e-32, (0.0, 'manganese'): 1.0570797518978536e-31, (0.0, 'nitrate'): 3.4422687563829925e-31, (0.0, 'nitrate_as_nitrogen'): 4.016436621053437e-31, (0.0, 'phosphates'): 3.6707397191997736e-32, (0.0, 'potassium'): 2.7371075628388348e-31, (0.0, 'selenium'): 1.1483883914878062e-31, (0.0, 'sodium'): 1.7511367556064037e-31, (0.0, 'sulfate'): 1.7730141160684274e-31, (0.0, 'tds'): 1.684917867440402e-31, (0.0, 'toc'): 3.801364413045069e-31, (0.0, 'total_coliforms_fecal_ecoli'): 1.6613252256216583e-31, (0.0, 'tss'): 0.0}\n",
      "         :    flow_vol : {0.0: 1.6666666166703176e-07}\n",
      "         :    pressure : {0.0: 1.0}\n",
      "         : temperature : {0.0: 300.0}\n",
      "total_cap_investment: 0.008501882566422158\n",
      "----------------------------------------------------------------------\n",
      "----------------------------------------------------------------------\n",
      "fs.Solaire_Graywater\n",
      "inlet : Size=1\n",
      "    Key  : Name        : Value\n",
      "    None :   conc_mass : {(0.0, 'arsenic'): 5.1e-07, (0.0, 'barium'): 4.52e-05, (0.0, 'bod'): 0.25, (0.0, 'boron'): 0.0004, (0.0, 'calcium'): 0.08045, (0.0, 'chloride'): 0.29792, (0.0, 'electrical_conductivity'): 0.17, (0.0, 'fluoride'): 0.00097, (0.0, 'hardness'): 0.312, (0.0, 'iron'): 0.00030225, (0.0, 'magnesium'): 0.02701, (0.0, 'manganese'): 5.26e-05, (0.0, 'nitrate'): 0.04, (0.0, 'nitrate_as_nitrogen'): 0.00864, (0.0, 'phosphates'): 0.00052, (0.0, 'potassium'): 0.01897, (0.0, 'selenium'): 1.06e-06, (0.0, 'sodium'): 0.23158, (0.0, 'sulfate'): 0.18825, (0.0, 'tds'): 0.98555, (0.0, 'toc'): 0.00953, (0.0, 'total_coliforms_fecal_ecoli'): 294.19623, (0.0, 'tss'): 0.006525}\n",
      "         :    flow_vol : {0.0: 0.000889}\n",
      "         :    pressure : {0.0: 1}\n",
      "         : temperature : {0.0: 300}\n",
      "outlet : Size=1\n",
      "    Key  : Name        : Value\n",
      "    None :   conc_mass : {(0.0, 'arsenic'): 5.1e-07, (0.0, 'barium'): 4.52e-05, (0.0, 'bod'): 0.25, (0.0, 'boron'): 0.0004, (0.0, 'calcium'): 0.08045, (0.0, 'chloride'): 0.29792, (0.0, 'electrical_conductivity'): 0.17, (0.0, 'fluoride'): 0.00097, (0.0, 'hardness'): 0.312, (0.0, 'iron'): 0.00030225, (0.0, 'magnesium'): 0.02701, (0.0, 'manganese'): 5.26e-05, (0.0, 'nitrate'): 0.04, (0.0, 'nitrate_as_nitrogen'): 0.00864, (0.0, 'phosphates'): 0.00052, (0.0, 'potassium'): 0.01897, (0.0, 'selenium'): 1.06e-06, (0.0, 'sodium'): 0.23158, (0.0, 'sulfate'): 0.18825, (0.0, 'tds'): 0.98555, (0.0, 'toc'): 0.00953, (0.0, 'total_coliforms_fecal_ecoli'): 294.19623, (0.0, 'tss'): 0.006525}\n",
      "         :    flow_vol : {0.0: 0.000889}\n",
      "         :    pressure : {0.0: 1.0}\n",
      "         : temperature : {0.0: 300.0}\n",
      "----------------------------------------------------------------------\n",
      "fs.Solaire_Blackwater\n",
      "inlet : Size=1\n",
      "    Key  : Name        : Value\n",
      "    None :   conc_mass : {(0.0, 'arsenic'): 5.1e-07, (0.0, 'barium'): 4.52e-05, (0.0, 'bod'): 0.28, (0.0, 'boron'): 0.0004, (0.0, 'calcium'): 0.08045, (0.0, 'chloride'): 0.29792, (0.0, 'electrical_conductivity'): 0.17, (0.0, 'fluoride'): 0.00097, (0.0, 'hardness'): 0.312, (0.0, 'iron'): 0.00030225, (0.0, 'magnesium'): 0.02701, (0.0, 'manganese'): 5.26e-05, (0.0, 'nitrate'): 0.05, (0.0, 'nitrate_as_nitrogen'): 0.00864, (0.0, 'phosphates'): 0.00052, (0.0, 'potassium'): 0.01897, (0.0, 'selenium'): 1.06e-06, (0.0, 'sodium'): 0.23158, (0.0, 'sulfate'): 0.18825, (0.0, 'tds'): 0.98555, (0.0, 'toc'): 0.00953, (0.0, 'total_coliforms_fecal_ecoli'): 294.19623, (0.0, 'tss'): 0.006525}\n",
      "         :    flow_vol : {0.0: 0.000222}\n",
      "         :    pressure : {0.0: 1}\n",
      "         : temperature : {0.0: 300}\n",
      "outlet : Size=1\n",
      "    Key  : Name        : Value\n",
      "    None :   conc_mass : {(0.0, 'arsenic'): 5.1e-07, (0.0, 'barium'): 4.52e-05, (0.0, 'bod'): 0.28, (0.0, 'boron'): 0.0004, (0.0, 'calcium'): 0.08045, (0.0, 'chloride'): 0.29792, (0.0, 'electrical_conductivity'): 0.17, (0.0, 'fluoride'): 0.00097, (0.0, 'hardness'): 0.312, (0.0, 'iron'): 0.00030225, (0.0, 'magnesium'): 0.02701, (0.0, 'manganese'): 5.26e-05, (0.0, 'nitrate'): 0.05, (0.0, 'nitrate_as_nitrogen'): 0.00864, (0.0, 'phosphates'): 0.00052, (0.0, 'potassium'): 0.01897, (0.0, 'selenium'): 1.06e-06, (0.0, 'sodium'): 0.23158, (0.0, 'sulfate'): 0.18825, (0.0, 'tds'): 0.98555, (0.0, 'toc'): 0.00953, (0.0, 'total_coliforms_fecal_ecoli'): 294.19623, (0.0, 'tss'): 0.006525}\n",
      "         :    flow_vol : {0.0: 0.000222}\n",
      "         :    pressure : {0.0: 1.0}\n",
      "         : temperature : {0.0: 300.0}\n",
      "----------------------------------------------------------------------\n",
      "fs.Solaire_Stormwater\n",
      "inlet : Size=1\n",
      "    Key  : Name        : Value\n",
      "    None :   conc_mass : {(0.0, 'arsenic'): 5.1e-07, (0.0, 'barium'): 4.52e-05, (0.0, 'bod'): nan, (0.0, 'boron'): 0.0004, (0.0, 'calcium'): 0.08045, (0.0, 'chloride'): 0.29792, (0.0, 'electrical_conductivity'): 0.17, (0.0, 'fluoride'): 0.00097, (0.0, 'hardness'): 0.312, (0.0, 'iron'): 0.00030225, (0.0, 'magnesium'): 0.02701, (0.0, 'manganese'): 5.26e-05, (0.0, 'nitrate'): nan, (0.0, 'nitrate_as_nitrogen'): 0.00864, (0.0, 'phosphates'): 0.00052, (0.0, 'potassium'): 0.01897, (0.0, 'selenium'): 1.06e-06, (0.0, 'sodium'): 0.23158, (0.0, 'sulfate'): 0.18825, (0.0, 'tds'): 0.98555, (0.0, 'toc'): 0.00953, (0.0, 'total_coliforms_fecal_ecoli'): 294.19623, (0.0, 'tss'): 0.006525}\n",
      "         :    flow_vol : {0.0: 0.000556}\n",
      "         :    pressure : {0.0: 1}\n",
      "         : temperature : {0.0: 300}\n",
      "outlet : Size=1\n",
      "    Key  : Name        : Value\n",
      "    None :   conc_mass : {(0.0, 'arsenic'): 5.1e-07, (0.0, 'barium'): 4.52e-05, (0.0, 'bod'): 1745.1621617042476, (0.0, 'boron'): 0.0004, (0.0, 'calcium'): 0.08045, (0.0, 'chloride'): 0.29792, (0.0, 'electrical_conductivity'): 0.17, (0.0, 'fluoride'): 0.00097, (0.0, 'hardness'): 0.312, (0.0, 'iron'): 0.00030225, (0.0, 'magnesium'): 0.02701, (0.0, 'manganese'): 5.26e-05, (0.0, 'nitrate'): 87520.15309196261, (0.0, 'nitrate_as_nitrogen'): 0.00864, (0.0, 'phosphates'): 0.00052, (0.0, 'potassium'): 0.01897, (0.0, 'selenium'): 1.06e-06, (0.0, 'sodium'): 0.23158, (0.0, 'sulfate'): 0.18825, (0.0, 'tds'): 0.98555, (0.0, 'toc'): 0.00953, (0.0, 'total_coliforms_fecal_ecoli'): 294.19623, (0.0, 'tss'): 0.006525}\n",
      "         :    flow_vol : {0.0: 0.000556}\n",
      "         :    pressure : {0.0: 1.0}\n",
      "         : temperature : {0.0: 300.0}\n",
      "----------------------------------------------------------------------\n",
      "fs.mixer1\n",
      "inlet1 : Size=1\n",
      "    Key  : Name        : Value\n",
      "    None :   conc_mass : {(0.0, 'arsenic'): 5.1e-07, (0.0, 'barium'): 4.52e-05, (0.0, 'bod'): 0.25, (0.0, 'boron'): 0.0004, (0.0, 'calcium'): 0.08045, (0.0, 'chloride'): 0.29792, (0.0, 'electrical_conductivity'): 0.17, (0.0, 'fluoride'): 0.00097, (0.0, 'hardness'): 0.312, (0.0, 'iron'): 0.00030225, (0.0, 'magnesium'): 0.02701, (0.0, 'manganese'): 5.26e-05, (0.0, 'nitrate'): 0.04, (0.0, 'nitrate_as_nitrogen'): 0.00864, (0.0, 'phosphates'): 0.00052, (0.0, 'potassium'): 0.01897, (0.0, 'selenium'): 1.06e-06, (0.0, 'sodium'): 0.23158, (0.0, 'sulfate'): 0.18825, (0.0, 'tds'): 0.98555, (0.0, 'toc'): 0.00953, (0.0, 'total_coliforms_fecal_ecoli'): 294.19623, (0.0, 'tss'): 0.006525}\n",
      "         :    flow_vol : {0.0: 0.0008890000000000061}\n",
      "         :    pressure : {0.0: 1.0}\n",
      "         : temperature : {0.0: 300.0}\n",
      "outlet : Size=1\n",
      "    Key  : Name        : Value\n",
      "    None :   conc_mass : {(0.0, 'arsenic'): 5.1e-07, (0.0, 'barium'): 4.52e-05, (0.0, 'bod'): 0.25599459945994607, (0.0, 'boron'): 0.0004000000000000001, (0.0, 'calcium'): 0.08045, (0.0, 'chloride'): 0.29792, (0.0, 'electrical_conductivity'): 0.17000000000000004, (0.0, 'fluoride'): 0.00097, (0.0, 'hardness'): 0.312, (0.0, 'iron'): 0.00030225000000000006, (0.0, 'magnesium'): 0.027010000000000003, (0.0, 'manganese'): 5.2600000000000005e-05, (0.0, 'nitrate'): 0.04199819981998203, (0.0, 'nitrate_as_nitrogen'): 0.008640000000000002, (0.0, 'phosphates'): 0.00052, (0.0, 'potassium'): 0.018970000000000004, (0.0, 'selenium'): 1.0600000000000002e-06, (0.0, 'sodium'): 0.23158, (0.0, 'sulfate'): 0.18825000000000003, (0.0, 'tds'): 0.98555, (0.0, 'toc'): 0.009530000000000002, (0.0, 'total_coliforms_fecal_ecoli'): 294.19623, (0.0, 'tss'): 0.006525}\n",
      "         :    flow_vol : {0.0: 0.0011110000000000098}\n",
      "         :    pressure : {0.0: 1.0}\n",
      "         : temperature : {0.0: 300.0}\n",
      "outlet : Size=1\n",
      "    Key  : Name        : Value\n",
      "    None :   conc_mass : {(0.0, 'arsenic'): 5.101020153020396e-07, (0.0, 'barium'): 4.520904135618077e-05, (0.0, 'bod'): 582.356760614077, (0.0, 'boron'): 0.0004000800120016013, (0.0, 'calcium'): 0.08046609241382191, (0.0, 'chloride'): 0.29797959293879217, (0.0, 'electrical_conductivity'): 0.17003400510067979, (0.0, 'fluoride'): 0.0009701940291038796, (0.0, 'hardness'): 0.31206240936124796, (0.0, 'iron'): 0.0003023104590687091, (0.0, 'magnesium'): 0.027015402810408106, (0.0, 'manganese'): 5.261052157821062e-05, (0.0, 'nitrate'): 29196.751943322986, (0.0, 'nitrate_as_nitrogen'): 0.008641728259234559, (0.0, 'phosphates'): 0.0005201040156020813, (0.0, 'potassium'): 0.018973794569175924, (0.0, 'selenium'): 1.0602120318042433e-06, (0.0, 'sodium'): 0.23162632294832675, (0.0, 'sulfate'): 0.1882876556482537, (0.0, 'tds'): 0.9857471395704431, (0.0, 'toc'): 0.009531906285938157, (0.0, 'total_coliforms_fecal_ecoli'): 294.25507807306485, (0.0, 'tss'): 0.005437935163127176}\n",
      "         :    flow_vol : {0.0: 0.0016666666166699953}\n",
      "         :    pressure : {0.0: 1.0}\n",
      "         : temperature : {0.0: 300.0}\n"
     ]
    }
   ],
   "source": [
    "wt.run_water_tap(m=m, solver_results=False, print_model_results=True, return_results = False, max_attemps=3,\n",
    "                objective = False)"
   ]
  },
  {
   "cell_type": "code",
   "execution_count": null,
   "metadata": {},
   "outputs": [],
   "source": []
  },
  {
   "cell_type": "code",
   "execution_count": null,
   "metadata": {},
   "outputs": [],
   "source": [
    "# __> FOR DISPLAY --->G.remove_node('B')"
   ]
  },
  {
   "cell_type": "code",
   "execution_count": null,
   "metadata": {},
   "outputs": [],
   "source": []
  },
  {
   "cell_type": "code",
   "execution_count": 24,
   "metadata": {},
   "outputs": [
    {
     "data": {
      "text/plain": [
       "9.750032853255545"
      ]
     },
     "execution_count": 24,
     "metadata": {},
     "output_type": "execute_result"
    }
   ],
   "source": [
    "m.fs.ro_deep.pmax[0]()"
   ]
  },
  {
   "cell_type": "code",
   "execution_count": 26,
   "metadata": {},
   "outputs": [
    {
     "data": {
      "text/plain": [
       "0.07147623457186728"
      ]
     },
     "execution_count": 26,
     "metadata": {},
     "output_type": "execute_result"
    }
   ],
   "source": [
    "m.fs.costing.treated_water()"
   ]
  },
  {
   "cell_type": "code",
   "execution_count": 4,
   "metadata": {},
   "outputs": [
    {
     "name": "stdout",
     "output_type": "stream",
     "text": [
      "fs.gray_and_black_tank\n",
      "total_cap_investment: 0.000910413655531629\n",
      "----------------------------------------------------------------------\n",
      "fs.stormwater_tank\n",
      "total_cap_investment: 0.00045111635771953124\n",
      "----------------------------------------------------------------------\n",
      "fs.water_pumping_station\n",
      "total_cap_investment: 0.0028573371869648305\n",
      "----------------------------------------------------------------------\n",
      "fs.media_filtration\n",
      "total_cap_investment: 0.27767036923793265\n",
      "----------------------------------------------------------------------\n",
      "fs.municipal_drinking\n",
      "total_cap_investment: 0.008501882566422158\n",
      "----------------------------------------------------------------------\n",
      "0.5497292313437375\n"
     ]
    }
   ],
   "source": [
    "for b_unit in m.fs.component_objects(Block, descend_into=True):\n",
    "    if hasattr(b_unit, 'costing'):\n",
    "        print(b_unit)\n",
    "        print(\"total_cap_investment:\", b_unit.costing.total_cap_investment())\n",
    "        print(\"----------------------------------------------------------------------\")\n",
    "print(m.fs.costing.LCOW())    "
   ]
  },
  {
   "cell_type": "code",
   "execution_count": null,
   "metadata": {},
   "outputs": [],
   "source": []
  },
  {
   "cell_type": "code",
   "execution_count": null,
   "metadata": {},
   "outputs": [],
   "source": []
  },
  {
   "cell_type": "code",
   "execution_count": null,
   "metadata": {},
   "outputs": [],
   "source": []
  },
  {
   "cell_type": "code",
   "execution_count": null,
   "metadata": {},
   "outputs": [],
   "source": []
  },
  {
   "cell_type": "code",
   "execution_count": null,
   "metadata": {},
   "outputs": [],
   "source": [
    "fs.holding_tank\n",
    "total_cap_investment: 0.013298652226166024\n",
    "----------------------------------------------------------------------\n",
    "fs.microfiltration\n",
    "total_cap_investment: 4.883752574618745\n",
    "----------------------------------------------------------------------\n",
    "fs.ro_deep\n",
    "total_cap_investment: 9.36889628979993\n",
    "----------------------------------------------------------------------\n",
    "fs.uv_aop\n",
    "total_cap_investment: 5.031154293129427\n",
    "----------------------------------------------------------------------\n",
    "fs.treated_storage\n",
    "total_cap_investment: 0.013200538095572246\n",
    "----------------------------------------------------------------------\n",
    "fs.municipal_drinking\n",
    "total_cap_investment: 0.22799158670818181\n",
    "----------------------------------------------------------------------\n",
    "fs.surface_discharge\n",
    "total_cap_investment: 0.3614624226338229\n",
    "----------------------------------------------------------------------\n",
    "0.8624001553052597"
   ]
  },
  {
   "cell_type": "code",
   "execution_count": 8,
   "metadata": {},
   "outputs": [
    {
     "ename": "NameError",
     "evalue": "name 'results' is not defined",
     "output_type": "error",
     "traceback": [
      "\u001b[0;31m---------------------------------------------------------------------------\u001b[0m",
      "\u001b[0;31mNameError\u001b[0m                                 Traceback (most recent call last)",
      "\u001b[0;32m<ipython-input-8-0197e5aee38f>\u001b[0m in \u001b[0;36m<module>\u001b[0;34m\u001b[0m\n\u001b[0;32m----> 1\u001b[0;31m \u001b[0mresults\u001b[0m\u001b[0;34m.\u001b[0m\u001b[0msolver\u001b[0m\u001b[0;34m.\u001b[0m\u001b[0mtermination_condition\u001b[0m\u001b[0;34m\u001b[0m\u001b[0;34m\u001b[0m\u001b[0m\n\u001b[0m",
      "\u001b[0;31mNameError\u001b[0m: name 'results' is not defined"
     ]
    }
   ],
   "source": [
    "results.solver.termination_condition"
   ]
  },
  {
   "cell_type": "code",
   "execution_count": null,
   "metadata": {},
   "outputs": [],
   "source": []
  },
  {
   "cell_type": "code",
   "execution_count": null,
   "metadata": {},
   "outputs": [],
   "source": []
  },
  {
   "cell_type": "code",
   "execution_count": null,
   "metadata": {},
   "outputs": [],
   "source": []
  },
  {
   "cell_type": "code",
   "execution_count": null,
   "metadata": {},
   "outputs": [],
   "source": []
  },
  {
   "cell_type": "code",
   "execution_count": null,
   "metadata": {},
   "outputs": [],
   "source": []
  },
  {
   "cell_type": "code",
   "execution_count": null,
   "metadata": {},
   "outputs": [],
   "source": []
  },
  {
   "cell_type": "code",
   "execution_count": null,
   "metadata": {},
   "outputs": [],
   "source": []
  },
  {
   "cell_type": "code",
   "execution_count": 7,
   "metadata": {},
   "outputs": [],
   "source": [
    "import pyomo.util.infeasible as infeas"
   ]
  },
  {
   "cell_type": "code",
   "execution_count": 8,
   "metadata": {},
   "outputs": [],
   "source": [
    "infeas.log_infeasible_bounds(m)"
   ]
  },
  {
   "cell_type": "code",
   "execution_count": 9,
   "metadata": {},
   "outputs": [
    {
     "name": "stdout",
     "output_type": "stream",
     "text": [
      "INFO: fs.holding_tank.flow_vol_in[0.0] near LB of 1e-08\n",
      "INFO: fs.holding_tank.conc_mass_in[0.0,arsenic] near LB of 0\n",
      "INFO: fs.holding_tank.flow_vol_out[0.0] near LB of 0\n",
      "INFO: fs.holding_tank.flow_vol_waste[0.0] near LB of 0\n",
      "INFO: fs.microfiltration.flow_vol_in[0.0] near LB of 1e-08\n",
      "INFO: fs.microfiltration.flow_vol_out[0.0] near LB of 0\n",
      "INFO: fs.microfiltration.conc_mass_out[0.0,tds] near LB of 0\n",
      "INFO: fs.microfiltration.flow_vol_waste[0.0] near LB of 0\n",
      "INFO: fs.reverse_osmosis.flow_vol_in[0.0] near LB of 1e-08\n",
      "INFO: fs.reverse_osmosis.conc_mass_in[0.0,tds] near LB of 0\n",
      "INFO: fs.reverse_osmosis.flow_vol_out[0.0] near LB of 0\n",
      "INFO: fs.reverse_osmosis.flow_vol_waste[0.0] near LB of 0\n",
      "INFO: fs.reverse_osmosis.conc_mass_waste[0.0,tds] near LB of 0\n",
      "INFO: fs.reverse_osmosis.permeate.mass_flow_h20[0.0] near LB of 0\n",
      "INFO: fs.reverse_osmosis.permeate.mass_flow_tds[0.0] near LB of 0\n",
      "INFO: fs.reverse_osmosis.feed.mass_flow_h20[0.0] near LB of 0\n",
      "INFO: fs.reverse_osmosis.feed.mass_flow_tds[0.0] near LB of 0\n",
      "INFO: fs.reverse_osmosis.feed.water_flux[0.0] near LB of 0.0001\n",
      "INFO: fs.reverse_osmosis.retenate.mass_flow_h20[0.0] near LB of 0\n",
      "INFO: fs.reverse_osmosis.retenate.mass_flow_tds[0.0] near LB of 0\n",
      "INFO: fs.reverse_osmosis.retenate.pressure_osm[0.0] near LB of 0\n",
      "INFO: fs.reverse_osmosis.retenate.water_flux[0.0] near LB of 0.0001\n",
      "INFO: fs.uv_aop.flow_vol_in[0.0] near LB of 1e-08\n",
      "INFO: fs.uv_aop.flow_vol_out[0.0] near LB of 0\n",
      "INFO: fs.uv_aop.flow_vol_waste[0.0] near LB of 0\n",
      "INFO: fs.treated_storage.flow_vol_in[0.0] near LB of 1e-08\n",
      "INFO: fs.treated_storage.flow_vol_out[0.0] near LB of 0\n",
      "INFO: fs.treated_storage.flow_vol_waste[0.0] near LB of 0\n",
      "INFO: fs.municipal_drinking.flow_vol_in[0.0] near LB of 1e-08\n",
      "INFO: fs.municipal_drinking.flow_vol_out[0.0] near LB of 0\n",
      "INFO: fs.municipal_drinking.flow_vol_waste[0.0] near LB of 0\n",
      "INFO: fs.surface_discharge.flow_vol_in[0.0] near LB of 1e-08\n",
      "INFO: fs.surface_discharge.flow_vol_out[0.0] near LB of 0\n",
      "INFO: fs.surface_discharge.flow_vol_waste[0.0] near LB of 0\n",
      "INFO: fs.Big_Spring_Feed.conc_mass_out[0.0,arsenic] near LB of 0\n",
      "INFO: fs.splitter1.flow_vol_outlet1[0.0] near LB of 1e-09\n",
      "INFO: fs.splitter1.flow_vol_outlet2[0.0] near LB of 1e-09\n",
      "INFO: fs.splitter1.flow_vol_in[0.0] near LB of 1e-09\n"
     ]
    }
   ],
   "source": [
    "infeas.log_close_to_bounds(m)"
   ]
  },
  {
   "cell_type": "code",
   "execution_count": 11,
   "metadata": {},
   "outputs": [
    {
     "ename": "AttributeError",
     "evalue": "'_ScalarFlowsheetBlock' object has no attribute 'coag_and_floc'",
     "output_type": "error",
     "traceback": [
      "\u001b[0;31m---------------------------------------------------------------------------\u001b[0m",
      "\u001b[0;31mAttributeError\u001b[0m                            Traceback (most recent call last)",
      "\u001b[0;32m<ipython-input-11-9b3825820ac9>\u001b[0m in \u001b[0;36m<module>\u001b[0;34m\u001b[0m\n\u001b[0;32m----> 1\u001b[0;31m \u001b[0mm\u001b[0m\u001b[0;34m.\u001b[0m\u001b[0mfs\u001b[0m\u001b[0;34m.\u001b[0m\u001b[0mcoag_and_floc\u001b[0m\u001b[0;34m.\u001b[0m\u001b[0mcosting\u001b[0m\u001b[0;34m.\u001b[0m\u001b[0mtotal_cap_investment\u001b[0m\u001b[0;34m(\u001b[0m\u001b[0;34m)\u001b[0m\u001b[0;34m/\u001b[0m\u001b[0;36m3.4\u001b[0m\u001b[0;34m\u001b[0m\u001b[0;34m\u001b[0m\u001b[0m\n\u001b[0m",
      "\u001b[0;32m~/miniconda3/envs/tap-idaes3/lib/python3.7/site-packages/pyomo/core/base/block.py\u001b[0m in \u001b[0;36m__getattr__\u001b[0;34m(self, val)\u001b[0m\n\u001b[1;32m    522\u001b[0m         \u001b[0;31m# throw the \"normal\" AttributeError\u001b[0m\u001b[0;34m\u001b[0m\u001b[0;34m\u001b[0m\u001b[0;34m\u001b[0m\u001b[0m\n\u001b[1;32m    523\u001b[0m         raise AttributeError(\"'%s' object has no attribute '%s'\"\n\u001b[0;32m--> 524\u001b[0;31m                              % (self.__class__.__name__, val))\n\u001b[0m\u001b[1;32m    525\u001b[0m \u001b[0;34m\u001b[0m\u001b[0m\n\u001b[1;32m    526\u001b[0m     \u001b[0;32mdef\u001b[0m \u001b[0m__setattr__\u001b[0m\u001b[0;34m(\u001b[0m\u001b[0mself\u001b[0m\u001b[0;34m,\u001b[0m \u001b[0mname\u001b[0m\u001b[0;34m,\u001b[0m \u001b[0mval\u001b[0m\u001b[0;34m)\u001b[0m\u001b[0;34m:\u001b[0m\u001b[0;34m\u001b[0m\u001b[0;34m\u001b[0m\u001b[0m\n",
      "\u001b[0;31mAttributeError\u001b[0m: '_ScalarFlowsheetBlock' object has no attribute 'coag_and_floc'"
     ]
    }
   ],
   "source": [
    "m.fs.coag_and_floc.costing.total_cap_investment()/3.4"
   ]
  },
  {
   "cell_type": "code",
   "execution_count": null,
   "metadata": {},
   "outputs": [],
   "source": []
  },
  {
   "cell_type": "code",
   "execution_count": 12,
   "metadata": {},
   "outputs": [
    {
     "data": {
      "text/plain": [
       "{'holding_tank': {'Unit': 'holding_tank',\n",
       "  'Type': 'intake',\n",
       "  'ToUnitName': 'microfiltration',\n",
       "  'FromPort': 'outlet',\n",
       "  'Parameter': {'source_type': ['Big_Spring_Feed'],\n",
       "   'avg_storage_time': 0.25,\n",
       "   'surge_cap': 0},\n",
       "  'Unnamed: 9': nan,\n",
       "  'Unnamed: 10': nan,\n",
       "  'Unnamed: 11': nan,\n",
       "  'Unnamed: 12': nan,\n",
       "  'Unnamed: 13': nan},\n",
       " 'microfiltration': {'Unit': 'basic_unit',\n",
       "  'Type': 'treatment',\n",
       "  'ToUnitName': ['reverse_osmosis', 'uv_aop'],\n",
       "  'FromPort': ['outlet', 'outlet'],\n",
       "  'Parameter': {'unit_process_name': 'microfiltration',\n",
       "   'split_fraction': [0.4, 0.6]},\n",
       "  'Unnamed: 9': nan,\n",
       "  'Unnamed: 10': nan,\n",
       "  'Unnamed: 11': nan,\n",
       "  'Unnamed: 12': nan,\n",
       "  'Unnamed: 13': nan},\n",
       " 'reverse_osmosis': {'Unit': 'reverse_osmosis',\n",
       "  'Type': 'treatment',\n",
       "  'ToUnitName': 'uv_aop',\n",
       "  'FromPort': 'outlet',\n",
       "  'Parameter': {'pass': 'first', 'membrane_area': 50000, 'feed_pressure': 65},\n",
       "  'Unnamed: 9': nan,\n",
       "  'Unnamed: 10': nan,\n",
       "  'Unnamed: 11': nan,\n",
       "  'Unnamed: 12': nan,\n",
       "  'Unnamed: 13': nan},\n",
       " 'uv_aop': {'Unit': 'uv_aop',\n",
       "  'Type': 'treatment',\n",
       "  'ToUnitName': 'treated_storage',\n",
       "  'FromPort': 'outlet',\n",
       "  'Parameter': {'chemical_name': ['Hydrogen_Peroxide'],\n",
       "   'dose': 5,\n",
       "   'uv_dose': 100,\n",
       "   'aop': True},\n",
       "  'Unnamed: 9': nan,\n",
       "  'Unnamed: 10': nan,\n",
       "  'Unnamed: 11': nan,\n",
       "  'Unnamed: 12': nan,\n",
       "  'Unnamed: 13': nan},\n",
       " 'treated_storage': {'Unit': 'holding_tank',\n",
       "  'Type': 'treatment',\n",
       "  'ToUnitName': 'municipal_drinking',\n",
       "  'FromPort': 'outlet',\n",
       "  'Parameter': {'avg_storage_time': 0.25, 'surge_cap': 1e-07},\n",
       "  'Unnamed: 9': nan,\n",
       "  'Unnamed: 10': nan,\n",
       "  'Unnamed: 11': nan,\n",
       "  'Unnamed: 12': nan,\n",
       "  'Unnamed: 13': nan},\n",
       " 'municipal_drinking': {'Unit': 'municipal_drinking',\n",
       "  'Type': 'use',\n",
       "  'ToUnitName': nan,\n",
       "  'FromPort': nan,\n",
       "  'Parameter': nan,\n",
       "  'Unnamed: 9': nan,\n",
       "  'Unnamed: 10': nan,\n",
       "  'Unnamed: 11': nan,\n",
       "  'Unnamed: 12': nan,\n",
       "  'Unnamed: 13': nan},\n",
       " 'surface_discharge': {'Unit': 'surface_discharge',\n",
       "  'Type': 'waste',\n",
       "  'ToUnitName': nan,\n",
       "  'FromPort': nan,\n",
       "  'Parameter': nan,\n",
       "  'Unnamed: 9': nan,\n",
       "  'Unnamed: 10': nan,\n",
       "  'Unnamed: 11': nan,\n",
       "  'Unnamed: 12': nan,\n",
       "  'Unnamed: 13': nan}}"
      ]
     },
     "execution_count": 12,
     "metadata": {},
     "output_type": "execute_result"
    }
   ],
   "source": [
    "m.fs.pfd_dict"
   ]
  },
  {
   "cell_type": "code",
   "execution_count": null,
   "metadata": {},
   "outputs": [],
   "source": []
  },
  {
   "cell_type": "code",
   "execution_count": null,
   "metadata": {},
   "outputs": [],
   "source": []
  },
  {
   "cell_type": "code",
   "execution_count": null,
   "metadata": {},
   "outputs": [],
   "source": []
  },
  {
   "cell_type": "code",
   "execution_count": null,
   "metadata": {},
   "outputs": [],
   "source": []
  },
  {
   "cell_type": "code",
   "execution_count": 10,
   "metadata": {},
   "outputs": [],
   "source": [
    "def it_gets_results(appended, print_it=False, write_it=True):    \n",
    "    train = wt.case_study_trains.train\n",
    "\n",
    "    py_var = [\n",
    "        \"fixed_cap_inv\",\n",
    "        \"total_cap_investment\",\n",
    "        \"cat_and_chem_cost\",\n",
    "        \"electricity_cost\",\n",
    "        \"total_fixed_op_cost\",\n",
    "    \"flow_in\", \"flow_out\"]\n",
    "\n",
    "    excel_var = ['Fixed Capital Investment (FCI)',\n",
    "                'Total Capital Investment (TCI)',\n",
    "                'Catalysts and Chemicals',\n",
    "                'Electricity',\n",
    "                'Total Fixed Operating Costs']\n",
    "\n",
    "    case_study = train['case_study']\n",
    "    if print_it:\n",
    "        print(f'\\n######### Case study = {case_study} #########\\n\\n\\n')\n",
    "\n",
    "    cap_inv_tot = []\n",
    "\n",
    "    big_dict = {}\n",
    "\n",
    "    for b_unit in m.fs.component_objects(Block, descend_into=True):\n",
    "        unit = str(b_unit)[3:]\n",
    "        if hasattr(b_unit, 'costing'):\n",
    "            if print_it:\n",
    "                print(f'____________{unit}____________')\n",
    "            py_vals =  []\n",
    "            excel_vals = []\n",
    "            big_dict[unit] = {'python': {}, 'excel': {}}\n",
    "            df = pd.read_csv(\"data/case_study_results.csv\")\n",
    "            df = df[df.case_study == train['case_study']]\n",
    "            df = df[df.scenario == train['scenario']]\n",
    "            df = df[df.unit_process == unit]\n",
    "            flow_in_excel = round(df[df.variable == \"flow_vol_in\"].value.sum(), 5)\n",
    "            flow_out_excel = round(df[df.variable == 'flow_vol_out'].value.sum(), 5)\n",
    "            flow_in_python = round(value(b_unit.inlet.flow_vol[0.0] * 3600), 5)\n",
    "            flow_out_python = round(value(b_unit.outlet.flow_vol[0.0] * 3600), 5)\n",
    "            waste_python = round(value(b_unit.waste.flow_vol[0.0] * 3600), 5)\n",
    "            if print_it:\n",
    "                print(f'\\n#### flow_in\\nPython --> {flow_in_python}')\n",
    "                print(f'Excel --> {flow_in_excel}\\n\\n')\n",
    "                print(f'#### flow out\\nPython --> {flow_out_python}')\n",
    "                print(f'Excel --> {flow_out_excel}\\n\\n')\n",
    "                print(f'#### waste\\nPython--> {waste_python}\\n')\n",
    "            for py, ex in dict(zip(py_var, excel_var)).items():\n",
    "                if print_it:\n",
    "                    print(f'\\n#### {py}')\n",
    "                try:\n",
    "                    num = value(getattr(b_unit.costing, py))\n",
    "                    py_vals.append(num)\n",
    "                    if print_it:\n",
    "                        print(f'Python --> {round(num, 5)}')\n",
    "                except ZeroDivisionError:\n",
    "                    if print_it:\n",
    "                        print(f'Python --> {0} - ERROR')\n",
    "                    py_vals.append(0)\n",
    "\n",
    "                df = pd.read_csv(\"data/case_study_results.csv\")\n",
    "                df = df[df.case_study == train['case_study']]\n",
    "                df = df[df.scenario == train['scenario']]\n",
    "                df = df[df.unit_process == unit]\n",
    "                num = df[df.Variable == ex].value.sum()\n",
    "                if print_it:\n",
    "                    print(f'Excel --> {round(num, 5)}\\n\\n')\n",
    "                excel_vals.append(num)\n",
    "            py_vals.append(flow_in_python)\n",
    "            py_vals.append(flow_out_python)\n",
    "            py_dict = dict(zip(py_var, py_vals))\n",
    "            excel_vals.append(flow_in_excel)\n",
    "            excel_vals.append(flow_out_excel)\n",
    "            excel_dict = dict(zip(py_var, excel_vals))\n",
    "            big_dict[unit]['python'] = py_dict\n",
    "            big_dict[unit]['excel'] = excel_dict\n",
    "\n",
    "    else:\n",
    "        pass \n",
    "\n",
    "    df = pd.DataFrame.from_dict({(i,j): big_dict[i][j] \n",
    "                               for i in big_dict.keys() \n",
    "                               for j in big_dict[i].keys()},\n",
    "                               orient='index')\n",
    "\n",
    "    df['case_study'] = case_study\n",
    "    df['LCOW'] = value(m.fs.costing.LCOW)\n",
    "    if write_it:\n",
    "        df.to_csv(f'results/test_compare_{case_study}_{appended}.csv')"
   ]
  },
  {
   "cell_type": "code",
   "execution_count": null,
   "metadata": {},
   "outputs": [],
   "source": []
  },
  {
   "cell_type": "code",
   "execution_count": null,
   "metadata": {},
   "outputs": [],
   "source": []
  },
  {
   "cell_type": "code",
   "execution_count": null,
   "metadata": {},
   "outputs": [],
   "source": []
  },
  {
   "cell_type": "code",
   "execution_count": null,
   "metadata": {},
   "outputs": [],
   "source": [
    "# wt.run_water_tap(m=m, solver_results=True, print_model_results=True)\n",
    "# it_gets_results('testy1')\n",
    "# wt.run_water_tap(m=m, solver_results=True, print_model_results=False)\n",
    "# it_gets_results('testy2')"
   ]
  },
  {
   "cell_type": "code",
   "execution_count": 6,
   "metadata": {},
   "outputs": [],
   "source": [
    "def do_it_all(append1, append2, solver_results=True, model_results=False):\n",
    "    case_studies = ['Ashkelon', 'Big_Spring', 'Carlsbad', 'EMWD', 'HRSD', 'Irwin', 'KBHDP', 'OCWD', 'Santa_Barbara', 'Solaire', 'Tampa_Bay']\n",
    "    water_sources = ['Seawater', 'Big_Spring_Feed', 'Seawater', 'EMWD_CA_Brackish', 'HRSD_Municipal', 'Brackish', 'KBHDP_Brackish_Ave', 'OCWD_Feed', 'Seawater', 'Solaire_Graywater', 'Seawater']\n",
    "    wt_dict = dict(zip(case_studies, water_sources))\n",
    "    for k, v in wt_dict.items():\n",
    "        \n",
    "        m = wt.watertap_setup(dynamic = False)\n",
    "        \n",
    "        wt.case_study_trains.train = {\"case_study\": k,\n",
    "                                 \"reference\": \"NAWI\",\n",
    "                                 \"scenario\": \"Baseline\"}\n",
    "        \n",
    "        wt.case_study_trains.source_water = {\"case_study\": k, \n",
    "                                 \"reference\": \"NAWI\",\n",
    "                                 \"scenario\": \"Baseline\",\n",
    "                                 \"water_type\": v}\n",
    "        \n",
    "        wt.run_water_tap(m=m, solver_results=solver_results, print_model_results=model_results)\n",
    "        \n",
    "        it_gets_results(append1)\n",
    "        \n",
    "        wt.run_water_tap(m=m, solver_results=solver_results, print_model_results=model_results)\n",
    "        \n",
    "        it_gets_results(append2)\n",
    "# value(m.fs.costing.LCOW)"
   ]
  },
  {
   "cell_type": "code",
   "execution_count": null,
   "metadata": {},
   "outputs": [],
   "source": [
    "# wt.run_water_tap(m=m, solver_results=True, print_model_results=False)"
   ]
  },
  {
   "cell_type": "code",
   "execution_count": null,
   "metadata": {},
   "outputs": [],
   "source": [
    "# df.to_csv(f'results/test_compare_{case_study}.csv')\n",
    "wt.run_water_tap(m=m, solver_results=True, print_model_results=False)\n",
    "\n",
    "train = wt.case_study_trains.train\n",
    "\n",
    "py_var = [\n",
    "    \"fixed_cap_inv\",\n",
    "    \"total_cap_investment\",\n",
    "    \"cat_and_chem_cost\",\n",
    "    \"electricity_cost\",\n",
    "    \"total_fixed_op_cost\",\n",
    "\"flow_in\", \"flow_out\"]\n",
    "\n",
    "excel_var = ['Fixed Capital Investment (FCI)',\n",
    "            'Total Capital Investment (TCI)',\n",
    "            'Catalysts and Chemicals',\n",
    "            'Electricity',\n",
    "            'Total Fixed Operating Costs']\n",
    "\n",
    "case_study = train['case_study']\n",
    "print(f'\\n######### Case study = {case_study} #########\\n\\n\\n')\n",
    "\n",
    "cap_inv_tot = []\n",
    "\n",
    "big_dict = {}\n",
    "\n",
    "for b_unit in m.fs.component_objects(Block, descend_into=True):\n",
    "    unit = str(b_unit)[3:]\n",
    "    if hasattr(b_unit, 'costing'):\n",
    "        print(f'____________{unit}____________')\n",
    "        py_vals =  []\n",
    "        excel_vals = []\n",
    "        big_dict[unit] = {'python': {}, 'excel': {}}\n",
    "        df = pd.read_csv(\"data/case_study_results.csv\")\n",
    "        df = df[df.case_study == train['case_study']]\n",
    "        df = df[df.scenario == train['scenario']]\n",
    "        df = df[df.unit_process == unit]\n",
    "        flow_in_excel = round(df[df.variable == \"flow_vol_in\"].value.sum(), 5)\n",
    "        flow_out_excel = round(df[df.variable == 'flow_vol_out'].value.sum(), 5)\n",
    "        flow_in_python = round(value(b_unit.inlet.flow_vol[0.0] * 3600), 5)\n",
    "        flow_out_python = round(value(b_unit.outlet.flow_vol[0.0] * 3600), 5)\n",
    "        waste_python = round(value(b_unit.waste.flow_vol[0.0] * 3600), 5)\n",
    "        print(f'\\n#### flow_in\\nPython --> {flow_in_python}')\n",
    "        print(f'Excel --> {flow_in_excel}\\n\\n')\n",
    "        print(f'#### flow out\\nPython --> {flow_out_python}')\n",
    "        print(f'Excel --> {flow_out_excel}\\n\\n')\n",
    "        print(f'#### waste\\nPython--> {waste_python}\\n')\n",
    "        for py, ex in dict(zip(py_var, excel_var)).items():\n",
    "            print(f'\\n#### {py}')\n",
    "            try:\n",
    "                num = value(getattr(b_unit.costing, py))\n",
    "                py_vals.append(num)\n",
    "                print(f'Python --> {round(num, 5)}')\n",
    "            except ZeroDivisionError:\n",
    "                print(f'Python --> {0} - ERROR')\n",
    "                py_vals.append(0)\n",
    "            \n",
    "            df = pd.read_csv(\"data/case_study_results.csv\")\n",
    "            df = df[df.case_study == train['case_study']]\n",
    "            df = df[df.scenario == train['scenario']]\n",
    "            df = df[df.unit_process == unit]\n",
    "            num = df[df.Variable == ex].value.sum()\n",
    "            print(f'Excel --> {round(num, 5)}\\n\\n')\n",
    "            excel_vals.append(num)\n",
    "        py_vals.append(flow_in_python)\n",
    "        py_vals.append(flow_out_python)\n",
    "        py_dict = dict(zip(py_var, py_vals))\n",
    "        excel_vals.append(flow_in_excel)\n",
    "        excel_vals.append(flow_out_excel)\n",
    "        excel_dict = dict(zip(py_var, excel_vals))\n",
    "        big_dict[unit]['python'] = py_dict\n",
    "        big_dict[unit]['excel'] = excel_dict\n",
    "        \n",
    "else:\n",
    "    pass \n",
    "\n",
    "df = pd.DataFrame.from_dict({(i,j): big_dict[i][j] \n",
    "                           for i in big_dict.keys() \n",
    "                           for j in big_dict[i].keys()},\n",
    "                           orient='index')\n",
    "\n",
    "df['case_study'] = case_study\n",
    "df['LCOW'] = value(m.fs.costing.LCOW)\n",
    "df.to_csv(f'results/test_compare_{case_study}_new2.csv')"
   ]
  },
  {
   "cell_type": "code",
   "execution_count": null,
   "metadata": {},
   "outputs": [],
   "source": [
    "# value(m.fs.costing.LCOW)"
   ]
  },
  {
   "cell_type": "code",
   "execution_count": null,
   "metadata": {},
   "outputs": [],
   "source": [
    "value(m.fs.coag_and_floc.water_recovery[0])"
   ]
  },
  {
   "cell_type": "code",
   "execution_count": null,
   "metadata": {},
   "outputs": [],
   "source": [
    "df.to_csv(f'results/test_compare_{case_study}_new1.csv')"
   ]
  },
  {
   "cell_type": "code",
   "execution_count": null,
   "metadata": {
    "scrolled": true
   },
   "outputs": [],
   "source": [
    "# df_final = pd.DataFrame()\n",
    "# for case_name in [\"Ashkelon\", \"Carlsbad\", \"Tampa_Bay\"]: #, \"Santa_Barbra\"]: #, \"Ashkelon\"]:\n",
    "\n",
    "#     m = wt.watertap_setup(dynamic = False)\n",
    "\n",
    "#     wt.case_study_trains.train = {\"case_study\": case_name,\n",
    "#                                  \"reference\": \"NAWI\",\n",
    "#                                  \"scenario\": \"Baseline\"}\n",
    "\n",
    "#     # TODO LATER: how to make this sync with info in train input data. We might not need to do that.\n",
    "#     #But, if the source water type is different to what is in the train (pfd dictionary), \n",
    "#     #then we should updat the node name. If more than two sources - what to do? Needs to be\n",
    "#     #based on pfd node!?\n",
    "\n",
    "#     wt.case_study_trains.source_water = {\"case_study\": case_name, \n",
    "#                                  \"reference\": \"NAWI\",\n",
    "#                                  \"scenario\": \"Baseline\",\n",
    "#                                  \"water_type\": \"Seawater\"}\n",
    "    \n",
    "#     m = wt.case_study_trains.get_case_study(m = m) # flow is set as case study flow unless defined.\n",
    "    \n",
    "      \n",
    "#     wt.run_water_tap(m = m, solver_results = False, print_model_results = False)\n",
    "#     print(value(m.fs.costing.LCOW))\n",
    "#     df = get_results_table()\n",
    "#     df[\"case_study\"] = case_name\n",
    "#     df_final = pd.concat([df_final,df])\n",
    "    "
   ]
  },
  {
   "cell_type": "code",
   "execution_count": null,
   "metadata": {},
   "outputs": [],
   "source": [
    "def get_results_table():\n",
    "\n",
    "    train = wt.case_study_trains.train\n",
    "\n",
    "    py_var = [\n",
    "        \"fixed_cap_inv\",\n",
    "        \"total_cap_investment\",\n",
    "        \"cat_and_chem_cost\",\n",
    "        \"electricity_cost\",\n",
    "        \"total_fixed_op_cost\"]\n",
    "\n",
    "    excel_var = ['Fixed Capital Investment (FCI)',\n",
    "                'Total Capital Investment (TCI)',\n",
    "                'Catalysts and Chemicals',\n",
    "                'Electricity',\n",
    "                'Total Fixed Operating Costs']\n",
    "    big_dict = {}\n",
    "    # for letter in ['A', 'B', 'C']:\n",
    "    for b_unit in m.fs.component_objects(Block, descend_into=True):\n",
    "        unit = str(b_unit)[3:]\n",
    "        if hasattr(b_unit, 'costing'):\n",
    "            #print(f'____________{unit}____________')\n",
    "            py_vals =  []\n",
    "            excel_vals = []\n",
    "            big_dict[unit] = {'python': {}, 'excel': {}}\n",
    "            for py, ex in dict(zip(py_var, excel_var)).items():\n",
    "                #print(f'\\n#### {py}')\n",
    "                try:\n",
    "                    num = value(getattr(b_unit.costing, py))\n",
    "                    py_vals.append(num)\n",
    "                    #print(f'Python --> {num}')\n",
    "                except ZeroDivisionError:\n",
    "                    #print(f'Python --> {0} - ERROR')\n",
    "                    py_vals.append(0)\n",
    "                py_dict = dict(zip(py_var, py_vals))\n",
    "                df = pd.read_csv(\"data/case_study_results.csv\")\n",
    "                df = df[df.case_study == train['case_study']]\n",
    "                df = df[df.scenario == train['scenario']]\n",
    "                df = df[df.unit_process == unit]\n",
    "                num = df[df.Variable == ex].value.max()\n",
    "                #print(f'Excel --> {num}\\n\\n')\n",
    "                excel_vals.append(num)\n",
    "                excel_dict = dict(zip(py_var, excel_vals))\n",
    "            big_dict[unit]['python'] = py_dict\n",
    "            big_dict[unit]['excel'] = excel_dict\n",
    "    else:\n",
    "        pass \n",
    "\n",
    "\n",
    "\n",
    "    df = pd.DataFrame.from_dict({(i,j): big_dict[i][j] \n",
    "                               for i in big_dict.keys() \n",
    "                               for j in big_dict[i].keys()},\n",
    "                           orient='index')\n",
    "    \n",
    "    return df"
   ]
  },
  {
   "cell_type": "code",
   "execution_count": null,
   "metadata": {},
   "outputs": [],
   "source": [
    "get_results_table()"
   ]
  },
  {
   "cell_type": "code",
   "execution_count": null,
   "metadata": {},
   "outputs": [],
   "source": [
    "train = case_study_trains.train \n",
    "source_water = case_study_trains.source_water \n",
    "source_or_use = None\n",
    "# getting the list of consituents with removal factors that are bigger than 0\n",
    "df1 = pd.read_csv(\"data/constituent_removal.csv\")\n",
    "df1 = df1[df1.reference == train[\"reference\"]]\n",
    "df1 = df1[df1.case_study == train[\"case_study\"]]\n",
    "df1 = df1[df1.scenario == train[\"scenario\"]]\n",
    "\n",
    "list1 = df1[df1.value >=0].constituent.unique()\n",
    "\n",
    "import importfile\n",
    "\n",
    "# grabs inlet water information\n",
    "# df = importfile.feedwater(\n",
    "#     input_file=\"data/case_study_water_sources.csv\",\n",
    "#     reference = source_water[\"reference\"], \n",
    "#     water_type = source_water[\"water_type\"], \n",
    "#     case_study = source_water[\"case_study\"],\n",
    "#     scenario = source_water[\"scenario\"])\n",
    "\n",
    "df2 = pd.read_csv('data/case_study_water_sources.csv', index_col='variable')\n",
    "df2 = df2[df2.reference == source_water['reference']]\n",
    "df2 = df2[df2.water_type == source_water['water_type']]\n",
    "df2 = df2[df2.case_study == source_water['case_study']]\n",
    "# df = df[df.source_or_use == source_water['source_or_use']]\n",
    "df2 = df2[df2.scenario == source_water['scenario']]\n",
    "df2 = df2.set_index(df2.index)\n",
    "df2['feedwater'] = df2.value\n",
    "df2['SourceNodeName'] = 'source_node'\n",
    "# gets list of consituents in inlet water\n",
    "list2 = df2.index\n",
    "\n",
    "# # combines list\n",
    "final_list = [x for x in list1 if x in list2]\n",
    "print(f'list1 = {list1}')\n",
    "print(f'list2 = {list2}')\n",
    "print(f'final_list = {final_list}')\n",
    "\n"
   ]
  },
  {
   "cell_type": "code",
   "execution_count": null,
   "metadata": {},
   "outputs": [],
   "source": [
    "df1"
   ]
  },
  {
   "cell_type": "code",
   "execution_count": null,
   "metadata": {},
   "outputs": [],
   "source": [
    "df2"
   ]
  },
  {
   "cell_type": "code",
   "execution_count": null,
   "metadata": {},
   "outputs": [],
   "source": [
    "import case_study_trains\n",
    "unit_process = 'ro_deep'\n",
    "train = case_study_trains.train \n",
    "source_water = case_study_trains.source_water \n",
    "\n",
    "df = pd.read_csv(\"data/constituent_removal.csv\")\n",
    "df.case_study = np.where(df.case_study == \"Default\", train[\"case_study\"], df.case_study)\n",
    "df = df[df.reference == train[\"reference\"]]\n",
    "df = df[df.case_study == train[\"case_study\"]]\n",
    "df = df[df.scenario == train[\"scenario\"]]\n",
    "df = df[df.unit_process == unit_process]\n",
    "\n",
    "removal_dict = {}\n",
    "for constituent in df.constituent.unique():\n",
    "    removal_dict[constituent] = df[df.constituent == constituent].value.max()"
   ]
  },
  {
   "cell_type": "code",
   "execution_count": null,
   "metadata": {},
   "outputs": [],
   "source": [
    "df"
   ]
  },
  {
   "cell_type": "code",
   "execution_count": null,
   "metadata": {},
   "outputs": [],
   "source": [
    "removal_dict"
   ]
  },
  {
   "cell_type": "code",
   "execution_count": null,
   "metadata": {},
   "outputs": [],
   "source": [
    "import generate_constituent_list\n",
    "df = pd.read_csv(\"data/water_recovery.csv\")\n",
    "case_study_name = case_study_trains.train[\"case_study\"]\n",
    "unit_process_type = 'microfiltration'\n",
    "unit_process_name = unit_process_type\n",
    "if unit_process_type == \"reverse_osmosis\": unit_process_type = \"ro_deep\"\n",
    "\n",
    "if case_study_name in df[df.unit_process == unit_process_type].case_study:\n",
    "    if \"calculated\" not in df[((df.unit_process == unit_process_type) & (df.case_study == case_study_name))].recovery.max():\n",
    "        flow_recovery_factor = float(df[((df.unit_process == unit_process_type) & (df.case_study == case_study_name))].recovery)\n",
    "        print(f'A = {flow_recovery_factor}\\n')\n",
    "        getattr(m.fs, unit_process_name).water_recovery.fix(flow_recovery_factor)\n",
    "else:\n",
    "    if \"calculated\" not in df[((df.unit_process == unit_process_type) & (df.case_study == \"Default\"))].recovery.max():\n",
    "        flow_recovery_factor = float(df[((df.unit_process == unit_process_type) & (df.case_study == \"Default\"))].recovery)\n",
    "        print(f'B = {flow_recovery_factor}\\n')\n",
    "        getattr(m.fs, unit_process_name).water_recovery.fix(flow_recovery_factor)\n",
    "\n",
    "# Get constituent list and removal rates for this unit process\n",
    "train_constituent_removal_factors = generate_constituent_list.get_removal_factors(unit_process_type)\n",
    "\n",
    "for constituent_name in getattr(m.fs, unit_process_name).config.property_package.component_list:\n",
    "    print(constituent_name)\n",
    "\n",
    "    if constituent_name in train_constituent_removal_factors.keys():\n",
    "        getattr(m.fs, unit_process_name).removal_fraction[:, constituent_name].fix(train_constituent_removal_factors[constituent_name])\n",
    "    else:\n",
    "        getattr(m.fs, unit_process_name).removal_fraction[:, constituent_name].fix(0)"
   ]
  },
  {
   "cell_type": "code",
   "execution_count": null,
   "metadata": {},
   "outputs": [],
   "source": [
    "value(m.fs.microfiltration.water_recovery[0])"
   ]
  },
  {
   "cell_type": "code",
   "execution_count": null,
   "metadata": {},
   "outputs": [],
   "source": [
    "train_constituent_removal_factors"
   ]
  },
  {
   "cell_type": "code",
   "execution_count": null,
   "metadata": {},
   "outputs": [],
   "source": [
    "m.fs.microfiltration.display()"
   ]
  },
  {
   "cell_type": "code",
   "execution_count": null,
   "metadata": {},
   "outputs": [],
   "source": [
    "df[df.unit_process == unit_process_type]"
   ]
  },
  {
   "cell_type": "code",
   "execution_count": null,
   "metadata": {},
   "outputs": [],
   "source": [
    "df"
   ]
  },
  {
   "cell_type": "code",
   "execution_count": null,
   "metadata": {},
   "outputs": [],
   "source": []
  },
  {
   "cell_type": "code",
   "execution_count": null,
   "metadata": {},
   "outputs": [],
   "source": []
  },
  {
   "cell_type": "code",
   "execution_count": null,
   "metadata": {},
   "outputs": [],
   "source": []
  },
  {
   "cell_type": "code",
   "execution_count": null,
   "metadata": {},
   "outputs": [],
   "source": []
  },
  {
   "cell_type": "code",
   "execution_count": null,
   "metadata": {},
   "outputs": [],
   "source": []
  },
  {
   "cell_type": "code",
   "execution_count": null,
   "metadata": {},
   "outputs": [],
   "source": []
  },
  {
   "cell_type": "code",
   "execution_count": null,
   "metadata": {},
   "outputs": [],
   "source": []
  },
  {
   "cell_type": "code",
   "execution_count": null,
   "metadata": {},
   "outputs": [],
   "source": []
  },
  {
   "cell_type": "code",
   "execution_count": null,
   "metadata": {},
   "outputs": [],
   "source": []
  },
  {
   "cell_type": "code",
   "execution_count": null,
   "metadata": {},
   "outputs": [],
   "source": []
  },
  {
   "cell_type": "code",
   "execution_count": null,
   "metadata": {},
   "outputs": [],
   "source": []
  },
  {
   "cell_type": "code",
   "execution_count": null,
   "metadata": {},
   "outputs": [],
   "source": []
  },
  {
   "cell_type": "code",
   "execution_count": null,
   "metadata": {},
   "outputs": [],
   "source": []
  },
  {
   "cell_type": "code",
   "execution_count": null,
   "metadata": {},
   "outputs": [],
   "source": []
  },
  {
   "cell_type": "code",
   "execution_count": null,
   "metadata": {},
   "outputs": [],
   "source": []
  },
  {
   "cell_type": "code",
   "execution_count": null,
   "metadata": {},
   "outputs": [],
   "source": []
  },
  {
   "cell_type": "code",
   "execution_count": null,
   "metadata": {},
   "outputs": [],
   "source": []
  },
  {
   "cell_type": "code",
   "execution_count": null,
   "metadata": {},
   "outputs": [],
   "source": []
  },
  {
   "cell_type": "code",
   "execution_count": null,
   "metadata": {},
   "outputs": [],
   "source": []
  },
  {
   "cell_type": "code",
   "execution_count": null,
   "metadata": {},
   "outputs": [],
   "source": []
  },
  {
   "cell_type": "code",
   "execution_count": null,
   "metadata": {},
   "outputs": [],
   "source": []
  },
  {
   "cell_type": "code",
   "execution_count": null,
   "metadata": {},
   "outputs": [],
   "source": []
  },
  {
   "cell_type": "code",
   "execution_count": null,
   "metadata": {},
   "outputs": [],
   "source": []
  },
  {
   "cell_type": "code",
   "execution_count": null,
   "metadata": {},
   "outputs": [],
   "source": []
  },
  {
   "cell_type": "code",
   "execution_count": null,
   "metadata": {},
   "outputs": [],
   "source": []
  },
  {
   "cell_type": "code",
   "execution_count": null,
   "metadata": {},
   "outputs": [],
   "source": []
  },
  {
   "cell_type": "code",
   "execution_count": null,
   "metadata": {},
   "outputs": [],
   "source": []
  },
  {
   "cell_type": "code",
   "execution_count": null,
   "metadata": {},
   "outputs": [],
   "source": []
  },
  {
   "cell_type": "code",
   "execution_count": null,
   "metadata": {
    "scrolled": true
   },
   "outputs": [],
   "source": [
    "cost_range_list = []; #results will be inputted in this array\n",
    "#up_name = \"tri_media_filtration\" # which unit process it applies to. TODO hould be user input.\n",
    "\n",
    "#for value_change in pct_to_target1: # cycles through each value from MC range\n",
    "for value_change in [0.4, 0.8]: #, 0.9]:\n",
    "\n",
    "    # create and build model\n",
    "    m = wt.watertap_setup(dynamic = False)\n",
    "    m = wt.case_study_trains.get_case_study(name = 'carlsbad', flow = 4.5833, m = m)\n",
    "\n",
    "    m.fs.tri_media_filtration.water_recovery.fix(value_change)\n",
    "\n",
    "    # set variable to MC value\n",
    "    wt.run_water_tap(m)\n",
    "    results_table = get_results_table(m, unit_process_name)\n",
    "    cost_range_list.append(results_table.total_up_cost.sum())\n"
   ]
  },
  {
   "cell_type": "code",
   "execution_count": null,
   "metadata": {},
   "outputs": [],
   "source": [
    "cost_range_list"
   ]
  },
  {
   "cell_type": "code",
   "execution_count": null,
   "metadata": {},
   "outputs": [],
   "source": []
  },
  {
   "cell_type": "code",
   "execution_count": null,
   "metadata": {},
   "outputs": [],
   "source": []
  },
  {
   "cell_type": "code",
   "execution_count": null,
   "metadata": {},
   "outputs": [],
   "source": []
  },
  {
   "cell_type": "code",
   "execution_count": null,
   "metadata": {},
   "outputs": [],
   "source": []
  },
  {
   "cell_type": "code",
   "execution_count": null,
   "metadata": {},
   "outputs": [],
   "source": []
  },
  {
   "cell_type": "code",
   "execution_count": null,
   "metadata": {},
   "outputs": [],
   "source": []
  },
  {
   "cell_type": "code",
   "execution_count": null,
   "metadata": {},
   "outputs": [],
   "source": []
  },
  {
   "cell_type": "code",
   "execution_count": null,
   "metadata": {},
   "outputs": [],
   "source": [
    "#### DO NOT USE THE BELOW ####"
   ]
  },
  {
   "cell_type": "code",
   "execution_count": null,
   "metadata": {},
   "outputs": [],
   "source": [
    "import time\n",
    "from multiprocessing import Pool\n",
    "import multiprocessing\n",
    "\n",
    "mu = 0.6\n",
    "sigma = .1\n",
    "num_reps = 50\n",
    "\n",
    "input_list = np.random.normal(mu,sigma, size = num_reps) #, sigma, num_reps).round(4)\n",
    "\n",
    "count, bins, ignored = plt.hist(input_list, 25, density=True)\n",
    "plt.plot(bins, 1/(sigma * np.sqrt(2 * np.pi)) * np.exp( - (bins - mu)**2 / (2 * sigma**2) ),\n",
    "          linewidth=2, color='r')\n",
    "plt.show()\n",
    "\n",
    "### INPUT TO MODEL LIST: ### CAN BE AUTOMATED FOR USER TO LABEL THE VARIABLE. TOOD ###\n",
    "no_of_proc = 4\n",
    "list_final = []\n",
    "for i in range(no_of_proc):\n",
    "    part2 = len(input_list) / no_of_proc\n",
    "    i2 = ((i+1)*part2)\n",
    "    list1 = input_list[int(i*part2):int(i2)]\n",
    "    list_final.append(list1)\n",
    "    \n",
    "    \n",
    "def monte_run(list_final):\n",
    "    print('goes in')\n",
    "\n",
    "    up_name = \"tri_media_filtration\" # which unit process it applies to. TODO hould be user input.\n",
    "    cost_range_list = []; #results will be inputted in this array\n",
    "\n",
    "    #for value_change in pct_to_target1: # cycles through each value from MC range\n",
    "    for value_change in list_final:\n",
    "\n",
    "        # create and build model\n",
    "        m = wt.watertap_setup(dynamic = False)\n",
    "        m = wt.case_study_trains.get_case_study(name = 'carlsbad', flow = 4.5833, m = m)\n",
    "\n",
    "        getattr(m.fs, up_name).water_recovery.fix(value_change)\n",
    "\n",
    "        # set variable to MC value\n",
    "        result = wt.run_water_tap(m)\n",
    "        results_table = get_results_table(m, unit_process_names)\n",
    "        cost_range_list.append(results_table.total_up_cost.sum())\n",
    "\n",
    "\n",
    "    return cost_range_list\n",
    "\n",
    "startTime = time.time()\n",
    "\n",
    "pool=Pool()\n",
    "dfs = pool.map(monte_run, list_final) #SomeClass().preprocess_data()\n",
    "\n",
    "executionTime = (time.time() - startTime)\n",
    "print('Execution time in seconds: ' + str(executionTime))"
   ]
  },
  {
   "cell_type": "code",
   "execution_count": null,
   "metadata": {},
   "outputs": [],
   "source": []
  },
  {
   "cell_type": "code",
   "execution_count": null,
   "metadata": {},
   "outputs": [],
   "source": []
  },
  {
   "cell_type": "code",
   "execution_count": null,
   "metadata": {},
   "outputs": [],
   "source": []
  },
  {
   "cell_type": "code",
   "execution_count": null,
   "metadata": {},
   "outputs": [],
   "source": []
  },
  {
   "cell_type": "code",
   "execution_count": null,
   "metadata": {},
   "outputs": [],
   "source": [
    "####TO DO LOAD AND SAVE!!"
   ]
  },
  {
   "cell_type": "code",
   "execution_count": null,
   "metadata": {},
   "outputs": [],
   "source": [
    "#### SAVE TRAIN ####\n",
    "# path = 'trains/Tutorial1_treatment_train_example.csv'\n",
    "# wt.save_train(T, path)"
   ]
  },
  {
   "cell_type": "code",
   "execution_count": null,
   "metadata": {},
   "outputs": [],
   "source": [
    "# #### LOAD TRAIN ####\n",
    "# path = 'trains/Tutorial1_treatment_train_example.csv'\n",
    "# TT = wt.load_train(path)"
   ]
  },
  {
   "cell_type": "code",
   "execution_count": null,
   "metadata": {},
   "outputs": [],
   "source": [
    "# wt.display.show_train(TT)"
   ]
  },
  {
   "cell_type": "code",
   "execution_count": null,
   "metadata": {},
   "outputs": [],
   "source": []
  },
  {
   "cell_type": "code",
   "execution_count": null,
   "metadata": {},
   "outputs": [],
   "source": []
  },
  {
   "cell_type": "code",
   "execution_count": null,
   "metadata": {},
   "outputs": [],
   "source": []
  },
  {
   "cell_type": "code",
   "execution_count": null,
   "metadata": {},
   "outputs": [],
   "source": []
  }
 ],
 "metadata": {
  "celltoolbar": "Raw Cell Format",
  "kernelspec": {
   "display_name": "Python 3",
   "language": "python",
   "name": "python3"
  },
  "language_info": {
   "codemirror_mode": {
    "name": "ipython",
    "version": 3
   },
   "file_extension": ".py",
   "mimetype": "text/x-python",
   "name": "python",
   "nbconvert_exporter": "python",
   "pygments_lexer": "ipython3",
   "version": "3.7.4"
  }
 },
 "nbformat": 4,
 "nbformat_minor": 4
}
