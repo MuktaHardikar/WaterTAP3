{
 "cells": [
  {
   "cell_type": "code",
   "execution_count": 1,
   "metadata": {},
   "outputs": [],
   "source": [
    "from pyomo.environ import ConcreteModel, SolverFactory, TransformationFactory\n",
    "from pyomo.network import Arc, SequentialDecomposition\n",
    "import pyomo.environ as env\n",
    "\n",
    "from idaes.core import FlowsheetBlock\n",
    "\n",
    "# Import properties and units from \"WaterTAP Library\"\n",
    "from water_props import WaterParameterBlock\n",
    "#from model_example import UnitProcess\n",
    "from source_example import Source\n",
    "from split_test2 import Separator1\n",
    "\n",
    "from mixer_example import Mixer1\n",
    "\n",
    "import financials\n",
    "\n",
    "import watertap as wt\n",
    "\n",
    "from pyomo.environ import ConcreteModel, SolverFactory, TerminationCondition, \\\n",
    "    value, Var, Constraint, Expression, Objective, TransformationFactory, units as pyunits\n",
    "from pyomo.network import Arc, SequentialDecomposition\n",
    "from idaes.core import FlowsheetBlock\n",
    "from idaes.generic_models.unit_models import Mixer, Pump\n",
    "\n",
    "from idaes.generic_models.unit_models import Separator as Splitter\n",
    "\n",
    "from idaes.core.util.model_statistics import degrees_of_freedom\n",
    "from pyomo.util.check_units import assert_units_consistent\n",
    "import pyomo.util.infeasible as infeas\n",
    "import idaes.core.util.scaling as iscale"
   ]
  },
  {
   "cell_type": "markdown",
   "metadata": {},
   "source": [
    "#### This workbook includes the ability to: add a unit process, a source, and use, a splitter, and a mixer. The mixer can take multiple inlets with one outlet. The splitter on inlet and ONLY TWO outlets. Nano and chlorination tested only. Optimization works by unfixing variables such as the splitter fraction."
   ]
  },
  {
   "cell_type": "code",
   "execution_count": 2,
   "metadata": {},
   "outputs": [],
   "source": [
    "# -----------------------------------------------------------------------------\n",
    "# Create a Pyomo model\n",
    "m = ConcreteModel()\n",
    "\n",
    "# Add an IDAES FlowsheetBlock and set it to steady-state\n",
    "m.fs = FlowsheetBlock(default={\"dynamic\": False})\n",
    "\n",
    "# Add water property package\n",
    "m.fs.water = WaterParameterBlock()"
   ]
  },
  {
   "cell_type": "code",
   "execution_count": 3,
   "metadata": {},
   "outputs": [],
   "source": [
    "m = wt.design.add_water_source(m = m, source_name = \"source1\", link_to = None, \n",
    "                     reference = \"Poseidon\", water_type = \"Wastewater\", \n",
    "                     case_study = \"Typical untreated domestic wastewater\",\n",
    "                               flow = 100)"
   ]
  },
  {
   "cell_type": "code",
   "execution_count": 4,
   "metadata": {},
   "outputs": [],
   "source": [
    "# unit models\n",
    "m.fs.splitter1 = Separator1(default={\n",
    "    \"property_package\": m.fs.water,\n",
    "    \"ideal_separation\": False,\n",
    "    \"outlet_list\": ['outlet1', 'outlet2']})\n",
    "\n",
    "m.fs.splitter1.split_fraction[0, \"outlet1\"].fix(1-0.01) #fix(0.5)"
   ]
  },
  {
   "cell_type": "code",
   "execution_count": 5,
   "metadata": {},
   "outputs": [
    {
     "name": "stderr",
     "output_type": "stream",
     "text": [
      "/Users/amiara/NAWI/WaterTap/IDAES-WaterTAP3_v2/ml_regression.py:149: RuntimeWarning: divide by zero encountered in power\n",
      "  return a*np.power(x, b)\n",
      "/Users/amiara/NAWI/WaterTap/IDAES-WaterTAP3_v2/ml_regression.py:149: RuntimeWarning: divide by zero encountered in power\n",
      "  return a*np.power(x, b)\n",
      "/Users/amiara/NAWI/WaterTap/IDAES-WaterTAP3_v2/ml_regression.py:149: RuntimeWarning: divide by zero encountered in power\n",
      "  return a*np.power(x, b)\n",
      "/Users/amiara/NAWI/WaterTap/IDAES-WaterTAP3_v2/ml_regression.py:149: RuntimeWarning: divide by zero encountered in power\n",
      "  return a*np.power(x, b)\n",
      "/Users/amiara/NAWI/WaterTap/IDAES-WaterTAP3_v2/ml_regression.py:149: RuntimeWarning: divide by zero encountered in power\n",
      "  return a*np.power(x, b)\n",
      "/Users/amiara/NAWI/WaterTap/IDAES-WaterTAP3_v2/ml_regression.py:149: RuntimeWarning: divide by zero encountered in power\n",
      "  return a*np.power(x, b)\n",
      "/Users/amiara/NAWI/WaterTap/IDAES-WaterTAP3_v2/ml_regression.py:149: RuntimeWarning: divide by zero encountered in power\n",
      "  return a*np.power(x, b)\n",
      "/Users/amiara/NAWI/WaterTap/IDAES-WaterTAP3_v2/ml_regression.py:149: RuntimeWarning: divide by zero encountered in power\n",
      "  return a*np.power(x, b)\n"
     ]
    }
   ],
   "source": [
    "m = wt.design.add_unit_process(m = m, unit_process_name = \"CL01\", unit_process_type = 'chlorination_twb')\n",
    "m.fs.mixer1 = Mixer1(default={\"property_package\": m.fs.water, \"inlet_list\": [\"inlet1\", \"inlet2\"]})"
   ]
  },
  {
   "cell_type": "code",
   "execution_count": 6,
   "metadata": {},
   "outputs": [],
   "source": [
    "# SPLITTER TEST\n",
    "# m = add_unit_process(m = m, unit_process_name = \"CL02\", unit_process_type = 'chlorination')\n",
    "# m.fs.arc1 = Arc(source=m.fs.source1.outlet, destination=m.fs.splitter1.inlet)\n",
    "# m.fs.arc2 = Arc(source=m.fs.splitter1.outlet1, destination=m.fs.CL01.inlet)\n",
    "# m.fs.arc3 = Arc(source=m.fs.splitter1.outlet2, destination=m.fs.CL02.inlet)\n",
    "# m.fs.arc4 = Arc(source=m.fs.CL01.outlet, destination=m.fs.mixer1.inlet1)\n",
    "# m.fs.arc5 = Arc(source=m.fs.CL02.outlet, destination=m.fs.mixer1.inlet2)"
   ]
  },
  {
   "cell_type": "code",
   "execution_count": 7,
   "metadata": {},
   "outputs": [],
   "source": [
    "# FULL WITH RECYCLE\n",
    "m.fs.enduse = Mixer1(default={\"property_package\": m.fs.water, \"inlet_list\": [\"inlet\"]})\n",
    "m.fs.arc1 = Arc(source=m.fs.source1.outlet, destination=m.fs.mixer1.inlet1)\n",
    "m.fs.arc2 = Arc(source=m.fs.mixer1.outlet, destination=m.fs.CL01.inlet)\n",
    "m.fs.arc3 = Arc(source=m.fs.CL01.outlet, destination=m.fs.splitter1.inlet)\n",
    "m.fs.arc4 = Arc(source=m.fs.splitter1.outlet1, destination=m.fs.mixer1.inlet2)\n",
    "m.fs.arc5 = Arc(source=m.fs.splitter1.outlet2, destination=m.fs.enduse.inlet)"
   ]
  },
  {
   "cell_type": "code",
   "execution_count": null,
   "metadata": {},
   "outputs": [],
   "source": []
  },
  {
   "cell_type": "code",
   "execution_count": 8,
   "metadata": {},
   "outputs": [
    {
     "name": "stdout",
     "output_type": "stream",
     "text": [
      "degrees_of_freedom: 0\n"
     ]
    }
   ],
   "source": [
    "# Transform Arc to construct linking equations\n",
    "TransformationFactory(\"network.expand_arcs\").apply_to(m)\n",
    "seq = SequentialDecomposition()\n",
    "G = seq.create_graph(m)\n",
    "print(\"degrees_of_freedom:\", degrees_of_freedom(m))"
   ]
  },
  {
   "cell_type": "code",
   "execution_count": 9,
   "metadata": {},
   "outputs": [
    {
     "data": {
      "text/html": [
       "\n",
       "        <iframe\n",
       "            width=\"100%\"\n",
       "            height=\"500px\"\n",
       "            src=\"tmp/example.html\"\n",
       "            frameborder=\"0\"\n",
       "            allowfullscreen\n",
       "        ></iframe>\n",
       "        "
      ],
      "text/plain": [
       "<IPython.lib.display.IFrame at 0x7f98fb8c6f10>"
      ]
     },
     "execution_count": 9,
     "metadata": {},
     "output_type": "execute_result"
    }
   ],
   "source": [
    "import display\n",
    "display.show_train2(G)"
   ]
  },
  {
   "cell_type": "code",
   "execution_count": 10,
   "metadata": {
    "scrolled": true
   },
   "outputs": [
    {
     "name": "stdout",
     "output_type": "stream",
     "text": [
      "Ipopt 3.12.13: \n",
      "\n",
      "******************************************************************************\n",
      "This program contains Ipopt, a library for large-scale nonlinear optimization.\n",
      " Ipopt is released as open source code under the Eclipse Public License (EPL).\n",
      "         For more information visit http://projects.coin-or.org/Ipopt\n",
      "******************************************************************************\n",
      "\n",
      "This is Ipopt version 3.12.13, running with linear solver mumps.\n",
      "NOTE: Other linear solvers might be more efficient (see Ipopt documentation).\n",
      "\n",
      "Number of nonzeros in equality constraint Jacobian...:      193\n",
      "Number of nonzeros in inequality constraint Jacobian.:        0\n",
      "Number of nonzeros in Lagrangian Hessian.............:       32\n",
      "\n",
      "Total number of variables............................:       79\n",
      "                     variables with only lower bounds:        0\n",
      "                variables with lower and upper bounds:        1\n",
      "                     variables with only upper bounds:        0\n",
      "Total number of equality constraints.................:       79\n",
      "Total number of inequality constraints...............:        0\n",
      "        inequality constraints with only lower bounds:        0\n",
      "   inequality constraints with lower and upper bounds:        0\n",
      "        inequality constraints with only upper bounds:        0\n",
      "\n",
      "iter    objective    inf_pr   inf_du lg(mu)  ||d||  lg(rg) alpha_du alpha_pr  ls\n",
      "   0  6.6030374e+00 1.00e+05 2.08e+00  -1.0 0.00e+00    -  0.00e+00 0.00e+00   0\n",
      "   1  9.7227891e+00 1.00e+05 4.47e+09  -1.0 1.00e+05  -2.0 5.51e-01 2.42e-04h 13\n",
      "   2  1.4837889e+01 9.99e+04 1.43e+11  -1.0 1.14e+05    -  1.00e+00 9.67e-04h 11\n",
      "   3  2.2874889e+01 9.95e+04 9.45e+11  -1.0 9.99e+04    -  1.00e+00 3.87e-03h  9\n",
      "   4  3.0482876e+01 9.87e+04 1.85e+12  -1.0 9.95e+04    -  1.00e+00 7.73e-03h  8\n",
      "   5  4.4710769e+01 9.57e+04 2.35e+12  -1.0 9.87e+04    -  1.00e+00 3.09e-02h  6\n",
      "   6  5.8625876e+01 8.97e+04 2.74e+12  -1.0 9.57e+04    -  1.00e+00 6.19e-02h  5\n",
      "   7  8.4275288e+01 6.75e+04 3.00e+12  -1.0 8.97e+04    -  1.00e+00 2.48e-01h  3\n",
      "   8  1.0532316e+02 3.41e+04 3.20e+12  -1.0 6.75e+04    -  1.00e+00 4.95e-01h  2\n",
      "   9  1.1998077e+02 1.37e+04 2.43e+12  -1.0 3.41e+04    -  1.00e+00 9.90e-01h  1\n",
      "iter    objective    inf_pr   inf_du lg(mu)  ||d||  lg(rg) alpha_du alpha_pr  ls\n",
      "  10  1.2010865e+02 9.05e+01 1.61e+10  -1.0 2.11e+03    -  1.00e+00 9.90e-01h  1\n",
      "  11  1.2010993e+02 7.13e+00 1.51e+08  -1.0 2.11e+05    -  1.00e+00 9.91e-01h  1\n",
      "  12  1.2010994e+02 7.20e+00 4.84e+01  -1.0 2.25e+07    -  1.00e+00 1.00e+00h  1\n",
      "  13  1.2010994e+02 3.47e+00 2.41e+14  -1.0 4.51e+15    -  1.00e+00 1.22e-04h 14\n",
      "  14  1.2010994e+02 2.38e-06 3.67e-04  -1.0 9.35e-05  -2.5 1.00e+00 1.00e+00h  1\n",
      "  15  1.2010994e+02 2.38e-06 3.12e+05  -5.7 5.50e+11    -  1.00e+00 1.91e-06h 20\n",
      "  16  1.2010994e+02 7.20e+00 6.21e+00  -5.7 5.50e+11    -  1.00e+00 1.00e+00s 22\n",
      "  17  1.2010994e+02 9.31e-10 3.00e+10  -5.7 3.82e+16    -  1.00e+00 0.00e+00S 22\n",
      "Cannot recompute multipliers for feasibility problem.  Error in eq_mult_calculator\n",
      "\n",
      "Number of Iterations....: 17\n",
      "\n",
      "                                   (scaled)                 (unscaled)\n",
      "Objective...............:   1.2010994150477877e+02    1.2010994150477877e+02\n",
      "Dual infeasibility......:   3.0001600413250217e+10    3.0001600413250217e+10\n",
      "Constraint violation....:   9.3132257461547852e-10    9.3132257461547852e-10\n",
      "Complementarity.........:   0.0000000000000000e+00    0.0000000000000000e+00\n",
      "Overall NLP error.......:   9.3132257461547852e-10    3.0001600413250217e+10\n",
      "\n",
      "\n",
      "Number of objective function evaluations             = 126\n",
      "Number of objective gradient evaluations             = 18\n",
      "Number of equality constraint evaluations            = 131\n",
      "Number of inequality constraint evaluations          = 0\n",
      "Number of equality constraint Jacobian evaluations   = 18\n",
      "Number of inequality constraint Jacobian evaluations = 0\n",
      "Number of Lagrangian Hessian evaluations             = 17\n",
      "Total CPU secs in IPOPT (w/o function evaluations)   =      0.064\n",
      "Total CPU secs in NLP function evaluations           =      0.002\n",
      "\n",
      "EXIT: Optimal Solution Found.\n",
      "\b----------------------------------------------------------------------\n",
      "fs.source1\n",
      "inlet : Size=1\n",
      "    Key  : Name        : Value\n",
      "    None :   conc_mass : {(0.0, 'TDS'): 720.0, (0.0, 'TOC'): 140.0, (0.0, 'nitrates'): 0.0}\n",
      "         :    flow_vol : {0.0: 100}\n",
      "         :    pressure : {0.0: 200000.0}\n",
      "         : temperature : {0.0: 300}\n",
      "outlet : Size=1\n",
      "    Key  : Name        : Value\n",
      "    None :   conc_mass : {(0.0, 'TDS'): 719.9279999999999, (0.0, 'TOC'): 139.98600000000002, (0.0, 'nitrates'): -5.6428607600203194e-39}\n",
      "         :    flow_vol : {0.0: 100.0}\n",
      "         :    pressure : {0.0: 199999.9999}\n",
      "         : temperature : {0.0: 300.0}\n",
      "waste : Size=1\n",
      "    Key  : Name        : Value\n",
      "    None :   conc_mass : {(0.0, 'TDS'): -3.824326505881716e+16, (0.0, 'TOC'): -7436190428103337.0, (0.0, 'nitrates'): 0.0}\n",
      "         :    flow_vol : {0.0: -1.882684438404144e-16}\n",
      "         :    pressure : {0.0: 199999.9999}\n",
      "         : temperature : {0.0: 300.0}\n",
      "Show some costing values\n",
      "---------------------\n",
      "should skip: source1\n",
      "----------------------------------------------------------------------\n",
      "fs.mixer1\n",
      "inlet1 : Size=1\n",
      "    Key  : Name        : Value\n",
      "    None :   conc_mass : {(0.0, 'TDS'): 719.9279999999999, (0.0, 'TOC'): 139.98600000000002, (0.0, 'nitrates'): -5.6428607600203194e-39}\n",
      "         :    flow_vol : {0.0: 100.0}\n",
      "         :    pressure : {0.0: 199999.9999}\n",
      "         : temperature : {0.0: 300.0}\n",
      "inlet2 : Size=1\n",
      "    Key  : Name        : Value\n",
      "    None :   conc_mass : {(0.0, 'TDS'): 720.6579359300068, (0.0, 'TOC'): 140.13598755001163, (0.0, 'nitrates'): 0.010000010010000301}\n",
      "         :    flow_vol : {0.0: 9890.119781416608}\n",
      "         :    pressure : {0.0: 199999.9997}\n",
      "         : temperature : {0.0: 300.0}\n",
      "outlet : Size=1\n",
      "    Key  : Name        : Value\n",
      "    None :   conc_mass : {(0.0, 'TDS'): 720.6506293516477, (0.0, 'TOC'): 140.13448619113618, (0.0, 'nitrates'): 0.009899911009900203}\n",
      "         :    flow_vol : {0.0: 9990.119781416608}\n",
      "         :    pressure : {0.0: 199999.9997}\n",
      "         : temperature : {0.0: 299.9999}\n",
      "Show some costing values\n",
      "---------------------\n",
      "should skip: mixer1\n",
      "----------------------------------------------------------------------\n",
      "fs.CL01\n",
      "inlet : Size=1\n",
      "    Key  : Name        : Value\n",
      "    None :   conc_mass : {(0.0, 'TDS'): 720.6506293516477, (0.0, 'TOC'): 140.13448619113618, (0.0, 'nitrates'): 0.009899911009900203}\n",
      "         :    flow_vol : {0.0: 9990.119781416608}\n",
      "         :    pressure : {0.0: 199999.9997}\n",
      "         : temperature : {0.0: 299.9999}\n",
      "outlet : Size=1\n",
      "    Key  : Name        : Value\n",
      "    None :   conc_mass : {(0.0, 'TDS'): 720.6578359300069, (0.0, 'TOC'): 140.13588755001166, (0.0, 'nitrates'): 0.009900010010000302}\n",
      "         :    flow_vol : {0.0: 9990.019880218795}\n",
      "         :    pressure : {0.0: 199999.99959999998}\n",
      "         : temperature : {0.0: 299.9999}\n",
      "waste : Size=1\n",
      "    Key  : Name        : Value\n",
      "    None :   conc_mass : {(0.0, 'TDS'): 3.589218511142451e-27, (0.0, 'TOC'): 6.97907708039358e-28, (0.0, 'nitrates'): 4.987080701111634e-36}\n",
      "         :    flow_vol : {0.0: 0.09990119781287174}\n",
      "         :    pressure : {0.0: 199999.99959999998}\n",
      "         : temperature : {0.0: 299.9999}\n",
      "Show some costing values\n",
      "---------------------\n",
      "should have a cost CL01\n",
      "fixed_cap_inv_unadjusted: 120.10994150477877\n",
      "----------------------------------------------------------------------\n",
      "----------------------------------------------------------------------\n",
      "fs.splitter1\n",
      "inlet : Size=1\n",
      "    Key  : Name        : Value\n",
      "    None :   conc_mass : {(0.0, 'TDS'): 720.6578359300069, (0.0, 'TOC'): 140.13588755001166, (0.0, 'nitrates'): 0.009900010010000302}\n",
      "         :    flow_vol : {0.0: 9990.019880218795}\n",
      "         :    pressure : {0.0: 199999.99959999998}\n",
      "         : temperature : {0.0: 299.9999}\n",
      "outlet1 : Size=1\n",
      "    Key  : Name        : Value\n",
      "    None :   conc_mass : {(0.0, 'TDS'): 720.6579359300068, (0.0, 'TOC'): 140.13598755001163, (0.0, 'nitrates'): 0.010000010010000301}\n",
      "         :    flow_vol : {0.0: 9890.119781416608}\n",
      "         :    pressure : {0.0: 199999.9997}\n",
      "         : temperature : {0.0: 300.0}\n",
      "outlet2 : Size=1\n",
      "    Key  : Name        : Value\n",
      "    None :   conc_mass : {(0.0, 'TDS'): 720.6579359300068, (0.0, 'TOC'): 140.13598755001163, (0.0, 'nitrates'): 0.010000010010000301}\n",
      "         :    flow_vol : {0.0: 99.90029880218803}\n",
      "         :    pressure : {0.0: 199999.9997}\n",
      "         : temperature : {0.0: 300.0}\n",
      "Show some costing values\n",
      "---------------------\n",
      "should skip: splitter1\n",
      "----------------------------------------------------------------------\n",
      "fs.enduse\n",
      "inlet : Size=1\n",
      "    Key  : Name        : Value\n",
      "    None :   conc_mass : {(0.0, 'TDS'): 720.6579359300068, (0.0, 'TOC'): 140.13598755001163, (0.0, 'nitrates'): 0.010000010010000301}\n",
      "         :    flow_vol : {0.0: 99.90029880218803}\n",
      "         :    pressure : {0.0: 199999.9997}\n",
      "         : temperature : {0.0: 300.0}\n",
      "outlet : Size=1\n",
      "    Key  : Name        : Value\n",
      "    None :   conc_mass : {(0.0, 'TDS'): 720.6579359300067, (0.0, 'TOC'): 140.13598755001163, (0.0, 'nitrates'): 0.010000010010000301}\n",
      "         :    flow_vol : {0.0: 99.90029880218803}\n",
      "         :    pressure : {0.0: 199999.99959999998}\n",
      "         : temperature : {0.0: 299.9999}\n",
      "Show some costing values\n",
      "---------------------\n",
      "should skip: enduse\n"
     ]
    }
   ],
   "source": [
    "##### IF OPTIMIZING FOR PATHWAY #####\n",
    "y1 = m.fs.CL01.costing.fixed_cap_inv_unadjusted\n",
    "m.objective_function = env.Objective(expr=y1, sense=env.minimize)\n",
    "\n",
    "# Set up a solver in Pyomo and solve\n",
    "solver = SolverFactory('ipopt')\n",
    "results = solver.solve(m, tee=True)\n",
    "\n",
    "# Display the inlets and outlets of each unit\n",
    "for node in G.nodes():\n",
    "    print(\"----------------------------------------------------------------------\")\n",
    "    print(node)\n",
    "    \n",
    "    if \"split\" in (str(node).replace('fs.', '')): \n",
    "        getattr(m.fs, str(node).replace('fs.', '')).inlet.display()\n",
    "        getattr(m.fs, str(node).replace('fs.', '')).outlet1.display()\n",
    "        getattr(m.fs, str(node).replace('fs.', '')).outlet2.display()\n",
    "    elif \"use\" in (str(node).replace('fs.', '')): \n",
    "        getattr(m.fs, str(node).replace('fs.', '')).inlet.display()\n",
    "        getattr(m.fs, str(node).replace('fs.', '')).outlet.display()\n",
    "    elif \"mixer\" in (str(node).replace('fs.', '')): \n",
    "        getattr(m.fs, str(node).replace('fs.', '')).inlet1.display()\n",
    "        getattr(m.fs, str(node).replace('fs.', '')).inlet2.display()\n",
    "        getattr(m.fs, str(node).replace('fs.', '')).outlet.display()\n",
    "    else:\n",
    "        getattr(m.fs, str(node).replace('fs.', '')).inlet.display()\n",
    "        getattr(m.fs, str(node).replace('fs.', '')).outlet.display()\n",
    "        getattr(m.fs, str(node).replace('fs.', '')).waste.display()\n",
    "\n",
    "        \n",
    "    print(\"Show some costing values\")\n",
    "    print(\"---------------------\")\n",
    "    \n",
    "    if \"source\" in (str(node).replace('fs.', '')): \n",
    "        print(\"should skip:\", (str(node).replace('fs.', '')))\n",
    "        continue\n",
    "    elif \"use\" in (str(node).replace('fs.', '')): \n",
    "        print(\"should skip:\", (str(node).replace('fs.', '')))\n",
    "        continue\n",
    "    elif \"split\" in (str(node).replace('fs.', '')): \n",
    "        print(\"should skip:\", (str(node).replace('fs.', '')))\n",
    "        continue  \n",
    "    elif \"mixer\" in (str(node).replace('fs.', '')): \n",
    "        print(\"should skip:\", (str(node).replace('fs.', '')))\n",
    "        continue\n",
    "    else:\n",
    "        print(\"should have a cost\", (str(node).replace('fs.', '')))\n",
    "        if getattr(m.fs, str(node).replace('fs.', '')).costing.fixed_cap_inv_unadjusted() is not None:\n",
    "            print(\"fixed_cap_inv_unadjusted:\" , \n",
    "                  getattr(m.fs, str(node).replace('fs.', '')).costing.fixed_cap_inv_unadjusted())\n",
    "        else:\n",
    "            getattr(m.fs, str(node).replace('fs.', '')).costing.fixed_cap_inv_unadjusted.display()\n",
    "    \n",
    "    print(\"----------------------------------------------------------------------\")\n",
    "    "
   ]
  },
  {
   "cell_type": "code",
   "execution_count": null,
   "metadata": {},
   "outputs": [],
   "source": []
  },
  {
   "cell_type": "code",
   "execution_count": null,
   "metadata": {},
   "outputs": [],
   "source": [
    "TDS: 154.2702787877524\n",
    "flow_vol = 66.66683333333332"
   ]
  },
  {
   "cell_type": "code",
   "execution_count": 209,
   "metadata": {},
   "outputs": [
    {
     "data": {
      "text/plain": [
       "0.6666683333333332"
      ]
     },
     "execution_count": 209,
     "metadata": {},
     "output_type": "execute_result"
    }
   ],
   "source": [
    "66.66683333333332/100"
   ]
  },
  {
   "cell_type": "code",
   "execution_count": null,
   "metadata": {},
   "outputs": [],
   "source": []
  },
  {
   "cell_type": "code",
   "execution_count": null,
   "metadata": {},
   "outputs": [],
   "source": []
  },
  {
   "cell_type": "code",
   "execution_count": null,
   "metadata": {},
   "outputs": [],
   "source": []
  },
  {
   "cell_type": "code",
   "execution_count": null,
   "metadata": {},
   "outputs": [],
   "source": []
  },
  {
   "cell_type": "code",
   "execution_count": null,
   "metadata": {},
   "outputs": [],
   "source": []
  },
  {
   "cell_type": "code",
   "execution_count": 86,
   "metadata": {},
   "outputs": [
    {
     "name": "stdout",
     "output_type": "stream",
     "text": [
      "split_fraction : Outlet split fractions\n",
      "    Size=2, Index=fs.splitter1.split_fraction_index\n",
      "    Key              : Lower : Value : Upper : Fixed : Stale : Domain\n",
      "    (0.0, 'outlet1') :  0.01 :  0.99 :  0.99 : False : False :  Reals\n",
      "    (0.0, 'outlet2') :  0.01 :  0.01 :  0.99 :  True :  True :  Reals\n"
     ]
    }
   ],
   "source": [
    "m.fs.splitter1.split_fraction.display()"
   ]
  },
  {
   "cell_type": "code",
   "execution_count": 42,
   "metadata": {},
   "outputs": [
    {
     "data": {
      "text/plain": [
       "0.0012804790142880332"
      ]
     },
     "execution_count": 42,
     "metadata": {},
     "output_type": "execute_result"
    }
   ],
   "source": [
    "m.fs.CL01.costing.land_cost()"
   ]
  },
  {
   "cell_type": "code",
   "execution_count": null,
   "metadata": {},
   "outputs": [],
   "source": []
  },
  {
   "cell_type": "code",
   "execution_count": 112,
   "metadata": {},
   "outputs": [],
   "source": [
    "# create mixer for recycle - > two-stage process -> RO two stage.\n",
    "# outlet of mixer goes into unit. outlet of unit goes to splitter, one goes to mixer, one goes to next unit.\n",
    "# splitter fraction can be unfixed free variable, but random fix it to something - see RO -> \n",
    "#  \n",
    "# constraint on enduse -> less than X\n",
    "# first run if feasible. then cost optimization. TDS -> WHAT DO YOU GET, COST, WHAT DO YOU GET. OBJ -> MINIMIZE ERROR WITH END USE CONSRAINT\n",
    "# if 0 - then can be specified, then turn into constraints. \n",
    "# "
   ]
  },
  {
   "cell_type": "code",
   "execution_count": null,
   "metadata": {},
   "outputs": [],
   "source": []
  },
  {
   "cell_type": "code",
   "execution_count": null,
   "metadata": {},
   "outputs": [],
   "source": []
  },
  {
   "cell_type": "code",
   "execution_count": null,
   "metadata": {},
   "outputs": [],
   "source": []
  },
  {
   "cell_type": "code",
   "execution_count": null,
   "metadata": {},
   "outputs": [],
   "source": []
  },
  {
   "cell_type": "code",
   "execution_count": null,
   "metadata": {},
   "outputs": [],
   "source": []
  },
  {
   "cell_type": "code",
   "execution_count": null,
   "metadata": {},
   "outputs": [],
   "source": []
  },
  {
   "cell_type": "code",
   "execution_count": null,
   "metadata": {},
   "outputs": [],
   "source": []
  },
  {
   "cell_type": "code",
   "execution_count": null,
   "metadata": {},
   "outputs": [],
   "source": []
  },
  {
   "cell_type": "code",
   "execution_count": null,
   "metadata": {},
   "outputs": [],
   "source": []
  },
  {
   "cell_type": "code",
   "execution_count": null,
   "metadata": {},
   "outputs": [],
   "source": []
  },
  {
   "cell_type": "code",
   "execution_count": null,
   "metadata": {},
   "outputs": [],
   "source": []
  },
  {
   "cell_type": "code",
   "execution_count": null,
   "metadata": {},
   "outputs": [],
   "source": []
  },
  {
   "cell_type": "code",
   "execution_count": null,
   "metadata": {},
   "outputs": [],
   "source": []
  },
  {
   "cell_type": "code",
   "execution_count": null,
   "metadata": {},
   "outputs": [],
   "source": []
  },
  {
   "cell_type": "code",
   "execution_count": null,
   "metadata": {},
   "outputs": [],
   "source": []
  },
  {
   "cell_type": "code",
   "execution_count": null,
   "metadata": {},
   "outputs": [],
   "source": []
  },
  {
   "cell_type": "code",
   "execution_count": null,
   "metadata": {},
   "outputs": [],
   "source": []
  },
  {
   "cell_type": "code",
   "execution_count": null,
   "metadata": {},
   "outputs": [],
   "source": []
  },
  {
   "cell_type": "code",
   "execution_count": null,
   "metadata": {},
   "outputs": [],
   "source": []
  },
  {
   "cell_type": "code",
   "execution_count": null,
   "metadata": {},
   "outputs": [],
   "source": []
  },
  {
   "cell_type": "code",
   "execution_count": null,
   "metadata": {},
   "outputs": [],
   "source": []
  },
  {
   "cell_type": "code",
   "execution_count": null,
   "metadata": {},
   "outputs": [],
   "source": []
  },
  {
   "cell_type": "code",
   "execution_count": null,
   "metadata": {},
   "outputs": [],
   "source": []
  },
  {
   "cell_type": "code",
   "execution_count": null,
   "metadata": {},
   "outputs": [],
   "source": []
  },
  {
   "cell_type": "code",
   "execution_count": null,
   "metadata": {},
   "outputs": [],
   "source": []
  },
  {
   "cell_type": "code",
   "execution_count": null,
   "metadata": {},
   "outputs": [],
   "source": []
  },
  {
   "cell_type": "code",
   "execution_count": null,
   "metadata": {},
   "outputs": [],
   "source": []
  },
  {
   "cell_type": "code",
   "execution_count": null,
   "metadata": {},
   "outputs": [],
   "source": []
  },
  {
   "cell_type": "code",
   "execution_count": null,
   "metadata": {},
   "outputs": [],
   "source": []
  }
 ],
 "metadata": {
  "kernelspec": {
   "display_name": "Python 3",
   "language": "python",
   "name": "python3"
  },
  "language_info": {
   "codemirror_mode": {
    "name": "ipython",
    "version": 3
   },
   "file_extension": ".py",
   "mimetype": "text/x-python",
   "name": "python",
   "nbconvert_exporter": "python",
   "pygments_lexer": "ipython3",
   "version": "3.7.4"
  }
 },
 "nbformat": 4,
 "nbformat_minor": 4
}
