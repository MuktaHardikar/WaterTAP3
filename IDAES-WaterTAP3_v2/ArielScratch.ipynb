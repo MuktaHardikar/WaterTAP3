{
 "cells": [
  {
   "cell_type": "code",
   "execution_count": 1,
   "metadata": {
    "scrolled": false
   },
   "outputs": [
    {
     "name": "stdout",
     "output_type": "stream",
     "text": [
      "holding_tank ToUnitName --> microfiltration\n",
      "microfiltration ToUnitName --> ro_deep,uv_aop\n",
      "ro_deep ToUnitName --> uv_aop\n",
      "uv_aop ToUnitName --> treated_storage\n",
      "treated_storage ToUnitName --> municipal_drinking\n",
      "municipal_drinking ToUnitName --> nan\n",
      "Big_Spring\n",
      "holding_tank\n",
      "microfiltration\n",
      "ro_deep\n",
      "uv_aop\n",
      "treated_storage\n",
      "municipal_drinking\n",
      "adding source\n",
      "[['uv_aop', 'inlet']]\n",
      "adding splitter\n",
      "params into splitter --> [0.4, 0.6]\n"
     ]
    }
   ],
   "source": [
    "import watertap as wt\n",
    "import pandas as pd\n",
    "from pyomo.environ import value, Block\n",
    "from idaes.core import FlowsheetBlock\n",
    "%matplotlib inline\n",
    "from pylab import *\n",
    "import numpy as np\n",
    "import matplotlib.pyplot as plt\n",
    "from case_study_trains import *\n",
    "import case_study_trains\n",
    "# import pyomo.util.infeasible as infeas\n",
    "# print(infeas.log_infeasible_bounds(m))\n",
    "# infeas.log_close_to_bounds(m)\n",
    "\n",
    "\n",
    "m = wt.watertap_setup(dynamic = False)\n",
    "\n",
    "# wt.case_study_trains.train = {\"case_study\": \"KBHDP\",\n",
    "#                              \"reference\": \"NAWI\",\n",
    "#                              \"scenario\": \"Baseline\"}\n",
    "\n",
    "# wt.case_study_trains.train = {\"case_study\": \"Irwin\",\n",
    "#                              \"reference\": \"NAWI\",\n",
    "#                              \"scenario\": \"Baseline\"}\n",
    "\n",
    "# wt.case_study_trains.train = {\"case_study\": \"EMWD\",\n",
    "#                              \"reference\": \"NAWI\",\n",
    "#                              \"scenario\": \"Baseline\"}\n",
    "\n",
    "# wt.case_study_trains.train = {\"case_study\": \"Santa_Barbara\",\n",
    "#                              \"reference\": \"NAWI\",\n",
    "#                              \"scenario\": \"Baseline\"}\n",
    "\n",
    "# wt.case_study_trains.train = {\"case_study\": \"Carlsbad\",\n",
    "#                              \"reference\": \"NAWI\",\n",
    "#                              \"scenario\": \"Baseline\"}\n",
    "\n",
    "# wt.case_study_trains.train = {\"case_study\": \"Ashkelon\",\n",
    "#                              \"reference\": \"NAWI\",\n",
    "#                              \"scenario\": \"Baseline\"}\n",
    "\n",
    "# wt.case_study_trains.train = {\"case_study\": \"Tampa_Bay\",\n",
    "#                              \"reference\": \"NAWI\",\n",
    "#                              \"scenario\": \"Baseline\"}\n",
    "\n",
    "# wt.case_study_trains.train = {\"case_study\": \"HRSD\",\n",
    "#                              \"reference\": \"NAWI\",\n",
    "#                              \"scenario\": \"Baseline\"}\n",
    "\n",
    "wt.case_study_trains.train = {\"case_study\": \"Big_Spring\",\n",
    "                             \"reference\": \"NAWI\",\n",
    "                             \"scenario\": \"Baseline\"}\n",
    "\n",
    "# wt.case_study_trains.train = {\"case_study\": \"OCWD\",\n",
    "#                              \"reference\": \"NAWI\",\n",
    "#                              \"scenario\": \"Baseline\"}\n",
    "\n",
    "# wt.case_study_trains.train = {\"case_study\": \"Solaire\",\n",
    "#                              \"reference\": \"NAWI\",\n",
    "#                              \"scenario\": \"Baseline\"}\n",
    "\n",
    "\n",
    "# TODO LATER: how to make this sync with info in train input data. We might not need to do that.\n",
    "#But, if the source water type is different to what is in the train (pfd dictionary), \n",
    "#then we should updat the node name. If more than two sources - what to do? Needs to be\n",
    "#based on pfd node!?\n",
    "\n",
    "# wt.case_study_trains.source_water = {\"case_study\": \"KBHDP\", \n",
    "#                              \"reference\": \"NAWI\",\n",
    "#                              \"scenario\": \"Baseline\",\n",
    "#                              \"water_type\": \"KBHDP_Brackish_Ave\"}\n",
    "\n",
    "# wt.case_study_trains.source_water = {\"case_study\": \"Irwin\", \n",
    "#                              \"reference\": \"NAWI\",\n",
    "#                              \"scenario\": \"Baseline\",\n",
    "#                              \"water_type\": \"Brackish\"}\n",
    "\n",
    "# wt.case_study_trains.source_water = {\"case_study\": \"EMWD\", \n",
    "#                              \"reference\": \"NAWI\",\n",
    "#                              \"scenario\": \"Baseline\",\n",
    "#                              \"water_type\": \"EMWD_CA_Brackish\"}\n",
    "\n",
    "# wt.case_study_trains.source_water = {\"case_study\": \"Santa_Barbara\", \n",
    "#                              \"reference\": \"NAWI\",\n",
    "#                              \"scenario\": \"Baseline\",\n",
    "#                              \"water_type\": \"Seawater\"}\n",
    "\n",
    "# wt.case_study_trains.source_water = {\"case_study\": \"Carlsbad\", \n",
    "#                              \"reference\": \"NAWI\",\n",
    "#                              \"scenario\": \"Baseline\",\n",
    "#                              \"water_type\": \"Seawater\"}\n",
    "\n",
    "# wt.case_study_trains.source_water = {\"case_study\": \"Ashkelon\", \n",
    "#                              \"reference\": \"NAWI\",\n",
    "#                              \"scenario\": \"Baseline\",\n",
    "#                              \"water_type\": \"Seawater\"}\n",
    "\n",
    "# wt.case_study_trains.source_water = {\"case_study\": \"Tampa_Bay\", \n",
    "#                              \"reference\": \"NAWI\",\n",
    "#                              \"scenario\": \"Baseline\",\n",
    "#                              \"water_type\": \"Seawater\"}\n",
    "# \n",
    "# wt.case_study_trains.source_water = {\"case_study\": \"HRSD\", \n",
    "#                              \"reference\": \"NAWI\",\n",
    "#                              \"scenario\": \"Baseline\",\n",
    "#                              \"water_type\": \"HRSD_Municipal\"}\n",
    "\n",
    "wt.case_study_trains.source_water = {\"case_study\": \"Big_Spring\", \n",
    "                             \"reference\": \"NAWI\",\n",
    "                             \"scenario\": \"Baseline\",\n",
    "                             \"water_type\": \"Big_Spring_Feed\"}\n",
    "\n",
    "# wt.case_study_trains.source_water = {\"case_study\": \"OCWD\", \n",
    "#                              \"reference\": \"NAWI\",\n",
    "#                              \"scenario\": \"Baseline\",\n",
    "#                              \"water_type\": \"OCWD_Feed\"}\n",
    "\n",
    "# wt.case_study_trains.source_water = {\"case_study\": \"Solaire\", \n",
    "#                              \"reference\": \"NAWI\",\n",
    "#                              \"scenario\": \"Baseline\",\n",
    "#                              \"water_type\": [\"Solaire_Graywater\", \"Solaire_Blackwater\", \"Solaire_Stormwater\"]}\n",
    "\n",
    "m = wt.case_study_trains.get_case_study(m=m) # flow is set as case study flow unless defined.\n"
   ]
  },
  {
   "cell_type": "code",
   "execution_count": null,
   "metadata": {},
   "outputs": [],
   "source": []
  },
  {
   "cell_type": "code",
   "execution_count": 2,
   "metadata": {
    "scrolled": false
   },
   "outputs": [
    {
     "data": {
      "text/html": [
       "\n",
       "        <iframe\n",
       "            width=\"100%\"\n",
       "            height=\"500px\"\n",
       "            src=\"tmp/example.html\"\n",
       "            frameborder=\"0\"\n",
       "            allowfullscreen\n",
       "        ></iframe>\n",
       "        "
      ],
      "text/plain": [
       "<IPython.lib.display.IFrame at 0x7fe803d79e50>"
      ]
     },
     "execution_count": 2,
     "metadata": {},
     "output_type": "execute_result"
    }
   ],
   "source": [
    "wt.display.show_train2(model_name=m)\n",
    "# m.fs.pfd_dict"
   ]
  },
  {
   "cell_type": "code",
   "execution_count": null,
   "metadata": {},
   "outputs": [],
   "source": [
    "m.fs.surface_discharge"
   ]
  },
  {
   "cell_type": "code",
   "execution_count": 3,
   "metadata": {},
   "outputs": [],
   "source": [
    "m.fs.Big_Spring_Feed.flow_vol_in.fix(1.5)"
   ]
  },
  {
   "cell_type": "code",
   "execution_count": 4,
   "metadata": {
    "scrolled": true
   },
   "outputs": [],
   "source": [
    "#wt.run_water_tap(m=m, solver_results=True, print_model_results=True)"
   ]
  },
  {
   "cell_type": "code",
   "execution_count": 5,
   "metadata": {},
   "outputs": [],
   "source": [
    "#m.fs.reverse_osmosis.feed.pressure.unfix()\n",
    "#m.fs.ro_deep.pmax.unfix()\n",
    "#m.fs.reverse_osmosis.membrane_area.unfix()"
   ]
  },
  {
   "cell_type": "code",
   "execution_count": 18,
   "metadata": {},
   "outputs": [],
   "source": [
    "m.fs.Solaire_Graywater.flow_vol_in.fix(8.89E-04)\n",
    "m.fs.Solaire_Blackwater.flow_vol_in.fix(2.22E-04)\n",
    "m.fs.Solaire_Stormwater.flow_vol_in.fix(5.56E-04)"
   ]
  },
  {
   "cell_type": "code",
   "execution_count": null,
   "metadata": {},
   "outputs": [],
   "source": [
    "8.89E-04\n",
    "2.22E-04\n",
    "5.56E-04"
   ]
  },
  {
   "cell_type": "code",
   "execution_count": null,
   "metadata": {},
   "outputs": [],
   "source": []
  },
  {
   "cell_type": "code",
   "execution_count": 4,
   "metadata": {
    "scrolled": true
   },
   "outputs": [
    {
     "name": "stdout",
     "output_type": "stream",
     "text": [
      "degrees_of_freedom: 0\n",
      "WaterTAP3 solution optimal\n",
      "----------------------------------------------------------------------\n",
      "fs.holding_tank\n",
      "inlet : Size=1\n",
      "    Key  : Name        : Value\n",
      "    None :   conc_mass : {(0.0, 'arsenic'): 5.1e-07, (0.0, 'barium'): 4.52e-05, (0.0, 'bod'): 80856.57097450104, (0.0, 'boron'): 0.0004, (0.0, 'bromide'): 1e-06, (0.0, 'calcium'): 0.08045, (0.0, 'chloride'): 0.29792, (0.0, 'electrical_conductivity'): 0.17, (0.0, 'fluoride'): 0.00097, (0.0, 'hardness'): 0.312, (0.0, 'iron'): 0.00030225, (0.0, 'magnesium'): 0.02701, (0.0, 'manganese'): 5.26e-05, (0.0, 'nitrate'): 80856.57322970829, (0.0, 'nitrate_as_nitrogen'): 0.00864, (0.0, 'phosphates'): 0.00052, (0.0, 'potassium'): 0.01897, (0.0, 'selenium'): 1.06e-06, (0.0, 'silicon'): 0.02104, (0.0, 'sodium'): 0.23158, (0.0, 'sulfate'): 0.18825, (0.0, 'tds'): 0.98555, (0.0, 'toc'): 0.00953, (0.0, 'total_coliforms_fecal_ecoli'): 294.19623, (0.0, 'tss'): 0.006525}\n",
      "         :    flow_vol : {0.0: 1.5}\n",
      "         :    pressure : {0.0: 1.0}\n",
      "         : temperature : {0.0: 300.0}\n",
      "outlet : Size=1\n",
      "    Key  : Name        : Value\n",
      "    None :   conc_mass : {(0.0, 'arsenic'): 5.1005100510051e-07, (0.0, 'barium'): 4.5204520452045206e-05, (0.0, 'bod'): 80864.65744024508, (0.0, 'boron'): 0.0004000400040004001, (0.0, 'bromide'): 1.0001000100010001e-06, (0.0, 'calcium'): 0.08045804580458045, (0.0, 'chloride'): 0.297949794979498, (0.0, 'electrical_conductivity'): 0.17001700170017003, (0.0, 'fluoride'): 0.0009700970097009702, (0.0, 'hardness'): 0.312031203120312, (0.0, 'iron'): 0.0003022802280228023, (0.0, 'magnesium'): 0.02701270127012701, (0.0, 'manganese'): 5.2605260526052604e-05, (0.0, 'nitrate'): 80864.65969567785, (0.0, 'nitrate_as_nitrogen'): 0.00864086408640864, (0.0, 'phosphates'): 0.00052005200520052, (0.0, 'potassium'): 0.018971897189718975, (0.0, 'selenium'): 1.0601060106010603e-06, (0.0, 'silicon'): 0.021042104210421044, (0.0, 'sodium'): 0.23160316031603162, (0.0, 'sulfate'): 0.18826882688268828, (0.0, 'tds'): 0.9856485648564858, (0.0, 'toc'): 0.009530953095309533, (0.0, 'total_coliforms_fecal_ecoli'): 294.22565256525655, (0.0, 'tss'): 0.006525652565256526}\n",
      "         :    flow_vol : {0.0: 1.49985}\n",
      "         :    pressure : {0.0: 1.0}\n",
      "         : temperature : {0.0: 300.0}\n",
      "waste : Size=1\n",
      "    Key  : Name        : Value\n",
      "    None :   conc_mass : {(0.0, 'arsenic'): 0.0, (0.0, 'barium'): 0.0, (0.0, 'bod'): 0.0, (0.0, 'boron'): 0.0, (0.0, 'bromide'): 1.813239925505464e-40, (0.0, 'calcium'): 0.0, (0.0, 'chloride'): 0.0, (0.0, 'electrical_conductivity'): 0.0, (0.0, 'fluoride'): 0.0, (0.0, 'hardness'): 0.0, (0.0, 'iron'): 0.0, (0.0, 'magnesium'): 0.0, (0.0, 'manganese'): 1.869892670795036e-41, (0.0, 'nitrate'): 0.0, (0.0, 'nitrate_as_nitrogen'): 0.0, (0.0, 'phosphates'): 0.0, (0.0, 'potassium'): 4.8611043727427904e-42, (0.0, 'selenium'): 0.0, (0.0, 'silicon'): 0.0, (0.0, 'sodium'): 0.0, (0.0, 'sulfate'): 0.0, (0.0, 'tds'): 0.0, (0.0, 'toc'): 0.0, (0.0, 'total_coliforms_fecal_ecoli'): 0.0, (0.0, 'tss'): 0.0}\n",
      "         :    flow_vol : {0.0: 0.0001500000000000945}\n",
      "         :    pressure : {0.0: 1.0}\n",
      "         : temperature : {0.0: 300.0}\n",
      "total_cap_investment: 0.2776472194120609\n",
      "----------------------------------------------------------------------\n",
      "----------------------------------------------------------------------\n",
      "fs.microfiltration\n",
      "inlet : Size=1\n",
      "    Key  : Name        : Value\n",
      "    None :   conc_mass : {(0.0, 'arsenic'): 5.1005100510051e-07, (0.0, 'barium'): 4.5204520452045206e-05, (0.0, 'bod'): 80864.65744024508, (0.0, 'boron'): 0.0004000400040004001, (0.0, 'bromide'): 1.0001000100010001e-06, (0.0, 'calcium'): 0.08045804580458045, (0.0, 'chloride'): 0.297949794979498, (0.0, 'electrical_conductivity'): 0.17001700170017003, (0.0, 'fluoride'): 0.0009700970097009702, (0.0, 'hardness'): 0.312031203120312, (0.0, 'iron'): 0.0003022802280228023, (0.0, 'magnesium'): 0.02701270127012701, (0.0, 'manganese'): 5.2605260526052604e-05, (0.0, 'nitrate'): 80864.65969567785, (0.0, 'nitrate_as_nitrogen'): 0.00864086408640864, (0.0, 'phosphates'): 0.00052005200520052, (0.0, 'potassium'): 0.018971897189718975, (0.0, 'selenium'): 1.0601060106010603e-06, (0.0, 'silicon'): 0.021042104210421044, (0.0, 'sodium'): 0.23160316031603162, (0.0, 'sulfate'): 0.18826882688268828, (0.0, 'tds'): 0.9856485648564858, (0.0, 'toc'): 0.009530953095309533, (0.0, 'total_coliforms_fecal_ecoli'): 294.22565256525655, (0.0, 'tss'): 0.006525652565256526}\n",
      "         :    flow_vol : {0.0: 1.49985}\n",
      "         :    pressure : {0.0: 1.0}\n",
      "         : temperature : {0.0: 300.0}\n",
      "outlet : Size=1\n",
      "    Key  : Name        : Value\n",
      "    None :   conc_mass : {(0.0, 'arsenic'): 5.368957948426421e-07, (0.0, 'barium'): 4.7583705738994955e-05, (0.0, 'bod'): 85120.69204236324, (0.0, 'boron'): 0.00042109474105305275, (0.0, 'bromide'): 1.0527368526326317e-06, (0.0, 'calcium'): 0.08469267979429522, (0.0, 'chloride'): 0.3136313631363137, (0.0, 'electrical_conductivity'): 0.17896526494754741, (0.0, 'fluoride'): 0.001021154747053653, (0.0, 'hardness'): 0.3284538980213811, (0.0, 'iron'): 0.00031818971370821294, (0.0, 'magnesium'): 0.028434422389607382, (0.0, 'manganese'): 5.537395844847643e-05, (0.0, 'nitrate'): 85120.69441650301, (0.0, 'nitrate_as_nitrogen'): 0.009095646406745938, (0.0, 'phosphates'): 0.0005474231633689684, (0.0, 'potassium'): 0.019970418094441025, (0.0, 'selenium'): 1.1159010637905896e-06, (0.0, 'silicon'): 0.02214958337939057, (0.0, 'sodium'): 0.24379280033266487, (0.0, 'sulfate'): 0.1981777125080929, (0.0, 'tds'): 1.0375248051120904, (0.0, 'toc'): 0.009029323985030082, (0.0, 'total_coliforms_fecal_ecoli'): 309.71121322658587, (0.0, 'tss'): 0.00020607323890283773}\n",
      "         :    flow_vol : {0.0: 1.4248574999999999}\n",
      "         :    pressure : {0.0: 1.0}\n",
      "         : temperature : {0.0: 300.0}\n",
      "waste : Size=1\n",
      "    Key  : Name        : Value\n",
      "    None :   conc_mass : {(0.0, 'arsenic'): 0.0, (0.0, 'barium'): 0.0, (0.0, 'bod'): 9.183549615799121e-41, (0.0, 'boron'): 4.591776559522641e-40, (0.0, 'bromide'): 0.0, (0.0, 'calcium'): 0.0, (0.0, 'chloride'): 0.0, (0.0, 'electrical_conductivity'): 0.0, (0.0, 'fluoride'): 0.0, (0.0, 'hardness'): 0.0, (0.0, 'iron'): 0.0, (0.0, 'magnesium'): 0.0, (0.0, 'manganese'): 4.132513249201745e-40, (0.0, 'nitrate'): 0.0, (0.0, 'nitrate_as_nitrogen'): 2.1895288505075267e-47, (0.0, 'phosphates'): 0.0, (0.0, 'potassium'): 9.183549615799121e-41, (0.0, 'selenium'): 0.0, (0.0, 'silicon'): 0.0, (0.0, 'sodium'): 0.0, (0.0, 'sulfate'): 0.0, (0.0, 'tds'): 3.503246160812043e-46, (0.0, 'toc'): 0.019061906190619062, (0.0, 'total_coliforms_fecal_ecoli'): 9.183549615799121e-41, (0.0, 'tss'): 0.1265976597659766}\n",
      "         :    flow_vol : {0.0: 0.07499250000000002}\n",
      "         :    pressure : {0.0: 1.0}\n",
      "         : temperature : {0.0: 300.0}\n",
      "total_cap_investment: 97.67505149237489\n",
      "----------------------------------------------------------------------\n",
      "----------------------------------------------------------------------\n",
      "fs.ro_deep\n",
      "inlet : Size=1\n",
      "    Key  : Name        : Value\n",
      "    None :   conc_mass : {(0.0, 'arsenic'): 5.368957948426421e-07, (0.0, 'barium'): 4.7583705738994955e-05, (0.0, 'bod'): 85120.69204236324, (0.0, 'boron'): 0.00042109474105305275, (0.0, 'bromide'): 1.0527368526326317e-06, (0.0, 'calcium'): 0.08469267979429522, (0.0, 'chloride'): 0.3136313631363137, (0.0, 'electrical_conductivity'): 0.17896526494754741, (0.0, 'fluoride'): 0.001021154747053653, (0.0, 'hardness'): 0.3284538980213811, (0.0, 'iron'): 0.00031818971370821294, (0.0, 'magnesium'): 0.028434422389607382, (0.0, 'manganese'): 5.537395844847643e-05, (0.0, 'nitrate'): 85120.69441650301, (0.0, 'nitrate_as_nitrogen'): 0.009095646406745938, (0.0, 'phosphates'): 0.0005474231633689684, (0.0, 'potassium'): 0.019970418094441025, (0.0, 'selenium'): 1.1159010637905896e-06, (0.0, 'silicon'): 0.02214958337939057, (0.0, 'sodium'): 0.24379280033266487, (0.0, 'sulfate'): 0.1981777125080929, (0.0, 'tds'): 1.0375248051120904, (0.0, 'toc'): 0.009029323985030082, (0.0, 'total_coliforms_fecal_ecoli'): 309.71121322658587, (0.0, 'tss'): 0.00020607323890283773}\n",
      "         :    flow_vol : {0.0: 0.5699429999999999}\n",
      "         :    pressure : {0.0: 1.0}\n",
      "         : temperature : {0.0: 300.0}\n",
      "outlet : Size=1\n",
      "    Key  : Name        : Value\n",
      "    None :   conc_mass : {(0.0, 'arsenic'): 5.469354558828703e-07, (0.0, 'barium'): 4.847349530569753e-05, (0.0, 'bod'): 86712.40295502823, (0.0, 'boron'): 0.0004289689850061729, (0.0, 'bromide'): 2.885153057577492e-08, (0.0, 'calcium'): 0.002321105634821094, (0.0, 'chloride'): 0.008595447989134872, (0.0, 'electrical_conductivity'): 0.18231181862762347, (0.0, 'fluoride'): 2.798598465850164e-05, (0.0, 'hardness'): 0.3345958083048148, (0.0, 'iron'): 0.00032413968929528934, (0.0, 'magnesium'): 0.0007792798408516747, (0.0, 'manganese'): 5.640942152831173e-05, (0.0, 'nitrate'): 86712.40537356313, (0.0, 'nitrate_as_nitrogen'): 0.009265730076133332, (0.0, 'phosphates'): 0.0005576596805080246, (0.0, 'potassium'): 0.0005473135350224512, (0.0, 'selenium'): 1.136767810266358e-06, (0.0, 'silicon'): 0.0006070362033143077, (0.0, 'sodium'): 0.006681437450737967, (0.0, 'sulfate'): 0.005431300630889641, (0.0, 'tds'): 0.14982255800433075, (0.0, 'toc'): 0.00919816746099486, (0.0, 'total_coliforms_fecal_ecoli'): 315.50264543935646, (0.0, 'tss'): 0.0002099266970373959}\n",
      "         :    flow_vol : {0.0: 0.5594810076923076}\n",
      "         :    pressure : {0.0: 1.0}\n",
      "         : temperature : {0.0: 300.0}\n",
      "waste : Size=1\n",
      "    Key  : Name        : Value\n",
      "    None :   conc_mass : {(0.0, 'arsenic'): 0.0, (0.0, 'barium'): 2.802596928649634e-45, (0.0, 'bod'): 1.0263416486754031e-48, (0.0, 'boron'): 1.7516230804060213e-46, (0.0, 'bromide'): 5.58075459652854e-05, (0.0, 'calcium'): 4.48971707290721, (0.0, 'chloride'): 16.626184093977827, (0.0, 'electrical_conductivity'): 6.842277657836021e-49, (0.0, 'fluoride'): 0.05413331958632685, (0.0, 'hardness'): 0.0, (0.0, 'iron'): 0.0, (0.0, 'magnesium'): 1.5073618165223583, (0.0, 'manganese'): 4.591774807899561e-41, (0.0, 'nitrate'): 9.184110237819016e-41, (0.0, 'nitrate_as_nitrogen'): 0.0, (0.0, 'phosphates'): 0.0, (0.0, 'potassium'): 1.058669146961464, (0.0, 'selenium'): 0.0, (0.0, 'silicon'): 1.1741907671096046, (0.0, 'sodium'): 12.923911494640793, (0.0, 'sulfate'): 10.505770527964975, (0.0, 'tds'): 48.509605947573455, (0.0, 'toc'): 0.0, (0.0, 'total_coliforms_fecal_ecoli'): 4.591774807899561e-41, (0.0, 'tss'): 4.591844872822777e-41}\n",
      "         :    flow_vol : {0.0: 0.010461992307692293}\n",
      "         :    pressure : {0.0: 1.0}\n",
      "         : temperature : {0.0: 300.0}\n",
      "total_cap_investment: 78.16737041142162\n",
      "----------------------------------------------------------------------\n",
      "----------------------------------------------------------------------\n",
      "fs.uv_aop\n",
      "inlet : Size=1\n",
      "    Key  : Name        : Value\n",
      "    None :   conc_mass : {(0.0, 'arsenic'): 5.408671024755692e-07, (0.0, 'barium'): 4.793567261156025e-05, (0.0, 'bod'): 85750.31227272273, (0.0, 'boron'): 0.00042420949213770135, (0.0, 'bromide'): 6.47726805138652e-07, (0.0, 'calcium'): 0.05210962147340455, (0.0, 'chloride'): 0.1929707697869072, (0.0, 'electrical_conductivity'): 0.18028903415852307, (0.0, 'fluoride'): 0.0006282950009844925, (0.0, 'hardness'): 0.330883403867407, (0.0, 'iron'): 0.0003205432974965505, (0.0, 'magnesium'): 0.017495101006794987, (0.0, 'manganese'): 5.578354821610772e-05, (0.0, 'nitrate'): 85750.31466442351, (0.0, 'nitrate_as_nitrogen'): 0.009162925030174348, (0.0, 'phosphates'): 0.0005514723397790116, (0.0, 'potassium'): 0.01228737749348023, (0.0, 'selenium'): 1.1241551541649083e-06, (0.0, 'silicon'): 0.013628171980117239, (0.0, 'sodium'): 0.15000057353400903, (0.0, 'sulfate'): 0.12193457106735123, (0.0, 'tds'): 0.6863835967008016, (0.0, 'toc'): 0.00909611203516266, (0.0, 'total_coliforms_fecal_ecoli'): 312.00208329281594, (0.0, 'tss'): 0.00020759752021488764}\n",
      "         :    flow_vol : {0.0: 1.4143955076923076}\n",
      "         :    pressure : {0.0: 1.0}\n",
      "         : temperature : {0.0: 300.0}\n",
      "outlet : Size=1\n",
      "    Key  : Name        : Value\n",
      "    None :   conc_mass : {(0.0, 'arsenic'): 5.409211945950287e-07, (0.0, 'barium'): 4.794046665822607e-05, (0.0, 'bod'): 85758.88816153888, (0.0, 'boron'): 0.0004242519173294343, (0.0, 'bromide'): 6.477915842970817e-07, (0.0, 'calcium'): 0.05211483295670022, (0.0, 'chloride'): 0.19299006879378658, (0.0, 'electrical_conductivity'): 0.18030706486500958, (0.0, 'fluoride'): 0.0006283578367681694, (0.0, 'hardness'): 0.33091649551695873, (0.0, 'iron'): 0.00032057535503205375, (0.0, 'magnesium'): 0.017496850691864175, (0.0, 'manganese'): 5.5789127128820604e-05, (0.0, 'nitrate'): 85758.89055347886, (0.0, 'nitrate_as_nitrogen'): 0.00916384141431578, (0.0, 'phosphates'): 0.0005515274925282645, (0.0, 'potassium'): 0.01228860635411564, (0.0, 'selenium'): 1.1242675809230007e-06, (0.0, 'silicon'): 0.0136295349336106, (0.0, 'sodium'): 0.1500155750915182, (0.0, 'sulfate'): 0.12194676574392561, (0.0, 'tds'): 0.6864522419249941, (0.0, 'toc'): 0.007508617335083559, (0.0, 'total_coliforms_fecal_ecoli'): 0.0017835822663185797, (0.0, 'tss'): 0.00020761828204309197}\n",
      "         :    flow_vol : {0.0: 1.4142540681415383}\n",
      "         :    pressure : {0.0: 1.0}\n",
      "         : temperature : {0.0: 300.0}\n",
      "waste : Size=1\n",
      "    Key  : Name        : Value\n",
      "    None :   conc_mass : {(0.0, 'arsenic'): 0.0, (0.0, 'barium'): 4.923497624772623e-40, (0.0, 'bod'): 1.5153956885363045e-40, (0.0, 'boron'): 5.909018135464934e-40, (0.0, 'bromide'): 7.737402594123588e-40, (0.0, 'calcium'): 0.0, (0.0, 'chloride'): 7.827805612926423e-40, (0.0, 'electrical_conductivity'): 5.08832623245037e-40, (0.0, 'fluoride'): 8.160161641543053e-41, (0.0, 'hardness'): 5.61552914507054e-40, (0.0, 'iron'): 1.4941642651787031e-40, (0.0, 'magnesium'): 1.5078602060443978e-40, (0.0, 'manganese'): 0.0, (0.0, 'nitrate'): 5.97038975333312e-41, (0.0, 'nitrate_as_nitrogen'): 9.98213209438703e-41, (0.0, 'phosphates'): 4.447528647228125e-40, (0.0, 'potassium'): 2.508503792507164e-40, (0.0, 'selenium'): 3.817793875475954e-41, (0.0, 'silicon'): 1.0028943673828669e-40, (0.0, 'sodium'): 1.257560274346699e-40, (0.0, 'sulfate'): 0.0, (0.0, 'tds'): 7.851160277148583e-41, (0.0, 'toc'): 15.882455618120058, (0.0, 'total_coliforms_fecal_ecoli'): 3120002.9988878933, (0.0, 'tss'): 6.954381632512379e-35}\n",
      "         :    flow_vol : {0.0: 0.0001414395507692845}\n",
      "         :    pressure : {0.0: 1.0}\n",
      "         : temperature : {0.0: 300.0}\n",
      "total_cap_investment: 19.11026969185505\n",
      "----------------------------------------------------------------------\n",
      "----------------------------------------------------------------------\n",
      "fs.treated_storage\n",
      "inlet : Size=1\n",
      "    Key  : Name        : Value\n",
      "    None :   conc_mass : {(0.0, 'arsenic'): 5.409211945950287e-07, (0.0, 'barium'): 4.794046665822607e-05, (0.0, 'bod'): 85758.88816153888, (0.0, 'boron'): 0.0004242519173294343, (0.0, 'bromide'): 6.477915842970817e-07, (0.0, 'calcium'): 0.05211483295670022, (0.0, 'chloride'): 0.19299006879378658, (0.0, 'electrical_conductivity'): 0.18030706486500958, (0.0, 'fluoride'): 0.0006283578367681694, (0.0, 'hardness'): 0.33091649551695873, (0.0, 'iron'): 0.00032057535503205375, (0.0, 'magnesium'): 0.017496850691864175, (0.0, 'manganese'): 5.5789127128820604e-05, (0.0, 'nitrate'): 85758.89055347886, (0.0, 'nitrate_as_nitrogen'): 0.00916384141431578, (0.0, 'phosphates'): 0.0005515274925282645, (0.0, 'potassium'): 0.01228860635411564, (0.0, 'selenium'): 1.1242675809230007e-06, (0.0, 'silicon'): 0.0136295349336106, (0.0, 'sodium'): 0.1500155750915182, (0.0, 'sulfate'): 0.12194676574392561, (0.0, 'tds'): 0.6864522419249941, (0.0, 'toc'): 0.007508617335083559, (0.0, 'total_coliforms_fecal_ecoli'): 0.0017835822663185797, (0.0, 'tss'): 0.00020761828204309197}\n",
      "         :    flow_vol : {0.0: 1.4142540681415383}\n",
      "         :    pressure : {0.0: 1.0}\n",
      "         : temperature : {0.0: 300.0}\n",
      "outlet : Size=1\n",
      "    Key  : Name        : Value\n",
      "    None :   conc_mass : {(0.0, 'arsenic'): 5.409752921242411e-07, (0.0, 'barium'): 4.7945261184344507e-05, (0.0, 'bod'): 85767.4649080297, (0.0, 'boron'): 0.0004242943467641107, (0.0, 'bromide'): 6.478563699340751e-07, (0.0, 'calcium'): 0.05212004496119634, (0.0, 'chloride'): 0.19300936973075966, (0.0, 'electrical_conductivity'): 0.18032509737474706, (0.0, 'fluoride'): 0.000628420678836053, (0.0, 'hardness'): 0.3309495904760063, (0.0, 'iron'): 0.0003206074157736311, (0.0, 'magnesium'): 0.017498600551919367, (0.0, 'manganese'): 5.579470659948055e-05, (0.0, 'nitrate'): 85767.46730020888, (0.0, 'nitrate_as_nitrogen'): 0.009164757890104791, (0.0, 'phosphates'): 0.0005515826507933438, (0.0, 'potassium'): 0.012289835337649406, (0.0, 'selenium'): 1.1243800189248932e-06, (0.0, 'silicon'): 0.01363089802341294, (0.0, 'sodium'): 0.15003057814933313, (0.0, 'sulfate'): 0.12195896164008964, (0.0, 'tds'): 0.6865208940143955, (0.0, 'toc'): 0.007509368271910751, (0.0, 'total_coliforms_fecal_ecoli'): 0.001783760642382818, (0.0, 'tss'): 0.00020763904594768673}\n",
      "         :    flow_vol : {0.0: 1.4141126427347241}\n",
      "         :    pressure : {0.0: 1.0}\n",
      "         : temperature : {0.0: 300.0}\n",
      "waste : Size=1\n",
      "    Key  : Name        : Value\n",
      "    None :   conc_mass : {(0.0, 'arsenic'): 1.435108293022814e-40, (0.0, 'barium'): 1.631525452379718e-40, (0.0, 'bod'): 1.2723476974057414e-40, (0.0, 'boron'): 2.04118380629947e-40, (0.0, 'bromide'): 1.8453769541616732e-40, (0.0, 'calcium'): 0.0, (0.0, 'chloride'): 1.0876035885077853e-40, (0.0, 'electrical_conductivity'): 1.7443318308368079e-40, (0.0, 'fluoride'): 7.49576537295704e-41, (0.0, 'hardness'): 4.543420890070781e-41, (0.0, 'iron'): 1.0031087222573316e-40, (0.0, 'magnesium'): 1.2786365964465272e-40, (0.0, 'manganese'): 1.5178598937811082e-40, (0.0, 'nitrate'): 0.0, (0.0, 'nitrate_as_nitrogen'): 1.6937898303236865e-40, (0.0, 'phosphates'): 1.815671308344343e-40, (0.0, 'potassium'): 1.9006786421211924e-40, (0.0, 'selenium'): 1.981365963632075e-40, (0.0, 'silicon'): 6.160015741233486e-41, (0.0, 'sodium'): 5.88571440718896e-41, (0.0, 'sulfate'): 1.4500154398240975e-40, (0.0, 'tds'): 2.0968850802138912e-41, (0.0, 'toc'): 1.6464440147161032e-40, (0.0, 'total_coliforms_fecal_ecoli'): 0.0, (0.0, 'tss'): 2.2769954819055297e-40}\n",
      "         :    flow_vol : {0.0: 0.00014142540681416627}\n",
      "         :    pressure : {0.0: 1.0}\n",
      "         : temperature : {0.0: 300.0}\n",
      "total_cap_investment: 0.2615549754583376\n",
      "----------------------------------------------------------------------\n",
      "----------------------------------------------------------------------\n",
      "fs.municipal_drinking\n",
      "inlet : Size=1\n",
      "    Key  : Name        : Value\n",
      "    None :   conc_mass : {(0.0, 'arsenic'): 5.409752921242411e-07, (0.0, 'barium'): 4.7945261184344507e-05, (0.0, 'bod'): 85767.4649080297, (0.0, 'boron'): 0.0004242943467641107, (0.0, 'bromide'): 6.478563699340751e-07, (0.0, 'calcium'): 0.05212004496119634, (0.0, 'chloride'): 0.19300936973075966, (0.0, 'electrical_conductivity'): 0.18032509737474706, (0.0, 'fluoride'): 0.000628420678836053, (0.0, 'hardness'): 0.3309495904760063, (0.0, 'iron'): 0.0003206074157736311, (0.0, 'magnesium'): 0.017498600551919367, (0.0, 'manganese'): 5.579470659948055e-05, (0.0, 'nitrate'): 85767.46730020888, (0.0, 'nitrate_as_nitrogen'): 0.009164757890104791, (0.0, 'phosphates'): 0.0005515826507933438, (0.0, 'potassium'): 0.012289835337649406, (0.0, 'selenium'): 1.1243800189248932e-06, (0.0, 'silicon'): 0.01363089802341294, (0.0, 'sodium'): 0.15003057814933313, (0.0, 'sulfate'): 0.12195896164008964, (0.0, 'tds'): 0.6865208940143955, (0.0, 'toc'): 0.007509368271910751, (0.0, 'total_coliforms_fecal_ecoli'): 0.001783760642382818, (0.0, 'tss'): 0.00020763904594768673}\n",
      "         :    flow_vol : {0.0: 1.4141126427347241}\n",
      "         :    pressure : {0.0: 1.0}\n",
      "         : temperature : {0.0: 300.0}\n",
      "outlet : Size=1\n",
      "    Key  : Name        : Value\n",
      "    None :   conc_mass : {(0.0, 'arsenic'): 5.410293950637475e-07, (0.0, 'barium'): 4.79500561899635e-05, (0.0, 'bod'): 85776.04251228092, (0.0, 'boron'): 0.00042433678044215495, (0.0, 'bromide'): 6.479211620502802e-07, (0.0, 'calcium'): 0.052125257486945034, (0.0, 'chloride'): 0.19302867259801948, (0.0, 'electrical_conductivity'): 0.18034313168791583, (0.0, 'fluoride'): 0.0006284835271887718, (0.0, 'hardness'): 0.3309826887448808, (0.0, 'iron'): 0.00032063947972160327, (0.0, 'magnesium'): 0.017500350586978065, (0.0, 'manganese'): 5.580028662814337e-05, (0.0, 'nitrate'): 85776.04490469935, (0.0, 'nitrate_as_nitrogen'): 0.009165674457550545, (0.0, 'phosphates'): 0.0005516378145748013, (0.0, 'potassium'): 0.012291064444093815, (0.0, 'selenium'): 1.1244924681717103e-06, (0.0, 'silicon'): 0.013632261249537895, (0.0, 'sodium'): 0.15004558270760388, (0.0, 'sulfate'): 0.12197115875596523, (0.0, 'tds'): 0.6865895529696926, (0.0, 'toc'): 0.0075101192838391345, (0.0, 'total_coliforms_fecal_ecoli'): 0.0017839390362864467, (0.0, 'tss'): 0.0002076598119288796}\n",
      "         :    flow_vol : {0.0: 1.4139712314704507}\n",
      "         :    pressure : {0.0: 1.0}\n",
      "         : temperature : {0.0: 300.0}\n",
      "waste : Size=1\n",
      "    Key  : Name        : Value\n",
      "    None :   conc_mass : {(0.0, 'arsenic'): 1.001233007629323e-40, (0.0, 'barium'): 4.624664240776136e-40, (0.0, 'bod'): 1.5892946114437159e-40, (0.0, 'boron'): 3.7133226240589224e-40, (0.0, 'bromide'): 1.811747542640958e-40, (0.0, 'calcium'): 1.4532900234100599e-40, (0.0, 'chloride'): 2.612815310387652e-40, (0.0, 'electrical_conductivity'): 2.7335350928664382e-40, (0.0, 'fluoride'): 4.0622418577982354e-40, (0.0, 'hardness'): 4.3170592042787325e-40, (0.0, 'iron'): 1.5728166471287711e-40, (0.0, 'magnesium'): 1.984176184555241e-40, (0.0, 'manganese'): 5.023622124302601e-40, (0.0, 'nitrate'): 2.7738456642735795e-40, (0.0, 'nitrate_as_nitrogen'): 8.287912798456554e-42, (0.0, 'phosphates'): 1.4854386668459572e-40, (0.0, 'potassium'): 1.9914070682100013e-40, (0.0, 'selenium'): 3.6192176217195645e-40, (0.0, 'silicon'): 2.535171698505839e-40, (0.0, 'sodium'): 3.1867871613834494e-40, (0.0, 'sulfate'): 1.80479468160841e-40, (0.0, 'tds'): 2.6590512940727495e-40, (0.0, 'toc'): 3.0115485070166362e-40, (0.0, 'total_coliforms_fecal_ecoli'): 3.6195881772401105e-40, (0.0, 'tss'): 0.0}\n",
      "         :    flow_vol : {0.0: 0.00014141126427347217}\n",
      "         :    pressure : {0.0: 1.0}\n",
      "         : temperature : {0.0: 300.0}\n",
      "total_cap_investment: 2.916316491980669\n",
      "----------------------------------------------------------------------\n",
      "----------------------------------------------------------------------\n",
      "fs.Big_Spring_Feed\n",
      "inlet : Size=1\n",
      "    Key  : Name        : Value\n",
      "    None :   conc_mass : {(0.0, 'arsenic'): 5.1e-07, (0.0, 'barium'): 4.52e-05, (0.0, 'bod'): nan, (0.0, 'boron'): 0.0004, (0.0, 'bromide'): 1e-06, (0.0, 'calcium'): 0.08045, (0.0, 'chloride'): 0.29792, (0.0, 'electrical_conductivity'): 0.17, (0.0, 'fluoride'): 0.00097, (0.0, 'hardness'): 0.312, (0.0, 'iron'): 0.00030225, (0.0, 'magnesium'): 0.02701, (0.0, 'manganese'): 5.26e-05, (0.0, 'nitrate'): nan, (0.0, 'nitrate_as_nitrogen'): 0.00864, (0.0, 'phosphates'): 0.00052, (0.0, 'potassium'): 0.01897, (0.0, 'selenium'): 1.06e-06, (0.0, 'silicon'): 0.02104, (0.0, 'sodium'): 0.23158, (0.0, 'sulfate'): 0.18825, (0.0, 'tds'): 0.98555, (0.0, 'toc'): 0.00953, (0.0, 'total_coliforms_fecal_ecoli'): 294.19623, (0.0, 'tss'): 0.006525}\n",
      "         :    flow_vol : {0.0: 1.5}\n",
      "         :    pressure : {0.0: 1}\n",
      "         : temperature : {0.0: 300}\n",
      "outlet : Size=1\n",
      "    Key  : Name        : Value\n",
      "    None :   conc_mass : {(0.0, 'arsenic'): 5.1e-07, (0.0, 'barium'): 4.52e-05, (0.0, 'bod'): 80856.57097450104, (0.0, 'boron'): 0.0004, (0.0, 'bromide'): 1e-06, (0.0, 'calcium'): 0.08045, (0.0, 'chloride'): 0.29792, (0.0, 'electrical_conductivity'): 0.17, (0.0, 'fluoride'): 0.00097, (0.0, 'hardness'): 0.312, (0.0, 'iron'): 0.00030225, (0.0, 'magnesium'): 0.02701, (0.0, 'manganese'): 5.26e-05, (0.0, 'nitrate'): 80856.57322970829, (0.0, 'nitrate_as_nitrogen'): 0.00864, (0.0, 'phosphates'): 0.00052, (0.0, 'potassium'): 0.01897, (0.0, 'selenium'): 1.06e-06, (0.0, 'silicon'): 0.02104, (0.0, 'sodium'): 0.23158, (0.0, 'sulfate'): 0.18825, (0.0, 'tds'): 0.98555, (0.0, 'toc'): 0.00953, (0.0, 'total_coliforms_fecal_ecoli'): 294.19623, (0.0, 'tss'): 0.006525}\n",
      "         :    flow_vol : {0.0: 1.5}\n",
      "         :    pressure : {0.0: 1.0}\n",
      "         : temperature : {0.0: 300.0}\n",
      "----------------------------------------------------------------------\n",
      "fs.mixer1\n",
      "inlet1 : Size=1\n",
      "    Key  : Name        : Value\n",
      "    None :   conc_mass : {(0.0, 'arsenic'): 5.368957948426421e-07, (0.0, 'barium'): 4.7583705738994955e-05, (0.0, 'bod'): 85120.69204236324, (0.0, 'boron'): 0.00042109474105305275, (0.0, 'bromide'): 1.0527368526326317e-06, (0.0, 'calcium'): 0.08469267979429522, (0.0, 'chloride'): 0.3136313631363137, (0.0, 'electrical_conductivity'): 0.17896526494754741, (0.0, 'fluoride'): 0.001021154747053653, (0.0, 'hardness'): 0.3284538980213811, (0.0, 'iron'): 0.00031818971370821294, (0.0, 'magnesium'): 0.028434422389607382, (0.0, 'manganese'): 5.537395844847643e-05, (0.0, 'nitrate'): 85120.69441650301, (0.0, 'nitrate_as_nitrogen'): 0.009095646406745938, (0.0, 'phosphates'): 0.0005474231633689684, (0.0, 'potassium'): 0.019970418094441025, (0.0, 'selenium'): 1.1159010637905896e-06, (0.0, 'silicon'): 0.02214958337939057, (0.0, 'sodium'): 0.24379280033266487, (0.0, 'sulfate'): 0.1981777125080929, (0.0, 'tds'): 1.0375248051120904, (0.0, 'toc'): 0.009029323985030082, (0.0, 'total_coliforms_fecal_ecoli'): 309.71121322658587, (0.0, 'tss'): 0.00020607323890283773}\n",
      "         :    flow_vol : {0.0: 0.8549145}\n",
      "         :    pressure : {0.0: 1.0}\n",
      "         : temperature : {0.0: 300.0}\n",
      "outlet : Size=1\n",
      "    Key  : Name        : Value\n",
      "    None :   conc_mass : {(0.0, 'arsenic'): 5.408671024755692e-07, (0.0, 'barium'): 4.793567261156025e-05, (0.0, 'bod'): 85750.31227272273, (0.0, 'boron'): 0.00042420949213770135, (0.0, 'bromide'): 6.47726805138652e-07, (0.0, 'calcium'): 0.05210962147340455, (0.0, 'chloride'): 0.1929707697869072, (0.0, 'electrical_conductivity'): 0.18028903415852307, (0.0, 'fluoride'): 0.0006282950009844925, (0.0, 'hardness'): 0.330883403867407, (0.0, 'iron'): 0.0003205432974965505, (0.0, 'magnesium'): 0.017495101006794987, (0.0, 'manganese'): 5.578354821610772e-05, (0.0, 'nitrate'): 85750.31466442351, (0.0, 'nitrate_as_nitrogen'): 0.009162925030174348, (0.0, 'phosphates'): 0.0005514723397790116, (0.0, 'potassium'): 0.01228737749348023, (0.0, 'selenium'): 1.1241551541649083e-06, (0.0, 'silicon'): 0.013628171980117239, (0.0, 'sodium'): 0.15000057353400903, (0.0, 'sulfate'): 0.12193457106735123, (0.0, 'tds'): 0.6863835967008016, (0.0, 'toc'): 0.00909611203516266, (0.0, 'total_coliforms_fecal_ecoli'): 312.00208329281594, (0.0, 'tss'): 0.00020759752021488764}\n",
      "         :    flow_vol : {0.0: 1.4143955076923076}\n",
      "         :    pressure : {0.0: 1.0}\n",
      "         : temperature : {0.0: 300.0}\n",
      "----------------------------------------------------------------------\n",
      "fs.splitter1\n",
      "inlet : Size=1\n",
      "    Key  : Name        : Value\n",
      "    None :   conc_mass : {(0.0, 'arsenic'): 5.368957948426421e-07, (0.0, 'barium'): 4.7583705738994955e-05, (0.0, 'bod'): 85120.69204236324, (0.0, 'boron'): 0.00042109474105305275, (0.0, 'bromide'): 1.0527368526326317e-06, (0.0, 'calcium'): 0.08469267979429522, (0.0, 'chloride'): 0.3136313631363137, (0.0, 'electrical_conductivity'): 0.17896526494754741, (0.0, 'fluoride'): 0.001021154747053653, (0.0, 'hardness'): 0.3284538980213811, (0.0, 'iron'): 0.00031818971370821294, (0.0, 'magnesium'): 0.028434422389607382, (0.0, 'manganese'): 5.537395844847643e-05, (0.0, 'nitrate'): 85120.69441650301, (0.0, 'nitrate_as_nitrogen'): 0.009095646406745938, (0.0, 'phosphates'): 0.0005474231633689684, (0.0, 'potassium'): 0.019970418094441025, (0.0, 'selenium'): 1.1159010637905896e-06, (0.0, 'silicon'): 0.02214958337939057, (0.0, 'sodium'): 0.24379280033266487, (0.0, 'sulfate'): 0.1981777125080929, (0.0, 'tds'): 1.0375248051120904, (0.0, 'toc'): 0.009029323985030082, (0.0, 'total_coliforms_fecal_ecoli'): 309.71121322658587, (0.0, 'tss'): 0.00020607323890283773}\n",
      "         :    flow_vol : {0.0: 1.4248574999999999}\n",
      "         :    pressure : {0.0: 1.0}\n",
      "         : temperature : {0.0: 300.0}\n"
     ]
    }
   ],
   "source": [
    "wt.run_water_tap(m=m, solver_results=False, print_model_results=True, return_results = False, max_attemps=3,\n",
    "                objective = False)"
   ]
  },
  {
   "cell_type": "code",
   "execution_count": null,
   "metadata": {},
   "outputs": [],
   "source": [
    "flow_vol : {0.0: 0.599880006}"
   ]
  },
  {
   "cell_type": "code",
   "execution_count": null,
   "metadata": {},
   "outputs": [],
   "source": [
    "0.899820009"
   ]
  },
  {
   "cell_type": "code",
   "execution_count": null,
   "metadata": {},
   "outputs": [],
   "source": [
    "0.5894180136923077"
   ]
  },
  {
   "cell_type": "code",
   "execution_count": 5,
   "metadata": {},
   "outputs": [
    {
     "data": {
      "text/plain": [
       "0.3957849616455083"
      ]
     },
     "execution_count": 5,
     "metadata": {},
     "output_type": "execute_result"
    }
   ],
   "source": [
    "0.5894180136923077 / (0.899820009 + 0.5894180136923077)"
   ]
  },
  {
   "cell_type": "code",
   "execution_count": null,
   "metadata": {},
   "outputs": [],
   "source": []
  },
  {
   "cell_type": "code",
   "execution_count": 4,
   "metadata": {
    "scrolled": true
   },
   "outputs": [
    {
     "name": "stdout",
     "output_type": "stream",
     "text": [
      "Block fs.mixer1\n",
      "\n",
      "  Variables:\n",
      "    flow_vol_inlet1 : Volumetric flowrate of water out of unit\n",
      "        Size=1, Index=fs.time\n",
      "        Key : Lower : Value       : Upper : Fixed : Stale : Domain\n",
      "        0.0 :  None : 0.899820009 :  None : False : False :  Reals\n",
      "    conc_mass_inlet1 : Mass concentration of species at outlet\n",
      "        Size=25, Index=fs.mixer1.conc_mass_inlet1_index\n",
      "        Key                                  : Lower : Value                  : Upper : Fixed : Stale : Domain\n",
      "                            (0.0, 'arsenic') :  None :  5.101020153020403e-07 :  None : False : False :  Reals\n",
      "                             (0.0, 'barium') :  None :  4.520904135618082e-05 :  None : False : False :  Reals\n",
      "                                (0.0, 'bod') :  None :     10691.585680670863 :  None : False : False :  Reals\n",
      "                              (0.0, 'boron') :  None : 0.00040008001200160027 :  None : False : False :  Reals\n",
      "                            (0.0, 'bromide') :  None : 1.0002000300040006e-06 :  None : False : False :  Reals\n",
      "                            (0.0, 'calcium') :  None :    0.08046609241382184 :  None : False : False :  Reals\n",
      "                           (0.0, 'chloride') :  None :     0.2979795929387919 :  None : False : False :  Reals\n",
      "            (0.0, 'electrical_conductivity') :  None :     0.1700340051006801 :  None : False : False :  Reals\n",
      "                           (0.0, 'fluoride') :  None :  0.0009701940291038806 :  None : False : False :  Reals\n",
      "                           (0.0, 'hardness') :  None :     0.3120624093612481 :  None : False : False :  Reals\n",
      "                               (0.0, 'iron') :  None :  0.0003023104590687092 :  None : False : False :  Reals\n",
      "                          (0.0, 'magnesium') :  None :    0.02701540281040805 :  None : False : False :  Reals\n",
      "                          (0.0, 'manganese') :  None : 5.2610521578210424e-05 :  None : False : False :  Reals\n",
      "                            (0.0, 'nitrate') :  None :     10690.806108608896 :  None : False : False :  Reals\n",
      "                (0.0, 'nitrate_as_nitrogen') :  None :   0.008641728259234564 :  None : False : False :  Reals\n",
      "                         (0.0, 'phosphates') :  None :  0.0005201040156020802 :  None : False : False :  Reals\n",
      "                          (0.0, 'potassium') :  None :    0.01897379456917589 :  None : False : False :  Reals\n",
      "                           (0.0, 'selenium') :  None : 1.0602120318042406e-06 :  None : False : False :  Reals\n",
      "                            (0.0, 'silicon') :  None :    0.02104420863128417 :  None : False : False :  Reals\n",
      "                             (0.0, 'sodium') :  None :    0.23162632294832644 :  None : False : False :  Reals\n",
      "                            (0.0, 'sulfate') :  None :     0.1882876556482531 :  None : False : False :  Reals\n",
      "                                (0.0, 'tds') :  None :     0.9857471395704428 :  None : False : False :  Reals\n",
      "                                (0.0, 'toc') :  None :   0.009531906285938125 :  None : False : False :  Reals\n",
      "        (0.0, 'total_coliforms_fecal_ecoli') :  None :      294.2550780730639 :  None : False : False :  Reals\n",
      "                                (0.0, 'tss') :  None :   0.006526305195776104 :  None : False : False :  Reals\n",
      "    pressure_inlet1 : Pressure at outlet\n",
      "        Size=1, Index=fs.time\n",
      "        Key : Lower : Value : Upper : Fixed : Stale : Domain\n",
      "        0.0 :  None :   1.0 :  None : False : False :  Reals\n",
      "    temperature_inlet1 : Temperature at outlet\n",
      "        Size=1, Index=fs.time\n",
      "        Key : Lower : Value : Upper : Fixed : Stale : Domain\n",
      "        0.0 :  None : 300.0 :  None : False : False :  Reals\n",
      "    flow_vol_inlet2 : Volumetric flowrate of water out of unit\n",
      "        Size=1, Index=fs.time\n",
      "        Key : Lower : Value              : Upper : Fixed : Stale : Domain\n",
      "        0.0 :  None : 0.5894180136923077 :  None : False : False :  Reals\n",
      "    conc_mass_inlet2 : Mass concentration of species at outlet\n",
      "        Size=25, Index=fs.mixer1.conc_mass_inlet2_index\n",
      "        Key                                  : Lower : Value                  : Upper : Fixed : Stale : Domain\n",
      "                            (0.0, 'arsenic') :  None :  5.191561725151827e-07 :  None : False : False :  Reals\n",
      "                             (0.0, 'barium') :  None :  4.601148823075737e-05 :  None : False : False :  Reals\n",
      "                                (0.0, 'bod') :  None :     10881.358107963191 :  None : False : False :  Reals\n",
      "                              (0.0, 'boron') :  None : 0.00040718131177661397 :  None : False : False :  Reals\n",
      "                            (0.0, 'bromide') :  None : 2.7386138572321292e-08 :  None : False : False :  Reals\n",
      "                            (0.0, 'calcium') :  None :  0.0022032148481432455 :  None : False : False :  Reals\n",
      "                           (0.0, 'chloride') :  None :   0.008158878403465965 :  None : False : False :  Reals\n",
      "            (0.0, 'electrical_conductivity') :  None :     0.1730520575050609 :  None : False : False :  Reals\n",
      "                           (0.0, 'fluoride') :  None : 2.6564554415151702e-05 :  None : False : False :  Reals\n",
      "                           (0.0, 'hardness') :  None :     0.3176014231857588 :  None : False : False :  Reals\n",
      "                               (0.0, 'iron') :  None : 0.00030767637871120384 :  None : False : False :  Reals\n",
      "                          (0.0, 'magnesium') :  None :  0.0007396996028383966 :  None : False : False :  Reals\n",
      "                          (0.0, 'manganese') :  None :  5.354434249862472e-05 :  None : False : False :  Reals\n",
      "                            (0.0, 'nitrate') :  None :     10880.564698731801 :  None : False : False :  Reals\n",
      "                (0.0, 'nitrate_as_nitrogen') :  None :    0.00879511633437486 :  None : False : False :  Reals\n",
      "                         (0.0, 'phosphates') :  None :   0.000529335705309598 :  None : False : False :  Reals\n",
      "                          (0.0, 'potassium') :  None :  0.0005195150487169334 :  None : False : False :  Reals\n",
      "                           (0.0, 'selenium') :  None : 1.0790304762080268e-06 :  None : False : False :  Reals\n",
      "                            (0.0, 'silicon') :  None :   0.000576204355561643 :  None : False : False :  Reals\n",
      "                             (0.0, 'sodium') :  None :   0.006342081970578224 :  None : False : False :  Reals\n",
      "                            (0.0, 'sulfate') :  None :   0.005155440586239473 :  None : False : False :  Reals\n",
      "                                (0.0, 'tds') :  None :    0.14954822666721196 :  None : False : False :  Reals\n",
      "                                (0.0, 'toc') :  None :   0.009701094753077826 :  None : False : False :  Reals\n",
      "        (0.0, 'total_coliforms_fecal_ecoli') :  None :     299.47801712783604 :  None : False : False :  Reals\n",
      "                                (0.0, 'tss') :  None :  0.0066421451483560144 :  None : False : False :  Reals\n",
      "    pressure_inlet2 : Pressure at outlet\n",
      "        Size=1, Index=fs.time\n",
      "        Key : Lower : Value : Upper : Fixed : Stale : Domain\n",
      "        0.0 :  None :   1.0 :  None : False : False :  Reals\n",
      "    temperature_inlet2 : Temperature at outlet\n",
      "        Size=1, Index=fs.time\n",
      "        Key : Lower : Value : Upper : Fixed : Stale : Domain\n",
      "        0.0 :  None : 300.0 :  None : False : False :  Reals\n",
      "    flow_vol_out : Volumetric flowrate of water out of unit\n",
      "        Size=1, Index=fs.time\n",
      "        Key : Lower : Value              : Upper : Fixed : Stale : Domain\n",
      "        0.0 :  None : 1.4892380226923079 :  None : False : False :  Reals\n",
      "    conc_mass_out : Mass concentration of species at outlet\n",
      "        Size=25, Index=fs.mixer1.conc_mass_out_index\n",
      "        Key                                  : Lower : Value                  : Upper : Fixed : Stale : Domain\n",
      "                            (0.0, 'arsenic') :  None :  5.136855145673761e-07 :  None : False : False :  Reals\n",
      "                             (0.0, 'barium') :  None :  4.552663776165766e-05 :  None : False : False :  Reals\n",
      "                                (0.0, 'bod') :  None :     10766.694753528132 :  None : False : False :  Reals\n",
      "                              (0.0, 'boron') :  None : 0.00040289059966068725 :  None : False : False :  Reals\n",
      "                            (0.0, 'bromide') :  None :  6.151749212954957e-07 :  None : False : False :  Reals\n",
      "                            (0.0, 'calcium') :  None :    0.04949082241822261 :  None : False : False :  Reals\n",
      "                           (0.0, 'chloride') :  None :     0.1832729125523541 :  None : False : False :  Reals\n",
      "            (0.0, 'electrical_conductivity') :  None :    0.17122850485579205 :  None : False : False :  Reals\n",
      "                           (0.0, 'fluoride') :  None :  0.0005967196736566308 :  None : False : False :  Reals\n",
      "                           (0.0, 'hardness') :  None :    0.31425466773533606 :  None : False : False :  Reals\n",
      "                               (0.0, 'iron') :  None :  0.0003044342093686068 :  None : False : False :  Reals\n",
      "                          (0.0, 'magnesium') :  None :   0.016615874624191333 :  None : False : False :  Reals\n",
      "                          (0.0, 'manganese') :  None :  5.298011385538037e-05 :  None : False : False :  Reals\n",
      "                            (0.0, 'nitrate') :  None :     10765.909704922595 :  None : False : False :  Reals\n",
      "                (0.0, 'nitrate_as_nitrogen') :  None :   0.008702436952670842 :  None : False : False :  Reals\n",
      "                         (0.0, 'phosphates') :  None :  0.0005237577795588934 :  None : False : False :  Reals\n",
      "                          (0.0, 'potassium') :  None :   0.011669868256975552 :  None : False : False :  Reals\n",
      "                           (0.0, 'selenium') :  None : 1.0676600891008212e-06 :  None : False : False :  Reals\n",
      "                            (0.0, 'silicon') :  None :   0.012943280344057227 :  None : False : False :  Reals\n",
      "                             (0.0, 'sodium') :  None :     0.1424622082736109 :  None : False : False :  Reals\n",
      "                            (0.0, 'sulfate') :  None :    0.11580667893387703 :  None : False : False :  Reals\n",
      "                                (0.0, 'tds') :  None :     0.6547921848990217 :  None : False : False :  Reals\n",
      "                                (0.0, 'toc') :  None :   0.009598868536915873 :  None : False : False :  Reals\n",
      "        (0.0, 'total_coliforms_fecal_ecoli') :  None :      296.3222388065337 :  None : False : False :  Reals\n",
      "                                (0.0, 'tss') :  None :   0.006572152906964961 :  None : False : False :  Reals\n",
      "    temperature_out : Temperature at outlet\n",
      "        Size=1, Index=fs.time\n",
      "        Key : Lower : Value : Upper : Fixed : Stale : Domain\n",
      "        0.0 :  None : 300.0 :  None : False : False :  Reals\n",
      "    pressure_out : Pressure at outlet\n",
      "        Size=1, Index=fs.time\n",
      "        Key : Lower : Value : Upper : Fixed : Stale : Domain\n",
      "        0.0 :  None :   1.0 :  None : False : False :  Reals\n",
      "\n",
      "  Objectives:\n",
      "    None\n",
      "\n",
      "  Constraints:\n",
      "    flow_balance : Size=1\n",
      "        Key : Lower : Body : Upper\n",
      "        0.0 :   0.0 :  0.0 :   0.0\n",
      "    component_mass_balance : Size=25\n",
      "        Key                                  : Lower : Body                    : Upper\n",
      "                            (0.0, 'arsenic') :   0.0 :  1.0587911840678754e-22 :   0.0\n",
      "                             (0.0, 'barium') :   0.0 :                     0.0 :   0.0\n",
      "                                (0.0, 'bod') :   0.0 : -1.8189894035458565e-12 :   0.0\n",
      "                              (0.0, 'boron') :   0.0 :  1.0842021724855044e-19 :   0.0\n",
      "                            (0.0, 'bromide') :   0.0 : -1.0587911840678754e-22 :   0.0\n",
      "                            (0.0, 'calcium') :   0.0 :                     0.0 :   0.0\n",
      "                           (0.0, 'chloride') :   0.0 :                     0.0 :   0.0\n",
      "            (0.0, 'electrical_conductivity') :   0.0 :                     0.0 :   0.0\n",
      "                           (0.0, 'fluoride') :   0.0 :                     0.0 :   0.0\n",
      "                           (0.0, 'hardness') :   0.0 : -1.1102230246251565e-16 :   0.0\n",
      "                               (0.0, 'iron') :   0.0 :  -5.421010862427522e-20 :   0.0\n",
      "                          (0.0, 'magnesium') :   0.0 :                     0.0 :   0.0\n",
      "                          (0.0, 'manganese') :   0.0 : -1.3552527156068805e-20 :   0.0\n",
      "                            (0.0, 'nitrate') :   0.0 :                     0.0 :   0.0\n",
      "                (0.0, 'nitrate_as_nitrogen') :   0.0 :                     0.0 :   0.0\n",
      "                         (0.0, 'phosphates') :   0.0 :                     0.0 :   0.0\n",
      "                          (0.0, 'potassium') :   0.0 :  -3.469446951953614e-18 :   0.0\n",
      "                           (0.0, 'selenium') :   0.0 :  -2.117582368135751e-22 :   0.0\n",
      "                            (0.0, 'silicon') :   0.0 :                     0.0 :   0.0\n",
      "                             (0.0, 'sodium') :   0.0 :                     0.0 :   0.0\n",
      "                            (0.0, 'sulfate') :   0.0 :                     0.0 :   0.0\n",
      "                                (0.0, 'tds') :   0.0 :  1.1102230246251565e-16 :   0.0\n",
      "                                (0.0, 'toc') :   0.0 :   1.734723475976807e-18 :   0.0\n",
      "        (0.0, 'total_coliforms_fecal_ecoli') :   0.0 :   5.684341886080802e-14 :   0.0\n",
      "                                (0.0, 'tss') :   0.0 :                     0.0 :   0.0\n",
      "    outlet_temperature_constraint : Size=1\n",
      "        Key : Lower : Body : Upper\n",
      "        0.0 :   0.0 :  0.0 :   0.0\n",
      "    outlet_pressure_constraint : Size=1\n",
      "        Key : Lower : Body : Upper\n",
      "        0.0 :   0.0 :  0.0 :   0.0\n",
      "\n",
      "  Blocks:\n",
      "    Block fs.mixer1.inlet1_state[0.0]\n",
      "    \n",
      "      Variables:\n",
      "        None\n",
      "    \n",
      "      Objectives:\n",
      "        None\n",
      "    \n",
      "      Constraints:\n",
      "        None\n",
      "    Block fs.mixer1.inlet2_state[0.0]\n",
      "    \n",
      "      Variables:\n",
      "        None\n",
      "    \n",
      "      Objectives:\n",
      "        None\n",
      "    \n",
      "      Constraints:\n",
      "        None\n",
      "    Block fs.mixer1.mixed_state[0.0]\n",
      "    \n",
      "      Variables:\n",
      "        None\n",
      "    \n",
      "      Objectives:\n",
      "        None\n",
      "    \n",
      "      Constraints:\n",
      "        None\n"
     ]
    }
   ],
   "source": [
    "m.fs.mixer1.display()"
   ]
  },
  {
   "cell_type": "code",
   "execution_count": null,
   "metadata": {},
   "outputs": [],
   "source": []
  },
  {
   "cell_type": "code",
   "execution_count": null,
   "metadata": {},
   "outputs": [],
   "source": [
    "# __> FOR DISPLAY --->G.remove_node('B')"
   ]
  },
  {
   "cell_type": "code",
   "execution_count": 11,
   "metadata": {},
   "outputs": [],
   "source": [
    "    import shutil\n",
    "    import sys\n",
    "    import os.path\n",
    "    import pandas as pd\n",
    "    import numpy as np\n",
    "\n",
    "    import matplotlib.pyplot as plt\n",
    "    from scipy.optimize import fsolve\n",
    "    from scipy.optimize import minimize\n",
    "    import itertools\n",
    "    import pyomo.environ as env\n",
    "    import ast\n",
    "\n",
    "    import networkx as nx\n",
    "    from networkx.drawing.nx_agraph import write_dot, graphviz_layout\n",
    "    from pyvis import network as net\n",
    "\n",
    "    import watertap as wt\n",
    "\n",
    "    from pyvis.network import Network\n",
    "    import pyvis\n",
    "    import networkx as nx\n",
    "    \n",
    "    import warnings\n",
    "\n",
    "import case_study_trains\n",
    "### WATER TAP MODULES ###\n",
    "import financials\n",
    "import display\n",
    "import watertap as wt\n",
    "import case_study_trains\n",
    "import importfile\n",
    "import module_import\n",
    "import design\n",
    "import case_study_trains\n",
    "import watertap as wt\n",
    "from post_processing import *\n",
    "import app3\n",
    "import optimize_setup\n",
    "\n",
    "warnings.filterwarnings('ignore')\n",
    "\n",
    "from pyomo.environ import ConcreteModel, SolverFactory, TransformationFactory\n",
    "from pyomo.network import SequentialDecomposition\n",
    "from idaes.core import FlowsheetBlock\n",
    "\n",
    "from idaes.core.util.model_statistics import degrees_of_freedom\n",
    "from pyomo.util.check_units import assert_units_consistent\n",
    "import pyomo.util.infeasible as infeas\n",
    "import idaes.core.util.scaling as iscale\n",
    "import pyomo.environ as env"
   ]
  },
  {
   "cell_type": "code",
   "execution_count": 12,
   "metadata": {},
   "outputs": [],
   "source": [
    "TransformationFactory(\"network.expand_arcs\").apply_to(m)\n",
    "seq1 = SequentialDecomposition()\n",
    "GG = seq1.create_graph(m)\n",
    "\n",
    "#G2 = nx.Graph()\n",
    "GG2 = nx.DiGraph(directed=True)\n",
    "for edge in GG.edges():\n",
    "    GG2.add_edge(edge[0].getname(), edge[1].getname())"
   ]
  },
  {
   "cell_type": "code",
   "execution_count": 5,
   "metadata": {},
   "outputs": [
    {
     "data": {
      "text/plain": [
       "False"
      ]
     },
     "execution_count": 5,
     "metadata": {},
     "output_type": "execute_result"
    }
   ],
   "source": [
    "hasattr(list(GG2.nodes()), \"surface_discharge\")"
   ]
  },
  {
   "cell_type": "code",
   "execution_count": 16,
   "metadata": {},
   "outputs": [
    {
     "data": {
      "text/plain": [
       "False"
      ]
     },
     "execution_count": 16,
     "metadata": {},
     "output_type": "execute_result"
    }
   ],
   "source": [
    "hasattr(list(GG2.nodes()), \"surface_discharge\")\n",
    "GG2.remove_node(\"surface_discharge\")"
   ]
  },
  {
   "cell_type": "code",
   "execution_count": 10,
   "metadata": {},
   "outputs": [
    {
     "ename": "AttributeError",
     "evalue": "'NoneType' object has no attribute 'nodes'",
     "output_type": "error",
     "traceback": [
      "\u001b[0;31m---------------------------------------------------------------------------\u001b[0m",
      "\u001b[0;31mAttributeError\u001b[0m                            Traceback (most recent call last)",
      "\u001b[0;32m<ipython-input-10-5928c3929980>\u001b[0m in \u001b[0;36m<module>\u001b[0;34m\u001b[0m\n\u001b[0;32m----> 1\u001b[0;31m \u001b[0;34m\"surface_discharge\"\u001b[0m \u001b[0;32min\u001b[0m \u001b[0mlist\u001b[0m\u001b[0;34m(\u001b[0m\u001b[0mGG2\u001b[0m\u001b[0;34m.\u001b[0m\u001b[0mnodes\u001b[0m\u001b[0;34m(\u001b[0m\u001b[0;34m)\u001b[0m\u001b[0;34m)\u001b[0m\u001b[0;34m\u001b[0m\u001b[0;34m\u001b[0m\u001b[0m\n\u001b[0m",
      "\u001b[0;31mAttributeError\u001b[0m: 'NoneType' object has no attribute 'nodes'"
     ]
    }
   ],
   "source": [
    "\"surface_discharge\" in list(GG2.nodes())"
   ]
  },
  {
   "cell_type": "code",
   "execution_count": 9,
   "metadata": {},
   "outputs": [],
   "source": [
    "GG2.remove_node(\"surface_discharge\")"
   ]
  },
  {
   "cell_type": "code",
   "execution_count": null,
   "metadata": {},
   "outputs": [],
   "source": []
  },
  {
   "cell_type": "code",
   "execution_count": null,
   "metadata": {},
   "outputs": [],
   "source": []
  },
  {
   "cell_type": "code",
   "execution_count": null,
   "metadata": {},
   "outputs": [],
   "source": []
  },
  {
   "cell_type": "code",
   "execution_count": 24,
   "metadata": {},
   "outputs": [
    {
     "data": {
      "text/plain": [
       "9.750032853255545"
      ]
     },
     "execution_count": 24,
     "metadata": {},
     "output_type": "execute_result"
    }
   ],
   "source": [
    "m.fs.ro_deep.pmax[0]()"
   ]
  },
  {
   "cell_type": "code",
   "execution_count": 26,
   "metadata": {},
   "outputs": [
    {
     "data": {
      "text/plain": [
       "0.07147623457186728"
      ]
     },
     "execution_count": 26,
     "metadata": {},
     "output_type": "execute_result"
    }
   ],
   "source": [
    "m.fs.costing.treated_water()"
   ]
  },
  {
   "cell_type": "code",
   "execution_count": 20,
   "metadata": {},
   "outputs": [
    {
     "name": "stdout",
     "output_type": "stream",
     "text": [
      "fs.gray_and_black_tank\n",
      "total_cap_investment: 0.0009104136555316319\n",
      "----------------------------------------------------------------------\n",
      "fs.stormwater_tank\n",
      "total_cap_investment: 0.00045111635771953124\n",
      "----------------------------------------------------------------------\n",
      "fs.treated_storage\n",
      "total_cap_investment: 0.00016662572090907703\n",
      "----------------------------------------------------------------------\n",
      "fs.water_pumping_station\n",
      "total_cap_investment: 0.002857337186964839\n",
      "----------------------------------------------------------------------\n",
      "fs.mbr_nitrification\n",
      "total_cap_investment: 0.09915405789925122\n",
      "----------------------------------------------------------------------\n",
      "fs.uv_aop\n",
      "total_cap_investment: 1.484070816874182\n",
      "----------------------------------------------------------------------\n",
      "fs.ozone_aop\n",
      "total_cap_investment: 4.5014030823765125\n",
      "----------------------------------------------------------------------\n",
      "fs.media_filtration\n",
      "total_cap_investment: 0.27767036923793265\n",
      "----------------------------------------------------------------------\n",
      "fs.cas\n",
      "total_cap_investment: 0.06608087027863402\n",
      "----------------------------------------------------------------------\n",
      "fs.microfiltration\n",
      "total_cap_investment: 0.036197645138071846\n",
      "----------------------------------------------------------------------\n",
      "fs.agriculture\n",
      "total_cap_investment: 0.004664067250566338\n",
      "----------------------------------------------------------------------\n",
      "fs.municipal_drinking\n",
      "total_cap_investment: 0.004664182987166048\n",
      "----------------------------------------------------------------------\n",
      "fs.surface_discharge\n",
      "total_cap_investment: 0.00885216318141439\n",
      "----------------------------------------------------------------------\n",
      "11.572481756347338\n"
     ]
    }
   ],
   "source": [
    "for b_unit in m.fs.component_objects(Block, descend_into=True):\n",
    "    if hasattr(b_unit, 'costing'):\n",
    "        print(b_unit)\n",
    "        print(\"total_cap_investment:\", b_unit.costing.total_cap_investment())\n",
    "        print(\"----------------------------------------------------------------------\")\n",
    "print(m.fs.costing.LCOW())    "
   ]
  },
  {
   "cell_type": "code",
   "execution_count": 13,
   "metadata": {},
   "outputs": [
    {
     "data": {
      "text/plain": [
       "5.9960011398200175"
      ]
     },
     "execution_count": 13,
     "metadata": {},
     "output_type": "execute_result"
    }
   ],
   "source": [
    "m.fs.costing.treated_water()"
   ]
  },
  {
   "cell_type": "code",
   "execution_count": 9,
   "metadata": {},
   "outputs": [
    {
     "name": "stdout",
     "output_type": "stream",
     "text": [
      "Block fs.municipal_drinking\n",
      "\n",
      "  Variables:\n",
      "    flow_vol_in : Volumetric flowrate of water into unit\n",
      "        Size=1, Index=fs.time\n",
      "        Key : Lower : Value                 : Upper : Fixed : Stale : Domain\n",
      "        0.0 : 1e-08 : 0.0008330278111111078 : 100.0 : False : False : NonNegativeReals\n",
      "    conc_mass_in : Mass concentration of species at inlet\n",
      "        Size=23, Index=fs.municipal_drinking.conc_mass_in_index\n",
      "        Key                                  : Lower : Value                  : Upper : Fixed : Stale : Domain\n",
      "                            (0.0, 'arsenic') :     0 :   5.10289085586485e-07 :  None : False : False : NonNegativeReals\n",
      "                             (0.0, 'barium') :     0 : 4.5225620918645345e-05 :  None : False : False : NonNegativeReals\n",
      "                                (0.0, 'bod') :     0 :      1666.312430104835 :  None : False : False : NonNegativeReals\n",
      "                              (0.0, 'boron') :     0 :  0.0004002267337933216 :  None : False : False : NonNegativeReals\n",
      "                            (0.0, 'calcium') :     0 :     0.0804956018341818 :  None : False : False : NonNegativeReals\n",
      "                           (0.0, 'chloride') :     0 :     0.2980888713292659 :  None : False : False : NonNegativeReals\n",
      "            (0.0, 'electrical_conductivity') :     0 :    0.17009636186216168 :  None : False : False : NonNegativeReals\n",
      "                           (0.0, 'fluoride') :     0 :  0.0009705498294488049 :  None : False : False : NonNegativeReals\n",
      "                           (0.0, 'hardness') :     0 :    0.31217685235879084 :  None : False : False : NonNegativeReals\n",
      "                               (0.0, 'iron') :     0 :  0.0003024213257225787 :  None : False : False : NonNegativeReals\n",
      "                          (0.0, 'magnesium') :     0 :    0.02702531019939404 :  None : False : False : NonNegativeReals\n",
      "                          (0.0, 'manganese') :     0 : 5.2629815493821784e-05 :  None : False : False : NonNegativeReals\n",
      "                            (0.0, 'nitrate') :     0 :     2921.0607763739845 :  None : False : False : NonNegativeReals\n",
      "                (0.0, 'nitrate_as_nitrogen') :     0 :   0.008644897449935747 :  None : False : False : NonNegativeReals\n",
      "                         (0.0, 'phosphates') :     0 :   0.000520294753931318 :  None : False : False : NonNegativeReals\n",
      "                          (0.0, 'potassium') :     0 :   0.018980752850148278 :  None : False : False : NonNegativeReals\n",
      "                           (0.0, 'selenium') :     0 : 1.0606008445523023e-06 :  None : False : False : NonNegativeReals\n",
      "                             (0.0, 'sodium') :     0 :    0.23171126752964352 :  None : False : False : NonNegativeReals\n",
      "                            (0.0, 'sulfate') :     0 :    0.18835670659148201 :  None : False : False : NonNegativeReals\n",
      "                                (0.0, 'tds') :     0 :     0.9861086437250203 :  None : False : False : NonNegativeReals\n",
      "                                (0.0, 'toc') :     0 :   0.004605523155965519 :  None : False : False : NonNegativeReals\n",
      "        (0.0, 'total_coliforms_fecal_ecoli') :     0 :      98.17986079384345 :  None : False : False : NonNegativeReals\n",
      "                                (0.0, 'tss') :     0 :   0.005439929423191328 :  None : False : False : NonNegativeReals\n",
      "    temperature_in : Temperature at inlet\n",
      "        Size=1, Index=fs.time\n",
      "        Key : Lower : Value : Upper : Fixed : Stale : Domain\n",
      "        0.0 :  None : 300.0 :  None : False : False :  Reals\n",
      "    pressure_in : Pressure at inlet\n",
      "        Size=1, Index=fs.time\n",
      "        Key : Lower : Value : Upper : Fixed : Stale : Domain\n",
      "        0.0 :  None :   1.0 :  None : False : False :  Reals\n",
      "    flow_vol_out : Volumetric flowrate of water out of unit\n",
      "        Size=1, Index=fs.time\n",
      "        Key : Lower : Value                 : Upper : Fixed : Stale : Domain\n",
      "        0.0 :     0 : 0.0008329445083299968 :  None : False : False : NonNegativeReals\n",
      "    conc_mass_out : Mass concentration of species at outlet\n",
      "        Size=23, Index=fs.municipal_drinking.conc_mass_out_index\n",
      "        Key                                  : Lower : Value                  : Upper : Fixed : Stale : Domain\n",
      "                            (0.0, 'arsenic') :     0 :  5.103401195984448e-07 :  None : False : False : NonNegativeReals\n",
      "                             (0.0, 'barium') :     0 :  4.523014393303864e-05 :  None : False : False : NonNegativeReals\n",
      "                                (0.0, 'bod') :     0 :     1666.4790780126361 :  None : False : False : NonNegativeReals\n",
      "                              (0.0, 'boron') :     0 : 0.00040026676046936855 :  None : False : False : NonNegativeReals\n",
      "                            (0.0, 'calcium') :     0 :    0.08050365219940174 :  None : False : False : NonNegativeReals\n",
      "                           (0.0, 'chloride') :     0 :    0.29811868319758567 :  None : False : False : NonNegativeReals\n",
      "            (0.0, 'electrical_conductivity') :     0 :    0.17011337319948164 :  None : False : False : NonNegativeReals\n",
      "                           (0.0, 'fluoride') :     0 :  0.0009706468941382187 :  None : False : False : NonNegativeReals\n",
      "                           (0.0, 'hardness') :     0 :    0.31220807316610744 :  None : False : False : NonNegativeReals\n",
      "                               (0.0, 'iron') :     0 : 0.00030245157087966664 :  None : False : False : NonNegativeReals\n",
      "                          (0.0, 'magnesium') :     0 :   0.027028013000694108 :  None : False : False : NonNegativeReals\n",
      "                          (0.0, 'manganese') :     0 :  5.263507900172195e-05 :  None : False : False : NonNegativeReals\n",
      "                            (0.0, 'nitrate') :     0 :     2921.3529116651507 :  None : False : False : NonNegativeReals\n",
      "                (0.0, 'nitrate_as_nitrogen') :     0 :    0.00864576202613836 :  None : False : False : NonNegativeReals\n",
      "                         (0.0, 'phosphates') :     0 :   0.000520346788610179 :  None : False : False : NonNegativeReals\n",
      "                          (0.0, 'potassium') :     0 :   0.018982651115259805 :  None : False : False : NonNegativeReals\n",
      "                           (0.0, 'selenium') :     0 : 1.0607069152438265e-06 :  None : False : False : NonNegativeReals\n",
      "                             (0.0, 'sodium') :     0 :    0.23173444097374088 :  None : False : False : NonNegativeReals\n",
      "                            (0.0, 'sulfate') :     0 :    0.18837554414589658 :  None : False : False : NonNegativeReals\n",
      "                                (0.0, 'tds') :     0 :     0.9862072644514653 :  None : False : False : NonNegativeReals\n",
      "                                (0.0, 'toc') :     0 :   0.004605983754340953 :  None : False : False : NonNegativeReals\n",
      "        (0.0, 'total_coliforms_fecal_ecoli') :     0 :      98.18967976181962 :  None : False : False : NonNegativeReals\n",
      "                                (0.0, 'tss') :     0 :   0.005440473470538381 :  None : False : False : NonNegativeReals\n",
      "    temperature_out : Temperature at outlet\n",
      "        Size=1, Index=fs.time\n",
      "        Key : Lower : Value : Upper : Fixed : Stale : Domain\n",
      "        0.0 :  None : 300.0 :  None : False : False :  Reals\n",
      "    pressure_out : Pressure at outlet\n",
      "        Size=1, Index=fs.time\n",
      "        Key : Lower : Value : Upper : Fixed : Stale : Domain\n",
      "        0.0 :  None :   1.0 :  None : False : False :  Reals\n",
      "    flow_vol_waste : Volumetric flowrate of water in waste\n",
      "        Size=1, Index=fs.time\n",
      "        Key : Lower : Value                 : Upper : Fixed : Stale : Domain\n",
      "        0.0 :     0 : 8.330278111108788e-08 :  None : False : False : NonNegativeReals\n",
      "    conc_mass_waste : Mass concentration of species in waste\n",
      "        Size=23, Index=fs.municipal_drinking.conc_mass_waste_index\n",
      "        Key                                  : Lower : Value                  : Upper : Fixed : Stale : Domain\n",
      "                            (0.0, 'arsenic') :     0 :                    0.0 :  None : False : False : NonNegativeReals\n",
      "                             (0.0, 'barium') :     0 : 3.0496964682426354e-24 :  None : False : False : NonNegativeReals\n",
      "                                (0.0, 'bod') :     0 :                    0.0 :  None : False : False : NonNegativeReals\n",
      "                              (0.0, 'boron') :     0 :                    0.0 :  None : False : False : NonNegativeReals\n",
      "                            (0.0, 'calcium') :     0 :                    0.0 :  None : False : False : NonNegativeReals\n",
      "                           (0.0, 'chloride') :     0 :                    0.0 :  None : False : False : NonNegativeReals\n",
      "            (0.0, 'electrical_conductivity') :     0 :                    0.0 :  None : False : False : NonNegativeReals\n",
      "                           (0.0, 'fluoride') :     0 :                    0.0 :  None : False : False : NonNegativeReals\n",
      "                           (0.0, 'hardness') :     0 :                    0.0 :  None : False : False : NonNegativeReals\n",
      "                               (0.0, 'iron') :     0 :                    0.0 :  None : False : False : NonNegativeReals\n",
      "                          (0.0, 'magnesium') :     0 :                    0.0 :  None : False : False : NonNegativeReals\n",
      "                          (0.0, 'manganese') :     0 :                    0.0 :  None : False : False : NonNegativeReals\n",
      "                            (0.0, 'nitrate') :     0 : 3.0106440492875176e-23 :  None : False : False : NonNegativeReals\n",
      "                (0.0, 'nitrate_as_nitrogen') :     0 :                    0.0 :  None : False : False : NonNegativeReals\n",
      "                         (0.0, 'phosphates') :     0 :                    0.0 :  None : False : False : NonNegativeReals\n",
      "                          (0.0, 'potassium') :     0 :                    0.0 :  None : False : False : NonNegativeReals\n",
      "                           (0.0, 'selenium') :     0 :                    0.0 :  None : False : False : NonNegativeReals\n",
      "                             (0.0, 'sodium') :     0 :                    0.0 :  None : False : False : NonNegativeReals\n",
      "                            (0.0, 'sulfate') :     0 :                    0.0 :  None : False : False : NonNegativeReals\n",
      "                                (0.0, 'tds') :     0 :                    0.0 :  None : False : False : NonNegativeReals\n",
      "                                (0.0, 'toc') :     0 :                    0.0 :  None : False : False : NonNegativeReals\n",
      "        (0.0, 'total_coliforms_fecal_ecoli') :     0 :                    0.0 :  None : False : False : NonNegativeReals\n",
      "                                (0.0, 'tss') :     0 :                    0.0 :  None : False : False : NonNegativeReals\n",
      "    temperature_waste : Temperature of waste\n",
      "        Size=1, Index=fs.time\n",
      "        Key : Lower : Value : Upper : Fixed : Stale : Domain\n",
      "        0.0 :  None : 300.0 :  None : False : False :  Reals\n",
      "    pressure_waste : Pressure of waste\n",
      "        Size=1, Index=fs.time\n",
      "        Key : Lower : Value : Upper : Fixed : Stale : Domain\n",
      "        0.0 :  None :   1.0 :  None : False : False :  Reals\n",
      "    water_recovery : Water recovery fraction\n",
      "        Size=1, Index=fs.time\n",
      "        Key : Lower : Value  : Upper     : Fixed : Stale : Domain\n",
      "        0.0 : 1e-06 : 0.9999 : 1.0000001 :  True :  True : NonNegativeReals\n",
      "    removal_fraction : Component removal fraction\n",
      "        Size=23, Index=fs.municipal_drinking.removal_fraction_index\n",
      "        Key                                  : Lower : Value : Upper : Fixed : Stale : Domain\n",
      "                            (0.0, 'arsenic') :     0 :     0 :  None :  True :  True : NonNegativeReals\n",
      "                             (0.0, 'barium') :     0 :     0 :  None :  True :  True : NonNegativeReals\n",
      "                                (0.0, 'bod') :     0 :     0 :  None :  True :  True : NonNegativeReals\n",
      "                              (0.0, 'boron') :     0 :     0 :  None :  True :  True : NonNegativeReals\n",
      "                            (0.0, 'calcium') :     0 :     0 :  None :  True :  True : NonNegativeReals\n",
      "                           (0.0, 'chloride') :     0 :     0 :  None :  True :  True : NonNegativeReals\n",
      "            (0.0, 'electrical_conductivity') :     0 :     0 :  None :  True :  True : NonNegativeReals\n",
      "                           (0.0, 'fluoride') :     0 :     0 :  None :  True :  True : NonNegativeReals\n",
      "                           (0.0, 'hardness') :     0 :     0 :  None :  True :  True : NonNegativeReals\n",
      "                               (0.0, 'iron') :     0 :     0 :  None :  True :  True : NonNegativeReals\n",
      "                          (0.0, 'magnesium') :     0 :     0 :  None :  True :  True : NonNegativeReals\n",
      "                          (0.0, 'manganese') :     0 :     0 :  None :  True :  True : NonNegativeReals\n",
      "                            (0.0, 'nitrate') :     0 :     0 :  None :  True :  True : NonNegativeReals\n",
      "                (0.0, 'nitrate_as_nitrogen') :     0 :     0 :  None :  True :  True : NonNegativeReals\n",
      "                         (0.0, 'phosphates') :     0 :     0 :  None :  True :  True : NonNegativeReals\n",
      "                          (0.0, 'potassium') :     0 :     0 :  None :  True :  True : NonNegativeReals\n",
      "                           (0.0, 'selenium') :     0 :     0 :  None :  True :  True : NonNegativeReals\n",
      "                             (0.0, 'sodium') :     0 :     0 :  None :  True :  True : NonNegativeReals\n",
      "                            (0.0, 'sulfate') :     0 :     0 :  None :  True :  True : NonNegativeReals\n",
      "                                (0.0, 'tds') :     0 :     0 :  None :  True :  True : NonNegativeReals\n",
      "                                (0.0, 'toc') :     0 :     0 :  None :  True :  True : NonNegativeReals\n",
      "        (0.0, 'total_coliforms_fecal_ecoli') :     0 :     0 :  None :  True :  True : NonNegativeReals\n",
      "                                (0.0, 'tss') :     0 :     0 :  None :  True :  True : NonNegativeReals\n",
      "\n",
      "  Objectives:\n",
      "    None\n",
      "\n",
      "  Constraints:\n",
      "    recovery_equation : Size=1\n",
      "        Key : Lower : Body : Upper\n",
      "        0.0 :   0.0 :  0.0 :   0.0\n",
      "    flow_balance : Size=1\n",
      "        Key : Lower : Body : Upper\n",
      "        0.0 :   0.0 :  0.0 :   0.0\n",
      "    component_removal_equation : Size=23\n",
      "        Key                                  : Lower : Body                    : Upper\n",
      "                            (0.0, 'arsenic') :   0.0 :                     0.0 :   0.0\n",
      "                             (0.0, 'barium') :   0.0 : -2.5404819734927406e-31 :   0.0\n",
      "                                (0.0, 'bod') :   0.0 :                     0.0 :   0.0\n",
      "                              (0.0, 'boron') :   0.0 :                     0.0 :   0.0\n",
      "                            (0.0, 'calcium') :   0.0 :                     0.0 :   0.0\n",
      "                           (0.0, 'chloride') :   0.0 :                     0.0 :   0.0\n",
      "            (0.0, 'electrical_conductivity') :   0.0 :                     0.0 :   0.0\n",
      "                           (0.0, 'fluoride') :   0.0 :                     0.0 :   0.0\n",
      "                           (0.0, 'hardness') :   0.0 :                     0.0 :   0.0\n",
      "                               (0.0, 'iron') :   0.0 :                     0.0 :   0.0\n",
      "                          (0.0, 'magnesium') :   0.0 :                     0.0 :   0.0\n",
      "                          (0.0, 'manganese') :   0.0 :                     0.0 :   0.0\n",
      "                            (0.0, 'nitrate') :   0.0 : -2.5079502224119734e-30 :   0.0\n",
      "                (0.0, 'nitrate_as_nitrogen') :   0.0 :                     0.0 :   0.0\n",
      "                         (0.0, 'phosphates') :   0.0 :                     0.0 :   0.0\n",
      "                          (0.0, 'potassium') :   0.0 :                     0.0 :   0.0\n",
      "                           (0.0, 'selenium') :   0.0 :                     0.0 :   0.0\n",
      "                             (0.0, 'sodium') :   0.0 :                     0.0 :   0.0\n",
      "                            (0.0, 'sulfate') :   0.0 :                     0.0 :   0.0\n",
      "                                (0.0, 'tds') :   0.0 :                     0.0 :   0.0\n",
      "                                (0.0, 'toc') :   0.0 :                     0.0 :   0.0\n",
      "        (0.0, 'total_coliforms_fecal_ecoli') :   0.0 :                     0.0 :   0.0\n",
      "                                (0.0, 'tss') :   0.0 :                     0.0 :   0.0\n",
      "    component_mass_balance : Size=23\n",
      "        Key                                  : Lower : Body                   : Upper\n",
      "                            (0.0, 'arsenic') :   0.0 : -5.169878828456423e-26 :   0.0\n",
      "                             (0.0, 'barium') :   0.0 :  6.617444900424222e-24 :   0.0\n",
      "                                (0.0, 'bod') :   0.0 :                    0.0 :   0.0\n",
      "                              (0.0, 'boron') :   0.0 : -5.293955920339377e-23 :   0.0\n",
      "                            (0.0, 'calcium') :   0.0 :                    0.0 :   0.0\n",
      "                           (0.0, 'chloride') :   0.0 :                    0.0 :   0.0\n",
      "            (0.0, 'electrical_conductivity') :   0.0 : -2.710505431213761e-20 :   0.0\n",
      "                           (0.0, 'fluoride') :   0.0 :                    0.0 :   0.0\n",
      "                           (0.0, 'hardness') :   0.0 :                    0.0 :   0.0\n",
      "                               (0.0, 'iron') :   0.0 :                    0.0 :   0.0\n",
      "                          (0.0, 'magnesium') :   0.0 :                    0.0 :   0.0\n",
      "                          (0.0, 'manganese') :   0.0 :                    0.0 :   0.0\n",
      "                            (0.0, 'nitrate') :   0.0 :                    0.0 :   0.0\n",
      "                (0.0, 'nitrate_as_nitrogen') :   0.0 :                    0.0 :   0.0\n",
      "                         (0.0, 'phosphates') :   0.0 :  5.293955920339377e-23 :   0.0\n",
      "                          (0.0, 'potassium') :   0.0 :                    0.0 :   0.0\n",
      "                           (0.0, 'selenium') :   0.0 :                    0.0 :   0.0\n",
      "                             (0.0, 'sodium') :   0.0 :                    0.0 :   0.0\n",
      "                            (0.0, 'sulfate') :   0.0 :                    0.0 :   0.0\n",
      "                                (0.0, 'tds') :   0.0 :                    0.0 :   0.0\n",
      "                                (0.0, 'toc') :   0.0 :                    0.0 :   0.0\n",
      "        (0.0, 'total_coliforms_fecal_ecoli') :   0.0 :                    0.0 :   0.0\n",
      "                                (0.0, 'tss') :   0.0 :                    0.0 :   0.0\n",
      "    outlet_temperature_constraint : Size=1\n",
      "        Key : Lower : Body : Upper\n",
      "        0.0 :   0.0 :  0.0 :   0.0\n",
      "    waste_temperature_constraint : Size=1\n",
      "        Key : Lower : Body : Upper\n",
      "        0.0 :   0.0 :  0.0 :   0.0\n",
      "    outlet_pressure_constraint : Size=1\n",
      "        Key : Lower : Body : Upper\n",
      "        0.0 :   0.0 :  0.0 :   0.0\n",
      "    waste_pressure_constraint : Size=1\n",
      "        Key : Lower : Body : Upper\n",
      "        0.0 :   0.0 :  0.0 :   0.0\n",
      "\n",
      "  Blocks:\n",
      "    Block fs.municipal_drinking.costing\n",
      "    \n",
      "      Variables:\n",
      "        None\n",
      "    \n",
      "      Objectives:\n",
      "        None\n",
      "    \n",
      "      Constraints:\n",
      "        None\n"
     ]
    }
   ],
   "source": [
    "m.fs.municipal_drinking.display()"
   ]
  },
  {
   "cell_type": "code",
   "execution_count": null,
   "metadata": {},
   "outputs": [],
   "source": []
  },
  {
   "cell_type": "code",
   "execution_count": null,
   "metadata": {},
   "outputs": [],
   "source": []
  },
  {
   "cell_type": "code",
   "execution_count": null,
   "metadata": {},
   "outputs": [],
   "source": [
    "fs.holding_tank\n",
    "total_cap_investment: 0.013298652226166024\n",
    "----------------------------------------------------------------------\n",
    "fs.microfiltration\n",
    "total_cap_investment: 4.883752574618745\n",
    "----------------------------------------------------------------------\n",
    "fs.ro_deep\n",
    "total_cap_investment: 9.36889628979993\n",
    "----------------------------------------------------------------------\n",
    "fs.uv_aop\n",
    "total_cap_investment: 5.031154293129427\n",
    "----------------------------------------------------------------------\n",
    "fs.treated_storage\n",
    "total_cap_investment: 0.013200538095572246\n",
    "----------------------------------------------------------------------\n",
    "fs.municipal_drinking\n",
    "total_cap_investment: 0.22799158670818181\n",
    "----------------------------------------------------------------------\n",
    "fs.surface_discharge\n",
    "total_cap_investment: 0.3614624226338229\n",
    "----------------------------------------------------------------------\n",
    "0.8624001553052597"
   ]
  },
  {
   "cell_type": "code",
   "execution_count": 8,
   "metadata": {},
   "outputs": [
    {
     "ename": "NameError",
     "evalue": "name 'results' is not defined",
     "output_type": "error",
     "traceback": [
      "\u001b[0;31m---------------------------------------------------------------------------\u001b[0m",
      "\u001b[0;31mNameError\u001b[0m                                 Traceback (most recent call last)",
      "\u001b[0;32m<ipython-input-8-0197e5aee38f>\u001b[0m in \u001b[0;36m<module>\u001b[0;34m\u001b[0m\n\u001b[0;32m----> 1\u001b[0;31m \u001b[0mresults\u001b[0m\u001b[0;34m.\u001b[0m\u001b[0msolver\u001b[0m\u001b[0;34m.\u001b[0m\u001b[0mtermination_condition\u001b[0m\u001b[0;34m\u001b[0m\u001b[0;34m\u001b[0m\u001b[0m\n\u001b[0m",
      "\u001b[0;31mNameError\u001b[0m: name 'results' is not defined"
     ]
    }
   ],
   "source": [
    "results.solver.termination_condition"
   ]
  },
  {
   "cell_type": "code",
   "execution_count": null,
   "metadata": {},
   "outputs": [],
   "source": []
  },
  {
   "cell_type": "code",
   "execution_count": null,
   "metadata": {},
   "outputs": [],
   "source": []
  },
  {
   "cell_type": "code",
   "execution_count": null,
   "metadata": {},
   "outputs": [],
   "source": []
  },
  {
   "cell_type": "code",
   "execution_count": null,
   "metadata": {},
   "outputs": [],
   "source": []
  },
  {
   "cell_type": "code",
   "execution_count": null,
   "metadata": {},
   "outputs": [],
   "source": []
  },
  {
   "cell_type": "code",
   "execution_count": null,
   "metadata": {},
   "outputs": [],
   "source": []
  },
  {
   "cell_type": "code",
   "execution_count": null,
   "metadata": {},
   "outputs": [],
   "source": []
  },
  {
   "cell_type": "code",
   "execution_count": 7,
   "metadata": {},
   "outputs": [],
   "source": [
    "import pyomo.util.infeasible as infeas"
   ]
  },
  {
   "cell_type": "code",
   "execution_count": 8,
   "metadata": {},
   "outputs": [],
   "source": [
    "infeas.log_infeasible_bounds(m)"
   ]
  },
  {
   "cell_type": "code",
   "execution_count": 9,
   "metadata": {},
   "outputs": [
    {
     "name": "stdout",
     "output_type": "stream",
     "text": [
      "INFO: fs.holding_tank.flow_vol_in[0.0] near LB of 1e-08\n",
      "INFO: fs.holding_tank.conc_mass_in[0.0,arsenic] near LB of 0\n",
      "INFO: fs.holding_tank.flow_vol_out[0.0] near LB of 0\n",
      "INFO: fs.holding_tank.flow_vol_waste[0.0] near LB of 0\n",
      "INFO: fs.microfiltration.flow_vol_in[0.0] near LB of 1e-08\n",
      "INFO: fs.microfiltration.flow_vol_out[0.0] near LB of 0\n",
      "INFO: fs.microfiltration.conc_mass_out[0.0,tds] near LB of 0\n",
      "INFO: fs.microfiltration.flow_vol_waste[0.0] near LB of 0\n",
      "INFO: fs.reverse_osmosis.flow_vol_in[0.0] near LB of 1e-08\n",
      "INFO: fs.reverse_osmosis.conc_mass_in[0.0,tds] near LB of 0\n",
      "INFO: fs.reverse_osmosis.flow_vol_out[0.0] near LB of 0\n",
      "INFO: fs.reverse_osmosis.flow_vol_waste[0.0] near LB of 0\n",
      "INFO: fs.reverse_osmosis.conc_mass_waste[0.0,tds] near LB of 0\n",
      "INFO: fs.reverse_osmosis.permeate.mass_flow_h20[0.0] near LB of 0\n",
      "INFO: fs.reverse_osmosis.permeate.mass_flow_tds[0.0] near LB of 0\n",
      "INFO: fs.reverse_osmosis.feed.mass_flow_h20[0.0] near LB of 0\n",
      "INFO: fs.reverse_osmosis.feed.mass_flow_tds[0.0] near LB of 0\n",
      "INFO: fs.reverse_osmosis.feed.water_flux[0.0] near LB of 0.0001\n",
      "INFO: fs.reverse_osmosis.retenate.mass_flow_h20[0.0] near LB of 0\n",
      "INFO: fs.reverse_osmosis.retenate.mass_flow_tds[0.0] near LB of 0\n",
      "INFO: fs.reverse_osmosis.retenate.pressure_osm[0.0] near LB of 0\n",
      "INFO: fs.reverse_osmosis.retenate.water_flux[0.0] near LB of 0.0001\n",
      "INFO: fs.uv_aop.flow_vol_in[0.0] near LB of 1e-08\n",
      "INFO: fs.uv_aop.flow_vol_out[0.0] near LB of 0\n",
      "INFO: fs.uv_aop.flow_vol_waste[0.0] near LB of 0\n",
      "INFO: fs.treated_storage.flow_vol_in[0.0] near LB of 1e-08\n",
      "INFO: fs.treated_storage.flow_vol_out[0.0] near LB of 0\n",
      "INFO: fs.treated_storage.flow_vol_waste[0.0] near LB of 0\n",
      "INFO: fs.municipal_drinking.flow_vol_in[0.0] near LB of 1e-08\n",
      "INFO: fs.municipal_drinking.flow_vol_out[0.0] near LB of 0\n",
      "INFO: fs.municipal_drinking.flow_vol_waste[0.0] near LB of 0\n",
      "INFO: fs.surface_discharge.flow_vol_in[0.0] near LB of 1e-08\n",
      "INFO: fs.surface_discharge.flow_vol_out[0.0] near LB of 0\n",
      "INFO: fs.surface_discharge.flow_vol_waste[0.0] near LB of 0\n",
      "INFO: fs.Big_Spring_Feed.conc_mass_out[0.0,arsenic] near LB of 0\n",
      "INFO: fs.splitter1.flow_vol_outlet1[0.0] near LB of 1e-09\n",
      "INFO: fs.splitter1.flow_vol_outlet2[0.0] near LB of 1e-09\n",
      "INFO: fs.splitter1.flow_vol_in[0.0] near LB of 1e-09\n"
     ]
    }
   ],
   "source": [
    "infeas.log_close_to_bounds(m)"
   ]
  },
  {
   "cell_type": "code",
   "execution_count": 11,
   "metadata": {},
   "outputs": [
    {
     "ename": "AttributeError",
     "evalue": "'_ScalarFlowsheetBlock' object has no attribute 'coag_and_floc'",
     "output_type": "error",
     "traceback": [
      "\u001b[0;31m---------------------------------------------------------------------------\u001b[0m",
      "\u001b[0;31mAttributeError\u001b[0m                            Traceback (most recent call last)",
      "\u001b[0;32m<ipython-input-11-9b3825820ac9>\u001b[0m in \u001b[0;36m<module>\u001b[0;34m\u001b[0m\n\u001b[0;32m----> 1\u001b[0;31m \u001b[0mm\u001b[0m\u001b[0;34m.\u001b[0m\u001b[0mfs\u001b[0m\u001b[0;34m.\u001b[0m\u001b[0mcoag_and_floc\u001b[0m\u001b[0;34m.\u001b[0m\u001b[0mcosting\u001b[0m\u001b[0;34m.\u001b[0m\u001b[0mtotal_cap_investment\u001b[0m\u001b[0;34m(\u001b[0m\u001b[0;34m)\u001b[0m\u001b[0;34m/\u001b[0m\u001b[0;36m3.4\u001b[0m\u001b[0;34m\u001b[0m\u001b[0;34m\u001b[0m\u001b[0m\n\u001b[0m",
      "\u001b[0;32m~/miniconda3/envs/tap-idaes3/lib/python3.7/site-packages/pyomo/core/base/block.py\u001b[0m in \u001b[0;36m__getattr__\u001b[0;34m(self, val)\u001b[0m\n\u001b[1;32m    522\u001b[0m         \u001b[0;31m# throw the \"normal\" AttributeError\u001b[0m\u001b[0;34m\u001b[0m\u001b[0;34m\u001b[0m\u001b[0;34m\u001b[0m\u001b[0m\n\u001b[1;32m    523\u001b[0m         raise AttributeError(\"'%s' object has no attribute '%s'\"\n\u001b[0;32m--> 524\u001b[0;31m                              % (self.__class__.__name__, val))\n\u001b[0m\u001b[1;32m    525\u001b[0m \u001b[0;34m\u001b[0m\u001b[0m\n\u001b[1;32m    526\u001b[0m     \u001b[0;32mdef\u001b[0m \u001b[0m__setattr__\u001b[0m\u001b[0;34m(\u001b[0m\u001b[0mself\u001b[0m\u001b[0;34m,\u001b[0m \u001b[0mname\u001b[0m\u001b[0;34m,\u001b[0m \u001b[0mval\u001b[0m\u001b[0;34m)\u001b[0m\u001b[0;34m:\u001b[0m\u001b[0;34m\u001b[0m\u001b[0;34m\u001b[0m\u001b[0m\n",
      "\u001b[0;31mAttributeError\u001b[0m: '_ScalarFlowsheetBlock' object has no attribute 'coag_and_floc'"
     ]
    }
   ],
   "source": [
    "m.fs.coag_and_floc.costing.total_cap_investment()/3.4"
   ]
  },
  {
   "cell_type": "code",
   "execution_count": null,
   "metadata": {},
   "outputs": [],
   "source": []
  },
  {
   "cell_type": "code",
   "execution_count": 12,
   "metadata": {},
   "outputs": [
    {
     "data": {
      "text/plain": [
       "{'holding_tank': {'Unit': 'holding_tank',\n",
       "  'Type': 'intake',\n",
       "  'ToUnitName': 'microfiltration',\n",
       "  'FromPort': 'outlet',\n",
       "  'Parameter': {'source_type': ['Big_Spring_Feed'],\n",
       "   'avg_storage_time': 0.25,\n",
       "   'surge_cap': 0},\n",
       "  'Unnamed: 9': nan,\n",
       "  'Unnamed: 10': nan,\n",
       "  'Unnamed: 11': nan,\n",
       "  'Unnamed: 12': nan,\n",
       "  'Unnamed: 13': nan},\n",
       " 'microfiltration': {'Unit': 'basic_unit',\n",
       "  'Type': 'treatment',\n",
       "  'ToUnitName': ['reverse_osmosis', 'uv_aop'],\n",
       "  'FromPort': ['outlet', 'outlet'],\n",
       "  'Parameter': {'unit_process_name': 'microfiltration',\n",
       "   'split_fraction': [0.4, 0.6]},\n",
       "  'Unnamed: 9': nan,\n",
       "  'Unnamed: 10': nan,\n",
       "  'Unnamed: 11': nan,\n",
       "  'Unnamed: 12': nan,\n",
       "  'Unnamed: 13': nan},\n",
       " 'reverse_osmosis': {'Unit': 'reverse_osmosis',\n",
       "  'Type': 'treatment',\n",
       "  'ToUnitName': 'uv_aop',\n",
       "  'FromPort': 'outlet',\n",
       "  'Parameter': {'pass': 'first', 'membrane_area': 50000, 'feed_pressure': 65},\n",
       "  'Unnamed: 9': nan,\n",
       "  'Unnamed: 10': nan,\n",
       "  'Unnamed: 11': nan,\n",
       "  'Unnamed: 12': nan,\n",
       "  'Unnamed: 13': nan},\n",
       " 'uv_aop': {'Unit': 'uv_aop',\n",
       "  'Type': 'treatment',\n",
       "  'ToUnitName': 'treated_storage',\n",
       "  'FromPort': 'outlet',\n",
       "  'Parameter': {'chemical_name': ['Hydrogen_Peroxide'],\n",
       "   'dose': 5,\n",
       "   'uv_dose': 100,\n",
       "   'aop': True},\n",
       "  'Unnamed: 9': nan,\n",
       "  'Unnamed: 10': nan,\n",
       "  'Unnamed: 11': nan,\n",
       "  'Unnamed: 12': nan,\n",
       "  'Unnamed: 13': nan},\n",
       " 'treated_storage': {'Unit': 'holding_tank',\n",
       "  'Type': 'treatment',\n",
       "  'ToUnitName': 'municipal_drinking',\n",
       "  'FromPort': 'outlet',\n",
       "  'Parameter': {'avg_storage_time': 0.25, 'surge_cap': 1e-07},\n",
       "  'Unnamed: 9': nan,\n",
       "  'Unnamed: 10': nan,\n",
       "  'Unnamed: 11': nan,\n",
       "  'Unnamed: 12': nan,\n",
       "  'Unnamed: 13': nan},\n",
       " 'municipal_drinking': {'Unit': 'municipal_drinking',\n",
       "  'Type': 'use',\n",
       "  'ToUnitName': nan,\n",
       "  'FromPort': nan,\n",
       "  'Parameter': nan,\n",
       "  'Unnamed: 9': nan,\n",
       "  'Unnamed: 10': nan,\n",
       "  'Unnamed: 11': nan,\n",
       "  'Unnamed: 12': nan,\n",
       "  'Unnamed: 13': nan},\n",
       " 'surface_discharge': {'Unit': 'surface_discharge',\n",
       "  'Type': 'waste',\n",
       "  'ToUnitName': nan,\n",
       "  'FromPort': nan,\n",
       "  'Parameter': nan,\n",
       "  'Unnamed: 9': nan,\n",
       "  'Unnamed: 10': nan,\n",
       "  'Unnamed: 11': nan,\n",
       "  'Unnamed: 12': nan,\n",
       "  'Unnamed: 13': nan}}"
      ]
     },
     "execution_count": 12,
     "metadata": {},
     "output_type": "execute_result"
    }
   ],
   "source": [
    "m.fs.pfd_dict"
   ]
  },
  {
   "cell_type": "code",
   "execution_count": null,
   "metadata": {},
   "outputs": [],
   "source": []
  },
  {
   "cell_type": "code",
   "execution_count": null,
   "metadata": {},
   "outputs": [],
   "source": []
  },
  {
   "cell_type": "code",
   "execution_count": null,
   "metadata": {},
   "outputs": [],
   "source": []
  },
  {
   "cell_type": "code",
   "execution_count": null,
   "metadata": {},
   "outputs": [],
   "source": []
  },
  {
   "cell_type": "code",
   "execution_count": 10,
   "metadata": {},
   "outputs": [],
   "source": [
    "def it_gets_results(appended, print_it=False, write_it=True):    \n",
    "    train = wt.case_study_trains.train\n",
    "\n",
    "    py_var = [\n",
    "        \"fixed_cap_inv\",\n",
    "        \"total_cap_investment\",\n",
    "        \"cat_and_chem_cost\",\n",
    "        \"electricity_cost\",\n",
    "        \"total_fixed_op_cost\",\n",
    "    \"flow_in\", \"flow_out\"]\n",
    "\n",
    "    excel_var = ['Fixed Capital Investment (FCI)',\n",
    "                'Total Capital Investment (TCI)',\n",
    "                'Catalysts and Chemicals',\n",
    "                'Electricity',\n",
    "                'Total Fixed Operating Costs']\n",
    "\n",
    "    case_study = train['case_study']\n",
    "    if print_it:\n",
    "        print(f'\\n######### Case study = {case_study} #########\\n\\n\\n')\n",
    "\n",
    "    cap_inv_tot = []\n",
    "\n",
    "    big_dict = {}\n",
    "\n",
    "    for b_unit in m.fs.component_objects(Block, descend_into=True):\n",
    "        unit = str(b_unit)[3:]\n",
    "        if hasattr(b_unit, 'costing'):\n",
    "            if print_it:\n",
    "                print(f'____________{unit}____________')\n",
    "            py_vals =  []\n",
    "            excel_vals = []\n",
    "            big_dict[unit] = {'python': {}, 'excel': {}}\n",
    "            df = pd.read_csv(\"data/case_study_results.csv\")\n",
    "            df = df[df.case_study == train['case_study']]\n",
    "            df = df[df.scenario == train['scenario']]\n",
    "            df = df[df.unit_process == unit]\n",
    "            flow_in_excel = round(df[df.variable == \"flow_vol_in\"].value.sum(), 5)\n",
    "            flow_out_excel = round(df[df.variable == 'flow_vol_out'].value.sum(), 5)\n",
    "            flow_in_python = round(value(b_unit.inlet.flow_vol[0.0] * 3600), 5)\n",
    "            flow_out_python = round(value(b_unit.outlet.flow_vol[0.0] * 3600), 5)\n",
    "            waste_python = round(value(b_unit.waste.flow_vol[0.0] * 3600), 5)\n",
    "            if print_it:\n",
    "                print(f'\\n#### flow_in\\nPython --> {flow_in_python}')\n",
    "                print(f'Excel --> {flow_in_excel}\\n\\n')\n",
    "                print(f'#### flow out\\nPython --> {flow_out_python}')\n",
    "                print(f'Excel --> {flow_out_excel}\\n\\n')\n",
    "                print(f'#### waste\\nPython--> {waste_python}\\n')\n",
    "            for py, ex in dict(zip(py_var, excel_var)).items():\n",
    "                if print_it:\n",
    "                    print(f'\\n#### {py}')\n",
    "                try:\n",
    "                    num = value(getattr(b_unit.costing, py))\n",
    "                    py_vals.append(num)\n",
    "                    if print_it:\n",
    "                        print(f'Python --> {round(num, 5)}')\n",
    "                except ZeroDivisionError:\n",
    "                    if print_it:\n",
    "                        print(f'Python --> {0} - ERROR')\n",
    "                    py_vals.append(0)\n",
    "\n",
    "                df = pd.read_csv(\"data/case_study_results.csv\")\n",
    "                df = df[df.case_study == train['case_study']]\n",
    "                df = df[df.scenario == train['scenario']]\n",
    "                df = df[df.unit_process == unit]\n",
    "                num = df[df.Variable == ex].value.sum()\n",
    "                if print_it:\n",
    "                    print(f'Excel --> {round(num, 5)}\\n\\n')\n",
    "                excel_vals.append(num)\n",
    "            py_vals.append(flow_in_python)\n",
    "            py_vals.append(flow_out_python)\n",
    "            py_dict = dict(zip(py_var, py_vals))\n",
    "            excel_vals.append(flow_in_excel)\n",
    "            excel_vals.append(flow_out_excel)\n",
    "            excel_dict = dict(zip(py_var, excel_vals))\n",
    "            big_dict[unit]['python'] = py_dict\n",
    "            big_dict[unit]['excel'] = excel_dict\n",
    "\n",
    "    else:\n",
    "        pass \n",
    "\n",
    "    df = pd.DataFrame.from_dict({(i,j): big_dict[i][j] \n",
    "                               for i in big_dict.keys() \n",
    "                               for j in big_dict[i].keys()},\n",
    "                               orient='index')\n",
    "\n",
    "    df['case_study'] = case_study\n",
    "    df['LCOW'] = value(m.fs.costing.LCOW)\n",
    "    if write_it:\n",
    "        df.to_csv(f'results/test_compare_{case_study}_{appended}.csv')"
   ]
  },
  {
   "cell_type": "code",
   "execution_count": null,
   "metadata": {},
   "outputs": [],
   "source": []
  },
  {
   "cell_type": "code",
   "execution_count": null,
   "metadata": {},
   "outputs": [],
   "source": []
  },
  {
   "cell_type": "code",
   "execution_count": null,
   "metadata": {},
   "outputs": [],
   "source": []
  },
  {
   "cell_type": "code",
   "execution_count": null,
   "metadata": {},
   "outputs": [],
   "source": [
    "# wt.run_water_tap(m=m, solver_results=True, print_model_results=True)\n",
    "# it_gets_results('testy1')\n",
    "# wt.run_water_tap(m=m, solver_results=True, print_model_results=False)\n",
    "# it_gets_results('testy2')"
   ]
  },
  {
   "cell_type": "code",
   "execution_count": 6,
   "metadata": {},
   "outputs": [],
   "source": [
    "def do_it_all(append1, append2, solver_results=True, model_results=False):\n",
    "    case_studies = ['Ashkelon', 'Big_Spring', 'Carlsbad', 'EMWD', 'HRSD', 'Irwin', 'KBHDP', 'OCWD', 'Santa_Barbara', 'Solaire', 'Tampa_Bay']\n",
    "    water_sources = ['Seawater', 'Big_Spring_Feed', 'Seawater', 'EMWD_CA_Brackish', 'HRSD_Municipal', 'Brackish', 'KBHDP_Brackish_Ave', 'OCWD_Feed', 'Seawater', 'Solaire_Graywater', 'Seawater']\n",
    "    wt_dict = dict(zip(case_studies, water_sources))\n",
    "    for k, v in wt_dict.items():\n",
    "        \n",
    "        m = wt.watertap_setup(dynamic = False)\n",
    "        \n",
    "        wt.case_study_trains.train = {\"case_study\": k,\n",
    "                                 \"reference\": \"NAWI\",\n",
    "                                 \"scenario\": \"Baseline\"}\n",
    "        \n",
    "        wt.case_study_trains.source_water = {\"case_study\": k, \n",
    "                                 \"reference\": \"NAWI\",\n",
    "                                 \"scenario\": \"Baseline\",\n",
    "                                 \"water_type\": v}\n",
    "        \n",
    "        wt.run_water_tap(m=m, solver_results=solver_results, print_model_results=model_results)\n",
    "        \n",
    "        it_gets_results(append1)\n",
    "        \n",
    "        wt.run_water_tap(m=m, solver_results=solver_results, print_model_results=model_results)\n",
    "        \n",
    "        it_gets_results(append2)\n",
    "# value(m.fs.costing.LCOW)"
   ]
  },
  {
   "cell_type": "code",
   "execution_count": null,
   "metadata": {},
   "outputs": [],
   "source": [
    "# wt.run_water_tap(m=m, solver_results=True, print_model_results=False)"
   ]
  },
  {
   "cell_type": "code",
   "execution_count": null,
   "metadata": {},
   "outputs": [],
   "source": [
    "# df.to_csv(f'results/test_compare_{case_study}.csv')\n",
    "wt.run_water_tap(m=m, solver_results=True, print_model_results=False)\n",
    "\n",
    "train = wt.case_study_trains.train\n",
    "\n",
    "py_var = [\n",
    "    \"fixed_cap_inv\",\n",
    "    \"total_cap_investment\",\n",
    "    \"cat_and_chem_cost\",\n",
    "    \"electricity_cost\",\n",
    "    \"total_fixed_op_cost\",\n",
    "\"flow_in\", \"flow_out\"]\n",
    "\n",
    "excel_var = ['Fixed Capital Investment (FCI)',\n",
    "            'Total Capital Investment (TCI)',\n",
    "            'Catalysts and Chemicals',\n",
    "            'Electricity',\n",
    "            'Total Fixed Operating Costs']\n",
    "\n",
    "case_study = train['case_study']\n",
    "print(f'\\n######### Case study = {case_study} #########\\n\\n\\n')\n",
    "\n",
    "cap_inv_tot = []\n",
    "\n",
    "big_dict = {}\n",
    "\n",
    "for b_unit in m.fs.component_objects(Block, descend_into=True):\n",
    "    unit = str(b_unit)[3:]\n",
    "    if hasattr(b_unit, 'costing'):\n",
    "        print(f'____________{unit}____________')\n",
    "        py_vals =  []\n",
    "        excel_vals = []\n",
    "        big_dict[unit] = {'python': {}, 'excel': {}}\n",
    "        df = pd.read_csv(\"data/case_study_results.csv\")\n",
    "        df = df[df.case_study == train['case_study']]\n",
    "        df = df[df.scenario == train['scenario']]\n",
    "        df = df[df.unit_process == unit]\n",
    "        flow_in_excel = round(df[df.variable == \"flow_vol_in\"].value.sum(), 5)\n",
    "        flow_out_excel = round(df[df.variable == 'flow_vol_out'].value.sum(), 5)\n",
    "        flow_in_python = round(value(b_unit.inlet.flow_vol[0.0] * 3600), 5)\n",
    "        flow_out_python = round(value(b_unit.outlet.flow_vol[0.0] * 3600), 5)\n",
    "        waste_python = round(value(b_unit.waste.flow_vol[0.0] * 3600), 5)\n",
    "        print(f'\\n#### flow_in\\nPython --> {flow_in_python}')\n",
    "        print(f'Excel --> {flow_in_excel}\\n\\n')\n",
    "        print(f'#### flow out\\nPython --> {flow_out_python}')\n",
    "        print(f'Excel --> {flow_out_excel}\\n\\n')\n",
    "        print(f'#### waste\\nPython--> {waste_python}\\n')\n",
    "        for py, ex in dict(zip(py_var, excel_var)).items():\n",
    "            print(f'\\n#### {py}')\n",
    "            try:\n",
    "                num = value(getattr(b_unit.costing, py))\n",
    "                py_vals.append(num)\n",
    "                print(f'Python --> {round(num, 5)}')\n",
    "            except ZeroDivisionError:\n",
    "                print(f'Python --> {0} - ERROR')\n",
    "                py_vals.append(0)\n",
    "            \n",
    "            df = pd.read_csv(\"data/case_study_results.csv\")\n",
    "            df = df[df.case_study == train['case_study']]\n",
    "            df = df[df.scenario == train['scenario']]\n",
    "            df = df[df.unit_process == unit]\n",
    "            num = df[df.Variable == ex].value.sum()\n",
    "            print(f'Excel --> {round(num, 5)}\\n\\n')\n",
    "            excel_vals.append(num)\n",
    "        py_vals.append(flow_in_python)\n",
    "        py_vals.append(flow_out_python)\n",
    "        py_dict = dict(zip(py_var, py_vals))\n",
    "        excel_vals.append(flow_in_excel)\n",
    "        excel_vals.append(flow_out_excel)\n",
    "        excel_dict = dict(zip(py_var, excel_vals))\n",
    "        big_dict[unit]['python'] = py_dict\n",
    "        big_dict[unit]['excel'] = excel_dict\n",
    "        \n",
    "else:\n",
    "    pass \n",
    "\n",
    "df = pd.DataFrame.from_dict({(i,j): big_dict[i][j] \n",
    "                           for i in big_dict.keys() \n",
    "                           for j in big_dict[i].keys()},\n",
    "                           orient='index')\n",
    "\n",
    "df['case_study'] = case_study\n",
    "df['LCOW'] = value(m.fs.costing.LCOW)\n",
    "df.to_csv(f'results/test_compare_{case_study}_new2.csv')"
   ]
  },
  {
   "cell_type": "code",
   "execution_count": null,
   "metadata": {},
   "outputs": [],
   "source": [
    "# value(m.fs.costing.LCOW)"
   ]
  },
  {
   "cell_type": "code",
   "execution_count": null,
   "metadata": {},
   "outputs": [],
   "source": [
    "value(m.fs.coag_and_floc.water_recovery[0])"
   ]
  },
  {
   "cell_type": "code",
   "execution_count": null,
   "metadata": {},
   "outputs": [],
   "source": [
    "df.to_csv(f'results/test_compare_{case_study}_new1.csv')"
   ]
  },
  {
   "cell_type": "code",
   "execution_count": null,
   "metadata": {
    "scrolled": true
   },
   "outputs": [],
   "source": [
    "# df_final = pd.DataFrame()\n",
    "# for case_name in [\"Ashkelon\", \"Carlsbad\", \"Tampa_Bay\"]: #, \"Santa_Barbra\"]: #, \"Ashkelon\"]:\n",
    "\n",
    "#     m = wt.watertap_setup(dynamic = False)\n",
    "\n",
    "#     wt.case_study_trains.train = {\"case_study\": case_name,\n",
    "#                                  \"reference\": \"NAWI\",\n",
    "#                                  \"scenario\": \"Baseline\"}\n",
    "\n",
    "#     # TODO LATER: how to make this sync with info in train input data. We might not need to do that.\n",
    "#     #But, if the source water type is different to what is in the train (pfd dictionary), \n",
    "#     #then we should updat the node name. If more than two sources - what to do? Needs to be\n",
    "#     #based on pfd node!?\n",
    "\n",
    "#     wt.case_study_trains.source_water = {\"case_study\": case_name, \n",
    "#                                  \"reference\": \"NAWI\",\n",
    "#                                  \"scenario\": \"Baseline\",\n",
    "#                                  \"water_type\": \"Seawater\"}\n",
    "    \n",
    "#     m = wt.case_study_trains.get_case_study(m = m) # flow is set as case study flow unless defined.\n",
    "    \n",
    "      \n",
    "#     wt.run_water_tap(m = m, solver_results = False, print_model_results = False)\n",
    "#     print(value(m.fs.costing.LCOW))\n",
    "#     df = get_results_table()\n",
    "#     df[\"case_study\"] = case_name\n",
    "#     df_final = pd.concat([df_final,df])\n",
    "    "
   ]
  },
  {
   "cell_type": "code",
   "execution_count": null,
   "metadata": {},
   "outputs": [],
   "source": [
    "def get_results_table():\n",
    "\n",
    "    train = wt.case_study_trains.train\n",
    "\n",
    "    py_var = [\n",
    "        \"fixed_cap_inv\",\n",
    "        \"total_cap_investment\",\n",
    "        \"cat_and_chem_cost\",\n",
    "        \"electricity_cost\",\n",
    "        \"total_fixed_op_cost\"]\n",
    "\n",
    "    excel_var = ['Fixed Capital Investment (FCI)',\n",
    "                'Total Capital Investment (TCI)',\n",
    "                'Catalysts and Chemicals',\n",
    "                'Electricity',\n",
    "                'Total Fixed Operating Costs']\n",
    "    big_dict = {}\n",
    "    # for letter in ['A', 'B', 'C']:\n",
    "    for b_unit in m.fs.component_objects(Block, descend_into=True):\n",
    "        unit = str(b_unit)[3:]\n",
    "        if hasattr(b_unit, 'costing'):\n",
    "            #print(f'____________{unit}____________')\n",
    "            py_vals =  []\n",
    "            excel_vals = []\n",
    "            big_dict[unit] = {'python': {}, 'excel': {}}\n",
    "            for py, ex in dict(zip(py_var, excel_var)).items():\n",
    "                #print(f'\\n#### {py}')\n",
    "                try:\n",
    "                    num = value(getattr(b_unit.costing, py))\n",
    "                    py_vals.append(num)\n",
    "                    #print(f'Python --> {num}')\n",
    "                except ZeroDivisionError:\n",
    "                    #print(f'Python --> {0} - ERROR')\n",
    "                    py_vals.append(0)\n",
    "                py_dict = dict(zip(py_var, py_vals))\n",
    "                df = pd.read_csv(\"data/case_study_results.csv\")\n",
    "                df = df[df.case_study == train['case_study']]\n",
    "                df = df[df.scenario == train['scenario']]\n",
    "                df = df[df.unit_process == unit]\n",
    "                num = df[df.Variable == ex].value.max()\n",
    "                #print(f'Excel --> {num}\\n\\n')\n",
    "                excel_vals.append(num)\n",
    "                excel_dict = dict(zip(py_var, excel_vals))\n",
    "            big_dict[unit]['python'] = py_dict\n",
    "            big_dict[unit]['excel'] = excel_dict\n",
    "    else:\n",
    "        pass \n",
    "\n",
    "\n",
    "\n",
    "    df = pd.DataFrame.from_dict({(i,j): big_dict[i][j] \n",
    "                               for i in big_dict.keys() \n",
    "                               for j in big_dict[i].keys()},\n",
    "                           orient='index')\n",
    "    \n",
    "    return df"
   ]
  },
  {
   "cell_type": "code",
   "execution_count": null,
   "metadata": {},
   "outputs": [],
   "source": [
    "get_results_table()"
   ]
  },
  {
   "cell_type": "code",
   "execution_count": null,
   "metadata": {},
   "outputs": [],
   "source": [
    "train = case_study_trains.train \n",
    "source_water = case_study_trains.source_water \n",
    "source_or_use = None\n",
    "# getting the list of consituents with removal factors that are bigger than 0\n",
    "df1 = pd.read_csv(\"data/constituent_removal.csv\")\n",
    "df1 = df1[df1.reference == train[\"reference\"]]\n",
    "df1 = df1[df1.case_study == train[\"case_study\"]]\n",
    "df1 = df1[df1.scenario == train[\"scenario\"]]\n",
    "\n",
    "list1 = df1[df1.value >=0].constituent.unique()\n",
    "\n",
    "import importfile\n",
    "\n",
    "# grabs inlet water information\n",
    "# df = importfile.feedwater(\n",
    "#     input_file=\"data/case_study_water_sources.csv\",\n",
    "#     reference = source_water[\"reference\"], \n",
    "#     water_type = source_water[\"water_type\"], \n",
    "#     case_study = source_water[\"case_study\"],\n",
    "#     scenario = source_water[\"scenario\"])\n",
    "\n",
    "df2 = pd.read_csv('data/case_study_water_sources.csv', index_col='variable')\n",
    "df2 = df2[df2.reference == source_water['reference']]\n",
    "df2 = df2[df2.water_type == source_water['water_type']]\n",
    "df2 = df2[df2.case_study == source_water['case_study']]\n",
    "# df = df[df.source_or_use == source_water['source_or_use']]\n",
    "df2 = df2[df2.scenario == source_water['scenario']]\n",
    "df2 = df2.set_index(df2.index)\n",
    "df2['feedwater'] = df2.value\n",
    "df2['SourceNodeName'] = 'source_node'\n",
    "# gets list of consituents in inlet water\n",
    "list2 = df2.index\n",
    "\n",
    "# # combines list\n",
    "final_list = [x for x in list1 if x in list2]\n",
    "print(f'list1 = {list1}')\n",
    "print(f'list2 = {list2}')\n",
    "print(f'final_list = {final_list}')\n",
    "\n"
   ]
  },
  {
   "cell_type": "code",
   "execution_count": null,
   "metadata": {},
   "outputs": [],
   "source": [
    "df1"
   ]
  },
  {
   "cell_type": "code",
   "execution_count": null,
   "metadata": {},
   "outputs": [],
   "source": [
    "df2"
   ]
  },
  {
   "cell_type": "code",
   "execution_count": null,
   "metadata": {},
   "outputs": [],
   "source": [
    "import case_study_trains\n",
    "unit_process = 'ro_deep'\n",
    "train = case_study_trains.train \n",
    "source_water = case_study_trains.source_water \n",
    "\n",
    "df = pd.read_csv(\"data/constituent_removal.csv\")\n",
    "df.case_study = np.where(df.case_study == \"Default\", train[\"case_study\"], df.case_study)\n",
    "df = df[df.reference == train[\"reference\"]]\n",
    "df = df[df.case_study == train[\"case_study\"]]\n",
    "df = df[df.scenario == train[\"scenario\"]]\n",
    "df = df[df.unit_process == unit_process]\n",
    "\n",
    "removal_dict = {}\n",
    "for constituent in df.constituent.unique():\n",
    "    removal_dict[constituent] = df[df.constituent == constituent].value.max()"
   ]
  },
  {
   "cell_type": "code",
   "execution_count": null,
   "metadata": {},
   "outputs": [],
   "source": [
    "df"
   ]
  },
  {
   "cell_type": "code",
   "execution_count": null,
   "metadata": {},
   "outputs": [],
   "source": [
    "removal_dict"
   ]
  },
  {
   "cell_type": "code",
   "execution_count": null,
   "metadata": {},
   "outputs": [],
   "source": [
    "import generate_constituent_list\n",
    "df = pd.read_csv(\"data/water_recovery.csv\")\n",
    "case_study_name = case_study_trains.train[\"case_study\"]\n",
    "unit_process_type = 'microfiltration'\n",
    "unit_process_name = unit_process_type\n",
    "if unit_process_type == \"reverse_osmosis\": unit_process_type = \"ro_deep\"\n",
    "\n",
    "if case_study_name in df[df.unit_process == unit_process_type].case_study:\n",
    "    if \"calculated\" not in df[((df.unit_process == unit_process_type) & (df.case_study == case_study_name))].recovery.max():\n",
    "        flow_recovery_factor = float(df[((df.unit_process == unit_process_type) & (df.case_study == case_study_name))].recovery)\n",
    "        print(f'A = {flow_recovery_factor}\\n')\n",
    "        getattr(m.fs, unit_process_name).water_recovery.fix(flow_recovery_factor)\n",
    "else:\n",
    "    if \"calculated\" not in df[((df.unit_process == unit_process_type) & (df.case_study == \"Default\"))].recovery.max():\n",
    "        flow_recovery_factor = float(df[((df.unit_process == unit_process_type) & (df.case_study == \"Default\"))].recovery)\n",
    "        print(f'B = {flow_recovery_factor}\\n')\n",
    "        getattr(m.fs, unit_process_name).water_recovery.fix(flow_recovery_factor)\n",
    "\n",
    "# Get constituent list and removal rates for this unit process\n",
    "train_constituent_removal_factors = generate_constituent_list.get_removal_factors(unit_process_type)\n",
    "\n",
    "for constituent_name in getattr(m.fs, unit_process_name).config.property_package.component_list:\n",
    "    print(constituent_name)\n",
    "\n",
    "    if constituent_name in train_constituent_removal_factors.keys():\n",
    "        getattr(m.fs, unit_process_name).removal_fraction[:, constituent_name].fix(train_constituent_removal_factors[constituent_name])\n",
    "    else:\n",
    "        getattr(m.fs, unit_process_name).removal_fraction[:, constituent_name].fix(0)"
   ]
  },
  {
   "cell_type": "code",
   "execution_count": null,
   "metadata": {},
   "outputs": [],
   "source": [
    "value(m.fs.microfiltration.water_recovery[0])"
   ]
  },
  {
   "cell_type": "code",
   "execution_count": null,
   "metadata": {},
   "outputs": [],
   "source": [
    "train_constituent_removal_factors"
   ]
  },
  {
   "cell_type": "code",
   "execution_count": null,
   "metadata": {},
   "outputs": [],
   "source": [
    "m.fs.microfiltration.display()"
   ]
  },
  {
   "cell_type": "code",
   "execution_count": null,
   "metadata": {},
   "outputs": [],
   "source": [
    "df[df.unit_process == unit_process_type]"
   ]
  },
  {
   "cell_type": "code",
   "execution_count": null,
   "metadata": {},
   "outputs": [],
   "source": [
    "df"
   ]
  },
  {
   "cell_type": "code",
   "execution_count": null,
   "metadata": {},
   "outputs": [],
   "source": []
  },
  {
   "cell_type": "code",
   "execution_count": null,
   "metadata": {},
   "outputs": [],
   "source": []
  },
  {
   "cell_type": "code",
   "execution_count": null,
   "metadata": {},
   "outputs": [],
   "source": []
  },
  {
   "cell_type": "code",
   "execution_count": null,
   "metadata": {},
   "outputs": [],
   "source": []
  },
  {
   "cell_type": "code",
   "execution_count": null,
   "metadata": {},
   "outputs": [],
   "source": []
  },
  {
   "cell_type": "code",
   "execution_count": null,
   "metadata": {},
   "outputs": [],
   "source": []
  },
  {
   "cell_type": "code",
   "execution_count": null,
   "metadata": {},
   "outputs": [],
   "source": []
  },
  {
   "cell_type": "code",
   "execution_count": null,
   "metadata": {},
   "outputs": [],
   "source": []
  },
  {
   "cell_type": "code",
   "execution_count": null,
   "metadata": {},
   "outputs": [],
   "source": []
  },
  {
   "cell_type": "code",
   "execution_count": null,
   "metadata": {},
   "outputs": [],
   "source": []
  },
  {
   "cell_type": "code",
   "execution_count": null,
   "metadata": {},
   "outputs": [],
   "source": []
  },
  {
   "cell_type": "code",
   "execution_count": null,
   "metadata": {},
   "outputs": [],
   "source": []
  },
  {
   "cell_type": "code",
   "execution_count": null,
   "metadata": {},
   "outputs": [],
   "source": []
  },
  {
   "cell_type": "code",
   "execution_count": null,
   "metadata": {},
   "outputs": [],
   "source": []
  },
  {
   "cell_type": "code",
   "execution_count": null,
   "metadata": {},
   "outputs": [],
   "source": []
  },
  {
   "cell_type": "code",
   "execution_count": null,
   "metadata": {},
   "outputs": [],
   "source": []
  },
  {
   "cell_type": "code",
   "execution_count": null,
   "metadata": {},
   "outputs": [],
   "source": []
  },
  {
   "cell_type": "code",
   "execution_count": null,
   "metadata": {},
   "outputs": [],
   "source": []
  },
  {
   "cell_type": "code",
   "execution_count": null,
   "metadata": {},
   "outputs": [],
   "source": []
  },
  {
   "cell_type": "code",
   "execution_count": null,
   "metadata": {},
   "outputs": [],
   "source": []
  },
  {
   "cell_type": "code",
   "execution_count": null,
   "metadata": {},
   "outputs": [],
   "source": []
  },
  {
   "cell_type": "code",
   "execution_count": null,
   "metadata": {},
   "outputs": [],
   "source": []
  },
  {
   "cell_type": "code",
   "execution_count": null,
   "metadata": {},
   "outputs": [],
   "source": []
  },
  {
   "cell_type": "code",
   "execution_count": null,
   "metadata": {},
   "outputs": [],
   "source": []
  },
  {
   "cell_type": "code",
   "execution_count": null,
   "metadata": {},
   "outputs": [],
   "source": []
  },
  {
   "cell_type": "code",
   "execution_count": null,
   "metadata": {},
   "outputs": [],
   "source": []
  },
  {
   "cell_type": "code",
   "execution_count": null,
   "metadata": {},
   "outputs": [],
   "source": []
  },
  {
   "cell_type": "code",
   "execution_count": null,
   "metadata": {},
   "outputs": [],
   "source": []
  },
  {
   "cell_type": "code",
   "execution_count": null,
   "metadata": {
    "scrolled": true
   },
   "outputs": [],
   "source": [
    "cost_range_list = []; #results will be inputted in this array\n",
    "#up_name = \"tri_media_filtration\" # which unit process it applies to. TODO hould be user input.\n",
    "\n",
    "#for value_change in pct_to_target1: # cycles through each value from MC range\n",
    "for value_change in [0.4, 0.8]: #, 0.9]:\n",
    "\n",
    "    # create and build model\n",
    "    m = wt.watertap_setup(dynamic = False)\n",
    "    m = wt.case_study_trains.get_case_study(name = 'carlsbad', flow = 4.5833, m = m)\n",
    "\n",
    "    m.fs.tri_media_filtration.water_recovery.fix(value_change)\n",
    "\n",
    "    # set variable to MC value\n",
    "    wt.run_water_tap(m)\n",
    "    results_table = get_results_table(m, unit_process_name)\n",
    "    cost_range_list.append(results_table.total_up_cost.sum())\n"
   ]
  },
  {
   "cell_type": "code",
   "execution_count": null,
   "metadata": {},
   "outputs": [],
   "source": [
    "cost_range_list"
   ]
  },
  {
   "cell_type": "code",
   "execution_count": null,
   "metadata": {},
   "outputs": [],
   "source": []
  },
  {
   "cell_type": "code",
   "execution_count": null,
   "metadata": {},
   "outputs": [],
   "source": []
  },
  {
   "cell_type": "code",
   "execution_count": null,
   "metadata": {},
   "outputs": [],
   "source": []
  },
  {
   "cell_type": "code",
   "execution_count": null,
   "metadata": {},
   "outputs": [],
   "source": []
  },
  {
   "cell_type": "code",
   "execution_count": null,
   "metadata": {},
   "outputs": [],
   "source": []
  },
  {
   "cell_type": "code",
   "execution_count": null,
   "metadata": {},
   "outputs": [],
   "source": []
  },
  {
   "cell_type": "code",
   "execution_count": null,
   "metadata": {},
   "outputs": [],
   "source": []
  },
  {
   "cell_type": "code",
   "execution_count": null,
   "metadata": {},
   "outputs": [],
   "source": [
    "#### DO NOT USE THE BELOW ####"
   ]
  },
  {
   "cell_type": "code",
   "execution_count": null,
   "metadata": {},
   "outputs": [],
   "source": [
    "import time\n",
    "from multiprocessing import Pool\n",
    "import multiprocessing\n",
    "\n",
    "mu = 0.6\n",
    "sigma = .1\n",
    "num_reps = 50\n",
    "\n",
    "input_list = np.random.normal(mu,sigma, size = num_reps) #, sigma, num_reps).round(4)\n",
    "\n",
    "count, bins, ignored = plt.hist(input_list, 25, density=True)\n",
    "plt.plot(bins, 1/(sigma * np.sqrt(2 * np.pi)) * np.exp( - (bins - mu)**2 / (2 * sigma**2) ),\n",
    "          linewidth=2, color='r')\n",
    "plt.show()\n",
    "\n",
    "### INPUT TO MODEL LIST: ### CAN BE AUTOMATED FOR USER TO LABEL THE VARIABLE. TOOD ###\n",
    "no_of_proc = 4\n",
    "list_final = []\n",
    "for i in range(no_of_proc):\n",
    "    part2 = len(input_list) / no_of_proc\n",
    "    i2 = ((i+1)*part2)\n",
    "    list1 = input_list[int(i*part2):int(i2)]\n",
    "    list_final.append(list1)\n",
    "    \n",
    "    \n",
    "def monte_run(list_final):\n",
    "    print('goes in')\n",
    "\n",
    "    up_name = \"tri_media_filtration\" # which unit process it applies to. TODO hould be user input.\n",
    "    cost_range_list = []; #results will be inputted in this array\n",
    "\n",
    "    #for value_change in pct_to_target1: # cycles through each value from MC range\n",
    "    for value_change in list_final:\n",
    "\n",
    "        # create and build model\n",
    "        m = wt.watertap_setup(dynamic = False)\n",
    "        m = wt.case_study_trains.get_case_study(name = 'carlsbad', flow = 4.5833, m = m)\n",
    "\n",
    "        getattr(m.fs, up_name).water_recovery.fix(value_change)\n",
    "\n",
    "        # set variable to MC value\n",
    "        result = wt.run_water_tap(m)\n",
    "        results_table = get_results_table(m, unit_process_names)\n",
    "        cost_range_list.append(results_table.total_up_cost.sum())\n",
    "\n",
    "\n",
    "    return cost_range_list\n",
    "\n",
    "startTime = time.time()\n",
    "\n",
    "pool=Pool()\n",
    "dfs = pool.map(monte_run, list_final) #SomeClass().preprocess_data()\n",
    "\n",
    "executionTime = (time.time() - startTime)\n",
    "print('Execution time in seconds: ' + str(executionTime))"
   ]
  },
  {
   "cell_type": "code",
   "execution_count": null,
   "metadata": {},
   "outputs": [],
   "source": []
  },
  {
   "cell_type": "code",
   "execution_count": null,
   "metadata": {},
   "outputs": [],
   "source": []
  },
  {
   "cell_type": "code",
   "execution_count": null,
   "metadata": {},
   "outputs": [],
   "source": []
  },
  {
   "cell_type": "code",
   "execution_count": null,
   "metadata": {},
   "outputs": [],
   "source": []
  },
  {
   "cell_type": "code",
   "execution_count": null,
   "metadata": {},
   "outputs": [],
   "source": [
    "####TO DO LOAD AND SAVE!!"
   ]
  },
  {
   "cell_type": "code",
   "execution_count": null,
   "metadata": {},
   "outputs": [],
   "source": [
    "#### SAVE TRAIN ####\n",
    "# path = 'trains/Tutorial1_treatment_train_example.csv'\n",
    "# wt.save_train(T, path)"
   ]
  },
  {
   "cell_type": "code",
   "execution_count": null,
   "metadata": {},
   "outputs": [],
   "source": [
    "# #### LOAD TRAIN ####\n",
    "# path = 'trains/Tutorial1_treatment_train_example.csv'\n",
    "# TT = wt.load_train(path)"
   ]
  },
  {
   "cell_type": "code",
   "execution_count": null,
   "metadata": {},
   "outputs": [],
   "source": [
    "# wt.display.show_train(TT)"
   ]
  },
  {
   "cell_type": "code",
   "execution_count": null,
   "metadata": {},
   "outputs": [],
   "source": []
  },
  {
   "cell_type": "code",
   "execution_count": null,
   "metadata": {},
   "outputs": [],
   "source": []
  },
  {
   "cell_type": "code",
   "execution_count": null,
   "metadata": {},
   "outputs": [],
   "source": []
  },
  {
   "cell_type": "code",
   "execution_count": null,
   "metadata": {},
   "outputs": [],
   "source": []
  }
 ],
 "metadata": {
  "celltoolbar": "Raw Cell Format",
  "kernelspec": {
   "display_name": "Python 3",
   "language": "python",
   "name": "python3"
  },
  "language_info": {
   "codemirror_mode": {
    "name": "ipython",
    "version": 3
   },
   "file_extension": ".py",
   "mimetype": "text/x-python",
   "name": "python",
   "nbconvert_exporter": "python",
   "pygments_lexer": "ipython3",
   "version": "3.7.4"
  }
 },
 "nbformat": 4,
 "nbformat_minor": 4
}
