{
 "cells": [
  {
   "cell_type": "code",
   "execution_count": 1,
   "metadata": {},
   "outputs": [],
   "source": [
    "import watertap as wt"
   ]
  },
  {
   "cell_type": "code",
   "execution_count": 2,
   "metadata": {},
   "outputs": [],
   "source": [
    "from case_study_trains import *\n",
    "import case_study_trains"
   ]
  },
  {
   "cell_type": "code",
   "execution_count": 3,
   "metadata": {},
   "outputs": [],
   "source": [
    "m = wt.watertap_setup(dynamic = False)"
   ]
  },
  {
   "cell_type": "code",
   "execution_count": 4,
   "metadata": {},
   "outputs": [],
   "source": [
    "wt.case_study_trains.train = {\"case_study\": \"Carlsbad\",\n",
    "                             \"reference\": \"NAWI\",\n",
    "                             \"scenario\": \"Baseline\"}"
   ]
  },
  {
   "cell_type": "code",
   "execution_count": 5,
   "metadata": {},
   "outputs": [],
   "source": [
    "# TODO LATER: how to make this sync with info in train input data. We might not need to do that.\n",
    "#But, if the source water type is different to what is in the train (pfd dictionary), \n",
    "#then we should updat the node name. If more than two sources - what to do? Needs to be\n",
    "#based on pfd node!?\n",
    "\n",
    "wt.case_study_trains.source_water = {\"case_study\": \"Carlsbad\", \n",
    "                             \"reference\": \"NAWI\",\n",
    "                             \"scenario\": \"Baseline\",\n",
    "                             \"water_type\": \"Seawater\"}"
   ]
  },
  {
   "cell_type": "code",
   "execution_count": 6,
   "metadata": {
    "scrolled": true
   },
   "outputs": [
    {
     "name": "stdout",
     "output_type": "stream",
     "text": [
      "Carlsbad\n"
     ]
    }
   ],
   "source": [
    "m = wt.case_study_trains.get_case_study(m = m) # flow is set as case study flow unless defined."
   ]
  },
  {
   "cell_type": "code",
   "execution_count": null,
   "metadata": {},
   "outputs": [],
   "source": []
  },
  {
   "cell_type": "code",
   "execution_count": 7,
   "metadata": {},
   "outputs": [
    {
     "data": {
      "text/html": [
       "\n",
       "        <iframe\n",
       "            width=\"100%\"\n",
       "            height=\"500px\"\n",
       "            src=\"tmp/example.html\"\n",
       "            frameborder=\"0\"\n",
       "            allowfullscreen\n",
       "        ></iframe>\n",
       "        "
      ],
      "text/plain": [
       "<IPython.lib.display.IFrame at 0x7fe31313ba10>"
      ]
     },
     "execution_count": 7,
     "metadata": {},
     "output_type": "execute_result"
    }
   ],
   "source": [
    "wt.display.show_train2(model_name=m)"
   ]
  },
  {
   "cell_type": "code",
   "execution_count": null,
   "metadata": {},
   "outputs": [],
   "source": []
  },
  {
   "cell_type": "code",
   "execution_count": 8,
   "metadata": {
    "scrolled": true
   },
   "outputs": [
    {
     "name": "stdout",
     "output_type": "stream",
     "text": [
      "degrees_of_freedom: 0\n",
      "Ipopt 3.12.13: \n",
      "\n",
      "******************************************************************************\n",
      "This program contains Ipopt, a library for large-scale nonlinear optimization.\n",
      " Ipopt is released as open source code under the Eclipse Public License (EPL).\n",
      "         For more information visit http://projects.coin-or.org/Ipopt\n",
      "******************************************************************************\n",
      "\n",
      "This is Ipopt version 3.12.13, running with linear solver mumps.\n",
      "NOTE: Other linear solvers might be more efficient (see Ipopt documentation).\n",
      "\n",
      "Number of nonzeros in equality constraint Jacobian...:     1028\n",
      "Number of nonzeros in inequality constraint Jacobian.:        0\n",
      "Number of nonzeros in Lagrangian Hessian.............:      253\n",
      "\n",
      "Total number of variables............................:      337\n",
      "                     variables with only lower bounds:       14\n",
      "                variables with lower and upper bounds:        1\n",
      "                     variables with only upper bounds:        0\n",
      "Total number of equality constraints.................:      337\n",
      "Total number of inequality constraints...............:        0\n",
      "        inequality constraints with only lower bounds:        0\n",
      "   inequality constraints with lower and upper bounds:        0\n",
      "        inequality constraints with only upper bounds:        0\n",
      "\n",
      "iter    objective    inf_pr   inf_du lg(mu)  ||d||  lg(rg) alpha_du alpha_pr  ls\n",
      "   0  0.0000000e+00 1.00e+05 1.00e+00  -1.0 0.00e+00    -  0.00e+00 0.00e+00   0\n",
      "   1  0.0000000e+00 5.98e+04 5.95e+00  -1.0 1.00e+05    -  9.56e-02 4.02e-01h  1\n",
      "   2  0.0000000e+00 1.33e+02 1.07e+02  -1.0 5.98e+04    -  1.00e-02 1.00e+00h  1\n",
      "   3  0.0000000e+00 4.21e+00 1.82e+01  -1.0 2.59e+01  -4.0 9.31e-01 1.00e+00h  1\n",
      "   4  0.0000000e+00 6.23e-06 1.30e-02  -1.0 1.75e+00    -  1.00e+00 1.00e+00h  1\n",
      "   5  0.0000000e+00 1.85e-09 4.29e-08  -2.5 1.81e-05  -4.5 1.00e+00 1.00e+00h  1\n",
      "\n",
      "Number of Iterations....: 5\n",
      "\n",
      "                                   (scaled)                 (unscaled)\n",
      "Objective...............:   0.0000000000000000e+00    0.0000000000000000e+00\n",
      "Dual infeasibility......:   0.0000000000000000e+00    0.0000000000000000e+00\n",
      "Constraint violation....:   1.8476935537137251e-09    1.8476935537137251e-09\n",
      "Complementarity.........:   0.0000000000000000e+00    0.0000000000000000e+00\n",
      "Overall NLP error.......:   1.8476935537137251e-09    1.8476935537137251e-09\n",
      "\n",
      "\n",
      "Number of objective function evaluations             = 6\n",
      "Number of objective gradient evaluations             = 6\n",
      "Number of equality constraint evaluations            = 6\n",
      "Number of inequality constraint evaluations          = 0\n",
      "Number of equality constraint Jacobian evaluations   = 6\n",
      "Number of inequality constraint Jacobian evaluations = 0\n",
      "Number of Lagrangian Hessian evaluations             = 5\n",
      "Total CPU secs in IPOPT (w/o function evaluations)   =      0.036\n",
      "Total CPU secs in NLP function evaluations           =      0.001\n",
      "\n",
      "EXIT: Optimal Solution Found.\n",
      "\b----------------------------------------------------------------------\n",
      "fs.sw_onshore_intake\n",
      "inlet : Size=1\n",
      "    Key  : Name        : Value\n",
      "    None :   conc_mass : {(0.0, 'bromide'): 0.0663000000124344, (0.0, 'calcium'): 0.4096000000768195, (0.0, 'chloride'): 19.162000003593786, (0.0, 'magnesium'): 1.2780000002396859, (0.0, 'potassium'): 0.3953000000741375, (0.0, 'sodium'): 10.679000002002821, (0.0, 'strontium'): 0.0013000000002438119, (0.0, 'sulfate'): 2.6800000005026274, (0.0, 'tds'): 35.00000000659035}\n",
      "         :    flow_vol : {0.0: 4.583299998471752}\n",
      "         :    pressure : {0.0: 199999.9999}\n",
      "         : temperature : {0.0: 300.0}\n",
      "outlet : Size=1\n",
      "    Key  : Name        : Value\n",
      "    None :   conc_mass : {(0.0, 'bromide'): 0.06630000002416155, (0.0, 'calcium'): 0.40960000014926956, (0.0, 'chloride'): 19.16200000698316, (0.0, 'magnesium'): 1.2780000004657384, (0.0, 'potassium'): 0.39530000014405825, (0.0, 'sodium'): 10.679000003891723, (0.0, 'strontium'): 0.001300000000473756, (0.0, 'sulfate'): 2.6800000009766665, (0.0, 'tds'): 35.000000012782344}\n",
      "         :    flow_vol : {0.0: 4.583299997661057}\n",
      "         :    pressure : {0.0: 199999.9998}\n",
      "         : temperature : {0.0: 300.0}\n",
      "waste : Size=1\n",
      "    Key  : Name        : Value\n",
      "    None :   conc_mass : {(0.0, 'bromide'): -1.4157862203823638e-10, (0.0, 'calcium'): -8.746434794409166e-10, (0.0, 'chloride'): -4.091753725153e-08, (0.0, 'magnesium'): -2.7289794018659073e-09, (0.0, 'potassium'): -8.441080076644609e-10, (0.0, 'sodium'): -2.2803382910291606e-08, (0.0, 'strontium'): -2.781023054332545e-12, (0.0, 'sulfate'): -5.722736844564845e-09, (0.0, 'tds'): 1.7072469766234584e-05}\n",
      "         :    flow_vol : {0.0: 8.107219377955171e-10}\n",
      "         :    pressure : {0.0: 199999.9998}\n",
      "         : temperature : {0.0: 300.0}\n",
      "total_cap_investment: 22.060791407870926\n",
      "----------------------------------------------------------------------\n",
      "----------------------------------------------------------------------\n",
      "fs.coag_and_floc\n",
      "inlet : Size=1\n",
      "    Key  : Name        : Value\n",
      "    None :   conc_mass : {(0.0, 'bromide'): 0.06630000002416155, (0.0, 'calcium'): 0.40960000014926956, (0.0, 'chloride'): 19.16200000698316, (0.0, 'magnesium'): 1.2780000004657384, (0.0, 'potassium'): 0.39530000014405825, (0.0, 'sodium'): 10.679000003891723, (0.0, 'strontium'): 0.001300000000473756, (0.0, 'sulfate'): 2.6800000009766665, (0.0, 'tds'): 35.00000001280734}\n",
      "         :    flow_vol : {0.0: 4.583299997090177}\n",
      "         :    pressure : {0.0: 199999.9998}\n",
      "         : temperature : {0.0: 300.0}\n",
      "outlet : Size=1\n",
      "    Key  : Name        : Value\n",
      "    None :   conc_mass : {(0.0, 'bromide'): 0.06630000003148677, (0.0, 'calcium'): 0.4096000001945247, (0.0, 'chloride'): 19.162000009100293, (0.0, 'magnesium'): 1.2780000006069396, (0.0, 'potassium'): 0.3953000001877333, (0.0, 'sodium'): 10.679000005071604, (0.0, 'strontium'): 0.0013000000006173878, (0.0, 'sulfate'): 2.6800000012727687, (0.0, 'tds'): 35.00000001667554}\n",
      "         :    flow_vol : {0.0: 4.583299996583786}\n",
      "         :    pressure : {0.0: 199999.9997}\n",
      "         : temperature : {0.0: 300.0}\n",
      "waste : Size=1\n",
      "    Key  : Name        : Value\n",
      "    None :   conc_mass : {(0.0, 'bromide'): -3.5813720337012865e-11, (0.0, 'calcium'): -2.212435211415386e-10, (0.0, 'chloride'): -1.0350150589614643e-08, (0.0, 'magnesium'): -6.903004364303594e-10, (0.0, 'potassium'): -2.1351953002151373e-10, (0.0, 'sodium'): -5.76814942379807e-09, (0.0, 'strontium'): -7.046697914429177e-13, (0.0, 'sulfate'): -1.447575649736339e-09, (0.0, 'tds'): 3.1525760183940725e-06}\n",
      "         :    flow_vol : {0.0: 2.9989596992190196e-10}\n",
      "         :    pressure : {0.0: 199999.9997}\n",
      "         : temperature : {0.0: 300.0}\n",
      "total_cap_investment: 12.371856159363666\n",
      "----------------------------------------------------------------------\n",
      "----------------------------------------------------------------------\n",
      "fs.ro_deep\n",
      "inlet : Size=1\n",
      "    Key  : Name        : Value\n",
      "    None :   conc_mass : {(0.0, 'bromide'): 0.06630000003148677, (0.0, 'calcium'): 0.4096000001945247, (0.0, 'chloride'): 19.162000009100293, (0.0, 'magnesium'): 1.2780000006069396, (0.0, 'potassium'): 0.3953000001877333, (0.0, 'sodium'): 10.679000005071604, (0.0, 'strontium'): 0.0013000000006173878, (0.0, 'sulfate'): 2.6800000012727687, (0.0, 'tds'): 35.00000001670054}\n",
      "         :    flow_vol : {0.0: 4.583299996110688}\n",
      "         :    pressure : {0.0: 199999.9997}\n",
      "         : temperature : {0.0: 300.0}\n",
      "outlet : Size=1\n",
      "    Key  : Name        : Value\n",
      "    None :   conc_mass : {(0.0, 'bromide'): 0.12593296147126337, (0.0, 'calcium'): 0.7780111767515759, (0.0, 'chloride'): 36.39709513894945, (0.0, 'magnesium'): 2.4274860446496924, (0.0, 'potassium'): 0.7508491654538524, (0.0, 'sodium'): 20.284134171216014, (0.0, 'strontium'): 0.0024692737543384976, (0.0, 'sulfate'): 5.090502816636287, (0.0, 'tds'): 66.48044723233954}\n",
      "         :    flow_vol : {0.0: 2.4129726350935736}\n",
      "         :    pressure : {0.0: 199999.99959999998}\n",
      "         : temperature : {0.0: 300.0}\n",
      "waste : Size=1\n",
      "    Key  : Name        : Value\n",
      "    None :   conc_mass : {(0.0, 'bromide'): 1.6458335578229304e-20, (0.0, 'calcium'): 1.016695195638262e-19, (0.0, 'chloride'): 4.756240467752302e-18, (0.0, 'magnesium'): 3.1721683145781794e-19, (0.0, 'potassium'): 9.81200877825531e-20, (0.0, 'sodium'): 2.6506579633244696e-18, (0.0, 'strontium'): 3.245547446598669e-22, (0.0, 'sulfate'): 6.652100734572914e-19, (0.0, 'tds'): 8.687437700704967e-18}\n",
      "         :    flow_vol : {0.0: 2.170327360810615}\n",
      "         :    pressure : {0.0: 199999.99959999998}\n",
      "         : temperature : {0.0: 300.0}\n",
      "total_cap_investment: 224.13109558371596\n",
      "----------------------------------------------------------------------\n",
      "----------------------------------------------------------------------\n",
      "fs.sulfuric_acid_addition\n",
      "inlet : Size=1\n",
      "    Key  : Name        : Value\n",
      "    None :   conc_mass : {(0.0, 'bromide'): 0.12593296147126337, (0.0, 'calcium'): 0.7780111767515759, (0.0, 'chloride'): 36.39709513894945, (0.0, 'magnesium'): 2.4274860446496924, (0.0, 'potassium'): 0.7508491654538524, (0.0, 'sodium'): 20.284134171216014, (0.0, 'strontium'): 0.0024692737543384976, (0.0, 'sulfate'): 5.090502816636287, (0.0, 'tds'): 66.48044723233954}\n",
      "         :    flow_vol : {0.0: 2.412972634536371}\n",
      "         :    pressure : {0.0: 199999.99959999998}\n",
      "         : temperature : {0.0: 300.0}\n",
      "outlet : Size=1\n",
      "    Key  : Name        : Value\n",
      "    None :   conc_mass : {(0.0, 'bromide'): 0.12593296148359953, (0.0, 'calcium'): 0.7780111768277884, (0.0, 'chloride'): 36.39709514251484, (0.0, 'magnesium'): 2.427486044887484, (0.0, 'potassium'): 0.7508491655274041, (0.0, 'sodium'): 20.28413417320301, (0.0, 'strontium'): 0.002469273754580383, (0.0, 'sulfate'): 5.090502817134944, (0.0, 'tds'): 66.48044723885185}\n",
      "         :    flow_vol : {0.0: 2.412972634300001}\n",
      "         :    pressure : {0.0: 199999.9995}\n",
      "         : temperature : {0.0: 300.0}\n",
      "waste : Size=1\n",
      "    Key  : Name        : Value\n",
      "    None :   conc_mass : {(0.0, 'bromide'): -3.2331556328479874e-12, (0.0, 'calcium'): -1.9971767911589e-11, (0.0, 'chloride'): -9.343007888724537e-10, (0.0, 'magnesium'): -6.231319203876301e-11, (0.0, 'potassium'): -1.9274528891530787e-11, (0.0, 'sodium'): -5.206869002602703e-10, (0.0, 'strontium'): -6.388735985595372e-14, (0.0, 'sulfate'): -1.306718707885292e-10, (0.0, 'tds'): -1.7065295784090146e-09}\n",
      "         :    flow_vol : {0.0: 2.987051829986647e-11}\n",
      "         :    pressure : {0.0: 199999.9995}\n",
      "         : temperature : {0.0: 300.0}\n",
      "total_cap_investment: 0.009462901425053523\n",
      "----------------------------------------------------------------------\n",
      "----------------------------------------------------------------------\n",
      "fs.treated_storage\n",
      "inlet : Size=1\n",
      "    Key  : Name        : Value\n",
      "    None :   conc_mass : {(0.0, 'bromide'): 0.12593296148359953, (0.0, 'calcium'): 0.7780111768277884, (0.0, 'chloride'): 36.39709514251484, (0.0, 'magnesium'): 2.427486044887484, (0.0, 'potassium'): 0.7508491655274041, (0.0, 'sodium'): 20.28413417320301, (0.0, 'strontium'): 0.002469273754580383, (0.0, 'sulfate'): 5.090502817134944, (0.0, 'tds'): 66.48044723885185}\n",
      "         :    flow_vol : {0.0: 2.4129726339285322}\n",
      "         :    pressure : {0.0: 199999.9995}\n",
      "         : temperature : {0.0: 300.0}\n",
      "outlet : Size=1\n",
      "    Key  : Name        : Value\n",
      "    None :   conc_mass : {(0.0, 'bromide'): 0.12593296148669034, (0.0, 'calcium'): 0.7780111768468833, (0.0, 'chloride'): 36.39709514340815, (0.0, 'magnesium'): 2.4274860449470625, (0.0, 'potassium'): 0.7508491655458324, (0.0, 'sodium'): 20.28413417370085, (0.0, 'strontium'): 0.002469273754640987, (0.0, 'sulfate'): 5.090502817259881, (0.0, 'tds'): 66.48044724048349}\n",
      "         :    flow_vol : {0.0: 2.41297263386931}\n",
      "         :    pressure : {0.0: 199999.9994}\n",
      "         : temperature : {0.0: 300.0}\n",
      "waste : Size=1\n",
      "    Key  : Name        : Value\n",
      "    None :   conc_mass : {(0.0, 'bromide'): 9.56528471679884e-12, (0.0, 'calcium'): 5.908338741602067e-11, (0.0, 'chloride'): 2.7639574598217694e-09, (0.0, 'magnesium'): 1.843426952633979e-10, (0.0, 'potassium'): 5.702073414308492e-11, (0.0, 'sodium'): 1.54035692035918e-09, (0.0, 'strontium'): 1.8958802163596482e-13, (0.0, 'sulfate'): 3.8656926090367916e-10, (0.0, 'tds'): 5.048454159475495e-09}\n",
      "         :    flow_vol : {0.0: -1.4727738120091327e-10}\n",
      "         :    pressure : {0.0: 199999.9994}\n",
      "         : temperature : {0.0: 300.0}\n",
      "total_cap_investment: 12.822387499219358\n",
      "----------------------------------------------------------------------\n",
      "----------------------------------------------------------------------\n",
      "fs.surface_discharge\n",
      "inlet : Size=1\n",
      "    Key  : Name        : Value\n",
      "    None :   conc_mass : {(0.0, 'bromide'): 1.6458308718524897e-20, (0.0, 'calcium'): 1.0166949272786529e-19, (0.0, 'chloride'): 4.756240442033314e-18, (0.0, 'magnesium'): 3.1721680466749017e-19, (0.0, 'potassium'): 9.812006094297948e-20, (0.0, 'sodium'): 2.6506579371319064e-18, (0.0, 'strontium'): 3.245278814926288e-22, (0.0, 'sulfate'): 6.652100467487852e-19, (0.0, 'tds'): 8.687437675477421e-18}\n",
      "         :    flow_vol : {0.0: 2.1703273597541064}\n",
      "         :    pressure : {0.0: 199999.99944999997}\n",
      "         : temperature : {0.0: 299.9999}\n",
      "outlet : Size=1\n",
      "    Key  : Name        : Value\n",
      "    None :   conc_mass : {(0.0, 'bromide'): 1.6173108391467508e-20, (0.0, 'calcium'): 1.0138429241690188e-19, (0.0, 'chloride'): 4.755955242179944e-18, (0.0, 'magnesium'): 3.1693160437084705e-19, (0.0, 'potassium'): 9.783486063562878e-20, (0.0, 'sodium'): 2.650372737070536e-18, (0.0, 'strontium'): 3.9327556024526234e-23, (0.0, 'sulfate'): 6.649248464839165e-19, (0.0, 'tds'): 8.687152476028755e-18}\n",
      "         :    flow_vol : {0.0: 2.1703273596508565}\n",
      "         :    pressure : {0.0: 199999.99934999997}\n",
      "         : temperature : {0.0: 299.9999}\n",
      "waste : Size=1\n",
      "    Key  : Name        : Value\n",
      "    None :   conc_mass : {(0.0, 'bromide'): 6.960224519815782e-17, (0.0, 'calcium'): 6.960222972733975e-17, (0.0, 'chloride'): 6.96013846502391e-17, (0.0, 'magnesium'): 6.960219059288476e-17, (0.0, 'potassium'): 6.960223037176939e-17, (0.0, 'sodium'): 6.960176693672217e-17, (0.0, 'strontium'): 6.96022481273835e-17, (0.0, 'sulfate'): 6.96021274117402e-17, (0.0, 'tds'): 6.960067091059887e-17}\n",
      "         :    flow_vol : {0.0: 1.0324980393414114e-10}\n",
      "         :    pressure : {0.0: 199999.99934999997}\n",
      "         : temperature : {0.0: 299.9999}\n",
      "total_cap_investment: 28.576851028145033\n",
      "----------------------------------------------------------------------\n",
      "----------------------------------------------------------------------\n",
      "fs.municipal_drinking\n",
      "inlet : Size=1\n",
      "    Key  : Name        : Value\n",
      "    None :   conc_mass : {(0.0, 'bromide'): 0.12593296148669034, (0.0, 'calcium'): 0.7780111768468833, (0.0, 'chloride'): 36.39709514340815, (0.0, 'magnesium'): 2.4274860449470625, (0.0, 'potassium'): 0.7508491655458324, (0.0, 'sodium'): 20.28413417370085, (0.0, 'strontium'): 0.002469273754640987, (0.0, 'sulfate'): 5.090502817259881, (0.0, 'tds'): 66.48044724048349}\n",
      "         :    flow_vol : {0.0: 2.4129726336835757}\n",
      "         :    pressure : {0.0: 199999.9994}\n",
      "         : temperature : {0.0: 300.0}\n",
      "outlet : Size=1\n",
      "    Key  : Name        : Value\n",
      "    None :   conc_mass : {(0.0, 'bromide'): 0.125932961491313, (0.0, 'calcium'): 0.7780111768754421, (0.0, 'chloride'): 36.397095144744185, (0.0, 'magnesium'): 2.4274860450361695, (0.0, 'potassium'): 0.7508491655733941, (0.0, 'sodium'): 20.284134174445423, (0.0, 'strontium'): 0.0024692737547316276, (0.0, 'sulfate'): 5.09050281744674, (0.0, 'tds'): 66.48044724292382}\n",
      "         :    flow_vol : {0.0: 2.4129726335950017}\n",
      "         :    pressure : {0.0: 199999.9993}\n",
      "         : temperature : {0.0: 300.0}\n",
      "waste : Size=1\n",
      "    Key  : Name        : Value\n",
      "    None :   conc_mass : {(0.0, 'bromide'): -3.835229069336009e-12, (0.0, 'calcium'): -2.3688984283274705e-11, (0.0, 'chloride'): -1.1081793987134128e-09, (0.0, 'magnesium'): -7.391036799368693e-11, (0.0, 'potassium'): -2.2861985449720022e-11, (0.0, 'sodium'): -6.175898109480603e-10, (0.0, 'strontium'): -7.614346226926916e-14, (0.0, 'sulfate'): -1.5499095293380283e-10, (0.0, 'tds'): -2.024123988462178e-09}\n",
      "         :    flow_vol : {0.0: 8.857394285336963e-11}\n",
      "         :    pressure : {0.0: 199999.9993}\n",
      "         : temperature : {0.0: 300.0}\n",
      "total_cap_investment: 4.631655616549075\n",
      "----------------------------------------------------------------------\n",
      "----------------------------------------------------------------------\n",
      "fs.Seawater\n",
      "inlet : Size=1\n",
      "    Key  : Name        : Value\n",
      "    None :   conc_mass : {(0.0, 'bromide'): 0.0663, (0.0, 'calcium'): 0.4096, (0.0, 'chloride'): 19.162, (0.0, 'magnesium'): 1.278, (0.0, 'potassium'): 0.3953, (0.0, 'sodium'): 10.679, (0.0, 'strontium'): 0.0013, (0.0, 'sulfate'): 2.68, (0.0, 'tds'): 35.0}\n",
      "         :    flow_vol : {0.0: 4.5833}\n",
      "         :    pressure : {0.0: 200000.0}\n",
      "         : temperature : {0.0: 300}\n",
      "outlet : Size=1\n",
      "    Key  : Name        : Value\n",
      "    None :   conc_mass : {(0.0, 'bromide'): 0.0663000000124344, (0.0, 'calcium'): 0.4096000000768195, (0.0, 'chloride'): 19.162000003593786, (0.0, 'magnesium'): 1.2780000002396859, (0.0, 'potassium'): 0.3953000000741375, (0.0, 'sodium'): 10.679000002002821, (0.0, 'strontium'): 0.0013000000002438119, (0.0, 'sulfate'): 2.6800000005026274, (0.0, 'tds'): 35.00000000656535}\n",
      "         :    flow_vol : {0.0: 4.583299999140413}\n",
      "         :    pressure : {0.0: 199999.9999}\n",
      "         : temperature : {0.0: 300.0}\n",
      "waste : Size=1\n",
      "    Key  : Name        : Value\n",
      "    None :   conc_mass : {(0.0, 'bromide'): -9.49317151083044e-11, (0.0, 'calcium'): -5.864582898110998e-10, (0.0, 'chloride'): -2.743557841639681e-08, (0.0, 'magnesium'): -1.8298071901079837e-09, (0.0, 'potassium'): -5.659839815726822e-10, (0.0, 'sodium'): -1.52898751446111e-08, (0.0, 'strontium'): -1.8666776609357014e-12, (0.0, 'sulfate'): -3.837148459357344e-09, (0.0, 'tds'): 1.8131245717646337e-05}\n",
      "         :    flow_vol : {0.0: 8.596166336847344e-10}\n",
      "         :    pressure : {0.0: 199999.9999}\n",
      "         : temperature : {0.0: 300.0}\n",
      "outlet : Size=1\n",
      "    Key  : Name        : Value\n",
      "    None :   conc_mass : {(0.0, 'bromide'): 1.6458301528479588e-20, (0.0, 'calcium'): 1.0166948553780637e-19, (0.0, 'chloride'): 4.7562404348425094e-18, (0.0, 'magnesium'): 3.1721679747739674e-19, (0.0, 'potassium'): 9.812005375292113e-20, (0.0, 'sodium'): 2.6506579299414392e-18, (0.0, 'strontium'): 3.245206914499055e-22, (0.0, 'sulfate'): 6.65210039558636e-19, (0.0, 'tds'): 8.687437668285988e-18}\n",
      "         :    flow_vol : {0.0: 2.170327359960606}\n",
      "         :    pressure : {0.0: 199999.99944999997}\n",
      "         : temperature : {0.0: 299.9999}\n"
     ]
    }
   ],
   "source": [
    "wt.run_water_tap(m = m, solver_results = True, print_model_results = True)"
   ]
  },
  {
   "cell_type": "code",
   "execution_count": null,
   "metadata": {},
   "outputs": [],
   "source": []
  },
  {
   "cell_type": "code",
   "execution_count": null,
   "metadata": {},
   "outputs": [],
   "source": []
  },
  {
   "cell_type": "code",
   "execution_count": null,
   "metadata": {},
   "outputs": [],
   "source": []
  },
  {
   "cell_type": "code",
   "execution_count": null,
   "metadata": {},
   "outputs": [],
   "source": []
  },
  {
   "cell_type": "code",
   "execution_count": null,
   "metadata": {},
   "outputs": [],
   "source": []
  },
  {
   "cell_type": "code",
   "execution_count": null,
   "metadata": {},
   "outputs": [],
   "source": []
  },
  {
   "cell_type": "code",
   "execution_count": null,
   "metadata": {},
   "outputs": [],
   "source": []
  },
  {
   "cell_type": "code",
   "execution_count": null,
   "metadata": {},
   "outputs": [],
   "source": []
  },
  {
   "cell_type": "code",
   "execution_count": null,
   "metadata": {},
   "outputs": [],
   "source": []
  },
  {
   "cell_type": "code",
   "execution_count": null,
   "metadata": {},
   "outputs": [],
   "source": []
  },
  {
   "cell_type": "code",
   "execution_count": null,
   "metadata": {},
   "outputs": [],
   "source": []
  },
  {
   "cell_type": "code",
   "execution_count": null,
   "metadata": {},
   "outputs": [],
   "source": []
  },
  {
   "cell_type": "code",
   "execution_count": null,
   "metadata": {},
   "outputs": [],
   "source": []
  },
  {
   "cell_type": "code",
   "execution_count": null,
   "metadata": {},
   "outputs": [],
   "source": []
  },
  {
   "cell_type": "code",
   "execution_count": null,
   "metadata": {},
   "outputs": [],
   "source": []
  },
  {
   "cell_type": "code",
   "execution_count": null,
   "metadata": {},
   "outputs": [],
   "source": []
  },
  {
   "cell_type": "code",
   "execution_count": null,
   "metadata": {},
   "outputs": [],
   "source": []
  },
  {
   "cell_type": "code",
   "execution_count": null,
   "metadata": {},
   "outputs": [],
   "source": []
  },
  {
   "cell_type": "code",
   "execution_count": null,
   "metadata": {},
   "outputs": [],
   "source": []
  },
  {
   "cell_type": "code",
   "execution_count": null,
   "metadata": {},
   "outputs": [],
   "source": []
  },
  {
   "cell_type": "code",
   "execution_count": null,
   "metadata": {},
   "outputs": [],
   "source": []
  },
  {
   "cell_type": "code",
   "execution_count": null,
   "metadata": {},
   "outputs": [],
   "source": []
  },
  {
   "cell_type": "code",
   "execution_count": null,
   "metadata": {},
   "outputs": [],
   "source": []
  },
  {
   "cell_type": "code",
   "execution_count": null,
   "metadata": {},
   "outputs": [],
   "source": []
  },
  {
   "cell_type": "code",
   "execution_count": null,
   "metadata": {},
   "outputs": [],
   "source": []
  },
  {
   "cell_type": "code",
   "execution_count": null,
   "metadata": {},
   "outputs": [],
   "source": []
  },
  {
   "cell_type": "code",
   "execution_count": null,
   "metadata": {},
   "outputs": [],
   "source": []
  },
  {
   "cell_type": "code",
   "execution_count": null,
   "metadata": {},
   "outputs": [],
   "source": []
  },
  {
   "cell_type": "code",
   "execution_count": null,
   "metadata": {},
   "outputs": [],
   "source": []
  },
  {
   "cell_type": "code",
   "execution_count": null,
   "metadata": {},
   "outputs": [],
   "source": []
  },
  {
   "cell_type": "code",
   "execution_count": null,
   "metadata": {},
   "outputs": [],
   "source": []
  },
  {
   "cell_type": "code",
   "execution_count": null,
   "metadata": {},
   "outputs": [],
   "source": []
  },
  {
   "cell_type": "code",
   "execution_count": null,
   "metadata": {},
   "outputs": [],
   "source": []
  },
  {
   "cell_type": "code",
   "execution_count": null,
   "metadata": {},
   "outputs": [],
   "source": []
  },
  {
   "cell_type": "code",
   "execution_count": null,
   "metadata": {},
   "outputs": [],
   "source": []
  },
  {
   "cell_type": "code",
   "execution_count": null,
   "metadata": {},
   "outputs": [],
   "source": []
  },
  {
   "cell_type": "code",
   "execution_count": null,
   "metadata": {
    "scrolled": true
   },
   "outputs": [],
   "source": [
    "cost_range_list = []; #results will be inputted in this array\n",
    "#up_name = \"tri_media_filtration\" # which unit process it applies to. TODO hould be user input.\n",
    "\n",
    "#for value_change in pct_to_target1: # cycles through each value from MC range\n",
    "for value_change in [0.4, 0.8]: #, 0.9]:\n",
    "\n",
    "    # create and build model\n",
    "    m = wt.watertap_setup(dynamic = False)\n",
    "    m = wt.case_study_trains.get_case_study(name = 'carlsbad', flow = 4.5833, m = m)\n",
    "\n",
    "    m.fs.tri_media_filtration.water_recovery.fix(value_change)\n",
    "\n",
    "    # set variable to MC value\n",
    "    wt.run_water_tap(m)\n",
    "    results_table = get_results_table(m, unit_process_name)\n",
    "    cost_range_list.append(results_table.total_up_cost.sum())\n"
   ]
  },
  {
   "cell_type": "code",
   "execution_count": null,
   "metadata": {},
   "outputs": [],
   "source": [
    "cost_range_list"
   ]
  },
  {
   "cell_type": "code",
   "execution_count": null,
   "metadata": {},
   "outputs": [],
   "source": []
  },
  {
   "cell_type": "code",
   "execution_count": null,
   "metadata": {},
   "outputs": [],
   "source": []
  },
  {
   "cell_type": "code",
   "execution_count": null,
   "metadata": {},
   "outputs": [],
   "source": []
  },
  {
   "cell_type": "code",
   "execution_count": null,
   "metadata": {},
   "outputs": [],
   "source": []
  },
  {
   "cell_type": "code",
   "execution_count": null,
   "metadata": {},
   "outputs": [],
   "source": []
  },
  {
   "cell_type": "code",
   "execution_count": null,
   "metadata": {},
   "outputs": [],
   "source": []
  },
  {
   "cell_type": "code",
   "execution_count": null,
   "metadata": {},
   "outputs": [],
   "source": []
  },
  {
   "cell_type": "code",
   "execution_count": null,
   "metadata": {},
   "outputs": [],
   "source": [
    "#### DO NOT USE THE BELOW ####"
   ]
  },
  {
   "cell_type": "code",
   "execution_count": null,
   "metadata": {},
   "outputs": [],
   "source": [
    "import time\n",
    "from multiprocessing import Pool\n",
    "import multiprocessing\n",
    "\n",
    "mu = 0.6\n",
    "sigma = .1\n",
    "num_reps = 50\n",
    "\n",
    "input_list = np.random.normal(mu,sigma, size = num_reps) #, sigma, num_reps).round(4)\n",
    "\n",
    "count, bins, ignored = plt.hist(input_list, 25, density=True)\n",
    "plt.plot(bins, 1/(sigma * np.sqrt(2 * np.pi)) * np.exp( - (bins - mu)**2 / (2 * sigma**2) ),\n",
    "          linewidth=2, color='r')\n",
    "plt.show()\n",
    "\n",
    "### INPUT TO MODEL LIST: ### CAN BE AUTOMATED FOR USER TO LABEL THE VARIABLE. TOOD ###\n",
    "no_of_proc = 4\n",
    "list_final = []\n",
    "for i in range(no_of_proc):\n",
    "    part2 = len(input_list) / no_of_proc\n",
    "    i2 = ((i+1)*part2)\n",
    "    list1 = input_list[int(i*part2):int(i2)]\n",
    "    list_final.append(list1)\n",
    "    \n",
    "    \n",
    "def monte_run(list_final):\n",
    "    print('goes in')\n",
    "\n",
    "    up_name = \"tri_media_filtration\" # which unit process it applies to. TODO hould be user input.\n",
    "    cost_range_list = []; #results will be inputted in this array\n",
    "\n",
    "    #for value_change in pct_to_target1: # cycles through each value from MC range\n",
    "    for value_change in list_final:\n",
    "\n",
    "        # create and build model\n",
    "        m = wt.watertap_setup(dynamic = False)\n",
    "        m = wt.case_study_trains.get_case_study(name = 'carlsbad', flow = 4.5833, m = m)\n",
    "\n",
    "        getattr(m.fs, up_name).water_recovery.fix(value_change)\n",
    "\n",
    "        # set variable to MC value\n",
    "        result = wt.run_water_tap(m)\n",
    "        results_table = get_results_table(m, unit_process_names)\n",
    "        cost_range_list.append(results_table.total_up_cost.sum())\n",
    "\n",
    "\n",
    "    return cost_range_list\n",
    "\n",
    "startTime = time.time()\n",
    "\n",
    "pool=Pool()\n",
    "dfs = pool.map(monte_run, list_final) #SomeClass().preprocess_data()\n",
    "\n",
    "executionTime = (time.time() - startTime)\n",
    "print('Execution time in seconds: ' + str(executionTime))"
   ]
  },
  {
   "cell_type": "code",
   "execution_count": null,
   "metadata": {},
   "outputs": [],
   "source": []
  },
  {
   "cell_type": "code",
   "execution_count": null,
   "metadata": {},
   "outputs": [],
   "source": []
  },
  {
   "cell_type": "code",
   "execution_count": null,
   "metadata": {},
   "outputs": [],
   "source": []
  },
  {
   "cell_type": "code",
   "execution_count": null,
   "metadata": {},
   "outputs": [],
   "source": []
  },
  {
   "cell_type": "code",
   "execution_count": null,
   "metadata": {},
   "outputs": [],
   "source": [
    "####TO DO LOAD AND SAVE!!"
   ]
  },
  {
   "cell_type": "code",
   "execution_count": null,
   "metadata": {},
   "outputs": [],
   "source": [
    "#### SAVE TRAIN ####\n",
    "# path = 'trains/Tutorial1_treatment_train_example.csv'\n",
    "# wt.save_train(T, path)"
   ]
  },
  {
   "cell_type": "code",
   "execution_count": null,
   "metadata": {},
   "outputs": [],
   "source": [
    "# #### LOAD TRAIN ####\n",
    "# path = 'trains/Tutorial1_treatment_train_example.csv'\n",
    "# TT = wt.load_train(path)"
   ]
  },
  {
   "cell_type": "code",
   "execution_count": null,
   "metadata": {},
   "outputs": [],
   "source": [
    "# wt.display.show_train(TT)"
   ]
  },
  {
   "cell_type": "code",
   "execution_count": null,
   "metadata": {},
   "outputs": [],
   "source": []
  },
  {
   "cell_type": "code",
   "execution_count": null,
   "metadata": {},
   "outputs": [],
   "source": []
  },
  {
   "cell_type": "code",
   "execution_count": null,
   "metadata": {},
   "outputs": [],
   "source": []
  },
  {
   "cell_type": "code",
   "execution_count": null,
   "metadata": {},
   "outputs": [],
   "source": []
  }
 ],
 "metadata": {
  "celltoolbar": "Raw Cell Format",
  "kernelspec": {
   "display_name": "Python 3",
   "language": "python",
   "name": "python3"
  },
  "language_info": {
   "codemirror_mode": {
    "name": "ipython",
    "version": 3
   },
   "file_extension": ".py",
   "mimetype": "text/x-python",
   "name": "python",
   "nbconvert_exporter": "python",
   "pygments_lexer": "ipython3",
   "version": "3.7.4"
  }
 },
 "nbformat": 4,
 "nbformat_minor": 2
}
