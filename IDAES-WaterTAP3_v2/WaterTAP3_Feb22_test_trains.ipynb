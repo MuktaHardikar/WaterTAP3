{
 "cells": [
  {
   "cell_type": "code",
   "execution_count": 1,
   "metadata": {},
   "outputs": [],
   "source": [
    "import watertap as wt\n",
    "import pandas as pd\n",
    "from pyomo.environ import value, Block\n",
    "from idaes.core import FlowsheetBlock"
   ]
  },
  {
   "cell_type": "code",
   "execution_count": 2,
   "metadata": {},
   "outputs": [],
   "source": [
    "m = wt.watertap_setup(dynamic = False)"
   ]
  },
  {
   "cell_type": "code",
   "execution_count": 3,
   "metadata": {},
   "outputs": [],
   "source": [
    "wt.case_study_trains.train = {\"case_study\": \"Carlsbad\",\n",
    "                             \"reference\": \"NAWI\",\n",
    "                             \"scenario\": \"Baseline\"}"
   ]
  },
  {
   "cell_type": "code",
   "execution_count": 4,
   "metadata": {},
   "outputs": [],
   "source": [
    "# TODO LATER: how to make this sync with info in train input data. We might not need to do that.\n",
    "#But, if the source water type is different to what is in the train (pfd dictionary), \n",
    "#then we should updat the node name. If more than two sources - what to do? Needs to be\n",
    "#based on pfd node!?\n",
    "\n",
    "wt.case_study_trains.source_water = {\"case_study\": \"Carlsbad\", \n",
    "                             \"reference\": \"NAWI\",\n",
    "                             \"scenario\": \"Baseline\",\n",
    "                             \"water_type\": \"Seawater\"}"
   ]
  },
  {
   "cell_type": "code",
   "execution_count": 5,
   "metadata": {
    "scrolled": true
   },
   "outputs": [
    {
     "name": "stdout",
     "output_type": "stream",
     "text": [
      "Carlsbad\n",
      "sw_onshore_intake\n",
      "coag_and_floc\n",
      "tri_media_filtration\n",
      "sulfuric_acid_addition\n",
      "sodium_bisulfite_addition\n",
      "cartridge_filtration\n",
      "ro_deep\n",
      "ro_deep_scnd_pass\n",
      "lime_softening\n",
      "co2_addition\n",
      "chlorination\n",
      "ammonia_addition\n",
      "treated_storage\n",
      "backwash_solids_handling\n",
      "surface_discharge\n",
      "municipal_drinking\n",
      "landfill\n"
     ]
    }
   ],
   "source": [
    "m = wt.case_study_trains.get_case_study(m = m) # flow is set as case study flow unless defined."
   ]
  },
  {
   "cell_type": "code",
   "execution_count": 6,
   "metadata": {},
   "outputs": [
    {
     "data": {
      "text/html": [
       "\n",
       "        <iframe\n",
       "            width=\"100%\"\n",
       "            height=\"500px\"\n",
       "            src=\"tmp/example.html\"\n",
       "            frameborder=\"0\"\n",
       "            allowfullscreen\n",
       "        ></iframe>\n",
       "        "
      ],
      "text/plain": [
       "<IPython.lib.display.IFrame at 0x7fdebf2c6a50>"
      ]
     },
     "execution_count": 6,
     "metadata": {},
     "output_type": "execute_result"
    }
   ],
   "source": [
    "wt.display.show_train2(model_name=m)"
   ]
  },
  {
   "cell_type": "code",
   "execution_count": null,
   "metadata": {},
   "outputs": [],
   "source": []
  },
  {
   "cell_type": "code",
   "execution_count": 7,
   "metadata": {
    "scrolled": true
   },
   "outputs": [
    {
     "name": "stdout",
     "output_type": "stream",
     "text": [
      "degrees_of_freedom: 0\n"
     ]
    }
   ],
   "source": [
    "wt.run_water_tap(m = m, solver_results = False, print_model_results = False)"
   ]
  },
  {
   "cell_type": "code",
   "execution_count": null,
   "metadata": {},
   "outputs": [],
   "source": []
  },
  {
   "cell_type": "code",
   "execution_count": 8,
   "metadata": {},
   "outputs": [],
   "source": [
    "def get_results_table():\n",
    "\n",
    "    train = wt.case_study_trains.train\n",
    "\n",
    "    py_var = [\n",
    "        \"fixed_cap_inv\",\n",
    "        \"total_cap_investment\",\n",
    "        \"cat_and_chem_cost\",\n",
    "        \"electricity_cost\",\n",
    "        \"total_fixed_op_cost\"]\n",
    "\n",
    "    excel_var = ['Fixed Capital Investment (FCI)',\n",
    "                'Total Capital Investment (TCI)',\n",
    "                'Catalysts and Chemicals',\n",
    "                'Electricity',\n",
    "                'Total Fixed Operating Costs']\n",
    "    big_dict = {}\n",
    "    # for letter in ['A', 'B', 'C']:\n",
    "    for b_unit in m.fs.component_objects(Block, descend_into=True):\n",
    "        unit = str(b_unit)[3:]\n",
    "        if hasattr(b_unit, 'costing'):\n",
    "            #print(f'____________{unit}____________')\n",
    "            py_vals =  []\n",
    "            excel_vals = []\n",
    "            big_dict[unit] = {'python': {}, 'excel': {}}\n",
    "            for py, ex in dict(zip(py_var, excel_var)).items():\n",
    "                #print(f'\\n#### {py}')\n",
    "                try:\n",
    "                    num = value(getattr(b_unit.costing, py))\n",
    "                    py_vals.append(num)\n",
    "                    #print(f'Python --> {num}')\n",
    "                except ZeroDivisionError:\n",
    "                    #print(f'Python --> {0} - ERROR')\n",
    "                    py_vals.append(0)\n",
    "                py_dict = dict(zip(py_var, py_vals))\n",
    "                df = pd.read_csv(\"data/case_study_results.csv\")\n",
    "                df = df[df.case_study == train['case_study']]\n",
    "                df = df[df.scenario == train['scenario']]\n",
    "                df = df[df.unit_process == unit]\n",
    "                num = df[df.Variable == ex].value.max()\n",
    "                #print(f'Excel --> {num}\\n\\n')\n",
    "                excel_vals.append(num)\n",
    "                excel_dict = dict(zip(py_var, excel_vals))\n",
    "            big_dict[unit]['python'] = py_dict\n",
    "            big_dict[unit]['excel'] = excel_dict\n",
    "    else:\n",
    "        pass \n",
    "\n",
    "\n",
    "\n",
    "    df = pd.DataFrame.from_dict({(i,j): big_dict[i][j] \n",
    "                               for i in big_dict.keys() \n",
    "                               for j in big_dict[i].keys()},\n",
    "                           orient='index')\n",
    "    \n",
    "    return df"
   ]
  },
  {
   "cell_type": "code",
   "execution_count": 9,
   "metadata": {},
   "outputs": [
    {
     "data": {
      "text/html": [
       "<div>\n",
       "<style scoped>\n",
       "    .dataframe tbody tr th:only-of-type {\n",
       "        vertical-align: middle;\n",
       "    }\n",
       "\n",
       "    .dataframe tbody tr th {\n",
       "        vertical-align: top;\n",
       "    }\n",
       "\n",
       "    .dataframe thead th {\n",
       "        text-align: right;\n",
       "    }\n",
       "</style>\n",
       "<table border=\"1\" class=\"dataframe\">\n",
       "  <thead>\n",
       "    <tr style=\"text-align: right;\">\n",
       "      <th></th>\n",
       "      <th></th>\n",
       "      <th>fixed_cap_inv</th>\n",
       "      <th>total_cap_investment</th>\n",
       "      <th>cat_and_chem_cost</th>\n",
       "      <th>electricity_cost</th>\n",
       "      <th>total_fixed_op_cost</th>\n",
       "    </tr>\n",
       "  </thead>\n",
       "  <tbody>\n",
       "    <tr>\n",
       "      <th rowspan=\"2\" valign=\"top\">sw_onshore_intake</th>\n",
       "      <th>python</th>\n",
       "      <td>20.980306</td>\n",
       "      <td>22.060791</td>\n",
       "      <td>0.000000</td>\n",
       "      <td>1.984638</td>\n",
       "      <td>0.292658</td>\n",
       "    </tr>\n",
       "    <tr>\n",
       "      <th>excel</th>\n",
       "      <td>20.982722</td>\n",
       "      <td>22.063332</td>\n",
       "      <td>0.000000</td>\n",
       "      <td>1.983294</td>\n",
       "      <td>0.302891</td>\n",
       "    </tr>\n",
       "    <tr>\n",
       "      <th rowspan=\"2\" valign=\"top\">coag_and_floc</th>\n",
       "      <th>python</th>\n",
       "      <td>11.765912</td>\n",
       "      <td>12.371856</td>\n",
       "      <td>1.009428</td>\n",
       "      <td>0.098410</td>\n",
       "      <td>0.164134</td>\n",
       "    </tr>\n",
       "    <tr>\n",
       "      <th>excel</th>\n",
       "      <td>16.110699</td>\n",
       "      <td>16.940400</td>\n",
       "      <td>1.114695</td>\n",
       "      <td>0.108666</td>\n",
       "      <td>0.223931</td>\n",
       "    </tr>\n",
       "    <tr>\n",
       "      <th>tri_media_filtration</th>\n",
       "      <th>python</th>\n",
       "      <td>12.751314</td>\n",
       "      <td>13.408007</td>\n",
       "      <td>0.000000</td>\n",
       "      <td>4.243153</td>\n",
       "      <td>0.178538</td>\n",
       "    </tr>\n",
       "  </tbody>\n",
       "</table>\n",
       "</div>"
      ],
      "text/plain": [
       "                             fixed_cap_inv  total_cap_investment  \\\n",
       "sw_onshore_intake    python      20.980306             22.060791   \n",
       "                     excel       20.982722             22.063332   \n",
       "coag_and_floc        python      11.765912             12.371856   \n",
       "                     excel       16.110699             16.940400   \n",
       "tri_media_filtration python      12.751314             13.408007   \n",
       "\n",
       "                             cat_and_chem_cost  electricity_cost  \\\n",
       "sw_onshore_intake    python           0.000000          1.984638   \n",
       "                     excel            0.000000          1.983294   \n",
       "coag_and_floc        python           1.009428          0.098410   \n",
       "                     excel            1.114695          0.108666   \n",
       "tri_media_filtration python           0.000000          4.243153   \n",
       "\n",
       "                             total_fixed_op_cost  \n",
       "sw_onshore_intake    python             0.292658  \n",
       "                     excel              0.302891  \n",
       "coag_and_floc        python             0.164134  \n",
       "                     excel              0.223931  \n",
       "tri_media_filtration python             0.178538  "
      ]
     },
     "execution_count": 9,
     "metadata": {},
     "output_type": "execute_result"
    }
   ],
   "source": [
    "get_results_table().head()"
   ]
  },
  {
   "cell_type": "code",
   "execution_count": 18,
   "metadata": {},
   "outputs": [
    {
     "data": {
      "text/html": [
       "<div>\n",
       "<style scoped>\n",
       "    .dataframe tbody tr th:only-of-type {\n",
       "        vertical-align: middle;\n",
       "    }\n",
       "\n",
       "    .dataframe tbody tr th {\n",
       "        vertical-align: top;\n",
       "    }\n",
       "\n",
       "    .dataframe thead th {\n",
       "        text-align: right;\n",
       "    }\n",
       "</style>\n",
       "<table border=\"1\" class=\"dataframe\">\n",
       "  <thead>\n",
       "    <tr style=\"text-align: right;\">\n",
       "      <th></th>\n",
       "      <th>fixed_cap_inv</th>\n",
       "      <th>total_cap_investment</th>\n",
       "      <th>cat_and_chem_cost</th>\n",
       "      <th>electricity_cost</th>\n",
       "      <th>total_fixed_op_cost</th>\n",
       "    </tr>\n",
       "  </thead>\n",
       "  <tbody>\n",
       "    <tr>\n",
       "      <th>python</th>\n",
       "      <td>0.079330</td>\n",
       "      <td>0.083416</td>\n",
       "      <td>0.0</td>\n",
       "      <td>0.000219</td>\n",
       "      <td>0.001111</td>\n",
       "    </tr>\n",
       "    <tr>\n",
       "      <th>excel</th>\n",
       "      <td>14.722875</td>\n",
       "      <td>15.481103</td>\n",
       "      <td>0.0</td>\n",
       "      <td>0.245464</td>\n",
       "      <td>0.212460</td>\n",
       "    </tr>\n",
       "  </tbody>\n",
       "</table>\n",
       "</div>"
      ],
      "text/plain": [
       "        fixed_cap_inv  total_cap_investment  cat_and_chem_cost  \\\n",
       "python       0.079330              0.083416                0.0   \n",
       "excel       14.722875             15.481103                0.0   \n",
       "\n",
       "        electricity_cost  total_fixed_op_cost  \n",
       "python          0.000219             0.001111  \n",
       "excel           0.245464             0.212460  "
      ]
     },
     "execution_count": 18,
     "metadata": {},
     "output_type": "execute_result"
    }
   ],
   "source": [
    "df.loc['backwash_solids_handling']"
   ]
  },
  {
   "cell_type": "code",
   "execution_count": 10,
   "metadata": {},
   "outputs": [],
   "source": [
    "df = get_results_table()"
   ]
  },
  {
   "cell_type": "code",
   "execution_count": 11,
   "metadata": {},
   "outputs": [],
   "source": [
    "df.to_csv(\"tmp/test_compare.csv\")"
   ]
  },
  {
   "cell_type": "code",
   "execution_count": 15,
   "metadata": {},
   "outputs": [
    {
     "data": {
      "text/plain": [
       "0.00021929701170052268"
      ]
     },
     "execution_count": 15,
     "metadata": {},
     "output_type": "execute_result"
    }
   ],
   "source": [
    "m.fs.backwash_solids_handling.costing.electricity_cost()"
   ]
  },
  {
   "cell_type": "code",
   "execution_count": null,
   "metadata": {},
   "outputs": [],
   "source": []
  },
  {
   "cell_type": "code",
   "execution_count": null,
   "metadata": {},
   "outputs": [],
   "source": []
  },
  {
   "cell_type": "code",
   "execution_count": null,
   "metadata": {},
   "outputs": [],
   "source": []
  },
  {
   "cell_type": "code",
   "execution_count": 18,
   "metadata": {},
   "outputs": [],
   "source": [
    "cat_chem_df = pd.read_csv('data/catalyst_chemicals.csv', index_col = \"Material\")"
   ]
  },
  {
   "cell_type": "code",
   "execution_count": null,
   "metadata": {},
   "outputs": [],
   "source": []
  },
  {
   "cell_type": "code",
   "execution_count": null,
   "metadata": {},
   "outputs": [],
   "source": []
  },
  {
   "cell_type": "code",
   "execution_count": 13,
   "metadata": {},
   "outputs": [],
   "source": [
    "import pandas as pd"
   ]
  },
  {
   "cell_type": "code",
   "execution_count": 20,
   "metadata": {},
   "outputs": [],
   "source": [
    "df = pd.read_csv(\"data/case_study_results.csv\")"
   ]
  },
  {
   "cell_type": "code",
   "execution_count": 16,
   "metadata": {},
   "outputs": [
    {
     "data": {
      "text/plain": [
       "{'case_study': 'Carlsbad', 'reference': 'NAWI', 'scenario': 'Baseline'}"
      ]
     },
     "execution_count": 16,
     "metadata": {},
     "output_type": "execute_result"
    }
   ],
   "source": [
    "wt.case_study_trains.train"
   ]
  },
  {
   "cell_type": "code",
   "execution_count": 17,
   "metadata": {},
   "outputs": [],
   "source": [
    "train = wt.case_study_trains.train"
   ]
  },
  {
   "cell_type": "code",
   "execution_count": 22,
   "metadata": {},
   "outputs": [
    {
     "data": {
      "text/html": [
       "<div>\n",
       "<style scoped>\n",
       "    .dataframe tbody tr th:only-of-type {\n",
       "        vertical-align: middle;\n",
       "    }\n",
       "\n",
       "    .dataframe tbody tr th {\n",
       "        vertical-align: top;\n",
       "    }\n",
       "\n",
       "    .dataframe thead th {\n",
       "        text-align: right;\n",
       "    }\n",
       "</style>\n",
       "<table border=\"1\" class=\"dataframe\">\n",
       "  <thead>\n",
       "    <tr style=\"text-align: right;\">\n",
       "      <th></th>\n",
       "      <th>Unnamed: 0</th>\n",
       "      <th>case_study</th>\n",
       "      <th>scenario</th>\n",
       "      <th>train</th>\n",
       "      <th>unit_process</th>\n",
       "      <th>Variable</th>\n",
       "      <th>unit</th>\n",
       "      <th>value</th>\n",
       "      <th>variable</th>\n",
       "    </tr>\n",
       "  </thead>\n",
       "  <tbody>\n",
       "    <tr>\n",
       "      <th>0</th>\n",
       "      <td>0</td>\n",
       "      <td>Carlsbad</td>\n",
       "      <td>Baseline</td>\n",
       "      <td>A</td>\n",
       "      <td>sw_onshore_intake</td>\n",
       "      <td>Fixed Capital Investment (FCI)</td>\n",
       "      <td>$MM</td>\n",
       "      <td>20.982722</td>\n",
       "      <td>fixed_cap_inv</td>\n",
       "    </tr>\n",
       "    <tr>\n",
       "      <th>1</th>\n",
       "      <td>1</td>\n",
       "      <td>Carlsbad</td>\n",
       "      <td>Baseline</td>\n",
       "      <td>A</td>\n",
       "      <td>sw_onshore_intake</td>\n",
       "      <td>Land_Cost</td>\n",
       "      <td>$MM</td>\n",
       "      <td>0.031474</td>\n",
       "      <td>land_cost</td>\n",
       "    </tr>\n",
       "    <tr>\n",
       "      <th>2</th>\n",
       "      <td>2</td>\n",
       "      <td>Carlsbad</td>\n",
       "      <td>Baseline</td>\n",
       "      <td>A</td>\n",
       "      <td>sw_onshore_intake</td>\n",
       "      <td>Working Capital</td>\n",
       "      <td>$MM</td>\n",
       "      <td>1.049136</td>\n",
       "      <td>working_cap</td>\n",
       "    </tr>\n",
       "    <tr>\n",
       "      <th>3</th>\n",
       "      <td>3</td>\n",
       "      <td>Carlsbad</td>\n",
       "      <td>Baseline</td>\n",
       "      <td>A</td>\n",
       "      <td>sw_onshore_intake</td>\n",
       "      <td>Total Capital Investment (TCI)</td>\n",
       "      <td>$MM</td>\n",
       "      <td>22.063332</td>\n",
       "      <td>total_cap_investment</td>\n",
       "    </tr>\n",
       "    <tr>\n",
       "      <th>4</th>\n",
       "      <td>4</td>\n",
       "      <td>Carlsbad</td>\n",
       "      <td>Baseline</td>\n",
       "      <td>A</td>\n",
       "      <td>sw_onshore_intake</td>\n",
       "      <td>Catalysts and Chemicals</td>\n",
       "      <td>$MM/yr</td>\n",
       "      <td>0.000000</td>\n",
       "      <td>cat_and_chem_cost</td>\n",
       "    </tr>\n",
       "  </tbody>\n",
       "</table>\n",
       "</div>"
      ],
      "text/plain": [
       "   Unnamed: 0 case_study  scenario train       unit_process  \\\n",
       "0           0   Carlsbad  Baseline     A  sw_onshore_intake   \n",
       "1           1   Carlsbad  Baseline     A  sw_onshore_intake   \n",
       "2           2   Carlsbad  Baseline     A  sw_onshore_intake   \n",
       "3           3   Carlsbad  Baseline     A  sw_onshore_intake   \n",
       "4           4   Carlsbad  Baseline     A  sw_onshore_intake   \n",
       "\n",
       "                         Variable    unit      value              variable  \n",
       "0  Fixed Capital Investment (FCI)     $MM  20.982722         fixed_cap_inv  \n",
       "1                       Land_Cost     $MM   0.031474             land_cost  \n",
       "2                 Working Capital     $MM   1.049136           working_cap  \n",
       "3  Total Capital Investment (TCI)     $MM  22.063332  total_cap_investment  \n",
       "4         Catalysts and Chemicals  $MM/yr   0.000000     cat_and_chem_cost  "
      ]
     },
     "execution_count": 22,
     "metadata": {},
     "output_type": "execute_result"
    }
   ],
   "source": [
    "df[df.case_study == train['case_study']]\n",
    "df[df.scenario == train['scenario']]\n",
    "df[df.unit_process == str(b_unit)[3:]]\n",
    "print(df[df.Variable == \"Fixed Capital Investment (FCI)\"])"
   ]
  },
  {
   "cell_type": "code",
   "execution_count": 23,
   "metadata": {},
   "outputs": [
    {
     "name": "stdout",
     "output_type": "stream",
     "text": [
      "fs.mixer2.mixed_state\n"
     ]
    }
   ],
   "source": [
    "print(b_unit)"
   ]
  },
  {
   "cell_type": "code",
   "execution_count": null,
   "metadata": {},
   "outputs": [],
   "source": []
  },
  {
   "cell_type": "code",
   "execution_count": null,
   "metadata": {},
   "outputs": [],
   "source": [
    "Excel_variable\n",
    "Python_variable\n",
    "Unit\n",
    "\n",
    "Fixed Capital Investment (FCI)\n",
    "fixed_cap_inv\n",
    "$MM\n",
    "\n",
    "Catalysts and Chemicals\n",
    "cat_and_chem_cost\n",
    "$MM/yr\n",
    "\n",
    "Electricity\n",
    "electricity_cost\n",
    "$MM/yr\n",
    "\n",
    "Other Operating\n",
    "other_var_cost\n",
    "$MM/yr\n",
    "\n",
    "Total Fixed Operating \n",
    "total_fixed_op_cost\n",
    "$MM/yr\n",
    "\n",
    "Levelized Cost\n",
    "LCOW\n",
    "$/m3\n",
    "\n",
    "\n",
    "\n",
    "\n"
   ]
  },
  {
   "cell_type": "code",
   "execution_count": null,
   "metadata": {},
   "outputs": [],
   "source": []
  },
  {
   "cell_type": "code",
   "execution_count": null,
   "metadata": {},
   "outputs": [],
   "source": []
  },
  {
   "cell_type": "code",
   "execution_count": null,
   "metadata": {},
   "outputs": [],
   "source": []
  },
  {
   "cell_type": "code",
   "execution_count": null,
   "metadata": {},
   "outputs": [],
   "source": []
  },
  {
   "cell_type": "code",
   "execution_count": null,
   "metadata": {},
   "outputs": [],
   "source": []
  },
  {
   "cell_type": "code",
   "execution_count": null,
   "metadata": {},
   "outputs": [],
   "source": []
  },
  {
   "cell_type": "code",
   "execution_count": null,
   "metadata": {},
   "outputs": [],
   "source": []
  },
  {
   "cell_type": "code",
   "execution_count": null,
   "metadata": {},
   "outputs": [],
   "source": []
  },
  {
   "cell_type": "code",
   "execution_count": null,
   "metadata": {},
   "outputs": [],
   "source": []
  },
  {
   "cell_type": "code",
   "execution_count": null,
   "metadata": {},
   "outputs": [],
   "source": []
  },
  {
   "cell_type": "code",
   "execution_count": null,
   "metadata": {},
   "outputs": [],
   "source": []
  },
  {
   "cell_type": "code",
   "execution_count": null,
   "metadata": {},
   "outputs": [],
   "source": []
  },
  {
   "cell_type": "code",
   "execution_count": null,
   "metadata": {},
   "outputs": [],
   "source": []
  },
  {
   "cell_type": "code",
   "execution_count": null,
   "metadata": {},
   "outputs": [],
   "source": []
  },
  {
   "cell_type": "code",
   "execution_count": null,
   "metadata": {},
   "outputs": [],
   "source": []
  },
  {
   "cell_type": "code",
   "execution_count": null,
   "metadata": {},
   "outputs": [],
   "source": []
  },
  {
   "cell_type": "code",
   "execution_count": null,
   "metadata": {},
   "outputs": [],
   "source": []
  },
  {
   "cell_type": "code",
   "execution_count": null,
   "metadata": {},
   "outputs": [],
   "source": []
  },
  {
   "cell_type": "code",
   "execution_count": null,
   "metadata": {},
   "outputs": [],
   "source": []
  },
  {
   "cell_type": "code",
   "execution_count": null,
   "metadata": {},
   "outputs": [],
   "source": []
  },
  {
   "cell_type": "code",
   "execution_count": null,
   "metadata": {},
   "outputs": [],
   "source": []
  },
  {
   "cell_type": "code",
   "execution_count": null,
   "metadata": {},
   "outputs": [],
   "source": []
  },
  {
   "cell_type": "code",
   "execution_count": null,
   "metadata": {},
   "outputs": [],
   "source": []
  },
  {
   "cell_type": "code",
   "execution_count": null,
   "metadata": {},
   "outputs": [],
   "source": []
  },
  {
   "cell_type": "code",
   "execution_count": null,
   "metadata": {},
   "outputs": [],
   "source": []
  },
  {
   "cell_type": "code",
   "execution_count": null,
   "metadata": {},
   "outputs": [],
   "source": []
  },
  {
   "cell_type": "code",
   "execution_count": null,
   "metadata": {},
   "outputs": [],
   "source": []
  },
  {
   "cell_type": "code",
   "execution_count": null,
   "metadata": {},
   "outputs": [],
   "source": []
  },
  {
   "cell_type": "code",
   "execution_count": null,
   "metadata": {},
   "outputs": [],
   "source": []
  },
  {
   "cell_type": "code",
   "execution_count": null,
   "metadata": {},
   "outputs": [],
   "source": []
  },
  {
   "cell_type": "code",
   "execution_count": null,
   "metadata": {},
   "outputs": [],
   "source": []
  },
  {
   "cell_type": "code",
   "execution_count": null,
   "metadata": {},
   "outputs": [],
   "source": []
  },
  {
   "cell_type": "code",
   "execution_count": null,
   "metadata": {},
   "outputs": [],
   "source": []
  },
  {
   "cell_type": "code",
   "execution_count": null,
   "metadata": {},
   "outputs": [],
   "source": []
  },
  {
   "cell_type": "code",
   "execution_count": null,
   "metadata": {},
   "outputs": [],
   "source": []
  },
  {
   "cell_type": "code",
   "execution_count": null,
   "metadata": {
    "scrolled": true
   },
   "outputs": [],
   "source": [
    "cost_range_list = []; #results will be inputted in this array\n",
    "#up_name = \"tri_media_filtration\" # which unit process it applies to. TODO hould be user input.\n",
    "\n",
    "#for value_change in pct_to_target1: # cycles through each value from MC range\n",
    "for value_change in [0.4, 0.8]: #, 0.9]:\n",
    "\n",
    "    # create and build model\n",
    "    m = wt.watertap_setup(dynamic = False)\n",
    "    m = wt.case_study_trains.get_case_study(name = 'carlsbad', flow = 4.5833, m = m)\n",
    "\n",
    "    m.fs.tri_media_filtration.water_recovery.fix(value_change)\n",
    "\n",
    "    # set variable to MC value\n",
    "    wt.run_water_tap(m)\n",
    "    results_table = get_results_table(m, unit_process_name)\n",
    "    cost_range_list.append(results_table.total_up_cost.sum())\n"
   ]
  },
  {
   "cell_type": "code",
   "execution_count": null,
   "metadata": {},
   "outputs": [],
   "source": [
    "cost_range_list"
   ]
  },
  {
   "cell_type": "code",
   "execution_count": null,
   "metadata": {},
   "outputs": [],
   "source": []
  },
  {
   "cell_type": "code",
   "execution_count": null,
   "metadata": {},
   "outputs": [],
   "source": []
  },
  {
   "cell_type": "code",
   "execution_count": null,
   "metadata": {},
   "outputs": [],
   "source": []
  },
  {
   "cell_type": "code",
   "execution_count": null,
   "metadata": {},
   "outputs": [],
   "source": []
  },
  {
   "cell_type": "code",
   "execution_count": null,
   "metadata": {},
   "outputs": [],
   "source": []
  },
  {
   "cell_type": "code",
   "execution_count": null,
   "metadata": {},
   "outputs": [],
   "source": []
  },
  {
   "cell_type": "code",
   "execution_count": null,
   "metadata": {},
   "outputs": [],
   "source": []
  },
  {
   "cell_type": "code",
   "execution_count": null,
   "metadata": {},
   "outputs": [],
   "source": [
    "#### DO NOT USE THE BELOW ####"
   ]
  },
  {
   "cell_type": "code",
   "execution_count": null,
   "metadata": {},
   "outputs": [],
   "source": [
    "import time\n",
    "from multiprocessing import Pool\n",
    "import multiprocessing\n",
    "\n",
    "mu = 0.6\n",
    "sigma = .1\n",
    "num_reps = 50\n",
    "\n",
    "input_list = np.random.normal(mu,sigma, size = num_reps) #, sigma, num_reps).round(4)\n",
    "\n",
    "count, bins, ignored = plt.hist(input_list, 25, density=True)\n",
    "plt.plot(bins, 1/(sigma * np.sqrt(2 * np.pi)) * np.exp( - (bins - mu)**2 / (2 * sigma**2) ),\n",
    "          linewidth=2, color='r')\n",
    "plt.show()\n",
    "\n",
    "### INPUT TO MODEL LIST: ### CAN BE AUTOMATED FOR USER TO LABEL THE VARIABLE. TOOD ###\n",
    "no_of_proc = 4\n",
    "list_final = []\n",
    "for i in range(no_of_proc):\n",
    "    part2 = len(input_list) / no_of_proc\n",
    "    i2 = ((i+1)*part2)\n",
    "    list1 = input_list[int(i*part2):int(i2)]\n",
    "    list_final.append(list1)\n",
    "    \n",
    "    \n",
    "def monte_run(list_final):\n",
    "    print('goes in')\n",
    "\n",
    "    up_name = \"tri_media_filtration\" # which unit process it applies to. TODO hould be user input.\n",
    "    cost_range_list = []; #results will be inputted in this array\n",
    "\n",
    "    #for value_change in pct_to_target1: # cycles through each value from MC range\n",
    "    for value_change in list_final:\n",
    "\n",
    "        # create and build model\n",
    "        m = wt.watertap_setup(dynamic = False)\n",
    "        m = wt.case_study_trains.get_case_study(name = 'carlsbad', flow = 4.5833, m = m)\n",
    "\n",
    "        getattr(m.fs, up_name).water_recovery.fix(value_change)\n",
    "\n",
    "        # set variable to MC value\n",
    "        result = wt.run_water_tap(m)\n",
    "        results_table = get_results_table(m, unit_process_names)\n",
    "        cost_range_list.append(results_table.total_up_cost.sum())\n",
    "\n",
    "\n",
    "    return cost_range_list\n",
    "\n",
    "startTime = time.time()\n",
    "\n",
    "pool=Pool()\n",
    "dfs = pool.map(monte_run, list_final) #SomeClass().preprocess_data()\n",
    "\n",
    "executionTime = (time.time() - startTime)\n",
    "print('Execution time in seconds: ' + str(executionTime))"
   ]
  },
  {
   "cell_type": "code",
   "execution_count": null,
   "metadata": {},
   "outputs": [],
   "source": []
  },
  {
   "cell_type": "code",
   "execution_count": null,
   "metadata": {},
   "outputs": [],
   "source": []
  },
  {
   "cell_type": "code",
   "execution_count": null,
   "metadata": {},
   "outputs": [],
   "source": []
  },
  {
   "cell_type": "code",
   "execution_count": null,
   "metadata": {},
   "outputs": [],
   "source": []
  },
  {
   "cell_type": "code",
   "execution_count": null,
   "metadata": {},
   "outputs": [],
   "source": [
    "####TO DO LOAD AND SAVE!!"
   ]
  },
  {
   "cell_type": "code",
   "execution_count": null,
   "metadata": {},
   "outputs": [],
   "source": [
    "#### SAVE TRAIN ####\n",
    "# path = 'trains/Tutorial1_treatment_train_example.csv'\n",
    "# wt.save_train(T, path)"
   ]
  },
  {
   "cell_type": "code",
   "execution_count": null,
   "metadata": {},
   "outputs": [],
   "source": [
    "# #### LOAD TRAIN ####\n",
    "# path = 'trains/Tutorial1_treatment_train_example.csv'\n",
    "# TT = wt.load_train(path)"
   ]
  },
  {
   "cell_type": "code",
   "execution_count": null,
   "metadata": {},
   "outputs": [],
   "source": [
    "# wt.display.show_train(TT)"
   ]
  },
  {
   "cell_type": "code",
   "execution_count": null,
   "metadata": {},
   "outputs": [],
   "source": []
  },
  {
   "cell_type": "code",
   "execution_count": null,
   "metadata": {},
   "outputs": [],
   "source": []
  },
  {
   "cell_type": "code",
   "execution_count": null,
   "metadata": {},
   "outputs": [],
   "source": []
  },
  {
   "cell_type": "code",
   "execution_count": null,
   "metadata": {},
   "outputs": [],
   "source": []
  }
 ],
 "metadata": {
  "celltoolbar": "Raw Cell Format",
  "kernelspec": {
   "display_name": "Python 3",
   "language": "python",
   "name": "python3"
  },
  "language_info": {
   "codemirror_mode": {
    "name": "ipython",
    "version": 3
   },
   "file_extension": ".py",
   "mimetype": "text/x-python",
   "name": "python",
   "nbconvert_exporter": "python",
   "pygments_lexer": "ipython3",
   "version": "3.7.4"
  }
 },
 "nbformat": 4,
 "nbformat_minor": 2
}
