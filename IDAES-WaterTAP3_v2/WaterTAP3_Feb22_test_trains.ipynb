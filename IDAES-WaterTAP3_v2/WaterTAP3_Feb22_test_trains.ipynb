{
 "cells": [
  {
   "cell_type": "code",
   "execution_count": 6,
   "metadata": {},
   "outputs": [],
   "source": [
    "import watertap as wt\n",
    "import pandas as pd\n",
    "from pyomo.environ import value, Block\n",
    "from idaes.core import FlowsheetBlock"
   ]
  },
  {
   "cell_type": "code",
   "execution_count": 7,
   "metadata": {
    "scrolled": true
   },
   "outputs": [
    {
     "name": "stdout",
     "output_type": "stream",
     "text": [
      "Ashkelon\n",
      "sw_onshore_intake\n",
      "sulfuric_acid_addition\n",
      "ferric_chloride_addition\n",
      "chlorination\n",
      "coagulant_addition\n",
      "static_mixer\n",
      "tri_media_filtration\n",
      "ro_deep\n",
      "lime_softening\n",
      "chlorination_b\n",
      "caustic_soda_addition\n",
      "treated_storage\n",
      "municipal_drinking\n",
      "backwash_solids_handling\n",
      "surface_discharge\n",
      "degrees_of_freedom: 0\n",
      "1.023629644275828\n",
      "Carlsbad\n",
      "sw_onshore_intake\n",
      "coag_and_floc\n",
      "tri_media_filtration\n",
      "sulfuric_acid_addition\n",
      "sodium_bisulfite_addition\n",
      "cartridge_filtration\n",
      "ro_deep\n",
      "ro_deep_scnd_pass\n",
      "lime_softening\n",
      "co2_addition\n",
      "chlorination\n",
      "ammonia_addition\n",
      "treated_storage\n",
      "backwash_solids_handling\n",
      "surface_discharge\n",
      "municipal_drinking\n",
      "landfill\n",
      "degrees_of_freedom: 0\n",
      "1.5088367212018674\n",
      "Tampa_Bay\n",
      "sw_onshore_intake\n",
      "sulfuric_acid_addition\n",
      "ferric_chloride_addition\n",
      "chlorination\n",
      "coagulant_addition\n",
      "static_mixer\n",
      "tri_media_filtration\n",
      "cartridge_filtration\n",
      "ro_deep\n",
      "ro_deep_scnd_pass\n",
      "lime_softening\n",
      "chlorination_b\n",
      "caustic_soda_addition\n",
      "ammonia_addition\n",
      "treated_storage\n",
      "municipal_drinking\n",
      "backwash_solids_handling\n",
      "surface_discharge\n",
      "landfill\n",
      "degrees_of_freedom: 0\n",
      "1.3309896711280593\n"
     ]
    }
   ],
   "source": [
    "df_final = pd.DataFrame()\n",
    "for case_name in [\"Ashkelon\", \"Carlsbad\", \"Tampa_Bay\"]: #, \"Santa_Barbra\"]: #, \"Ashkelon\"]:\n",
    "\n",
    "    m = wt.watertap_setup(dynamic = False)\n",
    "\n",
    "    wt.case_study_trains.train = {\"case_study\": case_name,\n",
    "                                 \"reference\": \"NAWI\",\n",
    "                                 \"scenario\": \"Baseline\"}\n",
    "\n",
    "    # TODO LATER: how to make this sync with info in train input data. We might not need to do that.\n",
    "    #But, if the source water type is different to what is in the train (pfd dictionary), \n",
    "    #then we should updat the node name. If more than two sources - what to do? Needs to be\n",
    "    #based on pfd node!?\n",
    "\n",
    "    wt.case_study_trains.source_water = {\"case_study\": case_name, \n",
    "                                 \"reference\": \"NAWI\",\n",
    "                                 \"scenario\": \"Baseline\",\n",
    "                                 \"water_type\": \"Seawater\"}\n",
    "    \n",
    "    m = wt.case_study_trains.get_case_study(m = m) # flow is set as case study flow unless defined.\n",
    "    \n",
    "      \n",
    "    wt.run_water_tap(m = m, solver_results = False, print_model_results = False)\n",
    "    print(value(m.fs.costing.LCOW))\n",
    "    df = get_results_table()\n",
    "    df[\"case_study\"] = case_name\n",
    "    df_final = pd.concat([df_final,df])\n",
    "    "
   ]
  },
  {
   "cell_type": "code",
   "execution_count": null,
   "metadata": {},
   "outputs": [],
   "source": [
    "1.28 C 1.5\n",
    "1.1 Ash  1.02\n",
    "1.715 TB 1.715 1.3"
   ]
  },
  {
   "cell_type": "code",
   "execution_count": null,
   "metadata": {},
   "outputs": [],
   "source": []
  },
  {
   "cell_type": "code",
   "execution_count": null,
   "metadata": {},
   "outputs": [],
   "source": [
    "m.fs.costin"
   ]
  },
  {
   "cell_type": "code",
   "execution_count": 8,
   "metadata": {},
   "outputs": [],
   "source": [
    "df_final.to_csv(\"tmp/test_compare.csv\")"
   ]
  },
  {
   "cell_type": "code",
   "execution_count": 30,
   "metadata": {},
   "outputs": [
    {
     "name": "stdout",
     "output_type": "stream",
     "text": [
      "ERROR: evaluating object as numeric value: fs.costing.LCOW\n",
      "        (object: <class 'pyomo.core.base.expression.SimpleExpression'>)\n",
      "    float division by zero\n"
     ]
    },
    {
     "ename": "ZeroDivisionError",
     "evalue": "float division by zero",
     "output_type": "error",
     "traceback": [
      "\u001b[0;31m---------------------------------------------------------------------------\u001b[0m",
      "\u001b[0;31mZeroDivisionError\u001b[0m                         Traceback (most recent call last)",
      "\u001b[0;32m<ipython-input-30-3a96912a2157>\u001b[0m in \u001b[0;36m<module>\u001b[0;34m\u001b[0m\n\u001b[0;32m----> 1\u001b[0;31m \u001b[0mvalue\u001b[0m\u001b[0;34m(\u001b[0m\u001b[0mm\u001b[0m\u001b[0;34m.\u001b[0m\u001b[0mfs\u001b[0m\u001b[0;34m.\u001b[0m\u001b[0mcosting\u001b[0m\u001b[0;34m.\u001b[0m\u001b[0mLCOW\u001b[0m\u001b[0;34m)\u001b[0m\u001b[0;34m\u001b[0m\u001b[0;34m\u001b[0m\u001b[0m\n\u001b[0m",
      "\u001b[0;32mpyomo/core/expr/numvalue.pyx\u001b[0m in \u001b[0;36mpyomo.core.expr.numvalue.value\u001b[0;34m()\u001b[0m\n",
      "\u001b[0;32mpyomo/core/expr/numvalue.pyx\u001b[0m in \u001b[0;36mpyomo.core.expr.numvalue.value\u001b[0;34m()\u001b[0m\n",
      "\u001b[0;32m~/miniconda3/envs/tap-idaes3/lib/python3.7/site-packages/pyomo/core/base/expression.py\u001b[0m in \u001b[0;36m__call__\u001b[0;34m(self, exception)\u001b[0m\n\u001b[1;32m     52\u001b[0m         \u001b[0;32mif\u001b[0m \u001b[0mself\u001b[0m\u001b[0;34m.\u001b[0m\u001b[0mexpr\u001b[0m \u001b[0;32mis\u001b[0m \u001b[0;32mNone\u001b[0m\u001b[0;34m:\u001b[0m\u001b[0;34m\u001b[0m\u001b[0;34m\u001b[0m\u001b[0m\n\u001b[1;32m     53\u001b[0m             \u001b[0;32mreturn\u001b[0m \u001b[0;32mNone\u001b[0m\u001b[0;34m\u001b[0m\u001b[0;34m\u001b[0m\u001b[0m\n\u001b[0;32m---> 54\u001b[0;31m         \u001b[0;32mreturn\u001b[0m \u001b[0mself\u001b[0m\u001b[0;34m.\u001b[0m\u001b[0mexpr\u001b[0m\u001b[0;34m(\u001b[0m\u001b[0mexception\u001b[0m\u001b[0;34m=\u001b[0m\u001b[0mexception\u001b[0m\u001b[0;34m)\u001b[0m\u001b[0;34m\u001b[0m\u001b[0;34m\u001b[0m\u001b[0m\n\u001b[0m\u001b[1;32m     55\u001b[0m \u001b[0;34m\u001b[0m\u001b[0m\n\u001b[1;32m     56\u001b[0m     \u001b[0;32mdef\u001b[0m \u001b[0mis_named_expression_type\u001b[0m\u001b[0;34m(\u001b[0m\u001b[0mself\u001b[0m\u001b[0;34m)\u001b[0m\u001b[0;34m:\u001b[0m\u001b[0;34m\u001b[0m\u001b[0;34m\u001b[0m\u001b[0m\n",
      "\u001b[0;32mpyomo/core/expr/numeric_expr.pyx\u001b[0m in \u001b[0;36mpyomo.core.expr.numeric_expr.ExpressionBase.__call__\u001b[0;34m()\u001b[0m\n",
      "\u001b[0;32m~/miniconda3/envs/tap-idaes3/lib/python3.7/site-packages/pyomo/core/expr/visitor.py\u001b[0m in \u001b[0;36mevaluate_expression\u001b[0;34m(exp, exception, constant)\u001b[0m\n\u001b[1;32m   1055\u001b[0m         \u001b[0mvisitor\u001b[0m \u001b[0;34m=\u001b[0m \u001b[0m_EvaluationVisitor\u001b[0m\u001b[0;34m(\u001b[0m\u001b[0;34m)\u001b[0m\u001b[0;34m\u001b[0m\u001b[0;34m\u001b[0m\u001b[0m\n\u001b[1;32m   1056\u001b[0m     \u001b[0;32mtry\u001b[0m\u001b[0;34m:\u001b[0m\u001b[0;34m\u001b[0m\u001b[0;34m\u001b[0m\u001b[0m\n\u001b[0;32m-> 1057\u001b[0;31m         \u001b[0;32mreturn\u001b[0m \u001b[0mvisitor\u001b[0m\u001b[0;34m.\u001b[0m\u001b[0mdfs_postorder_stack\u001b[0m\u001b[0;34m(\u001b[0m\u001b[0mexp\u001b[0m\u001b[0;34m)\u001b[0m\u001b[0;34m\u001b[0m\u001b[0;34m\u001b[0m\u001b[0m\n\u001b[0m\u001b[1;32m   1058\u001b[0m \u001b[0;34m\u001b[0m\u001b[0m\n\u001b[1;32m   1059\u001b[0m     except ( TemplateExpressionError, ValueError, TypeError,\n",
      "\u001b[0;32m~/miniconda3/envs/tap-idaes3/lib/python3.7/site-packages/pyomo/core/expr/visitor.py\u001b[0m in \u001b[0;36mdfs_postorder_stack\u001b[0;34m(self, node)\u001b[0m\n\u001b[1;32m    602\u001b[0m             \u001b[0;31m# Process the current node\u001b[0m\u001b[0;34m\u001b[0m\u001b[0;34m\u001b[0m\u001b[0;34m\u001b[0m\u001b[0m\n\u001b[1;32m    603\u001b[0m             \u001b[0;31m#\u001b[0m\u001b[0;34m\u001b[0m\u001b[0;34m\u001b[0m\u001b[0;34m\u001b[0m\u001b[0m\n\u001b[0;32m--> 604\u001b[0;31m             \u001b[0mans\u001b[0m \u001b[0;34m=\u001b[0m \u001b[0mself\u001b[0m\u001b[0;34m.\u001b[0m\u001b[0mvisit\u001b[0m\u001b[0;34m(\u001b[0m\u001b[0m_obj\u001b[0m\u001b[0;34m,\u001b[0m \u001b[0m_result\u001b[0m\u001b[0;34m)\u001b[0m\u001b[0;34m\u001b[0m\u001b[0;34m\u001b[0m\u001b[0m\n\u001b[0m\u001b[1;32m    605\u001b[0m             \u001b[0;32mif\u001b[0m \u001b[0m_stack\u001b[0m\u001b[0;34m:\u001b[0m\u001b[0;34m\u001b[0m\u001b[0;34m\u001b[0m\u001b[0m\n\u001b[1;32m    606\u001b[0m                 \u001b[0;31m#\u001b[0m\u001b[0;34m\u001b[0m\u001b[0;34m\u001b[0m\u001b[0;34m\u001b[0m\u001b[0m\n",
      "\u001b[0;32m~/miniconda3/envs/tap-idaes3/lib/python3.7/site-packages/pyomo/core/expr/visitor.py\u001b[0m in \u001b[0;36mvisit\u001b[0;34m(self, node, values)\u001b[0m\n\u001b[1;32m    948\u001b[0m     \u001b[0;32mdef\u001b[0m \u001b[0mvisit\u001b[0m\u001b[0;34m(\u001b[0m\u001b[0mself\u001b[0m\u001b[0;34m,\u001b[0m \u001b[0mnode\u001b[0m\u001b[0;34m,\u001b[0m \u001b[0mvalues\u001b[0m\u001b[0;34m)\u001b[0m\u001b[0;34m:\u001b[0m\u001b[0;34m\u001b[0m\u001b[0;34m\u001b[0m\u001b[0m\n\u001b[1;32m    949\u001b[0m         \u001b[0;34m\"\"\" Visit nodes that have been expanded \"\"\"\u001b[0m\u001b[0;34m\u001b[0m\u001b[0;34m\u001b[0m\u001b[0m\n\u001b[0;32m--> 950\u001b[0;31m         \u001b[0;32mreturn\u001b[0m \u001b[0mnode\u001b[0m\u001b[0;34m.\u001b[0m\u001b[0m_apply_operation\u001b[0m\u001b[0;34m(\u001b[0m\u001b[0mvalues\u001b[0m\u001b[0;34m)\u001b[0m\u001b[0;34m\u001b[0m\u001b[0;34m\u001b[0m\u001b[0m\n\u001b[0m\u001b[1;32m    951\u001b[0m \u001b[0;34m\u001b[0m\u001b[0m\n\u001b[1;32m    952\u001b[0m     \u001b[0;32mdef\u001b[0m \u001b[0mvisiting_potential_leaf\u001b[0m\u001b[0;34m(\u001b[0m\u001b[0mself\u001b[0m\u001b[0;34m,\u001b[0m \u001b[0mnode\u001b[0m\u001b[0;34m)\u001b[0m\u001b[0;34m:\u001b[0m\u001b[0;34m\u001b[0m\u001b[0;34m\u001b[0m\u001b[0m\n",
      "\u001b[0;32mpyomo/core/expr/numeric_expr.pyx\u001b[0m in \u001b[0;36mpyomo.core.expr.numeric_expr.DivisionExpression._apply_operation\u001b[0;34m()\u001b[0m\n",
      "\u001b[0;31mZeroDivisionError\u001b[0m: float division by zero"
     ]
    }
   ],
   "source": [
    "value(m.fs.costing.LCOW)"
   ]
  },
  {
   "cell_type": "code",
   "execution_count": null,
   "metadata": {},
   "outputs": [],
   "source": []
  },
  {
   "cell_type": "code",
   "execution_count": null,
   "metadata": {},
   "outputs": [],
   "source": []
  },
  {
   "cell_type": "code",
   "execution_count": 2,
   "metadata": {},
   "outputs": [],
   "source": [
    "m = wt.watertap_setup(dynamic = False)"
   ]
  },
  {
   "cell_type": "code",
   "execution_count": 3,
   "metadata": {},
   "outputs": [],
   "source": [
    "wt.case_study_trains.train = {\"case_study\": \"Irwin\",\n",
    "                             \"reference\": \"NAWI\",\n",
    "                             \"scenario\": \"Baseline\"}\n",
    "\n",
    "# TODO LATER: how to make this sync with info in train input data. We might not need to do that.\n",
    "#But, if the source water type is different to what is in the train (pfd dictionary), \n",
    "#then we should updat the node name. If more than two sources - what to do? Needs to be\n",
    "#based on pfd node!?\n",
    "\n",
    "wt.case_study_trains.source_water = {\"case_study\": \"Irwin\", \n",
    "                             \"reference\": \"NAWI\",\n",
    "                             \"scenario\": \"Baseline\",\n",
    "                             \"water_type\": \"Brackish\"}"
   ]
  },
  {
   "cell_type": "code",
   "execution_count": 4,
   "metadata": {
    "scrolled": true
   },
   "outputs": [
    {
     "name": "stdout",
     "output_type": "stream",
     "text": [
      "Irwin\n",
      "well_field\n",
      "treated_storage\n",
      "media_filtration\n",
      "hydrochloric_acid_addition\n",
      "anti_scalant_addition\n",
      "sodium_bisulfite_addition\n",
      "electrodialysis_reversal\n",
      "treated_storage_b\n",
      "irwin_brine_management\n",
      "ro_deep\n",
      "municipal_drinking\n",
      "deep_well_injection\n",
      "surface_discharge\n"
     ]
    }
   ],
   "source": [
    "m = wt.case_study_trains.get_case_study(m = m) # flow is set as case study flow unless defined."
   ]
  },
  {
   "cell_type": "code",
   "execution_count": 5,
   "metadata": {},
   "outputs": [
    {
     "data": {
      "text/html": [
       "\n",
       "        <iframe\n",
       "            width=\"100%\"\n",
       "            height=\"500px\"\n",
       "            src=\"tmp/example.html\"\n",
       "            frameborder=\"0\"\n",
       "            allowfullscreen\n",
       "        ></iframe>\n",
       "        "
      ],
      "text/plain": [
       "<IPython.lib.display.IFrame at 0x7f9439c57350>"
      ]
     },
     "execution_count": 5,
     "metadata": {},
     "output_type": "execute_result"
    }
   ],
   "source": [
    "wt.display.show_train2(model_name=m)"
   ]
  },
  {
   "cell_type": "code",
   "execution_count": null,
   "metadata": {},
   "outputs": [],
   "source": []
  },
  {
   "cell_type": "code",
   "execution_count": 6,
   "metadata": {
    "scrolled": true
   },
   "outputs": [
    {
     "name": "stdout",
     "output_type": "stream",
     "text": [
      "degrees_of_freedom: 0\n",
      "----------------------------------------------------------------------\n",
      "fs.well_field\n",
      "inlet : Size=1\n",
      "    Key  : Name        : Value\n",
      "    None :   conc_mass : {(0.0, 'bicarbonate_alkalinity_as_caco3'): 0.1786, (0.0, 'calcium'): 0.00475, (0.0, 'chloride'): 0.1046, (0.0, 'fluoride'): 0.0051, (0.0, 'magnesium'): 0.0042, (0.0, 'potassium'): 0.0089, (0.0, 'sodium'): 0.1678, (0.0, 'strontium'): 0.0004, (0.0, 'sulfate'): 0.12390000000000001, (0.0, 'tds'): 0.69}\n",
      "         :    flow_vol : {0.0: 0.285}\n",
      "         :    pressure : {0.0: 199999.9999}\n",
      "         : temperature : {0.0: 300.0}\n",
      "outlet : Size=1\n",
      "    Key  : Name        : Value\n",
      "    None :   conc_mass : {(0.0, 'bicarbonate_alkalinity_as_caco3'): 0.1786, (0.0, 'calcium'): 0.004750000000000001, (0.0, 'chloride'): 0.1046, (0.0, 'fluoride'): 0.0051, (0.0, 'magnesium'): 0.004200000000000001, (0.0, 'potassium'): 0.0089, (0.0, 'sodium'): 0.1678, (0.0, 'strontium'): 0.00039999999999999996, (0.0, 'sulfate'): 0.12390000000000001, (0.0, 'tds'): 0.69}\n",
      "         :    flow_vol : {0.0: 0.285}\n",
      "         :    pressure : {0.0: 199999.9998}\n",
      "         : temperature : {0.0: 300.0}\n",
      "waste : Size=1\n",
      "    Key  : Name        : Value\n",
      "    None :   conc_mass : {(0.0, 'bicarbonate_alkalinity_as_caco3'): 9.426055656810511e-20, (0.0, 'calcium'): 3.1263372654152558e-21, (0.0, 'chloride'): 6.356658778942082e-20, (0.0, 'fluoride'): 2.6476246307140397e-21, (0.0, 'magnesium'): 2.631756082942161e-21, (0.0, 'potassium'): 5.504502785807017e-21, (0.0, 'sodium'): 9.710627192145868e-20, (0.0, 'strontium'): 2.7632739073163343e-22, (0.0, 'sulfate'): 8.085551486229081e-20, (0.0, 'tds'): 1.8474730141897632e-15}\n",
      "         :    flow_vol : {0.0: 4.392411479919839e-20}\n",
      "         :    pressure : {0.0: 199999.9998}\n",
      "         : temperature : {0.0: 300.0}\n",
      "total_cap_investment: 2.9232665231373476\n",
      "----------------------------------------------------------------------\n",
      "----------------------------------------------------------------------\n",
      "fs.treated_storage\n",
      "inlet : Size=1\n",
      "    Key  : Name        : Value\n",
      "    None :   conc_mass : {(0.0, 'bicarbonate_alkalinity_as_caco3'): 0.1786, (0.0, 'calcium'): 0.004750000000000001, (0.0, 'chloride'): 0.1046, (0.0, 'fluoride'): 0.0051, (0.0, 'magnesium'): 0.004200000000000001, (0.0, 'potassium'): 0.0089, (0.0, 'sodium'): 0.1678, (0.0, 'strontium'): 0.00039999999999999996, (0.0, 'sulfate'): 0.12390000000000001, (0.0, 'tds'): 0.69}\n",
      "         :    flow_vol : {0.0: 0.2849999999998009}\n",
      "         :    pressure : {0.0: 199999.9998}\n",
      "         : temperature : {0.0: 300.0}\n",
      "outlet : Size=1\n",
      "    Key  : Name        : Value\n",
      "    None :   conc_mass : {(0.0, 'bicarbonate_alkalinity_as_caco3'): 0.17859999972869772, (0.0, 'calcium'): 0.004749999992784477, (0.0, 'chloride'): 0.10459999984110566, (0.0, 'fluoride'): 0.00509999999225263, (0.0, 'magnesium'): 0.004199999993619774, (0.0, 'potassium'): 0.008899999986480176, (0.0, 'sodium'): 0.16779999974510224, (0.0, 'strontium'): 0.0003999999993923697, (0.0, 'sulfate'): 0.12389999981179256, (0.0, 'tds'): 0.6899999989515435}\n",
      "         :    flow_vol : {0.0: 0.28500000043279167}\n",
      "         :    pressure : {0.0: 199999.9997}\n",
      "         : temperature : {0.0: 300.0}\n",
      "waste : Size=1\n",
      "    Key  : Name        : Value\n",
      "    None :   conc_mass : {(0.0, 'bicarbonate_alkalinity_as_caco3'): 3.2877854247270664e-09, (0.0, 'calcium'): 1.0882464482278586e-10, (0.0, 'chloride'): 2.220189149552082e-09, (0.0, 'fluoride'): 9.225809040238667e-11, (0.0, 'magnesium'): 9.170423356959067e-11, (0.0, 'potassium'): 1.9188529590575657e-10, (0.0, 'sodium'): 3.388959903989168e-09, (0.0, 'strontium'): 9.563713660759557e-12, (0.0, 'sulfate'): 2.8186035920022674e-09, (0.0, 'tds'): 7.054586048173931e-05}\n",
      "         :    flow_vol : {0.0: -8.658650559172579e-10}\n",
      "         :    pressure : {0.0: 199999.9997}\n",
      "         : temperature : {0.0: 300.0}\n",
      "total_cap_investment: 1.4955836384940628\n",
      "----------------------------------------------------------------------\n",
      "----------------------------------------------------------------------\n",
      "fs.media_filtration\n",
      "inlet : Size=1\n",
      "    Key  : Name        : Value\n",
      "    None :   conc_mass : {(0.0, 'bicarbonate_alkalinity_as_caco3'): 0.17859999972869772, (0.0, 'calcium'): 0.004749999992784477, (0.0, 'chloride'): 0.10459999984110566, (0.0, 'fluoride'): 0.00509999999225263, (0.0, 'magnesium'): 0.004199999993619774, (0.0, 'potassium'): 0.008899999986480176, (0.0, 'sodium'): 0.16779999974510224, (0.0, 'strontium'): 0.0003999999993923697, (0.0, 'sulfate'): 0.12389999981179256, (0.0, 'tds'): 0.6899999989515435}\n",
      "         :    flow_vol : {0.0: 0.28500000043288565}\n",
      "         :    pressure : {0.0: 199999.9997}\n",
      "         : temperature : {0.0: 300.0}\n",
      "outlet : Size=1\n",
      "    Key  : Name        : Value\n",
      "    None :   conc_mass : {(0.0, 'bicarbonate_alkalinity_as_caco3'): 0.1785999994570928, (0.0, 'calcium'): 0.00474999998556094, (0.0, 'chloride'): 0.10459999968203597, (0.0, 'fluoride'): 0.005099999984496832, (0.0, 'magnesium'): 0.004199999987232646, (0.0, 'potassium'): 0.008899999972945547, (0.0, 'sodium'): 0.16779999948992144, (0.0, 'strontium'): 0.0003999999987840718, (0.0, 'sulfate'): 0.12389999962337223, (0.0, 'tds'): 0.6899999979007813}\n",
      "         :    flow_vol : {0.0: 0.28500000086629756}\n",
      "         :    pressure : {0.0: 199999.99959999998}\n",
      "         : temperature : {0.0: 300.0}\n",
      "waste : Size=1\n",
      "    Key  : Name        : Value\n",
      "    None :   conc_mass : {(0.0, 'bicarbonate_alkalinity_as_caco3'): -2.743837610424775e-08, (0.0, 'calcium'): -1.2443395403600091e-09, (0.0, 'chloride'): 1.721095336268077e-08, (0.0, 'fluoride'): -1.0538485491969753e-09, (0.0, 'magnesium'): -1.0475338618091255e-09, (0.0, 'potassium'): -2.1908356869394163e-09, (0.0, 'sodium'): -5.227625355955507e-09, (0.0, 'strontium'): -1.101143125881516e-10, (0.0, 'sulfate'): -4.317829978077833e-08, (0.0, 'tds'): -0.00030147929563461613}\n",
      "         :    flow_vol : {0.0: -8.66954121698565e-10}\n",
      "         :    pressure : {0.0: 199999.99959999998}\n",
      "         : temperature : {0.0: 300.0}\n",
      "total_cap_investment: 0.9981759090418564\n",
      "----------------------------------------------------------------------\n",
      "----------------------------------------------------------------------\n",
      "fs.hydrochloric_acid_addition\n",
      "inlet : Size=1\n",
      "    Key  : Name        : Value\n",
      "    None :   conc_mass : {(0.0, 'bicarbonate_alkalinity_as_caco3'): 0.1785999994570928, (0.0, 'calcium'): 0.00474999998556094, (0.0, 'chloride'): 0.10459999968203597, (0.0, 'fluoride'): 0.005099999984496832, (0.0, 'magnesium'): 0.004199999987232646, (0.0, 'potassium'): 0.008899999972945547, (0.0, 'sodium'): 0.16779999948992144, (0.0, 'strontium'): 0.0003999999987840718, (0.0, 'sulfate'): 0.12389999962337223, (0.0, 'tds'): 0.6899999979007813}\n",
      "         :    flow_vol : {0.0: 0.28500000086632865}\n",
      "         :    pressure : {0.0: 199999.99959999998}\n",
      "         : temperature : {0.0: 300.0}\n",
      "outlet : Size=1\n",
      "    Key  : Name        : Value\n",
      "    None :   conc_mass : {(0.0, 'bicarbonate_alkalinity_as_caco3'): 0.17859999918570105, (0.0, 'calcium'): 0.0047499999783430745, (0.0, 'chloride'): 0.10459999952309099, (0.0, 'fluoride'): 0.005099999976747125, (0.0, 'magnesium'): 0.004199999980850535, (0.0, 'potassium'): 0.008899999959421548, (0.0, 'sodium'): 0.16779999923494088, (0.0, 'strontium'): 0.00039999999817625156, (0.0, 'sulfate'): 0.12389999943509991, (0.0, 'tds'): 0.6899999968523538}\n",
      "         :    flow_vol : {0.0: 0.2850000012994005}\n",
      "         :    pressure : {0.0: 199999.9995}\n",
      "         : temperature : {0.0: 300.0}\n",
      "waste : Size=1\n",
      "    Key  : Name        : Value\n",
      "    None :   conc_mass : {(0.0, 'bicarbonate_alkalinity_as_caco3'): -2.4927153146388227e-09, (0.0, 'calcium'): -8.271362931712136e-11, (0.0, 'chloride'): -1.6801567824773063e-09, (0.0, 'fluoride'): -7.001672042812108e-11, (0.0, 'magnesium'): -6.959711297695879e-11, (0.0, 'potassium'): -1.4557329856056706e-10, (0.0, 'sodium'): -2.5674338496411158e-09, (0.0, 'strontium'): -7.30252066411931e-12, (0.0, 'sulfate'): -2.1386810742909873e-09, (0.0, 'tds'): -4.7120081205303945e-05}\n",
      "         :    flow_vol : {0.0: -8.659129467510305e-10}\n",
      "         :    pressure : {0.0: 199999.9995}\n",
      "         : temperature : {0.0: 300.0}\n",
      "total_cap_investment: 0.0790705550749468\n",
      "----------------------------------------------------------------------\n",
      "----------------------------------------------------------------------\n",
      "fs.anti_scalant_addition\n",
      "inlet : Size=1\n",
      "    Key  : Name        : Value\n",
      "    None :   conc_mass : {(0.0, 'bicarbonate_alkalinity_as_caco3'): 0.17859999918570105, (0.0, 'calcium'): 0.0047499999783430745, (0.0, 'chloride'): 0.10459999952309099, (0.0, 'fluoride'): 0.005099999976747125, (0.0, 'magnesium'): 0.004199999980850535, (0.0, 'potassium'): 0.008899999959421548, (0.0, 'sodium'): 0.16779999923494088, (0.0, 'strontium'): 0.00039999999817625156, (0.0, 'sulfate'): 0.12389999943509991, (0.0, 'tds'): 0.6899999968523538}\n",
      "         :    flow_vol : {0.0: 0.2850000012993065}\n",
      "         :    pressure : {0.0: 199999.9995}\n",
      "         : temperature : {0.0: 300.0}\n",
      "outlet : Size=1\n",
      "    Key  : Name        : Value\n",
      "    None :   conc_mass : {(0.0, 'bicarbonate_alkalinity_as_caco3'): 0.17859999890175754, (0.0, 'calcium'): 0.004749999970791385, (0.0, 'chloride'): 0.10459999935679484, (0.0, 'fluoride'): 0.0050999999686389946, (0.0, 'magnesium'): 0.004199999974173251, (0.0, 'potassium'): 0.008899999945272066, (0.0, 'sodium'): 0.16779999896816747, (0.0, 'strontium'): 0.00039999999754031983, (0.0, 'sulfate'): 0.12389999923812005, (0.0, 'tds'): 0.6899999957586577}\n",
      "         :    flow_vol : {0.0: 0.2850000017524079}\n",
      "         :    pressure : {0.0: 199999.9994}\n",
      "         : temperature : {0.0: 300.0}\n",
      "waste : Size=1\n",
      "    Key  : Name        : Value\n",
      "    None :   conc_mass : {(0.0, 'bicarbonate_alkalinity_as_caco3'): 2.789379538172727e-11, (0.0, 'calcium'): 2.705348335481228e-12, (0.0, 'chloride'): -6.499423299880206e-12, (0.0, 'fluoride'): 1.4192647505632313e-12, (0.0, 'magnesium'): 1.4234838826361482e-12, (0.0, 'potassium'): 2.4600915497827907e-12, (0.0, 'sodium'): 1.3293049457335373e-11, (0.0, 'strontium'): 5.614306696981542e-13, (0.0, 'sulfate'): 3.750997962405877e-11, (0.0, 'tds'): 0.001939420306817722}\n",
      "         :    flow_vol : {0.0: -9.061744294831408e-10}\n",
      "         :    pressure : {0.0: 199999.9994}\n",
      "         : temperature : {0.0: 300.0}\n",
      "total_cap_investment: 0.05152385550835519\n",
      "----------------------------------------------------------------------\n",
      "----------------------------------------------------------------------\n",
      "fs.sodium_bisulfite_addition\n",
      "inlet : Size=1\n",
      "    Key  : Name        : Value\n",
      "    None :   conc_mass : {(0.0, 'bicarbonate_alkalinity_as_caco3'): 0.17859999890175754, (0.0, 'calcium'): 0.004749999970791385, (0.0, 'chloride'): 0.10459999935679484, (0.0, 'fluoride'): 0.0050999999686389946, (0.0, 'magnesium'): 0.004199999974173251, (0.0, 'potassium'): 0.008899999945272066, (0.0, 'sodium'): 0.16779999896816747, (0.0, 'strontium'): 0.00039999999754031983, (0.0, 'sulfate'): 0.12389999923812005, (0.0, 'tds'): 0.6899999957586577}\n",
      "         :    flow_vol : {0.0: 0.2850000017523774}\n",
      "         :    pressure : {0.0: 199999.9994}\n",
      "         : temperature : {0.0: 300.0}\n",
      "outlet : Size=1\n",
      "    Key  : Name        : Value\n",
      "    None :   conc_mass : {(0.0, 'bicarbonate_alkalinity_as_caco3'): 0.17859999863044418, (0.0, 'calcium'): 0.004749999963575786, (0.0, 'chloride'): 0.10459999919789874, (0.0, 'fluoride'): 0.005099999960891705, (0.0, 'magnesium'): 0.004199999967792698, (0.0, 'potassium'): 0.008899999931752665, (0.0, 'sodium'): 0.16779999871324686, (0.0, 'strontium'): 0.00039999999693267785, (0.0, 'sulfate'): 0.12389999904989976, (0.0, 'tds'): 0.6899999947104853}\n",
      "         :    flow_vol : {0.0: 0.2850000021853968}\n",
      "         :    pressure : {0.0: 199999.9993}\n",
      "         : temperature : {0.0: 300.0}\n",
      "waste : Size=1\n",
      "    Key  : Name        : Value\n",
      "    None :   conc_mass : {(0.0, 'bicarbonate_alkalinity_as_caco3'): -9.290319667618074e-10, (0.0, 'calcium'): -3.080887771602994e-11, (0.0, 'chloride'): -6.265110433718622e-10, (0.0, 'fluoride'): -2.609066038934779e-11, (0.0, 'magnesium'): -2.5934260224743594e-11, (0.0, 'potassium'): -5.424819708025903e-11, (0.0, 'sodium'): -9.570798653696983e-10, (0.0, 'strontium'): -2.719035802068336e-12, (0.0, 'sulfate'): -7.96911594440514e-10, (0.0, 'tds'): -1.8208790355718656e-05}\n",
      "         :    flow_vol : {0.0: -8.659573481710343e-10}\n",
      "         :    pressure : {0.0: 199999.9993}\n",
      "         : temperature : {0.0: 300.0}\n",
      "total_cap_investment: 0.07939986881219514\n",
      "----------------------------------------------------------------------\n",
      "----------------------------------------------------------------------\n",
      "fs.electrodialysis_reversal\n",
      "inlet : Size=1\n",
      "    Key  : Name        : Value\n",
      "    None :   conc_mass : {(0.0, 'bicarbonate_alkalinity_as_caco3'): 0.17859999863044418, (0.0, 'calcium'): 0.004749999963575786, (0.0, 'chloride'): 0.10459999919789874, (0.0, 'fluoride'): 0.005099999960891705, (0.0, 'magnesium'): 0.004199999967792698, (0.0, 'potassium'): 0.008899999931752665, (0.0, 'sodium'): 0.16779999871324686, (0.0, 'strontium'): 0.00039999999693267785, (0.0, 'sulfate'): 0.12389999904989976, (0.0, 'tds'): 0.6899999947104853}\n",
      "         :    flow_vol : {0.0: 0.2850000021853968}\n",
      "         :    pressure : {0.0: 199999.9993}\n",
      "         : temperature : {0.0: 300.0}\n",
      "outlet : Size=1\n",
      "    Key  : Name        : Value\n",
      "    None :   conc_mass : {(0.0, 'bicarbonate_alkalinity_as_caco3'): 0.03288474035994243, (0.0, 'calcium'): 0.00037492353245660066, (0.0, 'chloride'): 0.012372476571067622, (0.0, 'fluoride'): 0.0009767744661368972, (0.0, 'magnesium'): 0.00043412198494968294, (0.0, 'potassium'): 0.000976774466136946, (0.0, 'sodium'): 0.02376817867599589, (0.0, 'strontium'): 2.170609924748632e-05, (0.0, 'sulfate'): 0.010310397142556197, (0.0, 'tds'): 0.14326025503374523}\n",
      "         :    flow_vol : {0.0: 0.2625990020136246}\n",
      "         :    pressure : {0.0: 199999.9992}\n",
      "         : temperature : {0.0: 300.0}\n",
      "waste : Size=1\n",
      "    Key  : Name        : Value\n",
      "    None :   conc_mass : {(0.0, 'bicarbonate_alkalinity_as_caco3'): 1.8867684333688717, (0.0, 'calcium'): 0.05603747354669564, (0.0, 'chloride'): 1.1857506270396576, (0.0, 'fluoride'): 0.0534351140940607, (0.0, 'magnesium'): 0.04834605560890665, (0.0, 'potassium'): 0.10178116970297821, (0.0, 'sodium'): 1.8562340824578163, (0.0, 'strontium'): 0.004834605560891148, (0.0, 'sulfate'): 1.4554707267525262, (0.0, 'tds'): 7.099236586798892}\n",
      "         :    flow_vol : {0.0: 0.02240100017177217}\n",
      "         :    pressure : {0.0: 199999.9992}\n",
      "         : temperature : {0.0: 300.0}\n",
      "total_cap_investment: 37.626678971782766\n",
      "----------------------------------------------------------------------\n",
      "----------------------------------------------------------------------\n",
      "fs.treated_storage_b\n",
      "inlet : Size=1\n",
      "    Key  : Name        : Value\n",
      "    None :   conc_mass : {(0.0, 'bicarbonate_alkalinity_as_caco3'): 0.03423239118343098, (0.0, 'calcium'): 0.00045802980046668717, (0.0, 'chloride'): 0.013813201173569179, (0.0, 'fluoride'): 0.0010116876694683363, (0.0, 'magnesium'): 0.0004978993477338521, (0.0, 'potassium'): 0.0011065442853640927, (0.0, 'sodium'): 0.025708584373193875, (0.0, 'strontium'): 2.9637798181473293e-05, (0.0, 'sulfate'): 0.012427948264969272, (0.0, 'tds'): 0.14693304668323776}\n",
      "         :    flow_vol : {0.0: 0.2828484202654112}\n",
      "         :    pressure : {0.0: 199999.99899999998}\n",
      "         : temperature : {0.0: 299.9999}\n",
      "outlet : Size=1\n",
      "    Key  : Name        : Value\n",
      "    None :   conc_mass : {(0.0, 'bicarbonate_alkalinity_as_caco3'): 0.034232391131012646, (0.0, 'calcium'): 0.0004580297997653271, (0.0, 'chloride'): 0.013813201152420676, (0.0, 'fluoride'): 0.0010116876679190018, (0.0, 'magnesium'): 0.000497899346971445, (0.0, 'potassium'): 0.0011065442836697633, (0.0, 'sodium'): 0.025708584333822122, (0.0, 'strontium'): 2.9637798136093587e-05, (0.0, 'sulfate'): 0.012427948245935275, (0.0, 'tds'): 0.14693304645824853}\n",
      "         :    flow_vol : {0.0: 0.2828484206986928}\n",
      "         :    pressure : {0.0: 199999.9989}\n",
      "         : temperature : {0.0: 299.9999}\n",
      "waste : Size=1\n",
      "    Key  : Name        : Value\n",
      "    None :   conc_mass : {(0.0, 'bicarbonate_alkalinity_as_caco3'): 4.087040795717032e-16, (0.0, 'calcium'): 5.806155649420024e-16, (0.0, 'chloride'): 5.635806155746086e-16, (0.0, 'fluoride'): 5.80759185752532e-16, (0.0, 'magnesium'): 5.807606013516695e-16, (0.0, 'potassium'): 5.798822501647824e-16, (0.0, 'sodium'): 5.496744004148645e-16, (0.0, 'strontium'): 5.815009198425317e-16, (0.0, 'sulfate'): 5.586020981031662e-16, (0.0, 'tds'): 8.619173946588683e-14}\n",
      "         :    flow_vol : {0.0: -8.661228611318997e-10}\n",
      "         :    pressure : {0.0: 199999.9989}\n",
      "         : temperature : {0.0: 299.9999}\n",
      "total_cap_investment: 1.4886860983320493\n",
      "----------------------------------------------------------------------\n",
      "----------------------------------------------------------------------\n",
      "fs.irwin_brine_management\n",
      "inlet : Size=1\n",
      "    Key  : Name        : Value\n",
      "    None :   conc_mass : {(0.0, 'bicarbonate_alkalinity_as_caco3'): 1.8867684333688717, (0.0, 'calcium'): 0.05603747354669564, (0.0, 'chloride'): 1.1857506270396576, (0.0, 'fluoride'): 0.0534351140940607, (0.0, 'magnesium'): 0.04834605560890665, (0.0, 'potassium'): 0.10178116970297821, (0.0, 'sodium'): 1.8562340824578163, (0.0, 'strontium'): 0.004834605560891148, (0.0, 'sulfate'): 1.4554707267525262, (0.0, 'tds'): 7.099236586798892}\n",
      "         :    flow_vol : {0.0: 0.02240100017177218}\n",
      "         :    pressure : {0.0: 199999.9992}\n",
      "         : temperature : {0.0: 300.0}\n",
      "outlet : Size=1\n",
      "    Key  : Name        : Value\n",
      "    None :   conc_mass : {(0.0, 'bicarbonate_alkalinity_as_caco3'): 1.886768396897932, (0.0, 'calcium'): 0.056037472463407116, (0.0, 'chloride'): 1.1857506041169348, (0.0, 'fluoride'): 0.05343511306104241, (0.0, 'magnesium'): 0.04834605467429674, (0.0, 'potassium'): 0.1017811677354202, (0.0, 'sodium'): 1.856234046571742, (0.0, 'strontium'): 0.0048346054674283595, (0.0, 'sulfate'): 1.455470698617488, (0.0, 'tds'): 7.099236449561081}\n",
      "         :    flow_vol : {0.0: 0.02240100060476493}\n",
      "         :    pressure : {0.0: 199999.9991}\n",
      "         : temperature : {0.0: 300.0}\n",
      "waste : Size=1\n",
      "    Key  : Name        : Value\n",
      "    None :   conc_mass : {(0.0, 'bicarbonate_alkalinity_as_caco3'): -1.118866460016514e-09, (0.0, 'calcium'): -4.0589412705431153e-10, (0.0, 'chloride'): -9.822985987443741e-10, (0.0, 'fluoride'): -3.16951854377243e-11, (0.0, 'magnesium'): -2.8673056541482507e-11, (0.0, 'potassium'): -6.036506264749868e-11, (0.0, 'sodium'): -1.3309419649557811e-09, (0.0, 'strontium'): -2.8719269890539595e-12, (0.0, 'sulfate'): -8.631102497539377e-10, (0.0, 'tds'): -2.2519239247764787e-05}\n",
      "         :    flow_vol : {0.0: -8.660236971991253e-10}\n",
      "         :    pressure : {0.0: 199999.9991}\n",
      "         : temperature : {0.0: 300.0}\n",
      "total_cap_investment: 220.9500613681381\n",
      "----------------------------------------------------------------------\n",
      "----------------------------------------------------------------------\n",
      "fs.ro_deep\n",
      "inlet : Size=1\n",
      "    Key  : Name        : Value\n",
      "    None :   conc_mass : {(0.0, 'bicarbonate_alkalinity_as_caco3'): 1.886768396897932, (0.0, 'calcium'): 0.056037472463407116, (0.0, 'chloride'): 1.1857506041169348, (0.0, 'fluoride'): 0.05343511306104241, (0.0, 'magnesium'): 0.04834605467429674, (0.0, 'potassium'): 0.1017811677354202, (0.0, 'sodium'): 1.856234046571742, (0.0, 'strontium'): 0.0048346054674283595, (0.0, 'sulfate'): 1.455470698617488, (0.0, 'tds'): 7.099236449561081}\n",
      "         :    flow_vol : {0.0: 0.022401000604920486}\n",
      "         :    pressure : {0.0: 199999.9991}\n",
      "         : temperature : {0.0: 300.0}\n",
      "outlet : Size=1\n",
      "    Key  : Name        : Value\n",
      "    None :   conc_mass : {(0.0, 'bicarbonate_alkalinity_as_caco3'): 0.05170902961853402, (0.0, 'calcium'): 0.0015357705419076129, (0.0, 'chloride'): 0.032496841270653234, (0.0, 'fluoride'): 0.0014644499285052588, (0.0, 'magnesium'): 0.001324978506743325, (0.0, 'potassium'): 0.002789428435250878, (0.0, 'sodium'): 0.050872201087806025, (0.0, 'strontium'): 0.00013249785067430552, (0.0, 'sulfate'): 0.0398888266241146, (0.0, 'tds'): 0.19456263335917526}\n",
      "         :    flow_vol : {0.0: 0.020249418251964364}\n",
      "         :    pressure : {0.0: 199999.99899999998}\n",
      "         : temperature : {0.0: 300.0}\n",
      "waste : Size=1\n",
      "    Key  : Name        : Value\n",
      "    None :   conc_mass : {(0.0, 'bicarbonate_alkalinity_as_caco3'): 19.15725985364772, (0.0, 'calcium'): 0.5689751976385222, (0.0, 'chloride'): 12.039491694918786, (0.0, 'fluoride'): 0.5425522008437645, (0.0, 'magnesium'): 0.4908805626683743, (0.0, 'potassium'): 1.0334327635129614, (0.0, 'sodium'): 18.847230024537335, (0.0, 'strontium'): 0.04908805626682402, (0.0, 'sulfate'): 14.778088518245292, (0.0, 'tds'): 72.08193525518666}\n",
      "         :    flow_vol : {0.0: 0.002151582352956298}\n",
      "         :    pressure : {0.0: 199999.99899999998}\n",
      "         : temperature : {0.0: 300.0}\n",
      "total_cap_investment: 7.1487173676190485\n",
      "----------------------------------------------------------------------\n",
      "----------------------------------------------------------------------\n",
      "fs.municipal_drinking\n",
      "inlet : Size=1\n",
      "    Key  : Name        : Value\n",
      "    None :   conc_mass : {(0.0, 'bicarbonate_alkalinity_as_caco3'): 0.034232391131012646, (0.0, 'calcium'): 0.0004580297997653271, (0.0, 'chloride'): 0.013813201152420676, (0.0, 'fluoride'): 0.0010116876679190018, (0.0, 'magnesium'): 0.000497899346971445, (0.0, 'potassium'): 0.0011065442836697633, (0.0, 'sodium'): 0.025708584333822122, (0.0, 'strontium'): 2.9637798136093587e-05, (0.0, 'sulfate'): 0.012427948245935275, (0.0, 'tds'): 0.14693304645824853}\n",
      "         :    flow_vol : {0.0: 0.282848420698562}\n",
      "         :    pressure : {0.0: 199999.9989}\n",
      "         : temperature : {0.0: 299.9999}\n",
      "outlet : Size=1\n",
      "    Key  : Name        : Value\n",
      "    None :   conc_mass : {(0.0, 'bicarbonate_alkalinity_as_caco3'): 0.03423239113101165, (0.0, 'calcium'): 0.0004580297997653138, (0.0, 'chloride'): 0.013813201152420277, (0.0, 'fluoride'): 0.0010116876679189723, (0.0, 'magnesium'): 0.0004978993469714304, (0.0, 'potassium'): 0.001106544283669731, (0.0, 'sodium'): 0.025708584333821373, (0.0, 'strontium'): 2.9637798136092723e-05, (0.0, 'sulfate'): 0.012427948245934912, (0.0, 'tds'): 0.14693304645824426}\n",
      "         :    flow_vol : {0.0: 0.28284842069857025}\n",
      "         :    pressure : {0.0: 199999.9988}\n",
      "         : temperature : {0.0: 299.9999}\n",
      "waste : Size=1\n",
      "    Key  : Name        : Value\n",
      "    None :   conc_mass : {(0.0, 'bicarbonate_alkalinity_as_caco3'): 4.836862471973885e-19, (0.0, 'calcium'): -5.340450657235737e-22, (0.0, 'chloride'): 3.818052182492528e-19, (0.0, 'fluoride'): 2.3881872748201763e-21, (0.0, 'magnesium'): -3.076718782423143e-21, (0.0, 'potassium'): 8.74403167945261e-22, (0.0, 'sodium'): -3.199709241464241e-19, (0.0, 'strontium'): -5.303583010574802e-22, (0.0, 'sulfate'): 4.65354936696197e-19, (0.0, 'tds'): 1.1350950541614546e-17}\n",
      "         :    flow_vol : {0.0: 2.442920229126573e-14}\n",
      "         :    pressure : {0.0: 199999.9988}\n",
      "         : temperature : {0.0: 299.9999}\n",
      "total_cap_investment: 0.7240536365170464\n",
      "----------------------------------------------------------------------\n",
      "----------------------------------------------------------------------\n",
      "fs.deep_well_injection\n",
      "inlet : Size=1\n",
      "    Key  : Name        : Value\n",
      "    None :   conc_mass : {(0.0, 'bicarbonate_alkalinity_as_caco3'): 19.15725985364772, (0.0, 'calcium'): 0.5689751976385222, (0.0, 'chloride'): 12.039491694918786, (0.0, 'fluoride'): 0.5425522008437645, (0.0, 'magnesium'): 0.4908805626683743, (0.0, 'potassium'): 1.0334327635129614, (0.0, 'sodium'): 18.847230024537335, (0.0, 'strontium'): 0.04908805626682402, (0.0, 'sulfate'): 14.778088518245292, (0.0, 'tds'): 72.08193525518666}\n",
      "         :    flow_vol : {0.0: 0.002151582352956328}\n",
      "         :    pressure : {0.0: 199999.99899999998}\n",
      "         : temperature : {0.0: 300.0}\n",
      "outlet : Size=1\n",
      "    Key  : Name        : Value\n",
      "    None :   conc_mass : {(0.0, 'bicarbonate_alkalinity_as_caco3'): 19.157259853646874, (0.0, 'calcium'): 0.5689751976384971, (0.0, 'chloride'): 12.039491694918254, (0.0, 'fluoride'): 0.5425522008437407, (0.0, 'magnesium'): 0.4908805626683527, (0.0, 'potassium'): 1.033432763512916, (0.0, 'sodium'): 18.847230024536508, (0.0, 'strontium'): 0.04908805626682186, (0.0, 'sulfate'): 14.778088518244642, (0.0, 'tds'): 72.0819352551835}\n",
      "         :    flow_vol : {0.0: 0.0021515823529564227}\n",
      "         :    pressure : {0.0: 199999.9989}\n",
      "         : temperature : {0.0: 300.0}\n",
      "waste : Size=1\n",
      "    Key  : Name        : Value\n",
      "    None :   conc_mass : {(0.0, 'bicarbonate_alkalinity_as_caco3'): -9.42000439728512e-17, (0.0, 'calcium'): -2.4740320409191938e-18, (0.0, 'chloride'): -5.4911323310665973e-17, (0.0, 'fluoride'): -2.522636475458591e-18, (0.0, 'magnesium'): -2.211048714467762e-18, (0.0, 'potassium'): -4.783861575615672e-18, (0.0, 'sodium'): -8.422838422529625e-17, (0.0, 'strontium'): -2.1257548025289782e-19, (0.0, 'sulfate'): -7.71687221480779e-17, (0.0, 'tds'): -3.235779820217875e-16}\n",
      "         :    flow_vol : {0.0: -9.476727157558662e-17}\n",
      "         :    pressure : {0.0: 199999.9989}\n",
      "         : temperature : {0.0: 300.0}\n",
      "total_cap_investment: 1.4197482458550987\n",
      "----------------------------------------------------------------------\n",
      "----------------------------------------------------------------------\n",
      "fs.surface_discharge\n",
      "inlet : Size=1\n",
      "    Key  : Name        : Value\n",
      "    None :   conc_mass : {(0.0, 'bicarbonate_alkalinity_as_caco3'): 1.9630174435811028e-11, (0.0, 'calcium'): 1.7836019010246256e-11, (0.0, 'chloride'): 1.5785399508960423e-11, (0.0, 'fluoride'): 1.893153679250246e-11, (0.0, 'magnesium'): 1.9391848145684924e-11, (0.0, 'potassium'): 1.8902264858449893e-11, (0.0, 'sodium'): 4.9417414694444894e-11, (0.0, 'strontium'): 1.9232871417899207e-11, (0.0, 'sulfate'): -1.0028371047764575e-11, (0.0, 'tds'): 4.523490186876307e-05}\n",
      "         :    flow_vol : {0.0: 0.0}\n",
      "         :    pressure : {0.0: 199999.99925714283}\n",
      "         : temperature : {0.0: 299.99988571428565}\n",
      "outlet : Size=1\n",
      "    Key  : Name        : Value\n",
      "    None :   conc_mass : {(0.0, 'bicarbonate_alkalinity_as_caco3'): 8.182835464671068e-10, (0.0, 'calcium'): 7.956291839911187e-10, (0.0, 'chloride'): 7.860469739403627e-10, (0.0, 'fluoride'): 7.956623515401862e-10, (0.0, 'magnesium'): 7.961264148864027e-10, (0.0, 'potassium'): 7.964949110375643e-10, (0.0, 'sodium'): 8.360529406392362e-10, (0.0, 'strontium'): 7.952534775874362e-10, (0.0, 'sulfate'): 7.965330185676872e-10, (0.0, 'tds'): 2.417879827651765e-06}\n",
      "         :    flow_vol : {0.0: 0.0}\n",
      "         :    pressure : {0.0: 199999.99915714283}\n",
      "         : temperature : {0.0: 299.99988571428565}\n",
      "waste : Size=1\n",
      "    Key  : Name        : Value\n",
      "    None :   conc_mass : {(0.0, 'bicarbonate_alkalinity_as_caco3'): -2.0399024067536085e-20, (0.0, 'calcium'): -2.0399024067536094e-20, (0.0, 'chloride'): -2.0399024067536085e-20, (0.0, 'fluoride'): -2.0399024067536094e-20, (0.0, 'magnesium'): -2.0399024067536085e-20, (0.0, 'potassium'): -2.0399024067536085e-20, (0.0, 'sodium'): -2.0399024067536085e-20, (0.0, 'strontium'): -2.0399024067536094e-20, (0.0, 'sulfate'): -2.0399024067536085e-20, (0.0, 'tds'): -2.0399024067536085e-20}\n",
      "         :    flow_vol : {0.0: 2.506300956678651e-21}\n",
      "         :    pressure : {0.0: 199999.99915714283}\n",
      "         : temperature : {0.0: 299.99988571428565}\n",
      "total_cap_investment: 0.0\n",
      "----------------------------------------------------------------------\n",
      "----------------------------------------------------------------------\n",
      "fs.Irwin_Brackish\n",
      "inlet : Size=1\n",
      "    Key  : Name        : Value\n",
      "    None :   conc_mass : {(0.0, 'bicarbonate_alkalinity_as_caco3'): 0.1786, (0.0, 'calcium'): 0.00475, (0.0, 'chloride'): 0.1046, (0.0, 'fluoride'): 0.0051, (0.0, 'magnesium'): 0.0042, (0.0, 'potassium'): 0.0089, (0.0, 'sodium'): 0.1678, (0.0, 'strontium'): 0.0004, (0.0, 'sulfate'): 0.1239, (0.0, 'tds'): 0.69}\n",
      "         :    flow_vol : {0.0: 0.285}\n",
      "         :    pressure : {0.0: 200000.0}\n",
      "         : temperature : {0.0: 300}\n",
      "outlet : Size=1\n",
      "    Key  : Name        : Value\n",
      "    None :   conc_mass : {(0.0, 'bicarbonate_alkalinity_as_caco3'): 0.1786, (0.0, 'calcium'): 0.00475, (0.0, 'chloride'): 0.1046, (0.0, 'fluoride'): 0.0051, (0.0, 'magnesium'): 0.0042, (0.0, 'potassium'): 0.0089, (0.0, 'sodium'): 0.1678, (0.0, 'strontium'): 0.0004, (0.0, 'sulfate'): 0.12390000000000001, (0.0, 'tds'): 0.69}\n",
      "         :    flow_vol : {0.0: 0.285}\n",
      "         :    pressure : {0.0: 199999.9999}\n",
      "         : temperature : {0.0: 300.0}\n",
      "waste : Size=1\n",
      "    Key  : Name        : Value\n",
      "    None :   conc_mass : {(0.0, 'bicarbonate_alkalinity_as_caco3'): 3.4253248046048344e-17, (0.0, 'calcium'): 1.1361197434583425e-18, (0.0, 'chloride'): 2.3099947931729114e-17, (0.0, 'fluoride'): 9.621348343307604e-19, (0.0, 'magnesium'): 9.563790633337132e-19, (0.0, 'potassium'): 2.000314210883255e-18, (0.0, 'sodium'): 3.52884069378036e-17, (0.0, 'strontium'): 1.0041826817885112e-19, (0.0, 'sulfate'): 2.938140440808594e-17, (0.0, 'tds'): 6.713566831213727e-13}\n",
      "         :    flow_vol : {0.0: 7.53359766156646e-18}\n",
      "         :    pressure : {0.0: 199999.9999}\n",
      "         : temperature : {0.0: 300.0}\n",
      "outlet : Size=1\n",
      "    Key  : Name        : Value\n",
      "    None :   conc_mass : {(0.0, 'bicarbonate_alkalinity_as_caco3'): 0.03423239118343098, (0.0, 'calcium'): 0.00045802980046668717, (0.0, 'chloride'): 0.013813201173569179, (0.0, 'fluoride'): 0.0010116876694683363, (0.0, 'magnesium'): 0.0004978993477338521, (0.0, 'potassium'): 0.0011065442853640927, (0.0, 'sodium'): 0.025708584373193875, (0.0, 'strontium'): 2.9637798181473293e-05, (0.0, 'sulfate'): 0.012427948264969272, (0.0, 'tds'): 0.14693304668323776}\n",
      "         :    flow_vol : {0.0: 0.28284842026544693}\n",
      "         :    pressure : {0.0: 199999.99899999998}\n",
      "         : temperature : {0.0: 299.9999}\n",
      "outlet : Size=1\n",
      "    Key  : Name        : Value\n",
      "    None :   conc_mass : {(0.0, 'bicarbonate_alkalinity_as_caco3'): 1.9630174435810922e-11, (0.0, 'calcium'): 1.7836019010246205e-11, (0.0, 'chloride'): 1.5785399508960393e-11, (0.0, 'fluoride'): 1.893153679250241e-11, (0.0, 'magnesium'): 1.9391848145684876e-11, (0.0, 'potassium'): 1.8902264858449842e-11, (0.0, 'sodium'): 4.941741469444482e-11, (0.0, 'strontium'): 1.923287141789916e-11, (0.0, 'sulfate'): -1.0028371047764701e-11, (0.0, 'tds'): 4.523490186876318e-05}\n",
      "         :    flow_vol : {0.0: -9.567117486977747e-09}\n",
      "         :    pressure : {0.0: 199999.99925714283}\n",
      "         : temperature : {0.0: 299.99988571428565}\n"
     ]
    }
   ],
   "source": [
    "wt.run_water_tap(m = m, solver_results = False, print_model_results = True)"
   ]
  },
  {
   "cell_type": "code",
   "execution_count": null,
   "metadata": {},
   "outputs": [],
   "source": []
  },
  {
   "cell_type": "code",
   "execution_count": null,
   "metadata": {},
   "outputs": [],
   "source": []
  },
  {
   "cell_type": "code",
   "execution_count": 7,
   "metadata": {},
   "outputs": [
    {
     "data": {
      "text/plain": [
       "81170.82196724047"
      ]
     },
     "execution_count": 7,
     "metadata": {},
     "output_type": "execute_result"
    }
   ],
   "source": [
    "value(m.fs.irwin_brine_management.total_mass)"
   ]
  },
  {
   "cell_type": "code",
   "execution_count": null,
   "metadata": {},
   "outputs": [],
   "source": []
  },
  {
   "cell_type": "code",
   "execution_count": null,
   "metadata": {},
   "outputs": [],
   "source": [
    "base_fixed_cap_cost * (total_flow_rate / capacity_basis) ** cap_scaling_exp"
   ]
  },
  {
   "cell_type": "code",
   "execution_count": 11,
   "metadata": {},
   "outputs": [
    {
     "data": {
      "text/plain": [
       "217.75803821310703"
      ]
     },
     "execution_count": 11,
     "metadata": {},
     "output_type": "execute_result"
    }
   ],
   "source": [
    "35 * (value(m.fs.irwin_brine_management.total_mass) / 10000) ** 0.873"
   ]
  },
  {
   "cell_type": "code",
   "execution_count": null,
   "metadata": {},
   "outputs": [],
   "source": []
  },
  {
   "cell_type": "code",
   "execution_count": null,
   "metadata": {},
   "outputs": [],
   "source": []
  },
  {
   "cell_type": "code",
   "execution_count": 21,
   "metadata": {},
   "outputs": [],
   "source": [
    "import numpy as np"
   ]
  },
  {
   "cell_type": "code",
   "execution_count": 22,
   "metadata": {},
   "outputs": [],
   "source": [
    "train = wt.case_study_trains.train \n",
    "source_water = wt.case_study_trains.source_water \n",
    "\n",
    "df = pd.read_csv(\"Data/constituent_removal.csv\")\n",
    "df.case_study = np.where(df.case_study == \"Default\", train[\"case_study\"], df.case_study)\n",
    "df = df[df.reference == train[\"reference\"]]\n",
    "df = df[df.case_study == train[\"case_study\"]]\n",
    "df = df[df.scenario == train[\"scenario\"]]\n",
    "df = df[df.unit_process == \"electrodialysis_reversal\"]\n",
    "\n",
    "removal_dict = {}\n",
    "for constituent in df.constituent.unique():\n",
    "    removal_dict[constituent] = df[df.constituent == constituent].value.max()"
   ]
  },
  {
   "cell_type": "code",
   "execution_count": 23,
   "metadata": {},
   "outputs": [
    {
     "data": {
      "text/plain": [
       "{'arsenic': 0.892,\n",
       " 'barium': 0.995,\n",
       " 'bicarbonate_alkalinity_as_caco3': 0.8303471444568868,\n",
       " 'calcium': 0.9272727272727272,\n",
       " 'chloride': 0.8910133843212237,\n",
       " 'fluoride': 0.8235294117647058,\n",
       " 'hardness': 0.9245283018867924,\n",
       " 'magnesium': 0.9047619047619048,\n",
       " 'nitrate_as_nitrogen': 0.8817733990147784,\n",
       " 'nitrate': 0.8817733990147784,\n",
       " 'ph_max': -0.7700000000000005,\n",
       " 'ph_min': -0.7700000000000005,\n",
       " 'potassium': 0.8988764044943821,\n",
       " 'sodium': 0.8694874851013111,\n",
       " 'strontium': 0.95,\n",
       " 'sulfate': 0.9233252623083132,\n",
       " 'tds': 0.8086956521739129}"
      ]
     },
     "execution_count": 23,
     "metadata": {},
     "output_type": "execute_result"
    }
   ],
   "source": [
    "removal_dict"
   ]
  },
  {
   "cell_type": "code",
   "execution_count": 13,
   "metadata": {},
   "outputs": [
    {
     "data": {
      "text/plain": [
       "{}"
      ]
     },
     "execution_count": 13,
     "metadata": {},
     "output_type": "execute_result"
    }
   ],
   "source": [
    "removal_dict"
   ]
  },
  {
   "cell_type": "code",
   "execution_count": 19,
   "metadata": {},
   "outputs": [
    {
     "data": {
      "text/plain": [
       "array(['ro_deep'], dtype=object)"
      ]
     },
     "execution_count": 19,
     "metadata": {},
     "output_type": "execute_result"
    }
   ],
   "source": [
    "df.unit_process.unique()"
   ]
  },
  {
   "cell_type": "code",
   "execution_count": null,
   "metadata": {},
   "outputs": [],
   "source": []
  },
  {
   "cell_type": "code",
   "execution_count": null,
   "metadata": {},
   "outputs": [],
   "source": []
  },
  {
   "cell_type": "code",
   "execution_count": null,
   "metadata": {},
   "outputs": [],
   "source": []
  },
  {
   "cell_type": "code",
   "execution_count": null,
   "metadata": {},
   "outputs": [],
   "source": []
  },
  {
   "cell_type": "code",
   "execution_count": null,
   "metadata": {},
   "outputs": [],
   "source": []
  },
  {
   "cell_type": "code",
   "execution_count": null,
   "metadata": {},
   "outputs": [],
   "source": []
  },
  {
   "cell_type": "code",
   "execution_count": null,
   "metadata": {},
   "outputs": [],
   "source": []
  },
  {
   "cell_type": "code",
   "execution_count": 3,
   "metadata": {},
   "outputs": [],
   "source": [
    "def get_results_table():\n",
    "\n",
    "    train = wt.case_study_trains.train\n",
    "\n",
    "    py_var = [\n",
    "        \"fixed_cap_inv\",\n",
    "        \"total_cap_investment\",\n",
    "        \"cat_and_chem_cost\",\n",
    "        \"electricity_cost\",\n",
    "        \"total_fixed_op_cost\"]\n",
    "\n",
    "    excel_var = ['Fixed Capital Investment (FCI)',\n",
    "                'Total Capital Investment (TCI)',\n",
    "                'Catalysts and Chemicals',\n",
    "                'Electricity',\n",
    "                'Total Fixed Operating Costs']\n",
    "    big_dict = {}\n",
    "    # for letter in ['A', 'B', 'C']:\n",
    "    for b_unit in m.fs.component_objects(Block, descend_into=True):\n",
    "        unit = str(b_unit)[3:]\n",
    "        if hasattr(b_unit, 'costing'):\n",
    "            #print(f'____________{unit}____________')\n",
    "            py_vals =  []\n",
    "            excel_vals = []\n",
    "            big_dict[unit] = {'python': {}, 'excel': {}}\n",
    "            for py, ex in dict(zip(py_var, excel_var)).items():\n",
    "                #print(f'\\n#### {py}')\n",
    "                try:\n",
    "                    num = value(getattr(b_unit.costing, py))\n",
    "                    py_vals.append(num)\n",
    "                    #print(f'Python --> {num}')\n",
    "                except ZeroDivisionError:\n",
    "                    #print(f'Python --> {0} - ERROR')\n",
    "                    py_vals.append(0)\n",
    "                py_dict = dict(zip(py_var, py_vals))\n",
    "                df = pd.read_csv(\"data/case_study_results.csv\")\n",
    "                df = df[df.case_study == train['case_study']]\n",
    "                df = df[df.scenario == train['scenario']]\n",
    "                df = df[df.unit_process == unit]\n",
    "                num = df[df.Variable == ex].value.max()\n",
    "                #print(f'Excel --> {num}\\n\\n')\n",
    "                excel_vals.append(num)\n",
    "                excel_dict = dict(zip(py_var, excel_vals))\n",
    "            big_dict[unit]['python'] = py_dict\n",
    "            big_dict[unit]['excel'] = excel_dict\n",
    "    else:\n",
    "        pass \n",
    "\n",
    "\n",
    "\n",
    "    df = pd.DataFrame.from_dict({(i,j): big_dict[i][j] \n",
    "                               for i in big_dict.keys() \n",
    "                               for j in big_dict[i].keys()},\n",
    "                           orient='index')\n",
    "    \n",
    "    return df"
   ]
  },
  {
   "cell_type": "code",
   "execution_count": 9,
   "metadata": {},
   "outputs": [
    {
     "name": "stdout",
     "output_type": "stream",
     "text": [
      "ERROR: evaluating object as numeric value:\n",
      "    fs.surface_discharge.costing.electricity_cost\n",
      "        (object: <class 'pyomo.core.base.expression.SimpleExpression'>)\n",
      "    float division by zero\n"
     ]
    },
    {
     "data": {
      "text/html": [
       "<div>\n",
       "<style scoped>\n",
       "    .dataframe tbody tr th:only-of-type {\n",
       "        vertical-align: middle;\n",
       "    }\n",
       "\n",
       "    .dataframe tbody tr th {\n",
       "        vertical-align: top;\n",
       "    }\n",
       "\n",
       "    .dataframe thead th {\n",
       "        text-align: right;\n",
       "    }\n",
       "</style>\n",
       "<table border=\"1\" class=\"dataframe\">\n",
       "  <thead>\n",
       "    <tr style=\"text-align: right;\">\n",
       "      <th></th>\n",
       "      <th></th>\n",
       "      <th>fixed_cap_inv</th>\n",
       "      <th>total_cap_investment</th>\n",
       "      <th>cat_and_chem_cost</th>\n",
       "      <th>electricity_cost</th>\n",
       "      <th>total_fixed_op_cost</th>\n",
       "    </tr>\n",
       "  </thead>\n",
       "  <tbody>\n",
       "    <tr>\n",
       "      <th rowspan=\"2\" valign=\"top\">well_field</th>\n",
       "      <th>python</th>\n",
       "      <td>2.780092</td>\n",
       "      <td>2.923267</td>\n",
       "      <td>0.000000</td>\n",
       "      <td>0.000000e+00</td>\n",
       "      <td>0.038782</td>\n",
       "    </tr>\n",
       "    <tr>\n",
       "      <th>excel</th>\n",
       "      <td>2.696920</td>\n",
       "      <td>2.835811</td>\n",
       "      <td>0.000000</td>\n",
       "      <td>1.222542e-01</td>\n",
       "      <td>0.039163</td>\n",
       "    </tr>\n",
       "    <tr>\n",
       "      <th rowspan=\"2\" valign=\"top\">treated_storage</th>\n",
       "      <th>python</th>\n",
       "      <td>1.422333</td>\n",
       "      <td>1.495584</td>\n",
       "      <td>0.000000</td>\n",
       "      <td>0.000000e+00</td>\n",
       "      <td>0.019845</td>\n",
       "    </tr>\n",
       "    <tr>\n",
       "      <th>excel</th>\n",
       "      <td>9.180934</td>\n",
       "      <td>9.653752</td>\n",
       "      <td>0.000000</td>\n",
       "      <td>0.000000e+00</td>\n",
       "      <td>0.131610</td>\n",
       "    </tr>\n",
       "    <tr>\n",
       "      <th rowspan=\"2\" valign=\"top\">media_filtration</th>\n",
       "      <th>python</th>\n",
       "      <td>0.949288</td>\n",
       "      <td>0.998176</td>\n",
       "      <td>0.000000</td>\n",
       "      <td>0.000000e+00</td>\n",
       "      <td>0.013292</td>\n",
       "    </tr>\n",
       "    <tr>\n",
       "      <th>excel</th>\n",
       "      <td>NaN</td>\n",
       "      <td>NaN</td>\n",
       "      <td>NaN</td>\n",
       "      <td>NaN</td>\n",
       "      <td>NaN</td>\n",
       "    </tr>\n",
       "    <tr>\n",
       "      <th rowspan=\"2\" valign=\"top\">hydrochloric_acid_addition</th>\n",
       "      <th>python</th>\n",
       "      <td>0.075198</td>\n",
       "      <td>0.079071</td>\n",
       "      <td>0.022167</td>\n",
       "      <td>8.282503e-07</td>\n",
       "      <td>0.001053</td>\n",
       "    </tr>\n",
       "    <tr>\n",
       "      <th>excel</th>\n",
       "      <td>0.074794</td>\n",
       "      <td>0.078646</td>\n",
       "      <td>0.014850</td>\n",
       "      <td>8.200000e-07</td>\n",
       "      <td>0.001062</td>\n",
       "    </tr>\n",
       "    <tr>\n",
       "      <th rowspan=\"2\" valign=\"top\">anti_scalant_addition</th>\n",
       "      <th>python</th>\n",
       "      <td>0.049000</td>\n",
       "      <td>0.051524</td>\n",
       "      <td>0.227536</td>\n",
       "      <td>4.141251e-07</td>\n",
       "      <td>0.000686</td>\n",
       "    </tr>\n",
       "    <tr>\n",
       "      <th>excel</th>\n",
       "      <td>NaN</td>\n",
       "      <td>NaN</td>\n",
       "      <td>NaN</td>\n",
       "      <td>NaN</td>\n",
       "      <td>NaN</td>\n",
       "    </tr>\n",
       "    <tr>\n",
       "      <th rowspan=\"2\" valign=\"top\">sodium_bisulfite_addition</th>\n",
       "      <th>python</th>\n",
       "      <td>0.075511</td>\n",
       "      <td>0.079400</td>\n",
       "      <td>0.046942</td>\n",
       "      <td>8.338401e-07</td>\n",
       "      <td>0.001057</td>\n",
       "    </tr>\n",
       "    <tr>\n",
       "      <th>excel</th>\n",
       "      <td>0.096489</td>\n",
       "      <td>0.101459</td>\n",
       "      <td>0.048113</td>\n",
       "      <td>1.240000e-06</td>\n",
       "      <td>0.001370</td>\n",
       "    </tr>\n",
       "    <tr>\n",
       "      <th rowspan=\"2\" valign=\"top\">electrodialysis_reversal</th>\n",
       "      <th>python</th>\n",
       "      <td>35.783813</td>\n",
       "      <td>37.626679</td>\n",
       "      <td>0.000000</td>\n",
       "      <td>-3.518265e-01</td>\n",
       "      <td>0.497107</td>\n",
       "    </tr>\n",
       "    <tr>\n",
       "      <th>excel</th>\n",
       "      <td>38.458658</td>\n",
       "      <td>40.439279</td>\n",
       "      <td>0.000000</td>\n",
       "      <td>3.607682e-01</td>\n",
       "      <td>0.549039</td>\n",
       "    </tr>\n",
       "    <tr>\n",
       "      <th rowspan=\"2\" valign=\"top\">treated_storage_b</th>\n",
       "      <th>python</th>\n",
       "      <td>1.415774</td>\n",
       "      <td>1.488686</td>\n",
       "      <td>0.000000</td>\n",
       "      <td>0.000000e+00</td>\n",
       "      <td>0.019754</td>\n",
       "    </tr>\n",
       "    <tr>\n",
       "      <th>excel</th>\n",
       "      <td>NaN</td>\n",
       "      <td>NaN</td>\n",
       "      <td>NaN</td>\n",
       "      <td>NaN</td>\n",
       "      <td>NaN</td>\n",
       "    </tr>\n",
       "    <tr>\n",
       "      <th rowspan=\"2\" valign=\"top\">irwin_brine_management</th>\n",
       "      <th>python</th>\n",
       "      <td>210.128446</td>\n",
       "      <td>220.950061</td>\n",
       "      <td>0.000000</td>\n",
       "      <td>9.699971e-03</td>\n",
       "      <td>2.931292</td>\n",
       "    </tr>\n",
       "    <tr>\n",
       "      <th>excel</th>\n",
       "      <td>42.345784</td>\n",
       "      <td>44.526591</td>\n",
       "      <td>0.000000</td>\n",
       "      <td>0.000000e+00</td>\n",
       "      <td>0.606146</td>\n",
       "    </tr>\n",
       "    <tr>\n",
       "      <th rowspan=\"2\" valign=\"top\">ro_deep</th>\n",
       "      <th>python</th>\n",
       "      <td>6.798590</td>\n",
       "      <td>7.148717</td>\n",
       "      <td>0.000000</td>\n",
       "      <td>2.047913e-01</td>\n",
       "      <td>0.095194</td>\n",
       "    </tr>\n",
       "    <tr>\n",
       "      <th>excel</th>\n",
       "      <td>8.443035</td>\n",
       "      <td>8.877851</td>\n",
       "      <td>0.000000</td>\n",
       "      <td>1.686516e-01</td>\n",
       "      <td>0.124035</td>\n",
       "    </tr>\n",
       "    <tr>\n",
       "      <th rowspan=\"2\" valign=\"top\">municipal_drinking</th>\n",
       "      <th>python</th>\n",
       "      <td>0.688591</td>\n",
       "      <td>0.724054</td>\n",
       "      <td>0.000000</td>\n",
       "      <td>3.674329e-01</td>\n",
       "      <td>0.009606</td>\n",
       "    </tr>\n",
       "    <tr>\n",
       "      <th>excel</th>\n",
       "      <td>0.640832</td>\n",
       "      <td>0.673835</td>\n",
       "      <td>0.000000</td>\n",
       "      <td>3.379351e-01</td>\n",
       "      <td>0.009976</td>\n",
       "    </tr>\n",
       "    <tr>\n",
       "      <th rowspan=\"2\" valign=\"top\">deep_well_injection</th>\n",
       "      <th>python</th>\n",
       "      <td>1.350212</td>\n",
       "      <td>1.419748</td>\n",
       "      <td>0.000000</td>\n",
       "      <td>3.726670e-03</td>\n",
       "      <td>0.018928</td>\n",
       "    </tr>\n",
       "    <tr>\n",
       "      <th>excel</th>\n",
       "      <td>NaN</td>\n",
       "      <td>NaN</td>\n",
       "      <td>NaN</td>\n",
       "      <td>NaN</td>\n",
       "      <td>NaN</td>\n",
       "    </tr>\n",
       "    <tr>\n",
       "      <th rowspan=\"2\" valign=\"top\">surface_discharge</th>\n",
       "      <th>python</th>\n",
       "      <td>0.000000</td>\n",
       "      <td>0.000000</td>\n",
       "      <td>0.000000</td>\n",
       "      <td>0.000000e+00</td>\n",
       "      <td>0.000000</td>\n",
       "    </tr>\n",
       "    <tr>\n",
       "      <th>excel</th>\n",
       "      <td>NaN</td>\n",
       "      <td>NaN</td>\n",
       "      <td>NaN</td>\n",
       "      <td>NaN</td>\n",
       "      <td>NaN</td>\n",
       "    </tr>\n",
       "  </tbody>\n",
       "</table>\n",
       "</div>"
      ],
      "text/plain": [
       "                                   fixed_cap_inv  total_cap_investment  \\\n",
       "well_field                 python       2.780092              2.923267   \n",
       "                           excel        2.696920              2.835811   \n",
       "treated_storage            python       1.422333              1.495584   \n",
       "                           excel        9.180934              9.653752   \n",
       "media_filtration           python       0.949288              0.998176   \n",
       "                           excel             NaN                   NaN   \n",
       "hydrochloric_acid_addition python       0.075198              0.079071   \n",
       "                           excel        0.074794              0.078646   \n",
       "anti_scalant_addition      python       0.049000              0.051524   \n",
       "                           excel             NaN                   NaN   \n",
       "sodium_bisulfite_addition  python       0.075511              0.079400   \n",
       "                           excel        0.096489              0.101459   \n",
       "electrodialysis_reversal   python      35.783813             37.626679   \n",
       "                           excel       38.458658             40.439279   \n",
       "treated_storage_b          python       1.415774              1.488686   \n",
       "                           excel             NaN                   NaN   \n",
       "irwin_brine_management     python     210.128446            220.950061   \n",
       "                           excel       42.345784             44.526591   \n",
       "ro_deep                    python       6.798590              7.148717   \n",
       "                           excel        8.443035              8.877851   \n",
       "municipal_drinking         python       0.688591              0.724054   \n",
       "                           excel        0.640832              0.673835   \n",
       "deep_well_injection        python       1.350212              1.419748   \n",
       "                           excel             NaN                   NaN   \n",
       "surface_discharge          python       0.000000              0.000000   \n",
       "                           excel             NaN                   NaN   \n",
       "\n",
       "                                   cat_and_chem_cost  electricity_cost  \\\n",
       "well_field                 python           0.000000      0.000000e+00   \n",
       "                           excel            0.000000      1.222542e-01   \n",
       "treated_storage            python           0.000000      0.000000e+00   \n",
       "                           excel            0.000000      0.000000e+00   \n",
       "media_filtration           python           0.000000      0.000000e+00   \n",
       "                           excel                 NaN               NaN   \n",
       "hydrochloric_acid_addition python           0.022167      8.282503e-07   \n",
       "                           excel            0.014850      8.200000e-07   \n",
       "anti_scalant_addition      python           0.227536      4.141251e-07   \n",
       "                           excel                 NaN               NaN   \n",
       "sodium_bisulfite_addition  python           0.046942      8.338401e-07   \n",
       "                           excel            0.048113      1.240000e-06   \n",
       "electrodialysis_reversal   python           0.000000     -3.518265e-01   \n",
       "                           excel            0.000000      3.607682e-01   \n",
       "treated_storage_b          python           0.000000      0.000000e+00   \n",
       "                           excel                 NaN               NaN   \n",
       "irwin_brine_management     python           0.000000      9.699971e-03   \n",
       "                           excel            0.000000      0.000000e+00   \n",
       "ro_deep                    python           0.000000      2.047913e-01   \n",
       "                           excel            0.000000      1.686516e-01   \n",
       "municipal_drinking         python           0.000000      3.674329e-01   \n",
       "                           excel            0.000000      3.379351e-01   \n",
       "deep_well_injection        python           0.000000      3.726670e-03   \n",
       "                           excel                 NaN               NaN   \n",
       "surface_discharge          python           0.000000      0.000000e+00   \n",
       "                           excel                 NaN               NaN   \n",
       "\n",
       "                                   total_fixed_op_cost  \n",
       "well_field                 python             0.038782  \n",
       "                           excel              0.039163  \n",
       "treated_storage            python             0.019845  \n",
       "                           excel              0.131610  \n",
       "media_filtration           python             0.013292  \n",
       "                           excel                   NaN  \n",
       "hydrochloric_acid_addition python             0.001053  \n",
       "                           excel              0.001062  \n",
       "anti_scalant_addition      python             0.000686  \n",
       "                           excel                   NaN  \n",
       "sodium_bisulfite_addition  python             0.001057  \n",
       "                           excel              0.001370  \n",
       "electrodialysis_reversal   python             0.497107  \n",
       "                           excel              0.549039  \n",
       "treated_storage_b          python             0.019754  \n",
       "                           excel                   NaN  \n",
       "irwin_brine_management     python             2.931292  \n",
       "                           excel              0.606146  \n",
       "ro_deep                    python             0.095194  \n",
       "                           excel              0.124035  \n",
       "municipal_drinking         python             0.009606  \n",
       "                           excel              0.009976  \n",
       "deep_well_injection        python             0.018928  \n",
       "                           excel                   NaN  \n",
       "surface_discharge          python             0.000000  \n",
       "                           excel                   NaN  "
      ]
     },
     "execution_count": 9,
     "metadata": {},
     "output_type": "execute_result"
    }
   ],
   "source": [
    "get_results_table()"
   ]
  },
  {
   "cell_type": "code",
   "execution_count": 18,
   "metadata": {},
   "outputs": [
    {
     "data": {
      "text/html": [
       "<div>\n",
       "<style scoped>\n",
       "    .dataframe tbody tr th:only-of-type {\n",
       "        vertical-align: middle;\n",
       "    }\n",
       "\n",
       "    .dataframe tbody tr th {\n",
       "        vertical-align: top;\n",
       "    }\n",
       "\n",
       "    .dataframe thead th {\n",
       "        text-align: right;\n",
       "    }\n",
       "</style>\n",
       "<table border=\"1\" class=\"dataframe\">\n",
       "  <thead>\n",
       "    <tr style=\"text-align: right;\">\n",
       "      <th></th>\n",
       "      <th>fixed_cap_inv</th>\n",
       "      <th>total_cap_investment</th>\n",
       "      <th>cat_and_chem_cost</th>\n",
       "      <th>electricity_cost</th>\n",
       "      <th>total_fixed_op_cost</th>\n",
       "    </tr>\n",
       "  </thead>\n",
       "  <tbody>\n",
       "    <tr>\n",
       "      <th>python</th>\n",
       "      <td>0.079330</td>\n",
       "      <td>0.083416</td>\n",
       "      <td>0.0</td>\n",
       "      <td>0.000219</td>\n",
       "      <td>0.001111</td>\n",
       "    </tr>\n",
       "    <tr>\n",
       "      <th>excel</th>\n",
       "      <td>14.722875</td>\n",
       "      <td>15.481103</td>\n",
       "      <td>0.0</td>\n",
       "      <td>0.245464</td>\n",
       "      <td>0.212460</td>\n",
       "    </tr>\n",
       "  </tbody>\n",
       "</table>\n",
       "</div>"
      ],
      "text/plain": [
       "        fixed_cap_inv  total_cap_investment  cat_and_chem_cost  \\\n",
       "python       0.079330              0.083416                0.0   \n",
       "excel       14.722875             15.481103                0.0   \n",
       "\n",
       "        electricity_cost  total_fixed_op_cost  \n",
       "python          0.000219             0.001111  \n",
       "excel           0.245464             0.212460  "
      ]
     },
     "execution_count": 18,
     "metadata": {},
     "output_type": "execute_result"
    }
   ],
   "source": [
    "df.loc['backwash_solids_handling']"
   ]
  },
  {
   "cell_type": "code",
   "execution_count": 16,
   "metadata": {},
   "outputs": [
    {
     "name": "stdout",
     "output_type": "stream",
     "text": [
      "ERROR: evaluating object as numeric value: fs.ro_deep.costing.electricity_cost\n",
      "        (object: <class 'pyomo.core.base.expression.SimpleExpression'>)\n",
      "    float division by zero\n"
     ]
    }
   ],
   "source": [
    "df = get_results_table()"
   ]
  },
  {
   "cell_type": "code",
   "execution_count": 17,
   "metadata": {},
   "outputs": [],
   "source": [
    "df.to_csv(\"tmp/test_compare.csv\")"
   ]
  },
  {
   "cell_type": "code",
   "execution_count": 15,
   "metadata": {},
   "outputs": [
    {
     "data": {
      "text/plain": [
       "0.00021929701170052268"
      ]
     },
     "execution_count": 15,
     "metadata": {},
     "output_type": "execute_result"
    }
   ],
   "source": [
    "m.fs.backwash_solids_handling.costing.electricity_cost()"
   ]
  },
  {
   "cell_type": "code",
   "execution_count": null,
   "metadata": {},
   "outputs": [],
   "source": []
  },
  {
   "cell_type": "code",
   "execution_count": null,
   "metadata": {},
   "outputs": [],
   "source": []
  },
  {
   "cell_type": "code",
   "execution_count": null,
   "metadata": {},
   "outputs": [],
   "source": []
  },
  {
   "cell_type": "code",
   "execution_count": 18,
   "metadata": {},
   "outputs": [],
   "source": [
    "cat_chem_df = pd.read_csv('data/catalyst_chemicals.csv', index_col = \"Material\")"
   ]
  },
  {
   "cell_type": "code",
   "execution_count": null,
   "metadata": {},
   "outputs": [],
   "source": []
  },
  {
   "cell_type": "code",
   "execution_count": null,
   "metadata": {},
   "outputs": [],
   "source": []
  },
  {
   "cell_type": "code",
   "execution_count": 13,
   "metadata": {},
   "outputs": [],
   "source": [
    "import pandas as pd"
   ]
  },
  {
   "cell_type": "code",
   "execution_count": 20,
   "metadata": {},
   "outputs": [],
   "source": [
    "df = pd.read_csv(\"data/case_study_results.csv\")"
   ]
  },
  {
   "cell_type": "code",
   "execution_count": 16,
   "metadata": {},
   "outputs": [
    {
     "data": {
      "text/plain": [
       "{'case_study': 'Carlsbad', 'reference': 'NAWI', 'scenario': 'Baseline'}"
      ]
     },
     "execution_count": 16,
     "metadata": {},
     "output_type": "execute_result"
    }
   ],
   "source": [
    "wt.case_study_trains.train"
   ]
  },
  {
   "cell_type": "code",
   "execution_count": 17,
   "metadata": {},
   "outputs": [],
   "source": [
    "train = wt.case_study_trains.train"
   ]
  },
  {
   "cell_type": "code",
   "execution_count": 22,
   "metadata": {},
   "outputs": [
    {
     "data": {
      "text/html": [
       "<div>\n",
       "<style scoped>\n",
       "    .dataframe tbody tr th:only-of-type {\n",
       "        vertical-align: middle;\n",
       "    }\n",
       "\n",
       "    .dataframe tbody tr th {\n",
       "        vertical-align: top;\n",
       "    }\n",
       "\n",
       "    .dataframe thead th {\n",
       "        text-align: right;\n",
       "    }\n",
       "</style>\n",
       "<table border=\"1\" class=\"dataframe\">\n",
       "  <thead>\n",
       "    <tr style=\"text-align: right;\">\n",
       "      <th></th>\n",
       "      <th>Unnamed: 0</th>\n",
       "      <th>case_study</th>\n",
       "      <th>scenario</th>\n",
       "      <th>train</th>\n",
       "      <th>unit_process</th>\n",
       "      <th>Variable</th>\n",
       "      <th>unit</th>\n",
       "      <th>value</th>\n",
       "      <th>variable</th>\n",
       "    </tr>\n",
       "  </thead>\n",
       "  <tbody>\n",
       "    <tr>\n",
       "      <th>0</th>\n",
       "      <td>0</td>\n",
       "      <td>Carlsbad</td>\n",
       "      <td>Baseline</td>\n",
       "      <td>A</td>\n",
       "      <td>sw_onshore_intake</td>\n",
       "      <td>Fixed Capital Investment (FCI)</td>\n",
       "      <td>$MM</td>\n",
       "      <td>20.982722</td>\n",
       "      <td>fixed_cap_inv</td>\n",
       "    </tr>\n",
       "    <tr>\n",
       "      <th>1</th>\n",
       "      <td>1</td>\n",
       "      <td>Carlsbad</td>\n",
       "      <td>Baseline</td>\n",
       "      <td>A</td>\n",
       "      <td>sw_onshore_intake</td>\n",
       "      <td>Land_Cost</td>\n",
       "      <td>$MM</td>\n",
       "      <td>0.031474</td>\n",
       "      <td>land_cost</td>\n",
       "    </tr>\n",
       "    <tr>\n",
       "      <th>2</th>\n",
       "      <td>2</td>\n",
       "      <td>Carlsbad</td>\n",
       "      <td>Baseline</td>\n",
       "      <td>A</td>\n",
       "      <td>sw_onshore_intake</td>\n",
       "      <td>Working Capital</td>\n",
       "      <td>$MM</td>\n",
       "      <td>1.049136</td>\n",
       "      <td>working_cap</td>\n",
       "    </tr>\n",
       "    <tr>\n",
       "      <th>3</th>\n",
       "      <td>3</td>\n",
       "      <td>Carlsbad</td>\n",
       "      <td>Baseline</td>\n",
       "      <td>A</td>\n",
       "      <td>sw_onshore_intake</td>\n",
       "      <td>Total Capital Investment (TCI)</td>\n",
       "      <td>$MM</td>\n",
       "      <td>22.063332</td>\n",
       "      <td>total_cap_investment</td>\n",
       "    </tr>\n",
       "    <tr>\n",
       "      <th>4</th>\n",
       "      <td>4</td>\n",
       "      <td>Carlsbad</td>\n",
       "      <td>Baseline</td>\n",
       "      <td>A</td>\n",
       "      <td>sw_onshore_intake</td>\n",
       "      <td>Catalysts and Chemicals</td>\n",
       "      <td>$MM/yr</td>\n",
       "      <td>0.000000</td>\n",
       "      <td>cat_and_chem_cost</td>\n",
       "    </tr>\n",
       "  </tbody>\n",
       "</table>\n",
       "</div>"
      ],
      "text/plain": [
       "   Unnamed: 0 case_study  scenario train       unit_process  \\\n",
       "0           0   Carlsbad  Baseline     A  sw_onshore_intake   \n",
       "1           1   Carlsbad  Baseline     A  sw_onshore_intake   \n",
       "2           2   Carlsbad  Baseline     A  sw_onshore_intake   \n",
       "3           3   Carlsbad  Baseline     A  sw_onshore_intake   \n",
       "4           4   Carlsbad  Baseline     A  sw_onshore_intake   \n",
       "\n",
       "                         Variable    unit      value              variable  \n",
       "0  Fixed Capital Investment (FCI)     $MM  20.982722         fixed_cap_inv  \n",
       "1                       Land_Cost     $MM   0.031474             land_cost  \n",
       "2                 Working Capital     $MM   1.049136           working_cap  \n",
       "3  Total Capital Investment (TCI)     $MM  22.063332  total_cap_investment  \n",
       "4         Catalysts and Chemicals  $MM/yr   0.000000     cat_and_chem_cost  "
      ]
     },
     "execution_count": 22,
     "metadata": {},
     "output_type": "execute_result"
    }
   ],
   "source": [
    "df[df.case_study == train['case_study']]\n",
    "df[df.scenario == train['scenario']]\n",
    "df[df.unit_process == str(b_unit)[3:]]\n",
    "print(df[df.Variable == \"Fixed Capital Investment (FCI)\"])"
   ]
  },
  {
   "cell_type": "code",
   "execution_count": 23,
   "metadata": {},
   "outputs": [
    {
     "name": "stdout",
     "output_type": "stream",
     "text": [
      "fs.mixer2.mixed_state\n"
     ]
    }
   ],
   "source": [
    "print(b_unit)"
   ]
  },
  {
   "cell_type": "code",
   "execution_count": null,
   "metadata": {},
   "outputs": [],
   "source": []
  },
  {
   "cell_type": "code",
   "execution_count": null,
   "metadata": {},
   "outputs": [],
   "source": [
    "Excel_variable\n",
    "Python_variable\n",
    "Unit\n",
    "\n",
    "Fixed Capital Investment (FCI)\n",
    "fixed_cap_inv\n",
    "$MM\n",
    "\n",
    "Catalysts and Chemicals\n",
    "cat_and_chem_cost\n",
    "$MM/yr\n",
    "\n",
    "Electricity\n",
    "electricity_cost\n",
    "$MM/yr\n",
    "\n",
    "Other Operating\n",
    "other_var_cost\n",
    "$MM/yr\n",
    "\n",
    "Total Fixed Operating \n",
    "total_fixed_op_cost\n",
    "$MM/yr\n",
    "\n",
    "Levelized Cost\n",
    "LCOW\n",
    "$/m3\n",
    "\n",
    "\n",
    "\n",
    "\n"
   ]
  },
  {
   "cell_type": "code",
   "execution_count": null,
   "metadata": {},
   "outputs": [],
   "source": []
  },
  {
   "cell_type": "code",
   "execution_count": null,
   "metadata": {},
   "outputs": [],
   "source": []
  },
  {
   "cell_type": "code",
   "execution_count": null,
   "metadata": {},
   "outputs": [],
   "source": []
  },
  {
   "cell_type": "code",
   "execution_count": null,
   "metadata": {},
   "outputs": [],
   "source": []
  },
  {
   "cell_type": "code",
   "execution_count": null,
   "metadata": {},
   "outputs": [],
   "source": []
  },
  {
   "cell_type": "code",
   "execution_count": null,
   "metadata": {},
   "outputs": [],
   "source": []
  },
  {
   "cell_type": "code",
   "execution_count": null,
   "metadata": {},
   "outputs": [],
   "source": []
  },
  {
   "cell_type": "code",
   "execution_count": null,
   "metadata": {},
   "outputs": [],
   "source": []
  },
  {
   "cell_type": "code",
   "execution_count": null,
   "metadata": {},
   "outputs": [],
   "source": []
  },
  {
   "cell_type": "code",
   "execution_count": null,
   "metadata": {},
   "outputs": [],
   "source": []
  },
  {
   "cell_type": "code",
   "execution_count": null,
   "metadata": {},
   "outputs": [],
   "source": []
  },
  {
   "cell_type": "code",
   "execution_count": null,
   "metadata": {},
   "outputs": [],
   "source": []
  },
  {
   "cell_type": "code",
   "execution_count": null,
   "metadata": {},
   "outputs": [],
   "source": []
  },
  {
   "cell_type": "code",
   "execution_count": null,
   "metadata": {},
   "outputs": [],
   "source": []
  },
  {
   "cell_type": "code",
   "execution_count": null,
   "metadata": {},
   "outputs": [],
   "source": []
  },
  {
   "cell_type": "code",
   "execution_count": null,
   "metadata": {},
   "outputs": [],
   "source": []
  },
  {
   "cell_type": "code",
   "execution_count": null,
   "metadata": {},
   "outputs": [],
   "source": []
  },
  {
   "cell_type": "code",
   "execution_count": null,
   "metadata": {},
   "outputs": [],
   "source": []
  },
  {
   "cell_type": "code",
   "execution_count": null,
   "metadata": {},
   "outputs": [],
   "source": []
  },
  {
   "cell_type": "code",
   "execution_count": null,
   "metadata": {},
   "outputs": [],
   "source": []
  },
  {
   "cell_type": "code",
   "execution_count": null,
   "metadata": {},
   "outputs": [],
   "source": []
  },
  {
   "cell_type": "code",
   "execution_count": null,
   "metadata": {},
   "outputs": [],
   "source": []
  },
  {
   "cell_type": "code",
   "execution_count": null,
   "metadata": {},
   "outputs": [],
   "source": []
  },
  {
   "cell_type": "code",
   "execution_count": null,
   "metadata": {},
   "outputs": [],
   "source": []
  },
  {
   "cell_type": "code",
   "execution_count": null,
   "metadata": {},
   "outputs": [],
   "source": []
  },
  {
   "cell_type": "code",
   "execution_count": null,
   "metadata": {},
   "outputs": [],
   "source": []
  },
  {
   "cell_type": "code",
   "execution_count": null,
   "metadata": {},
   "outputs": [],
   "source": []
  },
  {
   "cell_type": "code",
   "execution_count": null,
   "metadata": {},
   "outputs": [],
   "source": []
  },
  {
   "cell_type": "code",
   "execution_count": null,
   "metadata": {},
   "outputs": [],
   "source": []
  },
  {
   "cell_type": "code",
   "execution_count": null,
   "metadata": {},
   "outputs": [],
   "source": []
  },
  {
   "cell_type": "code",
   "execution_count": null,
   "metadata": {},
   "outputs": [],
   "source": []
  },
  {
   "cell_type": "code",
   "execution_count": null,
   "metadata": {},
   "outputs": [],
   "source": []
  },
  {
   "cell_type": "code",
   "execution_count": null,
   "metadata": {},
   "outputs": [],
   "source": []
  },
  {
   "cell_type": "code",
   "execution_count": null,
   "metadata": {},
   "outputs": [],
   "source": []
  },
  {
   "cell_type": "code",
   "execution_count": null,
   "metadata": {},
   "outputs": [],
   "source": []
  },
  {
   "cell_type": "code",
   "execution_count": null,
   "metadata": {
    "scrolled": true
   },
   "outputs": [],
   "source": [
    "cost_range_list = []; #results will be inputted in this array\n",
    "#up_name = \"tri_media_filtration\" # which unit process it applies to. TODO hould be user input.\n",
    "\n",
    "#for value_change in pct_to_target1: # cycles through each value from MC range\n",
    "for value_change in [0.4, 0.8]: #, 0.9]:\n",
    "\n",
    "    # create and build model\n",
    "    m = wt.watertap_setup(dynamic = False)\n",
    "    m = wt.case_study_trains.get_case_study(name = 'carlsbad', flow = 4.5833, m = m)\n",
    "\n",
    "    m.fs.tri_media_filtration.water_recovery.fix(value_change)\n",
    "\n",
    "    # set variable to MC value\n",
    "    wt.run_water_tap(m)\n",
    "    results_table = get_results_table(m, unit_process_name)\n",
    "    cost_range_list.append(results_table.total_up_cost.sum())\n"
   ]
  },
  {
   "cell_type": "code",
   "execution_count": null,
   "metadata": {},
   "outputs": [],
   "source": [
    "cost_range_list"
   ]
  },
  {
   "cell_type": "code",
   "execution_count": null,
   "metadata": {},
   "outputs": [],
   "source": []
  },
  {
   "cell_type": "code",
   "execution_count": null,
   "metadata": {},
   "outputs": [],
   "source": []
  },
  {
   "cell_type": "code",
   "execution_count": null,
   "metadata": {},
   "outputs": [],
   "source": []
  },
  {
   "cell_type": "code",
   "execution_count": null,
   "metadata": {},
   "outputs": [],
   "source": []
  },
  {
   "cell_type": "code",
   "execution_count": null,
   "metadata": {},
   "outputs": [],
   "source": []
  },
  {
   "cell_type": "code",
   "execution_count": null,
   "metadata": {},
   "outputs": [],
   "source": []
  },
  {
   "cell_type": "code",
   "execution_count": null,
   "metadata": {},
   "outputs": [],
   "source": []
  },
  {
   "cell_type": "code",
   "execution_count": null,
   "metadata": {},
   "outputs": [],
   "source": [
    "#### DO NOT USE THE BELOW ####"
   ]
  },
  {
   "cell_type": "code",
   "execution_count": null,
   "metadata": {},
   "outputs": [],
   "source": [
    "import time\n",
    "from multiprocessing import Pool\n",
    "import multiprocessing\n",
    "\n",
    "mu = 0.6\n",
    "sigma = .1\n",
    "num_reps = 50\n",
    "\n",
    "input_list = np.random.normal(mu,sigma, size = num_reps) #, sigma, num_reps).round(4)\n",
    "\n",
    "count, bins, ignored = plt.hist(input_list, 25, density=True)\n",
    "plt.plot(bins, 1/(sigma * np.sqrt(2 * np.pi)) * np.exp( - (bins - mu)**2 / (2 * sigma**2) ),\n",
    "          linewidth=2, color='r')\n",
    "plt.show()\n",
    "\n",
    "### INPUT TO MODEL LIST: ### CAN BE AUTOMATED FOR USER TO LABEL THE VARIABLE. TOOD ###\n",
    "no_of_proc = 4\n",
    "list_final = []\n",
    "for i in range(no_of_proc):\n",
    "    part2 = len(input_list) / no_of_proc\n",
    "    i2 = ((i+1)*part2)\n",
    "    list1 = input_list[int(i*part2):int(i2)]\n",
    "    list_final.append(list1)\n",
    "    \n",
    "    \n",
    "def monte_run(list_final):\n",
    "    print('goes in')\n",
    "\n",
    "    up_name = \"tri_media_filtration\" # which unit process it applies to. TODO hould be user input.\n",
    "    cost_range_list = []; #results will be inputted in this array\n",
    "\n",
    "    #for value_change in pct_to_target1: # cycles through each value from MC range\n",
    "    for value_change in list_final:\n",
    "\n",
    "        # create and build model\n",
    "        m = wt.watertap_setup(dynamic = False)\n",
    "        m = wt.case_study_trains.get_case_study(name = 'carlsbad', flow = 4.5833, m = m)\n",
    "\n",
    "        getattr(m.fs, up_name).water_recovery.fix(value_change)\n",
    "\n",
    "        # set variable to MC value\n",
    "        result = wt.run_water_tap(m)\n",
    "        results_table = get_results_table(m, unit_process_names)\n",
    "        cost_range_list.append(results_table.total_up_cost.sum())\n",
    "\n",
    "\n",
    "    return cost_range_list\n",
    "\n",
    "startTime = time.time()\n",
    "\n",
    "pool=Pool()\n",
    "dfs = pool.map(monte_run, list_final) #SomeClass().preprocess_data()\n",
    "\n",
    "executionTime = (time.time() - startTime)\n",
    "print('Execution time in seconds: ' + str(executionTime))"
   ]
  },
  {
   "cell_type": "code",
   "execution_count": null,
   "metadata": {},
   "outputs": [],
   "source": []
  },
  {
   "cell_type": "code",
   "execution_count": null,
   "metadata": {},
   "outputs": [],
   "source": []
  },
  {
   "cell_type": "code",
   "execution_count": null,
   "metadata": {},
   "outputs": [],
   "source": []
  },
  {
   "cell_type": "code",
   "execution_count": null,
   "metadata": {},
   "outputs": [],
   "source": []
  },
  {
   "cell_type": "code",
   "execution_count": null,
   "metadata": {},
   "outputs": [],
   "source": [
    "####TO DO LOAD AND SAVE!!"
   ]
  },
  {
   "cell_type": "code",
   "execution_count": null,
   "metadata": {},
   "outputs": [],
   "source": [
    "#### SAVE TRAIN ####\n",
    "# path = 'trains/Tutorial1_treatment_train_example.csv'\n",
    "# wt.save_train(T, path)"
   ]
  },
  {
   "cell_type": "code",
   "execution_count": null,
   "metadata": {},
   "outputs": [],
   "source": [
    "# #### LOAD TRAIN ####\n",
    "# path = 'trains/Tutorial1_treatment_train_example.csv'\n",
    "# TT = wt.load_train(path)"
   ]
  },
  {
   "cell_type": "code",
   "execution_count": null,
   "metadata": {},
   "outputs": [],
   "source": [
    "# wt.display.show_train(TT)"
   ]
  },
  {
   "cell_type": "code",
   "execution_count": null,
   "metadata": {},
   "outputs": [],
   "source": []
  },
  {
   "cell_type": "code",
   "execution_count": null,
   "metadata": {},
   "outputs": [],
   "source": []
  },
  {
   "cell_type": "code",
   "execution_count": null,
   "metadata": {},
   "outputs": [],
   "source": []
  },
  {
   "cell_type": "code",
   "execution_count": null,
   "metadata": {},
   "outputs": [],
   "source": []
  }
 ],
 "metadata": {
  "celltoolbar": "Raw Cell Format",
  "kernelspec": {
   "display_name": "Python 3",
   "language": "python",
   "name": "python3"
  },
  "language_info": {
   "codemirror_mode": {
    "name": "ipython",
    "version": 3
   },
   "file_extension": ".py",
   "mimetype": "text/x-python",
   "name": "python",
   "nbconvert_exporter": "python",
   "pygments_lexer": "ipython3",
   "version": "3.7.4"
  }
 },
 "nbformat": 4,
 "nbformat_minor": 2
}
