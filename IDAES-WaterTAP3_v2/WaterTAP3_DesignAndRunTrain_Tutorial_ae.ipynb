{
 "cells": [
  {
   "cell_type": "code",
   "execution_count": 1,
   "metadata": {},
   "outputs": [],
   "source": [
    "%matplotlib inline\n",
    "from pylab import *\n",
    "import pandas as pd\n",
    "import numpy as np\n",
    "import matplotlib.pyplot as plt\n",
    "import networkx as nx\n",
    "from networkx.drawing.nx_agraph import write_dot, graphviz_layout\n",
    "from pyomo.environ import ConcreteModel, SolverFactory, TerminationCondition, \\\n",
    "    value, Var, Constraint, Expression, Objective, TransformationFactory, units as pyunits\n",
    "from pyomo.network import Arc, SequentialDecomposition\n",
    "from idaes.core.util.model_statistics import degrees_of_freedom"
   ]
  },
  {
   "cell_type": "markdown",
   "metadata": {},
   "source": [
    "### TODO: CREATE INTRO"
   ]
  },
  {
   "cell_type": "markdown",
   "metadata": {},
   "source": [
    "##### Import WaterTAP3 Package"
   ]
  },
  {
   "cell_type": "code",
   "execution_count": 2,
   "metadata": {},
   "outputs": [],
   "source": [
    "import watertap as wt"
   ]
  },
  {
   "cell_type": "markdown",
   "metadata": {},
   "source": [
    "##### Step 1: Look up unit process library. Returns a List."
   ]
  },
  {
   "cell_type": "code",
   "execution_count": 3,
   "metadata": {},
   "outputs": [
    {
     "data": {
      "text/plain": [
       "['chlorination_twb',\n",
       " 'media_filtration_twb',\n",
       " 'microfiltration_twb',\n",
       " 'ultrafiltration_twb',\n",
       " 'nanofiltration_twb',\n",
       " 'coag_and_flocro_twb',\n",
       " 'uv_twb',\n",
       " 'ro_bor',\n",
       " 'uvozone_twb',\n",
       " 'mbr',\n",
       " 'water_pumping_station',\n",
       " 'ro_deep',\n",
       " 'media_filtration',\n",
       " 'coag_and_floc',\n",
       " 'lime_softening',\n",
       " 'ro_deep',\n",
       " 'treated_storage_24_hr',\n",
       " 'sedimentation',\n",
       " 'water_pumping_station',\n",
       " 'sulfuric_acid_addition',\n",
       " 'sodium_bisulfite_addition',\n",
       " 'co2_addition',\n",
       " 'ammonia_addition',\n",
       " 'municipal_drinking',\n",
       " 'sw_onshore_intake',\n",
       " 'holding_tank',\n",
       " 'tri_media_filtration',\n",
       " 'cartridge_filtration']"
      ]
     },
     "execution_count": 3,
     "metadata": {},
     "output_type": "execute_result"
    }
   ],
   "source": [
    "wt.unit_process_library_list"
   ]
  },
  {
   "cell_type": "markdown",
   "metadata": {},
   "source": [
    "##### Step 3: Set up IDAES flowsheet for watertap. This selects a property package for you (see water_props.py). The property package could be changed in the future for performing heat/energy and other balances."
   ]
  },
  {
   "cell_type": "code",
   "execution_count": 4,
   "metadata": {},
   "outputs": [],
   "source": [
    "m = wt.watertap_setup(dynamic = False)"
   ]
  },
  {
   "cell_type": "markdown",
   "metadata": {},
   "source": [
    "##### Step 3: Add a water source and define inlet flow."
   ]
  },
  {
   "cell_type": "code",
   "execution_count": 5,
   "metadata": {},
   "outputs": [],
   "source": [
    "m = wt.design.add_water_source(m = m, source_name = \"source1\", link_to = None, \n",
    "                     reference = \"Poseidon\", water_type = \"Wastewater\", \n",
    "                     case_study = \"Typical untreated domestic wastewater\",\n",
    "                               flow = 4.5833) # m3/s (4.38 m3/s = 100 MGD) (16500 m3/h = 104.6121 MGD = 4.5833 m3/s)"
   ]
  },
  {
   "cell_type": "markdown",
   "metadata": {},
   "source": [
    "##### Step 4: Add a unit process. You can also add a unit process a link it directly to another unit process or source."
   ]
  },
  {
   "cell_type": "code",
   "execution_count": 6,
   "metadata": {},
   "outputs": [],
   "source": [
    "m = wt.design.add_unit_process(m = m, unit_process_name = \"ro\", unit_process_type = 'treated_storage_24_hr')"
   ]
  },
  {
   "cell_type": "markdown",
   "metadata": {},
   "source": [
    "##### Step X: Connect the unit process to the source."
   ]
  },
  {
   "cell_type": "code",
   "execution_count": 7,
   "metadata": {},
   "outputs": [],
   "source": [
    "m = wt.design.connect_blocks(m = m, \n",
    "                    stream_name = \"arc1\",\n",
    "                    from_node = \"source1\",\n",
    "                    to_node = \"ro\")"
   ]
  },
  {
   "cell_type": "code",
   "execution_count": 8,
   "metadata": {},
   "outputs": [
    {
     "data": {
      "text/html": [
       "\n",
       "        <iframe\n",
       "            width=\"100%\"\n",
       "            height=\"500px\"\n",
       "            src=\"tmp/example.html\"\n",
       "            frameborder=\"0\"\n",
       "            allowfullscreen\n",
       "        ></iframe>\n",
       "        "
      ],
      "text/plain": [
       "<IPython.lib.display.IFrame at 0x7f968cec7b10>"
      ]
     },
     "execution_count": 8,
     "metadata": {},
     "output_type": "execute_result"
    }
   ],
   "source": [
    "wt.display.show_train2(model_name=m)"
   ]
  },
  {
   "cell_type": "markdown",
   "metadata": {},
   "source": [
    "##### Step 5:  Run model and display results. The resutls display will be put into easier format to read for user soon."
   ]
  },
  {
   "cell_type": "code",
   "execution_count": 9,
   "metadata": {},
   "outputs": [
    {
     "name": "stdout",
     "output_type": "stream",
     "text": [
      "Ipopt 3.12.12: \n",
      "\n",
      "******************************************************************************\n",
      "This program contains Ipopt, a library for large-scale nonlinear optimization.\n",
      " Ipopt is released as open source code under the Eclipse Public License (EPL).\n",
      "         For more information visit http://projects.coin-or.org/Ipopt\n",
      "******************************************************************************\n",
      "\n",
      "This is Ipopt version 3.12.12, running with linear solver mumps.\n",
      "NOTE: Other linear solvers might be more efficient (see Ipopt documentation).\n",
      "\n",
      "Number of nonzeros in equality constraint Jacobian...:       74\n",
      "Number of nonzeros in inequality constraint Jacobian.:        0\n",
      "Number of nonzeros in Lagrangian Hessian.............:       15\n",
      "\n",
      "Total number of variables............................:       30\n",
      "                     variables with only lower bounds:        0\n",
      "                variables with lower and upper bounds:        0\n",
      "                     variables with only upper bounds:        0\n",
      "Total number of equality constraints.................:       30\n",
      "Total number of inequality constraints...............:        0\n",
      "        inequality constraints with only lower bounds:        0\n",
      "   inequality constraints with lower and upper bounds:        0\n",
      "        inequality constraints with only upper bounds:        0\n",
      "\n",
      "iter    objective    inf_pr   inf_du lg(mu)  ||d||  lg(rg) alpha_du alpha_pr  ls\n",
      "   0  0.0000000e+00 1.00e+05 0.00e+00  -1.0 0.00e+00    -  0.00e+00 0.00e+00   0\n",
      "   1  0.0000000e+00 1.18e+04 0.00e+00  -1.0 1.00e+05    -  1.00e+00 1.00e+00h  1\n",
      "   2  0.0000000e+00 4.75e-12 0.00e+00  -1.0 1.49e+15    -  1.00e+00 1.00e+00h  1\n",
      "Cannot recompute multipliers for feasibility problem.  Error in eq_mult_calculator\n",
      "\n",
      "Number of Iterations....: 2\n",
      "\n",
      "                                   (scaled)                 (unscaled)\n",
      "Objective...............:   0.0000000000000000e+00    0.0000000000000000e+00\n",
      "Dual infeasibility......:   0.0000000000000000e+00    0.0000000000000000e+00\n",
      "Constraint violation....:   4.7497451257467668e-12    4.7497451257467668e-12\n",
      "Complementarity.........:   0.0000000000000000e+00    0.0000000000000000e+00\n",
      "Overall NLP error.......:   4.7497451257467668e-12    4.7497451257467668e-12\n",
      "\n",
      "\n",
      "Number of objective function evaluations             = 3\n",
      "Number of objective gradient evaluations             = 3\n",
      "Number of equality constraint evaluations            = 3\n",
      "Number of inequality constraint evaluations          = 0\n",
      "Number of equality constraint Jacobian evaluations   = 3\n",
      "Number of inequality constraint Jacobian evaluations = 0\n",
      "Number of Lagrangian Hessian evaluations             = 2\n",
      "Total CPU secs in IPOPT (w/o function evaluations)   =      0.024\n",
      "Total CPU secs in NLP function evaluations           =      0.000\n",
      "\n",
      "EXIT: Optimal Solution Found.\n",
      "\bdegrees_of_freedom: 0\n",
      "----------------------------------------------------------------------\n",
      "fs.source1\n",
      "inlet : Size=1\n",
      "    Key  : Name        : Value\n",
      "    None :   conc_mass : {(0.0, 'TDS'): 720.0, (0.0, 'TOC'): 140.0, (0.0, 'nitrates'): 0.0}\n",
      "         :    flow_vol : {0.0: 4.5833}\n",
      "         :    pressure : {0.0: 200000.0}\n",
      "         : temperature : {0.0: 300}\n",
      "outlet : Size=1\n",
      "    Key  : Name        : Value\n",
      "    None :   conc_mass : {(0.0, 'TDS'): 719.9280000000003, (0.0, 'TOC'): 139.98600000000022, (0.0, 'nitrates'): 0.0}\n",
      "         :    flow_vol : {0.0: 4.5833}\n",
      "         :    pressure : {0.0: 199999.9999}\n",
      "         : temperature : {0.0: 300.0}\n",
      "waste : Size=1\n",
      "    Key  : Name        : Value\n",
      "    None :   conc_mass : {(0.0, 'TDS'): -1486177068393158.2, (0.0, 'TOC'): -288978874409780.75, (0.0, 'nitrates'): 0.0}\n",
      "         :    flow_vol : {0.0: -2.220446049250313e-16}\n",
      "         :    pressure : {0.0: 199999.9999}\n",
      "         : temperature : {0.0: 300.0}\n",
      "Show some costing values\n",
      "---------------------\n",
      "should skip: source1\n",
      "----------------------------------------------------------------------\n",
      "fs.ro\n",
      "inlet : Size=1\n",
      "    Key  : Name        : Value\n",
      "    None :   conc_mass : {(0.0, 'TDS'): 719.9280000000003, (0.0, 'TOC'): 139.98600000000022, (0.0, 'nitrates'): 0.0}\n",
      "         :    flow_vol : {0.0: 4.5833}\n",
      "         :    pressure : {0.0: 199999.9999}\n",
      "         : temperature : {0.0: 300.0}\n",
      "outlet : Size=1\n",
      "    Key  : Name        : Value\n",
      "    None :   conc_mass : {(0.0, 'TDS'): 719.935199351994, (0.0, 'TOC'): 139.98739987399892, (0.0, 'nitrates'): 0.0}\n",
      "         :    flow_vol : {0.0: 4.583254167000001}\n",
      "         :    pressure : {0.0: 199999.9998}\n",
      "         : temperature : {0.0: 300.0}\n",
      "waste : Size=1\n",
      "    Key  : Name        : Value\n",
      "    None :   conc_mass : {(0.0, 'TDS'): 0.0, (0.0, 'TOC'): 0.0, (0.0, 'nitrates'): 0.0}\n",
      "         :    flow_vol : {0.0: 4.583299999971757e-05}\n",
      "         :    pressure : {0.0: 199999.9998}\n",
      "         : temperature : {0.0: 300.0}\n",
      "Show some costing values\n",
      "---------------------\n",
      "should have a cost ro\n",
      "total_up_cost: 28.541173818082854\n",
      "----------------------------------------------------------------------\n"
     ]
    }
   ],
   "source": [
    "# Set up a solver in Pyomo and solve\n",
    "solver1 = SolverFactory('ipopt')\n",
    "results = solver1.solve(m, tee=True)\n",
    "\n",
    "# Transform Arc to construct linking equations\n",
    "TransformationFactory(\"network.expand_arcs\").apply_to(m)\n",
    "seq = SequentialDecomposition()\n",
    "G = seq.create_graph(m)\n",
    "print(\"degrees_of_freedom:\", degrees_of_freedom(m))\n",
    "\n",
    "# Display the inlets and outlets of each unit\n",
    "for node in G.nodes():\n",
    "    print(\"----------------------------------------------------------------------\")\n",
    "    print(node)\n",
    "    \n",
    "    if \"split\" in (str(node).replace('fs.', '')): \n",
    "        getattr(m.fs, str(node).replace('fs.', '')).inlet.display()\n",
    "        getattr(m.fs, str(node).replace('fs.', '')).outlet1.display()\n",
    "        getattr(m.fs, str(node).replace('fs.', '')).outlet2.display()\n",
    "    elif \"use\" in (str(node).replace('fs.', '')): \n",
    "        getattr(m.fs, str(node).replace('fs.', '')).inlet.display()\n",
    "        getattr(m.fs, str(node).replace('fs.', '')).outlet.display()\n",
    "    elif \"mixer\" in (str(node).replace('fs.', '')): \n",
    "        getattr(m.fs, str(node).replace('fs.', '')).inlet1.display()\n",
    "        getattr(m.fs, str(node).replace('fs.', '')).inlet2.display()\n",
    "        getattr(m.fs, str(node).replace('fs.', '')).outlet.display()\n",
    "    else:\n",
    "        getattr(m.fs, str(node).replace('fs.', '')).inlet.display()\n",
    "        getattr(m.fs, str(node).replace('fs.', '')).outlet.display()\n",
    "        getattr(m.fs, str(node).replace('fs.', '')).waste.display()\n",
    "\n",
    "        \n",
    "    print(\"Show some costing values\")\n",
    "    print(\"---------------------\")\n",
    "    \n",
    "    if \"source\" in (str(node).replace('fs.', '')): \n",
    "        print(\"should skip:\", (str(node).replace('fs.', '')))\n",
    "        continue\n",
    "    elif \"use\" in (str(node).replace('fs.', '')): \n",
    "        print(\"should skip:\", (str(node).replace('fs.', '')))\n",
    "        continue\n",
    "    elif \"split\" in (str(node).replace('fs.', '')): \n",
    "        print(\"should skip:\", (str(node).replace('fs.', '')))\n",
    "        continue  \n",
    "    elif \"mixer\" in (str(node).replace('fs.', '')): \n",
    "        print(\"should skip:\", (str(node).replace('fs.', '')))\n",
    "        continue\n",
    "    else:\n",
    "        print(\"should have a cost\", (str(node).replace('fs.', '')))\n",
    "        if getattr(m.fs, str(node).replace('fs.', '')).costing.fixed_cap_inv_unadjusted() is not None:\n",
    "            print(\"total_up_cost:\" , \n",
    "                  getattr(m.fs, str(node).replace('fs.', '')).costing.fixed_cap_inv_unadjusted())\n",
    "                \n",
    "        else:\n",
    "            getattr(m.fs, str(node).replace('fs.', '')).costing.fixed_cap_inv_unadjusted.display()\n",
    "    \n",
    "    print(\"----------------------------------------------------------------------\")\n",
    "   "
   ]
  },
  {
   "cell_type": "code",
   "execution_count": null,
   "metadata": {},
   "outputs": [],
   "source": []
  },
  {
   "cell_type": "code",
   "execution_count": null,
   "metadata": {},
   "outputs": [],
   "source": []
  },
  {
   "cell_type": "code",
   "execution_count": null,
   "metadata": {},
   "outputs": [],
   "source": []
  },
  {
   "cell_type": "code",
   "execution_count": null,
   "metadata": {},
   "outputs": [],
   "source": []
  },
  {
   "cell_type": "code",
   "execution_count": null,
   "metadata": {},
   "outputs": [],
   "source": []
  },
  {
   "cell_type": "code",
   "execution_count": null,
   "metadata": {},
   "outputs": [],
   "source": []
  },
  {
   "cell_type": "code",
   "execution_count": null,
   "metadata": {},
   "outputs": [],
   "source": []
  },
  {
   "cell_type": "code",
   "execution_count": null,
   "metadata": {},
   "outputs": [],
   "source": []
  },
  {
   "cell_type": "code",
   "execution_count": 10,
   "metadata": {},
   "outputs": [],
   "source": [
    "####TO DO LOAD AND SAVE!!"
   ]
  },
  {
   "cell_type": "code",
   "execution_count": 11,
   "metadata": {},
   "outputs": [],
   "source": [
    "#### SAVE TRAIN ####\n",
    "# path = 'trains/Tutorial1_treatment_train_example.csv'\n",
    "# wt.save_train(T, path)"
   ]
  },
  {
   "cell_type": "code",
   "execution_count": 12,
   "metadata": {},
   "outputs": [],
   "source": [
    "# #### LOAD TRAIN ####\n",
    "# path = 'trains/Tutorial1_treatment_train_example.csv'\n",
    "# TT = wt.load_train(path)"
   ]
  },
  {
   "cell_type": "code",
   "execution_count": 13,
   "metadata": {},
   "outputs": [],
   "source": [
    "# wt.display.show_train(TT)"
   ]
  },
  {
   "cell_type": "code",
   "execution_count": null,
   "metadata": {},
   "outputs": [],
   "source": []
  },
  {
   "cell_type": "code",
   "execution_count": null,
   "metadata": {},
   "outputs": [],
   "source": []
  },
  {
   "cell_type": "code",
   "execution_count": null,
   "metadata": {},
   "outputs": [],
   "source": []
  },
  {
   "cell_type": "code",
   "execution_count": null,
   "metadata": {},
   "outputs": [],
   "source": []
  },
  {
   "cell_type": "code",
   "execution_count": null,
   "metadata": {},
   "outputs": [],
   "source": []
  },
  {
   "cell_type": "code",
   "execution_count": null,
   "metadata": {},
   "outputs": [],
   "source": []
  }
 ],
 "metadata": {
  "celltoolbar": "Raw Cell Format",
  "kernelspec": {
   "display_name": "Python 3",
   "language": "python",
   "name": "python3"
  },
  "language_info": {
   "codemirror_mode": {
    "name": "ipython",
    "version": 3
   },
   "file_extension": ".py",
   "mimetype": "text/x-python",
   "name": "python",
   "nbconvert_exporter": "python",
   "pygments_lexer": "ipython3",
   "version": "3.7.4"
  }
 },
 "nbformat": 4,
 "nbformat_minor": 2
}
