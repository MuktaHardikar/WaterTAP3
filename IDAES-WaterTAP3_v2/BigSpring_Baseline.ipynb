{
 "cells": [
  {
   "cell_type": "code",
   "execution_count": 1,
   "metadata": {
    "scrolled": true
   },
   "outputs": [
    {
     "name": "stdout",
     "output_type": "stream",
     "text": [
      "big_spring\n",
      "------- Adding Unit Processes -------\n",
      "onsite_storage\n",
      "microfiltration\n",
      "reverse_osmosis\n",
      "uv_aop\n",
      "treated_storage\n",
      "21600.0\n",
      "municipal_drinking\n",
      "surface_discharge\n",
      "-------------------------------------\n",
      "adding source\n",
      "adding splitter\n",
      "params into splitter --> [0.75, 0.25]\n",
      "----- Connecting Unit Processes -----\n",
      "big_spring_feed ToUnitName --> onsite_storage\n",
      "onsite_storage ToUnitName --> microfiltration\n",
      "uv_aop ToUnitName --> treated_storage\n",
      "treated_storage ToUnitName --> municipal_drinking\n",
      "reverse_osmosis ToUnitName --> mixer1\n",
      "mixer1 ToUnitName --> uv_aop\n",
      "splitter1 ToUnitName --> reverse_osmosis\n",
      "splitter1 ToUnitName --> mixer1\n",
      "microfiltration ToUnitName --> splitter1\n",
      "-------------------------------------\n"
     ]
    }
   ],
   "source": [
    "import watertap as wt\n",
    "import pandas as pd\n",
    "from pyomo.environ import value, Block\n",
    "from idaes.core import FlowsheetBlock\n",
    "import numpy as np\n",
    "from case_study_trains import *\n",
    "import case_study_trains\n",
    "import pyomo.environ as env\n",
    "\n",
    "m = wt.watertap_setup(dynamic = False)\n",
    "\n",
    "\n",
    "wt.case_study_trains.train = {\"case_study\": \"big_spring\",\n",
    "                             \"reference\": \"nawi\",\n",
    "                             \"scenario\": \"baseline\"}\n",
    "\n",
    "\n",
    "wt.case_study_trains.source_water = {\"case_study\": \"big_spring\", \n",
    "                             \"reference\": \"nawi\",\n",
    "                             \"scenario\": \"baseline\",\n",
    "                             \"water_type\": \"big_spring_feed\"}\n",
    "\n",
    "m = wt.case_study_trains.get_case_study(m=m) # flow is set as case study flow unless defined.\n"
   ]
  },
  {
   "cell_type": "code",
   "execution_count": null,
   "metadata": {},
   "outputs": [],
   "source": []
  },
  {
   "cell_type": "code",
   "execution_count": null,
   "metadata": {},
   "outputs": [],
   "source": []
  },
  {
   "cell_type": "code",
   "execution_count": null,
   "metadata": {},
   "outputs": [],
   "source": []
  },
  {
   "cell_type": "code",
   "execution_count": null,
   "metadata": {},
   "outputs": [],
   "source": []
  },
  {
   "cell_type": "code",
   "execution_count": null,
   "metadata": {},
   "outputs": [],
   "source": []
  },
  {
   "cell_type": "code",
   "execution_count": 2,
   "metadata": {
    "scrolled": false
   },
   "outputs": [
    {
     "data": {
      "text/html": [
       "\n",
       "        <iframe\n",
       "            width=\"100%\"\n",
       "            height=\"500px\"\n",
       "            src=\"tmp/example.html\"\n",
       "            frameborder=\"0\"\n",
       "            allowfullscreen\n",
       "        ></iframe>\n",
       "        "
      ],
      "text/plain": [
       "<IPython.lib.display.IFrame at 0x7fc01bb3c6d0>"
      ]
     },
     "execution_count": 2,
     "metadata": {},
     "output_type": "execute_result"
    }
   ],
   "source": [
    "wt.display.show_train2(model_name=m)"
   ]
  },
  {
   "cell_type": "code",
   "execution_count": 3,
   "metadata": {},
   "outputs": [],
   "source": [
    "#m.fs.emwd_ca_brackish.flow_vol_in.fix(4)"
   ]
  },
  {
   "cell_type": "code",
   "execution_count": 4,
   "metadata": {},
   "outputs": [],
   "source": [
    "# RUN MODEL with optimal ro so that the model solves. Then runs again with set pressure. "
   ]
  },
  {
   "cell_type": "code",
   "execution_count": 5,
   "metadata": {
    "scrolled": true
   },
   "outputs": [
    {
     "name": "stdout",
     "output_type": "stream",
     "text": [
      "unfixing feed presure and area for reverse_osmosis\n",
      "initial inflow to train is relatively small (< 1 m3/s). running model with dummy flows to initialize.\n",
      "degrees_of_freedom: 2\n",
      "WaterTAP3 solution optimal\n",
      "model finished running to initialize conditions. now running with actual inflows.\n",
      "degrees_of_freedom: 2\n",
      "WaterTAP3 solution optimal\n",
      "optimal ro area and pressures:\n",
      "reverse_osmosis feed pressure 28.782214632289488\n",
      "reverse_osmosis membrane area 7506.2262542672215\n",
      "setting feed presure for reverse_osmosis to --> 85\n",
      "degrees_of_freedom: 1\n"
     ]
    },
    {
     "ename": "ValueError",
     "evalue": "Cannot load a SolverResults object with bad status: error",
     "output_type": "error",
     "traceback": [
      "\u001b[0;31m---------------------------------------------------------------------------\u001b[0m",
      "\u001b[0;31mValueError\u001b[0m                                Traceback (most recent call last)",
      "\u001b[0;32m<ipython-input-5-bc7f4406101b>\u001b[0m in \u001b[0;36m<module>\u001b[0;34m\u001b[0m\n\u001b[1;32m     24\u001b[0m                 \u001b[0mprint\u001b[0m\u001b[0;34m(\u001b[0m\u001b[0;34m\"setting feed presure for\"\u001b[0m\u001b[0;34m,\u001b[0m \u001b[0mkey\u001b[0m\u001b[0;34m,\u001b[0m \u001b[0;34m\"to -->\"\u001b[0m\u001b[0;34m,\u001b[0m \u001b[0mm\u001b[0m\u001b[0;34m.\u001b[0m\u001b[0mfs\u001b[0m\u001b[0;34m.\u001b[0m\u001b[0mpfd_dict\u001b[0m\u001b[0;34m[\u001b[0m\u001b[0mkey\u001b[0m\u001b[0;34m]\u001b[0m\u001b[0;34m[\u001b[0m\u001b[0;34m\"Parameter\"\u001b[0m\u001b[0;34m]\u001b[0m\u001b[0;34m[\u001b[0m\u001b[0;34m\"feed_pressure\"\u001b[0m\u001b[0;34m]\u001b[0m\u001b[0;34m)\u001b[0m\u001b[0;34m\u001b[0m\u001b[0;34m\u001b[0m\u001b[0m\n\u001b[1;32m     25\u001b[0m \u001b[0;34m\u001b[0m\u001b[0m\n\u001b[0;32m---> 26\u001b[0;31m \u001b[0mwt\u001b[0m\u001b[0;34m.\u001b[0m\u001b[0mrun_water_tap\u001b[0m\u001b[0;34m(\u001b[0m\u001b[0mm\u001b[0m \u001b[0;34m=\u001b[0m \u001b[0mm\u001b[0m\u001b[0;34m,\u001b[0m \u001b[0mobjective\u001b[0m\u001b[0;34m=\u001b[0m\u001b[0;32mTrue\u001b[0m\u001b[0;34m,\u001b[0m \u001b[0mprint_model_results\u001b[0m\u001b[0;34m=\u001b[0m\u001b[0;34m\"full\"\u001b[0m\u001b[0;34m,\u001b[0m \u001b[0mskip_small\u001b[0m \u001b[0;34m=\u001b[0m \u001b[0;32mTrue\u001b[0m\u001b[0;34m)\u001b[0m\u001b[0;34m\u001b[0m\u001b[0;34m\u001b[0m\u001b[0m\n\u001b[0m\u001b[1;32m     27\u001b[0m \u001b[0;34m\u001b[0m\u001b[0m\n\u001b[1;32m     28\u001b[0m \u001b[0;32mfor\u001b[0m \u001b[0mkey\u001b[0m \u001b[0;32min\u001b[0m \u001b[0mm\u001b[0m\u001b[0;34m.\u001b[0m\u001b[0mfs\u001b[0m\u001b[0;34m.\u001b[0m\u001b[0mpfd_dict\u001b[0m\u001b[0;34m.\u001b[0m\u001b[0mkeys\u001b[0m\u001b[0;34m(\u001b[0m\u001b[0;34m)\u001b[0m\u001b[0;34m:\u001b[0m\u001b[0;34m\u001b[0m\u001b[0;34m\u001b[0m\u001b[0m\n",
      "\u001b[0;32m~/Documents/Python/watertap3/NAWI-WaterTAP3/IDAES-WaterTAP3_v2/watertap.py\u001b[0m in \u001b[0;36mrun_water_tap\u001b[0;34m(m, solver_results, print_model_results, objective, max_attemps, initialize_flow, skip_small)\u001b[0m\n\u001b[1;32m     61\u001b[0m \u001b[0;34m\u001b[0m\u001b[0m\n\u001b[1;32m     62\u001b[0m     \u001b[0;32melse\u001b[0m\u001b[0;34m:\u001b[0m\u001b[0;34m\u001b[0m\u001b[0;34m\u001b[0m\u001b[0m\n\u001b[0;32m---> 63\u001b[0;31m         run_model(m = m, solver_results = solver_results, print_model_results = print_model_results, \n\u001b[0m\u001b[1;32m     64\u001b[0m                       objective=objective, max_attemps = max_attemps)    \n\u001b[1;32m     65\u001b[0m \u001b[0;34m\u001b[0m\u001b[0m\n",
      "\u001b[0;32m~/Documents/Python/watertap3/NAWI-WaterTAP3/IDAES-WaterTAP3_v2/watertap.py\u001b[0m in \u001b[0;36mrun_model\u001b[0;34m(m, solver_results, print_model_results, objective, max_attemps)\u001b[0m\n\u001b[1;32m    108\u001b[0m     \u001b[0mprint\u001b[0m\u001b[0;34m(\u001b[0m\u001b[0;34m\"degrees_of_freedom:\"\u001b[0m\u001b[0;34m,\u001b[0m \u001b[0mdegrees_of_freedom\u001b[0m\u001b[0;34m(\u001b[0m\u001b[0mm\u001b[0m\u001b[0;34m)\u001b[0m\u001b[0;34m)\u001b[0m\u001b[0;34m\u001b[0m\u001b[0;34m\u001b[0m\u001b[0m\n\u001b[1;32m    109\u001b[0m \u001b[0;34m\u001b[0m\u001b[0m\n\u001b[0;32m--> 110\u001b[0;31m     \u001b[0mresults\u001b[0m \u001b[0;34m=\u001b[0m \u001b[0msolver\u001b[0m\u001b[0;34m.\u001b[0m\u001b[0msolve\u001b[0m\u001b[0;34m(\u001b[0m\u001b[0mm\u001b[0m\u001b[0;34m,\u001b[0m \u001b[0mtee\u001b[0m\u001b[0;34m=\u001b[0m\u001b[0msolver_results\u001b[0m\u001b[0;34m)\u001b[0m\u001b[0;34m\u001b[0m\u001b[0;34m\u001b[0m\u001b[0m\n\u001b[0m\u001b[1;32m    111\u001b[0m \u001b[0;34m\u001b[0m\u001b[0m\n\u001b[1;32m    112\u001b[0m     \u001b[0mattempt_number\u001b[0m \u001b[0;34m=\u001b[0m \u001b[0;36m1\u001b[0m\u001b[0;34m\u001b[0m\u001b[0;34m\u001b[0m\u001b[0m\n",
      "\u001b[0;32m~/opt/anaconda3/lib/python3.8/site-packages/pyomo/opt/base/solvers.py\u001b[0m in \u001b[0;36msolve\u001b[0;34m(self, *args, **kwds)\u001b[0m\n\u001b[1;32m    630\u001b[0m                 \u001b[0;32melse\u001b[0m\u001b[0;34m:\u001b[0m\u001b[0;34m\u001b[0m\u001b[0;34m\u001b[0m\u001b[0m\n\u001b[1;32m    631\u001b[0m                     \u001b[0;32mif\u001b[0m \u001b[0mself\u001b[0m\u001b[0;34m.\u001b[0m\u001b[0m_load_solutions\u001b[0m\u001b[0;34m:\u001b[0m\u001b[0;34m\u001b[0m\u001b[0;34m\u001b[0m\u001b[0m\n\u001b[0;32m--> 632\u001b[0;31m                         _model.solutions.load_from(\n\u001b[0m\u001b[1;32m    633\u001b[0m                             \u001b[0mresult\u001b[0m\u001b[0;34m,\u001b[0m\u001b[0;34m\u001b[0m\u001b[0;34m\u001b[0m\u001b[0m\n\u001b[1;32m    634\u001b[0m                             \u001b[0mselect\u001b[0m\u001b[0;34m=\u001b[0m\u001b[0mself\u001b[0m\u001b[0;34m.\u001b[0m\u001b[0m_select_index\u001b[0m\u001b[0;34m,\u001b[0m\u001b[0;34m\u001b[0m\u001b[0;34m\u001b[0m\u001b[0m\n",
      "\u001b[0;32m~/opt/anaconda3/lib/python3.8/site-packages/pyomo/core/base/PyomoModel.py\u001b[0m in \u001b[0;36mload_from\u001b[0;34m(self, results, allow_consistent_values_for_fixed_vars, comparison_tolerance_for_fixed_vars, ignore_invalid_labels, id, delete_symbol_map, clear, default_variable_value, select, ignore_fixed_vars)\u001b[0m\n\u001b[1;32m    234\u001b[0m                     \"an 'aborted' status, but containing a solution\")\n\u001b[1;32m    235\u001b[0m             \u001b[0;32melse\u001b[0m\u001b[0;34m:\u001b[0m\u001b[0;34m\u001b[0m\u001b[0;34m\u001b[0m\u001b[0m\n\u001b[0;32m--> 236\u001b[0;31m                 raise ValueError(\"Cannot load a SolverResults object \"\n\u001b[0m\u001b[1;32m    237\u001b[0m                                  \u001b[0;34m\"with bad status: %s\"\u001b[0m\u001b[0;34m\u001b[0m\u001b[0;34m\u001b[0m\u001b[0m\n\u001b[1;32m    238\u001b[0m                                  % str(results.solver.status))\n",
      "\u001b[0;31mValueError\u001b[0m: Cannot load a SolverResults object with bad status: error"
     ]
    }
   ],
   "source": [
    "# # RUN MODEL with optimal ro --> estimating area and pressure for optimal LCOW\n",
    "# so that the model solves and gets you results. Then runs again with set pressure.\n",
    "for key in m.fs.pfd_dict.keys():\n",
    "    if m.fs.pfd_dict[key][\"Unit\"] == \"reverse_osmosis\":\n",
    "        getattr(m.fs, key).feed.pressure.unfix()\n",
    "        getattr(m.fs, key).membrane_area.unfix()\n",
    "        print(\"unfixing feed presure and area for\", key)\n",
    "        \n",
    "wt.run_water_tap(m = m, objective=True, skip_small = False)\n",
    "\n",
    "# prints RO results\n",
    "print(\"optimal ro area and pressures:\")\n",
    "for key in m.fs.pfd_dict.keys():\n",
    "    if m.fs.pfd_dict[key][\"Unit\"] == \"reverse_osmosis\":\n",
    "        print(key, \"feed pressure\", getattr(m.fs, key).feed.pressure[0]())\n",
    "        print(key, \"membrane area\", getattr(m.fs, key).membrane_area[0]())\n",
    "\n",
    "# RESET PRESSURE TO USER INPUT\n",
    "for key in m.fs.pfd_dict.keys():\n",
    "    if m.fs.pfd_dict[key][\"Unit\"] == \"reverse_osmosis\":\n",
    "        if \"feed_pressure\" in m.fs.pfd_dict[key][\"Parameter\"]:\n",
    "            if m.fs.pfd_dict[key][\"Parameter\"][\"type\"] == \"pass\":\n",
    "                getattr(m.fs, key).feed.pressure.fix(m.fs.pfd_dict[key][\"Parameter\"][\"feed_pressure\"])\n",
    "                print(\"setting feed presure for\", key, \"to -->\", m.fs.pfd_dict[key][\"Parameter\"][\"feed_pressure\"])\n",
    "\n",
    "wt.run_water_tap(m = m, objective=True, print_model_results=\"full\", skip_small = True)\n",
    "\n",
    "for key in m.fs.pfd_dict.keys():\n",
    "    if m.fs.pfd_dict[key][\"Unit\"] == \"reverse_osmosis\":\n",
    "        print(key, \"feed pressure\", getattr(m.fs, key).feed.pressure[0]())\n",
    "        print(key, \"membrane area\", getattr(m.fs, key).membrane_area[0]())"
   ]
  },
  {
   "cell_type": "code",
   "execution_count": null,
   "metadata": {},
   "outputs": [],
   "source": []
  },
  {
   "cell_type": "code",
   "execution_count": null,
   "metadata": {},
   "outputs": [],
   "source": [
    "# If you need the system recovery to match better.... set a maximum recovery rate."
   ]
  },
  {
   "cell_type": "code",
   "execution_count": 6,
   "metadata": {},
   "outputs": [],
   "source": [
    "from pyomo.environ import Constraint\n",
    "#m.recovery_bound = Constraint(expr = m.fs.costing.system_recovery <= 0.55) # THIS IS FOR TAMPA BAY\n",
    "#m.recovery_bound = Constraint(expr = m.fs.costing.system_recovery <= 0.50) # THIS IS FOR SANTA BARBARA"
   ]
  },
  {
   "cell_type": "code",
   "execution_count": 7,
   "metadata": {},
   "outputs": [],
   "source": [
    "# set cap utilization factor\n",
    "m.fs.costing_param.plant_cap_utilization = 1"
   ]
  },
  {
   "cell_type": "code",
   "execution_count": 8,
   "metadata": {
    "scrolled": true
   },
   "outputs": [
    {
     "name": "stdout",
     "output_type": "stream",
     "text": [
      "degrees_of_freedom: 1\n"
     ]
    },
    {
     "ename": "ValueError",
     "evalue": "Cannot load a SolverResults object with bad status: error",
     "output_type": "error",
     "traceback": [
      "\u001b[0;31m---------------------------------------------------------------------------\u001b[0m",
      "\u001b[0;31mValueError\u001b[0m                                Traceback (most recent call last)",
      "\u001b[0;32m<ipython-input-8-1b5dc0f713d2>\u001b[0m in \u001b[0;36m<module>\u001b[0;34m\u001b[0m\n\u001b[0;32m----> 1\u001b[0;31m \u001b[0mwt\u001b[0m\u001b[0;34m.\u001b[0m\u001b[0mrun_water_tap\u001b[0m\u001b[0;34m(\u001b[0m\u001b[0mm\u001b[0m \u001b[0;34m=\u001b[0m \u001b[0mm\u001b[0m\u001b[0;34m,\u001b[0m \u001b[0mobjective\u001b[0m\u001b[0;34m=\u001b[0m\u001b[0;32mTrue\u001b[0m\u001b[0;34m,\u001b[0m \u001b[0mprint_model_results\u001b[0m\u001b[0;34m=\u001b[0m\u001b[0;34m\"summary\"\u001b[0m\u001b[0;34m,\u001b[0m \u001b[0mskip_small\u001b[0m \u001b[0;34m=\u001b[0m \u001b[0;32mTrue\u001b[0m\u001b[0;34m)\u001b[0m\u001b[0;34m\u001b[0m\u001b[0;34m\u001b[0m\u001b[0m\n\u001b[0m\u001b[1;32m      2\u001b[0m \u001b[0;32mfor\u001b[0m \u001b[0mkey\u001b[0m \u001b[0;32min\u001b[0m \u001b[0mm\u001b[0m\u001b[0;34m.\u001b[0m\u001b[0mfs\u001b[0m\u001b[0;34m.\u001b[0m\u001b[0mpfd_dict\u001b[0m\u001b[0;34m.\u001b[0m\u001b[0mkeys\u001b[0m\u001b[0;34m(\u001b[0m\u001b[0;34m)\u001b[0m\u001b[0;34m:\u001b[0m\u001b[0;34m\u001b[0m\u001b[0;34m\u001b[0m\u001b[0m\n\u001b[1;32m      3\u001b[0m     \u001b[0;32mif\u001b[0m \u001b[0mm\u001b[0m\u001b[0;34m.\u001b[0m\u001b[0mfs\u001b[0m\u001b[0;34m.\u001b[0m\u001b[0mpfd_dict\u001b[0m\u001b[0;34m[\u001b[0m\u001b[0mkey\u001b[0m\u001b[0;34m]\u001b[0m\u001b[0;34m[\u001b[0m\u001b[0;34m\"Unit\"\u001b[0m\u001b[0;34m]\u001b[0m \u001b[0;34m==\u001b[0m \u001b[0;34m\"reverse_osmosis\"\u001b[0m\u001b[0;34m:\u001b[0m\u001b[0;34m\u001b[0m\u001b[0;34m\u001b[0m\u001b[0m\n\u001b[1;32m      4\u001b[0m         \u001b[0mprint\u001b[0m\u001b[0;34m(\u001b[0m\u001b[0mkey\u001b[0m\u001b[0;34m,\u001b[0m \u001b[0;34m\"feed pressure\"\u001b[0m\u001b[0;34m,\u001b[0m \u001b[0mgetattr\u001b[0m\u001b[0;34m(\u001b[0m\u001b[0mm\u001b[0m\u001b[0;34m.\u001b[0m\u001b[0mfs\u001b[0m\u001b[0;34m,\u001b[0m \u001b[0mkey\u001b[0m\u001b[0;34m)\u001b[0m\u001b[0;34m.\u001b[0m\u001b[0mfeed\u001b[0m\u001b[0;34m.\u001b[0m\u001b[0mpressure\u001b[0m\u001b[0;34m[\u001b[0m\u001b[0;36m0\u001b[0m\u001b[0;34m]\u001b[0m\u001b[0;34m(\u001b[0m\u001b[0;34m)\u001b[0m\u001b[0;34m)\u001b[0m\u001b[0;34m\u001b[0m\u001b[0;34m\u001b[0m\u001b[0m\n\u001b[1;32m      5\u001b[0m         \u001b[0mprint\u001b[0m\u001b[0;34m(\u001b[0m\u001b[0mkey\u001b[0m\u001b[0;34m,\u001b[0m \u001b[0;34m\"membrane area\"\u001b[0m\u001b[0;34m,\u001b[0m \u001b[0mgetattr\u001b[0m\u001b[0;34m(\u001b[0m\u001b[0mm\u001b[0m\u001b[0;34m.\u001b[0m\u001b[0mfs\u001b[0m\u001b[0;34m,\u001b[0m \u001b[0mkey\u001b[0m\u001b[0;34m)\u001b[0m\u001b[0;34m.\u001b[0m\u001b[0mmembrane_area\u001b[0m\u001b[0;34m[\u001b[0m\u001b[0;36m0\u001b[0m\u001b[0;34m]\u001b[0m\u001b[0;34m(\u001b[0m\u001b[0;34m)\u001b[0m\u001b[0;34m)\u001b[0m\u001b[0;34m\u001b[0m\u001b[0;34m\u001b[0m\u001b[0m\n",
      "\u001b[0;32m~/Documents/Python/watertap3/NAWI-WaterTAP3/IDAES-WaterTAP3_v2/watertap.py\u001b[0m in \u001b[0;36mrun_water_tap\u001b[0;34m(m, solver_results, print_model_results, objective, max_attemps, initialize_flow, skip_small)\u001b[0m\n\u001b[1;32m     61\u001b[0m \u001b[0;34m\u001b[0m\u001b[0m\n\u001b[1;32m     62\u001b[0m     \u001b[0;32melse\u001b[0m\u001b[0;34m:\u001b[0m\u001b[0;34m\u001b[0m\u001b[0;34m\u001b[0m\u001b[0m\n\u001b[0;32m---> 63\u001b[0;31m         run_model(m = m, solver_results = solver_results, print_model_results = print_model_results, \n\u001b[0m\u001b[1;32m     64\u001b[0m                       objective=objective, max_attemps = max_attemps)    \n\u001b[1;32m     65\u001b[0m \u001b[0;34m\u001b[0m\u001b[0m\n",
      "\u001b[0;32m~/Documents/Python/watertap3/NAWI-WaterTAP3/IDAES-WaterTAP3_v2/watertap.py\u001b[0m in \u001b[0;36mrun_model\u001b[0;34m(m, solver_results, print_model_results, objective, max_attemps)\u001b[0m\n\u001b[1;32m    108\u001b[0m     \u001b[0mprint\u001b[0m\u001b[0;34m(\u001b[0m\u001b[0;34m\"degrees_of_freedom:\"\u001b[0m\u001b[0;34m,\u001b[0m \u001b[0mdegrees_of_freedom\u001b[0m\u001b[0;34m(\u001b[0m\u001b[0mm\u001b[0m\u001b[0;34m)\u001b[0m\u001b[0;34m)\u001b[0m\u001b[0;34m\u001b[0m\u001b[0;34m\u001b[0m\u001b[0m\n\u001b[1;32m    109\u001b[0m \u001b[0;34m\u001b[0m\u001b[0m\n\u001b[0;32m--> 110\u001b[0;31m     \u001b[0mresults\u001b[0m \u001b[0;34m=\u001b[0m \u001b[0msolver\u001b[0m\u001b[0;34m.\u001b[0m\u001b[0msolve\u001b[0m\u001b[0;34m(\u001b[0m\u001b[0mm\u001b[0m\u001b[0;34m,\u001b[0m \u001b[0mtee\u001b[0m\u001b[0;34m=\u001b[0m\u001b[0msolver_results\u001b[0m\u001b[0;34m)\u001b[0m\u001b[0;34m\u001b[0m\u001b[0;34m\u001b[0m\u001b[0m\n\u001b[0m\u001b[1;32m    111\u001b[0m \u001b[0;34m\u001b[0m\u001b[0m\n\u001b[1;32m    112\u001b[0m     \u001b[0mattempt_number\u001b[0m \u001b[0;34m=\u001b[0m \u001b[0;36m1\u001b[0m\u001b[0;34m\u001b[0m\u001b[0;34m\u001b[0m\u001b[0m\n",
      "\u001b[0;32m~/opt/anaconda3/lib/python3.8/site-packages/pyomo/opt/base/solvers.py\u001b[0m in \u001b[0;36msolve\u001b[0;34m(self, *args, **kwds)\u001b[0m\n\u001b[1;32m    630\u001b[0m                 \u001b[0;32melse\u001b[0m\u001b[0;34m:\u001b[0m\u001b[0;34m\u001b[0m\u001b[0;34m\u001b[0m\u001b[0m\n\u001b[1;32m    631\u001b[0m                     \u001b[0;32mif\u001b[0m \u001b[0mself\u001b[0m\u001b[0;34m.\u001b[0m\u001b[0m_load_solutions\u001b[0m\u001b[0;34m:\u001b[0m\u001b[0;34m\u001b[0m\u001b[0;34m\u001b[0m\u001b[0m\n\u001b[0;32m--> 632\u001b[0;31m                         _model.solutions.load_from(\n\u001b[0m\u001b[1;32m    633\u001b[0m                             \u001b[0mresult\u001b[0m\u001b[0;34m,\u001b[0m\u001b[0;34m\u001b[0m\u001b[0;34m\u001b[0m\u001b[0m\n\u001b[1;32m    634\u001b[0m                             \u001b[0mselect\u001b[0m\u001b[0;34m=\u001b[0m\u001b[0mself\u001b[0m\u001b[0;34m.\u001b[0m\u001b[0m_select_index\u001b[0m\u001b[0;34m,\u001b[0m\u001b[0;34m\u001b[0m\u001b[0;34m\u001b[0m\u001b[0m\n",
      "\u001b[0;32m~/opt/anaconda3/lib/python3.8/site-packages/pyomo/core/base/PyomoModel.py\u001b[0m in \u001b[0;36mload_from\u001b[0;34m(self, results, allow_consistent_values_for_fixed_vars, comparison_tolerance_for_fixed_vars, ignore_invalid_labels, id, delete_symbol_map, clear, default_variable_value, select, ignore_fixed_vars)\u001b[0m\n\u001b[1;32m    234\u001b[0m                     \"an 'aborted' status, but containing a solution\")\n\u001b[1;32m    235\u001b[0m             \u001b[0;32melse\u001b[0m\u001b[0;34m:\u001b[0m\u001b[0;34m\u001b[0m\u001b[0;34m\u001b[0m\u001b[0m\n\u001b[0;32m--> 236\u001b[0;31m                 raise ValueError(\"Cannot load a SolverResults object \"\n\u001b[0m\u001b[1;32m    237\u001b[0m                                  \u001b[0;34m\"with bad status: %s\"\u001b[0m\u001b[0;34m\u001b[0m\u001b[0;34m\u001b[0m\u001b[0m\n\u001b[1;32m    238\u001b[0m                                  % str(results.solver.status))\n",
      "\u001b[0;31mValueError\u001b[0m: Cannot load a SolverResults object with bad status: error"
     ]
    }
   ],
   "source": [
    "wt.run_water_tap(m = m, objective=True, print_model_results=\"summary\", skip_small = True)\n",
    "for key in m.fs.pfd_dict.keys():\n",
    "    if m.fs.pfd_dict[key][\"Unit\"] == \"reverse_osmosis\":\n",
    "        print(key, \"feed pressure\", getattr(m.fs, key).feed.pressure[0]())\n",
    "        print(key, \"membrane area\", getattr(m.fs, key).membrane_area[0]())"
   ]
  },
  {
   "cell_type": "code",
   "execution_count": 11,
   "metadata": {},
   "outputs": [],
   "source": [
    "# RESET AREA TO USER INPUT\n",
    "for key in m.fs.pfd_dict.keys():\n",
    "    if m.fs.pfd_dict[key][\"Unit\"] == \"reverse_osmosis\":\n",
    "        getattr(m.fs, key).membrane_area.fix(getattr(m.fs, key).membrane_area[0]())"
   ]
  },
  {
   "cell_type": "code",
   "execution_count": 9,
   "metadata": {},
   "outputs": [],
   "source": [
    "# Readjust recovery constraint and deactivate objective constraint\n",
    "m.recovery_bound = Constraint(expr = m.fs.costing.system_recovery >= 0)\n",
    "m.fs.objective_function.deactivate()"
   ]
  },
  {
   "cell_type": "code",
   "execution_count": 12,
   "metadata": {
    "scrolled": true
   },
   "outputs": [
    {
     "name": "stdout",
     "output_type": "stream",
     "text": [
      "degrees_of_freedom: 0\n",
      "WaterTAP3 solution optimal\n",
      "fs.onsite_storage\n",
      "total_cap_investment: 3.715939726563809\n",
      "----------------------------------------------------------------------\n",
      "fs.microfiltration\n",
      "total_cap_investment: 4.883752574618744\n",
      "----------------------------------------------------------------------\n",
      "fs.reverse_osmosis\n",
      "total_cap_investment: 1.9357594752629248\n",
      "----------------------------------------------------------------------\n",
      "fs.uv_aop\n",
      "total_cap_investment: 7.023134172587336\n",
      "----------------------------------------------------------------------\n",
      "fs.treated_storage\n",
      "total_cap_investment: 1.1268716443369027\n",
      "----------------------------------------------------------------------\n",
      "fs.municipal_drinking\n",
      "total_cap_investment: 0.21760075204553286\n",
      "----------------------------------------------------------------------\n",
      "fs.surface_discharge\n",
      "total_cap_investment: 0.46047667147246085\n",
      "----------------------------------------------------------------------\n",
      "----------------------------------------------------------------------\n",
      "------------------- System Level Metrics and Costs -------------------\n",
      "Total Capital Investment ($MM) 19.36353501688771\n",
      "Annual Fixed Operating Cost ($MM/yr) 0.25715454776613234\n",
      "Annual Catalysts and Chemicals Cost ($MM/yr) 0.0370589825820816\n",
      "Annual Electricity Costs ($MM/yr) 0.32873735039627583\n",
      "Annual Other Variable Costs ($MM/yr) 0.013315998457283363\n",
      "Annual Operating Costs ($MM/yr) 0.6362668792017732\n",
      "Treated water (m3/s) ---> 0.07053466590294041\n",
      "Total water recovery (%) ---> 94.04622120392055\n",
      "Electricity intensity (kwh/m3) --->  2.7117105305833302\n",
      "LCOW ($/m3) --->  0.852323603478611\n",
      "Electricity portion of LCOW (%) ---> 17.339449865475917\n",
      "----------------------------------------------------------------------\n"
     ]
    }
   ],
   "source": [
    "# NOW RUN AS SIMULATION\n",
    "wt.run_water_tap(m = m, objective=False, print_model_results=\"summary\", skip_small = True)"
   ]
  },
  {
   "cell_type": "code",
   "execution_count": null,
   "metadata": {},
   "outputs": [],
   "source": []
  },
  {
   "cell_type": "code",
   "execution_count": null,
   "metadata": {},
   "outputs": [],
   "source": []
  },
  {
   "cell_type": "code",
   "execution_count": 13,
   "metadata": {},
   "outputs": [],
   "source": [
    "# creates csv in results folder with the name: *case_study*_*scenario*.csv\n",
    "# In this case, save the final baseline result.\n",
    "\n",
    "df = wt.get_results_table(m = m, case_study = wt.case_study_trains.source_water[\"case_study\"], \n",
    "                                scenario = wt.case_study_trains.source_water[\"scenario\"])"
   ]
  },
  {
   "cell_type": "code",
   "execution_count": null,
   "metadata": {},
   "outputs": [],
   "source": []
  },
  {
   "cell_type": "code",
   "execution_count": null,
   "metadata": {},
   "outputs": [],
   "source": []
  },
  {
   "cell_type": "code",
   "execution_count": null,
   "metadata": {},
   "outputs": [],
   "source": []
  },
  {
   "cell_type": "code",
   "execution_count": null,
   "metadata": {
    "scrolled": true
   },
   "outputs": [],
   "source": [
    "# Find bounds for RO area:\n",
    "for key in m.fs.pfd_dict.keys():\n",
    "    if m.fs.pfd_dict[key][\"Unit\"] == \"reverse_osmosis\":\n",
    "        \n",
    "        stash_value = value(getattr(m.fs, key).membrane_area[0])\n",
    "        getattr(m.fs, key).membrane_area.unfix()\n",
    "        m.fs.objective_function1 = env.Objective(expr=getattr(m.fs, key).membrane_area[0] * 1, sense=env.minimize)\n",
    "        wt.run_water_tap(m = m, objective=False, skip_small = True)\n",
    "        print(\"LCOW -->\", m.fs.costing.LCOW())\n",
    "        print(key, \"Minimum -->\", getattr(m.fs, key).membrane_area[0]())\n",
    "\n",
    "        m.fs.objective_function1 = env.Objective(expr=getattr(m.fs, key).membrane_area[0], sense=env.maximize)\n",
    "        wt.run_water_tap(m = m, objective=False, skip_small = True)\n",
    "        print(\"LCOW -->\", m.fs.costing.LCOW())\n",
    "        print(key, \"Maximum -->\", getattr(m.fs, key).membrane_area[0]())\n",
    "\n",
    "        getattr(m.fs, key).membrane_area.fix(stash_value)\n"
   ]
  },
  {
   "cell_type": "code",
   "execution_count": null,
   "metadata": {},
   "outputs": [],
   "source": [
    "# Find bounds for RO pessure:\n",
    "for key in m.fs.pfd_dict.keys():\n",
    "    if m.fs.pfd_dict[key][\"Unit\"] == \"reverse_osmosis\":\n",
    "        \n",
    "        stash_value = value(getattr(m.fs, key).feed.pressure[0])\n",
    "        getattr(m.fs, key).feed.pressure.unfix()\n",
    "        m.fs.objective_function1 = env.Objective(expr=getattr(m.fs, key).feed.pressure[0], sense=env.minimize)\n",
    "        wt.run_water_tap(m = m, objective=False, skip_small = True)\n",
    "        print(\"LCOW -->\", m.fs.costing.LCOW())\n",
    "        print(key, \"Minimum -->\", getattr(m.fs, key).feed.pressure[0]())\n",
    "\n",
    "        m.fs.objective_function1 = env.Objective(expr=getattr(m.fs, key).feed.pressure[0], sense=env.maximize)\n",
    "        wt.run_water_tap(m = m, objective=False, skip_small = True)\n",
    "        print(\"LCOW -->\", m.fs.costing.LCOW())\n",
    "        print(key, \"Maximum -->\", getattr(m.fs, key).feed.pressure[0]())\n",
    "\n",
    "        getattr(m.fs, key).feed.pressure.fix(stash_value)"
   ]
  },
  {
   "cell_type": "code",
   "execution_count": null,
   "metadata": {},
   "outputs": [],
   "source": [
    "m.fs.objective_function1.deactivate()"
   ]
  },
  {
   "cell_type": "code",
   "execution_count": null,
   "metadata": {},
   "outputs": [],
   "source": [
    "# run to rest before sensitivity\n",
    "wt.run_water_tap(m = m, objective=False, skip_small = True)\n",
    "print(\"LCOW -->\", m.fs.costing.LCOW())"
   ]
  },
  {
   "cell_type": "code",
   "execution_count": null,
   "metadata": {},
   "outputs": [],
   "source": []
  },
  {
   "cell_type": "code",
   "execution_count": null,
   "metadata": {
    "scrolled": true
   },
   "outputs": [],
   "source": [
    "# sensitivity analyses\n",
    "sens_df = pd.DataFrame()\n",
    "\n",
    "lcow_list = []\n",
    "water_recovery_list = []\n",
    "scenario_value = []\n",
    "scenario_name = []\n",
    "elec_lcow = []\n",
    "\n",
    "lcow_list.append(value(m.fs.costing.LCOW))\n",
    "water_recovery_list.append(value(m.fs.costing.system_recovery))\n",
    "scenario_value.append(\"n/a\")\n",
    "scenario_name.append(\"baseline\")\n",
    "elec_lcow.append(value(m.fs.costing.elec_frac_LCOW))\n",
    "\n",
    "runs_per_scenario = 20\n",
    "\n",
    "############ onstream_factor 70-100% ############\n",
    "stash_value = m.fs.costing_param.plant_cap_utilization\n",
    "scenario = \"plant_cap_utilization\"\n",
    "print(\"-------\", scenario, \"-------\")\n",
    "ub = 1\n",
    "lb = 0.7\n",
    "step = (ub - lb) / runs_per_scenario\n",
    "for i in np.arange(lb, ub + step, step):\n",
    "    m.fs.costing_param.plant_cap_utilization = i\n",
    "    wt.run_water_tap(m = m, objective=False, skip_small = True)\n",
    "    print(\"LCOW -->\", m.fs.costing.LCOW())\n",
    "    \n",
    "    lcow_list.append(value(m.fs.costing.LCOW))\n",
    "    water_recovery_list.append(value(m.fs.costing.system_recovery))\n",
    "    scenario_value.append(i)\n",
    "    scenario_name.append(scenario)\n",
    "    elec_lcow.append(value(m.fs.costing.elec_frac_LCOW))\n",
    "    \n",
    "m.fs.costing_param.plant_cap_utilization = stash_value    \n",
    "############################################################    \n",
    "\n",
    "############ salinity  30-45 ############\n",
    "stash_value = m.fs.seawater.conc_mass_in[0, \"tds\"]()\n",
    "scenario = \"inlet salinty 25k-45k mg/L\"\n",
    "print(\"-------\", scenario, \"-------\")\n",
    "ub = 25\n",
    "lb = 45\n",
    "step = (ub - lb) / runs_per_scenario\n",
    "for i in np.arange(lb, ub + step, step):\n",
    "    m.fs.seawater.conc_mass_in[0, \"tds\"].fix(i) \n",
    "    wt.run_water_tap(m = m, objective=False, skip_small = True)\n",
    "    print(\"LCOW -->\", m.fs.costing.LCOW())\n",
    "    \n",
    "    lcow_list.append(value(m.fs.costing.LCOW))\n",
    "    water_recovery_list.append(value(m.fs.costing.system_recovery))\n",
    "    scenario_value.append(i)\n",
    "    scenario_name.append(scenario)\n",
    "    elec_lcow.append(value(m.fs.costing.elec_frac_LCOW))\n",
    "    \n",
    "m.fs.seawater.conc_mass_in[0, \"tds\"].fix(stash_value) \n",
    "############################################################\n",
    "\n",
    "############ inlet flow ############\n",
    "stash_value = m.fs.seawater.flow_vol_in[0]()\n",
    "scenario = \"inlet flow\"\n",
    "print(\"-------\", scenario, \"-------\")\n",
    "ub = stash_value * 1.3\n",
    "lb = stash_value * 0.7\n",
    "step = (ub - lb) / runs_per_scenario\n",
    "for i in np.arange(lb, ub + step, step):\n",
    "    m.fs.seawater.flow_vol_in.fix(i) \n",
    "    wt.run_water_tap(m = m, objective=False, skip_small = True)\n",
    "    print(\"LCOW -->\", m.fs.costing.LCOW())\n",
    "    \n",
    "    lcow_list.append(value(m.fs.costing.LCOW))\n",
    "    water_recovery_list.append(value(m.fs.costing.system_recovery))\n",
    "    scenario_value.append(i)\n",
    "    scenario_name.append(scenario)\n",
    "    elec_lcow.append(value(m.fs.costing.elec_frac_LCOW))\n",
    "    \n",
    "m.fs.seawater.flow_vol_in.fix(stash_value) \n",
    "############################################################\n",
    "\n",
    "############ lifetime years ############\n",
    "\n",
    "stash_value = value(m.fs.costing_param.plant_lifetime_yrs)\n",
    "scenario = \"lifetime (yrs)\"\n",
    "print(\"-------\", scenario, \"-------\")\n",
    "ub = 50\n",
    "lb = 15\n",
    "step = (ub - lb) / runs_per_scenario\n",
    "for i in np.arange(lb, ub + step, step):\n",
    "    m.fs.costing_param.plant_lifetime_yrs = i \n",
    "    wt.run_water_tap(m = m, objective=False, skip_small = True)\n",
    "    print(\"LCOW -->\", m.fs.costing.LCOW())\n",
    "    \n",
    "    lcow_list.append(value(m.fs.costing.LCOW))\n",
    "    water_recovery_list.append(value(m.fs.costing.system_recovery))\n",
    "    scenario_value.append(i)\n",
    "    scenario_name.append(scenario)\n",
    "    elec_lcow.append(value(m.fs.costing.elec_frac_LCOW))\n",
    "    \n",
    "m.fs.costing_param.plant_lifetime_yrs = stash_value\n",
    "############################################################\n",
    "\n",
    "############ elec cost +-20% ############\n",
    "\n",
    "stash_value = value(m.fs.costing_param.electricity_price)\n",
    "scenario = \"electricity price +- 20%\"\n",
    "print(\"-------\", scenario, \"-------\")\n",
    "ub = stash_value * 1.3\n",
    "lb = stash_value * 0.7\n",
    "step = (ub - lb) / runs_per_scenario\n",
    "for i in np.arange(lb, ub + step, step):\n",
    "    m.fs.costing_param.electricity_price = i \n",
    "    wt.run_water_tap(m = m, objective=False, skip_small = True)\n",
    "    print(\"LCOW -->\", m.fs.costing.LCOW())\n",
    "    \n",
    "    lcow_list.append(value(m.fs.costing.LCOW))\n",
    "    water_recovery_list.append(value(m.fs.costing.system_recovery))\n",
    "    scenario_value.append(i)\n",
    "    scenario_name.append(scenario)\n",
    "    elec_lcow.append(value(m.fs.costing.elec_frac_LCOW))\n",
    "    \n",
    "m.fs.costing_param.electricity_price = stash_value\n",
    "############################################################\n",
    "\n",
    "############ RO scenarios --> pressure, membrane area, replacement rate% ############\n",
    "\n",
    "for key in m.fs.pfd_dict.keys():\n",
    "    if m.fs.pfd_dict[key][\"Unit\"] == \"reverse_osmosis\":\n",
    "        area = value(getattr(m.fs, key).membrane_area[0])\n",
    "\n",
    "        scenario_dict = {\"membrane_area\" : [-area*0.2, area*0.2], \n",
    "                         \"pressure\": [-15, 10], \n",
    "                         \"factor_membrane_replacement\": [-0.1, 0.1]}\n",
    "        \n",
    "        for scenario in scenario_dict.keys():\n",
    "            if scenario == \"pressure\":\n",
    "                stash_value = value(getattr(getattr(getattr(m.fs, key), \"feed\"), scenario)[0])\n",
    "            else:\n",
    "                stash_value = value(getattr(getattr(m.fs, key), scenario)[0])\n",
    "\n",
    "            print(\"-------\", scenario, \"-------\")\n",
    "            ub = stash_value + scenario_dict[scenario][1]\n",
    "            lb = stash_value + scenario_dict[scenario][0]\n",
    "            step = (ub - lb) / runs_per_scenario\n",
    "            \n",
    "            for i in np.arange(lb, ub + step, step):\n",
    "                if scenario == \"pressure\":\n",
    "                    getattr(getattr(getattr(m.fs, key), \"feed\"), scenario).fix(i)\n",
    "                else:\n",
    "                    getattr(getattr(m.fs, key), scenario).fix(i)\n",
    "                \n",
    "                wt.run_water_tap(m = m, objective=False, skip_small = True)\n",
    "                print(\"LCOW -->\", m.fs.costing.LCOW())\n",
    "    \n",
    "                lcow_list.append(value(m.fs.costing.LCOW))\n",
    "                water_recovery_list.append(value(m.fs.costing.system_recovery))\n",
    "                scenario_value.append(i)\n",
    "                scenario_name.append(key + \"_\" + scenario)\n",
    "                elec_lcow.append(value(m.fs.costing.elec_frac_LCOW))\n",
    "    \n",
    "            if scenario == \"pressure\":\n",
    "                getattr(getattr(getattr(m.fs, key), \"feed\"), scenario).fix(stash_value)\n",
    "            else:\n",
    "                getattr(getattr(m.fs, key), scenario).fix(stash_value)\n",
    "                            \n",
    "############################################################\n",
    "\n",
    "# final run to get baseline numbers again\n",
    "wt.run_water_tap(m = m, objective=False, skip_small = True)\n",
    "\n",
    "sens_df[\"lcow\"] = lcow_list\n",
    "sens_df[\"water_recovery\"] =  water_recovery_list\n",
    "sens_df[\"elec_lcow\"] =  elec_lcow\n",
    "sens_df[\"scenario_value\"] = scenario_value\n",
    "sens_df[\"scenario_name\"] = scenario_name\n",
    "sens_df[\"lcow_difference\"] =  sens_df.lcow - value(m.fs.costing.LCOW)\n",
    "sens_df[\"water_recovery_difference\"] = (sens_df.water_recovery - value(m.fs.costing.system_recovery))\n",
    "sens_df[\"elec_lcow_difference\"] = (sens_df.elec_lcow - value(m.fs.costing.elec_frac_LCOW))\n",
    "\n",
    "sens_df.elec_lcow = sens_df.elec_lcow * 100\n",
    "sens_df.water_recovery = sens_df.water_recovery * 100\n"
   ]
  },
  {
   "cell_type": "code",
   "execution_count": null,
   "metadata": {},
   "outputs": [],
   "source": [
    "sens_df.to_csv(\"results/case_studies/santa_barbara_baseline_sensitivity.csv\")"
   ]
  },
  {
   "cell_type": "code",
   "execution_count": null,
   "metadata": {},
   "outputs": [],
   "source": []
  },
  {
   "cell_type": "code",
   "execution_count": null,
   "metadata": {},
   "outputs": [],
   "source": []
  },
  {
   "cell_type": "code",
   "execution_count": null,
   "metadata": {},
   "outputs": [],
   "source": []
  },
  {
   "cell_type": "code",
   "execution_count": null,
   "metadata": {},
   "outputs": [],
   "source": []
  },
  {
   "cell_type": "code",
   "execution_count": null,
   "metadata": {},
   "outputs": [],
   "source": []
  },
  {
   "cell_type": "code",
   "execution_count": null,
   "metadata": {},
   "outputs": [],
   "source": []
  },
  {
   "cell_type": "code",
   "execution_count": null,
   "metadata": {},
   "outputs": [],
   "source": [
    "############ inlet flow ############\n",
    "stash_value = m.fs.seawater.flow_vol_in[0]()\n",
    "scenario = \"inlet flow\"\n",
    "print(\"-------\", scenario, \"-------\")\n",
    "ub = stash_value * 1.3\n",
    "lb = stash_value * 0.7\n",
    "step = (ub - lb) / runs_per_scenario\n",
    "for i in np.arange(lb, ub, step):\n",
    "    m.fs.seawater.flow_vol_in.fix(i) \n",
    "    wt.run_water_tap(m = m, objective=False)\n",
    "    print(\"LCOW -->\", m.fs.costing.LCOW())\n",
    "    \n",
    "    lcow_list.append(value(m.fs.costing.LCOW))\n",
    "    water_recovery_list.append(value(m.fs.costing.system_recovery))\n",
    "    scenario_value.append(i)\n",
    "    scenario_name.append(scenario)\n",
    "    elec_lcow.append(value(m.fs.costing.elec_frac_LCOW))\n",
    "    \n",
    "m.fs.seawater.flow_vol_in.fix(stash_value) \n",
    "############################################################"
   ]
  },
  {
   "cell_type": "code",
   "execution_count": null,
   "metadata": {},
   "outputs": [],
   "source": [
    "ub"
   ]
  },
  {
   "cell_type": "code",
   "execution_count": null,
   "metadata": {},
   "outputs": [],
   "source": [
    "lb"
   ]
  },
  {
   "cell_type": "code",
   "execution_count": null,
   "metadata": {},
   "outputs": [],
   "source": [
    "i"
   ]
  },
  {
   "cell_type": "code",
   "execution_count": null,
   "metadata": {},
   "outputs": [],
   "source": [
    "m.fs.seawater.flow_vol_in[0]()"
   ]
  },
  {
   "cell_type": "code",
   "execution_count": null,
   "metadata": {},
   "outputs": [],
   "source": []
  },
  {
   "cell_type": "code",
   "execution_count": null,
   "metadata": {},
   "outputs": [],
   "source": []
  },
  {
   "cell_type": "code",
   "execution_count": null,
   "metadata": {},
   "outputs": [],
   "source": []
  },
  {
   "cell_type": "code",
   "execution_count": null,
   "metadata": {},
   "outputs": [],
   "source": []
  },
  {
   "cell_type": "code",
   "execution_count": null,
   "metadata": {},
   "outputs": [],
   "source": []
  },
  {
   "cell_type": "code",
   "execution_count": null,
   "metadata": {},
   "outputs": [],
   "source": []
  },
  {
   "cell_type": "code",
   "execution_count": null,
   "metadata": {},
   "outputs": [],
   "source": []
  },
  {
   "cell_type": "code",
   "execution_count": null,
   "metadata": {},
   "outputs": [],
   "source": []
  },
  {
   "cell_type": "code",
   "execution_count": null,
   "metadata": {},
   "outputs": [],
   "source": []
  },
  {
   "cell_type": "code",
   "execution_count": null,
   "metadata": {},
   "outputs": [],
   "source": []
  },
  {
   "cell_type": "code",
   "execution_count": null,
   "metadata": {},
   "outputs": [],
   "source": []
  },
  {
   "cell_type": "code",
   "execution_count": null,
   "metadata": {},
   "outputs": [],
   "source": []
  },
  {
   "cell_type": "code",
   "execution_count": null,
   "metadata": {},
   "outputs": [],
   "source": []
  },
  {
   "cell_type": "code",
   "execution_count": null,
   "metadata": {},
   "outputs": [],
   "source": []
  },
  {
   "cell_type": "code",
   "execution_count": null,
   "metadata": {},
   "outputs": [],
   "source": []
  },
  {
   "cell_type": "code",
   "execution_count": null,
   "metadata": {},
   "outputs": [],
   "source": []
  },
  {
   "cell_type": "code",
   "execution_count": null,
   "metadata": {},
   "outputs": [],
   "source": []
  },
  {
   "cell_type": "code",
   "execution_count": null,
   "metadata": {},
   "outputs": [],
   "source": []
  },
  {
   "cell_type": "code",
   "execution_count": null,
   "metadata": {},
   "outputs": [],
   "source": []
  },
  {
   "cell_type": "code",
   "execution_count": null,
   "metadata": {},
   "outputs": [],
   "source": []
  },
  {
   "cell_type": "code",
   "execution_count": null,
   "metadata": {},
   "outputs": [],
   "source": []
  },
  {
   "cell_type": "code",
   "execution_count": null,
   "metadata": {},
   "outputs": [],
   "source": []
  },
  {
   "cell_type": "code",
   "execution_count": null,
   "metadata": {},
   "outputs": [],
   "source": []
  },
  {
   "cell_type": "code",
   "execution_count": null,
   "metadata": {},
   "outputs": [],
   "source": []
  },
  {
   "cell_type": "code",
   "execution_count": null,
   "metadata": {},
   "outputs": [],
   "source": []
  },
  {
   "cell_type": "code",
   "execution_count": null,
   "metadata": {},
   "outputs": [],
   "source": []
  },
  {
   "cell_type": "code",
   "execution_count": null,
   "metadata": {},
   "outputs": [],
   "source": []
  },
  {
   "cell_type": "code",
   "execution_count": null,
   "metadata": {},
   "outputs": [],
   "source": []
  },
  {
   "cell_type": "code",
   "execution_count": null,
   "metadata": {},
   "outputs": [],
   "source": []
  },
  {
   "cell_type": "code",
   "execution_count": null,
   "metadata": {},
   "outputs": [],
   "source": []
  },
  {
   "cell_type": "code",
   "execution_count": null,
   "metadata": {},
   "outputs": [],
   "source": []
  },
  {
   "cell_type": "code",
   "execution_count": null,
   "metadata": {},
   "outputs": [],
   "source": []
  },
  {
   "cell_type": "code",
   "execution_count": null,
   "metadata": {},
   "outputs": [],
   "source": []
  },
  {
   "cell_type": "code",
   "execution_count": null,
   "metadata": {},
   "outputs": [],
   "source": []
  },
  {
   "cell_type": "code",
   "execution_count": null,
   "metadata": {},
   "outputs": [],
   "source": []
  },
  {
   "cell_type": "code",
   "execution_count": null,
   "metadata": {},
   "outputs": [],
   "source": []
  },
  {
   "cell_type": "code",
   "execution_count": null,
   "metadata": {},
   "outputs": [],
   "source": []
  },
  {
   "cell_type": "code",
   "execution_count": null,
   "metadata": {},
   "outputs": [],
   "source": []
  },
  {
   "cell_type": "code",
   "execution_count": null,
   "metadata": {},
   "outputs": [],
   "source": []
  },
  {
   "cell_type": "code",
   "execution_count": null,
   "metadata": {},
   "outputs": [],
   "source": []
  },
  {
   "cell_type": "code",
   "execution_count": null,
   "metadata": {},
   "outputs": [],
   "source": []
  },
  {
   "cell_type": "code",
   "execution_count": null,
   "metadata": {},
   "outputs": [],
   "source": []
  },
  {
   "cell_type": "code",
   "execution_count": null,
   "metadata": {},
   "outputs": [],
   "source": []
  },
  {
   "cell_type": "code",
   "execution_count": null,
   "metadata": {},
   "outputs": [],
   "source": []
  },
  {
   "cell_type": "code",
   "execution_count": null,
   "metadata": {},
   "outputs": [],
   "source": []
  },
  {
   "cell_type": "code",
   "execution_count": null,
   "metadata": {},
   "outputs": [],
   "source": []
  },
  {
   "cell_type": "code",
   "execution_count": null,
   "metadata": {},
   "outputs": [],
   "source": []
  },
  {
   "cell_type": "code",
   "execution_count": null,
   "metadata": {},
   "outputs": [],
   "source": []
  },
  {
   "cell_type": "code",
   "execution_count": null,
   "metadata": {},
   "outputs": [],
   "source": [
    "####TO DO LOAD AND SAVE!!"
   ]
  },
  {
   "cell_type": "code",
   "execution_count": null,
   "metadata": {},
   "outputs": [],
   "source": [
    "#### SAVE TRAIN ####\n",
    "# path = 'trains/Tutorial1_treatment_train_example.csv'\n",
    "# wt.save_train(T, path)"
   ]
  },
  {
   "cell_type": "code",
   "execution_count": null,
   "metadata": {},
   "outputs": [],
   "source": [
    "# #### LOAD TRAIN ####\n",
    "# path = 'trains/Tutorial1_treatment_train_example.csv'\n",
    "# TT = wt.load_train(path)"
   ]
  },
  {
   "cell_type": "code",
   "execution_count": null,
   "metadata": {},
   "outputs": [],
   "source": [
    "# wt.display.show_train(TT)"
   ]
  },
  {
   "cell_type": "code",
   "execution_count": null,
   "metadata": {},
   "outputs": [],
   "source": []
  },
  {
   "cell_type": "code",
   "execution_count": null,
   "metadata": {},
   "outputs": [],
   "source": []
  },
  {
   "cell_type": "code",
   "execution_count": null,
   "metadata": {},
   "outputs": [],
   "source": []
  },
  {
   "cell_type": "code",
   "execution_count": null,
   "metadata": {},
   "outputs": [],
   "source": []
  }
 ],
 "metadata": {
  "celltoolbar": "Raw Cell Format",
  "kernelspec": {
   "display_name": "Python 3",
   "language": "python",
   "name": "python3"
  },
  "language_info": {
   "codemirror_mode": {
    "name": "ipython",
    "version": 3
   },
   "file_extension": ".py",
   "mimetype": "text/x-python",
   "name": "python",
   "nbconvert_exporter": "python",
   "pygments_lexer": "ipython3",
   "version": "3.8.5"
  }
 },
 "nbformat": 4,
 "nbformat_minor": 4
}
