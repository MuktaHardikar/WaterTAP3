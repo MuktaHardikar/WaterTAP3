{
 "cells": [
  {
   "cell_type": "code",
   "execution_count": 1,
   "metadata": {},
   "outputs": [],
   "source": [
    "import watertap as wt\n",
    "import pandas as pd\n",
    "from pyomo.environ import value, Block\n",
    "from idaes.core import FlowsheetBlock\n",
    "import numpy as np\n",
    "from case_study_trains import *\n",
    "import case_study_trains\n",
    "import financials\n"
   ]
  },
  {
   "cell_type": "code",
   "execution_count": 2,
   "metadata": {},
   "outputs": [],
   "source": [
    "m = wt.watertap_setup(dynamic = False)\n",
    "wt.case_study_trains.train = {\"case_study\": \"Carlsbad\",\n",
    "                             \"reference\": \"NAWI\",\n",
    "                             \"scenario\": \"Baseline\"}\n",
    "\n",
    "wt.case_study_trains.source_water = {\"case_study\": \"Carlsbad\", \n",
    "                             \"reference\": \"NAWI\",\n",
    "                             \"scenario\": \"Baseline\",\n",
    "                             \"water_type\": \"Seawater\"}"
   ]
  },
  {
   "cell_type": "code",
   "execution_count": 3,
   "metadata": {},
   "outputs": [],
   "source": [
    "import idaes.core.util.scaling as iscale\n",
    "iscale.calculate_scaling_factors(m)"
   ]
  },
  {
   "cell_type": "code",
   "execution_count": 4,
   "metadata": {},
   "outputs": [],
   "source": [
    "train_constituent_list = [\"tds\"]"
   ]
  },
  {
   "cell_type": "code",
   "execution_count": 5,
   "metadata": {
    "scrolled": true
   },
   "outputs": [],
   "source": [
    "m.fs.water = WaterParameterBlock()"
   ]
  },
  {
   "cell_type": "code",
   "execution_count": 6,
   "metadata": {},
   "outputs": [
    {
     "name": "stdout",
     "output_type": "stream",
     "text": [
      "Carlsbad\n"
     ]
    }
   ],
   "source": [
    "financials.get_system_specs(m.fs, train=wt.case_study_trains.train)"
   ]
  },
  {
   "cell_type": "code",
   "execution_count": 7,
   "metadata": {
    "scrolled": true
   },
   "outputs": [
    {
     "name": "stdout",
     "output_type": "stream",
     "text": [
      "adding source\n"
     ]
    }
   ],
   "source": [
    "m = wt.design.add_water_source(m = m, source_name = \"source1\", reference = \"NAWI\", \n",
    "                               water_type = \"Seawater\", \n",
    "                     case_study = \"Carlsbad\", flow = 4.583) # m3/s "
   ]
  },
  {
   "cell_type": "code",
   "execution_count": 8,
   "metadata": {},
   "outputs": [
    {
     "ename": "ValueError",
     "evalue": "Numeric value `50000*fs.reverse_osmosis.flow_vol_in[0.0]` (<class 'pyomo.core.expr.numeric_expr.MonomialTermExpression'>) is not in domain NonNegativeReals for Var fs.reverse_osmosis.membrane_area[0.0]",
     "output_type": "error",
     "traceback": [
      "\u001b[0;31m---------------------------------------------------------------------------\u001b[0m",
      "\u001b[0;31mValueError\u001b[0m                                Traceback (most recent call last)",
      "\u001b[0;32m<ipython-input-8-4b65bd5ad941>\u001b[0m in \u001b[0;36m<module>\u001b[0;34m\u001b[0m\n\u001b[1;32m      1\u001b[0m \u001b[0;32mimport\u001b[0m \u001b[0mreverse_osmosis\u001b[0m\u001b[0;34m\u001b[0m\u001b[0;34m\u001b[0m\u001b[0m\n\u001b[1;32m      2\u001b[0m \u001b[0msetattr\u001b[0m\u001b[0;34m(\u001b[0m\u001b[0mm\u001b[0m\u001b[0;34m.\u001b[0m\u001b[0mfs\u001b[0m\u001b[0;34m,\u001b[0m \u001b[0;34m\"reverse_osmosis\"\u001b[0m\u001b[0;34m,\u001b[0m \u001b[0mreverse_osmosis\u001b[0m\u001b[0;34m.\u001b[0m\u001b[0mUnitProcess\u001b[0m\u001b[0;34m(\u001b[0m\u001b[0mdefault\u001b[0m\u001b[0;34m=\u001b[0m\u001b[0;34m{\u001b[0m\u001b[0;34m\"property_package\"\u001b[0m\u001b[0;34m:\u001b[0m \u001b[0mm\u001b[0m\u001b[0;34m.\u001b[0m\u001b[0mfs\u001b[0m\u001b[0;34m.\u001b[0m\u001b[0mwater\u001b[0m\u001b[0;34m}\u001b[0m\u001b[0;34m)\u001b[0m\u001b[0;34m)\u001b[0m\u001b[0;34m\u001b[0m\u001b[0;34m\u001b[0m\u001b[0m\n\u001b[0;32m----> 3\u001b[0;31m \u001b[0mgetattr\u001b[0m\u001b[0;34m(\u001b[0m\u001b[0mm\u001b[0m\u001b[0;34m.\u001b[0m\u001b[0mfs\u001b[0m\u001b[0;34m,\u001b[0m \u001b[0;34m\"reverse_osmosis\"\u001b[0m\u001b[0;34m)\u001b[0m\u001b[0;34m.\u001b[0m\u001b[0mget_costing\u001b[0m\u001b[0;34m(\u001b[0m\u001b[0mmodule\u001b[0m\u001b[0;34m=\u001b[0m\u001b[0mfinancials\u001b[0m\u001b[0;34m)\u001b[0m\u001b[0;34m\u001b[0m\u001b[0;34m\u001b[0m\u001b[0m\n\u001b[0m",
      "\u001b[0;32m~/NAWI/WaterTap/NAWI-WaterTAP3/IDAES-WaterTAP3_v2/reverse_osmosis.py\u001b[0m in \u001b[0;36mget_costing\u001b[0;34m(self, module, cost_method, year, unit_params)\u001b[0m\n\u001b[1;32m    263\u001b[0m                       doc=\"area\") \n\u001b[1;32m    264\u001b[0m \u001b[0;34m\u001b[0m\u001b[0m\n\u001b[0;32m--> 265\u001b[0;31m         \u001b[0mself\u001b[0m\u001b[0;34m.\u001b[0m\u001b[0mmembrane_area\u001b[0m\u001b[0;34m[\u001b[0m\u001b[0mt\u001b[0m\u001b[0;34m]\u001b[0m \u001b[0;34m=\u001b[0m \u001b[0mself\u001b[0m\u001b[0;34m.\u001b[0m\u001b[0mflow_vol_in\u001b[0m\u001b[0;34m[\u001b[0m\u001b[0mt\u001b[0m\u001b[0;34m]\u001b[0m \u001b[0;34m*\u001b[0m \u001b[0;36m50\u001b[0m \u001b[0;34m*\u001b[0m \u001b[0;36m1000\u001b[0m \u001b[0;31m# area per module m2. assumes 50m2 per ~1000kg/s of water.\u001b[0m\u001b[0;34m\u001b[0m\u001b[0;34m\u001b[0m\u001b[0m\n\u001b[0m\u001b[1;32m    266\u001b[0m \u001b[0;34m\u001b[0m\u001b[0m\n\u001b[1;32m    267\u001b[0m         \u001b[0;31m########################################################################\u001b[0m\u001b[0;34m\u001b[0m\u001b[0;34m\u001b[0m\u001b[0;34m\u001b[0m\u001b[0m\n",
      "\u001b[0;32m~/miniconda3/envs/tap-idaes3/lib/python3.7/site-packages/pyomo/core/base/indexed_component.py\u001b[0m in \u001b[0;36m__setitem__\u001b[0;34m(self, index, val)\u001b[0m\n\u001b[1;32m    444\u001b[0m                 \u001b[0mindex\u001b[0m \u001b[0;34m=\u001b[0m \u001b[0mself\u001b[0m\u001b[0;34m.\u001b[0m\u001b[0m_validate_index\u001b[0m\u001b[0;34m(\u001b[0m\u001b[0mindex\u001b[0m\u001b[0;34m)\u001b[0m\u001b[0;34m\u001b[0m\u001b[0;34m\u001b[0m\u001b[0m\n\u001b[1;32m    445\u001b[0m         \u001b[0;32melse\u001b[0m\u001b[0;34m:\u001b[0m\u001b[0;34m\u001b[0m\u001b[0;34m\u001b[0m\u001b[0m\n\u001b[0;32m--> 446\u001b[0;31m             \u001b[0;32mreturn\u001b[0m \u001b[0mself\u001b[0m\u001b[0;34m.\u001b[0m\u001b[0m_setitem_impl\u001b[0m\u001b[0;34m(\u001b[0m\u001b[0mindex\u001b[0m\u001b[0;34m,\u001b[0m \u001b[0mobj\u001b[0m\u001b[0;34m,\u001b[0m \u001b[0mval\u001b[0m\u001b[0;34m)\u001b[0m\u001b[0;34m\u001b[0m\u001b[0;34m\u001b[0m\u001b[0m\n\u001b[0m\u001b[1;32m    447\u001b[0m         \u001b[0;31m#\u001b[0m\u001b[0;34m\u001b[0m\u001b[0;34m\u001b[0m\u001b[0;34m\u001b[0m\u001b[0m\n\u001b[1;32m    448\u001b[0m         \u001b[0;31m# Call the _setitem_impl helper to populate the _data\u001b[0m\u001b[0;34m\u001b[0m\u001b[0;34m\u001b[0m\u001b[0;34m\u001b[0m\u001b[0m\n",
      "\u001b[0;32m~/miniconda3/envs/tap-idaes3/lib/python3.7/site-packages/pyomo/core/base/indexed_component.py\u001b[0m in \u001b[0;36m_setitem_impl\u001b[0;34m(self, index, obj, value)\u001b[0m\n\u001b[1;32m    741\u001b[0m             \u001b[0;32mreturn\u001b[0m \u001b[0;32mNone\u001b[0m\u001b[0;34m\u001b[0m\u001b[0;34m\u001b[0m\u001b[0m\n\u001b[1;32m    742\u001b[0m         \u001b[0;32melse\u001b[0m\u001b[0;34m:\u001b[0m\u001b[0;34m\u001b[0m\u001b[0;34m\u001b[0m\u001b[0m\n\u001b[0;32m--> 743\u001b[0;31m             \u001b[0mobj\u001b[0m\u001b[0;34m.\u001b[0m\u001b[0mset_value\u001b[0m\u001b[0;34m(\u001b[0m\u001b[0mvalue\u001b[0m\u001b[0;34m)\u001b[0m\u001b[0;34m\u001b[0m\u001b[0;34m\u001b[0m\u001b[0m\n\u001b[0m\u001b[1;32m    744\u001b[0m         \u001b[0;32mreturn\u001b[0m \u001b[0mobj\u001b[0m\u001b[0;34m\u001b[0m\u001b[0;34m\u001b[0m\u001b[0m\n\u001b[1;32m    745\u001b[0m \u001b[0;34m\u001b[0m\u001b[0m\n",
      "\u001b[0;32m~/miniconda3/envs/tap-idaes3/lib/python3.7/site-packages/pyomo/core/base/var.py\u001b[0m in \u001b[0;36mset_value\u001b[0;34m(self, val, valid)\u001b[0m\n\u001b[1;32m    174\u001b[0m         \u001b[0mthen\u001b[0m \u001b[0mthe\u001b[0m \u001b[0mvalidation\u001b[0m \u001b[0mstep\u001b[0m \u001b[0;32mis\u001b[0m \u001b[0mskipped\u001b[0m\u001b[0;34m.\u001b[0m\u001b[0;34m\u001b[0m\u001b[0;34m\u001b[0m\u001b[0m\n\u001b[1;32m    175\u001b[0m         \"\"\"\n\u001b[0;32m--> 176\u001b[0;31m         \u001b[0;32mif\u001b[0m \u001b[0mvalid\u001b[0m \u001b[0;32mor\u001b[0m \u001b[0mself\u001b[0m\u001b[0;34m.\u001b[0m\u001b[0m_valid_value\u001b[0m\u001b[0;34m(\u001b[0m\u001b[0mval\u001b[0m\u001b[0;34m)\u001b[0m\u001b[0;34m:\u001b[0m\u001b[0;34m\u001b[0m\u001b[0;34m\u001b[0m\u001b[0m\n\u001b[0m\u001b[1;32m    177\u001b[0m             \u001b[0mself\u001b[0m\u001b[0;34m.\u001b[0m\u001b[0mvalue\u001b[0m \u001b[0;34m=\u001b[0m \u001b[0mval\u001b[0m\u001b[0;34m\u001b[0m\u001b[0;34m\u001b[0m\u001b[0m\n\u001b[1;32m    178\u001b[0m             \u001b[0mself\u001b[0m\u001b[0;34m.\u001b[0m\u001b[0mstale\u001b[0m \u001b[0;34m=\u001b[0m \u001b[0;32mFalse\u001b[0m\u001b[0;34m\u001b[0m\u001b[0;34m\u001b[0m\u001b[0m\n",
      "\u001b[0;32m~/miniconda3/envs/tap-idaes3/lib/python3.7/site-packages/pyomo/core/base/var.py\u001b[0m in \u001b[0;36m_valid_value\u001b[0;34m(self, val, use_exception)\u001b[0m\n\u001b[1;32m    187\u001b[0m             raise ValueError(\"Numeric value `%s` (%s) is not in \"\n\u001b[1;32m    188\u001b[0m                              \u001b[0;34m\"domain %s for Var %s\"\u001b[0m \u001b[0;34m%\u001b[0m\u001b[0;34m\u001b[0m\u001b[0;34m\u001b[0m\u001b[0m\n\u001b[0;32m--> 189\u001b[0;31m                              (val, type(val), self.domain, self.name))\n\u001b[0m\u001b[1;32m    190\u001b[0m         \u001b[0;32mreturn\u001b[0m \u001b[0mans\u001b[0m\u001b[0;34m\u001b[0m\u001b[0;34m\u001b[0m\u001b[0m\n\u001b[1;32m    191\u001b[0m \u001b[0;34m\u001b[0m\u001b[0m\n",
      "\u001b[0;31mValueError\u001b[0m: Numeric value `50000*fs.reverse_osmosis.flow_vol_in[0.0]` (<class 'pyomo.core.expr.numeric_expr.MonomialTermExpression'>) is not in domain NonNegativeReals for Var fs.reverse_osmosis.membrane_area[0.0]"
     ]
    }
   ],
   "source": [
    "import reverse_osmosis\n",
    "setattr(m.fs, \"reverse_osmosis\", reverse_osmosis.UnitProcess(default={\"property_package\": m.fs.water}))\n",
    "getattr(m.fs, \"reverse_osmosis\").get_costing(module=financials)"
   ]
  },
  {
   "cell_type": "code",
   "execution_count": 22,
   "metadata": {},
   "outputs": [],
   "source": [
    "# m.fs.reverse_osmosis.flow_vol_in.fix(4.583)\n",
    "# #m.fs.reverse_osmosis.flow_vol_in.unfix() #0.0001)\n",
    "# m.fs.reverse_osmosis.conc_mass_in[:, \"tds\"].fix(35) \n",
    "# m.fs.reverse_osmosis.pressure_in.fix(1) \n",
    "# m.fs.reverse_osmosis.temperature_in.fix(300) \n",
    "#m.fs.reverse_osmosis.feed.pressure.fix()\n",
    "m.fs.reverse_osmosis.membrane_area.unfix()\n",
    "#m.fs.reverse_osmosis.feed.pressure.unfix()"
   ]
  },
  {
   "cell_type": "code",
   "execution_count": 89,
   "metadata": {},
   "outputs": [],
   "source": [
    "#m = wt.design.add_unit_process(m = m, unit_process_name = \"reverse_osmosis\", unit_process_type = \"reverse_osmosis\")"
   ]
  },
  {
   "cell_type": "code",
   "execution_count": 18,
   "metadata": {},
   "outputs": [],
   "source": [
    "#m.fs.reverse_osmosis.flow_vol_in.unfix()\n",
    "#m.fs.reverse_osmosis.conc_mass_in[:, \"tds\"].unfix()\n",
    "m.fs.arc1 = Arc(source=m.fs.source1.outlet, destination = getattr(m.fs, \"reverse_osmosis\").inlet)"
   ]
  },
  {
   "cell_type": "code",
   "execution_count": 19,
   "metadata": {},
   "outputs": [],
   "source": [
    "#wt.display.show_train2(model_name=m)"
   ]
  },
  {
   "cell_type": "code",
   "execution_count": 20,
   "metadata": {},
   "outputs": [],
   "source": [
    "#m.fs.reverse_osmosis.feed.pressure.unfix()"
   ]
  },
  {
   "cell_type": "code",
   "execution_count": 23,
   "metadata": {
    "scrolled": true
   },
   "outputs": [
    {
     "name": "stdout",
     "output_type": "stream",
     "text": [
      "degrees_of_freedom: 0\n",
      "Ipopt 3.12.13: \n",
      "\n",
      "******************************************************************************\n",
      "This program contains Ipopt, a library for large-scale nonlinear optimization.\n",
      " Ipopt is released as open source code under the Eclipse Public License (EPL).\n",
      "         For more information visit http://projects.coin-or.org/Ipopt\n",
      "******************************************************************************\n",
      "\n",
      "This is Ipopt version 3.12.13, running with linear solver mumps.\n",
      "NOTE: Other linear solvers might be more efficient (see Ipopt documentation).\n",
      "\n",
      "Number of nonzeros in equality constraint Jacobian...:      100\n",
      "Number of nonzeros in inequality constraint Jacobian.:        0\n",
      "Number of nonzeros in Lagrangian Hessian.............:       28\n",
      "\n",
      "Total number of variables............................:       40\n",
      "                     variables with only lower bounds:       18\n",
      "                variables with lower and upper bounds:        1\n",
      "                     variables with only upper bounds:        0\n",
      "Total number of equality constraints.................:       40\n",
      "Total number of inequality constraints...............:        0\n",
      "        inequality constraints with only lower bounds:        0\n",
      "   inequality constraints with lower and upper bounds:        0\n",
      "        inequality constraints with only upper bounds:        0\n",
      "\n",
      "iter    objective    inf_pr   inf_du lg(mu)  ||d||  lg(rg) alpha_du alpha_pr  ls\n",
      "   0  2.5354043e-01 1.00e+04 1.00e+00  -1.0 0.00e+00    -  0.00e+00 0.00e+00   0\n",
      "   1  3.8206041e-01 3.55e+08 1.28e+10  -1.0 7.02e+06    -  2.14e-07 1.25e-01f  4\n",
      "   2  4.9339628e-01 2.60e+08 3.33e+11  -1.0 3.72e+06    -  5.79e-03 1.07e-01h  1\n",
      "   3  4.9453931e-01 2.59e+08 3.32e+11  -1.0 1.84e+06    -  1.82e-01 3.43e-03h  1\n",
      "   4  4.9455067e-01 2.59e+08 3.32e+11  -1.0 1.81e+06    -  1.87e-01 3.53e-05h  1\n",
      "   5r 4.9455067e-01 2.59e+08 1.00e+03   4.4 0.00e+00    -  0.00e+00 1.77e-07R  2\n",
      "   6r 1.4667334e+00 9.77e+07 1.15e+03   4.4 4.16e+06    -  1.87e-02 6.18e-03f  1\n",
      "   7r 1.5188775e+00 9.55e+07 1.88e+03   2.3 6.32e+04    -  1.52e-01 4.06e-03f  1\n",
      "   8r 1.6459074e+00 8.03e+07 1.47e+03   2.3 5.48e+04    -  1.86e-02 4.68e-02f  1\n",
      "   9r 1.6806645e+00 7.75e+07 1.39e+05   2.3 5.19e+04    -  4.43e-01 1.05e-02f  1\n",
      "iter    objective    inf_pr   inf_du lg(mu)  ||d||  lg(rg) alpha_du alpha_pr  ls\n",
      "  10r 7.3506461e+00 1.84e+07 5.34e+04   2.3 5.14e+04    -  1.85e-02 5.47e-01f  1\n",
      "  11r 4.8200245e+01 6.11e+06 4.34e+03   2.3 2.14e+04    -  3.94e-01 4.96e-01f  1\n",
      "  12r 2.7329732e+02 6.40e+05 3.46e+03   1.6 1.07e+04    -  7.69e-01 7.57e-01f  1\n",
      "  13r 1.3470003e+02 6.11e+05 1.34e+04   1.6 6.21e+04    -  9.19e-01 6.91e-01f  1\n",
      "  14r 2.9469242e+02 2.36e+06 2.33e+04   1.6 2.94e+02  -2.0 1.00e+00 9.93e-01f  1\n",
      "  15r 3.0645446e+02 9.33e+05 4.33e+03   1.6 5.03e+01  -0.7 1.00e+00 1.00e+00f  1\n",
      "  16r 5.7335577e+02 2.81e+05 2.17e+03   0.9 2.96e+01  -0.2 1.00e+00 8.64e-01f  1\n",
      "  17r 1.3360892e+03 3.42e+06 2.22e+04   0.9 3.31e+02  -0.7 9.07e-01 4.22e-01f  1\n",
      "  18r 1.3572104e+03 3.40e+06 2.88e+04   0.9 2.13e+02  -0.3 1.39e-01 6.46e-03f  1\n",
      "  19r 1.0436714e+04 3.55e+06 6.06e+04   0.9 6.48e+01   0.1 1.75e-02 1.00e+00f  1\n",
      "iter    objective    inf_pr   inf_du lg(mu)  ||d||  lg(rg) alpha_du alpha_pr  ls\n",
      "  20r 2.3349330e+04 1.13e+07 2.40e+05   0.9 1.09e+02   0.6 1.75e-01 7.17e-01f  1\n",
      "  21r 2.1179679e+04 1.11e+07 2.90e+05   0.9 1.52e+01   1.9 1.88e-01 1.65e-02f  1\n",
      "  22r 1.4541416e+04 1.08e+07 3.64e+05   0.9 4.88e+01   1.4 1.02e-01 2.84e-02f  1\n",
      "  23r 1.4016847e+03 1.05e+07 3.50e+05   0.9 2.61e+01   1.8 4.91e-02 2.62e-02f  1\n",
      "  24r 6.8245090e+02 6.04e+06 2.22e+05   0.9 5.40e+01   1.4 5.97e-03 3.89e-01f  1\n",
      "  25r 6.8467666e+02 6.03e+06 2.11e+05   0.9 9.62e+01   0.9 3.06e-01 2.18e-03f  1\n",
      "  26r 1.0027401e+03 2.27e+06 7.52e+04   0.9 1.99e+01   0.4 1.00e+00 6.11e-01f  1\n",
      "  27r 1.6559142e+03 5.96e+04 2.99e+03   0.9 5.63e+01  -0.1 1.00e+00 9.83e-01f  1\n",
      "  28r 1.6556496e+03 5.81e+04 3.21e+03   0.9 1.39e+02  -0.6 1.00e+00 1.40e-02f  1\n",
      "  29r 1.6370617e+03 3.52e+05 3.62e+03   0.9 1.13e+03  -1.0 1.25e-01 4.23e-02f  1\n",
      "iter    objective    inf_pr   inf_du lg(mu)  ||d||  lg(rg) alpha_du alpha_pr  ls\n",
      "  30r 1.5553662e+03 3.51e+05 2.66e+04   0.9 1.31e+05    -  1.33e-01 1.42e-02f  1\n",
      "  31r 1.3049861e+03 4.92e+05 2.12e+04   0.9 1.29e+05    -  1.39e-03 2.99e-02f  1\n",
      "  32r 1.2944749e+03 4.84e+05 1.15e+04   0.9 4.89e+01   0.3 1.00e+00 1.62e-02f  1\n",
      "  33r 1.1989702e+03 2.30e+05 7.23e+03   0.9 1.25e+05    -  1.00e+00 5.27e-01f  1\n",
      "  34r 1.1339424e+03 1.50e+05 5.88e+03   0.9 5.89e+04    -  1.00e+00 3.51e-01f  1\n",
      "  35r 1.1322368e+03 1.47e+05 4.85e+03   0.9 2.63e+04    -  1.00e+00 1.84e-02f  1\n",
      "  36r 1.0661539e+03 7.20e+02 2.19e+02   0.9 2.08e+04    -  1.00e+00 1.00e+00f  1\n",
      "  37r 1.5070411e+03 8.32e+01 2.01e+03   0.2 3.34e+02    -  1.00e+00 8.71e-01f  1\n",
      "  38r 1.4821883e+03 6.95e+01 1.03e+04   0.2 4.12e+02    -  1.00e+00 1.66e-01f  1\n",
      "  39r 1.3653404e+03 2.87e+01 1.12e+00   0.2 3.44e+02    -  1.00e+00 1.00e+00f  1\n",
      "iter    objective    inf_pr   inf_du lg(mu)  ||d||  lg(rg) alpha_du alpha_pr  ls\n",
      "  40r 1.4002624e+03 3.89e+00 5.98e+02  -1.9 1.08e+01    -  8.43e-01 9.17e-01f  1\n",
      "  41r 1.3893844e+03 2.16e+00 2.11e+02  -1.9 7.54e+03    -  8.84e-01 6.45e-01f  1\n",
      "  42r 1.3840455e+03 2.37e+00 1.41e+00  -1.9 2.68e+03    -  1.00e+00 1.00e+00f  1\n",
      "  43r 1.3840464e+03 2.52e+00 1.25e-06  -1.9 1.49e-01    -  1.00e+00 1.00e+00h  1\n",
      "  44r 1.3840474e+03 2.72e+00 3.39e+01  -4.2 7.83e-01    -  9.31e-01 1.00e+00f  1\n",
      "  45r 1.3840331e+03 1.92e+00 1.88e+03  -4.2 1.15e+05    -  3.42e-01 6.91e-01f  1\n",
      "  46r 1.3840093e+03 1.11e+00 5.47e+02  -4.2 3.56e+04    -  8.22e-01 1.00e+00f  1\n",
      "  47r 1.3840116e+03 1.11e+00 8.00e-05  -4.2 5.87e-01    -  1.00e+00 1.00e+00h  1\n",
      "  48r 1.3840116e+03 1.12e+00 2.23e+00  -6.3 8.51e-03    -  9.82e-01 1.00e+00f  1\n",
      "  49r 1.3839655e+03 2.60e+00 1.05e+02  -6.3 1.28e+06    -  1.23e-01 4.39e-02f  1\n",
      "iter    objective    inf_pr   inf_du lg(mu)  ||d||  lg(rg) alpha_du alpha_pr  ls\n",
      "  50r 1.3839655e+03 2.60e+00 1.33e+02  -6.3 1.04e+06    -  1.00e+00 2.84e-08f  1\n",
      "  51r 1.3839599e+03 2.20e+00 7.39e+02  -6.3 4.47e+01    -  1.00e+00 1.53e-01f  1\n",
      "  52r 1.3839253e+03 1.05e-02 1.86e-05  -6.3 3.59e+00    -  1.00e+00 1.00e+00h  1\n",
      "  53r 1.3839059e+03 1.22e-02 2.05e-01  -9.0 3.16e+00    -  8.58e-01 1.00e+00h  1\n",
      "  54r 1.3833092e+03 3.83e-02 3.79e-05  -9.0 9.76e+01    -  1.00e+00 1.00e+00h  1\n",
      "  55r 1.3819554e+03 1.98e-01 2.85e-06  -9.0 2.22e+02    -  1.00e+00 1.00e+00h  1\n",
      "\n",
      "Number of Iterations....: 55\n",
      "\n",
      "                                   (scaled)                 (unscaled)\n",
      "Objective...............:   2.5374894326975855e-01    1.3819539863121058e+03\n",
      "Dual infeasibility......:   2.8514629040466139e+02    1.5529485468158582e+06\n",
      "Constraint violation....:   1.5728893777723043e-02    1.5728893777723043e-02\n",
      "Complementarity.........:   9.0909090909188569e-10    4.9510425129299615e-06\n",
      "Overall NLP error.......:   1.5728893777723043e-02    1.5529485468158582e+06\n",
      "\n",
      "\n",
      "Number of objective function evaluations             = 60\n",
      "Number of objective gradient evaluations             = 7\n",
      "Number of equality constraint evaluations            = 64\n",
      "Number of inequality constraint evaluations          = 0\n",
      "Number of equality constraint Jacobian evaluations   = 58\n",
      "Number of inequality constraint Jacobian evaluations = 0\n",
      "Number of Lagrangian Hessian evaluations             = 56\n",
      "Total CPU secs in IPOPT (w/o function evaluations)   =      0.160\n",
      "Total CPU secs in NLP function evaluations           =      0.002\n",
      "\n",
      "EXIT: Converged to a point of local infeasibility. Problem may be infeasible.\n",
      "\b----------------------------------------------------------------------\n",
      "fs.source1\n",
      "inlet : Size=1\n",
      "    Key  : Name        : Value\n",
      "    None :   conc_mass : {(0.0, 'tds'): 35.0}\n",
      "         :    flow_vol : {0.0: 4.583}\n",
      "         :    pressure : {0.0: 1}\n",
      "         : temperature : {0.0: 300}\n",
      "outlet : Size=1\n",
      "    Key  : Name        : Value\n",
      "    None :   conc_mass : {(0.0, 'tds'): 35.0}\n",
      "         :    flow_vol : {0.0: 4.5829999999999895}\n",
      "         :    pressure : {0.0: 1.0}\n",
      "         : temperature : {0.0: 300.0}\n",
      "----------------------------------------------------------------------\n",
      "fs.reverse_osmosis\n",
      "inlet : Size=1\n",
      "    Key  : Name        : Value\n",
      "    None :   conc_mass : {(0.0, 'tds'): 35.0}\n",
      "         :    flow_vol : {0.0: 4.58299999999998}\n",
      "         :    pressure : {0.0: 1.0}\n",
      "         : temperature : {0.0: 300.0}\n",
      "outlet : Size=1\n",
      "    Key  : Name        : Value\n",
      "    None :   conc_mass : {(0.0, 'tds'): 315.1966668632376}\n",
      "         :    flow_vol : {0.0: 0.0008898903367683846}\n",
      "         :    pressure : {0.0: 1.0}\n",
      "         : temperature : {0.0: 300.0}\n",
      "waste : Size=1\n",
      "    Key  : Name        : Value\n",
      "    None :   conc_mass : {(0.0, 'tds'): 34.9455672886105}\n",
      "         :    flow_vol : {0.0: 4.582112180624524}\n",
      "         :    pressure : {0.0: 1.0}\n",
      "         : temperature : {0.0: 300.0}\n",
      "total_cap_investment: 62.224917664061074\n",
      "----------------------------------------------------------------------\n",
      "In ---> 4514.03501599998\n",
      "Out ---> 0.7824745573847529\n",
      "Waste ---> 4513.2525414425945\n",
      "RO fixed_cap_inv cost 59.177287364775154\n",
      "RO electricity_cost  31.012438503529275\n"
     ]
    }
   ],
   "source": [
    "wt.run_water_tap(m = m, solver_results = True, print_model_results = True, objective=True)\n",
    "print(\"In --->\", m.fs.reverse_osmosis.feed.mass_flow_h20[0]())\n",
    "print(\"Out --->\", m.fs.reverse_osmosis.permeate.mass_flow_h20[0]())\n",
    "print(\"Waste --->\", m.fs.reverse_osmosis.retenate.mass_flow_h20[0]())\n",
    "\n",
    "print(\"RO fixed_cap_inv cost\", m.fs.reverse_osmosis.costing.fixed_cap_inv())\n",
    "print(\"RO electricity_cost \", m.fs.reverse_osmosis.costing.electricity_cost())\n",
    "#print(\"RO electricity_cost \", m.fs.reverse_osmosis.costing.total_up_cost())"
   ]
  },
  {
   "cell_type": "code",
   "execution_count": 11,
   "metadata": {},
   "outputs": [
    {
     "data": {
      "text/plain": [
       "0.6384341762564585"
      ]
     },
     "execution_count": 11,
     "metadata": {},
     "output_type": "execute_result"
    }
   ],
   "source": [
    "m.fs.costing.LCOW()"
   ]
  },
  {
   "cell_type": "code",
   "execution_count": 12,
   "metadata": {},
   "outputs": [
    {
     "data": {
      "text/plain": [
       "888617.6842735186"
      ]
     },
     "execution_count": 12,
     "metadata": {},
     "output_type": "execute_result"
    }
   ],
   "source": [
    "m.fs.reverse_osmosis.membrane_area[0]()"
   ]
  },
  {
   "cell_type": "code",
   "execution_count": 13,
   "metadata": {},
   "outputs": [
    {
     "data": {
      "text/plain": [
       "229150.0"
      ]
     },
     "execution_count": 13,
     "metadata": {},
     "output_type": "execute_result"
    }
   ],
   "source": [
    "50*1000*m.fs.reverse_osmosis.flow_vol_in[0]()"
   ]
  },
  {
   "cell_type": "code",
   "execution_count": null,
   "metadata": {},
   "outputs": [],
   "source": []
  },
  {
   "cell_type": "code",
   "execution_count": null,
   "metadata": {},
   "outputs": [],
   "source": []
  },
  {
   "cell_type": "code",
   "execution_count": null,
   "metadata": {},
   "outputs": [],
   "source": []
  },
  {
   "cell_type": "code",
   "execution_count": null,
   "metadata": {},
   "outputs": [],
   "source": []
  },
  {
   "cell_type": "code",
   "execution_count": null,
   "metadata": {},
   "outputs": [],
   "source": []
  },
  {
   "cell_type": "code",
   "execution_count": null,
   "metadata": {},
   "outputs": [],
   "source": []
  },
  {
   "cell_type": "code",
   "execution_count": null,
   "metadata": {},
   "outputs": [],
   "source": []
  },
  {
   "cell_type": "code",
   "execution_count": null,
   "metadata": {},
   "outputs": [],
   "source": []
  },
  {
   "cell_type": "code",
   "execution_count": 38,
   "metadata": {},
   "outputs": [],
   "source": [
    "ro_membrane_cost = 30 # $/m3\n",
    "pump_cost = 53 #m3bar/h\n",
    "saturated_saline_make_up = 0.025\n",
    "membrane_replacement_factor = 15 #%of initial membrane area per year\n",
    "maintenance_and_labor = 2 #% of initial investment/yr\n",
    "chem_factor = 1 #% of init invest per year#/NA"
   ]
  },
  {
   "cell_type": "code",
   "execution_count": 41,
   "metadata": {},
   "outputs": [],
   "source": [
    "membrane_area = 50"
   ]
  },
  {
   "cell_type": "code",
   "execution_count": 42,
   "metadata": {},
   "outputs": [],
   "source": [
    "membrane_unit = ro_membrane_cost * membrane_area\n",
    "pump_unit = pump_cost * m.fs.reverse_osmosis.pump_power()\n",
    "pressure_exchanger = 0"
   ]
  },
  {
   "cell_type": "code",
   "execution_count": 51,
   "metadata": {},
   "outputs": [],
   "source": [
    "# 1.4 in old RO. See Bartholomew et al. 2018\n",
    "TCI = 1.4 * (membrane_unit + pump_unit) * 1e-6"
   ]
  },
  {
   "cell_type": "code",
   "execution_count": 53,
   "metadata": {},
   "outputs": [],
   "source": [
    "tac = TCI*0.1 + 2*m.fs.reverse_osmosis.costing.electricity_cost()"
   ]
  },
  {
   "cell_type": "code",
   "execution_count": 54,
   "metadata": {},
   "outputs": [
    {
     "data": {
      "text/plain": [
       "1.436024276021926"
      ]
     },
     "execution_count": 54,
     "metadata": {},
     "output_type": "execute_result"
    }
   ],
   "source": [
    "tac*1e6 / (0.3*3600*24*365)"
   ]
  },
  {
   "cell_type": "code",
   "execution_count": 55,
   "metadata": {},
   "outputs": [
    {
     "data": {
      "text/plain": [
       "<pyomo.core.base.expression.SimpleExpression at 0x7fc9d35a9230>"
      ]
     },
     "execution_count": 55,
     "metadata": {},
     "output_type": "execute_result"
    }
   ],
   "source": [
    "m.fs.costing.LCOW"
   ]
  },
  {
   "cell_type": "code",
   "execution_count": null,
   "metadata": {},
   "outputs": [],
   "source": []
  },
  {
   "cell_type": "code",
   "execution_count": 17,
   "metadata": {},
   "outputs": [],
   "source": [
    "feed=m.fs.reverse_osmosis.feed"
   ]
  },
  {
   "cell_type": "code",
   "execution_count": 18,
   "metadata": {},
   "outputs": [
    {
     "data": {
      "text/plain": [
       "2783020.445065185"
      ]
     },
     "execution_count": 18,
     "metadata": {},
     "output_type": "execute_result"
    }
   ],
   "source": [
    "value(8.45e7 * feed.osm_coeff[0]* feed.mass_frac_tds[0] / (1 - feed.mass_frac_tds[0]))"
   ]
  },
  {
   "cell_type": "code",
   "execution_count": 19,
   "metadata": {},
   "outputs": [],
   "source": [
    "mass_frac_tds = 0.04952759752553286"
   ]
  },
  {
   "cell_type": "code",
   "execution_count": 20,
   "metadata": {},
   "outputs": [
    {
     "data": {
      "text/plain": [
       "4081042.9868604005"
      ]
     },
     "execution_count": 20,
     "metadata": {},
     "output_type": "execute_result"
    }
   ],
   "source": [
    "value(8.45e7 * feed.osm_coeff[0]* mass_frac_tds / (1 - mass_frac_tds))"
   ]
  },
  {
   "cell_type": "code",
   "execution_count": null,
   "metadata": {},
   "outputs": [],
   "source": []
  },
  {
   "cell_type": "code",
   "execution_count": 24,
   "metadata": {},
   "outputs": [
    {
     "data": {
      "text/plain": [
       "51.21030686985716"
      ]
     },
     "execution_count": 24,
     "metadata": {},
     "output_type": "execute_result"
    }
   ],
   "source": [
    "1033.975186126418 * 0.04952759752553286 "
   ]
  },
  {
   "cell_type": "code",
   "execution_count": null,
   "metadata": {},
   "outputs": [],
   "source": []
  },
  {
   "cell_type": "code",
   "execution_count": 12,
   "metadata": {},
   "outputs": [
    {
     "data": {
      "text/plain": [
       "0.010812025481409663"
      ]
     },
     "execution_count": 12,
     "metadata": {},
     "output_type": "execute_result"
    }
   ],
   "source": [
    "value(m.fs.reverse_osmosis.mass_fraction_in[0])"
   ]
  },
  {
   "cell_type": "code",
   "execution_count": 13,
   "metadata": {},
   "outputs": [
    {
     "data": {
      "text/plain": [
       "0.1"
      ]
     },
     "execution_count": 13,
     "metadata": {},
     "output_type": "execute_result"
    }
   ],
   "source": [
    "value(m.fs.reverse_osmosis.osmotic_coeff_in[0])"
   ]
  },
  {
   "cell_type": "code",
   "execution_count": 25,
   "metadata": {},
   "outputs": [
    {
     "data": {
      "text/plain": [
       "39.743447699916565"
      ]
     },
     "execution_count": 25,
     "metadata": {},
     "output_type": "execute_result"
    }
   ],
   "source": [
    "3974344.7699916563*1e-5"
   ]
  },
  {
   "cell_type": "code",
   "execution_count": 27,
   "metadata": {},
   "outputs": [
    {
     "name": "stdout",
     "output_type": "stream",
     "text": [
      "osmotic_coeff_in : water mass flow rate \n",
      "    Size=1, Index=fs.time\n",
      "    Key : Lower : Value : Upper : Fixed : Stale : Domain\n",
      "    0.0 :     0 :   0.1 :  None : False :  True : NonNegativeReals\n"
     ]
    }
   ],
   "source": [
    "m.fs.reverse_osmosis.osmotic_coeff_in.display()"
   ]
  },
  {
   "cell_type": "code",
   "execution_count": null,
   "metadata": {},
   "outputs": [],
   "source": []
  },
  {
   "cell_type": "code",
   "execution_count": null,
   "metadata": {},
   "outputs": [],
   "source": []
  },
  {
   "cell_type": "code",
   "execution_count": null,
   "metadata": {},
   "outputs": [],
   "source": []
  },
  {
   "cell_type": "code",
   "execution_count": null,
   "metadata": {},
   "outputs": [],
   "source": []
  },
  {
   "cell_type": "code",
   "execution_count": null,
   "metadata": {},
   "outputs": [],
   "source": []
  },
  {
   "cell_type": "code",
   "execution_count": 20,
   "metadata": {},
   "outputs": [
    {
     "data": {
      "text/plain": [
       "2.175722122794811e-15"
      ]
     },
     "execution_count": 20,
     "metadata": {},
     "output_type": "execute_result"
    }
   ],
   "source": [
    "value(m.fs.reverse_osmosis.mass_fraction_per[0])"
   ]
  },
  {
   "cell_type": "code",
   "execution_count": 21,
   "metadata": {},
   "outputs": [
    {
     "data": {
      "text/plain": [
       "4.668731502727216e-08"
      ]
     },
     "execution_count": 21,
     "metadata": {},
     "output_type": "execute_result"
    }
   ],
   "source": [
    "value(m.fs.reverse_osmosis.mass_fraction_ret[0])"
   ]
  },
  {
   "cell_type": "code",
   "execution_count": 23,
   "metadata": {},
   "outputs": [
    {
     "data": {
      "text/plain": [
       "0.06250214624787276"
      ]
     },
     "execution_count": 23,
     "metadata": {},
     "output_type": "execute_result"
    }
   ],
   "source": [
    "64.92996680681406 / (0.6312*64.92996680681406 + 997.86)"
   ]
  },
  {
   "cell_type": "code",
   "execution_count": null,
   "metadata": {},
   "outputs": [],
   "source": []
  },
  {
   "cell_type": "code",
   "execution_count": null,
   "metadata": {},
   "outputs": [],
   "source": []
  },
  {
   "cell_type": "code",
   "execution_count": null,
   "metadata": {},
   "outputs": [],
   "source": []
  },
  {
   "cell_type": "code",
   "execution_count": null,
   "metadata": {},
   "outputs": [],
   "source": [
    "value(m.fs.reverse_osmosis.osmotic_pressure_in)"
   ]
  },
  {
   "cell_type": "code",
   "execution_count": 17,
   "metadata": {},
   "outputs": [
    {
     "name": "stdout",
     "output_type": "stream",
     "text": [
      "jw_per : water mass flow rate permeate\n",
      "    Size=1, Index=fs.time\n",
      "    Key : Lower : Value              : Upper : Fixed : Stale : Domain\n",
      "    0.0 :     0 : 0.9975000000022316 :  None : False : False : NonNegativeReals\n"
     ]
    }
   ],
   "source": [
    "m.fs.reverse_osmosis.jw_per.display()"
   ]
  },
  {
   "cell_type": "code",
   "execution_count": 18,
   "metadata": {},
   "outputs": [
    {
     "name": "stdout",
     "output_type": "stream",
     "text": [
      "js_per : tds mass flow rate permeate\n",
      "    Size=1, Index=fs.time\n",
      "    Key : Lower : Value                 : Upper : Fixed : Stale : Domain\n",
      "    0.0 :     0 : 3.142225908327049e-05 :  None : False : False : NonNegativeReals\n"
     ]
    }
   ],
   "source": [
    "m.fs.reverse_osmosis.js_per.display()"
   ]
  },
  {
   "cell_type": "code",
   "execution_count": null,
   "metadata": {},
   "outputs": [],
   "source": []
  },
  {
   "cell_type": "code",
   "execution_count": null,
   "metadata": {},
   "outputs": [],
   "source": [
    "self.conc_mass_out_eq = Constraint(    \n",
    "    expr=self.conc_mass_out[t, \"tds\"] == ((self.mass_flow_perm / self.flow_vol_out[t]) - 997.86) / 0.6312\n",
    ") "
   ]
  },
  {
   "cell_type": "code",
   "execution_count": null,
   "metadata": {},
   "outputs": [],
   "source": []
  },
  {
   "cell_type": "code",
   "execution_count": null,
   "metadata": {},
   "outputs": [],
   "source": [
    "3.142225908327049e-05 / 0.9975000000022316"
   ]
  },
  {
   "cell_type": "code",
   "execution_count": null,
   "metadata": {},
   "outputs": [],
   "source": []
  },
  {
   "cell_type": "code",
   "execution_count": null,
   "metadata": {},
   "outputs": [],
   "source": []
  },
  {
   "cell_type": "code",
   "execution_count": 124,
   "metadata": {},
   "outputs": [],
   "source": [
    "a = 4.2E-7 # 𝑤𝑎𝑡𝑒𝑟 𝑝𝑒𝑟𝑚𝑒𝑎𝑏𝑖𝑙𝑖𝑡𝑦 coefficient m bar-1 s-1\n",
    "p_in = 50 #bar pressure at inlet. should be unfixed.\n",
    "p_atm = 1 #bar atmospheric pressure\n",
    "pressure_drop = 3 # bar Typical pressure drops range from 0.1-3 bar.\n",
    "p_ret = p_in - pressure_drop #bar atmospheric pressure\n",
    "pw = 1000 # density of water kg/m3\n",
    "membrane_area = 50 # per module m2"
   ]
  },
  {
   "cell_type": "code",
   "execution_count": 125,
   "metadata": {},
   "outputs": [],
   "source": [
    "flow_in = 1\n",
    "tds_in = 35.8\n",
    "tds_per = tds_in * 0.002\n",
    "tds_ret = tds_in - tds_per"
   ]
  },
  {
   "cell_type": "code",
   "execution_count": 126,
   "metadata": {},
   "outputs": [],
   "source": [
    "def get_osmotic_pressure(tds):\n",
    "    mass_flow_total = flow0.6312*tds + 997.86 #kg/s\n",
    "    print(mass_flow_total)\n",
    "    mass_fraction = tds / mass_flow_total #unitless\n",
    "    osmotic_coeff = 4.92*mass_fraction**2 + mass_fraction*0.0889 + 0.918 \n",
    "    osmotic_pressure = 8.45e7 * osmotic_coeff * mass_fraction / (1 - mass_fraction) #Pa\n",
    "    osmotic_pressure = osmotic_pressure * 1e-5 #bar\n",
    "    return osmotic_pressure\n"
   ]
  },
  {
   "cell_type": "code",
   "execution_count": 127,
   "metadata": {},
   "outputs": [
    {
     "name": "stdout",
     "output_type": "stream",
     "text": [
      "1020.45696\n",
      "1020.41176608\n"
     ]
    }
   ],
   "source": [
    "osmotic_pressure_in = get_osmotic_pressure(tds_in)\n",
    "osmotic_pressure_out = get_osmotic_pressure(tds_ret)"
   ]
  },
  {
   "cell_type": "code",
   "execution_count": null,
   "metadata": {},
   "outputs": [],
   "source": []
  },
  {
   "cell_type": "code",
   "execution_count": 128,
   "metadata": {},
   "outputs": [
    {
     "name": "stdout",
     "output_type": "stream",
     "text": [
      "0.4136667895516468\n"
     ]
    }
   ],
   "source": [
    "jw_out = ((p_out - p_atm) - osmotic_pressure_out)*pw*a #pout-pp goes to zero.\n",
    "jw_in = ((p_in - p_atm) - osmotic_pressure_in)*pw*a #pout-pp goes to zero.\n",
    "flow_per = membrane_area * 0.5 * (jw_in + jw_out) # permeate water flow kg/s\n",
    "flow_per = flow_out #/ 997.86 # permeate water flow m3/s\n",
    "\n",
    "print(flow_out2)"
   ]
  },
  {
   "cell_type": "code",
   "execution_count": null,
   "metadata": {},
   "outputs": [],
   "source": []
  },
  {
   "cell_type": "code",
   "execution_count": null,
   "metadata": {},
   "outputs": [],
   "source": []
  },
  {
   "cell_type": "code",
   "execution_count": null,
   "metadata": {},
   "outputs": [],
   "source": []
  },
  {
   "cell_type": "code",
   "execution_count": 107,
   "metadata": {},
   "outputs": [],
   "source": [
    "b = 3.5E-8 # Salt permeability coefficient m s-1\n",
    "salt_out = 0.5 * b * (tds_in + tds_out) * membrane_area # kg/m3"
   ]
  },
  {
   "cell_type": "code",
   "execution_count": 108,
   "metadata": {},
   "outputs": [
    {
     "data": {
      "text/plain": [
       "1.14188375"
      ]
     },
     "execution_count": 108,
     "metadata": {},
     "output_type": "execute_result"
    }
   ],
   "source": [
    "salt_out"
   ]
  },
  {
   "cell_type": "code",
   "execution_count": null,
   "metadata": {},
   "outputs": [],
   "source": []
  },
  {
   "cell_type": "code",
   "execution_count": null,
   "metadata": {},
   "outputs": [],
   "source": [
    "membrane_area = area_per_module * pure_water_perm / (pure_water_perm_manu)  # m^2\n"
   ]
  },
  {
   "cell_type": "code",
   "execution_count": null,
   "metadata": {},
   "outputs": [],
   "source": []
  },
  {
   "cell_type": "code",
   "execution_count": null,
   "metadata": {},
   "outputs": [],
   "source": []
  },
  {
   "cell_type": "code",
   "execution_count": null,
   "metadata": {},
   "outputs": [],
   "source": []
  },
  {
   "cell_type": "code",
   "execution_count": null,
   "metadata": {},
   "outputs": [],
   "source": [
    "x1 = 4.92*𝑋**2 + X*0.0889 + 0.918 \n",
    "𝟖.𝟒𝟓𝑬𝟕 𝝓(𝑿)  𝑿/(𝟏−𝑿)  "
   ]
  },
  {
   "cell_type": "code",
   "execution_count": null,
   "metadata": {},
   "outputs": [],
   "source": []
  },
  {
   "cell_type": "code",
   "execution_count": null,
   "metadata": {},
   "outputs": [],
   "source": [
    "𝜌(𝑋)=756 𝑋+995 [𝑘𝑔/𝑚^3 ] "
   ]
  },
  {
   "cell_type": "code",
   "execution_count": null,
   "metadata": {},
   "outputs": [],
   "source": []
  },
  {
   "cell_type": "code",
   "execution_count": null,
   "metadata": {},
   "outputs": [],
   "source": [
    "b = 3.5E-8 # Salt permeability coefficient m s-1\n"
   ]
  },
  {
   "cell_type": "code",
   "execution_count": null,
   "metadata": {},
   "outputs": [],
   "source": []
  },
  {
   "cell_type": "code",
   "execution_count": null,
   "metadata": {},
   "outputs": [],
   "source": []
  },
  {
   "cell_type": "code",
   "execution_count": null,
   "metadata": {},
   "outputs": [],
   "source": []
  },
  {
   "cell_type": "code",
   "execution_count": null,
   "metadata": {},
   "outputs": [],
   "source": []
  },
  {
   "cell_type": "code",
   "execution_count": null,
   "metadata": {},
   "outputs": [],
   "source": [
    "Parameters\n",
    "𝐴 −𝑤𝑎𝑡𝑒𝑟 𝑝𝑒𝑟𝑚𝑒𝑎𝑏𝑖𝑙𝑖𝑡𝑦 [𝑚·𝑠^(−1)·𝑃𝑎^(−1) ]\n",
    "𝐵 −𝑠𝑎𝑙𝑡 𝑝𝑒𝑟𝑚𝑒𝑎𝑏𝑖𝑙𝑖𝑡𝑦 [𝑚·𝑠^(−1) ]\n",
    "𝜌_𝑤−𝑑𝑒𝑛𝑠𝑖𝑡𝑦 𝑜𝑓 𝑝𝑢𝑟𝑒 𝑤𝑎𝑡𝑒𝑟 [𝑘𝑔·𝑚^(−3)]\n",
    "Δ𝑃−𝑝𝑟𝑒𝑠𝑢𝑟𝑒 𝑑𝑟𝑜𝑝 [𝑃𝑎]\n",
    "𝑃_𝑝 -> atmospheric pressure\n",
    "\n",
    "𝐽𝑤_𝑜𝑢𝑡=𝐴([𝑃_𝑜𝑢𝑡−𝑃_𝑝 ]−〖[𝜋〗_𝑜𝑢𝑡 ]) 𝜌_𝑤\n",
    "𝐽𝑤_𝑖𝑛=𝐴([𝑃_𝑖𝑛−𝑃_𝑝 ]−[𝜋_𝑖𝑛 ])  𝜌_𝑤\n",
    "𝐽𝑤_𝑎𝑣𝑔=0.5 (𝐽𝑤_𝑖𝑛+𝐽𝑤_𝑜𝑢𝑡 )\n",
    "𝑀_(𝑝,𝐻2𝑂)=𝐴𝑟𝑒𝑎 𝐽𝑤_𝑎𝑣𝑔\n",
    "A = 4.2E-12 # 𝑤𝑎𝑡𝑒𝑟 𝑝𝑒𝑟𝑚𝑒𝑎𝑏𝑖𝑙𝑖𝑡𝑦 coefficient m Pa-1 s-1\n",
    "B = 3.5E-8 # Salt permeability coefficient m s-1\n",
    "Maximum hydraulic pressure – 85 bar\n",
    "\n",
    "\n",
    "\n",
    "Need a separate pump. “RO pump”. Need “energy recovery device” from outlet pressure.\n",
    "\n",
    "Room temp T good across system. Isothermal. \n",
    "No salinity on permeate side. 𝜋_𝑢  calculated. Pi p -> goes to zero.\n",
    "Water flux as function of inlet and outlet conditions, then average inlet and outlet conditions to get Jwavg, which represts performance across whole space. Get how much water is produced by getting j average times membrane area.\n",
    "\n",
    "Pressure out of pump -> 65 for 1st stage. For 2nd stage it is dependent on water recovery. Set as unfixed for pressure. \n",
    "Pressure in is atmospheric 1. \n",
    "\n",
    "Energy recovery device -> reverse of pump."
   ]
  },
  {
   "cell_type": "code",
   "execution_count": null,
   "metadata": {},
   "outputs": [],
   "source": []
  },
  {
   "cell_type": "code",
   "execution_count": null,
   "metadata": {},
   "outputs": [],
   "source": []
  }
 ],
 "metadata": {
  "kernelspec": {
   "display_name": "Python 3",
   "language": "python",
   "name": "python3"
  },
  "language_info": {
   "codemirror_mode": {
    "name": "ipython",
    "version": 3
   },
   "file_extension": ".py",
   "mimetype": "text/x-python",
   "name": "python",
   "nbconvert_exporter": "python",
   "pygments_lexer": "ipython3",
   "version": "3.7.4"
  }
 },
 "nbformat": 4,
 "nbformat_minor": 4
}
