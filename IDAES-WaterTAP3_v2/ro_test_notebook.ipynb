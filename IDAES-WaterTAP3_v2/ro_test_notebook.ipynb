{
 "cells": [
  {
   "cell_type": "code",
   "execution_count": 1,
   "metadata": {},
   "outputs": [],
   "source": [
    "import watertap as wt\n",
    "import pandas as pd\n",
    "from pyomo.environ import value, Block\n",
    "from idaes.core import FlowsheetBlock\n",
    "import numpy as np\n",
    "from case_study_trains import *\n",
    "import case_study_trains\n",
    "import financials\n"
   ]
  },
  {
   "cell_type": "code",
   "execution_count": 2,
   "metadata": {},
   "outputs": [],
   "source": [
    "m = wt.watertap_setup(dynamic = False)\n",
    "wt.case_study_trains.train = {\"case_study\": \"Carlsbad\",\n",
    "                             \"reference\": \"NAWI\",\n",
    "                             \"scenario\": \"Baseline\"}\n",
    "\n",
    "wt.case_study_trains.source_water = {\"case_study\": \"Carlsbad\", \n",
    "                             \"reference\": \"NAWI\",\n",
    "                             \"scenario\": \"Baseline\",\n",
    "                             \"water_type\": \"Seawater\"}"
   ]
  },
  {
   "cell_type": "code",
   "execution_count": 3,
   "metadata": {},
   "outputs": [],
   "source": [
    "import idaes.core.util.scaling as iscale\n",
    "iscale.calculate_scaling_factors(m)"
   ]
  },
  {
   "cell_type": "code",
   "execution_count": 4,
   "metadata": {},
   "outputs": [],
   "source": [
    "train_constituent_list = [\"tds\"]"
   ]
  },
  {
   "cell_type": "code",
   "execution_count": 5,
   "metadata": {
    "scrolled": true
   },
   "outputs": [],
   "source": [
    "m.fs.water = WaterParameterBlock()"
   ]
  },
  {
   "cell_type": "code",
   "execution_count": 6,
   "metadata": {},
   "outputs": [
    {
     "name": "stdout",
     "output_type": "stream",
     "text": [
      "Carlsbad\n"
     ]
    }
   ],
   "source": [
    "financials.get_system_specs(m.fs, train=wt.case_study_trains.train)"
   ]
  },
  {
   "cell_type": "code",
   "execution_count": 7,
   "metadata": {
    "scrolled": true
   },
   "outputs": [],
   "source": [
    "# m = wt.design.add_water_source(m = m, source_name = \"source1\", reference = \"NAWI\", \n",
    "#                                water_type = \"Seawater\", \n",
    "#                      case_study = \"Carlsbad\", flow = 4.583) # m3/s "
   ]
  },
  {
   "cell_type": "code",
   "execution_count": 8,
   "metadata": {},
   "outputs": [],
   "source": [
    "import reverse_osmosis\n",
    "setattr(m.fs, \"reverse_osmosis\", reverse_osmosis.UnitProcess(default={\"property_package\": m.fs.water}))\n",
    "getattr(m.fs, \"reverse_osmosis\").get_costing(module=financials)"
   ]
  },
  {
   "cell_type": "code",
   "execution_count": 9,
   "metadata": {},
   "outputs": [],
   "source": [
    "m.fs.reverse_osmosis.flow_vol_in.fix(4.583)\n",
    "m.fs.reverse_osmosis.conc_mass_in[:, \"tds\"].fix(35) \n",
    "m.fs.reverse_osmosis.pressure_in.fix(300) \n",
    "m.fs.reverse_osmosis.temperature_in.fix(300) \n",
    "m.fs.reverse_osmosis.feed.pressure.fix(65)\n",
    "m.fs.reverse_osmosis.membrane_area.fix(50000)\n",
    "#m.fs.reverse_osmosis.feed.pressure.unfix()"
   ]
  },
  {
   "cell_type": "code",
   "execution_count": 10,
   "metadata": {},
   "outputs": [],
   "source": [
    "#m = wt.design.add_unit_process(m = m, unit_process_name = \"reverse_osmosis\", unit_process_type = \"reverse_osmosis\")"
   ]
  },
  {
   "cell_type": "code",
   "execution_count": 11,
   "metadata": {},
   "outputs": [],
   "source": [
    "#m.fs.reverse_osmosis.flow_vol_in.unfix()\n",
    "#m.fs.reverse_osmosis.conc_mass_in[:, \"tds\"].unfix()\n",
    "#m.fs.arc1 = Arc(source=m.fs.source1.outlet, destination = getattr(m.fs, \"reverse_osmosis\").inlet)"
   ]
  },
  {
   "cell_type": "code",
   "execution_count": 12,
   "metadata": {},
   "outputs": [],
   "source": [
    "#wt.display.show_train2(model_name=m)"
   ]
  },
  {
   "cell_type": "code",
   "execution_count": 13,
   "metadata": {},
   "outputs": [],
   "source": [
    "#m.fs.reverse_osmosis.feed.pressure.unfix()"
   ]
  },
  {
   "cell_type": "code",
   "execution_count": 14,
   "metadata": {
    "scrolled": true
   },
   "outputs": [
    {
     "name": "stdout",
     "output_type": "stream",
     "text": [
      "degrees_of_freedom: 0\n",
      "Ipopt 3.12.13: \n",
      "\n",
      "******************************************************************************\n",
      "This program contains Ipopt, a library for large-scale nonlinear optimization.\n",
      " Ipopt is released as open source code under the Eclipse Public License (EPL).\n",
      "         For more information visit http://projects.coin-or.org/Ipopt\n",
      "******************************************************************************\n",
      "\n",
      "This is Ipopt version 3.12.13, running with linear solver mumps.\n",
      "NOTE: Other linear solvers might be more efficient (see Ipopt documentation).\n",
      "\n",
      "Number of nonzeros in equality constraint Jacobian...:       72\n",
      "Number of nonzeros in inequality constraint Jacobian.:        0\n",
      "Number of nonzeros in Lagrangian Hessian.............:       16\n",
      "\n",
      "Total number of variables............................:       31\n",
      "                     variables with only lower bounds:       10\n",
      "                variables with lower and upper bounds:        1\n",
      "                     variables with only upper bounds:        0\n",
      "Total number of equality constraints.................:       31\n",
      "Total number of inequality constraints...............:        0\n",
      "        inequality constraints with only lower bounds:        0\n",
      "   inequality constraints with lower and upper bounds:        0\n",
      "        inequality constraints with only upper bounds:        0\n",
      "\n",
      "iter    objective    inf_pr   inf_du lg(mu)  ||d||  lg(rg) alpha_du alpha_pr  ls\n",
      "   0  0.0000000e+00 3.50e+05 1.00e+00  -1.0 0.00e+00    -  0.00e+00 0.00e+00   0\n",
      "   1r 0.0000000e+00 3.50e+05 9.99e+02   5.0 0.00e+00    -  0.00e+00 3.68e-09R  2\n",
      "   2r 0.0000000e+00 6.11e+07 5.25e+04   5.0 3.16e+05    -  8.40e-03 5.14e-03f  1\n",
      "   3r 0.0000000e+00 1.16e+07 3.36e+04   4.3 3.14e+05    -  1.00e+00 3.09e-01f  1\n",
      "   4r 0.0000000e+00 1.15e+07 3.72e+04   3.6 1.72e+05    -  1.00e+00 5.63e-03f  1\n",
      "   5r 0.0000000e+00 2.71e+06 2.99e+04   3.6 2.75e+02    -  4.82e-01 4.35e-01f  1\n",
      "   6r 0.0000000e+00 2.36e+06 1.13e+04   2.9 1.67e+02    -  1.00e+00 6.59e-01f  1\n",
      "   7r 0.0000000e+00 1.75e+06 1.38e+04   2.9 4.00e+01    -  1.00e+00 4.73e-01f  1\n",
      "   8r 0.0000000e+00 1.46e+06 4.02e+03   2.2 4.11e+01    -  6.88e-01 7.84e-01f  1\n",
      "   9r 0.0000000e+00 1.30e+06 6.02e+03   2.2 4.97e+01    -  1.00e+00 2.03e-01f  1\n",
      "iter    objective    inf_pr   inf_du lg(mu)  ||d||  lg(rg) alpha_du alpha_pr  ls\n",
      "  10r 0.0000000e+00 1.17e+06 7.05e+03   1.5 1.29e+02    -  7.41e-02 1.01e-01f  1\n",
      "  11r 0.0000000e+00 1.03e+06 5.37e+03   1.5 1.24e+02    -  1.73e-01 1.21e-01f  1\n",
      "  12r 0.0000000e+00 8.19e+05 1.21e+04   1.5 9.94e+01    -  6.29e-02 1.91e-01f  1\n",
      "  13r 0.0000000e+00 1.10e+06 1.86e+04   1.5 1.39e+01   2.0 1.13e-01 4.38e-01f  1\n",
      "  14r 0.0000000e+00 5.96e+05 1.43e+04   1.5 4.40e+00   3.3 5.05e-01 5.24e-01f  1\n",
      "  15r 0.0000000e+00 4.28e+05 1.02e+04   1.5 1.68e+00   2.9 9.40e-01 2.98e-01f  1\n",
      "  16r 0.0000000e+00 1.86e+05 3.18e+03   1.5 1.58e+00   2.4 1.00e+00 7.84e-01f  1\n",
      "  17r 0.0000000e+00 1.69e+05 1.89e+03   0.8 5.42e+00   1.9 4.25e-01 4.68e-01f  1\n",
      "  18r 0.0000000e+00 1.67e+05 3.43e+03   0.8 7.47e+00   1.4 3.63e-01 3.10e-02f  1\n",
      "  19r 0.0000000e+00 1.95e+06 4.46e+03   0.8 1.89e+01   0.9 1.00e+00 4.70e-01f  1\n",
      "iter    objective    inf_pr   inf_du lg(mu)  ||d||  lg(rg) alpha_du alpha_pr  ls\n",
      "  20r 0.0000000e+00 1.92e+06 4.05e+03   0.8 1.36e+02    -  2.86e-01 3.57e-02f  1\n",
      "  21r 0.0000000e+00 3.58e+06 7.08e+03   0.8 1.31e+02    -  9.83e-01 6.01e-01f  1\n",
      "  22r 0.0000000e+00 3.13e+06 3.93e+03   0.8 1.66e+01   1.4 1.00e+00 3.58e-01f  1\n",
      "  23r 0.0000000e+00 2.76e+06 3.27e+03   0.8 3.63e+01   0.9 8.86e-01 1.32e-01f  1\n",
      "  24r 0.0000000e+00 1.61e+06 5.52e+03   0.8 4.39e+03    -  6.53e-04 1.91e-02f  1\n",
      "  25r 0.0000000e+00 1.29e+06 4.16e+03   0.8 1.31e+01   1.3 1.00e+00 2.07e-01f  1\n",
      "  26r 0.0000000e+00 1.04e+06 3.36e+03   0.8 1.39e+02    -  1.00e+00 1.04e-01f  1\n",
      "  27r 0.0000000e+00 1.84e+06 7.30e+03   0.8 1.29e+02    -  1.00e+00 7.11e-01f  1\n",
      "  28r 0.0000000e+00 5.15e+05 2.32e+03   0.8 3.91e+01    -  2.87e-02 1.00e+00f  1\n",
      "  29r 0.0000000e+00 2.19e+04 4.54e+00   0.8 3.80e+00    -  1.00e+00 1.00e+00h  1\n",
      "iter    objective    inf_pr   inf_du lg(mu)  ||d||  lg(rg) alpha_du alpha_pr  ls\n",
      "  30r 0.0000000e+00 3.33e+03 6.71e+02  -2.0 2.26e+00    -  9.91e-01 8.48e-01f  1\n",
      "  31r 0.0000000e+00 4.97e+05 1.50e+04  -2.0 4.75e+03    -  4.49e-02 3.11e-02f  1\n",
      "  32r 0.0000000e+00 5.21e+05 1.32e+04  -2.0 4.60e+03    -  4.03e-03 1.77e-02f  1\n",
      "  33r 0.0000000e+00 4.07e+05 1.02e+04  -2.0 4.35e+01   0.8 2.23e-01 2.27e-01f  1\n",
      "  34r 0.0000000e+00 3.54e+05 4.78e+03  -2.0 1.28e+02   0.4 3.40e-01 5.31e-01f  1\n",
      "  35r 0.0000000e+00 2.20e+06 1.88e+03  -2.0 3.57e+02  -0.1 4.18e-01 8.34e-01f  1\n",
      "  36r 0.0000000e+00 5.76e+05 9.93e+02  -2.0 1.32e+02   0.3 4.73e-01 7.13e-01f  1\n",
      "  37r 0.0000000e+00 4.55e+05 8.70e+02  -2.0 3.63e+02  -0.2 5.59e-02 2.74e-01f  1\n",
      "  38r 0.0000000e+00 4.57e+05 8.70e+02  -2.0 2.15e+04    -  6.74e-04 2.52e-04f  1\n",
      "  39r 0.0000000e+00 4.57e+05 8.70e+02  -2.0 2.51e+04    -  6.65e-04 3.01e-06f  1\n",
      "iter    objective    inf_pr   inf_du lg(mu)  ||d||  lg(rg) alpha_du alpha_pr  ls\n",
      "  40r 0.0000000e+00 4.58e+05 8.69e+02  -2.0 2.52e+04    -  9.06e-03 1.24e-04f  1\n",
      "  41r 0.0000000e+00 6.41e+06 9.18e+02  -2.0 2.71e+04    -  7.18e-04 1.18e-02f  1\n",
      "  42r 0.0000000e+00 6.38e+06 9.16e+02  -2.0 1.71e+03  -0.6 1.42e-01 3.65e-03f  1\n",
      "  43r 0.0000000e+00 6.38e+06 9.16e+02  -2.0 1.02e+04  -1.1 3.65e-04 2.48e-05f  1\n",
      "  44r 0.0000000e+00 6.38e+06 9.16e+02  -2.0 1.90e+03  -0.7 1.70e-05 5.71e-04f  1\n",
      "  45r 0.0000000e+00 3.00e+06 4.43e+04  -2.0 6.27e+02  -0.3 7.04e-04 4.76e-01f  1\n",
      "  46r 0.0000000e+00 3.00e+06 4.43e+04  -2.0 2.25e+02   0.2 8.05e-02 1.72e-03f  1\n",
      "  47r 0.0000000e+00 2.83e+06 4.40e+04  -2.0 8.18e+02  -0.3 5.25e-04 4.62e-02f  1\n",
      "  48r 0.0000000e+00 1.58e+06 2.97e+04  -2.0 2.65e+02   0.1 2.09e-02 7.66e-01f  1\n",
      "  49r 0.0000000e+00 1.38e+06 2.59e+04  -2.0 1.04e+02   0.5 2.01e-02 1.28e-01f  1\n",
      "iter    objective    inf_pr   inf_du lg(mu)  ||d||  lg(rg) alpha_du alpha_pr  ls\n",
      "  50r 0.0000000e+00 2.59e+08 1.90e+06  -2.0 1.99e+03   0.1 3.41e-04 3.05e-01f  1\n",
      "  51r 0.0000000e+00 2.28e+08 1.67e+06  -2.0 1.99e+02   0.5 2.74e-01 1.23e-01f  1\n",
      "  52r 0.0000000e+00 2.26e+08 1.65e+06  -2.0 2.57e+03   0.0 1.25e-03 9.18e-03f  1\n",
      "  53r 0.0000000e+00 2.26e+08 1.65e+06  -2.0 2.07e+02   0.4 1.11e-04 1.14e-03f  1\n",
      "  54r 0.0000000e+00 2.26e+08 1.65e+06  -2.0 4.31e+03  -0.0 3.20e-05 5.48e-07f  1\n",
      "  55r 0.0000000e+00 2.26e+08 1.65e+06  -2.0 1.30e+03  -0.5 1.00e+00 1.47e-05f  1\n",
      "  56r 0.0000000e+00 2.19e+08 1.60e+06  -2.0 3.08e+03  -1.0 1.99e-01 3.08e-02f  1\n",
      "  57r 0.0000000e+00 2.19e+08 1.60e+06  -2.0 5.35e+03  -1.5 4.08e-01 1.78e-04f  1\n",
      "  58r 0.0000000e+00 2.18e+08 1.60e+06  -2.0 3.06e+04  -2.0 1.15e-01 2.03e-03f  1\n",
      "  59r 0.0000000e+00 2.14e+08 1.56e+06  -2.0 1.07e+03  -1.5 2.16e-04 2.13e-02f  1\n",
      "iter    objective    inf_pr   inf_du lg(mu)  ||d||  lg(rg) alpha_du alpha_pr  ls\n",
      "  60r 0.0000000e+00 1.90e+08 1.68e+06  -2.0 5.02e+05  -2.0 3.10e-06 3.65e-03f  1\n",
      "  61r 0.0000000e+00 1.89e+08 1.68e+06  -2.0 1.21e+04  -1.6 5.35e-03 1.24e-03f  1\n",
      "  62r 0.0000000e+00 1.89e+08 1.68e+06  -2.0 1.96e+03  -1.2 5.18e-04 4.12e-04f  1\n",
      "  63r 0.0000000e+00 1.89e+08 1.68e+06  -2.0 5.14e+02  -0.7 4.44e-01 1.13e-05f  1\n",
      "  64r 0.0000000e+00 3.17e+07 8.79e+05  -2.0 2.31e+03  -1.2 1.47e-01 5.13e-01f  1\n",
      "  65r 0.0000000e+00 3.70e+07 6.28e+05  -2.0 1.00e+03  -0.8 4.22e-04 4.28e-01H  1\n",
      "  66r 0.0000000e+00 3.71e+07 6.25e+05  -2.0 7.30e+02   1.5 7.38e-05 1.00e-02h  4\n",
      "  67r 0.0000000e+00 3.65e+07 6.14e+05  -2.0 2.94e+01   1.9 5.30e-02 1.71e-02h  1\n",
      "  68r 0.0000000e+00 3.17e+07 3.89e+05  -2.0 1.11e+01   2.3 4.43e-04 2.40e-01h  1\n",
      "  69r 0.0000000e+00 3.35e+07 7.97e+04  -2.0 1.84e+01   1.8 2.55e-01 5.00e-01h  2\n",
      "iter    objective    inf_pr   inf_du lg(mu)  ||d||  lg(rg) alpha_du alpha_pr  ls\n",
      "  70r 0.0000000e+00 3.35e+07 7.96e+04  -2.0 8.05e+00   2.3 9.50e-01 1.59e-03h  1\n",
      "  71r 0.0000000e+00 1.03e+07 5.92e+05  -2.0 9.24e+00   1.8 1.00e+00 1.00e+00f  1\n",
      "  72r 0.0000000e+00 1.03e+07 5.92e+05  -2.0 4.27e+03    -  6.22e-01 7.67e-04f  1\n",
      "  73r 0.0000000e+00 1.16e+07 5.86e+05  -2.0 3.48e+03    -  1.00e+00 9.97e-03f  1\n",
      "  74r 0.0000000e+00 1.16e+07 5.83e+05  -2.0 7.49e+03    -  4.69e-01 4.89e-03f  1\n",
      "  75r 0.0000000e+00 4.28e+07 2.82e+05  -2.0 7.65e+03    -  1.00e+00 4.10e-01f  1\n",
      "  76r 0.0000000e+00 4.06e+07 2.66e+05  -2.0 4.17e+03    -  9.95e-01 5.57e-02f  1\n",
      "  77r 0.0000000e+00 4.05e+07 2.66e+05  -2.0 1.82e+03    -  1.00e+00 1.55e-03f  1\n",
      "  78r 0.0000000e+00 1.60e+07 1.01e+05  -2.0 4.91e+02    -  1.00e+00 6.17e-01f  1\n",
      "  79r 0.0000000e+00 1.54e+07 9.74e+04  -2.0 2.11e+02    -  1.00e+00 3.70e-02f  1\n",
      "iter    objective    inf_pr   inf_du lg(mu)  ||d||  lg(rg) alpha_du alpha_pr  ls\n",
      "  80r 0.0000000e+00 1.54e+07 9.73e+04  -2.0 1.85e+02    -  1.09e-02 8.42e-04f  1\n",
      "  81r 0.0000000e+00 1.51e+07 9.56e+04  -2.0 1.88e+02    -  1.39e-04 1.77e-02f  1\n",
      "  82r 0.0000000e+00 3.62e+05 8.53e+02  -2.0 2.00e+02    -  1.00e+00 1.00e+00f  1\n",
      "  83r 0.0000000e+00 3.84e+03 7.00e+00  -2.0 9.00e+00    -  1.00e+00 1.00e+00h  1\n",
      "  84r 0.0000000e+00 6.81e+02 2.59e-04  -2.0 9.16e-02    -  1.00e+00 1.00e+00h  1\n",
      "  85r 0.0000000e+00 6.81e+02 1.33e+02  -4.5 3.12e-02    -  9.94e-01 1.00e+00f  1\n",
      "  86r 0.0000000e+00 1.88e+06 8.62e+02  -4.5 1.83e+04    -  1.93e-03 7.82e-02f  1\n",
      "  87r 0.0000000e+00 1.88e+06 8.62e+02  -4.5 1.78e+04    -  9.59e-02 7.43e-07f  1\n",
      "  88r 0.0000000e+00 1.70e+06 2.34e+03  -4.5 1.72e+04    -  1.36e-01 9.84e-02f  1\n",
      "  89r 0.0000000e+00 1.70e+06 2.34e+03  -4.5 1.79e+04    -  1.75e-01 3.12e-06f  1\n",
      "iter    objective    inf_pr   inf_du lg(mu)  ||d||  lg(rg) alpha_du alpha_pr  ls\n",
      "  90r 0.0000000e+00 1.70e+06 2.34e+03  -4.5 7.71e+02    -  1.00e+00 4.75e-05f  1\n",
      "  91r 0.0000000e+00 1.97e+05 1.04e+03  -4.5 7.71e+02    -  1.00e+00 1.00e+00f  1\n",
      "  92r 0.0000000e+00 6.04e+03 7.95e+01  -4.5 1.58e+02    -  1.00e+00 1.00e+00f  1\n",
      "  93r 0.0000000e+00 2.12e+01 4.03e-01  -4.5 1.27e+00    -  1.00e+00 1.00e+00h  1\n",
      "  94r 0.0000000e+00 3.76e-02 4.18e-07  -4.5 3.77e-02    -  1.00e+00 1.00e+00h  1\n",
      "  95r 0.0000000e+00 3.87e-02 2.40e+01  -6.7 1.00e-03    -  9.80e-01 1.00e+00f  1\n",
      "  96r 0.0000000e+00 2.93e+02 1.33e+00  -6.7 5.00e+01    -  1.00e+00 1.00e+00f  1\n",
      "  97r 0.0000000e+00 3.54e-01 9.67e-04  -6.7 3.02e+00    -  1.00e+00 1.00e+00h  1\n",
      "  98r 0.0000000e+00 3.97e-02 3.34e-09  -6.7 2.63e-03    -  1.00e+00 1.00e+00h  1\n",
      "  99r 0.0000000e+00 4.10e-02 1.84e+00  -9.0 1.22e-03    -  9.75e-01 1.00e+00h  1\n",
      "iter    objective    inf_pr   inf_du lg(mu)  ||d||  lg(rg) alpha_du alpha_pr  ls\n",
      " 100r 0.0000000e+00 4.29e+04 2.36e+00  -9.0 6.35e+02    -  8.97e-01 1.00e+00f  1\n",
      " 101r 0.0000000e+00 1.15e+03 7.09e-02  -9.0 6.65e+01    -  1.00e+00 1.00e+00h  1\n",
      " 102r 0.0000000e+00 4.29e-01 4.42e-05  -9.0 7.24e-01    -  1.00e+00 1.00e+00h  1\n",
      "\n",
      "Number of Iterations....: 102\n",
      "\n",
      "                                   (scaled)                 (unscaled)\n",
      "Objective...............:   0.0000000000000000e+00    0.0000000000000000e+00\n",
      "Dual infeasibility......:   1.3609272381747550e-01    1.3609272381747550e-01\n",
      "Constraint violation....:   2.1516374790195771e-02    2.1516374790195771e-02\n",
      "Complementarity.........:   9.0909090910685104e-10    9.0909090910685104e-10\n",
      "Overall NLP error.......:   2.1516374790195771e-02    1.3609272381747550e-01\n",
      "\n",
      "\n",
      "Number of objective function evaluations             = 114\n",
      "Number of objective gradient evaluations             = 3\n",
      "Number of equality constraint evaluations            = 114\n",
      "Number of inequality constraint evaluations          = 0\n",
      "Number of equality constraint Jacobian evaluations   = 105\n",
      "Number of inequality constraint Jacobian evaluations = 0\n",
      "Number of Lagrangian Hessian evaluations             = 103\n",
      "Total CPU secs in IPOPT (w/o function evaluations)   =      0.303\n",
      "Total CPU secs in NLP function evaluations           =      0.003\n",
      "\n",
      "EXIT: Converged to a point of local infeasibility. Problem may be infeasible.\n"
     ]
    },
    {
     "name": "stdout",
     "output_type": "stream",
     "text": [
      "\b----------------------------------------------------------------------\n",
      "fs.reverse_osmosis\n",
      "inlet : Size=1\n",
      "    Key  : Name        : Value\n",
      "    None :   conc_mass : {(0.0, 'tds'): 35}\n",
      "         :    flow_vol : {0.0: 4.583}\n",
      "         :    pressure : {0.0: 300}\n",
      "         : temperature : {0.0: 300}\n",
      "outlet : Size=1\n",
      "    Key  : Name        : Value\n",
      "    None :   conc_mass : {(0.0, 'tds'): 0.050722301040353995}\n",
      "         :    flow_vol : {0.0: 1.4995006669868978}\n",
      "         :    pressure : {0.0: 300.0}\n",
      "         : temperature : {0.0: 300.0}\n",
      "waste : Size=1\n",
      "    Key  : Name        : Value\n",
      "    None :   conc_mass : {(0.0, 'tds'): 51.923570561469866}\n",
      "         :    flow_vol : {0.0: 3.087787302414997}\n",
      "         :    pressure : {0.0: 300.0}\n",
      "         : temperature : {0.0: 300.0}\n",
      "total_cap_investment: 4.08160482109804\n",
      "----------------------------------------------------------------------\n",
      "In ---> 4514.035016\n",
      "Out ---> 1491.9848921759503\n",
      "Waste ---> 3022.0501238240495\n",
      "RO fixed_cap_inv cost 3.8816974047532473\n",
      "RO electricity_cost  40.50604212705882\n"
     ]
    }
   ],
   "source": [
    "wt.run_water_tap(m = m, solver_results = True, print_model_results = True, objective=False)\n",
    "print(\"In --->\", m.fs.reverse_osmosis.feed.mass_flow_h20[0]())\n",
    "print(\"Out --->\", m.fs.reverse_osmosis.permeate.mass_flow_h20[0]())\n",
    "print(\"Waste --->\", m.fs.reverse_osmosis.retenate.mass_flow_h20[0]())\n",
    "\n",
    "print(\"RO fixed_cap_inv cost\", m.fs.reverse_osmosis.costing.fixed_cap_inv())\n",
    "print(\"RO electricity_cost \", m.fs.reverse_osmosis.costing.electricity_cost())\n",
    "#print(\"RO electricity_cost \", m.fs.reverse_osmosis.costing.total_up_cost())"
   ]
  },
  {
   "cell_type": "code",
   "execution_count": null,
   "metadata": {},
   "outputs": [],
   "source": []
  },
  {
   "cell_type": "code",
   "execution_count": null,
   "metadata": {},
   "outputs": [],
   "source": []
  },
  {
   "cell_type": "code",
   "execution_count": null,
   "metadata": {},
   "outputs": [],
   "source": []
  },
  {
   "cell_type": "code",
   "execution_count": null,
   "metadata": {},
   "outputs": [],
   "source": []
  },
  {
   "cell_type": "code",
   "execution_count": 38,
   "metadata": {},
   "outputs": [],
   "source": [
    "ro_membrane_cost = 30 # $/m3\n",
    "pump_cost = 53 #m3bar/h\n",
    "saturated_saline_make_up = 0.025\n",
    "membrane_replacement_factor = 15 #%of initial membrane area per year\n",
    "maintenance_and_labor = 2 #% of initial investment/yr\n",
    "chem_factor = 1 #% of init invest per year#/NA"
   ]
  },
  {
   "cell_type": "code",
   "execution_count": 41,
   "metadata": {},
   "outputs": [],
   "source": [
    "membrane_area = 50"
   ]
  },
  {
   "cell_type": "code",
   "execution_count": 42,
   "metadata": {},
   "outputs": [],
   "source": [
    "membrane_unit = ro_membrane_cost * membrane_area\n",
    "pump_unit = pump_cost * m.fs.reverse_osmosis.pump_power()\n",
    "pressure_exchanger = 0"
   ]
  },
  {
   "cell_type": "code",
   "execution_count": 51,
   "metadata": {},
   "outputs": [],
   "source": [
    "# 1.4 in old RO. See Bartholomew et al. 2018\n",
    "TCI = 1.4 * (membrane_unit + pump_unit) * 1e-6"
   ]
  },
  {
   "cell_type": "code",
   "execution_count": 53,
   "metadata": {},
   "outputs": [],
   "source": [
    "tac = TCI*0.1 + 2*m.fs.reverse_osmosis.costing.electricity_cost()"
   ]
  },
  {
   "cell_type": "code",
   "execution_count": 54,
   "metadata": {},
   "outputs": [
    {
     "data": {
      "text/plain": [
       "1.436024276021926"
      ]
     },
     "execution_count": 54,
     "metadata": {},
     "output_type": "execute_result"
    }
   ],
   "source": [
    "tac*1e6 / (0.3*3600*24*365)"
   ]
  },
  {
   "cell_type": "code",
   "execution_count": 55,
   "metadata": {},
   "outputs": [
    {
     "data": {
      "text/plain": [
       "<pyomo.core.base.expression.SimpleExpression at 0x7fc9d35a9230>"
      ]
     },
     "execution_count": 55,
     "metadata": {},
     "output_type": "execute_result"
    }
   ],
   "source": [
    "m.fs.costing.LCOW"
   ]
  },
  {
   "cell_type": "code",
   "execution_count": null,
   "metadata": {},
   "outputs": [],
   "source": []
  },
  {
   "cell_type": "code",
   "execution_count": 17,
   "metadata": {},
   "outputs": [],
   "source": [
    "feed=m.fs.reverse_osmosis.feed"
   ]
  },
  {
   "cell_type": "code",
   "execution_count": 18,
   "metadata": {},
   "outputs": [
    {
     "data": {
      "text/plain": [
       "2783020.445065185"
      ]
     },
     "execution_count": 18,
     "metadata": {},
     "output_type": "execute_result"
    }
   ],
   "source": [
    "value(8.45e7 * feed.osm_coeff[0]* feed.mass_frac_tds[0] / (1 - feed.mass_frac_tds[0]))"
   ]
  },
  {
   "cell_type": "code",
   "execution_count": 19,
   "metadata": {},
   "outputs": [],
   "source": [
    "mass_frac_tds = 0.04952759752553286"
   ]
  },
  {
   "cell_type": "code",
   "execution_count": 20,
   "metadata": {},
   "outputs": [
    {
     "data": {
      "text/plain": [
       "4081042.9868604005"
      ]
     },
     "execution_count": 20,
     "metadata": {},
     "output_type": "execute_result"
    }
   ],
   "source": [
    "value(8.45e7 * feed.osm_coeff[0]* mass_frac_tds / (1 - mass_frac_tds))"
   ]
  },
  {
   "cell_type": "code",
   "execution_count": null,
   "metadata": {},
   "outputs": [],
   "source": []
  },
  {
   "cell_type": "code",
   "execution_count": 24,
   "metadata": {},
   "outputs": [
    {
     "data": {
      "text/plain": [
       "51.21030686985716"
      ]
     },
     "execution_count": 24,
     "metadata": {},
     "output_type": "execute_result"
    }
   ],
   "source": [
    "1033.975186126418 * 0.04952759752553286 "
   ]
  },
  {
   "cell_type": "code",
   "execution_count": null,
   "metadata": {},
   "outputs": [],
   "source": []
  },
  {
   "cell_type": "code",
   "execution_count": 12,
   "metadata": {},
   "outputs": [
    {
     "data": {
      "text/plain": [
       "0.010812025481409663"
      ]
     },
     "execution_count": 12,
     "metadata": {},
     "output_type": "execute_result"
    }
   ],
   "source": [
    "value(m.fs.reverse_osmosis.mass_fraction_in[0])"
   ]
  },
  {
   "cell_type": "code",
   "execution_count": 13,
   "metadata": {},
   "outputs": [
    {
     "data": {
      "text/plain": [
       "0.1"
      ]
     },
     "execution_count": 13,
     "metadata": {},
     "output_type": "execute_result"
    }
   ],
   "source": [
    "value(m.fs.reverse_osmosis.osmotic_coeff_in[0])"
   ]
  },
  {
   "cell_type": "code",
   "execution_count": 25,
   "metadata": {},
   "outputs": [
    {
     "data": {
      "text/plain": [
       "39.743447699916565"
      ]
     },
     "execution_count": 25,
     "metadata": {},
     "output_type": "execute_result"
    }
   ],
   "source": [
    "3974344.7699916563*1e-5"
   ]
  },
  {
   "cell_type": "code",
   "execution_count": 27,
   "metadata": {},
   "outputs": [
    {
     "name": "stdout",
     "output_type": "stream",
     "text": [
      "osmotic_coeff_in : water mass flow rate \n",
      "    Size=1, Index=fs.time\n",
      "    Key : Lower : Value : Upper : Fixed : Stale : Domain\n",
      "    0.0 :     0 :   0.1 :  None : False :  True : NonNegativeReals\n"
     ]
    }
   ],
   "source": [
    "m.fs.reverse_osmosis.osmotic_coeff_in.display()"
   ]
  },
  {
   "cell_type": "code",
   "execution_count": null,
   "metadata": {},
   "outputs": [],
   "source": []
  },
  {
   "cell_type": "code",
   "execution_count": null,
   "metadata": {},
   "outputs": [],
   "source": []
  },
  {
   "cell_type": "code",
   "execution_count": null,
   "metadata": {},
   "outputs": [],
   "source": []
  },
  {
   "cell_type": "code",
   "execution_count": null,
   "metadata": {},
   "outputs": [],
   "source": []
  },
  {
   "cell_type": "code",
   "execution_count": null,
   "metadata": {},
   "outputs": [],
   "source": []
  },
  {
   "cell_type": "code",
   "execution_count": 20,
   "metadata": {},
   "outputs": [
    {
     "data": {
      "text/plain": [
       "2.175722122794811e-15"
      ]
     },
     "execution_count": 20,
     "metadata": {},
     "output_type": "execute_result"
    }
   ],
   "source": [
    "value(m.fs.reverse_osmosis.mass_fraction_per[0])"
   ]
  },
  {
   "cell_type": "code",
   "execution_count": 21,
   "metadata": {},
   "outputs": [
    {
     "data": {
      "text/plain": [
       "4.668731502727216e-08"
      ]
     },
     "execution_count": 21,
     "metadata": {},
     "output_type": "execute_result"
    }
   ],
   "source": [
    "value(m.fs.reverse_osmosis.mass_fraction_ret[0])"
   ]
  },
  {
   "cell_type": "code",
   "execution_count": 23,
   "metadata": {},
   "outputs": [
    {
     "data": {
      "text/plain": [
       "0.06250214624787276"
      ]
     },
     "execution_count": 23,
     "metadata": {},
     "output_type": "execute_result"
    }
   ],
   "source": [
    "64.92996680681406 / (0.6312*64.92996680681406 + 997.86)"
   ]
  },
  {
   "cell_type": "code",
   "execution_count": null,
   "metadata": {},
   "outputs": [],
   "source": []
  },
  {
   "cell_type": "code",
   "execution_count": null,
   "metadata": {},
   "outputs": [],
   "source": []
  },
  {
   "cell_type": "code",
   "execution_count": null,
   "metadata": {},
   "outputs": [],
   "source": []
  },
  {
   "cell_type": "code",
   "execution_count": null,
   "metadata": {},
   "outputs": [],
   "source": [
    "value(m.fs.reverse_osmosis.osmotic_pressure_in)"
   ]
  },
  {
   "cell_type": "code",
   "execution_count": 17,
   "metadata": {},
   "outputs": [
    {
     "name": "stdout",
     "output_type": "stream",
     "text": [
      "jw_per : water mass flow rate permeate\n",
      "    Size=1, Index=fs.time\n",
      "    Key : Lower : Value              : Upper : Fixed : Stale : Domain\n",
      "    0.0 :     0 : 0.9975000000022316 :  None : False : False : NonNegativeReals\n"
     ]
    }
   ],
   "source": [
    "m.fs.reverse_osmosis.jw_per.display()"
   ]
  },
  {
   "cell_type": "code",
   "execution_count": 18,
   "metadata": {},
   "outputs": [
    {
     "name": "stdout",
     "output_type": "stream",
     "text": [
      "js_per : tds mass flow rate permeate\n",
      "    Size=1, Index=fs.time\n",
      "    Key : Lower : Value                 : Upper : Fixed : Stale : Domain\n",
      "    0.0 :     0 : 3.142225908327049e-05 :  None : False : False : NonNegativeReals\n"
     ]
    }
   ],
   "source": [
    "m.fs.reverse_osmosis.js_per.display()"
   ]
  },
  {
   "cell_type": "code",
   "execution_count": null,
   "metadata": {},
   "outputs": [],
   "source": []
  },
  {
   "cell_type": "code",
   "execution_count": null,
   "metadata": {},
   "outputs": [],
   "source": [
    "self.conc_mass_out_eq = Constraint(    \n",
    "    expr=self.conc_mass_out[t, \"tds\"] == ((self.mass_flow_perm / self.flow_vol_out[t]) - 997.86) / 0.6312\n",
    ") "
   ]
  },
  {
   "cell_type": "code",
   "execution_count": null,
   "metadata": {},
   "outputs": [],
   "source": []
  },
  {
   "cell_type": "code",
   "execution_count": null,
   "metadata": {},
   "outputs": [],
   "source": [
    "3.142225908327049e-05 / 0.9975000000022316"
   ]
  },
  {
   "cell_type": "code",
   "execution_count": null,
   "metadata": {},
   "outputs": [],
   "source": []
  },
  {
   "cell_type": "code",
   "execution_count": null,
   "metadata": {},
   "outputs": [],
   "source": []
  },
  {
   "cell_type": "code",
   "execution_count": 124,
   "metadata": {},
   "outputs": [],
   "source": [
    "a = 4.2E-7 # 𝑤𝑎𝑡𝑒𝑟 𝑝𝑒𝑟𝑚𝑒𝑎𝑏𝑖𝑙𝑖𝑡𝑦 coefficient m bar-1 s-1\n",
    "p_in = 50 #bar pressure at inlet. should be unfixed.\n",
    "p_atm = 1 #bar atmospheric pressure\n",
    "pressure_drop = 3 # bar Typical pressure drops range from 0.1-3 bar.\n",
    "p_ret = p_in - pressure_drop #bar atmospheric pressure\n",
    "pw = 1000 # density of water kg/m3\n",
    "membrane_area = 50 # per module m2"
   ]
  },
  {
   "cell_type": "code",
   "execution_count": 125,
   "metadata": {},
   "outputs": [],
   "source": [
    "flow_in = 1\n",
    "tds_in = 35.8\n",
    "tds_per = tds_in * 0.002\n",
    "tds_ret = tds_in - tds_per"
   ]
  },
  {
   "cell_type": "code",
   "execution_count": 126,
   "metadata": {},
   "outputs": [],
   "source": [
    "def get_osmotic_pressure(tds):\n",
    "    mass_flow_total = flow0.6312*tds + 997.86 #kg/s\n",
    "    print(mass_flow_total)\n",
    "    mass_fraction = tds / mass_flow_total #unitless\n",
    "    osmotic_coeff = 4.92*mass_fraction**2 + mass_fraction*0.0889 + 0.918 \n",
    "    osmotic_pressure = 8.45e7 * osmotic_coeff * mass_fraction / (1 - mass_fraction) #Pa\n",
    "    osmotic_pressure = osmotic_pressure * 1e-5 #bar\n",
    "    return osmotic_pressure\n"
   ]
  },
  {
   "cell_type": "code",
   "execution_count": 127,
   "metadata": {},
   "outputs": [
    {
     "name": "stdout",
     "output_type": "stream",
     "text": [
      "1020.45696\n",
      "1020.41176608\n"
     ]
    }
   ],
   "source": [
    "osmotic_pressure_in = get_osmotic_pressure(tds_in)\n",
    "osmotic_pressure_out = get_osmotic_pressure(tds_ret)"
   ]
  },
  {
   "cell_type": "code",
   "execution_count": null,
   "metadata": {},
   "outputs": [],
   "source": []
  },
  {
   "cell_type": "code",
   "execution_count": 128,
   "metadata": {},
   "outputs": [
    {
     "name": "stdout",
     "output_type": "stream",
     "text": [
      "0.4136667895516468\n"
     ]
    }
   ],
   "source": [
    "jw_out = ((p_out - p_atm) - osmotic_pressure_out)*pw*a #pout-pp goes to zero.\n",
    "jw_in = ((p_in - p_atm) - osmotic_pressure_in)*pw*a #pout-pp goes to zero.\n",
    "flow_per = membrane_area * 0.5 * (jw_in + jw_out) # permeate water flow kg/s\n",
    "flow_per = flow_out #/ 997.86 # permeate water flow m3/s\n",
    "\n",
    "print(flow_out2)"
   ]
  },
  {
   "cell_type": "code",
   "execution_count": null,
   "metadata": {},
   "outputs": [],
   "source": []
  },
  {
   "cell_type": "code",
   "execution_count": null,
   "metadata": {},
   "outputs": [],
   "source": []
  },
  {
   "cell_type": "code",
   "execution_count": null,
   "metadata": {},
   "outputs": [],
   "source": []
  },
  {
   "cell_type": "code",
   "execution_count": 107,
   "metadata": {},
   "outputs": [],
   "source": [
    "b = 3.5E-8 # Salt permeability coefficient m s-1\n",
    "salt_out = 0.5 * b * (tds_in + tds_out) * membrane_area # kg/m3"
   ]
  },
  {
   "cell_type": "code",
   "execution_count": 108,
   "metadata": {},
   "outputs": [
    {
     "data": {
      "text/plain": [
       "1.14188375"
      ]
     },
     "execution_count": 108,
     "metadata": {},
     "output_type": "execute_result"
    }
   ],
   "source": [
    "salt_out"
   ]
  },
  {
   "cell_type": "code",
   "execution_count": null,
   "metadata": {},
   "outputs": [],
   "source": []
  },
  {
   "cell_type": "code",
   "execution_count": null,
   "metadata": {},
   "outputs": [],
   "source": [
    "membrane_area = area_per_module * pure_water_perm / (pure_water_perm_manu)  # m^2\n"
   ]
  },
  {
   "cell_type": "code",
   "execution_count": null,
   "metadata": {},
   "outputs": [],
   "source": []
  },
  {
   "cell_type": "code",
   "execution_count": null,
   "metadata": {},
   "outputs": [],
   "source": []
  },
  {
   "cell_type": "code",
   "execution_count": null,
   "metadata": {},
   "outputs": [],
   "source": []
  },
  {
   "cell_type": "code",
   "execution_count": null,
   "metadata": {},
   "outputs": [],
   "source": [
    "x1 = 4.92*𝑋**2 + X*0.0889 + 0.918 \n",
    "𝟖.𝟒𝟓𝑬𝟕 𝝓(𝑿)  𝑿/(𝟏−𝑿)  "
   ]
  },
  {
   "cell_type": "code",
   "execution_count": null,
   "metadata": {},
   "outputs": [],
   "source": []
  },
  {
   "cell_type": "code",
   "execution_count": null,
   "metadata": {},
   "outputs": [],
   "source": [
    "𝜌(𝑋)=756 𝑋+995 [𝑘𝑔/𝑚^3 ] "
   ]
  },
  {
   "cell_type": "code",
   "execution_count": null,
   "metadata": {},
   "outputs": [],
   "source": []
  },
  {
   "cell_type": "code",
   "execution_count": null,
   "metadata": {},
   "outputs": [],
   "source": [
    "b = 3.5E-8 # Salt permeability coefficient m s-1\n"
   ]
  },
  {
   "cell_type": "code",
   "execution_count": null,
   "metadata": {},
   "outputs": [],
   "source": []
  },
  {
   "cell_type": "code",
   "execution_count": null,
   "metadata": {},
   "outputs": [],
   "source": []
  },
  {
   "cell_type": "code",
   "execution_count": null,
   "metadata": {},
   "outputs": [],
   "source": []
  },
  {
   "cell_type": "code",
   "execution_count": null,
   "metadata": {},
   "outputs": [],
   "source": []
  },
  {
   "cell_type": "code",
   "execution_count": null,
   "metadata": {},
   "outputs": [],
   "source": [
    "Parameters\n",
    "𝐴 −𝑤𝑎𝑡𝑒𝑟 𝑝𝑒𝑟𝑚𝑒𝑎𝑏𝑖𝑙𝑖𝑡𝑦 [𝑚·𝑠^(−1)·𝑃𝑎^(−1) ]\n",
    "𝐵 −𝑠𝑎𝑙𝑡 𝑝𝑒𝑟𝑚𝑒𝑎𝑏𝑖𝑙𝑖𝑡𝑦 [𝑚·𝑠^(−1) ]\n",
    "𝜌_𝑤−𝑑𝑒𝑛𝑠𝑖𝑡𝑦 𝑜𝑓 𝑝𝑢𝑟𝑒 𝑤𝑎𝑡𝑒𝑟 [𝑘𝑔·𝑚^(−3)]\n",
    "Δ𝑃−𝑝𝑟𝑒𝑠𝑢𝑟𝑒 𝑑𝑟𝑜𝑝 [𝑃𝑎]\n",
    "𝑃_𝑝 -> atmospheric pressure\n",
    "\n",
    "𝐽𝑤_𝑜𝑢𝑡=𝐴([𝑃_𝑜𝑢𝑡−𝑃_𝑝 ]−〖[𝜋〗_𝑜𝑢𝑡 ]) 𝜌_𝑤\n",
    "𝐽𝑤_𝑖𝑛=𝐴([𝑃_𝑖𝑛−𝑃_𝑝 ]−[𝜋_𝑖𝑛 ])  𝜌_𝑤\n",
    "𝐽𝑤_𝑎𝑣𝑔=0.5 (𝐽𝑤_𝑖𝑛+𝐽𝑤_𝑜𝑢𝑡 )\n",
    "𝑀_(𝑝,𝐻2𝑂)=𝐴𝑟𝑒𝑎 𝐽𝑤_𝑎𝑣𝑔\n",
    "A = 4.2E-12 # 𝑤𝑎𝑡𝑒𝑟 𝑝𝑒𝑟𝑚𝑒𝑎𝑏𝑖𝑙𝑖𝑡𝑦 coefficient m Pa-1 s-1\n",
    "B = 3.5E-8 # Salt permeability coefficient m s-1\n",
    "Maximum hydraulic pressure – 85 bar\n",
    "\n",
    "\n",
    "\n",
    "Need a separate pump. “RO pump”. Need “energy recovery device” from outlet pressure.\n",
    "\n",
    "Room temp T good across system. Isothermal. \n",
    "No salinity on permeate side. 𝜋_𝑢  calculated. Pi p -> goes to zero.\n",
    "Water flux as function of inlet and outlet conditions, then average inlet and outlet conditions to get Jwavg, which represts performance across whole space. Get how much water is produced by getting j average times membrane area.\n",
    "\n",
    "Pressure out of pump -> 65 for 1st stage. For 2nd stage it is dependent on water recovery. Set as unfixed for pressure. \n",
    "Pressure in is atmospheric 1. \n",
    "\n",
    "Energy recovery device -> reverse of pump."
   ]
  },
  {
   "cell_type": "code",
   "execution_count": null,
   "metadata": {},
   "outputs": [],
   "source": []
  },
  {
   "cell_type": "code",
   "execution_count": null,
   "metadata": {},
   "outputs": [],
   "source": []
  }
 ],
 "metadata": {
  "kernelspec": {
   "display_name": "Python 3",
   "language": "python",
   "name": "python3"
  },
  "language_info": {
   "codemirror_mode": {
    "name": "ipython",
    "version": 3
   },
   "file_extension": ".py",
   "mimetype": "text/x-python",
   "name": "python",
   "nbconvert_exporter": "python",
   "pygments_lexer": "ipython3",
   "version": "3.7.4"
  }
 },
 "nbformat": 4,
 "nbformat_minor": 4
}
