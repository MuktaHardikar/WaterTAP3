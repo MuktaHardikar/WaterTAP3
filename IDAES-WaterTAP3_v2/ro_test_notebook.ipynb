{
 "cells": [
  {
   "cell_type": "code",
   "execution_count": 1,
   "metadata": {},
   "outputs": [],
   "source": [
    "import watertap as wt\n",
    "import pandas as pd\n",
    "from pyomo.environ import value, Block\n",
    "from idaes.core import FlowsheetBlock\n",
    "import numpy as np\n",
    "from case_study_trains import *\n",
    "import case_study_trains\n",
    "import financials\n",
    "from idaes.core.util.model_statistics import degrees_of_freedom"
   ]
  },
  {
   "cell_type": "code",
   "execution_count": 2,
   "metadata": {},
   "outputs": [],
   "source": [
    "m = wt.watertap_setup(dynamic = False)\n",
    "wt.case_study_trains.train = {\"case_study\": \"carlsbad\",\n",
    "                             \"reference\": \"nawi\",\n",
    "                             \"scenario\": \"baseline\"}\n",
    "\n",
    "wt.case_study_trains.source_water = {\"case_study\": \"carlsbad\", \n",
    "                             \"reference\": \"nawi\",\n",
    "                             \"scenario\": \"baseline\",\n",
    "                             \"water_type\": \"seawater\"}"
   ]
  },
  {
   "cell_type": "code",
   "execution_count": 3,
   "metadata": {},
   "outputs": [],
   "source": [
    "#train_constituent_list = [\"tds\"]"
   ]
  },
  {
   "cell_type": "code",
   "execution_count": 4,
   "metadata": {
    "scrolled": true
   },
   "outputs": [],
   "source": [
    "m.fs.water = WaterParameterBlock()"
   ]
  },
  {
   "cell_type": "code",
   "execution_count": 5,
   "metadata": {},
   "outputs": [
    {
     "name": "stdout",
     "output_type": "stream",
     "text": [
      "carlsbad\n"
     ]
    }
   ],
   "source": [
    "financials.get_system_specs(m.fs, train=wt.case_study_trains.train)"
   ]
  },
  {
   "cell_type": "code",
   "execution_count": 6,
   "metadata": {
    "scrolled": true
   },
   "outputs": [
    {
     "name": "stdout",
     "output_type": "stream",
     "text": [
      "adding source\n"
     ]
    }
   ],
   "source": [
    "m = wt.design.add_water_source(m = m, source_name = \"source1\", reference = \"nawi\", \n",
    "                               water_type = \"seawater\", \n",
    "                     case_study = \"carlsbad\", flow = 4.58) # m3/s "
   ]
  },
  {
   "cell_type": "code",
   "execution_count": 7,
   "metadata": {},
   "outputs": [],
   "source": [
    "m.fs.flow_in_dict={\"seawater\": 4.58}"
   ]
  },
  {
   "cell_type": "code",
   "execution_count": 8,
   "metadata": {},
   "outputs": [],
   "source": [
    "# import reverse_osmosis\n",
    "# setattr(m.fs, \"reverse_osmosis\", reverse_osmosis.UnitProcess(default={\"property_package\": m.fs.water}))\n",
    "# getattr(m.fs, \"reverse_osmosis\").get_costing(module=financials)\n",
    "m.fs.pfd_dict = {\n",
    "    'reverse_osmosis': {'Unit': 'reverse_osmosis','Type': 'use',\n",
    "  'Parameter': {'pass': 'first', 'membrane_area': 600000, 'feed_pressure': 85, 'type': \"pass\", \"erd\": \"no\"}},\n",
    " 'reverse_osmosis2': {'Unit': 'reverse_osmosis', 'Type': 'use',\n",
    "  'Parameter': {'pass': 'second', 'membrane_area': 600000, 'feed_pressure': 45, 'type': \"stage\", \"erd\": \"yes\"}},\n",
    "     'municipal_drinking': {'Unit': 'reverse_osmosis', 'Type': 'use',\n",
    "                           'Parameter': {}}\n",
    "}\n"
   ]
  },
  {
   "cell_type": "code",
   "execution_count": 9,
   "metadata": {},
   "outputs": [],
   "source": [
    "m = wt.design.add_unit_process(m = m, \n",
    "                               unit_process_name = \"reverse_osmosis\", \n",
    "                               unit_process_type = \"reverse_osmosis\")\n",
    "\n",
    "m = wt.design.add_unit_process(m = m, \n",
    "                               unit_process_name = \"reverse_osmosis2\", \n",
    "                               unit_process_type = \"reverse_osmosis\")\n",
    "\n",
    "# m = wt.design.add_unit_process(m = m, \n",
    "#                                unit_process_name = \"municipal_drinking\", \n",
    "#                                unit_process_type = \"municipal_drinking\")\n"
   ]
  },
  {
   "cell_type": "code",
   "execution_count": 10,
   "metadata": {},
   "outputs": [],
   "source": [
    "m.fs.source1.pressure_in.fix(1)\n",
    "# m.fs.reverse_osmosis.flow_vol_in.fix(4.583)\n",
    "# m.fs.reverse_osmosis.conc_mass_in[:, \"tds\"].fix(35) \n",
    "# m.fs.reverse_osmosis.pressure_in.fix(300) \n",
    "# m.fs.reverse_osmosis.temperature_in.fix(300) \n",
    "m.fs.reverse_osmosis.feed.pressure.unfix()\n",
    "m.fs.reverse_osmosis.membrane_area.unfix()\n",
    "m.fs.reverse_osmosis2.membrane_area.unfix()#fix(50 * 1000 * 5)\n",
    "m.fs.reverse_osmosis2.feed.pressure.unfix()"
   ]
  },
  {
   "cell_type": "code",
   "execution_count": null,
   "metadata": {},
   "outputs": [],
   "source": []
  },
  {
   "cell_type": "code",
   "execution_count": 11,
   "metadata": {},
   "outputs": [],
   "source": [
    "#m = wt.design.add_unit_process(m = m, unit_process_name = \"reverse_osmosis\", unit_process_type = \"reverse_osmosis\")"
   ]
  },
  {
   "cell_type": "code",
   "execution_count": 12,
   "metadata": {},
   "outputs": [],
   "source": [
    "#m.fs.reverse_osmosis.flow_vol_in.unfix()\n",
    "#m.fs.reverse_osmosis.conc_mass_in[:, \"tds\"].unfix()\n",
    "m.fs.arc1 = Arc(source=m.fs.source1.outlet, destination = getattr(m.fs, \"reverse_osmosis\").inlet)\n",
    "m.fs.arc2 = Arc(source=m.fs.reverse_osmosis.waste, destination = getattr(m.fs, \"reverse_osmosis2\").inlet)\n",
    "#m.fs.arc3 = Arc(source=m.fs.reverse_osmosis2.outlet, destination = getattr(m.fs, \"municipal_drinking\").inlet)"
   ]
  },
  {
   "cell_type": "code",
   "execution_count": 13,
   "metadata": {},
   "outputs": [
    {
     "data": {
      "text/html": [
       "\n",
       "        <iframe\n",
       "            width=\"100%\"\n",
       "            height=\"500px\"\n",
       "            src=\"tmp/example.html\"\n",
       "            frameborder=\"0\"\n",
       "            allowfullscreen\n",
       "        ></iframe>\n",
       "        "
      ],
      "text/plain": [
       "<IPython.lib.display.IFrame at 0x7fc2300c1d50>"
      ]
     },
     "execution_count": 13,
     "metadata": {},
     "output_type": "execute_result"
    }
   ],
   "source": [
    "wt.display.show_train2(model_name=m)"
   ]
  },
  {
   "cell_type": "code",
   "execution_count": 14,
   "metadata": {},
   "outputs": [],
   "source": [
    "#m.fs.reverse_osmosis.feed.pressure.unfix()"
   ]
  },
  {
   "cell_type": "code",
   "execution_count": 15,
   "metadata": {},
   "outputs": [
    {
     "name": "stdout",
     "output_type": "stream",
     "text": [
      "degrees_of_freedom: 3\n"
     ]
    }
   ],
   "source": [
    "print(\"degrees_of_freedom:\", degrees_of_freedom(m))"
   ]
  },
  {
   "cell_type": "code",
   "execution_count": null,
   "metadata": {},
   "outputs": [],
   "source": []
  },
  {
   "cell_type": "code",
   "execution_count": 16,
   "metadata": {
    "scrolled": false
   },
   "outputs": [
    {
     "name": "stdout",
     "output_type": "stream",
     "text": [
      "degrees_of_freedom: 3\n",
      "WaterTAP3 solution optimal\n",
      "----------------------------------------------------------------------\n",
      "fs.source1\n",
      "inlet : Size=1\n",
      "    Key  : Name        : Value\n",
      "    None :   conc_mass : {(0.0, 'bromide'): 0.0663, (0.0, 'calcium'): 0.4096, (0.0, 'chloride'): 19.162, (0.0, 'magnesium'): 1.278, (0.0, 'potassium'): 0.3953, (0.0, 'sodium'): 10.679, (0.0, 'strontium'): 0.0013, (0.0, 'sulfate'): 2.68, (0.0, 'tds'): 35.0}\n",
      "         :    flow_vol : {0.0: 4.58}\n",
      "         :    pressure : {0.0: 1}\n",
      "         : temperature : {0.0: 300}\n",
      "outlet : Size=1\n",
      "    Key  : Name        : Value\n",
      "    None :   conc_mass : {(0.0, 'bromide'): 0.0663, (0.0, 'calcium'): 0.4096, (0.0, 'chloride'): 19.162, (0.0, 'magnesium'): 1.278, (0.0, 'potassium'): 0.3953, (0.0, 'sodium'): 10.679, (0.0, 'strontium'): 0.0013, (0.0, 'sulfate'): 2.68, (0.0, 'tds'): 35.0}\n",
      "         :    flow_vol : {0.0: 4.58}\n",
      "         :    pressure : {0.0: 1.0}\n",
      "         : temperature : {0.0: 300.0}\n",
      "----------------------------------------------------------------------\n",
      "fs.reverse_osmosis\n",
      "inlet : Size=1\n",
      "    Key  : Name        : Value\n",
      "    None :   conc_mass : {(0.0, 'bromide'): 0.0663, (0.0, 'calcium'): 0.4096, (0.0, 'chloride'): 19.162, (0.0, 'magnesium'): 1.278, (0.0, 'potassium'): 0.3953, (0.0, 'sodium'): 10.679, (0.0, 'strontium'): 0.0013, (0.0, 'sulfate'): 2.68, (0.0, 'tds'): 35.0}\n",
      "         :    flow_vol : {0.0: 4.58}\n",
      "         :    pressure : {0.0: 1.0}\n",
      "         : temperature : {0.0: 300.0}\n",
      "outlet : Size=1\n",
      "    Key  : Name        : Value\n",
      "    None :   conc_mass : {(0.0, 'bromide'): 0.00457577196436266, (0.0, 'calcium'): 0.028269022573197192, (0.0, 'chloride'): 1.3224878187197509, (0.0, 'magnesium'): 0.08820266320445827, (0.0, 'potassium'): 0.027282091365197384, (0.0, 'sodium'): 0.7370236622538414, (0.0, 'strontium'): 8.972101890907296e-05, (0.0, 'sulfate'): 0.184963331289476, (0.0, 'tds'): 0.11580155286013903}\n",
      "         :    flow_vol : {0.0: 0.5308900921897962}\n",
      "         :    pressure : {0.0: 1.0}\n",
      "         : temperature : {0.0: 300.0}\n",
      "waste : Size=1\n",
      "    Key  : Name        : Value\n",
      "    None :   conc_mass : {(0.0, 'bromide'): 0.07436503571388067, (0.0, 'calcium'): 0.45942562033794154, (0.0, 'chloride'): 21.49295345926669, (0.0, 'magnesium'): 1.433461774394261, (0.0, 'potassium'): 0.4433861028310261, (0.0, 'sodium'): 11.978042479465035, (0.0, 'strontium'): 0.001458137955174131, (0.0, 'sulfate'): 3.0060074768205163, (0.0, 'tds'): 39.55897616932874}\n",
      "         :    flow_vol : {0.0: 4.050623590889698}\n",
      "         :    pressure : {0.0: 55.89509227513376}\n",
      "         : temperature : {0.0: 300.0}\n",
      "total_cap_investment: 66.19071912014017\n",
      "----------------------------------------------------------------------\n",
      "----------------------------------------------------------------------\n",
      "fs.reverse_osmosis2\n",
      "inlet : Size=1\n",
      "    Key  : Name        : Value\n",
      "    None :   conc_mass : {(0.0, 'bromide'): 0.07436503571388067, (0.0, 'calcium'): 0.45942562033794154, (0.0, 'chloride'): 21.49295345926669, (0.0, 'magnesium'): 1.433461774394261, (0.0, 'potassium'): 0.4433861028310261, (0.0, 'sodium'): 11.978042479465035, (0.0, 'strontium'): 0.001458137955174131, (0.0, 'sulfate'): 3.0060074768205163, (0.0, 'tds'): 39.55897616932874}\n",
      "         :    flow_vol : {0.0: 4.050623590889698}\n",
      "         :    pressure : {0.0: 55.89509227513376}\n",
      "         : temperature : {0.0: 300.0}\n",
      "outlet : Size=1\n",
      "    Key  : Name        : Value\n",
      "    None :   conc_mass : {(0.0, 'bromide'): 0.0015640092967423485, (0.0, 'calcium'): 0.009662416409436726, (0.0, 'chloride'): 0.4520293536074814, (0.0, 'magnesium'): 0.03014787151186529, (0.0, 'potassium'): 0.009325081070923669, (0.0, 'sodium'): 0.25191636922942634, (0.0, 'strontium'): 3.066684895573141e-05, (0.0, 'sulfate'): 0.0632208886164322, (0.0, 'tds'): 0.36607058816855775}\n",
      "         :    flow_vol : {0.0: 1.5407824934412808}\n",
      "         :    pressure : {0.0: 1.0}\n",
      "         : temperature : {0.0: 300.0}\n",
      "waste : Size=1\n",
      "    Key  : Name        : Value\n",
      "    None :   conc_mass : {(0.0, 'bromide'): 0.11885164198683944, (0.0, 'calcium'): 0.7342629345069298, (0.0, 'chloride'): 34.35045495854928, (0.0, 'magnesium'): 2.290986402099258, (0.0, 'potassium'): 0.7086282666274153, (0.0, 'sodium'): 19.143539740233162, (0.0, 'strontium'): 0.002330424352683127, (0.0, 'sulfate'): 4.8042594347621375, (0.0, 'tds'): 63.509451907571155}\n",
      "         :    flow_vol : {0.0: 2.514184615885139}\n",
      "         :    pressure : {0.0: 52.89509227513376}\n",
      "         : temperature : {0.0: 300.0}\n",
      "total_cap_investment: 10.86208471852399\n",
      "----------------------------------------------------------------------\n",
      "fs.reverse_osmosis\n",
      "total_cap_investment: 66.19071912014017\n",
      "----------------------------------------------------------------------\n",
      "fs.reverse_osmosis2\n",
      "total_cap_investment: 10.86208471852399\n",
      "----------------------------------------------------------------------\n",
      "Treated water (m3/s) ---> 2.071672585631077\n",
      "Total water recovery (fraction) ---> 0.45233025887141415\n",
      "Electricity intensity (kwh/m3) --->  2.341257625155268\n",
      "LCOW ($/m3) --->  0.46798860580036444\n",
      "In ---> 4511.08016\n",
      "Out ---> 528.2208705463651\n",
      "Waste ---> 3982.859289453635\n",
      "RO fixed_cap_inv cost 62.948853181303065\n",
      "RO electricity_cost  36.61821812145801\n"
     ]
    }
   ],
   "source": [
    "wt.run_water_tap(m = m, solver_results = False, print_model_results = True, objective=True, max_attemps=3)\n",
    "print(\"In --->\", m.fs.reverse_osmosis.feed.mass_flow_h20[0]())\n",
    "print(\"Out --->\", m.fs.reverse_osmosis.permeate.mass_flow_h20[0]())\n",
    "print(\"Waste --->\", m.fs.reverse_osmosis.retenate.mass_flow_h20[0]())\n",
    "\n",
    "print(\"RO fixed_cap_inv cost\", m.fs.reverse_osmosis.costing.fixed_cap_inv())\n",
    "print(\"RO electricity_cost \", m.fs.reverse_osmosis.costing.electricity_cost())\n",
    "#print(\"RO electricity_cost \", m.fs.reverse_osmosis.costing.total_up_cost())"
   ]
  },
  {
   "cell_type": "code",
   "execution_count": 17,
   "metadata": {},
   "outputs": [
    {
     "data": {
      "text/plain": [
       "31195237.95530737"
      ]
     },
     "execution_count": 17,
     "metadata": {},
     "output_type": "execute_result"
    }
   ],
   "source": [
    "m.fs.reverse_osmosis.pump_power()"
   ]
  },
  {
   "cell_type": "code",
   "execution_count": 25,
   "metadata": {},
   "outputs": [
    {
     "data": {
      "text/plain": [
       "13734088.698745372"
      ]
     },
     "execution_count": 25,
     "metadata": {},
     "output_type": "execute_result"
    }
   ],
   "source": [
    "m.fs.reverse_osmosis2.erd_power()"
   ]
  },
  {
   "cell_type": "code",
   "execution_count": 27,
   "metadata": {},
   "outputs": [
    {
     "data": {
      "text/plain": [
       "0"
      ]
     },
     "execution_count": 27,
     "metadata": {},
     "output_type": "execute_result"
    }
   ],
   "source": [
    "m.fs.reverse_osmosis.erd_power"
   ]
  },
  {
   "cell_type": "code",
   "execution_count": 19,
   "metadata": {},
   "outputs": [
    {
     "data": {
      "text/plain": [
       "47117.36762511337"
      ]
     },
     "execution_count": 19,
     "metadata": {},
     "output_type": "execute_result"
    }
   ],
   "source": [
    "m.fs.reverse_osmosis.membrane_area[0]()"
   ]
  },
  {
   "cell_type": "code",
   "execution_count": 20,
   "metadata": {},
   "outputs": [
    {
     "data": {
      "text/plain": [
       "312710.50512635405"
      ]
     },
     "execution_count": 20,
     "metadata": {},
     "output_type": "execute_result"
    }
   ],
   "source": [
    "m.fs.reverse_osmosis2.membrane_area[0]()"
   ]
  },
  {
   "cell_type": "code",
   "execution_count": 21,
   "metadata": {},
   "outputs": [
    {
     "data": {
      "text/plain": [
       "58.89509227513376"
      ]
     },
     "execution_count": 21,
     "metadata": {},
     "output_type": "execute_result"
    }
   ],
   "source": [
    "m.fs.reverse_osmosis.feed.pressure[0]()"
   ]
  },
  {
   "cell_type": "code",
   "execution_count": 22,
   "metadata": {},
   "outputs": [
    {
     "data": {
      "text/plain": [
       "55.89509227513376"
      ]
     },
     "execution_count": 22,
     "metadata": {},
     "output_type": "execute_result"
    }
   ],
   "source": [
    "m.fs.reverse_osmosis2.feed.pressure[0]()"
   ]
  },
  {
   "cell_type": "code",
   "execution_count": 23,
   "metadata": {},
   "outputs": [
    {
     "data": {
      "text/plain": [
       "2.071672585631077"
      ]
     },
     "execution_count": 23,
     "metadata": {},
     "output_type": "execute_result"
    }
   ],
   "source": [
    "m.fs.costing.treated_water()"
   ]
  },
  {
   "cell_type": "code",
   "execution_count": 20,
   "metadata": {
    "scrolled": true
   },
   "outputs": [
    {
     "data": {
      "text/plain": [
       "0.9962313327697603"
      ]
     },
     "execution_count": 20,
     "metadata": {},
     "output_type": "execute_result"
    }
   ],
   "source": [
    "(2.163391159838009 * 73.81738707620048) / (35 * 4.58)"
   ]
  },
  {
   "cell_type": "code",
   "execution_count": null,
   "metadata": {},
   "outputs": [],
   "source": []
  },
  {
   "cell_type": "code",
   "execution_count": null,
   "metadata": {},
   "outputs": [],
   "source": []
  },
  {
   "cell_type": "code",
   "execution_count": 18,
   "metadata": {
    "scrolled": true
   },
   "outputs": [
    {
     "data": {
      "text/plain": [
       "0.5081794315243398"
      ]
     },
     "execution_count": 18,
     "metadata": {},
     "output_type": "execute_result"
    }
   ],
   "source": [
    "m.fs.costing.LCOW()"
   ]
  },
  {
   "cell_type": "code",
   "execution_count": 17,
   "metadata": {},
   "outputs": [
    {
     "data": {
      "text/plain": [
       "160.05136340873048"
      ]
     },
     "execution_count": 17,
     "metadata": {},
     "output_type": "execute_result"
    }
   ],
   "source": [
    "44.84504423494786 * 3.5689866325073667"
   ]
  },
  {
   "cell_type": "code",
   "execution_count": 18,
   "metadata": {},
   "outputs": [
    {
     "data": {
      "text/plain": [
       "0.24863659126953563"
      ]
     },
     "execution_count": 18,
     "metadata": {},
     "output_type": "execute_result"
    }
   ],
   "source": [
    "1.0138872963152725 * 0.24523099576564872"
   ]
  },
  {
   "cell_type": "code",
   "execution_count": 19,
   "metadata": {},
   "outputs": [
    {
     "data": {
      "text/plain": [
       "160.3"
      ]
     },
     "execution_count": 19,
     "metadata": {},
     "output_type": "execute_result"
    }
   ],
   "source": [
    "4.58 * 35"
   ]
  },
  {
   "cell_type": "code",
   "execution_count": null,
   "metadata": {},
   "outputs": [],
   "source": []
  },
  {
   "cell_type": "code",
   "execution_count": 37,
   "metadata": {},
   "outputs": [
    {
     "data": {
      "text/plain": [
       "65"
      ]
     },
     "execution_count": 37,
     "metadata": {},
     "output_type": "execute_result"
    }
   ],
   "source": [
    "m.fs.reverse_osmosis.feed.pressure[0]()"
   ]
  },
  {
   "cell_type": "code",
   "execution_count": 38,
   "metadata": {},
   "outputs": [
    {
     "data": {
      "text/plain": [
       "50000"
      ]
     },
     "execution_count": 38,
     "metadata": {},
     "output_type": "execute_result"
    }
   ],
   "source": [
    "m.fs.reverse_osmosis.membrane_area[0]()"
   ]
  },
  {
   "cell_type": "code",
   "execution_count": 28,
   "metadata": {},
   "outputs": [],
   "source": [
    "import pyomo.util.infeasible as infeas"
   ]
  },
  {
   "cell_type": "code",
   "execution_count": 29,
   "metadata": {},
   "outputs": [],
   "source": [
    "infeas.log_infeasible_bounds(m)"
   ]
  },
  {
   "cell_type": "code",
   "execution_count": 30,
   "metadata": {},
   "outputs": [],
   "source": [
    "infeas.log_close_to_bounds(m)"
   ]
  },
  {
   "cell_type": "code",
   "execution_count": 31,
   "metadata": {},
   "outputs": [
    {
     "name": "stdout",
     "output_type": "stream",
     "text": [
      "INFO: CONSTR fs.reverse_osmosis.feed.water_flux_eq: 0.001678756082201669 =/=\n",
      "    0.0\n",
      "INFO: CONSTR fs.reverse_osmosis.retenate.water_flux_retenate_eq:\n",
      "    0.003273648372872825 =/= 0.0\n"
     ]
    }
   ],
   "source": [
    "infeas.log_infeasible_constraints(m)\n"
   ]
  },
  {
   "cell_type": "code",
   "execution_count": null,
   "metadata": {},
   "outputs": [],
   "source": []
  },
  {
   "cell_type": "code",
   "execution_count": null,
   "metadata": {},
   "outputs": [],
   "source": [
    "    b.hp_pump_cost = Var(\n",
    "        initialize=53 / 1e5 * 3600,\n",
    "        doc='High pressure pump cost [$/W]')"
   ]
  },
  {
   "cell_type": "code",
   "execution_count": null,
   "metadata": {},
   "outputs": [],
   "source": [
    "(53 / 1e5 * 3600) "
   ]
  },
  {
   "cell_type": "code",
   "execution_count": 45,
   "metadata": {},
   "outputs": [
    {
     "data": {
      "text/plain": [
       "28.410568941176468"
      ]
     },
     "execution_count": 45,
     "metadata": {},
     "output_type": "execute_result"
    }
   ],
   "source": [
    "m.fs.reverse_osmosis.pump_power() * (53 / 1e5 * 3600) * 1e-6"
   ]
  },
  {
   "cell_type": "code",
   "execution_count": null,
   "metadata": {},
   "outputs": [],
   "source": []
  },
  {
   "cell_type": "code",
   "execution_count": 27,
   "metadata": {},
   "outputs": [
    {
     "data": {
      "text/plain": [
       "443034835.7647059"
      ]
     },
     "execution_count": 27,
     "metadata": {},
     "output_type": "execute_result"
    }
   ],
   "source": [
    "(31.012438503529413*1e6 / 0.07)"
   ]
  },
  {
   "cell_type": "code",
   "execution_count": null,
   "metadata": {},
   "outputs": [],
   "source": []
  },
  {
   "cell_type": "code",
   "execution_count": 40,
   "metadata": {},
   "outputs": [
    {
     "data": {
      "text/plain": [
       "0.6173383289285761"
      ]
     },
     "execution_count": 40,
     "metadata": {},
     "output_type": "execute_result"
    }
   ],
   "source": [
    "m.fs.costing.LCOW()\n",
    "In ---> 4514.035016\n",
    "Out ---> 2202.4335960918356\n",
    "Waste ---> 2311.601419908164\n",
    "RO fixed_cap_inv cost 10.080090778727572\n",
    "RO electricity_cost  40.50604212705882"
   ]
  },
  {
   "cell_type": "code",
   "execution_count": null,
   "metadata": {},
   "outputs": [],
   "source": [
    "In ---> 4514.035016\n",
    "Out ---> 2833.2018460832537\n",
    "Waste ---> 1680.8331699167463\n",
    "RO fixed_cap_inv cost 22.95682406092497\n",
    "RO electricity_cost  40.50604212705882"
   ]
  },
  {
   "cell_type": "code",
   "execution_count": 18,
   "metadata": {},
   "outputs": [
    {
     "data": {
      "text/plain": [
       "0.6173383289285761"
      ]
     },
     "execution_count": 18,
     "metadata": {},
     "output_type": "execute_result"
    }
   ],
   "source": [
    "m.fs.costing.LCOW()"
   ]
  },
  {
   "cell_type": "code",
   "execution_count": 53,
   "metadata": {},
   "outputs": [
    {
     "data": {
      "text/plain": [
       "665486.1592445532"
      ]
     },
     "execution_count": 53,
     "metadata": {},
     "output_type": "execute_result"
    }
   ],
   "source": [
    "m.fs.reverse_osmosis.membrane_area[0]()"
   ]
  },
  {
   "cell_type": "code",
   "execution_count": null,
   "metadata": {},
   "outputs": [],
   "source": []
  },
  {
   "cell_type": "code",
   "execution_count": 38,
   "metadata": {},
   "outputs": [],
   "source": [
    "ro_membrane_cost = 30 # $/m3\n",
    "pump_cost = 53 #m3bar/h\n",
    "saturated_saline_make_up = 0.025\n",
    "membrane_replacement_factor = 15 #%of initial membrane area per year\n",
    "maintenance_and_labor = 2 #% of initial investment/yr\n",
    "chem_factor = 1 #% of init invest per year#/NA"
   ]
  },
  {
   "cell_type": "code",
   "execution_count": 41,
   "metadata": {},
   "outputs": [],
   "source": [
    "membrane_area = 50"
   ]
  },
  {
   "cell_type": "code",
   "execution_count": 42,
   "metadata": {},
   "outputs": [],
   "source": [
    "membrane_unit = ro_membrane_cost * membrane_area\n",
    "pump_unit = pump_cost * m.fs.reverse_osmosis.pump_power()\n",
    "pressure_exchanger = 0"
   ]
  },
  {
   "cell_type": "code",
   "execution_count": 51,
   "metadata": {},
   "outputs": [],
   "source": [
    "# 1.4 in old RO. See Bartholomew et al. 2018\n",
    "TCI = 1.4 * (membrane_unit + pump_unit) * 1e-6"
   ]
  },
  {
   "cell_type": "code",
   "execution_count": 53,
   "metadata": {},
   "outputs": [],
   "source": [
    "tac = TCI*0.1 + 2*m.fs.reverse_osmosis.costing.electricity_cost()"
   ]
  },
  {
   "cell_type": "code",
   "execution_count": 54,
   "metadata": {},
   "outputs": [
    {
     "data": {
      "text/plain": [
       "1.436024276021926"
      ]
     },
     "execution_count": 54,
     "metadata": {},
     "output_type": "execute_result"
    }
   ],
   "source": [
    "tac*1e6 / (0.3*3600*24*365)"
   ]
  },
  {
   "cell_type": "code",
   "execution_count": 55,
   "metadata": {},
   "outputs": [
    {
     "data": {
      "text/plain": [
       "<pyomo.core.base.expression.SimpleExpression at 0x7fc9d35a9230>"
      ]
     },
     "execution_count": 55,
     "metadata": {},
     "output_type": "execute_result"
    }
   ],
   "source": [
    "m.fs.costing.LCOW"
   ]
  },
  {
   "cell_type": "code",
   "execution_count": null,
   "metadata": {},
   "outputs": [],
   "source": []
  },
  {
   "cell_type": "code",
   "execution_count": 17,
   "metadata": {},
   "outputs": [],
   "source": [
    "feed=m.fs.reverse_osmosis.feed"
   ]
  },
  {
   "cell_type": "code",
   "execution_count": 18,
   "metadata": {},
   "outputs": [
    {
     "data": {
      "text/plain": [
       "2783020.445065185"
      ]
     },
     "execution_count": 18,
     "metadata": {},
     "output_type": "execute_result"
    }
   ],
   "source": [
    "value(8.45e7 * feed.osm_coeff[0]* feed.mass_frac_tds[0] / (1 - feed.mass_frac_tds[0]))"
   ]
  },
  {
   "cell_type": "code",
   "execution_count": 19,
   "metadata": {},
   "outputs": [],
   "source": [
    "mass_frac_tds = 0.04952759752553286"
   ]
  },
  {
   "cell_type": "code",
   "execution_count": 20,
   "metadata": {},
   "outputs": [
    {
     "data": {
      "text/plain": [
       "4081042.9868604005"
      ]
     },
     "execution_count": 20,
     "metadata": {},
     "output_type": "execute_result"
    }
   ],
   "source": [
    "value(8.45e7 * feed.osm_coeff[0]* mass_frac_tds / (1 - mass_frac_tds))"
   ]
  },
  {
   "cell_type": "code",
   "execution_count": null,
   "metadata": {},
   "outputs": [],
   "source": []
  },
  {
   "cell_type": "code",
   "execution_count": 24,
   "metadata": {},
   "outputs": [
    {
     "data": {
      "text/plain": [
       "51.21030686985716"
      ]
     },
     "execution_count": 24,
     "metadata": {},
     "output_type": "execute_result"
    }
   ],
   "source": [
    "1033.975186126418 * 0.04952759752553286 "
   ]
  },
  {
   "cell_type": "code",
   "execution_count": null,
   "metadata": {},
   "outputs": [],
   "source": []
  },
  {
   "cell_type": "code",
   "execution_count": 12,
   "metadata": {},
   "outputs": [
    {
     "data": {
      "text/plain": [
       "0.010812025481409663"
      ]
     },
     "execution_count": 12,
     "metadata": {},
     "output_type": "execute_result"
    }
   ],
   "source": [
    "value(m.fs.reverse_osmosis.mass_fraction_in[0])"
   ]
  },
  {
   "cell_type": "code",
   "execution_count": 13,
   "metadata": {},
   "outputs": [
    {
     "data": {
      "text/plain": [
       "0.1"
      ]
     },
     "execution_count": 13,
     "metadata": {},
     "output_type": "execute_result"
    }
   ],
   "source": [
    "value(m.fs.reverse_osmosis.osmotic_coeff_in[0])"
   ]
  },
  {
   "cell_type": "code",
   "execution_count": 25,
   "metadata": {},
   "outputs": [
    {
     "data": {
      "text/plain": [
       "39.743447699916565"
      ]
     },
     "execution_count": 25,
     "metadata": {},
     "output_type": "execute_result"
    }
   ],
   "source": [
    "3974344.7699916563*1e-5"
   ]
  },
  {
   "cell_type": "code",
   "execution_count": 27,
   "metadata": {},
   "outputs": [
    {
     "name": "stdout",
     "output_type": "stream",
     "text": [
      "osmotic_coeff_in : water mass flow rate \n",
      "    Size=1, Index=fs.time\n",
      "    Key : Lower : Value : Upper : Fixed : Stale : Domain\n",
      "    0.0 :     0 :   0.1 :  None : False :  True : NonNegativeReals\n"
     ]
    }
   ],
   "source": [
    "m.fs.reverse_osmosis.osmotic_coeff_in.display()"
   ]
  },
  {
   "cell_type": "code",
   "execution_count": null,
   "metadata": {},
   "outputs": [],
   "source": []
  },
  {
   "cell_type": "code",
   "execution_count": null,
   "metadata": {},
   "outputs": [],
   "source": []
  },
  {
   "cell_type": "code",
   "execution_count": null,
   "metadata": {},
   "outputs": [],
   "source": []
  },
  {
   "cell_type": "code",
   "execution_count": null,
   "metadata": {},
   "outputs": [],
   "source": []
  },
  {
   "cell_type": "code",
   "execution_count": null,
   "metadata": {},
   "outputs": [],
   "source": []
  },
  {
   "cell_type": "code",
   "execution_count": 20,
   "metadata": {},
   "outputs": [
    {
     "data": {
      "text/plain": [
       "2.175722122794811e-15"
      ]
     },
     "execution_count": 20,
     "metadata": {},
     "output_type": "execute_result"
    }
   ],
   "source": [
    "value(m.fs.reverse_osmosis.mass_fraction_per[0])"
   ]
  },
  {
   "cell_type": "code",
   "execution_count": 21,
   "metadata": {},
   "outputs": [
    {
     "data": {
      "text/plain": [
       "4.668731502727216e-08"
      ]
     },
     "execution_count": 21,
     "metadata": {},
     "output_type": "execute_result"
    }
   ],
   "source": [
    "value(m.fs.reverse_osmosis.mass_fraction_ret[0])"
   ]
  },
  {
   "cell_type": "code",
   "execution_count": 23,
   "metadata": {},
   "outputs": [
    {
     "data": {
      "text/plain": [
       "0.06250214624787276"
      ]
     },
     "execution_count": 23,
     "metadata": {},
     "output_type": "execute_result"
    }
   ],
   "source": [
    "64.92996680681406 / (0.6312*64.92996680681406 + 997.86)"
   ]
  },
  {
   "cell_type": "code",
   "execution_count": null,
   "metadata": {},
   "outputs": [],
   "source": []
  },
  {
   "cell_type": "code",
   "execution_count": null,
   "metadata": {},
   "outputs": [],
   "source": []
  },
  {
   "cell_type": "code",
   "execution_count": null,
   "metadata": {},
   "outputs": [],
   "source": []
  },
  {
   "cell_type": "code",
   "execution_count": null,
   "metadata": {},
   "outputs": [],
   "source": [
    "value(m.fs.reverse_osmosis.osmotic_pressure_in)"
   ]
  },
  {
   "cell_type": "code",
   "execution_count": 17,
   "metadata": {},
   "outputs": [
    {
     "name": "stdout",
     "output_type": "stream",
     "text": [
      "jw_per : water mass flow rate permeate\n",
      "    Size=1, Index=fs.time\n",
      "    Key : Lower : Value              : Upper : Fixed : Stale : Domain\n",
      "    0.0 :     0 : 0.9975000000022316 :  None : False : False : NonNegativeReals\n"
     ]
    }
   ],
   "source": [
    "m.fs.reverse_osmosis.jw_per.display()"
   ]
  },
  {
   "cell_type": "code",
   "execution_count": 18,
   "metadata": {},
   "outputs": [
    {
     "name": "stdout",
     "output_type": "stream",
     "text": [
      "js_per : tds mass flow rate permeate\n",
      "    Size=1, Index=fs.time\n",
      "    Key : Lower : Value                 : Upper : Fixed : Stale : Domain\n",
      "    0.0 :     0 : 3.142225908327049e-05 :  None : False : False : NonNegativeReals\n"
     ]
    }
   ],
   "source": [
    "m.fs.reverse_osmosis.js_per.display()"
   ]
  },
  {
   "cell_type": "code",
   "execution_count": null,
   "metadata": {},
   "outputs": [],
   "source": []
  },
  {
   "cell_type": "code",
   "execution_count": null,
   "metadata": {},
   "outputs": [],
   "source": [
    "self.conc_mass_out_eq = Constraint(    \n",
    "    expr=self.conc_mass_out[t, \"tds\"] == ((self.mass_flow_perm / self.flow_vol_out[t]) - 997.86) / 0.6312\n",
    ") "
   ]
  },
  {
   "cell_type": "code",
   "execution_count": null,
   "metadata": {},
   "outputs": [],
   "source": []
  },
  {
   "cell_type": "code",
   "execution_count": null,
   "metadata": {},
   "outputs": [],
   "source": [
    "3.142225908327049e-05 / 0.9975000000022316"
   ]
  },
  {
   "cell_type": "code",
   "execution_count": null,
   "metadata": {},
   "outputs": [],
   "source": []
  },
  {
   "cell_type": "code",
   "execution_count": null,
   "metadata": {},
   "outputs": [],
   "source": []
  },
  {
   "cell_type": "code",
   "execution_count": 124,
   "metadata": {},
   "outputs": [],
   "source": [
    "a = 4.2E-7 # 𝑤𝑎𝑡𝑒𝑟 𝑝𝑒𝑟𝑚𝑒𝑎𝑏𝑖𝑙𝑖𝑡𝑦 coefficient m bar-1 s-1\n",
    "p_in = 50 #bar pressure at inlet. should be unfixed.\n",
    "p_atm = 1 #bar atmospheric pressure\n",
    "pressure_drop = 3 # bar Typical pressure drops range from 0.1-3 bar.\n",
    "p_ret = p_in - pressure_drop #bar atmospheric pressure\n",
    "pw = 1000 # density of water kg/m3\n",
    "membrane_area = 50 # per module m2"
   ]
  },
  {
   "cell_type": "code",
   "execution_count": 125,
   "metadata": {},
   "outputs": [],
   "source": [
    "flow_in = 1\n",
    "tds_in = 35.8\n",
    "tds_per = tds_in * 0.002\n",
    "tds_ret = tds_in - tds_per"
   ]
  },
  {
   "cell_type": "code",
   "execution_count": 126,
   "metadata": {},
   "outputs": [],
   "source": [
    "def get_osmotic_pressure(tds):\n",
    "    mass_flow_total = flow0.6312*tds + 997.86 #kg/s\n",
    "    print(mass_flow_total)\n",
    "    mass_fraction = tds / mass_flow_total #unitless\n",
    "    osmotic_coeff = 4.92*mass_fraction**2 + mass_fraction*0.0889 + 0.918 \n",
    "    osmotic_pressure = 8.45e7 * osmotic_coeff * mass_fraction / (1 - mass_fraction) #Pa\n",
    "    osmotic_pressure = osmotic_pressure * 1e-5 #bar\n",
    "    return osmotic_pressure\n"
   ]
  },
  {
   "cell_type": "code",
   "execution_count": 127,
   "metadata": {},
   "outputs": [
    {
     "name": "stdout",
     "output_type": "stream",
     "text": [
      "1020.45696\n",
      "1020.41176608\n"
     ]
    }
   ],
   "source": [
    "osmotic_pressure_in = get_osmotic_pressure(tds_in)\n",
    "osmotic_pressure_out = get_osmotic_pressure(tds_ret)"
   ]
  },
  {
   "cell_type": "code",
   "execution_count": null,
   "metadata": {},
   "outputs": [],
   "source": []
  },
  {
   "cell_type": "code",
   "execution_count": 128,
   "metadata": {},
   "outputs": [
    {
     "name": "stdout",
     "output_type": "stream",
     "text": [
      "0.4136667895516468\n"
     ]
    }
   ],
   "source": [
    "jw_out = ((p_out - p_atm) - osmotic_pressure_out)*pw*a #pout-pp goes to zero.\n",
    "jw_in = ((p_in - p_atm) - osmotic_pressure_in)*pw*a #pout-pp goes to zero.\n",
    "flow_per = membrane_area * 0.5 * (jw_in + jw_out) # permeate water flow kg/s\n",
    "flow_per = flow_out #/ 997.86 # permeate water flow m3/s\n",
    "\n",
    "print(flow_out2)"
   ]
  },
  {
   "cell_type": "code",
   "execution_count": null,
   "metadata": {},
   "outputs": [],
   "source": []
  },
  {
   "cell_type": "code",
   "execution_count": null,
   "metadata": {},
   "outputs": [],
   "source": []
  },
  {
   "cell_type": "code",
   "execution_count": null,
   "metadata": {},
   "outputs": [],
   "source": []
  },
  {
   "cell_type": "code",
   "execution_count": 107,
   "metadata": {},
   "outputs": [],
   "source": [
    "b = 3.5E-8 # Salt permeability coefficient m s-1\n",
    "salt_out = 0.5 * b * (tds_in + tds_out) * membrane_area # kg/m3"
   ]
  },
  {
   "cell_type": "code",
   "execution_count": 108,
   "metadata": {},
   "outputs": [
    {
     "data": {
      "text/plain": [
       "1.14188375"
      ]
     },
     "execution_count": 108,
     "metadata": {},
     "output_type": "execute_result"
    }
   ],
   "source": [
    "salt_out"
   ]
  },
  {
   "cell_type": "code",
   "execution_count": null,
   "metadata": {},
   "outputs": [],
   "source": []
  },
  {
   "cell_type": "code",
   "execution_count": null,
   "metadata": {},
   "outputs": [],
   "source": [
    "membrane_area = area_per_module * pure_water_perm / (pure_water_perm_manu)  # m^2\n"
   ]
  },
  {
   "cell_type": "code",
   "execution_count": null,
   "metadata": {},
   "outputs": [],
   "source": []
  },
  {
   "cell_type": "code",
   "execution_count": null,
   "metadata": {},
   "outputs": [],
   "source": []
  },
  {
   "cell_type": "code",
   "execution_count": null,
   "metadata": {},
   "outputs": [],
   "source": []
  },
  {
   "cell_type": "code",
   "execution_count": null,
   "metadata": {},
   "outputs": [],
   "source": [
    "x1 = 4.92*𝑋**2 + X*0.0889 + 0.918 \n",
    "𝟖.𝟒𝟓𝑬𝟕 𝝓(𝑿)  𝑿/(𝟏−𝑿)  "
   ]
  },
  {
   "cell_type": "code",
   "execution_count": null,
   "metadata": {},
   "outputs": [],
   "source": []
  },
  {
   "cell_type": "code",
   "execution_count": null,
   "metadata": {},
   "outputs": [],
   "source": [
    "𝜌(𝑋)=756 𝑋+995 [𝑘𝑔/𝑚^3 ] "
   ]
  },
  {
   "cell_type": "code",
   "execution_count": null,
   "metadata": {},
   "outputs": [],
   "source": []
  },
  {
   "cell_type": "code",
   "execution_count": null,
   "metadata": {},
   "outputs": [],
   "source": [
    "b = 3.5E-8 # Salt permeability coefficient m s-1\n"
   ]
  },
  {
   "cell_type": "code",
   "execution_count": null,
   "metadata": {},
   "outputs": [],
   "source": []
  },
  {
   "cell_type": "code",
   "execution_count": null,
   "metadata": {},
   "outputs": [],
   "source": []
  },
  {
   "cell_type": "code",
   "execution_count": null,
   "metadata": {},
   "outputs": [],
   "source": []
  },
  {
   "cell_type": "code",
   "execution_count": null,
   "metadata": {},
   "outputs": [],
   "source": []
  },
  {
   "cell_type": "code",
   "execution_count": null,
   "metadata": {},
   "outputs": [],
   "source": [
    "Parameters\n",
    "𝐴 −𝑤𝑎𝑡𝑒𝑟 𝑝𝑒𝑟𝑚𝑒𝑎𝑏𝑖𝑙𝑖𝑡𝑦 [𝑚·𝑠^(−1)·𝑃𝑎^(−1) ]\n",
    "𝐵 −𝑠𝑎𝑙𝑡 𝑝𝑒𝑟𝑚𝑒𝑎𝑏𝑖𝑙𝑖𝑡𝑦 [𝑚·𝑠^(−1) ]\n",
    "𝜌_𝑤−𝑑𝑒𝑛𝑠𝑖𝑡𝑦 𝑜𝑓 𝑝𝑢𝑟𝑒 𝑤𝑎𝑡𝑒𝑟 [𝑘𝑔·𝑚^(−3)]\n",
    "Δ𝑃−𝑝𝑟𝑒𝑠𝑢𝑟𝑒 𝑑𝑟𝑜𝑝 [𝑃𝑎]\n",
    "𝑃_𝑝 -> atmospheric pressure\n",
    "\n",
    "𝐽𝑤_𝑜𝑢𝑡=𝐴([𝑃_𝑜𝑢𝑡−𝑃_𝑝 ]−〖[𝜋〗_𝑜𝑢𝑡 ]) 𝜌_𝑤\n",
    "𝐽𝑤_𝑖𝑛=𝐴([𝑃_𝑖𝑛−𝑃_𝑝 ]−[𝜋_𝑖𝑛 ])  𝜌_𝑤\n",
    "𝐽𝑤_𝑎𝑣𝑔=0.5 (𝐽𝑤_𝑖𝑛+𝐽𝑤_𝑜𝑢𝑡 )\n",
    "𝑀_(𝑝,𝐻2𝑂)=𝐴𝑟𝑒𝑎 𝐽𝑤_𝑎𝑣𝑔\n",
    "A = 4.2E-12 # 𝑤𝑎𝑡𝑒𝑟 𝑝𝑒𝑟𝑚𝑒𝑎𝑏𝑖𝑙𝑖𝑡𝑦 coefficient m Pa-1 s-1\n",
    "B = 3.5E-8 # Salt permeability coefficient m s-1\n",
    "Maximum hydraulic pressure – 85 bar\n",
    "\n",
    "\n",
    "\n",
    "Need a separate pump. “RO pump”. Need “energy recovery device” from outlet pressure.\n",
    "\n",
    "Room temp T good across system. Isothermal. \n",
    "No salinity on permeate side. 𝜋_𝑢  calculated. Pi p -> goes to zero.\n",
    "Water flux as function of inlet and outlet conditions, then average inlet and outlet conditions to get Jwavg, which represts performance across whole space. Get how much water is produced by getting j average times membrane area.\n",
    "\n",
    "Pressure out of pump -> 65 for 1st stage. For 2nd stage it is dependent on water recovery. Set as unfixed for pressure. \n",
    "Pressure in is atmospheric 1. \n",
    "\n",
    "Energy recovery device -> reverse of pump."
   ]
  },
  {
   "cell_type": "code",
   "execution_count": null,
   "metadata": {},
   "outputs": [],
   "source": []
  },
  {
   "cell_type": "code",
   "execution_count": null,
   "metadata": {},
   "outputs": [],
   "source": []
  }
 ],
 "metadata": {
  "kernelspec": {
   "display_name": "Python 3",
   "language": "python",
   "name": "python3"
  },
  "language_info": {
   "codemirror_mode": {
    "name": "ipython",
    "version": 3
   },
   "file_extension": ".py",
   "mimetype": "text/x-python",
   "name": "python",
   "nbconvert_exporter": "python",
   "pygments_lexer": "ipython3",
   "version": "3.7.4"
  }
 },
 "nbformat": 4,
 "nbformat_minor": 4
}
