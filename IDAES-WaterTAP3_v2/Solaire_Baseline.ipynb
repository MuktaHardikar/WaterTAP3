{
 "cells": [
  {
   "cell_type": "code",
   "execution_count": 1,
   "metadata": {
    "scrolled": false
   },
   "outputs": [
    {
     "name": "stdout",
     "output_type": "stream",
     "text": [
      "solaire\n",
      "\n",
      "------- Adding Unit Processes -------\n",
      "gray_black\n",
      "stormwater\n",
      "water_pumping_station\n",
      "mbr_nitrification\n",
      "ozone_aop\n",
      "uv_irradiation\n",
      "media_filtration\n",
      "treated_storage\n",
      "irrigation\n",
      "surface_discharge\n",
      "-------------------------------------\n",
      "\n",
      "adding source\n",
      "adding source\n",
      "adding source\n",
      "adding splitter\n",
      "\n",
      "Connecting unit processes...\n"
     ]
    }
   ],
   "source": [
    "import watertap as wt\n",
    "import pandas as pd\n",
    "from pyomo.environ import value, Block\n",
    "from idaes.core import FlowsheetBlock\n",
    "import numpy as np\n",
    "from case_study_trains import *\n",
    "import case_study_trains\n",
    "import pyomo.environ as env\n",
    "from pyomo.environ import Constraint\n",
    "m = wt.watertap_setup(dynamic=False)\n",
    "\n",
    "\n",
    "wt.case_study_trains.train = {\"case_study\": \"solaire\",\n",
    "                             \"reference\": \"nawi\",\n",
    "                             \"scenario\": \"baseline\"}\n",
    "\n",
    "wt.case_study_trains.source_water = {\"case_study\": \"solaire\", \n",
    "                             \"reference\": \"nawi\",\n",
    "                             \"scenario\": \"baseline\",\n",
    "                             \"water_type\": [\"solaire_graywater\", \"solaire_blackwater\", \"solaire_stormwater\"]}\n",
    "\n",
    "m = wt.case_study_trains.get_case_study(m=m) # flow is set as case study flow unless defined.\n",
    "\n"
   ]
  },
  {
   "cell_type": "code",
   "execution_count": 2,
   "metadata": {},
   "outputs": [
    {
     "data": {
      "text/html": [
       "\n",
       "        <iframe\n",
       "            width=\"100%\"\n",
       "            height=\"500px\"\n",
       "            src=\"tmp/example.html\"\n",
       "            frameborder=\"0\"\n",
       "            allowfullscreen\n",
       "        ></iframe>\n",
       "        "
      ],
      "text/plain": [
       "<IPython.lib.display.IFrame at 0x7ff88016c390>"
      ]
     },
     "execution_count": 2,
     "metadata": {},
     "output_type": "execute_result"
    }
   ],
   "source": [
    "wt.display.show_train2(model_name=m)"
   ]
  },
  {
   "cell_type": "code",
   "execution_count": 3,
   "metadata": {},
   "outputs": [
    {
     "name": "stdout",
     "output_type": "stream",
     "text": [
      "----------------------------------------------------------------------\n",
      "\n",
      "Degrees of Freedom: 0\n",
      "\n",
      "WaterTAP3 solution optimal \n",
      "\n",
      "----------------------------------------------------------------------\n",
      "\n",
      "***UNIT PROCESS RESULTS (in $MM)***\n",
      "\n",
      "\n",
      "GRAY BLACK:\n",
      "\n",
      "\ttotal cap investment: 0.01873\n",
      "\tcat and chem cost: 0.0\n",
      "\telectricity cost: 0.0\n",
      "\ttotal fixed op cost: 0.00025\n",
      "\n",
      "STORMWATER:\n",
      "\n",
      "\ttotal cap investment: 0.00739\n",
      "\tcat and chem cost: 0.0\n",
      "\telectricity cost: 0.0\n",
      "\ttotal fixed op cost: 0.0001\n",
      "\n",
      "WATER PUMPING STATION:\n",
      "\n",
      "\ttotal cap investment: 0.00282\n",
      "\tcat and chem cost: 0.0\n",
      "\telectricity cost: 0.0\n",
      "\ttotal fixed op cost: 4e-05\n",
      "\n",
      "MBR NITRIFICATION:\n",
      "\n",
      "\ttotal cap investment: 0.09831\n",
      "\tcat and chem cost: 0.0\n",
      "\telectricity cost: 0.0\n",
      "\ttotal fixed op cost: 0.00131\n",
      "\n",
      "OZONE AOP:\n",
      "\n",
      "\ttotal cap investment: 0.29952\n",
      "\tcat and chem cost: 0.00015\n",
      "\telectricity cost: 0.00014\n",
      "\ttotal fixed op cost: 0.00399\n",
      "\n",
      "UV IRRADIATION:\n",
      "\n",
      "\ttotal cap investment: 0.02709\n",
      "\tcat and chem cost: 0.0\n",
      "\telectricity cost: 0.00039\n",
      "\ttotal fixed op cost: 0.00036\n",
      "\n",
      "MEDIA FILTRATION:\n",
      "\n",
      "\ttotal cap investment: 0.27737\n",
      "\tcat and chem cost: 0.0\n",
      "\telectricity cost: 0.0\n",
      "\ttotal fixed op cost: 0.00369\n",
      "\n",
      "TREATED STORAGE:\n",
      "\n",
      "\ttotal cap investment: 0.0559\n",
      "\tcat and chem cost: 0.0\n",
      "\telectricity cost: 0.0\n",
      "\ttotal fixed op cost: 0.00073\n",
      "\n",
      "IRRIGATION:\n",
      "\n",
      "\ttotal cap investment: 0.0079\n",
      "\tcat and chem cost: 0.0\n",
      "\telectricity cost: 0.0\n",
      "\ttotal fixed op cost: 0.0001\n",
      "\n",
      "SURFACE DISCHARGE:\n",
      "\n",
      "\ttotal cap investment: 0.00875\n",
      "\tcat and chem cost: 0.0\n",
      "\telectricity cost: 0.0\n",
      "\ttotal fixed op cost: 0.00012\n",
      "\n",
      "----------------------------------------------------------------------\n",
      "\n",
      "\n",
      "----------------------------------------------------------------------\n",
      "------------------- System Level Metrics and Costs -------------------\n",
      "Total Capital Investment ($MM) 0.804\n",
      "Annual Fixed Operating Cost ($MM/yr) 0.011\n",
      "Annual Catalysts and Chemicals Cost ($MM/yr) 0.0\n",
      "Annual Electricity Costs ($MM/yr) 0.001\n",
      "Annual Other Variable Costs ($MM/yr) 0.0\n",
      "Annual Operating Costs ($MM/yr) 0.011\n",
      "Treated water (m3/s) ---> 0.002\n",
      "Total water recovery (%) ---> 99.92\n",
      "Electricity intensity (kwh/m3) --->  0.194\n",
      "LCOW ($/m3) --->  1.318\n",
      "Electricity portion of LCOW (%) ---> 0.824\n",
      "----------------------------------------------------------------------\n"
     ]
    }
   ],
   "source": [
    "# NOW RUN AS SIMULATION\n",
    "wt.run_water_tap(m=m, print_model_results=\"summary\", skip_small=True)"
   ]
  },
  {
   "cell_type": "code",
   "execution_count": 4,
   "metadata": {},
   "outputs": [],
   "source": [
    "# creates csv in results folder with the name: *case_study*_*scenario*.csv\n",
    "# In this case, save the final baseline result.\n",
    "\n",
    "df = wt.get_results_table(m=m, case_study=wt.case_study_trains.source_water[\"case_study\"], \n",
    "                                scenario=wt.case_study_trains.source_water[\"scenario\"])"
   ]
  },
  {
   "cell_type": "code",
   "execution_count": null,
   "metadata": {},
   "outputs": [],
   "source": []
  },
  {
   "cell_type": "code",
   "execution_count": null,
   "metadata": {},
   "outputs": [],
   "source": []
  }
 ],
 "metadata": {
  "kernelspec": {
   "display_name": "Python 3",
   "language": "python",
   "name": "python3"
  },
  "language_info": {
   "codemirror_mode": {
    "name": "ipython",
    "version": 3
   },
   "file_extension": ".py",
   "mimetype": "text/x-python",
   "name": "python",
   "nbconvert_exporter": "python",
   "pygments_lexer": "ipython3",
   "version": "3.7.4"
  }
 },
 "nbformat": 4,
 "nbformat_minor": 4
}
