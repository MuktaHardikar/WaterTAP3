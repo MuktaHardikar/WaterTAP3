{
 "cells": [
  {
   "cell_type": "code",
   "execution_count": 2,
   "metadata": {
    "scrolled": true
   },
   "outputs": [
    {
     "name": "stdout",
     "output_type": "stream",
     "text": [
      "hrsd\n",
      "------- Adding Unit Processes -------\n",
      "sw_onshore_intake\n",
      "2021-03-16 17:18:22 [ERROR] idaes.core.process_block: Failure in build: fs.sw_onshore_intake\n",
      "Traceback (most recent call last):\n",
      "  File \"/Users/amiara/miniconda3/envs/tap-idaes3/lib/python3.7/site-packages/idaes/core/process_block.py\", line 37, in _rule_default\n",
      "    b.build()\n",
      "  File \"/Users/amiara/NAWI/WaterTap/NAWI-WaterTAP3/IDAES-WaterTAP3_v2/sw_onshore_intake.py\", line 113, in build\n",
      "    return unit_process_equations.build_up(self, up_name_test = module_name)\n",
      "  File \"/Users/amiara/NAWI/WaterTap/NAWI-WaterTAP3/IDAES-WaterTAP3_v2/unit_process_equations.py\", line 126, in build_up\n",
      "    self.config.property_package.component_list,\n",
      "  File \"/Users/amiara/miniconda3/envs/tap-idaes3/lib/python3.7/site-packages/pyomo/core/base/block.py\", line 524, in __getattr__\n",
      "    % (self.__class__.__name__, val))\n",
      "AttributeError: '_ScalarWaterParameterBlock' object has no attribute 'component_list'\n",
      "ERROR: Constructing component 'fs.sw_onshore_intake' from data=None failed:\n",
      "    AttributeError: '_ScalarWaterParameterBlock' object has no attribute\n",
      "    'component_list'\n"
     ]
    },
    {
     "ename": "AttributeError",
     "evalue": "'_ScalarWaterParameterBlock' object has no attribute 'component_list'",
     "output_type": "error",
     "traceback": [
      "\u001b[0;31m---------------------------------------------------------------------------\u001b[0m",
      "\u001b[0;31mAttributeError\u001b[0m                            Traceback (most recent call last)",
      "\u001b[0;32m<ipython-input-2-b00573cd8093>\u001b[0m in \u001b[0;36m<module>\u001b[0;34m\u001b[0m\n\u001b[1;32m     21\u001b[0m                              \"water_type\": \"hrsd_municipal\"}\n\u001b[1;32m     22\u001b[0m \u001b[0;34m\u001b[0m\u001b[0m\n\u001b[0;32m---> 23\u001b[0;31m \u001b[0mm\u001b[0m \u001b[0;34m=\u001b[0m \u001b[0mwt\u001b[0m\u001b[0;34m.\u001b[0m\u001b[0mcase_study_trains\u001b[0m\u001b[0;34m.\u001b[0m\u001b[0mget_case_study\u001b[0m\u001b[0;34m(\u001b[0m\u001b[0mm\u001b[0m\u001b[0;34m=\u001b[0m\u001b[0mm\u001b[0m\u001b[0;34m)\u001b[0m \u001b[0;31m# flow is set as case study flow unless defined.\u001b[0m\u001b[0;34m\u001b[0m\u001b[0;34m\u001b[0m\u001b[0m\n\u001b[0m",
      "\u001b[0;32m~/NAWI/WaterTap/NAWI-WaterTAP3/IDAES-WaterTAP3_v2/case_study_trains.py\u001b[0m in \u001b[0;36mget_case_study\u001b[0;34m(flow, m)\u001b[0m\n\u001b[1;32m     88\u001b[0m         m = wt.design.add_unit_process(m = m, \n\u001b[1;32m     89\u001b[0m                                        \u001b[0munit_process_name\u001b[0m \u001b[0;34m=\u001b[0m \u001b[0mkey\u001b[0m\u001b[0;34m,\u001b[0m\u001b[0;34m\u001b[0m\u001b[0;34m\u001b[0m\u001b[0m\n\u001b[0;32m---> 90\u001b[0;31m                                        unit_process_type = pfd_dict[key]['Unit'])\n\u001b[0m\u001b[1;32m     91\u001b[0m     \u001b[0mprint\u001b[0m\u001b[0;34m(\u001b[0m\u001b[0;34m\"-------------------------------------\"\u001b[0m\u001b[0;34m)\u001b[0m\u001b[0;34m\u001b[0m\u001b[0;34m\u001b[0m\u001b[0m\n\u001b[1;32m     92\u001b[0m \u001b[0;34m\u001b[0m\u001b[0m\n",
      "\u001b[0;32m~/NAWI/WaterTap/NAWI-WaterTAP3/IDAES-WaterTAP3_v2/design.py\u001b[0m in \u001b[0;36madd_unit_process\u001b[0;34m(m, unit_process_name, unit_process_type, with_connection, from_splitter, splitter_tream, link_to, link_from, connection_type, stream_name)\u001b[0m\n\u001b[1;32m     39\u001b[0m \u001b[0;34m\u001b[0m\u001b[0m\n\u001b[1;32m     40\u001b[0m     \u001b[0;32melse\u001b[0m\u001b[0;34m:\u001b[0m\u001b[0;34m\u001b[0m\u001b[0;34m\u001b[0m\u001b[0m\n\u001b[0;32m---> 41\u001b[0;31m         \u001b[0msetattr\u001b[0m\u001b[0;34m(\u001b[0m\u001b[0mm\u001b[0m\u001b[0;34m.\u001b[0m\u001b[0mfs\u001b[0m\u001b[0;34m,\u001b[0m \u001b[0munit_process_name\u001b[0m\u001b[0;34m,\u001b[0m \u001b[0mup_module\u001b[0m\u001b[0;34m.\u001b[0m\u001b[0mUnitProcess\u001b[0m\u001b[0;34m(\u001b[0m\u001b[0mdefault\u001b[0m\u001b[0;34m=\u001b[0m\u001b[0;34m{\u001b[0m\u001b[0;34m\"property_package\"\u001b[0m\u001b[0;34m:\u001b[0m \u001b[0mm\u001b[0m\u001b[0;34m.\u001b[0m\u001b[0mfs\u001b[0m\u001b[0;34m.\u001b[0m\u001b[0mwater\u001b[0m\u001b[0;34m}\u001b[0m\u001b[0;34m)\u001b[0m\u001b[0;34m)\u001b[0m\u001b[0;34m\u001b[0m\u001b[0;34m\u001b[0m\u001b[0m\n\u001b[0m\u001b[1;32m     42\u001b[0m         \u001b[0mm\u001b[0m \u001b[0;34m=\u001b[0m \u001b[0mconstituent_removal_water_recovery\u001b[0m\u001b[0;34m.\u001b[0m\u001b[0mcreate\u001b[0m\u001b[0;34m(\u001b[0m\u001b[0mm\u001b[0m\u001b[0;34m,\u001b[0m \u001b[0munit_process_type\u001b[0m\u001b[0;34m,\u001b[0m \u001b[0munit_process_name\u001b[0m\u001b[0;34m)\u001b[0m\u001b[0;34m\u001b[0m\u001b[0;34m\u001b[0m\u001b[0m\n\u001b[1;32m     43\u001b[0m \u001b[0;34m\u001b[0m\u001b[0m\n",
      "\u001b[0;32m~/miniconda3/envs/tap-idaes3/lib/python3.7/site-packages/pyomo/core/base/block.py\u001b[0m in \u001b[0;36m__setattr__\u001b[0;34m(self, name, val)\u001b[0m\n\u001b[1;32m    541\u001b[0m                 \u001b[0;31m# Pyomo components are added with the add_component method.\u001b[0m\u001b[0;34m\u001b[0m\u001b[0;34m\u001b[0m\u001b[0;34m\u001b[0m\u001b[0m\n\u001b[1;32m    542\u001b[0m                 \u001b[0;31m#\u001b[0m\u001b[0;34m\u001b[0m\u001b[0;34m\u001b[0m\u001b[0;34m\u001b[0m\u001b[0m\n\u001b[0;32m--> 543\u001b[0;31m                 \u001b[0mself\u001b[0m\u001b[0;34m.\u001b[0m\u001b[0madd_component\u001b[0m\u001b[0;34m(\u001b[0m\u001b[0mname\u001b[0m\u001b[0;34m,\u001b[0m \u001b[0mval\u001b[0m\u001b[0;34m)\u001b[0m\u001b[0;34m\u001b[0m\u001b[0;34m\u001b[0m\u001b[0m\n\u001b[0m\u001b[1;32m    544\u001b[0m             \u001b[0;32melse\u001b[0m\u001b[0;34m:\u001b[0m\u001b[0;34m\u001b[0m\u001b[0;34m\u001b[0m\u001b[0m\n\u001b[1;32m    545\u001b[0m                 \u001b[0;31m#\u001b[0m\u001b[0;34m\u001b[0m\u001b[0;34m\u001b[0m\u001b[0;34m\u001b[0m\u001b[0m\n",
      "\u001b[0;32m~/miniconda3/envs/tap-idaes3/lib/python3.7/site-packages/pyomo/core/base/block.py\u001b[0m in \u001b[0;36madd_component\u001b[0;34m(self, name, val)\u001b[0m\n\u001b[1;32m   1079\u001b[0m                              _blockName, str(data))\n\u001b[1;32m   1080\u001b[0m             \u001b[0;32mtry\u001b[0m\u001b[0;34m:\u001b[0m\u001b[0;34m\u001b[0m\u001b[0;34m\u001b[0m\u001b[0m\n\u001b[0;32m-> 1081\u001b[0;31m                 \u001b[0mval\u001b[0m\u001b[0;34m.\u001b[0m\u001b[0mconstruct\u001b[0m\u001b[0;34m(\u001b[0m\u001b[0mdata\u001b[0m\u001b[0;34m)\u001b[0m\u001b[0;34m\u001b[0m\u001b[0;34m\u001b[0m\u001b[0m\n\u001b[0m\u001b[1;32m   1082\u001b[0m             \u001b[0;32mexcept\u001b[0m\u001b[0;34m:\u001b[0m\u001b[0;34m\u001b[0m\u001b[0;34m\u001b[0m\u001b[0m\n\u001b[1;32m   1083\u001b[0m                 \u001b[0merr\u001b[0m \u001b[0;34m=\u001b[0m \u001b[0msys\u001b[0m\u001b[0;34m.\u001b[0m\u001b[0mexc_info\u001b[0m\u001b[0;34m(\u001b[0m\u001b[0;34m)\u001b[0m\u001b[0;34m[\u001b[0m\u001b[0;36m1\u001b[0m\u001b[0;34m]\u001b[0m\u001b[0;34m\u001b[0m\u001b[0;34m\u001b[0m\u001b[0m\n",
      "\u001b[0;32m~/miniconda3/envs/tap-idaes3/lib/python3.7/site-packages/pyomo/core/base/block.py\u001b[0m in \u001b[0;36mconstruct\u001b[0;34m(self, data)\u001b[0m\n\u001b[1;32m   1939\u001b[0m                 \u001b[0;32mif\u001b[0m \u001b[0mself\u001b[0m\u001b[0;34m.\u001b[0m\u001b[0m_rule\u001b[0m \u001b[0;32mis\u001b[0m \u001b[0;32mnot\u001b[0m \u001b[0;32mNone\u001b[0m\u001b[0;34m:\u001b[0m\u001b[0;34m\u001b[0m\u001b[0;34m\u001b[0m\u001b[0m\n\u001b[1;32m   1940\u001b[0m                     obj = apply_indexed_rule(\n\u001b[0;32m-> 1941\u001b[0;31m                         self, self._rule, _block, _idx, self._options)\n\u001b[0m\u001b[1;32m   1942\u001b[0m                     \u001b[0;32mif\u001b[0m \u001b[0mobj\u001b[0m \u001b[0;32mis\u001b[0m \u001b[0;32mnot\u001b[0m \u001b[0m_block\u001b[0m \u001b[0;32mand\u001b[0m \u001b[0misinstance\u001b[0m\u001b[0;34m(\u001b[0m\u001b[0mobj\u001b[0m\u001b[0;34m,\u001b[0m \u001b[0m_BlockData\u001b[0m\u001b[0;34m)\u001b[0m\u001b[0;34m:\u001b[0m\u001b[0;34m\u001b[0m\u001b[0;34m\u001b[0m\u001b[0m\n\u001b[1;32m   1943\u001b[0m                         \u001b[0;31m# If the user returns a block, transfer over\u001b[0m\u001b[0;34m\u001b[0m\u001b[0;34m\u001b[0m\u001b[0;34m\u001b[0m\u001b[0m\n",
      "\u001b[0;32m~/miniconda3/envs/tap-idaes3/lib/python3.7/site-packages/pyomo/core/base/misc.py\u001b[0m in \u001b[0;36mapply_indexed_rule\u001b[0;34m(obj, rule, model, index, options)\u001b[0m\n\u001b[1;32m     57\u001b[0m                 \u001b[0;32mreturn\u001b[0m \u001b[0mrule\u001b[0m\u001b[0;34m(\u001b[0m\u001b[0mmodel\u001b[0m\u001b[0;34m,\u001b[0m \u001b[0;34m*\u001b[0m\u001b[0mindex\u001b[0m\u001b[0;34m)\u001b[0m\u001b[0;34m\u001b[0m\u001b[0;34m\u001b[0m\u001b[0m\n\u001b[1;32m     58\u001b[0m             \u001b[0;32melif\u001b[0m \u001b[0mindex\u001b[0m \u001b[0;32mis\u001b[0m \u001b[0;32mNone\u001b[0m \u001b[0;32mand\u001b[0m \u001b[0;32mnot\u001b[0m \u001b[0mobj\u001b[0m\u001b[0;34m.\u001b[0m\u001b[0mis_indexed\u001b[0m\u001b[0;34m(\u001b[0m\u001b[0;34m)\u001b[0m\u001b[0;34m:\u001b[0m\u001b[0;34m\u001b[0m\u001b[0;34m\u001b[0m\u001b[0m\n\u001b[0;32m---> 59\u001b[0;31m                 \u001b[0;32mreturn\u001b[0m \u001b[0mrule\u001b[0m\u001b[0;34m(\u001b[0m\u001b[0mmodel\u001b[0m\u001b[0;34m)\u001b[0m\u001b[0;34m\u001b[0m\u001b[0;34m\u001b[0m\u001b[0m\n\u001b[0m\u001b[1;32m     60\u001b[0m             \u001b[0;32melse\u001b[0m\u001b[0;34m:\u001b[0m\u001b[0;34m\u001b[0m\u001b[0;34m\u001b[0m\u001b[0m\n\u001b[1;32m     61\u001b[0m                 \u001b[0;32mreturn\u001b[0m \u001b[0mrule\u001b[0m\u001b[0;34m(\u001b[0m\u001b[0mmodel\u001b[0m\u001b[0;34m,\u001b[0m \u001b[0mindex\u001b[0m\u001b[0;34m)\u001b[0m\u001b[0;34m\u001b[0m\u001b[0;34m\u001b[0m\u001b[0m\n",
      "\u001b[0;32m~/miniconda3/envs/tap-idaes3/lib/python3.7/site-packages/idaes/core/process_block.py\u001b[0m in \u001b[0;36m_rule_default\u001b[0;34m(b, *args)\u001b[0m\n\u001b[1;32m     35\u001b[0m     \"\"\"\n\u001b[1;32m     36\u001b[0m     \u001b[0;32mtry\u001b[0m\u001b[0;34m:\u001b[0m\u001b[0;34m\u001b[0m\u001b[0;34m\u001b[0m\u001b[0m\n\u001b[0;32m---> 37\u001b[0;31m         \u001b[0mb\u001b[0m\u001b[0;34m.\u001b[0m\u001b[0mbuild\u001b[0m\u001b[0;34m(\u001b[0m\u001b[0;34m)\u001b[0m\u001b[0;34m\u001b[0m\u001b[0;34m\u001b[0m\u001b[0m\n\u001b[0m\u001b[1;32m     38\u001b[0m     \u001b[0;32mexcept\u001b[0m \u001b[0mException\u001b[0m\u001b[0;34m:\u001b[0m\u001b[0;34m\u001b[0m\u001b[0;34m\u001b[0m\u001b[0m\n\u001b[1;32m     39\u001b[0m         logging.getLogger(__name__).exception(\n",
      "\u001b[0;32m~/NAWI/WaterTap/NAWI-WaterTAP3/IDAES-WaterTAP3_v2/sw_onshore_intake.py\u001b[0m in \u001b[0;36mbuild\u001b[0;34m(self)\u001b[0m\n\u001b[1;32m    111\u001b[0m     \u001b[0;32mdef\u001b[0m \u001b[0mbuild\u001b[0m\u001b[0;34m(\u001b[0m\u001b[0mself\u001b[0m\u001b[0;34m)\u001b[0m\u001b[0;34m:\u001b[0m\u001b[0;34m\u001b[0m\u001b[0;34m\u001b[0m\u001b[0m\n\u001b[1;32m    112\u001b[0m         \u001b[0;32mimport\u001b[0m \u001b[0munit_process_equations\u001b[0m\u001b[0;34m\u001b[0m\u001b[0;34m\u001b[0m\u001b[0m\n\u001b[0;32m--> 113\u001b[0;31m         \u001b[0;32mreturn\u001b[0m \u001b[0munit_process_equations\u001b[0m\u001b[0;34m.\u001b[0m\u001b[0mbuild_up\u001b[0m\u001b[0;34m(\u001b[0m\u001b[0mself\u001b[0m\u001b[0;34m,\u001b[0m \u001b[0mup_name_test\u001b[0m \u001b[0;34m=\u001b[0m \u001b[0mmodule_name\u001b[0m\u001b[0;34m)\u001b[0m\u001b[0;34m\u001b[0m\u001b[0;34m\u001b[0m\u001b[0m\n\u001b[0m\u001b[1;32m    114\u001b[0m \u001b[0;34m\u001b[0m\u001b[0m\n\u001b[1;32m    115\u001b[0m \u001b[0;34m\u001b[0m\u001b[0m\n",
      "\u001b[0;32m~/NAWI/WaterTap/NAWI-WaterTAP3/IDAES-WaterTAP3_v2/unit_process_equations.py\u001b[0m in \u001b[0;36mbuild_up\u001b[0;34m(self, up_name_test)\u001b[0m\n\u001b[1;32m    124\u001b[0m                            doc=\"Volumetric flowrate of water into unit\")\n\u001b[1;32m    125\u001b[0m     self.conc_mass_in = Var(time,\n\u001b[0;32m--> 126\u001b[0;31m                             \u001b[0mself\u001b[0m\u001b[0;34m.\u001b[0m\u001b[0mconfig\u001b[0m\u001b[0;34m.\u001b[0m\u001b[0mproperty_package\u001b[0m\u001b[0;34m.\u001b[0m\u001b[0mcomponent_list\u001b[0m\u001b[0;34m,\u001b[0m\u001b[0;34m\u001b[0m\u001b[0;34m\u001b[0m\u001b[0m\n\u001b[0m\u001b[1;32m    127\u001b[0m                             \u001b[0minitialize\u001b[0m\u001b[0;34m=\u001b[0m\u001b[0;36m1e-5\u001b[0m\u001b[0;34m,\u001b[0m\u001b[0;34m\u001b[0m\u001b[0;34m\u001b[0m\u001b[0m\n\u001b[1;32m    128\u001b[0m                             \u001b[0mdomain\u001b[0m\u001b[0;34m=\u001b[0m\u001b[0mNonNegativeReals\u001b[0m\u001b[0;34m,\u001b[0m\u001b[0;34m\u001b[0m\u001b[0;34m\u001b[0m\u001b[0m\n",
      "\u001b[0;32m~/miniconda3/envs/tap-idaes3/lib/python3.7/site-packages/pyomo/core/base/block.py\u001b[0m in \u001b[0;36m__getattr__\u001b[0;34m(self, val)\u001b[0m\n\u001b[1;32m    522\u001b[0m         \u001b[0;31m# throw the \"normal\" AttributeError\u001b[0m\u001b[0;34m\u001b[0m\u001b[0;34m\u001b[0m\u001b[0;34m\u001b[0m\u001b[0m\n\u001b[1;32m    523\u001b[0m         raise AttributeError(\"'%s' object has no attribute '%s'\"\n\u001b[0;32m--> 524\u001b[0;31m                              % (self.__class__.__name__, val))\n\u001b[0m\u001b[1;32m    525\u001b[0m \u001b[0;34m\u001b[0m\u001b[0m\n\u001b[1;32m    526\u001b[0m     \u001b[0;32mdef\u001b[0m \u001b[0m__setattr__\u001b[0m\u001b[0;34m(\u001b[0m\u001b[0mself\u001b[0m\u001b[0;34m,\u001b[0m \u001b[0mname\u001b[0m\u001b[0;34m,\u001b[0m \u001b[0mval\u001b[0m\u001b[0;34m)\u001b[0m\u001b[0;34m:\u001b[0m\u001b[0;34m\u001b[0m\u001b[0;34m\u001b[0m\u001b[0m\n",
      "\u001b[0;31mAttributeError\u001b[0m: '_ScalarWaterParameterBlock' object has no attribute 'component_list'"
     ]
    }
   ],
   "source": [
    "import watertap as wt\n",
    "import pandas as pd\n",
    "from pyomo.environ import value, Block\n",
    "from idaes.core import FlowsheetBlock\n",
    "import numpy as np\n",
    "from case_study_trains import *\n",
    "import case_study_trains\n",
    "import pyomo.environ as env\n",
    "\n",
    "m = wt.watertap_setup(dynamic = False)\n",
    "\n",
    "\n",
    "wt.case_study_trains.train = {\"case_study\": \"hrsd\",\n",
    "                             \"reference\": \"nawi\",\n",
    "                             \"scenario\": \"baseline\"}\n",
    "\n",
    "\n",
    "wt.case_study_trains.source_water = {\"case_study\": \"hrsd\", \n",
    "                             \"reference\": \"nawi\",\n",
    "                             \"scenario\": \"baseline\",\n",
    "                             \"water_type\": \"hrsd_municipal\"}\n",
    "\n",
    "m = wt.case_study_trains.get_case_study(m=m) # flow is set as case study flow unless defined.\n"
   ]
  },
  {
   "cell_type": "code",
   "execution_count": null,
   "metadata": {},
   "outputs": [],
   "source": []
  },
  {
   "cell_type": "code",
   "execution_count": null,
   "metadata": {},
   "outputs": [],
   "source": []
  },
  {
   "cell_type": "code",
   "execution_count": null,
   "metadata": {},
   "outputs": [],
   "source": []
  },
  {
   "cell_type": "code",
   "execution_count": null,
   "metadata": {},
   "outputs": [],
   "source": []
  },
  {
   "cell_type": "code",
   "execution_count": null,
   "metadata": {},
   "outputs": [],
   "source": []
  },
  {
   "cell_type": "code",
   "execution_count": null,
   "metadata": {
    "scrolled": false
   },
   "outputs": [],
   "source": [
    "wt.display.show_train2(model_name=m)"
   ]
  },
  {
   "cell_type": "code",
   "execution_count": 8,
   "metadata": {},
   "outputs": [],
   "source": [
    "#m.fs.emwd_ca_brackish.flow_vol_in.fix(4)"
   ]
  },
  {
   "cell_type": "code",
   "execution_count": 9,
   "metadata": {},
   "outputs": [],
   "source": [
    "# RUN MODEL with optimal ro so that the model solves. Then runs again with set pressure. "
   ]
  },
  {
   "cell_type": "code",
   "execution_count": 10,
   "metadata": {
    "scrolled": true
   },
   "outputs": [
    {
     "name": "stdout",
     "output_type": "stream",
     "text": [
      "initial inflow to train is relatively small (< 1 m3/s). running model with dummy flows to initialize.\n",
      "degrees_of_freedom: 0\n",
      "WaterTAP3 solution optimal\n",
      "model finished running to initialize conditions. now running with actual inflows.\n",
      "degrees_of_freedom: 0\n",
      "WaterTAP3 solution optimal\n",
      "optimal ro area and pressures:\n",
      "degrees_of_freedom: 0\n",
      "WaterTAP3 solution optimal\n",
      "----------------------------------------------------------------------\n",
      "----------------------------------------------------------------------\n",
      "fs.onsite_storage\n",
      "inlet : Size=1\n",
      "    Key  : Name        : Value\n",
      "    None :   conc_mass : {(0.0, 'bromide'): 1.0000814394758304e-06, (0.0, 'calcium'): 0.08045, (0.0, 'chloride'): 0.29792, (0.0, 'fluoride'): 0.0009700000735471936, (0.0, 'magnesium'): 0.02701, (0.0, 'potassium'): 0.01897, (0.0, 'silicon'): 0.02104, (0.0, 'sodium'): 0.23158, (0.0, 'sulfate'): 0.18825, (0.0, 'tds'): 0.98555}\n",
      "         :    flow_vol : {0.0: 0.075}\n",
      "         :    pressure : {0.0: 1.0}\n",
      "         : temperature : {0.0: 300.0}\n",
      "outlet : Size=1\n",
      "    Key  : Name        : Value\n",
      "    None :   conc_mass : {(0.0, 'bromide'): 1.000171448478361e-06, (0.0, 'calcium'): 0.08045724122412236, (0.0, 'chloride'): 0.2979468154815481, (0.0, 'fluoride'): 0.0009700873822773577, (0.0, 'magnesium'): 0.027012431143114225, (0.0, 'potassium'): 0.018971707470746974, (0.0, 'silicon'): 0.021041893789378846, (0.0, 'sodium'): 0.23160084428442837, (0.0, 'sulfate'): 0.18826694419441942, (0.0, 'tds'): 0.985638708370837}\n",
      "         :    flow_vol : {0.0: 0.0749925}\n",
      "         :    pressure : {0.0: 1.0001}\n",
      "         : temperature : {0.0: 300.0}\n",
      "waste : Size=1\n",
      "    Key  : Name        : Value\n",
      "    None :   conc_mass : {(0.0, 'bromide'): 1.1357512118344943e-05, (0.0, 'calcium'): 0.008047200856577879, (0.0, 'chloride'): 0.029792011800974235, (0.0, 'fluoride'): 0.00010814842562604891, (0.0, 'magnesium'): 0.002709216937226272, (0.0, 'potassium'): 0.001906122051156157, (0.0, 'silicon'): 0.002112889018092119, (0.0, 'sodium'): 0.023158014970287157, (0.0, 'sulfate'): 0.018825018469470996, (0.0, 'tds'): 0.09855500411660073}\n",
      "         :    flow_vol : {0.0: 7.5000813865284465e-06}\n",
      "         :    pressure : {0.0: 1.0001}\n",
      "         : temperature : {0.0: 300.0}\n",
      "total_cap_investment: 3.715939726563809\n",
      "----------------------------------------------------------------------\n",
      "----------------------------------------------------------------------\n",
      "fs.microfiltration\n",
      "inlet : Size=1\n",
      "    Key  : Name        : Value\n",
      "    None :   conc_mass : {(0.0, 'bromide'): 1.000171448478361e-06, (0.0, 'calcium'): 0.08045724122412236, (0.0, 'chloride'): 0.2979468154815481, (0.0, 'fluoride'): 0.0009700873822773577, (0.0, 'magnesium'): 0.027012431143114225, (0.0, 'potassium'): 0.018971707470746974, (0.0, 'silicon'): 0.021041893789378846, (0.0, 'sodium'): 0.23160084428442837, (0.0, 'sulfate'): 0.18826694419441942, (0.0, 'tds'): 0.985638708370837}\n",
      "         :    flow_vol : {0.0: 0.0749925}\n",
      "         :    pressure : {0.0: 1.0001}\n",
      "         : temperature : {0.0: 300.0}\n",
      "outlet : Size=1\n",
      "    Key  : Name        : Value\n",
      "    None :   conc_mass : {(0.0, 'bromide'): 1.0527972370497131e-06, (0.0, 'calcium'): 0.0846909859491685, (0.0, 'chloride'): 0.31362509054041404, (0.0, 'fluoride'): 0.0010211343971915454, (0.0, 'magnesium'): 0.028433853704002865, (0.0, 'potassium'): 0.019970018688075974, (0.0, 'silicon'): 0.022149140389937757, (0.0, 'sodium'): 0.2437879245010374, (0.0, 'sulfate'): 0.19817374897366047, (0.0, 'tds'): 1.0375040547197405}\n",
      "         :    flow_vol : {0.0: 0.071242875}\n",
      "         :    pressure : {0.0: 1.0002}\n",
      "         : temperature : {0.0: 300.0}\n",
      "waste : Size=1\n",
      "    Key  : Name        : Value\n",
      "    None :   conc_mass : {(0.0, 'bromide'): 1.4197064928073194e-08, (0.0, 'calcium'): 1.6105422768732107e-05, (0.0, 'chloride'): 5.960327673591956e-05, (0.0, 'fluoride'): 2.080142373849854e-07, (0.0, 'magnesium'): 5.416475713936055e-06, (0.0, 'potassium'): 3.808333230392637e-06, (0.0, 'silicon'): 4.222369914588517e-06, (0.0, 'sodium'): 4.633410106946802e-05, (0.0, 'sulfate'): 3.7667333182411264e-05, (0.0, 'tds'): 0.00019714146280046688}\n",
      "         :    flow_vol : {0.0: 0.003749625050907792}\n",
      "         :    pressure : {0.0: 1.0002}\n",
      "         : temperature : {0.0: 300.0}\n",
      "total_cap_investment: 4.883752574618745\n",
      "----------------------------------------------------------------------\n",
      "----------------------------------------------------------------------\n",
      "fs.reverse_osmosis\n",
      "inlet : Size=1\n",
      "    Key  : Name        : Value\n",
      "    None :   conc_mass : {(0.0, 'bromide'): 1.0527972370497131e-06, (0.0, 'calcium'): 0.0846909859491685, (0.0, 'chloride'): 0.31362509054041404, (0.0, 'fluoride'): 0.0010211343971915454, (0.0, 'magnesium'): 0.028433853704002865, (0.0, 'potassium'): 0.019970018688075974, (0.0, 'silicon'): 0.022149140389937757, (0.0, 'sodium'): 0.2437879245010374, (0.0, 'sulfate'): 0.19817374897366047, (0.0, 'tds'): 1.0375040547197405}\n",
      "         :    flow_vol : {0.0: 0.053432156249999994}\n",
      "         :    pressure : {0.0: 1.0002}\n",
      "         : temperature : {0.0: 300.0}\n",
      "outlet : Size=1\n",
      "    Key  : Name        : Value\n",
      "    None :   conc_mass : {(0.0, 'bromide'): 2.8806008309070513e-08, (0.0, 'calcium'): 0.0023108909886234586, (0.0, 'chloride'): 0.008557621200973066, (0.0, 'fluoride'): 2.7862905312888015e-05, (0.0, 'magnesium'): 0.0007758504655721586, (0.0, 'potassium'): 0.0005449049976580069, (0.0, 'silicon'): 0.0006043648382776985, (0.0, 'sodium'): 0.0066520338450744175, (0.0, 'sulfate'): 0.005407398630556988, (0.0, 'tds'): 0.19423612857570793}\n",
      "         :    flow_vol : {0.0: 0.05268213871381102}\n",
      "         :    pressure : {0.0: 1.0}\n",
      "         : temperature : {0.0: 300.0}\n",
      "waste : Size=1\n",
      "    Key  : Name        : Value\n",
      "    None :   conc_mass : {(0.0, 'bromide'): 7.308240571324398e-05, (0.0, 'calcium'): 5.871168479948307, (0.0, 'chloride'): 21.741933045969727, (0.0, 'fluoride'): 0.07078972551735549, (0.0, 'magnesium'): 1.971165452361371, (0.0, 'potassium'): 1.3844134998547255, (0.0, 'silicon'): 1.5354802338960793, (0.0, 'sodium'): 16.90049964683617, (0.0, 'sulfate'): 13.738315305798023, (0.0, 'tds'): 60.26966292364869}\n",
      "         :    flow_vol : {0.0: 0.0007500176115278743}\n",
      "         :    pressure : {0.0: 82.0}\n",
      "         : temperature : {0.0: 300.0}\n",
      "total_cap_investment: 14.239653196935084\n",
      "----------------------------------------------------------------------\n",
      "----------------------------------------------------------------------\n",
      "fs.uv_aop\n",
      "inlet : Size=1\n",
      "    Key  : Name        : Value\n",
      "    None :   conc_mass : {(0.0, 'bromide'): 2.8752753604582553e-07, (0.0, 'calcium'): 0.023125038001950787, (0.0, 'chloride'): 0.08563593936036275, (0.0, 'fluoride'): 0.00027882278721759956, (0.0, 'magnesium'): 0.0077639189297435615, (0.0, 'potassium'): 0.005452852378825408, (0.0, 'silicon'): 0.0060478657818603095, (0.0, 'sodium'): 0.06656676569908968, (0.0, 'sulfate'): 0.054111726586292576, (0.0, 'tds'): 0.4072961236419819}\n",
      "         :    flow_vol : {0.0: 0.07049285746381102}\n",
      "         :    pressure : {0.0: 1.0001}\n",
      "         : temperature : {0.0: 300.0}\n",
      "outlet : Size=1\n",
      "    Key  : Name        : Value\n",
      "    None :   conc_mass : {(0.0, 'bromide'): 2.8755340878376274e-07, (0.0, 'calcium'): 0.02312711946351702, (0.0, 'chloride'): 0.08564364736570566, (0.0, 'fluoride'): 0.0002788478837707768, (0.0, 'magnesium'): 0.007764617752322167, (0.0, 'potassium'): 0.005453343184612751, (0.0, 'silicon'): 0.0060484101442095815, (0.0, 'sodium'): 0.06657275730716335, (0.0, 'sulfate'): 0.05411659712873953, (0.0, 'tds'): 0.4073327839591414}\n",
      "         :    flow_vol : {0.0: 0.07048580817806464}\n",
      "         :    pressure : {0.0: 1.0002}\n",
      "         : temperature : {0.0: 300.0}\n",
      "waste : Size=1\n",
      "    Key  : Name        : Value\n",
      "    None :   conc_mass : {(0.0, 'bromide'): 1.2014635053078995e-05, (0.0, 'calcium'): 0.0023217179726334677, (0.0, 'chloride'): 0.008565315591293823, (0.0, 'fluoride'): 3.983477618740546e-05, (0.0, 'magnesium'): 0.0007874472376299749, (0.0, 'potassium'): 0.000556617583636186, (0.0, 'silicon'): 0.0006160476064927963, (0.0, 'sodium'): 0.006660683844285368, (0.0, 'sulfate'): 0.0054166727861322764, (0.0, 'tds'): 0.04072962325615048}\n",
      "         :    flow_vol : {0.0: 7.049367136585758e-06}\n",
      "         :    pressure : {0.0: 1.0002}\n",
      "         : temperature : {0.0: 300.0}\n",
      "total_cap_investment: 3.91267041643153\n",
      "----------------------------------------------------------------------\n",
      "----------------------------------------------------------------------\n",
      "fs.treated_storage\n",
      "inlet : Size=1\n",
      "    Key  : Name        : Value\n",
      "    None :   conc_mass : {(0.0, 'bromide'): 2.8755340878376274e-07, (0.0, 'calcium'): 0.02312711946351702, (0.0, 'chloride'): 0.08564364736570566, (0.0, 'fluoride'): 0.0002788478837707768, (0.0, 'magnesium'): 0.007764617752322167, (0.0, 'potassium'): 0.005453343184612751, (0.0, 'silicon'): 0.0060484101442095815, (0.0, 'sodium'): 0.06657275730716335, (0.0, 'sulfate'): 0.05411659712873953, (0.0, 'tds'): 0.4073327839591414}\n",
      "         :    flow_vol : {0.0: 0.07048580817806464}\n",
      "         :    pressure : {0.0: 1.0002}\n",
      "         : temperature : {0.0: 300.0}\n",
      "outlet : Size=1\n",
      "    Key  : Name        : Value\n",
      "    None :   conc_mass : {(0.0, 'bromide'): 2.875792838504797e-07, (0.0, 'calcium'): 0.023129201112433533, (0.0, 'chloride'): 0.08565135606483847, (0.0, 'fluoride'): 0.0002788729825828697, (0.0, 'magnesium'): 0.007765316637801093, (0.0, 'potassium'): 0.005453834034577034, (0.0, 'silicon'): 0.006048954555556366, (0.0, 'sodium'): 0.06657874945453568, (0.0, 'sulfate'): 0.05412146810957914, (0.0, 'tds'): 0.4073694475760594}\n",
      "         :    flow_vol : {0.0: 0.07047875959724684}\n",
      "         :    pressure : {0.0: 1.0003}\n",
      "         : temperature : {0.0: 300.0}\n",
      "waste : Size=1\n",
      "    Key  : Name        : Value\n",
      "    None :   conc_mass : {(0.0, 'bromide'): 1.2015850418379583e-05, (0.0, 'calcium'): 0.0023219268016093616, (0.0, 'chloride'): 0.008566085642061108, (0.0, 'fluoride'): 3.983849223747056e-05, (0.0, 'magnesium'): 0.0007875181547443153, (0.0, 'potassium'): 0.0005566677520348286, (0.0, 'silicon'): 0.0006161031169115252, (0.0, 'sodium'): 0.006661282692341286, (0.0, 'sulfate'): 0.005417159813062426, (0.0, 'tds'): 0.040733289300415546}\n",
      "         :    flow_vol : {0.0: 7.048662208017647e-06}\n",
      "         :    pressure : {0.0: 1.0003}\n",
      "         : temperature : {0.0: 300.0}\n",
      "total_cap_investment: 1.1261464680037288\n",
      "----------------------------------------------------------------------\n",
      "----------------------------------------------------------------------\n",
      "fs.municipal_drinking\n",
      "inlet : Size=1\n",
      "    Key  : Name        : Value\n",
      "    None :   conc_mass : {(0.0, 'bromide'): 2.875792838504797e-07, (0.0, 'calcium'): 0.023129201112433533, (0.0, 'chloride'): 0.08565135606483847, (0.0, 'fluoride'): 0.0002788729825828697, (0.0, 'magnesium'): 0.007765316637801093, (0.0, 'potassium'): 0.005453834034577034, (0.0, 'silicon'): 0.006048954555556366, (0.0, 'sodium'): 0.06657874945453568, (0.0, 'sulfate'): 0.05412146810957914, (0.0, 'tds'): 0.4073694475760594}\n",
      "         :    flow_vol : {0.0: 0.07047875959724684}\n",
      "         :    pressure : {0.0: 1.0003}\n",
      "         : temperature : {0.0: 300.0}\n",
      "outlet : Size=1\n",
      "    Key  : Name        : Value\n",
      "    None :   conc_mass : {(0.0, 'bromide'): 2.8760516124619477e-07, (0.0, 'calcium'): 0.023131282948717184, (0.0, 'chloride'): 0.08565906545782355, (0.0, 'fluoride'): 0.0002788980836540817, (0.0, 'magnesium'): 0.007766015586186003, (0.0, 'potassium'): 0.005454324928722231, (0.0, 'silicon'): 0.006049499015905071, (0.0, 'sodium'): 0.0665847421412552, (0.0, 'sulfate'): 0.054126339528850875, (0.0, 'tds'): 0.4074061144930329}\n",
      "         :    flow_vol : {0.0: 0.07047171172128712}\n",
      "         :    pressure : {0.0: 1.0004}\n",
      "         : temperature : {0.0: 300.0}\n",
      "waste : Size=1\n",
      "    Key  : Name        : Value\n",
      "    None :   conc_mass : {(0.0, 'bromide'): 1.2017065910014876e-05, (0.0, 'calcium'): 0.002322135649346714, (0.0, 'chloride'): 0.00856685576196438, (0.0, 'fluoride'): 3.9842208638329706e-05, (0.0, 'magnesium'): 0.0007875890782413275, (0.0, 'potassium'): 0.0005567179249537659, (0.0, 'silicon'): 0.0006161586323300415, (0.0, 'sodium'): 0.006661881594166262, (0.0, 'sulfate'): 0.005417646883724716, (0.0, 'tds'): 0.04073695554177814}\n",
      "         :    flow_vol : {0.0: 7.047957349934939e-06}\n",
      "         :    pressure : {0.0: 1.0004}\n",
      "         : temperature : {0.0: 300.0}\n",
      "total_cap_investment: 0.21743261019785548\n",
      "----------------------------------------------------------------------\n",
      "----------------------------------------------------------------------\n",
      "fs.surface_discharge\n",
      "inlet : Size=1\n",
      "    Key  : Name        : Value\n",
      "    None :   conc_mass : {(0.0, 'bromide'): 1.2192927354942574e-05, (0.0, 'calcium'): 0.9755927560493797, (0.0, 'chloride'): 3.6127853726178185, (0.0, 'fluoride'): 0.011762944268606126, (0.0, 'magnesium'): 0.32754211260611554, (0.0, 'potassium'): 0.23004347538100883, (0.0, 'silicon'): 0.25514573645769917, (0.0, 'sodium'): 2.8083003485542575, (0.0, 'sulfate'): 2.282850603412919, (0.0, 'tds'): 10.01489086484785}\n",
      "         :    flow_vol : {0.0: 0.004513740447437489}\n",
      "         :    pressure : {0.0: 21.250175000000002}\n",
      "         : temperature : {0.0: 300.0}\n",
      "outlet : Size=1\n",
      "    Key  : Name        : Value\n",
      "    None :   conc_mass : {(0.0, 'bromide'): 1.2194025754242897e-05, (0.0, 'calcium'): 0.9756805681785053, (0.0, 'chloride'): 3.613110555819426, (0.0, 'fluoride'): 0.01176400303839532, (0.0, 'magnesium'): 0.32757159434418864, (0.0, 'potassium'): 0.23006418136406412, (0.0, 'silicon'): 0.2551687018702247, (0.0, 'sodium'): 2.8085531208626575, (0.0, 'sulfate'): 2.2830560805147635, (0.0, 'tds'): 10.01579229516806}\n",
      "         :    flow_vol : {0.0: 0.004513289073400809}\n",
      "         :    pressure : {0.0: 21.250275000000002}\n",
      "         : temperature : {0.0: 300.0}\n",
      "waste : Size=1\n",
      "    Key  : Name        : Value\n",
      "    None :   conc_mass : {(0.0, 'bromide'): 0.00021720267984881667, (0.0, 'calcium'): 0.0975775488586543, (0.0, 'chloride'): 0.36129188127986506, (0.0, 'fluoride'): 0.0013853535081455644, (0.0, 'magnesium'): 0.032798811127139865, (0.0, 'potassium'): 0.023067584837204055, (0.0, 'silicon'): 0.025571712172478514, (0.0, 'sodium'): 0.28084268337152724, (0.0, 'sulfate'): 0.22829772827920286, (0.0, 'tds'): 1.0015151928447545}\n",
      "         :    flow_vol : {0.0: 4.5145548421983525e-07}\n",
      "         :    pressure : {0.0: 21.250275000000002}\n",
      "         : temperature : {0.0: 300.0}\n",
      "total_cap_investment: 0.13168235189712482\n",
      "----------------------------------------------------------------------\n",
      "----------------------------------------------------------------------\n",
      "fs.big_spring_feed\n",
      "inlet : Size=1\n",
      "    Key  : Name        : Value\n",
      "    None :   conc_mass : {(0.0, 'bromide'): 1e-06, (0.0, 'calcium'): 0.08045, (0.0, 'chloride'): 0.29792, (0.0, 'fluoride'): 0.00097, (0.0, 'magnesium'): 0.02701, (0.0, 'potassium'): 0.01897, (0.0, 'silicon'): 0.02104, (0.0, 'sodium'): 0.23158, (0.0, 'sulfate'): 0.18825, (0.0, 'tds'): 0.98555}\n",
      "         :    flow_vol : {0.0: 0.075}\n",
      "         :    pressure : {0.0: 1}\n",
      "         : temperature : {0.0: 300}\n",
      "outlet : Size=1\n",
      "    Key  : Name        : Value\n",
      "    None :   conc_mass : {(0.0, 'bromide'): 1.0000814394758304e-06, (0.0, 'calcium'): 0.08045, (0.0, 'chloride'): 0.29792, (0.0, 'fluoride'): 0.0009700000735471936, (0.0, 'magnesium'): 0.02701, (0.0, 'potassium'): 0.01897, (0.0, 'silicon'): 0.02104, (0.0, 'sodium'): 0.23158, (0.0, 'sulfate'): 0.18825, (0.0, 'tds'): 0.98555}\n",
      "         :    flow_vol : {0.0: 0.075}\n",
      "         :    pressure : {0.0: 1.0}\n",
      "         : temperature : {0.0: 300.0}\n",
      "----------------------------------------------------------------------\n",
      "fs.mixer1\n",
      "inlet1 : Size=1\n",
      "    Key  : Name        : Value\n",
      "    None :   conc_mass : {(0.0, 'bromide'): 1.0527157979291716e-06, (0.0, 'calcium'): 0.0846909859491685, (0.0, 'chloride'): 0.31362509054041404, (0.0, 'fluoride'): 0.0010211343240597534, (0.0, 'magnesium'): 0.028433853704002865, (0.0, 'potassium'): 0.019970018688075974, (0.0, 'silicon'): 0.022149140389937757, (0.0, 'sodium'): 0.2437879245010374, (0.0, 'sulfate'): 0.19817374897366047, (0.0, 'tds'): 1.0375040547197405}\n",
      "         :    flow_vol : {0.0: 0.01781071875}\n",
      "         :    pressure : {0.0: 1.0002}\n",
      "         : temperature : {0.0: 300.0}\n",
      "outlet : Size=1\n",
      "    Key  : Name        : Value\n",
      "    None :   conc_mass : {(0.0, 'bromide'): 2.8744609266944276e-07, (0.0, 'calcium'): 0.023125038001950787, (0.0, 'chloride'): 0.08563593936036275, (0.0, 'fluoride'): 0.0002788227080406367, (0.0, 'magnesium'): 0.007763918911531233, (0.0, 'potassium'): 0.005452852341789961, (0.0, 'silicon'): 0.006047865749671115, (0.0, 'sodium'): 0.06656676569908968, (0.0, 'sulfate'): 0.054111726586292576, (0.0, 'tds'): 0.4072961236419819}\n",
      "         :    flow_vol : {0.0: 0.07049285746381102}\n",
      "         :    pressure : {0.0: 1.0001}\n",
      "         : temperature : {0.0: 300.0}\n",
      "----------------------------------------------------------------------\n",
      "fs.splitter1\n",
      "inlet : Size=1\n",
      "    Key  : Name        : Value\n",
      "    None :   conc_mass : {(0.0, 'bromide'): 1.0527157979283012e-06, (0.0, 'calcium'): 0.0846909859491685, (0.0, 'chloride'): 0.31362509054041404, (0.0, 'fluoride'): 0.0010211343240597534, (0.0, 'magnesium'): 0.028433853704002865, (0.0, 'potassium'): 0.019970018688075974, (0.0, 'silicon'): 0.022149140389937757, (0.0, 'sodium'): 0.2437879245010374, (0.0, 'sulfate'): 0.19817374897366047, (0.0, 'tds'): 1.0375040547197405}\n",
      "         :    flow_vol : {0.0: 0.071242875}\n",
      "         :    pressure : {0.0: 1.0002}\n",
      "         : temperature : {0.0: 300.0}\n",
      "----------------------------------------------------------------------\n",
      "fs.mixer2\n",
      "inlet1 : Size=1\n",
      "    Key  : Name        : Value\n",
      "    None :   conc_mass : {(0.0, 'bromide'): 1.4115626537313589e-08, (0.0, 'calcium'): 1.610534145299844e-05, (0.0, 'chloride'): 5.9603195773810105e-05, (0.0, 'fluoride'): 2.0793280151122761e-07, (0.0, 'magnesium'): 5.4163943117606285e-06, (0.0, 'potassium'): 3.80825181553625e-06, (0.0, 'silicon'): 4.222288502948034e-06, (0.0, 'sodium'): 4.633401999933174e-05, (0.0, 'sulfate'): 3.7667252041741824e-05, (0.0, 'tds'): 0.00019714138295845896}\n",
      "         :    flow_vol : {0.0: 0.003749625000000005}\n",
      "         :    pressure : {0.0: 1.0002}\n",
      "         : temperature : {0.0: 300.0}\n",
      "outlet : Size=1\n",
      "    Key  : Name        : Value\n",
      "    None :   conc_mass : {(0.0, 'bromide'): 1.2192846017208398e-05, (0.0, 'calcium'): 0.9755927560493797, (0.0, 'chloride'): 3.6127853726178185, (0.0, 'fluoride'): 0.011762944268606126, (0.0, 'magnesium'): 0.32754211260611554, (0.0, 'potassium'): 0.23004347538100883, (0.0, 'silicon'): 0.25514573645769917, (0.0, 'sodium'): 2.8083003485542575, (0.0, 'sulfate'): 2.282850603412919, (0.0, 'tds'): 10.01489086484785}\n",
      "         :    flow_vol : {0.0: 0.004513740402753165}\n",
      "         :    pressure : {0.0: 21.250175000000002}\n",
      "         : temperature : {0.0: 300.0}\n",
      "----------------------------------------------------------------------\n",
      "------------------- System Level Metrics and Costs -------------------\n",
      "Total Capital Investment ($MM) 28.22727734464787\n",
      "Annual Fixed Operating Cost ($MM/yr) 0.3753004165808228\n",
      "Annual Catalysts and Chemicals Cost ($MM/yr) 0.01863283216364775\n",
      "Annual Electricity Costs ($MM/yr) 0.19440889395468927\n",
      "Annual Other Variable Costs ($MM/yr) 0.0\n",
      "Annual Operating Costs ($MM/yr) 0.5883421426991599\n",
      "Treated water (m3/s) ---> 0.07047171172128712\n",
      "Total water recovery (%) ---> 93.96228229504949\n",
      "Electricity intensity (kwh/m3) --->  1.6050856049280326\n",
      "LCOW ($/m3) --->  1.0909699039034082\n",
      "Electricity portion of LCOW (%) ---> 8.01829318623649\n",
      "----------------------------------------------------------------------\n"
     ]
    }
   ],
   "source": [
    "# # RUN MODEL with optimal ro --> estimating area and pressure for optimal LCOW\n",
    "# so that the model solves and gets you results. Then runs again with set pressure.\n",
    "for key in m.fs.pfd_dict.keys():\n",
    "    if m.fs.pfd_dict[key][\"Unit\"] == \"reverse_osmosis\":\n",
    "        getattr(m.fs, key).feed.pressure.unfix()\n",
    "        getattr(m.fs, key).membrane_area.unfix()\n",
    "        print(\"unfixing feed presure and area for\", key)\n",
    "        \n",
    "wt.run_water_tap(m = m, objective=True, skip_small = False)\n",
    "\n",
    "# prints RO results\n",
    "print(\"optimal ro area and pressures:\")\n",
    "for key in m.fs.pfd_dict.keys():\n",
    "    if m.fs.pfd_dict[key][\"Unit\"] == \"reverse_osmosis\":\n",
    "        print(key, \"feed pressure\", getattr(m.fs, key).feed.pressure[0]())\n",
    "        print(key, \"membrane area\", getattr(m.fs, key).membrane_area[0]())\n",
    "\n",
    "# RESET PRESSURE TO USER INPUT\n",
    "for key in m.fs.pfd_dict.keys():\n",
    "    if m.fs.pfd_dict[key][\"Unit\"] == \"reverse_osmosis\":\n",
    "        if \"feed_pressure\" in m.fs.pfd_dict[key][\"Parameter\"]:\n",
    "            if m.fs.pfd_dict[key][\"Parameter\"][\"type\"] == \"pass\":\n",
    "                getattr(m.fs, key).feed.pressure.fix(m.fs.pfd_dict[key][\"Parameter\"][\"feed_pressure\"])\n",
    "                print(\"setting feed presure for\", key, \"to -->\", m.fs.pfd_dict[key][\"Parameter\"][\"feed_pressure\"])\n",
    "\n",
    "wt.run_water_tap(m = m, objective=True, print_model_results=\"full\", skip_small = True)\n",
    "\n",
    "for key in m.fs.pfd_dict.keys():\n",
    "    if m.fs.pfd_dict[key][\"Unit\"] == \"reverse_osmosis\":\n",
    "        print(key, \"feed pressure\", getattr(m.fs, key).feed.pressure[0]())\n",
    "        print(key, \"membrane area\", getattr(m.fs, key).membrane_area[0]())"
   ]
  },
  {
   "cell_type": "code",
   "execution_count": null,
   "metadata": {},
   "outputs": [],
   "source": []
  },
  {
   "cell_type": "code",
   "execution_count": 5,
   "metadata": {},
   "outputs": [],
   "source": [
    "# If you need the system recovery to match better.... set a maximum recovery rate."
   ]
  },
  {
   "cell_type": "code",
   "execution_count": 5,
   "metadata": {},
   "outputs": [],
   "source": [
    "from pyomo.environ import Constraint\n",
    "#m.recovery_bound = Constraint(expr = m.fs.costing.system_recovery <= 0.55) # THIS IS FOR TAMPA BAY\n",
    "#m.recovery_bound = Constraint(expr = m.fs.costing.system_recovery <= 0.50) # THIS IS FOR SANTA BARBARA"
   ]
  },
  {
   "cell_type": "code",
   "execution_count": 6,
   "metadata": {},
   "outputs": [],
   "source": [
    "# set cap utilization factor\n",
    "m.fs.costing_param.plant_cap_utilization = 1"
   ]
  },
  {
   "cell_type": "code",
   "execution_count": 7,
   "metadata": {
    "scrolled": true
   },
   "outputs": [
    {
     "name": "stdout",
     "output_type": "stream",
     "text": [
      "degrees_of_freedom: 0\n",
      "WaterTAP3 solution optimal\n",
      "fs.onsite_storage\n",
      "total_cap_investment: 3.715939726563809\n",
      "----------------------------------------------------------------------\n",
      "fs.microfiltration\n",
      "total_cap_investment: 4.883752574618745\n",
      "----------------------------------------------------------------------\n",
      "fs.reverse_osmosis\n",
      "total_cap_investment: 14.239653196935091\n",
      "----------------------------------------------------------------------\n",
      "fs.uv_aop\n",
      "total_cap_investment: 3.91267041643153\n",
      "----------------------------------------------------------------------\n",
      "fs.treated_storage\n",
      "total_cap_investment: 1.1261464680037288\n",
      "----------------------------------------------------------------------\n",
      "fs.municipal_drinking\n",
      "total_cap_investment: 0.21743261019785548\n",
      "----------------------------------------------------------------------\n",
      "fs.surface_discharge\n",
      "total_cap_investment: 0.1316823518971243\n",
      "----------------------------------------------------------------------\n",
      "----------------------------------------------------------------------\n",
      "------------------- System Level Metrics and Costs -------------------\n",
      "Total Capital Investment ($MM) 28.227277344647884\n",
      "Annual Fixed Operating Cost ($MM/yr) 0.3753004165808229\n",
      "Annual Catalysts and Chemicals Cost ($MM/yr) 0.01863283216364775\n",
      "Annual Electricity Costs ($MM/yr) 0.19440889395468927\n",
      "Annual Other Variable Costs ($MM/yr) 0.0\n",
      "Annual Operating Costs ($MM/yr) 0.58834214269916\n",
      "Treated water (m3/s) ---> 0.07047171172128712\n",
      "Total water recovery (%) ---> 93.96228229504949\n",
      "Electricity intensity (kwh/m3) --->  1.6050856049280326\n",
      "LCOW ($/m3) --->  1.0909699039034089\n",
      "Electricity portion of LCOW (%) ---> 8.018293186236486\n",
      "----------------------------------------------------------------------\n"
     ]
    }
   ],
   "source": [
    "wt.run_water_tap(m = m, objective=True, print_model_results=\"summary\", skip_small = True)\n",
    "for key in m.fs.pfd_dict.keys():\n",
    "    if m.fs.pfd_dict[key][\"Unit\"] == \"reverse_osmosis\":\n",
    "        print(key, \"feed pressure\", getattr(m.fs, key).feed.pressure[0]())\n",
    "        print(key, \"membrane area\", getattr(m.fs, key).membrane_area[0]())"
   ]
  },
  {
   "cell_type": "code",
   "execution_count": 8,
   "metadata": {},
   "outputs": [],
   "source": [
    "# RESET AREA TO USER INPUT\n",
    "for key in m.fs.pfd_dict.keys():\n",
    "    if m.fs.pfd_dict[key][\"Unit\"] == \"reverse_osmosis\":\n",
    "        getattr(m.fs, key).membrane_area.fix(getattr(m.fs, key).membrane_area[0]())"
   ]
  },
  {
   "cell_type": "code",
   "execution_count": 9,
   "metadata": {},
   "outputs": [],
   "source": [
    "# Readjust recovery constraint and deactivate objective constraint\n",
    "m.recovery_bound = Constraint(expr = m.fs.costing.system_recovery >= 0)\n",
    "m.fs.objective_function.deactivate()"
   ]
  },
  {
   "cell_type": "code",
   "execution_count": 10,
   "metadata": {
    "scrolled": true
   },
   "outputs": [
    {
     "name": "stdout",
     "output_type": "stream",
     "text": [
      "degrees_of_freedom: 0\n",
      "WaterTAP3 solution optimal\n",
      "fs.onsite_storage\n",
      "total_cap_investment: 3.715939726563809\n",
      "----------------------------------------------------------------------\n",
      "fs.microfiltration\n",
      "total_cap_investment: 4.883752574618745\n",
      "----------------------------------------------------------------------\n",
      "fs.reverse_osmosis\n",
      "total_cap_investment: 14.239653196935091\n",
      "----------------------------------------------------------------------\n",
      "fs.uv_aop\n",
      "total_cap_investment: 3.91267041643153\n",
      "----------------------------------------------------------------------\n",
      "fs.treated_storage\n",
      "total_cap_investment: 1.1261464680037288\n",
      "----------------------------------------------------------------------\n",
      "fs.municipal_drinking\n",
      "total_cap_investment: 0.21743261019785548\n",
      "----------------------------------------------------------------------\n",
      "fs.surface_discharge\n",
      "total_cap_investment: 0.1316823518971243\n",
      "----------------------------------------------------------------------\n",
      "----------------------------------------------------------------------\n",
      "------------------- System Level Metrics and Costs -------------------\n",
      "Total Capital Investment ($MM) 28.227277344647884\n",
      "Annual Fixed Operating Cost ($MM/yr) 0.3753004165808229\n",
      "Annual Catalysts and Chemicals Cost ($MM/yr) 0.01863283216364775\n",
      "Annual Electricity Costs ($MM/yr) 0.19440889395468927\n",
      "Annual Other Variable Costs ($MM/yr) 0.0\n",
      "Annual Operating Costs ($MM/yr) 0.58834214269916\n",
      "Treated water (m3/s) ---> 0.07047171172128712\n",
      "Total water recovery (%) ---> 93.96228229504949\n",
      "Electricity intensity (kwh/m3) --->  1.6050856049280326\n",
      "LCOW ($/m3) --->  1.0909699039034089\n",
      "Electricity portion of LCOW (%) ---> 8.018293186236486\n",
      "----------------------------------------------------------------------\n"
     ]
    }
   ],
   "source": [
    "# NOW RUN AS SIMULATION\n",
    "wt.run_water_tap(m = m, objective=False, print_model_results=\"summary\", skip_small = True)"
   ]
  },
  {
   "cell_type": "code",
   "execution_count": null,
   "metadata": {},
   "outputs": [],
   "source": []
  },
  {
   "cell_type": "code",
   "execution_count": null,
   "metadata": {},
   "outputs": [],
   "source": []
  },
  {
   "cell_type": "code",
   "execution_count": 12,
   "metadata": {},
   "outputs": [],
   "source": [
    "# creates csv in results folder with the name: *case_study*_*scenario*.csv\n",
    "# In this case, save the final baseline result.\n",
    "\n",
    "df = wt.get_results_table(m = m, case_study = wt.case_study_trains.source_water[\"case_study\"], \n",
    "                                scenario = wt.case_study_trains.source_water[\"scenario\"])"
   ]
  },
  {
   "cell_type": "code",
   "execution_count": null,
   "metadata": {},
   "outputs": [],
   "source": []
  },
  {
   "cell_type": "code",
   "execution_count": null,
   "metadata": {},
   "outputs": [],
   "source": []
  },
  {
   "cell_type": "code",
   "execution_count": null,
   "metadata": {},
   "outputs": [],
   "source": []
  },
  {
   "cell_type": "code",
   "execution_count": 13,
   "metadata": {
    "scrolled": true
   },
   "outputs": [
    {
     "name": "stdout",
     "output_type": "stream",
     "text": [
      "degrees_of_freedom: 1\n",
      "WaterTAP3 solution optimal\n",
      "LCOW --> 7.030218381203301\n",
      "reverse_osmosis Minimum --> 1000.0\n",
      "degrees_of_freedom: 1\n",
      "WaterTAP3 solution optimal\n",
      "LCOW --> 1.2105489554254019\n",
      "reverse_osmosis Maximum --> 16582.383371983102\n"
     ]
    }
   ],
   "source": [
    "# Find bounds for RO area:\n",
    "for key in m.fs.pfd_dict.keys():\n",
    "    if m.fs.pfd_dict[key][\"Unit\"] == \"reverse_osmosis\":\n",
    "        \n",
    "        stash_value = value(getattr(m.fs, key).membrane_area[0])\n",
    "        getattr(m.fs, key).membrane_area.unfix()\n",
    "        m.fs.objective_function1 = env.Objective(expr=getattr(m.fs, key).membrane_area[0] * 1, sense=env.minimize)\n",
    "        wt.run_water_tap(m = m, objective=False, skip_small = True)\n",
    "        print(\"LCOW -->\", m.fs.costing.LCOW())\n",
    "        print(key, \"Minimum -->\", getattr(m.fs, key).membrane_area[0]())\n",
    "\n",
    "        m.fs.objective_function1 = env.Objective(expr=getattr(m.fs, key).membrane_area[0], sense=env.maximize)\n",
    "        wt.run_water_tap(m = m, objective=False, skip_small = True)\n",
    "        print(\"LCOW -->\", m.fs.costing.LCOW())\n",
    "        print(key, \"Maximum -->\", getattr(m.fs, key).membrane_area[0]())\n",
    "\n",
    "        getattr(m.fs, key).membrane_area.fix(stash_value)\n"
   ]
  },
  {
   "cell_type": "code",
   "execution_count": 14,
   "metadata": {},
   "outputs": [
    {
     "name": "stdout",
     "output_type": "stream",
     "text": [
      "degrees_of_freedom: 1\n",
      "WaterTAP3 solution optimal\n",
      "LCOW --> 17.103762761281008\n",
      "reverse_osmosis Minimum --> 32.5208194169961\n",
      "degrees_of_freedom: 1\n",
      "WaterTAP3 solution optimal\n",
      "LCOW --> 1.3661639283901406\n",
      "reverse_osmosis Maximum --> 95.0\n"
     ]
    }
   ],
   "source": [
    "# Find bounds for RO pessure:\n",
    "for key in m.fs.pfd_dict.keys():\n",
    "    if m.fs.pfd_dict[key][\"Unit\"] == \"reverse_osmosis\":\n",
    "        \n",
    "        stash_value = value(getattr(m.fs, key).feed.pressure[0])\n",
    "        getattr(m.fs, key).feed.pressure.unfix()\n",
    "        m.fs.objective_function1 = env.Objective(expr=getattr(m.fs, key).feed.pressure[0], sense=env.minimize)\n",
    "        wt.run_water_tap(m = m, objective=False, skip_small = True)\n",
    "        print(\"LCOW -->\", m.fs.costing.LCOW())\n",
    "        print(key, \"Minimum -->\", getattr(m.fs, key).feed.pressure[0]())\n",
    "\n",
    "        m.fs.objective_function1 = env.Objective(expr=getattr(m.fs, key).feed.pressure[0], sense=env.maximize)\n",
    "        wt.run_water_tap(m = m, objective=False, skip_small = True)\n",
    "        print(\"LCOW -->\", m.fs.costing.LCOW())\n",
    "        print(key, \"Maximum -->\", getattr(m.fs, key).feed.pressure[0]())\n",
    "\n",
    "        getattr(m.fs, key).feed.pressure.fix(stash_value)"
   ]
  },
  {
   "cell_type": "code",
   "execution_count": 15,
   "metadata": {},
   "outputs": [],
   "source": [
    "m.fs.objective_function1.deactivate()"
   ]
  },
  {
   "cell_type": "code",
   "execution_count": 16,
   "metadata": {},
   "outputs": [
    {
     "name": "stdout",
     "output_type": "stream",
     "text": [
      "degrees_of_freedom: 0\n",
      "WaterTAP3 solution optimal\n",
      "LCOW --> 1.4143180675819764\n"
     ]
    }
   ],
   "source": [
    "# run to rest before sensitivity\n",
    "wt.run_water_tap(m = m, objective=False, skip_small = True)\n",
    "print(\"LCOW -->\", m.fs.costing.LCOW())"
   ]
  },
  {
   "cell_type": "code",
   "execution_count": null,
   "metadata": {},
   "outputs": [],
   "source": []
  },
  {
   "cell_type": "code",
   "execution_count": 17,
   "metadata": {
    "scrolled": true
   },
   "outputs": [
    {
     "name": "stdout",
     "output_type": "stream",
     "text": [
      "------- plant_cap_utilization -------\n",
      "degrees_of_freedom: 0\n",
      "WaterTAP3 solution optimal\n",
      "LCOW --> 2.020454382337559\n",
      "degrees_of_freedom: 0\n",
      "WaterTAP3 solution optimal\n",
      "LCOW --> 1.9780672274633475\n",
      "degrees_of_freedom: 0\n",
      "WaterTAP3 solution optimal\n",
      "LCOW --> 1.9374220104606756\n",
      "degrees_of_freedom: 0\n",
      "WaterTAP3 solution optimal\n",
      "LCOW --> 1.8984135136057632\n",
      "degrees_of_freedom: 0\n",
      "WaterTAP3 solution optimal\n",
      "LCOW --> 1.8609448258372283\n",
      "degrees_of_freedom: 0\n",
      "WaterTAP3 solution optimal\n",
      "LCOW --> 1.8249265388855398\n",
      "degrees_of_freedom: 0\n",
      "WaterTAP3 solution optimal\n",
      "LCOW --> 1.79027603498265\n",
      "degrees_of_freedom: 0\n",
      "WaterTAP3 solution optimal\n",
      "LCOW --> 1.7569168542065758\n",
      "degrees_of_freedom: 0\n",
      "WaterTAP3 solution optimal\n",
      "LCOW --> 1.724778131263772\n",
      "degrees_of_freedom: 0\n",
      "WaterTAP3 solution optimal\n",
      "LCOW --> 1.6937940929775968\n",
      "degrees_of_freedom: 0\n",
      "WaterTAP3 solution optimal\n",
      "LCOW --> 1.6639036089838746\n",
      "degrees_of_freedom: 0\n",
      "WaterTAP3 solution optimal\n",
      "LCOW --> 1.6350497891749054\n",
      "degrees_of_freedom: 0\n",
      "WaterTAP3 solution optimal\n",
      "LCOW --> 1.6071796223139694\n",
      "degrees_of_freedom: 0\n",
      "WaterTAP3 solution optimal\n",
      "LCOW --> 1.580243650990272\n",
      "degrees_of_freedom: 0\n",
      "WaterTAP3 solution optimal\n",
      "LCOW --> 1.5541956787212015\n",
      "degrees_of_freedom: 0\n",
      "WaterTAP3 solution optimal\n",
      "LCOW --> 1.5289925055527496\n",
      "degrees_of_freedom: 0\n",
      "WaterTAP3 solution optimal\n",
      "LCOW --> 1.50459368897478\n",
      "degrees_of_freedom: 0\n",
      "WaterTAP3 solution optimal\n",
      "LCOW --> 1.4809613273678464\n",
      "degrees_of_freedom: 0\n",
      "WaterTAP3 solution optimal\n",
      "LCOW --> 1.4580598635425703\n",
      "degrees_of_freedom: 0\n",
      "WaterTAP3 solution optimal\n",
      "LCOW --> 1.4358559062297391\n",
      "degrees_of_freedom: 0\n",
      "WaterTAP3 solution optimal\n",
      "LCOW --> 1.414318067636293\n",
      "------- inlet salinty 25k-45k mg/L -------\n",
      "degrees_of_freedom: 0\n",
      "WaterTAP3 solution optimal\n",
      "LCOW --> 1.6321772637461192\n",
      "degrees_of_freedom: 0\n",
      "WaterTAP3 solution optimal\n",
      "LCOW --> 1.6070481301937487\n",
      "degrees_of_freedom: 0\n",
      "WaterTAP3 solution optimal\n",
      "LCOW --> 1.5827766001246821\n",
      "degrees_of_freedom: 0\n",
      "WaterTAP3 solution optimal\n",
      "LCOW --> 1.5593144522063738\n",
      "degrees_of_freedom: 0\n",
      "WaterTAP3 solution optimal\n",
      "LCOW --> 1.5366167788943057\n",
      "degrees_of_freedom: 0\n",
      "WaterTAP3 solution optimal\n",
      "LCOW --> 1.514641688422932\n",
      "degrees_of_freedom: 0\n",
      "WaterTAP3 solution optimal\n",
      "LCOW --> 1.4933500358974536\n",
      "degrees_of_freedom: 0\n",
      "WaterTAP3 solution optimal\n",
      "LCOW --> 1.472705180460908\n",
      "degrees_of_freedom: 0\n",
      "WaterTAP3 solution optimal\n",
      "LCOW --> 1.4526727653376212\n",
      "degrees_of_freedom: 0\n",
      "WaterTAP3 solution optimal\n",
      "LCOW --> 1.4332205179432265\n"
     ]
    },
    {
     "ename": "KeyboardInterrupt",
     "evalue": "",
     "output_type": "error",
     "traceback": [
      "\u001b[0;31m---------------------------------------------------------------------------\u001b[0m",
      "\u001b[0;31mKeyboardInterrupt\u001b[0m                         Traceback (most recent call last)",
      "\u001b[0;32m<ipython-input-17-594cedf19dd5>\u001b[0m in \u001b[0;36m<module>\u001b[0;34m\u001b[0m\n\u001b[1;32m     46\u001b[0m \u001b[0;32mfor\u001b[0m \u001b[0mi\u001b[0m \u001b[0;32min\u001b[0m \u001b[0mnp\u001b[0m\u001b[0;34m.\u001b[0m\u001b[0marange\u001b[0m\u001b[0;34m(\u001b[0m\u001b[0mlb\u001b[0m\u001b[0;34m,\u001b[0m \u001b[0mub\u001b[0m \u001b[0;34m+\u001b[0m \u001b[0mstep\u001b[0m\u001b[0;34m,\u001b[0m \u001b[0mstep\u001b[0m\u001b[0;34m)\u001b[0m\u001b[0;34m:\u001b[0m\u001b[0;34m\u001b[0m\u001b[0;34m\u001b[0m\u001b[0m\n\u001b[1;32m     47\u001b[0m     \u001b[0mm\u001b[0m\u001b[0;34m.\u001b[0m\u001b[0mfs\u001b[0m\u001b[0;34m.\u001b[0m\u001b[0mseawater\u001b[0m\u001b[0;34m.\u001b[0m\u001b[0mconc_mass_in\u001b[0m\u001b[0;34m[\u001b[0m\u001b[0;36m0\u001b[0m\u001b[0;34m,\u001b[0m \u001b[0;34m\"tds\"\u001b[0m\u001b[0;34m]\u001b[0m\u001b[0;34m.\u001b[0m\u001b[0mfix\u001b[0m\u001b[0;34m(\u001b[0m\u001b[0mi\u001b[0m\u001b[0;34m)\u001b[0m\u001b[0;34m\u001b[0m\u001b[0;34m\u001b[0m\u001b[0m\n\u001b[0;32m---> 48\u001b[0;31m     \u001b[0mwt\u001b[0m\u001b[0;34m.\u001b[0m\u001b[0mrun_water_tap\u001b[0m\u001b[0;34m(\u001b[0m\u001b[0mm\u001b[0m \u001b[0;34m=\u001b[0m \u001b[0mm\u001b[0m\u001b[0;34m,\u001b[0m \u001b[0mobjective\u001b[0m\u001b[0;34m=\u001b[0m\u001b[0;32mFalse\u001b[0m\u001b[0;34m,\u001b[0m \u001b[0mskip_small\u001b[0m \u001b[0;34m=\u001b[0m \u001b[0;32mTrue\u001b[0m\u001b[0;34m)\u001b[0m\u001b[0;34m\u001b[0m\u001b[0;34m\u001b[0m\u001b[0m\n\u001b[0m\u001b[1;32m     49\u001b[0m     \u001b[0mprint\u001b[0m\u001b[0;34m(\u001b[0m\u001b[0;34m\"LCOW -->\"\u001b[0m\u001b[0;34m,\u001b[0m \u001b[0mm\u001b[0m\u001b[0;34m.\u001b[0m\u001b[0mfs\u001b[0m\u001b[0;34m.\u001b[0m\u001b[0mcosting\u001b[0m\u001b[0;34m.\u001b[0m\u001b[0mLCOW\u001b[0m\u001b[0;34m(\u001b[0m\u001b[0;34m)\u001b[0m\u001b[0;34m)\u001b[0m\u001b[0;34m\u001b[0m\u001b[0;34m\u001b[0m\u001b[0m\n\u001b[1;32m     50\u001b[0m \u001b[0;34m\u001b[0m\u001b[0m\n",
      "\u001b[0;32m~/NAWI/WaterTap/NAWI-WaterTAP3/IDAES-WaterTAP3_v2/watertap.py\u001b[0m in \u001b[0;36mrun_water_tap\u001b[0;34m(m, solver_results, print_model_results, objective, max_attemps, initialize_flow, skip_small)\u001b[0m\n\u001b[1;32m     63\u001b[0m     \u001b[0;32melse\u001b[0m\u001b[0;34m:\u001b[0m\u001b[0;34m\u001b[0m\u001b[0;34m\u001b[0m\u001b[0m\n\u001b[1;32m     64\u001b[0m         run_model(m = m, solver_results = solver_results, print_model_results = print_model_results, \n\u001b[0;32m---> 65\u001b[0;31m                       objective=objective, max_attemps = max_attemps)    \n\u001b[0m\u001b[1;32m     66\u001b[0m \u001b[0;34m\u001b[0m\u001b[0m\n\u001b[1;32m     67\u001b[0m     \u001b[0;32mif\u001b[0m \u001b[0mprint_model_results\u001b[0m\u001b[0;34m:\u001b[0m\u001b[0;34m\u001b[0m\u001b[0;34m\u001b[0m\u001b[0m\n",
      "\u001b[0;32m~/NAWI/WaterTap/NAWI-WaterTAP3/IDAES-WaterTAP3_v2/watertap.py\u001b[0m in \u001b[0;36mrun_model\u001b[0;34m(m, solver_results, print_model_results, objective, max_attemps)\u001b[0m\n\u001b[1;32m    107\u001b[0m     \u001b[0mlogging\u001b[0m\u001b[0;34m.\u001b[0m\u001b[0mgetLogger\u001b[0m\u001b[0;34m(\u001b[0m\u001b[0;34m'pyomo.core'\u001b[0m\u001b[0;34m)\u001b[0m\u001b[0;34m.\u001b[0m\u001b[0msetLevel\u001b[0m\u001b[0;34m(\u001b[0m\u001b[0mlogging\u001b[0m\u001b[0;34m.\u001b[0m\u001b[0mERROR\u001b[0m\u001b[0;34m)\u001b[0m\u001b[0;34m\u001b[0m\u001b[0;34m\u001b[0m\u001b[0m\n\u001b[1;32m    108\u001b[0m \u001b[0;34m\u001b[0m\u001b[0m\n\u001b[0;32m--> 109\u001b[0;31m     \u001b[0mprint\u001b[0m\u001b[0;34m(\u001b[0m\u001b[0;34m\"degrees_of_freedom:\"\u001b[0m\u001b[0;34m,\u001b[0m \u001b[0mdegrees_of_freedom\u001b[0m\u001b[0;34m(\u001b[0m\u001b[0mm\u001b[0m\u001b[0;34m)\u001b[0m\u001b[0;34m)\u001b[0m\u001b[0;34m\u001b[0m\u001b[0;34m\u001b[0m\u001b[0m\n\u001b[0m\u001b[1;32m    110\u001b[0m \u001b[0;34m\u001b[0m\u001b[0m\n\u001b[1;32m    111\u001b[0m     \u001b[0mresults\u001b[0m \u001b[0;34m=\u001b[0m \u001b[0msolver\u001b[0m\u001b[0;34m.\u001b[0m\u001b[0msolve\u001b[0m\u001b[0;34m(\u001b[0m\u001b[0mm\u001b[0m\u001b[0;34m,\u001b[0m \u001b[0mtee\u001b[0m\u001b[0;34m=\u001b[0m\u001b[0msolver_results\u001b[0m\u001b[0;34m)\u001b[0m\u001b[0;34m\u001b[0m\u001b[0;34m\u001b[0m\u001b[0m\n",
      "\u001b[0;32m~/miniconda3/envs/tap-idaes3/lib/python3.7/site-packages/idaes/core/util/model_statistics.py\u001b[0m in \u001b[0;36mdegrees_of_freedom\u001b[0;34m(block)\u001b[0m\n\u001b[1;32m   1267\u001b[0m         \u001b[0mNumber\u001b[0m \u001b[0mof\u001b[0m \u001b[0mdegrees\u001b[0m \u001b[0mof\u001b[0m \u001b[0mfreedom\u001b[0m \u001b[0;32min\u001b[0m \u001b[0mblock\u001b[0m\u001b[0;34m.\u001b[0m\u001b[0;34m\u001b[0m\u001b[0;34m\u001b[0m\u001b[0m\n\u001b[1;32m   1268\u001b[0m     \"\"\"\n\u001b[0;32m-> 1269\u001b[0;31m     return (number_unfixed_variables_in_activated_equalities(block) -\n\u001b[0m\u001b[1;32m   1270\u001b[0m             number_activated_equalities(block))\n\u001b[1;32m   1271\u001b[0m \u001b[0;34m\u001b[0m\u001b[0m\n",
      "\u001b[0;32m~/miniconda3/envs/tap-idaes3/lib/python3.7/site-packages/idaes/core/util/model_statistics.py\u001b[0m in \u001b[0;36mnumber_unfixed_variables_in_activated_equalities\u001b[0;34m(block)\u001b[0m\n\u001b[1;32m    945\u001b[0m         \u001b[0mConstraints\u001b[0m \u001b[0;32min\u001b[0m \u001b[0mblock\u001b[0m\u001b[0;34m\u001b[0m\u001b[0;34m\u001b[0m\u001b[0m\n\u001b[1;32m    946\u001b[0m     \"\"\"\n\u001b[0;32m--> 947\u001b[0;31m     \u001b[0;32mreturn\u001b[0m \u001b[0mlen\u001b[0m\u001b[0;34m(\u001b[0m\u001b[0munfixed_variables_in_activated_equalities_set\u001b[0m\u001b[0;34m(\u001b[0m\u001b[0mblock\u001b[0m\u001b[0;34m)\u001b[0m\u001b[0;34m)\u001b[0m\u001b[0;34m\u001b[0m\u001b[0;34m\u001b[0m\u001b[0m\n\u001b[0m\u001b[1;32m    948\u001b[0m \u001b[0;34m\u001b[0m\u001b[0m\n\u001b[1;32m    949\u001b[0m \u001b[0;34m\u001b[0m\u001b[0m\n",
      "\u001b[0;32m~/miniconda3/envs/tap-idaes3/lib/python3.7/site-packages/idaes/core/util/model_statistics.py\u001b[0m in \u001b[0;36munfixed_variables_in_activated_equalities_set\u001b[0;34m(block)\u001b[0m\n\u001b[1;32m    927\u001b[0m     \"\"\"\n\u001b[1;32m    928\u001b[0m     \u001b[0mvar_set\u001b[0m \u001b[0;34m=\u001b[0m \u001b[0mComponentSet\u001b[0m\u001b[0;34m(\u001b[0m\u001b[0;34m)\u001b[0m\u001b[0;34m\u001b[0m\u001b[0;34m\u001b[0m\u001b[0m\n\u001b[0;32m--> 929\u001b[0;31m     \u001b[0;32mfor\u001b[0m \u001b[0mv\u001b[0m \u001b[0;32min\u001b[0m \u001b[0mvariables_in_activated_equalities_set\u001b[0m\u001b[0;34m(\u001b[0m\u001b[0mblock\u001b[0m\u001b[0;34m)\u001b[0m\u001b[0;34m:\u001b[0m\u001b[0;34m\u001b[0m\u001b[0;34m\u001b[0m\u001b[0m\n\u001b[0m\u001b[1;32m    930\u001b[0m         \u001b[0;32mif\u001b[0m \u001b[0;32mnot\u001b[0m \u001b[0mv\u001b[0m\u001b[0;34m.\u001b[0m\u001b[0mfixed\u001b[0m\u001b[0;34m:\u001b[0m\u001b[0;34m\u001b[0m\u001b[0;34m\u001b[0m\u001b[0m\n\u001b[1;32m    931\u001b[0m             \u001b[0mvar_set\u001b[0m\u001b[0;34m.\u001b[0m\u001b[0madd\u001b[0m\u001b[0;34m(\u001b[0m\u001b[0mv\u001b[0m\u001b[0;34m)\u001b[0m\u001b[0;34m\u001b[0m\u001b[0;34m\u001b[0m\u001b[0m\n",
      "\u001b[0;32m~/miniconda3/envs/tap-idaes3/lib/python3.7/site-packages/idaes/core/util/model_statistics.py\u001b[0m in \u001b[0;36mvariables_in_activated_equalities_set\u001b[0;34m(block)\u001b[0m\n\u001b[1;32m    793\u001b[0m     \u001b[0mvar_set\u001b[0m \u001b[0;34m=\u001b[0m \u001b[0mComponentSet\u001b[0m\u001b[0;34m(\u001b[0m\u001b[0;34m)\u001b[0m\u001b[0;34m\u001b[0m\u001b[0;34m\u001b[0m\u001b[0m\n\u001b[1;32m    794\u001b[0m     \u001b[0;32mfor\u001b[0m \u001b[0mc\u001b[0m \u001b[0;32min\u001b[0m \u001b[0mactivated_equalities_generator\u001b[0m\u001b[0;34m(\u001b[0m\u001b[0mblock\u001b[0m\u001b[0;34m)\u001b[0m\u001b[0;34m:\u001b[0m\u001b[0;34m\u001b[0m\u001b[0;34m\u001b[0m\u001b[0m\n\u001b[0;32m--> 795\u001b[0;31m         \u001b[0;32mfor\u001b[0m \u001b[0mv\u001b[0m \u001b[0;32min\u001b[0m \u001b[0midentify_variables\u001b[0m\u001b[0;34m(\u001b[0m\u001b[0mc\u001b[0m\u001b[0;34m.\u001b[0m\u001b[0mbody\u001b[0m\u001b[0;34m)\u001b[0m\u001b[0;34m:\u001b[0m\u001b[0;34m\u001b[0m\u001b[0;34m\u001b[0m\u001b[0m\n\u001b[0m\u001b[1;32m    796\u001b[0m             \u001b[0mvar_set\u001b[0m\u001b[0;34m.\u001b[0m\u001b[0madd\u001b[0m\u001b[0;34m(\u001b[0m\u001b[0mv\u001b[0m\u001b[0;34m)\u001b[0m\u001b[0;34m\u001b[0m\u001b[0;34m\u001b[0m\u001b[0m\n\u001b[1;32m    797\u001b[0m     \u001b[0;32mreturn\u001b[0m \u001b[0mvar_set\u001b[0m\u001b[0;34m\u001b[0m\u001b[0;34m\u001b[0m\u001b[0m\n",
      "\u001b[0;31mKeyboardInterrupt\u001b[0m: "
     ]
    }
   ],
   "source": [
    "# sensitivity analyses\n",
    "sens_df = pd.DataFrame()\n",
    "\n",
    "lcow_list = []\n",
    "water_recovery_list = []\n",
    "scenario_value = []\n",
    "scenario_name = []\n",
    "elec_lcow = []\n",
    "\n",
    "lcow_list.append(value(m.fs.costing.LCOW))\n",
    "water_recovery_list.append(value(m.fs.costing.system_recovery))\n",
    "scenario_value.append(\"n/a\")\n",
    "scenario_name.append(\"baseline\")\n",
    "elec_lcow.append(value(m.fs.costing.elec_frac_LCOW))\n",
    "\n",
    "runs_per_scenario = 20\n",
    "\n",
    "############ onstream_factor 70-100% ############\n",
    "stash_value = m.fs.costing_param.plant_cap_utilization\n",
    "scenario = \"plant_cap_utilization\"\n",
    "print(\"-------\", scenario, \"-------\")\n",
    "ub = 1\n",
    "lb = 0.7\n",
    "step = (ub - lb) / runs_per_scenario\n",
    "for i in np.arange(lb, ub + step, step):\n",
    "    m.fs.costing_param.plant_cap_utilization = i\n",
    "    wt.run_water_tap(m = m, objective=False, skip_small = True)\n",
    "    print(\"LCOW -->\", m.fs.costing.LCOW())\n",
    "    \n",
    "    lcow_list.append(value(m.fs.costing.LCOW))\n",
    "    water_recovery_list.append(value(m.fs.costing.system_recovery))\n",
    "    scenario_value.append(i)\n",
    "    scenario_name.append(scenario)\n",
    "    elec_lcow.append(value(m.fs.costing.elec_frac_LCOW))\n",
    "    \n",
    "m.fs.costing_param.plant_cap_utilization = stash_value    \n",
    "############################################################    \n",
    "\n",
    "############ salinity  30-45 ############\n",
    "stash_value = m.fs.seawater.conc_mass_in[0, \"tds\"]()\n",
    "scenario = \"inlet salinty 25k-45k mg/L\"\n",
    "print(\"-------\", scenario, \"-------\")\n",
    "ub = 25\n",
    "lb = 45\n",
    "step = (ub - lb) / runs_per_scenario\n",
    "for i in np.arange(lb, ub + step, step):\n",
    "    m.fs.seawater.conc_mass_in[0, \"tds\"].fix(i) \n",
    "    wt.run_water_tap(m = m, objective=False, skip_small = True)\n",
    "    print(\"LCOW -->\", m.fs.costing.LCOW())\n",
    "    \n",
    "    lcow_list.append(value(m.fs.costing.LCOW))\n",
    "    water_recovery_list.append(value(m.fs.costing.system_recovery))\n",
    "    scenario_value.append(i)\n",
    "    scenario_name.append(scenario)\n",
    "    elec_lcow.append(value(m.fs.costing.elec_frac_LCOW))\n",
    "    \n",
    "m.fs.seawater.conc_mass_in[0, \"tds\"].fix(stash_value) \n",
    "############################################################\n",
    "\n",
    "############ inlet flow ############\n",
    "stash_value = m.fs.seawater.flow_vol_in[0]()\n",
    "scenario = \"inlet flow\"\n",
    "print(\"-------\", scenario, \"-------\")\n",
    "ub = stash_value * 1.3\n",
    "lb = stash_value * 0.7\n",
    "step = (ub - lb) / runs_per_scenario\n",
    "for i in np.arange(lb, ub + step, step):\n",
    "    m.fs.seawater.flow_vol_in.fix(i) \n",
    "    wt.run_water_tap(m = m, objective=False, skip_small = True)\n",
    "    print(\"LCOW -->\", m.fs.costing.LCOW())\n",
    "    \n",
    "    lcow_list.append(value(m.fs.costing.LCOW))\n",
    "    water_recovery_list.append(value(m.fs.costing.system_recovery))\n",
    "    scenario_value.append(i)\n",
    "    scenario_name.append(scenario)\n",
    "    elec_lcow.append(value(m.fs.costing.elec_frac_LCOW))\n",
    "    \n",
    "m.fs.seawater.flow_vol_in.fix(stash_value) \n",
    "############################################################\n",
    "\n",
    "############ lifetime years ############\n",
    "\n",
    "stash_value = value(m.fs.costing_param.plant_lifetime_yrs)\n",
    "scenario = \"lifetime (yrs)\"\n",
    "print(\"-------\", scenario, \"-------\")\n",
    "ub = 50\n",
    "lb = 15\n",
    "step = (ub - lb) / runs_per_scenario\n",
    "for i in np.arange(lb, ub + step, step):\n",
    "    m.fs.costing_param.plant_lifetime_yrs = i \n",
    "    wt.run_water_tap(m = m, objective=False, skip_small = True)\n",
    "    print(\"LCOW -->\", m.fs.costing.LCOW())\n",
    "    \n",
    "    lcow_list.append(value(m.fs.costing.LCOW))\n",
    "    water_recovery_list.append(value(m.fs.costing.system_recovery))\n",
    "    scenario_value.append(i)\n",
    "    scenario_name.append(scenario)\n",
    "    elec_lcow.append(value(m.fs.costing.elec_frac_LCOW))\n",
    "    \n",
    "m.fs.costing_param.plant_lifetime_yrs = stash_value\n",
    "############################################################\n",
    "\n",
    "############ elec cost +-20% ############\n",
    "\n",
    "stash_value = value(m.fs.costing_param.electricity_price)\n",
    "scenario = \"electricity price +- 20%\"\n",
    "print(\"-------\", scenario, \"-------\")\n",
    "ub = stash_value * 1.3\n",
    "lb = stash_value * 0.7\n",
    "step = (ub - lb) / runs_per_scenario\n",
    "for i in np.arange(lb, ub + step, step):\n",
    "    m.fs.costing_param.electricity_price = i \n",
    "    wt.run_water_tap(m = m, objective=False, skip_small = True)\n",
    "    print(\"LCOW -->\", m.fs.costing.LCOW())\n",
    "    \n",
    "    lcow_list.append(value(m.fs.costing.LCOW))\n",
    "    water_recovery_list.append(value(m.fs.costing.system_recovery))\n",
    "    scenario_value.append(i)\n",
    "    scenario_name.append(scenario)\n",
    "    elec_lcow.append(value(m.fs.costing.elec_frac_LCOW))\n",
    "    \n",
    "m.fs.costing_param.electricity_price = stash_value\n",
    "############################################################\n",
    "\n",
    "############ RO scenarios --> pressure, membrane area, replacement rate% ############\n",
    "\n",
    "for key in m.fs.pfd_dict.keys():\n",
    "    if m.fs.pfd_dict[key][\"Unit\"] == \"reverse_osmosis\":\n",
    "        area = value(getattr(m.fs, key).membrane_area[0])\n",
    "\n",
    "        scenario_dict = {\"membrane_area\" : [-area*0.2, area*0.2], \n",
    "                         \"pressure\": [-15, 10], \n",
    "                         \"factor_membrane_replacement\": [-0.1, 0.1]}\n",
    "        \n",
    "        for scenario in scenario_dict.keys():\n",
    "            if scenario == \"pressure\":\n",
    "                stash_value = value(getattr(getattr(getattr(m.fs, key), \"feed\"), scenario)[0])\n",
    "            else:\n",
    "                stash_value = value(getattr(getattr(m.fs, key), scenario)[0])\n",
    "\n",
    "            print(\"-------\", scenario, \"-------\")\n",
    "            ub = stash_value + scenario_dict[scenario][1]\n",
    "            lb = stash_value + scenario_dict[scenario][0]\n",
    "            step = (ub - lb) / runs_per_scenario\n",
    "            \n",
    "            for i in np.arange(lb, ub + step, step):\n",
    "                if scenario == \"pressure\":\n",
    "                    getattr(getattr(getattr(m.fs, key), \"feed\"), scenario).fix(i)\n",
    "                else:\n",
    "                    getattr(getattr(m.fs, key), scenario).fix(i)\n",
    "                \n",
    "                wt.run_water_tap(m = m, objective=False, skip_small = True)\n",
    "                print(\"LCOW -->\", m.fs.costing.LCOW())\n",
    "    \n",
    "                lcow_list.append(value(m.fs.costing.LCOW))\n",
    "                water_recovery_list.append(value(m.fs.costing.system_recovery))\n",
    "                scenario_value.append(i)\n",
    "                scenario_name.append(key + \"_\" + scenario)\n",
    "                elec_lcow.append(value(m.fs.costing.elec_frac_LCOW))\n",
    "    \n",
    "            if scenario == \"pressure\":\n",
    "                getattr(getattr(getattr(m.fs, key), \"feed\"), scenario).fix(stash_value)\n",
    "            else:\n",
    "                getattr(getattr(m.fs, key), scenario).fix(stash_value)\n",
    "                            \n",
    "############################################################\n",
    "\n",
    "# final run to get baseline numbers again\n",
    "wt.run_water_tap(m = m, objective=False, skip_small = True)\n",
    "\n",
    "sens_df[\"lcow\"] = lcow_list\n",
    "sens_df[\"water_recovery\"] =  water_recovery_list\n",
    "sens_df[\"elec_lcow\"] =  elec_lcow\n",
    "sens_df[\"scenario_value\"] = scenario_value\n",
    "sens_df[\"scenario_name\"] = scenario_name\n",
    "sens_df[\"lcow_difference\"] =  sens_df.lcow - value(m.fs.costing.LCOW)\n",
    "sens_df[\"water_recovery_difference\"] = (sens_df.water_recovery - value(m.fs.costing.system_recovery))\n",
    "sens_df[\"elec_lcow_difference\"] = (sens_df.elec_lcow - value(m.fs.costing.elec_frac_LCOW))\n",
    "\n",
    "sens_df.elec_lcow = sens_df.elec_lcow * 100\n",
    "sens_df.water_recovery = sens_df.water_recovery * 100\n"
   ]
  },
  {
   "cell_type": "code",
   "execution_count": null,
   "metadata": {},
   "outputs": [],
   "source": [
    "sens_df.to_csv(\"results/case_studies/santa_barbara_baseline_sensitivity.csv\")"
   ]
  },
  {
   "cell_type": "code",
   "execution_count": null,
   "metadata": {},
   "outputs": [],
   "source": []
  },
  {
   "cell_type": "code",
   "execution_count": null,
   "metadata": {},
   "outputs": [],
   "source": []
  },
  {
   "cell_type": "code",
   "execution_count": null,
   "metadata": {},
   "outputs": [],
   "source": []
  },
  {
   "cell_type": "code",
   "execution_count": null,
   "metadata": {},
   "outputs": [],
   "source": []
  },
  {
   "cell_type": "code",
   "execution_count": null,
   "metadata": {},
   "outputs": [],
   "source": []
  },
  {
   "cell_type": "code",
   "execution_count": null,
   "metadata": {},
   "outputs": [],
   "source": []
  },
  {
   "cell_type": "code",
   "execution_count": null,
   "metadata": {},
   "outputs": [],
   "source": [
    "############ inlet flow ############\n",
    "stash_value = m.fs.seawater.flow_vol_in[0]()\n",
    "scenario = \"inlet flow\"\n",
    "print(\"-------\", scenario, \"-------\")\n",
    "ub = stash_value * 1.3\n",
    "lb = stash_value * 0.7\n",
    "step = (ub - lb) / runs_per_scenario\n",
    "for i in np.arange(lb, ub, step):\n",
    "    m.fs.seawater.flow_vol_in.fix(i) \n",
    "    wt.run_water_tap(m = m, objective=False)\n",
    "    print(\"LCOW -->\", m.fs.costing.LCOW())\n",
    "    \n",
    "    lcow_list.append(value(m.fs.costing.LCOW))\n",
    "    water_recovery_list.append(value(m.fs.costing.system_recovery))\n",
    "    scenario_value.append(i)\n",
    "    scenario_name.append(scenario)\n",
    "    elec_lcow.append(value(m.fs.costing.elec_frac_LCOW))\n",
    "    \n",
    "m.fs.seawater.flow_vol_in.fix(stash_value) \n",
    "############################################################"
   ]
  },
  {
   "cell_type": "code",
   "execution_count": null,
   "metadata": {},
   "outputs": [],
   "source": [
    "ub"
   ]
  },
  {
   "cell_type": "code",
   "execution_count": null,
   "metadata": {},
   "outputs": [],
   "source": [
    "lb"
   ]
  },
  {
   "cell_type": "code",
   "execution_count": null,
   "metadata": {},
   "outputs": [],
   "source": [
    "i"
   ]
  },
  {
   "cell_type": "code",
   "execution_count": null,
   "metadata": {},
   "outputs": [],
   "source": [
    "m.fs.seawater.flow_vol_in[0]()"
   ]
  },
  {
   "cell_type": "code",
   "execution_count": null,
   "metadata": {},
   "outputs": [],
   "source": []
  },
  {
   "cell_type": "code",
   "execution_count": null,
   "metadata": {},
   "outputs": [],
   "source": []
  },
  {
   "cell_type": "code",
   "execution_count": null,
   "metadata": {},
   "outputs": [],
   "source": []
  },
  {
   "cell_type": "code",
   "execution_count": null,
   "metadata": {},
   "outputs": [],
   "source": []
  },
  {
   "cell_type": "code",
   "execution_count": null,
   "metadata": {},
   "outputs": [],
   "source": []
  },
  {
   "cell_type": "code",
   "execution_count": null,
   "metadata": {},
   "outputs": [],
   "source": []
  },
  {
   "cell_type": "code",
   "execution_count": null,
   "metadata": {},
   "outputs": [],
   "source": []
  },
  {
   "cell_type": "code",
   "execution_count": null,
   "metadata": {},
   "outputs": [],
   "source": []
  },
  {
   "cell_type": "code",
   "execution_count": null,
   "metadata": {},
   "outputs": [],
   "source": []
  },
  {
   "cell_type": "code",
   "execution_count": null,
   "metadata": {},
   "outputs": [],
   "source": []
  },
  {
   "cell_type": "code",
   "execution_count": null,
   "metadata": {},
   "outputs": [],
   "source": []
  },
  {
   "cell_type": "code",
   "execution_count": null,
   "metadata": {},
   "outputs": [],
   "source": []
  },
  {
   "cell_type": "code",
   "execution_count": null,
   "metadata": {},
   "outputs": [],
   "source": []
  },
  {
   "cell_type": "code",
   "execution_count": null,
   "metadata": {},
   "outputs": [],
   "source": []
  },
  {
   "cell_type": "code",
   "execution_count": null,
   "metadata": {},
   "outputs": [],
   "source": []
  },
  {
   "cell_type": "code",
   "execution_count": null,
   "metadata": {},
   "outputs": [],
   "source": []
  },
  {
   "cell_type": "code",
   "execution_count": null,
   "metadata": {},
   "outputs": [],
   "source": []
  },
  {
   "cell_type": "code",
   "execution_count": null,
   "metadata": {},
   "outputs": [],
   "source": []
  },
  {
   "cell_type": "code",
   "execution_count": null,
   "metadata": {},
   "outputs": [],
   "source": []
  },
  {
   "cell_type": "code",
   "execution_count": null,
   "metadata": {},
   "outputs": [],
   "source": []
  },
  {
   "cell_type": "code",
   "execution_count": null,
   "metadata": {},
   "outputs": [],
   "source": []
  },
  {
   "cell_type": "code",
   "execution_count": null,
   "metadata": {},
   "outputs": [],
   "source": []
  },
  {
   "cell_type": "code",
   "execution_count": null,
   "metadata": {},
   "outputs": [],
   "source": []
  },
  {
   "cell_type": "code",
   "execution_count": null,
   "metadata": {},
   "outputs": [],
   "source": []
  },
  {
   "cell_type": "code",
   "execution_count": null,
   "metadata": {},
   "outputs": [],
   "source": []
  },
  {
   "cell_type": "code",
   "execution_count": null,
   "metadata": {},
   "outputs": [],
   "source": []
  },
  {
   "cell_type": "code",
   "execution_count": null,
   "metadata": {},
   "outputs": [],
   "source": []
  },
  {
   "cell_type": "code",
   "execution_count": null,
   "metadata": {},
   "outputs": [],
   "source": []
  },
  {
   "cell_type": "code",
   "execution_count": null,
   "metadata": {},
   "outputs": [],
   "source": []
  },
  {
   "cell_type": "code",
   "execution_count": null,
   "metadata": {},
   "outputs": [],
   "source": []
  },
  {
   "cell_type": "code",
   "execution_count": null,
   "metadata": {},
   "outputs": [],
   "source": []
  },
  {
   "cell_type": "code",
   "execution_count": null,
   "metadata": {},
   "outputs": [],
   "source": []
  },
  {
   "cell_type": "code",
   "execution_count": null,
   "metadata": {},
   "outputs": [],
   "source": []
  },
  {
   "cell_type": "code",
   "execution_count": null,
   "metadata": {},
   "outputs": [],
   "source": []
  },
  {
   "cell_type": "code",
   "execution_count": null,
   "metadata": {},
   "outputs": [],
   "source": []
  },
  {
   "cell_type": "code",
   "execution_count": null,
   "metadata": {},
   "outputs": [],
   "source": []
  },
  {
   "cell_type": "code",
   "execution_count": null,
   "metadata": {},
   "outputs": [],
   "source": []
  },
  {
   "cell_type": "code",
   "execution_count": null,
   "metadata": {},
   "outputs": [],
   "source": []
  },
  {
   "cell_type": "code",
   "execution_count": null,
   "metadata": {},
   "outputs": [],
   "source": []
  },
  {
   "cell_type": "code",
   "execution_count": null,
   "metadata": {},
   "outputs": [],
   "source": []
  },
  {
   "cell_type": "code",
   "execution_count": null,
   "metadata": {},
   "outputs": [],
   "source": []
  },
  {
   "cell_type": "code",
   "execution_count": null,
   "metadata": {},
   "outputs": [],
   "source": []
  },
  {
   "cell_type": "code",
   "execution_count": null,
   "metadata": {},
   "outputs": [],
   "source": []
  },
  {
   "cell_type": "code",
   "execution_count": null,
   "metadata": {},
   "outputs": [],
   "source": []
  },
  {
   "cell_type": "code",
   "execution_count": null,
   "metadata": {},
   "outputs": [],
   "source": []
  },
  {
   "cell_type": "code",
   "execution_count": null,
   "metadata": {},
   "outputs": [],
   "source": []
  },
  {
   "cell_type": "code",
   "execution_count": null,
   "metadata": {},
   "outputs": [],
   "source": []
  },
  {
   "cell_type": "code",
   "execution_count": null,
   "metadata": {},
   "outputs": [],
   "source": []
  },
  {
   "cell_type": "code",
   "execution_count": null,
   "metadata": {},
   "outputs": [],
   "source": [
    "####TO DO LOAD AND SAVE!!"
   ]
  },
  {
   "cell_type": "code",
   "execution_count": null,
   "metadata": {},
   "outputs": [],
   "source": [
    "#### SAVE TRAIN ####\n",
    "# path = 'trains/Tutorial1_treatment_train_example.csv'\n",
    "# wt.save_train(T, path)"
   ]
  },
  {
   "cell_type": "code",
   "execution_count": null,
   "metadata": {},
   "outputs": [],
   "source": [
    "# #### LOAD TRAIN ####\n",
    "# path = 'trains/Tutorial1_treatment_train_example.csv'\n",
    "# TT = wt.load_train(path)"
   ]
  },
  {
   "cell_type": "code",
   "execution_count": null,
   "metadata": {},
   "outputs": [],
   "source": [
    "# wt.display.show_train(TT)"
   ]
  },
  {
   "cell_type": "code",
   "execution_count": null,
   "metadata": {},
   "outputs": [],
   "source": []
  },
  {
   "cell_type": "code",
   "execution_count": null,
   "metadata": {},
   "outputs": [],
   "source": []
  },
  {
   "cell_type": "code",
   "execution_count": null,
   "metadata": {},
   "outputs": [],
   "source": []
  },
  {
   "cell_type": "code",
   "execution_count": null,
   "metadata": {},
   "outputs": [],
   "source": []
  }
 ],
 "metadata": {
  "celltoolbar": "Raw Cell Format",
  "kernelspec": {
   "display_name": "Python 3",
   "language": "python",
   "name": "python3"
  },
  "language_info": {
   "codemirror_mode": {
    "name": "ipython",
    "version": 3
   },
   "file_extension": ".py",
   "mimetype": "text/x-python",
   "name": "python",
   "nbconvert_exporter": "python",
   "pygments_lexer": "ipython3",
   "version": "3.7.4"
  }
 },
 "nbformat": 4,
 "nbformat_minor": 4
}
