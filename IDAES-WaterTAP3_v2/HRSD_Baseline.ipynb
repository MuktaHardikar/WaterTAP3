{
 "cells": [
  {
   "cell_type": "code",
   "execution_count": 1,
   "metadata": {},
   "outputs": [
    {
     "name": "stdout",
     "output_type": "stream",
     "text": [
      "hrsd\n",
      "------- Adding Unit Processes -------\n",
      "sw_onshore_intake\n",
      "coagulant_addition\n",
      "coag_and_floc\n",
      "sedimentation\n",
      "ozone_aop\n",
      "fixed_bed_gravity_basin\n",
      "gac_pressure_vessel\n",
      "uv_aop\n",
      "chlorination\n",
      "treated_storage\n",
      "21600.0\n",
      "recharge_pump_well\n",
      "sludge_tank\n",
      "-------------------------------------\n",
      "adding source\n",
      "----- Connecting Unit Processes -----\n",
      "hrsd_municipal ToUnitName --> sw_onshore_intake\n",
      "sw_onshore_intake ToUnitName --> coagulant_addition\n",
      "coagulant_addition ToUnitName --> coag_and_floc\n",
      "coag_and_floc ToUnitName --> sedimentation\n",
      "sedimentation ToUnitName --> ozone_aop\n",
      "ozone_aop ToUnitName --> fixed_bed_gravity_basin\n",
      "fixed_bed_gravity_basin ToUnitName --> gac_pressure_vessel\n",
      "gac_pressure_vessel ToUnitName --> uv_aop\n",
      "gac_pressure_vessel ToUnitName --> sludge_tank\n",
      "uv_aop ToUnitName --> chlorination\n",
      "chlorination ToUnitName --> treated_storage\n",
      "treated_storage ToUnitName --> recharge_pump_well\n",
      "-------------------------------------\n"
     ]
    }
   ],
   "source": [
    "import watertap as wt\n",
    "import pandas as pd\n",
    "from pyomo.environ import value, Block\n",
    "from idaes.core import FlowsheetBlock\n",
    "import numpy as np\n",
    "from case_study_trains import *\n",
    "import case_study_trains\n",
    "import pyomo.environ as env\n",
    "from pyomo.environ import Constraint\n",
    "m = wt.watertap_setup(dynamic = False)\n",
    "\n",
    "\n",
    "wt.case_study_trains.train = {\"case_study\": \"hrsd\",\n",
    "                             \"reference\": \"nawi\",\n",
    "                             \"scenario\": \"baseline\"}\n",
    "\n",
    "wt.case_study_trains.source_water = {\"case_study\": \"hrsd\", \n",
    "                             \"reference\": \"nawi\",\n",
    "                             \"scenario\": \"baseline\",\n",
    "                             \"water_type\": \"hrsd_municipal\"}\n",
    "\n",
    "m = wt.case_study_trains.get_case_study(m=m) # flow is set as case study flow unless defined.\n",
    "\n",
    "\n"
   ]
  },
  {
   "cell_type": "code",
   "execution_count": 2,
   "metadata": {},
   "outputs": [
    {
     "data": {
      "text/html": [
       "\n",
       "        <iframe\n",
       "            width=\"100%\"\n",
       "            height=\"500px\"\n",
       "            src=\"tmp/example.html\"\n",
       "            frameborder=\"0\"\n",
       "            allowfullscreen\n",
       "        ></iframe>\n",
       "        "
      ],
      "text/plain": [
       "<IPython.lib.display.IFrame at 0x7fa539235610>"
      ]
     },
     "execution_count": 2,
     "metadata": {},
     "output_type": "execute_result"
    }
   ],
   "source": [
    "wt.display.show_train2(model_name=m)"
   ]
  },
  {
   "cell_type": "code",
   "execution_count": 3,
   "metadata": {},
   "outputs": [
    {
     "name": "stdout",
     "output_type": "stream",
     "text": [
      "degrees_of_freedom: 0\n",
      "WaterTAP3 solution optimal\n",
      "optimal ro area and pressures:\n",
      "degrees_of_freedom: 0\n",
      "WaterTAP3 solution optimal\n",
      "fs.sw_onshore_intake\n",
      "total_cap_investment: 1.091405800373164\n",
      "----------------------------------------------------------------------\n",
      "fs.coagulant_addition\n",
      "total_cap_investment: 0.859865843461623\n",
      "----------------------------------------------------------------------\n",
      "fs.coag_and_floc\n",
      "total_cap_investment: 3.437239278286118\n",
      "----------------------------------------------------------------------\n",
      "fs.sedimentation\n",
      "total_cap_investment: 0.5827579419005313\n",
      "----------------------------------------------------------------------\n",
      "fs.ozone_aop\n",
      "total_cap_investment: 17.49928939833537\n",
      "----------------------------------------------------------------------\n",
      "fs.fixed_bed_gravity_basin\n",
      "total_cap_investment: 13.363784432168028\n",
      "----------------------------------------------------------------------\n",
      "fs.gac_pressure_vessel\n",
      "total_cap_investment: 13.4394246517668\n",
      "----------------------------------------------------------------------\n",
      "fs.uv_aop\n",
      "total_cap_investment: 4.303841246992729\n",
      "----------------------------------------------------------------------\n",
      "fs.chlorination\n",
      "total_cap_investment: 6.53840937760514\n",
      "----------------------------------------------------------------------\n",
      "fs.treated_storage\n",
      "total_cap_investment: 5.506346611135476\n",
      "----------------------------------------------------------------------\n",
      "fs.recharge_pump_well\n",
      "total_cap_investment: 32.15820668221721\n",
      "----------------------------------------------------------------------\n",
      "fs.sludge_tank\n",
      "total_cap_investment: 0.00809213273558251\n",
      "----------------------------------------------------------------------\n",
      "----------------------------------------------------------------------\n",
      "------------------- System Level Metrics and Costs -------------------\n",
      "Total Capital Investment ($MM) 98.78866339697778\n",
      "Annual Fixed Operating Cost ($MM/yr) 1.3096255859565575\n",
      "Annual Catalysts and Chemicals Cost ($MM/yr) 5.236717052894363\n",
      "Annual Electricity Costs ($MM/yr) 0.5308818566643955\n",
      "Annual Other Variable Costs ($MM/yr) 0.0\n",
      "Annual Operating Costs ($MM/yr) 7.077224495515316\n",
      "Treated water (m3/s) ---> 0.6369384590594136\n",
      "Total water recovery (%) ---> 86.32227109674349\n",
      "Electricity intensity (kwh/m3) --->  0.38583643120144784\n",
      "LCOW ($/m3) --->  0.6722711624700137\n",
      "Electricity portion of LCOW (%) ---> 3.9314188995096258\n",
      "----------------------------------------------------------------------\n"
     ]
    }
   ],
   "source": [
    "# # RUN MODEL with optimal ro --> estimating area and pressure for optimal LCOW\n",
    "# so that the model solves and gets you results. Then runs again with set pressure.\n",
    "for key in m.fs.pfd_dict.keys():\n",
    "    if m.fs.pfd_dict[key][\"Unit\"] == \"reverse_osmosis\":\n",
    "        getattr(m.fs, key).feed.pressure.unfix()\n",
    "        getattr(m.fs, key).membrane_area.unfix()\n",
    "        print(\"unfixing feed presure and area for\", key)\n",
    "        \n",
    "wt.run_water_tap(m = m, objective=True)\n",
    "\n",
    "# prints RO results\n",
    "print(\"optimal ro area and pressures:\")\n",
    "for key in m.fs.pfd_dict.keys():\n",
    "    if m.fs.pfd_dict[key][\"Unit\"] == \"reverse_osmosis\":\n",
    "        print(key, \"feed pressure\", getattr(m.fs, key).feed.pressure[0]())\n",
    "        print(key, \"membrane area\", getattr(m.fs, key).membrane_area[0]())\n",
    "\n",
    "# RESET PRESSURE TO USER INPUT\n",
    "for key in m.fs.pfd_dict.keys():\n",
    "    if m.fs.pfd_dict[key][\"Unit\"] == \"reverse_osmosis\":\n",
    "        if \"feed_pressure\" in m.fs.pfd_dict[key][\"Parameter\"]:\n",
    "            if m.fs.pfd_dict[key][\"Parameter\"][\"type\"] == \"pass\":\n",
    "                getattr(m.fs, key).feed.pressure.fix(m.fs.pfd_dict[key][\"Parameter\"][\"feed_pressure\"])\n",
    "                print(\"setting feed presure for\", key, \"to -->\", m.fs.pfd_dict[key][\"Parameter\"][\"feed_pressure\"])\n",
    "\n",
    "wt.run_water_tap(m = m, objective=True, print_model_results=\"summary\", skip_small = True)\n",
    "\n",
    "for key in m.fs.pfd_dict.keys():\n",
    "    if m.fs.pfd_dict[key][\"Unit\"] == \"reverse_osmosis\":\n",
    "        print(key, \"feed pressure\", getattr(m.fs, key).feed.pressure[0]())\n",
    "        print(key, \"membrane area\", getattr(m.fs, key).membrane_area[0]())"
   ]
  },
  {
   "cell_type": "code",
   "execution_count": 4,
   "metadata": {},
   "outputs": [],
   "source": [
    "# set cap utilization factor\n",
    "m.fs.costing_param.plant_cap_utilization = 1"
   ]
  },
  {
   "cell_type": "code",
   "execution_count": 5,
   "metadata": {},
   "outputs": [
    {
     "name": "stdout",
     "output_type": "stream",
     "text": [
      "degrees_of_freedom: 0\n",
      "WaterTAP3 solution optimal\n",
      "fs.sw_onshore_intake\n",
      "total_cap_investment: 1.091405800373164\n",
      "----------------------------------------------------------------------\n",
      "fs.coagulant_addition\n",
      "total_cap_investment: 0.859865843461623\n",
      "----------------------------------------------------------------------\n",
      "fs.coag_and_floc\n",
      "total_cap_investment: 3.437239278286118\n",
      "----------------------------------------------------------------------\n",
      "fs.sedimentation\n",
      "total_cap_investment: 0.5827579419005313\n",
      "----------------------------------------------------------------------\n",
      "fs.ozone_aop\n",
      "total_cap_investment: 17.49928939833537\n",
      "----------------------------------------------------------------------\n",
      "fs.fixed_bed_gravity_basin\n",
      "total_cap_investment: 13.363784432168028\n",
      "----------------------------------------------------------------------\n",
      "fs.gac_pressure_vessel\n",
      "total_cap_investment: 13.4394246517668\n",
      "----------------------------------------------------------------------\n",
      "fs.uv_aop\n",
      "total_cap_investment: 4.303841246992729\n",
      "----------------------------------------------------------------------\n",
      "fs.chlorination\n",
      "total_cap_investment: 6.53840937760514\n",
      "----------------------------------------------------------------------\n",
      "fs.treated_storage\n",
      "total_cap_investment: 5.506346611135476\n",
      "----------------------------------------------------------------------\n",
      "fs.recharge_pump_well\n",
      "total_cap_investment: 32.15820668221721\n",
      "----------------------------------------------------------------------\n",
      "fs.sludge_tank\n",
      "total_cap_investment: 0.00809213273558251\n",
      "----------------------------------------------------------------------\n",
      "----------------------------------------------------------------------\n",
      "------------------- System Level Metrics and Costs -------------------\n",
      "Total Capital Investment ($MM) 98.78866339697778\n",
      "Annual Fixed Operating Cost ($MM/yr) 1.3096255859565575\n",
      "Annual Catalysts and Chemicals Cost ($MM/yr) 5.236717052894363\n",
      "Annual Electricity Costs ($MM/yr) 0.5308818566643955\n",
      "Annual Other Variable Costs ($MM/yr) 0.0\n",
      "Annual Operating Costs ($MM/yr) 7.077224495515316\n",
      "Treated water (m3/s) ---> 0.6369384590594136\n",
      "Total water recovery (%) ---> 86.32227109674349\n",
      "Electricity intensity (kwh/m3) --->  0.38583643120144784\n",
      "LCOW ($/m3) --->  0.6722711624700137\n",
      "Electricity portion of LCOW (%) ---> 3.9314188995096258\n",
      "----------------------------------------------------------------------\n"
     ]
    }
   ],
   "source": [
    "wt.run_water_tap(m = m, objective=True, print_model_results=\"summary\", skip_small = True)\n",
    "for key in m.fs.pfd_dict.keys():\n",
    "    if m.fs.pfd_dict[key][\"Unit\"] == \"reverse_osmosis\":\n",
    "        print(key, \"feed pressure\", getattr(m.fs, key).feed.pressure[0]())\n",
    "        print(key, \"membrane area\", getattr(m.fs, key).membrane_area[0]())"
   ]
  },
  {
   "cell_type": "code",
   "execution_count": 6,
   "metadata": {},
   "outputs": [],
   "source": [
    "# RESET AREA TO USER INPUT\n",
    "for key in m.fs.pfd_dict.keys():\n",
    "    if m.fs.pfd_dict[key][\"Unit\"] == \"reverse_osmosis\":\n",
    "        getattr(m.fs, key).membrane_area.fix(getattr(m.fs, key).membrane_area[0]())"
   ]
  },
  {
   "cell_type": "code",
   "execution_count": 7,
   "metadata": {},
   "outputs": [],
   "source": [
    "# Readjust recovery constraint and deactivate objective constraint\n",
    "m.recovery_bound = Constraint(expr = m.fs.costing.system_recovery >= 0)\n",
    "m.fs.objective_function.deactivate()"
   ]
  },
  {
   "cell_type": "code",
   "execution_count": 8,
   "metadata": {},
   "outputs": [
    {
     "name": "stdout",
     "output_type": "stream",
     "text": [
      "degrees_of_freedom: 0\n",
      "WaterTAP3 solution optimal\n",
      "fs.sw_onshore_intake\n",
      "total_cap_investment: 1.091405800373164\n",
      "----------------------------------------------------------------------\n",
      "fs.coagulant_addition\n",
      "total_cap_investment: 0.859865843461623\n",
      "----------------------------------------------------------------------\n",
      "fs.coag_and_floc\n",
      "total_cap_investment: 3.437239278286118\n",
      "----------------------------------------------------------------------\n",
      "fs.sedimentation\n",
      "total_cap_investment: 0.5827579419005313\n",
      "----------------------------------------------------------------------\n",
      "fs.ozone_aop\n",
      "total_cap_investment: 17.49928939833537\n",
      "----------------------------------------------------------------------\n",
      "fs.fixed_bed_gravity_basin\n",
      "total_cap_investment: 13.363784432168028\n",
      "----------------------------------------------------------------------\n",
      "fs.gac_pressure_vessel\n",
      "total_cap_investment: 13.4394246517668\n",
      "----------------------------------------------------------------------\n",
      "fs.uv_aop\n",
      "total_cap_investment: 4.303841246992729\n",
      "----------------------------------------------------------------------\n",
      "fs.chlorination\n",
      "total_cap_investment: 6.53840937760514\n",
      "----------------------------------------------------------------------\n",
      "fs.treated_storage\n",
      "total_cap_investment: 5.506346611135476\n",
      "----------------------------------------------------------------------\n",
      "fs.recharge_pump_well\n",
      "total_cap_investment: 32.15820668221721\n",
      "----------------------------------------------------------------------\n",
      "fs.sludge_tank\n",
      "total_cap_investment: 0.00809213273558251\n",
      "----------------------------------------------------------------------\n",
      "----------------------------------------------------------------------\n",
      "------------------- System Level Metrics and Costs -------------------\n",
      "Total Capital Investment ($MM) 98.78866339697778\n",
      "Annual Fixed Operating Cost ($MM/yr) 1.3096255859565575\n",
      "Annual Catalysts and Chemicals Cost ($MM/yr) 5.236717052894363\n",
      "Annual Electricity Costs ($MM/yr) 0.5308818566643955\n",
      "Annual Other Variable Costs ($MM/yr) 0.0\n",
      "Annual Operating Costs ($MM/yr) 7.077224495515316\n",
      "Treated water (m3/s) ---> 0.6369384590594136\n",
      "Total water recovery (%) ---> 86.32227109674349\n",
      "Electricity intensity (kwh/m3) --->  0.38583643120144784\n",
      "LCOW ($/m3) --->  0.6722711624700137\n",
      "Electricity portion of LCOW (%) ---> 3.9314188995096258\n",
      "----------------------------------------------------------------------\n"
     ]
    }
   ],
   "source": [
    "# NOW RUN AS SIMULATION\n",
    "wt.run_water_tap(m = m, objective=False, print_model_results=\"summary\", skip_small = True)"
   ]
  },
  {
   "cell_type": "code",
   "execution_count": 9,
   "metadata": {},
   "outputs": [],
   "source": [
    "# creates csv in results folder with the name: *case_study*_*scenario*.csv\n",
    "# In this case, save the final baseline result.\n",
    "\n",
    "df = wt.get_results_table(m = m, case_study = wt.case_study_trains.source_water[\"case_study\"], \n",
    "                                scenario = wt.case_study_trains.source_water[\"scenario\"])"
   ]
  },
  {
   "cell_type": "code",
   "execution_count": null,
   "metadata": {},
   "outputs": [],
   "source": []
  },
  {
   "cell_type": "code",
   "execution_count": null,
   "metadata": {},
   "outputs": [],
   "source": []
  },
  {
   "cell_type": "code",
   "execution_count": null,
   "metadata": {},
   "outputs": [],
   "source": []
  },
  {
   "cell_type": "code",
   "execution_count": null,
   "metadata": {},
   "outputs": [],
   "source": []
  }
 ],
 "metadata": {
  "kernelspec": {
   "display_name": "Python 3",
   "language": "python",
   "name": "python3"
  },
  "language_info": {
   "codemirror_mode": {
    "name": "ipython",
    "version": 3
   },
   "file_extension": ".py",
   "mimetype": "text/x-python",
   "name": "python",
   "nbconvert_exporter": "python",
   "pygments_lexer": "ipython3",
   "version": "3.8.5"
  }
 },
 "nbformat": 4,
 "nbformat_minor": 4
}
