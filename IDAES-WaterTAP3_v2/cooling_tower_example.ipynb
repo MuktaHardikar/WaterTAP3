{
 "cells": [
  {
   "cell_type": "code",
   "execution_count": 198,
   "metadata": {},
   "outputs": [],
   "source": [
    "import watertap as wt\n",
    "import pandas as pd\n",
    "from pyomo.environ import value, Block\n",
    "from idaes.core import FlowsheetBlock\n",
    "import numpy as np\n",
    "from case_study_trains import *\n",
    "import case_study_trains\n",
    "import financials"
   ]
  },
  {
   "cell_type": "code",
   "execution_count": 243,
   "metadata": {},
   "outputs": [],
   "source": [
    "m = wt.watertap_setup(dynamic = False)\n",
    "wt.case_study_trains.train = {\"case_study\": \"Carlsbad\",\n",
    "                             \"reference\": \"NAWI\",\n",
    "                             \"scenario\": \"Baseline\"}\n",
    "\n",
    "wt.case_study_trains.source_water = {\"case_study\": \"Carlsbad\", \n",
    "                             \"reference\": \"NAWI\",\n",
    "                             \"scenario\": \"Baseline\",\n",
    "                             \"water_type\": \"Seawater\"}"
   ]
  },
  {
   "cell_type": "code",
   "execution_count": 244,
   "metadata": {},
   "outputs": [],
   "source": [
    "source_water = wt.case_study_trains.source_water"
   ]
  },
  {
   "cell_type": "code",
   "execution_count": 245,
   "metadata": {},
   "outputs": [
    {
     "name": "stdout",
     "output_type": "stream",
     "text": [
      "Carlsbad\n"
     ]
    }
   ],
   "source": [
    "financials.get_system_specs(m.fs, train=wt.case_study_trains.train)"
   ]
  },
  {
   "cell_type": "code",
   "execution_count": 246,
   "metadata": {},
   "outputs": [],
   "source": [
    "m.fs.water = WaterParameterBlock()"
   ]
  },
  {
   "cell_type": "code",
   "execution_count": 247,
   "metadata": {},
   "outputs": [
    {
     "name": "stdout",
     "output_type": "stream",
     "text": [
      "adding source\n"
     ]
    }
   ],
   "source": [
    "m = wt.design.add_water_source(m = m, source_name = \"source1\", reference = \"NAWI\", \n",
    "                               water_type = \"Seawater\", \n",
    "                     case_study = \"Carlsbad\", flow = 1) # m3/s "
   ]
  },
  {
   "cell_type": "code",
   "execution_count": 248,
   "metadata": {},
   "outputs": [],
   "source": [
    "unit_name = \"cooling_tower\""
   ]
  },
  {
   "cell_type": "code",
   "execution_count": 249,
   "metadata": {},
   "outputs": [],
   "source": [
    "# # \"evaporation_fraction\" method:\n",
    "# unit_params = {}\n",
    "# unit_params[\"method\"] = \"evaporation_fraction\"\n",
    "# unit_params[\"evaporation_fraction\"] = 0.3"
   ]
  },
  {
   "cell_type": "code",
   "execution_count": 250,
   "metadata": {},
   "outputs": [],
   "source": [
    "# \"make_up_mass_balance\" method:\n",
    "# unit_params = {}\n",
    "# unit_params[\"method\"] = \"make_up_mass_balance\"\n",
    "#unit_params[\"cycles\"] = 4.0 # optional -> eneter here or default of 5 will be used."
   ]
  },
  {
   "cell_type": "code",
   "execution_count": 251,
   "metadata": {},
   "outputs": [],
   "source": [
    "# # \"plant_info_with_makeup\" method:\n",
    "# unit_params = {}\n",
    "# unit_params[\"method\"] = \"plant_info_with_makeup\"\n",
    "# # CANNOT HAVE  CYCLES DEFINED\n",
    "# unit_params[\"fuel\"] = \"nuclear\" # fuel type\n",
    "# unit_params[\"nameplate\"] = 1000.0 # Nameplate MW\n",
    "# unit_params[\"make_up\"] = 1.4 # m3/s withdrawal from river"
   ]
  },
  {
   "cell_type": "code",
   "execution_count": 252,
   "metadata": {},
   "outputs": [],
   "source": [
    "# \"plant_info_without_makeup\" method:\n",
    "unit_params = {}\n",
    "unit_params[\"method\"] = \"plant_info_without_makeup\"\n",
    "# CANNOT HAVE  MAKE UP DEFINED\n",
    "unit_params[\"fuel\"] = \"nuclear\" # fuel type\n",
    "unit_params[\"nameplate\"] = 1000.0 # Nameplate MW\n",
    "#unit_params[\"cycles\"] = 4.0 # optional -> eneter here or default of 5 will be used."
   ]
  },
  {
   "cell_type": "code",
   "execution_count": 253,
   "metadata": {},
   "outputs": [
    {
     "name": "stdout",
     "output_type": "stream",
     "text": [
      "assuming cycles of concentration is: 5.0\n",
      "make up not given as a result of assumptions, cycles of concentration are given\n",
      "assuming thermal efficiency of plant is: 0.3\n",
      "assuming test with source1\n"
     ]
    }
   ],
   "source": [
    "import cooling_tower as unit_model\n",
    "setattr(m.fs, unit_name, unit_model.UnitProcess(default={\"property_package\": m.fs.water}))\n",
    "getattr(m.fs, unit_name).get_costing(module=financials, unit_params = unit_params)"
   ]
  },
  {
   "cell_type": "code",
   "execution_count": 254,
   "metadata": {},
   "outputs": [],
   "source": [
    "m.fs.arc1 = Arc(source=m.fs.source1.outlet, destination = getattr(m.fs, unit_name).inlet)"
   ]
  },
  {
   "cell_type": "code",
   "execution_count": 255,
   "metadata": {},
   "outputs": [
    {
     "data": {
      "text/html": [
       "\n",
       "        <iframe\n",
       "            width=\"100%\"\n",
       "            height=\"500px\"\n",
       "            src=\"tmp/example.html\"\n",
       "            frameborder=\"0\"\n",
       "            allowfullscreen\n",
       "        ></iframe>\n",
       "        "
      ],
      "text/plain": [
       "<IPython.lib.display.IFrame at 0x7fdc48c03e10>"
      ]
     },
     "execution_count": 255,
     "metadata": {},
     "output_type": "execute_result"
    }
   ],
   "source": [
    "wt.display.show_train2(model_name=m)"
   ]
  },
  {
   "cell_type": "code",
   "execution_count": 256,
   "metadata": {
    "scrolled": true
   },
   "outputs": [
    {
     "name": "stdout",
     "output_type": "stream",
     "text": [
      "degrees_of_freedom: 11\n",
      "WaterTAP3 solution optimal\n",
      "----------------------------------------------------------------------\n",
      "fs.source1\n",
      "inlet : Size=1\n",
      "    Key  : Name        : Value\n",
      "    None :   conc_mass : {(0.0, 'boron'): 0.0044, (0.0, 'bromide'): 0.0663, (0.0, 'calcium'): 0.4096, (0.0, 'chloride'): 19.162, (0.0, 'magnesium'): 1.278, (0.0, 'potassium'): 0.3953, (0.0, 'sodium'): 10.679, (0.0, 'strontium'): 0.0013, (0.0, 'sulfate'): 2.68, (0.0, 'tds'): 35.0, (0.0, 'tss'): 0.03}\n",
      "         :    flow_vol : {0.0: 1.09467081132953}\n",
      "         :    pressure : {0.0: 1}\n",
      "         : temperature : {0.0: 300}\n",
      "outlet : Size=1\n",
      "    Key  : Name        : Value\n",
      "    None :   conc_mass : {(0.0, 'boron'): 0.0044, (0.0, 'bromide'): 0.0663, (0.0, 'calcium'): 0.4096, (0.0, 'chloride'): 19.162, (0.0, 'magnesium'): 1.278, (0.0, 'potassium'): 0.3953, (0.0, 'sodium'): 10.679, (0.0, 'strontium'): 0.0013, (0.0, 'sulfate'): 2.68, (0.0, 'tds'): 35.0, (0.0, 'tss'): 0.03}\n",
      "         :    flow_vol : {0.0: 1.09467081132953}\n",
      "         :    pressure : {0.0: 1.0}\n",
      "         : temperature : {0.0: 300.0}\n",
      "----------------------------------------------------------------------\n",
      "fs.cooling_tower\n",
      "inlet : Size=1\n",
      "    Key  : Name        : Value\n",
      "    None :   conc_mass : {(0.0, 'boron'): 0.0044, (0.0, 'bromide'): 0.0663, (0.0, 'calcium'): 0.4096, (0.0, 'chloride'): 19.162, (0.0, 'magnesium'): 1.278, (0.0, 'potassium'): 0.3953, (0.0, 'sodium'): 10.679, (0.0, 'strontium'): 0.0013, (0.0, 'sulfate'): 2.68, (0.0, 'tds'): 35.0, (0.0, 'tss'): 0.03}\n",
      "         :    flow_vol : {0.0: 1.09467081132953}\n",
      "         :    pressure : {0.0: 1.0}\n",
      "         : temperature : {0.0: 300.0}\n",
      "outlet : Size=1\n",
      "    Key  : Name        : Value\n",
      "    None :   conc_mass : {(0.0, 'boron'): 0.007333349397484877, (0.0, 'bromide'): 0.11050018504576428, (0.0, 'calcium'): 0.6826012072521138, (0.0, 'chloride'): 36.618994347611, (0.0, 'magnesium'): 2.1147279885086423, (0.0, 'potassium'): 0.658770348840636, (0.0, 'sodium'): 21.658902449849336, (0.0, 'strontium'): 0.00216667141333968, (0.0, 'sulfate'): 4.584817207312318, (0.0, 'tds'): 54.525508363725734, (0.0, 'tss'): 0.05000009886009007}\n",
      "         :    flow_vol : {0.0: 0.218934162265906}\n",
      "         :    pressure : {0.0: 1.0}\n",
      "         : temperature : {0.0: 300.0}\n",
      "waste : Size=1\n",
      "    Key  : Name        : Value\n",
      "    None :   conc_mass : {(0.0, 'boron'): 0.003666662650628781, (0.0, 'bromide'): 0.05524995373855892, (0.0, 'calcium'): 0.3413496981869716, (0.0, 'chloride'): 14.79775141309725, (0.0, 'magnesium'): 1.0688180028728391, (0.0, 'potassium'): 0.329432412789841, (0.0, 'sodium'): 7.934024387537667, (0.0, 'strontium'): 0.00108333214666508, (0.0, 'sulfate'): 2.2037956981719207, (0.0, 'tds'): 30.118622909068566, (0.0, 'tss'): 0.024999975284977487}\n",
      "         :    flow_vol : {0.0: 0.875736649063624}\n",
      "         :    pressure : {0.0: 1.0}\n",
      "         : temperature : {0.0: 300.0}\n",
      "total_cap_investment: 1.1510463581245113e-09\n",
      "----------------------------------------------------------------------\n",
      "Cycles of concentration ---> 5.0\n",
      "make up ---> fs.cooling_tower.flow_vol_in[0.0]\n",
      "evaporation ---> fs.cooling_tower.flow_vol_in[0.0] - 0.2*fs.cooling_tower.flow_vol_in[0.0]\n",
      "blowdown ---> 0.2*fs.cooling_tower.flow_vol_in[0.0]\n",
      "Cycles check --> fs.cooling_tower.flow_vol_in[0.0]/(0.2*fs.cooling_tower.flow_vol_in[0.0])\n"
     ]
    }
   ],
   "source": [
    "wt.run_water_tap(m = m, solver_results = False, print_model_results = True, objective=False)\n",
    "print(\"Cycles of concentration --->\", m.fs.cooling_tower.cycles)\n",
    "print(\"make up --->\", m.fs.cooling_tower.make_up)\n",
    "print(\"evaporation --->\", m.fs.cooling_tower.evaporation)\n",
    "print(\"blowdown --->\", m.fs.cooling_tower.blowdown)\n",
    "print(\"Cycles check -->\", m.fs.cooling_tower.make_up / m.fs.cooling_tower.blowdown)"
   ]
  },
  {
   "cell_type": "code",
   "execution_count": null,
   "metadata": {},
   "outputs": [],
   "source": []
  },
  {
   "cell_type": "code",
   "execution_count": null,
   "metadata": {},
   "outputs": [],
   "source": []
  },
  {
   "cell_type": "code",
   "execution_count": null,
   "metadata": {},
   "outputs": [],
   "source": []
  },
  {
   "cell_type": "code",
   "execution_count": null,
   "metadata": {},
   "outputs": [],
   "source": []
  },
  {
   "cell_type": "code",
   "execution_count": null,
   "metadata": {},
   "outputs": [],
   "source": []
  },
  {
   "cell_type": "code",
   "execution_count": null,
   "metadata": {},
   "outputs": [],
   "source": []
  }
 ],
 "metadata": {
  "kernelspec": {
   "display_name": "Python 3",
   "language": "python",
   "name": "python3"
  },
  "language_info": {
   "codemirror_mode": {
    "name": "ipython",
    "version": 3
   },
   "file_extension": ".py",
   "mimetype": "text/x-python",
   "name": "python",
   "nbconvert_exporter": "python",
   "pygments_lexer": "ipython3",
   "version": "3.7.4"
  }
 },
 "nbformat": 4,
 "nbformat_minor": 4
}
