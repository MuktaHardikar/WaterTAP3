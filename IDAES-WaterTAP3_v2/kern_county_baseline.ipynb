{
 "cells": [
  {
   "cell_type": "code",
   "execution_count": 1,
   "metadata": {
    "scrolled": false
   },
   "outputs": [
    {
     "name": "stdout",
     "output_type": "stream",
     "text": [
      "kern_county\n",
      "\n",
      "------- Adding Unit Processes -------\n",
      "primary_separator\n",
      "sedimentation\n",
      "air_flotation\n",
      "walnut_shell_filter\n",
      "blending_reservoir\n",
      "irrigation\n",
      "landfill\n",
      "-------------------------------------\n",
      "\n",
      "adding source\n",
      "adding source\n",
      "\n",
      "Connecting unit processes...\n"
     ]
    }
   ],
   "source": [
    "import watertap as wt\n",
    "import pandas as pd\n",
    "from pyomo.environ import value, Block\n",
    "from idaes.core import FlowsheetBlock\n",
    "import numpy as np\n",
    "from case_study_trains import *\n",
    "import case_study_trains\n",
    "import pyomo.environ as env\n",
    "from pyomo.environ import Constraint\n",
    "m = wt.watertap_setup(dynamic=False)\n",
    "\n",
    "\n",
    "wt.case_study_trains.train = {\"case_study\": \"kern_county\",\n",
    "                             \"reference\": \"nawi\",\n",
    "                             \"scenario\": \"baseline\"}\n",
    "\n",
    "wt.case_study_trains.source_water = {\"case_study\": \"kern_county\", \n",
    "                             \"reference\": \"nawi\",\n",
    "                             \"scenario\": \"baseline\",\n",
    "                             \"water_type\": [\"produced_water\", \"surface_water\"]}\n",
    "\n",
    "m = wt.case_study_trains.get_case_study(m=m) # flow is set as case study flow unless defined.\n",
    "\n"
   ]
  },
  {
   "cell_type": "code",
   "execution_count": 2,
   "metadata": {},
   "outputs": [
    {
     "data": {
      "text/html": [
       "\n",
       "        <iframe\n",
       "            width=\"100%\"\n",
       "            height=\"500px\"\n",
       "            src=\"tmp/example.html\"\n",
       "            frameborder=\"0\"\n",
       "            allowfullscreen\n",
       "        ></iframe>\n",
       "        "
      ],
      "text/plain": [
       "<IPython.lib.display.IFrame at 0x7fbec329bcd0>"
      ]
     },
     "execution_count": 2,
     "metadata": {},
     "output_type": "execute_result"
    }
   ],
   "source": [
    "wt.display.show_train2(model_name=m)"
   ]
  },
  {
   "cell_type": "code",
   "execution_count": 3,
   "metadata": {},
   "outputs": [],
   "source": [
    "# set cap utilization factor\n",
    "m.fs.costing_param.plant_cap_utilization = 1"
   ]
  },
  {
   "cell_type": "code",
   "execution_count": 4,
   "metadata": {},
   "outputs": [
    {
     "name": "stdout",
     "output_type": "stream",
     "text": [
      "----------------------------------------------------------------------\n",
      "\n",
      "Degrees of Freedom: 0\n",
      "\n",
      "WaterTAP3 solution optimal \n",
      "\n",
      "----------------------------------------------------------------------\n",
      "\n",
      "***UNIT PROCESS RESULTS (in $MM)***\n",
      "\n",
      "\n",
      "PRIMARY SEPARATOR:\n",
      "\n",
      "\ttotal cap investment: 0.61734\n",
      "\tcat and chem cost: 0.0\n",
      "\telectricity cost: 0.0\n",
      "\ttotal fixed op cost: 0.00819\n",
      "\n",
      "SEDIMENTATION:\n",
      "\n",
      "\ttotal cap investment: 0.65594\n",
      "\tcat and chem cost: 0.0\n",
      "\telectricity cost: 0.0\n",
      "\ttotal fixed op cost: 0.00873\n",
      "\n",
      "AIR FLOTATION:\n",
      "\n",
      "\ttotal cap investment: 1.42476\n",
      "\tcat and chem cost: 0.0\n",
      "\telectricity cost: 1.22146\n",
      "\ttotal fixed op cost: 0.01891\n",
      "\n",
      "WALNUT SHELL FILTER:\n",
      "\n",
      "\ttotal cap investment: 5.22992\n",
      "\tcat and chem cost: 0.0\n",
      "\telectricity cost: 0.0\n",
      "\ttotal fixed op cost: 0.06964\n",
      "\n",
      "BLENDING RESERVOIR:\n",
      "\n",
      "\ttotal cap investment: 0.6692\n",
      "\tcat and chem cost: 0.0\n",
      "\telectricity cost: 0.0\n",
      "\ttotal fixed op cost: 0.00888\n",
      "\n",
      "IRRIGATION:\n",
      "\n",
      "\ttotal cap investment: 5.11356\n",
      "\tcat and chem cost: 0.0\n",
      "\telectricity cost: 0.58573\n",
      "\ttotal fixed op cost: 0.06784\n",
      "\n",
      "LANDFILL:\n",
      "\n",
      "\ttotal cap investment: 0.0041\n",
      "\tcat and chem cost: 0.0\n",
      "\telectricity cost: 0.0\n",
      "\ttotal fixed op cost: 5e-05\n",
      "\n",
      "----------------------------------------------------------------------\n",
      "\n",
      "\n",
      "----------------------------------------------------------------------\n",
      "------------------- System Level Metrics and Costs -------------------\n",
      "Total Capital Investment ($MM) 13.715\n",
      "Annual Fixed Operating Cost ($MM/yr) 0.182\n",
      "Annual Catalysts and Chemicals Cost ($MM/yr) 0.0\n",
      "Annual Electricity Costs ($MM/yr) 1.807\n",
      "Annual Other Variable Costs ($MM/yr) 0.0\n",
      "Annual Operating Costs ($MM/yr) 1.989\n",
      "Treated water (m3/s) ---> 2.705\n",
      "Total water recovery (%) ---> 99.583\n",
      "Electricity intensity (kwh/m3) --->  0.158\n",
      "LCOW ($/m3) --->  0.033\n",
      "Electricity portion of LCOW (%) ---> 64.947\n",
      "----------------------------------------------------------------------\n"
     ]
    }
   ],
   "source": [
    "# NOW RUN AS SIMULATION\n",
    "wt.run_water_tap(m=m, print_model_results=\"summary\", skip_small=True)"
   ]
  },
  {
   "cell_type": "code",
   "execution_count": 5,
   "metadata": {},
   "outputs": [],
   "source": [
    "# creates csv in results folder with the name: *case_study*_*scenario*.csv\n",
    "# In this case, save the final baseline result.\n",
    "\n",
    "df = wt.get_results_table(m=m, case_study=wt.case_study_trains.source_water[\"case_study\"], \n",
    "                                scenario=wt.case_study_trains.source_water[\"scenario\"])"
   ]
  },
  {
   "cell_type": "code",
   "execution_count": null,
   "metadata": {},
   "outputs": [],
   "source": []
  },
  {
   "cell_type": "code",
   "execution_count": 6,
   "metadata": {},
   "outputs": [],
   "source": [
    "# LCOW \"What-if\" without the addition of surface_water"
   ]
  },
  {
   "cell_type": "code",
   "execution_count": 7,
   "metadata": {},
   "outputs": [],
   "source": [
    "total_cost = 0.027*2.706 # $ with full treated flow"
   ]
  },
  {
   "cell_type": "code",
   "execution_count": 8,
   "metadata": {},
   "outputs": [
    {
     "data": {
      "text/plain": [
       "0.073062"
      ]
     },
     "execution_count": 8,
     "metadata": {},
     "output_type": "execute_result"
    }
   ],
   "source": [
    "total_cost"
   ]
  },
  {
   "cell_type": "code",
   "execution_count": 9,
   "metadata": {},
   "outputs": [],
   "source": [
    "surface = m.fs.surface_water.flow_vol_in[0]() # amount of surface water added"
   ]
  },
  {
   "cell_type": "code",
   "execution_count": 10,
   "metadata": {},
   "outputs": [
    {
     "data": {
      "text/plain": [
       "0.07662506554798112"
      ]
     },
     "execution_count": 10,
     "metadata": {},
     "output_type": "execute_result"
    }
   ],
   "source": [
    "total_cost/(2.706-surface) # $/m3 without the surface water"
   ]
  },
  {
   "cell_type": "code",
   "execution_count": null,
   "metadata": {},
   "outputs": [],
   "source": []
  },
  {
   "cell_type": "code",
   "execution_count": null,
   "metadata": {},
   "outputs": [],
   "source": []
  }
 ],
 "metadata": {
  "kernelspec": {
   "display_name": "Python 3",
   "language": "python",
   "name": "python3"
  },
  "language_info": {
   "codemirror_mode": {
    "name": "ipython",
    "version": 3
   },
   "file_extension": ".py",
   "mimetype": "text/x-python",
   "name": "python",
   "nbconvert_exporter": "python",
   "pygments_lexer": "ipython3",
   "version": "3.7.4"
  }
 },
 "nbformat": 4,
 "nbformat_minor": 4
}
