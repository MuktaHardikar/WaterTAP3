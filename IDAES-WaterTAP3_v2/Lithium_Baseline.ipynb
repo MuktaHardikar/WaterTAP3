{
 "cells": [
  {
   "cell_type": "code",
   "execution_count": 1,
   "metadata": {},
   "outputs": [
    {
     "name": "stdout",
     "output_type": "stream",
     "text": [
      "lithium\n",
      "------- Adding Unit Processes -------\n",
      "well_field\n",
      "evaporation_pond_a\n",
      "sedimentation\n",
      "evaporation_pond_b\n",
      "treated_storage\n",
      "3600.0\n",
      "municipal_drinking\n",
      "sludge_tank\n",
      "-------------------------------------\n",
      "adding source\n",
      "----- Connecting Unit Processes -----\n",
      "lithium_brine ToUnitName --> well_field\n",
      "well_field ToUnitName --> evaporation_pond_a\n",
      "evaporation_pond_a ToUnitName --> sedimentation\n",
      "sedimentation ToUnitName --> evaporation_pond_b\n",
      "sedimentation ToUnitName --> sludge_tank\n",
      "evaporation_pond_b ToUnitName --> treated_storage\n",
      "treated_storage ToUnitName --> municipal_drinking\n",
      "-------------------------------------\n"
     ]
    }
   ],
   "source": [
    "import watertap as wt\n",
    "import pandas as pd\n",
    "from pyomo.environ import value, Block\n",
    "from idaes.core import FlowsheetBlock\n",
    "import numpy as np\n",
    "from case_study_trains import *\n",
    "import case_study_trains\n",
    "import pyomo.environ as env\n",
    "from pyomo.environ import Constraint\n",
    "m = wt.watertap_setup(dynamic = False)\n",
    "\n",
    "\n",
    "wt.case_study_trains.train = {\"case_study\": \"lithium\",\n",
    "                             \"reference\": \"nawi\",\n",
    "                             \"scenario\": \"baseline\"}\n",
    "\n",
    "\n",
    "wt.case_study_trains.source_water = {\"case_study\": \"lithium\", \n",
    "                             \"reference\": \"nawi\",\n",
    "                             \"scenario\": \"baseline\",\n",
    "                             \"water_type\": \"lithium_brine\"}\n",
    "\n",
    "m = wt.case_study_trains.get_case_study(m=m) # flow is set as case study flow unless defined.\n",
    "\n"
   ]
  },
  {
   "cell_type": "code",
   "execution_count": 2,
   "metadata": {},
   "outputs": [
    {
     "data": {
      "text/html": [
       "\n",
       "        <iframe\n",
       "            width=\"100%\"\n",
       "            height=\"500px\"\n",
       "            src=\"tmp/example.html\"\n",
       "            frameborder=\"0\"\n",
       "            allowfullscreen\n",
       "        ></iframe>\n",
       "        "
      ],
      "text/plain": [
       "<IPython.lib.display.IFrame at 0x7fbcc4a3f3d0>"
      ]
     },
     "execution_count": 2,
     "metadata": {},
     "output_type": "execute_result"
    }
   ],
   "source": [
    "wt.display.show_train2(model_name=m)"
   ]
  },
  {
   "cell_type": "code",
   "execution_count": 3,
   "metadata": {},
   "outputs": [
    {
     "name": "stdout",
     "output_type": "stream",
     "text": [
      "degrees_of_freedom: 0\n",
      "WaterTAP3 solution optimal\n",
      "fs.well_field\n",
      "total_cap_investment: 37.43625128491722\n",
      "----------------------------------------------------------------------\n",
      "fs.evaporation_pond_a\n",
      "total_cap_investment: 703.4959416656698\n",
      "----------------------------------------------------------------------\n",
      "fs.sedimentation\n",
      "total_cap_investment: 0.41868949851626297\n",
      "----------------------------------------------------------------------\n",
      "fs.evaporation_pond_b\n",
      "total_cap_investment: 73.54063498797008\n",
      "----------------------------------------------------------------------\n",
      "fs.treated_storage\n",
      "total_cap_investment: 0.08684442422801975\n",
      "----------------------------------------------------------------------\n",
      "fs.municipal_drinking\n",
      "total_cap_investment: 0.04727648804146663\n",
      "----------------------------------------------------------------------\n",
      "fs.sludge_tank\n",
      "total_cap_investment: 0.02472699962688501\n",
      "----------------------------------------------------------------------\n",
      "----------------------------------------------------------------------\n",
      "------------------- System Level Metrics and Costs -------------------\n",
      "Total Capital Investment ($MM) 815.0503653489698\n",
      "Annual Fixed Operating Cost ($MM/yr) 10.851482545208837\n",
      "Annual Catalysts and Chemicals Cost ($MM/yr) 0.0\n",
      "Annual Electricity Costs ($MM/yr) 0.007386425070456414\n",
      "Annual Other Variable Costs ($MM/yr) 0.0\n",
      "Annual Operating Costs ($MM/yr) 10.858868970279293\n",
      "Treated water (m3/s) ---> 0.012092910849673339\n",
      "Total water recovery (%) ---> 0.2651189259784834\n",
      "Electricity intensity (kwh/m3) --->  0.30743711001552787\n",
      "LCOW ($/m3) --->  167.50242230697464\n",
      "Electricity portion of LCOW (%) ---> 0.011563139006719767\n",
      "----------------------------------------------------------------------\n"
     ]
    }
   ],
   "source": [
    "wt.run_water_tap(m = m, objective=False, print_model_results=\"summary\", skip_small = True)"
   ]
  },
  {
   "cell_type": "code",
   "execution_count": null,
   "metadata": {},
   "outputs": [],
   "source": []
  },
  {
   "cell_type": "code",
   "execution_count": 4,
   "metadata": {},
   "outputs": [],
   "source": [
    "# set cap utilization factor\n",
    "m.fs.costing_param.plant_cap_utilization = 1"
   ]
  },
  {
   "cell_type": "code",
   "execution_count": 5,
   "metadata": {},
   "outputs": [
    {
     "name": "stdout",
     "output_type": "stream",
     "text": [
      "degrees_of_freedom: 0\n",
      "WaterTAP3 solution optimal\n",
      "fs.well_field\n",
      "total_cap_investment: 37.43625128512063\n",
      "----------------------------------------------------------------------\n",
      "fs.evaporation_pond_a\n",
      "total_cap_investment: 703.4959416696423\n",
      "----------------------------------------------------------------------\n",
      "fs.sedimentation\n",
      "total_cap_investment: 0.4186894984914198\n",
      "----------------------------------------------------------------------\n",
      "fs.evaporation_pond_b\n",
      "total_cap_investment: 73.5406349748124\n",
      "----------------------------------------------------------------------\n",
      "fs.treated_storage\n",
      "total_cap_investment: 0.0868444242208333\n",
      "----------------------------------------------------------------------\n",
      "fs.municipal_drinking\n",
      "total_cap_investment: 0.04727648803331917\n",
      "----------------------------------------------------------------------\n",
      "fs.sludge_tank\n",
      "total_cap_investment: 0.024729063660289378\n",
      "----------------------------------------------------------------------\n",
      "----------------------------------------------------------------------\n",
      "------------------- System Level Metrics and Costs -------------------\n",
      "Total Capital Investment ($MM) 815.0503674039812\n",
      "Annual Fixed Operating Cost ($MM/yr) 10.851482572471731\n",
      "Annual Catalysts and Chemicals Cost ($MM/yr) 0.0\n",
      "Annual Electricity Costs ($MM/yr) 0.0073864250689859865\n",
      "Annual Other Variable Costs ($MM/yr) 0.0\n",
      "Annual Operating Costs ($MM/yr) 10.858868997540718\n",
      "Treated water (m3/s) ---> 0.01209291084666085\n",
      "Total water recovery (%) ---> 0.26511892591243913\n",
      "Electricity intensity (kwh/m3) --->  0.3074371100309122\n",
      "LCOW ($/m3) --->  167.50242277072272\n",
      "Electricity portion of LCOW (%) ---> 0.011563138975284624\n",
      "----------------------------------------------------------------------\n"
     ]
    }
   ],
   "source": []
  },
  {
   "cell_type": "code",
   "execution_count": 6,
   "metadata": {},
   "outputs": [],
   "source": []
  },
  {
   "cell_type": "code",
   "execution_count": 7,
   "metadata": {},
   "outputs": [],
   "source": []
  },
  {
   "cell_type": "code",
   "execution_count": 8,
   "metadata": {},
   "outputs": [
    {
     "name": "stdout",
     "output_type": "stream",
     "text": [
      "degrees_of_freedom: 0\n",
      "WaterTAP3 solution optimal\n",
      "fs.well_field\n",
      "total_cap_investment: 37.43625128512063\n",
      "----------------------------------------------------------------------\n",
      "fs.evaporation_pond_a\n",
      "total_cap_investment: 703.4959416696423\n",
      "----------------------------------------------------------------------\n",
      "fs.sedimentation\n",
      "total_cap_investment: 0.4186894984914198\n",
      "----------------------------------------------------------------------\n",
      "fs.evaporation_pond_b\n",
      "total_cap_investment: 73.5406349748124\n",
      "----------------------------------------------------------------------\n",
      "fs.treated_storage\n",
      "total_cap_investment: 0.0868444242208333\n",
      "----------------------------------------------------------------------\n",
      "fs.municipal_drinking\n",
      "total_cap_investment: 0.04727648803331917\n",
      "----------------------------------------------------------------------\n",
      "fs.sludge_tank\n",
      "total_cap_investment: 0.02472906366028938\n",
      "----------------------------------------------------------------------\n",
      "----------------------------------------------------------------------\n",
      "------------------- System Level Metrics and Costs -------------------\n",
      "Total Capital Investment ($MM) 815.0503674039813\n",
      "Annual Fixed Operating Cost ($MM/yr) 10.851482572471731\n",
      "Annual Catalysts and Chemicals Cost ($MM/yr) 0.0\n",
      "Annual Electricity Costs ($MM/yr) 0.0073864250689859865\n",
      "Annual Other Variable Costs ($MM/yr) 0.0\n",
      "Annual Operating Costs ($MM/yr) 10.858868997540718\n",
      "Treated water (m3/s) ---> 0.01209291084666085\n",
      "Total water recovery (%) ---> 0.26511892591243913\n",
      "Electricity intensity (kwh/m3) --->  0.3074371100309122\n",
      "LCOW ($/m3) --->  167.50242277072275\n",
      "Electricity portion of LCOW (%) ---> 0.011563138975284621\n",
      "----------------------------------------------------------------------\n"
     ]
    }
   ],
   "source": [
    "# NOW RUN AS SIMULATION\n",
    "wt.run_water_tap(m = m, objective=False, print_model_results=\"summary\", skip_small = True)"
   ]
  },
  {
   "cell_type": "code",
   "execution_count": 9,
   "metadata": {},
   "outputs": [],
   "source": [
    "# creates csv in results folder with the name: *case_study*_*scenario*.csv\n",
    "# In this case, save the final baseline result.\n",
    "\n",
    "df = wt.get_results_table(m = m, case_study = wt.case_study_trains.source_water[\"case_study\"], \n",
    "                                scenario = wt.case_study_trains.source_water[\"scenario\"])"
   ]
  },
  {
   "cell_type": "code",
   "execution_count": null,
   "metadata": {},
   "outputs": [],
   "source": []
  }
 ],
 "metadata": {
  "kernelspec": {
   "display_name": "Python 3",
   "language": "python",
   "name": "python3"
  },
  "language_info": {
   "codemirror_mode": {
    "name": "ipython",
    "version": 3
   },
   "file_extension": ".py",
   "mimetype": "text/x-python",
   "name": "python",
   "nbconvert_exporter": "python",
   "pygments_lexer": "ipython3",
   "version": "3.8.5"
  }
 },
 "nbformat": 4,
 "nbformat_minor": 4
}
