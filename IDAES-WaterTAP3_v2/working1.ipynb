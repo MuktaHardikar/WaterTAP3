{
 "cells": [
  {
   "cell_type": "code",
   "execution_count": 23,
   "metadata": {},
   "outputs": [],
   "source": [
    "from pyomo.environ import ConcreteModel, SolverFactory, TransformationFactory\n",
    "from pyomo.network import Arc, SequentialDecomposition\n",
    "import pyomo.environ as env\n",
    "\n",
    "from idaes.core import FlowsheetBlock\n",
    "\n",
    "# Import properties and units from \"WaterTAP Library\"\n",
    "from water_props import WaterParameterBlock\n",
    "#from model_example import UnitProcess\n",
    "from source_example import Source\n",
    "from split_test import Split\n",
    "from mixer_example import Mixer1\n",
    "\n",
    "import financials\n",
    "\n",
    "import watertap as wt\n",
    "\n",
    "from pyomo.environ import ConcreteModel, SolverFactory, TerminationCondition, \\\n",
    "    value, Var, Constraint, Expression, Objective, TransformationFactory, units as pyunits\n",
    "from pyomo.network import Arc, SequentialDecomposition\n",
    "from idaes.core import FlowsheetBlock\n",
    "from idaes.generic_models.unit_models import Mixer, Pump\n",
    "\n",
    "from idaes.generic_models.unit_models import Separator as Splitter\n",
    "\n",
    "from idaes.core.util.model_statistics import degrees_of_freedom\n",
    "from pyomo.util.check_units import assert_units_consistent\n",
    "import pyomo.util.infeasible as infeas\n",
    "import idaes.core.util.scaling as iscale"
   ]
  },
  {
   "cell_type": "markdown",
   "metadata": {},
   "source": [
    "#### This workbook includes the ability to: add a unit process, a source, and use, a splitter, and a mixer. The mixer can take multiple inlets with one outlet. The splitter on inlet and ONLY TWO outlets. Nano and chlorination tested only. Optimization works by unfixing variables such as the splitter fraction."
   ]
  },
  {
   "cell_type": "code",
   "execution_count": 24,
   "metadata": {},
   "outputs": [],
   "source": [
    "def add_unit_process(m = None, unit_process_name = None, unit_process_type = None, with_connection = False,\n",
    "                     from_splitter = False, splitter_tream = None,\n",
    "                    link_to = None, link_from = None, connection_type = \"series\", stream_name = None): # in design\n",
    "        \n",
    "#     if unit_process_type == \"nanofiltration\":\n",
    "#         import nanofiltration_twb as up_module\n",
    "\n",
    "#     if unit_process_type == \"chlorination\":\n",
    "#         import chlorination_twb as up_module        \n",
    "    \n",
    "    up_module = wt.module_import.get_module(unit_process_name)\n",
    "    \n",
    "    setattr(m.fs, unit_process_name, up_module.UnitProcess(default={\"property_package\": m.fs.water}))\n",
    "    \n",
    "    m = up_module.create(m, unit_process_name)\n",
    "    \n",
    "    if with_connection == True:\n",
    "        \n",
    "        if from_splitter == True:\n",
    "            \n",
    "            setattr(m.fs, splitter_tream, \n",
    "                    Arc(source=getattr(m.fs, link_from).outlet1, \n",
    "                                           destination=getattr(m.fs, link_to).inlet))            \n",
    "            \n",
    "        if from_splitter == False:\n",
    "            m = connect_blocks(m = m, up1 = link_from, up2 = link_to, \n",
    "                               connection_type = connection_type, \n",
    "                               stream_name = stream_name)\n",
    "    \n",
    "    return m\n",
    "    "
   ]
  },
  {
   "cell_type": "code",
   "execution_count": 25,
   "metadata": {},
   "outputs": [],
   "source": [
    "def connect_blocks(m = None, up1 = None, up2 = None, connection_type = None, stream_name = None): # in design\n",
    "    \n",
    "    #m.fs.stream1 = Arc(source=m.fs.NF01.outlet, destination=m.fs.NF02.inlet)\n",
    "    \n",
    "    setattr(m.fs, stream_name, \n",
    "            Arc(source=getattr(m.fs, up1).outlet, \n",
    "                                   destination=getattr(m.fs, up2).inlet))\n",
    "            \n",
    "    return m"
   ]
  },
  {
   "cell_type": "code",
   "execution_count": 26,
   "metadata": {},
   "outputs": [],
   "source": [
    "def add_water_source(m = None, source_name = None, link_to = None, \n",
    "                     reference = None, water_type = None, case_study = None, flow = 0): # in design\n",
    "    \n",
    "    import importfile\n",
    "    \n",
    "    df = importfile.feedwater(\n",
    "        input_file=\"data/case_study_water_sources_and_uses.csv\",\n",
    "        reference = reference, water_type = water_type, \n",
    "        case_study = case_study)\n",
    "    \n",
    "    setattr(m.fs, source_name, Source(default={\"property_package\": m.fs.water}))\n",
    "    \n",
    "    getattr(m.fs, source_name).inlet.flow_vol.fix(flow)\n",
    "    getattr(m.fs, source_name).inlet.conc_mass[:, \"TOC\"].fix(df.loc[\"TOC\"].Value)\n",
    "    getattr(m.fs, source_name).inlet.conc_mass[:, \"nitrates\"].fix(df.loc[\"Nitrate\"].Value) #TODO ChangeNitrate\n",
    "    getattr(m.fs, source_name).inlet.conc_mass[:, \"TDS\"].fix(df.loc[\"TDS\"].Value)\n",
    "    getattr(m.fs, source_name).inlet.temperature.fix(300)\n",
    "    getattr(m.fs, source_name).inlet.pressure.fix(2e5)\n",
    "    \n",
    "    \n",
    "    # Set removal and recovery fractions -> CAN WE JUST SET OUTLETS AND THAT'S IT? OR CLEANER WITH THE SAME FORMAT?\n",
    "    getattr(m.fs, source_name).water_recovery.fix(1.0)\n",
    "    getattr(m.fs, source_name).removal_fraction[:, \"TDS\"].fix(1e-4)\n",
    "    # I took these values from the WaterTAP3 nf model\n",
    "    getattr(m.fs, source_name).removal_fraction[:, \"TOC\"].fix(1e-4)\n",
    "    getattr(m.fs, source_name).removal_fraction[:, \"nitrates\"].fix(1e-4)\n",
    "    # Also set pressure drops - for now I will set these to zero\n",
    "    getattr(m.fs, source_name).deltaP_outlet.fix(1e-4)\n",
    "    getattr(m.fs, source_name).deltaP_waste.fix(1e-4)\n",
    "    \n",
    "    if link_to is not None: # TODO - potential for multiple streams\n",
    "        connect_blocks(m = m, up1 = source_name, up2 = link_to, connection_type = None, \n",
    "                               stream_name = (\"%s_stream\" % source_name))\n",
    "        \n",
    "    return m"
   ]
  },
  {
   "cell_type": "code",
   "execution_count": 27,
   "metadata": {},
   "outputs": [],
   "source": [
    "def add_water_use(m = None, split_name = None, with_connection = False,\n",
    "                    link_to = None, link_from = None, stream_name = None): # in design\n",
    "    \n",
    "\n",
    "    setattr(m.fs, split_name, Use(default={\"property_package\": m.fs.water}))\n",
    "           \n",
    "    # Set removal and recovery fractions -> CAN WE JUST SET OUTLETS AND THAT'S IT? OR CLEANER WITH THE SAME FORMAT?\n",
    "    getattr(m.fs, split_name).water_recovery.fix(1)\n",
    "    getattr(m.fs, split_name).removal_fraction[:, \"TDS\"].fix(0.5)\n",
    "    # I took these values from the WaterTAP3 nf model\n",
    "    getattr(m.fs, split_name).removal_fraction[:, \"TOC\"].fix(0.5)\n",
    "    getattr(m.fs, split_name).removal_fraction[:, \"nitrates\"].fix(0.5)\n",
    "    # Also set pressure drops - for now I will set these to zero\n",
    "    getattr(m.fs, split_name).deltaP_outlet1.fix(1e-4)\n",
    "    getattr(m.fs, split_name).deltaP_outlet2.fix(1e-4)\n",
    "    \n",
    "    if link_to is not None: # TODO - potential for multiple streams\n",
    "        connect_blocks(m = m, up1 = link_from, up2 = link_to, connection_type = None, \n",
    "                               stream_name = stream_name)\n",
    "        \n",
    "    return m"
   ]
  },
  {
   "cell_type": "code",
   "execution_count": 28,
   "metadata": {},
   "outputs": [],
   "source": [
    "def add_splitter(m = None, split_name = None, with_connection = False,\n",
    "                    link_to = None, link_from = None, stream_name = None): # in design\n",
    "    \n",
    "\n",
    "    setattr(m.fs, split_name, Split(default={\"property_package\": m.fs.water}))\n",
    "           \n",
    "    # Set removal and recovery fractions -> CAN WE JUST SET OUTLETS AND THAT'S IT? OR CLEANER WITH THE SAME FORMAT?\n",
    "    getattr(m.fs, split_name).water_recovery.unfix() #(0.5)\n",
    "    getattr(m.fs, split_name).removal_fraction[:, \"TDS\"].fix(0.5)\n",
    "    # I took these values from the WaterTAP3 nf model\n",
    "    getattr(m.fs, split_name).removal_fraction[:, \"TOC\"].fix(0.5)\n",
    "    getattr(m.fs, split_name).removal_fraction[:, \"nitrates\"].fix(0.5)\n",
    "    # Also set pressure drops - for now I will set these to zero\n",
    "    getattr(m.fs, split_name).deltaP_outlet1.fix(1e-4)\n",
    "    getattr(m.fs, split_name).deltaP_outlet2.fix(1e-4)\n",
    "    \n",
    "    if link_to is not None: # TODO - potential for multiple streams\n",
    "        connect_blocks(m = m, up1 = link_from, up2 = link_to, connection_type = None, \n",
    "                               stream_name = stream_name)\n",
    "        \n",
    "    return m"
   ]
  },
  {
   "cell_type": "code",
   "execution_count": 29,
   "metadata": {},
   "outputs": [],
   "source": [
    "# -----------------------------------------------------------------------------\n",
    "# Create a Pyomo model\n",
    "m = ConcreteModel()\n",
    "\n",
    "# Add an IDAES FlowsheetBlock and set it to steady-state\n",
    "m.fs = FlowsheetBlock(default={\"dynamic\": False})\n",
    "\n",
    "# Add water property package\n",
    "m.fs.water = WaterParameterBlock()"
   ]
  },
  {
   "cell_type": "code",
   "execution_count": 30,
   "metadata": {},
   "outputs": [],
   "source": [
    "# TODO -> link to multiple processes\n",
    "m = add_water_source(m = m, source_name = \"source1\", link_to = None, \n",
    "                     reference = \"Poseidon\", water_type = \"Wastewater\", \n",
    "                     case_study = \"Typical untreated domestic wastewater\",\n",
    "                     flow = 1000)"
   ]
  },
  {
   "cell_type": "code",
   "execution_count": null,
   "metadata": {},
   "outputs": [],
   "source": []
  },
  {
   "cell_type": "code",
   "execution_count": 31,
   "metadata": {},
   "outputs": [],
   "source": [
    "m = add_splitter(m = m, split_name = 'split1', with_connection = True,\n",
    "                    link_to = 'split1', link_from = 'source1', stream_name = 'source_stream')"
   ]
  },
  {
   "cell_type": "code",
   "execution_count": null,
   "metadata": {},
   "outputs": [],
   "source": []
  },
  {
   "cell_type": "code",
   "execution_count": 32,
   "metadata": {},
   "outputs": [],
   "source": [
    "m = add_unit_process(m = m, unit_process_name = \"CL01\", unit_process_type = 'chlorination', \n",
    "                     with_connection = True, from_splitter = True, splitter_tream = \"outlet1\",\n",
    "                    link_to = \"CL01\", link_from = \"split1\", connection_type = \"series\") #, stream_name = \"stream1\")"
   ]
  },
  {
   "cell_type": "code",
   "execution_count": 33,
   "metadata": {},
   "outputs": [],
   "source": [
    "m = add_unit_process(m = m, unit_process_name = \"NF01\", unit_process_type = 'nanofiltration', \n",
    "                     with_connection = True, from_splitter = True, splitter_tream = \"outlet2\",\n",
    "                    link_to = \"NF01\", link_from = \"split1\", connection_type = \"series\") #, stream_name = \"stream2\")"
   ]
  },
  {
   "cell_type": "code",
   "execution_count": 34,
   "metadata": {
    "scrolled": false
   },
   "outputs": [],
   "source": [
    "m.fs.mixer1 = Mixer1(default={\"property_package\": m.fs.water, \"inlet_list\": [\"inlet1\", \"inlet2\"]})\n",
    "m.fs.arc1 = Arc(source=m.fs.NF01.outlet, destination=m.fs.mixer1.inlet1)\n",
    "m.fs.arc2 = Arc(source=m.fs.CL01.outlet, destination=m.fs.mixer1.inlet2)"
   ]
  },
  {
   "cell_type": "code",
   "execution_count": 35,
   "metadata": {},
   "outputs": [],
   "source": [
    "# Transform Arc to construct linking equations\n",
    "TransformationFactory(\"network.expand_arcs\").apply_to(m)\n",
    "\n",
    "seq = SequentialDecomposition()\n",
    "G = seq.create_graph(m)"
   ]
  },
  {
   "cell_type": "code",
   "execution_count": 36,
   "metadata": {},
   "outputs": [
    {
     "data": {
      "text/html": [
       "\n",
       "        <iframe\n",
       "            width=\"100%\"\n",
       "            height=\"500px\"\n",
       "            src=\"tmp/example.html\"\n",
       "            frameborder=\"0\"\n",
       "            allowfullscreen\n",
       "        ></iframe>\n",
       "        "
      ],
      "text/plain": [
       "<IPython.lib.display.IFrame at 0x3b1f72df50>"
      ]
     },
     "execution_count": 36,
     "metadata": {},
     "output_type": "execute_result"
    }
   ],
   "source": [
    "import display\n",
    "display.show_train2(G)"
   ]
  },
  {
   "cell_type": "code",
   "execution_count": 14,
   "metadata": {
    "scrolled": true
   },
   "outputs": [
    {
     "name": "stdout",
     "output_type": "stream",
     "text": [
      "Ipopt 3.12.13: \n",
      "\n",
      "******************************************************************************\n",
      "This program contains Ipopt, a library for large-scale nonlinear optimization.\n",
      " Ipopt is released as open source code under the Eclipse Public License (EPL).\n",
      "         For more information visit http://projects.coin-or.org/Ipopt\n",
      "******************************************************************************\n",
      "\n",
      "This is Ipopt version 3.12.13, running with linear solver mumps.\n",
      "NOTE: Other linear solvers might be more efficient (see Ipopt documentation).\n",
      "\n",
      "Number of nonzeros in equality constraint Jacobian...:      236\n",
      "Number of nonzeros in inequality constraint Jacobian.:        0\n",
      "Number of nonzeros in Lagrangian Hessian.............:       43\n",
      "\n",
      "Total number of variables............................:       85\n",
      "                     variables with only lower bounds:        0\n",
      "                variables with lower and upper bounds:        1\n",
      "                     variables with only upper bounds:        0\n",
      "Total number of equality constraints.................:       84\n",
      "Total number of inequality constraints...............:        0\n",
      "        inequality constraints with only lower bounds:        0\n",
      "   inequality constraints with lower and upper bounds:        0\n",
      "        inequality constraints with only upper bounds:        0\n",
      "\n",
      "iter    objective    inf_pr   inf_du lg(mu)  ||d||  lg(rg) alpha_du alpha_pr  ls\n",
      "   0  0.0000000e+00 7.20e+05 0.00e+00  -1.0 0.00e+00    -  0.00e+00 0.00e+00   0\n",
      "   1  0.0000000e+00 7.16e+05 7.57e-29  -1.0 7.20e+05    -  1.00e+00 1.95e-03h 10\n",
      "   2  0.0000000e+00 7.15e+05 8.36e-27  -1.0 2.33e+05    -  1.00e+00 1.95e-03h 10\n",
      "   3  0.0000000e+00 7.13e+05 6.55e-27  -1.0 1.31e+05    -  1.00e+00 3.91e-03h  9\n",
      "   4  0.0000000e+00 7.03e+05 9.05e-27  -1.0 9.92e+04    -  1.00e+00 1.56e-02h  7\n",
      "   5  0.0000000e+00 4.36e+05 8.84e-26  -1.0 9.77e+04    -  1.00e+00 2.50e-01h  3\n",
      "   6  0.0000000e+00 3.85e+05 1.81e-26  -1.0 7.33e+04    -  1.00e+00 2.50e-01h  3\n",
      "   7  0.0000000e+00 2.94e+04 2.81e-26  -1.0 5.49e+04    -  1.00e+00 1.00e+00h  1\n",
      "   8  0.0000000e+00 7.00e+00 8.18e+04  -1.0 1.08e+02  -4.0 1.00e+00 1.00e+00h  1\n",
      "   9  0.0000000e+00 7.20e+01 4.68e-01  -1.0 1.76e+02    -  1.00e+00 1.00e+00h  1\n",
      "iter    objective    inf_pr   inf_du lg(mu)  ||d||  lg(rg) alpha_du alpha_pr  ls\n",
      "  10  0.0000000e+00 7.20e+01 9.25e+08  -1.0 1.37e+10    -  1.00e+00 1.00e+00h  1\n",
      "  11  0.0000000e+00 1.25e-05 8.67e+21  -1.0 4.18e+16    -  1.00e+00 1.00e+00h  1\n",
      "  12  0.0000000e+00 1.16e-10 3.44e-10  -1.0 1.03e-05  -4.5 1.00e+00 1.00e+00H  1\n",
      "  13  0.0000000e+00 5.82e-11 8.62e+03  -2.5 1.03e+00    -  1.00e+00 1.00e+00h  1\n",
      "  14  0.0000000e+00 4.75e-12 1.36e-12  -2.5 9.00e-10  -5.0 1.00e+00 1.00e+00h  1\n",
      "  15  0.0000000e+00 5.82e-11 4.44e-16  -3.8 9.50e-12    -  1.00e+00 1.00e+00   0\n",
      "  16  0.0000000e+00 5.82e-11 3.09e-30  -5.7 9.50e-12    -  1.00e+00 1.00e+00T  0\n",
      "  17  0.0000000e+00 7.28e-12 9.40e-38  -8.6 9.50e-12    -  1.00e+00 1.00e+00T  0\n",
      "\n",
      "Number of Iterations....: 17\n",
      "\n",
      "                                   (scaled)                 (unscaled)\n",
      "Objective...............:   0.0000000000000000e+00    0.0000000000000000e+00\n",
      "Dual infeasibility......:   9.4039727431987061e-38    9.4039727431987061e-38\n",
      "Constraint violation....:   7.2759576141834259e-12    7.2759576141834259e-12\n",
      "Complementarity.........:   2.5059035597227869e-09    2.5059035597227869e-09\n",
      "Overall NLP error.......:   2.5059035597227869e-09    2.5059035597227869e-09\n",
      "\n",
      "\n",
      "Number of objective function evaluations             = 58\n",
      "Number of objective gradient evaluations             = 18\n",
      "Number of equality constraint evaluations            = 61\n",
      "Number of inequality constraint evaluations          = 0\n",
      "Number of equality constraint Jacobian evaluations   = 18\n",
      "Number of inequality constraint Jacobian evaluations = 0\n",
      "Number of Lagrangian Hessian evaluations             = 17\n",
      "Total CPU secs in IPOPT (w/o function evaluations)   =      0.049\n",
      "Total CPU secs in NLP function evaluations           =      0.001\n",
      "\n",
      "EXIT: Optimal Solution Found.\n",
      "\b----------------------------------------------------------------------\n",
      "fs.source1\n",
      "inlet : Size=1\n",
      "    Key  : Name        : Value\n",
      "    None :   conc_mass : {(0.0, 'TDS'): 720.0, (0.0, 'TOC'): 140.0, (0.0, 'nitrates'): 0.0}\n",
      "         :    flow_vol : {0.0: 1000}\n",
      "         :    pressure : {0.0: 200000.0}\n",
      "         : temperature : {0.0: 300}\n",
      "outlet : Size=1\n",
      "    Key  : Name        : Value\n",
      "    None :   conc_mass : {(0.0, 'TDS'): 719.928, (0.0, 'TOC'): 139.986, (0.0, 'nitrates'): 0.0}\n",
      "         :    flow_vol : {0.0: 1000.0}\n",
      "         :    pressure : {0.0: 199999.9999}\n",
      "         : temperature : {0.0: 300.0}\n",
      "waste : Size=1\n",
      "    Key  : Name        : Value\n",
      "    None :   conc_mass : {(0.0, 'TDS'): 4.183989331234525e+16, (0.0, 'TOC'): 8135534810733798.0, (0.0, 'nitrates'): 0.0}\n",
      "         :    flow_vol : {0.0: 1.7208456881689928e-15}\n",
      "         :    pressure : {0.0: 199999.9999}\n",
      "         : temperature : {0.0: 300.0}\n",
      "Show some costing values\n",
      "---------------------\n",
      "should skip: source1\n",
      "----------------------------------------------------------------------\n",
      "fs.split1\n",
      "inlet : Size=1\n",
      "    Key  : Name        : Value\n",
      "    None :   conc_mass : {(0.0, 'TDS'): 719.928, (0.0, 'TOC'): 139.986, (0.0, 'nitrates'): 0.0}\n",
      "         :    flow_vol : {0.0: 1000.0}\n",
      "         :    pressure : {0.0: 199999.9999}\n",
      "         : temperature : {0.0: 300.0}\n",
      "outlet1 : Size=1\n",
      "    Key  : Name        : Value\n",
      "    None :   conc_mass : {(0.0, 'TDS'): 719.9279999999753, (0.0, 'TOC'): 139.98599999999522, (0.0, 'nitrates'): 0.0}\n",
      "         :    flow_vol : {0.0: 500.0000000000171}\n",
      "         :    pressure : {0.0: 199999.9998}\n",
      "         : temperature : {0.0: 300.0}\n",
      "outlet2 : Size=1\n",
      "    Key  : Name        : Value\n",
      "    None :   conc_mass : {(0.0, 'TDS'): 719.9280000000247, (0.0, 'TOC'): 139.9860000000048, (0.0, 'nitrates'): 0.0}\n",
      "         :    flow_vol : {0.0: 499.9999999999829}\n",
      "         :    pressure : {0.0: 199999.9998}\n",
      "         : temperature : {0.0: 300.0}\n",
      "Show some costing values\n",
      "---------------------\n",
      "should skip: split1\n",
      "----------------------------------------------------------------------\n",
      "fs.CL01\n",
      "inlet : Size=1\n",
      "    Key  : Name        : Value\n",
      "    None :   conc_mass : {(0.0, 'TDS'): 719.9279999999753, (0.0, 'TOC'): 139.98599999999522, (0.0, 'nitrates'): 0.0}\n",
      "         :    flow_vol : {0.0: 500.0000000000171}\n",
      "         :    pressure : {0.0: 199999.9998}\n",
      "         : temperature : {0.0: 300.0}\n",
      "outlet : Size=1\n",
      "    Key  : Name        : Value\n",
      "    None :   conc_mass : {(0.0, 'TDS'): 719.9279999999753, (0.0, 'TOC'): 139.98599999999522, (0.0, 'nitrates'): 0.0}\n",
      "         :    flow_vol : {0.0: 500.0000000000171}\n",
      "         :    pressure : {0.0: 199999.9998}\n",
      "         : temperature : {0.0: 300.0}\n",
      "waste : Size=1\n",
      "    Key  : Name        : Value\n",
      "    None :   conc_mass : {(0.0, 'TDS'): 2.746450023633656e-20, (0.0, 'TOC'): 4.1664551744531345e-21, (0.0, 'nitrates'): 0.0}\n",
      "         :    flow_vol : {0.0: 0.0}\n",
      "         :    pressure : {0.0: 199999.9998}\n",
      "         : temperature : {0.0: 300.0}\n",
      "Show some costing values\n",
      "---------------------\n",
      "should have a cost CL01\n",
      "fixed_cap_inv_unadjusted: 2.106499577533229\n",
      "----------------------------------------------------------------------\n",
      "----------------------------------------------------------------------\n",
      "fs.NF01\n",
      "inlet : Size=1\n",
      "    Key  : Name        : Value\n",
      "    None :   conc_mass : {(0.0, 'TDS'): 719.9279999999753, (0.0, 'TOC'): 139.98599999999522, (0.0, 'nitrates'): 0.0}\n",
      "         :    flow_vol : {0.0: 500.0000000000171}\n",
      "         :    pressure : {0.0: 199999.9998}\n",
      "         : temperature : {0.0: 300.0}\n",
      "outlet : Size=1\n",
      "    Key  : Name        : Value\n",
      "    None :   conc_mass : {(0.0, 'TDS'): 224.97749999999232, (0.0, 'TOC'): 12.248774999999563, (0.0, 'nitrates'): 0.0}\n",
      "         :    flow_vol : {0.0: 400.0000000000137}\n",
      "         :    pressure : {0.0: 199999.9998}\n",
      "         : temperature : {0.0: 300.0}\n",
      "waste : Size=1\n",
      "    Key  : Name        : Value\n",
      "    None :   conc_mass : {(0.0, 'TDS'): 2699.729999999908, (0.0, 'TOC'): 650.9348999999779, (0.0, 'nitrates'): 0.0}\n",
      "         :    flow_vol : {0.0: 100.00000000000341}\n",
      "         :    pressure : {0.0: 199999.9998}\n",
      "         : temperature : {0.0: 300.0}\n",
      "Show some costing values\n",
      "---------------------\n",
      "should have a cost NF01\n",
      "fixed_cap_inv_unadjusted: 42795.87248202152\n",
      "----------------------------------------------------------------------\n",
      "----------------------------------------------------------------------\n",
      "fs.mixer1\n",
      "inlet1 : Size=1\n",
      "    Key  : Name        : Value\n",
      "    None :   conc_mass : {(0.0, 'TDS'): 224.97749999999232, (0.0, 'TOC'): 12.248774999999563, (0.0, 'nitrates'): 0.0}\n",
      "         :    flow_vol : {0.0: 400.0000000000137}\n",
      "         :    pressure : {0.0: 199999.9998}\n",
      "         : temperature : {0.0: 300.0}\n",
      "inlet2 : Size=1\n",
      "    Key  : Name        : Value\n",
      "    None :   conc_mass : {(0.0, 'TDS'): 719.9279999999753, (0.0, 'TOC'): 139.98599999999522, (0.0, 'nitrates'): 0.0}\n",
      "         :    flow_vol : {0.0: 500.0000000000171}\n",
      "         :    pressure : {0.0: 199999.9998}\n",
      "         : temperature : {0.0: 300.0}\n",
      "outlet : Size=1\n",
      "    Key  : Name        : Value\n",
      "    None :   conc_mass : {(0.0, 'TDS'): 499.9499999999829, (0.0, 'TOC'): 83.21389999999714, (0.0, 'nitrates'): 0.0}\n",
      "         :    flow_vol : {0.0: 900.0000000000308}\n",
      "         :    pressure : {0.0: 199999.9997}\n",
      "         : temperature : {0.0: 299.9999}\n",
      "Show some costing values\n",
      "---------------------\n",
      "should skip: mixer1\n"
     ]
    }
   ],
   "source": [
    "##### IF OPTIMIZING FOR PATHWAY #####\n",
    "#y1 = m.fs.NF01.costing.fixed_cap_inv_unadjusted + m.fs.CL01.costing.fixed_cap_inv_unadjusted\n",
    "\n",
    "#m.objective_function = env.Objective(expr=y1, sense=env.maximize)\n",
    "\n",
    "# Set up a solver in Pyomo and solve\n",
    "solver = SolverFactory('ipopt')\n",
    "results = solver.solve(m, tee=True)\n",
    "\n",
    "# Display the inlets and outlets of each unit\n",
    "for node in G.nodes():\n",
    "    print(\"----------------------------------------------------------------------\")\n",
    "    print(node)\n",
    "    \n",
    "    if \"split\" in (str(node).replace('fs.', '')): \n",
    "        getattr(m.fs, str(node).replace('fs.', '')).inlet.display()\n",
    "        getattr(m.fs, str(node).replace('fs.', '')).outlet1.display()\n",
    "        getattr(m.fs, str(node).replace('fs.', '')).outlet2.display()\n",
    "    elif \"use\" in (str(node).replace('fs.', '')): \n",
    "        getattr(m.fs, str(node).replace('fs.', '')).inlet.display()\n",
    "        getattr(m.fs, str(node).replace('fs.', '')).outlet1.display()\n",
    "        getattr(m.fs, str(node).replace('fs.', '')).outlet2.display() \n",
    "    elif \"mixer\" in (str(node).replace('fs.', '')): \n",
    "        getattr(m.fs, str(node).replace('fs.', '')).inlet1.display()\n",
    "        getattr(m.fs, str(node).replace('fs.', '')).inlet2.display()\n",
    "        getattr(m.fs, str(node).replace('fs.', '')).outlet.display()\n",
    "    else:\n",
    "        getattr(m.fs, str(node).replace('fs.', '')).inlet.display()\n",
    "        getattr(m.fs, str(node).replace('fs.', '')).outlet.display()\n",
    "        getattr(m.fs, str(node).replace('fs.', '')).waste.display()\n",
    "\n",
    "        \n",
    "    print(\"Show some costing values\")\n",
    "    print(\"---------------------\")\n",
    "    \n",
    "    if \"source\" in (str(node).replace('fs.', '')): \n",
    "        print(\"should skip:\", (str(node).replace('fs.', '')))\n",
    "        continue\n",
    "    elif \"use\" in (str(node).replace('fs.', '')): \n",
    "        print(\"should skip:\", (str(node).replace('fs.', '')))\n",
    "        continue\n",
    "    elif \"split\" in (str(node).replace('fs.', '')): \n",
    "        print(\"should skip:\", (str(node).replace('fs.', '')))\n",
    "        continue  \n",
    "    elif \"mixer\" in (str(node).replace('fs.', '')): \n",
    "        print(\"should skip:\", (str(node).replace('fs.', '')))\n",
    "        continue\n",
    "    else:\n",
    "        print(\"should have a cost\", (str(node).replace('fs.', '')))\n",
    "        if getattr(m.fs, str(node).replace('fs.', '')).costing.fixed_cap_inv_unadjusted() is not None:\n",
    "            print(\"fixed_cap_inv_unadjusted:\" , \n",
    "                  getattr(m.fs, str(node).replace('fs.', '')).costing.fixed_cap_inv_unadjusted())\n",
    "        else:\n",
    "            getattr(m.fs, str(node).replace('fs.', '')).costing.fixed_cap_inv_unadjusted.display()\n",
    "    \n",
    "    print(\"----------------------------------------------------------------------\")\n",
    "    "
   ]
  },
  {
   "cell_type": "code",
   "execution_count": 15,
   "metadata": {},
   "outputs": [],
   "source": [
    "# create mixer for recycle - > two-stage process -> RO two stage.\n",
    "# outlet of mixer goes into unit. outlet of unit goes to splitter, one goes to mixer, one goes to next unit.\n",
    "# splitter fraction can be unfixed free variable, but random fix it to something - see RO -> \n",
    "#  \n",
    "# constraint on enduse -> less than X\n",
    "# first run if feasible. then cost optimization. TDS -> WHAT DO YOU GET, COST, WHAT DO YOU GET. OBJ -> MINIMIZE ERROR WITH END USE CONSRAINT\n",
    "# if 0 - then can be specified, then turn into constraints. \n",
    "# "
   ]
  },
  {
   "cell_type": "code",
   "execution_count": 16,
   "metadata": {},
   "outputs": [
    {
     "data": {
      "text/plain": [
       "42795.87248202152"
      ]
     },
     "execution_count": 16,
     "metadata": {},
     "output_type": "execute_result"
    }
   ],
   "source": [
    "m.fs.NF01.costing.fixed_cap_inv_unadjusted()"
   ]
  },
  {
   "cell_type": "code",
   "execution_count": 17,
   "metadata": {},
   "outputs": [
    {
     "data": {
      "text/plain": [
       "2.106499577533229"
      ]
     },
     "execution_count": 17,
     "metadata": {},
     "output_type": "execute_result"
    }
   ],
   "source": [
    "m.fs.CL01.costing.fixed_cap_inv_unadjusted()"
   ]
  },
  {
   "cell_type": "code",
   "execution_count": 18,
   "metadata": {},
   "outputs": [
    {
     "name": "stdout",
     "output_type": "stream",
     "text": [
      "water_recovery : Water recovery fraction\n",
      "    Size=1, Index=fs.time\n",
      "    Key : Lower : Value : Upper : Fixed : Stale : Domain\n",
      "    0.0 :   0.5 :   0.8 :   1.0 :  True :  True :  Reals\n"
     ]
    }
   ],
   "source": [
    "m.fs.NF01.water_recovery.display()"
   ]
  },
  {
   "cell_type": "code",
   "execution_count": 19,
   "metadata": {},
   "outputs": [
    {
     "name": "stdout",
     "output_type": "stream",
     "text": [
      "water_recovery : Water recovery fraction\n",
      "    Size=1, Index=fs.time\n",
      "    Key : Lower : Value : Upper : Fixed : Stale : Domain\n",
      "    0.0 :   0.5 :   1.0 :   1.0 :  True :  True :  Reals\n"
     ]
    }
   ],
   "source": [
    "m.fs.CL01.water_recovery.display()"
   ]
  },
  {
   "cell_type": "code",
   "execution_count": 20,
   "metadata": {},
   "outputs": [
    {
     "name": "stdout",
     "output_type": "stream",
     "text": [
      "water_recovery : Water recovery fraction\n",
      "    Size=1, Index=fs.time\n",
      "    Key : Lower : Value              : Upper : Fixed : Stale : Domain\n",
      "    0.0 : 0.499 : 0.5000000000000171 : 0.501 : False : False :  Reals\n"
     ]
    }
   ],
   "source": [
    "m.fs.split1.water_recovery.display()"
   ]
  },
  {
   "cell_type": "code",
   "execution_count": 21,
   "metadata": {},
   "outputs": [],
   "source": [
    "import display\n",
    "display.show_train2(G)"
   ]
  },
  {
   "cell_type": "code",
   "execution_count": 22,
   "metadata": {},
   "outputs": [
    {
     "data": {
      "text/html": [
       "\n",
       "        <iframe\n",
       "            width=\"100%\"\n",
       "            height=\"500px\"\n",
       "            src=\"tmp/example.html\"\n",
       "            frameborder=\"0\"\n",
       "            allowfullscreen\n",
       "        ></iframe>\n",
       "        "
      ],
      "text/plain": [
       "<IPython.lib.display.IFrame at 0x3b1f6b5710>"
      ]
     },
     "execution_count": 22,
     "metadata": {},
     "output_type": "execute_result"
    }
   ],
   "source": [
    "display.show_train2(G)"
   ]
  },
  {
   "cell_type": "code",
   "execution_count": null,
   "metadata": {},
   "outputs": [],
   "source": []
  },
  {
   "cell_type": "code",
   "execution_count": null,
   "metadata": {},
   "outputs": [],
   "source": []
  },
  {
   "cell_type": "code",
   "execution_count": null,
   "metadata": {},
   "outputs": [],
   "source": []
  },
  {
   "cell_type": "code",
   "execution_count": null,
   "metadata": {},
   "outputs": [],
   "source": []
  },
  {
   "cell_type": "code",
   "execution_count": null,
   "metadata": {},
   "outputs": [],
   "source": []
  },
  {
   "cell_type": "code",
   "execution_count": null,
   "metadata": {},
   "outputs": [],
   "source": []
  },
  {
   "cell_type": "code",
   "execution_count": null,
   "metadata": {},
   "outputs": [],
   "source": []
  },
  {
   "cell_type": "code",
   "execution_count": null,
   "metadata": {},
   "outputs": [],
   "source": []
  },
  {
   "cell_type": "code",
   "execution_count": null,
   "metadata": {},
   "outputs": [],
   "source": []
  },
  {
   "cell_type": "code",
   "execution_count": null,
   "metadata": {},
   "outputs": [],
   "source": []
  },
  {
   "cell_type": "code",
   "execution_count": null,
   "metadata": {},
   "outputs": [],
   "source": []
  },
  {
   "cell_type": "code",
   "execution_count": null,
   "metadata": {},
   "outputs": [],
   "source": []
  },
  {
   "cell_type": "code",
   "execution_count": null,
   "metadata": {},
   "outputs": [],
   "source": []
  },
  {
   "cell_type": "code",
   "execution_count": null,
   "metadata": {},
   "outputs": [],
   "source": []
  },
  {
   "cell_type": "code",
   "execution_count": null,
   "metadata": {},
   "outputs": [],
   "source": []
  },
  {
   "cell_type": "code",
   "execution_count": null,
   "metadata": {},
   "outputs": [],
   "source": []
  },
  {
   "cell_type": "code",
   "execution_count": 17,
   "metadata": {},
   "outputs": [],
   "source": [
    "m.fs.properties = props.NaClParameterBlock()\n",
    "m.fs.P1 = Pump(default={\"property_package\": m.fs.properties})\n",
    "pump_efi = 0.75  # pump efficiency [-]\n",
    "\n",
    "m.fs.EC = Expression(\n",
    "    expr=(m.fs.P1.work_mechanical[0]))\n",
    "#         / sum(m.fs.M1.mixed_state[0].flow_mass_comp[j] for j in ['H2O', 'NaCl'])\n",
    "#         * m.fs.M1.mixed_state[0].dens_mass)\n",
    "\n",
    "m.fs.P1.control_volume.properties_out[0].pressure = 50e5  # pressure out of pump 1 [Pa]\n",
    "\n",
    "# pump 1\n",
    "m.fs.P1.efficiency_pump.fix(pump_efi)\n",
    "m.fs.P1.control_volume.properties_out[0].pressure.fix()  # value set in decision variables\n",
    "# unfix decision variables and add bounds\n",
    "m.fs.P1.control_volume.properties_out[0].pressure.unfix()  # pressure out of pump 1 [Pa]\n",
    "m.fs.P1.control_volume.properties_out[0].pressure.setlb(10e5)\n",
    "m.fs.P1.control_volume.properties_out[0].pressure.setub(80e5)\n",
    "m.fs.P1.deltaP.setlb(0)"
   ]
  },
  {
   "cell_type": "code",
   "execution_count": null,
   "metadata": {},
   "outputs": [],
   "source": [
    "m = connect_blocks(m = m, up1 = \"source1\", up2 = \"NF01\", connection_type = \"series\", stream_name = \"stream1\")"
   ]
  },
  {
   "cell_type": "code",
   "execution_count": null,
   "metadata": {},
   "outputs": [],
   "source": []
  },
  {
   "cell_type": "code",
   "execution_count": null,
   "metadata": {},
   "outputs": [],
   "source": []
  },
  {
   "cell_type": "code",
   "execution_count": null,
   "metadata": {},
   "outputs": [],
   "source": []
  },
  {
   "cell_type": "code",
   "execution_count": null,
   "metadata": {},
   "outputs": [],
   "source": []
  },
  {
   "cell_type": "code",
   "execution_count": null,
   "metadata": {},
   "outputs": [],
   "source": []
  },
  {
   "cell_type": "code",
   "execution_count": null,
   "metadata": {},
   "outputs": [],
   "source": []
  },
  {
   "cell_type": "code",
   "execution_count": null,
   "metadata": {},
   "outputs": [],
   "source": []
  },
  {
   "cell_type": "code",
   "execution_count": null,
   "metadata": {},
   "outputs": [],
   "source": []
  },
  {
   "cell_type": "code",
   "execution_count": 23,
   "metadata": {},
   "outputs": [],
   "source": [
    "class SomeClass:\n",
    "    variable_1 = \"This is a class variable\"\n",
    "    variable_2 = 100    #this is also a class variable.\n",
    "\n",
    "    def __init__(self, param1, param2):\n",
    "        self.instance_var1 = param1\n",
    "        #instance_var1 is a instance variable\n",
    "        self.instance_var2 = param2   \n",
    "        #instance_var2 is a instance variable"
   ]
  },
  {
   "cell_type": "code",
   "execution_count": 24,
   "metadata": {},
   "outputs": [],
   "source": [
    "obj1 = SomeClass(\"some thing\", 18) "
   ]
  },
  {
   "cell_type": "code",
   "execution_count": 27,
   "metadata": {},
   "outputs": [
    {
     "data": {
      "text/plain": [
       "'This is a class variable'"
      ]
     },
     "execution_count": 27,
     "metadata": {},
     "output_type": "execute_result"
    }
   ],
   "source": [
    "obj1.variable_1"
   ]
  },
  {
   "cell_type": "code",
   "execution_count": 28,
   "metadata": {},
   "outputs": [],
   "source": [
    "obj2 = SomeClass(28, 6)"
   ]
  },
  {
   "cell_type": "code",
   "execution_count": 29,
   "metadata": {},
   "outputs": [
    {
     "data": {
      "text/plain": [
       "'This is a class variable'"
      ]
     },
     "execution_count": 29,
     "metadata": {},
     "output_type": "execute_result"
    }
   ],
   "source": [
    "obj2.variable_1"
   ]
  },
  {
   "cell_type": "code",
   "execution_count": 31,
   "metadata": {},
   "outputs": [
    {
     "data": {
      "text/plain": [
       "18"
      ]
     },
     "execution_count": 31,
     "metadata": {},
     "output_type": "execute_result"
    }
   ],
   "source": [
    "obj1.instance_var2"
   ]
  },
  {
   "cell_type": "code",
   "execution_count": 37,
   "metadata": {},
   "outputs": [],
   "source": [
    "class SomeClass:    \n",
    "    def create_arr(self): # An instance method\n",
    "        self.arr = []\n",
    "    \n",
    "    def insert_to_arr(self, value):  #An instance method\n",
    "        self.arr.append(value)"
   ]
  },
  {
   "cell_type": "code",
   "execution_count": 38,
   "metadata": {},
   "outputs": [
    {
     "data": {
      "text/plain": [
       "[5]"
      ]
     },
     "execution_count": 38,
     "metadata": {},
     "output_type": "execute_result"
    }
   ],
   "source": [
    "obj3 = SomeClass()\n",
    "obj3.create_arr()\n",
    "obj3.insert_to_arr(5)\n",
    "obj3.arr"
   ]
  },
  {
   "cell_type": "code",
   "execution_count": null,
   "metadata": {},
   "outputs": [],
   "source": []
  },
  {
   "cell_type": "code",
   "execution_count": 31,
   "metadata": {},
   "outputs": [],
   "source": [
    "class SomeClass:\n",
    "    def create_arr(self): # An instance method\n",
    "        self.arr = []\n",
    "    \n",
    "    def insert_to_arr(self, value):  #An instance method\n",
    "        self.arr.append(value)\n",
    "        \n",
    "    @classmethod\n",
    "    def class_method(cls):\n",
    "        print(\"the class method was called\")"
   ]
  },
  {
   "cell_type": "code",
   "execution_count": 32,
   "metadata": {},
   "outputs": [
    {
     "name": "stdout",
     "output_type": "stream",
     "text": [
      "the class method was called\n"
     ]
    }
   ],
   "source": [
    "SomeClass.class_method()"
   ]
  },
  {
   "cell_type": "code",
   "execution_count": null,
   "metadata": {},
   "outputs": [],
   "source": []
  },
  {
   "cell_type": "code",
   "execution_count": 38,
   "metadata": {},
   "outputs": [],
   "source": [
    "class SomeClass:\n",
    "    def __init__(self):\n",
    "        self.arr = [] \n",
    "        #All SomeClass objects will have an array arr by default\n",
    "    \n",
    "    def insert_to_arr(self, value):\n",
    "        self.arr.append(value)"
   ]
  },
  {
   "cell_type": "code",
   "execution_count": 39,
   "metadata": {},
   "outputs": [],
   "source": [
    "obj1 = SomeClass()\n",
    "#obj2 = SomeClass()\n",
    "#obj1.insert_to_arr(6)"
   ]
  },
  {
   "cell_type": "code",
   "execution_count": 41,
   "metadata": {},
   "outputs": [],
   "source": [
    "SomeClass.insert_to_arr(obj1, \"test\")"
   ]
  },
  {
   "cell_type": "code",
   "execution_count": 44,
   "metadata": {},
   "outputs": [
    {
     "data": {
      "text/plain": [
       "'test'"
      ]
     },
     "execution_count": 44,
     "metadata": {},
     "output_type": "execute_result"
    }
   ],
   "source": [
    "obj1.arr[0]"
   ]
  },
  {
   "cell_type": "code",
   "execution_count": null,
   "metadata": {},
   "outputs": [],
   "source": []
  },
  {
   "cell_type": "code",
   "execution_count": null,
   "metadata": {},
   "outputs": [],
   "source": []
  },
  {
   "cell_type": "code",
   "execution_count": 9,
   "metadata": {},
   "outputs": [],
   "source": [
    "def test1():\n",
    "    \n",
    "    return 2 + 2 "
   ]
  },
  {
   "cell_type": "code",
   "execution_count": 11,
   "metadata": {},
   "outputs": [
    {
     "data": {
      "text/plain": [
       "4"
      ]
     },
     "execution_count": 11,
     "metadata": {},
     "output_type": "execute_result"
    }
   ],
   "source": [
    "test1()"
   ]
  },
  {
   "cell_type": "code",
   "execution_count": 12,
   "metadata": {},
   "outputs": [],
   "source": [
    "def test2():\n",
    "    return test1()"
   ]
  },
  {
   "cell_type": "code",
   "execution_count": 13,
   "metadata": {},
   "outputs": [
    {
     "data": {
      "text/plain": [
       "4"
      ]
     },
     "execution_count": 13,
     "metadata": {},
     "output_type": "execute_result"
    }
   ],
   "source": [
    "test2()"
   ]
  },
  {
   "cell_type": "code",
   "execution_count": null,
   "metadata": {},
   "outputs": [],
   "source": []
  },
  {
   "cell_type": "code",
   "execution_count": null,
   "metadata": {},
   "outputs": [],
   "source": []
  },
  {
   "cell_type": "code",
   "execution_count": null,
   "metadata": {},
   "outputs": [],
   "source": []
  },
  {
   "cell_type": "code",
   "execution_count": null,
   "metadata": {},
   "outputs": [],
   "source": []
  },
  {
   "cell_type": "code",
   "execution_count": null,
   "metadata": {},
   "outputs": [],
   "source": []
  }
 ],
 "metadata": {
  "kernelspec": {
   "display_name": "Python 3",
   "language": "python",
   "name": "python3"
  },
  "language_info": {
   "codemirror_mode": {
    "name": "ipython",
    "version": 3
   },
   "file_extension": ".py",
   "mimetype": "text/x-python",
   "name": "python",
   "nbconvert_exporter": "python",
   "pygments_lexer": "ipython3",
   "version": "3.7.4"
  }
 },
 "nbformat": 4,
 "nbformat_minor": 4
}
