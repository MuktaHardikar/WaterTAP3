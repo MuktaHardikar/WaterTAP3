{
 "cells": [
  {
   "cell_type": "code",
   "execution_count": null,
   "metadata": {
    "scrolled": true
   },
   "outputs": [],
   "source": [
    "import watertap as wt\n",
    "import pandas as pd\n",
    "from pyomo.environ import value, Block\n",
    "from idaes.core import FlowsheetBlock\n",
    "import numpy as np\n",
    "from case_study_trains import *\n",
    "import case_study_trains\n",
    "import pyomo.environ as env\n",
    "from pyomo.environ import Constraint\n"
   ]
  },
  {
   "cell_type": "code",
   "execution_count": null,
   "metadata": {},
   "outputs": [],
   "source": [
    "df = pd.read_csv(\"data/baseline_cases_runs.csv\")\n",
    "reference = \"nawi\""
   ]
  },
  {
   "cell_type": "code",
   "execution_count": null,
   "metadata": {
    "scrolled": true
   },
   "outputs": [],
   "source": [
    "for source_water in [\"industrial\"]: #df.source_water_category.unique():\n",
    "    for case_study in [\"upw\"]: #df[df.source_water_category == source_water].case_study.unique():\n",
    "        h1 = df[df.case_study == case_study]\n",
    "\n",
    "        if case_study in [\"upw\"]:\n",
    "            scenarios = [\"zld_a\", \"zld_b\", \"zld_c\", \"baseline\"]\n",
    "        else:        \n",
    "            scenarios = h1.scenario.unique()\n",
    "\n",
    "        for scenario in scenarios:\n",
    "\n",
    "            print(\"------------------------------------------------------\")\n",
    "            print(\"------------------------------------------------------\")\n",
    "            print(\"-----------\", case_study, scenario, \"-----------------\")\n",
    "            print(\"------------------------------------------------------\")\n",
    "            print(\"------------------------------------------------------\")\n",
    "\n",
    "            desired_recovery = df[((df.case_study == case_study) & (df.scenario == scenario))].max_recovery_rate.max()\n",
    "\n",
    "            source_water_category = df[((df.case_study == case_study) & (df.scenario == scenario))].source_water_category.max()\n",
    "\n",
    "            skip_small_base = df[((df.case_study == case_study) & (df.scenario == scenario))].skip_small_base.max()\n",
    "            skip_small_sens = df[((df.case_study == case_study) & (df.scenario == scenario))].skip_small_sens.max()\n",
    "            ro_bounds = df[((df.case_study == case_study) & (df.scenario == scenario))].ro_bounds.max()\n",
    "\n",
    "            m = wt.watertap_setup(dynamic=False, case_study = case_study, reference = reference, \n",
    "                                  scenario = scenario, source_scenario = \"baseline\")\n",
    "\n",
    "            m = wt.case_study_trains.get_case_study(m=m)\n",
    "\n",
    "            for key in m.fs.pfd_dict.keys():\n",
    "                if m.fs.pfd_dict[key][\"Unit\"] == \"reverse_osmosis\":\n",
    "                    getattr(m.fs, key).a.fix(4.2)\n",
    "                    getattr(m.fs, key).b.fix(0.35)\n",
    "\n",
    "            if \"1p5\" in scenario:\n",
    "                m.fs.irrigation_and_drainage.flow_vol_in.fix(0.0657)\n",
    "\n",
    "            # run and and return baseline with 0 degrees of freedom\n",
    "            m = wt.run_water_tap_ro(m, source_water_category = source_water_category, \n",
    "                                 desired_recovery = desired_recovery, skip_small = skip_small_base, \n",
    "                                 ro_bounds = ro_bounds, source_scenario = \"baseline\", scenario_name = scenario)\n",
    "\n",
    "            if scenario == \"baseline\":\n",
    "                wt.sensitivity_runs(m = m, save_results = True, scenario = scenario, \n",
    "                                    case_study = case_study, skip_small_sens = skip_small_sens)\n",
    "\n",
    "                if source_water == \"seawater\":\n",
    "                    m = wt.get_fixed_onm_reduction(m)\n",
    "                    wt.run_water_tap(m=m, objective=True, skip_small=skip_small_base, print_model_results=\"summary\")\n",
    "                    df_no2 = wt.get_results_table(m=m, case_study=m.fs.train[\"case_study\"], \n",
    "                                              scenario=\"50%_fixed_onm_reduction\")\n",
    "\n",
    "                if case_study == \"san_luis\":\n",
    "                    n = 1\n",
    "                    for flow_scenario in [0.0657, 0.1314, 0.2191]:\n",
    "                        m.fs.irrigation_and_drainage.flow_vol_in.fix(flow_scenario)\n",
    "                        m.fs.reverse_osmosis.feed.pressure.unfix()\n",
    "                        m.fs.reverse_osmosis.membrane_area.unfix()\n",
    "\n",
    "                        print(\"adjusted baseline flow -->\", flow_scenario)\n",
    "                        wt.run_water_tap(m=m, objective=True, skip_small=skip_small_base, print_model_results=\"summary\")\n",
    "                        if n == 1: s_name = m.fs.train[\"case_study\"] + \"1p5_mgd\"\n",
    "                        if n == 2: s_name = m.fs.train[\"case_study\"] + \"3_mgd\"\n",
    "                        if n == 3: s_name = m.fs.train[\"case_study\"] + \"5_mgd\"\n",
    "                        df_no2 = wt.get_results_table(m=m, case_study=m.fs.train[\"case_study\"], scenario=s_name)                \n",
    "                        n = n + 1\n",
    "\n",
    "            dwi_list = [\"emwd\", \"big_spring\"]   \n",
    "            if m.fs.train[\"case_study\"] in dwi_list:\n",
    "                for key in m.fs.pfd_dict.keys():\n",
    "                    if m.fs.pfd_dict[key][\"Unit\"] == \"deep_well_injection\":\n",
    "                        wt.sensitivity_runs(m = m, save_results = True, scenario = scenario, \n",
    "                                            case_study = case_study, skip_small_sens = skip_small_sens)\n",
    "\n",
    "            if scenario in [\"edr_ph_ro\", \"ro_and_mf\"]:\n",
    "                print(\"goes in\")\n",
    "                wt.sensitivity_runs(m = m, save_results = True, scenario = scenario, \n",
    "                                    case_study = case_study, skip_small_sens = skip_small_sens)                \n",
    "\n",
    "            if source_water == \"power\":\n",
    "                for key in m.fs.pfd_dict.keys():\n",
    "                    if m.fs.pfd_dict[key][\"Unit\"] == \"evaporation_pond\":\n",
    "                        wt.sensitivity_runs(m = m, save_results = True, scenario = scenario, \n",
    "                                            case_study = case_study, skip_small_sens = skip_small_sens)  \n",
    "\n"
   ]
  },
  {
   "cell_type": "code",
   "execution_count": null,
   "metadata": {},
   "outputs": [],
   "source": []
  },
  {
   "cell_type": "code",
   "execution_count": null,
   "metadata": {},
   "outputs": [],
   "source": []
  },
  {
   "cell_type": "code",
   "execution_count": null,
   "metadata": {},
   "outputs": [],
   "source": []
  },
  {
   "cell_type": "code",
   "execution_count": null,
   "metadata": {},
   "outputs": [],
   "source": []
  },
  {
   "cell_type": "code",
   "execution_count": null,
   "metadata": {},
   "outputs": [],
   "source": []
  },
  {
   "cell_type": "code",
   "execution_count": null,
   "metadata": {},
   "outputs": [],
   "source": []
  },
  {
   "cell_type": "code",
   "execution_count": null,
   "metadata": {},
   "outputs": [],
   "source": []
  },
  {
   "cell_type": "code",
   "execution_count": null,
   "metadata": {},
   "outputs": [],
   "source": []
  },
  {
   "cell_type": "code",
   "execution_count": null,
   "metadata": {},
   "outputs": [],
   "source": []
  },
  {
   "cell_type": "code",
   "execution_count": null,
   "metadata": {},
   "outputs": [],
   "source": [
    "wt.display.show_train2(model_name=m)"
   ]
  },
  {
   "cell_type": "code",
   "execution_count": null,
   "metadata": {},
   "outputs": [],
   "source": [
    "#wt.run_water_tap(m=m, objective=False, print_model_results=\"summary\", skip_small=True)"
   ]
  },
  {
   "cell_type": "code",
   "execution_count": null,
   "metadata": {},
   "outputs": [],
   "source": []
  },
  {
   "cell_type": "code",
   "execution_count": null,
   "metadata": {},
   "outputs": [],
   "source": []
  },
  {
   "cell_type": "code",
   "execution_count": null,
   "metadata": {},
   "outputs": [],
   "source": []
  },
  {
   "cell_type": "code",
   "execution_count": null,
   "metadata": {},
   "outputs": [],
   "source": []
  },
  {
   "cell_type": "code",
   "execution_count": null,
   "metadata": {},
   "outputs": [],
   "source": []
  },
  {
   "cell_type": "code",
   "execution_count": null,
   "metadata": {},
   "outputs": [],
   "source": []
  },
  {
   "cell_type": "code",
   "execution_count": null,
   "metadata": {},
   "outputs": [],
   "source": []
  },
  {
   "cell_type": "code",
   "execution_count": null,
   "metadata": {},
   "outputs": [],
   "source": []
  },
  {
   "cell_type": "code",
   "execution_count": null,
   "metadata": {},
   "outputs": [],
   "source": []
  },
  {
   "cell_type": "code",
   "execution_count": null,
   "metadata": {},
   "outputs": [],
   "source": []
  },
  {
   "cell_type": "code",
   "execution_count": null,
   "metadata": {},
   "outputs": [],
   "source": []
  },
  {
   "cell_type": "code",
   "execution_count": null,
   "metadata": {},
   "outputs": [],
   "source": []
  },
  {
   "cell_type": "code",
   "execution_count": null,
   "metadata": {},
   "outputs": [],
   "source": []
  },
  {
   "cell_type": "code",
   "execution_count": null,
   "metadata": {},
   "outputs": [],
   "source": []
  },
  {
   "cell_type": "code",
   "execution_count": null,
   "metadata": {},
   "outputs": [],
   "source": []
  },
  {
   "cell_type": "code",
   "execution_count": null,
   "metadata": {},
   "outputs": [],
   "source": []
  },
  {
   "cell_type": "code",
   "execution_count": null,
   "metadata": {
    "scrolled": false
   },
   "outputs": [],
   "source": [
    "import pyomo.util.infeasible as infeas\n",
    "print(infeas.log_infeasible_bounds(m))\n",
    "print(infeas.log_infeasible_constraints(m))"
   ]
  },
  {
   "cell_type": "code",
   "execution_count": null,
   "metadata": {},
   "outputs": [],
   "source": []
  },
  {
   "cell_type": "code",
   "execution_count": null,
   "metadata": {},
   "outputs": [],
   "source": []
  },
  {
   "cell_type": "code",
   "execution_count": null,
   "metadata": {},
   "outputs": [],
   "source": []
  }
 ],
 "metadata": {
  "celltoolbar": "Raw Cell Format",
  "kernelspec": {
   "display_name": "Python 3",
   "language": "python",
   "name": "python3"
  },
  "language_info": {
   "codemirror_mode": {
    "name": "ipython",
    "version": 3
   },
   "file_extension": ".py",
   "mimetype": "text/x-python",
   "name": "python",
   "nbconvert_exporter": "python",
   "pygments_lexer": "ipython3",
   "version": "3.7.4"
  }
 },
 "nbformat": 4,
 "nbformat_minor": 4
}
