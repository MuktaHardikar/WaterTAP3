{
 "cells": [
  {
   "cell_type": "code",
   "execution_count": 1,
   "metadata": {
    "scrolled": true
   },
   "outputs": [
    {
     "name": "stdout",
     "output_type": "stream",
     "text": [
      "santa_barbara\n",
      "------- Adding Unit Processes -------\n",
      "sw_onshore_intake\n",
      "ferric_chloride_addition\n",
      "chlorination\n",
      "static_mixer\n",
      "holding_tank\n",
      "7200.0\n",
      "media_filtration\n",
      "anti_scalant_addition\n",
      "cartridge_filtration\n",
      "reverse_osmosis\n",
      "holding_tank_b\n",
      "3600.0\n",
      "uv_aop\n",
      "co2_addition\n",
      "lime_addition\n",
      "treated_storage\n",
      "3600.0\n",
      "backwash_solids_handling\n",
      "landfill\n",
      "municipal_drinking\n",
      "surface_discharge\n",
      "-------------------------------------\n",
      "adding source\n",
      "----- Connecting Unit Processes -----\n",
      "seawater ToUnitName --> sw_onshore_intake\n",
      "sw_onshore_intake ToUnitName --> ferric_chloride_addition\n",
      "ferric_chloride_addition ToUnitName --> chlorination\n",
      "chlorination ToUnitName --> static_mixer\n",
      "static_mixer ToUnitName --> holding_tank\n",
      "media_filtration ToUnitName --> anti_scalant_addition\n",
      "media_filtration ToUnitName --> backwash_solids_handling\n",
      "anti_scalant_addition ToUnitName --> cartridge_filtration\n",
      "cartridge_filtration ToUnitName --> reverse_osmosis\n",
      "reverse_osmosis ToUnitName --> holding_tank_b\n",
      "holding_tank_b ToUnitName --> uv_aop\n",
      "uv_aop ToUnitName --> co2_addition\n",
      "co2_addition ToUnitName --> lime_addition\n",
      "lime_addition ToUnitName --> treated_storage\n",
      "treated_storage ToUnitName --> municipal_drinking\n",
      "backwash_solids_handling ToUnitName --> landfill\n",
      "holding_tank ToUnitName --> mixer1\n",
      "backwash_solids_handling ToUnitName --> mixer1\n",
      "mixer1 ToUnitName --> media_filtration\n",
      "-------------------------------------\n"
     ]
    }
   ],
   "source": [
    "import watertap as wt\n",
    "import pandas as pd\n",
    "from pyomo.environ import value, Block\n",
    "from idaes.core import FlowsheetBlock\n",
    "import numpy as np\n",
    "from case_study_trains import *\n",
    "import case_study_trains\n",
    "import pyomo.environ as env\n",
    "\n",
    "m = wt.watertap_setup(dynamic = False)\n",
    "\n",
    "\n",
    "wt.case_study_trains.train = {\"case_study\": \"santa_barbara\",\n",
    "                             \"reference\": \"nawi\",\n",
    "                             \"scenario\": \"baseline\"}\n",
    "\n",
    "\n",
    "wt.case_study_trains.source_water = {\"case_study\": \"santa_barbara\", \n",
    "                             \"reference\": \"nawi\",\n",
    "                             \"scenario\": \"baseline\",\n",
    "                             \"water_type\": \"seawater\"}\n",
    "\n",
    "m = wt.case_study_trains.get_case_study(m=m) # flow is set as case study flow unless defined.\n"
   ]
  },
  {
   "cell_type": "code",
   "execution_count": 2,
   "metadata": {
    "scrolled": false
   },
   "outputs": [
    {
     "data": {
      "text/html": [
       "\n",
       "        <iframe\n",
       "            width=\"100%\"\n",
       "            height=\"500px\"\n",
       "            src=\"tmp/example.html\"\n",
       "            frameborder=\"0\"\n",
       "            allowfullscreen\n",
       "        ></iframe>\n",
       "        "
      ],
      "text/plain": [
       "<IPython.lib.display.IFrame at 0x7fcbd8115850>"
      ]
     },
     "execution_count": 2,
     "metadata": {},
     "output_type": "execute_result"
    }
   ],
   "source": [
    "wt.display.show_train2(model_name=m)"
   ]
  },
  {
   "cell_type": "code",
   "execution_count": null,
   "metadata": {},
   "outputs": [],
   "source": []
  },
  {
   "cell_type": "code",
   "execution_count": 3,
   "metadata": {},
   "outputs": [],
   "source": [
    "# RUN MODEL with optimal ro so that the model solves. Then runs again with set pressure. "
   ]
  },
  {
   "cell_type": "code",
   "execution_count": 4,
   "metadata": {
    "scrolled": true
   },
   "outputs": [
    {
     "name": "stdout",
     "output_type": "stream",
     "text": [
      "unfixing feed presure and area for reverse_osmosis\n",
      "initial inflow to train is relatively small (< 1 m3/s). running model with dummy flows to initialize.\n",
      "degrees_of_freedom: 2\n",
      "WaterTAP3 solution optimal\n",
      "model finished running to initialize conditions. now running with actual inflows.\n",
      "degrees_of_freedom: 2\n",
      "WaterTAP3 solution optimal\n",
      "optimal ro area and pressures:\n",
      "reverse_osmosis feed pressure 79.33248801931535\n",
      "reverse_osmosis membrane area 17730.732777715144\n",
      "setting feed presure for reverse_osmosis to --> 85\n",
      "degrees_of_freedom: 1\n",
      "WaterTAP3 solution optimal\n",
      "fs.sw_onshore_intake\n",
      "total_cap_investment: 2.0085709185785228\n",
      "----------------------------------------------------------------------\n",
      "fs.ferric_chloride_addition\n",
      "total_cap_investment: 1.6475042846816659\n",
      "----------------------------------------------------------------------\n",
      "fs.chlorination\n",
      "total_cap_investment: 5.206438709376753\n",
      "----------------------------------------------------------------------\n",
      "fs.static_mixer\n",
      "total_cap_investment: 0.1162155841035918\n",
      "----------------------------------------------------------------------\n",
      "fs.holding_tank\n",
      "total_cap_investment: 1.4805906878743877\n",
      "----------------------------------------------------------------------\n",
      "fs.media_filtration\n",
      "total_cap_investment: 2.6868232956463585\n",
      "----------------------------------------------------------------------\n",
      "fs.anti_scalant_addition\n",
      "total_cap_investment: 0.06841919446375062\n",
      "----------------------------------------------------------------------\n",
      "fs.cartridge_filtration\n",
      "total_cap_investment: 2.6025151540062086\n",
      "----------------------------------------------------------------------\n",
      "fs.reverse_osmosis\n",
      "total_cap_investment: 11.516931253510723\n",
      "----------------------------------------------------------------------\n",
      "fs.holding_tank_b\n",
      "total_cap_investment: 0.6483093182452818\n",
      "----------------------------------------------------------------------\n",
      "fs.uv_aop\n",
      "total_cap_investment: 5.361469260851927\n",
      "----------------------------------------------------------------------\n",
      "fs.co2_addition\n",
      "total_cap_investment: 1.4180124485735441\n",
      "----------------------------------------------------------------------\n",
      "fs.lime_addition\n",
      "total_cap_investment: 1.51109859916534\n",
      "----------------------------------------------------------------------\n",
      "fs.treated_storage\n",
      "total_cap_investment: 0.6481223815985155\n",
      "----------------------------------------------------------------------\n",
      "fs.backwash_solids_handling\n",
      "total_cap_investment: 0.0018907869971243106\n",
      "----------------------------------------------------------------------\n",
      "fs.landfill\n",
      "total_cap_investment: 8.767858641932836e-06\n",
      "----------------------------------------------------------------------\n",
      "fs.municipal_drinking\n",
      "total_cap_investment: 0.528263275442476\n",
      "----------------------------------------------------------------------\n",
      "fs.surface_discharge\n",
      "total_cap_investment: 2.3941268867273653\n",
      "----------------------------------------------------------------------\n",
      "----------------------------------------------------------------------\n",
      "------------------- System Level Metrics and Costs -------------------\n",
      "Total Capital Investment ($MM) 39.84531080770218\n",
      "Annual Fixed Operating Cost ($MM/yr) 0.5292073539606608\n",
      "Annual Catalysts and Chemicals Cost ($MM/yr) 0.6916787663672521\n",
      "Annual Electricity Costs ($MM/yr) 2.9836522892366886\n",
      "Annual Other Variable Costs ($MM/yr) 0.09949429884465823\n",
      "Annual Operating Costs ($MM/yr) 4.3040327084092596\n",
      "Treated water (m3/s) ---> 0.19649383639313345\n",
      "Total water recovery (%) ---> 63.54910620735236\n",
      "Electricity intensity (kwh/m3) --->  3.5932536248354507\n",
      "LCOW ($/m3) --->  1.2105489579989552\n",
      "Electricity portion of LCOW (%) ---> 39.775011373671845\n",
      "----------------------------------------------------------------------\n",
      "reverse_osmosis feed pressure 85\n",
      "reverse_osmosis membrane area 16582.383140776372\n"
     ]
    }
   ],
   "source": [
    "# # RUN MODEL with optimal ro --> estimating area and pressure for optimal LCOW\n",
    "# so that the model solves and gets you results. Then runs again with set pressure.\n",
    "for key in m.fs.pfd_dict.keys():\n",
    "    if m.fs.pfd_dict[key][\"Unit\"] == \"reverse_osmosis\":\n",
    "        getattr(m.fs, key).feed.pressure.unfix()\n",
    "        getattr(m.fs, key).membrane_area.unfix()\n",
    "        print(\"unfixing feed presure and area for\", key)\n",
    "        \n",
    "wt.run_water_tap(m = m, objective=True)\n",
    "\n",
    "# prints RO results\n",
    "print(\"optimal ro area and pressures:\")\n",
    "for key in m.fs.pfd_dict.keys():\n",
    "    if m.fs.pfd_dict[key][\"Unit\"] == \"reverse_osmosis\":\n",
    "        print(key, \"feed pressure\", getattr(m.fs, key).feed.pressure[0]())\n",
    "        print(key, \"membrane area\", getattr(m.fs, key).membrane_area[0]())\n",
    "\n",
    "# RESET PRESSURE TO USER INPUT\n",
    "for key in m.fs.pfd_dict.keys():\n",
    "    if m.fs.pfd_dict[key][\"Unit\"] == \"reverse_osmosis\":\n",
    "        if \"feed_pressure\" in m.fs.pfd_dict[key][\"Parameter\"]:\n",
    "            if m.fs.pfd_dict[key][\"Parameter\"][\"type\"] == \"pass\":\n",
    "                getattr(m.fs, key).feed.pressure.fix(m.fs.pfd_dict[key][\"Parameter\"][\"feed_pressure\"])\n",
    "                print(\"setting feed presure for\", key, \"to -->\", m.fs.pfd_dict[key][\"Parameter\"][\"feed_pressure\"])\n",
    "\n",
    "wt.run_water_tap(m = m, objective=True, print_model_results=\"summary\", skip_small = True)\n",
    "\n",
    "for key in m.fs.pfd_dict.keys():\n",
    "    if m.fs.pfd_dict[key][\"Unit\"] == \"reverse_osmosis\":\n",
    "        print(key, \"feed pressure\", getattr(m.fs, key).feed.pressure[0]())\n",
    "        print(key, \"membrane area\", getattr(m.fs, key).membrane_area[0]())"
   ]
  },
  {
   "cell_type": "code",
   "execution_count": null,
   "metadata": {},
   "outputs": [],
   "source": []
  },
  {
   "cell_type": "code",
   "execution_count": 5,
   "metadata": {},
   "outputs": [],
   "source": [
    "# If you need the system recovery to match better.... set a maximum recovery rate."
   ]
  },
  {
   "cell_type": "code",
   "execution_count": 6,
   "metadata": {},
   "outputs": [],
   "source": [
    "from pyomo.environ import Constraint\n",
    "#m.recovery_bound = Constraint(expr = m.fs.costing.system_recovery <= 0.55) # THIS IS FOR TAMPA BAY\n",
    "m.recovery_bound = Constraint(expr = m.fs.costing.system_recovery <= 0.50) # THIS IS FOR SANTA BARBARA"
   ]
  },
  {
   "cell_type": "code",
   "execution_count": 7,
   "metadata": {},
   "outputs": [],
   "source": [
    "# set cap utilization factor\n",
    "m.fs.costing_param.plant_cap_utilization = 1"
   ]
  },
  {
   "cell_type": "code",
   "execution_count": 8,
   "metadata": {
    "scrolled": true
   },
   "outputs": [
    {
     "name": "stdout",
     "output_type": "stream",
     "text": [
      "degrees_of_freedom: 1\n",
      "WaterTAP3 solution optimal\n",
      "fs.sw_onshore_intake\n",
      "total_cap_investment: 2.0085709185785228\n",
      "----------------------------------------------------------------------\n",
      "fs.ferric_chloride_addition\n",
      "total_cap_investment: 1.6475042846816659\n",
      "----------------------------------------------------------------------\n",
      "fs.chlorination\n",
      "total_cap_investment: 5.206438709376753\n",
      "----------------------------------------------------------------------\n",
      "fs.static_mixer\n",
      "total_cap_investment: 0.1162155841035918\n",
      "----------------------------------------------------------------------\n",
      "fs.holding_tank\n",
      "total_cap_investment: 1.4805906878743877\n",
      "----------------------------------------------------------------------\n",
      "fs.media_filtration\n",
      "total_cap_investment: 2.6868232956463585\n",
      "----------------------------------------------------------------------\n",
      "fs.anti_scalant_addition\n",
      "total_cap_investment: 0.06841919446375062\n",
      "----------------------------------------------------------------------\n",
      "fs.cartridge_filtration\n",
      "total_cap_investment: 2.6025151540062086\n",
      "----------------------------------------------------------------------\n",
      "fs.reverse_osmosis\n",
      "total_cap_investment: 11.156300381824526\n",
      "----------------------------------------------------------------------\n",
      "fs.holding_tank_b\n",
      "total_cap_investment: 0.5453873006091224\n",
      "----------------------------------------------------------------------\n",
      "fs.uv_aop\n",
      "total_cap_investment: 4.976023304840356\n",
      "----------------------------------------------------------------------\n",
      "fs.co2_addition\n",
      "total_cap_investment: 1.1988985616643415\n",
      "----------------------------------------------------------------------\n",
      "fs.lime_addition\n",
      "total_cap_investment: 1.3262974983807305\n",
      "----------------------------------------------------------------------\n",
      "fs.treated_storage\n",
      "total_cap_investment: 0.545230040995084\n",
      "----------------------------------------------------------------------\n",
      "fs.backwash_solids_handling\n",
      "total_cap_investment: 0.0018907869971243106\n",
      "----------------------------------------------------------------------\n",
      "fs.landfill\n",
      "total_cap_investment: 8.767858641932835e-06\n",
      "----------------------------------------------------------------------\n",
      "fs.municipal_drinking\n",
      "total_cap_investment: 0.429236763111208\n",
      "----------------------------------------------------------------------\n",
      "fs.surface_discharge\n",
      "total_cap_investment: 3.070313020432685\n",
      "----------------------------------------------------------------------\n",
      "----------------------------------------------------------------------\n",
      "------------------- System Level Metrics and Costs -------------------\n",
      "Total Capital Investment ($MM) 39.06666425544504\n",
      "Annual Fixed Operating Cost ($MM/yr) 0.518874734651806\n",
      "Annual Catalysts and Chemicals Cost ($MM/yr) 0.6771700745343822\n",
      "Annual Electricity Costs ($MM/yr) 2.5094476583652168\n",
      "Annual Other Variable Costs ($MM/yr) 0.05515652748597343\n",
      "Annual Operating Costs ($MM/yr) 3.7606489950373785\n",
      "Treated water (m3/s) ---> 0.15460000273339888\n",
      "Total water recovery (%) ---> 50.00000088402293\n",
      "Electricity intensity (kwh/m3) --->  3.841114374794861\n",
      "LCOW ($/m3) --->  1.414318067568667\n",
      "Electricity portion of LCOW (%) ---> 36.39275619997844\n",
      "----------------------------------------------------------------------\n",
      "reverse_osmosis feed pressure 85\n",
      "reverse_osmosis membrane area 9192.754580995572\n"
     ]
    }
   ],
   "source": [
    "wt.run_water_tap(m = m, objective=True, print_model_results=\"summary\", skip_small = True)\n",
    "for key in m.fs.pfd_dict.keys():\n",
    "    if m.fs.pfd_dict[key][\"Unit\"] == \"reverse_osmosis\":\n",
    "        print(key, \"feed pressure\", getattr(m.fs, key).feed.pressure[0]())\n",
    "        print(key, \"membrane area\", getattr(m.fs, key).membrane_area[0]())"
   ]
  },
  {
   "cell_type": "code",
   "execution_count": 9,
   "metadata": {},
   "outputs": [],
   "source": [
    "# RESET AREA TO USER INPUT\n",
    "for key in m.fs.pfd_dict.keys():\n",
    "    if m.fs.pfd_dict[key][\"Unit\"] == \"reverse_osmosis\":\n",
    "        getattr(m.fs, key).membrane_area.fix(getattr(m.fs, key).membrane_area[0]())"
   ]
  },
  {
   "cell_type": "code",
   "execution_count": 10,
   "metadata": {},
   "outputs": [],
   "source": [
    "# Readjust recovery constraint and deactivate objective constraint\n",
    "m.recovery_bound = Constraint(expr = m.fs.costing.system_recovery >= 0)\n",
    "m.fs.objective_function.deactivate()"
   ]
  },
  {
   "cell_type": "code",
   "execution_count": 11,
   "metadata": {
    "scrolled": true
   },
   "outputs": [
    {
     "name": "stdout",
     "output_type": "stream",
     "text": [
      "degrees_of_freedom: 0\n",
      "WaterTAP3 solution optimal\n",
      "fs.sw_onshore_intake\n",
      "total_cap_investment: 2.0085709185785228\n",
      "----------------------------------------------------------------------\n",
      "fs.ferric_chloride_addition\n",
      "total_cap_investment: 1.6475042846816659\n",
      "----------------------------------------------------------------------\n",
      "fs.chlorination\n",
      "total_cap_investment: 5.206438709376753\n",
      "----------------------------------------------------------------------\n",
      "fs.static_mixer\n",
      "total_cap_investment: 0.1162155841035918\n",
      "----------------------------------------------------------------------\n",
      "fs.holding_tank\n",
      "total_cap_investment: 1.4805906878743877\n",
      "----------------------------------------------------------------------\n",
      "fs.media_filtration\n",
      "total_cap_investment: 2.6868232956463585\n",
      "----------------------------------------------------------------------\n",
      "fs.anti_scalant_addition\n",
      "total_cap_investment: 0.06841919446375062\n",
      "----------------------------------------------------------------------\n",
      "fs.cartridge_filtration\n",
      "total_cap_investment: 2.6025151540062086\n",
      "----------------------------------------------------------------------\n",
      "fs.reverse_osmosis\n",
      "total_cap_investment: 11.156300381825067\n",
      "----------------------------------------------------------------------\n",
      "fs.holding_tank_b\n",
      "total_cap_investment: 0.5453873006073842\n",
      "----------------------------------------------------------------------\n",
      "fs.uv_aop\n",
      "total_cap_investment: 4.976023304833631\n",
      "----------------------------------------------------------------------\n",
      "fs.co2_addition\n",
      "total_cap_investment: 1.198898561660631\n",
      "----------------------------------------------------------------------\n",
      "fs.lime_addition\n",
      "total_cap_investment: 1.3262974983775406\n",
      "----------------------------------------------------------------------\n",
      "fs.treated_storage\n",
      "total_cap_investment: 0.5452300409933462\n",
      "----------------------------------------------------------------------\n",
      "fs.backwash_solids_handling\n",
      "total_cap_investment: 0.0018907873388687877\n",
      "----------------------------------------------------------------------\n",
      "fs.landfill\n",
      "total_cap_investment: 8.767990893022185e-06\n",
      "----------------------------------------------------------------------\n",
      "fs.municipal_drinking\n",
      "total_cap_investment: 0.42923676310956516\n",
      "----------------------------------------------------------------------\n",
      "fs.surface_discharge\n",
      "total_cap_investment: 3.0703130232612357\n",
      "----------------------------------------------------------------------\n",
      "----------------------------------------------------------------------\n",
      "------------------- System Level Metrics and Costs -------------------\n",
      "Total Capital Investment ($MM) 39.06666425872939\n",
      "Annual Fixed Operating Cost ($MM/yr) 0.5188747346953954\n",
      "Annual Catalysts and Chemicals Cost ($MM/yr) 0.6771700745342066\n",
      "Annual Electricity Costs ($MM/yr) 2.5094476583574807\n",
      "Annual Other Variable Costs ($MM/yr) 0.05515652748597343\n",
      "Annual Operating Costs ($MM/yr) 3.760648995073056\n",
      "Treated water (m3/s) ---> 0.15460000273271535\n",
      "Total water recovery (%) ---> 50.00000088380187\n",
      "Electricity intensity (kwh/m3) --->  3.8411143748000023\n",
      "LCOW ($/m3) --->  1.4143180676362932\n",
      "Electricity portion of LCOW (%) ---> 36.39275619828702\n",
      "----------------------------------------------------------------------\n"
     ]
    }
   ],
   "source": [
    "# NOW RUN AS SIMULATION\n",
    "wt.run_water_tap(m = m, objective=False, print_model_results=\"summary\", skip_small = True)"
   ]
  },
  {
   "cell_type": "code",
   "execution_count": null,
   "metadata": {},
   "outputs": [],
   "source": []
  },
  {
   "cell_type": "code",
   "execution_count": 12,
   "metadata": {},
   "outputs": [
    {
     "ename": "AttributeError",
     "evalue": "'SimpleBlock' object has no attribute 'fixed_op_cost_annual'",
     "output_type": "error",
     "traceback": [
      "\u001b[0;31m---------------------------------------------------------------------------\u001b[0m",
      "\u001b[0;31mAttributeError\u001b[0m                            Traceback (most recent call last)",
      "\u001b[0;32m<ipython-input-12-0d699288151c>\u001b[0m in \u001b[0;36m<module>\u001b[0;34m\u001b[0m\n\u001b[1;32m      3\u001b[0m \u001b[0;34m\u001b[0m\u001b[0m\n\u001b[1;32m      4\u001b[0m df = wt.get_results_table(m = m, case_study = wt.case_study_trains.source_water[\"case_study\"], \n\u001b[0;32m----> 5\u001b[0;31m                                 scenario = wt.case_study_trains.source_water[\"scenario\"])\n\u001b[0m",
      "\u001b[0;32m~/NAWI/WaterTap/NAWI-WaterTAP3/IDAES-WaterTAP3_v2/post_processing.py\u001b[0m in \u001b[0;36mget_results_table\u001b[0;34m(m, scenario, case_study, save)\u001b[0m\n\u001b[1;32m     76\u001b[0m                 \u001b[0;32melse\u001b[0m\u001b[0;34m:\u001b[0m\u001b[0;34m\u001b[0m\u001b[0;34m\u001b[0m\u001b[0m\n\u001b[1;32m     77\u001b[0m                     \u001b[0mvariable_list\u001b[0m\u001b[0;34m.\u001b[0m\u001b[0mappend\u001b[0m\u001b[0;34m(\u001b[0m\u001b[0mname_lup\u001b[0m\u001b[0;34m.\u001b[0m\u001b[0mloc\u001b[0m\u001b[0;34m[\u001b[0m\u001b[0mvariable\u001b[0m\u001b[0;34m]\u001b[0m\u001b[0;34m.\u001b[0m\u001b[0mExcel_variable\u001b[0m\u001b[0;34m)\u001b[0m\u001b[0;34m\u001b[0m\u001b[0;34m\u001b[0m\u001b[0m\n\u001b[0;32m---> 78\u001b[0;31m                     \u001b[0mvalue_list\u001b[0m\u001b[0;34m.\u001b[0m\u001b[0mappend\u001b[0m\u001b[0;34m(\u001b[0m\u001b[0mvalue\u001b[0m\u001b[0;34m(\u001b[0m\u001b[0mgetattr\u001b[0m\u001b[0;34m(\u001b[0m\u001b[0mb_unit\u001b[0m\u001b[0;34m.\u001b[0m\u001b[0mcosting\u001b[0m\u001b[0;34m,\u001b[0m \u001b[0mvariable\u001b[0m\u001b[0;34m)\u001b[0m\u001b[0;34m)\u001b[0m\u001b[0;34m)\u001b[0m\u001b[0;34m\u001b[0m\u001b[0;34m\u001b[0m\u001b[0m\n\u001b[0m\u001b[1;32m     79\u001b[0m                     \u001b[0munit_list\u001b[0m\u001b[0;34m.\u001b[0m\u001b[0mappend\u001b[0m\u001b[0;34m(\u001b[0m\u001b[0mname_lup\u001b[0m\u001b[0;34m.\u001b[0m\u001b[0mloc\u001b[0m\u001b[0;34m[\u001b[0m\u001b[0mvariable\u001b[0m\u001b[0;34m]\u001b[0m\u001b[0;34m.\u001b[0m\u001b[0mUnit\u001b[0m\u001b[0;34m)\u001b[0m\u001b[0;34m\u001b[0m\u001b[0;34m\u001b[0m\u001b[0m\n\u001b[1;32m     80\u001b[0m                 \u001b[0;32mif\u001b[0m \u001b[0mvariable\u001b[0m \u001b[0;34m==\u001b[0m \u001b[0;34m\"electricity\"\u001b[0m\u001b[0;34m:\u001b[0m\u001b[0;34m\u001b[0m\u001b[0;34m\u001b[0m\u001b[0m\n",
      "\u001b[0;32m~/miniconda3/envs/tap-idaes3/lib/python3.7/site-packages/pyomo/core/base/block.py\u001b[0m in \u001b[0;36m__getattr__\u001b[0;34m(self, val)\u001b[0m\n\u001b[1;32m    522\u001b[0m         \u001b[0;31m# throw the \"normal\" AttributeError\u001b[0m\u001b[0;34m\u001b[0m\u001b[0;34m\u001b[0m\u001b[0;34m\u001b[0m\u001b[0m\n\u001b[1;32m    523\u001b[0m         raise AttributeError(\"'%s' object has no attribute '%s'\"\n\u001b[0;32m--> 524\u001b[0;31m                              % (self.__class__.__name__, val))\n\u001b[0m\u001b[1;32m    525\u001b[0m \u001b[0;34m\u001b[0m\u001b[0m\n\u001b[1;32m    526\u001b[0m     \u001b[0;32mdef\u001b[0m \u001b[0m__setattr__\u001b[0m\u001b[0;34m(\u001b[0m\u001b[0mself\u001b[0m\u001b[0;34m,\u001b[0m \u001b[0mname\u001b[0m\u001b[0;34m,\u001b[0m \u001b[0mval\u001b[0m\u001b[0;34m)\u001b[0m\u001b[0;34m:\u001b[0m\u001b[0;34m\u001b[0m\u001b[0;34m\u001b[0m\u001b[0m\n",
      "\u001b[0;31mAttributeError\u001b[0m: 'SimpleBlock' object has no attribute 'fixed_op_cost_annual'"
     ]
    }
   ],
   "source": [
    "# creates csv in results folder with the name: *case_study*_*scenario*.csv\n",
    "# In this case, save the final baseline result.\n",
    "\n",
    "df = wt.get_results_table(m = m, case_study = wt.case_study_trains.source_water[\"case_study\"], \n",
    "                                scenario = wt.case_study_trains.source_water[\"scenario\"])"
   ]
  },
  {
   "cell_type": "code",
   "execution_count": null,
   "metadata": {},
   "outputs": [],
   "source": []
  },
  {
   "cell_type": "code",
   "execution_count": null,
   "metadata": {
    "scrolled": true
   },
   "outputs": [],
   "source": [
    "# Find bounds for RO area:\n",
    "for key in m.fs.pfd_dict.keys():\n",
    "    if m.fs.pfd_dict[key][\"Unit\"] == \"reverse_osmosis\":\n",
    "        \n",
    "        stash_value = value(getattr(m.fs, key).membrane_area[0])\n",
    "        getattr(m.fs, key).membrane_area.unfix()\n",
    "        m.fs.objective_function1 = env.Objective(expr=getattr(m.fs, key).membrane_area[0] * 1, sense=env.minimize)\n",
    "        wt.run_water_tap(m = m, objective=False, skip_small = True)\n",
    "        print(\"LCOW -->\", m.fs.costing.LCOW())\n",
    "        print(key, \"Minimum -->\", getattr(m.fs, key).membrane_area[0]())\n",
    "\n",
    "        m.fs.objective_function1 = env.Objective(expr=getattr(m.fs, key).membrane_area[0], sense=env.maximize)\n",
    "        wt.run_water_tap(m = m, objective=False, skip_small = True)\n",
    "        print(\"LCOW -->\", m.fs.costing.LCOW())\n",
    "        print(key, \"Maximum -->\", getattr(m.fs, key).membrane_area[0]())\n",
    "\n",
    "        getattr(m.fs, key).membrane_area.fix(stash_value)\n"
   ]
  },
  {
   "cell_type": "code",
   "execution_count": null,
   "metadata": {},
   "outputs": [],
   "source": [
    "# Find bounds for RO pessure:\n",
    "for key in m.fs.pfd_dict.keys():\n",
    "    if m.fs.pfd_dict[key][\"Unit\"] == \"reverse_osmosis\":\n",
    "        \n",
    "        stash_value = value(getattr(m.fs, key).feed.pressure[0])\n",
    "        getattr(m.fs, key).feed.pressure.unfix()\n",
    "        m.fs.objective_function1 = env.Objective(expr=getattr(m.fs, key).feed.pressure[0], sense=env.minimize)\n",
    "        wt.run_water_tap(m = m, objective=False, skip_small = True)\n",
    "        print(\"LCOW -->\", m.fs.costing.LCOW())\n",
    "        print(key, \"Minimum -->\", getattr(m.fs, key).feed.pressure[0]())\n",
    "\n",
    "        m.fs.objective_function1 = env.Objective(expr=getattr(m.fs, key).feed.pressure[0], sense=env.maximize)\n",
    "        wt.run_water_tap(m = m, objective=False, skip_small = True)\n",
    "        print(\"LCOW -->\", m.fs.costing.LCOW())\n",
    "        print(key, \"Maximum -->\", getattr(m.fs, key).feed.pressure[0]())\n",
    "\n",
    "        getattr(m.fs, key).feed.pressure.fix(stash_value)"
   ]
  },
  {
   "cell_type": "code",
   "execution_count": null,
   "metadata": {},
   "outputs": [],
   "source": [
    "m.fs.objective_function1.deactivate()"
   ]
  },
  {
   "cell_type": "code",
   "execution_count": null,
   "metadata": {},
   "outputs": [],
   "source": [
    "# run to rest before sensitivity\n",
    "wt.run_water_tap(m = m, objective=False, skip_small = True)\n",
    "print(\"LCOW -->\", m.fs.costing.LCOW())"
   ]
  },
  {
   "cell_type": "code",
   "execution_count": null,
   "metadata": {},
   "outputs": [],
   "source": []
  },
  {
   "cell_type": "code",
   "execution_count": null,
   "metadata": {
    "scrolled": true
   },
   "outputs": [],
   "source": [
    "# sensitivity analyses\n",
    "sens_df = pd.DataFrame()\n",
    "\n",
    "lcow_list = []\n",
    "water_recovery_list = []\n",
    "scenario_value = []\n",
    "scenario_name = []\n",
    "elec_lcow = []\n",
    "\n",
    "lcow_list.append(value(m.fs.costing.LCOW))\n",
    "water_recovery_list.append(value(m.fs.costing.system_recovery))\n",
    "scenario_value.append(\"n/a\")\n",
    "scenario_name.append(\"baseline\")\n",
    "elec_lcow.append(value(m.fs.costing.elec_frac_LCOW))\n",
    "\n",
    "runs_per_scenario = 20\n",
    "\n",
    "############ onstream_factor 70-100% ############\n",
    "stash_value = m.fs.costing_param.plant_cap_utilization\n",
    "scenario = \"plant_cap_utilization\"\n",
    "print(\"-------\", scenario, \"-------\")\n",
    "ub = 1\n",
    "lb = 0.7\n",
    "step = (ub - lb) / runs_per_scenario\n",
    "for i in np.arange(lb, ub + step, step):\n",
    "    m.fs.costing_param.plant_cap_utilization = i\n",
    "    wt.run_water_tap(m = m, objective=False, skip_small = True)\n",
    "    print(\"LCOW -->\", m.fs.costing.LCOW())\n",
    "    \n",
    "    lcow_list.append(value(m.fs.costing.LCOW))\n",
    "    water_recovery_list.append(value(m.fs.costing.system_recovery))\n",
    "    scenario_value.append(i)\n",
    "    scenario_name.append(scenario)\n",
    "    elec_lcow.append(value(m.fs.costing.elec_frac_LCOW))\n",
    "    \n",
    "m.fs.costing_param.plant_cap_utilization = stash_value    \n",
    "############################################################    \n",
    "\n",
    "############ salinity  30-45 ############\n",
    "stash_value = m.fs.seawater.conc_mass_in[0, \"tds\"]()\n",
    "scenario = \"inlet salinty 25k-45k mg/L\"\n",
    "print(\"-------\", scenario, \"-------\")\n",
    "ub = 25\n",
    "lb = 45\n",
    "step = (ub - lb) / runs_per_scenario\n",
    "for i in np.arange(lb, ub + step, step):\n",
    "    m.fs.seawater.conc_mass_in[0, \"tds\"].fix(i) \n",
    "    wt.run_water_tap(m = m, objective=False, skip_small = True)\n",
    "    print(\"LCOW -->\", m.fs.costing.LCOW())\n",
    "    \n",
    "    lcow_list.append(value(m.fs.costing.LCOW))\n",
    "    water_recovery_list.append(value(m.fs.costing.system_recovery))\n",
    "    scenario_value.append(i)\n",
    "    scenario_name.append(scenario)\n",
    "    elec_lcow.append(value(m.fs.costing.elec_frac_LCOW))\n",
    "    \n",
    "m.fs.seawater.conc_mass_in[0, \"tds\"].fix(stash_value) \n",
    "############################################################\n",
    "\n",
    "############ inlet flow ############\n",
    "stash_value = m.fs.seawater.flow_vol_in[0]()\n",
    "scenario = \"inlet flow\"\n",
    "print(\"-------\", scenario, \"-------\")\n",
    "ub = stash_value * 1.3\n",
    "lb = stash_value * 0.7\n",
    "step = (ub - lb) / runs_per_scenario\n",
    "for i in np.arange(lb, ub + step, step):\n",
    "    m.fs.seawater.flow_vol_in.fix(i) \n",
    "    wt.run_water_tap(m = m, objective=False, skip_small = True)\n",
    "    print(\"LCOW -->\", m.fs.costing.LCOW())\n",
    "    \n",
    "    lcow_list.append(value(m.fs.costing.LCOW))\n",
    "    water_recovery_list.append(value(m.fs.costing.system_recovery))\n",
    "    scenario_value.append(i)\n",
    "    scenario_name.append(scenario)\n",
    "    elec_lcow.append(value(m.fs.costing.elec_frac_LCOW))\n",
    "    \n",
    "m.fs.seawater.flow_vol_in.fix(stash_value) \n",
    "############################################################\n",
    "\n",
    "############ lifetime years ############\n",
    "\n",
    "stash_value = value(m.fs.costing_param.plant_lifetime_yrs)\n",
    "scenario = \"lifetime (yrs)\"\n",
    "print(\"-------\", scenario, \"-------\")\n",
    "ub = 50\n",
    "lb = 15\n",
    "step = (ub - lb) / runs_per_scenario\n",
    "for i in np.arange(lb, ub + step, step):\n",
    "    m.fs.costing_param.plant_lifetime_yrs = i \n",
    "    wt.run_water_tap(m = m, objective=False, skip_small = True)\n",
    "    print(\"LCOW -->\", m.fs.costing.LCOW())\n",
    "    \n",
    "    lcow_list.append(value(m.fs.costing.LCOW))\n",
    "    water_recovery_list.append(value(m.fs.costing.system_recovery))\n",
    "    scenario_value.append(i)\n",
    "    scenario_name.append(scenario)\n",
    "    elec_lcow.append(value(m.fs.costing.elec_frac_LCOW))\n",
    "    \n",
    "m.fs.costing_param.plant_lifetime_yrs = stash_value\n",
    "############################################################\n",
    "\n",
    "############ elec cost +-20% ############\n",
    "\n",
    "stash_value = value(m.fs.costing_param.electricity_price)\n",
    "scenario = \"electricity price +- 20%\"\n",
    "print(\"-------\", scenario, \"-------\")\n",
    "ub = stash_value * 1.3\n",
    "lb = stash_value * 0.7\n",
    "step = (ub - lb) / runs_per_scenario\n",
    "for i in np.arange(lb, ub + step, step):\n",
    "    m.fs.costing_param.electricity_price = i \n",
    "    wt.run_water_tap(m = m, objective=False, skip_small = True)\n",
    "    print(\"LCOW -->\", m.fs.costing.LCOW())\n",
    "    \n",
    "    lcow_list.append(value(m.fs.costing.LCOW))\n",
    "    water_recovery_list.append(value(m.fs.costing.system_recovery))\n",
    "    scenario_value.append(i)\n",
    "    scenario_name.append(scenario)\n",
    "    elec_lcow.append(value(m.fs.costing.elec_frac_LCOW))\n",
    "    \n",
    "m.fs.costing_param.electricity_price = stash_value\n",
    "############################################################\n",
    "\n",
    "############ RO scenarios --> pressure, membrane area, replacement rate% ############\n",
    "\n",
    "for key in m.fs.pfd_dict.keys():\n",
    "    if m.fs.pfd_dict[key][\"Unit\"] == \"reverse_osmosis\":\n",
    "        area = value(getattr(m.fs, key).membrane_area[0])\n",
    "\n",
    "        scenario_dict = {\"membrane_area\" : [-area*0.2, area*0.2], \n",
    "                         \"pressure\": [-15, 10], \n",
    "                         \"factor_membrane_replacement\": [-0.1, 0.1]}\n",
    "        \n",
    "        for scenario in scenario_dict.keys():\n",
    "            if scenario == \"pressure\":\n",
    "                stash_value = value(getattr(getattr(getattr(m.fs, key), \"feed\"), scenario)[0])\n",
    "            else:\n",
    "                stash_value = value(getattr(getattr(m.fs, key), scenario)[0])\n",
    "\n",
    "            print(\"-------\", scenario, \"-------\")\n",
    "            ub = stash_value + scenario_dict[scenario][1]\n",
    "            lb = stash_value + scenario_dict[scenario][0]\n",
    "            step = (ub - lb) / runs_per_scenario\n",
    "            \n",
    "            for i in np.arange(lb, ub + step, step):\n",
    "                if scenario == \"pressure\":\n",
    "                    getattr(getattr(getattr(m.fs, key), \"feed\"), scenario).fix(i)\n",
    "                else:\n",
    "                    getattr(getattr(m.fs, key), scenario).fix(i)\n",
    "                \n",
    "                wt.run_water_tap(m = m, objective=False, skip_small = True)\n",
    "                print(\"LCOW -->\", m.fs.costing.LCOW())\n",
    "    \n",
    "                lcow_list.append(value(m.fs.costing.LCOW))\n",
    "                water_recovery_list.append(value(m.fs.costing.system_recovery))\n",
    "                scenario_value.append(i)\n",
    "                scenario_name.append(key + \"_\" + scenario)\n",
    "                elec_lcow.append(value(m.fs.costing.elec_frac_LCOW))\n",
    "    \n",
    "            if scenario == \"pressure\":\n",
    "                getattr(getattr(getattr(m.fs, key), \"feed\"), scenario).fix(stash_value)\n",
    "            else:\n",
    "                getattr(getattr(m.fs, key), scenario).fix(stash_value)\n",
    "                            \n",
    "############################################################\n",
    "\n",
    "# final run to get baseline numbers again\n",
    "wt.run_water_tap(m = m, objective=False, skip_small = True)\n",
    "\n",
    "sens_df[\"lcow\"] = lcow_list\n",
    "sens_df[\"water_recovery\"] =  water_recovery_list\n",
    "sens_df[\"elec_lcow\"] =  elec_lcow\n",
    "sens_df[\"scenario_value\"] = scenario_value\n",
    "sens_df[\"scenario_name\"] = scenario_name\n",
    "sens_df[\"lcow_difference\"] =  sens_df.lcow - value(m.fs.costing.LCOW)\n",
    "sens_df[\"water_recovery_difference\"] = (sens_df.water_recovery - value(m.fs.costing.system_recovery))\n",
    "sens_df[\"elec_lcow_difference\"] = (sens_df.elec_lcow - value(m.fs.costing.elec_frac_LCOW))\n",
    "\n",
    "sens_df.elec_lcow = sens_df.elec_lcow * 100\n",
    "sens_df.water_recovery = sens_df.water_recovery * 100\n"
   ]
  },
  {
   "cell_type": "code",
   "execution_count": null,
   "metadata": {},
   "outputs": [],
   "source": [
    "sens_df.to_csv(\"results/case_studies/santa_barbara_baseline_sensitivity.csv\")"
   ]
  },
  {
   "cell_type": "code",
   "execution_count": null,
   "metadata": {},
   "outputs": [],
   "source": []
  },
  {
   "cell_type": "code",
   "execution_count": null,
   "metadata": {},
   "outputs": [],
   "source": []
  },
  {
   "cell_type": "code",
   "execution_count": null,
   "metadata": {},
   "outputs": [],
   "source": []
  },
  {
   "cell_type": "code",
   "execution_count": null,
   "metadata": {},
   "outputs": [],
   "source": []
  },
  {
   "cell_type": "code",
   "execution_count": null,
   "metadata": {},
   "outputs": [],
   "source": []
  },
  {
   "cell_type": "code",
   "execution_count": null,
   "metadata": {},
   "outputs": [],
   "source": []
  },
  {
   "cell_type": "code",
   "execution_count": null,
   "metadata": {},
   "outputs": [],
   "source": [
    "############ inlet flow ############\n",
    "stash_value = m.fs.seawater.flow_vol_in[0]()\n",
    "scenario = \"inlet flow\"\n",
    "print(\"-------\", scenario, \"-------\")\n",
    "ub = stash_value * 1.3\n",
    "lb = stash_value * 0.7\n",
    "step = (ub - lb) / runs_per_scenario\n",
    "for i in np.arange(lb, ub, step):\n",
    "    m.fs.seawater.flow_vol_in.fix(i) \n",
    "    wt.run_water_tap(m = m, objective=False)\n",
    "    print(\"LCOW -->\", m.fs.costing.LCOW())\n",
    "    \n",
    "    lcow_list.append(value(m.fs.costing.LCOW))\n",
    "    water_recovery_list.append(value(m.fs.costing.system_recovery))\n",
    "    scenario_value.append(i)\n",
    "    scenario_name.append(scenario)\n",
    "    elec_lcow.append(value(m.fs.costing.elec_frac_LCOW))\n",
    "    \n",
    "m.fs.seawater.flow_vol_in.fix(stash_value) \n",
    "############################################################"
   ]
  },
  {
   "cell_type": "code",
   "execution_count": null,
   "metadata": {},
   "outputs": [],
   "source": [
    "ub"
   ]
  },
  {
   "cell_type": "code",
   "execution_count": null,
   "metadata": {},
   "outputs": [],
   "source": [
    "lb"
   ]
  },
  {
   "cell_type": "code",
   "execution_count": null,
   "metadata": {},
   "outputs": [],
   "source": [
    "i"
   ]
  },
  {
   "cell_type": "code",
   "execution_count": null,
   "metadata": {},
   "outputs": [],
   "source": [
    "m.fs.seawater.flow_vol_in[0]()"
   ]
  },
  {
   "cell_type": "code",
   "execution_count": null,
   "metadata": {},
   "outputs": [],
   "source": []
  },
  {
   "cell_type": "code",
   "execution_count": null,
   "metadata": {},
   "outputs": [],
   "source": []
  },
  {
   "cell_type": "code",
   "execution_count": null,
   "metadata": {},
   "outputs": [],
   "source": []
  },
  {
   "cell_type": "code",
   "execution_count": null,
   "metadata": {},
   "outputs": [],
   "source": []
  },
  {
   "cell_type": "code",
   "execution_count": null,
   "metadata": {},
   "outputs": [],
   "source": []
  },
  {
   "cell_type": "code",
   "execution_count": null,
   "metadata": {},
   "outputs": [],
   "source": []
  },
  {
   "cell_type": "code",
   "execution_count": null,
   "metadata": {},
   "outputs": [],
   "source": []
  },
  {
   "cell_type": "code",
   "execution_count": null,
   "metadata": {},
   "outputs": [],
   "source": []
  },
  {
   "cell_type": "code",
   "execution_count": null,
   "metadata": {},
   "outputs": [],
   "source": []
  },
  {
   "cell_type": "code",
   "execution_count": null,
   "metadata": {},
   "outputs": [],
   "source": []
  },
  {
   "cell_type": "code",
   "execution_count": null,
   "metadata": {},
   "outputs": [],
   "source": []
  },
  {
   "cell_type": "code",
   "execution_count": null,
   "metadata": {},
   "outputs": [],
   "source": []
  },
  {
   "cell_type": "code",
   "execution_count": null,
   "metadata": {},
   "outputs": [],
   "source": []
  },
  {
   "cell_type": "code",
   "execution_count": null,
   "metadata": {},
   "outputs": [],
   "source": []
  },
  {
   "cell_type": "code",
   "execution_count": null,
   "metadata": {},
   "outputs": [],
   "source": []
  },
  {
   "cell_type": "code",
   "execution_count": null,
   "metadata": {},
   "outputs": [],
   "source": []
  },
  {
   "cell_type": "code",
   "execution_count": null,
   "metadata": {},
   "outputs": [],
   "source": []
  },
  {
   "cell_type": "code",
   "execution_count": null,
   "metadata": {},
   "outputs": [],
   "source": []
  },
  {
   "cell_type": "code",
   "execution_count": null,
   "metadata": {},
   "outputs": [],
   "source": []
  },
  {
   "cell_type": "code",
   "execution_count": null,
   "metadata": {},
   "outputs": [],
   "source": []
  },
  {
   "cell_type": "code",
   "execution_count": null,
   "metadata": {},
   "outputs": [],
   "source": []
  },
  {
   "cell_type": "code",
   "execution_count": null,
   "metadata": {},
   "outputs": [],
   "source": []
  },
  {
   "cell_type": "code",
   "execution_count": null,
   "metadata": {},
   "outputs": [],
   "source": []
  },
  {
   "cell_type": "code",
   "execution_count": null,
   "metadata": {},
   "outputs": [],
   "source": []
  },
  {
   "cell_type": "code",
   "execution_count": null,
   "metadata": {},
   "outputs": [],
   "source": []
  },
  {
   "cell_type": "code",
   "execution_count": null,
   "metadata": {},
   "outputs": [],
   "source": []
  },
  {
   "cell_type": "code",
   "execution_count": null,
   "metadata": {},
   "outputs": [],
   "source": []
  },
  {
   "cell_type": "code",
   "execution_count": null,
   "metadata": {},
   "outputs": [],
   "source": []
  },
  {
   "cell_type": "code",
   "execution_count": null,
   "metadata": {},
   "outputs": [],
   "source": []
  },
  {
   "cell_type": "code",
   "execution_count": null,
   "metadata": {},
   "outputs": [],
   "source": []
  },
  {
   "cell_type": "code",
   "execution_count": null,
   "metadata": {},
   "outputs": [],
   "source": []
  },
  {
   "cell_type": "code",
   "execution_count": null,
   "metadata": {},
   "outputs": [],
   "source": []
  },
  {
   "cell_type": "code",
   "execution_count": null,
   "metadata": {},
   "outputs": [],
   "source": []
  },
  {
   "cell_type": "code",
   "execution_count": null,
   "metadata": {},
   "outputs": [],
   "source": []
  },
  {
   "cell_type": "code",
   "execution_count": null,
   "metadata": {},
   "outputs": [],
   "source": []
  },
  {
   "cell_type": "code",
   "execution_count": null,
   "metadata": {},
   "outputs": [],
   "source": []
  },
  {
   "cell_type": "code",
   "execution_count": null,
   "metadata": {},
   "outputs": [],
   "source": []
  },
  {
   "cell_type": "code",
   "execution_count": null,
   "metadata": {},
   "outputs": [],
   "source": []
  },
  {
   "cell_type": "code",
   "execution_count": null,
   "metadata": {},
   "outputs": [],
   "source": []
  },
  {
   "cell_type": "code",
   "execution_count": null,
   "metadata": {},
   "outputs": [],
   "source": []
  },
  {
   "cell_type": "code",
   "execution_count": null,
   "metadata": {},
   "outputs": [],
   "source": []
  },
  {
   "cell_type": "code",
   "execution_count": null,
   "metadata": {},
   "outputs": [],
   "source": []
  },
  {
   "cell_type": "code",
   "execution_count": null,
   "metadata": {},
   "outputs": [],
   "source": []
  },
  {
   "cell_type": "code",
   "execution_count": null,
   "metadata": {},
   "outputs": [],
   "source": []
  },
  {
   "cell_type": "code",
   "execution_count": null,
   "metadata": {},
   "outputs": [],
   "source": []
  },
  {
   "cell_type": "code",
   "execution_count": null,
   "metadata": {},
   "outputs": [],
   "source": []
  },
  {
   "cell_type": "code",
   "execution_count": null,
   "metadata": {},
   "outputs": [],
   "source": []
  },
  {
   "cell_type": "code",
   "execution_count": null,
   "metadata": {},
   "outputs": [],
   "source": []
  },
  {
   "cell_type": "code",
   "execution_count": null,
   "metadata": {},
   "outputs": [],
   "source": [
    "####TO DO LOAD AND SAVE!!"
   ]
  },
  {
   "cell_type": "code",
   "execution_count": null,
   "metadata": {},
   "outputs": [],
   "source": [
    "#### SAVE TRAIN ####\n",
    "# path = 'trains/Tutorial1_treatment_train_example.csv'\n",
    "# wt.save_train(T, path)"
   ]
  },
  {
   "cell_type": "code",
   "execution_count": null,
   "metadata": {},
   "outputs": [],
   "source": [
    "# #### LOAD TRAIN ####\n",
    "# path = 'trains/Tutorial1_treatment_train_example.csv'\n",
    "# TT = wt.load_train(path)"
   ]
  },
  {
   "cell_type": "code",
   "execution_count": null,
   "metadata": {},
   "outputs": [],
   "source": [
    "# wt.display.show_train(TT)"
   ]
  },
  {
   "cell_type": "code",
   "execution_count": null,
   "metadata": {},
   "outputs": [],
   "source": []
  },
  {
   "cell_type": "code",
   "execution_count": null,
   "metadata": {},
   "outputs": [],
   "source": []
  },
  {
   "cell_type": "code",
   "execution_count": null,
   "metadata": {},
   "outputs": [],
   "source": []
  },
  {
   "cell_type": "code",
   "execution_count": null,
   "metadata": {},
   "outputs": [],
   "source": []
  }
 ],
 "metadata": {
  "celltoolbar": "Raw Cell Format",
  "kernelspec": {
   "display_name": "Python 3",
   "language": "python",
   "name": "python3"
  },
  "language_info": {
   "codemirror_mode": {
    "name": "ipython",
    "version": 3
   },
   "file_extension": ".py",
   "mimetype": "text/x-python",
   "name": "python",
   "nbconvert_exporter": "python",
   "pygments_lexer": "ipython3",
   "version": "3.7.4"
  }
 },
 "nbformat": 4,
 "nbformat_minor": 4
}
