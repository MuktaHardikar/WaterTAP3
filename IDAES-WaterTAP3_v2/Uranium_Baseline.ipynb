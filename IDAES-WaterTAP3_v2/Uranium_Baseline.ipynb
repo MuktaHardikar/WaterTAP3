{
 "cells": [
  {
   "cell_type": "code",
   "execution_count": 1,
   "metadata": {},
   "outputs": [
    {
     "name": "stdout",
     "output_type": "stream",
     "text": [
      "uranium\n",
      "------- Adding Unit Processes -------\n",
      "well_field\n",
      "ro_first_pass\n",
      "ro_second_pass\n",
      "treated_storage\n",
      "21600.0\n",
      "mining\n",
      "deep_well_injection\n",
      "-------------------------------------\n",
      "adding source\n",
      "----- Connecting Unit Processes -----\n",
      "uranium_ro_influent ToUnitName --> well_field\n",
      "well_field ToUnitName --> ro_first_pass\n",
      "ro_first_pass ToUnitName --> ro_second_pass\n",
      "ro_second_pass ToUnitName --> deep_well_injection\n",
      "treated_storage ToUnitName --> mining\n",
      "ro_first_pass ToUnitName --> mixer1\n",
      "ro_second_pass ToUnitName --> mixer1\n",
      "mixer1 ToUnitName --> treated_storage\n",
      "-------------------------------------\n"
     ]
    }
   ],
   "source": [
    "import watertap as wt\n",
    "import pandas as pd\n",
    "from pyomo.environ import value, Block\n",
    "from idaes.core import FlowsheetBlock\n",
    "import numpy as np\n",
    "from case_study_trains import *\n",
    "import case_study_trains\n",
    "import pyomo.environ as env\n",
    "from pyomo.environ import Constraint\n",
    "m = wt.watertap_setup(dynamic = False)\n",
    "\n",
    "\n",
    "wt.case_study_trains.train = {\"case_study\": \"uranium\",\n",
    "                             \"reference\": \"nawi\",\n",
    "                             \"scenario\": \"baseline\"}\n",
    "\n",
    "\n",
    "wt.case_study_trains.source_water = {\"case_study\": \"uranium\", \n",
    "                             \"reference\": \"nawi\",\n",
    "                             \"scenario\": \"baseline\",\n",
    "                             \"water_type\": \"uranium_ro_influent\"}\n",
    "\n",
    "m = wt.case_study_trains.get_case_study(m=m) # flow is set as case study flow unless defined.\n",
    "\n"
   ]
  },
  {
   "cell_type": "code",
   "execution_count": 2,
   "metadata": {},
   "outputs": [
    {
     "data": {
      "text/html": [
       "\n",
       "        <iframe\n",
       "            width=\"100%\"\n",
       "            height=\"500px\"\n",
       "            src=\"tmp/example.html\"\n",
       "            frameborder=\"0\"\n",
       "            allowfullscreen\n",
       "        ></iframe>\n",
       "        "
      ],
      "text/plain": [
       "<IPython.lib.display.IFrame at 0x7ff79aa81c70>"
      ]
     },
     "execution_count": 2,
     "metadata": {},
     "output_type": "execute_result"
    }
   ],
   "source": [
    "wt.display.show_train2(model_name=m)"
   ]
  },
  {
   "cell_type": "code",
   "execution_count": 3,
   "metadata": {},
   "outputs": [
    {
     "name": "stdout",
     "output_type": "stream",
     "text": [
      "initial inflow to train is relatively small (< 1 m3/s). running model with dummy flows to initialize.\n",
      "degrees_of_freedom: 0\n",
      "WaterTAP3 solution optimal\n",
      "model finished running to initialize conditions. now running with actual inflows.\n",
      "degrees_of_freedom: 0\n",
      "WaterTAP3 solution optimal\n",
      "optimal ro area and pressures:\n",
      "degrees_of_freedom: 0\n",
      "WaterTAP3 solution optimal\n",
      "fs.well_field\n",
      "total_cap_investment: 0.16628966659706035\n",
      "----------------------------------------------------------------------\n",
      "fs.ro_first_pass\n",
      "total_cap_investment: 3.2603360838333018\n",
      "----------------------------------------------------------------------\n",
      "fs.ro_second_pass\n",
      "total_cap_investment: 0.026405437163256346\n",
      "----------------------------------------------------------------------\n",
      "fs.treated_storage\n",
      "total_cap_investment: 0.20996945948582046\n",
      "----------------------------------------------------------------------\n",
      "fs.mining\n",
      "total_cap_investment: 0.0289332028277115\n",
      "----------------------------------------------------------------------\n",
      "fs.deep_well_injection\n",
      "total_cap_investment: 9.038987862143456\n",
      "----------------------------------------------------------------------\n",
      "----------------------------------------------------------------------\n",
      "------------------- System Level Metrics and Costs -------------------\n",
      "Total Capital Investment ($MM) 12.730921712050607\n",
      "Annual Fixed Operating Cost ($MM/yr) 0.16962146465765174\n",
      "Annual Catalysts and Chemicals Cost ($MM/yr) 0.0\n",
      "Annual Electricity Costs ($MM/yr) 0.034423513277537655\n",
      "Annual Other Variable Costs ($MM/yr) 0.0\n",
      "Annual Operating Costs ($MM/yr) 0.2040449779351894\n",
      "Treated water (m3/s) ---> 0.0068589208332379805\n",
      "Total water recovery (%) ---> 54.35804839465952\n",
      "Electricity intensity (kwh/m3) --->  2.364709146407406\n",
      "LCOW ($/m3) --->  4.772056104928531\n",
      "Electricity portion of LCOW (%) ---> 3.33493408404933\n",
      "----------------------------------------------------------------------\n"
     ]
    }
   ],
   "source": [
    "# # RUN MODEL with optimal ro --> estimating area and pressure for optimal LCOW\n",
    "# so that the model solves and gets you results. Then runs again with set pressure.\n",
    "for key in m.fs.pfd_dict.keys():\n",
    "    if m.fs.pfd_dict[key][\"Unit\"] == \"reverse_osmosis\":\n",
    "        getattr(m.fs, key).feed.pressure.unfix()\n",
    "        getattr(m.fs, key).membrane_area.unfix()\n",
    "        print(\"unfixing feed presure and area for\", key)\n",
    "        \n",
    "wt.run_water_tap(m = m, objective=True, skip_small=False)\n",
    "\n",
    "# prints RO results\n",
    "print(\"optimal ro area and pressures:\")\n",
    "for key in m.fs.pfd_dict.keys():\n",
    "    if m.fs.pfd_dict[key][\"Unit\"] == \"reverse_osmosis\":\n",
    "        print(key, \"feed pressure\", getattr(m.fs, key).feed.pressure[0]())\n",
    "        print(key, \"membrane area\", getattr(m.fs, key).membrane_area[0]())\n",
    "\n",
    "# RESET PRESSURE TO USER INPUT\n",
    "for key in m.fs.pfd_dict.keys():\n",
    "    if m.fs.pfd_dict[key][\"Unit\"] == \"reverse_osmosis\":\n",
    "        if \"feed_pressure\" in m.fs.pfd_dict[key][\"Parameter\"]:\n",
    "            if m.fs.pfd_dict[key][\"Parameter\"][\"type\"] == \"pass\":\n",
    "                getattr(m.fs, key).feed.pressure.fix(m.fs.pfd_dict[key][\"Parameter\"][\"feed_pressure\"])\n",
    "                print(\"setting feed presure for\", key, \"to -->\", m.fs.pfd_dict[key][\"Parameter\"][\"feed_pressure\"])\n",
    "\n",
    "wt.run_water_tap(m = m, objective=True, print_model_results=\"summary\", skip_small = True)\n",
    "\n",
    "for key in m.fs.pfd_dict.keys():\n",
    "    if m.fs.pfd_dict[key][\"Unit\"] == \"reverse_osmosis\":\n",
    "        print(key, \"feed pressure\", getattr(m.fs, key).feed.pressure[0]())\n",
    "        print(key, \"membrane area\", getattr(m.fs, key).membrane_area[0]())"
   ]
  },
  {
   "cell_type": "code",
   "execution_count": 4,
   "metadata": {},
   "outputs": [],
   "source": [
    "# If you need the system recovery to match better.... set a maximum recovery rate.\n",
    "\n",
    "#m.recovery_bound = Constraint(expr = m.fs.costing.system_recovery <= 0.55) # THIS IS FOR TAMPA BAY\n",
    "m.recovery_bound = Constraint(expr = m.fs.costing.system_recovery <= 0.50) # THIS IS FOR SANTA BARBARA"
   ]
  },
  {
   "cell_type": "code",
   "execution_count": 5,
   "metadata": {},
   "outputs": [],
   "source": [
    "# set cap utilization factor\n",
    "m.fs.costing_param.plant_cap_utilization = 1"
   ]
  },
  {
   "cell_type": "code",
   "execution_count": 6,
   "metadata": {},
   "outputs": [
    {
     "name": "stdout",
     "output_type": "stream",
     "text": [
      "degrees_of_freedom: 0\n",
      "WaterTAP3 solver returned an infeasible solution\n",
      "Running again with updated initial conditions --- attempt 1\n",
      "WaterTAP3 solver returned an infeasible solution\n",
      "Running again with updated initial conditions --- attempt 2\n",
      "WaterTAP3 solver returned an infeasible solution\n",
      "Running again with updated initial conditions --- attempt 3\n",
      "WaterTAP3 solution infeasible\n",
      "WaterTAP3 solver returned an infeasible FINAL solution. Check option to run model with updated initial conditions\n",
      "fs.well_field\n",
      "total_cap_investment: 0.16628966551825666\n",
      "----------------------------------------------------------------------\n",
      "fs.ro_first_pass\n",
      "total_cap_investment: 3.0689617261930415\n",
      "----------------------------------------------------------------------\n",
      "fs.ro_second_pass\n",
      "total_cap_investment: 0.025837703192610417\n",
      "----------------------------------------------------------------------\n",
      "fs.treated_storage\n",
      "total_cap_investment: 0.19769331407456625\n",
      "----------------------------------------------------------------------\n",
      "fs.mining\n",
      "total_cap_investment: 0.026913918457711166\n",
      "----------------------------------------------------------------------\n",
      "fs.deep_well_injection\n",
      "total_cap_investment: 9.039352666579525\n",
      "----------------------------------------------------------------------\n",
      "----------------------------------------------------------------------\n",
      "------------------- System Level Metrics and Costs -------------------\n",
      "Total Capital Investment ($MM) 12.52504899401571\n",
      "Annual Fixed Operating Cost ($MM/yr) 0.1668822405900792\n",
      "Annual Catalysts and Chemicals Cost ($MM/yr) 0.0\n",
      "Annual Electricity Costs ($MM/yr) 0.03330910696709359\n",
      "Annual Other Variable Costs ($MM/yr) 0.0\n",
      "Annual Operating Costs ($MM/yr) 0.20019134755717277\n",
      "Treated water (m3/s) ---> 0.006309020597145441\n",
      "Total water recovery (%) ---> 50.000000769893205\n",
      "Electricity intensity (kwh/m3) --->  2.4875932677128927\n",
      "LCOW ($/m3) --->  5.101313139742998\n",
      "Electricity portion of LCOW (%) ---> 3.2818025933909234\n",
      "----------------------------------------------------------------------\n"
     ]
    }
   ],
   "source": [
    "wt.run_water_tap(m = m, objective=True, print_model_results=\"summary\", skip_small = True)\n",
    "for key in m.fs.pfd_dict.keys():\n",
    "    if m.fs.pfd_dict[key][\"Unit\"] == \"reverse_osmosis\":\n",
    "        print(key, \"feed pressure\", getattr(m.fs, key).feed.pressure[0]())\n",
    "        print(key, \"membrane area\", getattr(m.fs, key).membrane_area[0]())"
   ]
  },
  {
   "cell_type": "code",
   "execution_count": 7,
   "metadata": {},
   "outputs": [],
   "source": [
    "# RESET AREA TO USER INPUT\n",
    "for key in m.fs.pfd_dict.keys():\n",
    "    if m.fs.pfd_dict[key][\"Unit\"] == \"reverse_osmosis\":\n",
    "        getattr(m.fs, key).membrane_area.fix(getattr(m.fs, key).membrane_area[0]())"
   ]
  },
  {
   "cell_type": "code",
   "execution_count": 8,
   "metadata": {},
   "outputs": [],
   "source": [
    "# Readjust recovery constraint and deactivate objective constraint\n",
    "m.recovery_bound = Constraint(expr = m.fs.costing.system_recovery >= 0)\n",
    "m.fs.objective_function.deactivate()"
   ]
  },
  {
   "cell_type": "code",
   "execution_count": 9,
   "metadata": {},
   "outputs": [
    {
     "name": "stdout",
     "output_type": "stream",
     "text": [
      "degrees_of_freedom: 0\n",
      "WaterTAP3 solution optimal\n",
      "fs.well_field\n",
      "total_cap_investment: 0.16628966659706035\n",
      "----------------------------------------------------------------------\n",
      "fs.ro_first_pass\n",
      "total_cap_investment: 3.2603360838333018\n",
      "----------------------------------------------------------------------\n",
      "fs.ro_second_pass\n",
      "total_cap_investment: 0.026405437194112563\n",
      "----------------------------------------------------------------------\n",
      "fs.treated_storage\n",
      "total_cap_investment: 0.20996945948753612\n",
      "----------------------------------------------------------------------\n",
      "fs.mining\n",
      "total_cap_investment: 0.0289332028279954\n",
      "----------------------------------------------------------------------\n",
      "fs.deep_well_injection\n",
      "total_cap_investment: 9.03898786212338\n",
      "----------------------------------------------------------------------\n",
      "----------------------------------------------------------------------\n",
      "------------------- System Level Metrics and Costs -------------------\n",
      "Total Capital Investment ($MM) 12.730921712063386\n",
      "Annual Fixed Operating Cost ($MM/yr) 0.16962146465782127\n",
      "Annual Catalysts and Chemicals Cost ($MM/yr) 0.0\n",
      "Annual Electricity Costs ($MM/yr) 0.03442350877234767\n",
      "Annual Other Variable Costs ($MM/yr) 0.0\n",
      "Annual Operating Costs ($MM/yr) 0.20404497343016895\n",
      "Treated water (m3/s) ---> 0.006858920833315722\n",
      "Total water recovery (%) ---> 54.358048395275624\n",
      "Electricity intensity (kwh/m3) --->  2.3647088368984224\n",
      "LCOW ($/m3) --->  4.772056084050918\n",
      "Electricity portion of LCOW (%) ---> 3.334933662141045\n",
      "----------------------------------------------------------------------\n"
     ]
    }
   ],
   "source": [
    "# NOW RUN AS SIMULATION\n",
    "wt.run_water_tap(m = m, objective=False, print_model_results=\"summary\", skip_small = True)"
   ]
  },
  {
   "cell_type": "code",
   "execution_count": 10,
   "metadata": {},
   "outputs": [],
   "source": [
    "# creates csv in results folder with the name: *case_study*_*scenario*.csv\n",
    "# In this case, save the final baseline result.\n",
    "\n",
    "df = wt.get_results_table(m = m, case_study = wt.case_study_trains.source_water[\"case_study\"], \n",
    "                                scenario = wt.case_study_trains.source_water[\"scenario\"])"
   ]
  },
  {
   "cell_type": "code",
   "execution_count": null,
   "metadata": {},
   "outputs": [],
   "source": []
  },
  {
   "cell_type": "code",
   "execution_count": null,
   "metadata": {},
   "outputs": [],
   "source": []
  }
 ],
 "metadata": {
  "kernelspec": {
   "display_name": "Python 3",
   "language": "python",
   "name": "python3"
  },
  "language_info": {
   "codemirror_mode": {
    "name": "ipython",
    "version": 3
   },
   "file_extension": ".py",
   "mimetype": "text/x-python",
   "name": "python",
   "nbconvert_exporter": "python",
   "pygments_lexer": "ipython3",
   "version": "3.8.5"
  }
 },
 "nbformat": 4,
 "nbformat_minor": 4
}
