{
 "cells": [
  {
   "cell_type": "code",
   "execution_count": 47,
   "metadata": {},
   "outputs": [],
   "source": [
    "import pandas as pd\n",
    "import numpy as np"
   ]
  },
  {
   "cell_type": "code",
   "execution_count": 51,
   "metadata": {},
   "outputs": [],
   "source": [
    "# combine baseline results and clean\n",
    "seawater = pd.DataFrame()\n",
    "santa_barbara = pd.read_csv(\"results/case_studies/santa_barbara_baseline.csv\", index_col=False)\n",
    "tampa_bay = pd.read_csv(\"results/case_studies/tampa_bay_baseline.csv\", index_col=False)\n",
    "seawater = pd.concat([tampa_bay, santa_barbara])"
   ]
  },
  {
   "cell_type": "code",
   "execution_count": 52,
   "metadata": {
    "scrolled": true
   },
   "outputs": [],
   "source": [
    "# delete unwanted variables\n",
    "d_vars = ['Land', 'Working Capital', 'Fixed Capital Investment (FCI)', \n",
    "         'Employee Salaries', 'Benefits', 'Maintenance', 'Laboratory', 'Insurance and Taxes', \n",
    "         'Base Employee Salary', 'System Total Operating', 'System Fixed Operating',\n",
    "         'System Other Variable Operating', 'System Total Operating']\n",
    "\n",
    "for d_var in d_vars:\n",
    "    seawater = seawater[seawater.Variable != d_var]\n",
    "    \n",
    "seawater = seawater.drop_duplicates()"
   ]
  },
  {
   "cell_type": "code",
   "execution_count": 53,
   "metadata": {},
   "outputs": [],
   "source": [
    "seawater.Variable = np.where(seawater.Variable == 'Other Operating', \"Other Variable Operating\", seawater.Variable)\n",
    "seawater.Variable = np.where(seawater.Variable == 'Total Fixed Operating ', 'Fixed Operating', seawater.Variable)"
   ]
  },
  {
   "cell_type": "code",
   "execution_count": null,
   "metadata": {},
   "outputs": [],
   "source": []
  },
  {
   "cell_type": "code",
   "execution_count": 54,
   "metadata": {},
   "outputs": [],
   "source": [
    "seawater.to_csv(\"results/case_studies/seawater_baseline.csv\")"
   ]
  },
  {
   "cell_type": "code",
   "execution_count": 55,
   "metadata": {},
   "outputs": [],
   "source": [
    "# combine baseline results and clean\n",
    "seawater1 = pd.DataFrame()\n",
    "santa_barbara = pd.read_csv(\"results/case_studies/santa_barbara_baseline_sensitivity.csv\", index_col=False)\n",
    "santa_barbara[\"scenario\"] = np.array(\"Santa Barbara\")\n",
    "tampa_bay = pd.read_csv(\"results/case_studies/tampa_bay_baseline_sensitivity.csv\", index_col=False)\n",
    "tampa_bay[\"scenario\"] = np.array(\"Tampa Bay\")\n",
    "seawater1 = pd.concat([tampa_bay, santa_barbara])\n",
    "del seawater1[\"Unnamed: 0\"]"
   ]
  },
  {
   "cell_type": "code",
   "execution_count": 56,
   "metadata": {},
   "outputs": [
    {
     "data": {
      "text/html": [
       "<div>\n",
       "<style scoped>\n",
       "    .dataframe tbody tr th:only-of-type {\n",
       "        vertical-align: middle;\n",
       "    }\n",
       "\n",
       "    .dataframe tbody tr th {\n",
       "        vertical-align: top;\n",
       "    }\n",
       "\n",
       "    .dataframe thead th {\n",
       "        text-align: right;\n",
       "    }\n",
       "</style>\n",
       "<table border=\"1\" class=\"dataframe\">\n",
       "  <thead>\n",
       "    <tr style=\"text-align: right;\">\n",
       "      <th></th>\n",
       "      <th>lcow</th>\n",
       "      <th>water_recovery</th>\n",
       "      <th>elec_lcow</th>\n",
       "      <th>scenario_value</th>\n",
       "      <th>scenario_name</th>\n",
       "      <th>lcow_difference</th>\n",
       "      <th>water_recovery_difference</th>\n",
       "      <th>elec_lcow_difference</th>\n",
       "      <th>scenario</th>\n",
       "    </tr>\n",
       "  </thead>\n",
       "  <tbody>\n",
       "    <tr>\n",
       "      <th>0</th>\n",
       "      <td>1.218543</td>\n",
       "      <td>55.000001</td>\n",
       "      <td>32.457991</td>\n",
       "      <td>NaN</td>\n",
       "      <td>baseline</td>\n",
       "      <td>3.331113e-12</td>\n",
       "      <td>-1.198153e-12</td>\n",
       "      <td>8.071321e-14</td>\n",
       "      <td>Tampa Bay</td>\n",
       "    </tr>\n",
       "    <tr>\n",
       "      <th>1</th>\n",
       "      <td>1.305582</td>\n",
       "      <td>55.000001</td>\n",
       "      <td>32.457991</td>\n",
       "      <td>0.700</td>\n",
       "      <td>plant_cap_utilization</td>\n",
       "      <td>8.703882e-02</td>\n",
       "      <td>0.000000e+00</td>\n",
       "      <td>0.000000e+00</td>\n",
       "      <td>Tampa Bay</td>\n",
       "    </tr>\n",
       "    <tr>\n",
       "      <th>2</th>\n",
       "      <td>1.278192</td>\n",
       "      <td>55.000001</td>\n",
       "      <td>32.457991</td>\n",
       "      <td>0.715</td>\n",
       "      <td>plant_cap_utilization</td>\n",
       "      <td>5.964898e-02</td>\n",
       "      <td>0.000000e+00</td>\n",
       "      <td>5.551115e-17</td>\n",
       "      <td>Tampa Bay</td>\n",
       "    </tr>\n",
       "    <tr>\n",
       "      <th>3</th>\n",
       "      <td>1.251928</td>\n",
       "      <td>55.000001</td>\n",
       "      <td>32.457991</td>\n",
       "      <td>0.730</td>\n",
       "      <td>plant_cap_utilization</td>\n",
       "      <td>3.338475e-02</td>\n",
       "      <td>1.110223e-16</td>\n",
       "      <td>5.551115e-17</td>\n",
       "      <td>Tampa Bay</td>\n",
       "    </tr>\n",
       "    <tr>\n",
       "      <th>4</th>\n",
       "      <td>1.226722</td>\n",
       "      <td>55.000001</td>\n",
       "      <td>32.457991</td>\n",
       "      <td>0.745</td>\n",
       "      <td>plant_cap_utilization</td>\n",
       "      <td>8.178144e-03</td>\n",
       "      <td>0.000000e+00</td>\n",
       "      <td>5.551115e-17</td>\n",
       "      <td>Tampa Bay</td>\n",
       "    </tr>\n",
       "  </tbody>\n",
       "</table>\n",
       "</div>"
      ],
      "text/plain": [
       "       lcow  water_recovery  elec_lcow  scenario_value          scenario_name  \\\n",
       "0  1.218543       55.000001  32.457991             NaN               baseline   \n",
       "1  1.305582       55.000001  32.457991           0.700  plant_cap_utilization   \n",
       "2  1.278192       55.000001  32.457991           0.715  plant_cap_utilization   \n",
       "3  1.251928       55.000001  32.457991           0.730  plant_cap_utilization   \n",
       "4  1.226722       55.000001  32.457991           0.745  plant_cap_utilization   \n",
       "\n",
       "   lcow_difference  water_recovery_difference  elec_lcow_difference   scenario  \n",
       "0     3.331113e-12              -1.198153e-12          8.071321e-14  Tampa Bay  \n",
       "1     8.703882e-02               0.000000e+00          0.000000e+00  Tampa Bay  \n",
       "2     5.964898e-02               0.000000e+00          5.551115e-17  Tampa Bay  \n",
       "3     3.338475e-02               1.110223e-16          5.551115e-17  Tampa Bay  \n",
       "4     8.178144e-03               0.000000e+00          5.551115e-17  Tampa Bay  "
      ]
     },
     "execution_count": 56,
     "metadata": {},
     "output_type": "execute_result"
    }
   ],
   "source": [
    "seawater1.head()"
   ]
  },
  {
   "cell_type": "code",
   "execution_count": 57,
   "metadata": {},
   "outputs": [],
   "source": [
    "seawater1.to_csv(\"results/case_studies/seawater_baseline_sensitivity.csv\")"
   ]
  },
  {
   "cell_type": "code",
   "execution_count": null,
   "metadata": {},
   "outputs": [],
   "source": []
  },
  {
   "cell_type": "code",
   "execution_count": 29,
   "metadata": {},
   "outputs": [
    {
     "data": {
      "text/html": [
       "<div>\n",
       "<style scoped>\n",
       "    .dataframe tbody tr th:only-of-type {\n",
       "        vertical-align: middle;\n",
       "    }\n",
       "\n",
       "    .dataframe tbody tr th {\n",
       "        vertical-align: top;\n",
       "    }\n",
       "\n",
       "    .dataframe thead th {\n",
       "        text-align: right;\n",
       "    }\n",
       "</style>\n",
       "<table border=\"1\" class=\"dataframe\">\n",
       "  <thead>\n",
       "    <tr style=\"text-align: right;\">\n",
       "      <th></th>\n",
       "      <th>Unnamed: 0</th>\n",
       "      <th>lcow</th>\n",
       "      <th>water_recovery</th>\n",
       "      <th>elec_lcow</th>\n",
       "      <th>scenario_value</th>\n",
       "      <th>scenario_name</th>\n",
       "      <th>lcow_difference</th>\n",
       "      <th>water_recovery_difference</th>\n",
       "      <th>elec_lcow_difference</th>\n",
       "      <th>scenario</th>\n",
       "    </tr>\n",
       "  </thead>\n",
       "  <tbody>\n",
       "    <tr>\n",
       "      <th>43</th>\n",
       "      <td>43</td>\n",
       "      <td>1.350980</td>\n",
       "      <td>41.332564</td>\n",
       "      <td>36.332269</td>\n",
       "      <td>0.216440</td>\n",
       "      <td>inlet flow</td>\n",
       "      <td>-0.063338</td>\n",
       "      <td>-0.086674</td>\n",
       "      <td>-0.000605</td>\n",
       "      <td>Santa Barbara</td>\n",
       "    </tr>\n",
       "    <tr>\n",
       "      <th>44</th>\n",
       "      <td>44</td>\n",
       "      <td>1.354074</td>\n",
       "      <td>42.420544</td>\n",
       "      <td>36.406178</td>\n",
       "      <td>0.225716</td>\n",
       "      <td>inlet flow</td>\n",
       "      <td>-0.060244</td>\n",
       "      <td>-0.075795</td>\n",
       "      <td>0.000134</td>\n",
       "      <td>Santa Barbara</td>\n",
       "    </tr>\n",
       "    <tr>\n",
       "      <th>45</th>\n",
       "      <td>45</td>\n",
       "      <td>1.358065</td>\n",
       "      <td>43.453992</td>\n",
       "      <td>36.460427</td>\n",
       "      <td>0.234992</td>\n",
       "      <td>inlet flow</td>\n",
       "      <td>-0.056253</td>\n",
       "      <td>-0.065460</td>\n",
       "      <td>0.000677</td>\n",
       "      <td>Santa Barbara</td>\n",
       "    </tr>\n",
       "    <tr>\n",
       "      <th>46</th>\n",
       "      <td>46</td>\n",
       "      <td>1.362874</td>\n",
       "      <td>44.434747</td>\n",
       "      <td>36.497009</td>\n",
       "      <td>0.244268</td>\n",
       "      <td>inlet flow</td>\n",
       "      <td>-0.051444</td>\n",
       "      <td>-0.055653</td>\n",
       "      <td>0.001043</td>\n",
       "      <td>Santa Barbara</td>\n",
       "    </tr>\n",
       "    <tr>\n",
       "      <th>47</th>\n",
       "      <td>47</td>\n",
       "      <td>1.368431</td>\n",
       "      <td>45.364789</td>\n",
       "      <td>36.517741</td>\n",
       "      <td>0.253544</td>\n",
       "      <td>inlet flow</td>\n",
       "      <td>-0.045887</td>\n",
       "      <td>-0.046352</td>\n",
       "      <td>0.001250</td>\n",
       "      <td>Santa Barbara</td>\n",
       "    </tr>\n",
       "  </tbody>\n",
       "</table>\n",
       "</div>"
      ],
      "text/plain": [
       "    Unnamed: 0      lcow  water_recovery  elec_lcow  scenario_value  \\\n",
       "43          43  1.350980       41.332564  36.332269        0.216440   \n",
       "44          44  1.354074       42.420544  36.406178        0.225716   \n",
       "45          45  1.358065       43.453992  36.460427        0.234992   \n",
       "46          46  1.362874       44.434747  36.497009        0.244268   \n",
       "47          47  1.368431       45.364789  36.517741        0.253544   \n",
       "\n",
       "   scenario_name  lcow_difference  water_recovery_difference  \\\n",
       "43    inlet flow        -0.063338                  -0.086674   \n",
       "44    inlet flow        -0.060244                  -0.075795   \n",
       "45    inlet flow        -0.056253                  -0.065460   \n",
       "46    inlet flow        -0.051444                  -0.055653   \n",
       "47    inlet flow        -0.045887                  -0.046352   \n",
       "\n",
       "    elec_lcow_difference       scenario  \n",
       "43             -0.000605  Santa Barbara  \n",
       "44              0.000134  Santa Barbara  \n",
       "45              0.000677  Santa Barbara  \n",
       "46              0.001043  Santa Barbara  \n",
       "47              0.001250  Santa Barbara  "
      ]
     },
     "execution_count": 29,
     "metadata": {},
     "output_type": "execute_result"
    }
   ],
   "source": [
    "santa_barbara[santa_barbara.scenario_name == \"inlet flow\"].head()"
   ]
  },
  {
   "cell_type": "code",
   "execution_count": 30,
   "metadata": {},
   "outputs": [
    {
     "data": {
      "text/plain": [
       "array(['baseline', 'plant_cap_utilization', 'inlet salinty 25k-45k mg/L',\n",
       "       'inlet flow', 'lifetime (yrs)', 'electricity price +- 20%',\n",
       "       'reverse_osmosis_membrane_area', 'reverse_osmosis_pressure',\n",
       "       'reverse_osmosis_factor_membrane_replacement'], dtype=object)"
      ]
     },
     "execution_count": 30,
     "metadata": {},
     "output_type": "execute_result"
    }
   ],
   "source": [
    "santa_barbara.scenario_name.unique()"
   ]
  },
  {
   "cell_type": "code",
   "execution_count": null,
   "metadata": {},
   "outputs": [],
   "source": []
  },
  {
   "cell_type": "code",
   "execution_count": null,
   "metadata": {},
   "outputs": [],
   "source": []
  },
  {
   "cell_type": "code",
   "execution_count": null,
   "metadata": {},
   "outputs": [],
   "source": []
  },
  {
   "cell_type": "code",
   "execution_count": null,
   "metadata": {},
   "outputs": [],
   "source": []
  },
  {
   "cell_type": "code",
   "execution_count": null,
   "metadata": {},
   "outputs": [],
   "source": []
  },
  {
   "cell_type": "code",
   "execution_count": null,
   "metadata": {},
   "outputs": [],
   "source": []
  },
  {
   "cell_type": "code",
   "execution_count": null,
   "metadata": {},
   "outputs": [],
   "source": []
  }
 ],
 "metadata": {
  "kernelspec": {
   "display_name": "Python 3",
   "language": "python",
   "name": "python3"
  },
  "language_info": {
   "codemirror_mode": {
    "name": "ipython",
    "version": 3
   },
   "file_extension": ".py",
   "mimetype": "text/x-python",
   "name": "python",
   "nbconvert_exporter": "python",
   "pygments_lexer": "ipython3",
   "version": "3.7.4"
  }
 },
 "nbformat": 4,
 "nbformat_minor": 4
}
