{
 "cells": [
  {
   "cell_type": "code",
   "execution_count": 1,
   "metadata": {},
   "outputs": [
    {
     "name": "stdout",
     "output_type": "stream",
     "text": [
      "pulp_and_paper\n",
      "\n",
      "------- Adding Unit Processes -------\n",
      "raw_water_pump1\n",
      "sedimentation\n",
      "aeration_basin1\n",
      "aeration_basin2\n",
      "discharge\n",
      "sludge_tank\n",
      "-------------------------------------\n",
      "\n",
      "adding source\n",
      "adding source\n",
      "\n",
      "Connecting unit processes...\n"
     ]
    }
   ],
   "source": [
    "import watertap as wt\n",
    "import pandas as pd\n",
    "from pyomo.environ import value, Block\n",
    "from idaes.core import FlowsheetBlock\n",
    "import numpy as np\n",
    "from case_study_trains import *\n",
    "import case_study_trains\n",
    "import pyomo.environ as env\n",
    "from pyomo.environ import Constraint\n",
    "m = wt.watertap_setup(dynamic=False)\n",
    "\n",
    "\n",
    "wt.case_study_trains.train = {\"case_study\": \"pulp_and_paper\",\n",
    "                             \"reference\": \"nawi\",\n",
    "                             \"scenario\": \"baseline\"}\n",
    "\n",
    "\n",
    "wt.case_study_trains.source_water = {\"case_study\": \"pulp_and_paper\", \n",
    "                             \"reference\": \"nawi\",\n",
    "                             \"scenario\": \"baseline\",\n",
    "                             \"water_type\": [\"main_sewer\", \"corrosive_sewer\"]}\n",
    "\n",
    "m = wt.case_study_trains.get_case_study(m=m) \n",
    "\n"
   ]
  },
  {
   "cell_type": "code",
   "execution_count": 2,
   "metadata": {},
   "outputs": [
    {
     "data": {
      "text/html": [
       "\n",
       "        <iframe\n",
       "            width=\"100%\"\n",
       "            height=\"500px\"\n",
       "            src=\"tmp/example.html\"\n",
       "            frameborder=\"0\"\n",
       "            allowfullscreen\n",
       "        ></iframe>\n",
       "        "
      ],
      "text/plain": [
       "<IPython.lib.display.IFrame at 0x7fae7e7c69d0>"
      ]
     },
     "execution_count": 2,
     "metadata": {},
     "output_type": "execute_result"
    }
   ],
   "source": [
    "wt.display.show_train2(model_name=m)"
   ]
  },
  {
   "cell_type": "code",
   "execution_count": 3,
   "metadata": {},
   "outputs": [
    {
     "name": "stdout",
     "output_type": "stream",
     "text": [
      "Flow is relatively small (< 1 m3/s). Running model with larger dummy flows to initialize...\n",
      "\n",
      "----------------------------------------------------------------------\n",
      "\n",
      "Degrees of Freedom: 0\n",
      "\n",
      "WaterTAP3 solution optimal \n",
      "\n",
      "----------------------------------------------------------------------\n",
      "Model finished running to initialize conditions. Now running with actual flow...\n",
      "\n",
      "----------------------------------------------------------------------\n",
      "\n",
      "Degrees of Freedom: 0\n",
      "\n",
      "WaterTAP3 solution optimal \n",
      "\n",
      "----------------------------------------------------------------------\n",
      "\n",
      "***UNIT PROCESS RESULTS (in $MM)***\n",
      "\n",
      "\n",
      "RAW WATER PUMP1:\n",
      "\n",
      "\ttotal cap investment: 1.07043\n",
      "\tcat and chem cost: 0.0\n",
      "\telectricity cost: 0.02956\n",
      "\ttotal fixed op cost: 0.0142\n",
      "\n",
      "SEDIMENTATION:\n",
      "\n",
      "\ttotal cap investment: 0.60894\n",
      "\tcat and chem cost: 0.0\n",
      "\telectricity cost: 0.0\n",
      "\ttotal fixed op cost: 0.00811\n",
      "\n",
      "AERATION BASIN1:\n",
      "\n",
      "\ttotal cap investment: 5.37153\n",
      "\tcat and chem cost: 0.0\n",
      "\telectricity cost: 0.62919\n",
      "\ttotal fixed op cost: 0.07153\n",
      "\n",
      "AERATION BASIN2:\n",
      "\n",
      "\ttotal cap investment: 5.37122\n",
      "\tcat and chem cost: 0.0\n",
      "\telectricity cost: 0.14069\n",
      "\ttotal fixed op cost: 0.07152\n",
      "\n",
      "DISCHARGE:\n",
      "\n",
      "\ttotal cap investment: 2.17419\n",
      "\tcat and chem cost: 0.0\n",
      "\telectricity cost: 0.07782\n",
      "\ttotal fixed op cost: 0.02884\n",
      "\n",
      "SLUDGE TANK:\n",
      "\n",
      "\ttotal cap investment: 0.02181\n",
      "\tcat and chem cost: 0.0\n",
      "\telectricity cost: 0.0\n",
      "\ttotal fixed op cost: 0.00029\n",
      "\n",
      "----------------------------------------------------------------------\n",
      "\n",
      "\n",
      "----------------------------------------------------------------------\n",
      "------------------- System Level Metrics and Costs -------------------\n",
      "Total Capital Investment ($MM) 14.618\n",
      "Annual Fixed Operating Cost ($MM/yr) 0.194\n",
      "Annual Catalysts and Chemicals Cost ($MM/yr) 0.0\n",
      "Annual Electricity Costs ($MM/yr) 0.877\n",
      "Annual Other Variable Costs ($MM/yr) 0.0\n",
      "Annual Operating Costs ($MM/yr) 1.072\n",
      "Treated water (m3/s) ---> 1.007\n",
      "Total water recovery (%) ---> 99.964\n",
      "Electricity intensity (kwh/m3) --->  0.575\n",
      "LCOW ($/m3) --->  0.064\n",
      "Electricity portion of LCOW (%) ---> 43.371\n",
      "----------------------------------------------------------------------\n"
     ]
    }
   ],
   "source": [
    "\n",
    "wt.run_water_tap(m=m, objective=False, skip_small=False, print_model_results='summary')\n"
   ]
  },
  {
   "cell_type": "code",
   "execution_count": 4,
   "metadata": {},
   "outputs": [],
   "source": [
    "# creates csv in results folder with the name: *case_study*_*scenario*.csv\n",
    "# In this case, save the final baseline result.\n",
    "\n",
    "df = wt.get_results_table(m=m, case_study=wt.case_study_trains.source_water[\"case_study\"], \n",
    "                                scenario=wt.case_study_trains.source_water[\"scenario\"])"
   ]
  },
  {
   "cell_type": "code",
   "execution_count": null,
   "metadata": {},
   "outputs": [],
   "source": []
  }
 ],
 "metadata": {
  "kernelspec": {
   "display_name": "Python 3",
   "language": "python",
   "name": "python3"
  },
  "language_info": {
   "codemirror_mode": {
    "name": "ipython",
    "version": 3
   },
   "file_extension": ".py",
   "mimetype": "text/x-python",
   "name": "python",
   "nbconvert_exporter": "python",
   "pygments_lexer": "ipython3",
   "version": "3.7.4"
  }
 },
 "nbformat": 4,
 "nbformat_minor": 4
}
