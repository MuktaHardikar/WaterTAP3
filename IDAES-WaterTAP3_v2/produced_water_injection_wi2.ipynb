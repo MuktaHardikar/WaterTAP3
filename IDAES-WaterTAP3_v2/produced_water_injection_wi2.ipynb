{
 "cells": [
  {
   "cell_type": "code",
   "execution_count": 1,
   "metadata": {},
   "outputs": [
    {
     "name": "stdout",
     "output_type": "stream",
     "text": [
      "produced_water_injection\n",
      "\n",
      "------- Adding Unit Processes -------\n",
      "passthrough\n",
      "sedimentation\n",
      "injection_well_disposal\n",
      "-------------------------------------\n",
      "\n",
      "adding source\n",
      "\n",
      "Connecting unit processes...\n"
     ]
    }
   ],
   "source": [
    "import watertap as wt\n",
    "import pandas as pd\n",
    "from pyomo.environ import value, Block\n",
    "from idaes.core import FlowsheetBlock\n",
    "import numpy as np\n",
    "from case_study_trains import *\n",
    "import case_study_trains\n",
    "import pyomo.environ as env\n",
    "from pyomo.environ import Constraint\n",
    "m = wt.watertap_setup(dynamic=False)\n",
    "\n",
    "\n",
    "wt.case_study_trains.train = {\"case_study\": \"produced_water_injection\",\n",
    "                             \"reference\": \"nawi\",\n",
    "                             \"scenario\": \"wi2\"}\n",
    "\n",
    "\n",
    "wt.case_study_trains.source_water = {\"case_study\": \"produced_water_injection\", \n",
    "                             \"reference\": \"nawi\",\n",
    "                             \"scenario\": \"baseline\",\n",
    "                             \"water_type\": \"produced_water_for_dw\"}\n",
    "\n",
    "m = wt.case_study_trains.get_case_study(m=m) \n",
    "\n"
   ]
  },
  {
   "cell_type": "code",
   "execution_count": 2,
   "metadata": {},
   "outputs": [
    {
     "data": {
      "text/html": [
       "\n",
       "        <iframe\n",
       "            width=\"100%\"\n",
       "            height=\"500px\"\n",
       "            src=\"tmp/example.html\"\n",
       "            frameborder=\"0\"\n",
       "            allowfullscreen\n",
       "        ></iframe>\n",
       "        "
      ],
      "text/plain": [
       "<IPython.lib.display.IFrame at 0x7f9b81b5d550>"
      ]
     },
     "execution_count": 2,
     "metadata": {},
     "output_type": "execute_result"
    }
   ],
   "source": [
    "wt.display.show_train2(model_name=m)"
   ]
  },
  {
   "cell_type": "code",
   "execution_count": 3,
   "metadata": {},
   "outputs": [
    {
     "name": "stdout",
     "output_type": "stream",
     "text": [
      "Flow is relatively small (< 1 m3/s). Running model with larger dummy flows to initialize...\n",
      "\n",
      "----------------------------------------------------------------------\n",
      "\n",
      "Degrees of Freedom: 0\n",
      "\n",
      "WaterTAP3 solution optimal \n",
      "\n",
      "----------------------------------------------------------------------\n",
      "Model finished running to initialize conditions. Now running with actual flow...\n",
      "\n",
      "----------------------------------------------------------------------\n",
      "\n",
      "Degrees of Freedom: 0\n",
      "\n",
      "WaterTAP3 solution optimal \n",
      "\n",
      "----------------------------------------------------------------------\n",
      "\n",
      "***UNIT PROCESS RESULTS (in $MM)***\n",
      "\n",
      "\n",
      "PASSTHROUGH:\n",
      "\n",
      "\ttotal cap investment: 0.0\n",
      "\tcat and chem cost: 0.0\n",
      "\telectricity cost: 0.0\n",
      "\ttotal fixed op cost: 0.0\n",
      "\n",
      "SEDIMENTATION:\n",
      "\n",
      "\ttotal cap investment: 0.24916\n",
      "\tcat and chem cost: 0.0\n",
      "\telectricity cost: 0.0\n",
      "\ttotal fixed op cost: 0.00321\n",
      "\n",
      "INJECTION WELL DISPOSAL:\n",
      "\n",
      "\ttotal cap investment: 12.10547\n",
      "\tcat and chem cost: 0.0\n",
      "\telectricity cost: 0.03012\n",
      "\ttotal fixed op cost: 0.15602\n",
      "\n",
      "----------------------------------------------------------------------\n",
      "\n",
      "\n",
      "----------------------------------------------------------------------\n",
      "------------------- System Level Metrics and Costs -------------------\n",
      "Total Capital Investment ($MM) 12.355\n",
      "Annual Fixed Operating Cost ($MM/yr) 0.159\n",
      "Annual Catalysts and Chemicals Cost ($MM/yr) 0.0\n",
      "Annual Electricity Costs ($MM/yr) 0.03\n",
      "Annual Other Variable Costs ($MM/yr) 0.0\n",
      "Annual Operating Costs ($MM/yr) 0.189\n",
      "Treated water (m3/s) ---> 0.046\n",
      "Total water recovery (%) ---> 99.97\n",
      "Electricity intensity (kwh/m3) --->  0.41\n",
      "LCOW ($/m3) --->  1.127\n",
      "Electricity portion of LCOW (%) ---> 1.845\n",
      "----------------------------------------------------------------------\n"
     ]
    }
   ],
   "source": [
    "\n",
    "wt.run_water_tap(m=m, objective=False, skip_small=False, print_model_results='summary')\n"
   ]
  },
  {
   "cell_type": "code",
   "execution_count": 4,
   "metadata": {},
   "outputs": [],
   "source": [
    "# creates csv in results folder with the name: *case_study*_*scenario*.csv\n",
    "# In this case, save the final baseline result.\n",
    "\n",
    "df = wt.get_results_table(m=m, case_study=wt.case_study_trains.source_water[\"case_study\"], \n",
    "                                scenario=wt.case_study_trains.source_water[\"scenario\"])"
   ]
  },
  {
   "cell_type": "code",
   "execution_count": null,
   "metadata": {},
   "outputs": [],
   "source": []
  },
  {
   "cell_type": "code",
   "execution_count": null,
   "metadata": {},
   "outputs": [],
   "source": []
  }
 ],
 "metadata": {
  "kernelspec": {
   "display_name": "Python 3",
   "language": "python",
   "name": "python3"
  },
  "language_info": {
   "codemirror_mode": {
    "name": "ipython",
    "version": 3
   },
   "file_extension": ".py",
   "mimetype": "text/x-python",
   "name": "python",
   "nbconvert_exporter": "python",
   "pygments_lexer": "ipython3",
   "version": "3.7.4"
  }
 },
 "nbformat": 4,
 "nbformat_minor": 4
}
