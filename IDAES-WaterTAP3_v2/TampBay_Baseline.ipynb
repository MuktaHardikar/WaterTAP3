{
 "cells": [
  {
   "cell_type": "code",
   "execution_count": null,
   "metadata": {
    "scrolled": true
   },
   "outputs": [],
   "source": [
    "import watertap as wt\n",
    "import pandas as pd\n",
    "from pyomo.environ import value, Block\n",
    "from idaes.core import FlowsheetBlock\n",
    "import numpy as np\n",
    "from case_study_trains import *\n",
    "import case_study_trains\n",
    "import pyomo.environ as env\n",
    "\n",
    "m = wt.watertap_setup(dynamic = False)\n",
    "\n",
    "\n",
    "wt.case_study_trains.train = {\"case_study\": \"tampa_bay\",\n",
    "                             \"reference\": \"nawi\",\n",
    "                             \"scenario\": \"baseline\"}\n",
    "\n",
    "\n",
    "wt.case_study_trains.source_water = {\"case_study\": \"tampa_bay\", \n",
    "                             \"reference\": \"nawi\",\n",
    "                             \"scenario\": \"baseline\",\n",
    "                             \"water_type\": \"seawater\"}\n",
    "\n",
    "m = wt.case_study_trains.get_case_study(m=m) # flow is set as case study flow unless defined.\n"
   ]
  },
  {
   "cell_type": "code",
   "execution_count": null,
   "metadata": {},
   "outputs": [],
   "source": [
    "wt.display.show_train2(model_name=m)"
   ]
  },
  {
   "cell_type": "code",
   "execution_count": null,
   "metadata": {},
   "outputs": [],
   "source": [
    "# RUN MODEL with optimal ro so that the model solves. Then runs again with set pressure. "
   ]
  },
  {
   "cell_type": "code",
   "execution_count": null,
   "metadata": {
    "scrolled": true
   },
   "outputs": [],
   "source": [
    "# # RUN MODEL with optimal ro --> estimating area and pressure for optimal LCOW\n",
    "# so that the model solves and gets you results. Then runs again with set pressure.\n",
    "for key in m.fs.pfd_dict.keys():\n",
    "    if m.fs.pfd_dict[key][\"Unit\"] == \"reverse_osmosis\":\n",
    "        getattr(m.fs, key).feed.pressure.unfix()\n",
    "        getattr(m.fs, key).membrane_area.unfix()\n",
    "        print(\"unfixing feed presure and area for\", key)\n",
    "        \n",
    "wt.run_water_tap(m = m, objective=True, skip_small=True)\n",
    "\n",
    "# prints RO results\n",
    "print(\"optimal ro area and pressures:\")\n",
    "for key in m.fs.pfd_dict.keys():\n",
    "    if m.fs.pfd_dict[key][\"Unit\"] == \"reverse_osmosis\":\n",
    "        print(key, \"feed pressure\", getattr(m.fs, key).feed.pressure[0]())\n",
    "        print(key, \"membrane area\", getattr(m.fs, key).membrane_area[0]())\n",
    "\n",
    "# RESET PRESSURE TO USER INPUT\n",
    "for key in m.fs.pfd_dict.keys():\n",
    "    if m.fs.pfd_dict[key][\"Unit\"] == \"reverse_osmosis\":\n",
    "        if \"feed_pressure\" in m.fs.pfd_dict[key][\"Parameter\"]:\n",
    "            if m.fs.pfd_dict[key][\"Parameter\"][\"type\"] == \"pass\":\n",
    "                getattr(m.fs, key).feed.pressure.fix(m.fs.pfd_dict[key][\"Parameter\"][\"feed_pressure\"])\n",
    "                print(\"setting feed presure for\", key, \"to -->\", m.fs.pfd_dict[key][\"Parameter\"][\"feed_pressure\"])\n",
    "\n",
    "wt.run_water_tap(m = m, objective=True, print_model_results=\"summary\")\n",
    "\n",
    "for key in m.fs.pfd_dict.keys():\n",
    "    if m.fs.pfd_dict[key][\"Unit\"] == \"reverse_osmosis\":\n",
    "        print(key, \"feed pressure\", getattr(m.fs, key).feed.pressure[0]())\n",
    "        print(key, \"membrane area\", getattr(m.fs, key).membrane_area[0]())"
   ]
  },
  {
   "cell_type": "code",
   "execution_count": null,
   "metadata": {},
   "outputs": [],
   "source": [
    "# If you need the system recovery to match better.... set a maximum recovery rate."
   ]
  },
  {
   "cell_type": "code",
   "execution_count": null,
   "metadata": {},
   "outputs": [],
   "source": [
    "from pyomo.environ import Constraint\n",
    "m.recovery_bound = Constraint(expr = m.fs.costing.system_recovery <= 0.55) # THIS IS FOR TAMPA BAY\n",
    "#m.recovery_bound = Constraint(expr = m.fs.costing.system_recovery <= 0.50) # THIS IS FOR SANTA BARBARA"
   ]
  },
  {
   "cell_type": "code",
   "execution_count": null,
   "metadata": {},
   "outputs": [],
   "source": [
    "# set cap utilization factor\n",
    "m.fs.costing_param.plant_cap_utilization = 0.75 # 0.75 for Tampa Bay"
   ]
  },
  {
   "cell_type": "code",
   "execution_count": null,
   "metadata": {
    "scrolled": true
   },
   "outputs": [],
   "source": [
    "wt.run_water_tap(m = m, objective=True, print_model_results=\"summary\")\n",
    "for key in m.fs.pfd_dict.keys():\n",
    "    if m.fs.pfd_dict[key][\"Unit\"] == \"reverse_osmosis\":\n",
    "        print(key, \"feed pressure\", getattr(m.fs, key).feed.pressure[0]())\n",
    "        print(key, \"membrane area\", getattr(m.fs, key).membrane_area[0]())"
   ]
  },
  {
   "cell_type": "code",
   "execution_count": null,
   "metadata": {},
   "outputs": [],
   "source": [
    "# RESET AREA BASED ON RO RECOVERY\n",
    "for key in m.fs.pfd_dict.keys():\n",
    "    if m.fs.pfd_dict[key][\"Unit\"] == \"reverse_osmosis\":\n",
    "        getattr(m.fs, key).membrane_area.fix(getattr(m.fs, key).membrane_area[0]())"
   ]
  },
  {
   "cell_type": "code",
   "execution_count": null,
   "metadata": {},
   "outputs": [],
   "source": [
    "# Readjust recovery constraint and deactivate objective constraint\n",
    "m.recovery_bound = Constraint(expr = m.fs.costing.system_recovery >= 0)\n",
    "m.fs.objective_function.deactivate() # deactivate LCOW objective function"
   ]
  },
  {
   "cell_type": "code",
   "execution_count": null,
   "metadata": {
    "scrolled": true
   },
   "outputs": [],
   "source": [
    "# NOW RUN AS SIMULATION\n",
    "wt.run_water_tap(m = m, objective=False, print_model_results=\"summary\")"
   ]
  },
  {
   "cell_type": "code",
   "execution_count": null,
   "metadata": {},
   "outputs": [],
   "source": [
    "# creates csv in results folder with the name: *case_study*_*scenario*.csv\n",
    "# In this case, save the final baseline result.\n",
    "\n",
    "df = wt.get_results_table(m = m, case_study = wt.case_study_trains.source_water[\"case_study\"], \n",
    "                                scenario = wt.case_study_trains.source_water[\"scenario\"])"
   ]
  },
  {
   "cell_type": "code",
   "execution_count": null,
   "metadata": {},
   "outputs": [],
   "source": [
    "###### SENSITIVITY ANALYSES "
   ]
  },
  {
   "cell_type": "code",
   "execution_count": null,
   "metadata": {
    "scrolled": true
   },
   "outputs": [],
   "source": [
    "# Find bounds for RO area:\n",
    "for key in m.fs.pfd_dict.keys():\n",
    "    if m.fs.pfd_dict[key][\"Unit\"] == \"reverse_osmosis\":\n",
    "        \n",
    "        stash_value = value(getattr(m.fs, key).membrane_area[0])\n",
    "        getattr(m.fs, key).membrane_area.unfix()\n",
    "        m.fs.objective_function1 = env.Objective(expr=getattr(m.fs, key).membrane_area[0] * 1, sense=env.minimize)\n",
    "        wt.run_water_tap(m = m, objective=False)\n",
    "        print(\"LCOW -->\", m.fs.costing.LCOW())\n",
    "        print(key, \"Minimum -->\", getattr(m.fs, key).membrane_area[0]())\n",
    "\n",
    "        m.fs.objective_function1 = env.Objective(expr=getattr(m.fs, key).membrane_area[0], sense=env.maximize)\n",
    "        wt.run_water_tap(m = m, objective=False)\n",
    "        print(\"LCOW -->\", m.fs.costing.LCOW())\n",
    "        print(key, \"Maximum -->\", getattr(m.fs, key).membrane_area[0]())\n",
    "\n",
    "        getattr(m.fs, key).membrane_area.fix(stash_value)\n"
   ]
  },
  {
   "cell_type": "code",
   "execution_count": null,
   "metadata": {},
   "outputs": [],
   "source": [
    "# Find bounds for RO pessure:\n",
    "for key in m.fs.pfd_dict.keys():\n",
    "    if m.fs.pfd_dict[key][\"Unit\"] == \"reverse_osmosis\":\n",
    "        \n",
    "        stash_value = value(getattr(m.fs, key).feed.pressure[0])\n",
    "        getattr(m.fs, key).feed.pressure.unfix()\n",
    "        m.fs.objective_function1 = env.Objective(expr=getattr(m.fs, key).feed.pressure[0], sense=env.minimize)\n",
    "        wt.run_water_tap(m = m, objective=False)\n",
    "        print(\"LCOW -->\", m.fs.costing.LCOW())\n",
    "        print(key, \"Minimum -->\", getattr(m.fs, key).feed.pressure[0]())\n",
    "\n",
    "        m.fs.objective_function1 = env.Objective(expr=getattr(m.fs, key).feed.pressure[0], sense=env.maximize)\n",
    "        wt.run_water_tap(m = m, objective=False)\n",
    "        print(\"LCOW -->\", m.fs.costing.LCOW())\n",
    "        print(key, \"Maximum -->\", getattr(m.fs, key).feed.pressure[0]())\n",
    "\n",
    "        getattr(m.fs, key).feed.pressure.fix(stash_value)"
   ]
  },
  {
   "cell_type": "code",
   "execution_count": null,
   "metadata": {},
   "outputs": [],
   "source": [
    "m.fs.objective_function1.deactivate()"
   ]
  },
  {
   "cell_type": "code",
   "execution_count": null,
   "metadata": {},
   "outputs": [],
   "source": [
    "# run to rest before sensitivity\n",
    "wt.run_water_tap(m = m, objective=False)\n",
    "print(\"LCOW -->\", m.fs.costing.LCOW())"
   ]
  }
 ],
 "metadata": {
  "celltoolbar": "Raw Cell Format",
  "kernelspec": {
   "display_name": "Python 3",
   "language": "python",
   "name": "python3"
  },
  "language_info": {
   "codemirror_mode": {
    "name": "ipython",
    "version": 3
   },
   "file_extension": ".py",
   "mimetype": "text/x-python",
   "name": "python",
   "nbconvert_exporter": "python",
   "pygments_lexer": "ipython3",
   "version": "3.8.5"
  }
 },
 "nbformat": 4,
 "nbformat_minor": 4
}
