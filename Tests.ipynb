{
 "cells": [
  {
   "cell_type": "code",
   "execution_count": 7,
   "metadata": {},
   "outputs": [],
   "source": [
    "%matplotlib inline\n",
    "from pylab import *\n",
    "import pandas as pd\n",
    "import numpy as np\n",
    "import matplotlib.pyplot as plt\n",
    "\n",
    "import networkx as nx\n",
    "from networkx.drawing.nx_agraph import write_dot, graphviz_layout"
   ]
  },
  {
   "cell_type": "code",
   "execution_count": 8,
   "metadata": {},
   "outputs": [],
   "source": [
    "import watertap as wt"
   ]
  },
  {
   "cell_type": "code",
   "execution_count": 9,
   "metadata": {},
   "outputs": [
    {
     "name": "stdout",
     "output_type": "stream",
     "text": [
      "adding unit process to network: chlorination_twb\n"
     ]
    }
   ],
   "source": [
    "# unit_process_name_list needs to be a list\n",
    "unit_process_name_list = ['chlorination_twb']\n",
    "T = wt.treatment_train_design.create_train(unit_process_name_list=unit_process_name_list,\n",
    "                                            source_water_reference = 'Poseidon',\n",
    "                                            source_water_type = 'Wastewater',\n",
    "                                            source_water_case_study ='Typical untreated domestic wastewater',\n",
    "                                            enduse_water_reference = 'Poseidon',\n",
    "                                            enduse_water_type = 'Environmental',\n",
    "                                            enduse_water_case_study = 'EPA: Environmental Reuse',\n",
    "                                            flow = 0)"
   ]
  },
  {
   "cell_type": "code",
   "execution_count": 10,
   "metadata": {},
   "outputs": [
    {
     "data": {
      "text/html": [
       "\n",
       "        <iframe\n",
       "            width=\"100%\"\n",
       "            height=\"500px\"\n",
       "            src=\"tmp/example.html\"\n",
       "            frameborder=\"0\"\n",
       "            allowfullscreen\n",
       "        ></iframe>\n",
       "        "
      ],
      "text/plain": [
       "<IPython.lib.display.IFrame at 0x101a6317f0>"
      ]
     },
     "execution_count": 10,
     "metadata": {},
     "output_type": "execute_result"
    }
   ],
   "source": [
    "wt.display.show_train2(T)"
   ]
  },
  {
   "cell_type": "code",
   "execution_count": 11,
   "metadata": {},
   "outputs": [],
   "source": [
    "T.nodes['source']['Flow'] = 12575*24 #37854.118 # sets flow. units in m3/d. 37854.118 m3/d = 10 million gallons per day "
   ]
  },
  {
   "cell_type": "code",
   "execution_count": 13,
   "metadata": {},
   "outputs": [
    {
     "name": "stdout",
     "output_type": "stream",
     "text": [
      "assuming initial chlorine demand is 0\n"
     ]
    }
   ],
   "source": [
    "M = wt.build_model(T)"
   ]
  },
  {
   "cell_type": "code",
   "execution_count": 14,
   "metadata": {},
   "outputs": [
    {
     "data": {
      "text/plain": [
       "{'Problem': [{'Lower bound': -inf, 'Upper bound': inf, 'Number of objectives': 1, 'Number of constraints': 16, 'Number of variables': 16, 'Sense': 'unknown'}], 'Solver': [{'Status': 'ok', 'Message': 'Ipopt 3.12.12\\\\x3a Optimal Solution Found', 'Termination condition': 'optimal', 'Id': 0, 'Error rc': 0, 'Time': 0.20965790748596191}], 'Solution': [OrderedDict([('number of solutions', 0), ('number of solutions displayed', 0)])]}"
      ]
     },
     "execution_count": 14,
     "metadata": {},
     "output_type": "execute_result"
    }
   ],
   "source": [
    "wt.run_model(model=M)"
   ]
  },
  {
   "cell_type": "code",
   "execution_count": 15,
   "metadata": {},
   "outputs": [
    {
     "data": {
      "text/html": [
       "<div>\n",
       "<style scoped>\n",
       "    .dataframe tbody tr th:only-of-type {\n",
       "        vertical-align: middle;\n",
       "    }\n",
       "\n",
       "    .dataframe tbody tr th {\n",
       "        vertical-align: top;\n",
       "    }\n",
       "\n",
       "    .dataframe thead th {\n",
       "        text-align: right;\n",
       "    }\n",
       "</style>\n",
       "<table border=\"1\" class=\"dataframe\">\n",
       "  <thead>\n",
       "    <tr style=\"text-align: right;\">\n",
       "      <th></th>\n",
       "      <th>Flow</th>\n",
       "      <th>TOC</th>\n",
       "      <th>Nitrate</th>\n",
       "      <th>Cost</th>\n",
       "      <th>TDS</th>\n",
       "    </tr>\n",
       "  </thead>\n",
       "  <tbody>\n",
       "    <tr>\n",
       "      <th>chlorination_twb_feedwater</th>\n",
       "      <td>301800.0</td>\n",
       "      <td>140.0</td>\n",
       "      <td>0.0</td>\n",
       "      <td>0.000</td>\n",
       "      <td>0.0</td>\n",
       "    </tr>\n",
       "    <tr>\n",
       "      <th>chlorination_twb</th>\n",
       "      <td>301800.0</td>\n",
       "      <td>140.0</td>\n",
       "      <td>0.0</td>\n",
       "      <td>4.242</td>\n",
       "      <td>0.0</td>\n",
       "    </tr>\n",
       "    <tr>\n",
       "      <th>chlorination_twb_waste_stream</th>\n",
       "      <td>0.0</td>\n",
       "      <td>0.0</td>\n",
       "      <td>0.0</td>\n",
       "      <td>0.000</td>\n",
       "      <td>0.0</td>\n",
       "    </tr>\n",
       "    <tr>\n",
       "      <th>chlorination_twb_use_stream</th>\n",
       "      <td>301800.0</td>\n",
       "      <td>140.0</td>\n",
       "      <td>0.0</td>\n",
       "      <td>0.000</td>\n",
       "      <td>0.0</td>\n",
       "    </tr>\n",
       "  </tbody>\n",
       "</table>\n",
       "</div>"
      ],
      "text/plain": [
       "                                   Flow    TOC  Nitrate   Cost  TDS\n",
       "chlorination_twb_feedwater     301800.0  140.0      0.0  0.000  0.0\n",
       "chlorination_twb               301800.0  140.0      0.0  4.242  0.0\n",
       "chlorination_twb_waste_stream       0.0    0.0      0.0  0.000  0.0\n",
       "chlorination_twb_use_stream    301800.0  140.0      0.0  0.000  0.0"
      ]
     },
     "execution_count": 15,
     "metadata": {},
     "output_type": "execute_result"
    }
   ],
   "source": [
    "analysis_variables = ['Flow', 'TOC' , 'Nitrate', 'Cost', 'TDS']\n",
    "model_results = wt.post_processing.get_result_table(M, analysis_variables)\n",
    "model_results"
   ]
  },
  {
   "cell_type": "code",
   "execution_count": 16,
   "metadata": {},
   "outputs": [],
   "source": [
    "initial_chlorine_demand = 0\n",
    "contact_time = 1.5  # hours\n",
    "contact_time_mins = 1.5 * 60\n",
    "ct = 450  # mg/L-min ---> ASSUME CALI STANDARD FOR NOW\n",
    "chlorine_decay_rate = 3.0  # mg/Lh"
   ]
  },
  {
   "cell_type": "code",
   "execution_count": 17,
   "metadata": {},
   "outputs": [],
   "source": [
    "applied_cl2_dose = (\n",
    "    initial_chlorine_demand\n",
    "    + chlorine_decay_rate * contact_time\n",
    "    + ct / contact_time_mins\n",
    ") #mg/L"
   ]
  },
  {
   "cell_type": "code",
   "execution_count": 18,
   "metadata": {},
   "outputs": [
    {
     "data": {
      "text/plain": [
       "9.5"
      ]
     },
     "execution_count": 18,
     "metadata": {},
     "output_type": "execute_result"
    }
   ],
   "source": [
    "applied_cl2_dose "
   ]
  },
  {
   "cell_type": "code",
   "execution_count": 24,
   "metadata": {},
   "outputs": [],
   "source": [
    "flow_test = 6248#*24"
   ]
  },
  {
   "cell_type": "code",
   "execution_count": 25,
   "metadata": {},
   "outputs": [
    {
     "data": {
      "text/plain": [
       "59.356"
      ]
     },
     "execution_count": 25,
     "metadata": {},
     "output_type": "execute_result"
    }
   ],
   "source": [
    "flow_test * 1000 * 9.5 / 1000000"
   ]
  },
  {
   "cell_type": "code",
   "execution_count": null,
   "metadata": {},
   "outputs": [],
   "source": []
  },
  {
   "cell_type": "code",
   "execution_count": null,
   "metadata": {},
   "outputs": [],
   "source": []
  },
  {
   "cell_type": "code",
   "execution_count": 7,
   "metadata": {},
   "outputs": [],
   "source": [
    "#### LOAD TRAIN ####\n",
    "path = 'Tutorial1_treatment_train_example.csv'\n",
    "T = wt.load_train(path)"
   ]
  },
  {
   "cell_type": "code",
   "execution_count": 8,
   "metadata": {},
   "outputs": [
    {
     "data": {
      "text/html": [
       "\n",
       "        <iframe\n",
       "            width=\"100%\"\n",
       "            height=\"500px\"\n",
       "            src=\"example.html\"\n",
       "            frameborder=\"0\"\n",
       "            allowfullscreen\n",
       "        ></iframe>\n",
       "        "
      ],
      "text/plain": [
       "<IPython.lib.display.IFrame at 0x101edf7240>"
      ]
     },
     "execution_count": 8,
     "metadata": {},
     "output_type": "execute_result"
    }
   ],
   "source": [
    "# display command\n",
    "wt.display.show_train2(T)"
   ]
  },
  {
   "cell_type": "markdown",
   "metadata": {},
   "source": [
    "##### Step 4: Add another unit process in parallel or series"
   ]
  },
  {
   "cell_type": "code",
   "execution_count": 9,
   "metadata": {
    "scrolled": false
   },
   "outputs": [],
   "source": [
    "T.nodes['source']['Flow'] = 100\n",
    "M = wt.build_model(T)"
   ]
  },
  {
   "cell_type": "code",
   "execution_count": 10,
   "metadata": {},
   "outputs": [
    {
     "data": {
      "text/plain": [
       "{'Problem': [{'Lower bound': -inf, 'Upper bound': inf, 'Number of objectives': 1, 'Number of constraints': 45, 'Number of variables': 51, 'Sense': 'unknown'}], 'Solver': [{'Status': 'ok', 'Message': 'Ipopt 3.12.12\\\\x3a Optimal Solution Found', 'Termination condition': 'optimal', 'Id': 0, 'Error rc': 0, 'Time': 0.0966958999633789}], 'Solution': [OrderedDict([('number of solutions', 0), ('number of solutions displayed', 0)])]}"
      ]
     },
     "execution_count": 10,
     "metadata": {},
     "output_type": "execute_result"
    }
   ],
   "source": [
    "wt.run_model(model=M)"
   ]
  },
  {
   "cell_type": "code",
   "execution_count": 11,
   "metadata": {},
   "outputs": [
    {
     "data": {
      "text/html": [
       "<div>\n",
       "<style scoped>\n",
       "    .dataframe tbody tr th:only-of-type {\n",
       "        vertical-align: middle;\n",
       "    }\n",
       "\n",
       "    .dataframe tbody tr th {\n",
       "        vertical-align: top;\n",
       "    }\n",
       "\n",
       "    .dataframe thead th {\n",
       "        text-align: right;\n",
       "    }\n",
       "</style>\n",
       "<table border=\"1\" class=\"dataframe\">\n",
       "  <thead>\n",
       "    <tr style=\"text-align: right;\">\n",
       "      <th></th>\n",
       "      <th>Flow</th>\n",
       "      <th>TOC</th>\n",
       "      <th>Nitrate</th>\n",
       "      <th>Cost</th>\n",
       "      <th>TDS</th>\n",
       "    </tr>\n",
       "  </thead>\n",
       "  <tbody>\n",
       "    <tr>\n",
       "      <th>microfiltration_twb_feedwater</th>\n",
       "      <td>50.0</td>\n",
       "      <td>93.333</td>\n",
       "      <td>0.0</td>\n",
       "      <td>0.000</td>\n",
       "      <td>0.0</td>\n",
       "    </tr>\n",
       "    <tr>\n",
       "      <th>ultrafiltration_twb_feedwater</th>\n",
       "      <td>50.0</td>\n",
       "      <td>46.667</td>\n",
       "      <td>0.0</td>\n",
       "      <td>0.000</td>\n",
       "      <td>0.0</td>\n",
       "    </tr>\n",
       "    <tr>\n",
       "      <th>microfiltration_twb</th>\n",
       "      <td>50.0</td>\n",
       "      <td>93.333</td>\n",
       "      <td>0.0</td>\n",
       "      <td>0.033</td>\n",
       "      <td>0.0</td>\n",
       "    </tr>\n",
       "    <tr>\n",
       "      <th>ultrafiltration_twb</th>\n",
       "      <td>50.0</td>\n",
       "      <td>186.667</td>\n",
       "      <td>0.0</td>\n",
       "      <td>0.033</td>\n",
       "      <td>0.0</td>\n",
       "    </tr>\n",
       "    <tr>\n",
       "      <th>microfiltration_twb_waste_stream</th>\n",
       "      <td>2.5</td>\n",
       "      <td>0.000</td>\n",
       "      <td>0.0</td>\n",
       "      <td>0.000</td>\n",
       "      <td>0.0</td>\n",
       "    </tr>\n",
       "    <tr>\n",
       "      <th>microfiltration_twb_use_stream</th>\n",
       "      <td>47.5</td>\n",
       "      <td>93.333</td>\n",
       "      <td>0.0</td>\n",
       "      <td>0.000</td>\n",
       "      <td>0.0</td>\n",
       "    </tr>\n",
       "    <tr>\n",
       "      <th>chlorination_twb_feedwater</th>\n",
       "      <td>95.0</td>\n",
       "      <td>280.000</td>\n",
       "      <td>0.0</td>\n",
       "      <td>0.000</td>\n",
       "      <td>0.0</td>\n",
       "    </tr>\n",
       "    <tr>\n",
       "      <th>chlorination_twb</th>\n",
       "      <td>95.0</td>\n",
       "      <td>280.000</td>\n",
       "      <td>0.0</td>\n",
       "      <td>3.121</td>\n",
       "      <td>0.0</td>\n",
       "    </tr>\n",
       "    <tr>\n",
       "      <th>ultrafiltration_twb_waste_stream</th>\n",
       "      <td>2.5</td>\n",
       "      <td>0.000</td>\n",
       "      <td>0.0</td>\n",
       "      <td>0.000</td>\n",
       "      <td>0.0</td>\n",
       "    </tr>\n",
       "    <tr>\n",
       "      <th>ultrafiltration_twb_use_stream</th>\n",
       "      <td>47.5</td>\n",
       "      <td>186.667</td>\n",
       "      <td>0.0</td>\n",
       "      <td>0.000</td>\n",
       "      <td>0.0</td>\n",
       "    </tr>\n",
       "    <tr>\n",
       "      <th>chlorination_twb_waste_stream</th>\n",
       "      <td>0.0</td>\n",
       "      <td>0.000</td>\n",
       "      <td>0.0</td>\n",
       "      <td>0.000</td>\n",
       "      <td>0.0</td>\n",
       "    </tr>\n",
       "    <tr>\n",
       "      <th>chlorination_twb_use_stream</th>\n",
       "      <td>47.5</td>\n",
       "      <td>140.000</td>\n",
       "      <td>0.0</td>\n",
       "      <td>0.000</td>\n",
       "      <td>0.0</td>\n",
       "    </tr>\n",
       "    <tr>\n",
       "      <th>chlorination_twb_end_treated_use2_stream</th>\n",
       "      <td>47.5</td>\n",
       "      <td>140.000</td>\n",
       "      <td>0.0</td>\n",
       "      <td>0.000</td>\n",
       "      <td>0.0</td>\n",
       "    </tr>\n",
       "    <tr>\n",
       "      <th>source1_ultrafiltration_twb_start_feedwater</th>\n",
       "      <td>0.0</td>\n",
       "      <td>140.000</td>\n",
       "      <td>0.0</td>\n",
       "      <td>0.000</td>\n",
       "      <td>0.0</td>\n",
       "    </tr>\n",
       "  </tbody>\n",
       "</table>\n",
       "</div>"
      ],
      "text/plain": [
       "                                             Flow      TOC  Nitrate   Cost  \\\n",
       "microfiltration_twb_feedwater                50.0   93.333      0.0  0.000   \n",
       "ultrafiltration_twb_feedwater                50.0   46.667      0.0  0.000   \n",
       "microfiltration_twb                          50.0   93.333      0.0  0.033   \n",
       "ultrafiltration_twb                          50.0  186.667      0.0  0.033   \n",
       "microfiltration_twb_waste_stream              2.5    0.000      0.0  0.000   \n",
       "microfiltration_twb_use_stream               47.5   93.333      0.0  0.000   \n",
       "chlorination_twb_feedwater                   95.0  280.000      0.0  0.000   \n",
       "chlorination_twb                             95.0  280.000      0.0  3.121   \n",
       "ultrafiltration_twb_waste_stream              2.5    0.000      0.0  0.000   \n",
       "ultrafiltration_twb_use_stream               47.5  186.667      0.0  0.000   \n",
       "chlorination_twb_waste_stream                 0.0    0.000      0.0  0.000   \n",
       "chlorination_twb_use_stream                  47.5  140.000      0.0  0.000   \n",
       "chlorination_twb_end_treated_use2_stream     47.5  140.000      0.0  0.000   \n",
       "source1_ultrafiltration_twb_start_feedwater   0.0  140.000      0.0  0.000   \n",
       "\n",
       "                                             TDS  \n",
       "microfiltration_twb_feedwater                0.0  \n",
       "ultrafiltration_twb_feedwater                0.0  \n",
       "microfiltration_twb                          0.0  \n",
       "ultrafiltration_twb                          0.0  \n",
       "microfiltration_twb_waste_stream             0.0  \n",
       "microfiltration_twb_use_stream               0.0  \n",
       "chlorination_twb_feedwater                   0.0  \n",
       "chlorination_twb                             0.0  \n",
       "ultrafiltration_twb_waste_stream             0.0  \n",
       "ultrafiltration_twb_use_stream               0.0  \n",
       "chlorination_twb_waste_stream                0.0  \n",
       "chlorination_twb_use_stream                  0.0  \n",
       "chlorination_twb_end_treated_use2_stream     0.0  \n",
       "source1_ultrafiltration_twb_start_feedwater  0.0  "
      ]
     },
     "execution_count": 11,
     "metadata": {},
     "output_type": "execute_result"
    }
   ],
   "source": [
    "analysis_variables = ['Flow', 'TOC' , 'Nitrate', 'Cost', 'TDS']\n",
    "model_results = wt.post_processing.get_result_table(M, analysis_variables)\n",
    "model_results"
   ]
  },
  {
   "cell_type": "code",
   "execution_count": null,
   "metadata": {},
   "outputs": [],
   "source": []
  },
  {
   "cell_type": "code",
   "execution_count": null,
   "metadata": {},
   "outputs": [],
   "source": []
  },
  {
   "cell_type": "code",
   "execution_count": null,
   "metadata": {},
   "outputs": [],
   "source": []
  },
  {
   "cell_type": "code",
   "execution_count": null,
   "metadata": {},
   "outputs": [],
   "source": []
  },
  {
   "cell_type": "code",
   "execution_count": null,
   "metadata": {},
   "outputs": [],
   "source": []
  },
  {
   "cell_type": "code",
   "execution_count": null,
   "metadata": {},
   "outputs": [],
   "source": []
  },
  {
   "cell_type": "code",
   "execution_count": null,
   "metadata": {},
   "outputs": [],
   "source": []
  },
  {
   "cell_type": "code",
   "execution_count": null,
   "metadata": {},
   "outputs": [],
   "source": []
  },
  {
   "cell_type": "code",
   "execution_count": null,
   "metadata": {},
   "outputs": [],
   "source": []
  },
  {
   "cell_type": "code",
   "execution_count": null,
   "metadata": {},
   "outputs": [],
   "source": []
  },
  {
   "cell_type": "code",
   "execution_count": null,
   "metadata": {},
   "outputs": [],
   "source": []
  },
  {
   "cell_type": "code",
   "execution_count": null,
   "metadata": {},
   "outputs": [],
   "source": []
  },
  {
   "cell_type": "code",
   "execution_count": null,
   "metadata": {},
   "outputs": [],
   "source": []
  },
  {
   "cell_type": "code",
   "execution_count": null,
   "metadata": {},
   "outputs": [],
   "source": []
  },
  {
   "cell_type": "code",
   "execution_count": 7,
   "metadata": {},
   "outputs": [
    {
     "name": "stdout",
     "output_type": "stream",
     "text": [
      "adding unit process to network: ultrafiltration_twb\n"
     ]
    }
   ],
   "source": [
    "##### ADD UNIT PROCESS IN PARALLEL ####\n",
    "T = wt.treatment_train_design.add_unit_process(T, from_node = 'source',\n",
    "                                                to_node = 'use', \n",
    "                                                unit_process_name_list = ['ultrafiltration_twb'],\n",
    "                                                unit_process_list = ['ultrafiltration_twb'],\n",
    "                                                order = 'parallel')"
   ]
  },
  {
   "cell_type": "code",
   "execution_count": 8,
   "metadata": {},
   "outputs": [
    {
     "data": {
      "text/html": [
       "\n",
       "        <iframe\n",
       "            width=\"100%\"\n",
       "            height=\"500px\"\n",
       "            src=\"example.html\"\n",
       "            frameborder=\"0\"\n",
       "            allowfullscreen\n",
       "        ></iframe>\n",
       "        "
      ],
      "text/plain": [
       "<IPython.lib.display.IFrame at 0x10251c9c18>"
      ]
     },
     "execution_count": 8,
     "metadata": {},
     "output_type": "execute_result"
    }
   ],
   "source": [
    "wt.display.show_train2(T)"
   ]
  },
  {
   "cell_type": "code",
   "execution_count": 9,
   "metadata": {},
   "outputs": [
    {
     "name": "stdout",
     "output_type": "stream",
     "text": [
      "adding unit process to network: chlorination_twb\n"
     ]
    }
   ],
   "source": [
    "##### ADD UNIT PROCESS IN SERIES ####\n",
    "T = wt.treatment_train_design.add_unit_process(T, from_node = 'use',\n",
    "                                                to_node = None, \n",
    "                                                unit_process_name_list = ['chlorination_twb'],\n",
    "                                                unit_process_list = ['chlorination_twb'],\n",
    "                                                order = 'series')"
   ]
  },
  {
   "cell_type": "code",
   "execution_count": 10,
   "metadata": {},
   "outputs": [
    {
     "data": {
      "text/html": [
       "\n",
       "        <iframe\n",
       "            width=\"100%\"\n",
       "            height=\"500px\"\n",
       "            src=\"example.html\"\n",
       "            frameborder=\"0\"\n",
       "            allowfullscreen\n",
       "        ></iframe>\n",
       "        "
      ],
      "text/plain": [
       "<IPython.lib.display.IFrame at 0x10251c9ba8>"
      ]
     },
     "execution_count": 10,
     "metadata": {},
     "output_type": "execute_result"
    }
   ],
   "source": [
    "wt.display.show_train(T)"
   ]
  },
  {
   "cell_type": "markdown",
   "metadata": {},
   "source": [
    "##### 5. Add a recycle stream"
   ]
  },
  {
   "cell_type": "code",
   "execution_count": 10,
   "metadata": {},
   "outputs": [
    {
     "ename": "NameError",
     "evalue": "name 'update_unit_process_recycle' is not defined",
     "output_type": "error",
     "traceback": [
      "\u001b[0;31m---------------------------------------------------------------------------\u001b[0m",
      "\u001b[0;31mNameError\u001b[0m                                 Traceback (most recent call last)",
      "\u001b[0;32m<ipython-input-10-d436487bf042>\u001b[0m in \u001b[0;36m<module>\u001b[0;34m\u001b[0m\n\u001b[1;32m      3\u001b[0m                        \u001b[0munit_process_name\u001b[0m \u001b[0;34m=\u001b[0m \u001b[0;34m'microfiltration_twb'\u001b[0m\u001b[0;34m,\u001b[0m\u001b[0;34m\u001b[0m\u001b[0m\n\u001b[1;32m      4\u001b[0m                        \u001b[0mrecyle_fraction_of_waste\u001b[0m \u001b[0;34m=\u001b[0m \u001b[0;36m1\u001b[0m\u001b[0;34m,\u001b[0m\u001b[0;34m\u001b[0m\u001b[0m\n\u001b[0;32m----> 5\u001b[0;31m                        number_of_affected_streams = 1)\n\u001b[0m",
      "\u001b[0;32m~/NAWI/WaterTap/NAWI-WaterTAP3/src/treatment_train_design.py\u001b[0m in \u001b[0;36madd_recycle_stream\u001b[0;34m(G, unit_process_name, unit_process, recyle_fraction_of_waste, number_of_affected_streams, affected_stream)\u001b[0m\n\u001b[1;32m    131\u001b[0m         \u001b[0mG\u001b[0m \u001b[0;34m=\u001b[0m \u001b[0mname_nodes\u001b[0m\u001b[0;34m(\u001b[0m\u001b[0mG\u001b[0m\u001b[0;34m)\u001b[0m\u001b[0;34m\u001b[0m\u001b[0m\n\u001b[1;32m    132\u001b[0m \u001b[0;34m\u001b[0m\u001b[0m\n\u001b[0;32m--> 133\u001b[0;31m         G = update_unit_process_recycle(\n\u001b[0m\u001b[1;32m    134\u001b[0m             \u001b[0mG\u001b[0m\u001b[0;34m,\u001b[0m \u001b[0munit_process\u001b[0m\u001b[0;34m,\u001b[0m \u001b[0munit_process_name\u001b[0m\u001b[0;34m,\u001b[0m \u001b[0mrecyle_fraction_of_waste\u001b[0m\u001b[0;34m\u001b[0m\u001b[0m\n\u001b[1;32m    135\u001b[0m         )\n",
      "\u001b[0;31mNameError\u001b[0m: name 'update_unit_process_recycle' is not defined"
     ]
    }
   ],
   "source": [
    "T = wt.treatment_train_design.add_recycle_stream(T,\n",
    "                       unit_process = 'microfiltration_twb',\n",
    "                       unit_process_name = 'microfiltration_twb',\n",
    "                       recyle_fraction_of_waste = 1,\n",
    "                       number_of_affected_streams = 1)"
   ]
  },
  {
   "cell_type": "code",
   "execution_count": 11,
   "metadata": {},
   "outputs": [
    {
     "data": {
      "text/html": [
       "\n",
       "        <iframe\n",
       "            width=\"100%\"\n",
       "            height=\"500px\"\n",
       "            src=\"example.html\"\n",
       "            frameborder=\"0\"\n",
       "            allowfullscreen\n",
       "        ></iframe>\n",
       "        "
      ],
      "text/plain": [
       "<IPython.lib.display.IFrame at 0x101ff9c2e8>"
      ]
     },
     "execution_count": 11,
     "metadata": {},
     "output_type": "execute_result"
    }
   ],
   "source": [
    "wt.display.show_train(T)"
   ]
  },
  {
   "cell_type": "markdown",
   "metadata": {},
   "source": [
    "##### Step 6: Add multiple water sources"
   ]
  },
  {
   "cell_type": "code",
   "execution_count": 11,
   "metadata": {},
   "outputs": [
    {
     "name": "stdout",
     "output_type": "stream",
     "text": [
      "adding another water source: source1\n"
     ]
    }
   ],
   "source": [
    "# ADD ANOTHER SOURCE. NEED TO PROVIDE A NEW SOURCE NAME.\n",
    "source_to_node_names = [['source1', 'ultrafiltration_twb_start']]\n",
    "T = wt.treatment_train_design.add_multiple_water_sources(T,\n",
    "                                              number_of_additional_sources = 1,\n",
    "                                              source_water_reference = 'Poseidon',\n",
    "                                              source_water_type = 'Wastewater',\n",
    "                                              source_water_case_study = 'Typical untreated domestic wastewater',\n",
    "                                              source_to_node_names=source_to_node_names,\n",
    "                                              flow = 0)"
   ]
  },
  {
   "cell_type": "code",
   "execution_count": 12,
   "metadata": {},
   "outputs": [
    {
     "data": {
      "text/html": [
       "\n",
       "        <iframe\n",
       "            width=\"100%\"\n",
       "            height=\"500px\"\n",
       "            src=\"example.html\"\n",
       "            frameborder=\"0\"\n",
       "            allowfullscreen\n",
       "        ></iframe>\n",
       "        "
      ],
      "text/plain": [
       "<IPython.lib.display.IFrame at 0x1025039208>"
      ]
     },
     "execution_count": 12,
     "metadata": {},
     "output_type": "execute_result"
    }
   ],
   "source": [
    "wt.display.show_train(T)"
   ]
  },
  {
   "cell_type": "markdown",
   "metadata": {},
   "source": [
    "##### Step 7: Add multiple end use water source"
   ]
  },
  {
   "cell_type": "code",
   "execution_count": 13,
   "metadata": {},
   "outputs": [
    {
     "name": "stdout",
     "output_type": "stream",
     "text": [
      "adding another water use: use2\n"
     ]
    }
   ],
   "source": [
    "# ADD ANOTHER END USE \n",
    "node_to_use_names = [['chlorination_twb_end', 'use2']]\n",
    "T = wt.treatment_train_design.add_multiple_water_enduses(T,\n",
    "                                              number_of_additional_ends = 1,\n",
    "                                              enduse_water_reference = 'Poseidon',\n",
    "                                              enduse_water_type = 'Wastewater',\n",
    "                                              enduse_water_case_study = 'Typical untreated domestic wastewater',\n",
    "                                              node_to_end_names= node_to_use_names,\n",
    "                                              min_flow = 0)"
   ]
  },
  {
   "cell_type": "code",
   "execution_count": 14,
   "metadata": {},
   "outputs": [
    {
     "data": {
      "text/html": [
       "\n",
       "        <iframe\n",
       "            width=\"100%\"\n",
       "            height=\"500px\"\n",
       "            src=\"example.html\"\n",
       "            frameborder=\"0\"\n",
       "            allowfullscreen\n",
       "        ></iframe>\n",
       "        "
      ],
      "text/plain": [
       "<IPython.lib.display.IFrame at 0x10251c97f0>"
      ]
     },
     "execution_count": 14,
     "metadata": {},
     "output_type": "execute_result"
    }
   ],
   "source": [
    "wt.display.show_train(T)"
   ]
  },
  {
   "cell_type": "markdown",
   "metadata": {},
   "source": [
    "##### Step 8: Add a stream from any point to any point. For this, user must define the type of stream being added. Options are: feedwater_stream, waste_stream, use_stream, recycle_stream, source_and_recycle_stream, treatment_process"
   ]
  },
  {
   "cell_type": "code",
   "execution_count": 15,
   "metadata": {},
   "outputs": [
    {
     "name": "stdout",
     "output_type": "stream",
     "text": [
      "microfiltration_twb_feedwater ----->>> feedwater_stream\n",
      "ultrafiltration_twb_feedwater ----->>> feedwater_stream\n",
      "microfiltration_twb ----->>> treatment_process\n",
      "microfiltration_twb_waste_stream ----->>> waste_stream\n",
      "microfiltration_twb_use_stream ----->>> use_stream\n",
      "chlorination_twb_feedwater ----->>> feedwater_stream\n",
      "ultrafiltration_twb ----->>> treatment_process\n",
      "ultrafiltration_twb_waste_stream ----->>> waste_stream\n",
      "ultrafiltration_twb_use_stream ----->>> use_stream\n",
      "chlorination_twb ----->>> treatment_process\n",
      "chlorination_twb_waste_stream ----->>> waste_stream\n",
      "chlorination_twb_use_stream ----->>> use_stream\n",
      "chlorination_twb_end_treated_use2_stream ----->>> use_stream\n",
      "source1_ultrafiltration_twb_start_feedwater ----->>> feedwater_stream\n"
     ]
    }
   ],
   "source": [
    "for edge in T.edges():\n",
    "    print(T.edges[edge]['name'], '----->>>' , T.edges[edge]['type'])"
   ]
  },
  {
   "cell_type": "code",
   "execution_count": 23,
   "metadata": {},
   "outputs": [],
   "source": [
    "T = wt.treatment_train_design.add_stream(T, \n",
    "                                         from_node = 'microfiltration_twb_end', \n",
    "                                        to_node = 'use2',\n",
    "                                        stream_name = 'treated_stream_example',\n",
    "                                        stream_type = 'treated_stream') # TODO"
   ]
  },
  {
   "cell_type": "code",
   "execution_count": 24,
   "metadata": {},
   "outputs": [
    {
     "data": {
      "text/html": [
       "\n",
       "        <iframe\n",
       "            width=\"100%\"\n",
       "            height=\"500px\"\n",
       "            src=\"example.html\"\n",
       "            frameborder=\"0\"\n",
       "            allowfullscreen\n",
       "        ></iframe>\n",
       "        "
      ],
      "text/plain": [
       "<IPython.lib.display.IFrame at 0x1a1e8864e0>"
      ]
     },
     "execution_count": 24,
     "metadata": {},
     "output_type": "execute_result"
    }
   ],
   "source": [
    "wt.display.show_train(T)"
   ]
  },
  {
   "cell_type": "markdown",
   "metadata": {},
   "source": [
    "##### Step 9: Remove unit process"
   ]
  },
  {
   "cell_type": "code",
   "execution_count": null,
   "metadata": {},
   "outputs": [],
   "source": []
  },
  {
   "cell_type": "code",
   "execution_count": 25,
   "metadata": {},
   "outputs": [],
   "source": [
    "T = wt.filter_processes.remove_single_process(T, process_name = 'ultrafiltration_twb')"
   ]
  },
  {
   "cell_type": "code",
   "execution_count": 26,
   "metadata": {},
   "outputs": [
    {
     "data": {
      "text/html": [
       "\n",
       "        <iframe\n",
       "            width=\"100%\"\n",
       "            height=\"500px\"\n",
       "            src=\"example.html\"\n",
       "            frameborder=\"0\"\n",
       "            allowfullscreen\n",
       "        ></iframe>\n",
       "        "
      ],
      "text/plain": [
       "<IPython.lib.display.IFrame at 0x1a1e886f98>"
      ]
     },
     "execution_count": 26,
     "metadata": {},
     "output_type": "execute_result"
    }
   ],
   "source": [
    "wt.display.show_train(T)"
   ]
  },
  {
   "cell_type": "markdown",
   "metadata": {},
   "source": [
    "##### Step 10: Save and load treatment train"
   ]
  },
  {
   "cell_type": "code",
   "execution_count": 16,
   "metadata": {},
   "outputs": [],
   "source": [
    "#### SAVE TRAIN ####\n",
    "path = 'Tutorial1_treatment_train_example.csv'\n",
    "wt.save_train(T, path)"
   ]
  },
  {
   "cell_type": "code",
   "execution_count": 17,
   "metadata": {},
   "outputs": [],
   "source": [
    "#### LOAD TRAIN ####\n",
    "path = 'Tutorial1_treatment_train_example.csv'\n",
    "TT = wt.load_train(path)"
   ]
  },
  {
   "cell_type": "code",
   "execution_count": 72,
   "metadata": {},
   "outputs": [
    {
     "data": {
      "text/html": [
       "\n",
       "        <iframe\n",
       "            width=\"100%\"\n",
       "            height=\"500px\"\n",
       "            src=\"example.html\"\n",
       "            frameborder=\"0\"\n",
       "            allowfullscreen\n",
       "        ></iframe>\n",
       "        "
      ],
      "text/plain": [
       "<IPython.lib.display.IFrame at 0x1a2056d898>"
      ]
     },
     "execution_count": 72,
     "metadata": {},
     "output_type": "execute_result"
    }
   ],
   "source": [
    "wt.display.show_train(T)"
   ]
  },
  {
   "cell_type": "code",
   "execution_count": null,
   "metadata": {},
   "outputs": [],
   "source": []
  },
  {
   "cell_type": "code",
   "execution_count": null,
   "metadata": {},
   "outputs": [],
   "source": []
  },
  {
   "cell_type": "code",
   "execution_count": 8,
   "metadata": {},
   "outputs": [],
   "source": [
    "T.nodes['source']['Flow'] = 100\n",
    "M = wt.build_model(T)\n",
    "wt.run_model(model=M)\n",
    "\n",
    "analysis_variables = ['Flow', 'TOC' , 'Nitrate', 'Cost', 'TDS']\n",
    "model_results = wt.post_processing.get_result_table(M, analysis_variables)\n",
    "model_results"
   ]
  },
  {
   "cell_type": "code",
   "execution_count": null,
   "metadata": {},
   "outputs": [],
   "source": []
  },
  {
   "cell_type": "code",
   "execution_count": null,
   "metadata": {},
   "outputs": [],
   "source": []
  },
  {
   "cell_type": "code",
   "execution_count": null,
   "metadata": {},
   "outputs": [],
   "source": []
  },
  {
   "cell_type": "code",
   "execution_count": null,
   "metadata": {},
   "outputs": [],
   "source": [
    "from src import data_processing\n",
    "data_processing.cost_curve_data2equation(filename=\"../WaterTAP3CostCurves.xlsx\", sheet_name=\"CostData\")"
   ]
  },
  {
   "cell_type": "code",
   "execution_count": null,
   "metadata": {},
   "outputs": [],
   "source": []
  }
 ],
 "metadata": {
  "celltoolbar": "Raw Cell Format",
  "kernelspec": {
   "display_name": "Python [conda env:water-hubv2] *",
   "language": "python",
   "name": "conda-env-water-hubv2-py"
  },
  "language_info": {
   "codemirror_mode": {
    "name": "ipython",
    "version": 3
   },
   "file_extension": ".py",
   "mimetype": "text/x-python",
   "name": "python",
   "nbconvert_exporter": "python",
   "pygments_lexer": "ipython3",
   "version": "3.7.0"
  }
 },
 "nbformat": 4,
 "nbformat_minor": 2
}
