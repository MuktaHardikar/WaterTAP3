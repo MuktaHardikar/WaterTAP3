{
 "cells": [
  {
   "cell_type": "code",
   "execution_count": 1,
   "metadata": {},
   "outputs": [],
   "source": [
    "%matplotlib inline\n",
    "from pylab import *\n",
    "\n",
    "import shutil\n",
    "import sys\n",
    "import os.path\n",
    "import pandas as pd\n",
    "import numpy as np\n",
    "\n",
    "import matplotlib.pyplot as plt\n",
    "from scipy.optimize import fsolve\n",
    "from scipy.optimize import minimize\n",
    "import itertools\n",
    "import pyomo.environ as env\n",
    "import ast\n",
    "from pyomo.environ import *\n",
    "#solver = env.SolverFactory(\"ipopt\")\n",
    "\n",
    "import networkx as nx\n",
    "from networkx.drawing.nx_agraph import write_dot, graphviz_layout"
   ]
  },
  {
   "cell_type": "code",
   "execution_count": 2,
   "metadata": {},
   "outputs": [],
   "source": [
    "import watertap as wt"
   ]
  },
  {
   "cell_type": "code",
   "execution_count": 3,
   "metadata": {},
   "outputs": [],
   "source": [
    "fw_filename = 'water_input_example.csv'\n",
    "feedwater_data = wt.importfile.feedwater(fw_filename)\n",
    "#output_water = wt.run_unit_process(feedwater_data, unit_process = 'microfiltration_a')"
   ]
  },
  {
   "cell_type": "code",
   "execution_count": 4,
   "metadata": {},
   "outputs": [],
   "source": [
    "def treatment_draw(G):\n",
    "    pos =graphviz_layout(G, prog='dot')\n",
    "    return nx.draw(G, pos, with_labels=True, arrows=True)"
   ]
  },
  {
   "cell_type": "code",
   "execution_count": 5,
   "metadata": {},
   "outputs": [],
   "source": [
    "def create_empty_train():\n",
    "    return nx.DiGraph()"
   ]
  },
  {
   "cell_type": "code",
   "execution_count": 6,
   "metadata": {},
   "outputs": [],
   "source": [
    "def add_multiple_unit_processes(G, unit_process_name_list='unit_process', \n",
    "                                from_process_lib=False,\n",
    "                    from_process='None', to_process='None'):\n",
    "    \n",
    "    for unit_process_name in unit_process_name_list:\n",
    "        print('adding unit process to network:', unit_process_name) # turn this to if statement\n",
    "                \n",
    "        G.add_edges_from([('source_node', unit_process_name, \n",
    "                           {'name': ('%s_source_stream' % unit_process_name),\n",
    "                           'type': 'source_stream'}), \n",
    "                          (unit_process_name, 'end_node', \n",
    "                           {'name': ('%s_treated_stream' % unit_process_name),\n",
    "                           'type': 'recovery_stream'})])\n",
    "        \n",
    "        G.add_edge(unit_process_name, ('%s_waste_node' % unit_process_name), \n",
    "                   name =('%s_waste_stream' % unit_process_name)) #TODO make name same\n",
    "        \n",
    "        G.edges[unit_process_name, ('%s_waste_node' % unit_process_name)]['type'] = 'waste_stream'\n",
    "        \n",
    "    for node in G.nodes():\n",
    "        G.nodes[node]['name']=node\n",
    "        G.nodes[node]['type']='storage'\n",
    "        if node in unit_process_name_list: G.nodes[node]['type']='treatment_process'\n",
    "        \n",
    "    if from_process_lib is True:\n",
    "        G = wt.set_up_unit_process(G)\n",
    "    \n",
    "    #add option to read in multiple from and to\n",
    "    #add option to import for existing list if from_process_lib is true\n",
    "    \n",
    "    return G"
   ]
  },
  {
   "cell_type": "code",
   "execution_count": null,
   "metadata": {},
   "outputs": [],
   "source": []
  },
  {
   "cell_type": "code",
   "execution_count": null,
   "metadata": {},
   "outputs": [],
   "source": []
  },
  {
   "cell_type": "code",
   "execution_count": 7,
   "metadata": {},
   "outputs": [],
   "source": [
    "def get_link_list(G):\n",
    "    link_list = []\n",
    "    for edge in G.edges():\n",
    "        link_list.append(G.edges[edge]['name'])\n",
    "    return link_list"
   ]
  },
  {
   "cell_type": "code",
   "execution_count": 8,
   "metadata": {},
   "outputs": [],
   "source": [
    "def get_link_df(G):\n",
    "    df = pd.DataFrame.from_dict(G.edges(data=True))\n",
    "    link_name = []; link_type = [];\n",
    "\n",
    "    for row in range(0, len(df)):\n",
    "        link_name.append(df[2][row]['name'])\n",
    "        link_type.append(df[2][row]['type'])\n",
    "\n",
    "    df['name'] = link_name\n",
    "    df['type'] = link_type\n",
    "    df = df.set_index(df.name)\n",
    "    \n",
    "    return df"
   ]
  },
  {
   "cell_type": "code",
   "execution_count": 9,
   "metadata": {},
   "outputs": [],
   "source": [
    "def get_source_nodes(G): # need to diffrentiate source nodes in some way if there are multiple source nodes.\n",
    "    source_node_list = []\n",
    "    for edge in G.edges():\n",
    "        if G.nodes[edge[0]]['type'] == 'storage':\n",
    "            if edge[0] not in source_node_list: source_node_list.append(edge[0])\n",
    "        \n",
    "    return source_node_list"
   ]
  },
  {
   "cell_type": "code",
   "execution_count": 10,
   "metadata": {},
   "outputs": [],
   "source": [
    "def get_outflow_links(G):\n",
    "    outflow_links = []\n",
    "    for up in unit_process_name_list:\n",
    "        for out_link in G.out_edges(up):\n",
    "            outflow_links.append(G.edges[out_link]['name'])\n",
    "    return outflow_links"
   ]
  },
  {
   "cell_type": "code",
   "execution_count": 11,
   "metadata": {},
   "outputs": [],
   "source": [
    "def get_recovered_water_nodes(G):\n",
    "    recovered_water_node_list = []\n",
    "    for edge in G.edges():\n",
    "        if ((G.nodes[edge[1]]['type'] == 'storage') & (G.nodes[edge[1]]['name'] == 'end_node')):\n",
    "            if edge[1] not in recovered_water_node_list: recovered_water_node_list.append(edge[1])\n",
    "    return recovered_water_node_list"
   ]
  },
  {
   "cell_type": "code",
   "execution_count": null,
   "metadata": {},
   "outputs": [],
   "source": []
  },
  {
   "cell_type": "code",
   "execution_count": 12,
   "metadata": {},
   "outputs": [],
   "source": [
    "#### MODEL FUNCTIONS ####"
   ]
  },
  {
   "cell_type": "code",
   "execution_count": 40,
   "metadata": {},
   "outputs": [],
   "source": [
    "# LINKS COMING OUT OF SOURCE NODE MUST EQUAL FEEDWATER TOTAL! \n",
    "def inflow_constraint(m, source_node):\n",
    "    inflow_link_list = [];\n",
    "\n",
    "    for inflow_link in G.out_edges(source_node): # TO DO MAKE FUNCTION\n",
    "        inflow_link_list.append(G.edges[inflow_link]['name'])\n",
    "    \n",
    "    flow_in = feedwater_data.loc['Flow'].feedwater\n",
    "        \n",
    "    return sum(m.FlowInLinkSegments[e] for e in inflow_link_list) == flow_in"
   ]
  },
  {
   "cell_type": "code",
   "execution_count": 41,
   "metadata": {},
   "outputs": [],
   "source": [
    "def up_mass_balance_constraint(m, up):\n",
    "    \n",
    "    flow_in = 0\n",
    "    for i in G.in_edges(up):\n",
    "        flow_in = flow_in + m.FlowInLinkSegments[G.edges[i]['name']]\n",
    "\n",
    "    flow_out = 0\n",
    "    for i in G.out_edges(up):\n",
    "        flow_out = flow_out + m.FlowInLinkSegments[G.edges[i]['name']]\n",
    "    \n",
    "    return (-0.0000001, flow_in - flow_out, 0.0000001)\n"
   ]
  },
  {
   "cell_type": "code",
   "execution_count": 42,
   "metadata": {},
   "outputs": [],
   "source": [
    "def calculate_out_flows(m, link):\n",
    "    if link in get_outflow_links(G):\n",
    "    \n",
    "        # equation for sum of inflows\n",
    "        inflow_links = []\n",
    "        up = get_link_df(G).loc[link][0] #change column names for df so easier to follow\n",
    "        for inflow_link in G.in_edges(up):\n",
    "            inflow_links.append(G.edges[inflow_link]['name'])   \n",
    "\n",
    "        sum_of_up_inflow = sum(m.FlowInLinkSegments[inflow_link] for inflow_link in inflow_links)\n",
    "\n",
    "        # equation for recovered water\n",
    "        if get_link_df(G).loc[link][2]['type'] == 'recovery_stream':\n",
    "            return m.FlowInLinkSegments[link] == sum_of_up_inflow * G.nodes[up]['recovery_factor']\n",
    "\n",
    "        if get_link_df(G).loc[link][2]['type'] == 'waste_stream':\n",
    "            return m.FlowInLinkSegments[link] == sum_of_up_inflow * (1 - G.nodes[up]['recovery_factor'])    \n",
    "    else:\n",
    "        return m.FlowInLinkSegments[link] >= 0"
   ]
  },
  {
   "cell_type": "code",
   "execution_count": 43,
   "metadata": {},
   "outputs": [],
   "source": [
    "def calculate_recovered_water(m, end_node):\n",
    "\n",
    "    recovered_flow = 0; # CAN DO SUM INSTREAD with list of nodes/links? outflow_link_list = []; \n",
    "\n",
    "    for up_outflow_link in G.in_edges(end_node): # TO DO MAKE FUNCTION\n",
    "        #outflow_link_list.append(G.edges[outflow_link]['name'])\n",
    "    \n",
    "        recovered_flow = recovered_flow + m.FlowInLinkSegments[G.edges[up_outflow_link]['name']]\n",
    "    \n",
    "    return model.RecoveredFlow[end_node] == recovered_flow"
   ]
  },
  {
   "cell_type": "code",
   "execution_count": null,
   "metadata": {},
   "outputs": [],
   "source": []
  },
  {
   "cell_type": "code",
   "execution_count": 17,
   "metadata": {},
   "outputs": [
    {
     "name": "stdout",
     "output_type": "stream",
     "text": [
      "adding unit process to network: microfiltration_a\n",
      "adding unit process to network: ultrafiltration_a\n",
      "adding unit process to network: uv_a\n",
      "adding unit process attributes: microfiltration_a\n",
      "adding unit process attributes: ultrafiltration_a\n",
      "adding unit process attributes: uv_a\n"
     ]
    },
    {
     "data": {
      "image/png": "[encoded data removed]",
      "text/plain": [
       "<Figure size 432x288 with 1 Axes>"
      ]
     },
     "metadata": {},
     "output_type": "display_data"
    }
   ],
   "source": [
    "# create empty train to be populated with unit processes etc.\n",
    "G = create_empty_train()\n",
    "\n",
    "# add unit processes to treatment train\n",
    "unit_process_name_list = wt.unit_process_library_list #['microfiltration_a']\n",
    "#unit_process_name_list = [wt.unit_process_library_list[0], wt.unit_process_library_list[1]]\n",
    "\n",
    "G = add_multiple_unit_processes(G, unit_process_name_list=unit_process_name_list, \n",
    "                     from_process='None', to_process='None', from_process_lib=True)\n",
    "\n",
    "treatment_draw(G)"
   ]
  },
  {
   "cell_type": "code",
   "execution_count": null,
   "metadata": {},
   "outputs": [],
   "source": []
  },
  {
   "cell_type": "code",
   "execution_count": 27,
   "metadata": {},
   "outputs": [],
   "source": [
    "model = env.ConcreteModel()\n",
    "model.LinkSet = env.Set(initialize=get_link_list(G)) # all links in network\n",
    "model.UnitProcesses = env.Set(initialize=unit_process_name_list) # all unit processes\n",
    "model.SourceNodes = env.Set(initialize=get_source_nodes(G)) # all source nodes\n",
    "model.RecoveredWaterNodes = env.Set(initialize=get_recovered_water_nodes(G)) # all recovered water nodes\n",
    "\n",
    "model.FlowInLinkSegments = env.Var(model.LinkSet, bounds=(0,None))\n",
    "model.RecoveredFlow = env.Var(model.RecoveredWaterNodes, bounds=(0,None))"
   ]
  },
  {
   "cell_type": "code",
   "execution_count": null,
   "metadata": {},
   "outputs": [],
   "source": []
  },
  {
   "cell_type": "code",
   "execution_count": 28,
   "metadata": {
    "scrolled": false
   },
   "outputs": [],
   "source": [
    "# Equations for mass balance\n",
    "model.UPMassBalanceConstraint = env.Constraint(model.UnitProcesses, rule=up_mass_balance_constraint)"
   ]
  },
  {
   "cell_type": "code",
   "execution_count": 29,
   "metadata": {
    "scrolled": true
   },
   "outputs": [
    {
     "name": "stderr",
     "output_type": "stream",
     "text": [
      "/Users/amiara/miniconda3/envs/water-hubv2/lib/python3.7/site-packages/ipykernel_launcher.py:10: DeprecationWarning: Calling np.sum(generator) is deprecated, and in the future will give a different result. Use np.sum(np.fromiter(generator)) or the python sum builtin instead.\n",
      "  # Remove the CWD from sys.path while we load stuff.\n"
     ]
    }
   ],
   "source": [
    "# Makes sure inlet streams add up to feedwater volume\n",
    "model.CheckUnitInletFlows = env.Constraint(model.SourceNodes, rule=inflow_constraint)"
   ]
  },
  {
   "cell_type": "code",
   "execution_count": 30,
   "metadata": {
    "scrolled": true
   },
   "outputs": [
    {
     "name": "stderr",
     "output_type": "stream",
     "text": [
      "/Users/amiara/miniconda3/envs/water-hubv2/lib/python3.7/site-packages/ipykernel_launcher.py:11: DeprecationWarning: Calling np.sum(generator) is deprecated, and in the future will give a different result. Use np.sum(np.fromiter(generator)) or the python sum builtin instead.\n",
      "  # This is added back by InteractiveShellApp.init_path()\n"
     ]
    },
    {
     "name": "stdout",
     "output_type": "stream",
     "text": [
      "recovery_factor 0.95\n",
      "microfiltration_a_waste_stream\n",
      "recovery_factor 0.97\n",
      "ultrafiltration_a_waste_stream\n",
      "recovery_factor 0.99\n",
      "uv_a_waste_stream\n"
     ]
    }
   ],
   "source": [
    "# Equations for outlet flows\n",
    "model.CalculateFlows = env.Constraint(model.LinkSet, rule=calculate_out_flows)"
   ]
  },
  {
   "cell_type": "code",
   "execution_count": 31,
   "metadata": {},
   "outputs": [],
   "source": [
    "# Calculate recovered water\n",
    "model.CalculateRecoveredWater = env.Constraint(model.RecoveredWaterNodes, rule=calculate_recovered_water)"
   ]
  },
  {
   "cell_type": "code",
   "execution_count": null,
   "metadata": {},
   "outputs": [],
   "source": []
  },
  {
   "cell_type": "code",
   "execution_count": 36,
   "metadata": {},
   "outputs": [
    {
     "name": "stderr",
     "output_type": "stream",
     "text": [
      "/Users/amiara/miniconda3/envs/water-hubv2/lib/python3.7/site-packages/ipykernel_launcher.py:3: DeprecationWarning: Calling np.sum(generator) is deprecated, and in the future will give a different result. Use np.sum(np.fromiter(generator)) or the python sum builtin instead.\n",
      "  This is separate from the ipykernel package so we can avoid doing imports until\n"
     ]
    }
   ],
   "source": [
    "model.objective_function = env.Objective(\n",
    "    #expr=sum(model.FlowInLinkSegments[x] for x in model.LinkSet), # max flows all links -> simulation\n",
    "    expr=sum(model.RecoveredFlow[x] for x in model.RecoveredWaterNodes), # can do this for node?\n",
    "    sense=env.maximize)"
   ]
  },
  {
   "cell_type": "code",
   "execution_count": null,
   "metadata": {},
   "outputs": [],
   "source": []
  },
  {
   "cell_type": "code",
   "execution_count": null,
   "metadata": {},
   "outputs": [],
   "source": []
  },
  {
   "cell_type": "code",
   "execution_count": null,
   "metadata": {},
   "outputs": [],
   "source": []
  },
  {
   "cell_type": "code",
   "execution_count": 37,
   "metadata": {},
   "outputs": [
    {
     "data": {
      "text/plain": [
       "{'Problem': [{'Lower bound': -inf, 'Upper bound': inf, 'Number of objectives': 1, 'Number of constraints': 14, 'Number of variables': 10, 'Sense': 'unknown'}], 'Solver': [{'Status': 'ok', 'Message': 'Ipopt 3.12.12\\\\x3a Optimal Solution Found', 'Termination condition': 'optimal', 'Id': 0, 'Error rc': 0, 'Time': 0.06704998016357422}], 'Solution': [OrderedDict([('number of solutions', 0), ('number of solutions displayed', 0)])]}"
      ]
     },
     "execution_count": 37,
     "metadata": {},
     "output_type": "execute_result"
    }
   ],
   "source": [
    "solver = env.SolverFactory(\"ipopt\")\n",
    "solver.solve(model)"
   ]
  },
  {
   "cell_type": "code",
   "execution_count": 38,
   "metadata": {},
   "outputs": [
    {
     "name": "stdout",
     "output_type": "stream",
     "text": [
      "{'microfiltration_a_source_stream': 2.1628923806634478e-07, 'ultrafiltration_a_source_stream': 4.664875348777222e-07, 'uv_a_source_stream': 999.9999993172232, 'microfiltration_a_treated_stream': 2.0547477616302077e-07, 'microfiltration_a_waste_stream': 1.0814461903318933e-08, 'ultrafiltration_a_treated_stream': 4.5249290883144205e-07, 'ultrafiltration_a_waste_stream': 1.3994626046330989e-08, 'uv_a_treated_stream': 989.9999993240509, 'uv_a_waste_stream': 9.99999999317224}\n"
     ]
    }
   ],
   "source": [
    "print({x: env.value(model.FlowInLinkSegments[x]) for x in model.LinkSet})"
   ]
  },
  {
   "cell_type": "code",
   "execution_count": null,
   "metadata": {},
   "outputs": [],
   "source": []
  },
  {
   "cell_type": "code",
   "execution_count": 39,
   "metadata": {},
   "outputs": [
    {
     "name": "stdout",
     "output_type": "stream",
     "text": [
      "microfiltration_a_source_stream : 2.1628923806634478e-07\n",
      "ultrafiltration_a_source_stream : 4.664875348777222e-07\n",
      "uv_a_source_stream : 999.9999993172232\n",
      "microfiltration_a_treated_stream : 2.0547477616302077e-07\n",
      "microfiltration_a_waste_stream : 1.0814461903318933e-08\n",
      "ultrafiltration_a_treated_stream : 4.5249290883144205e-07\n",
      "ultrafiltration_a_waste_stream : 1.3994626046330989e-08\n",
      "uv_a_treated_stream : 989.9999993240509\n",
      "uv_a_waste_stream : 9.99999999317224\n"
     ]
    }
   ],
   "source": [
    "for x in model.LinkSet:\n",
    "    print(x, ':', env.value(model.FlowInLinkSegments[x]))"
   ]
  },
  {
   "cell_type": "code",
   "execution_count": null,
   "metadata": {},
   "outputs": [],
   "source": []
  },
  {
   "cell_type": "code",
   "execution_count": null,
   "metadata": {},
   "outputs": [],
   "source": []
  },
  {
   "cell_type": "code",
   "execution_count": null,
   "metadata": {},
   "outputs": [],
   "source": []
  },
  {
   "cell_type": "code",
   "execution_count": null,
   "metadata": {},
   "outputs": [],
   "source": []
  },
  {
   "cell_type": "code",
   "execution_count": null,
   "metadata": {},
   "outputs": [],
   "source": []
  },
  {
   "cell_type": "code",
   "execution_count": null,
   "metadata": {},
   "outputs": [],
   "source": []
  },
  {
   "cell_type": "code",
   "execution_count": null,
   "metadata": {},
   "outputs": [],
   "source": []
  },
  {
   "cell_type": "code",
   "execution_count": null,
   "metadata": {},
   "outputs": [],
   "source": []
  },
  {
   "cell_type": "code",
   "execution_count": null,
   "metadata": {},
   "outputs": [],
   "source": []
  },
  {
   "cell_type": "code",
   "execution_count": null,
   "metadata": {},
   "outputs": [],
   "source": []
  },
  {
   "cell_type": "code",
   "execution_count": null,
   "metadata": {},
   "outputs": [],
   "source": []
  },
  {
   "cell_type": "code",
   "execution_count": null,
   "metadata": {},
   "outputs": [],
   "source": []
  },
  {
   "cell_type": "code",
   "execution_count": null,
   "metadata": {},
   "outputs": [],
   "source": []
  },
  {
   "cell_type": "code",
   "execution_count": null,
   "metadata": {},
   "outputs": [],
   "source": []
  },
  {
   "cell_type": "code",
   "execution_count": null,
   "metadata": {},
   "outputs": [],
   "source": [
    "def add_unit_process(G, unit_process_name='unit_process', from_process_lib='False'):\n",
    "    print('adding unit process', unit_process)\n",
    "    #add option to import for existing list if from_process_lib is true\n",
    "    return G.add_node(unit_process)"
   ]
  },
  {
   "cell_type": "code",
   "execution_count": null,
   "metadata": {},
   "outputs": [],
   "source": []
  },
  {
   "cell_type": "code",
   "execution_count": null,
   "metadata": {},
   "outputs": [],
   "source": []
  },
  {
   "cell_type": "code",
   "execution_count": null,
   "metadata": {},
   "outputs": [],
   "source": [
    "output_data = wt.run_treatment(FEEDWATER, DESIRED OUTPUT QUALITY?!?!?!, TRAIN OR MODULE- SET OR UNSET)\n",
    "\n",
    "# do we want to change the unit-level processes - like add more chemicals - to achieve a better outcome?!"
   ]
  },
  {
   "cell_type": "code",
   "execution_count": null,
   "metadata": {},
   "outputs": [],
   "source": []
  },
  {
   "cell_type": "code",
   "execution_count": null,
   "metadata": {},
   "outputs": [],
   "source": []
  },
  {
   "cell_type": "code",
   "execution_count": null,
   "metadata": {},
   "outputs": [],
   "source": [
    "##### MAYBE CODES #####"
   ]
  },
  {
   "cell_type": "code",
   "execution_count": null,
   "metadata": {},
   "outputs": [],
   "source": [
    "def add_unit_process(G, unit_process_name='unit_process', from_process_lib='False',\n",
    "                    from_process='None', to_process='None'):\n",
    "    print('adding unit process', unit_process_name)\n",
    "    \n",
    "    G.add_edges_from([('source_node', unit_process_name, {'name': 'source_stream'}), \n",
    "                      (unit_process_name, 'end_node', {'name': 'treated_stream'})])\n",
    "    \n",
    "    #add option to read in multiple from and to\n",
    "    #add option to import for existing list if from_process_lib is true\n",
    "    \n",
    "    return G"
   ]
  },
  {
   "cell_type": "code",
   "execution_count": null,
   "metadata": {},
   "outputs": [],
   "source": [
    "feedwater = dict()\n",
    "for row in range(0, len(feedwater_data)):\n",
    "    feedwater[feedwater_data.Variable[row]] = feedwater_data.Value[row]"
   ]
  }
 ],
 "metadata": {
  "kernelspec": {
   "display_name": "Python [conda env:water-hubv2]",
   "language": "python",
   "name": "conda-env-water-hubv2-py"
  },
  "language_info": {
   "codemirror_mode": {
    "name": "ipython",
    "version": 3
   },
   "file_extension": ".py",
   "mimetype": "text/x-python",
   "name": "python",
   "nbconvert_exporter": "python",
   "pygments_lexer": "ipython3",
   "version": "3.7.0"
  }
 },
 "nbformat": 4,
 "nbformat_minor": 2
}
