{
 "cells": [
  {
   "cell_type": "code",
   "execution_count": 441,
   "metadata": {},
   "outputs": [],
   "source": [
    "%matplotlib inline\n",
    "from pylab import *\n",
    "\n",
    "import shutil\n",
    "import sys\n",
    "import os.path\n",
    "import pandas as pd\n",
    "import numpy as np\n",
    "\n",
    "import matplotlib.pyplot as plt\n",
    "from scipy.optimize import fsolve\n",
    "from scipy.optimize import minimize\n",
    "import itertools\n",
    "import pyomo.environ as env\n",
    "import ast\n",
    "from pyomo.environ import *\n",
    "#solver = env.SolverFactory(\"ipopt\")\n",
    "\n",
    "import networkx as nx\n",
    "from networkx.drawing.nx_agraph import write_dot, graphviz_layout"
   ]
  },
  {
   "cell_type": "code",
   "execution_count": 442,
   "metadata": {},
   "outputs": [],
   "source": [
    "import watertap as wt"
   ]
  },
  {
   "cell_type": "code",
   "execution_count": null,
   "metadata": {},
   "outputs": [],
   "source": []
  },
  {
   "cell_type": "code",
   "execution_count": 443,
   "metadata": {},
   "outputs": [],
   "source": [
    "#### MODEL FUNCTIONS ####"
   ]
  },
  {
   "cell_type": "code",
   "execution_count": 595,
   "metadata": {},
   "outputs": [],
   "source": [
    "# LINKS COMING OUT OF SOURCE NODE AND GOING INTO FIRST UP MUST EQUAL FEEDWATER TOTAL! \n",
    "def source_flow_constraint(m, source_node): #RENAME THIS CONSTRAINT\n",
    "    inflow_link_list = [];\n",
    "\n",
    "    for inflow_link in T.out_edges(source_node): # TO DO MAKE FUNCTION\n",
    "        inflow_link_list.append(T.edges[inflow_link]['name'])\n",
    "    \n",
    "    flow_in = T.nodes[source_node]['Flow'] #something funky with dictionary setting here - why no .Value?\n",
    "        \n",
    "    return sum(m.FlowInLinkSegments[e] for e in inflow_link_list) == flow_in"
   ]
  },
  {
   "cell_type": "code",
   "execution_count": 596,
   "metadata": {},
   "outputs": [],
   "source": [
    "def source_recycle_flow_constraint(m, source_node): #RENAME THIS CONSTRAINT --> JUST SETTING INFLOW\n",
    "    inflow_link_list = [];\n",
    "\n",
    "    for inflow_link in T.out_edges(source_node): # TO DO MAKE FUNCTION\n",
    "        inflow_link_list.append(T.edges[inflow_link]['name'])\n",
    "            \n",
    "    return sum(m.RecycleFlowInLinkSegments[e] for e in inflow_link_list) == 0"
   ]
  },
  {
   "cell_type": "code",
   "execution_count": null,
   "metadata": {},
   "outputs": [],
   "source": []
  },
  {
   "cell_type": "code",
   "execution_count": null,
   "metadata": {},
   "outputs": [],
   "source": []
  },
  {
   "cell_type": "code",
   "execution_count": 597,
   "metadata": {},
   "outputs": [],
   "source": [
    "# CHANGE THIS FOR ALL NODES THAT HAVE INFLOWS AND OUTFLOWS\n",
    "def node_mass_balance_constraint(m, node):\n",
    "        \n",
    "    flow_in = 0\n",
    "    for i in T.in_edges(node):\n",
    "        flow_in = flow_in + m.FlowInLinkSegments[T.edges[i]['name']] #+ m.RecycleFlowInLinkSegments[T.edges[i]['name']] \n",
    "\n",
    "    flow_out = 0\n",
    "    for i in T.out_edges(node):\n",
    "        flow_out = flow_out + m.FlowInLinkSegments[T.edges[i]['name']] #+ m.RecycleFlowInLinkSegments[T.edges[i]['name']] \n",
    "\n",
    "    return (-0.000000001, flow_in - flow_out, 0.000000001)"
   ]
  },
  {
   "cell_type": "code",
   "execution_count": 598,
   "metadata": {},
   "outputs": [],
   "source": [
    "# CHANGE THIS FOR ALL NODES THAT HAVE INFLOWS AND OUTFLOWS\n",
    "def node_recycle_mass_balance_constraint(m, node):\n",
    "        \n",
    "    flow_in = 0\n",
    "    for i in T.in_edges(node):\n",
    "        flow_in = flow_in + m.RecycleFlowInLinkSegments[T.edges[i]['name']] \n",
    "\n",
    "    flow_out = 0\n",
    "    for i in T.out_edges(node):\n",
    "        flow_out = flow_out + m.RecycleFlowInLinkSegments[T.edges[i]['name']] \n",
    "\n",
    "    return (-0.000000001, flow_in - flow_out, 0.000000001)"
   ]
  },
  {
   "cell_type": "code",
   "execution_count": null,
   "metadata": {},
   "outputs": [],
   "source": []
  },
  {
   "cell_type": "code",
   "execution_count": 599,
   "metadata": {},
   "outputs": [],
   "source": [
    "# recovered stream of only source water\n",
    "def calculate_recovered_streams(m, link):\n",
    "    if 'treated' in link:\n",
    "        print('treated:', link)\n",
    "        unit_process = wt.get_graph_chars.get_link_df(T).loc[link][0] #change column names for df so easier to follow\n",
    "        source_inflow, recycled_inflow  = calculate_up_inflow(m, unit_process)\n",
    "        sum_of_up_inflow = source_inflow + recycled_inflow\n",
    "        \n",
    "        return m.FlowInLinkSegments[link] == sum_of_up_inflow * T.nodes[unit_process]['recovery_factor']\n",
    "    \n",
    "    else: return Constraint.Skip"
   ]
  },
  {
   "cell_type": "code",
   "execution_count": 600,
   "metadata": {},
   "outputs": [],
   "source": [
    "# recovered stream of only source water --> RENAME THIS TO FINAL STREAM\n",
    "def recycle_streams_constraint(m, link):\n",
    "    if 'recycle' not in link: return m.RecycleFlowInLinkSegments[link] <= 0.00000001\n",
    "    if 'recycle' in link: \n",
    "        if 'source_and_recycle_stream' not in link:\n",
    "            return m.FlowInLinkSegments[link] <= 0.00000001\n",
    "        else: return Constraint.Skip\n",
    "        "
   ]
  },
  {
   "cell_type": "code",
   "execution_count": 601,
   "metadata": {},
   "outputs": [],
   "source": [
    "# waste stream from unit process\n",
    "def calculate_waste_streams(m, link):\n",
    "    if 'waste' in link:\n",
    "        print('waste:', link)\n",
    "        unit_process = wt.get_graph_chars.get_link_df(T).loc[link][0] #change column names for df so easier to follow\n",
    "        source_inflow, recycled_inflow = calculate_up_inflow(m, unit_process)\n",
    "\n",
    "        return m.FlowInLinkSegments[link] == source_inflow * T.nodes[unit_process]['waste_factor']\n",
    "\n",
    "    else: return Constraint.Skip"
   ]
  },
  {
   "cell_type": "code",
   "execution_count": 602,
   "metadata": {},
   "outputs": [],
   "source": [
    "# recycle stream from unit process\n",
    "def calculate_recycle_streams(m, link):\n",
    "    if 'recycle' in link:\n",
    "        if 'source_and_recycle_stream' not in link:\n",
    "            unit_process = wt.get_graph_chars.get_link_df(T).loc[link][0] #change column names for df so easier to follow\n",
    "            source_inflow, recycled_inflow = calculate_up_inflow(m, unit_process)\n",
    "\n",
    "            return m.RecycleFlowInLinkSegments[link] == source_inflow * T.nodes[unit_process]['recycle_factor']\n",
    "        else: return Constraint.Skip\n",
    "    else: return m.RecycleFlowInLinkSegments[link] == 0"
   ]
  },
  {
   "cell_type": "code",
   "execution_count": null,
   "metadata": {},
   "outputs": [],
   "source": []
  },
  {
   "cell_type": "code",
   "execution_count": 603,
   "metadata": {},
   "outputs": [],
   "source": [
    "# inflow to unit process\n",
    "def calculate_up_inflow(m, unit_process):\n",
    "        # equation for sum of inflows -> MAKE THIS A FUNCTION?!?!\n",
    "    inflow_links = []\n",
    "    for inflow_link in T.in_edges(unit_process):\n",
    "        inflow_links.append(T.edges[inflow_link]['name'])   \n",
    "    \n",
    "    source_inflow = 0; recycled_inflow = 0;\n",
    "    \n",
    "    source_inflow = sum(m.FlowInLinkSegments[link] for link in inflow_links) \n",
    "    recycled_inflow = sum(m.RecycleFlowInLinkSegments[link] for link in inflow_links) \n",
    "    \n",
    "    return source_inflow, recycled_inflow"
   ]
  },
  {
   "cell_type": "code",
   "execution_count": null,
   "metadata": {},
   "outputs": [],
   "source": []
  },
  {
   "cell_type": "code",
   "execution_count": 604,
   "metadata": {},
   "outputs": [],
   "source": [
    "#THIS IS FOR END NODE!!!!! BETTER NAMING NEEDED FOR FUNCTIONS\n",
    "def calculate_recovered_water(m, end_node): # AT NODE\n",
    "\n",
    "    recovered_flow = 0; # CAN DO SUM INSTREAD with list of nodes/links? outflow_link_list = []; \n",
    "\n",
    "    for up_outflow_link in T.in_edges(end_node): # TO DO MAKE FUNCTION\n",
    "        #outflow_link_list.append(G.edges[outflow_link]['name'])\n",
    "    \n",
    "        recovered_flow = recovered_flow + m.FlowInLinkSegments[T.edges[up_outflow_link]['name']]\n",
    "    \n",
    "    return model.RecoveredFlow[end_node] == recovered_flow"
   ]
  },
  {
   "cell_type": "code",
   "execution_count": null,
   "metadata": {},
   "outputs": [],
   "source": []
  },
  {
   "cell_type": "code",
   "execution_count": null,
   "metadata": {},
   "outputs": [],
   "source": []
  },
  {
   "cell_type": "code",
   "execution_count": 605,
   "metadata": {},
   "outputs": [],
   "source": [
    "def set_inflow_BOD_values(m, inlet_link_to_process):\n",
    "    \n",
    "    source_node_for_stream = wt.get_graph_chars.get_link_df(T).loc[inlet_link_to_process][0]\n",
    "    BOD_value = T.nodes[source_node_for_stream]['BOD'].Value\n",
    "    \n",
    "    #JUST SET IT EQUAL TO THE VALUE AT THE SOURCE NODE\n",
    "    return m.BODInLinkSegments[inlet_link_to_process] == BOD_value\n",
    "\n",
    "#def set_inflow_TOC_values(m, inlet_link_to_process):\n",
    "    \n",
    "#    source_node_for_stream = wt.get_graph_chars.get_link_df(T).loc[inlet_link_to_process][0]\n",
    "#    TOC_value = T.nodes[source_node_for_stream]['TOC'].Value\n",
    "    \n",
    "    #JUST SET IT EQUAL TO THE VALUE AT THE SOURCE NODE\n",
    "#    return m.TOCInLinkSegments[inlet_link_to_process] == TOC_value"
   ]
  },
  {
   "cell_type": "code",
   "execution_count": null,
   "metadata": {},
   "outputs": [],
   "source": []
  },
  {
   "cell_type": "code",
   "execution_count": 606,
   "metadata": {},
   "outputs": [],
   "source": [
    "# TODO WILL THIS CREATE A PROBLEM IN NOT RECALCULATING TREATMENT TO CERTAIN STANDARD?\n",
    "# SHOULD THIS BE AN EQUATION? LIKELY NOT HERE -> EQUATIONS AT NODE THAT AFFECT OUTFLOW PARAMETERS\n",
    "# THIS IS BASED ON NODES BUT CAN/SHOULD IT BE BASED ON LINKS GOING INTO THE NODE?!\n",
    "\n",
    "def apply_BOD_inlet_constraint(m, inlet_link_to_process): # BASED ON UP CHARS\n",
    "    \n",
    "    process_name = wt.get_graph_chars.get_link_df(T).loc[inlet_link_to_process][1]\n",
    "    source_node_for_stream = wt.get_graph_chars.get_link_df(T).loc[inlet_link_to_process][0]\n",
    "    #BOD_value = T.nodes[source_node_for_stream]['BOD'] DELETE?\n",
    "    \n",
    "    if T.nodes[source_node_for_stream]['BOD'].Value > T.nodes[process_name]['BOD_constraint']:\n",
    "        return m.FlowInLinkSegments[inlet_link_to_process] == 0 # BOD must be lower than constraint otherwise 0 flow in\n",
    "    else: \n",
    "        return Constraint.Skip\n",
    "\n",
    "def apply_TOC_inlet_constraint(m, inlet_link_to_process): # BASED ON UP CHARS\n",
    "    \n",
    "    # APPLY ALL CONSTRAINTS UNLESS A CONSTRAINT IS SET TO OFF SOMEWHERE      \n",
    "    process_name = wt.get_graph_chars.get_link_df(T).loc[inlet_link_to_process][1]\n",
    "    source_node_for_stream = wt.get_graph_chars.get_link_df(T).loc[inlet_link_to_process][0]\n",
    "    \n",
    "    if T.nodes[source_node_for_stream]['TOC'].Value > T.nodes[process_name]['TOC_constraint']:\n",
    "        return m.FlowInLinkSegments[inlet_link_to_process] == 0\n",
    "    else: \n",
    "        return Constraint.Skip   "
   ]
  },
  {
   "cell_type": "code",
   "execution_count": null,
   "metadata": {},
   "outputs": [],
   "source": []
  },
  {
   "cell_type": "code",
   "execution_count": null,
   "metadata": {},
   "outputs": [],
   "source": []
  },
  {
   "cell_type": "code",
   "execution_count": null,
   "metadata": {},
   "outputs": [],
   "source": []
  },
  {
   "cell_type": "code",
   "execution_count": 607,
   "metadata": {},
   "outputs": [
    {
     "name": "stdout",
     "output_type": "stream",
     "text": [
      "adding unit process to network: microfiltration_a\n",
      "adding unit process attributes: microfiltration_a\n"
     ]
    },
    {
     "data": {
      "image/png": "[encoded data removed]",
      "text/plain": [
       "<Figure size 432x288 with 1 Axes>"
      ]
     },
     "metadata": {},
     "output_type": "display_data"
    }
   ],
   "source": [
    "# imports all trains from library/unit processes\n",
    "unit_process_name_list = [wt.unit_process_library_list[0]] #wt.unit_process_library_list #[wt.unit_process_library_list[0]]\n",
    "\n",
    "# FROM AND TO PROCESS TO BE CHANED TO SINGLE VS TRAIN OPTION - HAVE TWO OPTIONS. START WITH TRAIN.\n",
    "T = wt.treatment_train_design.create_train(unit_process_name_list=unit_process_name_list,  # OLDER VERSION HAD TO AND FROM PROCESS BUT THAT IS FOR ADDING ONE PROCESS AT A TIME\n",
    "                                            source_water_reference = 'Poseidon',\n",
    "                                            source_water_type = 'Wastewater',\n",
    "                                            source_water_case_study ='Typical untreated domestic wastewater',\n",
    "                                            enduse_water_reference = 'Poseidon',\n",
    "                                            enduse_water_type = 'Environmental',\n",
    "                                            enduse_water_case_study = 'EPA: Environmental Reuse',\n",
    "                                            flow = 1000.0)\n",
    "\n",
    "wt.display.treatment_train_graph(T)"
   ]
  },
  {
   "cell_type": "code",
   "execution_count": null,
   "metadata": {},
   "outputs": [],
   "source": []
  },
  {
   "cell_type": "code",
   "execution_count": null,
   "metadata": {},
   "outputs": [],
   "source": []
  },
  {
   "cell_type": "code",
   "execution_count": 608,
   "metadata": {},
   "outputs": [
    {
     "name": "stdout",
     "output_type": "stream",
     "text": [
      "updating unit process attributes: microfiltration_a\n"
     ]
    }
   ],
   "source": [
    "#recycle flow fraction could be defined from part of waste stream or based on UP chars (UP chars for now)\n",
    "# how to apply to multiple streams?\n",
    "#wt.treatment_train_design.\n",
    "T = wt.treatment_train_design.add_recycle_stream(T,\n",
    "                       from_unit_process = 'microfiltration_a',\n",
    "                       to_unit_process = 'microfiltration_a',\n",
    "                       recyle_fraction_of_waste = 1,\n",
    "                       number_of_affected_streams = 1) #"
   ]
  },
  {
   "cell_type": "code",
   "execution_count": 609,
   "metadata": {},
   "outputs": [
    {
     "data": {
      "image/png": "[encoded data removed]",
      "text/plain": [
       "<Figure size 432x288 with 1 Axes>"
      ]
     },
     "metadata": {},
     "output_type": "display_data"
    }
   ],
   "source": [
    "wt.display.treatment_train_graph(T, with_recycle = True)"
   ]
  },
  {
   "cell_type": "code",
   "execution_count": 610,
   "metadata": {},
   "outputs": [],
   "source": [
    "# EXTRA CAPABAILITIES ------ (MOSTLY COMPLETED) ---- NEED TO MOVE TO A MODULE 'treatment_train_design.edit.remove OR .add'\n",
    "\n",
    "# REMOVE ONE OR PROCESSES IF NEEDED\n",
    "#T = wt.filter_processes.remove(T, process_name = 'microfiltration_a')\n",
    "#T = wt.filter_processes.select_single_processes(T, process_name = 'microfiltration_a')\n",
    "#T = wt.filter_processes.select_multiple_processes(T, process_name_list = ['microfiltration_a', 'ultrafiltration_a'])\n",
    "\n",
    "### ADD ANOTHER UNIT PROCESS?!?!?!?!?!?!\n",
    "\n",
    "# NEED TO FIX ISSUE WITH IMPORTING MULTIPLE FEEDWATER DATA/SOURCES -> SHOULD NO LONGER BE BASED ON FEEDWATER DATA.\n",
    "# ADD ANOTHER SOURCE WATER\n",
    "#T, feedwater_data = wt.create_treatment_train.add_multiple_water_sources(T,\n",
    "#                               feedwater_data,\n",
    "#                               number_of_additional_sources = 1, \n",
    "#                               source_to_node_names=[['source_a', wt.unit_process_library_list[0]]],\n",
    "#                               constituents = 'dummy_name',\n",
    "#                               from_case_study = True,\n",
    "#                               flows = [[500]])\n",
    "\n",
    "# ADD ANOTHER END USE NODE\n",
    "#T = wt.create_treatment_train.add_multiple_end_uses(T,\n",
    "#                               number_of_additional_nodes = 1, \n",
    "#                               source_to_node_names=[[wt.unit_process_library_list[0], 'end_a']],\n",
    "#                               constituent_constraints = 'dummy_name',\n",
    "#                               from_case_study = True,\n",
    "#                               min_flows = [[0]])\n",
    "\n",
    "\n",
    "# IMPORT FEEDWATER DATA ----> NOT NEEDED ANYMORE TO RUN MODEL ----> BUT GOOD CAPABILITY TO HAVE\n",
    "#fw_filename = 'case_study_water_sources_and_uses.csv'\n",
    "#feedwater_data = wt.importfile.feedwater(input_file = fw_filename,\n",
    "#                                         reference = 'Poseidon',\n",
    "#                                         case_study = 'Typical untreated domestic wastewater',\n",
    "#                                         water_type = 'Wastewater',\n",
    "#                                         source_or_use = 'Source')\n",
    "\n",
    "#feedwater_data\n"
   ]
  },
  {
   "cell_type": "code",
   "execution_count": 611,
   "metadata": {},
   "outputs": [],
   "source": [
    "## TO DO IMMEDIATE:\n",
    "# FEEDWATER DATA CAN BE IF SOMEONE WANTS TO UPLOAD NEW!??"
   ]
  },
  {
   "cell_type": "code",
   "execution_count": 612,
   "metadata": {},
   "outputs": [],
   "source": [
    "model = env.ConcreteModel()\n",
    "model.LinkSet = env.Set(initialize=wt.get_graph_chars.get_link_list(T)) # all links in network\n",
    "model.UnitProcesses = env.Set(initialize=unit_process_name_list) # all unit processes\n",
    "model.SourceNodes = env.Set(initialize=wt.get_graph_chars.get_source_nodes(T)) # all source nodes\n",
    "model.RecoveredWaterNodes = env.Set(initialize=wt.get_graph_chars.get_recovered_water_nodes(T)) # all recovered water nodes\n",
    "\n",
    "model.AllNoneSourceEndNodes = env.Set(initialize=wt.get_graph_chars.get_all_none_source_end_nodes(T))\n",
    "\n",
    "#inflow links to UPs\n",
    "model.UnitInflowLinkSet = env.Set(initialize=wt.get_graph_chars.get_inflow_links(T, unit_process_name_list))\n",
    "\n",
    "# flow in and out of processes\n",
    "model.FlowInLinkSegments = env.Var(model.LinkSet, bounds=(0,None))\n",
    "model.RecycleFlowInLinkSegments = env.Var(model.LinkSet, bounds=(0,None))\n",
    "# final recovered flow\n",
    "model.RecoveredFlow = env.Var(model.RecoveredWaterNodes, bounds=(0,None))\n",
    "\n",
    "#create variables for constituents in and out of processes\n",
    "#model.BODInLinkSegments = env.Var(model.LinkSet, bounds=(0,None))\n",
    "#model.TOCInLinkSegments = env.Var(model.LinkSet, bounds=(0,None))\n"
   ]
  },
  {
   "cell_type": "code",
   "execution_count": 613,
   "metadata": {},
   "outputs": [
    {
     "name": "stdout",
     "output_type": "stream",
     "text": [
      "treated: microfiltration_a_treated_stream\n"
     ]
    },
    {
     "name": "stderr",
     "output_type": "stream",
     "text": [
      "/Users/amiara/miniconda3/envs/water-hubv2/lib/python3.7/site-packages/ipykernel_launcher.py:10: DeprecationWarning: Calling np.sum(generator) is deprecated, and in the future will give a different result. Use np.sum(np.fromiter(generator)) or the python sum builtin instead.\n",
      "  # Remove the CWD from sys.path while we load stuff.\n",
      "/Users/amiara/miniconda3/envs/water-hubv2/lib/python3.7/site-packages/ipykernel_launcher.py:11: DeprecationWarning: Calling np.sum(generator) is deprecated, and in the future will give a different result. Use np.sum(np.fromiter(generator)) or the python sum builtin instead.\n",
      "  # This is added back by InteractiveShellApp.init_path()\n"
     ]
    }
   ],
   "source": [
    "model.CalculateRecoveredFlows = env.Constraint(model.LinkSet, rule=calculate_recovered_streams)"
   ]
  },
  {
   "cell_type": "code",
   "execution_count": 614,
   "metadata": {},
   "outputs": [],
   "source": [
    "model.CalculateRecycleRecoveredFlows = env.Constraint(model.LinkSet, rule=recycle_streams_constraint)"
   ]
  },
  {
   "cell_type": "code",
   "execution_count": 615,
   "metadata": {},
   "outputs": [
    {
     "name": "stdout",
     "output_type": "stream",
     "text": [
      "waste: microfiltration_a_waste_stream\n"
     ]
    },
    {
     "name": "stderr",
     "output_type": "stream",
     "text": [
      "/Users/amiara/miniconda3/envs/water-hubv2/lib/python3.7/site-packages/ipykernel_launcher.py:10: DeprecationWarning: Calling np.sum(generator) is deprecated, and in the future will give a different result. Use np.sum(np.fromiter(generator)) or the python sum builtin instead.\n",
      "  # Remove the CWD from sys.path while we load stuff.\n",
      "/Users/amiara/miniconda3/envs/water-hubv2/lib/python3.7/site-packages/ipykernel_launcher.py:11: DeprecationWarning: Calling np.sum(generator) is deprecated, and in the future will give a different result. Use np.sum(np.fromiter(generator)) or the python sum builtin instead.\n",
      "  # This is added back by InteractiveShellApp.init_path()\n"
     ]
    }
   ],
   "source": [
    "model.CalculateWasteFlows = env.Constraint(model.LinkSet, rule=calculate_waste_streams)"
   ]
  },
  {
   "cell_type": "code",
   "execution_count": null,
   "metadata": {},
   "outputs": [],
   "source": []
  },
  {
   "cell_type": "code",
   "execution_count": 616,
   "metadata": {},
   "outputs": [
    {
     "name": "stderr",
     "output_type": "stream",
     "text": [
      "/Users/amiara/miniconda3/envs/water-hubv2/lib/python3.7/site-packages/ipykernel_launcher.py:10: DeprecationWarning: Calling np.sum(generator) is deprecated, and in the future will give a different result. Use np.sum(np.fromiter(generator)) or the python sum builtin instead.\n",
      "  # Remove the CWD from sys.path while we load stuff.\n",
      "/Users/amiara/miniconda3/envs/water-hubv2/lib/python3.7/site-packages/ipykernel_launcher.py:11: DeprecationWarning: Calling np.sum(generator) is deprecated, and in the future will give a different result. Use np.sum(np.fromiter(generator)) or the python sum builtin instead.\n",
      "  # This is added back by InteractiveShellApp.init_path()\n"
     ]
    }
   ],
   "source": [
    "model.CalculateRecycleFlows = env.Constraint(model.LinkSet, rule=calculate_recycle_streams)"
   ]
  },
  {
   "cell_type": "code",
   "execution_count": 617,
   "metadata": {},
   "outputs": [],
   "source": [
    "#model.CalculateRecycleInFlows = env.Constraint(model.LinkSet, rule=calculate_recycle_inflow)"
   ]
  },
  {
   "cell_type": "code",
   "execution_count": 618,
   "metadata": {},
   "outputs": [],
   "source": [
    "#model.CalculateRecWasteMax = env.Constraint(model.UnitProcesses, rule=calculate_recycle_waste_max)"
   ]
  },
  {
   "cell_type": "code",
   "execution_count": 619,
   "metadata": {},
   "outputs": [],
   "source": [
    "# set constituents in inflow streams\n",
    "#model.SetInflowBODValues = env.Constraint(model.UnitInflowLinkSet, rule=set_inflow_BOD_values)\n",
    "#model.SetInflowTOCValues = env.Constraint(model.UnitInflowLinkSet, rule=set_inflow_TOC_values)\n"
   ]
  },
  {
   "cell_type": "code",
   "execution_count": 620,
   "metadata": {
    "scrolled": false
   },
   "outputs": [],
   "source": [
    "# Apply constituents inlet constraint\n",
    "#model.BODInletConstraint = env.Constraint(model.UnitInflowLinkSet, rule=apply_BOD_inlet_constraint)\n",
    "#model.TOCInletConstraint = env.Constraint(model.UnitInflowLinkSet, rule=apply_TOC_inlet_constraint)"
   ]
  },
  {
   "cell_type": "code",
   "execution_count": 621,
   "metadata": {
    "scrolled": false
   },
   "outputs": [],
   "source": [
    "# Equations for mass balance\n",
    "model.NodeMassBalanceConstraint = env.Constraint(model.AllNoneSourceEndNodes, rule=node_mass_balance_constraint)"
   ]
  },
  {
   "cell_type": "code",
   "execution_count": 622,
   "metadata": {},
   "outputs": [],
   "source": [
    "model.NodeRecycleMassBalanceConstraint = env.Constraint(model.AllNoneSourceEndNodes, \n",
    "                                                 rule=node_recycle_mass_balance_constraint)"
   ]
  },
  {
   "cell_type": "code",
   "execution_count": 623,
   "metadata": {
    "scrolled": true
   },
   "outputs": [
    {
     "name": "stderr",
     "output_type": "stream",
     "text": [
      "/Users/amiara/miniconda3/envs/water-hubv2/lib/python3.7/site-packages/ipykernel_launcher.py:10: DeprecationWarning: Calling np.sum(generator) is deprecated, and in the future will give a different result. Use np.sum(np.fromiter(generator)) or the python sum builtin instead.\n",
      "  # Remove the CWD from sys.path while we load stuff.\n"
     ]
    }
   ],
   "source": [
    "# Makes sure inlet streams add up to feedwater volume\n",
    "model.CheckUnitInletRecycleFlows = env.Constraint(model.SourceNodes, rule=source_flow_constraint)"
   ]
  },
  {
   "cell_type": "code",
   "execution_count": 624,
   "metadata": {},
   "outputs": [
    {
     "name": "stderr",
     "output_type": "stream",
     "text": [
      "/Users/amiara/miniconda3/envs/water-hubv2/lib/python3.7/site-packages/ipykernel_launcher.py:7: DeprecationWarning: Calling np.sum(generator) is deprecated, and in the future will give a different result. Use np.sum(np.fromiter(generator)) or the python sum builtin instead.\n",
      "  import sys\n"
     ]
    }
   ],
   "source": [
    "model.CheckUnitInletFlows = env.Constraint(model.SourceNodes, rule=source_recycle_flow_constraint)"
   ]
  },
  {
   "cell_type": "code",
   "execution_count": 625,
   "metadata": {
    "scrolled": true
   },
   "outputs": [],
   "source": [
    "# Equations for outlet flows\n",
    "#model.CalculateFlows = env.Constraint(model.LinkSetUPOut, rule=calculate_out_flows)"
   ]
  },
  {
   "cell_type": "code",
   "execution_count": 626,
   "metadata": {},
   "outputs": [],
   "source": [
    "# Calculate recovered water\n",
    "model.CalculateRecoveredWater = env.Constraint(model.RecoveredWaterNodes, rule=calculate_recovered_water)"
   ]
  },
  {
   "cell_type": "code",
   "execution_count": null,
   "metadata": {},
   "outputs": [],
   "source": []
  },
  {
   "cell_type": "code",
   "execution_count": null,
   "metadata": {},
   "outputs": [],
   "source": []
  },
  {
   "cell_type": "code",
   "execution_count": 627,
   "metadata": {},
   "outputs": [
    {
     "name": "stderr",
     "output_type": "stream",
     "text": [
      "/Users/amiara/miniconda3/envs/water-hubv2/lib/python3.7/site-packages/ipykernel_launcher.py:3: DeprecationWarning: Calling np.sum(generator) is deprecated, and in the future will give a different result. Use np.sum(np.fromiter(generator)) or the python sum builtin instead.\n",
      "  This is separate from the ipykernel package so we can avoid doing imports until\n"
     ]
    },
    {
     "name": "stdout",
     "output_type": "stream",
     "text": [
      "WARNING: Loading a SolverResults object with a warning status into\n",
      "    model=unknown;\n",
      "        message from solver=Ipopt 3.12.12\\x3a Converged to a locally\n",
      "        infeasible point. Problem may be infeasible.\n"
     ]
    },
    {
     "data": {
      "text/plain": [
       "{'Problem': [{'Lower bound': -inf, 'Upper bound': inf, 'Number of objectives': 1, 'Number of constraints': 17, 'Number of variables': 11, 'Sense': 'unknown'}], 'Solver': [{'Status': 'warning', 'Message': 'Ipopt 3.12.12\\\\x3a Converged to a locally infeasible point. Problem may be infeasible.', 'Termination condition': 'infeasible', 'Id': 200, 'Error rc': 0, 'Time': 0.12582802772521973}], 'Solution': [OrderedDict([('number of solutions', 0), ('number of solutions displayed', 0)])]}"
      ]
     },
     "execution_count": 627,
     "metadata": {},
     "output_type": "execute_result"
    }
   ],
   "source": [
    "model.objective_function = env.Objective(\n",
    "    #expr=sum(model.FlowInLinkSegments[x] for x in model.LinkSet), # max flows all links -> simulation\n",
    "    expr=sum(model.RecoveredFlow[x] for x in model.RecoveredWaterNodes), # can do this for node?\n",
    "    sense=env.maximize)\n",
    "\n",
    "solver = env.SolverFactory(\"ipopt\")\n",
    "solver.solve(model)"
   ]
  },
  {
   "cell_type": "code",
   "execution_count": null,
   "metadata": {},
   "outputs": [],
   "source": []
  },
  {
   "cell_type": "code",
   "execution_count": 628,
   "metadata": {},
   "outputs": [
    {
     "name": "stdout",
     "output_type": "stream",
     "text": [
      "microfiltration_a_source_stream : 1000.0\n",
      "microfiltration_a_treated_stream : 999.01\n",
      "microfiltration_a_waste_stream : 0.44\n",
      "microfiltration_a_recycle_stream : 0.0\n",
      "microfiltration_a_source_and_recycle_stream : 1000.0\n"
     ]
    }
   ],
   "source": [
    "for x in model.LinkSet:\n",
    "    print(x, ':', round(env.value(model.FlowInLinkSegments[x]), 2))"
   ]
  },
  {
   "cell_type": "code",
   "execution_count": 629,
   "metadata": {},
   "outputs": [
    {
     "name": "stdout",
     "output_type": "stream",
     "text": [
      "microfiltration_a_source_stream : 0.0\n",
      "microfiltration_a_treated_stream : 0.0\n",
      "microfiltration_a_waste_stream : 0.0\n",
      "microfiltration_a_recycle_stream : 50.0\n",
      "microfiltration_a_source_and_recycle_stream : 50.0\n"
     ]
    }
   ],
   "source": [
    "for x in model.LinkSet:\n",
    "    print(x, ':', round(env.value(model.RecycleFlowInLinkSegments[x]), 2))"
   ]
  },
  {
   "cell_type": "code",
   "execution_count": null,
   "metadata": {},
   "outputs": [],
   "source": []
  },
  {
   "cell_type": "code",
   "execution_count": null,
   "metadata": {},
   "outputs": [],
   "source": []
  },
  {
   "cell_type": "code",
   "execution_count": null,
   "metadata": {},
   "outputs": [],
   "source": []
  },
  {
   "cell_type": "code",
   "execution_count": null,
   "metadata": {},
   "outputs": [],
   "source": []
  },
  {
   "cell_type": "code",
   "execution_count": null,
   "metadata": {},
   "outputs": [],
   "source": []
  },
  {
   "cell_type": "code",
   "execution_count": null,
   "metadata": {},
   "outputs": [],
   "source": []
  },
  {
   "cell_type": "code",
   "execution_count": null,
   "metadata": {},
   "outputs": [],
   "source": []
  },
  {
   "cell_type": "code",
   "execution_count": null,
   "metadata": {},
   "outputs": [],
   "source": []
  },
  {
   "cell_type": "code",
   "execution_count": null,
   "metadata": {},
   "outputs": [],
   "source": []
  },
  {
   "cell_type": "code",
   "execution_count": null,
   "metadata": {},
   "outputs": [],
   "source": []
  },
  {
   "cell_type": "code",
   "execution_count": null,
   "metadata": {},
   "outputs": [],
   "source": []
  },
  {
   "cell_type": "code",
   "execution_count": null,
   "metadata": {},
   "outputs": [],
   "source": []
  },
  {
   "cell_type": "code",
   "execution_count": null,
   "metadata": {},
   "outputs": [],
   "source": []
  },
  {
   "cell_type": "code",
   "execution_count": null,
   "metadata": {},
   "outputs": [],
   "source": []
  },
  {
   "cell_type": "code",
   "execution_count": null,
   "metadata": {},
   "outputs": [],
   "source": []
  },
  {
   "cell_type": "code",
   "execution_count": null,
   "metadata": {},
   "outputs": [],
   "source": []
  },
  {
   "cell_type": "code",
   "execution_count": null,
   "metadata": {},
   "outputs": [],
   "source": []
  },
  {
   "cell_type": "code",
   "execution_count": null,
   "metadata": {},
   "outputs": [],
   "source": [
    "##### MAYBE CODES #####"
   ]
  },
  {
   "cell_type": "code",
   "execution_count": null,
   "metadata": {},
   "outputs": [],
   "source": [
    "def add_unit_process(G, unit_process_name='unit_process', from_process_lib='False',\n",
    "                    from_process='None', to_process='None'):\n",
    "    print('adding unit process', unit_process_name)\n",
    "    \n",
    "    G.add_edges_from([('source_node', unit_process_name, {'name': 'source_stream'}), \n",
    "                      (unit_process_name, 'end_node', {'name': 'treated_stream'})])\n",
    "    \n",
    "    #add option to read in multiple from and to\n",
    "    #add option to import for existing list if from_process_lib is true\n",
    "    \n",
    "    return G"
   ]
  },
  {
   "cell_type": "code",
   "execution_count": null,
   "metadata": {},
   "outputs": [],
   "source": [
    "feedwater = dict()\n",
    "for row in range(0, len(feedwater_data)):\n",
    "    feedwater[feedwater_data.Variable[row]] = feedwater_data.Value[row]"
   ]
  }
 ],
 "metadata": {
  "kernelspec": {
   "display_name": "Python [conda env:water-hubv2]",
   "language": "python",
   "name": "conda-env-water-hubv2-py"
  },
  "language_info": {
   "codemirror_mode": {
    "name": "ipython",
    "version": 3
   },
   "file_extension": ".py",
   "mimetype": "text/x-python",
   "name": "python",
   "nbconvert_exporter": "python",
   "pygments_lexer": "ipython3",
   "version": "3.7.0"
  }
 },
 "nbformat": 4,
 "nbformat_minor": 2
}
